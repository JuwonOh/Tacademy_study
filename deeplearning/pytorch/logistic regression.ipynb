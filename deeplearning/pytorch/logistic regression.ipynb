{
 "cells": [
  {
   "cell_type": "markdown",
   "id": "3b93b552",
   "metadata": {},
   "source": [
    "# Logistic Regression\n",
    "\n",
    "- binary problem. p(x = 1) = 1 - p(x=0)\n",
    "\n",
    "- sigmoid function: $\\sigma(x) = \\frac{1}{1 + e ^{-x}}$ x가 w\n",
    "\n",
    "- Hypothesis: $H(x) = \\frac{1}{1 + e ^{-W^{T}X}}$ = $p(x=1;w) = 1-p(x=0;w) $\n",
    "- Weight Update via GD: $W := W - a \\frac{\\delta}{\\delta W}cost(W)$\n",
    "\n",
    "- Cost: $cost(W) = -\\frac{1}{m}\\sum y \\log(H(x))+(1-y)(\\log(1- H(x))$"
   ]
  },
  {
   "cell_type": "markdown",
   "id": "ef133d7f",
   "metadata": {},
   "source": [
    "# import"
   ]
  },
  {
   "cell_type": "code",
   "execution_count": 1,
   "id": "d520ff57",
   "metadata": {
    "ExecuteTime": {
     "end_time": "2021-12-23T04:03:12.772706Z",
     "start_time": "2021-12-23T04:03:02.698159Z"
    }
   },
   "outputs": [],
   "source": [
    "import torch\n",
    "import torch.nn as nn\n",
    "import torch.nn.functional as F\n",
    "import torch.optim as optim"
   ]
  },
  {
   "cell_type": "code",
   "execution_count": 2,
   "id": "3ed36b45",
   "metadata": {
    "ExecuteTime": {
     "end_time": "2021-12-23T04:03:12.787711Z",
     "start_time": "2021-12-23T04:03:12.774706Z"
    }
   },
   "outputs": [],
   "source": [
    "## Train data\n",
    "x_data = [[1,2], [2,3], [3,1], [4,3], [5,3], [6,2]]\n",
    "y_data = [[0], [0], [0], [1], [1], [1]]"
   ]
  },
  {
   "cell_type": "code",
   "execution_count": 3,
   "id": "d4de4a9b",
   "metadata": {
    "ExecuteTime": {
     "end_time": "2021-12-23T04:03:12.802389Z",
     "start_time": "2021-12-23T04:03:12.789712Z"
    }
   },
   "outputs": [],
   "source": [
    "x_train = torch.FloatTensor(x_data)\n",
    "y_train = torch.FloatTensor(y_data)"
   ]
  },
  {
   "cell_type": "code",
   "execution_count": 4,
   "id": "7215f61f",
   "metadata": {
    "ExecuteTime": {
     "end_time": "2021-12-23T04:03:12.817392Z",
     "start_time": "2021-12-23T04:03:12.803390Z"
    }
   },
   "outputs": [
    {
     "data": {
      "text/plain": [
       "(torch.Size([6, 2]), torch.Size([6, 1]))"
      ]
     },
     "execution_count": 4,
     "metadata": {},
     "output_type": "execute_result"
    }
   ],
   "source": [
    "x_train.shape, y_train.shape"
   ]
  },
  {
   "cell_type": "code",
   "execution_count": 5,
   "id": "03db8bf8",
   "metadata": {
    "ExecuteTime": {
     "end_time": "2021-12-23T04:03:12.833017Z",
     "start_time": "2021-12-23T04:03:12.819016Z"
    }
   },
   "outputs": [
    {
     "name": "stdout",
     "output_type": "stream",
     "text": [
      "e^1 =  tensor([2.7183])\n"
     ]
    }
   ],
   "source": [
    "# pytorch에서 e는 torch.exp로 사용 가능\n",
    "print('e^1 = ', torch.exp(torch.FloatTensor([1])))"
   ]
  },
  {
   "cell_type": "code",
   "execution_count": 6,
   "id": "2a6b4fe3",
   "metadata": {
    "ExecuteTime": {
     "end_time": "2021-12-23T04:03:12.848640Z",
     "start_time": "2021-12-23T04:03:12.835019Z"
    }
   },
   "outputs": [],
   "source": [
    "w = torch.zeros((2,1), requires_grad = True)\n",
    "b = torch.zeros(1, requires_grad = True)"
   ]
  },
  {
   "cell_type": "markdown",
   "id": "558e9d86",
   "metadata": {},
   "source": [
    "# hypothsis"
   ]
  },
  {
   "cell_type": "code",
   "execution_count": 7,
   "id": "d6c51a45",
   "metadata": {
    "ExecuteTime": {
     "end_time": "2021-12-23T04:03:12.863413Z",
     "start_time": "2021-12-23T04:03:12.851642Z"
    }
   },
   "outputs": [],
   "source": [
    "hypothesis = 1/(1+ torch.exp(-(x_train.matmul(w)+b)))\n",
    "## 혹은 torch에서 제공하는 sigmoid 함수를 쓰는 것도 가능하다.\n",
    "hypothesis = torch.sigmoid(x_train.matmul(w) + b)"
   ]
  },
  {
   "cell_type": "code",
   "execution_count": 8,
   "id": "018ddc5d",
   "metadata": {
    "ExecuteTime": {
     "end_time": "2021-12-23T04:03:12.878716Z",
     "start_time": "2021-12-23T04:03:12.865411Z"
    }
   },
   "outputs": [
    {
     "name": "stdout",
     "output_type": "stream",
     "text": [
      "tensor([[0.5000],\n",
      "        [0.5000],\n",
      "        [0.5000],\n",
      "        [0.5000],\n",
      "        [0.5000],\n",
      "        [0.5000]], grad_fn=<SigmoidBackward0>)\n",
      "torch.Size([6, 1])\n",
      "tensor([[0.],\n",
      "        [0.],\n",
      "        [0.],\n",
      "        [1.],\n",
      "        [1.],\n",
      "        [1.]])\n"
     ]
    }
   ],
   "source": [
    "print(hypothesis)\n",
    "print(hypothesis.shape)\n",
    "print(y_train)"
   ]
  },
  {
   "cell_type": "code",
   "execution_count": 21,
   "id": "1b883479",
   "metadata": {
    "ExecuteTime": {
     "end_time": "2021-12-23T04:03:26.808902Z",
     "start_time": "2021-12-23T04:03:26.793299Z"
    }
   },
   "outputs": [
    {
     "data": {
      "text/plain": [
       "tensor([-0.0003], grad_fn=<AddBackward0>)"
      ]
     },
     "execution_count": 21,
     "metadata": {},
     "output_type": "execute_result"
    }
   ],
   "source": [
    "-(y_train[0] * torch.log(hypothesis[0])) +   (1 - y_train[0]) * torch.log(1 - hypothesis[0])"
   ]
  },
  {
   "cell_type": "code",
   "execution_count": 10,
   "id": "c8c045e1",
   "metadata": {
    "ExecuteTime": {
     "end_time": "2021-12-23T04:03:12.908721Z",
     "start_time": "2021-12-23T04:03:12.894719Z"
    }
   },
   "outputs": [
    {
     "data": {
      "text/plain": [
       "tensor([-0.6931], grad_fn=<AddBackward0>)"
      ]
     },
     "execution_count": 10,
     "metadata": {},
     "output_type": "execute_result"
    }
   ],
   "source": [
    "# 하나의 값일때 다음과 같이 계산한다.\n",
    "               # log p(x = 1 ; w)                         log p(x = 0; w)\n",
    "-(y_train[0]* torch.log(hypothesis[0]))+ (1-y_train[0]) * torch.log(1 - hypothesis[0])"
   ]
  },
  {
   "cell_type": "code",
   "execution_count": 11,
   "id": "8b3ac6de",
   "metadata": {
    "ExecuteTime": {
     "end_time": "2021-12-23T04:03:12.923723Z",
     "start_time": "2021-12-23T04:03:12.909722Z"
    }
   },
   "outputs": [],
   "source": [
    "losses = -(y_train* torch.log(hypothesis)+ (1-y_train) * torch.log(1 - hypothesis))"
   ]
  },
  {
   "cell_type": "code",
   "execution_count": 12,
   "id": "8d806234",
   "metadata": {
    "ExecuteTime": {
     "end_time": "2021-12-23T04:03:12.938783Z",
     "start_time": "2021-12-23T04:03:12.924725Z"
    }
   },
   "outputs": [
    {
     "name": "stdout",
     "output_type": "stream",
     "text": [
      "tensor([[0.6931],\n",
      "        [0.6931],\n",
      "        [0.6931],\n",
      "        [0.6931],\n",
      "        [0.6931],\n",
      "        [0.6931]], grad_fn=<NegBackward0>)\n"
     ]
    }
   ],
   "source": [
    "print(losses)"
   ]
  },
  {
   "cell_type": "code",
   "execution_count": 13,
   "id": "5cbe7208",
   "metadata": {
    "ExecuteTime": {
     "end_time": "2021-12-23T04:03:12.953730Z",
     "start_time": "2021-12-23T04:03:12.940727Z"
    }
   },
   "outputs": [
    {
     "name": "stdout",
     "output_type": "stream",
     "text": [
      "tensor(0.6931, grad_fn=<MeanBackward0>)\n"
     ]
    }
   ],
   "source": [
    "## mean을 사용해서 개별의 losses를 평균해준다.\n",
    "cost = losses.mean()\n",
    "print(cost)"
   ]
  },
  {
   "cell_type": "code",
   "execution_count": 14,
   "id": "207f33b5",
   "metadata": {
    "ExecuteTime": {
     "end_time": "2021-12-23T04:03:12.968793Z",
     "start_time": "2021-12-23T04:03:12.954731Z"
    }
   },
   "outputs": [
    {
     "data": {
      "text/plain": [
       "tensor(0.6931, grad_fn=<BinaryCrossEntropyBackward0>)"
      ]
     },
     "execution_count": 14,
     "metadata": {},
     "output_type": "execute_result"
    }
   ],
   "source": [
    "## binary cross entropy를 통해서 구할 수 있음.\n",
    "F.binary_cross_entropy(hypothesis, y_train)"
   ]
  },
  {
   "cell_type": "markdown",
   "id": "413594bb",
   "metadata": {},
   "source": [
    "# 전체 모델 작성하기."
   ]
  },
  {
   "cell_type": "markdown",
   "id": "c11db3d3",
   "metadata": {},
   "source": [
    "## Training with Low-level Binary Cross Entropy Loss"
   ]
  },
  {
   "cell_type": "code",
   "execution_count": 15,
   "id": "8bc1430e",
   "metadata": {
    "ExecuteTime": {
     "end_time": "2021-12-23T04:03:14.330352Z",
     "start_time": "2021-12-23T04:03:12.969739Z"
    }
   },
   "outputs": [
    {
     "name": "stdout",
     "output_type": "stream",
     "text": [
      "Epoch    0/1000 Cost: 0.693147\n",
      "Epoch  100/1000 Cost: 0.134722\n",
      "Epoch  200/1000 Cost: 0.080643\n",
      "Epoch  300/1000 Cost: 0.057900\n",
      "Epoch  400/1000 Cost: 0.045300\n",
      "Epoch  500/1000 Cost: 0.037261\n",
      "Epoch  600/1000 Cost: 0.031673\n",
      "Epoch  700/1000 Cost: 0.027556\n",
      "Epoch  800/1000 Cost: 0.024394\n",
      "Epoch  900/1000 Cost: 0.021888\n",
      "Epoch 1000/1000 Cost: 0.019852\n"
     ]
    }
   ],
   "source": [
    "# 모델 초기화\n",
    "W = torch.zeros((2, 1), requires_grad=True)\n",
    "b = torch.zeros(1, requires_grad=True)\n",
    "# optimizer 설정\n",
    "optimizer = optim.SGD([W, b], lr=1)\n",
    "\n",
    "nb_epochs = 1000\n",
    "for epoch in range(nb_epochs + 1):\n",
    "\n",
    "    # Cost 계산\n",
    "    hypothesis = torch.sigmoid(x_train.matmul(W) + b) # or .mm or @\n",
    "    cost = -(y_train * torch.log(hypothesis) + \n",
    "             (1 - y_train) * torch.log(1 - hypothesis)).mean()\n",
    "\n",
    "    # cost로 H(x) 개선\n",
    "    optimizer.zero_grad()\n",
    "    cost.backward()\n",
    "    optimizer.step()\n",
    "\n",
    "    # 100번마다 로그 출력\n",
    "    if epoch % 100 == 0:\n",
    "        print('Epoch {:4d}/{} Cost: {:.6f}'.format(\n",
    "            epoch, nb_epochs, cost.item()\n",
    "        ))"
   ]
  },
  {
   "cell_type": "markdown",
   "id": "8e5694db",
   "metadata": {},
   "source": [
    "## Training with F.binary_cross_entropy"
   ]
  },
  {
   "cell_type": "code",
   "execution_count": 16,
   "id": "d214dd76",
   "metadata": {
    "ExecuteTime": {
     "end_time": "2021-12-23T04:03:14.510365Z",
     "start_time": "2021-12-23T04:03:14.331353Z"
    }
   },
   "outputs": [
    {
     "name": "stdout",
     "output_type": "stream",
     "text": [
      "Epoch 0 / 1000, 0.6931471824645996\n",
      "Epoch 100 / 1000, 0.13472206890583038\n",
      "Epoch 200 / 1000, 0.0806431770324707\n",
      "Epoch 300 / 1000, 0.05790002644062042\n",
      "Epoch 400 / 1000, 0.0452997200191021\n",
      "Epoch 500 / 1000, 0.03726094961166382\n",
      "Epoch 600 / 1000, 0.03167250379920006\n",
      "Epoch 700 / 1000, 0.027555905282497406\n",
      "Epoch 800 / 1000, 0.024394338950514793\n",
      "Epoch 900 / 1000, 0.02188830077648163\n",
      "Epoch 1000 / 1000, 0.019852152094244957\n"
     ]
    }
   ],
   "source": [
    "# init model\n",
    "w = torch.zeros((2,1), requires_grad = True)\n",
    "b = torch.zeros(1, requires_grad = True)\n",
    "\n",
    "# optimizer사용\n",
    "optimizer = optim.SGD([w, b], lr = 1)\n",
    "nb_epochs = 1000\n",
    "\n",
    "for epoch in range(nb_epochs +1):\n",
    "    hypothesis = torch.sigmoid(x_train.matmul(w) + b) # or .mm or @\n",
    "    cost = F.binary_cross_entropy(hypothesis, y_train)\n",
    "    \n",
    "    # cost로 H(x)개선하기\n",
    "    optimizer.zero_grad() # gradient 초기화\n",
    "    cost.backward() # cost에 back prop수행.\n",
    "    optimizer.step()\n",
    "    \n",
    "    if epoch % 100 == 0:\n",
    "        print('Epoch {} / {}, {}'.format(epoch, nb_epochs, cost.item()))"
   ]
  },
  {
   "cell_type": "markdown",
   "id": "0e9c3046",
   "metadata": {},
   "source": [
    "# evaluation"
   ]
  },
  {
   "cell_type": "code",
   "execution_count": 17,
   "id": "8ade5c2f",
   "metadata": {
    "ExecuteTime": {
     "end_time": "2021-12-23T04:03:14.525856Z",
     "start_time": "2021-12-23T04:03:14.511357Z"
    }
   },
   "outputs": [
    {
     "name": "stdout",
     "output_type": "stream",
     "text": [
      "tensor([[2.7648e-04],\n",
      "        [3.1608e-02],\n",
      "        [3.8977e-02],\n",
      "        [9.5622e-01],\n",
      "        [9.9823e-01]], grad_fn=<SliceBackward0>)\n"
     ]
    }
   ],
   "source": [
    "hypothesis = torch.sigmoid(x_train.matmul(w)+ b)\n",
    "print(hypothesis[:5])"
   ]
  },
  {
   "cell_type": "code",
   "execution_count": 18,
   "id": "11a948d6",
   "metadata": {
    "ExecuteTime": {
     "end_time": "2021-12-23T04:03:14.540859Z",
     "start_time": "2021-12-23T04:03:14.526857Z"
    },
    "scrolled": true
   },
   "outputs": [
    {
     "name": "stdout",
     "output_type": "stream",
     "text": [
      "tensor([[0.],\n",
      "        [0.],\n",
      "        [0.],\n",
      "        [1.],\n",
      "        [1.]])\n",
      "tensor([[0.],\n",
      "        [0.],\n",
      "        [0.],\n",
      "        [1.],\n",
      "        [1.]])\n"
     ]
    }
   ],
   "source": [
    "prediction = hypothesis >= torch.FloatTensor([0.5])\n",
    "print(prediction[:5].float())\n",
    "print(y_train[:5])"
   ]
  },
  {
   "cell_type": "code",
   "execution_count": 19,
   "id": "92095cbb",
   "metadata": {
    "ExecuteTime": {
     "end_time": "2021-12-23T04:03:14.556279Z",
     "start_time": "2021-12-23T04:03:14.542860Z"
    }
   },
   "outputs": [
    {
     "name": "stdout",
     "output_type": "stream",
     "text": [
      "tensor([[1.],\n",
      "        [1.],\n",
      "        [1.],\n",
      "        [1.],\n",
      "        [1.],\n",
      "        [1.]])\n"
     ]
    }
   ],
   "source": [
    "correct_prediction = prediction.float() == y_train\n",
    "print(correct_prediction.float())"
   ]
  },
  {
   "cell_type": "code",
   "execution_count": 20,
   "id": "2482867e",
   "metadata": {
    "ExecuteTime": {
     "end_time": "2021-12-23T04:03:14.980352Z",
     "start_time": "2021-12-23T04:03:14.557281Z"
    }
   },
   "outputs": [
    {
     "ename": "AttributeError",
     "evalue": "'Tensor' object has no attribute 'items'",
     "output_type": "error",
     "traceback": [
      "\u001b[1;31m---------------------------------------------------------------------------\u001b[0m",
      "\u001b[1;31mAttributeError\u001b[0m                            Traceback (most recent call last)",
      "\u001b[1;32m<ipython-input-20-76597b083436>\u001b[0m in \u001b[0;36m<module>\u001b[1;34m\u001b[0m\n\u001b[1;32m----> 1\u001b[1;33m \u001b[0maccuracy\u001b[0m \u001b[1;33m=\u001b[0m \u001b[0mcorrect_prediction\u001b[0m\u001b[1;33m.\u001b[0m\u001b[0msum\u001b[0m\u001b[1;33m(\u001b[0m\u001b[1;33m)\u001b[0m\u001b[1;33m.\u001b[0m\u001b[0mitems\u001b[0m\u001b[1;33m/\u001b[0m \u001b[0mlen\u001b[0m\u001b[1;33m(\u001b[0m\u001b[0mcorrect_prediction\u001b[0m\u001b[1;33m)\u001b[0m\u001b[1;33m\u001b[0m\u001b[1;33m\u001b[0m\u001b[0m\n\u001b[0m\u001b[0;32m      2\u001b[0m \u001b[0mprint\u001b[0m\u001b[1;33m(\u001b[0m\u001b[1;34m'The model has an accuracy of {:2.2f}% for the training set.'\u001b[0m\u001b[1;33m.\u001b[0m\u001b[0mformat\u001b[0m\u001b[1;33m(\u001b[0m\u001b[0maccuracy\u001b[0m \u001b[1;33m*\u001b[0m \u001b[1;36m100\u001b[0m\u001b[1;33m)\u001b[0m\u001b[1;33m)\u001b[0m\u001b[1;33m\u001b[0m\u001b[1;33m\u001b[0m\u001b[0m\n",
      "\u001b[1;31mAttributeError\u001b[0m: 'Tensor' object has no attribute 'items'"
     ]
    }
   ],
   "source": [
    "accuracy = correct_prediction.sum().items/ len(correct_prediction)\n",
    "print('The model has an accuracy of {:2.2f}% for the training set.'.format(accuracy * 100))"
   ]
  },
  {
   "cell_type": "markdown",
   "id": "b41f8d88",
   "metadata": {},
   "source": [
    "# nn.module을 사용한 더 개선된 표현"
   ]
  },
  {
   "cell_type": "code",
   "execution_count": null,
   "id": "738afea0",
   "metadata": {
    "ExecuteTime": {
     "end_time": "2021-12-23T04:03:14.986357Z",
     "start_time": "2021-12-23T04:03:02.705Z"
    }
   },
   "outputs": [],
   "source": [
    "import numpy as np"
   ]
  },
  {
   "cell_type": "code",
   "execution_count": null,
   "id": "89613a77",
   "metadata": {
    "ExecuteTime": {
     "end_time": "2021-12-23T04:03:14.987372Z",
     "start_time": "2021-12-23T04:03:02.706Z"
    }
   },
   "outputs": [],
   "source": [
    "Dropbox\\모모딥\\pytorch"
   ]
  },
  {
   "cell_type": "code",
   "execution_count": null,
   "id": "0315761b",
   "metadata": {
    "ExecuteTime": {
     "end_time": "2021-12-23T04:03:14.988360Z",
     "start_time": "2021-12-23T04:03:02.709Z"
    }
   },
   "outputs": [],
   "source": [
    "xy = np.loadtxt('~/Dropbox/모모딥/pytorch/data-03-diabetes.csv', delimiter=',', dtype=np.float32)\n",
    "x_data = xy[:, 0:-1]\n",
    "y_data = xy[:, [-1]]\n",
    "x_train = torch.FloatTensor(x_data)\n",
    "y_train = torch.FloatTensor(y_data)"
   ]
  },
  {
   "cell_type": "code",
   "execution_count": null,
   "id": "4f3f9ba9",
   "metadata": {},
   "outputs": [],
   "source": []
  },
  {
   "cell_type": "code",
   "execution_count": null,
   "id": "7b231870",
   "metadata": {},
   "outputs": [],
   "source": []
  },
  {
   "cell_type": "code",
   "execution_count": null,
   "id": "c0161dd1",
   "metadata": {
    "ExecuteTime": {
     "end_time": "2021-12-23T04:03:14.989366Z",
     "start_time": "2021-12-23T04:03:02.712Z"
    }
   },
   "outputs": [],
   "source": [
    "class BinaryClassifier(nn.Module):\n",
    "    def __init__(self):\n",
    "        super().__init__()\n",
    "        self.linear = nn.Linear(6, 2)\n",
    "        self.sigmoid = nn.Sigmoid()\n",
    "\n",
    "    def forward(self, x):\n",
    "        return self.sigmoid(self.linear(x))"
   ]
  },
  {
   "cell_type": "code",
   "execution_count": null,
   "id": "67cac7e7",
   "metadata": {
    "ExecuteTime": {
     "end_time": "2021-12-23T04:03:14.989366Z",
     "start_time": "2021-12-23T04:03:02.713Z"
    },
    "scrolled": true
   },
   "outputs": [],
   "source": [
    "model = BinaryClassifier()"
   ]
  },
  {
   "cell_type": "code",
   "execution_count": null,
   "id": "9266116c",
   "metadata": {
    "ExecuteTime": {
     "end_time": "2021-12-23T04:03:14.990365Z",
     "start_time": "2021-12-23T04:03:02.715Z"
    }
   },
   "outputs": [],
   "source": [
    "# optimizer 설정\n",
    "optimizer = optim.SGD(model.parameters(), lr = 1)\n",
    "\n",
    "nb_epochs = 100\n",
    "\n",
    "for epoch in range(nb_epochs + 1):\n",
    "    hypothesis = model(x_train)\n",
    "    \n",
    "    # cost 계산\n",
    "    cost = F.binary_cross_entropy(hypothesis, y_train)\n",
    "    \n",
    "    optimizer.zero_grad()\n",
    "    cost.backward()\n",
    "    optimizer.step()\n",
    "    \n",
    "    if epoch % 10 == 0:\n",
    "        predict = hypothesis >= torch.FloatTensor([0.5])\n",
    "        correct_prediction = prediction.float() == y_train\n",
    "        accuracy = correct_prediction.sum().item() / len(correct_prediction)\n",
    "        print('Epoch {:4d}/{} Cost: {:.6f} Accuracy {:2.2f}%'.format(\n",
    "            epoch, nb_epochs, cost.item(), accuracy * 100,\n",
    "        ))"
   ]
  },
  {
   "cell_type": "code",
   "execution_count": null,
   "id": "f35b719a",
   "metadata": {},
   "outputs": [],
   "source": []
  },
  {
   "cell_type": "code",
   "execution_count": null,
   "id": "ea332413",
   "metadata": {},
   "outputs": [],
   "source": []
  }
 ],
 "metadata": {
  "hide_input": false,
  "kernelspec": {
   "display_name": "Python 3",
   "language": "python",
   "name": "python3"
  },
  "language_info": {
   "codemirror_mode": {
    "name": "ipython",
    "version": 3
   },
   "file_extension": ".py",
   "mimetype": "text/x-python",
   "name": "python",
   "nbconvert_exporter": "python",
   "pygments_lexer": "ipython3",
   "version": "3.8.8"
  },
  "toc": {
   "base_numbering": 1,
   "nav_menu": {},
   "number_sections": true,
   "sideBar": true,
   "skip_h1_title": false,
   "title_cell": "Table of Contents",
   "title_sidebar": "Contents",
   "toc_cell": false,
   "toc_position": {},
   "toc_section_display": true,
   "toc_window_display": false
  },
  "varInspector": {
   "cols": {
    "lenName": 16,
    "lenType": 16,
    "lenVar": 40
   },
   "kernels_config": {
    "python": {
     "delete_cmd_postfix": "",
     "delete_cmd_prefix": "del ",
     "library": "var_list.py",
     "varRefreshCmd": "print(var_dic_list())"
    },
    "r": {
     "delete_cmd_postfix": ") ",
     "delete_cmd_prefix": "rm(",
     "library": "var_list.r",
     "varRefreshCmd": "cat(var_dic_list()) "
    }
   },
   "types_to_exclude": [
    "module",
    "function",
    "builtin_function_or_method",
    "instance",
    "_Feature"
   ],
   "window_display": false
  }
 },
 "nbformat": 4,
 "nbformat_minor": 5
}
