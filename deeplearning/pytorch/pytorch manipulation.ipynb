{
 "cells": [
  {
   "cell_type": "code",
   "execution_count": 7,
   "id": "0349be41",
   "metadata": {
    "ExecuteTime": {
     "end_time": "2021-12-21T00:48:45.233152Z",
     "start_time": "2021-12-21T00:48:42.773650Z"
    }
   },
   "outputs": [],
   "source": [
    "## import library\n",
    "import numpy as np\n",
    "import torch"
   ]
  },
  {
   "cell_type": "markdown",
   "id": "ddad2d45",
   "metadata": {},
   "source": [
    "# numpy review"
   ]
  },
  {
   "cell_type": "code",
   "execution_count": 5,
   "id": "21285b58",
   "metadata": {
    "ExecuteTime": {
     "end_time": "2021-12-20T13:22:18.530242Z",
     "start_time": "2021-12-20T13:22:18.519240Z"
    }
   },
   "outputs": [
    {
     "name": "stdout",
     "output_type": "stream",
     "text": [
      "[0 1 2 3 4 5 6]\n"
     ]
    }
   ],
   "source": [
    "# 1d array with Numpy\n",
    "t = np.array([0,1,2,3,4,5,6])\n",
    "print(t)"
   ]
  },
  {
   "cell_type": "code",
   "execution_count": 8,
   "id": "173ada1b",
   "metadata": {
    "ExecuteTime": {
     "end_time": "2021-12-21T00:49:22.001678Z",
     "start_time": "2021-12-21T00:49:21.987683Z"
    }
   },
   "outputs": [
    {
     "name": "stdout",
     "output_type": "stream",
     "text": [
      "rank of t  1\n",
      "shape of  (7,)\n"
     ]
    }
   ],
   "source": [
    "print(\"rank of t \", t.ndim)\n",
    "print(\"shape of \", t.shape)"
   ]
  },
  {
   "cell_type": "code",
   "execution_count": 9,
   "id": "2de36b05",
   "metadata": {
    "ExecuteTime": {
     "end_time": "2021-12-21T00:58:52.710700Z",
     "start_time": "2021-12-21T00:58:52.697690Z"
    }
   },
   "outputs": [
    {
     "name": "stdout",
     "output_type": "stream",
     "text": [
      "t[0] t[1] t[-1] 0 1 6\n",
      "t[2:5] t[4:-1] [2 3 4] [4 5]\n"
     ]
    }
   ],
   "source": [
    "print('t[0] t[1] t[-1]' , t[0], t[1], t[-1] ) ## indexing element\n",
    "print('t[2:5] t[4:-1]', t[2:5], t[4:-1])## slicing"
   ]
  },
  {
   "cell_type": "markdown",
   "id": "9a7a1288",
   "metadata": {},
   "source": [
    "# Using Pytorch"
   ]
  },
  {
   "cell_type": "code",
   "execution_count": 10,
   "id": "0be8b45a",
   "metadata": {
    "ExecuteTime": {
     "end_time": "2021-12-21T01:53:06.426305Z",
     "start_time": "2021-12-21T01:53:06.393304Z"
    }
   },
   "outputs": [
    {
     "name": "stdout",
     "output_type": "stream",
     "text": [
      "tensor([0., 1., 2., 3., 4., 5., 6.])\n"
     ]
    }
   ],
   "source": [
    "t = torch.FloatTensor([0,1,2,3,4,5,6])\n",
    "print(t)"
   ]
  },
  {
   "cell_type": "code",
   "execution_count": 12,
   "id": "3b974e1a",
   "metadata": {
    "ExecuteTime": {
     "end_time": "2021-12-21T01:57:04.185029Z",
     "start_time": "2021-12-21T01:57:04.171041Z"
    }
   },
   "outputs": [
    {
     "name": "stdout",
     "output_type": "stream",
     "text": [
      "1\n",
      "torch.Size([7])\n",
      "torch.Size([7])\n",
      "tensor(0.) tensor(1.) tensor(6.)\n",
      "tensor([2., 3., 4.]) tensor([4., 5.])\n",
      "tensor([0., 1.]) tensor([3., 4., 5., 6.])\n"
     ]
    }
   ],
   "source": [
    "print(t.dim())\n",
    "print(t.shape)\n",
    "print(t.size())\n",
    "print(t[0], t[1], t [-1])\n",
    "print(t[2:5], t[4:-1])\n",
    "print(t[:2], t[3:])"
   ]
  },
  {
   "cell_type": "code",
   "execution_count": 14,
   "id": "f094be9d",
   "metadata": {
    "ExecuteTime": {
     "end_time": "2021-12-21T01:59:03.164086Z",
     "start_time": "2021-12-21T01:59:03.147081Z"
    }
   },
   "outputs": [
    {
     "name": "stdout",
     "output_type": "stream",
     "text": [
      "tensor([[ 1.,  2.,  3.],\n",
      "        [ 4.,  5.,  6.],\n",
      "        [ 7.,  8.,  9.],\n",
      "        [10., 11., 12.]])\n"
     ]
    }
   ],
   "source": [
    "t = torch.FloatTensor([[1,2,3],\n",
    "                      [4,5,6],\n",
    "                      [7,8,9],\n",
    "                      [10,11,12]])\n",
    "print(t)"
   ]
  },
  {
   "cell_type": "code",
   "execution_count": 16,
   "id": "bcf9f95a",
   "metadata": {
    "ExecuteTime": {
     "end_time": "2021-12-21T01:59:14.021349Z",
     "start_time": "2021-12-21T01:59:14.008351Z"
    }
   },
   "outputs": [
    {
     "name": "stdout",
     "output_type": "stream",
     "text": [
      "2\n",
      "torch.Size([4, 3])\n",
      "tensor([ 2.,  5.,  8., 11.])\n",
      "torch.Size([4])\n",
      "tensor([[ 1.,  2.],\n",
      "        [ 4.,  5.],\n",
      "        [ 7.,  8.],\n",
      "        [10., 11.]])\n"
     ]
    }
   ],
   "source": [
    "print(t.dim())  # rank\n",
    "print(t.size()) # shape\n",
    "print(t[:, 1])\n",
    "print(t[:, 1].size())\n",
    "print(t[:, :-1])\n"
   ]
  },
  {
   "cell_type": "code",
   "execution_count": 18,
   "id": "e18949d6",
   "metadata": {
    "ExecuteTime": {
     "end_time": "2021-12-21T01:59:32.496040Z",
     "start_time": "2021-12-21T01:59:32.484043Z"
    }
   },
   "outputs": [],
   "source": [
    "t = torch.FloatTensor([[[[1, 2, 3, 4],\n",
    "                         [5, 6, 7, 8],\n",
    "                         [9, 10, 11, 12]],\n",
    "                       [[13, 14, 15, 16],\n",
    "                        [17, 18, 19, 20],\n",
    "                        [21, 22, 23, 24]]\n",
    "                       ]])"
   ]
  },
  {
   "cell_type": "code",
   "execution_count": 19,
   "id": "4753b192",
   "metadata": {
    "ExecuteTime": {
     "end_time": "2021-12-21T01:59:36.396553Z",
     "start_time": "2021-12-21T01:59:36.383551Z"
    }
   },
   "outputs": [
    {
     "name": "stdout",
     "output_type": "stream",
     "text": [
      "4\n",
      "torch.Size([1, 2, 3, 4])\n"
     ]
    }
   ],
   "source": [
    "print(t.dim())  # rank  = 4\n",
    "print(t.size()) # shape = (1, 2, 3, 4)"
   ]
  },
  {
   "cell_type": "markdown",
   "id": "9f4ccb75",
   "metadata": {},
   "source": [
    "## Pytorch에서 자주쓰는 operations"
   ]
  },
  {
   "cell_type": "code",
   "execution_count": 20,
   "id": "0dbb0bf6",
   "metadata": {
    "ExecuteTime": {
     "end_time": "2021-12-21T01:59:57.721692Z",
     "start_time": "2021-12-21T01:59:57.696708Z"
    }
   },
   "outputs": [
    {
     "name": "stdout",
     "output_type": "stream",
     "text": [
      "\n",
      "-------------\n",
      "Mul vs Matmul\n",
      "-------------\n",
      "Shape of Matrix 1:  torch.Size([2, 2])\n",
      "Shape of Matrix 2:  torch.Size([2, 1])\n",
      "tensor([[ 5.],\n",
      "        [11.]])\n",
      "Shape of Matrix 1:  torch.Size([2, 2])\n",
      "Shape of Matrix 2:  torch.Size([2, 1])\n",
      "tensor([[1., 2.],\n",
      "        [6., 8.]])\n",
      "tensor([[1., 2.],\n",
      "        [6., 8.]])\n"
     ]
    }
   ],
   "source": [
    "print()\n",
    "print('-------------')\n",
    "print('Mul vs Matmul')\n",
    "print('-------------')\n",
    "m1 = torch.FloatTensor([[1, 2], [3, 4]])\n",
    "m2 = torch.FloatTensor([[1], [2]])\n",
    "print('Shape of Matrix 1: ', m1.shape) # 2 x 2\n",
    "print('Shape of Matrix 2: ', m2.shape) # 2 x 1\n",
    "print(m1.matmul(m2)) # 2 x 1\n",
    "\n",
    "m1 = torch.FloatTensor([[1, 2], [3, 4]])\n",
    "m2 = torch.FloatTensor([[1], [2]])\n",
    "print('Shape of Matrix 1: ', m1.shape) # 2 x 2\n",
    "print('Shape of Matrix 2: ', m2.shape) # 2 x 1\n",
    "print(m1 * m2) # 2 x 2\n",
    "print(m1.mul(m2))"
   ]
  },
  {
   "cell_type": "markdown",
   "id": "466c0133",
   "metadata": {},
   "source": [
    "# Broadcasting"
   ]
  },
  {
   "cell_type": "code",
   "execution_count": 23,
   "id": "52d35202",
   "metadata": {
    "ExecuteTime": {
     "end_time": "2021-12-21T02:03:47.894282Z",
     "start_time": "2021-12-21T02:03:47.888274Z"
    }
   },
   "outputs": [
    {
     "name": "stdout",
     "output_type": "stream",
     "text": [
      "tensor([[5., 5.]])\n"
     ]
    }
   ],
   "source": [
    "# same shape\n",
    "m1 = torch.FloatTensor([[3,3]])\n",
    "m2 = torch.FloatTensor([[2,2]])\n",
    "print(m1 + m2)"
   ]
  },
  {
   "cell_type": "code",
   "execution_count": 24,
   "id": "1c670458",
   "metadata": {
    "ExecuteTime": {
     "end_time": "2021-12-21T02:04:31.234395Z",
     "start_time": "2021-12-21T02:04:31.227408Z"
    }
   },
   "outputs": [
    {
     "name": "stdout",
     "output_type": "stream",
     "text": [
      "tensor([[4., 5.]])\n"
     ]
    }
   ],
   "source": [
    "## vector + scaler\n",
    "m1 = torch.FloatTensor([[1,2]])\n",
    "m2 = torch.FloatTensor([3])\n",
    "print(m1 + m2)"
   ]
  },
  {
   "cell_type": "code",
   "execution_count": 29,
   "id": "7bf9fe8d",
   "metadata": {
    "ExecuteTime": {
     "end_time": "2021-12-21T09:52:56.406610Z",
     "start_time": "2021-12-21T09:52:56.393608Z"
    }
   },
   "outputs": [
    {
     "name": "stdout",
     "output_type": "stream",
     "text": [
      "tensor([[4., 5.],\n",
      "        [5., 6.]])\n"
     ]
    }
   ],
   "source": [
    "# 2 * 1 + 1 * 2 vector\n",
    "m1 = torch.FloatTensor([1,2])\n",
    "m2 = torch.FloatTensor([[3], [4]])\n",
    "print(m1 + m2)"
   ]
  },
  {
   "cell_type": "code",
   "execution_count": 34,
   "id": "cf84793d",
   "metadata": {
    "ExecuteTime": {
     "end_time": "2021-12-21T09:54:14.860735Z",
     "start_time": "2021-12-21T09:54:14.843751Z"
    }
   },
   "outputs": [
    {
     "name": "stdout",
     "output_type": "stream",
     "text": [
      "tensor([[4., 5.],\n",
      "        [5., 6.]])\n"
     ]
    }
   ],
   "source": [
    "m1 = torch.FloatTensor([[1, 2]])\n",
    "m2 = torch.FloatTensor([[3], [4]])\n",
    "print(m1 + m2)"
   ]
  },
  {
   "cell_type": "code",
   "execution_count": 35,
   "id": "aa0bf5ea",
   "metadata": {
    "ExecuteTime": {
     "end_time": "2021-12-21T09:56:05.092094Z",
     "start_time": "2021-12-21T09:56:05.080288Z"
    }
   },
   "outputs": [
    {
     "name": "stdout",
     "output_type": "stream",
     "text": [
      "tensor([[1., 2.],\n",
      "        [3., 4.]])\n"
     ]
    }
   ],
   "source": [
    "t = torch.FloatTensor([[1, 2], [3, 4]])\n",
    "print(t)"
   ]
  },
  {
   "cell_type": "markdown",
   "id": "cad6cb71",
   "metadata": {},
   "source": [
    "## mean max"
   ]
  },
  {
   "cell_type": "code",
   "execution_count": 36,
   "id": "63898b37",
   "metadata": {
    "ExecuteTime": {
     "end_time": "2021-12-21T09:56:12.728596Z",
     "start_time": "2021-12-21T09:56:12.703595Z"
    }
   },
   "outputs": [
    {
     "name": "stdout",
     "output_type": "stream",
     "text": [
      "tensor(2.5000)\n",
      "tensor([2., 3.])\n",
      "tensor([1.5000, 3.5000])\n",
      "tensor([1.5000, 3.5000])\n"
     ]
    }
   ],
   "source": [
    "print(t.mean())\n",
    "print(t.mean(dim=0))\n",
    "print(t.mean(dim=1))\n",
    "print(t.mean(dim=-1))"
   ]
  },
  {
   "cell_type": "code",
   "execution_count": 37,
   "id": "49fa1812",
   "metadata": {
    "ExecuteTime": {
     "end_time": "2021-12-21T09:56:24.596645Z",
     "start_time": "2021-12-21T09:56:24.578655Z"
    }
   },
   "outputs": [
    {
     "name": "stdout",
     "output_type": "stream",
     "text": [
      "tensor([[1., 2.],\n",
      "        [3., 4.]])\n"
     ]
    }
   ],
   "source": [
    "t = torch.FloatTensor([[1, 2], [3, 4]])\n",
    "print(t)"
   ]
  },
  {
   "cell_type": "code",
   "execution_count": 40,
   "id": "bb665e6c",
   "metadata": {
    "ExecuteTime": {
     "end_time": "2021-12-21T09:56:43.104057Z",
     "start_time": "2021-12-21T09:56:43.079066Z"
    }
   },
   "outputs": [
    {
     "data": {
      "text/plain": [
       "tensor([3., 7.])"
      ]
     },
     "execution_count": 40,
     "metadata": {},
     "output_type": "execute_result"
    }
   ],
   "source": [
    "t.sum(dim=-1)"
   ]
  },
  {
   "cell_type": "code",
   "execution_count": 38,
   "id": "236600ac",
   "metadata": {
    "ExecuteTime": {
     "end_time": "2021-12-21T09:56:29.511313Z",
     "start_time": "2021-12-21T09:56:29.504323Z"
    }
   },
   "outputs": [
    {
     "name": "stdout",
     "output_type": "stream",
     "text": [
      "tensor([4., 6.])\n",
      "tensor([3., 7.])\n",
      "tensor([3., 7.])\n"
     ]
    }
   ],
   "source": [
    "int(t.sum())\n",
    "print(t.sum(dim=0)) # 첫번째 dim에 대해서 sum 수행\n",
    "print(t.sum(dim=1))\n",
    "print(t.sum(dim=-1))"
   ]
  },
  {
   "cell_type": "markdown",
   "id": "0f86fba7",
   "metadata": {},
   "source": [
    "## max and argmax\n",
    "- The max operator returns 2 values when called with dimension specified. The first value is the maximum value, and the second value is the argmax: the index of the element with maximum value."
   ]
  },
  {
   "cell_type": "code",
   "execution_count": 42,
   "id": "ff0c6e47",
   "metadata": {
    "ExecuteTime": {
     "end_time": "2021-12-21T09:58:01.048408Z",
     "start_time": "2021-12-21T09:58:01.041414Z"
    }
   },
   "outputs": [
    {
     "name": "stdout",
     "output_type": "stream",
     "text": [
      "tensor(4.)\n"
     ]
    }
   ],
   "source": [
    "print(t.max())"
   ]
  },
  {
   "cell_type": "code",
   "execution_count": 44,
   "id": "543ea0d8",
   "metadata": {
    "ExecuteTime": {
     "end_time": "2021-12-21T09:58:25.340403Z",
     "start_time": "2021-12-21T09:58:25.327929Z"
    }
   },
   "outputs": [
    {
     "data": {
      "text/plain": [
       "tensor([[1., 2.],\n",
       "        [3., 4.]])"
      ]
     },
     "execution_count": 44,
     "metadata": {},
     "output_type": "execute_result"
    }
   ],
   "source": [
    "t"
   ]
  },
  {
   "cell_type": "code",
   "execution_count": 53,
   "id": "a5950d90",
   "metadata": {
    "ExecuteTime": {
     "end_time": "2021-12-21T10:01:30.907479Z",
     "start_time": "2021-12-21T10:01:30.891490Z"
    }
   },
   "outputs": [
    {
     "name": "stdout",
     "output_type": "stream",
     "text": [
      "torch.return_types.max(\n",
      "values=tensor([3., 4.]),\n",
      "indices=tensor([1, 1]))\n",
      "max:  tensor([3., 4.])\n",
      "argmax:  tensor([1, 1])\n"
     ]
    }
   ],
   "source": [
    "print(t.max(dim = 0))\n",
    "print(\"max: \", t.max(dim=0)[0])# max value\n",
    "print('argmax: ', t.max(dim=0)[1])# argmax"
   ]
  },
  {
   "cell_type": "code",
   "execution_count": 54,
   "id": "535eecea",
   "metadata": {
    "ExecuteTime": {
     "end_time": "2021-12-21T10:01:58.547193Z",
     "start_time": "2021-12-21T10:01:58.527175Z"
    }
   },
   "outputs": [
    {
     "name": "stdout",
     "output_type": "stream",
     "text": [
      "torch.return_types.max(\n",
      "values=tensor([2., 4.]),\n",
      "indices=tensor([1, 1]))\n",
      "torch.return_types.max(\n",
      "values=tensor([2., 4.]),\n",
      "indices=tensor([1, 1]))\n"
     ]
    }
   ],
   "source": [
    "print(t.max(dim=1))\n",
    "print(t.max(dim=-1))"
   ]
  },
  {
   "cell_type": "markdown",
   "id": "194c76cb",
   "metadata": {},
   "source": [
    "## view\n",
    "- reshape와 동일. 매우 중요, shape을 자유자제로 바꿀 수 있어야 함."
   ]
  },
  {
   "cell_type": "code",
   "execution_count": 93,
   "id": "6255cedf",
   "metadata": {
    "ExecuteTime": {
     "end_time": "2021-12-21T10:29:53.659402Z",
     "start_time": "2021-12-21T10:29:53.653410Z"
    }
   },
   "outputs": [
    {
     "name": "stdout",
     "output_type": "stream",
     "text": [
      "torch.Size([2, 2, 3])\n"
     ]
    }
   ],
   "source": [
    "t = np.array([[[0,1,2],\n",
    "              [3,4,5]],\n",
    "             [[6,7,8],\n",
    "             [9, 10, 11]]])\n",
    "ft = torch.FloatTensor(t)\n",
    "print(ft.shape)"
   ]
  },
  {
   "cell_type": "code",
   "execution_count": 94,
   "id": "d110d032",
   "metadata": {
    "ExecuteTime": {
     "end_time": "2021-12-21T10:29:54.126576Z",
     "start_time": "2021-12-21T10:29:54.116587Z"
    }
   },
   "outputs": [
    {
     "name": "stdout",
     "output_type": "stream",
     "text": [
      "tensor([[ 0.,  1.,  2.],\n",
      "        [ 3.,  4.,  5.],\n",
      "        [ 6.,  7.,  8.],\n",
      "        [ 9., 10., 11.]])\n",
      "torch.Size([4, 3])\n"
     ]
    }
   ],
   "source": [
    "print(ft.view([-1,3]))\n",
    "print(ft.view([-1, 3]).shape)"
   ]
  },
  {
   "cell_type": "code",
   "execution_count": 63,
   "id": "90ccbcad",
   "metadata": {
    "ExecuteTime": {
     "end_time": "2021-12-21T10:16:35.317867Z",
     "start_time": "2021-12-21T10:16:35.308881Z"
    }
   },
   "outputs": [
    {
     "name": "stdout",
     "output_type": "stream",
     "text": [
      "tensor([[[ 0.,  1.,  2.]],\n",
      "\n",
      "        [[ 3.,  4.,  5.]],\n",
      "\n",
      "        [[ 6.,  7.,  8.]],\n",
      "\n",
      "        [[ 9., 10., 11.]]])\n",
      "torch.Size([4, 1, 3])\n"
     ]
    }
   ],
   "source": [
    "print(ft.view([-1,1,3]))\n",
    "print(ft.view([-1, 1, 3]).shape)"
   ]
  },
  {
   "cell_type": "markdown",
   "id": "845fb5c0",
   "metadata": {},
   "source": [
    "## sqeeze\n",
    "- 없는 행의 dimension을 없애버림"
   ]
  },
  {
   "cell_type": "code",
   "execution_count": 64,
   "id": "1af6363a",
   "metadata": {
    "ExecuteTime": {
     "end_time": "2021-12-21T10:17:26.934626Z",
     "start_time": "2021-12-21T10:17:26.921620Z"
    }
   },
   "outputs": [
    {
     "name": "stdout",
     "output_type": "stream",
     "text": [
      "tensor([[0.],\n",
      "        [1.],\n",
      "        [2.]])\n",
      "torch.Size([3, 1])\n"
     ]
    }
   ],
   "source": [
    "ft = torch.FloatTensor([[0], [1], [2]])\n",
    "print(ft)\n",
    "print(ft.shape)"
   ]
  },
  {
   "cell_type": "code",
   "execution_count": 68,
   "id": "20bd2db5",
   "metadata": {
    "ExecuteTime": {
     "end_time": "2021-12-21T10:18:08.029690Z",
     "start_time": "2021-12-21T10:18:08.021709Z"
    }
   },
   "outputs": [
    {
     "name": "stdout",
     "output_type": "stream",
     "text": [
      "tensor([0., 1., 2.])\n",
      "torch.Size([3])\n"
     ]
    }
   ],
   "source": [
    "print(ft.squeeze())\n",
    "print(ft.squeeze().shape)"
   ]
  },
  {
   "cell_type": "markdown",
   "id": "167cac5d",
   "metadata": {},
   "source": [
    "## Unsqueeze\n",
    "- dimension을 반드시 명시해야 함."
   ]
  },
  {
   "cell_type": "code",
   "execution_count": 69,
   "id": "06efef1c",
   "metadata": {
    "ExecuteTime": {
     "end_time": "2021-12-21T10:18:44.658618Z",
     "start_time": "2021-12-21T10:18:44.645602Z"
    }
   },
   "outputs": [
    {
     "name": "stdout",
     "output_type": "stream",
     "text": [
      "torch.Size([3])\n"
     ]
    }
   ],
   "source": [
    "ft = torch.Tensor([0, 1, 2])\n",
    "print(ft.shape)"
   ]
  },
  {
   "cell_type": "code",
   "execution_count": 70,
   "id": "0fc0cc7f",
   "metadata": {
    "ExecuteTime": {
     "end_time": "2021-12-21T10:18:48.091162Z",
     "start_time": "2021-12-21T10:18:48.084161Z"
    }
   },
   "outputs": [
    {
     "name": "stdout",
     "output_type": "stream",
     "text": [
      "tensor([[0., 1., 2.]])\n",
      "torch.Size([1, 3])\n"
     ]
    }
   ],
   "source": [
    "print(ft.unsqueeze(0))\n",
    "print(ft.unsqueeze(0).shape)"
   ]
  },
  {
   "cell_type": "code",
   "execution_count": 71,
   "id": "995f50b5",
   "metadata": {
    "ExecuteTime": {
     "end_time": "2021-12-21T10:18:52.901185Z",
     "start_time": "2021-12-21T10:18:52.896195Z"
    }
   },
   "outputs": [
    {
     "name": "stdout",
     "output_type": "stream",
     "text": [
      "tensor([[0., 1., 2.]])\n",
      "torch.Size([1, 3])\n"
     ]
    }
   ],
   "source": [
    "print(ft.view(1, -1))\n",
    "print(ft.view(1, -1).shape)"
   ]
  },
  {
   "cell_type": "code",
   "execution_count": 72,
   "id": "0dfc0570",
   "metadata": {
    "ExecuteTime": {
     "end_time": "2021-12-21T10:19:05.589582Z",
     "start_time": "2021-12-21T10:19:05.583599Z"
    }
   },
   "outputs": [
    {
     "name": "stdout",
     "output_type": "stream",
     "text": [
      "tensor([[0.],\n",
      "        [1.],\n",
      "        [2.]])\n",
      "torch.Size([3, 1])\n"
     ]
    }
   ],
   "source": [
    "print(ft.unsqueeze(1))\n",
    "print(ft.unsqueeze(1).shape)"
   ]
  },
  {
   "cell_type": "code",
   "execution_count": 73,
   "id": "443584b2",
   "metadata": {
    "ExecuteTime": {
     "end_time": "2021-12-21T10:19:09.232798Z",
     "start_time": "2021-12-21T10:19:09.221804Z"
    }
   },
   "outputs": [
    {
     "name": "stdout",
     "output_type": "stream",
     "text": [
      "tensor([[0.],\n",
      "        [1.],\n",
      "        [2.]])\n",
      "torch.Size([3, 1])\n"
     ]
    }
   ],
   "source": [
    "print(ft.unsqueeze(-1))\n",
    "print(ft.unsqueeze(-1).shape)"
   ]
  },
  {
   "cell_type": "markdown",
   "id": "98eb6c6e",
   "metadata": {},
   "source": [
    "## Scatter (for one-hot encoding)\n"
   ]
  },
  {
   "cell_type": "code",
   "execution_count": 75,
   "id": "3b9b9df7",
   "metadata": {
    "ExecuteTime": {
     "end_time": "2021-12-21T10:19:51.815288Z",
     "start_time": "2021-12-21T10:19:51.807286Z"
    }
   },
   "outputs": [
    {
     "name": "stdout",
     "output_type": "stream",
     "text": [
      "tensor([[0],\n",
      "        [1],\n",
      "        [2],\n",
      "        [0]])\n"
     ]
    }
   ],
   "source": [
    "lt = torch.LongTensor([[0], [1], [2], [0]])\n",
    "print(lt)"
   ]
  },
  {
   "cell_type": "code",
   "execution_count": 77,
   "id": "39f2230d",
   "metadata": {
    "ExecuteTime": {
     "end_time": "2021-12-21T10:20:32.676971Z",
     "start_time": "2021-12-21T10:20:32.657967Z"
    }
   },
   "outputs": [
    {
     "data": {
      "text/plain": [
       "tensor([[1., 0., 0.],\n",
       "        [0., 1., 0.],\n",
       "        [0., 0., 1.],\n",
       "        [1., 0., 0.]])"
      ]
     },
     "execution_count": 77,
     "metadata": {},
     "output_type": "execute_result"
    }
   ],
   "source": [
    "one_hot = torch.zeros(4,3) ## batch size = 4, classes = 3\n",
    "one_hot.scatter_(1, lt, 1)"
   ]
  },
  {
   "cell_type": "markdown",
   "id": "3bc6ca4a",
   "metadata": {},
   "source": [
    "## Casting"
   ]
  },
  {
   "cell_type": "code",
   "execution_count": 80,
   "id": "af1ccea7",
   "metadata": {
    "ExecuteTime": {
     "end_time": "2021-12-21T10:21:08.726624Z",
     "start_time": "2021-12-21T10:21:08.720632Z"
    }
   },
   "outputs": [
    {
     "name": "stdout",
     "output_type": "stream",
     "text": [
      "tensor([1, 2, 3, 4])\n"
     ]
    }
   ],
   "source": [
    "lt = torch.LongTensor([1, 2, 3, 4])\n",
    "print(lt)"
   ]
  },
  {
   "cell_type": "code",
   "execution_count": 81,
   "id": "233450f6",
   "metadata": {
    "ExecuteTime": {
     "end_time": "2021-12-21T10:25:11.401706Z",
     "start_time": "2021-12-21T10:25:11.392703Z"
    }
   },
   "outputs": [
    {
     "name": "stdout",
     "output_type": "stream",
     "text": [
      "tensor([1., 2., 3., 4.])\n"
     ]
    }
   ],
   "source": [
    "print(lt.float())"
   ]
  },
  {
   "cell_type": "code",
   "execution_count": 82,
   "id": "72f062f0",
   "metadata": {
    "ExecuteTime": {
     "end_time": "2021-12-21T10:25:11.686769Z",
     "start_time": "2021-12-21T10:25:11.668766Z"
    }
   },
   "outputs": [
    {
     "name": "stdout",
     "output_type": "stream",
     "text": [
      "tensor([1, 0, 0, 1], dtype=torch.uint8)\n"
     ]
    }
   ],
   "source": [
    "bt = torch.ByteTensor([True, False, False, True]) # masking등으로 사용하는 게 가능하다. \n",
    "print(bt)"
   ]
  },
  {
   "cell_type": "code",
   "execution_count": 83,
   "id": "8e13aa5a",
   "metadata": {
    "ExecuteTime": {
     "end_time": "2021-12-21T10:25:22.208014Z",
     "start_time": "2021-12-21T10:25:22.193013Z"
    }
   },
   "outputs": [
    {
     "name": "stdout",
     "output_type": "stream",
     "text": [
      "tensor([1, 0, 0, 1])\n",
      "tensor([1., 0., 0., 1.])\n"
     ]
    }
   ],
   "source": [
    "print(bt.long())\n",
    "print(bt.float())"
   ]
  },
  {
   "cell_type": "markdown",
   "id": "700471c1",
   "metadata": {},
   "source": [
    "## Concatenation"
   ]
  },
  {
   "cell_type": "code",
   "execution_count": 84,
   "id": "c74889f2",
   "metadata": {
    "ExecuteTime": {
     "end_time": "2021-12-21T10:25:28.678296Z",
     "start_time": "2021-12-21T10:25:28.669296Z"
    }
   },
   "outputs": [],
   "source": [
    "x = torch.FloatTensor([[1, 2], [3, 4]])\n",
    "y = torch.FloatTensor([[5, 6], [7, 8]])"
   ]
  },
  {
   "cell_type": "code",
   "execution_count": 85,
   "id": "e26160b1",
   "metadata": {
    "ExecuteTime": {
     "end_time": "2021-12-21T10:25:32.272965Z",
     "start_time": "2021-12-21T10:25:32.243973Z"
    }
   },
   "outputs": [
    {
     "name": "stdout",
     "output_type": "stream",
     "text": [
      "tensor([[1., 2.],\n",
      "        [3., 4.],\n",
      "        [5., 6.],\n",
      "        [7., 8.]])\n",
      "tensor([[1., 2., 5., 6.],\n",
      "        [3., 4., 7., 8.]])\n"
     ]
    }
   ],
   "source": [
    "print(torch.cat([x, y], dim=0))\n",
    "print(torch.cat([x, y], dim=1))"
   ]
  },
  {
   "cell_type": "markdown",
   "id": "33467948",
   "metadata": {},
   "source": [
    "## Stacking"
   ]
  },
  {
   "cell_type": "code",
   "execution_count": 86,
   "id": "63c0e7c5",
   "metadata": {
    "ExecuteTime": {
     "end_time": "2021-12-21T10:26:04.659650Z",
     "start_time": "2021-12-21T10:26:04.655657Z"
    }
   },
   "outputs": [],
   "source": [
    "x = torch.FloatTensor([1, 4])\n",
    "y = torch.FloatTensor([2, 5])\n",
    "z = torch.FloatTensor([3, 6])"
   ]
  },
  {
   "cell_type": "code",
   "execution_count": 87,
   "id": "3aae832f",
   "metadata": {
    "ExecuteTime": {
     "end_time": "2021-12-21T10:26:09.530149Z",
     "start_time": "2021-12-21T10:26:09.518153Z"
    }
   },
   "outputs": [
    {
     "name": "stdout",
     "output_type": "stream",
     "text": [
      "tensor([[1., 4.],\n",
      "        [2., 5.],\n",
      "        [3., 6.]])\n",
      "tensor([[1., 2., 3.],\n",
      "        [4., 5., 6.]])\n"
     ]
    }
   ],
   "source": [
    "print(torch.stack([x, y, z]))\n",
    "print(torch.stack([x, y, z], dim=1))"
   ]
  },
  {
   "cell_type": "code",
   "execution_count": 88,
   "id": "bd405e28",
   "metadata": {
    "ExecuteTime": {
     "end_time": "2021-12-21T10:26:13.284471Z",
     "start_time": "2021-12-21T10:26:13.280470Z"
    }
   },
   "outputs": [
    {
     "name": "stdout",
     "output_type": "stream",
     "text": [
      "tensor([[1., 4.],\n",
      "        [2., 5.],\n",
      "        [3., 6.]])\n"
     ]
    }
   ],
   "source": [
    "print(torch.cat([x.unsqueeze(0), y.unsqueeze(0), z.unsqueeze(0)], dim=0))"
   ]
  },
  {
   "cell_type": "markdown",
   "id": "fd7af629",
   "metadata": {},
   "source": [
    "## Ones and Zeros Like"
   ]
  },
  {
   "cell_type": "code",
   "execution_count": 89,
   "id": "274d0cf7",
   "metadata": {
    "ExecuteTime": {
     "end_time": "2021-12-21T10:26:28.512764Z",
     "start_time": "2021-12-21T10:26:28.505774Z"
    }
   },
   "outputs": [
    {
     "name": "stdout",
     "output_type": "stream",
     "text": [
      "tensor([[0., 1., 2.],\n",
      "        [2., 1., 0.]])\n"
     ]
    }
   ],
   "source": [
    "x = torch.FloatTensor([[0, 1, 2], [2, 1, 0]])\n",
    "print(x)"
   ]
  },
  {
   "cell_type": "code",
   "execution_count": 90,
   "id": "7686f89a",
   "metadata": {
    "ExecuteTime": {
     "end_time": "2021-12-21T10:26:31.554404Z",
     "start_time": "2021-12-21T10:26:31.549417Z"
    }
   },
   "outputs": [
    {
     "name": "stdout",
     "output_type": "stream",
     "text": [
      "tensor([[1., 1., 1.],\n",
      "        [1., 1., 1.]])\n",
      "tensor([[0., 0., 0.],\n",
      "        [0., 0., 0.]])\n"
     ]
    }
   ],
   "source": [
    "print(torch.ones_like(x)) # size가 동일한 1행렬, 0행렬이 나옴.같은 device의 tensor를 소환하는데 사용.\n",
    "print(torch.zeros_like(x))"
   ]
  },
  {
   "cell_type": "markdown",
   "id": "14f6dd7a",
   "metadata": {},
   "source": [
    "## In-place Operation"
   ]
  },
  {
   "cell_type": "code",
   "execution_count": 91,
   "id": "9c3c7fcb",
   "metadata": {
    "ExecuteTime": {
     "end_time": "2021-12-21T10:26:46.809276Z",
     "start_time": "2021-12-21T10:26:46.794261Z"
    }
   },
   "outputs": [],
   "source": [
    "x = torch.FloatTensor([[1, 2], [3, 4]])"
   ]
  },
  {
   "cell_type": "code",
   "execution_count": 92,
   "id": "a9517f34",
   "metadata": {
    "ExecuteTime": {
     "end_time": "2021-12-21T10:26:49.697966Z",
     "start_time": "2021-12-21T10:26:49.680962Z"
    }
   },
   "outputs": [
    {
     "name": "stdout",
     "output_type": "stream",
     "text": [
      "tensor([[2., 4.],\n",
      "        [6., 8.]])\n",
      "tensor([[1., 2.],\n",
      "        [3., 4.]])\n",
      "tensor([[2., 4.],\n",
      "        [6., 8.]])\n",
      "tensor([[2., 4.],\n",
      "        [6., 8.]])\n"
     ]
    }
   ],
   "source": [
    "print(x.mul(2.))\n",
    "print(x)\n",
    "print(x.mul_(2.)) # memory에 새로 선언하지 않고, 기존 값에 넣어준다. but 속도 이점이 없을 수도.\n",
    "print(x)"
   ]
  },
  {
   "cell_type": "code",
   "execution_count": null,
   "id": "3a5f4b11",
   "metadata": {},
   "outputs": [],
   "source": []
  },
  {
   "cell_type": "code",
   "execution_count": null,
   "id": "c78d7355",
   "metadata": {},
   "outputs": [],
   "source": []
  }
 ],
 "metadata": {
  "hide_input": false,
  "kernelspec": {
   "display_name": "Python 3",
   "language": "python",
   "name": "python3"
  },
  "language_info": {
   "codemirror_mode": {
    "name": "ipython",
    "version": 3
   },
   "file_extension": ".py",
   "mimetype": "text/x-python",
   "name": "python",
   "nbconvert_exporter": "python",
   "pygments_lexer": "ipython3",
   "version": "3.8.8"
  },
  "toc": {
   "base_numbering": 1,
   "nav_menu": {},
   "number_sections": true,
   "sideBar": true,
   "skip_h1_title": false,
   "title_cell": "Table of Contents",
   "title_sidebar": "Contents",
   "toc_cell": false,
   "toc_position": {},
   "toc_section_display": true,
   "toc_window_display": false
  },
  "varInspector": {
   "cols": {
    "lenName": 16,
    "lenType": 16,
    "lenVar": 40
   },
   "kernels_config": {
    "python": {
     "delete_cmd_postfix": "",
     "delete_cmd_prefix": "del ",
     "library": "var_list.py",
     "varRefreshCmd": "print(var_dic_list())"
    },
    "r": {
     "delete_cmd_postfix": ") ",
     "delete_cmd_prefix": "rm(",
     "library": "var_list.r",
     "varRefreshCmd": "cat(var_dic_list()) "
    }
   },
   "types_to_exclude": [
    "module",
    "function",
    "builtin_function_or_method",
    "instance",
    "_Feature"
   ],
   "window_display": false
  }
 },
 "nbformat": 4,
 "nbformat_minor": 5
}
