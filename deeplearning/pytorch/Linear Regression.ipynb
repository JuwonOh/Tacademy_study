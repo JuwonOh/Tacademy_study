{
 "cells": [
  {
   "cell_type": "markdown",
   "id": "8b59fc90",
   "metadata": {},
   "source": [
    "# Linear Regression\n",
    "\n",
    "- Hypothesis: $H(x) = Wx + b$\n",
    "- cost : $cost(W, b) = \\frac{1}{m} \\sum^{m}_{i = 1}(H(x^{(i)})- y^{(i)})^2$"
   ]
  },
  {
   "cell_type": "code",
   "execution_count": 2,
   "id": "d751dde8",
   "metadata": {
    "ExecuteTime": {
     "end_time": "2021-12-22T05:47:05.812130Z",
     "start_time": "2021-12-22T05:47:00.124672Z"
    }
   },
   "outputs": [],
   "source": [
    "import torch\n",
    "import torch.nn as nn\n",
    "import torch.nn.functional as F\n",
    "import torch.optim as optim"
   ]
  },
  {
   "cell_type": "code",
   "execution_count": 3,
   "id": "e539f458",
   "metadata": {
    "ExecuteTime": {
     "end_time": "2021-12-22T05:47:05.857138Z",
     "start_time": "2021-12-22T05:47:05.843135Z"
    }
   },
   "outputs": [],
   "source": [
    "x_train = torch.FloatTensor([[1], [2], [3]])\n",
    "y_train = torch.FloatTensor([[1], [2], [3]])"
   ]
  },
  {
   "cell_type": "code",
   "execution_count": 4,
   "id": "b9b35d95",
   "metadata": {
    "ExecuteTime": {
     "end_time": "2021-12-22T05:47:05.962373Z",
     "start_time": "2021-12-22T05:47:05.948368Z"
    }
   },
   "outputs": [
    {
     "name": "stdout",
     "output_type": "stream",
     "text": [
      "tensor([[1.],\n",
      "        [2.],\n",
      "        [3.]])\n",
      "torch.Size([3, 1])\n"
     ]
    }
   ],
   "source": [
    "print(x_train)\n",
    "print(x_train.shape)"
   ]
  },
  {
   "cell_type": "code",
   "execution_count": 5,
   "id": "422bfce8",
   "metadata": {
    "ExecuteTime": {
     "end_time": "2021-12-22T05:47:06.007380Z",
     "start_time": "2021-12-22T05:47:05.993378Z"
    }
   },
   "outputs": [
    {
     "name": "stdout",
     "output_type": "stream",
     "text": [
      "tensor([[1.],\n",
      "        [2.],\n",
      "        [3.]])\n",
      "torch.Size([3, 1])\n"
     ]
    }
   ],
   "source": [
    "print(y_train)\n",
    "print(y_train.shape)"
   ]
  },
  {
   "cell_type": "markdown",
   "id": "2ae0d034",
   "metadata": {},
   "source": [
    "# weight init"
   ]
  },
  {
   "cell_type": "code",
   "execution_count": 6,
   "id": "9c8f9302",
   "metadata": {
    "ExecuteTime": {
     "end_time": "2021-12-22T05:47:06.052391Z",
     "start_time": "2021-12-22T05:47:06.038391Z"
    }
   },
   "outputs": [
    {
     "name": "stdout",
     "output_type": "stream",
     "text": [
      "tensor([0.], requires_grad=True)\n"
     ]
    }
   ],
   "source": [
    "W = torch.zeros(1, requires_grad = True)\n",
    "print(W)"
   ]
  },
  {
   "cell_type": "code",
   "execution_count": 7,
   "id": "ef9fb8a4",
   "metadata": {
    "ExecuteTime": {
     "end_time": "2021-12-22T05:47:06.097400Z",
     "start_time": "2021-12-22T05:47:06.083397Z"
    }
   },
   "outputs": [
    {
     "name": "stdout",
     "output_type": "stream",
     "text": [
      "tensor([0.], requires_grad=True)\n"
     ]
    }
   ],
   "source": [
    "b = torch.zeros(1, requires_grad = True)\n",
    "print(b)"
   ]
  },
  {
   "cell_type": "markdown",
   "id": "5553224f",
   "metadata": {},
   "source": [
    "# hypothesis\n",
    "$H(x) = Wx + b$ "
   ]
  },
  {
   "cell_type": "code",
   "execution_count": 11,
   "id": "f1b84b87",
   "metadata": {
    "ExecuteTime": {
     "end_time": "2021-12-22T05:58:27.550172Z",
     "start_time": "2021-12-22T05:58:27.532180Z"
    }
   },
   "outputs": [
    {
     "name": "stdout",
     "output_type": "stream",
     "text": [
      "tensor([[0.],\n",
      "        [0.],\n",
      "        [0.]], grad_fn=<AddBackward0>)\n"
     ]
    }
   ],
   "source": [
    "hypothesis = x_train * W+ b\n",
    "print(hypothesis)"
   ]
  },
  {
   "cell_type": "markdown",
   "id": "f21c79c7",
   "metadata": {},
   "source": [
    "# cost\n",
    "\n",
    "$cost(W, b)= \\frac{1}{m} \\sum^{m}_{i=1}(H(x^{(i)}) - y ^ {(i)})^2  $"
   ]
  },
  {
   "cell_type": "code",
   "execution_count": 13,
   "id": "ee0084c3",
   "metadata": {
    "ExecuteTime": {
     "end_time": "2021-12-22T06:17:30.848993Z",
     "start_time": "2021-12-22T06:17:30.836995Z"
    }
   },
   "outputs": [
    {
     "name": "stdout",
     "output_type": "stream",
     "text": [
      "tensor([[0.],\n",
      "        [0.],\n",
      "        [0.]], grad_fn=<AddBackward0>)\n",
      "tensor([[1.],\n",
      "        [2.],\n",
      "        [3.]])\n"
     ]
    },
    {
     "data": {
      "text/plain": [
       "(None, None)"
      ]
     },
     "execution_count": 13,
     "metadata": {},
     "output_type": "execute_result"
    }
   ],
   "source": [
    "print(hypothesis), print(y_train)"
   ]
  },
  {
   "cell_type": "code",
   "execution_count": 14,
   "id": "abfbf2d2",
   "metadata": {
    "ExecuteTime": {
     "end_time": "2021-12-22T06:17:54.094483Z",
     "start_time": "2021-12-22T06:17:54.086482Z"
    }
   },
   "outputs": [
    {
     "name": "stdout",
     "output_type": "stream",
     "text": [
      "tensor([[-1.],\n",
      "        [-2.],\n",
      "        [-3.]], grad_fn=<SubBackward0>)\n"
     ]
    }
   ],
   "source": [
    "print(hypothesis - y_train)"
   ]
  },
  {
   "cell_type": "code",
   "execution_count": 15,
   "id": "dd98e31f",
   "metadata": {
    "ExecuteTime": {
     "end_time": "2021-12-22T06:18:11.141067Z",
     "start_time": "2021-12-22T06:18:11.124078Z"
    }
   },
   "outputs": [
    {
     "name": "stdout",
     "output_type": "stream",
     "text": [
      "tensor([[1.],\n",
      "        [4.],\n",
      "        [9.]], grad_fn=<PowBackward0>)\n"
     ]
    }
   ],
   "source": [
    "print((hypothesis - y_train) ** 2)"
   ]
  },
  {
   "cell_type": "code",
   "execution_count": 16,
   "id": "2943109a",
   "metadata": {
    "ExecuteTime": {
     "end_time": "2021-12-22T06:19:23.942693Z",
     "start_time": "2021-12-22T06:19:23.923683Z"
    }
   },
   "outputs": [
    {
     "name": "stdout",
     "output_type": "stream",
     "text": [
      "tensor(4.6667, grad_fn=<MeanBackward0>)\n"
     ]
    }
   ],
   "source": [
    "cost = torch.mean((hypothesis - y_train) ** 2)\n",
    "print(cost)"
   ]
  },
  {
   "cell_type": "markdown",
   "id": "d5a1d44d",
   "metadata": {},
   "source": [
    "# Gradient Descent"
   ]
  },
  {
   "cell_type": "code",
   "execution_count": 17,
   "id": "840e4649",
   "metadata": {
    "ExecuteTime": {
     "end_time": "2021-12-22T06:20:16.761350Z",
     "start_time": "2021-12-22T06:20:16.747341Z"
    }
   },
   "outputs": [],
   "source": [
    "optimizer = optim.SGD([W, b], lr = 0.01)"
   ]
  },
  {
   "cell_type": "code",
   "execution_count": 19,
   "id": "f156f978",
   "metadata": {
    "ExecuteTime": {
     "end_time": "2021-12-22T06:20:44.725619Z",
     "start_time": "2021-12-22T06:20:43.573208Z"
    }
   },
   "outputs": [],
   "source": [
    "optimizer.zero_grad()\n",
    "cost.backward()\n",
    "optimizer.step()"
   ]
  },
  {
   "cell_type": "code",
   "execution_count": 20,
   "id": "6647cfda",
   "metadata": {
    "ExecuteTime": {
     "end_time": "2021-12-22T06:20:48.993645Z",
     "start_time": "2021-12-22T06:20:48.984645Z"
    }
   },
   "outputs": [
    {
     "name": "stdout",
     "output_type": "stream",
     "text": [
      "tensor([0.0933], requires_grad=True)\n",
      "tensor([0.0400], requires_grad=True)\n"
     ]
    }
   ],
   "source": [
    "print(W)\n",
    "print(b)"
   ]
  },
  {
   "cell_type": "code",
   "execution_count": 21,
   "id": "36a1dcf9",
   "metadata": {
    "ExecuteTime": {
     "end_time": "2021-12-22T06:33:34.761122Z",
     "start_time": "2021-12-22T06:33:34.755122Z"
    }
   },
   "outputs": [
    {
     "name": "stdout",
     "output_type": "stream",
     "text": [
      "tensor([[0.1333],\n",
      "        [0.2267],\n",
      "        [0.3200]], grad_fn=<AddBackward0>)\n"
     ]
    }
   ],
   "source": [
    "hypothesis = x_train * W + b\n",
    "print(hypothesis)"
   ]
  },
  {
   "cell_type": "code",
   "execution_count": 22,
   "id": "137cf585",
   "metadata": {
    "ExecuteTime": {
     "end_time": "2021-12-22T06:39:37.559992Z",
     "start_time": "2021-12-22T06:39:37.549992Z"
    }
   },
   "outputs": [
    {
     "name": "stdout",
     "output_type": "stream",
     "text": [
      "tensor([[0.1333],\n",
      "        [0.2267],\n",
      "        [0.3200]], grad_fn=<AddBackward0>)\n"
     ]
    }
   ],
   "source": [
    "cost = x_train * W + b\n",
    "print(hypothesis)"
   ]
  },
  {
   "cell_type": "code",
   "execution_count": 23,
   "id": "8655d890",
   "metadata": {
    "ExecuteTime": {
     "end_time": "2021-12-22T06:39:42.882375Z",
     "start_time": "2021-12-22T06:39:42.875376Z"
    }
   },
   "outputs": [
    {
     "name": "stdout",
     "output_type": "stream",
     "text": [
      "tensor(3.6927, grad_fn=<MeanBackward0>)\n"
     ]
    }
   ],
   "source": [
    "cost = torch.mean((hypothesis - y_train) ** 2)\n",
    "print(cost)"
   ]
  },
  {
   "cell_type": "markdown",
   "id": "a2d67594",
   "metadata": {},
   "source": [
    "# 전체 코드로 학습시켜보기"
   ]
  },
  {
   "cell_type": "code",
   "execution_count": 24,
   "id": "8e79ecba",
   "metadata": {
    "ExecuteTime": {
     "end_time": "2021-12-22T06:42:27.194161Z",
     "start_time": "2021-12-22T06:42:27.187160Z"
    }
   },
   "outputs": [],
   "source": [
    "x_train = torch.FloatTensor([[1], [2], [3]])\n",
    "y_train = torch.FloatTensor([[1], [2], [3]])\n",
    "\n",
    "W = torch.zeros(1, requires_grad = True)\n"
   ]
  },
  {
   "cell_type": "code",
   "execution_count": null,
   "id": "706c7249",
   "metadata": {},
   "outputs": [],
   "source": []
  },
  {
   "cell_type": "code",
   "execution_count": null,
   "id": "e9cff568",
   "metadata": {},
   "outputs": [],
   "source": []
  }
 ],
 "metadata": {
  "hide_input": false,
  "kernelspec": {
   "display_name": "Python 3",
   "language": "python",
   "name": "python3"
  },
  "language_info": {
   "codemirror_mode": {
    "name": "ipython",
    "version": 3
   },
   "file_extension": ".py",
   "mimetype": "text/x-python",
   "name": "python",
   "nbconvert_exporter": "python",
   "pygments_lexer": "ipython3",
   "version": "3.8.8"
  },
  "toc": {
   "base_numbering": 1,
   "nav_menu": {},
   "number_sections": true,
   "sideBar": true,
   "skip_h1_title": false,
   "title_cell": "Table of Contents",
   "title_sidebar": "Contents",
   "toc_cell": false,
   "toc_position": {},
   "toc_section_display": true,
   "toc_window_display": false
  },
  "varInspector": {
   "cols": {
    "lenName": 16,
    "lenType": 16,
    "lenVar": 40
   },
   "kernels_config": {
    "python": {
     "delete_cmd_postfix": "",
     "delete_cmd_prefix": "del ",
     "library": "var_list.py",
     "varRefreshCmd": "print(var_dic_list())"
    },
    "r": {
     "delete_cmd_postfix": ") ",
     "delete_cmd_prefix": "rm(",
     "library": "var_list.r",
     "varRefreshCmd": "cat(var_dic_list()) "
    }
   },
   "types_to_exclude": [
    "module",
    "function",
    "builtin_function_or_method",
    "instance",
    "_Feature"
   ],
   "window_display": false
  }
 },
 "nbformat": 4,
 "nbformat_minor": 5
}
