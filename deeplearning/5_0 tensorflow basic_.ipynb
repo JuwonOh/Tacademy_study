{
 "cells": [
  {
   "cell_type": "markdown",
   "id": "79bd8020",
   "metadata": {},
   "source": [
    "# Tensorflow 기초\n",
    "\n",
    "- 수학적인 의미에서의 그래프: 노드와 엣지로 구성된 기하 모형\n",
    "- 노드: 연산과 데이터를 정의하는 것.\n",
    "- 엣지: 노드를 연결하는 화살표\n",
    "- 텐서: 다차원 데이터 배열\n",
    "- 텐서플로? 텐서가 노드에서 연산되어 엣지를 통해 돌아다니는 것."
   ]
  },
  {
   "cell_type": "code",
   "execution_count": 62,
   "id": "6725f050",
   "metadata": {
    "ExecuteTime": {
     "end_time": "2021-12-21T00:30:40.516797Z",
     "start_time": "2021-12-21T00:30:40.501776Z"
    }
   },
   "outputs": [],
   "source": [
    "import tensorflow as tf\n",
    "import numpy as np\n",
    "import matplotlib.pyplot as plt"
   ]
  },
  {
   "cell_type": "markdown",
   "id": "25002718",
   "metadata": {},
   "source": [
    "# Tensorflow basic operation"
   ]
  },
  {
   "cell_type": "code",
   "execution_count": 2,
   "id": "50be01cf",
   "metadata": {
    "ExecuteTime": {
     "end_time": "2021-12-20T08:04:35.969529Z",
     "start_time": "2021-12-20T08:04:35.956526Z"
    }
   },
   "outputs": [],
   "source": [
    "## scalar data\n",
    "s1 = 10\n",
    "s2 = \"abc\"\n",
    "s3 = 3.14"
   ]
  },
  {
   "cell_type": "code",
   "execution_count": 3,
   "id": "5d363b84",
   "metadata": {
    "ExecuteTime": {
     "end_time": "2021-12-20T08:04:35.984531Z",
     "start_time": "2021-12-20T08:04:35.971530Z"
    }
   },
   "outputs": [],
   "source": [
    "## vector data\n",
    "v = [10, 20, 30]"
   ]
  },
  {
   "cell_type": "code",
   "execution_count": 4,
   "id": "771da25b",
   "metadata": {
    "ExecuteTime": {
     "end_time": "2021-12-20T08:04:35.999535Z",
     "start_time": "2021-12-20T08:04:35.986534Z"
    }
   },
   "outputs": [],
   "source": [
    "## matrix data\n",
    "m = [[10, 20, 30], [40, 50, 60]]"
   ]
  },
  {
   "cell_type": "code",
   "execution_count": 5,
   "id": "68335aab",
   "metadata": {
    "ExecuteTime": {
     "end_time": "2021-12-20T08:04:36.014539Z",
     "start_time": "2021-12-20T08:04:36.000536Z"
    }
   },
   "outputs": [
    {
     "data": {
      "text/plain": [
       "array([list([[10, 20, 30], [40, 50, 60]]), list([10, 20, 30]),\n",
       "       list([40, 50, 60])], dtype=object)"
      ]
     },
     "execution_count": 5,
     "metadata": {},
     "output_type": "execute_result"
    }
   ],
   "source": [
    "## t3d tensor 2 * 2 *  3\n",
    "\n",
    "t = [[1, 2, 3], [4, 5, 6], [7, 8, 9]]\n",
    "\n",
    "## 3d tensor\n",
    "d3 = [[[10, 20, 30], [40, 50, 60]], [10, 20, 30], [40, 50, 60]]\n",
    "\n",
    "np.array(d3)"
   ]
  },
  {
   "cell_type": "code",
   "execution_count": 6,
   "id": "da3554d2",
   "metadata": {
    "ExecuteTime": {
     "end_time": "2021-12-20T08:04:36.029544Z",
     "start_time": "2021-12-20T08:04:36.015542Z"
    }
   },
   "outputs": [],
   "source": [
    "#4d tensor 2 * 2 * 2* 3\n",
    "\n",
    "d4 = [[[[10, 20, 30], [40, 50, 60]], [10, 20, 30], [40, 50, 60]],[[[10, 20, 30], [40, 50, 60]], [10, 20, 30], [40, 50, 60]]]"
   ]
  },
  {
   "cell_type": "code",
   "execution_count": 7,
   "id": "5f20de3a",
   "metadata": {
    "ExecuteTime": {
     "end_time": "2021-12-20T08:04:36.044546Z",
     "start_time": "2021-12-20T08:04:36.031543Z"
    }
   },
   "outputs": [
    {
     "data": {
      "text/plain": [
       "(2, 3)"
      ]
     },
     "execution_count": 7,
     "metadata": {},
     "output_type": "execute_result"
    }
   ],
   "source": [
    "np.array(d4).shape"
   ]
  },
  {
   "cell_type": "markdown",
   "id": "73e0e0cc",
   "metadata": {},
   "source": [
    "## tensor data 노드 정의하기\n",
    "\n",
    "- constant: write가 불가. \n",
    "\n",
    "- variable: 읽기 쓰기가 가능."
   ]
  },
  {
   "cell_type": "code",
   "execution_count": 8,
   "id": "5239b464",
   "metadata": {
    "ExecuteTime": {
     "end_time": "2021-12-20T08:04:36.074555Z",
     "start_time": "2021-12-20T08:04:36.046547Z"
    }
   },
   "outputs": [],
   "source": [
    "s1 = 10\n",
    "c1 = tf.constant(s1)"
   ]
  },
  {
   "cell_type": "code",
   "execution_count": 9,
   "id": "17b57f7d",
   "metadata": {
    "ExecuteTime": {
     "end_time": "2021-12-20T08:04:36.089789Z",
     "start_time": "2021-12-20T08:04:36.075553Z"
    }
   },
   "outputs": [
    {
     "data": {
      "text/plain": [
       "<tf.Tensor: shape=(), dtype=int32, numpy=10>"
      ]
     },
     "execution_count": 9,
     "metadata": {},
     "output_type": "execute_result"
    }
   ],
   "source": [
    "c1# 텐서 객체."
   ]
  },
  {
   "cell_type": "code",
   "execution_count": 10,
   "id": "50f1f4f7",
   "metadata": {
    "ExecuteTime": {
     "end_time": "2021-12-20T08:04:36.104792Z",
     "start_time": "2021-12-20T08:04:36.090787Z"
    }
   },
   "outputs": [
    {
     "data": {
      "text/plain": [
       "10"
      ]
     },
     "execution_count": 10,
     "metadata": {},
     "output_type": "execute_result"
    }
   ],
   "source": [
    "c1.numpy()\n",
    "## ndarray 객체로 배출."
   ]
  },
  {
   "cell_type": "code",
   "execution_count": 11,
   "id": "76b29567",
   "metadata": {
    "ExecuteTime": {
     "end_time": "2021-12-20T08:04:36.119802Z",
     "start_time": "2021-12-20T08:04:36.106794Z"
    }
   },
   "outputs": [],
   "source": [
    "v1 = [10, 20, 30]\n",
    "t1 = tf.constant(v1)"
   ]
  },
  {
   "cell_type": "code",
   "execution_count": 12,
   "id": "1334629a",
   "metadata": {
    "ExecuteTime": {
     "end_time": "2021-12-20T08:04:36.134803Z",
     "start_time": "2021-12-20T08:04:36.121786Z"
    }
   },
   "outputs": [
    {
     "data": {
      "text/plain": [
       "<bound method _EagerTensorBase.numpy of <tf.Tensor: shape=(3,), dtype=int32, numpy=array([10, 20, 30])>>"
      ]
     },
     "execution_count": 12,
     "metadata": {},
     "output_type": "execute_result"
    }
   ],
   "source": [
    "t1.numpy"
   ]
  },
  {
   "cell_type": "code",
   "execution_count": 13,
   "id": "a3d6c8f7",
   "metadata": {
    "ExecuteTime": {
     "end_time": "2021-12-20T08:04:36.149792Z",
     "start_time": "2021-12-20T08:04:36.136791Z"
    }
   },
   "outputs": [
    {
     "data": {
      "text/plain": [
       "<tf.Tensor: shape=(2, 3), dtype=int32, numpy=\n",
       "array([[10, 20, 30],\n",
       "       [40, 50, 60]])>"
      ]
     },
     "execution_count": 13,
     "metadata": {},
     "output_type": "execute_result"
    }
   ],
   "source": [
    "t2 = tf.constant(m)\n",
    "t2"
   ]
  },
  {
   "cell_type": "code",
   "execution_count": 14,
   "id": "a10debf3",
   "metadata": {
    "ExecuteTime": {
     "end_time": "2021-12-20T08:04:36.164795Z",
     "start_time": "2021-12-20T08:04:36.150793Z"
    }
   },
   "outputs": [],
   "source": [
    "## 연산 - element wise\n",
    "a = tf.constant(3)\n",
    "b = tf.constant([1,2,3])"
   ]
  },
  {
   "cell_type": "code",
   "execution_count": 15,
   "id": "40175404",
   "metadata": {
    "ExecuteTime": {
     "end_time": "2021-12-20T08:04:36.194803Z",
     "start_time": "2021-12-20T08:04:36.166797Z"
    }
   },
   "outputs": [],
   "source": [
    "# tf.multiply를 통해서 elementwise product 가능\n",
    "c = tf.multiply(a, b)"
   ]
  },
  {
   "cell_type": "code",
   "execution_count": 16,
   "id": "92ec5642",
   "metadata": {
    "ExecuteTime": {
     "end_time": "2021-12-20T08:04:36.209826Z",
     "start_time": "2021-12-20T08:04:36.196804Z"
    }
   },
   "outputs": [
    {
     "data": {
      "text/plain": [
       "<tf.Tensor: shape=(3,), dtype=int32, numpy=array([4, 5, 6])>"
      ]
     },
     "execution_count": 16,
     "metadata": {},
     "output_type": "execute_result"
    }
   ],
   "source": [
    "# 행렬 사이의 합도 가능.\n",
    "d = tf.add( a, b) ## A+B\n",
    "d"
   ]
  },
  {
   "cell_type": "code",
   "execution_count": 17,
   "id": "1bf0be9c",
   "metadata": {
    "ExecuteTime": {
     "end_time": "2021-12-20T08:04:36.224824Z",
     "start_time": "2021-12-20T08:04:36.211808Z"
    }
   },
   "outputs": [
    {
     "data": {
      "text/plain": [
       "<tf.Tensor: shape=(3,), dtype=int32, numpy=array([4, 5, 6])>"
      ]
     },
     "execution_count": 17,
     "metadata": {},
     "output_type": "execute_result"
    }
   ],
   "source": [
    "a+b"
   ]
  },
  {
   "cell_type": "code",
   "execution_count": 18,
   "id": "68be3e41",
   "metadata": {
    "ExecuteTime": {
     "end_time": "2021-12-20T08:04:36.239828Z",
     "start_time": "2021-12-20T08:04:36.225823Z"
    }
   },
   "outputs": [
    {
     "data": {
      "text/plain": [
       "<tf.Tensor: shape=(3,), dtype=int32, numpy=array([ 6,  9, 12])>"
      ]
     },
     "execution_count": 18,
     "metadata": {},
     "output_type": "execute_result"
    }
   ],
   "source": [
    "e = tf.add(c, a)\n",
    "e"
   ]
  },
  {
   "cell_type": "markdown",
   "id": "d8afb62c",
   "metadata": {},
   "source": [
    "## Broadcasting\n",
    "\n",
    "- 벡터와 매트릭스 사이의 연산을 하면, 자동으로 vector를 맞춰서 사이즈를 확장해줌.\n"
   ]
  },
  {
   "cell_type": "code",
   "execution_count": 19,
   "id": "f37fefb2",
   "metadata": {
    "ExecuteTime": {
     "end_time": "2021-12-20T08:04:36.254825Z",
     "start_time": "2021-12-20T08:04:36.241821Z"
    }
   },
   "outputs": [],
   "source": [
    "## 전치행렬로 바꿔보자.\n",
    "f = tf.transpose(tf.constant([1,2,3]))\n",
    "g = tf.constant( [[ 1,2,3], [4,5,6], [7,8,9]])\n",
    "h = f+g"
   ]
  },
  {
   "cell_type": "code",
   "execution_count": 20,
   "id": "d051b1c2",
   "metadata": {
    "ExecuteTime": {
     "end_time": "2021-12-20T08:04:36.269829Z",
     "start_time": "2021-12-20T08:04:36.255825Z"
    }
   },
   "outputs": [
    {
     "data": {
      "text/plain": [
       "<tf.Tensor: shape=(3, 3), dtype=int32, numpy=\n",
       "array([[ 2,  4,  6],\n",
       "       [ 5,  7,  9],\n",
       "       [ 8, 10, 12]])>"
      ]
     },
     "execution_count": 20,
     "metadata": {},
     "output_type": "execute_result"
    }
   ],
   "source": [
    "h"
   ]
  },
  {
   "cell_type": "code",
   "execution_count": 21,
   "id": "b8944d95",
   "metadata": {
    "ExecuteTime": {
     "end_time": "2021-12-20T08:04:36.284822Z",
     "start_time": "2021-12-20T08:04:36.271831Z"
    }
   },
   "outputs": [],
   "source": [
    "f = tf.constant([1,2,3])\n",
    "\n",
    "g = tf.constant( [[ 1,2,3], [4,5,6], [7,8,9]])\n",
    "h = f+g"
   ]
  },
  {
   "cell_type": "code",
   "execution_count": 22,
   "id": "69bdc026",
   "metadata": {
    "ExecuteTime": {
     "end_time": "2021-12-20T08:04:36.299826Z",
     "start_time": "2021-12-20T08:04:36.288825Z"
    },
    "scrolled": true
   },
   "outputs": [
    {
     "data": {
      "text/plain": [
       "<tf.Tensor: shape=(3, 3), dtype=int32, numpy=\n",
       "array([[ 2,  4,  6],\n",
       "       [ 5,  7,  9],\n",
       "       [ 8, 10, 12]])>"
      ]
     },
     "execution_count": 22,
     "metadata": {},
     "output_type": "execute_result"
    }
   ],
   "source": [
    "h"
   ]
  },
  {
   "cell_type": "code",
   "execution_count": 23,
   "id": "c7a9fbd2",
   "metadata": {
    "ExecuteTime": {
     "end_time": "2021-12-20T08:04:36.314830Z",
     "start_time": "2021-12-20T08:04:36.302836Z"
    }
   },
   "outputs": [],
   "source": [
    "## 곱샘\n",
    "t1= tf.constant([[1],[2],[3]])\n",
    "\n",
    "t2 = tf.constant( [[ 1,2,3], [4,5,6], [7,8,9]])\n",
    "tadd1 = f+g"
   ]
  },
  {
   "cell_type": "code",
   "execution_count": 24,
   "id": "937e8839",
   "metadata": {
    "ExecuteTime": {
     "end_time": "2021-12-20T08:04:36.329834Z",
     "start_time": "2021-12-20T08:04:36.315832Z"
    }
   },
   "outputs": [
    {
     "data": {
      "text/plain": [
       "<tf.Tensor: shape=(3, 3), dtype=int32, numpy=\n",
       "array([[ 2,  4,  6],\n",
       "       [ 5,  7,  9],\n",
       "       [ 8, 10, 12]])>"
      ]
     },
     "execution_count": 24,
     "metadata": {},
     "output_type": "execute_result"
    }
   ],
   "source": [
    "tadd1"
   ]
  },
  {
   "cell_type": "code",
   "execution_count": 25,
   "id": "9b03a2f1",
   "metadata": {
    "ExecuteTime": {
     "end_time": "2021-12-20T08:04:36.344836Z",
     "start_time": "2021-12-20T08:04:36.330835Z"
    }
   },
   "outputs": [],
   "source": [
    "f = tf.constant([[1],[2],[3]])\n",
    "\n",
    "g = tf.constant( [[ 1,2,3], [4,5,6], [7,8,9]])\n",
    "h = f * g"
   ]
  },
  {
   "cell_type": "code",
   "execution_count": 26,
   "id": "06a1c0db",
   "metadata": {
    "ExecuteTime": {
     "end_time": "2021-12-20T08:04:36.359840Z",
     "start_time": "2021-12-20T08:04:36.346839Z"
    }
   },
   "outputs": [
    {
     "data": {
      "text/plain": [
       "<tf.Tensor: shape=(3, 3), dtype=int32, numpy=\n",
       "array([[ 1,  2,  3],\n",
       "       [ 8, 10, 12],\n",
       "       [21, 24, 27]])>"
      ]
     },
     "execution_count": 26,
     "metadata": {},
     "output_type": "execute_result"
    }
   ],
   "source": [
    "h"
   ]
  },
  {
   "cell_type": "code",
   "execution_count": 27,
   "id": "a4227eea",
   "metadata": {
    "ExecuteTime": {
     "end_time": "2021-12-20T08:04:37.140018Z",
     "start_time": "2021-12-20T08:04:36.361840Z"
    }
   },
   "outputs": [
    {
     "ename": "InvalidArgumentError",
     "evalue": "Incompatible shapes: [2] vs. [3,3] [Op:Sub]",
     "output_type": "error",
     "traceback": [
      "\u001b[1;31m---------------------------------------------------------------------------\u001b[0m",
      "\u001b[1;31mInvalidArgumentError\u001b[0m                      Traceback (most recent call last)",
      "\u001b[1;32m<ipython-input-27-869f2be37237>\u001b[0m in \u001b[0;36m<module>\u001b[1;34m\u001b[0m\n\u001b[0;32m      1\u001b[0m \u001b[0mv3\u001b[0m \u001b[1;33m=\u001b[0m \u001b[0mtf\u001b[0m\u001b[1;33m.\u001b[0m\u001b[0mconstant\u001b[0m\u001b[1;33m(\u001b[0m\u001b[1;33m[\u001b[0m\u001b[1;36m1\u001b[0m\u001b[1;33m,\u001b[0m\u001b[1;36m2\u001b[0m\u001b[1;33m]\u001b[0m\u001b[1;33m)\u001b[0m\u001b[1;33m\u001b[0m\u001b[1;33m\u001b[0m\u001b[0m\n\u001b[0;32m      2\u001b[0m \u001b[0mv4\u001b[0m \u001b[1;33m=\u001b[0m \u001b[0mtf\u001b[0m\u001b[1;33m.\u001b[0m\u001b[0mconstant\u001b[0m\u001b[1;33m(\u001b[0m\u001b[1;33m[\u001b[0m\u001b[1;33m[\u001b[0m\u001b[1;36m1\u001b[0m\u001b[1;33m,\u001b[0m\u001b[1;36m2\u001b[0m\u001b[1;33m,\u001b[0m\u001b[1;36m3\u001b[0m\u001b[1;33m]\u001b[0m\u001b[1;33m,\u001b[0m \u001b[1;33m[\u001b[0m\u001b[1;36m4\u001b[0m\u001b[1;33m,\u001b[0m\u001b[1;36m5\u001b[0m\u001b[1;33m,\u001b[0m\u001b[1;36m6\u001b[0m\u001b[1;33m]\u001b[0m\u001b[1;33m,\u001b[0m \u001b[1;33m[\u001b[0m\u001b[1;36m7\u001b[0m\u001b[1;33m,\u001b[0m\u001b[1;36m8\u001b[0m\u001b[1;33m,\u001b[0m\u001b[1;36m9\u001b[0m\u001b[1;33m]\u001b[0m\u001b[1;33m]\u001b[0m\u001b[1;33m)\u001b[0m\u001b[1;33m\u001b[0m\u001b[1;33m\u001b[0m\u001b[0m\n\u001b[1;32m----> 3\u001b[1;33m \u001b[0mv3\u001b[0m\u001b[1;33m-\u001b[0m\u001b[0mv4\u001b[0m\u001b[1;33m\u001b[0m\u001b[1;33m\u001b[0m\u001b[0m\n\u001b[0m\u001b[0;32m      4\u001b[0m \u001b[1;33m\u001b[0m\u001b[0m\n\u001b[0;32m      5\u001b[0m \u001b[1;31m## shape가 안맞으면 안된다.\u001b[0m\u001b[1;33m\u001b[0m\u001b[1;33m\u001b[0m\u001b[1;33m\u001b[0m\u001b[0m\n",
      "\u001b[1;32m~\\anaconda3\\lib\\site-packages\\tensorflow\\python\\ops\\math_ops.py\u001b[0m in \u001b[0;36mbinary_op_wrapper\u001b[1;34m(x, y)\u001b[0m\n\u001b[0;32m   1123\u001b[0m     \u001b[1;32mwith\u001b[0m \u001b[0mops\u001b[0m\u001b[1;33m.\u001b[0m\u001b[0mname_scope\u001b[0m\u001b[1;33m(\u001b[0m\u001b[1;32mNone\u001b[0m\u001b[1;33m,\u001b[0m \u001b[0mop_name\u001b[0m\u001b[1;33m,\u001b[0m \u001b[1;33m[\u001b[0m\u001b[0mx\u001b[0m\u001b[1;33m,\u001b[0m \u001b[0my\u001b[0m\u001b[1;33m]\u001b[0m\u001b[1;33m)\u001b[0m \u001b[1;32mas\u001b[0m \u001b[0mname\u001b[0m\u001b[1;33m:\u001b[0m\u001b[1;33m\u001b[0m\u001b[1;33m\u001b[0m\u001b[0m\n\u001b[0;32m   1124\u001b[0m       \u001b[1;32mtry\u001b[0m\u001b[1;33m:\u001b[0m\u001b[1;33m\u001b[0m\u001b[1;33m\u001b[0m\u001b[0m\n\u001b[1;32m-> 1125\u001b[1;33m         \u001b[1;32mreturn\u001b[0m \u001b[0mfunc\u001b[0m\u001b[1;33m(\u001b[0m\u001b[0mx\u001b[0m\u001b[1;33m,\u001b[0m \u001b[0my\u001b[0m\u001b[1;33m,\u001b[0m \u001b[0mname\u001b[0m\u001b[1;33m=\u001b[0m\u001b[0mname\u001b[0m\u001b[1;33m)\u001b[0m\u001b[1;33m\u001b[0m\u001b[1;33m\u001b[0m\u001b[0m\n\u001b[0m\u001b[0;32m   1126\u001b[0m       \u001b[1;32mexcept\u001b[0m \u001b[1;33m(\u001b[0m\u001b[0mTypeError\u001b[0m\u001b[1;33m,\u001b[0m \u001b[0mValueError\u001b[0m\u001b[1;33m)\u001b[0m \u001b[1;32mas\u001b[0m \u001b[0me\u001b[0m\u001b[1;33m:\u001b[0m\u001b[1;33m\u001b[0m\u001b[1;33m\u001b[0m\u001b[0m\n\u001b[0;32m   1127\u001b[0m         \u001b[1;31m# Even if dispatching the op failed, the RHS may be a tensor aware\u001b[0m\u001b[1;33m\u001b[0m\u001b[1;33m\u001b[0m\u001b[1;33m\u001b[0m\u001b[0m\n",
      "\u001b[1;32m~\\anaconda3\\lib\\site-packages\\tensorflow\\python\\util\\dispatch.py\u001b[0m in \u001b[0;36mwrapper\u001b[1;34m(*args, **kwargs)\u001b[0m\n\u001b[0;32m    199\u001b[0m     \u001b[1;34m\"\"\"Call target, and fall back on dispatchers if there is a TypeError.\"\"\"\u001b[0m\u001b[1;33m\u001b[0m\u001b[1;33m\u001b[0m\u001b[0m\n\u001b[0;32m    200\u001b[0m     \u001b[1;32mtry\u001b[0m\u001b[1;33m:\u001b[0m\u001b[1;33m\u001b[0m\u001b[1;33m\u001b[0m\u001b[0m\n\u001b[1;32m--> 201\u001b[1;33m       \u001b[1;32mreturn\u001b[0m \u001b[0mtarget\u001b[0m\u001b[1;33m(\u001b[0m\u001b[1;33m*\u001b[0m\u001b[0margs\u001b[0m\u001b[1;33m,\u001b[0m \u001b[1;33m**\u001b[0m\u001b[0mkwargs\u001b[0m\u001b[1;33m)\u001b[0m\u001b[1;33m\u001b[0m\u001b[1;33m\u001b[0m\u001b[0m\n\u001b[0m\u001b[0;32m    202\u001b[0m     \u001b[1;32mexcept\u001b[0m \u001b[1;33m(\u001b[0m\u001b[0mTypeError\u001b[0m\u001b[1;33m,\u001b[0m \u001b[0mValueError\u001b[0m\u001b[1;33m)\u001b[0m\u001b[1;33m:\u001b[0m\u001b[1;33m\u001b[0m\u001b[1;33m\u001b[0m\u001b[0m\n\u001b[0;32m    203\u001b[0m       \u001b[1;31m# Note: convert_to_eager_tensor currently raises a ValueError, not a\u001b[0m\u001b[1;33m\u001b[0m\u001b[1;33m\u001b[0m\u001b[1;33m\u001b[0m\u001b[0m\n",
      "\u001b[1;32m~\\anaconda3\\lib\\site-packages\\tensorflow\\python\\ops\\math_ops.py\u001b[0m in \u001b[0;36msubtract\u001b[1;34m(x, y, name)\u001b[0m\n\u001b[0;32m    525\u001b[0m \u001b[1;33m@\u001b[0m\u001b[0mdispatch\u001b[0m\u001b[1;33m.\u001b[0m\u001b[0madd_dispatch_support\u001b[0m\u001b[1;33m\u001b[0m\u001b[1;33m\u001b[0m\u001b[0m\n\u001b[0;32m    526\u001b[0m \u001b[1;32mdef\u001b[0m \u001b[0msubtract\u001b[0m\u001b[1;33m(\u001b[0m\u001b[0mx\u001b[0m\u001b[1;33m,\u001b[0m \u001b[0my\u001b[0m\u001b[1;33m,\u001b[0m \u001b[0mname\u001b[0m\u001b[1;33m=\u001b[0m\u001b[1;32mNone\u001b[0m\u001b[1;33m)\u001b[0m\u001b[1;33m:\u001b[0m\u001b[1;33m\u001b[0m\u001b[1;33m\u001b[0m\u001b[0m\n\u001b[1;32m--> 527\u001b[1;33m   \u001b[1;32mreturn\u001b[0m \u001b[0mgen_math_ops\u001b[0m\u001b[1;33m.\u001b[0m\u001b[0msub\u001b[0m\u001b[1;33m(\u001b[0m\u001b[0mx\u001b[0m\u001b[1;33m,\u001b[0m \u001b[0my\u001b[0m\u001b[1;33m,\u001b[0m \u001b[0mname\u001b[0m\u001b[1;33m)\u001b[0m\u001b[1;33m\u001b[0m\u001b[1;33m\u001b[0m\u001b[0m\n\u001b[0m\u001b[0;32m    528\u001b[0m \u001b[1;33m\u001b[0m\u001b[0m\n\u001b[0;32m    529\u001b[0m \u001b[1;33m\u001b[0m\u001b[0m\n",
      "\u001b[1;32m~\\anaconda3\\lib\\site-packages\\tensorflow\\python\\ops\\gen_math_ops.py\u001b[0m in \u001b[0;36msub\u001b[1;34m(x, y, name)\u001b[0m\n\u001b[0;32m  10453\u001b[0m       \u001b[1;32mreturn\u001b[0m \u001b[0m_result\u001b[0m\u001b[1;33m\u001b[0m\u001b[1;33m\u001b[0m\u001b[0m\n\u001b[0;32m  10454\u001b[0m     \u001b[1;32mexcept\u001b[0m \u001b[0m_core\u001b[0m\u001b[1;33m.\u001b[0m\u001b[0m_NotOkStatusException\u001b[0m \u001b[1;32mas\u001b[0m \u001b[0me\u001b[0m\u001b[1;33m:\u001b[0m\u001b[1;33m\u001b[0m\u001b[1;33m\u001b[0m\u001b[0m\n\u001b[1;32m> 10455\u001b[1;33m       \u001b[0m_ops\u001b[0m\u001b[1;33m.\u001b[0m\u001b[0mraise_from_not_ok_status\u001b[0m\u001b[1;33m(\u001b[0m\u001b[0me\u001b[0m\u001b[1;33m,\u001b[0m \u001b[0mname\u001b[0m\u001b[1;33m)\u001b[0m\u001b[1;33m\u001b[0m\u001b[1;33m\u001b[0m\u001b[0m\n\u001b[0m\u001b[0;32m  10456\u001b[0m     \u001b[1;32mexcept\u001b[0m \u001b[0m_core\u001b[0m\u001b[1;33m.\u001b[0m\u001b[0m_FallbackException\u001b[0m\u001b[1;33m:\u001b[0m\u001b[1;33m\u001b[0m\u001b[1;33m\u001b[0m\u001b[0m\n\u001b[0;32m  10457\u001b[0m       \u001b[1;32mpass\u001b[0m\u001b[1;33m\u001b[0m\u001b[1;33m\u001b[0m\u001b[0m\n",
      "\u001b[1;32m~\\anaconda3\\lib\\site-packages\\tensorflow\\python\\framework\\ops.py\u001b[0m in \u001b[0;36mraise_from_not_ok_status\u001b[1;34m(e, name)\u001b[0m\n\u001b[0;32m   6841\u001b[0m   \u001b[0mmessage\u001b[0m \u001b[1;33m=\u001b[0m \u001b[0me\u001b[0m\u001b[1;33m.\u001b[0m\u001b[0mmessage\u001b[0m \u001b[1;33m+\u001b[0m \u001b[1;33m(\u001b[0m\u001b[1;34m\" name: \"\u001b[0m \u001b[1;33m+\u001b[0m \u001b[0mname\u001b[0m \u001b[1;32mif\u001b[0m \u001b[0mname\u001b[0m \u001b[1;32mis\u001b[0m \u001b[1;32mnot\u001b[0m \u001b[1;32mNone\u001b[0m \u001b[1;32melse\u001b[0m \u001b[1;34m\"\"\u001b[0m\u001b[1;33m)\u001b[0m\u001b[1;33m\u001b[0m\u001b[1;33m\u001b[0m\u001b[0m\n\u001b[0;32m   6842\u001b[0m   \u001b[1;31m# pylint: disable=protected-access\u001b[0m\u001b[1;33m\u001b[0m\u001b[1;33m\u001b[0m\u001b[1;33m\u001b[0m\u001b[0m\n\u001b[1;32m-> 6843\u001b[1;33m   \u001b[0msix\u001b[0m\u001b[1;33m.\u001b[0m\u001b[0mraise_from\u001b[0m\u001b[1;33m(\u001b[0m\u001b[0mcore\u001b[0m\u001b[1;33m.\u001b[0m\u001b[0m_status_to_exception\u001b[0m\u001b[1;33m(\u001b[0m\u001b[0me\u001b[0m\u001b[1;33m.\u001b[0m\u001b[0mcode\u001b[0m\u001b[1;33m,\u001b[0m \u001b[0mmessage\u001b[0m\u001b[1;33m)\u001b[0m\u001b[1;33m,\u001b[0m \u001b[1;32mNone\u001b[0m\u001b[1;33m)\u001b[0m\u001b[1;33m\u001b[0m\u001b[1;33m\u001b[0m\u001b[0m\n\u001b[0m\u001b[0;32m   6844\u001b[0m   \u001b[1;31m# pylint: enable=protected-access\u001b[0m\u001b[1;33m\u001b[0m\u001b[1;33m\u001b[0m\u001b[1;33m\u001b[0m\u001b[0m\n\u001b[0;32m   6845\u001b[0m \u001b[1;33m\u001b[0m\u001b[0m\n",
      "\u001b[1;32m~\\anaconda3\\lib\\site-packages\\six.py\u001b[0m in \u001b[0;36mraise_from\u001b[1;34m(value, from_value)\u001b[0m\n",
      "\u001b[1;31mInvalidArgumentError\u001b[0m: Incompatible shapes: [2] vs. [3,3] [Op:Sub]"
     ]
    }
   ],
   "source": [
    "v3 = tf.constant([1,2])\n",
    "v4 = tf.constant([[1,2,3], [4,5,6], [7,8,9]])\n",
    "v3-v4\n",
    "\n",
    "## shape가 안맞으면 안된다."
   ]
  },
  {
   "cell_type": "markdown",
   "id": "5d932c15",
   "metadata": {},
   "source": [
    "## matrix multiplication"
   ]
  },
  {
   "cell_type": "code",
   "execution_count": 48,
   "id": "ac35e733",
   "metadata": {
    "ExecuteTime": {
     "end_time": "2021-12-21T00:28:34.785682Z",
     "start_time": "2021-12-21T00:28:34.636881Z"
    }
   },
   "outputs": [],
   "source": [
    "o = tf.constant([[1,2], [3,4]])\n",
    "p = tf.constant([[5,6], [7,8]])\n",
    "q = tf.multiply(o, p)\n",
    "r = tf.matmul(o, p)"
   ]
  },
  {
   "cell_type": "code",
   "execution_count": 49,
   "id": "4b6dc60d",
   "metadata": {
    "ExecuteTime": {
     "end_time": "2021-12-21T00:28:35.437860Z",
     "start_time": "2021-12-21T00:28:35.398866Z"
    }
   },
   "outputs": [
    {
     "data": {
      "text/plain": [
       "(<tf.Tensor: shape=(2, 2), dtype=int32, numpy=\n",
       " array([[ 5, 12],\n",
       "        [21, 32]])>,\n",
       " <tf.Tensor: shape=(2, 2), dtype=int32, numpy=\n",
       " array([[19, 22],\n",
       "        [43, 50]])>)"
      ]
     },
     "execution_count": 49,
     "metadata": {},
     "output_type": "execute_result"
    }
   ],
   "source": [
    "q, r"
   ]
  },
  {
   "cell_type": "markdown",
   "id": "69814074",
   "metadata": {},
   "source": [
    "## 많이 사용하는 operation"
   ]
  },
  {
   "cell_type": "code",
   "execution_count": 50,
   "id": "5789b6cb",
   "metadata": {
    "ExecuteTime": {
     "end_time": "2021-12-21T00:29:26.640151Z",
     "start_time": "2021-12-21T00:29:26.551900Z"
    }
   },
   "outputs": [
    {
     "data": {
      "text/plain": [
       "<tf.Tensor: shape=(3,), dtype=int32, numpy=array([1, 4, 9])>"
      ]
     },
     "execution_count": 50,
     "metadata": {},
     "output_type": "execute_result"
    }
   ],
   "source": [
    "\n",
    "s = [1,2,3]\n",
    "t = tf.square(s)\n",
    "t"
   ]
  },
  {
   "cell_type": "code",
   "execution_count": 51,
   "id": "9a0ffa7a",
   "metadata": {
    "ExecuteTime": {
     "end_time": "2021-12-21T00:29:29.794106Z",
     "start_time": "2021-12-21T00:29:29.763084Z"
    }
   },
   "outputs": [
    {
     "data": {
      "text/plain": [
       "<tf.Tensor: shape=(), dtype=int32, numpy=2>"
      ]
     },
     "execution_count": 51,
     "metadata": {},
     "output_type": "execute_result"
    }
   ],
   "source": [
    "u = tf.reduce_mean(s)\n",
    "u"
   ]
  },
  {
   "cell_type": "code",
   "execution_count": 52,
   "id": "c8a9f546",
   "metadata": {
    "ExecuteTime": {
     "end_time": "2021-12-21T00:29:32.412908Z",
     "start_time": "2021-12-21T00:29:32.288873Z"
    }
   },
   "outputs": [
    {
     "data": {
      "text/plain": [
       "<tf.Variable 'Variable:0' shape=() dtype=int32, numpy=10>"
      ]
     },
     "execution_count": 52,
     "metadata": {},
     "output_type": "execute_result"
    }
   ],
   "source": [
    "## variable: variable은 변수.\n",
    "v = tf.Variable(10)\n",
    "v"
   ]
  },
  {
   "cell_type": "code",
   "execution_count": 53,
   "id": "ab7867d7",
   "metadata": {
    "ExecuteTime": {
     "end_time": "2021-12-21T00:29:33.758614Z",
     "start_time": "2021-12-21T00:29:33.737612Z"
    }
   },
   "outputs": [
    {
     "data": {
      "text/plain": [
       "<tf.Variable 'UnreadVariable' shape=() dtype=int32, numpy=10>"
      ]
     },
     "execution_count": 53,
     "metadata": {},
     "output_type": "execute_result"
    }
   ],
   "source": [
    "v.assign_add(3)\n",
    "v.assign_sub(3)"
   ]
  },
  {
   "cell_type": "code",
   "execution_count": 54,
   "id": "73fcfb2b",
   "metadata": {
    "ExecuteTime": {
     "end_time": "2021-12-21T00:29:35.831235Z",
     "start_time": "2021-12-21T00:29:35.816237Z"
    }
   },
   "outputs": [
    {
     "data": {
      "text/plain": [
       "<tf.Variable 'UnreadVariable' shape=() dtype=int32, numpy=7>"
      ]
     },
     "execution_count": 54,
     "metadata": {},
     "output_type": "execute_result"
    }
   ],
   "source": [
    "v.assign_sub(3)"
   ]
  },
  {
   "cell_type": "markdown",
   "id": "7ef40cb3",
   "metadata": {},
   "source": [
    "# 선형 모델로 이해하기."
   ]
  },
  {
   "cell_type": "code",
   "execution_count": 55,
   "id": "54c43cff",
   "metadata": {
    "ExecuteTime": {
     "end_time": "2021-12-21T00:29:40.723126Z",
     "start_time": "2021-12-21T00:29:40.713114Z"
    }
   },
   "outputs": [],
   "source": [
    "x_data = [1, 2, 3]\n",
    "y_data = [1, 2, 3]"
   ]
  },
  {
   "cell_type": "markdown",
   "id": "3ca75ca5",
   "metadata": {},
   "source": [
    "## cost function, gradient function 정의하기"
   ]
  },
  {
   "cell_type": "code",
   "execution_count": 56,
   "id": "f5008600",
   "metadata": {
    "ExecuteTime": {
     "end_time": "2021-12-21T00:29:42.024695Z",
     "start_time": "2021-12-21T00:29:42.014701Z"
    }
   },
   "outputs": [],
   "source": [
    "def cost(x, y, w):\n",
    "    c = 0\n",
    "    for i in range(len(x)):\n",
    "        hx = w*x[i]\n",
    "        c = c + (hx - y[i])**2\n",
    "    return c/len(x)"
   ]
  },
  {
   "cell_type": "code",
   "execution_count": 58,
   "id": "8a7e42cf",
   "metadata": {
    "ExecuteTime": {
     "end_time": "2021-12-21T00:29:43.716411Z",
     "start_time": "2021-12-21T00:29:43.700416Z"
    }
   },
   "outputs": [
    {
     "name": "stdout",
     "output_type": "stream",
     "text": [
      "18.666666666666668\n",
      "4.666666666666667\n",
      "0.0\n",
      "4.666666666666667\n",
      "18.666666666666668\n"
     ]
    }
   ],
   "source": [
    "print(cost(x_data, y_data, -1))\n",
    "print(cost(x_data, y_data, 0))\n",
    "print(cost(x_data, y_data, 1))\n",
    "print(cost(x_data, y_data, 2))\n",
    "print(cost(x_data, y_data, 3))"
   ]
  },
  {
   "cell_type": "code",
   "execution_count": 59,
   "id": "ee68351b",
   "metadata": {
    "ExecuteTime": {
     "end_time": "2021-12-21T00:29:44.695385Z",
     "start_time": "2021-12-21T00:29:44.414487Z"
    }
   },
   "outputs": [
    {
     "data": {
      "image/png": "[encoded data removed]",
      "text/plain": [
       "<Figure size 432x288 with 1 Axes>"
      ]
     },
     "metadata": {
      "needs_background": "light"
     },
     "output_type": "display_data"
    }
   ],
   "source": [
    "plt.scatter(x_data, y_data)\n",
    "plt.show()"
   ]
  },
  {
   "cell_type": "code",
   "execution_count": 60,
   "id": "a49aa24f",
   "metadata": {
    "ExecuteTime": {
     "end_time": "2021-12-21T00:29:50.108678Z",
     "start_time": "2021-12-21T00:29:49.874574Z"
    }
   },
   "outputs": [
    {
     "name": "stdout",
     "output_type": "stream",
     "text": [
      "w=-3.0 cost=74.66666666666667\n",
      "w=-2.836734693877551 cost=68.69582118561709\n",
      "w=-2.673469387755102 cost=62.97376093294461\n",
      "w=-2.510204081632653 cost=57.500485908649175\n",
      "w=-2.3469387755102042 cost=52.275996112730816\n",
      "w=-2.183673469387755 cost=47.3002915451895\n",
      "w=-2.020408163265306 cost=42.57337220602526\n",
      "w=-1.8571428571428572 cost=38.095238095238095\n",
      "w=-1.6938775510204083 cost=33.86588921282799\n",
      "w=-1.5306122448979593 cost=29.88532555879495\n",
      "w=-1.3673469387755104 cost=26.15354713313897\n",
      "w=-1.2040816326530615 cost=22.670553935860067\n",
      "w=-1.0408163265306123 cost=19.436345966958214\n",
      "w=-0.8775510204081636 cost=16.450923226433435\n",
      "w=-0.7142857142857144 cost=13.714285714285717\n",
      "w=-0.5510204081632657 cost=11.226433430515067\n",
      "w=-0.38775510204081653 cost=8.98736637512148\n",
      "w=-0.22448979591836737 cost=6.997084548104957\n",
      "w=-0.06122448979591866 cost=5.255587949465504\n",
      "w=0.1020408163265305 cost=3.7628765792031107\n",
      "w=0.2653061224489792 cost=2.518950437317787\n",
      "w=0.4285714285714284 cost=1.5238095238095248\n",
      "w=0.5918367346938771 cost=0.7774538386783302\n",
      "w=0.7551020408163263 cost=0.27988338192419887\n",
      "w=0.9183673469387754 cost=0.031098153547133207\n",
      "w=1.0816326530612246 cost=0.031098153547133207\n",
      "w=1.2448979591836729 cost=0.2798833819241968\n",
      "w=1.408163265306122 cost=0.7774538386783268\n",
      "w=1.5714285714285712 cost=1.5238095238095226\n",
      "w=1.7346938775510203 cost=2.5189504373177836\n",
      "w=1.8979591836734686 cost=3.762876579203103\n",
      "w=2.0612244897959178 cost=5.255587949465494\n",
      "w=2.224489795918367 cost=6.997084548104951\n",
      "w=2.387755102040816 cost=8.987366375121475\n",
      "w=2.5510204081632653 cost=11.226433430515064\n",
      "w=2.7142857142857135 cost=13.714285714285703\n",
      "w=2.8775510204081627 cost=16.45092322643342\n",
      "w=3.040816326530612 cost=19.436345966958203\n",
      "w=3.204081632653061 cost=22.670553935860056\n",
      "w=3.3673469387755093 cost=26.153547133138954\n",
      "w=3.5306122448979584 cost=29.88532555879492\n",
      "w=3.6938775510204076 cost=33.86588921282798\n",
      "w=3.8571428571428568 cost=38.09523809523808\n",
      "w=4.020408163265306 cost=42.57337220602526\n",
      "w=4.183673469387754 cost=47.30029154518948\n",
      "w=4.346938775510203 cost=52.27599611273078\n",
      "w=4.5102040816326525 cost=57.50048590864915\n",
      "w=4.673469387755102 cost=62.97376093294459\n",
      "w=4.836734693877551 cost=68.69582118561709\n",
      "w=5.0 cost=74.66666666666667\n"
     ]
    },
    {
     "data": {
      "image/png": "[encoded data removed]",
      "text/plain": [
       "<Figure size 432x288 with 1 Axes>"
      ]
     },
     "metadata": {
      "needs_background": "light"
     },
     "output_type": "display_data"
    }
   ],
   "source": [
    "## gradient와 w를 구해보기.\n",
    "#np.linspace -3에서 5까지 등간격으로 50개의 점을 찍음.\n",
    "for w in np.linspace(-3,5,50):\n",
    "    c = cost(x_data, y_data, w)\n",
    "    print(\"w={}\".format(w), \"cost={}\".format(c))\n",
    "    plt.plot(w, c, 'ro')\n",
    "plt.xlabel('w')\n",
    "plt.ylabel('cost')\n",
    "plt.show()"
   ]
  },
  {
   "cell_type": "code",
   "execution_count": 61,
   "id": "a2803334",
   "metadata": {
    "ExecuteTime": {
     "end_time": "2021-12-21T00:29:50.787085Z",
     "start_time": "2021-12-21T00:29:50.662541Z"
    }
   },
   "outputs": [
    {
     "data": {
      "text/plain": [
       "<function matplotlib.pyplot.show(close=None, block=None)>"
      ]
     },
     "execution_count": 61,
     "metadata": {},
     "output_type": "execute_result"
    },
    {
     "data": {
      "image/png": "[encoded data removed]",
      "text/plain": [
       "<Figure size 432x288 with 1 Axes>"
      ]
     },
     "metadata": {
      "needs_background": "light"
     },
     "output_type": "display_data"
    }
   ],
   "source": [
    "x = np.array([1,2,3,4,5])\n",
    "y = np.array( [3, 5, 7, 9, 11])\n",
    "\n",
    "plt.ylim( (0,15) )\n",
    "plt.xlim( (0, 10))\n",
    "plt.scatter( x, y)\n",
    "plt.show"
   ]
  },
  {
   "cell_type": "markdown",
   "id": "11a5b59a",
   "metadata": {},
   "source": [
    "## numpy 안쓰고 for문으로 해보기"
   ]
  },
  {
   "cell_type": "code",
   "execution_count": 63,
   "id": "9c4c1a69",
   "metadata": {
    "ExecuteTime": {
     "end_time": "2021-12-21T00:31:37.534178Z",
     "start_time": "2021-12-21T00:31:37.527164Z"
    }
   },
   "outputs": [],
   "source": [
    "x_data= np.array([1,2,3])\n",
    "y_data=  np.array([1,2,3])"
   ]
  },
  {
   "cell_type": "code",
   "execution_count": 64,
   "id": "6aea0304",
   "metadata": {
    "ExecuteTime": {
     "end_time": "2021-12-21T00:31:37.881861Z",
     "start_time": "2021-12-21T00:31:37.876845Z"
    }
   },
   "outputs": [],
   "source": [
    "def cost(x, y, w):\n",
    "    w = np.array(w)\n",
    "    yh = w*x\n",
    "    c = np.sum((yh - y)**2)\n",
    "    \n",
    "    return c/len(x)"
   ]
  },
  {
   "cell_type": "code",
   "execution_count": 65,
   "id": "db585de0",
   "metadata": {
    "ExecuteTime": {
     "end_time": "2021-12-21T00:31:38.470444Z",
     "start_time": "2021-12-21T00:31:38.452441Z"
    }
   },
   "outputs": [],
   "source": [
    "def gradient(x, y, w):\n",
    "    #c = 0\n",
    "    for i in range(len(x)):\n",
    "        hx = w*x[i]\n",
    "        c = (hx - y[i])*x[i]## 미분한 결과 계수가 내려옴\n",
    "    return c/len(x)"
   ]
  },
  {
   "cell_type": "code",
   "execution_count": 66,
   "id": "e99f4e62",
   "metadata": {
    "ExecuteTime": {
     "end_time": "2021-12-21T00:31:39.317376Z",
     "start_time": "2021-12-21T00:31:39.302375Z"
    },
    "scrolled": true
   },
   "outputs": [
    {
     "data": {
      "text/plain": [
       "-6.0"
      ]
     },
     "execution_count": 66,
     "metadata": {},
     "output_type": "execute_result"
    }
   ],
   "source": [
    "gradient(x_data, y_data, -1)"
   ]
  },
  {
   "cell_type": "code",
   "execution_count": 67,
   "id": "3d777c79",
   "metadata": {
    "ExecuteTime": {
     "end_time": "2021-12-21T00:32:15.389012Z",
     "start_time": "2021-12-21T00:32:15.327001Z"
    }
   },
   "outputs": [
    {
     "name": "stdout",
     "output_type": "stream",
     "text": [
      "0 cost = 378.0 w=  7.3\n",
      "1 cost = 185.21999999999994 w=  5.41\n",
      "2 cost = 90.75780000000002 w=  4.087\n",
      "3 cost = 44.47132199999999 w=  3.1609\n",
      "4 cost = 21.790947779999996 w=  2.5126299999999997\n",
      "5 cost = 10.677564412199997 w=  2.0588409999999997\n",
      "6 cost = 5.232006561977998 w=  1.7411886999999997\n",
      "7 cost = 2.563683215369218 w=  1.5188320899999996\n",
      "8 cost = 1.2562047755309156 w=  1.3631824629999998\n",
      "9 cost = 0.6155403400101493 w=  1.2542277240999997\n",
      "10 cost = 0.3016147666049727 w=  1.17795940687\n",
      "11 cost = 0.14779123563643679 w=  1.1245715848089999\n",
      "12 cost = 0.07241770546185396 w=  1.0872001093663\n",
      "13 cost = 0.03548467567630844 w=  1.06104007655641\n",
      "14 cost = 0.01738749108139119 w=  1.0427280535894872\n",
      "15 cost = 0.00851987062988176 w=  1.029909637512641\n",
      "16 cost = 0.004174736608642086 w=  1.0209367462588488\n",
      "17 cost = 0.0020456209382346195 w=  1.014655722381194\n",
      "18 cost = 0.001002354259734945 w=  1.010259005666836\n",
      "19 cost = 0.0004911535872701325 w=  1.0071813039667852\n",
      "20 cost = 0.00024066525776236794 w=  1.0050269127767497\n",
      "21 cost = 0.00011792597630356446 w=  1.0035188389437248\n",
      "22 cost = 5.7783728388748045e-05 w=  1.0024631872606073\n",
      "23 cost = 2.8314026910484424e-05 w=  1.0017242310824253\n",
      "24 cost = 1.3873873186138926e-05 w=  1.0012069617576977\n",
      "25 cost = 6.7981978612091995e-06 w=  1.0008448732303885\n",
      "26 cost = 3.3311169519935836e-06 w=  1.000591411261272\n",
      "27 cost = 1.6322473064762865e-06 w=  1.0004139878828904\n",
      "28 cost = 7.998011801737789e-07 w=  1.0002897915180233\n",
      "29 cost = 3.9190257828537037e-07 w=  1.0002028540626162\n",
      "30 cost = 1.9203226335964832e-07 w=  1.0001419978438313\n",
      "31 cost = 9.409580904609525e-08 w=  1.0000993984906819\n",
      "32 cost = 4.6106946432545474e-08 w=  1.0000695789434773\n",
      "33 cost = 2.2592403751949344e-08 w=  1.000048705260434\n",
      "34 cost = 1.1070277838450131e-08 w=  1.0000340936823038\n",
      "35 cost = 5.424436140797161e-09 w=  1.0000238655776126\n",
      "36 cost = 2.6579737089725915e-09 w=  1.0000167059043288\n",
      "37 cost = 1.3024071173983007e-09 w=  1.0000116941330301\n",
      "38 cost = 6.381794875303607e-10 w=  1.0000081858931211\n",
      "39 cost = 3.1270794888902847e-10 w=  1.0000057301251848\n",
      "40 cost = 1.5322689495307929e-10 w=  1.0000040110876294\n",
      "41 cost = 7.508117853086829e-11 w=  1.0000028077613405\n",
      "42 cost = 3.678977747742385e-11 w=  1.0000019654329384\n",
      "43 cost = 1.8026990965828813e-11 w=  1.0000013758030568\n",
      "44 cost = 8.833225571973064e-12 w=  1.0000009630621398\n",
      "45 cost = 4.328280530665974e-12 w=  1.000000674143498\n",
      "46 cost = 2.1208574603057484e-12 w=  1.0000004719004485\n",
      "47 cost = 1.0392201553542217e-12 w=  1.000000330330314\n",
      "48 cost = 5.09217876113789e-13 w=  1.0000002312312197\n",
      "49 cost = 2.495167591211882e-13 w=  1.000000161861854\n",
      "50 cost = 1.2226321225930265e-13 w=  1.0000001133032976\n",
      "51 cost = 5.990897390474753e-14 w=  1.0000000793123083\n",
      "52 cost = 2.935539713936064e-14 w=  1.0000000555186157\n",
      "53 cost = 1.4384144576918857e-14 w=  1.000000038863031\n",
      "54 cost = 7.04823083866322e-15 w=  1.0000000272041216\n",
      "55 cost = 3.453633088393672e-15 w=  1.000000019042885\n",
      "56 cost = 1.6922801975269849e-15 w=  1.0000000133300195\n",
      "57 cost = 8.292172908685048e-16 w=  1.0000000093310137\n",
      "58 cost = 4.063164812275526e-16 w=  1.0000000065317096\n",
      "59 cost = 1.9909507870216253e-16 w=  1.0000000045721966\n",
      "60 cost = 9.755658037452472e-17 w=  1.0000000032005376\n",
      "61 cost = 4.780272471515943e-17 w=  1.0000000022403763\n",
      "62 cost = 2.342333511042812e-17 w=  1.0000000015682635\n",
      "63 cost = 1.1477434807698812e-17 w=  1.0000000010977845\n",
      "64 cost = 5.6239440795523235e-18 w=  1.000000000768449\n",
      "65 cost = 2.755731620702107e-18 w=  1.0000000005379144\n",
      "66 cost = 1.3503085339576936e-18 w=  1.0000000003765401\n",
      "67 cost = 6.616515327957812e-19 w=  1.000000000263578\n",
      "68 cost = 3.242091418212342e-19 w=  1.0000000001845046\n",
      "69 cost = 1.5886239755590415e-19 w=  1.0000000001291534\n",
      "70 cost = 7.784269142538554e-20 w=  1.0000000000904075\n",
      "71 cost = 3.814300043460883e-20 w=  1.0000000000632852\n",
      "72 cost = 1.8690022435734174e-20 w=  1.0000000000442997\n",
      "73 cost = 9.158152306776415e-21 w=  1.0000000000310099\n",
      "74 cost = 4.487520336420632e-21 w=  1.0000000000217069\n",
      "75 cost = 2.1988663279421428e-21 w=  1.0000000000151947\n",
      "76 cost = 1.077433029410153e-21 w=  1.0000000000106364\n",
      "77 cost = 5.279521037154658e-22 w=  1.0000000000074454\n",
      "78 cost = 2.5868705241948635e-22 w=  1.0000000000052118\n",
      "79 cost = 1.267615161236616e-22 w=  1.0000000000036482\n",
      "80 cost = 6.21101186340237e-23 w=  1.0000000000025537\n",
      "81 cost = 3.043509223326508e-23 w=  1.0000000000017877\n",
      "82 cost = 1.4912957035713488e-23 w=  1.0000000000012514\n",
      "83 cost = 7.308515978297685e-24 w=  1.000000000000876\n",
      "84 cost = 3.58119877039935e-24 w=  1.000000000000613\n",
      "85 cost = 1.754233727416397e-24 w=  1.0000000000004292\n",
      "86 cost = 8.598985692932626e-25 w=  1.0000000000003004\n",
      "87 cost = 4.213280621152027e-25 w=  1.0000000000002103\n",
      "88 cost = 2.0624842322713218e-25 w=  1.0000000000001472\n",
      "89 cost = 1.0107262270081802e-25 w=  1.000000000000103\n",
      "90 cost = 4.953625758971836e-26 w=  1.0000000000000722\n",
      "91 cost = 2.4334731900451196e-26 w=  1.0000000000000504\n",
      "92 cost = 1.1833653135413822e-26 w=  1.0000000000000353\n",
      "93 cost = 5.8011023163712074e-27 w=  1.0000000000000246\n",
      "94 cost = 2.8239412600671092e-27 w=  1.0000000000000173\n",
      "95 cost = 1.3998336763146854e-27 w=  1.0000000000000122\n",
      "96 cost = 6.905984187144195e-28 w=  1.0000000000000087\n",
      "97 cost = 3.46129156767911e-28 w=  1.000000000000006\n",
      "98 cost = 1.6508557901968883e-28 w=  1.0000000000000042\n",
      "99 cost = 8.12033694311879e-29 w=  1.0000000000000029\n",
      "100 cost = 4.018260235969529e-29 w=  1.000000000000002\n",
      "101 cost = 1.9540742006412146e-29 w=  1.0000000000000013\n",
      "102 cost = 8.283039504820624e-30 w=  1.0000000000000009\n",
      "103 cost = 3.681350891031389e-30 w=  1.0000000000000007\n",
      "104 cost = 1.791371638939381e-30 w=  1.0000000000000004\n",
      "105 cost = 9.203377227578472e-31 w=  1.0000000000000002\n",
      "106 cost = 3.4512664603419266e-31 w=  1.0000000000000002\n",
      "107 cost = 3.4512664603419266e-31 w=  1.0000000000000002\n",
      "108 cost = 3.4512664603419266e-31 w=  1.0000000000000002\n",
      "109 cost = 3.4512664603419266e-31 w=  1.0000000000000002\n",
      "110 cost = 3.4512664603419266e-31 w=  1.0000000000000002\n",
      "111 cost = 3.4512664603419266e-31 w=  1.0000000000000002\n",
      "112 cost = 3.4512664603419266e-31 w=  1.0000000000000002\n",
      "113 cost = 3.4512664603419266e-31 w=  1.0000000000000002\n",
      "114 cost = 3.4512664603419266e-31 w=  1.0000000000000002\n",
      "115 cost = 3.4512664603419266e-31 w=  1.0000000000000002\n",
      "116 cost = 3.4512664603419266e-31 w=  1.0000000000000002\n",
      "117 cost = 3.4512664603419266e-31 w=  1.0000000000000002\n",
      "118 cost = 3.4512664603419266e-31 w=  1.0000000000000002\n",
      "119 cost = 3.4512664603419266e-31 w=  1.0000000000000002\n",
      "120 cost = 3.4512664603419266e-31 w=  1.0000000000000002\n",
      "121 cost = 3.4512664603419266e-31 w=  1.0000000000000002\n",
      "122 cost = 3.4512664603419266e-31 w=  1.0000000000000002\n",
      "123 cost = 3.4512664603419266e-31 w=  1.0000000000000002\n",
      "124 cost = 3.4512664603419266e-31 w=  1.0000000000000002\n",
      "125 cost = 3.4512664603419266e-31 w=  1.0000000000000002\n",
      "126 cost = 3.4512664603419266e-31 w=  1.0000000000000002\n",
      "127 cost = 3.4512664603419266e-31 w=  1.0000000000000002\n",
      "128 cost = 3.4512664603419266e-31 w=  1.0000000000000002\n",
      "129 cost = 3.4512664603419266e-31 w=  1.0000000000000002\n",
      "130 cost = 3.4512664603419266e-31 w=  1.0000000000000002\n",
      "131 cost = 3.4512664603419266e-31 w=  1.0000000000000002\n",
      "132 cost = 3.4512664603419266e-31 w=  1.0000000000000002\n",
      "133 cost = 3.4512664603419266e-31 w=  1.0000000000000002\n",
      "134 cost = 3.4512664603419266e-31 w=  1.0000000000000002\n",
      "135 cost = 3.4512664603419266e-31 w=  1.0000000000000002\n",
      "136 cost = 3.4512664603419266e-31 w=  1.0000000000000002\n",
      "137 cost = 3.4512664603419266e-31 w=  1.0000000000000002\n",
      "138 cost = 3.4512664603419266e-31 w=  1.0000000000000002\n",
      "139 cost = 3.4512664603419266e-31 w=  1.0000000000000002\n",
      "140 cost = 3.4512664603419266e-31 w=  1.0000000000000002\n",
      "141 cost = 3.4512664603419266e-31 w=  1.0000000000000002\n",
      "142 cost = 3.4512664603419266e-31 w=  1.0000000000000002\n",
      "143 cost = 3.4512664603419266e-31 w=  1.0000000000000002\n",
      "144 cost = 3.4512664603419266e-31 w=  1.0000000000000002\n",
      "145 cost = 3.4512664603419266e-31 w=  1.0000000000000002\n",
      "146 cost = 3.4512664603419266e-31 w=  1.0000000000000002\n",
      "147 cost = 3.4512664603419266e-31 w=  1.0000000000000002\n",
      "148 cost = 3.4512664603419266e-31 w=  1.0000000000000002\n",
      "149 cost = 3.4512664603419266e-31 w=  1.0000000000000002\n",
      "150 cost = 3.4512664603419266e-31 w=  1.0000000000000002\n",
      "151 cost = 3.4512664603419266e-31 w=  1.0000000000000002\n",
      "152 cost = 3.4512664603419266e-31 w=  1.0000000000000002\n",
      "153 cost = 3.4512664603419266e-31 w=  1.0000000000000002\n",
      "154 cost = 3.4512664603419266e-31 w=  1.0000000000000002\n",
      "155 cost = 3.4512664603419266e-31 w=  1.0000000000000002\n",
      "156 cost = 3.4512664603419266e-31 w=  1.0000000000000002\n",
      "157 cost = 3.4512664603419266e-31 w=  1.0000000000000002\n",
      "158 cost = 3.4512664603419266e-31 w=  1.0000000000000002\n",
      "159 cost = 3.4512664603419266e-31 w=  1.0000000000000002\n",
      "160 cost = 3.4512664603419266e-31 w=  1.0000000000000002\n",
      "161 cost = 3.4512664603419266e-31 w=  1.0000000000000002\n",
      "162 cost = 3.4512664603419266e-31 w=  1.0000000000000002\n",
      "163 cost = 3.4512664603419266e-31 w=  1.0000000000000002\n",
      "164 cost = 3.4512664603419266e-31 w=  1.0000000000000002\n",
      "165 cost = 3.4512664603419266e-31 w=  1.0000000000000002\n",
      "166 cost = 3.4512664603419266e-31 w=  1.0000000000000002\n",
      "167 cost = 3.4512664603419266e-31 w=  1.0000000000000002\n",
      "168 cost = 3.4512664603419266e-31 w=  1.0000000000000002\n",
      "169 cost = 3.4512664603419266e-31 w=  1.0000000000000002\n",
      "170 cost = 3.4512664603419266e-31 w=  1.0000000000000002\n",
      "171 cost = 3.4512664603419266e-31 w=  1.0000000000000002\n",
      "172 cost = 3.4512664603419266e-31 w=  1.0000000000000002\n",
      "173 cost = 3.4512664603419266e-31 w=  1.0000000000000002\n",
      "174 cost = 3.4512664603419266e-31 w=  1.0000000000000002\n",
      "175 cost = 3.4512664603419266e-31 w=  1.0000000000000002\n",
      "176 cost = 3.4512664603419266e-31 w=  1.0000000000000002\n",
      "177 cost = 3.4512664603419266e-31 w=  1.0000000000000002\n",
      "178 cost = 3.4512664603419266e-31 w=  1.0000000000000002\n",
      "179 cost = 3.4512664603419266e-31 w=  1.0000000000000002\n",
      "180 cost = 3.4512664603419266e-31 w=  1.0000000000000002\n",
      "181 cost = 3.4512664603419266e-31 w=  1.0000000000000002\n",
      "182 cost = 3.4512664603419266e-31 w=  1.0000000000000002\n",
      "183 cost = 3.4512664603419266e-31 w=  1.0000000000000002\n",
      "184 cost = 3.4512664603419266e-31 w=  1.0000000000000002\n",
      "185 cost = 3.4512664603419266e-31 w=  1.0000000000000002\n",
      "186 cost = 3.4512664603419266e-31 w=  1.0000000000000002\n",
      "187 cost = 3.4512664603419266e-31 w=  1.0000000000000002\n",
      "188 cost = 3.4512664603419266e-31 w=  1.0000000000000002\n",
      "189 cost = 3.4512664603419266e-31 w=  1.0000000000000002\n",
      "190 cost = 3.4512664603419266e-31 w=  1.0000000000000002\n",
      "191 cost = 3.4512664603419266e-31 w=  1.0000000000000002\n",
      "192 cost = 3.4512664603419266e-31 w=  1.0000000000000002\n",
      "193 cost = 3.4512664603419266e-31 w=  1.0000000000000002\n",
      "194 cost = 3.4512664603419266e-31 w=  1.0000000000000002\n",
      "195 cost = 3.4512664603419266e-31 w=  1.0000000000000002\n",
      "196 cost = 3.4512664603419266e-31 w=  1.0000000000000002\n",
      "197 cost = 3.4512664603419266e-31 w=  1.0000000000000002\n",
      "198 cost = 3.4512664603419266e-31 w=  1.0000000000000002\n",
      "199 cost = 3.4512664603419266e-31 w=  1.0000000000000002\n"
     ]
    }
   ],
   "source": [
    "w = 10\n",
    "for epoch in range(200):\n",
    "    c = cost(x_data, y_data, w)\n",
    "    g = gradient(x_data, y_data, w)\n",
    "    w = w - 0.1 * g\n",
    "    print(epoch, \"cost =\", c , \"w= \", w)"
   ]
  },
  {
   "cell_type": "markdown",
   "id": "1edb4060",
   "metadata": {},
   "source": []
  },
  {
   "cell_type": "code",
   "execution_count": 68,
   "id": "c790c2f0",
   "metadata": {
    "ExecuteTime": {
     "end_time": "2021-12-21T00:32:28.119346Z",
     "start_time": "2021-12-21T00:32:28.106343Z"
    }
   },
   "outputs": [],
   "source": [
    "def gradient(x, y, w):\n",
    "    #c = 0\n",
    "    x_vec = np.array(x)\n",
    "    y_vec = np.array(y)\n",
    "    w = np.array(w)\n",
    "    yh = w*x_vec\n",
    "    c = np.sum((yh - y_vec)*x_vec)## 미분한 결과 계수가 내려옴\n",
    "    return c/len(x)\n"
   ]
  },
  {
   "cell_type": "code",
   "execution_count": 70,
   "id": "c35a5011",
   "metadata": {
    "ExecuteTime": {
     "end_time": "2021-12-21T00:32:35.134519Z",
     "start_time": "2021-12-21T00:32:35.117503Z"
    }
   },
   "outputs": [],
   "source": [
    "def gradient( x, y , w):\n",
    "    c = np.sum( (w*x-y)*x  )\n",
    "    return c/len(x)"
   ]
  },
  {
   "cell_type": "code",
   "execution_count": 71,
   "id": "68bf4ae1",
   "metadata": {
    "ExecuteTime": {
     "end_time": "2021-12-21T00:32:35.479966Z",
     "start_time": "2021-12-21T00:32:35.465964Z"
    }
   },
   "outputs": [
    {
     "data": {
      "text/plain": [
       "-9.333333333333334"
      ]
     },
     "execution_count": 71,
     "metadata": {},
     "output_type": "execute_result"
    }
   ],
   "source": [
    "gradient(x_data,y_data, -1)"
   ]
  },
  {
   "cell_type": "code",
   "execution_count": 72,
   "id": "3ce14279",
   "metadata": {
    "ExecuteTime": {
     "end_time": "2021-12-21T00:32:38.863914Z",
     "start_time": "2021-12-21T00:32:38.791899Z"
    }
   },
   "outputs": [
    {
     "name": "stdout",
     "output_type": "stream",
     "text": [
      "0 cost = 378.0 w=  5.8\n",
      "1 cost = 107.51999999999998 w=  3.56\n",
      "2 cost = 30.583466666666666 w=  2.365333333333333\n",
      "3 cost = 8.69929718518518 w=  1.7281777777777778\n",
      "4 cost = 2.47446675489712 w=  1.3883614814814815\n",
      "5 cost = 0.7038483213929583 w=  1.2071261234567903\n",
      "6 cost = 0.2002057447517751 w=  1.1104672658436214\n",
      "7 cost = 0.05694741184050483 w=  1.0589158751165981\n",
      "8 cost = 0.016198374923521403 w=  1.0314218000621858\n",
      "9 cost = 0.004607537756023892 w=  1.0167582933664991\n",
      "10 cost = 0.0013105885172690224 w=  1.008937756462133\n",
      "11 cost = 0.0003727896226898598 w=  1.004766803446471\n",
      "12 cost = 0.0001060379371206724 w=  1.002542295171451\n",
      "13 cost = 3.0161902114324568e-05 w=  1.0013558907581073\n",
      "14 cost = 8.579385490296031e-06 w=  1.0007231417376572\n",
      "15 cost = 2.4403585394623746e-06 w=  1.000385675593417\n",
      "16 cost = 6.941464290019953e-07 w=  1.0002056936498225\n",
      "17 cost = 1.9744609536079287e-07 w=  1.0001097032799053\n",
      "18 cost = 5.616244490256599e-08 w=  1.0000585084159495\n",
      "19 cost = 1.597509543893363e-08 w=  1.0000312044885065\n",
      "20 cost = 4.544027147100321e-09 w=  1.0000166423938701\n",
      "21 cost = 1.292523277397425e-09 w=  1.0000088759433974\n",
      "22 cost = 3.6765106557353845e-10 w=  1.0000047338364786\n",
      "23 cost = 1.0457630309680019e-10 w=  1.0000025247127886\n",
      "24 cost = 2.974614843652282e-11 w=  1.0000013465134872\n",
      "25 cost = 8.461126664488492e-12 w=  1.0000007181405266\n",
      "26 cost = 2.4067204744183466e-12 w=  1.0000003830082809\n",
      "27 cost = 6.845782681618235e-13 w=  1.0000002042710832\n",
      "28 cost = 1.9472448527085553e-13 w=  1.0000001089445776\n",
      "29 cost = 5.538829787885448e-14 w=  1.0000000581037747\n",
      "30 cost = 1.575489361658054e-14 w=  1.0000000309886798\n",
      "31 cost = 4.481391952569267e-15 w=  1.000000016527296\n",
      "32 cost = 1.2747070573345361e-15 w=  1.0000000088145578\n",
      "33 cost = 3.6258332831368247e-16 w=  1.0000000047010975\n",
      "34 cost = 1.0313481853667948e-16 w=  1.000000002507252\n",
      "35 cost = 2.933612341505031e-17 w=  1.000000001337201\n",
      "36 cost = 8.344497274162171e-18 w=  1.000000000713174\n",
      "37 cost = 2.3735464825145457e-18 w=  1.0000000003803595\n",
      "38 cost = 6.751422044227725e-19 w=  1.0000000002028584\n",
      "39 cost = 1.920405593646558e-19 w=  1.0000000001081912\n",
      "40 cost = 5.462493428133877e-20 w=  1.000000000057702\n",
      "41 cost = 1.5537773320496455e-20 w=  1.0000000000307745\n",
      "42 cost = 4.419657596231936e-21 w=  1.000000000016413\n",
      "43 cost = 1.2571515848923574e-21 w=  1.0000000000087537\n",
      "44 cost = 3.5758710617043957e-22 w=  1.0000000000046687\n",
      "45 cost = 1.0171864166944069e-22 w=  1.00000000000249\n",
      "46 cost = 2.8933990559698716e-23 w=  1.000000000001328\n",
      "47 cost = 8.231253103671774e-24 w=  1.0000000000007083\n",
      "48 cost = 2.341362175139032e-24 w=  1.0000000000003777\n",
      "49 cost = 6.658942698258942e-25 w=  1.0000000000002014\n",
      "50 cost = 1.891893061517278e-25 w=  1.0000000000001075\n",
      "51 cost = 5.389865839559056e-26 w=  1.0000000000000573\n",
      "52 cost = 1.5315340044413334e-26 w=  1.0000000000000306\n",
      "53 cost = 4.38172789805011e-27 w=  1.0000000000000164\n",
      "54 cost = 1.2599423424554927e-27 w=  1.0000000000000087\n",
      "55 cost = 3.46129156767911e-28 w=  1.0000000000000047\n",
      "56 cost = 1.0355442841244991e-28 w=  1.0000000000000024\n",
      "57 cost = 2.677196697093809e-29 w=  1.0000000000000013\n",
      "58 cost = 8.283039504820624e-30 w=  1.0000000000000007\n",
      "59 cost = 1.791371638939381e-30 w=  1.0000000000000004\n",
      "60 cost = 9.203377227578472e-31 w=  1.0000000000000002\n",
      "61 cost = 3.4512664603419266e-31 w=  1.0\n",
      "62 cost = 0.0 w=  1.0\n",
      "63 cost = 0.0 w=  1.0\n",
      "64 cost = 0.0 w=  1.0\n",
      "65 cost = 0.0 w=  1.0\n",
      "66 cost = 0.0 w=  1.0\n",
      "67 cost = 0.0 w=  1.0\n",
      "68 cost = 0.0 w=  1.0\n",
      "69 cost = 0.0 w=  1.0\n",
      "70 cost = 0.0 w=  1.0\n",
      "71 cost = 0.0 w=  1.0\n",
      "72 cost = 0.0 w=  1.0\n",
      "73 cost = 0.0 w=  1.0\n",
      "74 cost = 0.0 w=  1.0\n",
      "75 cost = 0.0 w=  1.0\n",
      "76 cost = 0.0 w=  1.0\n",
      "77 cost = 0.0 w=  1.0\n",
      "78 cost = 0.0 w=  1.0\n",
      "79 cost = 0.0 w=  1.0\n",
      "80 cost = 0.0 w=  1.0\n",
      "81 cost = 0.0 w=  1.0\n",
      "82 cost = 0.0 w=  1.0\n",
      "83 cost = 0.0 w=  1.0\n",
      "84 cost = 0.0 w=  1.0\n",
      "85 cost = 0.0 w=  1.0\n",
      "86 cost = 0.0 w=  1.0\n",
      "87 cost = 0.0 w=  1.0\n",
      "88 cost = 0.0 w=  1.0\n",
      "89 cost = 0.0 w=  1.0\n",
      "90 cost = 0.0 w=  1.0\n",
      "91 cost = 0.0 w=  1.0\n",
      "92 cost = 0.0 w=  1.0\n",
      "93 cost = 0.0 w=  1.0\n",
      "94 cost = 0.0 w=  1.0\n",
      "95 cost = 0.0 w=  1.0\n",
      "96 cost = 0.0 w=  1.0\n",
      "97 cost = 0.0 w=  1.0\n",
      "98 cost = 0.0 w=  1.0\n",
      "99 cost = 0.0 w=  1.0\n",
      "100 cost = 0.0 w=  1.0\n",
      "101 cost = 0.0 w=  1.0\n",
      "102 cost = 0.0 w=  1.0\n",
      "103 cost = 0.0 w=  1.0\n",
      "104 cost = 0.0 w=  1.0\n",
      "105 cost = 0.0 w=  1.0\n",
      "106 cost = 0.0 w=  1.0\n",
      "107 cost = 0.0 w=  1.0\n",
      "108 cost = 0.0 w=  1.0\n",
      "109 cost = 0.0 w=  1.0\n",
      "110 cost = 0.0 w=  1.0\n",
      "111 cost = 0.0 w=  1.0\n",
      "112 cost = 0.0 w=  1.0\n",
      "113 cost = 0.0 w=  1.0\n",
      "114 cost = 0.0 w=  1.0\n",
      "115 cost = 0.0 w=  1.0\n",
      "116 cost = 0.0 w=  1.0\n",
      "117 cost = 0.0 w=  1.0\n",
      "118 cost = 0.0 w=  1.0\n",
      "119 cost = 0.0 w=  1.0\n",
      "120 cost = 0.0 w=  1.0\n",
      "121 cost = 0.0 w=  1.0\n",
      "122 cost = 0.0 w=  1.0\n",
      "123 cost = 0.0 w=  1.0\n",
      "124 cost = 0.0 w=  1.0\n",
      "125 cost = 0.0 w=  1.0\n",
      "126 cost = 0.0 w=  1.0\n",
      "127 cost = 0.0 w=  1.0\n",
      "128 cost = 0.0 w=  1.0\n",
      "129 cost = 0.0 w=  1.0\n",
      "130 cost = 0.0 w=  1.0\n",
      "131 cost = 0.0 w=  1.0\n",
      "132 cost = 0.0 w=  1.0\n",
      "133 cost = 0.0 w=  1.0\n",
      "134 cost = 0.0 w=  1.0\n",
      "135 cost = 0.0 w=  1.0\n",
      "136 cost = 0.0 w=  1.0\n",
      "137 cost = 0.0 w=  1.0\n",
      "138 cost = 0.0 w=  1.0\n",
      "139 cost = 0.0 w=  1.0\n",
      "140 cost = 0.0 w=  1.0\n",
      "141 cost = 0.0 w=  1.0\n",
      "142 cost = 0.0 w=  1.0\n",
      "143 cost = 0.0 w=  1.0\n",
      "144 cost = 0.0 w=  1.0\n",
      "145 cost = 0.0 w=  1.0\n",
      "146 cost = 0.0 w=  1.0\n",
      "147 cost = 0.0 w=  1.0\n",
      "148 cost = 0.0 w=  1.0\n",
      "149 cost = 0.0 w=  1.0\n",
      "150 cost = 0.0 w=  1.0\n",
      "151 cost = 0.0 w=  1.0\n",
      "152 cost = 0.0 w=  1.0\n",
      "153 cost = 0.0 w=  1.0\n",
      "154 cost = 0.0 w=  1.0\n",
      "155 cost = 0.0 w=  1.0\n",
      "156 cost = 0.0 w=  1.0\n",
      "157 cost = 0.0 w=  1.0\n",
      "158 cost = 0.0 w=  1.0\n",
      "159 cost = 0.0 w=  1.0\n",
      "160 cost = 0.0 w=  1.0\n",
      "161 cost = 0.0 w=  1.0\n",
      "162 cost = 0.0 w=  1.0\n",
      "163 cost = 0.0 w=  1.0\n",
      "164 cost = 0.0 w=  1.0\n",
      "165 cost = 0.0 w=  1.0\n",
      "166 cost = 0.0 w=  1.0\n",
      "167 cost = 0.0 w=  1.0\n",
      "168 cost = 0.0 w=  1.0\n",
      "169 cost = 0.0 w=  1.0\n",
      "170 cost = 0.0 w=  1.0\n",
      "171 cost = 0.0 w=  1.0\n",
      "172 cost = 0.0 w=  1.0\n",
      "173 cost = 0.0 w=  1.0\n",
      "174 cost = 0.0 w=  1.0\n",
      "175 cost = 0.0 w=  1.0\n",
      "176 cost = 0.0 w=  1.0\n",
      "177 cost = 0.0 w=  1.0\n",
      "178 cost = 0.0 w=  1.0\n",
      "179 cost = 0.0 w=  1.0\n",
      "180 cost = 0.0 w=  1.0\n",
      "181 cost = 0.0 w=  1.0\n",
      "182 cost = 0.0 w=  1.0\n",
      "183 cost = 0.0 w=  1.0\n",
      "184 cost = 0.0 w=  1.0\n",
      "185 cost = 0.0 w=  1.0\n",
      "186 cost = 0.0 w=  1.0\n",
      "187 cost = 0.0 w=  1.0\n",
      "188 cost = 0.0 w=  1.0\n",
      "189 cost = 0.0 w=  1.0\n",
      "190 cost = 0.0 w=  1.0\n",
      "191 cost = 0.0 w=  1.0\n",
      "192 cost = 0.0 w=  1.0\n",
      "193 cost = 0.0 w=  1.0\n",
      "194 cost = 0.0 w=  1.0\n",
      "195 cost = 0.0 w=  1.0\n",
      "196 cost = 0.0 w=  1.0\n",
      "197 cost = 0.0 w=  1.0\n",
      "198 cost = 0.0 w=  1.0\n",
      "199 cost = 0.0 w=  1.0\n"
     ]
    }
   ],
   "source": [
    "w = 10\n",
    "for epoch in range(200):\n",
    "    c = cost(x_data, y_data, w)\n",
    "    g = gradient(x_data, y_data, w)\n",
    "    w = w - 0.1 * g\n",
    "    print(epoch, \"cost =\", c , \"w= \", w)\n",
    "    "
   ]
  },
  {
   "cell_type": "code",
   "execution_count": 74,
   "id": "be1272b1",
   "metadata": {
    "ExecuteTime": {
     "end_time": "2021-12-21T00:32:52.597720Z",
     "start_time": "2021-12-21T00:32:52.590710Z"
    }
   },
   "outputs": [],
   "source": [
    "epochs = 1000"
   ]
  },
  {
   "cell_type": "code",
   "execution_count": 75,
   "id": "bc529e99",
   "metadata": {
    "ExecuteTime": {
     "end_time": "2021-12-21T00:32:52.912814Z",
     "start_time": "2021-12-21T00:32:52.867805Z"
    }
   },
   "outputs": [
    {
     "ename": "InvalidArgumentError",
     "evalue": "Incompatible shapes: [5] vs. [3] [Op:AddV2]",
     "output_type": "error",
     "traceback": [
      "\u001b[1;31m---------------------------------------------------------------------------\u001b[0m",
      "\u001b[1;31mInvalidArgumentError\u001b[0m                      Traceback (most recent call last)",
      "\u001b[1;32m<ipython-input-75-e8fcf686748e>\u001b[0m in \u001b[0;36m<module>\u001b[1;34m\u001b[0m\n\u001b[0;32m      1\u001b[0m \u001b[1;32mfor\u001b[0m \u001b[0mi\u001b[0m \u001b[1;32min\u001b[0m \u001b[0mrange\u001b[0m\u001b[1;33m(\u001b[0m \u001b[0mepochs\u001b[0m \u001b[1;33m)\u001b[0m\u001b[1;33m:\u001b[0m\u001b[1;33m\u001b[0m\u001b[1;33m\u001b[0m\u001b[0m\n\u001b[1;32m----> 2\u001b[1;33m     \u001b[0mhy\u001b[0m \u001b[1;33m=\u001b[0m \u001b[0mw\u001b[0m \u001b[1;33m*\u001b[0m \u001b[0mx\u001b[0m \u001b[1;33m+\u001b[0m \u001b[0mb\u001b[0m\u001b[1;33m\u001b[0m\u001b[1;33m\u001b[0m\u001b[0m\n\u001b[0m\u001b[0;32m      3\u001b[0m     \u001b[0mcost\u001b[0m \u001b[1;33m=\u001b[0m \u001b[0mnp\u001b[0m\u001b[1;33m.\u001b[0m\u001b[0msum\u001b[0m\u001b[1;33m(\u001b[0m \u001b[1;33m(\u001b[0m \u001b[0mhy\u001b[0m \u001b[1;33m-\u001b[0m \u001b[0my\u001b[0m \u001b[1;33m)\u001b[0m \u001b[1;33m**\u001b[0m \u001b[1;36m2\u001b[0m\u001b[1;33m)\u001b[0m \u001b[1;33m/\u001b[0m \u001b[0mn\u001b[0m\u001b[1;33m\u001b[0m\u001b[1;33m\u001b[0m\u001b[0m\n\u001b[0;32m      4\u001b[0m     \u001b[0mgradientW\u001b[0m \u001b[1;33m=\u001b[0m \u001b[0mnp\u001b[0m\u001b[1;33m.\u001b[0m\u001b[0msum\u001b[0m\u001b[1;33m(\u001b[0m\u001b[1;33m(\u001b[0m\u001b[0mw\u001b[0m \u001b[1;33m*\u001b[0m \u001b[0mx\u001b[0m \u001b[1;33m+\u001b[0m \u001b[0mb\u001b[0m \u001b[1;33m-\u001b[0m \u001b[0my\u001b[0m \u001b[1;33m)\u001b[0m \u001b[1;33m*\u001b[0m \u001b[1;36m2\u001b[0m \u001b[1;33m*\u001b[0m \u001b[0mx\u001b[0m\u001b[1;33m)\u001b[0m\u001b[1;33m/\u001b[0m\u001b[0mn\u001b[0m\u001b[1;33m\u001b[0m\u001b[1;33m\u001b[0m\u001b[0m\n\u001b[0;32m      5\u001b[0m     \u001b[0mgradientB\u001b[0m \u001b[1;33m=\u001b[0m \u001b[0mnp\u001b[0m\u001b[1;33m.\u001b[0m\u001b[0msum\u001b[0m\u001b[1;33m(\u001b[0m \u001b[1;33m(\u001b[0m\u001b[0mw\u001b[0m \u001b[1;33m*\u001b[0m \u001b[0mx\u001b[0m \u001b[1;33m+\u001b[0m \u001b[0mb\u001b[0m \u001b[1;33m-\u001b[0m \u001b[0my\u001b[0m \u001b[1;33m)\u001b[0m \u001b[1;33m*\u001b[0m \u001b[1;36m2\u001b[0m\u001b[1;33m)\u001b[0m\u001b[1;33m/\u001b[0m\u001b[0mn\u001b[0m\u001b[1;33m\u001b[0m\u001b[1;33m\u001b[0m\u001b[0m\n",
      "\u001b[1;32m~\\anaconda3\\lib\\site-packages\\tensorflow\\python\\ops\\math_ops.py\u001b[0m in \u001b[0;36mr_binary_op_wrapper\u001b[1;34m(y, x)\u001b[0m\n\u001b[0;32m   1154\u001b[0m     \u001b[1;32mwith\u001b[0m \u001b[0mops\u001b[0m\u001b[1;33m.\u001b[0m\u001b[0mname_scope\u001b[0m\u001b[1;33m(\u001b[0m\u001b[1;32mNone\u001b[0m\u001b[1;33m,\u001b[0m \u001b[0mop_name\u001b[0m\u001b[1;33m,\u001b[0m \u001b[1;33m[\u001b[0m\u001b[0mx\u001b[0m\u001b[1;33m,\u001b[0m \u001b[0my\u001b[0m\u001b[1;33m]\u001b[0m\u001b[1;33m)\u001b[0m \u001b[1;32mas\u001b[0m \u001b[0mname\u001b[0m\u001b[1;33m:\u001b[0m\u001b[1;33m\u001b[0m\u001b[1;33m\u001b[0m\u001b[0m\n\u001b[0;32m   1155\u001b[0m       \u001b[0mx\u001b[0m \u001b[1;33m=\u001b[0m \u001b[0mops\u001b[0m\u001b[1;33m.\u001b[0m\u001b[0mconvert_to_tensor\u001b[0m\u001b[1;33m(\u001b[0m\u001b[0mx\u001b[0m\u001b[1;33m,\u001b[0m \u001b[0mdtype\u001b[0m\u001b[1;33m=\u001b[0m\u001b[0my\u001b[0m\u001b[1;33m.\u001b[0m\u001b[0mdtype\u001b[0m\u001b[1;33m.\u001b[0m\u001b[0mbase_dtype\u001b[0m\u001b[1;33m,\u001b[0m \u001b[0mname\u001b[0m\u001b[1;33m=\u001b[0m\u001b[1;34m\"x\"\u001b[0m\u001b[1;33m)\u001b[0m\u001b[1;33m\u001b[0m\u001b[1;33m\u001b[0m\u001b[0m\n\u001b[1;32m-> 1156\u001b[1;33m       \u001b[1;32mreturn\u001b[0m \u001b[0mfunc\u001b[0m\u001b[1;33m(\u001b[0m\u001b[0mx\u001b[0m\u001b[1;33m,\u001b[0m \u001b[0my\u001b[0m\u001b[1;33m,\u001b[0m \u001b[0mname\u001b[0m\u001b[1;33m=\u001b[0m\u001b[0mname\u001b[0m\u001b[1;33m)\u001b[0m\u001b[1;33m\u001b[0m\u001b[1;33m\u001b[0m\u001b[0m\n\u001b[0m\u001b[0;32m   1157\u001b[0m \u001b[1;33m\u001b[0m\u001b[0m\n\u001b[0;32m   1158\u001b[0m   \u001b[1;31m# Propagate func.__doc__ to the wrappers\u001b[0m\u001b[1;33m\u001b[0m\u001b[1;33m\u001b[0m\u001b[1;33m\u001b[0m\u001b[0m\n",
      "\u001b[1;32m~\\anaconda3\\lib\\site-packages\\tensorflow\\python\\util\\dispatch.py\u001b[0m in \u001b[0;36mwrapper\u001b[1;34m(*args, **kwargs)\u001b[0m\n\u001b[0;32m    199\u001b[0m     \u001b[1;34m\"\"\"Call target, and fall back on dispatchers if there is a TypeError.\"\"\"\u001b[0m\u001b[1;33m\u001b[0m\u001b[1;33m\u001b[0m\u001b[0m\n\u001b[0;32m    200\u001b[0m     \u001b[1;32mtry\u001b[0m\u001b[1;33m:\u001b[0m\u001b[1;33m\u001b[0m\u001b[1;33m\u001b[0m\u001b[0m\n\u001b[1;32m--> 201\u001b[1;33m       \u001b[1;32mreturn\u001b[0m \u001b[0mtarget\u001b[0m\u001b[1;33m(\u001b[0m\u001b[1;33m*\u001b[0m\u001b[0margs\u001b[0m\u001b[1;33m,\u001b[0m \u001b[1;33m**\u001b[0m\u001b[0mkwargs\u001b[0m\u001b[1;33m)\u001b[0m\u001b[1;33m\u001b[0m\u001b[1;33m\u001b[0m\u001b[0m\n\u001b[0m\u001b[0;32m    202\u001b[0m     \u001b[1;32mexcept\u001b[0m \u001b[1;33m(\u001b[0m\u001b[0mTypeError\u001b[0m\u001b[1;33m,\u001b[0m \u001b[0mValueError\u001b[0m\u001b[1;33m)\u001b[0m\u001b[1;33m:\u001b[0m\u001b[1;33m\u001b[0m\u001b[1;33m\u001b[0m\u001b[0m\n\u001b[0;32m    203\u001b[0m       \u001b[1;31m# Note: convert_to_eager_tensor currently raises a ValueError, not a\u001b[0m\u001b[1;33m\u001b[0m\u001b[1;33m\u001b[0m\u001b[1;33m\u001b[0m\u001b[0m\n",
      "\u001b[1;32m~\\anaconda3\\lib\\site-packages\\tensorflow\\python\\ops\\math_ops.py\u001b[0m in \u001b[0;36m_add_dispatch\u001b[1;34m(x, y, name)\u001b[0m\n\u001b[0;32m   1445\u001b[0m     \u001b[1;32mreturn\u001b[0m \u001b[0mgen_math_ops\u001b[0m\u001b[1;33m.\u001b[0m\u001b[0madd\u001b[0m\u001b[1;33m(\u001b[0m\u001b[0mx\u001b[0m\u001b[1;33m,\u001b[0m \u001b[0my\u001b[0m\u001b[1;33m,\u001b[0m \u001b[0mname\u001b[0m\u001b[1;33m=\u001b[0m\u001b[0mname\u001b[0m\u001b[1;33m)\u001b[0m\u001b[1;33m\u001b[0m\u001b[1;33m\u001b[0m\u001b[0m\n\u001b[0;32m   1446\u001b[0m   \u001b[1;32melse\u001b[0m\u001b[1;33m:\u001b[0m\u001b[1;33m\u001b[0m\u001b[1;33m\u001b[0m\u001b[0m\n\u001b[1;32m-> 1447\u001b[1;33m     \u001b[1;32mreturn\u001b[0m \u001b[0mgen_math_ops\u001b[0m\u001b[1;33m.\u001b[0m\u001b[0madd_v2\u001b[0m\u001b[1;33m(\u001b[0m\u001b[0mx\u001b[0m\u001b[1;33m,\u001b[0m \u001b[0my\u001b[0m\u001b[1;33m,\u001b[0m \u001b[0mname\u001b[0m\u001b[1;33m=\u001b[0m\u001b[0mname\u001b[0m\u001b[1;33m)\u001b[0m\u001b[1;33m\u001b[0m\u001b[1;33m\u001b[0m\u001b[0m\n\u001b[0m\u001b[0;32m   1448\u001b[0m \u001b[1;33m\u001b[0m\u001b[0m\n\u001b[0;32m   1449\u001b[0m \u001b[1;33m\u001b[0m\u001b[0m\n",
      "\u001b[1;32m~\\anaconda3\\lib\\site-packages\\tensorflow\\python\\ops\\gen_math_ops.py\u001b[0m in \u001b[0;36madd_v2\u001b[1;34m(x, y, name)\u001b[0m\n\u001b[0;32m    483\u001b[0m       \u001b[1;32mreturn\u001b[0m \u001b[0m_result\u001b[0m\u001b[1;33m\u001b[0m\u001b[1;33m\u001b[0m\u001b[0m\n\u001b[0;32m    484\u001b[0m     \u001b[1;32mexcept\u001b[0m \u001b[0m_core\u001b[0m\u001b[1;33m.\u001b[0m\u001b[0m_NotOkStatusException\u001b[0m \u001b[1;32mas\u001b[0m \u001b[0me\u001b[0m\u001b[1;33m:\u001b[0m\u001b[1;33m\u001b[0m\u001b[1;33m\u001b[0m\u001b[0m\n\u001b[1;32m--> 485\u001b[1;33m       \u001b[0m_ops\u001b[0m\u001b[1;33m.\u001b[0m\u001b[0mraise_from_not_ok_status\u001b[0m\u001b[1;33m(\u001b[0m\u001b[0me\u001b[0m\u001b[1;33m,\u001b[0m \u001b[0mname\u001b[0m\u001b[1;33m)\u001b[0m\u001b[1;33m\u001b[0m\u001b[1;33m\u001b[0m\u001b[0m\n\u001b[0m\u001b[0;32m    486\u001b[0m     \u001b[1;32mexcept\u001b[0m \u001b[0m_core\u001b[0m\u001b[1;33m.\u001b[0m\u001b[0m_FallbackException\u001b[0m\u001b[1;33m:\u001b[0m\u001b[1;33m\u001b[0m\u001b[1;33m\u001b[0m\u001b[0m\n\u001b[0;32m    487\u001b[0m       \u001b[1;32mpass\u001b[0m\u001b[1;33m\u001b[0m\u001b[1;33m\u001b[0m\u001b[0m\n",
      "\u001b[1;32m~\\anaconda3\\lib\\site-packages\\tensorflow\\python\\framework\\ops.py\u001b[0m in \u001b[0;36mraise_from_not_ok_status\u001b[1;34m(e, name)\u001b[0m\n\u001b[0;32m   6841\u001b[0m   \u001b[0mmessage\u001b[0m \u001b[1;33m=\u001b[0m \u001b[0me\u001b[0m\u001b[1;33m.\u001b[0m\u001b[0mmessage\u001b[0m \u001b[1;33m+\u001b[0m \u001b[1;33m(\u001b[0m\u001b[1;34m\" name: \"\u001b[0m \u001b[1;33m+\u001b[0m \u001b[0mname\u001b[0m \u001b[1;32mif\u001b[0m \u001b[0mname\u001b[0m \u001b[1;32mis\u001b[0m \u001b[1;32mnot\u001b[0m \u001b[1;32mNone\u001b[0m \u001b[1;32melse\u001b[0m \u001b[1;34m\"\"\u001b[0m\u001b[1;33m)\u001b[0m\u001b[1;33m\u001b[0m\u001b[1;33m\u001b[0m\u001b[0m\n\u001b[0;32m   6842\u001b[0m   \u001b[1;31m# pylint: disable=protected-access\u001b[0m\u001b[1;33m\u001b[0m\u001b[1;33m\u001b[0m\u001b[1;33m\u001b[0m\u001b[0m\n\u001b[1;32m-> 6843\u001b[1;33m   \u001b[0msix\u001b[0m\u001b[1;33m.\u001b[0m\u001b[0mraise_from\u001b[0m\u001b[1;33m(\u001b[0m\u001b[0mcore\u001b[0m\u001b[1;33m.\u001b[0m\u001b[0m_status_to_exception\u001b[0m\u001b[1;33m(\u001b[0m\u001b[0me\u001b[0m\u001b[1;33m.\u001b[0m\u001b[0mcode\u001b[0m\u001b[1;33m,\u001b[0m \u001b[0mmessage\u001b[0m\u001b[1;33m)\u001b[0m\u001b[1;33m,\u001b[0m \u001b[1;32mNone\u001b[0m\u001b[1;33m)\u001b[0m\u001b[1;33m\u001b[0m\u001b[1;33m\u001b[0m\u001b[0m\n\u001b[0m\u001b[0;32m   6844\u001b[0m   \u001b[1;31m# pylint: enable=protected-access\u001b[0m\u001b[1;33m\u001b[0m\u001b[1;33m\u001b[0m\u001b[1;33m\u001b[0m\u001b[0m\n\u001b[0;32m   6845\u001b[0m \u001b[1;33m\u001b[0m\u001b[0m\n",
      "\u001b[1;32m~\\anaconda3\\lib\\site-packages\\six.py\u001b[0m in \u001b[0;36mraise_from\u001b[1;34m(value, from_value)\u001b[0m\n",
      "\u001b[1;31mInvalidArgumentError\u001b[0m: Incompatible shapes: [5] vs. [3] [Op:AddV2]"
     ]
    }
   ],
   "source": [
    "for i in range( epochs ):\n",
    "    hy = w * x + b\n",
    "    cost = np.sum( ( hy - y ) ** 2) / n\n",
    "    gradientW = np.sum((w * x + b - y ) * 2 * x)/n\n",
    "    gradientB = np.sum( (w * x + b - y ) * 2)/n\n",
    "    w = w - learning_rate * gradientW\n",
    "    b = b - learning_rate * gradientB\n",
    "    print('cost:', cost, 'w', w, 'b', b)\n",
    "print(\"최종w\", w, \"b\", b)"
   ]
  },
  {
   "cell_type": "code",
   "execution_count": null,
   "id": "19bb573c",
   "metadata": {},
   "outputs": [],
   "source": []
  },
  {
   "cell_type": "code",
   "execution_count": null,
   "id": "e488e22e",
   "metadata": {},
   "outputs": [],
   "source": []
  }
 ],
 "metadata": {
  "hide_input": false,
  "kernelspec": {
   "display_name": "Python 3",
   "language": "python",
   "name": "python3"
  },
  "language_info": {
   "codemirror_mode": {
    "name": "ipython",
    "version": 3
   },
   "file_extension": ".py",
   "mimetype": "text/x-python",
   "name": "python",
   "nbconvert_exporter": "python",
   "pygments_lexer": "ipython3",
   "version": "3.8.8"
  },
  "toc": {
   "base_numbering": 1,
   "nav_menu": {},
   "number_sections": true,
   "sideBar": true,
   "skip_h1_title": false,
   "title_cell": "Table of Contents",
   "title_sidebar": "Contents",
   "toc_cell": false,
   "toc_position": {},
   "toc_section_display": true,
   "toc_window_display": false
  },
  "varInspector": {
   "cols": {
    "lenName": 16,
    "lenType": 16,
    "lenVar": 40
   },
   "kernels_config": {
    "python": {
     "delete_cmd_postfix": "",
     "delete_cmd_prefix": "del ",
     "library": "var_list.py",
     "varRefreshCmd": "print(var_dic_list())"
    },
    "r": {
     "delete_cmd_postfix": ") ",
     "delete_cmd_prefix": "rm(",
     "library": "var_list.r",
     "varRefreshCmd": "cat(var_dic_list()) "
    }
   },
   "types_to_exclude": [
    "module",
    "function",
    "builtin_function_or_method",
    "instance",
    "_Feature"
   ],
   "window_display": false
  }
 },
 "nbformat": 4,
 "nbformat_minor": 5
}
