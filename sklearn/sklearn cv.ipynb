{
 "cells": [
  {
   "cell_type": "code",
   "execution_count": 1,
   "id": "8ba9d1e8",
   "metadata": {
    "ExecuteTime": {
     "end_time": "2021-12-06T04:23:36.252307Z",
     "start_time": "2021-12-06T04:23:35.983229Z"
    }
   },
   "outputs": [
    {
     "data": {
      "text/html": [
       "<style>.container { font-weight: bold !important; }</style>"
      ],
      "text/plain": [
       "<IPython.core.display.HTML object>"
      ]
     },
     "metadata": {},
     "output_type": "display_data"
    },
    {
     "data": {
      "text/html": [
       "<style>.container { width: 98% !important; }</style>"
      ],
      "text/plain": [
       "<IPython.core.display.HTML object>"
      ]
     },
     "metadata": {},
     "output_type": "display_data"
    }
   ],
   "source": [
    "# 주피터 노트북 환경설정\n",
    "import warnings\n",
    "warnings.filterwarnings('ignore')\n",
    "warnings.simplefilter('ignore')\n",
    "\n",
    "from IPython.display import set_matplotlib_formats\n",
    "set_matplotlib_formats(\"retina\")\n",
    "\n",
    "from IPython.display import Image\n",
    "\n",
    "from IPython.core.display import display, HTML\n",
    "display(HTML(\"<style>.container { font-weight: bold !important; }</style>\"))\n",
    "display(HTML(\"<style>.container { width: 98% !important; }</style>\"))"
   ]
  },
  {
   "cell_type": "code",
   "execution_count": 2,
   "id": "5bd10f48",
   "metadata": {
    "ExecuteTime": {
     "end_time": "2021-12-06T04:23:43.053594Z",
     "start_time": "2021-12-06T04:23:41.941251Z"
    }
   },
   "outputs": [],
   "source": [
    "import numpy as np\n",
    "import pandas as pd\n",
    "import os\n",
    "\n",
    "import matplotlib\n",
    "import matplotlib.pyplot as plt\n",
    "import seaborn as sns\n",
    "\n",
    "%matplotlib inline\n",
    "\n",
    "# 관련 라이브러리 임포트 \n",
    "import matplotlib.font_manager as fm\n",
    "\n",
    "#  한글글꼴로 변경\n",
    "# plt.rcParams['font.family'] = '한글글꼴명'\n",
    "plt.rcParams['font.size'] = 11.0\n",
    "# plt.rcParams['font.family'] = 'batang'\n",
    "plt.rcParams['font.family'] = 'Malgun Gothic'\n",
    "\n",
    "# 그래프에서 마이너스 폰트 깨지는 문제에 대한 대처\n",
    "matplotlib.rcParams['axes.unicode_minus'] = False\n",
    "\n",
    "# 그래프 기본 크기 설정 \n",
    "plt.rcParams['figure.figsize'] = [10, 6]"
   ]
  },
  {
   "cell_type": "markdown",
   "id": "bff15369",
   "metadata": {},
   "source": [
    "# 교차 검증\n",
    "\n",
    "- 고정된 학습과 테스트 데이터로 평가를 하다보면 테스트 데이터에만 최적의 성능을 낸다. \n",
    "- 데이타 편중 및 과적합(Overfitting) 문제점\n",
    "- 본고사를 치르기전에 모의 고사를 여러번 보는 것과 같은 효과 \n",
    "- K 폴드, Stratified 폴드\n",
    "- cross_val_score( )\n",
    "<img src=\"https://blog.kakaocdn.net/dn/KCq7H/btqxqJT6Enb/lFkf8fcYLw83UlPZEHfFP0/img.png\" width=\"80%\">\n"
   ]
  },
  {
   "cell_type": "markdown",
   "id": "9d5d3fcd",
   "metadata": {},
   "source": [
    "## K 폴드 \n",
    "- 가장 보편적으로 사용되는 교차 검증 기법 \n",
    "- 먼저 K개의 데이터 폴드 세트를 만들어서 K번만큼 각 폴드 세트에 학습과 검증 평가를 반복적으로 수행\n",
    "``` \n",
    " - 폴더 세트 설정 \n",
    " - for 루프에서 반복적으로 학습과 테스트 데이터의 인덱스 추출 \n",
    " - 반복적으로 학습과 예측을 수행하고 예측 성능을 반환한다\n",
    "```"
   ]
  },
  {
   "cell_type": "markdown",
   "id": "bee243ba",
   "metadata": {},
   "source": [
    "## 수행과정\n",
    "\n",
    "```\n",
    "1) 데이터와 라벨로 분리\n",
    "2) 모델 생성\n",
    "3) kfold 객체 생성. n 패러미터는 폴드 할 갯수\n",
    "kfold = KFold(n_split = n)\n",
    "4) KFold 객체의 split() 호출, for 반복문 사용.\n",
    "5) 평균적인 정확도 측정\n",
    "```\n",
    "- fold 별 train, test set의 row index를 array로 변경\n",
    "```\n",
    "for train_index, test_index in kfold.split(features):\n",
    "    ## kfold.split()으로 반환된 인덱스를 이용하여 학습용, 검증용 테스트 데이터를 추출함.\n",
    "    X_train, y_test = features[train_index], features[test_index]\n",
    "    y_train, y_test = label[train_index], label[test_index]\n",
    "    \n",
    "    예측모델.fit(X_train, y_train)\n",
    "    pred = 예측모델.predict(X_test)\n",
    "    \n",
    "    # 반복시 정확도 특정 이후, 정확도 리스트에 추가\n",
    "    \n",
    "    accuracy = np.round(accuracy_score(y_test, pred), 4)\n",
    "    cv_accuracy.append(accuracy)\n",
    " ## 평균 정확도\n",
    " \n",
    " np.mean(cv_accuracy)\n",
    " \n",
    " ```"
   ]
  },
  {
   "cell_type": "code",
   "execution_count": 8,
   "id": "3eef5b7d",
   "metadata": {
    "ExecuteTime": {
     "end_time": "2021-12-06T04:39:39.269905Z",
     "start_time": "2021-12-06T04:39:39.264019Z"
    }
   },
   "outputs": [],
   "source": [
    "from sklearn.neighbors import KNeighborsClassifier\n",
    "from sklearn.tree import DecisionTreeClassifier\n",
    "from sklearn.ensemble import RandomForestClassifier\n",
    "from sklearn.linear_model import LogisticRegression\n",
    "\n",
    "from sklearn.metrics import accuracy_score"
   ]
  },
  {
   "cell_type": "markdown",
   "id": "c942e7dd",
   "metadata": {},
   "source": [
    "# kfold를 5개로 설정하여 모델을 테스트해보기"
   ]
  },
  {
   "cell_type": "code",
   "execution_count": 9,
   "id": "ae6be650",
   "metadata": {
    "ExecuteTime": {
     "end_time": "2021-12-06T04:40:20.706551Z",
     "start_time": "2021-12-06T04:40:20.694917Z"
    }
   },
   "outputs": [],
   "source": [
    "from sklearn.model_selection import KFold"
   ]
  },
  {
   "cell_type": "code",
   "execution_count": 12,
   "id": "6b831cd0",
   "metadata": {
    "ExecuteTime": {
     "end_time": "2021-12-06T04:43:27.359674Z",
     "start_time": "2021-12-06T04:43:27.344438Z"
    }
   },
   "outputs": [],
   "source": [
    "from sklearn.datasets import load_iris\n",
    "\n",
    "iris = load_iris()\n",
    "features = iris.data\n",
    "label = iris.target"
   ]
  },
  {
   "cell_type": "code",
   "execution_count": 20,
   "id": "dbe7ad98",
   "metadata": {
    "ExecuteTime": {
     "end_time": "2021-12-06T05:18:27.967175Z",
     "start_time": "2021-12-06T05:18:27.936169Z"
    }
   },
   "outputs": [
    {
     "name": "stdout",
     "output_type": "stream",
     "text": [
      "150\n",
      "\n",
      "#1 교차 검증 정확도 :1.0, 학습 데이터 크기: 120, 검증 데이터 크기: 30\n",
      "#1 검증 세트 인덱스:[ 0  1  2  3  4  5  6  7  8  9 10 11 12 13 14 15 16 17 18 19 20 21 22 23\n",
      " 24 25 26 27 28 29]\n",
      "\n",
      "#2 교차 검증 정확도 :1.0, 학습 데이터 크기: 120, 검증 데이터 크기: 30\n",
      "#2 검증 세트 인덱스:[30 31 32 33 34 35 36 37 38 39 40 41 42 43 44 45 46 47 48 49 50 51 52 53\n",
      " 54 55 56 57 58 59]\n",
      "\n",
      "#3 교차 검증 정확도 :0.8333, 학습 데이터 크기: 120, 검증 데이터 크기: 30\n",
      "#3 검증 세트 인덱스:[60 61 62 63 64 65 66 67 68 69 70 71 72 73 74 75 76 77 78 79 80 81 82 83\n",
      " 84 85 86 87 88 89]\n",
      "\n",
      "#4 교차 검증 정확도 :0.9333, 학습 데이터 크기: 120, 검증 데이터 크기: 30\n",
      "#4 검증 세트 인덱스:[ 90  91  92  93  94  95  96  97  98  99 100 101 102 103 104 105 106 107\n",
      " 108 109 110 111 112 113 114 115 116 117 118 119]\n",
      "\n",
      "#5 교차 검증 정확도 :0.8, 학습 데이터 크기: 120, 검증 데이터 크기: 30\n",
      "#5 검증 세트 인덱스:[120 121 122 123 124 125 126 127 128 129 130 131 132 133 134 135 136 137\n",
      " 138 139 140 141 142 143 144 145 146 147 148 149]\n",
      "\n",
      "## 평균 검증 정확도: 0.91332\n"
     ]
    }
   ],
   "source": [
    "model_kn = KNeighborsClassifier()\n",
    "\n",
    "kfold = KFold(n_splits = 5)\n",
    "cv_accuracy = []\n",
    "print(features.shape[0])\n",
    "\n",
    "n_iter = 0\n",
    "\n",
    "for train_index, test_index in kfold.split(features):\n",
    "    X_train, X_test = features[train_index], features[test_index]\n",
    "    y_train, y_test = label[train_index], label[test_index]\n",
    "    \n",
    "    model_kn.fit(X_train, y_train)\n",
    "    pred = model_kn.predict(X_test)\n",
    "    n_iter += 1\n",
    "    \n",
    "    accuracy = np.round(accuracy_score(y_test, pred), 4)\n",
    "    train_size = X_train.shape[0]\n",
    "    test_size = X_test.shape[0]\n",
    "    print('\\n#{0} 교차 검증 정확도 :{1}, 학습 데이터 크기: {2}, 검증 데이터 크기: {3}'\n",
    "          .format(n_iter, accuracy, train_size, test_size))\n",
    "    print('#{0} 검증 세트 인덱스:{1}'.format(n_iter,test_index))\n",
    "    cv_accuracy.append(accuracy)\n",
    "print('\\n## 평균 검증 정확도:', np.mean(cv_accuracy)) "
   ]
  },
  {
   "cell_type": "markdown",
   "id": "32db5d26",
   "metadata": {
    "ExecuteTime": {
     "end_time": "2021-12-06T04:47:01.816406Z",
     "start_time": "2021-12-06T04:47:01.804898Z"
    }
   },
   "source": [
    "# Stratified K 폴드\n",
    "\n",
    "- 데이타의 분포도가 유사해야한다는 kFold의 특징을 보완 \n",
    "- 불균형한 분포도를 가진 레이블 데이타 집합을 위한 k폴드 방식 \n",
    "- 불균형한 분포도를 가진 레이블 데이터 집합은 특정 레이블 값이 특이하게 많거나 매우 적어서 레이블의 값의 분포가 한쪽으로 치우친다.\n",
    "- 예) 대출사기 데이타. 대출사기 레이블이 전체의 0.0001% 에 밖에 해당하지 못한다.  \n",
    "- 분류 모델에는 적합하나 회기에서는 연속된 숫자값이기 때문에 적합하지 못하다."
   ]
  },
  {
   "cell_type": "markdown",
   "id": "02d65c5b",
   "metadata": {},
   "source": [
    "## 수행 과정\n",
    "\n",
    "from sklearn.model_selection import StratifiedKFold\n",
    "\n",
    "```\n",
    "1) 데이터, 라벨 분리\n",
    "2) 모델 생성\n",
    "3) StratifiedKFold 객체 생성\n",
    " n은 폴드 갯수\n",
    " skf = StratifiedKFold(n_split=n)\n",
    "4) StratifiedKFold의 split( ) 호출 + for문\n",
    "## 정확도 리스트\n",
    "cv_accuracy = []\n",
    "\n",
    "## StratifiedKFold의 split 호출시 반드시 label data set를 추가입력 해야함.\n",
    "\n",
    "for train_index, test_index in skfold.split(features, label):\n",
    "    # split()으로 반환된 인덱스를 활용해서, train, test set 추출.\n",
    "    X_train, X_test = features[train_index], features[test_index]\n",
    "    y_train, y_test = label[train_index], label[test_index]\n",
    "    \n",
    "    ## 모델 학습과 예측\n",
    "    \n",
    "    model.fit(X_train, y_train)\n",
    "    pred = model.pred(X_test)\n",
    "    \n",
    "    ## 반복할때마다 정확도를 측정하여, 정확도 리스트에 추가\n",
    "    accuracy = np.round(accuracy_score(y_test, pred), 4)\n",
    "    cv_accuracy.append(accuracy)\n",
    "    \n",
    "  # 평균 정확도는?\n",
    " np.mean(cv_accuracy)\n",
    " ```"
   ]
  },
  {
   "cell_type": "markdown",
   "id": "a4d55bfb",
   "metadata": {},
   "source": [
    "## kfold의 문제점."
   ]
  },
  {
   "cell_type": "code",
   "execution_count": 34,
   "id": "0d889866",
   "metadata": {
    "ExecuteTime": {
     "end_time": "2021-12-07T00:50:11.866509Z",
     "start_time": "2021-12-07T00:50:11.845505Z"
    }
   },
   "outputs": [],
   "source": [
    "# X_data\n",
    "features = iris.data\n",
    "# y Target\n",
    "# label = iris.target\n",
    "\n",
    "# 넘파이 => 데이타프레임\n",
    "iris_df = pd.DataFrame(data=iris.data, columns=iris.feature_names)\n",
    "iris_df['label'] = iris.target"
   ]
  },
  {
   "cell_type": "code",
   "execution_count": 30,
   "id": "5722b3b7",
   "metadata": {
    "ExecuteTime": {
     "end_time": "2021-12-06T05:33:32.747730Z",
     "start_time": "2021-12-06T05:33:32.732265Z"
    }
   },
   "outputs": [
    {
     "data": {
      "text/plain": [
       "{'data': array([[5.1, 3.5, 1.4, 0.2],\n",
       "        [4.9, 3. , 1.4, 0.2],\n",
       "        [4.7, 3.2, 1.3, 0.2],\n",
       "        [4.6, 3.1, 1.5, 0.2],\n",
       "        [5. , 3.6, 1.4, 0.2],\n",
       "        [5.4, 3.9, 1.7, 0.4],\n",
       "        [4.6, 3.4, 1.4, 0.3],\n",
       "        [5. , 3.4, 1.5, 0.2],\n",
       "        [4.4, 2.9, 1.4, 0.2],\n",
       "        [4.9, 3.1, 1.5, 0.1],\n",
       "        [5.4, 3.7, 1.5, 0.2],\n",
       "        [4.8, 3.4, 1.6, 0.2],\n",
       "        [4.8, 3. , 1.4, 0.1],\n",
       "        [4.3, 3. , 1.1, 0.1],\n",
       "        [5.8, 4. , 1.2, 0.2],\n",
       "        [5.7, 4.4, 1.5, 0.4],\n",
       "        [5.4, 3.9, 1.3, 0.4],\n",
       "        [5.1, 3.5, 1.4, 0.3],\n",
       "        [5.7, 3.8, 1.7, 0.3],\n",
       "        [5.1, 3.8, 1.5, 0.3],\n",
       "        [5.4, 3.4, 1.7, 0.2],\n",
       "        [5.1, 3.7, 1.5, 0.4],\n",
       "        [4.6, 3.6, 1. , 0.2],\n",
       "        [5.1, 3.3, 1.7, 0.5],\n",
       "        [4.8, 3.4, 1.9, 0.2],\n",
       "        [5. , 3. , 1.6, 0.2],\n",
       "        [5. , 3.4, 1.6, 0.4],\n",
       "        [5.2, 3.5, 1.5, 0.2],\n",
       "        [5.2, 3.4, 1.4, 0.2],\n",
       "        [4.7, 3.2, 1.6, 0.2],\n",
       "        [4.8, 3.1, 1.6, 0.2],\n",
       "        [5.4, 3.4, 1.5, 0.4],\n",
       "        [5.2, 4.1, 1.5, 0.1],\n",
       "        [5.5, 4.2, 1.4, 0.2],\n",
       "        [4.9, 3.1, 1.5, 0.2],\n",
       "        [5. , 3.2, 1.2, 0.2],\n",
       "        [5.5, 3.5, 1.3, 0.2],\n",
       "        [4.9, 3.6, 1.4, 0.1],\n",
       "        [4.4, 3. , 1.3, 0.2],\n",
       "        [5.1, 3.4, 1.5, 0.2],\n",
       "        [5. , 3.5, 1.3, 0.3],\n",
       "        [4.5, 2.3, 1.3, 0.3],\n",
       "        [4.4, 3.2, 1.3, 0.2],\n",
       "        [5. , 3.5, 1.6, 0.6],\n",
       "        [5.1, 3.8, 1.9, 0.4],\n",
       "        [4.8, 3. , 1.4, 0.3],\n",
       "        [5.1, 3.8, 1.6, 0.2],\n",
       "        [4.6, 3.2, 1.4, 0.2],\n",
       "        [5.3, 3.7, 1.5, 0.2],\n",
       "        [5. , 3.3, 1.4, 0.2],\n",
       "        [7. , 3.2, 4.7, 1.4],\n",
       "        [6.4, 3.2, 4.5, 1.5],\n",
       "        [6.9, 3.1, 4.9, 1.5],\n",
       "        [5.5, 2.3, 4. , 1.3],\n",
       "        [6.5, 2.8, 4.6, 1.5],\n",
       "        [5.7, 2.8, 4.5, 1.3],\n",
       "        [6.3, 3.3, 4.7, 1.6],\n",
       "        [4.9, 2.4, 3.3, 1. ],\n",
       "        [6.6, 2.9, 4.6, 1.3],\n",
       "        [5.2, 2.7, 3.9, 1.4],\n",
       "        [5. , 2. , 3.5, 1. ],\n",
       "        [5.9, 3. , 4.2, 1.5],\n",
       "        [6. , 2.2, 4. , 1. ],\n",
       "        [6.1, 2.9, 4.7, 1.4],\n",
       "        [5.6, 2.9, 3.6, 1.3],\n",
       "        [6.7, 3.1, 4.4, 1.4],\n",
       "        [5.6, 3. , 4.5, 1.5],\n",
       "        [5.8, 2.7, 4.1, 1. ],\n",
       "        [6.2, 2.2, 4.5, 1.5],\n",
       "        [5.6, 2.5, 3.9, 1.1],\n",
       "        [5.9, 3.2, 4.8, 1.8],\n",
       "        [6.1, 2.8, 4. , 1.3],\n",
       "        [6.3, 2.5, 4.9, 1.5],\n",
       "        [6.1, 2.8, 4.7, 1.2],\n",
       "        [6.4, 2.9, 4.3, 1.3],\n",
       "        [6.6, 3. , 4.4, 1.4],\n",
       "        [6.8, 2.8, 4.8, 1.4],\n",
       "        [6.7, 3. , 5. , 1.7],\n",
       "        [6. , 2.9, 4.5, 1.5],\n",
       "        [5.7, 2.6, 3.5, 1. ],\n",
       "        [5.5, 2.4, 3.8, 1.1],\n",
       "        [5.5, 2.4, 3.7, 1. ],\n",
       "        [5.8, 2.7, 3.9, 1.2],\n",
       "        [6. , 2.7, 5.1, 1.6],\n",
       "        [5.4, 3. , 4.5, 1.5],\n",
       "        [6. , 3.4, 4.5, 1.6],\n",
       "        [6.7, 3.1, 4.7, 1.5],\n",
       "        [6.3, 2.3, 4.4, 1.3],\n",
       "        [5.6, 3. , 4.1, 1.3],\n",
       "        [5.5, 2.5, 4. , 1.3],\n",
       "        [5.5, 2.6, 4.4, 1.2],\n",
       "        [6.1, 3. , 4.6, 1.4],\n",
       "        [5.8, 2.6, 4. , 1.2],\n",
       "        [5. , 2.3, 3.3, 1. ],\n",
       "        [5.6, 2.7, 4.2, 1.3],\n",
       "        [5.7, 3. , 4.2, 1.2],\n",
       "        [5.7, 2.9, 4.2, 1.3],\n",
       "        [6.2, 2.9, 4.3, 1.3],\n",
       "        [5.1, 2.5, 3. , 1.1],\n",
       "        [5.7, 2.8, 4.1, 1.3],\n",
       "        [6.3, 3.3, 6. , 2.5],\n",
       "        [5.8, 2.7, 5.1, 1.9],\n",
       "        [7.1, 3. , 5.9, 2.1],\n",
       "        [6.3, 2.9, 5.6, 1.8],\n",
       "        [6.5, 3. , 5.8, 2.2],\n",
       "        [7.6, 3. , 6.6, 2.1],\n",
       "        [4.9, 2.5, 4.5, 1.7],\n",
       "        [7.3, 2.9, 6.3, 1.8],\n",
       "        [6.7, 2.5, 5.8, 1.8],\n",
       "        [7.2, 3.6, 6.1, 2.5],\n",
       "        [6.5, 3.2, 5.1, 2. ],\n",
       "        [6.4, 2.7, 5.3, 1.9],\n",
       "        [6.8, 3. , 5.5, 2.1],\n",
       "        [5.7, 2.5, 5. , 2. ],\n",
       "        [5.8, 2.8, 5.1, 2.4],\n",
       "        [6.4, 3.2, 5.3, 2.3],\n",
       "        [6.5, 3. , 5.5, 1.8],\n",
       "        [7.7, 3.8, 6.7, 2.2],\n",
       "        [7.7, 2.6, 6.9, 2.3],\n",
       "        [6. , 2.2, 5. , 1.5],\n",
       "        [6.9, 3.2, 5.7, 2.3],\n",
       "        [5.6, 2.8, 4.9, 2. ],\n",
       "        [7.7, 2.8, 6.7, 2. ],\n",
       "        [6.3, 2.7, 4.9, 1.8],\n",
       "        [6.7, 3.3, 5.7, 2.1],\n",
       "        [7.2, 3.2, 6. , 1.8],\n",
       "        [6.2, 2.8, 4.8, 1.8],\n",
       "        [6.1, 3. , 4.9, 1.8],\n",
       "        [6.4, 2.8, 5.6, 2.1],\n",
       "        [7.2, 3. , 5.8, 1.6],\n",
       "        [7.4, 2.8, 6.1, 1.9],\n",
       "        [7.9, 3.8, 6.4, 2. ],\n",
       "        [6.4, 2.8, 5.6, 2.2],\n",
       "        [6.3, 2.8, 5.1, 1.5],\n",
       "        [6.1, 2.6, 5.6, 1.4],\n",
       "        [7.7, 3. , 6.1, 2.3],\n",
       "        [6.3, 3.4, 5.6, 2.4],\n",
       "        [6.4, 3.1, 5.5, 1.8],\n",
       "        [6. , 3. , 4.8, 1.8],\n",
       "        [6.9, 3.1, 5.4, 2.1],\n",
       "        [6.7, 3.1, 5.6, 2.4],\n",
       "        [6.9, 3.1, 5.1, 2.3],\n",
       "        [5.8, 2.7, 5.1, 1.9],\n",
       "        [6.8, 3.2, 5.9, 2.3],\n",
       "        [6.7, 3.3, 5.7, 2.5],\n",
       "        [6.7, 3. , 5.2, 2.3],\n",
       "        [6.3, 2.5, 5. , 1.9],\n",
       "        [6.5, 3. , 5.2, 2. ],\n",
       "        [6.2, 3.4, 5.4, 2.3],\n",
       "        [5.9, 3. , 5.1, 1.8]]),\n",
       " 'target': array([0, 0, 0, 0, 0, 0, 0, 0, 0, 0, 0, 0, 0, 0, 0, 0, 0, 0, 0, 0, 0, 0,\n",
       "        0, 0, 0, 0, 0, 0, 0, 0, 0, 0, 0, 0, 0, 0, 0, 0, 0, 0, 0, 0, 0, 0,\n",
       "        0, 0, 0, 0, 0, 0, 1, 1, 1, 1, 1, 1, 1, 1, 1, 1, 1, 1, 1, 1, 1, 1,\n",
       "        1, 1, 1, 1, 1, 1, 1, 1, 1, 1, 1, 1, 1, 1, 1, 1, 1, 1, 1, 1, 1, 1,\n",
       "        1, 1, 1, 1, 1, 1, 1, 1, 1, 1, 1, 1, 2, 2, 2, 2, 2, 2, 2, 2, 2, 2,\n",
       "        2, 2, 2, 2, 2, 2, 2, 2, 2, 2, 2, 2, 2, 2, 2, 2, 2, 2, 2, 2, 2, 2,\n",
       "        2, 2, 2, 2, 2, 2, 2, 2, 2, 2, 2, 2, 2, 2, 2, 2, 2, 2]),\n",
       " 'frame': None,\n",
       " 'target_names': array(['setosa', 'versicolor', 'virginica'], dtype='<U10'),\n",
       " 'DESCR': '.. _iris_dataset:\\n\\nIris plants dataset\\n--------------------\\n\\n**Data Set Characteristics:**\\n\\n    :Number of Instances: 150 (50 in each of three classes)\\n    :Number of Attributes: 4 numeric, predictive attributes and the class\\n    :Attribute Information:\\n        - sepal length in cm\\n        - sepal width in cm\\n        - petal length in cm\\n        - petal width in cm\\n        - class:\\n                - Iris-Setosa\\n                - Iris-Versicolour\\n                - Iris-Virginica\\n                \\n    :Summary Statistics:\\n\\n    ============== ==== ==== ======= ===== ====================\\n                    Min  Max   Mean    SD   Class Correlation\\n    ============== ==== ==== ======= ===== ====================\\n    sepal length:   4.3  7.9   5.84   0.83    0.7826\\n    sepal width:    2.0  4.4   3.05   0.43   -0.4194\\n    petal length:   1.0  6.9   3.76   1.76    0.9490  (high!)\\n    petal width:    0.1  2.5   1.20   0.76    0.9565  (high!)\\n    ============== ==== ==== ======= ===== ====================\\n\\n    :Missing Attribute Values: None\\n    :Class Distribution: 33.3% for each of 3 classes.\\n    :Creator: R.A. Fisher\\n    :Donor: Michael Marshall (MARSHALL%PLU@io.arc.nasa.gov)\\n    :Date: July, 1988\\n\\nThe famous Iris database, first used by Sir R.A. Fisher. The dataset is taken\\nfrom Fisher\\'s paper. Note that it\\'s the same as in R, but not as in the UCI\\nMachine Learning Repository, which has two wrong data points.\\n\\nThis is perhaps the best known database to be found in the\\npattern recognition literature.  Fisher\\'s paper is a classic in the field and\\nis referenced frequently to this day.  (See Duda & Hart, for example.)  The\\ndata set contains 3 classes of 50 instances each, where each class refers to a\\ntype of iris plant.  One class is linearly separable from the other 2; the\\nlatter are NOT linearly separable from each other.\\n\\n.. topic:: References\\n\\n   - Fisher, R.A. \"The use of multiple measurements in taxonomic problems\"\\n     Annual Eugenics, 7, Part II, 179-188 (1936); also in \"Contributions to\\n     Mathematical Statistics\" (John Wiley, NY, 1950).\\n   - Duda, R.O., & Hart, P.E. (1973) Pattern Classification and Scene Analysis.\\n     (Q327.D83) John Wiley & Sons.  ISBN 0-471-22361-1.  See page 218.\\n   - Dasarathy, B.V. (1980) \"Nosing Around the Neighborhood: A New System\\n     Structure and Classification Rule for Recognition in Partially Exposed\\n     Environments\".  IEEE Transactions on Pattern Analysis and Machine\\n     Intelligence, Vol. PAMI-2, No. 1, 67-71.\\n   - Gates, G.W. (1972) \"The Reduced Nearest Neighbor Rule\".  IEEE Transactions\\n     on Information Theory, May 1972, 431-433.\\n   - See also: 1988 MLC Proceedings, 54-64.  Cheeseman et al\"s AUTOCLASS II\\n     conceptual clustering system finds 3 classes in the data.\\n   - Many, many more ...',\n",
       " 'feature_names': ['sepal length (cm)',\n",
       "  'sepal width (cm)',\n",
       "  'petal length (cm)',\n",
       "  'petal width (cm)'],\n",
       " 'filename': 'C:\\\\Users\\\\13a71\\\\anaconda3\\\\lib\\\\site-packages\\\\sklearn\\\\datasets\\\\data\\\\iris.csv'}"
      ]
     },
     "execution_count": 30,
     "metadata": {},
     "output_type": "execute_result"
    }
   ],
   "source": [
    "iris"
   ]
  },
  {
   "cell_type": "code",
   "execution_count": 33,
   "id": "129ecb57",
   "metadata": {
    "ExecuteTime": {
     "end_time": "2021-12-06T05:34:03.805101Z",
     "start_time": "2021-12-06T05:34:03.788098Z"
    }
   },
   "outputs": [
    {
     "data": {
      "text/plain": [
       "<generator object _BaseKFold.split at 0x000001F36C942970>"
      ]
     },
     "execution_count": 33,
     "metadata": {},
     "output_type": "execute_result"
    }
   ],
   "source": [
    "kfold.split(iris)"
   ]
  },
  {
   "cell_type": "code",
   "execution_count": null,
   "id": "932bb6c6",
   "metadata": {},
   "outputs": [],
   "source": []
  },
  {
   "cell_type": "code",
   "execution_count": 35,
   "id": "53de92d4",
   "metadata": {
    "ExecuteTime": {
     "end_time": "2021-12-07T00:50:28.317688Z",
     "start_time": "2021-12-07T00:50:28.294696Z"
    }
   },
   "outputs": [
    {
     "name": "stdout",
     "output_type": "stream",
     "text": [
      "\n",
      "## 교차 검증: 1\n",
      "\n",
      "학습 레이블 데이터 분포:\n",
      " 1    50\n",
      "2    50\n",
      "0    20\n",
      "Name: label, dtype: int64\n",
      "\n",
      "검증 레이블 데이터 분포:\n",
      " 0    30\n",
      "Name: label, dtype: int64\n",
      "==================================================\n",
      "\n",
      "## 교차 검증: 2\n",
      "\n",
      "학습 레이블 데이터 분포:\n",
      " 2    50\n",
      "1    40\n",
      "0    30\n",
      "Name: label, dtype: int64\n",
      "\n",
      "검증 레이블 데이터 분포:\n",
      " 0    20\n",
      "1    10\n",
      "Name: label, dtype: int64\n",
      "==================================================\n",
      "\n",
      "## 교차 검증: 3\n",
      "\n",
      "학습 레이블 데이터 분포:\n",
      " 0    50\n",
      "2    50\n",
      "1    20\n",
      "Name: label, dtype: int64\n",
      "\n",
      "검증 레이블 데이터 분포:\n",
      " 1    30\n",
      "Name: label, dtype: int64\n",
      "==================================================\n",
      "\n",
      "## 교차 검증: 4\n",
      "\n",
      "학습 레이블 데이터 분포:\n",
      " 0    50\n",
      "1    40\n",
      "2    30\n",
      "Name: label, dtype: int64\n",
      "\n",
      "검증 레이블 데이터 분포:\n",
      " 2    20\n",
      "1    10\n",
      "Name: label, dtype: int64\n",
      "==================================================\n",
      "\n",
      "## 교차 검증: 5\n",
      "\n",
      "학습 레이블 데이터 분포:\n",
      " 0    50\n",
      "1    50\n",
      "2    20\n",
      "Name: label, dtype: int64\n",
      "\n",
      "검증 레이블 데이터 분포:\n",
      " 2    30\n",
      "Name: label, dtype: int64\n",
      "==================================================\n"
     ]
    }
   ],
   "source": [
    "kfold = KFold(n_splits=5)\n",
    "\n",
    "n_iter =0\n",
    "for train_index, test_index  in kfold.split(iris_df[['sepal length (cm)', 'sepal width (cm)', 'petal length (cm)','petal width (cm)']]):\n",
    "    n_iter += 1\n",
    "    label_train= iris_df['label'].iloc[train_index]\n",
    "    label_test= iris_df['label'].iloc[test_index]\n",
    "    print('\\n## 교차 검증: {0}'.format(n_iter))\n",
    "    print('\\n학습 레이블 데이터 분포:\\n', label_train.value_counts())\n",
    "    print('\\n검증 레이블 데이터 분포:\\n', label_test.value_counts())\n",
    "    print('='*50)\n",
    "    "
   ]
  },
  {
   "cell_type": "markdown",
   "id": "43ae99d9",
   "metadata": {},
   "source": [
    "## StratifiedKFold 활용 => 레벨의 분포를 고르게 한다 "
   ]
  },
  {
   "cell_type": "code",
   "execution_count": 36,
   "id": "bca18899",
   "metadata": {
    "ExecuteTime": {
     "end_time": "2021-12-07T00:51:18.222661Z",
     "start_time": "2021-12-07T00:51:18.217669Z"
    }
   },
   "outputs": [],
   "source": [
    "from sklearn.model_selection import StratifiedKFold"
   ]
  },
  {
   "cell_type": "code",
   "execution_count": 37,
   "id": "3dbae980",
   "metadata": {
    "ExecuteTime": {
     "end_time": "2021-12-07T00:51:24.009494Z",
     "start_time": "2021-12-07T00:51:23.993503Z"
    }
   },
   "outputs": [
    {
     "name": "stdout",
     "output_type": "stream",
     "text": [
      "\n",
      "## 교차 검증: 1\n",
      "\n",
      "학습 레이블 데이터 분포:\n",
      " 1    38\n",
      "0    37\n",
      "2    37\n",
      "Name: label, dtype: int64\n",
      "\n",
      "검증 레이블 데이터 분포:\n",
      " 0    13\n",
      "2    13\n",
      "1    12\n",
      "Name: label, dtype: int64\n",
      "==================================================\n",
      "\n",
      "## 교차 검증: 2\n",
      "\n",
      "학습 레이블 데이터 분포:\n",
      " 1    38\n",
      "0    37\n",
      "2    37\n",
      "Name: label, dtype: int64\n",
      "\n",
      "검증 레이블 데이터 분포:\n",
      " 0    13\n",
      "2    13\n",
      "1    12\n",
      "Name: label, dtype: int64\n",
      "==================================================\n",
      "\n",
      "## 교차 검증: 3\n",
      "\n",
      "학습 레이블 데이터 분포:\n",
      " 0    38\n",
      "2    38\n",
      "1    37\n",
      "Name: label, dtype: int64\n",
      "\n",
      "검증 레이블 데이터 분포:\n",
      " 1    13\n",
      "0    12\n",
      "2    12\n",
      "Name: label, dtype: int64\n",
      "==================================================\n",
      "\n",
      "## 교차 검증: 4\n",
      "\n",
      "학습 레이블 데이터 분포:\n",
      " 0    38\n",
      "2    38\n",
      "1    37\n",
      "Name: label, dtype: int64\n",
      "\n",
      "검증 레이블 데이터 분포:\n",
      " 1    13\n",
      "0    12\n",
      "2    12\n",
      "Name: label, dtype: int64\n",
      "==================================================\n"
     ]
    }
   ],
   "source": [
    "# 객체생성 \n",
    "skf = StratifiedKFold(n_splits=4)\n",
    "n_iter=0\n",
    "\n",
    "# \n",
    "for train_index, test_index in skf.split(iris_df, iris_df['label']):\n",
    "    n_iter += 1\n",
    "    label_train= iris_df['label'].iloc[train_index]\n",
    "    label_test= iris_df['label'].iloc[test_index]\n",
    "    print('\\n## 교차 검증: {0}'.format(n_iter))\n",
    "    print('\\n학습 레이블 데이터 분포:\\n', label_train.value_counts())\n",
    "    print('\\n검증 레이블 데이터 분포:\\n', label_test.value_counts())\n",
    "    print('='*50)"
   ]
  },
  {
   "cell_type": "markdown",
   "id": "081a92dc",
   "metadata": {
    "ExecuteTime": {
     "end_time": "2021-12-07T00:51:33.532305Z",
     "start_time": "2021-12-07T00:51:33.518310Z"
    }
   },
   "source": [
    "## Stratified 폴더를 이용한 모델 생성과 정확도 분석 "
   ]
  },
  {
   "cell_type": "code",
   "execution_count": 39,
   "id": "0b5c6b2b",
   "metadata": {
    "ExecuteTime": {
     "end_time": "2021-12-07T00:51:44.907489Z",
     "start_time": "2021-12-07T00:51:44.867479Z"
    }
   },
   "outputs": [
    {
     "name": "stdout",
     "output_type": "stream",
     "text": [
      "\n",
      "#1 교차 검증 정확도 :0.9667, 학습 데이터 크기: 120, 검증 데이터 크기: 30\n",
      "#1 검증 세트 인덱스:[  0   1   2   3   4   5   6   7   8   9  50  51  52  53  54  55  56  57\n",
      "  58  59 100 101 102 103 104 105 106 107 108 109]\n",
      "\n",
      "#2 교차 검증 정확도 :1.0, 학습 데이터 크기: 120, 검증 데이터 크기: 30\n",
      "#2 검증 세트 인덱스:[ 10  11  12  13  14  15  16  17  18  19  60  61  62  63  64  65  66  67\n",
      "  68  69 110 111 112 113 114 115 116 117 118 119]\n",
      "\n",
      "#3 교차 검증 정확도 :0.9333, 학습 데이터 크기: 120, 검증 데이터 크기: 30\n",
      "#3 검증 세트 인덱스:[ 20  21  22  23  24  25  26  27  28  29  70  71  72  73  74  75  76  77\n",
      "  78  79 120 121 122 123 124 125 126 127 128 129]\n",
      "\n",
      "#4 교차 검증 정확도 :0.9667, 학습 데이터 크기: 120, 검증 데이터 크기: 30\n",
      "#4 검증 세트 인덱스:[ 30  31  32  33  34  35  36  37  38  39  80  81  82  83  84  85  86  87\n",
      "  88  89 130 131 132 133 134 135 136 137 138 139]\n",
      "\n",
      "#5 교차 검증 정확도 :1.0, 학습 데이터 크기: 120, 검증 데이터 크기: 30\n",
      "#5 검증 세트 인덱스:[ 40  41  42  43  44  45  46  47  48  49  90  91  92  93  94  95  96  97\n",
      "  98  99 140 141 142 143 144 145 146 147 148 149]\n",
      "\n",
      "## 교차 검증별 정확도: [0.9667 1.     0.9333 0.9667 1.    ]\n",
      "## 평균 검증 정확도: 0.97334\n"
     ]
    }
   ],
   "source": [
    "model_kn =  KNeighborsClassifier()\n",
    "\n",
    "skfold = StratifiedKFold(n_splits=5)\n",
    "n_iter=0\n",
    "\n",
    "cv_accuracy=[]\n",
    "\n",
    "for train_index, test_index  in skfold.split(features, label):\n",
    "    X_train, X_test = features[train_index], features[test_index]\n",
    "    y_train, y_test = label[train_index], label[test_index]\n",
    "    \n",
    "    model_kn.fit(X_train , y_train)    \n",
    "    pred = model_kn.predict(X_test)\n",
    "\n",
    "    n_iter += 1\n",
    "    accuracy = np.round(accuracy_score(y_test,pred), 4)\n",
    "    train_size = X_train.shape[0]\n",
    "    test_size = X_test.shape[0]\n",
    "    \n",
    "    print('\\n#{0} 교차 검증 정확도 :{1}, 학습 데이터 크기: {2}, 검증 데이터 크기: {3}'\n",
    "          .format(n_iter, accuracy, train_size, test_size))\n",
    "    print('#{0} 검증 세트 인덱스:{1}'.format(n_iter,test_index))\n",
    "    cv_accuracy.append(accuracy)\n",
    "\n",
    "print('\\n## 교차 검증별 정확도:', np.round(cv_accuracy, 4))\n",
    "print('## 평균 검증 정확도:', np.mean(cv_accuracy)) "
   ]
  },
  {
   "cell_type": "markdown",
   "id": "f94d9180",
   "metadata": {},
   "source": [
    "# cross_val_score( )\n",
    "\n",
    "- 사이킷런에서 제공하는 교차 검증을 편리하게 수행할 수 있게 도와주는 API \n",
    "- Stratified \n",
    "```\n",
    "cross_val_score(모델 , X_data , y , scoring='accuracy',  cv=폴더갯수)\n",
    "```"
   ]
  },
  {
   "cell_type": "code",
   "execution_count": 40,
   "id": "80070a88",
   "metadata": {
    "ExecuteTime": {
     "end_time": "2021-12-07T00:52:08.771816Z",
     "start_time": "2021-12-07T00:52:08.768807Z"
    }
   },
   "outputs": [],
   "source": [
    "from sklearn.model_selection import cross_val_score "
   ]
  },
  {
   "cell_type": "code",
   "execution_count": 41,
   "id": "7db375cc",
   "metadata": {
    "ExecuteTime": {
     "end_time": "2021-12-07T00:52:17.692117Z",
     "start_time": "2021-12-07T00:52:17.656112Z"
    }
   },
   "outputs": [
    {
     "name": "stdout",
     "output_type": "stream",
     "text": [
      "교차 검증별 정확도: [0.9667 1.     0.9333 0.9667 1.    ]\n",
      "평균 검증 정확도: 0.9733\n"
     ]
    }
   ],
   "source": [
    "iris_data = load_iris()\n",
    "model_kn =  KNeighborsClassifier()\n",
    "\n",
    "data = iris_data.data\n",
    "label = iris_data.target\n",
    "\n",
    "scores = cross_val_score(model_kn , data , label , scoring='accuracy', cv=5)\n",
    "\n",
    "print('교차 검증별 정확도:',np.round(scores, 4))\n",
    "print('평균 검증 정확도:', np.round(np.mean(scores), 4))\n"
   ]
  },
  {
   "cell_type": "markdown",
   "id": "4400e657",
   "metadata": {},
   "source": [
    "# GridSearchCV\n",
    "\n",
    "\n",
    "```\n",
    "(1) 딕셔너리 형태로 파라미터를 지정 \n",
    "parameters = {'max_depth':[1, 2, 3], 'min_samples_split':[2,3]}\n",
    "\n",
    "(2) GridSearchCV 메서드 적용 \n",
    "grid_dtree = GridSearchCV(dtree, param_grid=parameters, cv=3, refit=True, return_train_score=True)\n",
    "\n",
    "```"
   ]
  },
  {
   "cell_type": "code",
   "execution_count": 42,
   "id": "1916d194",
   "metadata": {
    "ExecuteTime": {
     "end_time": "2021-12-07T00:52:40.013447Z",
     "start_time": "2021-12-07T00:52:40.005436Z"
    }
   },
   "outputs": [],
   "source": [
    "from sklearn.neighbors import KNeighborsClassifier\n",
    "from sklearn.tree import DecisionTreeClassifier\n",
    "from sklearn.ensemble import RandomForestClassifier\n",
    "from sklearn.linear_model import LogisticRegression\n",
    "\n",
    "from sklearn.metrics import accuracy_score"
   ]
  },
  {
   "cell_type": "code",
   "execution_count": 43,
   "id": "fad42f96",
   "metadata": {
    "ExecuteTime": {
     "end_time": "2021-12-07T00:52:50.271507Z",
     "start_time": "2021-12-07T00:52:50.267507Z"
    }
   },
   "outputs": [],
   "source": [
    "from sklearn.model_selection import GridSearchCV"
   ]
  },
  {
   "cell_type": "code",
   "execution_count": 48,
   "id": "41cdf832",
   "metadata": {
    "ExecuteTime": {
     "end_time": "2021-12-07T00:53:30.530586Z",
     "start_time": "2021-12-07T00:53:30.516570Z"
    }
   },
   "outputs": [],
   "source": [
    "from sklearn.datasets import load_iris\n",
    "from sklearn.model_selection import train_test_split\n",
    "\n",
    "iris = load_iris()\n",
    "X_train, X_test, y_train, y_test = train_test_split(iris_data.data, iris_data.target, \n",
    "                                                    test_size=0.2, random_state=11)"
   ]
  },
  {
   "cell_type": "code",
   "execution_count": 49,
   "id": "9e095303",
   "metadata": {
    "ExecuteTime": {
     "end_time": "2021-12-07T00:53:35.614498Z",
     "start_time": "2021-12-07T00:53:35.605488Z"
    }
   },
   "outputs": [],
   "source": [
    "model_kn = KNeighborsClassifier()"
   ]
  },
  {
   "cell_type": "code",
   "execution_count": 50,
   "id": "5a6aa730",
   "metadata": {
    "ExecuteTime": {
     "end_time": "2021-12-07T00:53:40.124276Z",
     "start_time": "2021-12-07T00:53:40.104273Z"
    }
   },
   "outputs": [
    {
     "data": {
      "text/plain": [
       "{'algorithm': 'auto',\n",
       " 'leaf_size': 30,\n",
       " 'metric': 'minkowski',\n",
       " 'metric_params': None,\n",
       " 'n_jobs': None,\n",
       " 'n_neighbors': 5,\n",
       " 'p': 2,\n",
       " 'weights': 'uniform'}"
      ]
     },
     "execution_count": 50,
     "metadata": {},
     "output_type": "execute_result"
    }
   ],
   "source": [
    "model_kn.get_params()"
   ]
  },
  {
   "cell_type": "code",
   "execution_count": 51,
   "id": "6050d7aa",
   "metadata": {
    "ExecuteTime": {
     "end_time": "2021-12-07T00:53:45.371387Z",
     "start_time": "2021-12-07T00:53:45.355388Z"
    }
   },
   "outputs": [
    {
     "data": {
      "text/plain": [
       "[3, 4, 5, 6, 7, 8, 9]"
      ]
     },
     "execution_count": 51,
     "metadata": {},
     "output_type": "execute_result"
    }
   ],
   "source": [
    "list(range(3,10))"
   ]
  },
  {
   "cell_type": "code",
   "execution_count": 52,
   "id": "4604c2ac",
   "metadata": {
    "ExecuteTime": {
     "end_time": "2021-12-07T00:53:50.363762Z",
     "start_time": "2021-12-07T00:53:50.179725Z"
    }
   },
   "outputs": [
    {
     "data": {
      "text/plain": [
       "GridSearchCV(cv=5, estimator=KNeighborsClassifier(),\n",
       "             param_grid={'n_neighbors': [3, 4, 5, 6, 7, 8, 9]},\n",
       "             return_train_score=True)"
      ]
     },
     "execution_count": 52,
     "metadata": {},
     "output_type": "execute_result"
    }
   ],
   "source": [
    "model_kn = KNeighborsClassifier()\n",
    "\n",
    "parameters = {'n_neighbors':list(range(3,10))}\n",
    "\n",
    "\n",
    "model_kn_grid = GridSearchCV(model_kn, param_grid=parameters, cv=5, return_train_score=True)\n",
    "\n",
    "\n",
    "model_kn_grid.fit(X_train, y_train)"
   ]
  },
  {
   "cell_type": "code",
   "execution_count": 53,
   "id": "f5c9d96d",
   "metadata": {
    "ExecuteTime": {
     "end_time": "2021-12-07T00:53:58.509907Z",
     "start_time": "2021-12-07T00:53:58.504920Z"
    }
   },
   "outputs": [
    {
     "name": "stdout",
     "output_type": "stream",
     "text": [
      "GridSearchCV 최적 파라미터: {'n_neighbors': 5}\n",
      "GridSearchCV 최고 정확도: 0.9583\n"
     ]
    }
   ],
   "source": [
    "print('GridSearchCV 최적 파라미터:', model_kn_grid.best_params_)\n",
    "print('GridSearchCV 최고 정확도: {0:.4f}'.format(model_kn_grid.best_score_))"
   ]
  },
  {
   "cell_type": "code",
   "execution_count": 54,
   "id": "f9834788",
   "metadata": {
    "ExecuteTime": {
     "end_time": "2021-12-07T00:54:06.827226Z",
     "start_time": "2021-12-07T00:54:06.793216Z"
    }
   },
   "outputs": [
    {
     "data": {
      "text/html": [
       "<div>\n",
       "<style scoped>\n",
       "    .dataframe tbody tr th:only-of-type {\n",
       "        vertical-align: middle;\n",
       "    }\n",
       "\n",
       "    .dataframe tbody tr th {\n",
       "        vertical-align: top;\n",
       "    }\n",
       "\n",
       "    .dataframe thead th {\n",
       "        text-align: right;\n",
       "    }\n",
       "</style>\n",
       "<table border=\"1\" class=\"dataframe\">\n",
       "  <thead>\n",
       "    <tr style=\"text-align: right;\">\n",
       "      <th></th>\n",
       "      <th>mean_fit_time</th>\n",
       "      <th>std_fit_time</th>\n",
       "      <th>mean_score_time</th>\n",
       "      <th>std_score_time</th>\n",
       "      <th>param_n_neighbors</th>\n",
       "      <th>params</th>\n",
       "      <th>split0_test_score</th>\n",
       "      <th>split1_test_score</th>\n",
       "      <th>split2_test_score</th>\n",
       "      <th>split3_test_score</th>\n",
       "      <th>...</th>\n",
       "      <th>mean_test_score</th>\n",
       "      <th>std_test_score</th>\n",
       "      <th>rank_test_score</th>\n",
       "      <th>split0_train_score</th>\n",
       "      <th>split1_train_score</th>\n",
       "      <th>split2_train_score</th>\n",
       "      <th>split3_train_score</th>\n",
       "      <th>split4_train_score</th>\n",
       "      <th>mean_train_score</th>\n",
       "      <th>std_train_score</th>\n",
       "    </tr>\n",
       "  </thead>\n",
       "  <tbody>\n",
       "    <tr>\n",
       "      <th>0</th>\n",
       "      <td>0.000801</td>\n",
       "      <td>0.000401</td>\n",
       "      <td>0.001002</td>\n",
       "      <td>0.000003</td>\n",
       "      <td>3</td>\n",
       "      <td>{'n_neighbors': 3}</td>\n",
       "      <td>0.916667</td>\n",
       "      <td>0.875000</td>\n",
       "      <td>0.958333</td>\n",
       "      <td>1.000000</td>\n",
       "      <td>...</td>\n",
       "      <td>0.950000</td>\n",
       "      <td>0.048591</td>\n",
       "      <td>3</td>\n",
       "      <td>0.968750</td>\n",
       "      <td>0.979167</td>\n",
       "      <td>0.968750</td>\n",
       "      <td>0.968750</td>\n",
       "      <td>0.958333</td>\n",
       "      <td>0.968750</td>\n",
       "      <td>0.006588</td>\n",
       "    </tr>\n",
       "    <tr>\n",
       "      <th>1</th>\n",
       "      <td>0.000599</td>\n",
       "      <td>0.000489</td>\n",
       "      <td>0.001203</td>\n",
       "      <td>0.000399</td>\n",
       "      <td>4</td>\n",
       "      <td>{'n_neighbors': 4}</td>\n",
       "      <td>0.958333</td>\n",
       "      <td>0.833333</td>\n",
       "      <td>0.958333</td>\n",
       "      <td>0.958333</td>\n",
       "      <td>...</td>\n",
       "      <td>0.941667</td>\n",
       "      <td>0.056519</td>\n",
       "      <td>6</td>\n",
       "      <td>0.968750</td>\n",
       "      <td>0.989583</td>\n",
       "      <td>0.979167</td>\n",
       "      <td>0.968750</td>\n",
       "      <td>0.968750</td>\n",
       "      <td>0.975000</td>\n",
       "      <td>0.008333</td>\n",
       "    </tr>\n",
       "    <tr>\n",
       "      <th>2</th>\n",
       "      <td>0.000200</td>\n",
       "      <td>0.000400</td>\n",
       "      <td>0.001403</td>\n",
       "      <td>0.000488</td>\n",
       "      <td>5</td>\n",
       "      <td>{'n_neighbors': 5}</td>\n",
       "      <td>0.916667</td>\n",
       "      <td>0.958333</td>\n",
       "      <td>0.958333</td>\n",
       "      <td>0.958333</td>\n",
       "      <td>...</td>\n",
       "      <td>0.958333</td>\n",
       "      <td>0.026352</td>\n",
       "      <td>1</td>\n",
       "      <td>0.968750</td>\n",
       "      <td>0.979167</td>\n",
       "      <td>0.979167</td>\n",
       "      <td>0.979167</td>\n",
       "      <td>0.958333</td>\n",
       "      <td>0.972917</td>\n",
       "      <td>0.008333</td>\n",
       "    </tr>\n",
       "    <tr>\n",
       "      <th>3</th>\n",
       "      <td>0.000598</td>\n",
       "      <td>0.000488</td>\n",
       "      <td>0.001002</td>\n",
       "      <td>0.000003</td>\n",
       "      <td>6</td>\n",
       "      <td>{'n_neighbors': 6}</td>\n",
       "      <td>0.958333</td>\n",
       "      <td>0.958333</td>\n",
       "      <td>0.958333</td>\n",
       "      <td>0.916667</td>\n",
       "      <td>...</td>\n",
       "      <td>0.958333</td>\n",
       "      <td>0.026352</td>\n",
       "      <td>2</td>\n",
       "      <td>0.989583</td>\n",
       "      <td>0.958333</td>\n",
       "      <td>0.968750</td>\n",
       "      <td>0.958333</td>\n",
       "      <td>0.968750</td>\n",
       "      <td>0.968750</td>\n",
       "      <td>0.011411</td>\n",
       "    </tr>\n",
       "    <tr>\n",
       "      <th>4</th>\n",
       "      <td>0.000198</td>\n",
       "      <td>0.000395</td>\n",
       "      <td>0.001002</td>\n",
       "      <td>0.000006</td>\n",
       "      <td>7</td>\n",
       "      <td>{'n_neighbors': 7}</td>\n",
       "      <td>0.875000</td>\n",
       "      <td>0.958333</td>\n",
       "      <td>0.958333</td>\n",
       "      <td>0.958333</td>\n",
       "      <td>...</td>\n",
       "      <td>0.950000</td>\n",
       "      <td>0.040825</td>\n",
       "      <td>3</td>\n",
       "      <td>0.979167</td>\n",
       "      <td>0.968750</td>\n",
       "      <td>0.968750</td>\n",
       "      <td>0.979167</td>\n",
       "      <td>0.968750</td>\n",
       "      <td>0.972917</td>\n",
       "      <td>0.005103</td>\n",
       "    </tr>\n",
       "    <tr>\n",
       "      <th>5</th>\n",
       "      <td>0.000400</td>\n",
       "      <td>0.000490</td>\n",
       "      <td>0.001402</td>\n",
       "      <td>0.000488</td>\n",
       "      <td>8</td>\n",
       "      <td>{'n_neighbors': 8}</td>\n",
       "      <td>0.875000</td>\n",
       "      <td>0.958333</td>\n",
       "      <td>0.958333</td>\n",
       "      <td>0.916667</td>\n",
       "      <td>...</td>\n",
       "      <td>0.941667</td>\n",
       "      <td>0.042492</td>\n",
       "      <td>6</td>\n",
       "      <td>0.979167</td>\n",
       "      <td>0.968750</td>\n",
       "      <td>0.958333</td>\n",
       "      <td>0.968750</td>\n",
       "      <td>0.968750</td>\n",
       "      <td>0.968750</td>\n",
       "      <td>0.006588</td>\n",
       "    </tr>\n",
       "    <tr>\n",
       "      <th>6</th>\n",
       "      <td>0.000400</td>\n",
       "      <td>0.000489</td>\n",
       "      <td>0.001001</td>\n",
       "      <td>0.000633</td>\n",
       "      <td>9</td>\n",
       "      <td>{'n_neighbors': 9}</td>\n",
       "      <td>0.875000</td>\n",
       "      <td>0.958333</td>\n",
       "      <td>1.000000</td>\n",
       "      <td>0.916667</td>\n",
       "      <td>...</td>\n",
       "      <td>0.950000</td>\n",
       "      <td>0.048591</td>\n",
       "      <td>3</td>\n",
       "      <td>0.979167</td>\n",
       "      <td>0.979167</td>\n",
       "      <td>0.968750</td>\n",
       "      <td>0.979167</td>\n",
       "      <td>0.968750</td>\n",
       "      <td>0.975000</td>\n",
       "      <td>0.005103</td>\n",
       "    </tr>\n",
       "  </tbody>\n",
       "</table>\n",
       "<p>7 rows × 21 columns</p>\n",
       "</div>"
      ],
      "text/plain": [
       "   mean_fit_time  std_fit_time  mean_score_time  std_score_time  \\\n",
       "0       0.000801      0.000401         0.001002        0.000003   \n",
       "1       0.000599      0.000489         0.001203        0.000399   \n",
       "2       0.000200      0.000400         0.001403        0.000488   \n",
       "3       0.000598      0.000488         0.001002        0.000003   \n",
       "4       0.000198      0.000395         0.001002        0.000006   \n",
       "5       0.000400      0.000490         0.001402        0.000488   \n",
       "6       0.000400      0.000489         0.001001        0.000633   \n",
       "\n",
       "  param_n_neighbors              params  split0_test_score  split1_test_score  \\\n",
       "0                 3  {'n_neighbors': 3}           0.916667           0.875000   \n",
       "1                 4  {'n_neighbors': 4}           0.958333           0.833333   \n",
       "2                 5  {'n_neighbors': 5}           0.916667           0.958333   \n",
       "3                 6  {'n_neighbors': 6}           0.958333           0.958333   \n",
       "4                 7  {'n_neighbors': 7}           0.875000           0.958333   \n",
       "5                 8  {'n_neighbors': 8}           0.875000           0.958333   \n",
       "6                 9  {'n_neighbors': 9}           0.875000           0.958333   \n",
       "\n",
       "   split2_test_score  split3_test_score  ...  mean_test_score  std_test_score  \\\n",
       "0           0.958333           1.000000  ...         0.950000        0.048591   \n",
       "1           0.958333           0.958333  ...         0.941667        0.056519   \n",
       "2           0.958333           0.958333  ...         0.958333        0.026352   \n",
       "3           0.958333           0.916667  ...         0.958333        0.026352   \n",
       "4           0.958333           0.958333  ...         0.950000        0.040825   \n",
       "5           0.958333           0.916667  ...         0.941667        0.042492   \n",
       "6           1.000000           0.916667  ...         0.950000        0.048591   \n",
       "\n",
       "   rank_test_score  split0_train_score  split1_train_score  \\\n",
       "0                3            0.968750            0.979167   \n",
       "1                6            0.968750            0.989583   \n",
       "2                1            0.968750            0.979167   \n",
       "3                2            0.989583            0.958333   \n",
       "4                3            0.979167            0.968750   \n",
       "5                6            0.979167            0.968750   \n",
       "6                3            0.979167            0.979167   \n",
       "\n",
       "   split2_train_score  split3_train_score  split4_train_score  \\\n",
       "0            0.968750            0.968750            0.958333   \n",
       "1            0.979167            0.968750            0.968750   \n",
       "2            0.979167            0.979167            0.958333   \n",
       "3            0.968750            0.958333            0.968750   \n",
       "4            0.968750            0.979167            0.968750   \n",
       "5            0.958333            0.968750            0.968750   \n",
       "6            0.968750            0.979167            0.968750   \n",
       "\n",
       "   mean_train_score  std_train_score  \n",
       "0          0.968750         0.006588  \n",
       "1          0.975000         0.008333  \n",
       "2          0.972917         0.008333  \n",
       "3          0.968750         0.011411  \n",
       "4          0.972917         0.005103  \n",
       "5          0.968750         0.006588  \n",
       "6          0.975000         0.005103  \n",
       "\n",
       "[7 rows x 21 columns]"
      ]
     },
     "execution_count": 54,
     "metadata": {},
     "output_type": "execute_result"
    }
   ],
   "source": [
    "scores_df = pd.DataFrame(model_kn_grid.cv_results_)\n",
    "scores_df"
   ]
  },
  {
   "cell_type": "code",
   "execution_count": 55,
   "id": "5315ce9c",
   "metadata": {
    "ExecuteTime": {
     "end_time": "2021-12-07T00:54:25.309141Z",
     "start_time": "2021-12-07T00:54:25.305140Z"
    }
   },
   "outputs": [
    {
     "name": "stdout",
     "output_type": "stream",
     "text": [
      "GridSearchCV 최적 파라미터: {'n_neighbors': 5}\n",
      "GridSearchCV 최고 정확도: 0.9583333333333334\n"
     ]
    }
   ],
   "source": [
    "print(f'GridSearchCV 최적 파라미터: {model_kn_grid.best_params_}' )\n",
    "print(f'GridSearchCV 최고 정확도: {model_kn_grid.best_score_}')"
   ]
  },
  {
   "cell_type": "markdown",
   "id": "daa079a5",
   "metadata": {},
   "source": [
    "# 퀴즈\n",
    "\n",
    "- 1) 'titanic_book.csv' 타이타닉 데이타셋을 아래와 같은 전처리 후 cross_val_score() 메서드를 이용하여 교차 검증한 후 \n",
    "<br> 평균 정확도를 구하여라. 모델의 알고리즘은 임의선정, cv는 5 \n",
    "\n",
    "cross_val_score(model_kn, X_titanic_df , y_titanic_df , cv=5)\n",
    "\n",
    "\n",
    "- 2) 1)의 데이타셋을 활용하여 GridSearchCV의 최적 하이퍼 파라미터를 찾은 후 정확도를 구하여라. \n",
    "\n",
    "parameters = {'n_neighbors':list(range(3,10))}\n",
    "\n",
    "GridSearchCV(model_kn , param_grid=parameters , scoring='accuracy' , cv=5)"
   ]
  },
  {
   "cell_type": "code",
   "execution_count": null,
   "id": "b8578804",
   "metadata": {},
   "outputs": [],
   "source": [
    "titanic_df = pd.re"
   ]
  },
  {
   "cell_type": "code",
   "execution_count": 56,
   "id": "976a32b8",
   "metadata": {
    "ExecuteTime": {
     "end_time": "2021-12-07T01:22:25.723219Z",
     "start_time": "2021-12-07T01:22:25.694203Z"
    }
   },
   "outputs": [],
   "source": [
    "from sklearn.preprocessing import LabelEncoder\n",
    "\n",
    "titanic_df = pd.read_csv('~/dropbox/python숙달/data/titanic_book.csv')\n",
    "\n",
    "\n",
    "titanic_df['Age'].fillna(titanic_df['Age'].mean(),inplace=True)\n",
    "titanic_df['Cabin'].fillna('N', inplace=True)\n",
    "titanic_df['Embarked'].fillna('N', inplace=True)\n",
    "\n",
    "\n",
    "encoder = LabelEncoder()\n",
    "encoder.fit(titanic_df['Sex'])\n",
    "temp = encoder.transform(titanic_df['Sex'])\n",
    "titanic_df['Sex'] = temp.reshape(-1, 1)\n",
    "\n",
    "encoder.fit(titanic_df['Embarked'])\n",
    "temp = encoder.transform(titanic_df['Embarked'])\n",
    "titanic_df['Embarked'] = temp.reshape(-1, 1)\n",
    "\n",
    "titanic_df['Cabin'] = titanic_df['Cabin'].str[:1]\n",
    "encoder.fit(titanic_df['Cabin'])\n",
    "temp = encoder.transform(titanic_df['Cabin'])\n",
    "titanic_df['Cabin'] = temp.reshape(-1, 1)\n",
    "\n",
    "\n",
    "titanic_df.drop(['PassengerId','Name','Ticket'], axis=1, inplace=True)"
   ]
  },
  {
   "cell_type": "code",
   "execution_count": 60,
   "id": "d10017b6",
   "metadata": {
    "ExecuteTime": {
     "end_time": "2021-12-07T01:23:55.593483Z",
     "start_time": "2021-12-07T01:23:55.578845Z"
    }
   },
   "outputs": [],
   "source": [
    "y = titanic_df.iloc[:,:1] # titanic_df.loc[:, 'Pclass':]\n",
    "X= titanic_df.iloc[:,1:] # titanic_df['Survived']"
   ]
  },
  {
   "cell_type": "code",
   "execution_count": 61,
   "id": "71725a68",
   "metadata": {
    "ExecuteTime": {
     "end_time": "2021-12-07T01:24:53.028271Z",
     "start_time": "2021-12-07T01:24:53.016268Z"
    }
   },
   "outputs": [],
   "source": [
    "X_train, X_test, y_train, y_test = train_test_split(X, y, test_size = 0.2, random_state=11, stratify= y)"
   ]
  },
  {
   "cell_type": "code",
   "execution_count": 62,
   "id": "9f82bca6",
   "metadata": {
    "ExecuteTime": {
     "end_time": "2021-12-07T01:25:05.031440Z",
     "start_time": "2021-12-07T01:25:05.017569Z"
    }
   },
   "outputs": [],
   "source": [
    "parameters = {'n_neighbors':list(range(3,10))}"
   ]
  },
  {
   "cell_type": "code",
   "execution_count": 63,
   "id": "be62667e",
   "metadata": {
    "ExecuteTime": {
     "end_time": "2021-12-07T01:26:02.987302Z",
     "start_time": "2021-12-07T01:26:02.978824Z"
    }
   },
   "outputs": [],
   "source": [
    "knn_model = KNeighborsClassifier()"
   ]
  },
  {
   "cell_type": "code",
   "execution_count": 78,
   "id": "3d1eff6e",
   "metadata": {
    "ExecuteTime": {
     "end_time": "2021-12-07T01:36:21.511548Z",
     "start_time": "2021-12-07T01:36:21.495543Z"
    }
   },
   "outputs": [],
   "source": [
    "gridknn = GridSearchCV(knn_model, param_grid= parameters, cv = 5, scoring = 'accuracy')"
   ]
  },
  {
   "cell_type": "code",
   "execution_count": 79,
   "id": "a4682be4",
   "metadata": {
    "ExecuteTime": {
     "end_time": "2021-12-07T01:36:22.206208Z",
     "start_time": "2021-12-07T01:36:21.885648Z"
    }
   },
   "outputs": [
    {
     "data": {
      "text/plain": [
       "GridSearchCV(cv=5, estimator=KNeighborsClassifier(),\n",
       "             param_grid={'n_neighbors': [3, 4, 5, 6, 7, 8, 9]},\n",
       "             scoring='accuracy')"
      ]
     },
     "execution_count": 79,
     "metadata": {},
     "output_type": "execute_result"
    }
   ],
   "source": [
    "gridknn.fit(X_train, y_train)"
   ]
  },
  {
   "cell_type": "code",
   "execution_count": 80,
   "id": "afd419f4",
   "metadata": {
    "ExecuteTime": {
     "end_time": "2021-12-07T01:36:22.357454Z",
     "start_time": "2021-12-07T01:36:22.344453Z"
    }
   },
   "outputs": [
    {
     "data": {
      "text/plain": [
       "0.7346104599625727"
      ]
     },
     "execution_count": 80,
     "metadata": {},
     "output_type": "execute_result"
    }
   ],
   "source": [
    "gridknn.best_score_"
   ]
  },
  {
   "cell_type": "code",
   "execution_count": 69,
   "id": "f180c85d",
   "metadata": {
    "ExecuteTime": {
     "end_time": "2021-12-07T01:28:18.011823Z",
     "start_time": "2021-12-07T01:28:18.001797Z"
    },
    "scrolled": true
   },
   "outputs": [
    {
     "data": {
      "text/plain": [
       "({'n_neighbors': 5}, 0.7346104599625727)"
      ]
     },
     "execution_count": 69,
     "metadata": {},
     "output_type": "execute_result"
    }
   ],
   "source": [
    "gridknn.best_params_, gridknn.best_score_"
   ]
  },
  {
   "cell_type": "code",
   "execution_count": 72,
   "id": "d42c8e96",
   "metadata": {
    "ExecuteTime": {
     "end_time": "2021-12-07T01:29:43.620365Z",
     "start_time": "2021-12-07T01:29:43.600563Z"
    }
   },
   "outputs": [
    {
     "data": {
      "text/plain": [
       "Index(['mean_fit_time', 'std_fit_time', 'mean_score_time', 'std_score_time',\n",
       "       'param_n_neighbors', 'params', 'split0_test_score', 'split1_test_score',\n",
       "       'split2_test_score', 'split3_test_score', 'split4_test_score',\n",
       "       'mean_test_score', 'std_test_score', 'rank_test_score',\n",
       "       'split0_train_score', 'split1_train_score', 'split2_train_score',\n",
       "       'split3_train_score', 'split4_train_score', 'mean_train_score',\n",
       "       'std_train_score'],\n",
       "      dtype='object')"
      ]
     },
     "execution_count": 72,
     "metadata": {},
     "output_type": "execute_result"
    }
   ],
   "source": [
    "pd.DataFrame(model_kn_grid.cv_results_).columns"
   ]
  },
  {
   "cell_type": "code",
   "execution_count": 81,
   "id": "68727c62",
   "metadata": {
    "ExecuteTime": {
     "end_time": "2021-12-07T04:47:36.900113Z",
     "start_time": "2021-12-07T04:47:36.877094Z"
    }
   },
   "outputs": [
    {
     "data": {
      "text/html": [
       "<div>\n",
       "<style scoped>\n",
       "    .dataframe tbody tr th:only-of-type {\n",
       "        vertical-align: middle;\n",
       "    }\n",
       "\n",
       "    .dataframe tbody tr th {\n",
       "        vertical-align: top;\n",
       "    }\n",
       "\n",
       "    .dataframe thead th {\n",
       "        text-align: right;\n",
       "    }\n",
       "</style>\n",
       "<table border=\"1\" class=\"dataframe\">\n",
       "  <thead>\n",
       "    <tr style=\"text-align: right;\">\n",
       "      <th></th>\n",
       "      <th>mean_fit_time</th>\n",
       "      <th>std_fit_time</th>\n",
       "      <th>mean_score_time</th>\n",
       "      <th>std_score_time</th>\n",
       "      <th>param_n_neighbors</th>\n",
       "      <th>params</th>\n",
       "      <th>split0_test_score</th>\n",
       "      <th>split1_test_score</th>\n",
       "      <th>split2_test_score</th>\n",
       "      <th>split3_test_score</th>\n",
       "      <th>split4_test_score</th>\n",
       "      <th>mean_test_score</th>\n",
       "      <th>std_test_score</th>\n",
       "      <th>rank_test_score</th>\n",
       "    </tr>\n",
       "  </thead>\n",
       "  <tbody>\n",
       "    <tr>\n",
       "      <th>0</th>\n",
       "      <td>0.003598</td>\n",
       "      <td>0.000495</td>\n",
       "      <td>0.004847</td>\n",
       "      <td>0.000456</td>\n",
       "      <td>3</td>\n",
       "      <td>{'n_neighbors': 3}</td>\n",
       "      <td>0.713287</td>\n",
       "      <td>0.622378</td>\n",
       "      <td>0.697183</td>\n",
       "      <td>0.753521</td>\n",
       "      <td>0.746479</td>\n",
       "      <td>0.706569</td>\n",
       "      <td>0.046944</td>\n",
       "      <td>4</td>\n",
       "    </tr>\n",
       "    <tr>\n",
       "      <th>1</th>\n",
       "      <td>0.003891</td>\n",
       "      <td>0.000164</td>\n",
       "      <td>0.004991</td>\n",
       "      <td>0.000020</td>\n",
       "      <td>4</td>\n",
       "      <td>{'n_neighbors': 4}</td>\n",
       "      <td>0.720280</td>\n",
       "      <td>0.664336</td>\n",
       "      <td>0.690141</td>\n",
       "      <td>0.739437</td>\n",
       "      <td>0.718310</td>\n",
       "      <td>0.706501</td>\n",
       "      <td>0.026304</td>\n",
       "      <td>5</td>\n",
       "    </tr>\n",
       "    <tr>\n",
       "      <th>2</th>\n",
       "      <td>0.003388</td>\n",
       "      <td>0.000477</td>\n",
       "      <td>0.004713</td>\n",
       "      <td>0.000395</td>\n",
       "      <td>5</td>\n",
       "      <td>{'n_neighbors': 5}</td>\n",
       "      <td>0.741259</td>\n",
       "      <td>0.685315</td>\n",
       "      <td>0.746479</td>\n",
       "      <td>0.767606</td>\n",
       "      <td>0.732394</td>\n",
       "      <td>0.734610</td>\n",
       "      <td>0.027235</td>\n",
       "      <td>1</td>\n",
       "    </tr>\n",
       "    <tr>\n",
       "      <th>3</th>\n",
       "      <td>0.003516</td>\n",
       "      <td>0.000449</td>\n",
       "      <td>0.004780</td>\n",
       "      <td>0.000461</td>\n",
       "      <td>6</td>\n",
       "      <td>{'n_neighbors': 6}</td>\n",
       "      <td>0.671329</td>\n",
       "      <td>0.692308</td>\n",
       "      <td>0.732394</td>\n",
       "      <td>0.746479</td>\n",
       "      <td>0.711268</td>\n",
       "      <td>0.710755</td>\n",
       "      <td>0.026979</td>\n",
       "      <td>3</td>\n",
       "    </tr>\n",
       "    <tr>\n",
       "      <th>4</th>\n",
       "      <td>0.003132</td>\n",
       "      <td>0.000360</td>\n",
       "      <td>0.004596</td>\n",
       "      <td>0.000487</td>\n",
       "      <td>7</td>\n",
       "      <td>{'n_neighbors': 7}</td>\n",
       "      <td>0.664336</td>\n",
       "      <td>0.678322</td>\n",
       "      <td>0.753521</td>\n",
       "      <td>0.767606</td>\n",
       "      <td>0.718310</td>\n",
       "      <td>0.716419</td>\n",
       "      <td>0.040409</td>\n",
       "      <td>2</td>\n",
       "    </tr>\n",
       "    <tr>\n",
       "      <th>5</th>\n",
       "      <td>0.003007</td>\n",
       "      <td>0.000011</td>\n",
       "      <td>0.003997</td>\n",
       "      <td>0.000029</td>\n",
       "      <td>8</td>\n",
       "      <td>{'n_neighbors': 8}</td>\n",
       "      <td>0.650350</td>\n",
       "      <td>0.650350</td>\n",
       "      <td>0.725352</td>\n",
       "      <td>0.760563</td>\n",
       "      <td>0.718310</td>\n",
       "      <td>0.700985</td>\n",
       "      <td>0.043752</td>\n",
       "      <td>6</td>\n",
       "    </tr>\n",
       "    <tr>\n",
       "      <th>6</th>\n",
       "      <td>0.003199</td>\n",
       "      <td>0.000399</td>\n",
       "      <td>0.004689</td>\n",
       "      <td>0.000596</td>\n",
       "      <td>9</td>\n",
       "      <td>{'n_neighbors': 9}</td>\n",
       "      <td>0.671329</td>\n",
       "      <td>0.671329</td>\n",
       "      <td>0.697183</td>\n",
       "      <td>0.739437</td>\n",
       "      <td>0.697183</td>\n",
       "      <td>0.695292</td>\n",
       "      <td>0.024917</td>\n",
       "      <td>7</td>\n",
       "    </tr>\n",
       "  </tbody>\n",
       "</table>\n",
       "</div>"
      ],
      "text/plain": [
       "   mean_fit_time  std_fit_time  mean_score_time  std_score_time  \\\n",
       "0       0.003598      0.000495         0.004847        0.000456   \n",
       "1       0.003891      0.000164         0.004991        0.000020   \n",
       "2       0.003388      0.000477         0.004713        0.000395   \n",
       "3       0.003516      0.000449         0.004780        0.000461   \n",
       "4       0.003132      0.000360         0.004596        0.000487   \n",
       "5       0.003007      0.000011         0.003997        0.000029   \n",
       "6       0.003199      0.000399         0.004689        0.000596   \n",
       "\n",
       "  param_n_neighbors              params  split0_test_score  split1_test_score  \\\n",
       "0                 3  {'n_neighbors': 3}           0.713287           0.622378   \n",
       "1                 4  {'n_neighbors': 4}           0.720280           0.664336   \n",
       "2                 5  {'n_neighbors': 5}           0.741259           0.685315   \n",
       "3                 6  {'n_neighbors': 6}           0.671329           0.692308   \n",
       "4                 7  {'n_neighbors': 7}           0.664336           0.678322   \n",
       "5                 8  {'n_neighbors': 8}           0.650350           0.650350   \n",
       "6                 9  {'n_neighbors': 9}           0.671329           0.671329   \n",
       "\n",
       "   split2_test_score  split3_test_score  split4_test_score  mean_test_score  \\\n",
       "0           0.697183           0.753521           0.746479         0.706569   \n",
       "1           0.690141           0.739437           0.718310         0.706501   \n",
       "2           0.746479           0.767606           0.732394         0.734610   \n",
       "3           0.732394           0.746479           0.711268         0.710755   \n",
       "4           0.753521           0.767606           0.718310         0.716419   \n",
       "5           0.725352           0.760563           0.718310         0.700985   \n",
       "6           0.697183           0.739437           0.697183         0.695292   \n",
       "\n",
       "   std_test_score  rank_test_score  \n",
       "0        0.046944                4  \n",
       "1        0.026304                5  \n",
       "2        0.027235                1  \n",
       "3        0.026979                3  \n",
       "4        0.040409                2  \n",
       "5        0.043752                6  \n",
       "6        0.024917                7  "
      ]
     },
     "execution_count": 81,
     "metadata": {},
     "output_type": "execute_result"
    }
   ],
   "source": [
    "pd.DataFrame(gridknn.cv_results_)"
   ]
  },
  {
   "cell_type": "code",
   "execution_count": 82,
   "id": "d945ee3a",
   "metadata": {
    "ExecuteTime": {
     "end_time": "2021-12-07T04:47:42.859829Z",
     "start_time": "2021-12-07T04:47:42.846816Z"
    }
   },
   "outputs": [
    {
     "data": {
      "text/plain": [
       "0    0.706569\n",
       "1    0.706501\n",
       "2    0.734610\n",
       "3    0.710755\n",
       "4    0.716419\n",
       "5    0.700985\n",
       "6    0.695292\n",
       "Name: mean_test_score, dtype: float64"
      ]
     },
     "execution_count": 82,
     "metadata": {},
     "output_type": "execute_result"
    }
   ],
   "source": [
    "pd.DataFrame(gridknn.cv_results_).mean_test_score"
   ]
  },
  {
   "cell_type": "code",
   "execution_count": 83,
   "id": "9d4e8425",
   "metadata": {
    "ExecuteTime": {
     "end_time": "2021-12-07T04:47:48.417054Z",
     "start_time": "2021-12-07T04:47:48.408062Z"
    }
   },
   "outputs": [
    {
     "data": {
      "text/plain": [
       "0    4\n",
       "1    5\n",
       "2    1\n",
       "3    3\n",
       "4    2\n",
       "5    6\n",
       "6    7\n",
       "Name: rank_test_score, dtype: int32"
      ]
     },
     "execution_count": 83,
     "metadata": {},
     "output_type": "execute_result"
    }
   ],
   "source": [
    "pd.DataFrame(gridknn.cv_results_).rank_test_score"
   ]
  }
 ],
 "metadata": {
  "hide_input": false,
  "kernelspec": {
   "display_name": "Python 3",
   "language": "python",
   "name": "python3"
  },
  "language_info": {
   "codemirror_mode": {
    "name": "ipython",
    "version": 3
   },
   "file_extension": ".py",
   "mimetype": "text/x-python",
   "name": "python",
   "nbconvert_exporter": "python",
   "pygments_lexer": "ipython3",
   "version": "3.8.8"
  },
  "toc": {
   "base_numbering": 1,
   "nav_menu": {},
   "number_sections": true,
   "sideBar": true,
   "skip_h1_title": false,
   "title_cell": "Table of Contents",
   "title_sidebar": "Contents",
   "toc_cell": false,
   "toc_position": {},
   "toc_section_display": true,
   "toc_window_display": false
  },
  "varInspector": {
   "cols": {
    "lenName": 16,
    "lenType": 16,
    "lenVar": 40
   },
   "kernels_config": {
    "python": {
     "delete_cmd_postfix": "",
     "delete_cmd_prefix": "del ",
     "library": "var_list.py",
     "varRefreshCmd": "print(var_dic_list())"
    },
    "r": {
     "delete_cmd_postfix": ") ",
     "delete_cmd_prefix": "rm(",
     "library": "var_list.r",
     "varRefreshCmd": "cat(var_dic_list()) "
    }
   },
   "position": {
    "height": "567.844px",
    "left": "477px",
    "right": "20px",
    "top": "675px",
    "width": "350px"
   },
   "types_to_exclude": [
    "module",
    "function",
    "builtin_function_or_method",
    "instance",
    "_Feature"
   ],
   "window_display": true
  }
 },
 "nbformat": 4,
 "nbformat_minor": 5
}
