{
 "cells": [
  {
   "cell_type": "code",
   "execution_count": 1,
   "id": "a54790c7",
   "metadata": {
    "ExecuteTime": {
     "end_time": "2021-12-17T04:45:14.677058Z",
     "start_time": "2021-12-17T04:45:14.078464Z"
    }
   },
   "outputs": [
    {
     "data": {
      "text/html": [
       "<style>.container { font-weight: bold !important;}</style>"
      ],
      "text/plain": [
       "<IPython.core.display.HTML object>"
      ]
     },
     "metadata": {},
     "output_type": "display_data"
    },
    {
     "data": {
      "text/html": [
       "<style>.container { width: 98% !important; }</style>"
      ],
      "text/plain": [
       "<IPython.core.display.HTML object>"
      ]
     },
     "metadata": {},
     "output_type": "display_data"
    }
   ],
   "source": [
    "# 주피터 노트북 환경설정\n",
    "import warnings\n",
    "warnings.filterwarnings('ignore')\n",
    "warnings.simplefilter('ignore')\n",
    "\n",
    "from IPython.display import set_matplotlib_formats\n",
    "set_matplotlib_formats(\"retina\")\n",
    "\n",
    "from IPython.core.display import display, HTML\n",
    "# display(HTML(\"<style>.container { font-weight: bold !important; font-family:'Malgun Gothic' !important;}</style>\"))\n",
    "display(HTML(\"<style>.container { font-weight: bold !important;}</style>\"))\n",
    "display(HTML(\"<style>.container { width: 98% !important; }</style>\"))"
   ]
  },
  {
   "cell_type": "code",
   "execution_count": 2,
   "id": "4ce79431",
   "metadata": {
    "ExecuteTime": {
     "end_time": "2021-12-17T04:45:16.509235Z",
     "start_time": "2021-12-17T04:45:14.679057Z"
    }
   },
   "outputs": [],
   "source": [
    "import numpy as np\n",
    "import pandas as pd\n",
    "import os\n",
    "\n",
    "import matplotlib\n",
    "import matplotlib.pyplot as plt\n",
    "import seaborn as sns\n",
    "\n",
    "%matplotlib inline\n",
    "\n",
    "# 관련 라이브러리 임포트 \n",
    "import matplotlib.font_manager as fm\n",
    "\n",
    "#  한글글꼴로 변경\n",
    "# plt.rcParams['font.family'] = '한글글꼴명'\n",
    "plt.rcParams['font.size'] = 11.0\n",
    "# plt.rcParams['font.family'] = 'batang'\n",
    "plt.rcParams['font.family'] = 'Malgun Gothic'\n",
    "\n",
    "# 그래프에서 마이너스 폰트 깨지는 문제에 대한 대처\n",
    "matplotlib.rcParams['axes.unicode_minus'] = False\n",
    "plt.style\n",
    "plt.style.use(\"ggplot\")\n",
    "\n",
    "# 그래프 기본 크기 설정 \n",
    "plt.rcParams['figure.figsize'] = [10, 6]"
   ]
  },
  {
   "cell_type": "markdown",
   "id": "04d7932e",
   "metadata": {},
   "source": [
    "# 회귀(Regression)\n",
    "\n",
    "- 모델 파라미터 \n",
    "    - 기울기(가중치 weight, 계수 coefficient) : coef_\n",
    "    - 절편(bias) : intercept_\n",
    "    \n",
    "    \n",
    "- 여러개의 독립변수와 한 개의 종속변수 간의 상관관계를 모델링하는 기법\n",
    "- 예를들면 아파트의 방 개수, 화장실 크기 등의 독립변수에 따라서 아파트 가격인 종속변수가 어떤 관계를 가지는지를 모델링하고 예측하는 것\n",
    "\n",
    "    \n",
    "```\n",
    "선형 분석은 영국의 유전학자 Francis Galton이 유전의 법칙을 연구하다 나온 것에 기인하게 된다. \n",
    "연구의 내용은 부모와 자녀의 키 사이의 관계 였는데 연구결과로, \n",
    "아버지와 어머니의 키의 평균을 조사하여 표로 나타낸 결과 자녀의 키는 엄청 크거나 작은 것이 아닌 \n",
    "그 세대의 평균으로 돌아가려는 경향이 있다는 것을 발견하였다.\n",
    "Galton은 이를 회귀 분석(Regression Analysis) 라고 명칭하였다.\n",
    "```\n",
    "\n",
    "<img src='https://upload.wikimedia.org/wikipedia/commons/thumb/a/a8/Regression_lineaire_avec_R.svg/500px-Regression_lineaire_avec_R.svg.png'>"
   ]
  },
  {
   "cell_type": "markdown",
   "id": "baabdf3d",
   "metadata": {},
   "source": [
    "# 회귀 알고리즘의 종류 \n",
    "\n",
    "1. 선형 회귀(Linear regression)\n",
    "\n",
    "머신러닝에서 가장 일반적인 회귀분석 유형이라고 할 수 있는 선형 회귀는 예측 변수와 종속 변수로 구성되며, \n",
    "이 둘은 선형 방식으로 서로 연관지어져 있다. \n",
    "선형 회귀는  가장 적합한 선, 즉 최적적합선을 사용한다.\n",
    "\n",
    "\n",
    "2. 로지스틱 회귀(Logistic regression)\n",
    "\n",
    "종속 변수에 이산 값이 있는 경우, 다시 말해 0 또는 1, 참 또는 거짓, 흑 또는 백, \n",
    "스팸 또는 스팸 아닌 것 등의 두 가지 값 중 하나만 취할 수 있는 경우 사용 \n",
    "사실상 분류에 속한다. \n",
    "\n",
    "\n",
    "3. 리지 회귀(Ridge regression)\n",
    "\n",
    "다중 회귀라고도 불리는 리지 회귀는 정규화 또는 규제화(regularization) 기법으로 알려져 있으며 \n",
    "모델의 복잡성을 줄이는 데 사용된다. \n",
    "또한 ‘리지 회귀 페널티’로 알려진 약간의 편향, 즉 바이어스(bias)를 사용하여 \n",
    "모델이 과대적합(overfitting)에 덜 취약하게 만든다.\n",
    "\n",
    "4. 라쏘 회귀(Lasso regression)\n",
    "라쏘 회귀는 리지 회귀와 같이 모델의 복잡성을 줄여주는 또 다른 정규화 기법이다. \n",
    "회귀 계수의 절대 사이즈를 금지함으로써 복잡성을 줄인다. 리지 회귀와는 다르게 아예 계수 값을 0에 가깝게 만든다.\n",
    "\n",
    "5. 다항 회귀(Polynomial regression)\n",
    "\n",
    "다항 회귀는 선형 모델을 사용하여 비선형 데이터 집합을 모델링한다. \n",
    "이것은 동그란 모양의 구멍에 네모난 모양의 못 또는 말뚝을 끼워 넣는 것과 같다. \n",
    "다항 회귀는 독립 변수가 여러 개인 선형 회귀를 뜻하는 다중 선형 회귀와 비슷한 방식으로 작동하지만, \n",
    "비선형 곡선을 사용한다. 즉, 데이터 포인트가 비선형 방식으로 존재할 때 사용한다."
   ]
  },
  {
   "cell_type": "markdown",
   "id": "4701468c",
   "metadata": {
    "ExecuteTime": {
     "end_time": "2021-12-08T01:29:53.866820Z",
     "start_time": "2021-12-08T01:29:53.856828Z"
    }
   },
   "source": [
    "# 농어의 길이와 무게\n",
    "\n",
    "- 데이타준비  http://bit.ly/perch_data"
   ]
  },
  {
   "cell_type": "code",
   "execution_count": 3,
   "id": "8fd49d9a",
   "metadata": {
    "ExecuteTime": {
     "end_time": "2021-12-17T04:45:17.608694Z",
     "start_time": "2021-12-17T04:45:16.511219Z"
    }
   },
   "outputs": [],
   "source": [
    "from sklearn.model_selection import train_test_split\n",
    "\n",
    "# from sklearn.neighbors import KNeighborsRegressor\n",
    "from sklearn.linear_model import LinearRegression"
   ]
  },
  {
   "cell_type": "code",
   "execution_count": 4,
   "id": "3044f51b",
   "metadata": {
    "ExecuteTime": {
     "end_time": "2021-12-17T04:45:17.623696Z",
     "start_time": "2021-12-17T04:45:17.610681Z"
    }
   },
   "outputs": [],
   "source": [
    "perch_length = np.array(\n",
    "    [8.4, 13.7, 15.0, 16.2, 17.4, 18.0, 18.7, 19.0, 19.6, 20.0, \n",
    "     21.0, 21.0, 21.0, 21.3, 22.0, 22.0, 22.0, 22.0, 22.0, 22.5, \n",
    "     22.5, 22.7, 23.0, 23.5, 24.0, 24.0, 24.6, 25.0, 25.6, 26.5, \n",
    "     27.3, 27.5, 27.5, 27.5, 28.0, 28.7, 30.0, 32.8, 34.5, 35.0, \n",
    "     36.5, 36.0, 37.0, 37.0, 39.0, 39.0, 39.0, 40.0, 40.0, 40.0, \n",
    "     40.0, 42.0, 43.0, 43.0, 43.5, 44.0]\n",
    "     ).reshape(-1, 1)\n",
    "\n",
    "perch_weight = np.array(\n",
    "    [5.9, 32.0, 40.0, 51.5, 70.0, 100.0, 78.0, 80.0, 85.0, 85.0, \n",
    "     110.0, 115.0, 125.0, 130.0, 120.0, 120.0, 130.0, 135.0, 110.0, \n",
    "     130.0, 150.0, 145.0, 150.0, 170.0, 225.0, 145.0, 188.0, 180.0, \n",
    "     197.0, 218.0, 300.0, 260.0, 265.0, 250.0, 250.0, 300.0, 320.0, \n",
    "     514.0, 556.0, 840.0, 685.0, 700.0, 700.0, 690.0, 900.0, 650.0, \n",
    "     820.0, 850.0, 900.0, 1015.0, 820.0, 1100.0, 1000.0, 1100.0, \n",
    "     1000.0, 1000.0]\n",
    "     ).reshape(-1, 1)"
   ]
  },
  {
   "cell_type": "code",
   "execution_count": 5,
   "id": "8cf573a1",
   "metadata": {
    "ExecuteTime": {
     "end_time": "2021-12-17T04:45:17.653704Z",
     "start_time": "2021-12-17T04:45:17.625695Z"
    }
   },
   "outputs": [
    {
     "data": {
      "text/html": [
       "<div>\n",
       "<style scoped>\n",
       "    .dataframe tbody tr th:only-of-type {\n",
       "        vertical-align: middle;\n",
       "    }\n",
       "\n",
       "    .dataframe tbody tr th {\n",
       "        vertical-align: top;\n",
       "    }\n",
       "\n",
       "    .dataframe thead th {\n",
       "        text-align: right;\n",
       "    }\n",
       "</style>\n",
       "<table border=\"1\" class=\"dataframe\">\n",
       "  <thead>\n",
       "    <tr style=\"text-align: right;\">\n",
       "      <th></th>\n",
       "      <th>length</th>\n",
       "      <th>weight</th>\n",
       "    </tr>\n",
       "  </thead>\n",
       "  <tbody>\n",
       "    <tr>\n",
       "      <th>0</th>\n",
       "      <td>8.4</td>\n",
       "      <td>5.9</td>\n",
       "    </tr>\n",
       "    <tr>\n",
       "      <th>1</th>\n",
       "      <td>13.7</td>\n",
       "      <td>32.0</td>\n",
       "    </tr>\n",
       "    <tr>\n",
       "      <th>2</th>\n",
       "      <td>15.0</td>\n",
       "      <td>40.0</td>\n",
       "    </tr>\n",
       "  </tbody>\n",
       "</table>\n",
       "</div>"
      ],
      "text/plain": [
       "   length  weight\n",
       "0     8.4     5.9\n",
       "1    13.7    32.0\n",
       "2    15.0    40.0"
      ]
     },
     "execution_count": 5,
     "metadata": {},
     "output_type": "execute_result"
    }
   ],
   "source": [
    "perch_df = pd.DataFrame(columns=['length','weight'])\n",
    "perch_df['length'] = perch_length.flatten() \n",
    "perch_df['weight'] = perch_weight.flatten() \n",
    "perch_df.head(3)"
   ]
  },
  {
   "cell_type": "code",
   "execution_count": 6,
   "id": "fb7c08a0",
   "metadata": {
    "ExecuteTime": {
     "end_time": "2021-12-17T04:45:17.998749Z",
     "start_time": "2021-12-17T04:45:17.655700Z"
    }
   },
   "outputs": [
    {
     "data": {
      "image/png": "[encoded data removed]",
      "text/plain": [
       "<Figure size 720x432 with 1 Axes>"
      ]
     },
     "metadata": {},
     "output_type": "display_data"
    }
   ],
   "source": [
    "sns.regplot(x='length' , y='weight',data=perch_df);"
   ]
  },
  {
   "cell_type": "code",
   "execution_count": 7,
   "id": "f0019feb",
   "metadata": {
    "ExecuteTime": {
     "end_time": "2021-12-17T04:45:18.014322Z",
     "start_time": "2021-12-17T04:45:18.000750Z"
    }
   },
   "outputs": [
    {
     "data": {
      "text/plain": [
       "(2, 2, (56, 1), (56, 1))"
      ]
     },
     "execution_count": 7,
     "metadata": {},
     "output_type": "execute_result"
    }
   ],
   "source": [
    "perch_length.ndim, perch_weight.ndim, perch_length.shape, perch_weight.shape"
   ]
  },
  {
   "cell_type": "code",
   "execution_count": 8,
   "id": "6b4653c8",
   "metadata": {
    "ExecuteTime": {
     "end_time": "2021-12-17T04:45:18.029327Z",
     "start_time": "2021-12-17T04:45:18.016322Z"
    }
   },
   "outputs": [
    {
     "name": "stdout",
     "output_type": "stream",
     "text": [
      "[[ 8.4]\n",
      " [13.7]\n",
      " [15. ]]\n",
      "[[ 5.9]\n",
      " [32. ]\n",
      " [40. ]]\n"
     ]
    }
   ],
   "source": [
    "print(perch_length[:3])\n",
    "print(perch_weight[:3])"
   ]
  },
  {
   "cell_type": "code",
   "execution_count": 9,
   "id": "cab2264d",
   "metadata": {
    "ExecuteTime": {
     "end_time": "2021-12-17T04:45:18.044174Z",
     "start_time": "2021-12-17T04:45:18.030670Z"
    }
   },
   "outputs": [
    {
     "data": {
      "text/plain": [
       "((42, 1), (14, 1))"
      ]
     },
     "execution_count": 9,
     "metadata": {},
     "output_type": "execute_result"
    }
   ],
   "source": [
    "X_train, X_test, y_train, y_test = train_test_split(perch_length, perch_weight, random_state=42)\n",
    "X_train.shape, X_test.shape"
   ]
  },
  {
   "cell_type": "code",
   "execution_count": 10,
   "id": "09fe1a79",
   "metadata": {
    "ExecuteTime": {
     "end_time": "2021-12-17T04:45:18.059308Z",
     "start_time": "2021-12-17T04:45:18.046174Z"
    }
   },
   "outputs": [],
   "source": [
    "from sklearn.linear_model import LinearRegression"
   ]
  },
  {
   "cell_type": "code",
   "execution_count": 11,
   "id": "555792bd",
   "metadata": {
    "ExecuteTime": {
     "end_time": "2021-12-17T04:45:18.074310Z",
     "start_time": "2021-12-17T04:45:18.061309Z"
    }
   },
   "outputs": [
    {
     "data": {
      "text/plain": [
       "LinearRegression()"
      ]
     },
     "execution_count": 11,
     "metadata": {},
     "output_type": "execute_result"
    }
   ],
   "source": [
    "model_lr = LinearRegression()\n",
    "\n",
    "model_lr.fit(X_train, y_train)"
   ]
  },
  {
   "cell_type": "code",
   "execution_count": 12,
   "id": "4465a99b",
   "metadata": {
    "ExecuteTime": {
     "end_time": "2021-12-17T04:45:18.089315Z",
     "start_time": "2021-12-17T04:45:18.075311Z"
    }
   },
   "outputs": [
    {
     "data": {
      "text/plain": [
       "{'copy_X': True,\n",
       " 'fit_intercept': True,\n",
       " 'n_jobs': None,\n",
       " 'normalize': False,\n",
       " 'positive': False}"
      ]
     },
     "execution_count": 12,
     "metadata": {},
     "output_type": "execute_result"
    }
   ],
   "source": [
    "model_lr.get_params()"
   ]
  },
  {
   "cell_type": "code",
   "execution_count": 13,
   "id": "62fc782b",
   "metadata": {
    "ExecuteTime": {
     "end_time": "2021-12-17T04:45:18.104318Z",
     "start_time": "2021-12-17T04:45:18.090314Z"
    }
   },
   "outputs": [
    {
     "name": "stdout",
     "output_type": "stream",
     "text": [
      "기울기 => [[39.01714496]] 절편 =>  [-709.01864495]\n"
     ]
    }
   ],
   "source": [
    "# 기울기(가중치 weight, 계수 coefficient) : coef_\n",
    "# 절편(bias) : intercept_\n",
    "    \n",
    "print('기울기 =>', model_lr.coef_, '절편 => ', model_lr.intercept_)"
   ]
  },
  {
   "cell_type": "code",
   "execution_count": 14,
   "id": "767263af",
   "metadata": {
    "ExecuteTime": {
     "end_time": "2021-12-17T04:45:18.119325Z",
     "start_time": "2021-12-17T04:45:18.106319Z"
    }
   },
   "outputs": [
    {
     "name": "stdout",
     "output_type": "stream",
     "text": [
      "[[1241.83860323]]\n"
     ]
    }
   ],
   "source": [
    "print(model_lr.predict([[50]]))"
   ]
  },
  {
   "cell_type": "code",
   "execution_count": 15,
   "id": "e73fdadc",
   "metadata": {
    "ExecuteTime": {
     "end_time": "2021-12-17T04:45:18.134329Z",
     "start_time": "2021-12-17T04:45:18.121327Z"
    }
   },
   "outputs": [
    {
     "name": "stdout",
     "output_type": "stream",
     "text": [
      "[[39.01714496]] [-709.01864495]\n"
     ]
    }
   ],
   "source": [
    "print(model_lr.coef_, model_lr.intercept_)"
   ]
  },
  {
   "cell_type": "code",
   "execution_count": 16,
   "id": "ab24fc13",
   "metadata": {
    "ExecuteTime": {
     "end_time": "2021-12-17T04:45:18.149333Z",
     "start_time": "2021-12-17T04:45:18.135328Z"
    }
   },
   "outputs": [
    {
     "data": {
      "text/plain": [
       "39.0171449636302"
      ]
     },
     "execution_count": 16,
     "metadata": {},
     "output_type": "execute_result"
    }
   ],
   "source": [
    "model_lr.coef_[0,0]"
   ]
  },
  {
   "cell_type": "code",
   "execution_count": 17,
   "id": "e62f01e5",
   "metadata": {
    "ExecuteTime": {
     "end_time": "2021-12-17T04:45:18.164336Z",
     "start_time": "2021-12-17T04:45:18.151332Z"
    }
   },
   "outputs": [
    {
     "data": {
      "text/plain": [
       "(13.7, 44.0)"
      ]
     },
     "execution_count": 17,
     "metadata": {},
     "output_type": "execute_result"
    }
   ],
   "source": [
    "X_train.min(), X_train.max()"
   ]
  },
  {
   "cell_type": "code",
   "execution_count": 18,
   "id": "f7af3a0c",
   "metadata": {
    "ExecuteTime": {
     "end_time": "2021-12-17T04:45:18.299367Z",
     "start_time": "2021-12-17T04:45:18.165335Z"
    }
   },
   "outputs": [
    {
     "data": {
      "image/png": "[encoded data removed]",
      "text/plain": [
       "<Figure size 720x432 with 1 Axes>"
      ]
     },
     "metadata": {},
     "output_type": "display_data"
    }
   ],
   "source": [
    "plt.scatter(X_train, y_train)\n",
    "\n",
    "plt.plot([0, 50], [12*model_lr.coef_[0,0] + model_lr.intercept_ , 50*model_lr.coef_[0,0] + model_lr.intercept_ ])\n",
    "\n",
    "\n",
    "plt.scatter(50, 1241.8, marker='^')\n",
    "plt.show()\n"
   ]
  },
  {
   "cell_type": "code",
   "execution_count": 19,
   "id": "4d8b9a3d",
   "metadata": {
    "ExecuteTime": {
     "end_time": "2021-12-17T04:45:18.314370Z",
     "start_time": "2021-12-17T04:45:18.301367Z"
    }
   },
   "outputs": [
    {
     "name": "stdout",
     "output_type": "stream",
     "text": [
      "0.939846333997604\n",
      "0.8247503123313558\n"
     ]
    }
   ],
   "source": [
    "print( model_lr.score(X_train, y_train))\n",
    "print( model_lr.score(X_test, y_test))"
   ]
  },
  {
   "cell_type": "markdown",
   "id": "207b0548",
   "metadata": {},
   "source": [
    "# 선형회귀 평가지표 \n",
    "\n",
    "- MAE, MSE, RMSE, MSLE, RMSLE\n",
    "- R²\n",
    "\n",
    "```\n",
    "실제 값과 회귀 예측값의 차이를 기반으로 한다.  \n",
    "MAE, MSE, RMSE, MSLE, RMSLE는 값이 작을수록 회귀 성능이 좋은 것이다. \n",
    "값이 작을수록 예측값과 실제값의 차이가 없다는 뜻\n",
    "반면, R² 는 값이 클수록 성능이 좋다.\n",
    "```\n",
    "\n",
    "```\n",
    "from sklearn.metrics import mean_squared_error, r2_score, mean_absolute_error, mean_squared_log_error\n",
    "\n",
    "MAE =  mean_absolute_error(y_test, model.predict(X_test))\n",
    "\n",
    "MSE = mean_squared_error(y_test, model.predict(X_test))\n",
    "\n",
    "RMSE = np.sqrt(MSE)\n",
    "\n",
    "MSLE = mean_squared_log_error(y_test, model.predict(X_test))\n",
    "\n",
    "RMSLE = np.sqrt(mean_squared_log_error(y_test, model.predict(X_test)))\n",
    "\n",
    "R2 = r2_score(y_test, model.predict(X_test))\n",
    "```"
   ]
  },
  {
   "cell_type": "code",
   "execution_count": 20,
   "id": "185c9336",
   "metadata": {
    "ExecuteTime": {
     "end_time": "2021-12-17T04:45:18.329373Z",
     "start_time": "2021-12-17T04:45:18.316370Z"
    }
   },
   "outputs": [
    {
     "name": "stdout",
     "output_type": "stream",
     "text": [
      "MAE =  94.46122937985581\n",
      "MSE =  17590.265977889187\n",
      "RMSE =  132.6283000640858\n",
      "R2 =  0.8247503123313558\n"
     ]
    }
   ],
   "source": [
    "from sklearn.metrics import mean_squared_error, r2_score, mean_absolute_error\n",
    "\n",
    "MAE =  mean_absolute_error(y_test, model_lr.predict(X_test))\n",
    "MSE =  mean_squared_error(y_test, model_lr.predict(X_test))\n",
    "RMSE = np.sqrt(MSE)\n",
    "R2 = r2_score(y_test, model_lr.predict(X_test))\n",
    "\n",
    "print(f'MAE =  {MAE}')\n",
    "print(f'MSE =  {MSE}')\n",
    "print(f'RMSE =  {RMSE}')\n",
    "print(f'R2 =  {R2}')"
   ]
  },
  {
   "cell_type": "markdown",
   "id": "41257f02",
   "metadata": {},
   "source": [
    "# 퀴즈 \n",
    "\n",
    "보스턴 주택 가격데이타를 스케일링한 후 선형회귀 모델을 정의하고 테스트하여라 \n",
    "\n",
    "\n",
    "* CRIM: 지역별 범죄 발생률  \n",
    "* ZN: 25,000평방피트를 초과하는 거주 지역의 비율\n",
    "* NDUS: 비상업 지역 넓이 비율\n",
    "* CHAS: 찰스강에 대한 더미 변수(강의 경계에 위치한 경우는 1, 아니면 0)\n",
    "* NOX: 일산화질소 농도\n",
    "* RM: 거주할 수 있는 방 개수\n",
    "* AGE: 1940년 이전에 건축된 소유 주택의 비율\n",
    "* DIS: 5개 주요 고용센터까지의 가중 거리\n",
    "* RAD: 고속도로 접근 용이도\n",
    "* TAX: 10,000달러당 재산세율\n",
    "* PTRATIO: 지역의 교사와 학생 수 비율\n",
    "* B: 지역의 흑인 거주 비율\n",
    "* LSTAT: 하위 계층의 비율\n",
    "* MEDV: 본인 소유의 주택 가격(중앙값)"
   ]
  },
  {
   "cell_type": "code",
   "execution_count": 65,
   "id": "ffc49e1a",
   "metadata": {
    "ExecuteTime": {
     "end_time": "2021-12-17T05:18:23.251095Z",
     "start_time": "2021-12-17T05:18:23.222089Z"
    }
   },
   "outputs": [
    {
     "name": "stdout",
     "output_type": "stream",
     "text": [
      "Boston 데이타셋 크기 : (506, 14)\n"
     ]
    },
    {
     "data": {
      "text/html": [
       "<div>\n",
       "<style scoped>\n",
       "    .dataframe tbody tr th:only-of-type {\n",
       "        vertical-align: middle;\n",
       "    }\n",
       "\n",
       "    .dataframe tbody tr th {\n",
       "        vertical-align: top;\n",
       "    }\n",
       "\n",
       "    .dataframe thead th {\n",
       "        text-align: right;\n",
       "    }\n",
       "</style>\n",
       "<table border=\"1\" class=\"dataframe\">\n",
       "  <thead>\n",
       "    <tr style=\"text-align: right;\">\n",
       "      <th></th>\n",
       "      <th>CRIM</th>\n",
       "      <th>ZN</th>\n",
       "      <th>INDUS</th>\n",
       "      <th>CHAS</th>\n",
       "      <th>NOX</th>\n",
       "      <th>RM</th>\n",
       "      <th>AGE</th>\n",
       "      <th>DIS</th>\n",
       "      <th>RAD</th>\n",
       "      <th>TAX</th>\n",
       "      <th>PTRATIO</th>\n",
       "      <th>B</th>\n",
       "      <th>LSTAT</th>\n",
       "      <th>PRICE</th>\n",
       "    </tr>\n",
       "  </thead>\n",
       "  <tbody>\n",
       "    <tr>\n",
       "      <th>0</th>\n",
       "      <td>0.00632</td>\n",
       "      <td>18.0</td>\n",
       "      <td>2.31</td>\n",
       "      <td>0.0</td>\n",
       "      <td>0.538</td>\n",
       "      <td>6.575</td>\n",
       "      <td>65.2</td>\n",
       "      <td>4.0900</td>\n",
       "      <td>1.0</td>\n",
       "      <td>296.0</td>\n",
       "      <td>15.3</td>\n",
       "      <td>396.90</td>\n",
       "      <td>4.98</td>\n",
       "      <td>24.0</td>\n",
       "    </tr>\n",
       "    <tr>\n",
       "      <th>1</th>\n",
       "      <td>0.02731</td>\n",
       "      <td>0.0</td>\n",
       "      <td>7.07</td>\n",
       "      <td>0.0</td>\n",
       "      <td>0.469</td>\n",
       "      <td>6.421</td>\n",
       "      <td>78.9</td>\n",
       "      <td>4.9671</td>\n",
       "      <td>2.0</td>\n",
       "      <td>242.0</td>\n",
       "      <td>17.8</td>\n",
       "      <td>396.90</td>\n",
       "      <td>9.14</td>\n",
       "      <td>21.6</td>\n",
       "    </tr>\n",
       "    <tr>\n",
       "      <th>2</th>\n",
       "      <td>0.02729</td>\n",
       "      <td>0.0</td>\n",
       "      <td>7.07</td>\n",
       "      <td>0.0</td>\n",
       "      <td>0.469</td>\n",
       "      <td>7.185</td>\n",
       "      <td>61.1</td>\n",
       "      <td>4.9671</td>\n",
       "      <td>2.0</td>\n",
       "      <td>242.0</td>\n",
       "      <td>17.8</td>\n",
       "      <td>392.83</td>\n",
       "      <td>4.03</td>\n",
       "      <td>34.7</td>\n",
       "    </tr>\n",
       "    <tr>\n",
       "      <th>3</th>\n",
       "      <td>0.03237</td>\n",
       "      <td>0.0</td>\n",
       "      <td>2.18</td>\n",
       "      <td>0.0</td>\n",
       "      <td>0.458</td>\n",
       "      <td>6.998</td>\n",
       "      <td>45.8</td>\n",
       "      <td>6.0622</td>\n",
       "      <td>3.0</td>\n",
       "      <td>222.0</td>\n",
       "      <td>18.7</td>\n",
       "      <td>394.63</td>\n",
       "      <td>2.94</td>\n",
       "      <td>33.4</td>\n",
       "    </tr>\n",
       "    <tr>\n",
       "      <th>4</th>\n",
       "      <td>0.06905</td>\n",
       "      <td>0.0</td>\n",
       "      <td>2.18</td>\n",
       "      <td>0.0</td>\n",
       "      <td>0.458</td>\n",
       "      <td>7.147</td>\n",
       "      <td>54.2</td>\n",
       "      <td>6.0622</td>\n",
       "      <td>3.0</td>\n",
       "      <td>222.0</td>\n",
       "      <td>18.7</td>\n",
       "      <td>396.90</td>\n",
       "      <td>5.33</td>\n",
       "      <td>36.2</td>\n",
       "    </tr>\n",
       "  </tbody>\n",
       "</table>\n",
       "</div>"
      ],
      "text/plain": [
       "      CRIM    ZN  INDUS  CHAS    NOX     RM   AGE     DIS  RAD    TAX  \\\n",
       "0  0.00632  18.0   2.31   0.0  0.538  6.575  65.2  4.0900  1.0  296.0   \n",
       "1  0.02731   0.0   7.07   0.0  0.469  6.421  78.9  4.9671  2.0  242.0   \n",
       "2  0.02729   0.0   7.07   0.0  0.469  7.185  61.1  4.9671  2.0  242.0   \n",
       "3  0.03237   0.0   2.18   0.0  0.458  6.998  45.8  6.0622  3.0  222.0   \n",
       "4  0.06905   0.0   2.18   0.0  0.458  7.147  54.2  6.0622  3.0  222.0   \n",
       "\n",
       "   PTRATIO       B  LSTAT  PRICE  \n",
       "0     15.3  396.90   4.98   24.0  \n",
       "1     17.8  396.90   9.14   21.6  \n",
       "2     17.8  392.83   4.03   34.7  \n",
       "3     18.7  394.63   2.94   33.4  \n",
       "4     18.7  396.90   5.33   36.2  "
      ]
     },
     "execution_count": 65,
     "metadata": {},
     "output_type": "execute_result"
    }
   ],
   "source": [
    "from sklearn.datasets import load_boston\n",
    "\n",
    "# boston 데이타셋 로드\n",
    "boston = load_boston()\n",
    "\n",
    "# boston 데이타셋 DataFrame 변환 \n",
    "boston_df = pd.DataFrame(boston.data , columns = boston.feature_names)\n",
    "\n",
    "# boston dataset의 target array는 주택 가격임. 이를 PRICE 컬럼으로 DataFrame에 추가함. \n",
    "boston_df['PRICE'] = boston.target\n",
    "print('Boston 데이타셋 크기 :',boston_df.shape)\n",
    "boston_df.head()"
   ]
  },
  {
   "cell_type": "code",
   "execution_count": 66,
   "id": "13724bb1",
   "metadata": {
    "ExecuteTime": {
     "end_time": "2021-12-17T05:18:23.536199Z",
     "start_time": "2021-12-17T05:18:23.522178Z"
    }
   },
   "outputs": [],
   "source": [
    "# boston dataset의 target array는 주택 가격임. 이를 PRICE 컬럼으로 DataFrame에 추가함. \n",
    "boston_df['PRICE'] = boston.target"
   ]
  },
  {
   "cell_type": "code",
   "execution_count": 67,
   "id": "6c721193",
   "metadata": {
    "ExecuteTime": {
     "end_time": "2021-12-17T05:18:23.911653Z",
     "start_time": "2021-12-17T05:18:23.895640Z"
    }
   },
   "outputs": [],
   "source": [
    "from sklearn.model_selection import train_test_split\n",
    "from sklearn.linear_model import LinearRegression\n",
    "from sklearn.metrics import mean_squared_error , r2_score\n",
    "\n",
    "y_target = boston_df['PRICE']\n",
    "X_data = boston_df.drop(['PRICE'],axis=1, inplace=False)\n",
    "\n",
    "X_train , X_test , y_train , y_test = train_test_split(X_data , y_target ,test_size=0.3, random_state=156)"
   ]
  },
  {
   "cell_type": "code",
   "execution_count": 68,
   "id": "514e8e5e",
   "metadata": {
    "ExecuteTime": {
     "end_time": "2021-12-17T05:18:24.211581Z",
     "start_time": "2021-12-17T05:18:24.203569Z"
    }
   },
   "outputs": [
    {
     "data": {
      "text/plain": [
       "((354, 13), (152, 13))"
      ]
     },
     "execution_count": 68,
     "metadata": {},
     "output_type": "execute_result"
    }
   ],
   "source": [
    "X_train.shape, X_test.shape"
   ]
  },
  {
   "cell_type": "code",
   "execution_count": 69,
   "id": "e6e91c22",
   "metadata": {
    "ExecuteTime": {
     "end_time": "2021-12-17T05:18:24.542653Z",
     "start_time": "2021-12-17T05:18:24.530650Z"
    }
   },
   "outputs": [
    {
     "data": {
      "text/plain": [
       "CRIM       0\n",
       "ZN         0\n",
       "INDUS      0\n",
       "CHAS       0\n",
       "NOX        0\n",
       "RM         0\n",
       "AGE        0\n",
       "DIS        0\n",
       "RAD        0\n",
       "TAX        0\n",
       "PTRATIO    0\n",
       "B          0\n",
       "LSTAT      0\n",
       "PRICE      0\n",
       "dtype: int64"
      ]
     },
     "execution_count": 69,
     "metadata": {},
     "output_type": "execute_result"
    }
   ],
   "source": [
    "boston_df.isnull().sum()"
   ]
  },
  {
   "cell_type": "code",
   "execution_count": 70,
   "id": "626d9631",
   "metadata": {
    "ExecuteTime": {
     "end_time": "2021-12-17T05:18:24.873241Z",
     "start_time": "2021-12-17T05:18:24.854235Z"
    }
   },
   "outputs": [
    {
     "name": "stdout",
     "output_type": "stream",
     "text": [
      "MSE : 17.297 , RMSE : 4.159\n",
      "r2_score : 0.757\n"
     ]
    }
   ],
   "source": [
    "#n모델 생성및 학습 \n",
    "model_lr = LinearRegression()\n",
    "model_lr.fit(X_train ,y_train )\n",
    "y_preds = model_lr.predict(X_test)\n",
    "\n",
    "mse = mean_squared_error(y_test, y_preds)\n",
    "rmse = np.sqrt(mse) \n",
    "\n",
    "print('MSE : {0:.3f} , RMSE : {1:.3F}'.format(mse , rmse))\n",
    "print('r2_score : {0:.3f}'.format(r2_score(y_test, y_preds)))"
   ]
  },
  {
   "cell_type": "code",
   "execution_count": 71,
   "id": "1437879d",
   "metadata": {
    "ExecuteTime": {
     "end_time": "2021-12-17T05:18:25.308991Z",
     "start_time": "2021-12-17T05:18:25.306000Z"
    }
   },
   "outputs": [
    {
     "name": "stdout",
     "output_type": "stream",
     "text": [
      "절편 값: 40.995595172164705\n",
      "회귀 계수값: [-1.12979614e-01  6.55124002e-02  3.44366694e-02  3.04589777e+00\n",
      " -1.97958320e+01  3.35496880e+00  5.93713290e-03 -1.74185354e+00\n",
      "  3.55884364e-01 -1.42954516e-02 -9.20180066e-01  1.03966156e-02\n",
      " -5.66182106e-01]\n"
     ]
    }
   ],
   "source": [
    "print('절편 값:', model_lr.intercept_)\n",
    "print('회귀 계수값:', model_lr.coef_)"
   ]
  },
  {
   "cell_type": "code",
   "execution_count": 72,
   "id": "3e54c4b9",
   "metadata": {
    "ExecuteTime": {
     "end_time": "2021-12-17T05:18:27.489370Z",
     "start_time": "2021-12-17T05:18:25.842967Z"
    }
   },
   "outputs": [
    {
     "data": {
      "image/png": "[encoded data removed]",
      "text/plain": [
       "<Figure size 1152x576 with 8 Axes>"
      ]
     },
     "metadata": {},
     "output_type": "display_data"
    }
   ],
   "source": [
    "# 2개의 행과 4개의 열을 가진 subplots를 이용. axs는 4x2개의 ax를 가짐.\n",
    "fig, axs = plt.subplots(figsize=(16,8) , ncols=4 , nrows=2)\n",
    "lm_features = ['RM','ZN','INDUS','NOX','AGE','PTRATIO','LSTAT','RAD']\n",
    "\n",
    "for i , feature in enumerate(lm_features):\n",
    "    row = int(i/4)\n",
    "    col = i%4\n",
    "    # 시본의 regplot을 이용해 산점도와 선형 회귀 직선을 함께 표현\n",
    "    # ax=axs[row][col] 서브플랏 \n",
    "    sns.regplot(x=feature , y='PRICE',data=boston_df , ax=axs[row][col])"
   ]
  },
  {
   "cell_type": "code",
   "execution_count": 73,
   "id": "e370f253",
   "metadata": {
    "ExecuteTime": {
     "end_time": "2021-12-17T05:18:27.744447Z",
     "start_time": "2021-12-17T05:18:27.730425Z"
    }
   },
   "outputs": [
    {
     "data": {
      "text/plain": [
       "array([-1.12979614e-01,  6.55124002e-02,  3.44366694e-02,  3.04589777e+00,\n",
       "       -1.97958320e+01,  3.35496880e+00,  5.93713290e-03, -1.74185354e+00,\n",
       "        3.55884364e-01, -1.42954516e-02, -9.20180066e-01,  1.03966156e-02,\n",
       "       -5.66182106e-01])"
      ]
     },
     "execution_count": 73,
     "metadata": {},
     "output_type": "execute_result"
    }
   ],
   "source": [
    "model_lr.coef_"
   ]
  },
  {
   "cell_type": "code",
   "execution_count": 74,
   "id": "fca97f33",
   "metadata": {
    "ExecuteTime": {
     "end_time": "2021-12-17T05:18:27.999591Z",
     "start_time": "2021-12-17T05:18:27.986589Z"
    }
   },
   "outputs": [
    {
     "data": {
      "text/plain": [
       "RM          3.4\n",
       "CHAS        3.0\n",
       "RAD         0.4\n",
       "ZN          0.1\n",
       "INDUS       0.0\n",
       "AGE         0.0\n",
       "TAX        -0.0\n",
       "B           0.0\n",
       "CRIM       -0.1\n",
       "LSTAT      -0.6\n",
       "PTRATIO    -0.9\n",
       "DIS        -1.7\n",
       "NOX       -19.8\n",
       "dtype: float64"
      ]
     },
     "execution_count": 74,
     "metadata": {},
     "output_type": "execute_result"
    }
   ],
   "source": [
    "# 회귀 계수를 큰 값 순으로 정렬하기 위해 Series로 생성. index가 컬럼명에 유의\n",
    "# 가장 큰값 컬럼까지 확인 \n",
    "coeff = pd.Series(data=np.round(model_lr.coef_, 1), index=X_data.columns )\n",
    "coeff.sort_values(ascending=False)"
   ]
  },
  {
   "cell_type": "code",
   "execution_count": 75,
   "id": "f88649b6",
   "metadata": {
    "ExecuteTime": {
     "end_time": "2021-12-17T05:18:28.899814Z",
     "start_time": "2021-12-17T05:18:28.240644Z"
    }
   },
   "outputs": [
    {
     "data": {
      "image/png": "[encoded data removed]",
      "text/plain": [
       "<Figure size 864x648 with 3 Axes>"
      ]
     },
     "metadata": {},
     "output_type": "display_data"
    }
   ],
   "source": [
    "# 1개의 행과 3개의 열을 가진 subplots를 이용. axs는 1x3개의 ax를 가짐.\n",
    "fig, axs = plt.subplots(figsize=(12,9) , ncols=1 , nrows=3)\n",
    "lm_features = ['RM','ZN','INDUS','NOX','AGE','PTRATIO','LSTAT','RAD']\n",
    "\n",
    "for i , feature in enumerate(lm_features[:3]):\n",
    "    #     \n",
    "#     row = int(i/4)\n",
    "#     col = i%4\n",
    "    # 시본의 regplot을 이용해 산점도와 선형 회귀 직선을 함께 표현\n",
    "    # ax=axs[row][col] 서브플랏 \n",
    "#     sns.regplot(x=feature , y='PRICE', data=boston_df , ax=axs[row][col])\n",
    "    sns.regplot(x=feature , y='PRICE', data=boston_df , ax=axs[i])"
   ]
  },
  {
   "cell_type": "code",
   "execution_count": 76,
   "id": "0c06009e",
   "metadata": {
    "ExecuteTime": {
     "end_time": "2021-12-17T05:18:29.485040Z",
     "start_time": "2021-12-17T05:18:29.126938Z"
    }
   },
   "outputs": [
    {
     "data": {
      "text/plain": [
       "<AxesSubplot:xlabel='INDUS', ylabel='PRICE'>"
      ]
     },
     "execution_count": 76,
     "metadata": {},
     "output_type": "execute_result"
    }
   ],
   "source": [
    "sns.regplot(x='RM', y='PRICE', data=boston_df , ax=axs[0])\n",
    "sns.regplot(x='ZN', y='PRICE', data=boston_df , ax=axs[1])\n",
    "sns.regplot(x='INDUS', y='PRICE', data=boston_df , ax=axs[2])"
   ]
  },
  {
   "cell_type": "code",
   "execution_count": 77,
   "id": "af820366",
   "metadata": {
    "ExecuteTime": {
     "end_time": "2021-12-17T05:18:29.980416Z",
     "start_time": "2021-12-17T05:18:29.725906Z"
    }
   },
   "outputs": [
    {
     "data": {
      "text/plain": [
       "<AxesSubplot:xlabel='RM', ylabel='PRICE'>"
      ]
     },
     "execution_count": 77,
     "metadata": {},
     "output_type": "execute_result"
    },
    {
     "data": {
      "image/png": "[encoded data removed]",
      "text/plain": [
       "<Figure size 720x432 with 1 Axes>"
      ]
     },
     "metadata": {},
     "output_type": "display_data"
    }
   ],
   "source": [
    "sns.regplot(x='RM' , y='PRICE', data=boston_df)"
   ]
  },
  {
   "cell_type": "code",
   "execution_count": 78,
   "id": "5093b6ae",
   "metadata": {
    "ExecuteTime": {
     "end_time": "2021-12-17T05:18:30.236695Z",
     "start_time": "2021-12-17T05:18:30.222693Z"
    }
   },
   "outputs": [
    {
     "data": {
      "text/plain": [
       "(CRIM         0.21977\n",
       " ZN           0.00000\n",
       " INDUS        6.91000\n",
       " CHAS         0.00000\n",
       " NOX          0.44800\n",
       " RM           5.60200\n",
       " AGE         62.00000\n",
       " DIS          6.08770\n",
       " RAD          3.00000\n",
       " TAX        233.00000\n",
       " PTRATIO     17.90000\n",
       " B          396.90000\n",
       " LSTAT       16.20000\n",
       " Name: 49, dtype: float64,\n",
       " 19.4)"
      ]
     },
     "execution_count": 78,
     "metadata": {},
     "output_type": "execute_result"
    }
   ],
   "source": [
    "X_train.loc[49], y_train[49]"
   ]
  },
  {
   "cell_type": "code",
   "execution_count": 79,
   "id": "29f2441a",
   "metadata": {
    "ExecuteTime": {
     "end_time": "2021-12-17T05:18:30.491463Z",
     "start_time": "2021-12-17T05:18:30.478440Z"
    }
   },
   "outputs": [
    {
     "data": {
      "text/plain": [
       "array([-1.12979614e-01,  6.55124002e-02,  3.44366694e-02,  3.04589777e+00,\n",
       "       -1.97958320e+01,  3.35496880e+00,  5.93713290e-03, -1.74185354e+00,\n",
       "        3.55884364e-01, -1.42954516e-02, -9.20180066e-01,  1.03966156e-02,\n",
       "       -5.66182106e-01])"
      ]
     },
     "execution_count": 79,
     "metadata": {},
     "output_type": "execute_result"
    }
   ],
   "source": [
    "# 각피처의 기울기 \n",
    "model_lr.coef_"
   ]
  },
  {
   "cell_type": "code",
   "execution_count": 80,
   "id": "cc209475",
   "metadata": {
    "ExecuteTime": {
     "end_time": "2021-12-17T05:18:30.746500Z",
     "start_time": "2021-12-17T05:18:30.732496Z"
    }
   },
   "outputs": [
    {
     "data": {
      "text/plain": [
       "CRIM         0.17446\n",
       "ZN           0.00000\n",
       "INDUS       10.59000\n",
       "CHAS         1.00000\n",
       "NOX          0.48900\n",
       "RM           5.96000\n",
       "AGE         92.10000\n",
       "DIS          3.87710\n",
       "RAD          4.00000\n",
       "TAX        277.00000\n",
       "PTRATIO     18.60000\n",
       "B          393.25000\n",
       "LSTAT       17.27000\n",
       "Name: 210, dtype: float64"
      ]
     },
     "execution_count": 80,
     "metadata": {},
     "output_type": "execute_result"
    }
   ],
   "source": [
    "X_test.loc[210]"
   ]
  },
  {
   "cell_type": "code",
   "execution_count": 81,
   "id": "b5b11443",
   "metadata": {
    "ExecuteTime": {
     "end_time": "2021-12-17T05:18:31.001558Z",
     "start_time": "2021-12-17T05:18:30.988555Z"
    }
   },
   "outputs": [
    {
     "data": {
      "text/plain": [
       "CRIM         0.17446\n",
       "ZN           0.00000\n",
       "INDUS       10.59000\n",
       "CHAS         1.00000\n",
       "NOX          0.48900\n",
       "RM           5.96000\n",
       "AGE         92.10000\n",
       "DIS          3.87710\n",
       "RAD          4.00000\n",
       "TAX        277.00000\n",
       "PTRATIO     18.60000\n",
       "B          393.25000\n",
       "LSTAT       17.27000\n",
       "Name: 210, dtype: float64"
      ]
     },
     "execution_count": 81,
     "metadata": {},
     "output_type": "execute_result"
    }
   ],
   "source": [
    "X_test.loc[210].T"
   ]
  },
  {
   "cell_type": "code",
   "execution_count": 83,
   "id": "7a798891",
   "metadata": {
    "ExecuteTime": {
     "end_time": "2021-12-17T05:18:36.122780Z",
     "start_time": "2021-12-17T05:18:36.104777Z"
    }
   },
   "outputs": [
    {
     "data": {
      "text/plain": [
       "array([23.15424087])"
      ]
     },
     "execution_count": 83,
     "metadata": {},
     "output_type": "execute_result"
    }
   ],
   "source": [
    "# X_test.loc[210]의 주택가격 예측값\n",
    "model_lr.predict([X_test.loc[210]])"
   ]
  },
  {
   "cell_type": "code",
   "execution_count": 84,
   "id": "af964558",
   "metadata": {
    "ExecuteTime": {
     "end_time": "2021-12-17T05:18:38.675980Z",
     "start_time": "2021-12-17T05:18:38.667972Z"
    }
   },
   "outputs": [
    {
     "data": {
      "text/plain": [
       "23.1542408704776"
      ]
     },
     "execution_count": 84,
     "metadata": {},
     "output_type": "execute_result"
    }
   ],
   "source": [
    "# (1개의 행에 해당되는 모든 피처값 * model_lr.coef_).sum()\n",
    "(X_test.loc[210]*model_lr.coef_).sum() + model_lr.intercept_"
   ]
  },
  {
   "cell_type": "markdown",
   "id": "a95225cc",
   "metadata": {
    "ExecuteTime": {
     "end_time": "2021-12-17T05:20:12.332226Z",
     "start_time": "2021-12-17T05:20:12.319210Z"
    }
   },
   "source": [
    "# 퀴즈 \n",
    "\n",
    "캘리포니아 주택 가격데이타를 스케일링한 후 선형회귀 모델을 정의하고 테스트하여라 \n",
    "```\n",
    "|------|------|\n",
    "| MedInc | 블록의 중간 소득 |\n",
    "| HouseAge | 블록의 중간 주택 연도 |\n",
    "| AveRooms | 자치시(town)별 비소매 상업지역 토지 비율 |\n",
    "| AveBedrms | 찰스 강(Charles River)에 대한 변수 (강의 경계에 위치하면 1, 그렇지 않으면 0) |\n",
    "| Population | 10,000,000당  일산화질소 농도 |\n",
    "| AveOccup | 주택 1가구당 평균 방의 수 |\n",
    "| Latitude | 1940년 이전에 건축된 소유주택 비율 |\n",
    "| Longitude | 5개의 보스턴 고용 센터까지의 가중 거리 |\n",
    "```"
   ]
  },
  {
   "cell_type": "code",
   "execution_count": 86,
   "id": "55dc4baa",
   "metadata": {
    "ExecuteTime": {
     "end_time": "2021-12-17T05:20:20.599732Z",
     "start_time": "2021-12-17T05:20:20.580725Z"
    }
   },
   "outputs": [
    {
     "name": "stdout",
     "output_type": "stream",
     "text": [
      "dict_keys(['data', 'target', 'frame', 'target_names', 'feature_names', 'DESCR'])\n",
      ".. _california_housing_dataset:\n",
      "\n",
      "California Housing dataset\n",
      "--------------------------\n",
      "\n",
      "**Data Set Characteristics:**\n",
      "\n",
      "    :Number of Instances: 20640\n",
      "\n",
      "    :Number of Attributes: 8 numeric, predictive attributes and the target\n",
      "\n",
      "    :Attribute Information:\n",
      "        - MedInc        median income in block\n",
      "        - HouseAge      median house age in block\n",
      "        - AveRooms      average number of rooms\n",
      "        - AveBedrms     average number of bedrooms\n",
      "        - Population    block population\n",
      "        - AveOccup      average house occupancy\n",
      "        - Latitude      house block latitude\n",
      "        - Longitude     house block longitude\n",
      "\n",
      "    :Missing Attribute Values: None\n",
      "\n",
      "This dataset was obtained from the StatLib repository.\n",
      "http://lib.stat.cmu.edu/datasets/\n",
      "\n",
      "The target variable is the median house value for California districts.\n",
      "\n",
      "This dataset was derived from the 1990 U.S. census, using one row per census\n",
      "block group. A block group is the smallest geographical unit for which the U.S.\n",
      "Census Bureau publishes sample data (a block group typically has a population\n",
      "of 600 to 3,000 people).\n",
      "\n",
      "It can be downloaded/loaded using the\n",
      ":func:`sklearn.datasets.fetch_california_housing` function.\n",
      "\n",
      ".. topic:: References\n",
      "\n",
      "    - Pace, R. Kelley and Ronald Barry, Sparse Spatial Autoregressions,\n",
      "      Statistics and Probability Letters, 33 (1997) 291-297\n",
      "\n"
     ]
    }
   ],
   "source": [
    "# 설치 확인 \n",
    "from sklearn.datasets import fetch_california_housing\n",
    "\n",
    "california = fetch_california_housing()\n",
    "print(california.keys())\n",
    "print(california.DESCR)"
   ]
  },
  {
   "cell_type": "code",
   "execution_count": 87,
   "id": "7696f111",
   "metadata": {
    "ExecuteTime": {
     "end_time": "2021-12-17T05:21:28.381492Z",
     "start_time": "2021-12-17T05:21:28.375491Z"
    }
   },
   "outputs": [
    {
     "data": {
      "text/plain": [
       "['MedInc',\n",
       " 'HouseAge',\n",
       " 'AveRooms',\n",
       " 'AveBedrms',\n",
       " 'Population',\n",
       " 'AveOccup',\n",
       " 'Latitude',\n",
       " 'Longitude']"
      ]
     },
     "execution_count": 87,
     "metadata": {},
     "output_type": "execute_result"
    }
   ],
   "source": [
    "california.feature_names"
   ]
  },
  {
   "cell_type": "code",
   "execution_count": 88,
   "id": "0f663c72",
   "metadata": {
    "ExecuteTime": {
     "end_time": "2021-12-17T05:21:33.432169Z",
     "start_time": "2021-12-17T05:21:33.419167Z"
    }
   },
   "outputs": [
    {
     "data": {
      "text/plain": [
       "array([[   8.3252    ,   41.        ,    6.98412698, ...,    2.55555556,\n",
       "          37.88      , -122.23      ],\n",
       "       [   8.3014    ,   21.        ,    6.23813708, ...,    2.10984183,\n",
       "          37.86      , -122.22      ],\n",
       "       [   7.2574    ,   52.        ,    8.28813559, ...,    2.80225989,\n",
       "          37.85      , -122.24      ],\n",
       "       ...,\n",
       "       [   1.7       ,   17.        ,    5.20554273, ...,    2.3256351 ,\n",
       "          39.43      , -121.22      ],\n",
       "       [   1.8672    ,   18.        ,    5.32951289, ...,    2.12320917,\n",
       "          39.43      , -121.32      ],\n",
       "       [   2.3886    ,   16.        ,    5.25471698, ...,    2.61698113,\n",
       "          39.37      , -121.24      ]])"
      ]
     },
     "execution_count": 88,
     "metadata": {},
     "output_type": "execute_result"
    }
   ],
   "source": [
    "# X 데이터 => california.data , 넘파이 \n",
    "california.data"
   ]
  },
  {
   "cell_type": "code",
   "execution_count": 89,
   "id": "4a11b1fe",
   "metadata": {
    "ExecuteTime": {
     "end_time": "2021-12-17T05:21:46.168532Z",
     "start_time": "2021-12-17T05:21:46.156527Z"
    }
   },
   "outputs": [
    {
     "data": {
      "text/plain": [
       "(20640, 20640)"
      ]
     },
     "execution_count": 89,
     "metadata": {},
     "output_type": "execute_result"
    }
   ],
   "source": [
    "len(california.data), len(california.target)"
   ]
  },
  {
   "cell_type": "code",
   "execution_count": 207,
   "id": "31815b9b",
   "metadata": {
    "ExecuteTime": {
     "end_time": "2021-12-17T06:00:41.035704Z",
     "start_time": "2021-12-17T06:00:41.020707Z"
    }
   },
   "outputs": [],
   "source": [
    "cali_df = pd.DataFrame(california.data, columns= california.feature_names)\n",
    "y = california.target\n",
    "X = cali_df"
   ]
  },
  {
   "cell_type": "code",
   "execution_count": 208,
   "id": "5cd79f63",
   "metadata": {
    "ExecuteTime": {
     "end_time": "2021-12-17T06:00:42.269986Z",
     "start_time": "2021-12-17T06:00:42.256982Z"
    }
   },
   "outputs": [
    {
     "data": {
      "text/plain": [
       "<bound method NDFrame.describe of        MedInc  HouseAge  AveRooms  AveBedrms  Population  AveOccup  Latitude  \\\n",
       "0      8.3252      41.0  6.984127   1.023810       322.0  2.555556     37.88   \n",
       "1      8.3014      21.0  6.238137   0.971880      2401.0  2.109842     37.86   \n",
       "2      7.2574      52.0  8.288136   1.073446       496.0  2.802260     37.85   \n",
       "3      5.6431      52.0  5.817352   1.073059       558.0  2.547945     37.85   \n",
       "4      3.8462      52.0  6.281853   1.081081       565.0  2.181467     37.85   \n",
       "...       ...       ...       ...        ...         ...       ...       ...   \n",
       "20635  1.5603      25.0  5.045455   1.133333       845.0  2.560606     39.48   \n",
       "20636  2.5568      18.0  6.114035   1.315789       356.0  3.122807     39.49   \n",
       "20637  1.7000      17.0  5.205543   1.120092      1007.0  2.325635     39.43   \n",
       "20638  1.8672      18.0  5.329513   1.171920       741.0  2.123209     39.43   \n",
       "20639  2.3886      16.0  5.254717   1.162264      1387.0  2.616981     39.37   \n",
       "\n",
       "       Longitude  \n",
       "0        -122.23  \n",
       "1        -122.22  \n",
       "2        -122.24  \n",
       "3        -122.25  \n",
       "4        -122.25  \n",
       "...          ...  \n",
       "20635    -121.09  \n",
       "20636    -121.21  \n",
       "20637    -121.22  \n",
       "20638    -121.32  \n",
       "20639    -121.24  \n",
       "\n",
       "[20640 rows x 8 columns]>"
      ]
     },
     "execution_count": 208,
     "metadata": {},
     "output_type": "execute_result"
    }
   ],
   "source": [
    "cali_df.describe"
   ]
  },
  {
   "cell_type": "code",
   "execution_count": 209,
   "id": "560ebb1c",
   "metadata": {
    "ExecuteTime": {
     "end_time": "2021-12-17T06:00:42.645030Z",
     "start_time": "2021-12-17T06:00:42.635036Z"
    }
   },
   "outputs": [
    {
     "name": "stdout",
     "output_type": "stream",
     "text": [
      "<class 'pandas.core.frame.DataFrame'>\n",
      "RangeIndex: 20640 entries, 0 to 20639\n",
      "Data columns (total 8 columns):\n",
      " #   Column      Non-Null Count  Dtype  \n",
      "---  ------      --------------  -----  \n",
      " 0   MedInc      20640 non-null  float64\n",
      " 1   HouseAge    20640 non-null  float64\n",
      " 2   AveRooms    20640 non-null  float64\n",
      " 3   AveBedrms   20640 non-null  float64\n",
      " 4   Population  20640 non-null  float64\n",
      " 5   AveOccup    20640 non-null  float64\n",
      " 6   Latitude    20640 non-null  float64\n",
      " 7   Longitude   20640 non-null  float64\n",
      "dtypes: float64(8)\n",
      "memory usage: 1.3 MB\n"
     ]
    }
   ],
   "source": [
    "cali_df.info()"
   ]
  },
  {
   "cell_type": "code",
   "execution_count": 210,
   "id": "75f5d1cc",
   "metadata": {
    "ExecuteTime": {
     "end_time": "2021-12-17T06:00:43.247004Z",
     "start_time": "2021-12-17T06:00:43.233984Z"
    }
   },
   "outputs": [],
   "source": [
    "from sklearn.preprocessing import StandardScaler\n",
    "stan_scaler = StandardScaler()\n",
    "cali_scaled = stan_scaler.fit_transform(X)\n",
    "cali_scaled = pd.DataFrame(cali_scaled, columns = X.columns)\n"
   ]
  },
  {
   "cell_type": "code",
   "execution_count": 211,
   "id": "bdd18c31",
   "metadata": {
    "ExecuteTime": {
     "end_time": "2021-12-17T06:00:44.103551Z",
     "start_time": "2021-12-17T06:00:44.094548Z"
    }
   },
   "outputs": [],
   "source": [
    "X_train, X_test, y_train, y_test = train_test_split(X, y)"
   ]
  },
  {
   "cell_type": "code",
   "execution_count": 212,
   "id": "8e8b944e",
   "metadata": {
    "ExecuteTime": {
     "end_time": "2021-12-17T06:00:44.856533Z",
     "start_time": "2021-12-17T06:00:44.845536Z"
    }
   },
   "outputs": [
    {
     "data": {
      "text/plain": [
       "array([4.526, 3.585, 3.521, ..., 0.923, 0.847, 0.894])"
      ]
     },
     "execution_count": 212,
     "metadata": {},
     "output_type": "execute_result"
    }
   ],
   "source": [
    "y"
   ]
  },
  {
   "cell_type": "code",
   "execution_count": 213,
   "id": "28b874ef",
   "metadata": {
    "ExecuteTime": {
     "end_time": "2021-12-17T06:00:45.472227Z",
     "start_time": "2021-12-17T06:00:45.458221Z"
    }
   },
   "outputs": [
    {
     "data": {
      "text/html": [
       "<div>\n",
       "<style scoped>\n",
       "    .dataframe tbody tr th:only-of-type {\n",
       "        vertical-align: middle;\n",
       "    }\n",
       "\n",
       "    .dataframe tbody tr th {\n",
       "        vertical-align: top;\n",
       "    }\n",
       "\n",
       "    .dataframe thead th {\n",
       "        text-align: right;\n",
       "    }\n",
       "</style>\n",
       "<table border=\"1\" class=\"dataframe\">\n",
       "  <thead>\n",
       "    <tr style=\"text-align: right;\">\n",
       "      <th></th>\n",
       "      <th>MedInc</th>\n",
       "      <th>HouseAge</th>\n",
       "      <th>AveRooms</th>\n",
       "      <th>AveBedrms</th>\n",
       "      <th>Population</th>\n",
       "      <th>AveOccup</th>\n",
       "      <th>Latitude</th>\n",
       "      <th>Longitude</th>\n",
       "    </tr>\n",
       "  </thead>\n",
       "  <tbody>\n",
       "    <tr>\n",
       "      <th>0</th>\n",
       "      <td>2.344766</td>\n",
       "      <td>0.982143</td>\n",
       "      <td>0.628559</td>\n",
       "      <td>-0.153758</td>\n",
       "      <td>-0.974429</td>\n",
       "      <td>-0.049597</td>\n",
       "      <td>1.052548</td>\n",
       "      <td>-1.327835</td>\n",
       "    </tr>\n",
       "    <tr>\n",
       "      <th>1</th>\n",
       "      <td>2.332238</td>\n",
       "      <td>-0.607019</td>\n",
       "      <td>0.327041</td>\n",
       "      <td>-0.263336</td>\n",
       "      <td>0.861439</td>\n",
       "      <td>-0.092512</td>\n",
       "      <td>1.043185</td>\n",
       "      <td>-1.322844</td>\n",
       "    </tr>\n",
       "    <tr>\n",
       "      <th>2</th>\n",
       "      <td>1.782699</td>\n",
       "      <td>1.856182</td>\n",
       "      <td>1.155620</td>\n",
       "      <td>-0.049016</td>\n",
       "      <td>-0.820777</td>\n",
       "      <td>-0.025843</td>\n",
       "      <td>1.038503</td>\n",
       "      <td>-1.332827</td>\n",
       "    </tr>\n",
       "    <tr>\n",
       "      <th>3</th>\n",
       "      <td>0.932968</td>\n",
       "      <td>1.856182</td>\n",
       "      <td>0.156966</td>\n",
       "      <td>-0.049833</td>\n",
       "      <td>-0.766028</td>\n",
       "      <td>-0.050329</td>\n",
       "      <td>1.038503</td>\n",
       "      <td>-1.337818</td>\n",
       "    </tr>\n",
       "    <tr>\n",
       "      <th>4</th>\n",
       "      <td>-0.012881</td>\n",
       "      <td>1.856182</td>\n",
       "      <td>0.344711</td>\n",
       "      <td>-0.032906</td>\n",
       "      <td>-0.759847</td>\n",
       "      <td>-0.085616</td>\n",
       "      <td>1.038503</td>\n",
       "      <td>-1.337818</td>\n",
       "    </tr>\n",
       "    <tr>\n",
       "      <th>...</th>\n",
       "      <td>...</td>\n",
       "      <td>...</td>\n",
       "      <td>...</td>\n",
       "      <td>...</td>\n",
       "      <td>...</td>\n",
       "      <td>...</td>\n",
       "      <td>...</td>\n",
       "      <td>...</td>\n",
       "    </tr>\n",
       "    <tr>\n",
       "      <th>20635</th>\n",
       "      <td>-1.216128</td>\n",
       "      <td>-0.289187</td>\n",
       "      <td>-0.155023</td>\n",
       "      <td>0.077354</td>\n",
       "      <td>-0.512592</td>\n",
       "      <td>-0.049110</td>\n",
       "      <td>1.801647</td>\n",
       "      <td>-0.758826</td>\n",
       "    </tr>\n",
       "    <tr>\n",
       "      <th>20636</th>\n",
       "      <td>-0.691593</td>\n",
       "      <td>-0.845393</td>\n",
       "      <td>0.276881</td>\n",
       "      <td>0.462365</td>\n",
       "      <td>-0.944405</td>\n",
       "      <td>0.005021</td>\n",
       "      <td>1.806329</td>\n",
       "      <td>-0.818722</td>\n",
       "    </tr>\n",
       "    <tr>\n",
       "      <th>20637</th>\n",
       "      <td>-1.142593</td>\n",
       "      <td>-0.924851</td>\n",
       "      <td>-0.090318</td>\n",
       "      <td>0.049414</td>\n",
       "      <td>-0.369537</td>\n",
       "      <td>-0.071735</td>\n",
       "      <td>1.778237</td>\n",
       "      <td>-0.823713</td>\n",
       "    </tr>\n",
       "    <tr>\n",
       "      <th>20638</th>\n",
       "      <td>-1.054583</td>\n",
       "      <td>-0.845393</td>\n",
       "      <td>-0.040211</td>\n",
       "      <td>0.158778</td>\n",
       "      <td>-0.604429</td>\n",
       "      <td>-0.091225</td>\n",
       "      <td>1.778237</td>\n",
       "      <td>-0.873626</td>\n",
       "    </tr>\n",
       "    <tr>\n",
       "      <th>20639</th>\n",
       "      <td>-0.780129</td>\n",
       "      <td>-1.004309</td>\n",
       "      <td>-0.070443</td>\n",
       "      <td>0.138403</td>\n",
       "      <td>-0.033977</td>\n",
       "      <td>-0.043682</td>\n",
       "      <td>1.750146</td>\n",
       "      <td>-0.833696</td>\n",
       "    </tr>\n",
       "  </tbody>\n",
       "</table>\n",
       "<p>20640 rows × 8 columns</p>\n",
       "</div>"
      ],
      "text/plain": [
       "         MedInc  HouseAge  AveRooms  AveBedrms  Population  AveOccup  \\\n",
       "0      2.344766  0.982143  0.628559  -0.153758   -0.974429 -0.049597   \n",
       "1      2.332238 -0.607019  0.327041  -0.263336    0.861439 -0.092512   \n",
       "2      1.782699  1.856182  1.155620  -0.049016   -0.820777 -0.025843   \n",
       "3      0.932968  1.856182  0.156966  -0.049833   -0.766028 -0.050329   \n",
       "4     -0.012881  1.856182  0.344711  -0.032906   -0.759847 -0.085616   \n",
       "...         ...       ...       ...        ...         ...       ...   \n",
       "20635 -1.216128 -0.289187 -0.155023   0.077354   -0.512592 -0.049110   \n",
       "20636 -0.691593 -0.845393  0.276881   0.462365   -0.944405  0.005021   \n",
       "20637 -1.142593 -0.924851 -0.090318   0.049414   -0.369537 -0.071735   \n",
       "20638 -1.054583 -0.845393 -0.040211   0.158778   -0.604429 -0.091225   \n",
       "20639 -0.780129 -1.004309 -0.070443   0.138403   -0.033977 -0.043682   \n",
       "\n",
       "       Latitude  Longitude  \n",
       "0      1.052548  -1.327835  \n",
       "1      1.043185  -1.322844  \n",
       "2      1.038503  -1.332827  \n",
       "3      1.038503  -1.337818  \n",
       "4      1.038503  -1.337818  \n",
       "...         ...        ...  \n",
       "20635  1.801647  -0.758826  \n",
       "20636  1.806329  -0.818722  \n",
       "20637  1.778237  -0.823713  \n",
       "20638  1.778237  -0.873626  \n",
       "20639  1.750146  -0.833696  \n",
       "\n",
       "[20640 rows x 8 columns]"
      ]
     },
     "execution_count": 213,
     "metadata": {},
     "output_type": "execute_result"
    }
   ],
   "source": [
    "cali_scaled"
   ]
  },
  {
   "cell_type": "code",
   "execution_count": 214,
   "id": "5402fd37",
   "metadata": {
    "ExecuteTime": {
     "end_time": "2021-12-17T06:00:46.873257Z",
     "start_time": "2021-12-17T06:00:46.859256Z"
    }
   },
   "outputs": [],
   "source": [
    "## scaler를 안쓴 모델을 써보자.\n",
    "\n",
    "lm.fit(X_train, y_train)\n",
    "y_pred = lm.predict(X_test)"
   ]
  },
  {
   "cell_type": "code",
   "execution_count": 215,
   "id": "ea7a6beb",
   "metadata": {
    "ExecuteTime": {
     "end_time": "2021-12-17T06:00:47.716839Z",
     "start_time": "2021-12-17T06:00:47.706837Z"
    }
   },
   "outputs": [],
   "source": [
    "MSE_orginal = mean_squared_error(y_test, y_pred)\n",
    "RMSE_original = np.sqrt(MSE_orginal)"
   ]
  },
  {
   "cell_type": "code",
   "execution_count": 216,
   "id": "b4b12b46",
   "metadata": {
    "ExecuteTime": {
     "end_time": "2021-12-17T06:00:48.137650Z",
     "start_time": "2021-12-17T06:00:48.120648Z"
    }
   },
   "outputs": [
    {
     "data": {
      "text/plain": [
       "(0.5301855177612782, 0.7281383919017581)"
      ]
     },
     "execution_count": 216,
     "metadata": {},
     "output_type": "execute_result"
    }
   ],
   "source": [
    "MSE_orginal, RMSE_original"
   ]
  },
  {
   "cell_type": "code",
   "execution_count": 217,
   "id": "40ded6aa",
   "metadata": {
    "ExecuteTime": {
     "end_time": "2021-12-17T06:00:49.905586Z",
     "start_time": "2021-12-17T06:00:49.895587Z"
    }
   },
   "outputs": [
    {
     "name": "stdout",
     "output_type": "stream",
     "text": [
      "MSE : 0.530 , RMSE : 0.728\n",
      "r2_score : 0.598\n"
     ]
    }
   ],
   "source": [
    "print('MSE : {0:.3f} , RMSE : {1:.3F}'.format(MSE_orginal , RMSE_original))\n",
    "print('r2_score : {0:.3f}'.format(r2_score(y_test, y_pred)))"
   ]
  },
  {
   "cell_type": "code",
   "execution_count": 218,
   "id": "e7252c64",
   "metadata": {
    "ExecuteTime": {
     "end_time": "2021-12-17T06:00:51.409593Z",
     "start_time": "2021-12-17T06:00:51.396584Z"
    }
   },
   "outputs": [],
   "source": [
    "X_train, X_test, y_train, y_test = train_test_split(cali_scaled, y)"
   ]
  },
  {
   "cell_type": "code",
   "execution_count": 219,
   "id": "a2bebc73",
   "metadata": {
    "ExecuteTime": {
     "end_time": "2021-12-17T06:00:51.890331Z",
     "start_time": "2021-12-17T06:00:51.883342Z"
    }
   },
   "outputs": [],
   "source": [
    "lm = LinearRegression()\n",
    "lm.fit(X_train, y_train)\n",
    "y_pred = lm.predict(X_test)"
   ]
  },
  {
   "cell_type": "code",
   "execution_count": 220,
   "id": "a0cd08d4",
   "metadata": {
    "ExecuteTime": {
     "end_time": "2021-12-17T06:00:52.282244Z",
     "start_time": "2021-12-17T06:00:52.265235Z"
    }
   },
   "outputs": [],
   "source": [
    "MSE =  mean_squared_error(y_test, y_pred)\n",
    "RMSE = np.sqrt(MSE)"
   ]
  },
  {
   "cell_type": "code",
   "execution_count": 221,
   "id": "ba482ae8",
   "metadata": {
    "ExecuteTime": {
     "end_time": "2021-12-17T06:00:53.114441Z",
     "start_time": "2021-12-17T06:00:53.107459Z"
    }
   },
   "outputs": [
    {
     "data": {
      "text/plain": [
       "(0.5173065859531988, 0.7192402838782035)"
      ]
     },
     "execution_count": 221,
     "metadata": {},
     "output_type": "execute_result"
    }
   ],
   "source": [
    "MSE, RMSE"
   ]
  },
  {
   "cell_type": "code",
   "execution_count": 222,
   "id": "e2015b39",
   "metadata": {
    "ExecuteTime": {
     "end_time": "2021-12-17T06:00:53.762016Z",
     "start_time": "2021-12-17T06:00:53.745993Z"
    }
   },
   "outputs": [
    {
     "name": "stdout",
     "output_type": "stream",
     "text": [
      "MSE : 0.517 , RMSE : 0.719\n",
      "r2_score : 0.598\n"
     ]
    }
   ],
   "source": [
    "print('MSE : {0:.3f} , RMSE : {1:.3F}'.format(MSE , RMSE))\n",
    "print('r2_score : {0:.3f}'.format(r2_score(y_test, y_pred)))"
   ]
  },
  {
   "cell_type": "code",
   "execution_count": 223,
   "id": "d850d5eb",
   "metadata": {
    "ExecuteTime": {
     "end_time": "2021-12-17T06:00:54.663344Z",
     "start_time": "2021-12-17T06:00:54.646327Z"
    }
   },
   "outputs": [
    {
     "name": "stdout",
     "output_type": "stream",
     "text": [
      "절편 값: 40.995595172164705\n",
      "회귀 계수값: [-1.12979614e-01  6.55124002e-02  3.44366694e-02  3.04589777e+00\n",
      " -1.97958320e+01  3.35496880e+00  5.93713290e-03 -1.74185354e+00\n",
      "  3.55884364e-01 -1.42954516e-02 -9.20180066e-01  1.03966156e-02\n",
      " -5.66182106e-01]\n"
     ]
    }
   ],
   "source": [
    "print('절편 값:', model_lr.intercept_)\n",
    "print('회귀 계수값:', model_lr.coef_)"
   ]
  },
  {
   "cell_type": "code",
   "execution_count": 224,
   "id": "f538fd90",
   "metadata": {
    "ExecuteTime": {
     "end_time": "2021-12-17T06:01:15.324923Z",
     "start_time": "2021-12-17T06:01:15.319925Z"
    }
   },
   "outputs": [
    {
     "data": {
      "text/plain": [
       "[(0, 'MedInc'),\n",
       " (1, 'HouseAge'),\n",
       " (2, 'AveRooms'),\n",
       " (3, 'AveBedrms'),\n",
       " (4, 'Population'),\n",
       " (5, 'AveOccup'),\n",
       " (6, 'Latitude'),\n",
       " (7, 'Longitude')]"
      ]
     },
     "execution_count": 224,
     "metadata": {},
     "output_type": "execute_result"
    }
   ],
   "source": [
    "lm_features = california.feature_names\n",
    "list(enumerate(lm_features))"
   ]
  },
  {
   "cell_type": "code",
   "execution_count": 228,
   "id": "11a5395a",
   "metadata": {
    "ExecuteTime": {
     "end_time": "2021-12-17T06:02:57.214303Z",
     "start_time": "2021-12-17T06:02:57.197301Z"
    }
   },
   "outputs": [],
   "source": [
    "cali_scaled['MedHouseVal'] = y"
   ]
  },
  {
   "cell_type": "code",
   "execution_count": 230,
   "id": "57010166",
   "metadata": {
    "ExecuteTime": {
     "end_time": "2021-12-17T06:03:10.603909Z",
     "start_time": "2021-12-17T06:03:10.583911Z"
    }
   },
   "outputs": [
    {
     "data": {
      "text/html": [
       "<div>\n",
       "<style scoped>\n",
       "    .dataframe tbody tr th:only-of-type {\n",
       "        vertical-align: middle;\n",
       "    }\n",
       "\n",
       "    .dataframe tbody tr th {\n",
       "        vertical-align: top;\n",
       "    }\n",
       "\n",
       "    .dataframe thead th {\n",
       "        text-align: right;\n",
       "    }\n",
       "</style>\n",
       "<table border=\"1\" class=\"dataframe\">\n",
       "  <thead>\n",
       "    <tr style=\"text-align: right;\">\n",
       "      <th></th>\n",
       "      <th>MedInc</th>\n",
       "      <th>HouseAge</th>\n",
       "      <th>AveRooms</th>\n",
       "      <th>AveBedrms</th>\n",
       "      <th>Population</th>\n",
       "      <th>AveOccup</th>\n",
       "      <th>Latitude</th>\n",
       "      <th>Longitude</th>\n",
       "      <th>MedHouseVal</th>\n",
       "    </tr>\n",
       "  </thead>\n",
       "  <tbody>\n",
       "    <tr>\n",
       "      <th>0</th>\n",
       "      <td>2.344766</td>\n",
       "      <td>0.982143</td>\n",
       "      <td>0.628559</td>\n",
       "      <td>-0.153758</td>\n",
       "      <td>-0.974429</td>\n",
       "      <td>-0.049597</td>\n",
       "      <td>1.052548</td>\n",
       "      <td>-1.327835</td>\n",
       "      <td>4.526</td>\n",
       "    </tr>\n",
       "    <tr>\n",
       "      <th>1</th>\n",
       "      <td>2.332238</td>\n",
       "      <td>-0.607019</td>\n",
       "      <td>0.327041</td>\n",
       "      <td>-0.263336</td>\n",
       "      <td>0.861439</td>\n",
       "      <td>-0.092512</td>\n",
       "      <td>1.043185</td>\n",
       "      <td>-1.322844</td>\n",
       "      <td>3.585</td>\n",
       "    </tr>\n",
       "    <tr>\n",
       "      <th>2</th>\n",
       "      <td>1.782699</td>\n",
       "      <td>1.856182</td>\n",
       "      <td>1.155620</td>\n",
       "      <td>-0.049016</td>\n",
       "      <td>-0.820777</td>\n",
       "      <td>-0.025843</td>\n",
       "      <td>1.038503</td>\n",
       "      <td>-1.332827</td>\n",
       "      <td>3.521</td>\n",
       "    </tr>\n",
       "    <tr>\n",
       "      <th>3</th>\n",
       "      <td>0.932968</td>\n",
       "      <td>1.856182</td>\n",
       "      <td>0.156966</td>\n",
       "      <td>-0.049833</td>\n",
       "      <td>-0.766028</td>\n",
       "      <td>-0.050329</td>\n",
       "      <td>1.038503</td>\n",
       "      <td>-1.337818</td>\n",
       "      <td>3.413</td>\n",
       "    </tr>\n",
       "    <tr>\n",
       "      <th>4</th>\n",
       "      <td>-0.012881</td>\n",
       "      <td>1.856182</td>\n",
       "      <td>0.344711</td>\n",
       "      <td>-0.032906</td>\n",
       "      <td>-0.759847</td>\n",
       "      <td>-0.085616</td>\n",
       "      <td>1.038503</td>\n",
       "      <td>-1.337818</td>\n",
       "      <td>3.422</td>\n",
       "    </tr>\n",
       "    <tr>\n",
       "      <th>...</th>\n",
       "      <td>...</td>\n",
       "      <td>...</td>\n",
       "      <td>...</td>\n",
       "      <td>...</td>\n",
       "      <td>...</td>\n",
       "      <td>...</td>\n",
       "      <td>...</td>\n",
       "      <td>...</td>\n",
       "      <td>...</td>\n",
       "    </tr>\n",
       "    <tr>\n",
       "      <th>20635</th>\n",
       "      <td>-1.216128</td>\n",
       "      <td>-0.289187</td>\n",
       "      <td>-0.155023</td>\n",
       "      <td>0.077354</td>\n",
       "      <td>-0.512592</td>\n",
       "      <td>-0.049110</td>\n",
       "      <td>1.801647</td>\n",
       "      <td>-0.758826</td>\n",
       "      <td>0.781</td>\n",
       "    </tr>\n",
       "    <tr>\n",
       "      <th>20636</th>\n",
       "      <td>-0.691593</td>\n",
       "      <td>-0.845393</td>\n",
       "      <td>0.276881</td>\n",
       "      <td>0.462365</td>\n",
       "      <td>-0.944405</td>\n",
       "      <td>0.005021</td>\n",
       "      <td>1.806329</td>\n",
       "      <td>-0.818722</td>\n",
       "      <td>0.771</td>\n",
       "    </tr>\n",
       "    <tr>\n",
       "      <th>20637</th>\n",
       "      <td>-1.142593</td>\n",
       "      <td>-0.924851</td>\n",
       "      <td>-0.090318</td>\n",
       "      <td>0.049414</td>\n",
       "      <td>-0.369537</td>\n",
       "      <td>-0.071735</td>\n",
       "      <td>1.778237</td>\n",
       "      <td>-0.823713</td>\n",
       "      <td>0.923</td>\n",
       "    </tr>\n",
       "    <tr>\n",
       "      <th>20638</th>\n",
       "      <td>-1.054583</td>\n",
       "      <td>-0.845393</td>\n",
       "      <td>-0.040211</td>\n",
       "      <td>0.158778</td>\n",
       "      <td>-0.604429</td>\n",
       "      <td>-0.091225</td>\n",
       "      <td>1.778237</td>\n",
       "      <td>-0.873626</td>\n",
       "      <td>0.847</td>\n",
       "    </tr>\n",
       "    <tr>\n",
       "      <th>20639</th>\n",
       "      <td>-0.780129</td>\n",
       "      <td>-1.004309</td>\n",
       "      <td>-0.070443</td>\n",
       "      <td>0.138403</td>\n",
       "      <td>-0.033977</td>\n",
       "      <td>-0.043682</td>\n",
       "      <td>1.750146</td>\n",
       "      <td>-0.833696</td>\n",
       "      <td>0.894</td>\n",
       "    </tr>\n",
       "  </tbody>\n",
       "</table>\n",
       "<p>20640 rows × 9 columns</p>\n",
       "</div>"
      ],
      "text/plain": [
       "         MedInc  HouseAge  AveRooms  AveBedrms  Population  AveOccup  \\\n",
       "0      2.344766  0.982143  0.628559  -0.153758   -0.974429 -0.049597   \n",
       "1      2.332238 -0.607019  0.327041  -0.263336    0.861439 -0.092512   \n",
       "2      1.782699  1.856182  1.155620  -0.049016   -0.820777 -0.025843   \n",
       "3      0.932968  1.856182  0.156966  -0.049833   -0.766028 -0.050329   \n",
       "4     -0.012881  1.856182  0.344711  -0.032906   -0.759847 -0.085616   \n",
       "...         ...       ...       ...        ...         ...       ...   \n",
       "20635 -1.216128 -0.289187 -0.155023   0.077354   -0.512592 -0.049110   \n",
       "20636 -0.691593 -0.845393  0.276881   0.462365   -0.944405  0.005021   \n",
       "20637 -1.142593 -0.924851 -0.090318   0.049414   -0.369537 -0.071735   \n",
       "20638 -1.054583 -0.845393 -0.040211   0.158778   -0.604429 -0.091225   \n",
       "20639 -0.780129 -1.004309 -0.070443   0.138403   -0.033977 -0.043682   \n",
       "\n",
       "       Latitude  Longitude  MedHouseVal  \n",
       "0      1.052548  -1.327835        4.526  \n",
       "1      1.043185  -1.322844        3.585  \n",
       "2      1.038503  -1.332827        3.521  \n",
       "3      1.038503  -1.337818        3.413  \n",
       "4      1.038503  -1.337818        3.422  \n",
       "...         ...        ...          ...  \n",
       "20635  1.801647  -0.758826        0.781  \n",
       "20636  1.806329  -0.818722        0.771  \n",
       "20637  1.778237  -0.823713        0.923  \n",
       "20638  1.778237  -0.873626        0.847  \n",
       "20639  1.750146  -0.833696        0.894  \n",
       "\n",
       "[20640 rows x 9 columns]"
      ]
     },
     "execution_count": 230,
     "metadata": {},
     "output_type": "execute_result"
    }
   ],
   "source": [
    "cali_scaled"
   ]
  },
  {
   "cell_type": "code",
   "execution_count": 231,
   "id": "3e0837bb",
   "metadata": {
    "ExecuteTime": {
     "end_time": "2021-12-17T06:03:26.932661Z",
     "start_time": "2021-12-17T06:03:19.648984Z"
    }
   },
   "outputs": [
    {
     "data": {
      "image/png": "[encoded data removed]",
      "text/plain": [
       "<Figure size 1152x576 with 8 Axes>"
      ]
     },
     "metadata": {},
     "output_type": "display_data"
    }
   ],
   "source": [
    "# 2개의 행과 4개의 열을 가진 subplots를 이용. axs는 2x4개의 ax를 가짐.\n",
    "fig, axs = plt.subplots(figsize=(16,8) , ncols=4 , nrows=2)\n",
    "lm_features = ['MedInc','HouseAge', 'AveRooms','AveBedrms','Population','AveOccup', 'Latitude',\n",
    " 'Longitude']\n",
    "\n",
    "\n",
    "for i , feature in enumerate(lm_features):\n",
    "    row = int(i/4)\n",
    "    col = i%4\n",
    "    # 시본의 regplot을 이용해 산점도와 선형 회귀 직선을 함께 표현\n",
    "    # ax=axs[row][col] 서브플랏 \n",
    "    sns.regplot(x=feature, y='MedHouseVal',data=cali_scaled , ax=axs[row][col])"
   ]
  },
  {
   "cell_type": "code",
   "execution_count": 234,
   "id": "47114b94",
   "metadata": {
    "ExecuteTime": {
     "end_time": "2021-12-17T06:06:17.867390Z",
     "start_time": "2021-12-17T06:06:17.850374Z"
    }
   },
   "outputs": [
    {
     "data": {
      "text/plain": [
       "Latitude     -0.9\n",
       "Longitude    -0.9\n",
       "AveRooms     -0.2\n",
       "Population   -0.0\n",
       "AveOccup     -0.0\n",
       "HouseAge      0.1\n",
       "AveBedrms     0.3\n",
       "MedInc        0.8\n",
       "dtype: float64"
      ]
     },
     "execution_count": 234,
     "metadata": {},
     "output_type": "execute_result"
    }
   ],
   "source": [
    "coeff = pd.Series(data = np.round(lm.coef_, 1), index = X_train.columns)\n",
    "coeff.sort_values(ascending=True)"
   ]
  },
  {
   "cell_type": "code",
   "execution_count": 239,
   "id": "9964ea29",
   "metadata": {
    "ExecuteTime": {
     "end_time": "2021-12-17T06:07:24.626886Z",
     "start_time": "2021-12-17T06:07:24.612880Z"
    }
   },
   "outputs": [
    {
     "data": {
      "text/plain": [
       "Index(['MedInc', 'HouseAge', 'AveRooms', 'AveBedrms', 'Population', 'AveOccup',\n",
       "       'Latitude', 'Longitude', 'MedHouseVal'],\n",
       "      dtype='object')"
      ]
     },
     "execution_count": 239,
     "metadata": {},
     "output_type": "execute_result"
    }
   ],
   "source": [
    "cali_scaled.columns"
   ]
  },
  {
   "cell_type": "code",
   "execution_count": 240,
   "id": "5b30c88d",
   "metadata": {
    "ExecuteTime": {
     "end_time": "2021-12-17T06:07:53.569899Z",
     "start_time": "2021-12-17T06:07:46.278166Z"
    }
   },
   "outputs": [
    {
     "data": {
      "image/png": "[encoded data removed]",
      "text/plain": [
       "<Figure size 864x648 with 8 Axes>"
      ]
     },
     "metadata": {},
     "output_type": "display_data"
    }
   ],
   "source": [
    "# 1개의 행과 3개의 열을 가진 subplots를 이용. axs는 1x3개의 ax를 가짐.\n",
    "fig, axs = plt.subplots(figsize=(12,9) , ncols=1 , nrows=8)\n",
    "\n",
    "for i , feature in enumerate(X.columns):\n",
    "    #     \n",
    "#     row = int(i/4)\n",
    "#     col = i%4\n",
    "    # 시본의 regplot을 이용해 산점도와 선형 회귀 직선을 함께 표현\n",
    "    # ax=axs[row][col] 서브플랏 \n",
    "#     sns.regplot(x=feature , y='PRICE', data=boston_df , ax=axs[row][col])\n",
    "    sns.regplot(x=feature , y='MedHouseVal', data=cali_scaled , ax=axs[i])"
   ]
  },
  {
   "cell_type": "code",
   "execution_count": null,
   "id": "2971cd9c",
   "metadata": {},
   "outputs": [],
   "source": [
    "from sklearn.metrics import mean_squared_error, r2_score, mean_absolute_error"
   ]
  },
  {
   "cell_type": "markdown",
   "id": "6dbd8c62",
   "metadata": {},
   "source": [
    "## Regrsssion model`s model validation\n",
    "\n",
    "- MSE: 회귀모델의 기본적인 loss function. outlier에 큰 영향을 받는다.\n",
    "$$\n",
    "\\frac{1}{n} \\sum_{i=1}^{n}{(y_i = \\hat{y_i})^2}\n",
    "$$\n",
    "\n",
    "- MAE: L1 normalization을 사용.\n",
    "\n",
    "$$\n",
    "\\frac{1}{n} \\sum_{i=1}^{n}{(\\lvert y_i - \\hat{y_i}\\rvert})\n",
    "$$\n",
    "\n",
    "- LMSE: root를 사용\n",
    "\n",
    "$$\n",
    "\\sqrt{\\frac{1}{n} \\sum_{i=1}^{n}{(\\lvert y_i - \\hat{y_i}\\rvert})}\n",
    "$$"
   ]
  },
  {
   "cell_type": "code",
   "execution_count": 243,
   "id": "fa9e28b2",
   "metadata": {
    "ExecuteTime": {
     "end_time": "2021-12-17T06:56:45.891399Z",
     "start_time": "2021-12-17T06:56:45.879404Z"
    }
   },
   "outputs": [],
   "source": [
    "MAE = mean_absolute_error(y_test, lm.predict(X_test))\n",
    "MSE = mean_squared_error(y_test, lm.predict(X_test))\n",
    "RMSE = np.sqrt(MSE)\n",
    "R2 = r2_score(y_test, lm.predict(X_test))"
   ]
  },
  {
   "cell_type": "code",
   "execution_count": 244,
   "id": "85a1c314",
   "metadata": {
    "ExecuteTime": {
     "end_time": "2021-12-17T06:56:54.072770Z",
     "start_time": "2021-12-17T06:56:54.067768Z"
    }
   },
   "outputs": [
    {
     "name": "stdout",
     "output_type": "stream",
     "text": [
      "MAE =  0.528685961539408\n",
      "MSE =  0.5173065859531988\n",
      "RMSE =  0.7192402838782035\n",
      "R2 =  0.5976254987913221\n"
     ]
    }
   ],
   "source": [
    "print(f'MAE =  {MAE}')\n",
    "print(f'MSE =  {MSE}')\n",
    "print(f'RMSE =  {RMSE}')\n",
    "print(f'R2 =  {R2}')"
   ]
  },
  {
   "cell_type": "markdown",
   "id": "a7a32b19",
   "metadata": {},
   "source": [
    "# 다항 회귀(Polynomial regression)\n",
    "\n",
    "- 2차 방정식 \n",
    "$$ ax^2 + bx + c $$"
   ]
  },
  {
   "cell_type": "raw",
   "id": "f96564b1",
   "metadata": {},
   "source": [
    "회귀가 독립변수의 단항식이 아닌 2차. 3차방정식과 같은 다항식으로 표현되는 것을 다항 회귀 라고한다.\n",
    "다항 회귀를 비선형 회귀로 혼동하기 쉽지만, 다항 회귀는 선형회귀라는 점이다.\n",
    "사이킷런에는 다항 회귀를 위한 클래스는 존재 하지않고, 대신 다항 회귀 역시 선형회귀 이기 때문에 \n",
    "비선형 함수를 선형 모델에 적용시키는 방법을 사용해 구현 할 수 있다.\n"
   ]
  },
  {
   "cell_type": "code",
   "execution_count": 245,
   "id": "4e085009",
   "metadata": {
    "ExecuteTime": {
     "end_time": "2021-12-17T06:57:32.358967Z",
     "start_time": "2021-12-17T06:57:32.341961Z"
    }
   },
   "outputs": [
    {
     "name": "stdout",
     "output_type": "stream",
     "text": [
      "일차 단항식 계수 feature:\n",
      " [[0 1]\n",
      " [2 3]]\n",
      "변환된 2차 다항식 계수 feature:\n",
      " [[1. 0. 1. 0. 0. 1.]\n",
      " [1. 2. 3. 4. 6. 9.]]\n"
     ]
    }
   ],
   "source": [
    "from sklearn.preprocessing import PolynomialFeatures\n",
    "\n",
    "X = np.arange(4).reshape(2,2)\n",
    "print('일차 단항식 계수 feature:\\n',X )\n",
    "\n",
    "poly = PolynomialFeatures(degree=2)\n",
    "poly.fit(X)\n",
    "poly_ftr = poly.transform(X)\n",
    "print('변환된 2차 다항식 계수 feature:\\n', poly_ftr)\n"
   ]
  },
  {
   "cell_type": "code",
   "execution_count": 246,
   "id": "746afa48",
   "metadata": {
    "ExecuteTime": {
     "end_time": "2021-12-17T06:57:32.764445Z",
     "start_time": "2021-12-17T06:57:32.758444Z"
    }
   },
   "outputs": [
    {
     "name": "stdout",
     "output_type": "stream",
     "text": [
      "일차 단항식 계수 feature:\n",
      " [[0 1]\n",
      " [2 3]]\n",
      "변환된 2차 다항식 계수 feature:\n",
      " [[ 1.  0.  1.  0.  0.  1.  0.  0.  0.  1.]\n",
      " [ 1.  2.  3.  4.  6.  9.  8. 12. 18. 27.]]\n"
     ]
    }
   ],
   "source": [
    "X = np.arange(4).reshape(2,2)\n",
    "print('일차 단항식 계수 feature:\\n',X )\n",
    "\n",
    "\n",
    "poly = PolynomialFeatures(degree=3)\n",
    "poly.fit(X)\n",
    "poly_ftr = poly.transform(X)\n",
    "print('변환된 2차 다항식 계수 feature:\\n', poly_ftr)"
   ]
  },
  {
   "cell_type": "code",
   "execution_count": 247,
   "id": "30d9c6a8",
   "metadata": {
    "ExecuteTime": {
     "end_time": "2021-12-17T06:57:33.079517Z",
     "start_time": "2021-12-17T06:57:33.065514Z"
    }
   },
   "outputs": [],
   "source": [
    "X_train_poly = np.column_stack((X_train**2, X_train))\n",
    "X_test_poly = np.column_stack((X_test**2, X_test))"
   ]
  },
  {
   "cell_type": "code",
   "execution_count": 248,
   "id": "d25cc885",
   "metadata": {
    "ExecuteTime": {
     "end_time": "2021-12-17T06:57:33.379584Z",
     "start_time": "2021-12-17T06:57:33.366583Z"
    }
   },
   "outputs": [
    {
     "data": {
      "text/plain": [
       "array([[ 1.66100284,  0.08362889,  1.07175322, ..., -0.01633856,\n",
       "        -1.33988509,  1.30757496],\n",
       "       [ 0.55533571,  1.17455174,  0.08854954, ..., -0.02043381,\n",
       "        -1.2696571 ,  1.21274013],\n",
       "       [ 0.00301582,  0.07129965,  0.05464078, ...,  0.14802376,\n",
       "        -0.74997001,  0.82341817],\n",
       "       ...,\n",
       "       [ 0.03250798,  0.44130823,  0.03528031, ...,  0.03575162,\n",
       "        -0.81083426,  0.73856595],\n",
       "       [ 1.33887863,  0.58665653,  0.27728646, ..., -0.01227381,\n",
       "        -0.94660837,  0.94320954],\n",
       "       [ 0.58635352,  0.1358989 ,  0.52181335, ...,  0.02832808,\n",
       "        -0.90447158,  0.8433834 ]])"
      ]
     },
     "execution_count": 248,
     "metadata": {},
     "output_type": "execute_result"
    }
   ],
   "source": [
    " np.column_stack((X_train**2, X_train))"
   ]
  },
  {
   "cell_type": "code",
   "execution_count": 249,
   "id": "191b6a9d",
   "metadata": {
    "ExecuteTime": {
     "end_time": "2021-12-17T06:57:33.694657Z",
     "start_time": "2021-12-17T06:57:33.681653Z"
    }
   },
   "outputs": [
    {
     "name": "stdout",
     "output_type": "stream",
     "text": [
      "(15480, 16) (5160, 16)\n"
     ]
    }
   ],
   "source": [
    "print(X_train_poly.shape, X_test_poly.shape)"
   ]
  },
  {
   "cell_type": "code",
   "execution_count": 252,
   "id": "afbf08fc",
   "metadata": {
    "ExecuteTime": {
     "end_time": "2021-12-17T06:58:18.506024Z",
     "start_time": "2021-12-17T06:58:18.492023Z"
    }
   },
   "outputs": [
    {
     "name": "stdout",
     "output_type": "stream",
     "text": [
      "['1', 'x0', 'x1', 'x0^2', 'x0 x1', 'x1^2', 'x0^3', 'x0^2 x1', 'x0 x1^2', 'x1^3']\n"
     ]
    }
   ],
   "source": [
    "print(poly.get_feature_names())"
   ]
  },
  {
   "cell_type": "raw",
   "id": "22723f1b",
   "metadata": {},
   "source": [
    "- [0 1] -> 1, x0, x1, x0^2, x0*x1, x1^2, x0^3, x0^2*1, x0x1^2, x1^3 -> [1, 0, 1, 0, 0, 1. 0. 0. 0. 1.]\n",
    "- [2 3] -> 1, x0, x1, x0^2, x0*x1, x1^2, x0^3, x0^2*1, x0x1^2, x1^3 -> [1, 2, 3, 4, 6, 9. 8. 12. 18. 27.]"
   ]
  },
  {
   "cell_type": "markdown",
   "id": "09392969",
   "metadata": {},
   "source": [
    "## 농어의 길이와 무게\n",
    "\n",
    "- 데이타준비  http://bit.ly/perch_data"
   ]
  },
  {
   "cell_type": "code",
   "execution_count": null,
   "id": "0b746246",
   "metadata": {},
   "outputs": [],
   "source": [
    "from sklearn.model_selection import train_test_split\n",
    "from sklearn.linear_model import LinearRegression"
   ]
  },
  {
   "cell_type": "code",
   "execution_count": 253,
   "id": "88ba928f",
   "metadata": {
    "ExecuteTime": {
     "end_time": "2021-12-17T06:58:48.184987Z",
     "start_time": "2021-12-17T06:58:48.168975Z"
    }
   },
   "outputs": [],
   "source": [
    "perch_length = np.array(\n",
    "    [8.4, 13.7, 15.0, 16.2, 17.4, 18.0, 18.7, 19.0, 19.6, 20.0, \n",
    "     21.0, 21.0, 21.0, 21.3, 22.0, 22.0, 22.0, 22.0, 22.0, 22.5, \n",
    "     22.5, 22.7, 23.0, 23.5, 24.0, 24.0, 24.6, 25.0, 25.6, 26.5, \n",
    "     27.3, 27.5, 27.5, 27.5, 28.0, 28.7, 30.0, 32.8, 34.5, 35.0, \n",
    "     36.5, 36.0, 37.0, 37.0, 39.0, 39.0, 39.0, 40.0, 40.0, 40.0, \n",
    "     40.0, 42.0, 43.0, 43.0, 43.5, 44.0]\n",
    "     ).reshape(-1, 1)\n",
    "\n",
    "perch_weight = np.array(\n",
    "    [5.9, 32.0, 40.0, 51.5, 70.0, 100.0, 78.0, 80.0, 85.0, 85.0, \n",
    "     110.0, 115.0, 125.0, 130.0, 120.0, 120.0, 130.0, 135.0, 110.0, \n",
    "     130.0, 150.0, 145.0, 150.0, 170.0, 225.0, 145.0, 188.0, 180.0, \n",
    "     197.0, 218.0, 300.0, 260.0, 265.0, 250.0, 250.0, 300.0, 320.0, \n",
    "     514.0, 556.0, 840.0, 685.0, 700.0, 700.0, 690.0, 900.0, 650.0, \n",
    "     820.0, 850.0, 900.0, 1015.0, 820.0, 1100.0, 1000.0, 1100.0, \n",
    "     1000.0, 1000.0]\n",
    "     ).reshape(-1, 1)"
   ]
  },
  {
   "cell_type": "code",
   "execution_count": 254,
   "id": "9c483c48",
   "metadata": {
    "ExecuteTime": {
     "end_time": "2021-12-17T06:58:52.194125Z",
     "start_time": "2021-12-17T06:58:52.180125Z"
    }
   },
   "outputs": [
    {
     "data": {
      "text/plain": [
       "(2, 2, (56, 1), (56, 1))"
      ]
     },
     "execution_count": 254,
     "metadata": {},
     "output_type": "execute_result"
    }
   ],
   "source": [
    "perch_length.ndim, perch_weight.ndim, perch_length.shape, perch_weight.shape"
   ]
  },
  {
   "cell_type": "code",
   "execution_count": 255,
   "id": "033d70c3",
   "metadata": {
    "ExecuteTime": {
     "end_time": "2021-12-17T06:58:55.136673Z",
     "start_time": "2021-12-17T06:58:55.121669Z"
    }
   },
   "outputs": [
    {
     "name": "stdout",
     "output_type": "stream",
     "text": [
      "[[ 8.4]\n",
      " [13.7]\n",
      " [15. ]]\n",
      "\n",
      "[[ 5.9]\n",
      " [32. ]\n",
      " [40. ]]\n"
     ]
    }
   ],
   "source": [
    "print(perch_length[:3])\n",
    "print()\n",
    "print(perch_weight[:3])"
   ]
  },
  {
   "cell_type": "code",
   "execution_count": 256,
   "id": "c44e78b9",
   "metadata": {
    "ExecuteTime": {
     "end_time": "2021-12-17T06:58:58.657173Z",
     "start_time": "2021-12-17T06:58:58.644172Z"
    }
   },
   "outputs": [
    {
     "data": {
      "text/plain": [
       "((42, 1), (14, 1))"
      ]
     },
     "execution_count": 256,
     "metadata": {},
     "output_type": "execute_result"
    }
   ],
   "source": [
    "#학습, 테스트 데이터 분리\n",
    "X_train, X_test, y_train, y_test = train_test_split(perch_length, perch_weight, random_state=42)\n",
    "X_train.shape, X_test.shape"
   ]
  },
  {
   "cell_type": "code",
   "execution_count": 257,
   "id": "1a94ad10",
   "metadata": {
    "ExecuteTime": {
     "end_time": "2021-12-17T06:59:02.148491Z",
     "start_time": "2021-12-17T06:59:02.141490Z"
    }
   },
   "outputs": [],
   "source": [
    "#2차식 X_train**2 새로운 컬럼으로 생성해서 추가\n",
    "#np.column_stack((넘파이배열1, 넘파이배열2))\n",
    "X_train_poly = np.column_stack((X_train**2, X_train))\n",
    "X_test_poly = np.column_stack((X_test**2, X_test))"
   ]
  },
  {
   "cell_type": "code",
   "execution_count": 258,
   "id": "aefa1687",
   "metadata": {
    "ExecuteTime": {
     "end_time": "2021-12-17T06:59:05.443174Z",
     "start_time": "2021-12-17T06:59:05.431172Z"
    }
   },
   "outputs": [
    {
     "name": "stdout",
     "output_type": "stream",
     "text": [
      "(42, 2) (14, 2)\n"
     ]
    }
   ],
   "source": [
    "print(X_train_poly.shape, X_test_poly.shape)"
   ]
  },
  {
   "cell_type": "code",
   "execution_count": 259,
   "id": "f790077e",
   "metadata": {
    "ExecuteTime": {
     "end_time": "2021-12-17T06:59:08.697923Z",
     "start_time": "2021-12-17T06:59:08.692921Z"
    }
   },
   "outputs": [
    {
     "data": {
      "text/plain": [
       "array([[384.16,  19.6 ],\n",
       "       [484.  ,  22.  ],\n",
       "       [349.69,  18.7 ]])"
      ]
     },
     "execution_count": 259,
     "metadata": {},
     "output_type": "execute_result"
    }
   ],
   "source": [
    "#길이*길이, 길이\n",
    "X_train_poly[:3]"
   ]
  },
  {
   "cell_type": "code",
   "execution_count": 260,
   "id": "0ad94431",
   "metadata": {
    "ExecuteTime": {
     "end_time": "2021-12-17T06:59:12.102783Z",
     "start_time": "2021-12-17T06:59:12.093780Z"
    }
   },
   "outputs": [
    {
     "data": {
      "text/plain": [
       "array([[ 70.56,   8.4 ],\n",
       "       [324.  ,  18.  ],\n",
       "       [756.25,  27.5 ]])"
      ]
     },
     "execution_count": 260,
     "metadata": {},
     "output_type": "execute_result"
    }
   ],
   "source": [
    "#길이*길이, 길이\n",
    "X_test_poly[:3]"
   ]
  },
  {
   "cell_type": "code",
   "execution_count": 261,
   "id": "26c70d0e",
   "metadata": {
    "ExecuteTime": {
     "end_time": "2021-12-17T06:59:15.598361Z",
     "start_time": "2021-12-17T06:59:15.582357Z"
    }
   },
   "outputs": [
    {
     "name": "stdout",
     "output_type": "stream",
     "text": [
      "[[1573.98423528]]\n"
     ]
    }
   ],
   "source": [
    "#모델 생성\n",
    "model_lr = LinearRegression()\n",
    "model_lr.fit(X_train_poly, y_train)\n",
    "\n",
    "#길이가 50인 농어의 무게는?\n",
    "print(model_lr.predict([[50**2, 50]]))"
   ]
  },
  {
   "cell_type": "code",
   "execution_count": 262,
   "id": "2b4b8bca",
   "metadata": {
    "ExecuteTime": {
     "end_time": "2021-12-17T06:59:19.021693Z",
     "start_time": "2021-12-17T06:59:19.005686Z"
    }
   },
   "outputs": [
    {
     "name": "stdout",
     "output_type": "stream",
     "text": [
      "[[  1.01433211 -21.55792498]] [116.05021078]\n"
     ]
    }
   ],
   "source": [
    "print(model_lr.coef_, model_lr.intercept_)"
   ]
  },
  {
   "cell_type": "code",
   "execution_count": 263,
   "id": "70455490",
   "metadata": {
    "ExecuteTime": {
     "end_time": "2021-12-17T06:59:26.347160Z",
     "start_time": "2021-12-17T06:59:26.182589Z"
    }
   },
   "outputs": [
    {
     "data": {
      "image/png": "[encoded data removed]",
      "text/plain": [
       "<Figure size 720x432 with 1 Axes>"
      ]
     },
     "metadata": {},
     "output_type": "display_data"
    }
   ],
   "source": [
    "#시각화\n",
    "point = np.arange(15, 50)\n",
    "\n",
    "#학습데이터 전체\n",
    "plt.scatter(X_train, y_train)\n",
    "\n",
    "#회귀식\n",
    "plt.plot(point, 1.01*point**2 - 21.6*point + 116.05)\n",
    "\n",
    "#길이 50일 때 농어의 무게 -> 1574\n",
    "plt.scatter([50], [1574], marker='^')\n",
    "plt.show()"
   ]
  },
  {
   "cell_type": "code",
   "execution_count": 264,
   "id": "bd8b17b3",
   "metadata": {
    "ExecuteTime": {
     "end_time": "2021-12-17T06:59:30.687645Z",
     "start_time": "2021-12-17T06:59:30.680643Z"
    }
   },
   "outputs": [
    {
     "name": "stdout",
     "output_type": "stream",
     "text": [
      "0.9706807451768623\n",
      "0.9775935108325122\n"
     ]
    }
   ],
   "source": [
    "print(model_lr.score(X_train_poly, y_train))\n",
    "print(model_lr.score(X_test_poly, y_test))"
   ]
  },
  {
   "cell_type": "markdown",
   "id": "e4a5d2cd",
   "metadata": {},
   "source": [
    "# 특성 공학\n",
    "\n",
    "- 특성공학(Feature Engineering) 이란?\n",
    "    - 기존의 특성을 사용해 새로운 특성을 뽑아내는 작업 \n",
    "    - 농어의 길이, 농어의 높이 => 농어의 길이 * 농어의 높이 "
   ]
  },
  {
   "cell_type": "code",
   "execution_count": 265,
   "id": "69470015",
   "metadata": {
    "ExecuteTime": {
     "end_time": "2021-12-17T07:23:02.480974Z",
     "start_time": "2021-12-17T07:23:01.463978Z"
    }
   },
   "outputs": [
    {
     "data": {
      "text/html": [
       "<div>\n",
       "<style scoped>\n",
       "    .dataframe tbody tr th:only-of-type {\n",
       "        vertical-align: middle;\n",
       "    }\n",
       "\n",
       "    .dataframe tbody tr th {\n",
       "        vertical-align: top;\n",
       "    }\n",
       "\n",
       "    .dataframe thead th {\n",
       "        text-align: right;\n",
       "    }\n",
       "</style>\n",
       "<table border=\"1\" class=\"dataframe\">\n",
       "  <thead>\n",
       "    <tr style=\"text-align: right;\">\n",
       "      <th></th>\n",
       "      <th>length</th>\n",
       "      <th>height</th>\n",
       "      <th>width</th>\n",
       "    </tr>\n",
       "  </thead>\n",
       "  <tbody>\n",
       "    <tr>\n",
       "      <th>0</th>\n",
       "      <td>8.4</td>\n",
       "      <td>2.11</td>\n",
       "      <td>1.41</td>\n",
       "    </tr>\n",
       "    <tr>\n",
       "      <th>1</th>\n",
       "      <td>13.7</td>\n",
       "      <td>3.53</td>\n",
       "      <td>2.00</td>\n",
       "    </tr>\n",
       "    <tr>\n",
       "      <th>2</th>\n",
       "      <td>15.0</td>\n",
       "      <td>3.82</td>\n",
       "      <td>2.43</td>\n",
       "    </tr>\n",
       "    <tr>\n",
       "      <th>3</th>\n",
       "      <td>16.2</td>\n",
       "      <td>4.59</td>\n",
       "      <td>2.63</td>\n",
       "    </tr>\n",
       "    <tr>\n",
       "      <th>4</th>\n",
       "      <td>17.4</td>\n",
       "      <td>4.59</td>\n",
       "      <td>2.94</td>\n",
       "    </tr>\n",
       "  </tbody>\n",
       "</table>\n",
       "</div>"
      ],
      "text/plain": [
       "   length   height   width\n",
       "0     8.4     2.11    1.41\n",
       "1    13.7     3.53    2.00\n",
       "2    15.0     3.82    2.43\n",
       "3    16.2     4.59    2.63\n",
       "4    17.4     4.59    2.94"
      ]
     },
     "execution_count": 265,
     "metadata": {},
     "output_type": "execute_result"
    }
   ],
   "source": [
    "#length, height, width\n",
    "df = pd.read_csv('https://bit.ly/perch_csv')\n",
    "df.head()"
   ]
  },
  {
   "cell_type": "code",
   "execution_count": 266,
   "id": "232a231e",
   "metadata": {
    "ExecuteTime": {
     "end_time": "2021-12-17T07:23:08.490658Z",
     "start_time": "2021-12-17T07:23:08.487656Z"
    }
   },
   "outputs": [
    {
     "name": "stdout",
     "output_type": "stream",
     "text": [
      "[[ 8.4   2.11  1.41]\n",
      " [13.7   3.53  2.  ]\n",
      " [15.    3.82  2.43]\n",
      " [16.2   4.59  2.63]\n",
      " [17.4   4.59  2.94]]\n"
     ]
    }
   ],
   "source": [
    "#데이터프레임 -> 2차원 넘파이 배열\n",
    "perch_full = df.to_numpy()\n",
    "print(perch_full[:5])"
   ]
  },
  {
   "cell_type": "code",
   "execution_count": 267,
   "id": "dbe2ace6",
   "metadata": {
    "ExecuteTime": {
     "end_time": "2021-12-17T07:23:12.581757Z",
     "start_time": "2021-12-17T07:23:12.562753Z"
    }
   },
   "outputs": [],
   "source": [
    "#농어의 무게 y\n",
    "perch_weight = np.array(\n",
    "    [5.9, 32.0, 40.0, 51.5, 70.0, 100.0, 78.0, 80.0, 85.0, 85.0, \n",
    "     110.0, 115.0, 125.0, 130.0, 120.0, 120.0, 130.0, 135.0, 110.0, \n",
    "     130.0, 150.0, 145.0, 150.0, 170.0, 225.0, 145.0, 188.0, 180.0, \n",
    "     197.0, 218.0, 300.0, 260.0, 265.0, 250.0, 250.0, 300.0, 320.0, \n",
    "     514.0, 556.0, 840.0, 685.0, 700.0, 700.0, 690.0, 900.0, 650.0, \n",
    "     820.0, 850.0, 900.0, 1015.0, 820.0, 1100.0, 1000.0, 1100.0, \n",
    "     1000.0, 1000.0]\n",
    "     )"
   ]
  },
  {
   "cell_type": "code",
   "execution_count": 268,
   "id": "541bfc9a",
   "metadata": {
    "ExecuteTime": {
     "end_time": "2021-12-17T07:23:30.167503Z",
     "start_time": "2021-12-17T07:23:30.152501Z"
    }
   },
   "outputs": [],
   "source": [
    "#학습, 테스트 데이터 분리\n",
    "from sklearn.model_selection import train_test_split\n",
    "\n",
    "X_train, X_test, y_train, y_test = train_test_split(perch_full, perch_weight, random_state=42)"
   ]
  },
  {
   "cell_type": "code",
   "execution_count": 269,
   "id": "328e3f8e",
   "metadata": {
    "ExecuteTime": {
     "end_time": "2021-12-17T07:23:40.379820Z",
     "start_time": "2021-12-17T07:23:40.367818Z"
    }
   },
   "outputs": [
    {
     "name": "stdout",
     "output_type": "stream",
     "text": [
      "0.9559326821885706\n",
      "MSE : 12080.653 , RMSE : 109.912\n",
      "r2_score : 0.880\n"
     ]
    }
   ],
   "source": [
    "from sklearn.linear_model import LinearRegression\n",
    "from sklearn.metrics import mean_squared_error, r2_score, mean_absolute_error\n",
    "\n",
    "\n",
    "#모델 생성 및 학습 \n",
    "model_lr = LinearRegression()\n",
    "model_lr.fit(X_train ,y_train )\n",
    "\n",
    "mse = mean_squared_error(y_test, model_lr.predict(X_test))\n",
    "rmse = np.sqrt(mse) \n",
    "\n",
    "print(model_lr.score(X_train, y_train))\n",
    "print('MSE : {0:.3f} , RMSE : {1:.3F}'.format(mse , rmse))\n",
    "print('r2_score : {0:.3f}'.format(r2_score(y_test, model_lr.predict(X_test))))"
   ]
  },
  {
   "cell_type": "code",
   "execution_count": 270,
   "id": "75183358",
   "metadata": {
    "ExecuteTime": {
     "end_time": "2021-12-17T07:23:44.592376Z",
     "start_time": "2021-12-17T07:23:44.576371Z"
    }
   },
   "outputs": [
    {
     "name": "stdout",
     "output_type": "stream",
     "text": [
      "절편 값: -599.1708082981097\n",
      "회귀 계수값 기울기: [ 9.07538153 69.46401443 38.00385678]\n"
     ]
    }
   ],
   "source": [
    "print('절편 값:', model_lr.intercept_)\n",
    "print('회귀 계수값 기울기:', model_lr.coef_)"
   ]
  },
  {
   "cell_type": "code",
   "execution_count": 274,
   "id": "6cb2a3b7",
   "metadata": {
    "ExecuteTime": {
     "end_time": "2021-12-17T07:26:27.198469Z",
     "start_time": "2021-12-17T07:26:27.178471Z"
    }
   },
   "outputs": [
    {
     "data": {
      "text/html": [
       "<div>\n",
       "<style scoped>\n",
       "    .dataframe tbody tr th:only-of-type {\n",
       "        vertical-align: middle;\n",
       "    }\n",
       "\n",
       "    .dataframe tbody tr th {\n",
       "        vertical-align: top;\n",
       "    }\n",
       "\n",
       "    .dataframe thead th {\n",
       "        text-align: right;\n",
       "    }\n",
       "</style>\n",
       "<table border=\"1\" class=\"dataframe\">\n",
       "  <thead>\n",
       "    <tr style=\"text-align: right;\">\n",
       "      <th></th>\n",
       "      <th>length</th>\n",
       "      <th>height</th>\n",
       "      <th>width</th>\n",
       "      <th>weight</th>\n",
       "    </tr>\n",
       "  </thead>\n",
       "  <tbody>\n",
       "    <tr>\n",
       "      <th>0</th>\n",
       "      <td>8.4</td>\n",
       "      <td>2.11</td>\n",
       "      <td>1.41</td>\n",
       "      <td>5.9</td>\n",
       "    </tr>\n",
       "    <tr>\n",
       "      <th>1</th>\n",
       "      <td>13.7</td>\n",
       "      <td>3.53</td>\n",
       "      <td>2.00</td>\n",
       "      <td>32.0</td>\n",
       "    </tr>\n",
       "    <tr>\n",
       "      <th>2</th>\n",
       "      <td>15.0</td>\n",
       "      <td>3.82</td>\n",
       "      <td>2.43</td>\n",
       "      <td>40.0</td>\n",
       "    </tr>\n",
       "    <tr>\n",
       "      <th>3</th>\n",
       "      <td>16.2</td>\n",
       "      <td>4.59</td>\n",
       "      <td>2.63</td>\n",
       "      <td>51.5</td>\n",
       "    </tr>\n",
       "    <tr>\n",
       "      <th>4</th>\n",
       "      <td>17.4</td>\n",
       "      <td>4.59</td>\n",
       "      <td>2.94</td>\n",
       "      <td>70.0</td>\n",
       "    </tr>\n",
       "  </tbody>\n",
       "</table>\n",
       "</div>"
      ],
      "text/plain": [
       "   length   height   width  weight\n",
       "0     8.4     2.11    1.41     5.9\n",
       "1    13.7     3.53    2.00    32.0\n",
       "2    15.0     3.82    2.43    40.0\n",
       "3    16.2     4.59    2.63    51.5\n",
       "4    17.4     4.59    2.94    70.0"
      ]
     },
     "execution_count": 274,
     "metadata": {},
     "output_type": "execute_result"
    }
   ],
   "source": [
    "#기존 데이터프레임에 y weight 컬럼 추가\n",
    "df['weight'] = perch_weight\n",
    "df.head()"
   ]
  },
  {
   "cell_type": "code",
   "execution_count": 276,
   "id": "f80490f7",
   "metadata": {
    "ExecuteTime": {
     "end_time": "2021-12-17T07:26:34.978465Z",
     "start_time": "2021-12-17T07:26:34.416758Z"
    }
   },
   "outputs": [
    {
     "data": {
      "image/png": "[encoded data removed]",
      "text/plain": [
       "<Figure size 1152x360 with 3 Axes>"
      ]
     },
     "metadata": {},
     "output_type": "display_data"
    }
   ],
   "source": [
    "# 1개의 행과 3개의 열을 가진 subplots를 이용. axs는 1x3개의 ax를 가짐.\n",
    "fig, axs = plt.subplots(figsize=(16,5) , ncols=3 , nrows=1)\n",
    "lm_features = list(df.columns)\n",
    "\n",
    "# sns.regplot(x='length' , y='weight', data=df , ax=axs[0])\n",
    "# sns.regplot(x=' height' , y='weight', data=df , ax=axs[1])\n",
    "# sns.regplot(x=' width' , y='weight', data=df , ax=axs[2])\n",
    "\n",
    "for i , feature in enumerate(lm_features[:3]):\n",
    "    sns.regplot(x=feature , y='weight', data=df , ax=axs[i])"
   ]
  },
  {
   "cell_type": "markdown",
   "id": "3ac7a89b",
   "metadata": {},
   "source": [
    "## PolynomialFeatures 활용 "
   ]
  },
  {
   "cell_type": "code",
   "execution_count": 277,
   "id": "6195a271",
   "metadata": {
    "ExecuteTime": {
     "end_time": "2021-12-17T07:26:57.742072Z",
     "start_time": "2021-12-17T07:26:57.729078Z"
    }
   },
   "outputs": [],
   "source": [
    "from sklearn.preprocessing import PolynomialFeatures"
   ]
  },
  {
   "cell_type": "code",
   "execution_count": 278,
   "id": "47c9597f",
   "metadata": {
    "ExecuteTime": {
     "end_time": "2021-12-17T07:26:58.057179Z",
     "start_time": "2021-12-17T07:26:58.043175Z"
    }
   },
   "outputs": [
    {
     "name": "stdout",
     "output_type": "stream",
     "text": [
      "[[1. 2. 3. 4. 6. 9.]]\n"
     ]
    }
   ],
   "source": [
    "poly = PolynomialFeatures()\n",
    "poly.fit([[2, 3]])\n",
    "print(poly.transform([[2, 3]]))"
   ]
  },
  {
   "cell_type": "code",
   "execution_count": 279,
   "id": "fa468113",
   "metadata": {
    "ExecuteTime": {
     "end_time": "2021-12-17T07:26:58.342273Z",
     "start_time": "2021-12-17T07:26:58.328257Z"
    }
   },
   "outputs": [
    {
     "name": "stdout",
     "output_type": "stream",
     "text": [
      "[[2. 3. 4. 6. 9.]]\n"
     ]
    }
   ],
   "source": [
    "#include_bias = False -> 첫번째로 생성되는 절편 제외\n",
    "poly = PolynomialFeatures(include_bias=False)\n",
    "poly.fit([[2, 3]])\n",
    "print(poly.transform([[2, 3]]))"
   ]
  },
  {
   "cell_type": "code",
   "execution_count": 280,
   "id": "9d345808",
   "metadata": {
    "ExecuteTime": {
     "end_time": "2021-12-17T07:26:58.613432Z",
     "start_time": "2021-12-17T07:26:58.603433Z"
    }
   },
   "outputs": [],
   "source": [
    "#학습용, 테스트 데이터 분리\n",
    "X_train, X_test, y_train, y_test = train_test_split(perch_full, perch_weight, random_state=42)\n",
    "\n",
    "#객체 생성\n",
    "#degree 기본값 2\n",
    "poly = PolynomialFeatures(include_bias=False)\n",
    "\n",
    "#학습용 데이터 X에 PolynomialFeatures 적용\n",
    "poly.fit(X_train)\n",
    "\n",
    "#별도 변수로 저장\n",
    "X_train_poly = poly.transform(X_train)"
   ]
  },
  {
   "cell_type": "code",
   "execution_count": 281,
   "id": "8703543f",
   "metadata": {
    "ExecuteTime": {
     "end_time": "2021-12-17T07:27:02.896400Z",
     "start_time": "2021-12-17T07:27:02.879397Z"
    }
   },
   "outputs": [
    {
     "name": "stdout",
     "output_type": "stream",
     "text": [
      "(42, 3) (42, 9)\n"
     ]
    }
   ],
   "source": [
    "print(X_train.shape, X_train_poly.shape)"
   ]
  },
  {
   "cell_type": "code",
   "execution_count": 282,
   "id": "ea9fd09d",
   "metadata": {
    "ExecuteTime": {
     "end_time": "2021-12-17T07:27:06.150281Z",
     "start_time": "2021-12-17T07:27:06.141292Z"
    }
   },
   "outputs": [
    {
     "data": {
      "text/plain": [
       "['x0', 'x1', 'x2', 'x0^2', 'x0 x1', 'x0 x2', 'x1^2', 'x1 x2', 'x2^2']"
      ]
     },
     "execution_count": 282,
     "metadata": {},
     "output_type": "execute_result"
    }
   ],
   "source": [
    "poly.get_feature_names()"
   ]
  },
  {
   "cell_type": "code",
   "execution_count": 283,
   "id": "f00a44e3",
   "metadata": {
    "ExecuteTime": {
     "end_time": "2021-12-17T07:27:10.532487Z",
     "start_time": "2021-12-17T07:27:10.530487Z"
    }
   },
   "outputs": [],
   "source": [
    "#테스트용 데이터 X에 PolynomialFeatures 적용\n",
    "X_test_poly = poly.transform(X_test)"
   ]
  },
  {
   "cell_type": "code",
   "execution_count": 284,
   "id": "c02d8985",
   "metadata": {
    "ExecuteTime": {
     "end_time": "2021-12-17T07:27:14.883070Z",
     "start_time": "2021-12-17T07:27:14.866060Z"
    }
   },
   "outputs": [
    {
     "data": {
      "text/plain": [
       "(14, 9)"
      ]
     },
     "execution_count": 284,
     "metadata": {},
     "output_type": "execute_result"
    }
   ],
   "source": [
    "X_test_poly.shape"
   ]
  },
  {
   "cell_type": "code",
   "execution_count": 285,
   "id": "4076c895",
   "metadata": {
    "ExecuteTime": {
     "end_time": "2021-12-17T07:27:18.885508Z",
     "start_time": "2021-12-17T07:27:18.866503Z"
    }
   },
   "outputs": [
    {
     "name": "stdout",
     "output_type": "stream",
     "text": [
      "0.9903183436982124\n",
      "0.9714559911594203\n"
     ]
    }
   ],
   "source": [
    "#선형 모델 생성 후 학습\n",
    "model_lr = LinearRegression()\n",
    "model_lr.fit(X_train_poly, y_train)\n",
    "\n",
    "print(model_lr.score(X_train_poly, y_train))\n",
    "print(model_lr.score(X_test_poly, y_test))"
   ]
  },
  {
   "cell_type": "code",
   "execution_count": 286,
   "id": "34c65d6a",
   "metadata": {
    "ExecuteTime": {
     "end_time": "2021-12-17T07:27:22.618476Z",
     "start_time": "2021-12-17T07:27:22.603472Z"
    }
   },
   "outputs": [],
   "source": [
    "# degree=5\n",
    "poly = PolynomialFeatures(degree=5, include_bias=False)\n",
    "poly.fit(X_train)\n",
    "X_train_poly2 = poly.transform(X_train)\n",
    "X_test_poly2 = poly.transform(X_test)"
   ]
  },
  {
   "cell_type": "code",
   "execution_count": 287,
   "id": "fd81f7cf",
   "metadata": {
    "ExecuteTime": {
     "end_time": "2021-12-17T07:27:26.112004Z",
     "start_time": "2021-12-17T07:27:26.103002Z"
    }
   },
   "outputs": [
    {
     "name": "stdout",
     "output_type": "stream",
     "text": [
      "['x0', 'x1', 'x2', 'x0^2', 'x0 x1', 'x0 x2', 'x1^2', 'x1 x2', 'x2^2', 'x0^3', 'x0^2 x1', 'x0^2 x2', 'x0 x1^2', 'x0 x1 x2', 'x0 x2^2', 'x1^3', 'x1^2 x2', 'x1 x2^2', 'x2^3', 'x0^4', 'x0^3 x1', 'x0^3 x2', 'x0^2 x1^2', 'x0^2 x1 x2', 'x0^2 x2^2', 'x0 x1^3', 'x0 x1^2 x2', 'x0 x1 x2^2', 'x0 x2^3', 'x1^4', 'x1^3 x2', 'x1^2 x2^2', 'x1 x2^3', 'x2^4', 'x0^5', 'x0^4 x1', 'x0^4 x2', 'x0^3 x1^2', 'x0^3 x1 x2', 'x0^3 x2^2', 'x0^2 x1^3', 'x0^2 x1^2 x2', 'x0^2 x1 x2^2', 'x0^2 x2^3', 'x0 x1^4', 'x0 x1^3 x2', 'x0 x1^2 x2^2', 'x0 x1 x2^3', 'x0 x2^4', 'x1^5', 'x1^4 x2', 'x1^3 x2^2', 'x1^2 x2^3', 'x1 x2^4', 'x2^5']\n"
     ]
    }
   ],
   "source": [
    "print(poly.get_feature_names())"
   ]
  },
  {
   "cell_type": "code",
   "execution_count": 288,
   "id": "ccb5ed98",
   "metadata": {
    "ExecuteTime": {
     "end_time": "2021-12-17T07:27:29.261604Z",
     "start_time": "2021-12-17T07:27:29.253602Z"
    }
   },
   "outputs": [
    {
     "data": {
      "text/plain": [
       "array([[1.96000000e+01, 5.14000000e+00, 3.04000000e+00, 3.84160000e+02,\n",
       "        1.00744000e+02, 5.95840000e+01, 2.64196000e+01, 1.56256000e+01,\n",
       "        9.24160000e+00, 7.52953600e+03, 1.97458240e+03, 1.16784640e+03,\n",
       "        5.17824160e+02, 3.06261760e+02, 1.81135360e+02, 1.35796744e+02,\n",
       "        8.03155840e+01, 4.75018240e+01, 2.80944640e+01, 1.47578906e+05,\n",
       "        3.87018150e+04, 2.28897894e+04, 1.01493535e+04, 6.00273050e+03,\n",
       "        3.55025306e+03, 2.66161618e+03, 1.57418545e+03, 9.31035750e+02,\n",
       "        5.50651494e+02, 6.97995264e+02, 4.12822102e+02, 2.44159375e+02,\n",
       "        1.44405545e+02, 8.54071706e+01, 2.89254655e+06, 7.58555575e+05,\n",
       "        4.48639873e+05, 1.98927329e+05, 1.17653518e+05, 6.95849599e+04,\n",
       "        5.21676772e+04, 3.08540347e+04, 1.82483007e+04, 1.07927693e+04,\n",
       "        1.36807072e+04, 8.09131319e+03, 4.78552376e+03, 2.83034868e+03,\n",
       "        1.67398054e+03, 3.58769566e+03, 2.12190560e+03, 1.25497919e+03,\n",
       "        7.42244501e+02, 4.38992857e+02, 2.59637799e+02],\n",
       "       [2.20000000e+01, 5.88000000e+00, 3.52000000e+00, 4.84000000e+02,\n",
       "        1.29360000e+02, 7.74400000e+01, 3.45744000e+01, 2.06976000e+01,\n",
       "        1.23904000e+01, 1.06480000e+04, 2.84592000e+03, 1.70368000e+03,\n",
       "        7.60636800e+02, 4.55347200e+02, 2.72588800e+02, 2.03297472e+02,\n",
       "        1.21701888e+02, 7.28555520e+01, 4.36142080e+01, 2.34256000e+05,\n",
       "        6.26102400e+04, 3.74809600e+04, 1.67340096e+04, 1.00176384e+04,\n",
       "        5.99695360e+03, 4.47254438e+03, 2.67744154e+03, 1.60282214e+03,\n",
       "        9.59512576e+02, 1.19538914e+03, 7.15607101e+02, 4.28390646e+02,\n",
       "        2.56451543e+02, 1.53522012e+02, 5.15363200e+06, 1.37742528e+06,\n",
       "        8.24581120e+05, 3.68148211e+05, 2.20388045e+05, 1.31932979e+05,\n",
       "        9.83959764e+04, 5.89037138e+04, 3.52620872e+04, 2.11092767e+04,\n",
       "        2.62985610e+04, 1.57433562e+04, 9.42459421e+03, 5.64193395e+03,\n",
       "        3.37748427e+03, 7.02888812e+03, 4.20776976e+03, 2.51893700e+03,\n",
       "        1.50793507e+03, 9.02709432e+02, 5.40397483e+02]])"
      ]
     },
     "execution_count": 288,
     "metadata": {},
     "output_type": "execute_result"
    }
   ],
   "source": [
    "X_train_poly2[:2]"
   ]
  },
  {
   "cell_type": "code",
   "execution_count": 289,
   "id": "0c8b7740",
   "metadata": {
    "ExecuteTime": {
     "end_time": "2021-12-17T07:27:35.871613Z",
     "start_time": "2021-12-17T07:27:35.854610Z"
    }
   },
   "outputs": [
    {
     "name": "stdout",
     "output_type": "stream",
     "text": [
      "(42, 55)\n"
     ]
    }
   ],
   "source": [
    "print(X_train_poly2.shape)"
   ]
  },
  {
   "cell_type": "code",
   "execution_count": 290,
   "id": "2cb03a6e",
   "metadata": {
    "ExecuteTime": {
     "end_time": "2021-12-17T07:27:38.834608Z",
     "start_time": "2021-12-17T07:27:38.815626Z"
    },
    "scrolled": true
   },
   "outputs": [
    {
     "name": "stdout",
     "output_type": "stream",
     "text": [
      "0.999999999997515\n",
      "-144.40196592191958\n"
     ]
    }
   ],
   "source": [
    "model_lr = LinearRegression()\n",
    "model_lr.fit(X_train_poly2, y_train)\n",
    "print(model_lr.score(X_train_poly2, y_train))\n",
    "print(model_lr.score(X_test_poly2, y_test))"
   ]
  },
  {
   "cell_type": "markdown",
   "id": "fb998c1e",
   "metadata": {},
   "source": [
    "# 퀴즈 \n",
    "\n",
    "- 1) 보스턴 주택 가격데이타를 스케일링한 후 선형회귀 모델을 정의하고 테스트하여라(ML4_01)\n",
    "- 2) 보스턴 주택 가격데이타를  PolynomialFeatures 를 이용해서 데이타를 변형하고 \n",
    "   선형회귀 모델을 정의하고 테스트하여라 \n",
    "- 1)의 모델과 비교 \n",
    "\n",
    "===========================================================================\n",
    "\n",
    "* CRIM: 지역별 범죄 발생률  \n",
    "* ZN: 25,000평방피트를 초과하는 거주 지역의 비율\n",
    "* NDUS: 비상업 지역 넓이 비율\n",
    "* CHAS: 찰스강에 대한 더미 변수(강의 경계에 위치한 경우는 1, 아니면 0)\n",
    "* NOX: 일산화질소 농도\n",
    "* RM: 거주할 수 있는 방 개수\n",
    "* AGE: 1940년 이전에 건축된 소유 주택의 비율\n",
    "* DIS: 5개 주요 고용센터까지의 가중 거리\n",
    "* RAD: 고속도로 접근 용이도\n",
    "* TAX: 10,000달러당 재산세율\n",
    "* PTRATIO: 지역의 교사와 학생 수 비율\n",
    "* B: 지역의 흑인 거주 비율\n",
    "* LSTAT: 하위 계층의 비율\n",
    "* MEDV: 본인 소유의 주택 가격(중앙값)"
   ]
  },
  {
   "cell_type": "code",
   "execution_count": 291,
   "id": "1850335d",
   "metadata": {
    "ExecuteTime": {
     "end_time": "2021-12-17T07:28:11.069714Z",
     "start_time": "2021-12-17T07:28:11.042698Z"
    }
   },
   "outputs": [
    {
     "name": "stdout",
     "output_type": "stream",
     "text": [
      "Boston 데이타셋 크기 : (506, 14)\n"
     ]
    },
    {
     "data": {
      "text/html": [
       "<div>\n",
       "<style scoped>\n",
       "    .dataframe tbody tr th:only-of-type {\n",
       "        vertical-align: middle;\n",
       "    }\n",
       "\n",
       "    .dataframe tbody tr th {\n",
       "        vertical-align: top;\n",
       "    }\n",
       "\n",
       "    .dataframe thead th {\n",
       "        text-align: right;\n",
       "    }\n",
       "</style>\n",
       "<table border=\"1\" class=\"dataframe\">\n",
       "  <thead>\n",
       "    <tr style=\"text-align: right;\">\n",
       "      <th></th>\n",
       "      <th>CRIM</th>\n",
       "      <th>ZN</th>\n",
       "      <th>INDUS</th>\n",
       "      <th>CHAS</th>\n",
       "      <th>NOX</th>\n",
       "      <th>RM</th>\n",
       "      <th>AGE</th>\n",
       "      <th>DIS</th>\n",
       "      <th>RAD</th>\n",
       "      <th>TAX</th>\n",
       "      <th>PTRATIO</th>\n",
       "      <th>B</th>\n",
       "      <th>LSTAT</th>\n",
       "      <th>PRICE</th>\n",
       "    </tr>\n",
       "  </thead>\n",
       "  <tbody>\n",
       "    <tr>\n",
       "      <th>0</th>\n",
       "      <td>0.00632</td>\n",
       "      <td>18.0</td>\n",
       "      <td>2.31</td>\n",
       "      <td>0.0</td>\n",
       "      <td>0.538</td>\n",
       "      <td>6.575</td>\n",
       "      <td>65.2</td>\n",
       "      <td>4.0900</td>\n",
       "      <td>1.0</td>\n",
       "      <td>296.0</td>\n",
       "      <td>15.3</td>\n",
       "      <td>396.90</td>\n",
       "      <td>4.98</td>\n",
       "      <td>24.0</td>\n",
       "    </tr>\n",
       "    <tr>\n",
       "      <th>1</th>\n",
       "      <td>0.02731</td>\n",
       "      <td>0.0</td>\n",
       "      <td>7.07</td>\n",
       "      <td>0.0</td>\n",
       "      <td>0.469</td>\n",
       "      <td>6.421</td>\n",
       "      <td>78.9</td>\n",
       "      <td>4.9671</td>\n",
       "      <td>2.0</td>\n",
       "      <td>242.0</td>\n",
       "      <td>17.8</td>\n",
       "      <td>396.90</td>\n",
       "      <td>9.14</td>\n",
       "      <td>21.6</td>\n",
       "    </tr>\n",
       "    <tr>\n",
       "      <th>2</th>\n",
       "      <td>0.02729</td>\n",
       "      <td>0.0</td>\n",
       "      <td>7.07</td>\n",
       "      <td>0.0</td>\n",
       "      <td>0.469</td>\n",
       "      <td>7.185</td>\n",
       "      <td>61.1</td>\n",
       "      <td>4.9671</td>\n",
       "      <td>2.0</td>\n",
       "      <td>242.0</td>\n",
       "      <td>17.8</td>\n",
       "      <td>392.83</td>\n",
       "      <td>4.03</td>\n",
       "      <td>34.7</td>\n",
       "    </tr>\n",
       "    <tr>\n",
       "      <th>3</th>\n",
       "      <td>0.03237</td>\n",
       "      <td>0.0</td>\n",
       "      <td>2.18</td>\n",
       "      <td>0.0</td>\n",
       "      <td>0.458</td>\n",
       "      <td>6.998</td>\n",
       "      <td>45.8</td>\n",
       "      <td>6.0622</td>\n",
       "      <td>3.0</td>\n",
       "      <td>222.0</td>\n",
       "      <td>18.7</td>\n",
       "      <td>394.63</td>\n",
       "      <td>2.94</td>\n",
       "      <td>33.4</td>\n",
       "    </tr>\n",
       "    <tr>\n",
       "      <th>4</th>\n",
       "      <td>0.06905</td>\n",
       "      <td>0.0</td>\n",
       "      <td>2.18</td>\n",
       "      <td>0.0</td>\n",
       "      <td>0.458</td>\n",
       "      <td>7.147</td>\n",
       "      <td>54.2</td>\n",
       "      <td>6.0622</td>\n",
       "      <td>3.0</td>\n",
       "      <td>222.0</td>\n",
       "      <td>18.7</td>\n",
       "      <td>396.90</td>\n",
       "      <td>5.33</td>\n",
       "      <td>36.2</td>\n",
       "    </tr>\n",
       "  </tbody>\n",
       "</table>\n",
       "</div>"
      ],
      "text/plain": [
       "      CRIM    ZN  INDUS  CHAS    NOX     RM   AGE     DIS  RAD    TAX  \\\n",
       "0  0.00632  18.0   2.31   0.0  0.538  6.575  65.2  4.0900  1.0  296.0   \n",
       "1  0.02731   0.0   7.07   0.0  0.469  6.421  78.9  4.9671  2.0  242.0   \n",
       "2  0.02729   0.0   7.07   0.0  0.469  7.185  61.1  4.9671  2.0  242.0   \n",
       "3  0.03237   0.0   2.18   0.0  0.458  6.998  45.8  6.0622  3.0  222.0   \n",
       "4  0.06905   0.0   2.18   0.0  0.458  7.147  54.2  6.0622  3.0  222.0   \n",
       "\n",
       "   PTRATIO       B  LSTAT  PRICE  \n",
       "0     15.3  396.90   4.98   24.0  \n",
       "1     17.8  396.90   9.14   21.6  \n",
       "2     17.8  392.83   4.03   34.7  \n",
       "3     18.7  394.63   2.94   33.4  \n",
       "4     18.7  396.90   5.33   36.2  "
      ]
     },
     "execution_count": 291,
     "metadata": {},
     "output_type": "execute_result"
    }
   ],
   "source": [
    "from sklearn.datasets import load_boston\n",
    "\n",
    "# boston 데이타셋 로드\n",
    "boston = load_boston()\n",
    "\n",
    "# boston 데이타셋 DataFrame 변환 \n",
    "boston_df = pd.DataFrame(boston.data , columns = boston.feature_names)\n",
    "\n",
    "# boston dataset의 target array는 주택 가격임. 이를 PRICE 컬럼으로 DataFrame에 추가함. \n",
    "boston_df['PRICE'] = boston.target\n",
    "print('Boston 데이타셋 크기 :',boston_df.shape)\n",
    "boston_df.head()"
   ]
  },
  {
   "cell_type": "code",
   "execution_count": 292,
   "id": "28309c58",
   "metadata": {
    "ExecuteTime": {
     "end_time": "2021-12-17T07:28:16.078677Z",
     "start_time": "2021-12-17T07:28:16.068675Z"
    }
   },
   "outputs": [],
   "source": [
    "from sklearn.model_selection import train_test_split\n",
    "from sklearn.linear_model import LinearRegression\n",
    "from sklearn.metrics import mean_squared_error , r2_score\n",
    "\n",
    "y_target = boston_df['PRICE']\n",
    "X_data = boston_df.drop(['PRICE'],axis=1, inplace=False)\n",
    "\n",
    "X_train , X_test , y_train , y_test = train_test_split(X_data , y_target ,test_size=0.3, random_state=156)"
   ]
  },
  {
   "cell_type": "code",
   "execution_count": 293,
   "id": "411191dc",
   "metadata": {
    "ExecuteTime": {
     "end_time": "2021-12-17T07:28:20.173709Z",
     "start_time": "2021-12-17T07:28:20.154706Z"
    }
   },
   "outputs": [
    {
     "name": "stdout",
     "output_type": "stream",
     "text": [
      "MSE : 17.297 , RMSE : 4.159\n",
      "r2_score : 0.757\n"
     ]
    }
   ],
   "source": [
    "# 모델 생성및 학습 \n",
    "model_lr = LinearRegression()\n",
    "model_lr.fit(X_train ,y_train )\n",
    "y_preds = model_lr.predict(X_test)\n",
    "\n",
    "mse = mean_squared_error(y_test, y_preds)\n",
    "rmse = np.sqrt(mse) \n",
    "\n",
    "print('MSE : {0:.3f} , RMSE : {1:.3F}'.format(mse , rmse))\n",
    "print('r2_score : {0:.3f}'.format(r2_score(y_test, y_preds)))"
   ]
  },
  {
   "cell_type": "code",
   "execution_count": 294,
   "id": "93af39f0",
   "metadata": {
    "ExecuteTime": {
     "end_time": "2021-12-17T07:28:25.460343Z",
     "start_time": "2021-12-17T07:28:25.457353Z"
    }
   },
   "outputs": [
    {
     "name": "stdout",
     "output_type": "stream",
     "text": [
      "절편 값: 40.995595172164705\n",
      "회귀 계수값: [-1.12979614e-01  6.55124002e-02  3.44366694e-02  3.04589777e+00\n",
      " -1.97958320e+01  3.35496880e+00  5.93713290e-03 -1.74185354e+00\n",
      "  3.55884364e-01 -1.42954516e-02 -9.20180066e-01  1.03966156e-02\n",
      " -5.66182106e-01]\n"
     ]
    }
   ],
   "source": [
    "print('절편 값:', model_lr.intercept_)\n",
    "print('회귀 계수값:', model_lr.coef_)"
   ]
  },
  {
   "cell_type": "code",
   "execution_count": 295,
   "id": "8aeacfac",
   "metadata": {
    "ExecuteTime": {
     "end_time": "2021-12-17T07:28:28.966690Z",
     "start_time": "2021-12-17T07:28:28.955674Z"
    }
   },
   "outputs": [
    {
     "data": {
      "text/plain": [
       "array([-1.12979614e-01,  6.55124002e-02,  3.44366694e-02,  3.04589777e+00,\n",
       "       -1.97958320e+01,  3.35496880e+00,  5.93713290e-03, -1.74185354e+00,\n",
       "        3.55884364e-01, -1.42954516e-02, -9.20180066e-01,  1.03966156e-02,\n",
       "       -5.66182106e-01])"
      ]
     },
     "execution_count": 295,
     "metadata": {},
     "output_type": "execute_result"
    }
   ],
   "source": [
    "# 각피처의 기울기 \n",
    "model_lr.coef_"
   ]
  },
  {
   "cell_type": "code",
   "execution_count": 296,
   "id": "a7295a09",
   "metadata": {
    "ExecuteTime": {
     "end_time": "2021-12-17T07:28:32.454346Z",
     "start_time": "2021-12-17T07:28:32.442345Z"
    }
   },
   "outputs": [
    {
     "data": {
      "text/plain": [
       "40.995595172164705"
      ]
     },
     "execution_count": 296,
     "metadata": {},
     "output_type": "execute_result"
    }
   ],
   "source": [
    "# 절편\n",
    "model_lr.intercept_"
   ]
  },
  {
   "cell_type": "code",
   "execution_count": 297,
   "id": "164f9e17",
   "metadata": {
    "ExecuteTime": {
     "end_time": "2021-12-17T07:28:35.825549Z",
     "start_time": "2021-12-17T07:28:35.568430Z"
    }
   },
   "outputs": [
    {
     "data": {
      "text/plain": [
       "<AxesSubplot:xlabel='RM', ylabel='PRICE'>"
      ]
     },
     "execution_count": 297,
     "metadata": {},
     "output_type": "execute_result"
    },
    {
     "data": {
      "image/png": "[encoded data removed]",
      "text/plain": [
       "<Figure size 720x432 with 1 Axes>"
      ]
     },
     "metadata": {},
     "output_type": "display_data"
    }
   ],
   "source": [
    "sns.regplot(x='RM' , y='PRICE', data=boston_df)"
   ]
  },
  {
   "cell_type": "markdown",
   "id": "b73f8ebd",
   "metadata": {
    "ExecuteTime": {
     "end_time": "2021-12-17T07:28:42.724540Z",
     "start_time": "2021-12-17T07:28:42.706538Z"
    }
   },
   "source": [
    "## Polynominal Feature 활용"
   ]
  },
  {
   "cell_type": "code",
   "execution_count": 299,
   "id": "eefbd048",
   "metadata": {
    "ExecuteTime": {
     "end_time": "2021-12-17T07:28:57.846010Z",
     "start_time": "2021-12-17T07:28:57.829007Z"
    }
   },
   "outputs": [],
   "source": [
    "from sklearn.preprocessing import PolynomialFeatures"
   ]
  },
  {
   "cell_type": "code",
   "execution_count": 300,
   "id": "a5c5d6fe",
   "metadata": {
    "ExecuteTime": {
     "end_time": "2021-12-17T07:28:58.282116Z",
     "start_time": "2021-12-17T07:28:58.268115Z"
    }
   },
   "outputs": [],
   "source": [
    "# 학습용과 테스트용으로 분리\n",
    "X_train , X_test , y_train , y_test = train_test_split( X_data , y_target , \\\n",
    "                                                       test_size=0.3, random_state=156)\n",
    "\n",
    "# 객체 생성 \n",
    "poly = PolynomialFeatures(include_bias=False, degree=3)\n",
    "# poly = PolynomialFeatures(include_bias=False)\n",
    "\n",
    "# 학습용데이타 X 에 PolynomialFeatures 적용 \n",
    "poly.fit(X_train)\n",
    "X_train_poly = poly.transform(X_train)\n",
    "X_test_poly = poly.transform(X_test)"
   ]
  },
  {
   "cell_type": "code",
   "execution_count": 301,
   "id": "c1c95a3a",
   "metadata": {
    "ExecuteTime": {
     "end_time": "2021-12-17T07:28:58.642199Z",
     "start_time": "2021-12-17T07:28:58.628197Z"
    }
   },
   "outputs": [
    {
     "data": {
      "text/plain": [
       "((354, 13), (354,), (152, 13), (152,))"
      ]
     },
     "execution_count": 301,
     "metadata": {},
     "output_type": "execute_result"
    }
   ],
   "source": [
    "X_train.shape, y_train.shape, X_test.shape, y_test.shape"
   ]
  },
  {
   "cell_type": "code",
   "execution_count": 302,
   "id": "3fe0d66e",
   "metadata": {
    "ExecuteTime": {
     "end_time": "2021-12-17T07:29:07.147328Z",
     "start_time": "2021-12-17T07:29:07.130312Z"
    }
   },
   "outputs": [
    {
     "name": "stdout",
     "output_type": "stream",
     "text": [
      "['x0', 'x1', 'x2', 'x3', 'x4', 'x5', 'x6', 'x7', 'x8', 'x9', 'x10', 'x11', 'x12', 'x0^2', 'x0 x1', 'x0 x2', 'x0 x3', 'x0 x4', 'x0 x5', 'x0 x6', 'x0 x7', 'x0 x8', 'x0 x9', 'x0 x10', 'x0 x11', 'x0 x12', 'x1^2', 'x1 x2', 'x1 x3', 'x1 x4', 'x1 x5', 'x1 x6', 'x1 x7', 'x1 x8', 'x1 x9', 'x1 x10', 'x1 x11', 'x1 x12', 'x2^2', 'x2 x3', 'x2 x4', 'x2 x5', 'x2 x6', 'x2 x7', 'x2 x8', 'x2 x9', 'x2 x10', 'x2 x11', 'x2 x12', 'x3^2', 'x3 x4', 'x3 x5', 'x3 x6', 'x3 x7', 'x3 x8', 'x3 x9', 'x3 x10', 'x3 x11', 'x3 x12', 'x4^2', 'x4 x5', 'x4 x6', 'x4 x7', 'x4 x8', 'x4 x9', 'x4 x10', 'x4 x11', 'x4 x12', 'x5^2', 'x5 x6', 'x5 x7', 'x5 x8', 'x5 x9', 'x5 x10', 'x5 x11', 'x5 x12', 'x6^2', 'x6 x7', 'x6 x8', 'x6 x9', 'x6 x10', 'x6 x11', 'x6 x12', 'x7^2', 'x7 x8', 'x7 x9', 'x7 x10', 'x7 x11', 'x7 x12', 'x8^2', 'x8 x9', 'x8 x10', 'x8 x11', 'x8 x12', 'x9^2', 'x9 x10', 'x9 x11', 'x9 x12', 'x10^2', 'x10 x11', 'x10 x12', 'x11^2', 'x11 x12', 'x12^2', 'x0^3', 'x0^2 x1', 'x0^2 x2', 'x0^2 x3', 'x0^2 x4', 'x0^2 x5', 'x0^2 x6', 'x0^2 x7', 'x0^2 x8', 'x0^2 x9', 'x0^2 x10', 'x0^2 x11', 'x0^2 x12', 'x0 x1^2', 'x0 x1 x2', 'x0 x1 x3', 'x0 x1 x4', 'x0 x1 x5', 'x0 x1 x6', 'x0 x1 x7', 'x0 x1 x8', 'x0 x1 x9', 'x0 x1 x10', 'x0 x1 x11', 'x0 x1 x12', 'x0 x2^2', 'x0 x2 x3', 'x0 x2 x4', 'x0 x2 x5', 'x0 x2 x6', 'x0 x2 x7', 'x0 x2 x8', 'x0 x2 x9', 'x0 x2 x10', 'x0 x2 x11', 'x0 x2 x12', 'x0 x3^2', 'x0 x3 x4', 'x0 x3 x5', 'x0 x3 x6', 'x0 x3 x7', 'x0 x3 x8', 'x0 x3 x9', 'x0 x3 x10', 'x0 x3 x11', 'x0 x3 x12', 'x0 x4^2', 'x0 x4 x5', 'x0 x4 x6', 'x0 x4 x7', 'x0 x4 x8', 'x0 x4 x9', 'x0 x4 x10', 'x0 x4 x11', 'x0 x4 x12', 'x0 x5^2', 'x0 x5 x6', 'x0 x5 x7', 'x0 x5 x8', 'x0 x5 x9', 'x0 x5 x10', 'x0 x5 x11', 'x0 x5 x12', 'x0 x6^2', 'x0 x6 x7', 'x0 x6 x8', 'x0 x6 x9', 'x0 x6 x10', 'x0 x6 x11', 'x0 x6 x12', 'x0 x7^2', 'x0 x7 x8', 'x0 x7 x9', 'x0 x7 x10', 'x0 x7 x11', 'x0 x7 x12', 'x0 x8^2', 'x0 x8 x9', 'x0 x8 x10', 'x0 x8 x11', 'x0 x8 x12', 'x0 x9^2', 'x0 x9 x10', 'x0 x9 x11', 'x0 x9 x12', 'x0 x10^2', 'x0 x10 x11', 'x0 x10 x12', 'x0 x11^2', 'x0 x11 x12', 'x0 x12^2', 'x1^3', 'x1^2 x2', 'x1^2 x3', 'x1^2 x4', 'x1^2 x5', 'x1^2 x6', 'x1^2 x7', 'x1^2 x8', 'x1^2 x9', 'x1^2 x10', 'x1^2 x11', 'x1^2 x12', 'x1 x2^2', 'x1 x2 x3', 'x1 x2 x4', 'x1 x2 x5', 'x1 x2 x6', 'x1 x2 x7', 'x1 x2 x8', 'x1 x2 x9', 'x1 x2 x10', 'x1 x2 x11', 'x1 x2 x12', 'x1 x3^2', 'x1 x3 x4', 'x1 x3 x5', 'x1 x3 x6', 'x1 x3 x7', 'x1 x3 x8', 'x1 x3 x9', 'x1 x3 x10', 'x1 x3 x11', 'x1 x3 x12', 'x1 x4^2', 'x1 x4 x5', 'x1 x4 x6', 'x1 x4 x7', 'x1 x4 x8', 'x1 x4 x9', 'x1 x4 x10', 'x1 x4 x11', 'x1 x4 x12', 'x1 x5^2', 'x1 x5 x6', 'x1 x5 x7', 'x1 x5 x8', 'x1 x5 x9', 'x1 x5 x10', 'x1 x5 x11', 'x1 x5 x12', 'x1 x6^2', 'x1 x6 x7', 'x1 x6 x8', 'x1 x6 x9', 'x1 x6 x10', 'x1 x6 x11', 'x1 x6 x12', 'x1 x7^2', 'x1 x7 x8', 'x1 x7 x9', 'x1 x7 x10', 'x1 x7 x11', 'x1 x7 x12', 'x1 x8^2', 'x1 x8 x9', 'x1 x8 x10', 'x1 x8 x11', 'x1 x8 x12', 'x1 x9^2', 'x1 x9 x10', 'x1 x9 x11', 'x1 x9 x12', 'x1 x10^2', 'x1 x10 x11', 'x1 x10 x12', 'x1 x11^2', 'x1 x11 x12', 'x1 x12^2', 'x2^3', 'x2^2 x3', 'x2^2 x4', 'x2^2 x5', 'x2^2 x6', 'x2^2 x7', 'x2^2 x8', 'x2^2 x9', 'x2^2 x10', 'x2^2 x11', 'x2^2 x12', 'x2 x3^2', 'x2 x3 x4', 'x2 x3 x5', 'x2 x3 x6', 'x2 x3 x7', 'x2 x3 x8', 'x2 x3 x9', 'x2 x3 x10', 'x2 x3 x11', 'x2 x3 x12', 'x2 x4^2', 'x2 x4 x5', 'x2 x4 x6', 'x2 x4 x7', 'x2 x4 x8', 'x2 x4 x9', 'x2 x4 x10', 'x2 x4 x11', 'x2 x4 x12', 'x2 x5^2', 'x2 x5 x6', 'x2 x5 x7', 'x2 x5 x8', 'x2 x5 x9', 'x2 x5 x10', 'x2 x5 x11', 'x2 x5 x12', 'x2 x6^2', 'x2 x6 x7', 'x2 x6 x8', 'x2 x6 x9', 'x2 x6 x10', 'x2 x6 x11', 'x2 x6 x12', 'x2 x7^2', 'x2 x7 x8', 'x2 x7 x9', 'x2 x7 x10', 'x2 x7 x11', 'x2 x7 x12', 'x2 x8^2', 'x2 x8 x9', 'x2 x8 x10', 'x2 x8 x11', 'x2 x8 x12', 'x2 x9^2', 'x2 x9 x10', 'x2 x9 x11', 'x2 x9 x12', 'x2 x10^2', 'x2 x10 x11', 'x2 x10 x12', 'x2 x11^2', 'x2 x11 x12', 'x2 x12^2', 'x3^3', 'x3^2 x4', 'x3^2 x5', 'x3^2 x6', 'x3^2 x7', 'x3^2 x8', 'x3^2 x9', 'x3^2 x10', 'x3^2 x11', 'x3^2 x12', 'x3 x4^2', 'x3 x4 x5', 'x3 x4 x6', 'x3 x4 x7', 'x3 x4 x8', 'x3 x4 x9', 'x3 x4 x10', 'x3 x4 x11', 'x3 x4 x12', 'x3 x5^2', 'x3 x5 x6', 'x3 x5 x7', 'x3 x5 x8', 'x3 x5 x9', 'x3 x5 x10', 'x3 x5 x11', 'x3 x5 x12', 'x3 x6^2', 'x3 x6 x7', 'x3 x6 x8', 'x3 x6 x9', 'x3 x6 x10', 'x3 x6 x11', 'x3 x6 x12', 'x3 x7^2', 'x3 x7 x8', 'x3 x7 x9', 'x3 x7 x10', 'x3 x7 x11', 'x3 x7 x12', 'x3 x8^2', 'x3 x8 x9', 'x3 x8 x10', 'x3 x8 x11', 'x3 x8 x12', 'x3 x9^2', 'x3 x9 x10', 'x3 x9 x11', 'x3 x9 x12', 'x3 x10^2', 'x3 x10 x11', 'x3 x10 x12', 'x3 x11^2', 'x3 x11 x12', 'x3 x12^2', 'x4^3', 'x4^2 x5', 'x4^2 x6', 'x4^2 x7', 'x4^2 x8', 'x4^2 x9', 'x4^2 x10', 'x4^2 x11', 'x4^2 x12', 'x4 x5^2', 'x4 x5 x6', 'x4 x5 x7', 'x4 x5 x8', 'x4 x5 x9', 'x4 x5 x10', 'x4 x5 x11', 'x4 x5 x12', 'x4 x6^2', 'x4 x6 x7', 'x4 x6 x8', 'x4 x6 x9', 'x4 x6 x10', 'x4 x6 x11', 'x4 x6 x12', 'x4 x7^2', 'x4 x7 x8', 'x4 x7 x9', 'x4 x7 x10', 'x4 x7 x11', 'x4 x7 x12', 'x4 x8^2', 'x4 x8 x9', 'x4 x8 x10', 'x4 x8 x11', 'x4 x8 x12', 'x4 x9^2', 'x4 x9 x10', 'x4 x9 x11', 'x4 x9 x12', 'x4 x10^2', 'x4 x10 x11', 'x4 x10 x12', 'x4 x11^2', 'x4 x11 x12', 'x4 x12^2', 'x5^3', 'x5^2 x6', 'x5^2 x7', 'x5^2 x8', 'x5^2 x9', 'x5^2 x10', 'x5^2 x11', 'x5^2 x12', 'x5 x6^2', 'x5 x6 x7', 'x5 x6 x8', 'x5 x6 x9', 'x5 x6 x10', 'x5 x6 x11', 'x5 x6 x12', 'x5 x7^2', 'x5 x7 x8', 'x5 x7 x9', 'x5 x7 x10', 'x5 x7 x11', 'x5 x7 x12', 'x5 x8^2', 'x5 x8 x9', 'x5 x8 x10', 'x5 x8 x11', 'x5 x8 x12', 'x5 x9^2', 'x5 x9 x10', 'x5 x9 x11', 'x5 x9 x12', 'x5 x10^2', 'x5 x10 x11', 'x5 x10 x12', 'x5 x11^2', 'x5 x11 x12', 'x5 x12^2', 'x6^3', 'x6^2 x7', 'x6^2 x8', 'x6^2 x9', 'x6^2 x10', 'x6^2 x11', 'x6^2 x12', 'x6 x7^2', 'x6 x7 x8', 'x6 x7 x9', 'x6 x7 x10', 'x6 x7 x11', 'x6 x7 x12', 'x6 x8^2', 'x6 x8 x9', 'x6 x8 x10', 'x6 x8 x11', 'x6 x8 x12', 'x6 x9^2', 'x6 x9 x10', 'x6 x9 x11', 'x6 x9 x12', 'x6 x10^2', 'x6 x10 x11', 'x6 x10 x12', 'x6 x11^2', 'x6 x11 x12', 'x6 x12^2', 'x7^3', 'x7^2 x8', 'x7^2 x9', 'x7^2 x10', 'x7^2 x11', 'x7^2 x12', 'x7 x8^2', 'x7 x8 x9', 'x7 x8 x10', 'x7 x8 x11', 'x7 x8 x12', 'x7 x9^2', 'x7 x9 x10', 'x7 x9 x11', 'x7 x9 x12', 'x7 x10^2', 'x7 x10 x11', 'x7 x10 x12', 'x7 x11^2', 'x7 x11 x12', 'x7 x12^2', 'x8^3', 'x8^2 x9', 'x8^2 x10', 'x8^2 x11', 'x8^2 x12', 'x8 x9^2', 'x8 x9 x10', 'x8 x9 x11', 'x8 x9 x12', 'x8 x10^2', 'x8 x10 x11', 'x8 x10 x12', 'x8 x11^2', 'x8 x11 x12', 'x8 x12^2', 'x9^3', 'x9^2 x10', 'x9^2 x11', 'x9^2 x12', 'x9 x10^2', 'x9 x10 x11', 'x9 x10 x12', 'x9 x11^2', 'x9 x11 x12', 'x9 x12^2', 'x10^3', 'x10^2 x11', 'x10^2 x12', 'x10 x11^2', 'x10 x11 x12', 'x10 x12^2', 'x11^3', 'x11^2 x12', 'x11 x12^2', 'x12^3']\n"
     ]
    }
   ],
   "source": [
    "print(poly.get_feature_names())"
   ]
  },
  {
   "cell_type": "code",
   "execution_count": 303,
   "id": "583458d6",
   "metadata": {
    "ExecuteTime": {
     "end_time": "2021-12-17T07:29:12.224888Z",
     "start_time": "2021-12-17T07:29:12.192881Z"
    }
   },
   "outputs": [
    {
     "name": "stdout",
     "output_type": "stream",
     "text": [
      "1.0\n",
      "-1116.5979037096138\n"
     ]
    }
   ],
   "source": [
    "# 선형 모델 생성 후 학습 \n",
    "model_lr = LinearRegression()\n",
    "model_lr.fit(X_train_poly, y_train)\n",
    "\n",
    "print(model_lr.score(X_train_poly, y_train))\n",
    "print(model_lr.score(X_test_poly, y_test))"
   ]
  },
  {
   "cell_type": "code",
   "execution_count": 304,
   "id": "958d9831",
   "metadata": {
    "ExecuteTime": {
     "end_time": "2021-12-17T07:29:23.049152Z",
     "start_time": "2021-12-17T07:29:23.042158Z"
    }
   },
   "outputs": [
    {
     "name": "stdout",
     "output_type": "stream",
     "text": [
      "MSE : 79625.592 , RMSE : 282.180\n",
      "r2_score : -1116.598\n"
     ]
    }
   ],
   "source": [
    "mse = mean_squared_error(y_test, model_lr.predict(X_test_poly))\n",
    "rmse = np.sqrt(mse) \n",
    "\n",
    "print('MSE : {0:.3f} , RMSE : {1:.3F}'.format(mse , rmse))\n",
    "print('r2_score : {0:.3f}'.format(r2_score(y_test,  model_lr.predict(X_test_poly))))"
   ]
  },
  {
   "cell_type": "code",
   "execution_count": null,
   "id": "893b481a",
   "metadata": {},
   "outputs": [],
   "source": []
  }
 ],
 "metadata": {
  "hide_input": false,
  "kernelspec": {
   "display_name": "Python 3",
   "language": "python",
   "name": "python3"
  },
  "language_info": {
   "codemirror_mode": {
    "name": "ipython",
    "version": 3
   },
   "file_extension": ".py",
   "mimetype": "text/x-python",
   "name": "python",
   "nbconvert_exporter": "python",
   "pygments_lexer": "ipython3",
   "version": "3.8.8"
  },
  "toc": {
   "base_numbering": 1,
   "nav_menu": {},
   "number_sections": true,
   "sideBar": true,
   "skip_h1_title": false,
   "title_cell": "Table of Contents",
   "title_sidebar": "Contents",
   "toc_cell": false,
   "toc_position": {},
   "toc_section_display": true,
   "toc_window_display": false
  },
  "varInspector": {
   "cols": {
    "lenName": 16,
    "lenType": 16,
    "lenVar": 40
   },
   "kernels_config": {
    "python": {
     "delete_cmd_postfix": "",
     "delete_cmd_prefix": "del ",
     "library": "var_list.py",
     "varRefreshCmd": "print(var_dic_list())"
    },
    "r": {
     "delete_cmd_postfix": ") ",
     "delete_cmd_prefix": "rm(",
     "library": "var_list.r",
     "varRefreshCmd": "cat(var_dic_list()) "
    }
   },
   "types_to_exclude": [
    "module",
    "function",
    "builtin_function_or_method",
    "instance",
    "_Feature"
   ],
   "window_display": false
  }
 },
 "nbformat": 4,
 "nbformat_minor": 5
}
