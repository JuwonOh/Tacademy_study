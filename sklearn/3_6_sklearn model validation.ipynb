{
 "cells": [
  {
   "cell_type": "code",
   "execution_count": 1,
   "id": "40f470ea",
   "metadata": {
    "ExecuteTime": {
     "end_time": "2021-12-07T04:57:36.022078Z",
     "start_time": "2021-12-07T04:57:35.602859Z"
    }
   },
   "outputs": [
    {
     "data": {
      "text/html": [
       "<style>.container { font-weight: bold !important;}</style>"
      ],
      "text/plain": [
       "<IPython.core.display.HTML object>"
      ]
     },
     "metadata": {},
     "output_type": "display_data"
    },
    {
     "data": {
      "text/html": [
       "<style>.container { width: 98% !important; }</style>"
      ],
      "text/plain": [
       "<IPython.core.display.HTML object>"
      ]
     },
     "metadata": {},
     "output_type": "display_data"
    }
   ],
   "source": [
    "# 주피터 노트북 환경설정\n",
    "import warnings\n",
    "warnings.filterwarnings('ignore')\n",
    "warnings.simplefilter('ignore')\n",
    "\n",
    "from IPython.display import set_matplotlib_formats\n",
    "set_matplotlib_formats(\"retina\")\n",
    "\n",
    "from IPython.display import Image\n",
    "\n",
    "from IPython.core.display import display, HTML\n",
    "# display(HTML(\"<style>.container { font-weight: bold !important; font-family:'Malgun Gothic' !important;}</style>\"))\n",
    "display(HTML(\"<style>.container { font-weight: bold !important;}</style>\"))\n",
    "display(HTML(\"<style>.container { width: 98% !important; }</style>\"))"
   ]
  },
  {
   "cell_type": "code",
   "execution_count": 2,
   "id": "8489ee91",
   "metadata": {
    "ExecuteTime": {
     "end_time": "2021-12-07T04:57:37.074005Z",
     "start_time": "2021-12-07T04:57:36.024074Z"
    }
   },
   "outputs": [],
   "source": [
    "import numpy as np\n",
    "import pandas as pd\n",
    "import os\n",
    "\n",
    "import matplotlib\n",
    "import matplotlib.pyplot as plt\n",
    "import seaborn as sns\n",
    "\n",
    "%matplotlib inline\n",
    "\n",
    "# 관련 라이브러리 임포트 \n",
    "import matplotlib.font_manager as fm\n",
    "\n",
    "#  한글글꼴로 변경\n",
    "# plt.rcParams['font.family'] = '한글글꼴명'\n",
    "plt.rcParams['font.size'] = 11.0\n",
    "# plt.rcParams['font.family'] = 'batang'\n",
    "plt.rcParams['font.family'] = 'Malgun Gothic'\n",
    "\n",
    "# 그래프에서 마이너스 폰트 깨지는 문제에 대한 대처\n",
    "matplotlib.rcParams['axes.unicode_minus'] = False\n",
    "\n",
    "# 그래프 기본 크기 설정 \n",
    "plt.rcParams['figure.figsize'] = [10, 6]"
   ]
  },
  {
   "cell_type": "markdown",
   "id": "cd7e34cd",
   "metadata": {},
   "source": [
    "# model validation 평가지표\n",
    "\n",
    "## accuracy\n",
    "\n",
    " - $\\texttt{accuracy}(y, \\hat{y}) = \\frac{1}{n_\\text{samples}} \\sum_{i=0}^{n_\\text{samples}-1} 1(\\hat{y}_i = y_i)$\n",
    " \n",
    " - $\\frac {True Positive + True Negative} { Positive + Negative} $\n",
    " \n",
    " ## confusion matrix\n",
    " \n",
    " - classification model의 결과를 크게 4가지로 나누어 살펴보자.\n",
    " - True Positive: 모델이 true라고 분류한 것이 실제로도 true인 경우.채택한 귀무가설이 실제로도 참인 경우.\n",
    " - False Positive: 모델이 true라고 분류한 것이 실제로는 false인 경우.채택한 귀무가설이 실제로는 거짓인 경우. (type 2 error, overestimation)\n",
    " - False Negative: 모델이 False라고 분류했지만, 실제로는 true인 경우. 기각한 귀무가설이 실제로는 참인경우 (type 1 error, underestimation)\n",
    " - True Negative: 모델이 Flase라고 분류했고, 실제로도 False인 경우. 기각한 귀무가설이 실제로도 거짓인 경우.\n",
    " <br>\n",
    "<img src='https://static.packt-cdn.com/products/9781838555078/graphics/C13314_06_05.jpg' width='60%'>\n",
    " \n",
    "## Recall and Precision\n",
    " - Recall : $ \\frac{True Positive}{False Positive + True Positive}$\n",
    " - Precision : $ \\frac{True Positive}{True Negative + True Positive}$\n",
    " - recall과 precision은 tradeoff 관계이다. \n",
    " \n",
    "## F1 score(F-measure)\n",
    "  - accuracy는 분류 클래스가 imbalanced하면, 모델을 평가하는데 유효한 지표로 사용할 수 없다. 따라서 f1 score를 사용한다.\n",
    "  - $ 2* \\frac{precision * recall}{precision + recall}$\n",
    "  - F1 score는 recall과 precision의 조화평균이다. \n",
    "  - F1 score는 recall과 precision이 어느 한편으로 치우져지지 않았을때 높아진다. 이를 시각화 한 그래프가 ROC curve이다.\n",
    "  \n",
    "## ROC(Receiver operation characteristric curve) 곡선과 AUC(Area Under Curve)\n",
    "- ROC 곡선은 FPR(False Positive Rate)이 변할 때 TPR(True Positive Rate)이 어떻게 변하는지 나타내는 곡선\n",
    "- AUC(Area Under Curve) 값은 ROC 곡선 밑에 면적을 구한 값 (1이 가까울수록 좋은 값)"
   ]
  },
  {
   "cell_type": "markdown",
   "id": "269f43cb",
   "metadata": {},
   "source": [
    "## 이진분류 - titanic 인 경우 테스트 "
   ]
  },
  {
   "cell_type": "code",
   "execution_count": 3,
   "id": "d35e7618",
   "metadata": {
    "ExecuteTime": {
     "end_time": "2021-12-07T04:57:37.974830Z",
     "start_time": "2021-12-07T04:57:37.075990Z"
    }
   },
   "outputs": [],
   "source": [
    "from sklearn.neighbors import KNeighborsClassifier\n",
    "from sklearn.tree import DecisionTreeClassifier\n",
    "from sklearn.ensemble import RandomForestClassifier\n",
    "from sklearn.linear_model import LogisticRegression\n",
    "from sklearn.metrics import accuracy_score\n",
    "from sklearn.preprocessing import LabelEncoder\n",
    "from sklearn.model_selection import train_test_split"
   ]
  },
  {
   "cell_type": "code",
   "execution_count": 4,
   "id": "2f06ef1e",
   "metadata": {
    "ExecuteTime": {
     "end_time": "2021-12-07T04:57:37.990018Z",
     "start_time": "2021-12-07T04:57:37.976818Z"
    }
   },
   "outputs": [],
   "source": [
    "titanic_df = pd.read_csv(\"~/dropbox/python숙달/data/titanic_book.csv\")\n",
    "titanic_df['Age'].fillna(titanic_df['Age'].mean(),inplace=True)\n",
    "titanic_df['Cabin'].fillna('N', inplace=True)\n",
    "titanic_df['Embarked'].fillna('N', inplace=True)"
   ]
  },
  {
   "cell_type": "code",
   "execution_count": 5,
   "id": "74cd4e69",
   "metadata": {
    "ExecuteTime": {
     "end_time": "2021-12-07T04:57:38.005016Z",
     "start_time": "2021-12-07T04:57:37.991006Z"
    }
   },
   "outputs": [],
   "source": [
    "encoder = LabelEncoder()\n",
    "encoder.fit(titanic_df.Sex)\n",
    "titanic_df.Sex = encoder.transform(titanic_df.Sex)\n",
    "\n",
    "\n",
    "encoder.fit(titanic_df['Embarked'])\n",
    "titanic_df['Embarked'] = encoder.transform(titanic_df['Embarked']).reshape(-1, 1)"
   ]
  },
  {
   "cell_type": "code",
   "execution_count": 6,
   "id": "f9bed310",
   "metadata": {
    "ExecuteTime": {
     "end_time": "2021-12-07T04:57:38.020005Z",
     "start_time": "2021-12-07T04:57:38.007002Z"
    }
   },
   "outputs": [],
   "source": [
    "\n",
    "titanic_df['Cabin'] = titanic_df['Cabin'].str[:1]\n",
    "encoder.fit(titanic_df['Cabin'])\n",
    "titanic_df['Cabin']  = encoder.transform(titanic_df['Cabin']).reshape(-1, 1)"
   ]
  },
  {
   "cell_type": "code",
   "execution_count": 7,
   "id": "924578e4",
   "metadata": {
    "ExecuteTime": {
     "end_time": "2021-12-07T04:57:38.035007Z",
     "start_time": "2021-12-07T04:57:38.022007Z"
    }
   },
   "outputs": [],
   "source": [
    "titanic_df.drop(['PassengerId','Name','Ticket'], axis=1, inplace=True)"
   ]
  },
  {
   "cell_type": "code",
   "execution_count": 8,
   "id": "e815db28",
   "metadata": {
    "ExecuteTime": {
     "end_time": "2021-12-07T04:57:38.050025Z",
     "start_time": "2021-12-07T04:57:38.036008Z"
    }
   },
   "outputs": [
    {
     "data": {
      "text/plain": [
       "KNeighborsClassifier(n_neighbors=3)"
      ]
     },
     "execution_count": 8,
     "metadata": {},
     "output_type": "execute_result"
    }
   ],
   "source": [
    "X_titanic_df = titanic_df.loc[:, 'Pclass':]\n",
    "y_titanic_df = titanic_df['Survived']\n",
    "X_train, X_test, y_train, y_test = train_test_split(X_titanic_df, y_titanic_df, \n",
    "                                                    test_size=0.2, random_state=11)\n",
    "\n",
    "model_kn = KNeighborsClassifier(n_neighbors=3)\n",
    "model_kn.fit(X_train , y_train)"
   ]
  },
  {
   "cell_type": "code",
   "execution_count": 9,
   "id": "79f3b04f",
   "metadata": {
    "ExecuteTime": {
     "end_time": "2021-12-07T04:57:38.065035Z",
     "start_time": "2021-12-07T04:57:38.051019Z"
    }
   },
   "outputs": [
    {
     "data": {
      "text/plain": [
       "{'algorithm': 'auto',\n",
       " 'leaf_size': 30,\n",
       " 'metric': 'minkowski',\n",
       " 'metric_params': None,\n",
       " 'n_jobs': None,\n",
       " 'n_neighbors': 3,\n",
       " 'p': 2,\n",
       " 'weights': 'uniform'}"
      ]
     },
     "execution_count": 9,
     "metadata": {},
     "output_type": "execute_result"
    }
   ],
   "source": [
    "model_kn.get_params()"
   ]
  },
  {
   "cell_type": "markdown",
   "id": "1cca410a",
   "metadata": {},
   "source": [
    "# 정확도 평가지표 사용해보기."
   ]
  },
  {
   "cell_type": "markdown",
   "id": "ddb45cf7",
   "metadata": {},
   "source": [
    "## accuracy"
   ]
  },
  {
   "cell_type": "code",
   "execution_count": 10,
   "id": "b554a91b",
   "metadata": {
    "ExecuteTime": {
     "end_time": "2021-12-07T04:57:38.080026Z",
     "start_time": "2021-12-07T04:57:38.067023Z"
    }
   },
   "outputs": [
    {
     "data": {
      "text/plain": [
       "0.7150837988826816"
      ]
     },
     "execution_count": 10,
     "metadata": {},
     "output_type": "execute_result"
    }
   ],
   "source": [
    "from sklearn.metrics import accuracy_score\n",
    "accuracy_score(y_test, model_kn.predict(X_test))"
   ]
  },
  {
   "cell_type": "markdown",
   "id": "284c72ab",
   "metadata": {},
   "source": [
    "## 오차행렬(Confusion Matrix)"
   ]
  },
  {
   "cell_type": "code",
   "execution_count": 11,
   "id": "d1c35d45",
   "metadata": {
    "ExecuteTime": {
     "end_time": "2021-12-07T04:57:38.095022Z",
     "start_time": "2021-12-07T04:57:38.081026Z"
    }
   },
   "outputs": [
    {
     "data": {
      "text/plain": [
       "array([[99, 19],\n",
       "       [32, 29]], dtype=int64)"
      ]
     },
     "execution_count": 11,
     "metadata": {},
     "output_type": "execute_result"
    }
   ],
   "source": [
    "from sklearn.metrics import confusion_matrix, accuracy_score, mean_squared_error\n",
    "confusion_matrix(y_test, model_kn.predict(X_test))"
   ]
  },
  {
   "cell_type": "code",
   "execution_count": 12,
   "id": "0ab2e52f",
   "metadata": {
    "ExecuteTime": {
     "end_time": "2021-12-07T04:57:38.110045Z",
     "start_time": "2021-12-07T04:57:38.097031Z"
    }
   },
   "outputs": [],
   "source": [
    "import matplotlib.pyplot as plt\n",
    "plt.style.use(\"fivethirtyeight\")"
   ]
  },
  {
   "cell_type": "code",
   "execution_count": 13,
   "id": "737a8550",
   "metadata": {
    "ExecuteTime": {
     "end_time": "2021-12-07T04:57:38.230074Z",
     "start_time": "2021-12-07T04:57:38.112035Z"
    }
   },
   "outputs": [
    {
     "data": {
      "text/plain": [
       "Text(19.82, 0.5, 'Actual')"
      ]
     },
     "execution_count": 13,
     "metadata": {},
     "output_type": "execute_result"
    },
    {
     "data": {
      "image/png": "[encoded data removed]",
      "text/plain": [
       "<Figure size 504x504 with 1 Axes>"
      ]
     },
     "metadata": {},
     "output_type": "display_data"
    }
   ],
   "source": [
    "plt.figure(figsize=(7,7))\n",
    "sns.heatmap(confusion_matrix(y_test, model_kn.predict(X_test)),\n",
    "           annot = True, cmap = \"PuBu\", cbar = False)\n",
    "plt.xlabel('Predict')\n",
    "plt.ylabel('Actual')\n"
   ]
  },
  {
   "cell_type": "code",
   "execution_count": 14,
   "id": "2156d69e",
   "metadata": {
    "ExecuteTime": {
     "end_time": "2021-12-07T04:57:38.260062Z",
     "start_time": "2021-12-07T04:57:38.231066Z"
    }
   },
   "outputs": [
    {
     "name": "stdout",
     "output_type": "stream",
     "text": [
      "<function accuracy_score at 0x0000016683516310> [0 0 0 0 1 1 0 1 0 1 1 0 0 0 0 0 0 0 1 1 0 0 0 1 0 0 0 0 0 1 0 1 0 1 0 0 1\n",
      " 0 0 0 0 0 0 1 1 1 1 0 1 0 0 0 0 1 0 1 0 0 0 1 0 0 1 0 0 0 1 0 0 0 0 0 0 1\n",
      " 0 0 1 0 0 0 0 0 1 0 0 1 1 0 1 0 0 0 1 0 1 0 0 0 0 1 0 1 0 0 0 0 0 0 0 0 0\n",
      " 0 1 0 0 0 0 0 1 1 0 0 0 0 0 0 0 0 0 0 1 1 1 0 0 0 0 1 0 1 1 0 0 0 0 0 0 0\n",
      " 0 1 0 0 0 0 0 1 1 0 1 0 0 0 0 0 0 0 1 0 0 1 0 0 0 0 0 0 0 0 1]\n"
     ]
    },
    {
     "data": {
      "text/plain": [
       "0.7150837988826816"
      ]
     },
     "execution_count": 14,
     "metadata": {},
     "output_type": "execute_result"
    }
   ],
   "source": [
    "# accuracy: (TP + TN) / (TN + FP +FN +TP)\n",
    "confmat = confusion_matrix(y_test, model_kn.predict(X_test))\n",
    "print(accuracy_score, model_kn.predict(X_test))\n",
    "(confmat[0,0] + confmat[1,1]) / (confmat[0,0] + confmat[0,1] + confmat[1,0] + confmat[1,1])"
   ]
  },
  {
   "cell_type": "code",
   "execution_count": 15,
   "id": "76ec807f",
   "metadata": {
    "ExecuteTime": {
     "end_time": "2021-12-07T04:57:38.275072Z",
     "start_time": "2021-12-07T04:57:38.262060Z"
    }
   },
   "outputs": [
    {
     "name": "stdout",
     "output_type": "stream",
     "text": [
      "0.2849162011173184\n"
     ]
    },
    {
     "data": {
      "text/plain": [
       "0.2849162011173184"
      ]
     },
     "execution_count": 15,
     "metadata": {},
     "output_type": "execute_result"
    }
   ],
   "source": [
    "# 오류율 = (FN + FP) / (TN + FP + FN + TP)\n",
    "print(mean_squared_error(y_test, model_kn.predict(X_test)))\n",
    "(confmat[0,1] + confmat[1,0]) / (confmat[0,0] + confmat[0,1] + confmat[1,0] + confmat[1,1])"
   ]
  },
  {
   "cell_type": "markdown",
   "id": "81b13816",
   "metadata": {},
   "source": [
    "### 정밀도(Precision) 과 재현율(Recall)\n",
    "\n",
    "- 정밀도는 예측을 Positive로 한 대상 중에 예측과 실제값이 Positive로 일치한 데이터의 비율이다. \n",
    "- 재현율은 실제값이 Positive인 대상 중에 예측과 실제 값이 Positive로 일치한 데이터의 비율이다. \n",
    "\n",
    "\n",
    "```\n",
    "from sklearn.metrics import accuracy_score, precision_score , recall_score\n",
    "\n",
    "precision_score(y_test, 모델명.predict(X_test))\n",
    "recall_score(y_test, 모델명.predict(X_test)))\n",
    "\n",
    "\n",
    "confusion_matrix(y_test, 모델명.predict(X_test)) 기준\n",
    "\n",
    "정밀도 = TP / (FP + TP)\n",
    "재현율 = TP / (FN + TP)\n",
    "\n",
    "```\n"
   ]
  },
  {
   "cell_type": "markdown",
   "id": "c47ffb4c",
   "metadata": {},
   "source": [
    "##  정밀도/재현율 트레이드오프 (Precision/Recall Trade-off)\n",
    "\n",
    "- 정밀도와 재현율은 상호보완적인 평가 지표이기 때문에 어느 한쪽을 강제로 높이면 다른 하나의 수치는 떨어지기쉽다. \n",
    "<br> 이를 정밀도/재현율의 트레이드(Trade Off) 라고 한다. \n",
    "\n",
    "- 가장 좋은 성능 평가는 재현율과 정밀도 모두 높은 수치를 얻는 것이다. \n",
    "\n",
    "- 재현율이 중요 지표인 경우는 실제 Positive 양성 데이터를 Negative로 잘못 판단하게 되면 업무상 큰 영향이 발생하는 경우이다. \n",
    "    - 예) 암진단, 금융사기 판별\n",
    "\n",
    "\n",
    "- 정밀도가 중요 지표인 경우의 예는 스팸메일 여부를 판단하는 모델의 경우. 실제 Positive인 스팸 메일을 Negative인 일반 메일로 분류하여, 사용자가 불편함을 느끼는 정도이지만 실제 Negative 인 일반 메일을 Positive인 스팸 메일로 분류하여 메일을 아예받지 못하는 경우가 있다 \n",
    "    - 예) 스팸메일 \n"
   ]
  },
  {
   "cell_type": "code",
   "execution_count": 16,
   "id": "af941926",
   "metadata": {
    "ExecuteTime": {
     "end_time": "2021-12-07T04:57:38.305076Z",
     "start_time": "2021-12-07T04:57:38.276078Z"
    }
   },
   "outputs": [
    {
     "name": "stdout",
     "output_type": "stream",
     "text": [
      "정밀도: 0.6041666666666666\n",
      "재현율: 0.47540983606557374\n",
      "\n",
      "\n",
      "정밀도: 0.6041666666666666\n",
      "재현율: 0.47540983606557374\n"
     ]
    }
   ],
   "source": [
    "from sklearn.metrics import accuracy_score, confusion_matrix, precision_score , recall_score, f1_score \n",
    "\n",
    "# 오차행렬 생성 \n",
    "confmat = confusion_matrix(y_test, model_kn.predict(X_test))\n",
    "\n",
    "print(\"정밀도:\", precision_score(y_test, model_kn.predict(X_test)))\n",
    "print(\"재현율:\", recall_score(y_test, model_kn.predict(X_test)))\n",
    "\n",
    "# Confusion Matrix에 적용 : TP / (FP + TP)\n",
    "print(\"\\n\\n정밀도:\", (confmat[1,1] / (confmat[0,1] + confmat[1,1])))\n",
    "\n",
    "# Confusion Matrix에 적용 : FN / (FP + TP)\n",
    "print(\"재현율:\", (confmat[1,1] / (confmat[1,0] + confmat[1,1])))"
   ]
  },
  {
   "cell_type": "markdown",
   "id": "a89186ec",
   "metadata": {},
   "source": [
    "## f1score\n",
    "```\n",
    "from sklearn.metrics import f1_score \n",
    "\n",
    "f1_score(y_test , 모델명.predict(X_test))\n",
    "\n",
    "```"
   ]
  },
  {
   "cell_type": "code",
   "execution_count": 17,
   "id": "c5dc4194",
   "metadata": {
    "ExecuteTime": {
     "end_time": "2021-12-07T04:57:38.320080Z",
     "start_time": "2021-12-07T04:57:38.306090Z"
    }
   },
   "outputs": [
    {
     "name": "stdout",
     "output_type": "stream",
     "text": [
      "F1 스코어: 0.5321\n"
     ]
    }
   ],
   "source": [
    "from sklearn.metrics import f1_score\n",
    "\n",
    "f1 = f1_score(y_test, model_kn.predict(X_test))\n",
    "print(f'F1 스코어: {f1:.4f}')"
   ]
  },
  {
   "cell_type": "markdown",
   "id": "1ef24428",
   "metadata": {},
   "source": [
    "# classification_report()\n",
    "\n",
    "- accuracy, precision , recall , f1-score 함께 표시 \n",
    "\n",
    "\n",
    "```\n",
    "from sklearn.metrics import classification_report\n",
    "\n",
    "classification_report(y_test , 모델명.predict(X_test))"
   ]
  },
  {
   "cell_type": "code",
   "execution_count": 18,
   "id": "25b493d3",
   "metadata": {
    "ExecuteTime": {
     "end_time": "2021-12-07T04:57:38.335076Z",
     "start_time": "2021-12-07T04:57:38.321080Z"
    }
   },
   "outputs": [
    {
     "name": "stdout",
     "output_type": "stream",
     "text": [
      "              precision    recall  f1-score   support\n",
      "\n",
      "           0       0.76      0.84      0.80       118\n",
      "           1       0.60      0.48      0.53        61\n",
      "\n",
      "    accuracy                           0.72       179\n",
      "   macro avg       0.68      0.66      0.66       179\n",
      "weighted avg       0.70      0.72      0.71       179\n",
      "\n"
     ]
    }
   ],
   "source": [
    "from sklearn.metrics import classification_report\n",
    "\n",
    "print(classification_report(y_test, model_kn.predict(X_test)))"
   ]
  },
  {
   "cell_type": "markdown",
   "id": "6a420986",
   "metadata": {},
   "source": [
    "# ROC curve와 AUC\n",
    "\n",
    "\n",
    "## ROC curve\n",
    "- ROC Curve는 False positive rate가 변화할 때, True Positive rate가 어떻게 변화하는지 보여준다.\n",
    "\n",
    "- TPR(True Positive Rate, Recall): True Positive/(False Negative + True Positive)\n",
    "- TNR(True Negative Rate): True Negative /(True Negative + False Positive)\n",
    "- FPR(False Positive Rate): False Positive / (False Positive + True Negative), 1 - TNR\n",
    "\n",
    "from sklearn.metrics import plot_roc_curve\n",
    "\n",
    "plot_roc_curve(model, X_test, y_test)"
   ]
  },
  {
   "cell_type": "markdown",
   "id": "37c3d046",
   "metadata": {},
   "source": [
    "## AUC graph\n",
    "\n",
    "- AUC 값은 roc 곡선 밑의 면적을 의미한다. 1에 가까울 수록 좋다.\n",
    "\n",
    "from sklearn.metrics import roc_score\n",
    "\n",
    "- 양성 클레스일때의 확률을 구한 우에 roc_auc_score(y_test, 양성 클래스일때의 확률)\n",
    "pred_proba_class1 = model.predict_proba(X_test)[:, 1]\n",
    "roc_auc_score(y_test, pred_proba_class1)\n",
    "\n"
   ]
  },
  {
   "cell_type": "code",
   "execution_count": 19,
   "id": "3164994b",
   "metadata": {
    "ExecuteTime": {
     "end_time": "2021-12-07T04:57:38.350100Z",
     "start_time": "2021-12-07T04:57:38.336078Z"
    }
   },
   "outputs": [],
   "source": [
    "from matplotlib import style\n",
    "style.use('ggplot')"
   ]
  },
  {
   "cell_type": "code",
   "execution_count": 20,
   "id": "48b56d15",
   "metadata": {
    "ExecuteTime": {
     "end_time": "2021-12-07T04:57:38.515118Z",
     "start_time": "2021-12-07T04:57:38.352087Z"
    }
   },
   "outputs": [
    {
     "name": "stdout",
     "output_type": "stream",
     "text": [
      "roc_auc_score 0.7420116699083078\n"
     ]
    },
    {
     "data": {
      "text/plain": [
       "(0.0, 1.0)"
      ]
     },
     "execution_count": 20,
     "metadata": {},
     "output_type": "execute_result"
    },
    {
     "data": {
      "image/png": "[encoded data removed]",
      "text/plain": [
       "<Figure size 720x432 with 1 Axes>"
      ]
     },
     "metadata": {},
     "output_type": "display_data"
    }
   ],
   "source": [
    "from sklearn.metrics import plot_roc_curve, roc_auc_score\n",
    "\n",
    "pred_proba_class1 = model_kn.predict_proba(X_test)[:, 1]\n",
    "\n",
    "pred_proba_class1 = model_kn.predict_proba(X_test)[:, 1]\n",
    "print('roc_auc_score', roc_auc_score(y_test, pred_proba_class1))\n",
    "plot_roc_curve(model_kn, X_test, y_test)\n",
    "plt.plot([0,1], [0,1], '--k', label='Random')\n",
    "# plt.xticks(np.round(np.arange(start, end, 0.1), 2))\n",
    "plt.xlim(0,1)\n",
    "plt.ylim(0,1)"
   ]
  },
  {
   "cell_type": "markdown",
   "id": "e53c696c",
   "metadata": {
    "ExecuteTime": {
     "end_time": "2021-12-06T23:31:20.087853Z",
     "start_time": "2021-12-06T23:31:20.069394Z"
    }
   },
   "source": [
    "# Quiz\n",
    "\n",
    "- 타이타닉 데이타셋에 아래의 소스를 참조하여 모델을 다시 생성하고 F1 score, 재현율, 정밀도 등을 출력하여라. \n",
    "\n",
    "```\n",
    "from sklearn.ensemble import RandomForestClassifier\n",
    "model_rf = RandomForestClassifier()\n",
    "```"
   ]
  },
  {
   "cell_type": "code",
   "execution_count": 21,
   "id": "a08c362a",
   "metadata": {
    "ExecuteTime": {
     "end_time": "2021-12-07T04:57:38.530119Z",
     "start_time": "2021-12-07T04:57:38.516118Z"
    }
   },
   "outputs": [],
   "source": [
    "from sklearn.preprocessing import LabelEncoder\n",
    "from sklearn.model_selection import train_test_split\n",
    "\n",
    "titanic_df = pd.read_csv('~/dropbox/python숙달/data/titanic_book.csv')\n",
    "\n",
    "titanic_df['Age'].fillna(titanic_df['Age'].mean(), inplace = True)\n",
    "titanic_df['Cabin'].fillna('N', inplace=True)\n",
    "titanic_df['Embarked'].fillna('N', inplace=True)\n",
    "\n",
    "\n",
    "encoder = LabelEncoder()\n",
    "encoder.fit(titanic_df['Sex'])\n",
    "temp = encoder.transform(titanic_df['Sex'])\n",
    "titanic_df['Sex'] = temp.reshape(-1, 1)\n",
    "\n",
    "encoder.fit(titanic_df['Embarked'])\n",
    "temp = encoder.transform(titanic_df['Embarked'])\n",
    "titanic_df['Embarked'] = temp.reshape(-1, 1)\n",
    "\n",
    "titanic_df['Cabin'] = titanic_df['Cabin'].str[:1]\n",
    "encoder.fit(titanic_df['Cabin'])\n",
    "temp = encoder.transform(titanic_df['Cabin'])\n",
    "titanic_df['Cabin'] = temp.reshape(-1, 1)\n",
    "\n",
    "\n",
    "titanic_df.drop(['PassengerId','Name','Ticket'], axis=1, inplace=True)"
   ]
  },
  {
   "cell_type": "code",
   "execution_count": 22,
   "id": "ba551279",
   "metadata": {
    "ExecuteTime": {
     "end_time": "2021-12-07T04:57:38.545126Z",
     "start_time": "2021-12-07T04:57:38.533122Z"
    }
   },
   "outputs": [],
   "source": [
    "y = titanic_df.iloc[:,:1]\n",
    "X = titanic_df.iloc[:,1:]"
   ]
  },
  {
   "cell_type": "code",
   "execution_count": 23,
   "id": "b074854c",
   "metadata": {
    "ExecuteTime": {
     "end_time": "2021-12-07T04:57:38.575147Z",
     "start_time": "2021-12-07T04:57:38.547125Z"
    }
   },
   "outputs": [
    {
     "data": {
      "text/html": [
       "<div>\n",
       "<style scoped>\n",
       "    .dataframe tbody tr th:only-of-type {\n",
       "        vertical-align: middle;\n",
       "    }\n",
       "\n",
       "    .dataframe tbody tr th {\n",
       "        vertical-align: top;\n",
       "    }\n",
       "\n",
       "    .dataframe thead th {\n",
       "        text-align: right;\n",
       "    }\n",
       "</style>\n",
       "<table border=\"1\" class=\"dataframe\">\n",
       "  <thead>\n",
       "    <tr style=\"text-align: right;\">\n",
       "      <th></th>\n",
       "      <th>Survived</th>\n",
       "      <th>Pclass</th>\n",
       "      <th>Sex</th>\n",
       "      <th>Age</th>\n",
       "      <th>SibSp</th>\n",
       "      <th>Parch</th>\n",
       "      <th>Fare</th>\n",
       "      <th>Cabin</th>\n",
       "      <th>Embarked</th>\n",
       "    </tr>\n",
       "  </thead>\n",
       "  <tbody>\n",
       "    <tr>\n",
       "      <th>0</th>\n",
       "      <td>0</td>\n",
       "      <td>3</td>\n",
       "      <td>1</td>\n",
       "      <td>22.000000</td>\n",
       "      <td>1</td>\n",
       "      <td>0</td>\n",
       "      <td>7.2500</td>\n",
       "      <td>7</td>\n",
       "      <td>3</td>\n",
       "    </tr>\n",
       "    <tr>\n",
       "      <th>1</th>\n",
       "      <td>1</td>\n",
       "      <td>1</td>\n",
       "      <td>0</td>\n",
       "      <td>38.000000</td>\n",
       "      <td>1</td>\n",
       "      <td>0</td>\n",
       "      <td>71.2833</td>\n",
       "      <td>2</td>\n",
       "      <td>0</td>\n",
       "    </tr>\n",
       "    <tr>\n",
       "      <th>2</th>\n",
       "      <td>1</td>\n",
       "      <td>3</td>\n",
       "      <td>0</td>\n",
       "      <td>26.000000</td>\n",
       "      <td>0</td>\n",
       "      <td>0</td>\n",
       "      <td>7.9250</td>\n",
       "      <td>7</td>\n",
       "      <td>3</td>\n",
       "    </tr>\n",
       "    <tr>\n",
       "      <th>3</th>\n",
       "      <td>1</td>\n",
       "      <td>1</td>\n",
       "      <td>0</td>\n",
       "      <td>35.000000</td>\n",
       "      <td>1</td>\n",
       "      <td>0</td>\n",
       "      <td>53.1000</td>\n",
       "      <td>2</td>\n",
       "      <td>3</td>\n",
       "    </tr>\n",
       "    <tr>\n",
       "      <th>4</th>\n",
       "      <td>0</td>\n",
       "      <td>3</td>\n",
       "      <td>1</td>\n",
       "      <td>35.000000</td>\n",
       "      <td>0</td>\n",
       "      <td>0</td>\n",
       "      <td>8.0500</td>\n",
       "      <td>7</td>\n",
       "      <td>3</td>\n",
       "    </tr>\n",
       "    <tr>\n",
       "      <th>...</th>\n",
       "      <td>...</td>\n",
       "      <td>...</td>\n",
       "      <td>...</td>\n",
       "      <td>...</td>\n",
       "      <td>...</td>\n",
       "      <td>...</td>\n",
       "      <td>...</td>\n",
       "      <td>...</td>\n",
       "      <td>...</td>\n",
       "    </tr>\n",
       "    <tr>\n",
       "      <th>886</th>\n",
       "      <td>0</td>\n",
       "      <td>2</td>\n",
       "      <td>1</td>\n",
       "      <td>27.000000</td>\n",
       "      <td>0</td>\n",
       "      <td>0</td>\n",
       "      <td>13.0000</td>\n",
       "      <td>7</td>\n",
       "      <td>3</td>\n",
       "    </tr>\n",
       "    <tr>\n",
       "      <th>887</th>\n",
       "      <td>1</td>\n",
       "      <td>1</td>\n",
       "      <td>0</td>\n",
       "      <td>19.000000</td>\n",
       "      <td>0</td>\n",
       "      <td>0</td>\n",
       "      <td>30.0000</td>\n",
       "      <td>1</td>\n",
       "      <td>3</td>\n",
       "    </tr>\n",
       "    <tr>\n",
       "      <th>888</th>\n",
       "      <td>0</td>\n",
       "      <td>3</td>\n",
       "      <td>0</td>\n",
       "      <td>29.699118</td>\n",
       "      <td>1</td>\n",
       "      <td>2</td>\n",
       "      <td>23.4500</td>\n",
       "      <td>7</td>\n",
       "      <td>3</td>\n",
       "    </tr>\n",
       "    <tr>\n",
       "      <th>889</th>\n",
       "      <td>1</td>\n",
       "      <td>1</td>\n",
       "      <td>1</td>\n",
       "      <td>26.000000</td>\n",
       "      <td>0</td>\n",
       "      <td>0</td>\n",
       "      <td>30.0000</td>\n",
       "      <td>2</td>\n",
       "      <td>0</td>\n",
       "    </tr>\n",
       "    <tr>\n",
       "      <th>890</th>\n",
       "      <td>0</td>\n",
       "      <td>3</td>\n",
       "      <td>1</td>\n",
       "      <td>32.000000</td>\n",
       "      <td>0</td>\n",
       "      <td>0</td>\n",
       "      <td>7.7500</td>\n",
       "      <td>7</td>\n",
       "      <td>2</td>\n",
       "    </tr>\n",
       "  </tbody>\n",
       "</table>\n",
       "<p>891 rows × 9 columns</p>\n",
       "</div>"
      ],
      "text/plain": [
       "     Survived  Pclass  Sex        Age  SibSp  Parch     Fare  Cabin  Embarked\n",
       "0           0       3    1  22.000000      1      0   7.2500      7         3\n",
       "1           1       1    0  38.000000      1      0  71.2833      2         0\n",
       "2           1       3    0  26.000000      0      0   7.9250      7         3\n",
       "3           1       1    0  35.000000      1      0  53.1000      2         3\n",
       "4           0       3    1  35.000000      0      0   8.0500      7         3\n",
       "..        ...     ...  ...        ...    ...    ...      ...    ...       ...\n",
       "886         0       2    1  27.000000      0      0  13.0000      7         3\n",
       "887         1       1    0  19.000000      0      0  30.0000      1         3\n",
       "888         0       3    0  29.699118      1      2  23.4500      7         3\n",
       "889         1       1    1  26.000000      0      0  30.0000      2         0\n",
       "890         0       3    1  32.000000      0      0   7.7500      7         2\n",
       "\n",
       "[891 rows x 9 columns]"
      ]
     },
     "execution_count": 23,
     "metadata": {},
     "output_type": "execute_result"
    }
   ],
   "source": [
    "titanic_df"
   ]
  },
  {
   "cell_type": "code",
   "execution_count": 24,
   "id": "6164d6d1",
   "metadata": {
    "ExecuteTime": {
     "end_time": "2021-12-07T04:57:38.710190Z",
     "start_time": "2021-12-07T04:57:38.577146Z"
    }
   },
   "outputs": [
    {
     "data": {
      "text/plain": [
       "RandomForestClassifier()"
      ]
     },
     "execution_count": 24,
     "metadata": {},
     "output_type": "execute_result"
    }
   ],
   "source": [
    "from sklearn.ensemble import RandomForestClassifier\n",
    "from sklearn.model_selection import train_test_split\n",
    "\n",
    "X_train, X_test, y_train, y_test = train_test_split(X,y, test_size = 0.3, random_state = 11, stratify = y)\n",
    "\n",
    "ranfo = RandomForestClassifier()\n",
    "ranfo.fit(X_train, y_train)"
   ]
  },
  {
   "cell_type": "code",
   "execution_count": 25,
   "id": "0e8b8232",
   "metadata": {
    "ExecuteTime": {
     "end_time": "2021-12-07T04:57:38.740190Z",
     "start_time": "2021-12-07T04:57:38.711182Z"
    }
   },
   "outputs": [],
   "source": [
    "y_pred = ranfo.predict(X_test)"
   ]
  },
  {
   "cell_type": "code",
   "execution_count": 26,
   "id": "03236bd5",
   "metadata": {
    "ExecuteTime": {
     "end_time": "2021-12-07T04:57:38.755206Z",
     "start_time": "2021-12-07T04:57:38.741197Z"
    }
   },
   "outputs": [
    {
     "data": {
      "text/plain": [
       "605    0\n",
       "37     0\n",
       "769    0\n",
       "67     0\n",
       "319    1\n",
       "      ..\n",
       "495    0\n",
       "44     1\n",
       "452    0\n",
       "68     1\n",
       "467    0\n",
       "Name: Survived, Length: 268, dtype: int64"
      ]
     },
     "execution_count": 26,
     "metadata": {},
     "output_type": "execute_result"
    }
   ],
   "source": [
    "y_test['Survived']"
   ]
  },
  {
   "cell_type": "code",
   "execution_count": 36,
   "id": "371e05ca",
   "metadata": {
    "ExecuteTime": {
     "end_time": "2021-12-07T05:50:04.097275Z",
     "start_time": "2021-12-07T05:50:04.069264Z"
    }
   },
   "outputs": [
    {
     "name": "stdout",
     "output_type": "stream",
     "text": [
      "              precision    recall  f1-score   support\n",
      "\n",
      "           0       0.86      0.87      0.86       165\n",
      "           1       0.78      0.78      0.78       103\n",
      "\n",
      "    accuracy                           0.83       268\n",
      "   macro avg       0.82      0.82      0.82       268\n",
      "weighted avg       0.83      0.83      0.83       268\n",
      "\n"
     ]
    }
   ],
   "source": [
    "print(classification_report(y_test, ranfo.predict(X_test)))"
   ]
  },
  {
   "cell_type": "code",
   "execution_count": 38,
   "id": "9526d8fd",
   "metadata": {
    "ExecuteTime": {
     "end_time": "2021-12-07T05:50:40.645021Z",
     "start_time": "2021-12-07T05:50:40.433976Z"
    }
   },
   "outputs": [
    {
     "name": "stdout",
     "output_type": "stream",
     "text": [
      "roc_auc_score 0.8679317446307737\n"
     ]
    },
    {
     "data": {
      "text/plain": [
       "(0.0, 1.0)"
      ]
     },
     "execution_count": 38,
     "metadata": {},
     "output_type": "execute_result"
    },
    {
     "data": {
      "image/png": "[encoded data removed]",
      "text/plain": [
       "<Figure size 720x432 with 1 Axes>"
      ]
     },
     "metadata": {},
     "output_type": "display_data"
    }
   ],
   "source": [
    "pred_proba_class1 = ranfo.predict_proba(X_test)[:, 1]\n",
    "print('roc_auc_score', roc_auc_score(y_test, pred_proba_class1))\n",
    "plot_roc_curve(ranfo, X_test, y_test)\n",
    "\n",
    "plt.plot([0,1], [0,1], '--k', label='Random')\n",
    "\n",
    "plt.xticks(np.round(np.arange(0, 1, 0.1), 2))\n",
    "plt.xlim(0,1)\n",
    "plt.ylim(0,1)"
   ]
  },
  {
   "cell_type": "code",
   "execution_count": 39,
   "id": "b12252dc",
   "metadata": {
    "ExecuteTime": {
     "end_time": "2021-12-07T05:50:57.132003Z",
     "start_time": "2021-12-07T05:50:56.932969Z"
    }
   },
   "outputs": [
    {
     "name": "stdout",
     "output_type": "stream",
     "text": [
      "roc_auc_score 0.8895263312739042\n"
     ]
    },
    {
     "data": {
      "text/plain": [
       "(0.0, 1.0)"
      ]
     },
     "execution_count": 39,
     "metadata": {},
     "output_type": "execute_result"
    },
    {
     "data": {
      "image/png": "[encoded data removed]",
      "text/plain": [
       "<Figure size 720x432 with 1 Axes>"
      ]
     },
     "metadata": {},
     "output_type": "display_data"
    }
   ],
   "source": [
    "# KNN인 경우 \n",
    "pred_proba_class1 = model_kn.predict_proba(X_test)[:, 1]\n",
    "print('roc_auc_score', roc_auc_score(y_test, pred_proba_class1))\n",
    "plot_roc_curve(model_kn, X_test, y_test)\n",
    "plt.plot([0,1], [0,1], '--k', label='Random')\n",
    "plt.xticks(np.round(np.arange(0, 1, 0.1), 2))\n",
    "plt.xlim(0,1)\n",
    "plt.ylim(0,1)"
   ]
  }
 ],
 "metadata": {
  "hide_input": false,
  "kernelspec": {
   "display_name": "Python 3",
   "language": "python",
   "name": "python3"
  },
  "language_info": {
   "codemirror_mode": {
    "name": "ipython",
    "version": 3
   },
   "file_extension": ".py",
   "mimetype": "text/x-python",
   "name": "python",
   "nbconvert_exporter": "python",
   "pygments_lexer": "ipython3",
   "version": "3.8.8"
  },
  "toc": {
   "base_numbering": 1,
   "nav_menu": {},
   "number_sections": true,
   "sideBar": true,
   "skip_h1_title": false,
   "title_cell": "Table of Contents",
   "title_sidebar": "Contents",
   "toc_cell": false,
   "toc_position": {},
   "toc_section_display": true,
   "toc_window_display": false
  },
  "varInspector": {
   "cols": {
    "lenName": 16,
    "lenType": 16,
    "lenVar": 40
   },
   "kernels_config": {
    "python": {
     "delete_cmd_postfix": "",
     "delete_cmd_prefix": "del ",
     "library": "var_list.py",
     "varRefreshCmd": "print(var_dic_list())"
    },
    "r": {
     "delete_cmd_postfix": ") ",
     "delete_cmd_prefix": "rm(",
     "library": "var_list.r",
     "varRefreshCmd": "cat(var_dic_list()) "
    }
   },
   "types_to_exclude": [
    "module",
    "function",
    "builtin_function_or_method",
    "instance",
    "_Feature"
   ],
   "window_display": false
  }
 },
 "nbformat": 4,
 "nbformat_minor": 5
}
