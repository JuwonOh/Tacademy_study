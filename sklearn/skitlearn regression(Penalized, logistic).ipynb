{
 "cells": [
  {
   "cell_type": "code",
   "execution_count": 1,
   "id": "36e32d97",
   "metadata": {
    "ExecuteTime": {
     "end_time": "2021-12-17T07:32:25.054134Z",
     "start_time": "2021-12-17T07:32:24.759832Z"
    }
   },
   "outputs": [],
   "source": [
    "# 주피터 노트북 환경설정\n",
    "import warnings\n",
    "warnings.filterwarnings('ignore')\n",
    "warnings.simplefilter('ignore')\n",
    "\n",
    "from IPython.display import set_matplotlib_formats\n",
    "set_matplotlib_formats(\"retina\")\n",
    "\n",
    "from IPython.core.display import display, HTML\n",
    "# display(HTML(\"<style>.container { font-weight: bold !important; font-family:'Malgun Gothic' !important;}</style>\"))\n",
    "# display(HTML(\"<style>.container { font-weight: bold !important;}</style>\"))\n",
    "# display(HTML(\"<style>.container { width: 98% !important; }</style>\"))"
   ]
  },
  {
   "cell_type": "code",
   "execution_count": 2,
   "id": "b4f4c54a",
   "metadata": {
    "ExecuteTime": {
     "end_time": "2021-12-17T07:32:32.698070Z",
     "start_time": "2021-12-17T07:32:31.606831Z"
    }
   },
   "outputs": [],
   "source": [
    "import numpy as np\n",
    "import pandas as pd\n",
    "import os\n",
    "\n",
    "import matplotlib\n",
    "import matplotlib.pyplot as plt\n",
    "import seaborn as sns\n",
    "plt.style.use(\"ggplot\")\n",
    "%matplotlib inline\n",
    "\n",
    "# 관련 라이브러리 임포트 \n",
    "import matplotlib.font_manager as fm\n",
    "\n",
    "#  한글글꼴로 변경\n",
    "# plt.rcParams['font.family'] = '한글글꼴명'\n",
    "plt.rcParams['font.size'] = 11.0\n",
    "# plt.rcParams['font.family'] = 'batang'\n",
    "plt.rcParams['font.family'] = 'Malgun Gothic'\n",
    "\n",
    "# 그래프에서 마이너스 폰트 깨지는 문제에 대한 대처\n",
    "matplotlib.rcParams['axes.unicode_minus'] = False\n",
    "\n",
    "# 그래프 기본 크기 설정 \n",
    "plt.rcParams['figure.figsize'] = [10, 6]"
   ]
  },
  {
   "cell_type": "code",
   "execution_count": 3,
   "id": "bb34e0ee",
   "metadata": {
    "ExecuteTime": {
     "end_time": "2021-12-17T07:32:38.184981Z",
     "start_time": "2021-12-17T07:32:37.232752Z"
    }
   },
   "outputs": [],
   "source": [
    "from sklearn.linear_model import LinearRegression, Ridge, Lasso, LogisticRegression\n",
    "from sklearn.neighbors import KNeighborsClassifier\n",
    "from sklearn.tree import DecisionTreeClassifier\n",
    "\n",
    "from sklearn.metrics import f1_score, recall_score, precision_score, classification_report\n",
    "\n",
    "from sklearn.preprocessing import PolynomialFeatures, StandardScaler, MinMaxScaler\n",
    "from sklearn.model_selection import train_test_split, cross_val_score, GridSearchCV\n",
    "\n",
    "from sklearn.pipeline import Pipeline"
   ]
  },
  {
   "cell_type": "markdown",
   "id": "917ec6d1",
   "metadata": {},
   "source": [
    "# Panelized regression\n",
    "- 머신러닝 모델이 훈련 세트를 너무 과도하게 학습하지 못하도록 제어하는 것. 선형 회귀의 경우 계수 즉 기울기의 크기를 작게 만든다.  \n"
   ]
  },
  {
   "cell_type": "markdown",
   "id": "3fcbd64a",
   "metadata": {},
   "source": [
    "# Ridge regression\n",
    "\n",
    "- 규제가 있는 선형 회귀 모델중 하나이며 선형 모델의 계수를 작게 만들어 과대 적합을 완화시킨다.계수의 제곱 기준 "
   ]
  },
  {
   "cell_type": "code",
   "execution_count": 4,
   "id": "3ac0f966",
   "metadata": {
    "ExecuteTime": {
     "end_time": "2021-12-17T07:36:23.513852Z",
     "start_time": "2021-12-17T07:36:22.848166Z"
    }
   },
   "outputs": [],
   "source": [
    "df = pd.read_csv('https://bit.ly/perch_csv')\n",
    "perch_full = df.to_numpy()\n",
    "\n",
    "#타겟\n",
    "perch_weight = np.array(\n",
    "    [5.9, 32.0, 40.0, 51.5, 70.0, 100.0, 78.0, 80.0, 85.0, 85.0, \n",
    "     110.0, 115.0, 125.0, 130.0, 120.0, 120.0, 130.0, 135.0, 110.0, \n",
    "     130.0, 150.0, 145.0, 150.0, 170.0, 225.0, 145.0, 188.0, 180.0, \n",
    "     197.0, 218.0, 300.0, 260.0, 265.0, 250.0, 250.0, 300.0, 320.0, \n",
    "     514.0, 556.0, 840.0, 685.0, 700.0, 700.0, 690.0, 900.0, 650.0, \n",
    "     820.0, 850.0, 900.0, 1015.0, 820.0, 1100.0, 1000.0, 1100.0, \n",
    "     1000.0, 1000.0]\n",
    "     )\n",
    "\n",
    "X_train, X_test, y_train, y_test = train_test_split(perch_full, perch_weight, random_state=42)\n",
    "\n",
    "poly = PolynomialFeatures(degree=5, include_bias=False)\n",
    "\n",
    "poly.fit(X_train)\n",
    "X_train_poly = poly.transform(X_train)\n",
    "X_test_poly = poly.transform(X_test)\n",
    "\n",
    "\n",
    "scale = StandardScaler()\n",
    "scale.fit(X_train_poly)\n",
    "\n",
    "X_train_scaled = scale.transform(X_train_poly)\n",
    "X_test_scaled = scale.transform(X_test_poly)"
   ]
  },
  {
   "cell_type": "code",
   "execution_count": 5,
   "id": "c91919ac",
   "metadata": {
    "ExecuteTime": {
     "end_time": "2021-12-17T07:36:26.376609Z",
     "start_time": "2021-12-17T07:36:26.361607Z"
    }
   },
   "outputs": [
    {
     "data": {
      "text/plain": [
       "((14, 55), (42, 55))"
      ]
     },
     "execution_count": 5,
     "metadata": {},
     "output_type": "execute_result"
    }
   ],
   "source": [
    "X_test_scaled.shape, X_train_scaled.shape"
   ]
  },
  {
   "cell_type": "code",
   "execution_count": 6,
   "id": "a16ed14f",
   "metadata": {
    "ExecuteTime": {
     "end_time": "2021-12-17T07:36:31.467173Z",
     "start_time": "2021-12-17T07:36:31.460171Z"
    }
   },
   "outputs": [
    {
     "data": {
      "text/plain": [
       "array([[-2.29657672, -2.0645632 , -1.95288184, -1.55255604, -1.46585499,\n",
       "        -1.45227925, -1.38306012, -1.36853915, -1.3414385 , -1.16487216,\n",
       "        -1.12766176, -1.12993021, -1.09096504, -1.0919529 , -1.08681842,\n",
       "        -1.05473034, -1.05422049, -1.04733556, -1.03445922, -0.95097661,\n",
       "        -0.93581382, -0.94095847, -0.92003743, -0.92481854, -0.9257405 ,\n",
       "        -0.90344054, -0.9076728 , -0.90768173, -0.90365223, -0.88585964,\n",
       "        -0.88933355, -0.8882214 , -0.88265495, -0.87279092, -0.82345261,\n",
       "        -0.81922614, -0.82441462, -0.81401521, -0.81951597, -0.82223805,\n",
       "        -0.80760074, -0.81327179, -0.81584326, -0.81548696, -0.79980303,\n",
       "        -0.80545985, -0.80768359, -0.80657966, -0.80223729, -0.79049072,\n",
       "        -0.7959136 , -0.79756241, -0.7954801 , -0.78971903, -0.78033726],\n",
       "       [-1.1967077 , -0.98223359, -0.85919166, -1.06961356, -0.99185789,\n",
       "        -0.95563426, -0.92268296, -0.88613609, -0.84269005, -0.95543049,\n",
       "        -0.92180981, -0.91161782, -0.8899864 , -0.87889323, -0.86304299,\n",
       "        -0.85973625, -0.84769699, -0.83072978, -0.80943128, -0.86077079,\n",
       "        -0.84687971, -0.8461171 , -0.83281408, -0.8317974 , -0.82728294,\n",
       "        -0.81834373, -0.81694967, -0.81173866, -0.80298189, -0.80327626,\n",
       "        -0.80135489, -0.79530144, -0.78534516, -0.77173444, -0.78478184,\n",
       "        -0.78096749, -0.78350179, -0.77633489, -0.77919846, -0.77938006,\n",
       "        -0.7706636 , -0.77373776, -0.77382592, -0.77113018, -0.76376939,\n",
       "        -0.76689397, -0.76671775, -0.76338276, -0.75701539, -0.75551288,\n",
       "        -0.75849268, -0.75785074, -0.75367246, -0.74605227, -0.73508934]])"
      ]
     },
     "execution_count": 6,
     "metadata": {},
     "output_type": "execute_result"
    }
   ],
   "source": [
    "X_test_scaled[:2]"
   ]
  },
  {
   "cell_type": "code",
   "execution_count": 7,
   "id": "78410c2f",
   "metadata": {
    "ExecuteTime": {
     "end_time": "2021-12-17T07:36:35.610586Z",
     "start_time": "2021-12-17T07:36:35.522568Z"
    }
   },
   "outputs": [
    {
     "data": {
      "text/plain": [
       "Ridge()"
      ]
     },
     "execution_count": 7,
     "metadata": {},
     "output_type": "execute_result"
    }
   ],
   "source": [
    "# from sklearn.linear_model import Ridge\n",
    "\n",
    "model_ridge = Ridge()\n",
    "model_ridge.fit(X_train_scaled, y_train)"
   ]
  },
  {
   "cell_type": "code",
   "execution_count": 8,
   "id": "70538599",
   "metadata": {
    "ExecuteTime": {
     "end_time": "2021-12-17T07:36:39.530548Z",
     "start_time": "2021-12-17T07:36:39.522548Z"
    }
   },
   "outputs": [
    {
     "name": "stdout",
     "output_type": "stream",
     "text": [
      "0.9896101671037343\n",
      "0.9790693977615376\n"
     ]
    }
   ],
   "source": [
    "print(model_ridge.score(X_train_scaled, y_train))\n",
    "print(model_ridge.score(X_test_scaled, y_test))"
   ]
  },
  {
   "cell_type": "code",
   "execution_count": 9,
   "id": "8b5bc554",
   "metadata": {
    "ExecuteTime": {
     "end_time": "2021-12-17T07:36:47.724452Z",
     "start_time": "2021-12-17T07:36:47.711461Z"
    }
   },
   "outputs": [
    {
     "data": {
      "text/plain": [
       "LinearRegression()"
      ]
     },
     "execution_count": 9,
     "metadata": {},
     "output_type": "execute_result"
    }
   ],
   "source": [
    "model_lr = LinearRegression()\n",
    "model_lr.fit(X_train_scaled, y_train)"
   ]
  },
  {
   "cell_type": "code",
   "execution_count": 10,
   "id": "5b0047f6",
   "metadata": {
    "ExecuteTime": {
     "end_time": "2021-12-17T07:36:51.096416Z",
     "start_time": "2021-12-17T07:36:51.086405Z"
    }
   },
   "outputs": [
    {
     "name": "stdout",
     "output_type": "stream",
     "text": [
      "1.0\n",
      "-358.8506887360771\n"
     ]
    }
   ],
   "source": [
    "print(model_lr.score(X_train_scaled, y_train))\n",
    "print(model_lr.score(X_test_scaled, y_test))"
   ]
  },
  {
   "cell_type": "code",
   "execution_count": 11,
   "id": "17ab17b9",
   "metadata": {
    "ExecuteTime": {
     "end_time": "2021-12-17T07:38:02.841180Z",
     "start_time": "2021-12-17T07:38:02.824176Z"
    }
   },
   "outputs": [
    {
     "name": "stdout",
     "output_type": "stream",
     "text": [
      "[18.75202605  9.99048537  9.64586193 17.278557   14.42089598 12.69251285\n",
      " 12.34283964 10.88252862 12.55963482 12.93825844 12.67925897  9.12136175\n",
      " 12.49327194  9.02641662  8.39716922 12.21409663  8.99564455  8.85968975\n",
      " 11.68602892  7.48294042  8.98610839  3.37199818 10.27381252  4.61786228\n",
      "  1.60700275 11.21975321  5.66171476  2.9808368   3.17359806 11.72544455\n",
      "  6.40554378  4.19129005  5.06384222  8.89201309  1.89344091  4.81186299\n",
      " -2.91832747  7.38733861 -0.51038117 -5.91335297  9.5029666   1.56464851\n",
      " -3.66645267 -6.13031213 11.06068777  3.21356622 -1.71089861 -3.65107495\n",
      " -2.63704498 11.98418393  4.3636902  -0.11776857 -1.40420516  0.45174316\n",
      "  5.29453248]\n",
      "\n",
      "-6.130312126089967 18.752026049447746 6.427257142033708\n"
     ]
    }
   ],
   "source": [
    "#기울기 - ridge\n",
    "print(model_ridge.coef_)\n",
    "print()\n",
    "print(model_ridge.coef_.min(), model_ridge.coef_.max(), model_ridge.coef_.mean())"
   ]
  },
  {
   "cell_type": "markdown",
   "id": "93fb9a7a",
   "metadata": {},
   "source": [
    "- 다시 정리\n",
    "\n",
    "#### ridge의 규제 정도 -> alpha=1.0 (default)\n",
    "#### 1.0보다 작으면 약한 규제, 1.0보다 크면 강한 규제"
   ]
  },
  {
   "cell_type": "code",
   "execution_count": 12,
   "id": "7d39e0dc",
   "metadata": {
    "ExecuteTime": {
     "end_time": "2021-12-17T07:38:26.805585Z",
     "start_time": "2021-12-17T07:38:26.800572Z"
    }
   },
   "outputs": [
    {
     "name": "stdout",
     "output_type": "stream",
     "text": [
      "[  -589630.50555912     58882.34324788    292479.57446999\n",
      "   3614696.51499939   2676387.96453904  -4179338.79211102\n",
      "   1913385.14805076  -7462398.43053759   4644311.62244733\n",
      "   1112036.2329462  -36636084.62113839   8265194.86369508\n",
      "  10957185.9086208   44560029.65617242 -18234640.88350546\n",
      " -10575138.83793344   7800352.55775522 -11116646.1280095\n",
      "   1508213.95269467  -2366902.41321752  32780600.20159113\n",
      "  -7086929.28659834   6162417.13213452 -21442493.69811726\n",
      "    958974.39042921  -6479999.31434503 -16087564.79973175\n",
      " -24612355.68442646  26477276.3381922   10193063.2388156\n",
      "  -2161671.36555693  -1494714.79469453  18751463.02519272\n",
      " -11464734.53987009 -16778724.3728127   21634520.24520539\n",
      "  17961770.24435099 -15580796.73043925  -3698271.6753593\n",
      "   1658671.6770586  -22830888.63335693   4544534.35558397\n",
      " -20028332.95688947  -7658879.17778674  12298552.32201409\n",
      "  34365168.3991784   14317535.6551806   -3335164.24741361\n",
      "   5353004.99659064  -4052599.78988776  -8063366.76849126\n",
      " -10439620.50691031  -4841213.51056994   9446024.91719438\n",
      "  -5007408.40595877]\n",
      "\n",
      "-36636084.621138394 44560029.65617242 4.047402230531654\n"
     ]
    }
   ],
   "source": [
    "#기울기 - linear\n",
    "print(model_lr.coef_)\n",
    "print()\n",
    "print(model_lr.coef_.min(), model_lr.coef_.max(), model_lr.coef_.mean())"
   ]
  },
  {
   "cell_type": "code",
   "execution_count": 14,
   "id": "a4293861",
   "metadata": {
    "ExecuteTime": {
     "end_time": "2021-12-17T07:39:03.352571Z",
     "start_time": "2021-12-17T07:39:03.338569Z"
    }
   },
   "outputs": [],
   "source": [
    "## alpha 값에 따른 점수 리스트\n",
    "train_score = []\n",
    "test_score = []\n",
    "\n",
    "alpha_list = [0.001, 0.01, 0.1, 1, 10, 100]\n",
    "for a in alpha_list:\n",
    "    \n",
    "    model_ridge = Ridge(alpha=a)\n",
    "    \n",
    "    model_ridge.fit(X_train_scaled, y_train)\n",
    "    \n",
    "    train_score.append(model_ridge.score(X_train_scaled, y_train))\n",
    "    test_score.append(model_ridge.score(X_test_scaled, y_test))"
   ]
  },
  {
   "cell_type": "code",
   "execution_count": 15,
   "id": "0644d4ab",
   "metadata": {
    "ExecuteTime": {
     "end_time": "2021-12-17T07:39:07.116232Z",
     "start_time": "2021-12-17T07:39:07.100241Z"
    }
   },
   "outputs": [
    {
     "data": {
      "text/plain": [
       "[0.001, 0.01, 0.1, 1, 10, 100]"
      ]
     },
     "execution_count": 15,
     "metadata": {},
     "output_type": "execute_result"
    }
   ],
   "source": [
    "alpha_list"
   ]
  },
  {
   "cell_type": "code",
   "execution_count": 16,
   "id": "476c70c4",
   "metadata": {
    "ExecuteTime": {
     "end_time": "2021-12-17T07:39:09.900205Z",
     "start_time": "2021-12-17T07:39:09.893204Z"
    }
   },
   "outputs": [
    {
     "data": {
      "text/plain": [
       "([0.001, 0.01, 0.1, 1, 10, 100],\n",
       " [0.9930455252088376,\n",
       "  0.9917809981250515,\n",
       "  0.9903815817570366,\n",
       "  0.9896101671037343,\n",
       "  0.988728468997471,\n",
       "  0.9841843235774494])"
      ]
     },
     "execution_count": 16,
     "metadata": {},
     "output_type": "execute_result"
    }
   ],
   "source": [
    "#학습 점수의 경우 alpha값이 낮으면 점수가 높아짐\n",
    "alpha_list, train_score"
   ]
  },
  {
   "cell_type": "code",
   "execution_count": 17,
   "id": "91e1b16d",
   "metadata": {
    "ExecuteTime": {
     "end_time": "2021-12-17T07:39:15.412478Z",
     "start_time": "2021-12-17T07:39:15.399475Z"
    }
   },
   "outputs": [
    {
     "data": {
      "text/plain": [
       "([0.001, 0.01, 0.1, 1, 10, 100],\n",
       " [0.956938896147935,\n",
       "  0.9800187936871864,\n",
       "  0.9827976465386965,\n",
       "  0.9790693977615376,\n",
       "  0.9725329582461569,\n",
       "  0.9627042641050291])"
      ]
     },
     "execution_count": 17,
     "metadata": {},
     "output_type": "execute_result"
    }
   ],
   "source": [
    "#테스트 점수의 경우 alpha값이 낮으면 점수가 낮아짐\n",
    "alpha_list, test_score"
   ]
  },
  {
   "cell_type": "code",
   "execution_count": 18,
   "id": "7ce29712",
   "metadata": {
    "ExecuteTime": {
     "end_time": "2021-12-17T07:39:20.494768Z",
     "start_time": "2021-12-17T07:39:20.312732Z"
    }
   },
   "outputs": [
    {
     "data": {
      "image/png": "[encoded data removed]",
      "text/plain": [
       "<Figure size 720x432 with 1 Axes>"
      ]
     },
     "metadata": {
      "needs_background": "light"
     },
     "output_type": "display_data"
    }
   ],
   "source": [
    "#시각화\n",
    "plt.plot(alpha_list, train_score, label='train', marker='o')\n",
    "plt.plot(alpha_list, test_score, label='test', marker='o')\n",
    "plt.legend()\n",
    "plt.show()\n",
    "\n",
    "#두 선 사이의 거리가 가장 짧은 곳이 최적의 alpha 값"
   ]
  },
  {
   "cell_type": "code",
   "execution_count": 19,
   "id": "82c2bee3",
   "metadata": {
    "ExecuteTime": {
     "end_time": "2021-12-17T07:39:38.256853Z",
     "start_time": "2021-12-17T07:39:38.076811Z"
    }
   },
   "outputs": [
    {
     "data": {
      "image/png": "[encoded data removed]",
      "text/plain": [
       "<Figure size 720x432 with 1 Axes>"
      ]
     },
     "metadata": {
      "needs_background": "light"
     },
     "output_type": "display_data"
    }
   ],
   "source": [
    "#시각화\n",
    "plt.plot(alpha_list, train_score, label='train', marker='o')\n",
    "plt.plot(alpha_list, test_score, label='test', marker='o')\n",
    "plt.xlim([0, .2])\n",
    "plt.ylim([0.975, 1.0])\n",
    "plt.legend()\n",
    "plt.show()\n",
    "#0.1이 최적"
   ]
  },
  {
   "cell_type": "code",
   "execution_count": null,
   "id": "2aac582c",
   "metadata": {},
   "outputs": [],
   "source": [
    "## 그래프의 부분 확대"
   ]
  },
  {
   "cell_type": "code",
   "execution_count": null,
   "id": "d5f8cc73",
   "metadata": {},
   "outputs": [],
   "source": [
    "alpha_list = [0.001, 0.01, 0.1, 1, 10, 100]\n",
    "print(np.log10(alpha_list))\n",
    "print(10**(np.log10(alpha_list)))"
   ]
  },
  {
   "cell_type": "code",
   "execution_count": 20,
   "id": "cdf92bd4",
   "metadata": {
    "ExecuteTime": {
     "end_time": "2021-12-17T07:40:36.950002Z",
     "start_time": "2021-12-17T07:40:36.938000Z"
    }
   },
   "outputs": [
    {
     "data": {
      "text/plain": [
       "array([  0.001,   0.01 ,   0.1  ,   1.   ,  10.   , 100.   ])"
      ]
     },
     "execution_count": 20,
     "metadata": {},
     "output_type": "execute_result"
    }
   ],
   "source": [
    "#쥬피터노트북의 숫자 옵션 변경\n",
    "np.set_printoptions(precision=3, suppress=True)\n",
    "10**(np.log10(alpha_list))"
   ]
  },
  {
   "cell_type": "code",
   "execution_count": 21,
   "id": "50664179",
   "metadata": {
    "ExecuteTime": {
     "end_time": "2021-12-17T07:40:41.615354Z",
     "start_time": "2021-12-17T07:40:41.452317Z"
    }
   },
   "outputs": [
    {
     "data": {
      "image/png": "[encoded data removed]",
      "text/plain": [
       "<Figure size 720x432 with 1 Axes>"
      ]
     },
     "metadata": {
      "needs_background": "light"
     },
     "output_type": "display_data"
    }
   ],
   "source": [
    "plt.plot(np.log10(alpha_list), train_score, label='Train')\n",
    "plt.plot(np.log10(alpha_list), test_score, label='Test')\n",
    "plt.legend()\n",
    "plt.show()"
   ]
  },
  {
   "cell_type": "code",
   "execution_count": 22,
   "id": "59705b75",
   "metadata": {
    "ExecuteTime": {
     "end_time": "2021-12-17T07:41:01.362455Z",
     "start_time": "2021-12-17T07:41:01.352454Z"
    }
   },
   "outputs": [
    {
     "name": "stdout",
     "output_type": "stream",
     "text": [
      "0.9903815817570366\n",
      "0.9827976465386965\n"
     ]
    }
   ],
   "source": [
    "#alpha 0.1로 다시 학습\n",
    "model_ridge = Ridge(alpha=0.1)\n",
    "model_ridge.fit(X_train_scaled, y_train)\n",
    "\n",
    "print(model_ridge.score(X_train_scaled, y_train))\n",
    "print(model_ridge.score(X_test_scaled, y_test))"
   ]
  },
  {
   "cell_type": "code",
   "execution_count": 23,
   "id": "5ec1319b",
   "metadata": {
    "ExecuteTime": {
     "end_time": "2021-12-17T07:41:04.920552Z",
     "start_time": "2021-12-17T07:41:04.914561Z"
    }
   },
   "outputs": [
    {
     "data": {
      "text/plain": [
       "array([ 27.619,  -1.64 , -19.733,  30.031,  16.998,  17.832,   4.469,\n",
       "         3.873,  22.835,  19.504,  17.76 ,  14.531,  13.349,   7.573,\n",
       "        19.257,   5.128,  -2.057,  10.624,  41.723,   5.907,  14.934,\n",
       "        -0.451,  19.86 ,   1.271,  -1.007,  19.69 ,  -1.158,  -3.574,\n",
       "        11.966,  13.685,  -8.417,  -9.979,   8.424,  45.515,  -6.238,\n",
       "        13.361, -17.648,  28.236,  -6.566, -25.891,  37.379,  -0.398,\n",
       "       -20.823, -23.806,  39.967,   0.106, -20.498, -21.747,  -4.126,\n",
       "        35.392,  -5.592, -25.389, -23.94 ,  -1.892,  39.442])"
      ]
     },
     "execution_count": 23,
     "metadata": {},
     "output_type": "execute_result"
    }
   ],
   "source": [
    "model_ridge.coef_"
   ]
  },
  {
   "cell_type": "code",
   "execution_count": 24,
   "id": "93a0c80b",
   "metadata": {
    "ExecuteTime": {
     "end_time": "2021-12-17T07:41:10.581187Z",
     "start_time": "2021-12-17T07:41:10.564195Z"
    }
   },
   "outputs": [
    {
     "data": {
      "text/plain": [
       "(-25.8911581343702, 45.51544903428933, 6.466780797934581)"
      ]
     },
     "execution_count": 24,
     "metadata": {},
     "output_type": "execute_result"
    }
   ],
   "source": [
    "model_ridge.coef_.min(), model_ridge.coef_.max(), model_ridge.coef_.mean()"
   ]
  },
  {
   "cell_type": "markdown",
   "id": "3b55c339",
   "metadata": {},
   "source": [
    "# 라쏘"
   ]
  },
  {
   "cell_type": "code",
   "execution_count": 25,
   "id": "955bb20f",
   "metadata": {
    "ExecuteTime": {
     "end_time": "2021-12-17T07:41:49.852170Z",
     "start_time": "2021-12-17T07:41:49.840169Z"
    }
   },
   "outputs": [
    {
     "data": {
      "text/plain": [
       "Lasso()"
      ]
     },
     "execution_count": 25,
     "metadata": {},
     "output_type": "execute_result"
    }
   ],
   "source": [
    "# from sklearn.linear_model import Lasso\n",
    "\n",
    "model_lasso = Lasso()\n",
    "model_lasso.fit(X_train_scaled, y_train)"
   ]
  },
  {
   "cell_type": "code",
   "execution_count": 26,
   "id": "853e423d",
   "metadata": {
    "ExecuteTime": {
     "end_time": "2021-12-17T07:41:52.995061Z",
     "start_time": "2021-12-17T07:41:52.977206Z"
    }
   },
   "outputs": [
    {
     "name": "stdout",
     "output_type": "stream",
     "text": [
      "0.989789897208096\n",
      "0.9800593698421886\n"
     ]
    }
   ],
   "source": [
    "print(model_lasso.score(X_train_scaled, y_train))\n",
    "print(model_lasso.score(X_test_scaled, y_test))"
   ]
  },
  {
   "cell_type": "code",
   "execution_count": 27,
   "id": "102d698c",
   "metadata": {
    "ExecuteTime": {
     "end_time": "2021-12-17T07:41:55.619432Z",
     "start_time": "2021-12-17T07:41:55.615431Z"
    }
   },
   "outputs": [
    {
     "data": {
      "text/plain": [
       "array([ 0.   ,  0.   ,  0.   , 95.612, 11.602,  0.   , 10.58 ,  0.   ,\n",
       "       31.515,  0.   , 22.3  ,  0.   , 29.104,  0.   ,  0.   , 18.504,\n",
       "        0.   ,  0.   , 41.937,  0.   ,  0.   ,  0.   ,  0.   ,  0.   ,\n",
       "        0.   ,  5.748,  0.   ,  0.   ,  0.   , 20.534,  0.   ,  0.   ,\n",
       "        0.   ,  8.878,  0.   ,  0.   ,  0.   ,  0.   ,  0.   ,  0.   ,\n",
       "        0.   ,  0.   ,  0.   ,  0.   , 35.312,  0.   ,  0.   ,  0.   ,\n",
       "        0.   , 21.359,  0.   ,  0.   ,  0.   ,  0.   ,  0.   ])"
      ]
     },
     "execution_count": 27,
     "metadata": {},
     "output_type": "execute_result"
    }
   ],
   "source": [
    "model_lasso.coef_"
   ]
  },
  {
   "cell_type": "markdown",
   "id": "6946ff7c",
   "metadata": {
    "ExecuteTime": {
     "end_time": "2021-12-17T07:42:06.092637Z",
     "start_time": "2021-12-17T07:42:06.077637Z"
    }
   },
   "source": [
    "## alpha 하이퍼파라미터 테스트"
   ]
  },
  {
   "cell_type": "code",
   "execution_count": 29,
   "id": "8118b013",
   "metadata": {
    "ExecuteTime": {
     "end_time": "2021-12-17T07:42:13.981512Z",
     "start_time": "2021-12-17T07:42:13.940519Z"
    }
   },
   "outputs": [],
   "source": [
    "train_score = []\n",
    "test_score = []\n",
    "\n",
    "alpha_list = [0.001, 0.01, 0.1, 1, 10, 100]\n",
    "for a in alpha_list:\n",
    "    # 라쏘 모델 생성\n",
    "    model_lasso = Lasso(alpha=a)\n",
    "    # 라쏘 모델 훈련\n",
    "    model_lasso.fit(X_train_scaled, y_train)\n",
    "    # 훈련 점수와 테스트 점수를 저장\n",
    "    train_score.append(model_lasso.score(X_train_scaled, y_train))\n",
    "    test_score.append(model_lasso.score(X_test_scaled, y_test))"
   ]
  },
  {
   "cell_type": "code",
   "execution_count": 30,
   "id": "387c3b24",
   "metadata": {
    "ExecuteTime": {
     "end_time": "2021-12-17T07:42:17.543777Z",
     "start_time": "2021-12-17T07:42:17.539776Z"
    }
   },
   "outputs": [
    {
     "name": "stdout",
     "output_type": "stream",
     "text": [
      "[0.001, 0.01, 0.1, 1, 10, 100]\n",
      "\n",
      "[0.990856843502147, 0.9907921500205304, 0.990137631128448, 0.989789897208096, 0.9888067471131867, 0.9078632190121446]\n"
     ]
    }
   ],
   "source": [
    "#alpha값 1을 기준으로 낮을수록 학습점수가 올라감\n",
    "print(alpha_list)\n",
    "print()\n",
    "print(train_score)"
   ]
  },
  {
   "cell_type": "code",
   "execution_count": 31,
   "id": "3078e5d4",
   "metadata": {
    "ExecuteTime": {
     "end_time": "2021-12-17T07:42:21.069652Z",
     "start_time": "2021-12-17T07:42:21.066645Z"
    }
   },
   "outputs": [
    {
     "name": "stdout",
     "output_type": "stream",
     "text": [
      "[0.001, 0.01, 0.1, 1, 10, 100]\n",
      "\n",
      "[0.9836870822242813, 0.9836730006301536, 0.9819405116249363, 0.9800593698421886, 0.9824470598706695, 0.9089071866576978]\n"
     ]
    }
   ],
   "source": [
    "#alpha값 1을 기준으로 낮을수록 학습점수가 올라감\n",
    "print(alpha_list)\n",
    "print()\n",
    "print(test_score)"
   ]
  },
  {
   "cell_type": "code",
   "execution_count": 32,
   "id": "f978a315",
   "metadata": {
    "ExecuteTime": {
     "end_time": "2021-12-17T07:42:24.551106Z",
     "start_time": "2021-12-17T07:42:24.403074Z"
    }
   },
   "outputs": [
    {
     "data": {
      "image/png": "[encoded data removed]",
      "text/plain": [
       "<Figure size 720x432 with 1 Axes>"
      ]
     },
     "metadata": {
      "needs_background": "light"
     },
     "output_type": "display_data"
    }
   ],
   "source": [
    "alpha_list = [0.001, 0.01, 0.1, 1, 10, 100]\n",
    "plt.plot(alpha_list, train_score, label='train', marker='o')\n",
    "plt.plot(alpha_list, test_score, label='test', marker='o')\n",
    "plt.legend()\n",
    "plt.show()"
   ]
  },
  {
   "cell_type": "code",
   "execution_count": 33,
   "id": "fe46944c",
   "metadata": {
    "ExecuteTime": {
     "end_time": "2021-12-17T07:42:28.888580Z",
     "start_time": "2021-12-17T07:42:28.690527Z"
    }
   },
   "outputs": [
    {
     "data": {
      "image/png": "[encoded data removed]",
      "text/plain": [
       "<Figure size 720x432 with 1 Axes>"
      ]
     },
     "metadata": {
      "needs_background": "light"
     },
     "output_type": "display_data"
    }
   ],
   "source": [
    "alpha_list = [0.001, 0.01, 0.1, 1, 10, 100]\n",
    "plt.plot(alpha_list, train_score, label='train', marker='o')\n",
    "plt.plot(alpha_list, test_score, label='test', marker='o')\n",
    "plt.xlim([-1, 20])\n",
    "plt.ylim([0.97, 1.0])\n",
    "plt.legend()\n",
    "plt.show()"
   ]
  },
  {
   "cell_type": "code",
   "execution_count": 34,
   "id": "07dd4415",
   "metadata": {
    "ExecuteTime": {
     "end_time": "2021-12-17T07:42:35.109369Z",
     "start_time": "2021-12-17T07:42:34.991326Z"
    }
   },
   "outputs": [
    {
     "data": {
      "image/png": "[encoded data removed]",
      "text/plain": [
       "<Figure size 720x432 with 1 Axes>"
      ]
     },
     "metadata": {
      "needs_background": "light"
     },
     "output_type": "display_data"
    }
   ],
   "source": [
    "# np.log10() 이용 \n",
    "alpha_list = [0.001, 0.01, 0.1, 1, 10, 100]\n",
    "# 1일때 가장 점수 차이가 적게난다. = 10**(1)\n",
    "\n",
    "plt.plot(np.log10(alpha_list), train_score, marker='o')\n",
    "plt.plot(np.log10(alpha_list), test_score, marker='o')\n",
    "plt.show()"
   ]
  },
  {
   "cell_type": "code",
   "execution_count": 35,
   "id": "a04289dc",
   "metadata": {
    "ExecuteTime": {
     "end_time": "2021-12-17T07:42:48.548523Z",
     "start_time": "2021-12-17T07:42:48.529517Z"
    }
   },
   "outputs": [
    {
     "name": "stdout",
     "output_type": "stream",
     "text": [
      "0.9888067471131867\n",
      "0.9824470598706695\n"
     ]
    }
   ],
   "source": [
    "#alpha=10 재적용\n",
    "model_lasso2 = Lasso(alpha=10)\n",
    "model_lasso2.fit(X_train_scaled, y_train)\n",
    "\n",
    "print(model_lasso2.score(X_train_scaled, y_train))\n",
    "print(model_lasso2.score(X_test_scaled, y_test))"
   ]
  },
  {
   "cell_type": "code",
   "execution_count": 36,
   "id": "4cb89745",
   "metadata": {
    "ExecuteTime": {
     "end_time": "2021-12-17T07:42:53.608579Z",
     "start_time": "2021-12-17T07:42:53.590576Z"
    }
   },
   "outputs": [
    {
     "data": {
      "text/plain": [
       "array([ 0.   ,  0.   ,  0.   , 12.149, 55.449, 42.231,  0.   ,  0.   ,\n",
       "       13.706,  0.   , 43.219,  5.703, 47.463,  7.423, 11.858,  0.   ,\n",
       "        0.   , 13.53 , 21.221,  0.   ,  0.   ,  0.   ,  0.   ,  0.   ,\n",
       "        0.   , 18.67 ,  0.   ,  0.   ,  0.   , 15.81 ,  0.   ,  0.   ,\n",
       "        0.   ,  0.   ,  0.   ,  0.   ,  0.   ,  0.   ,  0.   ,  0.   ,\n",
       "        0.   ,  0.   ,  0.   ,  0.   , 18.147,  0.   ,  0.   ,  0.   ,\n",
       "        0.   , 15.513,  0.   ,  0.   ,  0.   ,  0.   ,  0.   ])"
      ]
     },
     "execution_count": 36,
     "metadata": {},
     "output_type": "execute_result"
    }
   ],
   "source": [
    "model_lasso2.coef_\n",
    "\n",
    "## 이게 뭘 의미하는데???"
   ]
  },
  {
   "cell_type": "code",
   "execution_count": 37,
   "id": "e18f6bc2",
   "metadata": {
    "ExecuteTime": {
     "end_time": "2021-12-17T07:43:05.855837Z",
     "start_time": "2021-12-17T07:43:05.841834Z"
    }
   },
   "outputs": [
    {
     "data": {
      "text/plain": [
       "array([  0.   ,   0.   ,   0.   ,   0.   ,   0.503,   0.   ,   0.   ,\n",
       "         0.   ,   0.   ,   0.   ,   0.   ,   0.   ,  81.72 , 167.246,\n",
       "         0.   ,   0.   ,   0.   ,   0.   ,   0.   ,   0.   ,   0.   ,\n",
       "         0.   ,   0.   ,   0.   ,   0.   ,   0.   ,   0.   ,   0.   ,\n",
       "         0.   ,   0.   ,   0.   ,   0.   ,   0.   ,   0.   ,   0.   ,\n",
       "         0.   ,   0.   ,   0.   ,   0.   ,   0.   ,   0.   ,   0.   ,\n",
       "         0.   ,   0.   ,   0.   ,   0.   ,   0.   ,   0.   ,   0.   ,\n",
       "         0.   ,   0.   ,   0.   ,   0.   ,   0.   ,   0.   ])"
      ]
     },
     "execution_count": 37,
     "metadata": {},
     "output_type": "execute_result"
    }
   ],
   "source": [
    "#alpha=1\n",
    "model_lasso.coef_"
   ]
  },
  {
   "cell_type": "code",
   "execution_count": 38,
   "id": "b29d3616",
   "metadata": {
    "ExecuteTime": {
     "end_time": "2021-12-17T07:43:09.694427Z",
     "start_time": "2021-12-17T07:43:09.678417Z"
    }
   },
   "outputs": [
    {
     "name": "stdout",
     "output_type": "stream",
     "text": [
      "40\n"
     ]
    }
   ],
   "source": [
    "print(np.sum(model_lasso2.coef_ == 0))"
   ]
  },
  {
   "cell_type": "code",
   "execution_count": 39,
   "id": "509e9b03",
   "metadata": {
    "ExecuteTime": {
     "end_time": "2021-12-17T07:43:12.794884Z",
     "start_time": "2021-12-17T07:43:12.790884Z"
    }
   },
   "outputs": [
    {
     "name": "stdout",
     "output_type": "stream",
     "text": [
      "52\n"
     ]
    }
   ],
   "source": [
    "print(np.sum(model_lasso.coef_ == 0))"
   ]
  },
  {
   "cell_type": "markdown",
   "id": "752194af",
   "metadata": {
    "ExecuteTime": {
     "end_time": "2021-12-17T07:43:17.966259Z",
     "start_time": "2021-12-17T07:43:17.953283Z"
    }
   },
   "source": [
    "# 퀴즈 \n",
    "\n",
    "- 성별 키와 몸무게(weight-height.csv) 데이타셋을 이용하여 선형, 다항적용, 릿지, 라쏘 모델별로 테스트하고 결과를 확인하여라. \n",
    "\n",
    "- Gender 컬럼 전처리\n",
    "\n",
    "- 스케일링\n",
    "\n",
    "- 몸무게는 파운드 단위 -> 1파운드 = 0.453592kg\n",
    "- 키는 인치 단위 -> 1인치 = 2.54cm"
   ]
  },
  {
   "cell_type": "code",
   "execution_count": 50,
   "id": "cc4a872e",
   "metadata": {
    "ExecuteTime": {
     "end_time": "2021-12-17T07:46:53.784788Z",
     "start_time": "2021-12-17T07:46:53.770779Z"
    }
   },
   "outputs": [],
   "source": [
    "#데이터셋 생성\n",
    "df = pd.read_csv('~/dropbox/python숙달/data/weight-height.csv')\n",
    "df_target = df['Gender']\n"
   ]
  },
  {
   "cell_type": "code",
   "execution_count": 46,
   "id": "3900f72e",
   "metadata": {
    "ExecuteTime": {
     "end_time": "2021-12-17T07:45:34.865427Z",
     "start_time": "2021-12-17T07:45:34.856414Z"
    }
   },
   "outputs": [
    {
     "data": {
      "text/plain": [
       "(10000, 3)"
      ]
     },
     "execution_count": 46,
     "metadata": {},
     "output_type": "execute_result"
    }
   ],
   "source": [
    "df.shape"
   ]
  },
  {
   "cell_type": "code",
   "execution_count": 47,
   "id": "06942adc",
   "metadata": {
    "ExecuteTime": {
     "end_time": "2021-12-17T07:45:38.013996Z",
     "start_time": "2021-12-17T07:45:37.993993Z"
    }
   },
   "outputs": [
    {
     "data": {
      "text/plain": [
       "Gender    0\n",
       "Height    0\n",
       "Weight    0\n",
       "dtype: int64"
      ]
     },
     "execution_count": 47,
     "metadata": {},
     "output_type": "execute_result"
    }
   ],
   "source": [
    "df.isnull().sum()"
   ]
  },
  {
   "cell_type": "code",
   "execution_count": 48,
   "id": "85718994",
   "metadata": {
    "ExecuteTime": {
     "end_time": "2021-12-17T07:45:41.295131Z",
     "start_time": "2021-12-17T07:45:41.281128Z"
    }
   },
   "outputs": [
    {
     "data": {
      "text/html": [
       "<div>\n",
       "<style scoped>\n",
       "    .dataframe tbody tr th:only-of-type {\n",
       "        vertical-align: middle;\n",
       "    }\n",
       "\n",
       "    .dataframe tbody tr th {\n",
       "        vertical-align: top;\n",
       "    }\n",
       "\n",
       "    .dataframe thead th {\n",
       "        text-align: right;\n",
       "    }\n",
       "</style>\n",
       "<table border=\"1\" class=\"dataframe\">\n",
       "  <thead>\n",
       "    <tr style=\"text-align: right;\">\n",
       "      <th></th>\n",
       "      <th>Height</th>\n",
       "      <th>Weight</th>\n",
       "    </tr>\n",
       "  </thead>\n",
       "  <tbody>\n",
       "    <tr>\n",
       "      <th>count</th>\n",
       "      <td>10000.000000</td>\n",
       "      <td>10000.000000</td>\n",
       "    </tr>\n",
       "    <tr>\n",
       "      <th>mean</th>\n",
       "      <td>66.367560</td>\n",
       "      <td>161.440357</td>\n",
       "    </tr>\n",
       "    <tr>\n",
       "      <th>std</th>\n",
       "      <td>3.847528</td>\n",
       "      <td>32.108439</td>\n",
       "    </tr>\n",
       "    <tr>\n",
       "      <th>min</th>\n",
       "      <td>54.263133</td>\n",
       "      <td>64.700127</td>\n",
       "    </tr>\n",
       "    <tr>\n",
       "      <th>25%</th>\n",
       "      <td>63.505620</td>\n",
       "      <td>135.818051</td>\n",
       "    </tr>\n",
       "    <tr>\n",
       "      <th>50%</th>\n",
       "      <td>66.318070</td>\n",
       "      <td>161.212928</td>\n",
       "    </tr>\n",
       "    <tr>\n",
       "      <th>75%</th>\n",
       "      <td>69.174262</td>\n",
       "      <td>187.169525</td>\n",
       "    </tr>\n",
       "    <tr>\n",
       "      <th>max</th>\n",
       "      <td>78.998742</td>\n",
       "      <td>269.989699</td>\n",
       "    </tr>\n",
       "  </tbody>\n",
       "</table>\n",
       "</div>"
      ],
      "text/plain": [
       "             Height        Weight\n",
       "count  10000.000000  10000.000000\n",
       "mean      66.367560    161.440357\n",
       "std        3.847528     32.108439\n",
       "min       54.263133     64.700127\n",
       "25%       63.505620    135.818051\n",
       "50%       66.318070    161.212928\n",
       "75%       69.174262    187.169525\n",
       "max       78.998742    269.989699"
      ]
     },
     "execution_count": 48,
     "metadata": {},
     "output_type": "execute_result"
    }
   ],
   "source": [
    "df.describe()"
   ]
  },
  {
   "cell_type": "markdown",
   "id": "90473a98",
   "metadata": {},
   "source": [
    "## Gender 컬럼 원핫인코딩"
   ]
  },
  {
   "cell_type": "code",
   "execution_count": 51,
   "id": "5b85b2c8",
   "metadata": {
    "ExecuteTime": {
     "end_time": "2021-12-17T07:47:08.016139Z",
     "start_time": "2021-12-17T07:47:07.996129Z"
    }
   },
   "outputs": [
    {
     "data": {
      "text/html": [
       "<div>\n",
       "<style scoped>\n",
       "    .dataframe tbody tr th:only-of-type {\n",
       "        vertical-align: middle;\n",
       "    }\n",
       "\n",
       "    .dataframe tbody tr th {\n",
       "        vertical-align: top;\n",
       "    }\n",
       "\n",
       "    .dataframe thead th {\n",
       "        text-align: right;\n",
       "    }\n",
       "</style>\n",
       "<table border=\"1\" class=\"dataframe\">\n",
       "  <thead>\n",
       "    <tr style=\"text-align: right;\">\n",
       "      <th></th>\n",
       "      <th>Height</th>\n",
       "      <th>Weight</th>\n",
       "      <th>Gender_Female</th>\n",
       "      <th>Gender_Male</th>\n",
       "    </tr>\n",
       "  </thead>\n",
       "  <tbody>\n",
       "    <tr>\n",
       "      <th>3908</th>\n",
       "      <td>69.842455</td>\n",
       "      <td>174.213404</td>\n",
       "      <td>0</td>\n",
       "      <td>1</td>\n",
       "    </tr>\n",
       "    <tr>\n",
       "      <th>8551</th>\n",
       "      <td>63.423372</td>\n",
       "      <td>129.921671</td>\n",
       "      <td>1</td>\n",
       "      <td>0</td>\n",
       "    </tr>\n",
       "    <tr>\n",
       "      <th>850</th>\n",
       "      <td>71.032385</td>\n",
       "      <td>186.762488</td>\n",
       "      <td>0</td>\n",
       "      <td>1</td>\n",
       "    </tr>\n",
       "    <tr>\n",
       "      <th>4608</th>\n",
       "      <td>72.430455</td>\n",
       "      <td>208.141537</td>\n",
       "      <td>0</td>\n",
       "      <td>1</td>\n",
       "    </tr>\n",
       "    <tr>\n",
       "      <th>6504</th>\n",
       "      <td>67.281358</td>\n",
       "      <td>151.006828</td>\n",
       "      <td>1</td>\n",
       "      <td>0</td>\n",
       "    </tr>\n",
       "  </tbody>\n",
       "</table>\n",
       "</div>"
      ],
      "text/plain": [
       "         Height      Weight  Gender_Female  Gender_Male\n",
       "3908  69.842455  174.213404              0            1\n",
       "8551  63.423372  129.921671              1            0\n",
       "850   71.032385  186.762488              0            1\n",
       "4608  72.430455  208.141537              0            1\n",
       "6504  67.281358  151.006828              1            0"
      ]
     },
     "execution_count": 51,
     "metadata": {},
     "output_type": "execute_result"
    }
   ],
   "source": [
    "#  원핫인코딩으로 gender 컬럼 변경 \n",
    "df = pd.get_dummies(df)\n",
    "df.sample(5)"
   ]
  },
  {
   "cell_type": "code",
   "execution_count": 52,
   "id": "54c2bf8c",
   "metadata": {
    "ExecuteTime": {
     "end_time": "2021-12-17T07:47:12.498424Z",
     "start_time": "2021-12-17T07:47:12.483432Z"
    }
   },
   "outputs": [
    {
     "name": "stdout",
     "output_type": "stream",
     "text": [
      "0.9896101671037343 0.9790693977615376\n"
     ]
    }
   ],
   "source": [
    "# model_ridge = Ridge(alpha=100)\n",
    "model_ridge = Ridge()\n",
    "model_ridge.fit(X_train_scaled, y_train)\n",
    "print(model_ridge.score(X_train_scaled, y_train), model_ridge.score(X_test_scaled, y_test))"
   ]
  },
  {
   "cell_type": "code",
   "execution_count": 53,
   "id": "fc17d7d3",
   "metadata": {
    "ExecuteTime": {
     "end_time": "2021-12-17T07:47:16.295722Z",
     "start_time": "2021-12-17T07:47:16.282719Z"
    }
   },
   "outputs": [
    {
     "data": {
      "text/plain": [
       "([0.9930455252088376,\n",
       "  0.9917809981250515,\n",
       "  0.9903815817570366,\n",
       "  0.9896101671037343,\n",
       "  0.988728468997471,\n",
       "  0.9841843235774494],\n",
       " [0.956938896147935,\n",
       "  0.9800187936871864,\n",
       "  0.9827976465386965,\n",
       "  0.9790693977615376,\n",
       "  0.9725329582461569,\n",
       "  0.9627042641050291])"
      ]
     },
     "execution_count": 53,
     "metadata": {},
     "output_type": "execute_result"
    }
   ],
   "source": [
    "train_score = []\n",
    "test_score = []\n",
    "\n",
    "alpha_list = [0.001, 0.01, 0.1, 1, 10, 100]\n",
    "for a in alpha_list:\n",
    "    model_ridge = Ridge(alpha=a)\n",
    "    model_ridge.fit(X_train_scaled, y_train)\n",
    "    train_score.append(model_ridge.score(X_train_scaled, y_train))\n",
    "    test_score.append(model_ridge.score(X_test_scaled, y_test))\n",
    "                                        \n",
    "train_score, test_score "
   ]
  },
  {
   "cell_type": "code",
   "execution_count": 54,
   "id": "b3235cb5",
   "metadata": {
    "ExecuteTime": {
     "end_time": "2021-12-17T07:47:20.545458Z",
     "start_time": "2021-12-17T07:47:20.371434Z"
    }
   },
   "outputs": [
    {
     "data": {
      "image/png": "[encoded data removed]",
      "text/plain": [
       "<Figure size 720x432 with 1 Axes>"
      ]
     },
     "metadata": {
      "needs_background": "light"
     },
     "output_type": "display_data"
    }
   ],
   "source": [
    "# np.set_printoptions(precision=3, suppress=True)\n",
    "plt.plot(np.log10(alpha_list), train_score, label='Train', marker='o')\n",
    "plt.plot(np.log10(alpha_list), test_score, label='Test', marker='o')\n",
    "plt.legend()\n",
    "plt.show()"
   ]
  },
  {
   "cell_type": "code",
   "execution_count": 55,
   "id": "4a02d96b",
   "metadata": {
    "ExecuteTime": {
     "end_time": "2021-12-17T07:52:02.928481Z",
     "start_time": "2021-12-17T07:52:02.914474Z"
    }
   },
   "outputs": [
    {
     "data": {
      "text/plain": [
       "array([0.036, 0.012, 0.008, 0.011, 0.016, 0.021])"
      ]
     },
     "execution_count": 55,
     "metadata": {},
     "output_type": "execute_result"
    }
   ],
   "source": [
    "# 거리 구하기 \n",
    "np.array(train_score) - np.array(test_score)"
   ]
  },
  {
   "cell_type": "code",
   "execution_count": 56,
   "id": "b4d512a7",
   "metadata": {
    "ExecuteTime": {
     "end_time": "2021-12-17T07:52:09.188423Z",
     "start_time": "2021-12-17T07:52:09.176415Z"
    }
   },
   "outputs": [
    {
     "data": {
      "text/plain": [
       "array([0.008, 0.011, 0.012, 0.016, 0.021, 0.036])"
      ]
     },
     "execution_count": 56,
     "metadata": {},
     "output_type": "execute_result"
    }
   ],
   "source": [
    "np.sort(np.array(train_score) - np.array(test_score))"
   ]
  },
  {
   "cell_type": "code",
   "execution_count": 57,
   "id": "4b41a331",
   "metadata": {
    "ExecuteTime": {
     "end_time": "2021-12-17T07:52:14.794064Z",
     "start_time": "2021-12-17T07:52:14.776059Z"
    }
   },
   "outputs": [
    {
     "name": "stdout",
     "output_type": "stream",
     "text": [
      "0.9903815817570366 0.9827976465386965\n"
     ]
    }
   ],
   "source": [
    "# model_ridge = Ridge(alpha=100)\n",
    "model_ridge = Ridge(alpha=0.1)\n",
    "model_ridge.fit(X_train_scaled, y_train)\n",
    "print(model_ridge.score(X_train_scaled, y_train), model_ridge.score(X_test_scaled, y_test))"
   ]
  },
  {
   "cell_type": "code",
   "execution_count": 59,
   "id": "cd53983f",
   "metadata": {
    "ExecuteTime": {
     "end_time": "2021-12-17T07:52:23.758541Z",
     "start_time": "2021-12-17T07:52:23.739532Z"
    }
   },
   "outputs": [
    {
     "data": {
      "text/plain": [
       "Lasso()"
      ]
     },
     "execution_count": 59,
     "metadata": {},
     "output_type": "execute_result"
    }
   ],
   "source": [
    "model_lasso = Lasso()\n",
    "model_lasso.fit(X_train_scaled, y_train)\n"
   ]
  },
  {
   "cell_type": "code",
   "execution_count": 60,
   "id": "721f3b98",
   "metadata": {
    "ExecuteTime": {
     "end_time": "2021-12-17T07:52:32.459409Z",
     "start_time": "2021-12-17T07:52:32.427393Z"
    }
   },
   "outputs": [
    {
     "data": {
      "text/plain": [
       "([0.9078632190121446,\n",
       "  0.9078632190121446,\n",
       "  0.9078632190121446,\n",
       "  0.9078632190121446,\n",
       "  0.9078632190121446,\n",
       "  0.9078632190121446],\n",
       " [0.9089071866576978,\n",
       "  0.9089071866576978,\n",
       "  0.9089071866576978,\n",
       "  0.9089071866576978,\n",
       "  0.9089071866576978,\n",
       "  0.9089071866576978])"
      ]
     },
     "execution_count": 60,
     "metadata": {},
     "output_type": "execute_result"
    }
   ],
   "source": [
    "train_score = []\n",
    "test_score = []\n",
    "\n",
    "alpha_list = [0.001, 0.01, 0.1, 1, 10, 100]\n",
    "for alpha in alpha_list:\n",
    "    model_lasso = Lasso(alpha=a)\n",
    "    model_lasso.fit(X_train_scaled, y_train)\n",
    "    train_score.append(model_lasso.score(X_train_scaled, y_train))\n",
    "    test_score.append(model_lasso.score(X_test_scaled, y_test))\n",
    "                                        \n",
    "train_score, test_score   "
   ]
  },
  {
   "cell_type": "code",
   "execution_count": 61,
   "id": "2c0f8b0d",
   "metadata": {
    "ExecuteTime": {
     "end_time": "2021-12-17T07:52:37.819611Z",
     "start_time": "2021-12-17T07:52:37.701591Z"
    }
   },
   "outputs": [
    {
     "data": {
      "image/png": "[encoded data removed]",
      "text/plain": [
       "<Figure size 720x432 with 1 Axes>"
      ]
     },
     "metadata": {
      "needs_background": "light"
     },
     "output_type": "display_data"
    }
   ],
   "source": [
    "# np.set_printoptions(precision=3, suppress=True)\n",
    "plt.plot(np.log10(alpha_list), train_score, label='Train')\n",
    "plt.plot(np.log10(alpha_list), test_score, label='Test')\n",
    "plt.show()"
   ]
  },
  {
   "cell_type": "code",
   "execution_count": 62,
   "id": "d14da979",
   "metadata": {
    "ExecuteTime": {
     "end_time": "2021-12-17T07:53:25.607011Z",
     "start_time": "2021-12-17T07:53:25.592003Z"
    }
   },
   "outputs": [
    {
     "name": "stdout",
     "output_type": "stream",
     "text": [
      "0.989789897208096 0.9800593698421886\n"
     ]
    }
   ],
   "source": [
    "model_lasso = Lasso()\n",
    "model_lasso.fit(X_train_scaled, y_train)\n",
    "print(model_lasso.score(X_train_scaled, y_train), model_lasso.score(X_test_scaled, y_test))"
   ]
  },
  {
   "cell_type": "code",
   "execution_count": 63,
   "id": "911efbea",
   "metadata": {
    "ExecuteTime": {
     "end_time": "2021-12-17T07:53:29.429951Z",
     "start_time": "2021-12-17T07:53:29.414935Z"
    }
   },
   "outputs": [
    {
     "data": {
      "text/plain": [
       "array([ 0.   ,  0.   ,  0.   , 95.612, 11.602,  0.   , 10.58 ,  0.   ,\n",
       "       31.515,  0.   , 22.3  ,  0.   , 29.104,  0.   ,  0.   , 18.504,\n",
       "        0.   ,  0.   , 41.937,  0.   ,  0.   ,  0.   ,  0.   ,  0.   ,\n",
       "        0.   ,  5.748,  0.   ,  0.   ,  0.   , 20.534,  0.   ,  0.   ,\n",
       "        0.   ,  8.878,  0.   ,  0.   ,  0.   ,  0.   ,  0.   ,  0.   ,\n",
       "        0.   ,  0.   ,  0.   ,  0.   , 35.312,  0.   ,  0.   ,  0.   ,\n",
       "        0.   , 21.359,  0.   ,  0.   ,  0.   ,  0.   ,  0.   ])"
      ]
     },
     "execution_count": 63,
     "metadata": {},
     "output_type": "execute_result"
    }
   ],
   "source": [
    "model_lasso.coef_"
   ]
  },
  {
   "cell_type": "code",
   "execution_count": 64,
   "id": "c0d16655",
   "metadata": {
    "ExecuteTime": {
     "end_time": "2021-12-17T07:53:33.492024Z",
     "start_time": "2021-12-17T07:53:33.477034Z"
    }
   },
   "outputs": [
    {
     "data": {
      "text/plain": [
       "{'alpha': 1.0,\n",
       " 'copy_X': True,\n",
       " 'fit_intercept': True,\n",
       " 'max_iter': 1000,\n",
       " 'normalize': False,\n",
       " 'positive': False,\n",
       " 'precompute': False,\n",
       " 'random_state': None,\n",
       " 'selection': 'cyclic',\n",
       " 'tol': 0.0001,\n",
       " 'warm_start': False}"
      ]
     },
     "execution_count": 64,
     "metadata": {},
     "output_type": "execute_result"
    }
   ],
   "source": [
    "model_lasso.get_params()"
   ]
  },
  {
   "cell_type": "markdown",
   "id": "751c3483",
   "metadata": {},
   "source": [
    "# 로지스틱 회귀\n",
    "\n",
    "- 시그모이드 함수 => 이진분류 \n",
    "- 소프트맥스 함수 => 다중분류"
   ]
  },
  {
   "cell_type": "markdown",
   "id": "a745fc69",
   "metadata": {},
   "source": [
    "## 시그모이드(sigmoid) 함수의 특징 \n",
    "```\n",
    "z 입력에 무엇이 들어가든 함수값이 (0,1)로 제한된다. \n",
    "중간 값은 0.5 이다.\n",
    "매우 큰 값을 가지면 거의 1이며, 매우 작은 값을 가지면 거의 0이다.  \n",
    "Binary classification에 적절한 함수이다. \n",
    "```\n",
    "\n",
    "z = (회귀계수1*피처값1) + (회귀계수2*피처값2) + .... + 절편\n",
    "\n",
    "- z를 확률로 변경하여 주는 함수가 시그모이드 함수\n",
    "\n",
    "<img src=\"https://wikimedia.org/api/rest_v1/media/math/render/svg/faaa0c014ae28ac67db5c49b3f3e8b08415a3f2b\">\n",
    "\n",
    "- z가 0이면 0.5. z가 어떤값이 되더라도 0~1사이의 범위가 된다. \n",
    "\n",
    "- 0.5를 기준으로 작으면 0 음성클래스, 크면 1 양성클래스 \n",
    "\n",
    "- 시그모이드 그래프 \n",
    "<img src=\"https://mblogthumb-phinf.pstatic.net/MjAyMDA3MDdfMTgx/MDAxNTk0MTMwODg2NzAw.Bgt42rm3pV0xTPfuVjN1UbXw9HchDcAdLdvnsrAQvJ0g.ILAv2yJkoMXNiWHKAUe0QswJWyr84GwwlRbXwxCogKUg.PNG.zzoyou_/sigmoid.png?type=w800\" width=\"50%\">"
   ]
  },
  {
   "cell_type": "code",
   "execution_count": 65,
   "id": "29d537cf",
   "metadata": {
    "ExecuteTime": {
     "end_time": "2021-12-17T07:54:16.463775Z",
     "start_time": "2021-12-17T07:54:16.454774Z"
    }
   },
   "outputs": [],
   "source": [
    "#시그모이드 함수 구현\n",
    "x = np.arange(-5, 5, 0.1)\n",
    "y = 1 / (1 + np.exp(-x))"
   ]
  },
  {
   "cell_type": "code",
   "execution_count": 66,
   "id": "9eaf222e",
   "metadata": {
    "ExecuteTime": {
     "end_time": "2021-12-17T07:54:20.091149Z",
     "start_time": "2021-12-17T07:54:20.081146Z"
    }
   },
   "outputs": [
    {
     "data": {
      "text/plain": [
       "(array([-5. , -4.9, -4.8, -4.7, -4.6]),\n",
       " array([0.007, 0.007, 0.008, 0.009, 0.01 ]))"
      ]
     },
     "execution_count": 66,
     "metadata": {},
     "output_type": "execute_result"
    }
   ],
   "source": [
    "x[:5], y[:5]"
   ]
  },
  {
   "cell_type": "code",
   "execution_count": 67,
   "id": "213fe49c",
   "metadata": {
    "ExecuteTime": {
     "end_time": "2021-12-17T07:54:23.345105Z",
     "start_time": "2021-12-17T07:54:23.178067Z"
    }
   },
   "outputs": [
    {
     "data": {
      "image/png": "[encoded data removed]",
      "text/plain": [
       "<Figure size 720x432 with 1 Axes>"
      ]
     },
     "metadata": {
      "needs_background": "light"
     },
     "output_type": "display_data"
    }
   ],
   "source": [
    "#시그모이드 시각화\n",
    "plt.plot(x, y)\n",
    "plt.yticks(np.arange(0, 1.1, step=0.1)) #y 눈금 설정\n",
    "plt.xticks(np.arange(-5, 6)) #x 눈금 설정\n",
    "plt.grid()\n",
    "plt.show()"
   ]
  },
  {
   "cell_type": "markdown",
   "id": "1eca4f2b",
   "metadata": {},
   "source": [
    "## 데이터 준비하기 - 이진분류용"
   ]
  },
  {
   "cell_type": "code",
   "execution_count": 68,
   "id": "e6bf76f7",
   "metadata": {
    "ExecuteTime": {
     "end_time": "2021-12-17T07:54:47.563485Z",
     "start_time": "2021-12-17T07:54:47.529478Z"
    }
   },
   "outputs": [
    {
     "data": {
      "text/html": [
       "<div>\n",
       "<style scoped>\n",
       "    .dataframe tbody tr th:only-of-type {\n",
       "        vertical-align: middle;\n",
       "    }\n",
       "\n",
       "    .dataframe tbody tr th {\n",
       "        vertical-align: top;\n",
       "    }\n",
       "\n",
       "    .dataframe thead th {\n",
       "        text-align: right;\n",
       "    }\n",
       "</style>\n",
       "<table border=\"1\" class=\"dataframe\">\n",
       "  <thead>\n",
       "    <tr style=\"text-align: right;\">\n",
       "      <th></th>\n",
       "      <th>alcohol</th>\n",
       "      <th>sugar</th>\n",
       "      <th>pH</th>\n",
       "      <th>class</th>\n",
       "    </tr>\n",
       "  </thead>\n",
       "  <tbody>\n",
       "    <tr>\n",
       "      <th>0</th>\n",
       "      <td>9.4</td>\n",
       "      <td>1.9</td>\n",
       "      <td>3.51</td>\n",
       "      <td>0.0</td>\n",
       "    </tr>\n",
       "    <tr>\n",
       "      <th>1</th>\n",
       "      <td>9.8</td>\n",
       "      <td>2.6</td>\n",
       "      <td>3.20</td>\n",
       "      <td>0.0</td>\n",
       "    </tr>\n",
       "    <tr>\n",
       "      <th>2</th>\n",
       "      <td>9.8</td>\n",
       "      <td>2.3</td>\n",
       "      <td>3.26</td>\n",
       "      <td>0.0</td>\n",
       "    </tr>\n",
       "    <tr>\n",
       "      <th>3</th>\n",
       "      <td>9.8</td>\n",
       "      <td>1.9</td>\n",
       "      <td>3.16</td>\n",
       "      <td>0.0</td>\n",
       "    </tr>\n",
       "    <tr>\n",
       "      <th>4</th>\n",
       "      <td>9.4</td>\n",
       "      <td>1.9</td>\n",
       "      <td>3.51</td>\n",
       "      <td>0.0</td>\n",
       "    </tr>\n",
       "  </tbody>\n",
       "</table>\n",
       "</div>"
      ],
      "text/plain": [
       "   alcohol  sugar    pH  class\n",
       "0      9.4    1.9  3.51    0.0\n",
       "1      9.8    2.6  3.20    0.0\n",
       "2      9.8    2.3  3.26    0.0\n",
       "3      9.8    1.9  3.16    0.0\n",
       "4      9.4    1.9  3.51    0.0"
      ]
     },
     "execution_count": 68,
     "metadata": {},
     "output_type": "execute_result"
    }
   ],
   "source": [
    "wine_df = pd.read_csv('~/dropbox/python숙달/data/redwine.csv')\n",
    "wine_df.head()"
   ]
  },
  {
   "cell_type": "code",
   "execution_count": 69,
   "id": "28c17e43",
   "metadata": {
    "ExecuteTime": {
     "end_time": "2021-12-17T07:54:51.207895Z",
     "start_time": "2021-12-17T07:54:51.190892Z"
    }
   },
   "outputs": [
    {
     "data": {
      "text/plain": [
       "1.0    4898\n",
       "0.0    1599\n",
       "Name: class, dtype: int64"
      ]
     },
     "execution_count": 69,
     "metadata": {},
     "output_type": "execute_result"
    }
   ],
   "source": [
    "wine_df['class'].value_counts()"
   ]
  },
  {
   "cell_type": "code",
   "execution_count": 70,
   "id": "c64670e5",
   "metadata": {
    "ExecuteTime": {
     "end_time": "2021-12-17T07:54:56.279873Z",
     "start_time": "2021-12-17T07:54:56.266865Z"
    }
   },
   "outputs": [],
   "source": [
    "#데이터 분리\n",
    "X = wine_df[['alcohol','sugar','pH']]\n",
    "y = wine_df['class']\n",
    "\n",
    "X_train, X_test, y_train, y_test = train_test_split(X, y, random_state=42, stratify=y)\n",
    "\n",
    "scale = StandardScaler()\n",
    "scale.fit(X_train)\n",
    "\n",
    "X_train_scaled = scale.transform(X_train)\n",
    "X_test_scaled = scale.transform(X_test)"
   ]
  },
  {
   "cell_type": "code",
   "execution_count": 71,
   "id": "db9dfe3c",
   "metadata": {
    "ExecuteTime": {
     "end_time": "2021-12-17T07:54:59.348609Z",
     "start_time": "2021-12-17T07:54:59.329598Z"
    }
   },
   "outputs": [
    {
     "data": {
      "text/plain": [
       "array([[-1.163,  1.592, -1.731],\n",
       "       [-0.496, -0.717, -0.047],\n",
       "       [ 0.642, -0.24 ,  0.265],\n",
       "       ...,\n",
       "       [-0.413, -0.59 , -0.796],\n",
       "       [ 1.919, -0.251,  2.198],\n",
       "       [ 2.086, -0.526, -0.546]])"
      ]
     },
     "execution_count": 71,
     "metadata": {},
     "output_type": "execute_result"
    }
   ],
   "source": [
    "X_train_scaled"
   ]
  },
  {
   "cell_type": "code",
   "execution_count": 72,
   "id": "b38d53f5",
   "metadata": {
    "ExecuteTime": {
     "end_time": "2021-12-17T07:56:15.022588Z",
     "start_time": "2021-12-17T07:56:14.995561Z"
    }
   },
   "outputs": [
    {
     "data": {
      "text/plain": [
       "LogisticRegression()"
      ]
     },
     "execution_count": 72,
     "metadata": {},
     "output_type": "execute_result"
    }
   ],
   "source": [
    "#로지스틱 모델 생성\n",
    "model_lr = LogisticRegression()\n",
    "model_lr.fit(X_train_scaled, y_train)"
   ]
  },
  {
   "cell_type": "code",
   "execution_count": 73,
   "id": "6e1351d1",
   "metadata": {
    "ExecuteTime": {
     "end_time": "2021-12-17T07:56:32.046006Z",
     "start_time": "2021-12-17T07:56:32.031003Z"
    }
   },
   "outputs": [
    {
     "data": {
      "text/plain": [
       "array([[-1.163,  1.592, -1.731],\n",
       "       [-0.496, -0.717, -0.047],\n",
       "       [ 0.642, -0.24 ,  0.265],\n",
       "       [-1.246,  2.387,  0.14 ],\n",
       "       [-0.33 ,  0.469, -0.733]])"
      ]
     },
     "execution_count": 73,
     "metadata": {},
     "output_type": "execute_result"
    }
   ],
   "source": [
    "#학습 데이터 라벨 5개\n",
    "X_train_scaled[:5]"
   ]
  },
  {
   "cell_type": "code",
   "execution_count": 74,
   "id": "9b1b9f56",
   "metadata": {
    "ExecuteTime": {
     "end_time": "2021-12-17T07:56:36.908129Z",
     "start_time": "2021-12-17T07:56:36.893120Z"
    }
   },
   "outputs": [
    {
     "data": {
      "text/plain": [
       "5797    1.0\n",
       "1532    0.0\n",
       "6214    1.0\n",
       "5150    1.0\n",
       "4084    1.0\n",
       "Name: class, dtype: float64"
      ]
     },
     "execution_count": 74,
     "metadata": {},
     "output_type": "execute_result"
    }
   ],
   "source": [
    "y_train[:5]"
   ]
  },
  {
   "cell_type": "code",
   "execution_count": 75,
   "id": "f5a88c72",
   "metadata": {
    "ExecuteTime": {
     "end_time": "2021-12-17T07:56:41.245829Z",
     "start_time": "2021-12-17T07:56:41.231821Z"
    }
   },
   "outputs": [
    {
     "data": {
      "text/plain": [
       "array([1., 1., 1., 1., 1.])"
      ]
     },
     "execution_count": 75,
     "metadata": {},
     "output_type": "execute_result"
    }
   ],
   "source": [
    "#실제 라벨\n",
    "model_lr.predict(X_train_scaled[:5])"
   ]
  },
  {
   "cell_type": "code",
   "execution_count": 76,
   "id": "b6c668e4",
   "metadata": {
    "ExecuteTime": {
     "end_time": "2021-12-17T07:56:45.144645Z",
     "start_time": "2021-12-17T07:56:45.131636Z"
    }
   },
   "outputs": [
    {
     "data": {
      "text/plain": [
       "array([[0.006, 0.994],\n",
       "       [0.415, 0.585],\n",
       "       [0.172, 0.828],\n",
       "       [0.007, 0.993],\n",
       "       [0.051, 0.949]])"
      ]
     },
     "execution_count": 76,
     "metadata": {},
     "output_type": "execute_result"
    }
   ],
   "source": [
    "#라벨별 확률\n",
    "model_lr.predict_proba(X_train_scaled[:5])"
   ]
  },
  {
   "cell_type": "code",
   "execution_count": 77,
   "id": "6629f462",
   "metadata": {
    "ExecuteTime": {
     "end_time": "2021-12-17T07:56:48.490502Z",
     "start_time": "2021-12-17T07:56:48.481501Z"
    }
   },
   "outputs": [
    {
     "data": {
      "text/plain": [
       "3933    1.0\n",
       "2831    1.0\n",
       "5218    1.0\n",
       "5427    1.0\n",
       "2800    1.0\n",
       "       ... \n",
       "3842    1.0\n",
       "5318    1.0\n",
       "3136    1.0\n",
       "5574    1.0\n",
       "608     0.0\n",
       "Name: class, Length: 1625, dtype: float64"
      ]
     },
     "execution_count": 77,
     "metadata": {},
     "output_type": "execute_result"
    }
   ],
   "source": [
    "y_test"
   ]
  },
  {
   "cell_type": "code",
   "execution_count": 78,
   "id": "ae00fddd",
   "metadata": {
    "ExecuteTime": {
     "end_time": "2021-12-17T07:56:53.048432Z",
     "start_time": "2021-12-17T07:56:53.032424Z"
    }
   },
   "outputs": [
    {
     "data": {
      "text/plain": [
       "(array([[ 0.569,  1.679, -0.71 ]]), array([1.796]))"
      ]
     },
     "execution_count": 78,
     "metadata": {},
     "output_type": "execute_result"
    }
   ],
   "source": [
    "#기울기(각 피처), 절편\n",
    "model_lr.coef_, model_lr.intercept_"
   ]
  },
  {
   "cell_type": "code",
   "execution_count": 79,
   "id": "20f1ea59",
   "metadata": {
    "ExecuteTime": {
     "end_time": "2021-12-17T07:56:56.378194Z",
     "start_time": "2021-12-17T07:56:56.369190Z"
    }
   },
   "outputs": [
    {
     "data": {
      "text/plain": [
       "array([-1.163,  1.592, -1.731])"
      ]
     },
     "execution_count": 79,
     "metadata": {},
     "output_type": "execute_result"
    }
   ],
   "source": [
    "X_train_scaled[0]"
   ]
  },
  {
   "cell_type": "code",
   "execution_count": 80,
   "id": "918608bb",
   "metadata": {
    "ExecuteTime": {
     "end_time": "2021-12-17T07:57:00.027486Z",
     "start_time": "2021-12-17T07:57:00.018477Z"
    }
   },
   "outputs": [
    {
     "data": {
      "text/plain": [
       "array([5.038])"
      ]
     },
     "execution_count": 80,
     "metadata": {},
     "output_type": "execute_result"
    }
   ],
   "source": [
    "#z값 구하기 1\n",
    "#각 기울기 * 각 피처\n",
    "#ax + b\n",
    "np.sum(model_lr.coef_*X_train_scaled[0]) + model_lr.intercept_"
   ]
  },
  {
   "cell_type": "code",
   "execution_count": 81,
   "id": "06809761",
   "metadata": {
    "ExecuteTime": {
     "end_time": "2021-12-17T07:57:03.718064Z",
     "start_time": "2021-12-17T07:57:03.707056Z"
    }
   },
   "outputs": [
    {
     "data": {
      "text/plain": [
       "array([5.038])"
      ]
     },
     "execution_count": 81,
     "metadata": {},
     "output_type": "execute_result"
    }
   ],
   "source": [
    "#z값 구하기 2 - 사이킷런 제공\n",
    "#decision_function([X_train_scaled[0]])\n",
    "decisions = model_lr.decision_function([X_train_scaled[0]])\n",
    "decisions"
   ]
  },
  {
   "cell_type": "code",
   "execution_count": 82,
   "id": "b34977c4",
   "metadata": {
    "ExecuteTime": {
     "end_time": "2021-12-17T07:57:07.089255Z",
     "start_time": "2021-12-17T07:57:07.081255Z"
    }
   },
   "outputs": [
    {
     "data": {
      "text/plain": [
       "array([[0.006, 0.994]])"
      ]
     },
     "execution_count": 82,
     "metadata": {},
     "output_type": "execute_result"
    }
   ],
   "source": [
    "#predict_proba() 라벨의 확률\n",
    "model_lr.predict_proba([X_train_scaled[0]])"
   ]
  },
  {
   "cell_type": "code",
   "execution_count": 83,
   "id": "75fcb68c",
   "metadata": {
    "ExecuteTime": {
     "end_time": "2021-12-17T07:57:10.265579Z",
     "start_time": "2021-12-17T07:57:10.255590Z"
    }
   },
   "outputs": [
    {
     "data": {
      "text/plain": [
       "0.0"
      ]
     },
     "execution_count": 83,
     "metadata": {},
     "output_type": "execute_result"
    }
   ],
   "source": [
    "y_train[0]"
   ]
  },
  {
   "cell_type": "code",
   "execution_count": 84,
   "id": "6c2793e4",
   "metadata": {
    "ExecuteTime": {
     "end_time": "2021-12-17T07:57:13.845773Z",
     "start_time": "2021-12-17T07:57:13.831770Z"
    }
   },
   "outputs": [
    {
     "data": {
      "text/plain": [
       "array([0.994])"
      ]
     },
     "execution_count": 84,
     "metadata": {},
     "output_type": "execute_result"
    }
   ],
   "source": [
    "#시그모이드 함수 적용\n",
    "#양성클래스의 확률값\n",
    "z = model_lr.decision_function([X_train_scaled[0]])\n",
    "1 / (1 + np.exp(-z))"
   ]
  },
  {
   "cell_type": "code",
   "execution_count": 85,
   "id": "f8fbaee4",
   "metadata": {
    "ExecuteTime": {
     "end_time": "2021-12-17T07:57:18.914385Z",
     "start_time": "2021-12-17T07:57:18.906375Z"
    }
   },
   "outputs": [
    {
     "data": {
      "text/plain": [
       "array([[0.006, 0.994]])"
      ]
     },
     "execution_count": 85,
     "metadata": {},
     "output_type": "execute_result"
    }
   ],
   "source": [
    "model_lr.predict_proba([X_train_scaled[0]])"
   ]
  },
  {
   "cell_type": "code",
   "execution_count": 86,
   "id": "c556c157",
   "metadata": {
    "ExecuteTime": {
     "end_time": "2021-12-17T07:57:22.158912Z",
     "start_time": "2021-12-17T07:57:22.144902Z"
    }
   },
   "outputs": [
    {
     "data": {
      "text/plain": [
       "array([1.])"
      ]
     },
     "execution_count": 86,
     "metadata": {},
     "output_type": "execute_result"
    }
   ],
   "source": [
    "model_lr.predict([X_train_scaled[0]])"
   ]
  },
  {
   "cell_type": "markdown",
   "id": "00f59572",
   "metadata": {},
   "source": [
    "- 1) 각 피처값, 각 피처값 기울기, 절편 -> z\n",
    "- 2) z -> 시그모이드 함수 -> 1이 될 확률(p)\n",
    "- 3) p값이 0.5보다 크면 1을 반환, 반대면 0 반환"
   ]
  },
  {
   "cell_type": "markdown",
   "id": "d2a78b7f",
   "metadata": {},
   "source": [
    "# 로지스틱 회귀로 다중 분류 수행하기\n",
    "\n",
    "## 소프트맥스 함수\n",
    "- 0~1 사이의 확률값 (단, 결과 총합이 1이 된다)\n",
    "- multinomial classification\n",
    "- 라벨 분류값이 하나일 때 사용되는 시그모이드 함수를 라벨 분류값이 여러개일 때도 사용할 수 있도록 일반화 한 것이다\n",
    "\n",
    "<img src='https://ichi.pro/assets/images/max/724/1*jf_Qr_etCPtIKq7NYa6F_w.png' width=\"50%\">"
   ]
  },
  {
   "cell_type": "code",
   "execution_count": 87,
   "id": "cd173cca",
   "metadata": {
    "ExecuteTime": {
     "end_time": "2021-12-17T07:58:05.652416Z",
     "start_time": "2021-12-17T07:58:05.582392Z"
    }
   },
   "outputs": [],
   "source": [
    "## 데이터 준비하기\n",
    "\n",
    "from sklearn.datasets import load_wine"
   ]
  },
  {
   "cell_type": "code",
   "execution_count": 88,
   "id": "a85ce543",
   "metadata": {
    "ExecuteTime": {
     "end_time": "2021-12-17T07:58:12.655917Z",
     "start_time": "2021-12-17T07:58:12.646915Z"
    }
   },
   "outputs": [
    {
     "data": {
      "text/plain": [
       "dict_keys(['data', 'target', 'frame', 'target_names', 'DESCR', 'feature_names'])"
      ]
     },
     "execution_count": 88,
     "metadata": {},
     "output_type": "execute_result"
    }
   ],
   "source": [
    "wine_data = load_wine()\n",
    "wine_data.keys()"
   ]
  },
  {
   "cell_type": "code",
   "execution_count": 89,
   "id": "15a3bd1e",
   "metadata": {
    "ExecuteTime": {
     "end_time": "2021-12-17T07:58:16.197150Z",
     "start_time": "2021-12-17T07:58:16.171144Z"
    }
   },
   "outputs": [
    {
     "data": {
      "text/html": [
       "<div>\n",
       "<style scoped>\n",
       "    .dataframe tbody tr th:only-of-type {\n",
       "        vertical-align: middle;\n",
       "    }\n",
       "\n",
       "    .dataframe tbody tr th {\n",
       "        vertical-align: top;\n",
       "    }\n",
       "\n",
       "    .dataframe thead th {\n",
       "        text-align: right;\n",
       "    }\n",
       "</style>\n",
       "<table border=\"1\" class=\"dataframe\">\n",
       "  <thead>\n",
       "    <tr style=\"text-align: right;\">\n",
       "      <th></th>\n",
       "      <th>alcohol</th>\n",
       "      <th>malic_acid</th>\n",
       "      <th>ash</th>\n",
       "      <th>alcalinity_of_ash</th>\n",
       "      <th>magnesium</th>\n",
       "      <th>total_phenols</th>\n",
       "      <th>flavanoids</th>\n",
       "      <th>nonflavanoid_phenols</th>\n",
       "      <th>proanthocyanins</th>\n",
       "      <th>color_intensity</th>\n",
       "      <th>hue</th>\n",
       "      <th>od280/od315_of_diluted_wines</th>\n",
       "      <th>proline</th>\n",
       "      <th>target</th>\n",
       "    </tr>\n",
       "  </thead>\n",
       "  <tbody>\n",
       "    <tr>\n",
       "      <th>0</th>\n",
       "      <td>14.23</td>\n",
       "      <td>1.71</td>\n",
       "      <td>2.43</td>\n",
       "      <td>15.6</td>\n",
       "      <td>127.0</td>\n",
       "      <td>2.80</td>\n",
       "      <td>3.06</td>\n",
       "      <td>0.28</td>\n",
       "      <td>2.29</td>\n",
       "      <td>5.64</td>\n",
       "      <td>1.04</td>\n",
       "      <td>3.92</td>\n",
       "      <td>1065.0</td>\n",
       "      <td>0</td>\n",
       "    </tr>\n",
       "    <tr>\n",
       "      <th>1</th>\n",
       "      <td>13.20</td>\n",
       "      <td>1.78</td>\n",
       "      <td>2.14</td>\n",
       "      <td>11.2</td>\n",
       "      <td>100.0</td>\n",
       "      <td>2.65</td>\n",
       "      <td>2.76</td>\n",
       "      <td>0.26</td>\n",
       "      <td>1.28</td>\n",
       "      <td>4.38</td>\n",
       "      <td>1.05</td>\n",
       "      <td>3.40</td>\n",
       "      <td>1050.0</td>\n",
       "      <td>0</td>\n",
       "    </tr>\n",
       "    <tr>\n",
       "      <th>2</th>\n",
       "      <td>13.16</td>\n",
       "      <td>2.36</td>\n",
       "      <td>2.67</td>\n",
       "      <td>18.6</td>\n",
       "      <td>101.0</td>\n",
       "      <td>2.80</td>\n",
       "      <td>3.24</td>\n",
       "      <td>0.30</td>\n",
       "      <td>2.81</td>\n",
       "      <td>5.68</td>\n",
       "      <td>1.03</td>\n",
       "      <td>3.17</td>\n",
       "      <td>1185.0</td>\n",
       "      <td>0</td>\n",
       "    </tr>\n",
       "    <tr>\n",
       "      <th>3</th>\n",
       "      <td>14.37</td>\n",
       "      <td>1.95</td>\n",
       "      <td>2.50</td>\n",
       "      <td>16.8</td>\n",
       "      <td>113.0</td>\n",
       "      <td>3.85</td>\n",
       "      <td>3.49</td>\n",
       "      <td>0.24</td>\n",
       "      <td>2.18</td>\n",
       "      <td>7.80</td>\n",
       "      <td>0.86</td>\n",
       "      <td>3.45</td>\n",
       "      <td>1480.0</td>\n",
       "      <td>0</td>\n",
       "    </tr>\n",
       "    <tr>\n",
       "      <th>4</th>\n",
       "      <td>13.24</td>\n",
       "      <td>2.59</td>\n",
       "      <td>2.87</td>\n",
       "      <td>21.0</td>\n",
       "      <td>118.0</td>\n",
       "      <td>2.80</td>\n",
       "      <td>2.69</td>\n",
       "      <td>0.39</td>\n",
       "      <td>1.82</td>\n",
       "      <td>4.32</td>\n",
       "      <td>1.04</td>\n",
       "      <td>2.93</td>\n",
       "      <td>735.0</td>\n",
       "      <td>0</td>\n",
       "    </tr>\n",
       "  </tbody>\n",
       "</table>\n",
       "</div>"
      ],
      "text/plain": [
       "   alcohol  malic_acid   ash  alcalinity_of_ash  magnesium  total_phenols  \\\n",
       "0    14.23        1.71  2.43               15.6      127.0           2.80   \n",
       "1    13.20        1.78  2.14               11.2      100.0           2.65   \n",
       "2    13.16        2.36  2.67               18.6      101.0           2.80   \n",
       "3    14.37        1.95  2.50               16.8      113.0           3.85   \n",
       "4    13.24        2.59  2.87               21.0      118.0           2.80   \n",
       "\n",
       "   flavanoids  nonflavanoid_phenols  proanthocyanins  color_intensity   hue  \\\n",
       "0        3.06                  0.28             2.29             5.64  1.04   \n",
       "1        2.76                  0.26             1.28             4.38  1.05   \n",
       "2        3.24                  0.30             2.81             5.68  1.03   \n",
       "3        3.49                  0.24             2.18             7.80  0.86   \n",
       "4        2.69                  0.39             1.82             4.32  1.04   \n",
       "\n",
       "   od280/od315_of_diluted_wines  proline  target  \n",
       "0                          3.92   1065.0       0  \n",
       "1                          3.40   1050.0       0  \n",
       "2                          3.17   1185.0       0  \n",
       "3                          3.45   1480.0       0  \n",
       "4                          2.93    735.0       0  "
      ]
     },
     "execution_count": 89,
     "metadata": {},
     "output_type": "execute_result"
    }
   ],
   "source": [
    "#데이터프레임화\n",
    "wine_df2 = pd.DataFrame(wine_data.data, columns=wine_data.feature_names)\n",
    "#y 라벨 컬럼 추가\n",
    "wine_df2['target'] = wine_data.target\n",
    "wine_df2.head()"
   ]
  },
  {
   "cell_type": "code",
   "execution_count": 90,
   "id": "e3c14479",
   "metadata": {
    "ExecuteTime": {
     "end_time": "2021-12-17T07:58:20.275446Z",
     "start_time": "2021-12-17T07:58:20.269445Z"
    }
   },
   "outputs": [
    {
     "data": {
      "text/plain": [
       "array([0, 1, 2])"
      ]
     },
     "execution_count": 90,
     "metadata": {},
     "output_type": "execute_result"
    }
   ],
   "source": [
    "wine_df2['target'].unique()"
   ]
  },
  {
   "cell_type": "code",
   "execution_count": 91,
   "id": "74405fd7",
   "metadata": {
    "ExecuteTime": {
     "end_time": "2021-12-17T07:58:23.941934Z",
     "start_time": "2021-12-17T07:58:23.921925Z"
    }
   },
   "outputs": [
    {
     "data": {
      "text/plain": [
       "1    71\n",
       "0    59\n",
       "2    48\n",
       "Name: target, dtype: int64"
      ]
     },
     "execution_count": 91,
     "metadata": {},
     "output_type": "execute_result"
    }
   ],
   "source": [
    "wine_df2['target'].value_counts()"
   ]
  },
  {
   "cell_type": "code",
   "execution_count": 92,
   "id": "3815dd2c",
   "metadata": {
    "ExecuteTime": {
     "end_time": "2021-12-17T07:58:27.405432Z",
     "start_time": "2021-12-17T07:58:27.370405Z"
    }
   },
   "outputs": [
    {
     "data": {
      "text/html": [
       "<div>\n",
       "<style scoped>\n",
       "    .dataframe tbody tr th:only-of-type {\n",
       "        vertical-align: middle;\n",
       "    }\n",
       "\n",
       "    .dataframe tbody tr th {\n",
       "        vertical-align: top;\n",
       "    }\n",
       "\n",
       "    .dataframe thead th {\n",
       "        text-align: right;\n",
       "    }\n",
       "</style>\n",
       "<table border=\"1\" class=\"dataframe\">\n",
       "  <thead>\n",
       "    <tr style=\"text-align: right;\">\n",
       "      <th></th>\n",
       "      <th>alcohol</th>\n",
       "      <th>malic_acid</th>\n",
       "      <th>ash</th>\n",
       "      <th>alcalinity_of_ash</th>\n",
       "      <th>magnesium</th>\n",
       "      <th>total_phenols</th>\n",
       "      <th>flavanoids</th>\n",
       "      <th>nonflavanoid_phenols</th>\n",
       "      <th>proanthocyanins</th>\n",
       "      <th>color_intensity</th>\n",
       "      <th>hue</th>\n",
       "      <th>od280/od315_of_diluted_wines</th>\n",
       "      <th>proline</th>\n",
       "      <th>target</th>\n",
       "    </tr>\n",
       "  </thead>\n",
       "  <tbody>\n",
       "    <tr>\n",
       "      <th>count</th>\n",
       "      <td>178.000000</td>\n",
       "      <td>178.000000</td>\n",
       "      <td>178.000000</td>\n",
       "      <td>178.000000</td>\n",
       "      <td>178.000000</td>\n",
       "      <td>178.000000</td>\n",
       "      <td>178.000000</td>\n",
       "      <td>178.000000</td>\n",
       "      <td>178.000000</td>\n",
       "      <td>178.000000</td>\n",
       "      <td>178.000000</td>\n",
       "      <td>178.000000</td>\n",
       "      <td>178.000000</td>\n",
       "      <td>178.000000</td>\n",
       "    </tr>\n",
       "    <tr>\n",
       "      <th>mean</th>\n",
       "      <td>13.000618</td>\n",
       "      <td>2.336348</td>\n",
       "      <td>2.366517</td>\n",
       "      <td>19.494944</td>\n",
       "      <td>99.741573</td>\n",
       "      <td>2.295112</td>\n",
       "      <td>2.029270</td>\n",
       "      <td>0.361854</td>\n",
       "      <td>1.590899</td>\n",
       "      <td>5.058090</td>\n",
       "      <td>0.957449</td>\n",
       "      <td>2.611685</td>\n",
       "      <td>746.893258</td>\n",
       "      <td>0.938202</td>\n",
       "    </tr>\n",
       "    <tr>\n",
       "      <th>std</th>\n",
       "      <td>0.811827</td>\n",
       "      <td>1.117146</td>\n",
       "      <td>0.274344</td>\n",
       "      <td>3.339564</td>\n",
       "      <td>14.282484</td>\n",
       "      <td>0.625851</td>\n",
       "      <td>0.998859</td>\n",
       "      <td>0.124453</td>\n",
       "      <td>0.572359</td>\n",
       "      <td>2.318286</td>\n",
       "      <td>0.228572</td>\n",
       "      <td>0.709990</td>\n",
       "      <td>314.907474</td>\n",
       "      <td>0.775035</td>\n",
       "    </tr>\n",
       "    <tr>\n",
       "      <th>min</th>\n",
       "      <td>11.030000</td>\n",
       "      <td>0.740000</td>\n",
       "      <td>1.360000</td>\n",
       "      <td>10.600000</td>\n",
       "      <td>70.000000</td>\n",
       "      <td>0.980000</td>\n",
       "      <td>0.340000</td>\n",
       "      <td>0.130000</td>\n",
       "      <td>0.410000</td>\n",
       "      <td>1.280000</td>\n",
       "      <td>0.480000</td>\n",
       "      <td>1.270000</td>\n",
       "      <td>278.000000</td>\n",
       "      <td>0.000000</td>\n",
       "    </tr>\n",
       "    <tr>\n",
       "      <th>25%</th>\n",
       "      <td>12.362500</td>\n",
       "      <td>1.602500</td>\n",
       "      <td>2.210000</td>\n",
       "      <td>17.200000</td>\n",
       "      <td>88.000000</td>\n",
       "      <td>1.742500</td>\n",
       "      <td>1.205000</td>\n",
       "      <td>0.270000</td>\n",
       "      <td>1.250000</td>\n",
       "      <td>3.220000</td>\n",
       "      <td>0.782500</td>\n",
       "      <td>1.937500</td>\n",
       "      <td>500.500000</td>\n",
       "      <td>0.000000</td>\n",
       "    </tr>\n",
       "    <tr>\n",
       "      <th>50%</th>\n",
       "      <td>13.050000</td>\n",
       "      <td>1.865000</td>\n",
       "      <td>2.360000</td>\n",
       "      <td>19.500000</td>\n",
       "      <td>98.000000</td>\n",
       "      <td>2.355000</td>\n",
       "      <td>2.135000</td>\n",
       "      <td>0.340000</td>\n",
       "      <td>1.555000</td>\n",
       "      <td>4.690000</td>\n",
       "      <td>0.965000</td>\n",
       "      <td>2.780000</td>\n",
       "      <td>673.500000</td>\n",
       "      <td>1.000000</td>\n",
       "    </tr>\n",
       "    <tr>\n",
       "      <th>75%</th>\n",
       "      <td>13.677500</td>\n",
       "      <td>3.082500</td>\n",
       "      <td>2.557500</td>\n",
       "      <td>21.500000</td>\n",
       "      <td>107.000000</td>\n",
       "      <td>2.800000</td>\n",
       "      <td>2.875000</td>\n",
       "      <td>0.437500</td>\n",
       "      <td>1.950000</td>\n",
       "      <td>6.200000</td>\n",
       "      <td>1.120000</td>\n",
       "      <td>3.170000</td>\n",
       "      <td>985.000000</td>\n",
       "      <td>2.000000</td>\n",
       "    </tr>\n",
       "    <tr>\n",
       "      <th>max</th>\n",
       "      <td>14.830000</td>\n",
       "      <td>5.800000</td>\n",
       "      <td>3.230000</td>\n",
       "      <td>30.000000</td>\n",
       "      <td>162.000000</td>\n",
       "      <td>3.880000</td>\n",
       "      <td>5.080000</td>\n",
       "      <td>0.660000</td>\n",
       "      <td>3.580000</td>\n",
       "      <td>13.000000</td>\n",
       "      <td>1.710000</td>\n",
       "      <td>4.000000</td>\n",
       "      <td>1680.000000</td>\n",
       "      <td>2.000000</td>\n",
       "    </tr>\n",
       "  </tbody>\n",
       "</table>\n",
       "</div>"
      ],
      "text/plain": [
       "          alcohol  malic_acid         ash  alcalinity_of_ash   magnesium  \\\n",
       "count  178.000000  178.000000  178.000000         178.000000  178.000000   \n",
       "mean    13.000618    2.336348    2.366517          19.494944   99.741573   \n",
       "std      0.811827    1.117146    0.274344           3.339564   14.282484   \n",
       "min     11.030000    0.740000    1.360000          10.600000   70.000000   \n",
       "25%     12.362500    1.602500    2.210000          17.200000   88.000000   \n",
       "50%     13.050000    1.865000    2.360000          19.500000   98.000000   \n",
       "75%     13.677500    3.082500    2.557500          21.500000  107.000000   \n",
       "max     14.830000    5.800000    3.230000          30.000000  162.000000   \n",
       "\n",
       "       total_phenols  flavanoids  nonflavanoid_phenols  proanthocyanins  \\\n",
       "count     178.000000  178.000000            178.000000       178.000000   \n",
       "mean        2.295112    2.029270              0.361854         1.590899   \n",
       "std         0.625851    0.998859              0.124453         0.572359   \n",
       "min         0.980000    0.340000              0.130000         0.410000   \n",
       "25%         1.742500    1.205000              0.270000         1.250000   \n",
       "50%         2.355000    2.135000              0.340000         1.555000   \n",
       "75%         2.800000    2.875000              0.437500         1.950000   \n",
       "max         3.880000    5.080000              0.660000         3.580000   \n",
       "\n",
       "       color_intensity         hue  od280/od315_of_diluted_wines      proline  \\\n",
       "count       178.000000  178.000000                    178.000000   178.000000   \n",
       "mean          5.058090    0.957449                      2.611685   746.893258   \n",
       "std           2.318286    0.228572                      0.709990   314.907474   \n",
       "min           1.280000    0.480000                      1.270000   278.000000   \n",
       "25%           3.220000    0.782500                      1.937500   500.500000   \n",
       "50%           4.690000    0.965000                      2.780000   673.500000   \n",
       "75%           6.200000    1.120000                      3.170000   985.000000   \n",
       "max          13.000000    1.710000                      4.000000  1680.000000   \n",
       "\n",
       "           target  \n",
       "count  178.000000  \n",
       "mean     0.938202  \n",
       "std      0.775035  \n",
       "min      0.000000  \n",
       "25%      0.000000  \n",
       "50%      1.000000  \n",
       "75%      2.000000  \n",
       "max      2.000000  "
      ]
     },
     "execution_count": 92,
     "metadata": {},
     "output_type": "execute_result"
    }
   ],
   "source": [
    "wine_df2.describe()"
   ]
  },
  {
   "cell_type": "code",
   "execution_count": 93,
   "id": "c9c2490d",
   "metadata": {
    "ExecuteTime": {
     "end_time": "2021-12-17T07:58:31.389438Z",
     "start_time": "2021-12-17T07:58:31.370436Z"
    }
   },
   "outputs": [
    {
     "data": {
      "text/plain": [
       "(178, 14)"
      ]
     },
     "execution_count": 93,
     "metadata": {},
     "output_type": "execute_result"
    }
   ],
   "source": [
    "wine_df2.shape"
   ]
  },
  {
   "cell_type": "code",
   "execution_count": 94,
   "id": "06ab8208",
   "metadata": {
    "ExecuteTime": {
     "end_time": "2021-12-17T07:58:36.057835Z",
     "start_time": "2021-12-17T07:58:36.044842Z"
    }
   },
   "outputs": [
    {
     "data": {
      "text/plain": [
       "Index(['alcohol', 'malic_acid', 'ash', 'alcalinity_of_ash', 'magnesium',\n",
       "       'total_phenols', 'flavanoids', 'nonflavanoid_phenols',\n",
       "       'proanthocyanins', 'color_intensity', 'hue',\n",
       "       'od280/od315_of_diluted_wines', 'proline', 'target'],\n",
       "      dtype='object')"
      ]
     },
     "execution_count": 94,
     "metadata": {},
     "output_type": "execute_result"
    }
   ],
   "source": [
    "wine_df2.columns"
   ]
  },
  {
   "cell_type": "code",
   "execution_count": 95,
   "id": "b099917d",
   "metadata": {
    "ExecuteTime": {
     "end_time": "2021-12-17T07:58:40.619923Z",
     "start_time": "2021-12-17T07:58:40.608916Z"
    }
   },
   "outputs": [],
   "source": [
    "#데이터 분리\n",
    "X = wine_df2.loc[:, :'proline']\n",
    "y = wine_df2['target']\n",
    "X_train, X_test, y_train, y_test = train_test_split(X, y, random_state=42, stratify=y)\n",
    "\n",
    "scale = StandardScaler()\n",
    "scale.fit(X_train)\n",
    "X_train_scaled = scale.transform(X_train)\n",
    "X_test_scaled = scale.transform(X_test)"
   ]
  },
  {
   "cell_type": "code",
   "execution_count": 96,
   "id": "a6f4d42a",
   "metadata": {
    "ExecuteTime": {
     "end_time": "2021-12-17T07:58:45.393940Z",
     "start_time": "2021-12-17T07:58:45.383938Z"
    }
   },
   "outputs": [
    {
     "name": "stdout",
     "output_type": "stream",
     "text": [
      "0.9774436090225563\n",
      "0.9555555555555556\n"
     ]
    }
   ],
   "source": [
    "#KNeighbors 모델 적용\n",
    "model_kn = KNeighborsClassifier(n_neighbors=3)\n",
    "model_kn.fit(X_train_scaled, y_train)\n",
    "\n",
    "print(model_kn.score(X_train_scaled, y_train))\n",
    "print(model_kn.score(X_test_scaled, y_test))"
   ]
  },
  {
   "cell_type": "code",
   "execution_count": 97,
   "id": "e5b63a20",
   "metadata": {
    "ExecuteTime": {
     "end_time": "2021-12-17T07:59:01.155134Z",
     "start_time": "2021-12-17T07:59:01.146133Z"
    }
   },
   "outputs": [
    {
     "name": "stdout",
     "output_type": "stream",
     "text": [
      "1.0\n",
      "0.9555555555555556\n"
     ]
    }
   ],
   "source": [
    "#DecisionTree 모델 적용\n",
    "model_dt = DecisionTreeClassifier(random_state=11)\n",
    "model_dt.fit(X_train_scaled, y_train)\n",
    "\n",
    "print(model_dt.score(X_train_scaled, y_train))\n",
    "print(model_dt.score(X_test_scaled, y_test))"
   ]
  },
  {
   "cell_type": "code",
   "execution_count": 98,
   "id": "3682aca3",
   "metadata": {
    "ExecuteTime": {
     "end_time": "2021-12-17T07:59:05.480157Z",
     "start_time": "2021-12-17T07:59:05.459146Z"
    }
   },
   "outputs": [
    {
     "name": "stdout",
     "output_type": "stream",
     "text": [
      "1.0\n",
      "1.0\n"
     ]
    }
   ],
   "source": [
    "model_lr = LogisticRegression()\n",
    "model_lr.fit(X_train_scaled, y_train)\n",
    "\n",
    "print(model_lr.score(X_train_scaled, y_train))\n",
    "print(model_lr.score(X_test_scaled, y_test))"
   ]
  },
  {
   "cell_type": "code",
   "execution_count": 99,
   "id": "af5b9792",
   "metadata": {
    "ExecuteTime": {
     "end_time": "2021-12-17T07:59:09.379849Z",
     "start_time": "2021-12-17T07:59:09.357854Z"
    }
   },
   "outputs": [
    {
     "name": "stdout",
     "output_type": "stream",
     "text": [
      "              precision    recall  f1-score   support\n",
      "\n",
      "           0       1.00      1.00      1.00        15\n",
      "           1       1.00      1.00      1.00        18\n",
      "           2       1.00      1.00      1.00        12\n",
      "\n",
      "    accuracy                           1.00        45\n",
      "   macro avg       1.00      1.00      1.00        45\n",
      "weighted avg       1.00      1.00      1.00        45\n",
      "\n"
     ]
    }
   ],
   "source": [
    "print(classification_report(y_test, model_lr.predict(X_test_scaled)))"
   ]
  },
  {
   "cell_type": "code",
   "execution_count": 100,
   "id": "d0f88f0f",
   "metadata": {
    "ExecuteTime": {
     "end_time": "2021-12-17T07:59:17.578782Z",
     "start_time": "2021-12-17T07:59:17.570779Z"
    }
   },
   "outputs": [
    {
     "data": {
      "text/plain": [
       "array([[0.926, 0.073, 0.002]])"
      ]
     },
     "execution_count": 100,
     "metadata": {},
     "output_type": "execute_result"
    }
   ],
   "source": [
    "#타겟 확률\n",
    "model_lr.predict_proba([X_test_scaled[0]])"
   ]
  },
  {
   "cell_type": "code",
   "execution_count": 101,
   "id": "77c45785",
   "metadata": {
    "ExecuteTime": {
     "end_time": "2021-12-17T07:59:51.938493Z",
     "start_time": "2021-12-17T07:59:51.921490Z"
    }
   },
   "outputs": [
    {
     "data": {
      "text/plain": [
       "(0, 0)"
      ]
     },
     "execution_count": 101,
     "metadata": {},
     "output_type": "execute_result"
    }
   ],
   "source": [
    "#실제 정답\n",
    "y_test[35], y_test.to_numpy()[0]"
   ]
  },
  {
   "cell_type": "code",
   "execution_count": 102,
   "id": "d596b1ce",
   "metadata": {
    "ExecuteTime": {
     "end_time": "2021-12-17T07:59:55.814484Z",
     "start_time": "2021-12-17T07:59:55.797468Z"
    }
   },
   "outputs": [
    {
     "data": {
      "text/plain": [
       "array([0, 1, 2])"
      ]
     },
     "execution_count": 102,
     "metadata": {},
     "output_type": "execute_result"
    }
   ],
   "source": [
    "#타겟 라벨 확인\n",
    "model_lr.classes_"
   ]
  },
  {
   "cell_type": "code",
   "execution_count": 103,
   "id": "bd9bea74",
   "metadata": {
    "ExecuteTime": {
     "end_time": "2021-12-17T07:59:59.165753Z",
     "start_time": "2021-12-17T07:59:59.157752Z"
    }
   },
   "outputs": [
    {
     "data": {
      "text/plain": [
       "(178, 14)"
      ]
     },
     "execution_count": 103,
     "metadata": {},
     "output_type": "execute_result"
    }
   ],
   "source": [
    "wine_df2.shape"
   ]
  },
  {
   "cell_type": "code",
   "execution_count": 104,
   "id": "cbe86ef0",
   "metadata": {
    "ExecuteTime": {
     "end_time": "2021-12-17T08:00:02.887950Z",
     "start_time": "2021-12-17T08:00:02.882948Z"
    }
   },
   "outputs": [
    {
     "data": {
      "text/plain": [
       "((3, 13), (3,))"
      ]
     },
     "execution_count": 104,
     "metadata": {},
     "output_type": "execute_result"
    }
   ],
   "source": [
    "#기울기, 절편\n",
    "#기울기 구조 -> (라벨수, 피처갯수), 절편 -> 라벨 수\n",
    "model_lr.coef_.shape, model_lr.intercept_.shape"
   ]
  },
  {
   "cell_type": "code",
   "execution_count": 105,
   "id": "6b4a8705",
   "metadata": {
    "ExecuteTime": {
     "end_time": "2021-12-17T08:00:08.837137Z",
     "start_time": "2021-12-17T08:00:08.822134Z"
    }
   },
   "outputs": [
    {
     "data": {
      "text/plain": [
       "array([[ 0.72 ,  0.163,  0.467, -0.813,  0.081,  0.222,  0.7  , -0.105,\n",
       "         0.138,  0.195,  0.088,  0.652,  0.919],\n",
       "       [-0.842, -0.509, -0.789,  0.516, -0.123,  0.052,  0.188,  0.127,\n",
       "         0.375, -1.021,  0.677, -0.113, -0.938],\n",
       "       [ 0.121,  0.346,  0.322,  0.298,  0.042, -0.274, -0.888, -0.022,\n",
       "        -0.513,  0.826, -0.766, -0.539,  0.019]])"
      ]
     },
     "execution_count": 105,
     "metadata": {},
     "output_type": "execute_result"
    }
   ],
   "source": [
    "model_lr.coef_"
   ]
  },
  {
   "cell_type": "code",
   "execution_count": 106,
   "id": "ac09b99f",
   "metadata": {
    "ExecuteTime": {
     "end_time": "2021-12-17T08:00:13.600414Z",
     "start_time": "2021-12-17T08:00:13.584411Z"
    }
   },
   "outputs": [
    {
     "name": "stdout",
     "output_type": "stream",
     "text": [
      "[ 0.72   0.163  0.467 -0.813  0.081  0.222  0.7   -0.105  0.138  0.195\n",
      "  0.088  0.652  0.919] [ 0.641 -0.481  0.159  0.238  0.     0.665  1.034 -0.859  0.438  0.039\n",
      "  0.401  1.282  0.568] 0.27640202887486226\n",
      "\n",
      "[-0.842 -0.509 -0.789  0.516 -0.123  0.052  0.188  0.127  0.375 -1.021\n",
      "  0.677 -0.113 -0.938] [ 0.641 -0.481  0.159  0.238  0.     0.665  1.034 -0.859  0.438  0.039\n",
      "  0.401  1.282  0.568] 0.8734211654267957\n",
      "\n",
      "[ 0.121  0.346  0.322  0.298  0.042 -0.274 -0.888 -0.022 -0.513  0.826\n",
      " -0.766 -0.539  0.019] [ 0.641 -0.481  0.159  0.238  0.     0.665  1.034 -0.859  0.438  0.039\n",
      "  0.401  1.282  0.568] -1.1498231943016528\n"
     ]
    }
   ],
   "source": [
    "#기울기 * 피처 + 절편\n",
    "print(model_lr.coef_[0], X_test_scaled[0], model_lr.intercept_[0])\n",
    "print()\n",
    "print(model_lr.coef_[1], X_test_scaled[0], model_lr.intercept_[1])\n",
    "print()\n",
    "print(model_lr.coef_[2], X_test_scaled[0], model_lr.intercept_[2])\n"
   ]
  },
  {
   "cell_type": "code",
   "execution_count": 107,
   "id": "46d8caf4",
   "metadata": {
    "ExecuteTime": {
     "end_time": "2021-12-17T08:00:35.691322Z",
     "start_time": "2021-12-17T08:00:35.684334Z"
    }
   },
   "outputs": [
    {
     "data": {
      "text/plain": [
       "array([0, 1, 0, 0, 1, 0, 0, 1, 1, 2, 1, 1, 2, 2, 0, 1, 1, 0, 0, 2, 2, 2,\n",
       "       0, 0, 1, 1, 0, 1, 0, 1, 0, 2, 1, 2, 2, 1, 0, 2, 2, 1, 2, 1, 0, 1,\n",
       "       1])"
      ]
     },
     "execution_count": 107,
     "metadata": {},
     "output_type": "execute_result"
    }
   ],
   "source": [
    "model_lr.predict(X_test_scaled)"
   ]
  },
  {
   "cell_type": "code",
   "execution_count": 108,
   "id": "dff27180",
   "metadata": {
    "ExecuteTime": {
     "end_time": "2021-12-17T08:00:39.146014Z",
     "start_time": "2021-12-17T08:00:39.134012Z"
    }
   },
   "outputs": [
    {
     "data": {
      "text/plain": [
       "(0, 0)"
      ]
     },
     "execution_count": 108,
     "metadata": {},
     "output_type": "execute_result"
    }
   ],
   "source": [
    "model_lr.predict(X_test_scaled)[0], y_test.to_numpy()[0]"
   ]
  },
  {
   "cell_type": "code",
   "execution_count": 109,
   "id": "a8e3560a",
   "metadata": {
    "ExecuteTime": {
     "end_time": "2021-12-17T08:00:43.788307Z",
     "start_time": "2021-12-17T08:00:43.784307Z"
    }
   },
   "outputs": [
    {
     "name": "stdout",
     "output_type": "stream",
     "text": [
      "2.9620370264190226\n",
      "0.4156791279772686\n",
      "-3.377716154396275\n"
     ]
    }
   ],
   "source": [
    "# z값 구하기 1\n",
    "for i in range(3) :\n",
    "    print(np.sum(model_lr.coef_[i]*X_test_scaled[0])+model_lr.intercept_[i])"
   ]
  },
  {
   "cell_type": "code",
   "execution_count": 110,
   "id": "ecebed8b",
   "metadata": {
    "ExecuteTime": {
     "end_time": "2021-12-17T08:00:48.819871Z",
     "start_time": "2021-12-17T08:00:48.810869Z"
    }
   },
   "outputs": [
    {
     "data": {
      "text/plain": [
       "array([[ 2.962,  0.416, -3.378]])"
      ]
     },
     "execution_count": 110,
     "metadata": {},
     "output_type": "execute_result"
    }
   ],
   "source": [
    "#z값 구하기 2\n",
    "decision = model_lr.decision_function([X_test_scaled[0]])\n",
    "#np.round(decision, decimals=2) -> 반올림\n",
    "decision"
   ]
  },
  {
   "cell_type": "code",
   "execution_count": 111,
   "id": "b2efe356",
   "metadata": {
    "ExecuteTime": {
     "end_time": "2021-12-17T08:01:00.212596Z",
     "start_time": "2021-12-17T08:01:00.197591Z"
    }
   },
   "outputs": [
    {
     "data": {
      "text/plain": [
       "array([[0.926, 0.073, 0.002]])"
      ]
     },
     "execution_count": 111,
     "metadata": {},
     "output_type": "execute_result"
    }
   ],
   "source": [
    "from scipy.special import softmax\n",
    "\n",
    "decision = model_lr.decision_function([X_test_scaled[0]])\n",
    "\n",
    "#라벨의 확률\n",
    "proba = softmax(decision, axis=1)\n",
    "np.round(proba, decimals=3)\n",
    "proba"
   ]
  },
  {
   "cell_type": "code",
   "execution_count": 112,
   "id": "2c5a2736",
   "metadata": {
    "ExecuteTime": {
     "end_time": "2021-12-17T08:01:05.445965Z",
     "start_time": "2021-12-17T08:01:05.434963Z"
    }
   },
   "outputs": [
    {
     "data": {
      "text/plain": [
       "array([[0.926, 0.073, 0.002]])"
      ]
     },
     "execution_count": 112,
     "metadata": {},
     "output_type": "execute_result"
    }
   ],
   "source": [
    "#모델의 예측 확률\n",
    "model_lr.predict_proba([X_test_scaled[0]])"
   ]
  },
  {
   "cell_type": "markdown",
   "id": "05c8ce76",
   "metadata": {},
   "source": [
    "## softmax 2 - 소프트맥스 함수 공식에 의한 확률 구하기"
   ]
  },
  {
   "cell_type": "code",
   "execution_count": 113,
   "id": "3700664e",
   "metadata": {
    "ExecuteTime": {
     "end_time": "2021-12-17T08:01:15.947720Z",
     "start_time": "2021-12-17T08:01:15.936718Z"
    }
   },
   "outputs": [
    {
     "data": {
      "text/plain": [
       "(array([[ 2.962,  0.416, -3.378]]), (1, 3))"
      ]
     },
     "execution_count": 113,
     "metadata": {},
     "output_type": "execute_result"
    }
   ],
   "source": [
    "#2차원\n",
    "decision, decision.shape"
   ]
  },
  {
   "cell_type": "code",
   "execution_count": 114,
   "id": "e41f9634",
   "metadata": {
    "ExecuteTime": {
     "end_time": "2021-12-17T08:30:13.060176Z",
     "start_time": "2021-12-17T08:30:13.044172Z"
    }
   },
   "outputs": [
    {
     "data": {
      "text/plain": [
       "array([ 2.962,  0.416, -3.378])"
      ]
     },
     "execution_count": 114,
     "metadata": {},
     "output_type": "execute_result"
    }
   ],
   "source": [
    "#1차원\n",
    "decision[0]"
   ]
  },
  {
   "cell_type": "code",
   "execution_count": 115,
   "id": "c7df1269",
   "metadata": {
    "ExecuteTime": {
     "end_time": "2021-12-17T08:30:20.378699Z",
     "start_time": "2021-12-17T08:30:20.370700Z"
    }
   },
   "outputs": [
    {
     "name": "stdout",
     "output_type": "stream",
     "text": [
      "[19.337  1.515  0.034]\n",
      "20.88684714350502\n",
      "==================================================\n",
      "[0.9258133679240813, 0.07255281427218249, 0.0016338178037360977]\n"
     ]
    }
   ],
   "source": [
    "#np.exp(z값(라벨별)[0]) -> 분자\n",
    "expL = np.exp(decision[0])\n",
    "#sum(np.exp(z값(라벨별)[0])) -> 분모\n",
    "sumExpL = sum(expL)\n",
    "\n",
    "print(expL)\n",
    "print(sumExpL)\n",
    "\n",
    "result = []\n",
    "for i in expL:\n",
    "    result.append(i/sumExpL)\n",
    "\n",
    "print('='*50)\n",
    "print(result)"
   ]
  },
  {
   "cell_type": "code",
   "execution_count": 116,
   "id": "f42af9b8",
   "metadata": {
    "ExecuteTime": {
     "end_time": "2021-12-17T08:30:24.402609Z",
     "start_time": "2021-12-17T08:30:24.394600Z"
    }
   },
   "outputs": [],
   "source": [
    "#array([[0.92581337, 0.07255281, 0.00163382]])"
   ]
  },
  {
   "cell_type": "code",
   "execution_count": 117,
   "id": "fc6c254e",
   "metadata": {
    "ExecuteTime": {
     "end_time": "2021-12-17T08:30:28.212249Z",
     "start_time": "2021-12-17T08:30:28.206251Z"
    }
   },
   "outputs": [],
   "source": [
    "#함수 구현\n",
    "\n",
    "def softmax2(L):\n",
    "    expL = np.exp(L) \n",
    "    sumExpL = sum(expL) \n",
    "    result = []\n",
    "    for i in expL:\n",
    "        result.append(i/sumExpL) \n",
    "    return result"
   ]
  },
  {
   "cell_type": "code",
   "execution_count": 118,
   "id": "29ca9615",
   "metadata": {
    "ExecuteTime": {
     "end_time": "2021-12-17T08:30:31.911861Z",
     "start_time": "2021-12-17T08:30:31.906860Z"
    }
   },
   "outputs": [
    {
     "data": {
      "text/plain": [
       "[0.9258133679240813, 0.07255281427218249, 0.0016338178037360977]"
      ]
     },
     "execution_count": 118,
     "metadata": {},
     "output_type": "execute_result"
    }
   ],
   "source": [
    "softmax2(decision[0])"
   ]
  },
  {
   "cell_type": "markdown",
   "id": "9b6e9746",
   "metadata": {},
   "source": [
    "# 퀴즈 \n",
    "\n",
    "1) 아래의 주소를 이용하여 데이타셋을 생성하여라 \n",
    "\n",
    "'https://bit.ly/fish_csv'\n",
    "\n",
    "2) 물고기의 종류는 다음과 같다. \n",
    "\n",
    "['Bream', 'Roach', 'Whitefish', 'Parkki', 'Perch', 'Pike', 'Smelt']\n",
    "\n",
    "도미(Bream) 와 빙어(Smelt) 만 추출하여 새로운 데이타셋 bream_smelt 을 생성하고 \n",
    "이진분류 모델을 구축하고 테스트하여라 \n",
    "\n",
    "3) 1의 데이타셋을 이용하여 다중 분류 모델을 구축하고 테스트하여라.\n"
   ]
  },
  {
   "cell_type": "code",
   "execution_count": 119,
   "id": "ab2bac97",
   "metadata": {
    "ExecuteTime": {
     "end_time": "2021-12-17T08:31:46.244841Z",
     "start_time": "2021-12-17T08:31:45.308565Z"
    }
   },
   "outputs": [
    {
     "data": {
      "text/html": [
       "<div>\n",
       "<style scoped>\n",
       "    .dataframe tbody tr th:only-of-type {\n",
       "        vertical-align: middle;\n",
       "    }\n",
       "\n",
       "    .dataframe tbody tr th {\n",
       "        vertical-align: top;\n",
       "    }\n",
       "\n",
       "    .dataframe thead th {\n",
       "        text-align: right;\n",
       "    }\n",
       "</style>\n",
       "<table border=\"1\" class=\"dataframe\">\n",
       "  <thead>\n",
       "    <tr style=\"text-align: right;\">\n",
       "      <th></th>\n",
       "      <th>Species</th>\n",
       "      <th>Weight</th>\n",
       "      <th>Length</th>\n",
       "      <th>Diagonal</th>\n",
       "      <th>Height</th>\n",
       "      <th>Width</th>\n",
       "    </tr>\n",
       "  </thead>\n",
       "  <tbody>\n",
       "    <tr>\n",
       "      <th>0</th>\n",
       "      <td>Bream</td>\n",
       "      <td>242.0</td>\n",
       "      <td>25.4</td>\n",
       "      <td>30.0</td>\n",
       "      <td>11.5200</td>\n",
       "      <td>4.0200</td>\n",
       "    </tr>\n",
       "    <tr>\n",
       "      <th>1</th>\n",
       "      <td>Bream</td>\n",
       "      <td>290.0</td>\n",
       "      <td>26.3</td>\n",
       "      <td>31.2</td>\n",
       "      <td>12.4800</td>\n",
       "      <td>4.3056</td>\n",
       "    </tr>\n",
       "    <tr>\n",
       "      <th>2</th>\n",
       "      <td>Bream</td>\n",
       "      <td>340.0</td>\n",
       "      <td>26.5</td>\n",
       "      <td>31.1</td>\n",
       "      <td>12.3778</td>\n",
       "      <td>4.6961</td>\n",
       "    </tr>\n",
       "    <tr>\n",
       "      <th>3</th>\n",
       "      <td>Bream</td>\n",
       "      <td>363.0</td>\n",
       "      <td>29.0</td>\n",
       "      <td>33.5</td>\n",
       "      <td>12.7300</td>\n",
       "      <td>4.4555</td>\n",
       "    </tr>\n",
       "    <tr>\n",
       "      <th>4</th>\n",
       "      <td>Bream</td>\n",
       "      <td>430.0</td>\n",
       "      <td>29.0</td>\n",
       "      <td>34.0</td>\n",
       "      <td>12.4440</td>\n",
       "      <td>5.1340</td>\n",
       "    </tr>\n",
       "    <tr>\n",
       "      <th>...</th>\n",
       "      <td>...</td>\n",
       "      <td>...</td>\n",
       "      <td>...</td>\n",
       "      <td>...</td>\n",
       "      <td>...</td>\n",
       "      <td>...</td>\n",
       "    </tr>\n",
       "    <tr>\n",
       "      <th>154</th>\n",
       "      <td>Smelt</td>\n",
       "      <td>12.2</td>\n",
       "      <td>12.2</td>\n",
       "      <td>13.4</td>\n",
       "      <td>2.0904</td>\n",
       "      <td>1.3936</td>\n",
       "    </tr>\n",
       "    <tr>\n",
       "      <th>155</th>\n",
       "      <td>Smelt</td>\n",
       "      <td>13.4</td>\n",
       "      <td>12.4</td>\n",
       "      <td>13.5</td>\n",
       "      <td>2.4300</td>\n",
       "      <td>1.2690</td>\n",
       "    </tr>\n",
       "    <tr>\n",
       "      <th>156</th>\n",
       "      <td>Smelt</td>\n",
       "      <td>12.2</td>\n",
       "      <td>13.0</td>\n",
       "      <td>13.8</td>\n",
       "      <td>2.2770</td>\n",
       "      <td>1.2558</td>\n",
       "    </tr>\n",
       "    <tr>\n",
       "      <th>157</th>\n",
       "      <td>Smelt</td>\n",
       "      <td>19.7</td>\n",
       "      <td>14.3</td>\n",
       "      <td>15.2</td>\n",
       "      <td>2.8728</td>\n",
       "      <td>2.0672</td>\n",
       "    </tr>\n",
       "    <tr>\n",
       "      <th>158</th>\n",
       "      <td>Smelt</td>\n",
       "      <td>19.9</td>\n",
       "      <td>15.0</td>\n",
       "      <td>16.2</td>\n",
       "      <td>2.9322</td>\n",
       "      <td>1.8792</td>\n",
       "    </tr>\n",
       "  </tbody>\n",
       "</table>\n",
       "<p>159 rows × 6 columns</p>\n",
       "</div>"
      ],
      "text/plain": [
       "    Species  Weight  Length  Diagonal   Height   Width\n",
       "0     Bream   242.0    25.4      30.0  11.5200  4.0200\n",
       "1     Bream   290.0    26.3      31.2  12.4800  4.3056\n",
       "2     Bream   340.0    26.5      31.1  12.3778  4.6961\n",
       "3     Bream   363.0    29.0      33.5  12.7300  4.4555\n",
       "4     Bream   430.0    29.0      34.0  12.4440  5.1340\n",
       "..      ...     ...     ...       ...      ...     ...\n",
       "154   Smelt    12.2    12.2      13.4   2.0904  1.3936\n",
       "155   Smelt    13.4    12.4      13.5   2.4300  1.2690\n",
       "156   Smelt    12.2    13.0      13.8   2.2770  1.2558\n",
       "157   Smelt    19.7    14.3      15.2   2.8728  2.0672\n",
       "158   Smelt    19.9    15.0      16.2   2.9322  1.8792\n",
       "\n",
       "[159 rows x 6 columns]"
      ]
     },
     "execution_count": 119,
     "metadata": {},
     "output_type": "execute_result"
    }
   ],
   "source": [
    "df_fish = pd.read_csv('https://bit.ly/fish_csv')\n",
    "df_fish"
   ]
  },
  {
   "cell_type": "code",
   "execution_count": 120,
   "id": "b138c65a",
   "metadata": {
    "ExecuteTime": {
     "end_time": "2021-12-17T08:31:50.229917Z",
     "start_time": "2021-12-17T08:31:50.220916Z"
    }
   },
   "outputs": [
    {
     "data": {
      "text/html": [
       "<div>\n",
       "<style scoped>\n",
       "    .dataframe tbody tr th:only-of-type {\n",
       "        vertical-align: middle;\n",
       "    }\n",
       "\n",
       "    .dataframe tbody tr th {\n",
       "        vertical-align: top;\n",
       "    }\n",
       "\n",
       "    .dataframe thead th {\n",
       "        text-align: right;\n",
       "    }\n",
       "</style>\n",
       "<table border=\"1\" class=\"dataframe\">\n",
       "  <thead>\n",
       "    <tr style=\"text-align: right;\">\n",
       "      <th></th>\n",
       "      <th>Species</th>\n",
       "      <th>Weight</th>\n",
       "      <th>Length</th>\n",
       "      <th>Diagonal</th>\n",
       "      <th>Height</th>\n",
       "      <th>Width</th>\n",
       "    </tr>\n",
       "  </thead>\n",
       "  <tbody>\n",
       "    <tr>\n",
       "      <th>82</th>\n",
       "      <td>Perch</td>\n",
       "      <td>110.0</td>\n",
       "      <td>21.0</td>\n",
       "      <td>22.5</td>\n",
       "      <td>5.6925</td>\n",
       "      <td>3.5550</td>\n",
       "    </tr>\n",
       "    <tr>\n",
       "      <th>110</th>\n",
       "      <td>Perch</td>\n",
       "      <td>556.0</td>\n",
       "      <td>34.5</td>\n",
       "      <td>36.5</td>\n",
       "      <td>10.2565</td>\n",
       "      <td>6.3875</td>\n",
       "    </tr>\n",
       "    <tr>\n",
       "      <th>132</th>\n",
       "      <td>Pike</td>\n",
       "      <td>430.0</td>\n",
       "      <td>38.0</td>\n",
       "      <td>40.5</td>\n",
       "      <td>7.2900</td>\n",
       "      <td>4.5765</td>\n",
       "    </tr>\n",
       "    <tr>\n",
       "      <th>15</th>\n",
       "      <td>Bream</td>\n",
       "      <td>600.0</td>\n",
       "      <td>32.0</td>\n",
       "      <td>37.2</td>\n",
       "      <td>15.4380</td>\n",
       "      <td>5.5800</td>\n",
       "    </tr>\n",
       "    <tr>\n",
       "      <th>129</th>\n",
       "      <td>Pike</td>\n",
       "      <td>300.0</td>\n",
       "      <td>34.0</td>\n",
       "      <td>37.8</td>\n",
       "      <td>5.7078</td>\n",
       "      <td>4.1580</td>\n",
       "    </tr>\n",
       "  </tbody>\n",
       "</table>\n",
       "</div>"
      ],
      "text/plain": [
       "    Species  Weight  Length  Diagonal   Height   Width\n",
       "82    Perch   110.0    21.0      22.5   5.6925  3.5550\n",
       "110   Perch   556.0    34.5      36.5  10.2565  6.3875\n",
       "132    Pike   430.0    38.0      40.5   7.2900  4.5765\n",
       "15    Bream   600.0    32.0      37.2  15.4380  5.5800\n",
       "129    Pike   300.0    34.0      37.8   5.7078  4.1580"
      ]
     },
     "execution_count": 120,
     "metadata": {},
     "output_type": "execute_result"
    }
   ],
   "source": [
    "df_fish.sample(5)"
   ]
  },
  {
   "cell_type": "code",
   "execution_count": 121,
   "id": "9e9b9d43",
   "metadata": {
    "ExecuteTime": {
     "end_time": "2021-12-17T08:31:53.700009Z",
     "start_time": "2021-12-17T08:31:53.696007Z"
    }
   },
   "outputs": [
    {
     "data": {
      "text/plain": [
       "array(['Bream', 'Roach', 'Whitefish', 'Parkki', 'Perch', 'Pike', 'Smelt'],\n",
       "      dtype=object)"
      ]
     },
     "execution_count": 121,
     "metadata": {},
     "output_type": "execute_result"
    }
   ],
   "source": [
    "df_fish['Species'].unique()"
   ]
  },
  {
   "cell_type": "code",
   "execution_count": 122,
   "id": "2013fb43",
   "metadata": {
    "ExecuteTime": {
     "end_time": "2021-12-17T08:31:59.045230Z",
     "start_time": "2021-12-17T08:31:59.020226Z"
    }
   },
   "outputs": [
    {
     "data": {
      "text/plain": [
       "Species    Weight  Length  Diagonal  Height   Width \n",
       "Bream      242.0   25.4    30.0      11.5200  4.0200    1\n",
       "Pike       500.0   45.0    48.0      6.9600   4.8960    1\n",
       "           200.0   32.3    34.8      5.5680   3.3756    1\n",
       "           300.0   34.0    37.8      5.7078   4.1580    1\n",
       "                   35.0    38.8      5.9364   4.3844    1\n",
       "                                                       ..\n",
       "Perch      85.0    20.0    21.0      5.0820   2.7720    1\n",
       "           100.0   18.0    19.2      5.2224   3.3216    1\n",
       "           110.0   21.0    22.5      5.6925   3.5550    1\n",
       "                   22.0    23.5      5.5225   3.9950    1\n",
       "Whitefish  1000.0  40.0    43.5      12.3540  6.5250    1\n",
       "Length: 159, dtype: int64"
      ]
     },
     "execution_count": 122,
     "metadata": {},
     "output_type": "execute_result"
    }
   ],
   "source": [
    "df_fish.value_counts()"
   ]
  },
  {
   "cell_type": "code",
   "execution_count": 123,
   "id": "35d2f0d0",
   "metadata": {
    "ExecuteTime": {
     "end_time": "2021-12-17T08:32:02.368727Z",
     "start_time": "2021-12-17T08:32:02.345724Z"
    }
   },
   "outputs": [
    {
     "name": "stdout",
     "output_type": "stream",
     "text": [
      "<class 'pandas.core.frame.DataFrame'>\n",
      "RangeIndex: 159 entries, 0 to 158\n",
      "Data columns (total 6 columns):\n",
      " #   Column    Non-Null Count  Dtype  \n",
      "---  ------    --------------  -----  \n",
      " 0   Species   159 non-null    object \n",
      " 1   Weight    159 non-null    float64\n",
      " 2   Length    159 non-null    float64\n",
      " 3   Diagonal  159 non-null    float64\n",
      " 4   Height    159 non-null    float64\n",
      " 5   Width     159 non-null    float64\n",
      "dtypes: float64(5), object(1)\n",
      "memory usage: 7.6+ KB\n"
     ]
    }
   ],
   "source": [
    "df_fish.info()"
   ]
  },
  {
   "cell_type": "code",
   "execution_count": 124,
   "id": "1064afb0",
   "metadata": {
    "ExecuteTime": {
     "end_time": "2021-12-17T08:32:05.978298Z",
     "start_time": "2021-12-17T08:32:05.958287Z"
    }
   },
   "outputs": [
    {
     "data": {
      "text/html": [
       "<div>\n",
       "<style scoped>\n",
       "    .dataframe tbody tr th:only-of-type {\n",
       "        vertical-align: middle;\n",
       "    }\n",
       "\n",
       "    .dataframe tbody tr th {\n",
       "        vertical-align: top;\n",
       "    }\n",
       "\n",
       "    .dataframe thead th {\n",
       "        text-align: right;\n",
       "    }\n",
       "</style>\n",
       "<table border=\"1\" class=\"dataframe\">\n",
       "  <thead>\n",
       "    <tr style=\"text-align: right;\">\n",
       "      <th></th>\n",
       "      <th>Weight</th>\n",
       "      <th>Length</th>\n",
       "      <th>Diagonal</th>\n",
       "      <th>Height</th>\n",
       "      <th>Width</th>\n",
       "    </tr>\n",
       "  </thead>\n",
       "  <tbody>\n",
       "    <tr>\n",
       "      <th>count</th>\n",
       "      <td>159.000000</td>\n",
       "      <td>159.000000</td>\n",
       "      <td>159.000000</td>\n",
       "      <td>159.000000</td>\n",
       "      <td>159.000000</td>\n",
       "    </tr>\n",
       "    <tr>\n",
       "      <th>mean</th>\n",
       "      <td>398.326415</td>\n",
       "      <td>28.415723</td>\n",
       "      <td>31.227044</td>\n",
       "      <td>8.970994</td>\n",
       "      <td>4.417486</td>\n",
       "    </tr>\n",
       "    <tr>\n",
       "      <th>std</th>\n",
       "      <td>357.978317</td>\n",
       "      <td>10.716328</td>\n",
       "      <td>11.610246</td>\n",
       "      <td>4.286208</td>\n",
       "      <td>1.685804</td>\n",
       "    </tr>\n",
       "    <tr>\n",
       "      <th>min</th>\n",
       "      <td>0.000000</td>\n",
       "      <td>8.400000</td>\n",
       "      <td>8.800000</td>\n",
       "      <td>1.728400</td>\n",
       "      <td>1.047600</td>\n",
       "    </tr>\n",
       "    <tr>\n",
       "      <th>25%</th>\n",
       "      <td>120.000000</td>\n",
       "      <td>21.000000</td>\n",
       "      <td>23.150000</td>\n",
       "      <td>5.944800</td>\n",
       "      <td>3.385650</td>\n",
       "    </tr>\n",
       "    <tr>\n",
       "      <th>50%</th>\n",
       "      <td>273.000000</td>\n",
       "      <td>27.300000</td>\n",
       "      <td>29.400000</td>\n",
       "      <td>7.786000</td>\n",
       "      <td>4.248500</td>\n",
       "    </tr>\n",
       "    <tr>\n",
       "      <th>75%</th>\n",
       "      <td>650.000000</td>\n",
       "      <td>35.500000</td>\n",
       "      <td>39.650000</td>\n",
       "      <td>12.365900</td>\n",
       "      <td>5.584500</td>\n",
       "    </tr>\n",
       "    <tr>\n",
       "      <th>max</th>\n",
       "      <td>1650.000000</td>\n",
       "      <td>63.400000</td>\n",
       "      <td>68.000000</td>\n",
       "      <td>18.957000</td>\n",
       "      <td>8.142000</td>\n",
       "    </tr>\n",
       "  </tbody>\n",
       "</table>\n",
       "</div>"
      ],
      "text/plain": [
       "            Weight      Length    Diagonal      Height       Width\n",
       "count   159.000000  159.000000  159.000000  159.000000  159.000000\n",
       "mean    398.326415   28.415723   31.227044    8.970994    4.417486\n",
       "std     357.978317   10.716328   11.610246    4.286208    1.685804\n",
       "min       0.000000    8.400000    8.800000    1.728400    1.047600\n",
       "25%     120.000000   21.000000   23.150000    5.944800    3.385650\n",
       "50%     273.000000   27.300000   29.400000    7.786000    4.248500\n",
       "75%     650.000000   35.500000   39.650000   12.365900    5.584500\n",
       "max    1650.000000   63.400000   68.000000   18.957000    8.142000"
      ]
     },
     "execution_count": 124,
     "metadata": {},
     "output_type": "execute_result"
    }
   ],
   "source": [
    "df_fish.describe()\n",
    "#Weight에 min값 0 존재 -> standardscaler 써야할 듯"
   ]
  },
  {
   "cell_type": "code",
   "execution_count": 125,
   "id": "e5045d6e",
   "metadata": {
    "ExecuteTime": {
     "end_time": "2021-12-17T08:32:09.195749Z",
     "start_time": "2021-12-17T08:32:09.157735Z"
    }
   },
   "outputs": [
    {
     "data": {
      "text/plain": [
       "40    0.0\n",
       "Name: Weight, dtype: float64"
      ]
     },
     "execution_count": 125,
     "metadata": {},
     "output_type": "execute_result"
    }
   ],
   "source": [
    "df_fish.iloc[df_fish[df_fish['Weight'] == 0].index, :]['Weight']"
   ]
  },
  {
   "cell_type": "code",
   "execution_count": 126,
   "id": "134ffac0",
   "metadata": {
    "ExecuteTime": {
     "end_time": "2021-12-17T08:32:12.350790Z",
     "start_time": "2021-12-17T08:32:12.331792Z"
    }
   },
   "outputs": [
    {
     "data": {
      "text/plain": [
       "152.05"
      ]
     },
     "execution_count": 126,
     "metadata": {},
     "output_type": "execute_result"
    }
   ],
   "source": [
    "mean_value = df_fish[df_fish['Species'] == 'Roach']['Weight'].mean()\n",
    "mean_value"
   ]
  },
  {
   "cell_type": "code",
   "execution_count": 127,
   "id": "936539a3",
   "metadata": {
    "ExecuteTime": {
     "end_time": "2021-12-17T08:32:15.661207Z",
     "start_time": "2021-12-17T08:32:15.645190Z"
    }
   },
   "outputs": [],
   "source": [
    "df_fish.iloc[df_fish[df_fish['Weight'] == 0].index, 1] = mean_value"
   ]
  },
  {
   "cell_type": "code",
   "execution_count": 128,
   "id": "661d26fe",
   "metadata": {
    "ExecuteTime": {
     "end_time": "2021-12-17T08:32:18.986702Z",
     "start_time": "2021-12-17T08:32:18.970687Z"
    }
   },
   "outputs": [
    {
     "data": {
      "text/html": [
       "<div>\n",
       "<style scoped>\n",
       "    .dataframe tbody tr th:only-of-type {\n",
       "        vertical-align: middle;\n",
       "    }\n",
       "\n",
       "    .dataframe tbody tr th {\n",
       "        vertical-align: top;\n",
       "    }\n",
       "\n",
       "    .dataframe thead th {\n",
       "        text-align: right;\n",
       "    }\n",
       "</style>\n",
       "<table border=\"1\" class=\"dataframe\">\n",
       "  <thead>\n",
       "    <tr style=\"text-align: right;\">\n",
       "      <th></th>\n",
       "      <th>Species</th>\n",
       "      <th>Weight</th>\n",
       "      <th>Length</th>\n",
       "      <th>Diagonal</th>\n",
       "      <th>Height</th>\n",
       "      <th>Width</th>\n",
       "    </tr>\n",
       "  </thead>\n",
       "  <tbody>\n",
       "    <tr>\n",
       "      <th>22</th>\n",
       "      <td>Bream</td>\n",
       "      <td>620.0</td>\n",
       "      <td>34.5</td>\n",
       "      <td>39.7</td>\n",
       "      <td>15.5227</td>\n",
       "      <td>5.2801</td>\n",
       "    </tr>\n",
       "    <tr>\n",
       "      <th>19</th>\n",
       "      <td>Bream</td>\n",
       "      <td>650.0</td>\n",
       "      <td>33.5</td>\n",
       "      <td>38.7</td>\n",
       "      <td>14.4738</td>\n",
       "      <td>5.7276</td>\n",
       "    </tr>\n",
       "    <tr>\n",
       "      <th>9</th>\n",
       "      <td>Bream</td>\n",
       "      <td>500.0</td>\n",
       "      <td>30.7</td>\n",
       "      <td>36.2</td>\n",
       "      <td>14.2266</td>\n",
       "      <td>4.9594</td>\n",
       "    </tr>\n",
       "    <tr>\n",
       "      <th>150</th>\n",
       "      <td>Smelt</td>\n",
       "      <td>8.7</td>\n",
       "      <td>11.3</td>\n",
       "      <td>12.6</td>\n",
       "      <td>1.9782</td>\n",
       "      <td>1.2852</td>\n",
       "    </tr>\n",
       "    <tr>\n",
       "      <th>28</th>\n",
       "      <td>Bream</td>\n",
       "      <td>850.0</td>\n",
       "      <td>36.0</td>\n",
       "      <td>41.6</td>\n",
       "      <td>16.8896</td>\n",
       "      <td>6.1984</td>\n",
       "    </tr>\n",
       "  </tbody>\n",
       "</table>\n",
       "</div>"
      ],
      "text/plain": [
       "    Species  Weight  Length  Diagonal   Height   Width\n",
       "22    Bream   620.0    34.5      39.7  15.5227  5.2801\n",
       "19    Bream   650.0    33.5      38.7  14.4738  5.7276\n",
       "9     Bream   500.0    30.7      36.2  14.2266  4.9594\n",
       "150   Smelt     8.7    11.3      12.6   1.9782  1.2852\n",
       "28    Bream   850.0    36.0      41.6  16.8896  6.1984"
      ]
     },
     "execution_count": 128,
     "metadata": {},
     "output_type": "execute_result"
    }
   ],
   "source": [
    "# 도미(Bream) 와 빙어(Smelt) 만 추출\n",
    "bream_smelt = df_fish[(df_fish['Species'] == 'Bream') | (df_fish['Species']== 'Smelt')]\n",
    "bream_smelt.sample(5)"
   ]
  },
  {
   "cell_type": "code",
   "execution_count": 129,
   "id": "95d03e7d",
   "metadata": {
    "ExecuteTime": {
     "end_time": "2021-12-17T08:32:24.597352Z",
     "start_time": "2021-12-17T08:32:24.583349Z"
    }
   },
   "outputs": [
    {
     "data": {
      "text/plain": [
       "(49, 6)"
      ]
     },
     "execution_count": 129,
     "metadata": {},
     "output_type": "execute_result"
    }
   ],
   "source": [
    "bream_smelt.shape"
   ]
  },
  {
   "cell_type": "code",
   "execution_count": 130,
   "id": "cae7fb25",
   "metadata": {
    "ExecuteTime": {
     "end_time": "2021-12-17T08:32:46.741406Z",
     "start_time": "2021-12-17T08:32:46.733405Z"
    }
   },
   "outputs": [],
   "source": [
    "fish_X = bream_smelt.loc[:, 'Weight':]\n",
    "fish_target = bream_smelt[['Species']]"
   ]
  },
  {
   "cell_type": "code",
   "execution_count": 131,
   "id": "9a532df9",
   "metadata": {
    "ExecuteTime": {
     "end_time": "2021-12-17T08:32:50.651942Z",
     "start_time": "2021-12-17T08:32:50.634937Z"
    }
   },
   "outputs": [],
   "source": [
    "X_train, X_test, y_train, y_test = train_test_split(fish_X, fish_target, random_state=42)"
   ]
  },
  {
   "cell_type": "code",
   "execution_count": 132,
   "id": "01f6bfca",
   "metadata": {
    "ExecuteTime": {
     "end_time": "2021-12-17T08:32:54.965036Z",
     "start_time": "2021-12-17T08:32:54.945034Z"
    }
   },
   "outputs": [],
   "source": [
    "Scale = StandardScaler()\n",
    "scale.fit(X_train)\n",
    "X_train_scaled = scale.transform(X_train)\n",
    "X_test_scaled = scale.transform(X_test)"
   ]
  },
  {
   "cell_type": "code",
   "execution_count": 133,
   "id": "16cd287c",
   "metadata": {
    "ExecuteTime": {
     "end_time": "2021-12-17T08:32:59.794986Z",
     "start_time": "2021-12-17T08:32:59.785990Z"
    }
   },
   "outputs": [
    {
     "name": "stdout",
     "output_type": "stream",
     "text": [
      "1.0\n",
      "1.0\n"
     ]
    }
   ],
   "source": [
    "#C 값이 alpha에 해당. 디폴트 C=1\n",
    "#C 값이 작으면 강한 규제\n",
    "model_lr = LogisticRegression(C=1)\n",
    "model_lr.fit(X_train_scaled, y_train)\n",
    "\n",
    "print(model_lr.score(X_train_scaled, y_train))\n",
    "print(model_lr.score(X_test_scaled, y_test))"
   ]
  },
  {
   "cell_type": "code",
   "execution_count": 134,
   "id": "cbbddeb1",
   "metadata": {
    "ExecuteTime": {
     "end_time": "2021-12-17T08:33:03.406672Z",
     "start_time": "2021-12-17T08:33:03.397671Z"
    }
   },
   "outputs": [
    {
     "name": "stdout",
     "output_type": "stream",
     "text": [
      "              precision    recall  f1-score   support\n",
      "\n",
      "       Bream       1.00      1.00      1.00        10\n",
      "       Smelt       1.00      1.00      1.00         3\n",
      "\n",
      "    accuracy                           1.00        13\n",
      "   macro avg       1.00      1.00      1.00        13\n",
      "weighted avg       1.00      1.00      1.00        13\n",
      "\n"
     ]
    }
   ],
   "source": [
    "#성능 평가 지표\n",
    "print(classification_report(y_test, model_lr.predict(X_test_scaled)))"
   ]
  },
  {
   "cell_type": "code",
   "execution_count": 135,
   "id": "927cff19",
   "metadata": {
    "ExecuteTime": {
     "end_time": "2021-12-17T08:33:10.280313Z",
     "start_time": "2021-12-17T08:33:10.272317Z"
    }
   },
   "outputs": [
    {
     "data": {
      "text/html": [
       "<div>\n",
       "<style scoped>\n",
       "    .dataframe tbody tr th:only-of-type {\n",
       "        vertical-align: middle;\n",
       "    }\n",
       "\n",
       "    .dataframe tbody tr th {\n",
       "        vertical-align: top;\n",
       "    }\n",
       "\n",
       "    .dataframe thead th {\n",
       "        text-align: right;\n",
       "    }\n",
       "</style>\n",
       "<table border=\"1\" class=\"dataframe\">\n",
       "  <thead>\n",
       "    <tr style=\"text-align: right;\">\n",
       "      <th></th>\n",
       "      <th>Species</th>\n",
       "    </tr>\n",
       "  </thead>\n",
       "  <tbody>\n",
       "    <tr>\n",
       "      <th>13</th>\n",
       "      <td>Bream</td>\n",
       "    </tr>\n",
       "    <tr>\n",
       "      <th>155</th>\n",
       "      <td>Smelt</td>\n",
       "    </tr>\n",
       "    <tr>\n",
       "      <th>157</th>\n",
       "      <td>Smelt</td>\n",
       "    </tr>\n",
       "    <tr>\n",
       "      <th>154</th>\n",
       "      <td>Smelt</td>\n",
       "    </tr>\n",
       "    <tr>\n",
       "      <th>17</th>\n",
       "      <td>Bream</td>\n",
       "    </tr>\n",
       "  </tbody>\n",
       "</table>\n",
       "</div>"
      ],
      "text/plain": [
       "    Species\n",
       "13    Bream\n",
       "155   Smelt\n",
       "157   Smelt\n",
       "154   Smelt\n",
       "17    Bream"
      ]
     },
     "execution_count": 135,
     "metadata": {},
     "output_type": "execute_result"
    }
   ],
   "source": [
    "y_test[:5]"
   ]
  },
  {
   "cell_type": "code",
   "execution_count": 136,
   "id": "5fb224c2",
   "metadata": {
    "ExecuteTime": {
     "end_time": "2021-12-17T08:33:14.089275Z",
     "start_time": "2021-12-17T08:33:14.071267Z"
    }
   },
   "outputs": [
    {
     "data": {
      "text/plain": [
       "array(['Bream', 'Smelt', 'Smelt', 'Smelt', 'Bream'], dtype=object)"
      ]
     },
     "execution_count": 136,
     "metadata": {},
     "output_type": "execute_result"
    }
   ],
   "source": [
    "model_lr.predict(X_test_scaled[:5])"
   ]
  },
  {
   "cell_type": "code",
   "execution_count": 137,
   "id": "a66278a1",
   "metadata": {
    "ExecuteTime": {
     "end_time": "2021-12-17T08:33:21.232814Z",
     "start_time": "2021-12-17T08:33:21.195811Z"
    }
   },
   "outputs": [
    {
     "data": {
      "text/plain": [
       "LogisticRegression()"
      ]
     },
     "execution_count": 137,
     "metadata": {},
     "output_type": "execute_result"
    }
   ],
   "source": [
    "#전체 물고기 데이터\n",
    "fish_X = df_fish.loc[:, 'Weight':]\n",
    "fish_target = df_fish[['Species']]\n",
    "X_train, X_test, y_train, y_test = train_test_split(fish_X, fish_target, random_state=42)\n",
    "\n",
    "scale = StandardScaler()\n",
    "scale.fit(X_train)\n",
    "X_train_scaled = scale.transform(X_train)\n",
    "X_test_scaled = scale.transform(X_test)\n",
    "\n",
    "# model_lr2 = LogisticRegression(C=100)\n",
    "model_lr2 = LogisticRegression()\n",
    "model_lr2.fit(X_train_scaled, y_train)\n",
    "model_lr2.fit(X_test_scaled, y_test)"
   ]
  },
  {
   "cell_type": "code",
   "execution_count": 138,
   "id": "29165ab7",
   "metadata": {
    "ExecuteTime": {
     "end_time": "2021-12-17T08:33:25.215763Z",
     "start_time": "2021-12-17T08:33:25.208778Z"
    }
   },
   "outputs": [
    {
     "name": "stdout",
     "output_type": "stream",
     "text": [
      "0.7394957983193278\n",
      "0.8\n"
     ]
    }
   ],
   "source": [
    "print(model_lr2.score(X_train_scaled, y_train))\n",
    "print(model_lr2.score(X_test_scaled, y_test))"
   ]
  },
  {
   "cell_type": "code",
   "execution_count": null,
   "id": "ec136c2e",
   "metadata": {},
   "outputs": [],
   "source": []
  }
 ],
 "metadata": {
  "hide_input": false,
  "kernelspec": {
   "display_name": "Python 3",
   "language": "python",
   "name": "python3"
  },
  "language_info": {
   "codemirror_mode": {
    "name": "ipython",
    "version": 3
   },
   "file_extension": ".py",
   "mimetype": "text/x-python",
   "name": "python",
   "nbconvert_exporter": "python",
   "pygments_lexer": "ipython3",
   "version": "3.8.8"
  },
  "toc": {
   "base_numbering": 1,
   "nav_menu": {},
   "number_sections": true,
   "sideBar": true,
   "skip_h1_title": false,
   "title_cell": "Table of Contents",
   "title_sidebar": "Contents",
   "toc_cell": false,
   "toc_position": {},
   "toc_section_display": true,
   "toc_window_display": false
  },
  "varInspector": {
   "cols": {
    "lenName": 16,
    "lenType": 16,
    "lenVar": 40
   },
   "kernels_config": {
    "python": {
     "delete_cmd_postfix": "",
     "delete_cmd_prefix": "del ",
     "library": "var_list.py",
     "varRefreshCmd": "print(var_dic_list())"
    },
    "r": {
     "delete_cmd_postfix": ") ",
     "delete_cmd_prefix": "rm(",
     "library": "var_list.r",
     "varRefreshCmd": "cat(var_dic_list()) "
    }
   },
   "types_to_exclude": [
    "module",
    "function",
    "builtin_function_or_method",
    "instance",
    "_Feature"
   ],
   "window_display": false
  }
 },
 "nbformat": 4,
 "nbformat_minor": 5
}
