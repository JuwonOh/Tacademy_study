{
 "cells": [
  {
   "cell_type": "code",
   "execution_count": 100,
   "id": "dc652c0a",
   "metadata": {
    "ExecuteTime": {
     "end_time": "2021-12-09T09:01:44.044779Z",
     "start_time": "2021-12-09T09:01:44.024775Z"
    }
   },
   "outputs": [
    {
     "data": {
      "text/html": [
       "<style>.container { font-weight: bold !important;}</style>"
      ],
      "text/plain": [
       "<IPython.core.display.HTML object>"
      ]
     },
     "metadata": {},
     "output_type": "display_data"
    },
    {
     "data": {
      "text/html": [
       "<style>.container { width: 98% !important; }</style>"
      ],
      "text/plain": [
       "<IPython.core.display.HTML object>"
      ]
     },
     "metadata": {},
     "output_type": "display_data"
    }
   ],
   "source": [
    "# 주피터 노트북 환경설정\n",
    "import warnings\n",
    "warnings.filterwarnings('ignore')\n",
    "warnings.simplefilter('ignore')\n",
    "\n",
    "from IPython.display import set_matplotlib_formats\n",
    "set_matplotlib_formats(\"retina\")\n",
    "\n",
    "from IPython.display import Image\n",
    "\n",
    "from IPython.core.display import display, HTML\n",
    "# display(HTML(\"<style>.container { font-weight: bold !important; font-family:'Malgun Gothic' !important;}</style>\"))\n",
    "display(HTML(\"<style>.container { font-weight: bold !important;}</style>\"))\n",
    "display(HTML(\"<style>.container { width: 98% !important; }</style>\"))"
   ]
  },
  {
   "cell_type": "code",
   "execution_count": 101,
   "id": "219724ef",
   "metadata": {
    "ExecuteTime": {
     "end_time": "2021-12-09T09:01:44.449850Z",
     "start_time": "2021-12-09T09:01:44.399840Z"
    }
   },
   "outputs": [],
   "source": [
    "import numpy as np\n",
    "import pandas as pd\n",
    "import os\n",
    "\n",
    "import matplotlib\n",
    "import matplotlib.pyplot as plt\n",
    "import seaborn as sns\n",
    "\n",
    "%matplotlib inline\n",
    "\n",
    "# 관련 라이브러리 임포트 \n",
    "import matplotlib.font_manager as fm\n",
    "\n",
    "#  한글글꼴로 변경\n",
    "# plt.rcParams['font.family'] = '한글글꼴명'\n",
    "plt.rcParams['font.size'] = 11.0\n",
    "# plt.rcParams['font.family'] = 'batang'\n",
    "plt.rcParams['font.family'] = 'Malgun Gothic'\n",
    "\n",
    "# 그래프에서 마이너스 폰트 깨지는 문제에 대한 대처\n",
    "matplotlib.rcParams['axes.unicode_minus'] = False\n",
    "\n",
    "# 그래프 기본 크기 설정 \n",
    "# plt.rcParams['figure.figsize'] = [10, 6]"
   ]
  },
  {
   "cell_type": "markdown",
   "id": "03204e4b",
   "metadata": {},
   "source": [
    "# 분류(Classfication)\n",
    "\n",
    "- 학습데이터로 주어진 데이터의 피처와 레이블값(결정값, 클래스값)을 머신러닝 알고리즘으로 학습해 모델을 생성하고 이렇게 생성된 모델에 새로운 데이터값이 주어졌을 때 미지의 값을 예측한다.\n",
    "\n",
    "\n",
    "    - K Nearest Neighbor : 근접 거리를 기준으로 하는 최소 근접 알고리즘 \n",
    "    - Ensemble : 서로 다른 또는 같은 머신러닝 알고리즘을 결합하는 알고리즘 \n",
    "    - Logistic Regression : 독립변수와 종속변수의 선형 관계성에 기반\n",
    "    - SVM(support Vector Machine) : 개별 클래스간의 최대 분류 마진이용 \n",
    "    - Decision Tree :  트리기반 분류 규칙의 알고리즘 "
   ]
  },
  {
   "cell_type": "markdown",
   "id": "e2f7e467",
   "metadata": {},
   "source": [
    "# 결정트리 \n",
    "\n",
    "- 스무고개 형태로 질문을 하나씩 던져서 정답을 맞추어 나간다. \n",
    "- sklearn의 DecisionTreeClassifier 클래스에서 제공\n",
    "- 데이터에 있는 규칙을 학습을 통해 자동으로 찾아내 트리 기반의 분류 규칙을 만든다. (If-Else 기반 규칙)\n",
    "- 쉽고 직관적이다. 데이타의 스케일링이나 정규화 등의 사전 가공의 영향이 매우 적다. \n",
    "- 단점은 과적합으로 알고리즘 성능이 떨어진다. 이를 극복하기 위해 트리의  크기를 사전에 제한하는 튜닝이 필요하다. \n",
    "- GBM, XGBoodt, LightGBM과 같은 앙상블 학습기의 기반이 된다.\n",
    "\n",
    "<img src='https://upload.wikimedia.org/wikipedia/commons/f/fe/CART_tree_titanic_survivors_KOR.png' width=\"50%\">"
   ]
  },
  {
   "cell_type": "markdown",
   "id": "93b84f76",
   "metadata": {},
   "source": [
    "# 결정트리 \n",
    "\n",
    "- 스무고개 형태로 질문을 하나씩 던져서 정답을 맞추어 나간다. \n",
    "- sklearn의 DecisionTreeClassifier 클래스에서 제공\n",
    "- 데이터에 있는 규칙을 학습을 통해 자동으로 찾아내 트리 기반의 분류 규칙을 만든다. (If-Else 기반 규칙)\n",
    "- 쉽고 직관적이다. 데이타의 스케일링이나 정규화 등의 사전 가공의 영향이 매우 적다. \n",
    "- 단점은 과적합으로 알고리즘 성능이 떨어진다. 이를 극복하기 위해 트리의  크기를 사전에 제한하는 튜닝이 필요하다. \n",
    "- GBM, XGBoodt, LightGBM과 같은 앙상블 학습기의 기반이 된다.\n",
    "\n",
    "<img src='https://upload.wikimedia.org/wikipedia/commons/f/fe/CART_tree_titanic_survivors_KOR.png' width=\"50%\">"
   ]
  },
  {
   "cell_type": "markdown",
   "id": "f982e945",
   "metadata": {},
   "source": [
    "## 결정트리에 사용되는 Terms\n",
    "\n",
    "- 결정트리 알고리즘 원리 \n",
    "    - 결정트리는 부모노드와 자식노드의 불순도 차이가 가능한 크도록 트리를 성장시킨다. \n",
    "    - 불순도 기준을 사용해 정보 이득이 최대가 되도록 노드를 분할한다. \n",
    "\n",
    "\n",
    "- 불순도(impurity)\n",
    "    - 결정트리가 최적의 질문을 찾기 위한 기준. \n",
    "    - 노드에서 데이터를 분할하는 기준을 정한다. \n",
    "    - 불순도 기준으로 criterion 파라미터를 사용하며 gini, entropy 가 있다. \n",
    "    - 기본값은 gini \n",
    "    - criterion : {\"gini\", \"entropy\"}, default=\"gini\"\n",
    "\n",
    "\n",
    "- 지니 불순도 \n",
    "    - 경제학 용어 코라도 지니의 이름에서 딴 지니계수에서 유래 \n",
    "    - 다양성을 계산하는 방법\n",
    "    - 데이타의 불평등이 높을수록 1에 가깝다.\n",
    "    - 1 - (음성클래스비율의제곱 + 양성클래스비율의제곱)\n",
    "    - 지니불순도가 0이면 순수 노드라고 한다. \n",
    "    - 0이 가장 평등. 1로 갈수록 불평등.\n",
    "\n",
    "    \n",
    "    \n",
    "- 엔트로피 불순도 \n",
    "     - 지니 불순도와 같이 노드의 클래스 비율을 사용하지만 제곱이 아닌 밑이 2인 로그를 사용하여 곱한다. \n",
    "\n",
    "\n",
    "- 정보 이득(Information Gain) \n",
    "    - 부모와 자식 노드사이의 불순도 차이 \n",
    "    - 엔트로피 개념 기반. 엔트로피는 주어진 데이터 집합의 혼합도\n",
    "    - 정보이득 지수는 1-엔트로피지수 \n",
    "  \n",
    "\n",
    "#### 결정트리 구성 \n",
    "- 루트노드 \n",
    "- 규칙노드 : 규칙조건 \n",
    "- 리프 노드 : 결정된 분류값 \n",
    "\n",
    "\n",
    "\n"
   ]
  },
  {
   "cell_type": "markdown",
   "id": "474ab839",
   "metadata": {},
   "source": [
    "## 결정트리 주요 하이퍼파라미터 \n",
    "\n",
    "max_depth \n",
    "- 트리의 최대 깊이. \n",
    "\n",
    "max_features\n",
    "- 최적의 분할을 위해 고려할 최대 피처 갯수 \n",
    "\n",
    "min_samples_split \n",
    "- 노드를 분할하기 위한 최소한의 샘플 데이터수. 디폴트는 2이고 작게 설정할 수록 분할되는 노드가 많아져 과적합 가능성이 증가한다. \n",
    "\n",
    "min_samples_leaf\n",
    "- 말단노드(Leaf)가 되기위한 최소한의 샘플 데이터 수 \n",
    "\n",
    "max_leaf_nodes \n",
    "- 말단 노드의 최대 개수 \n",
    "\n",
    "\n",
    "## Fature 선택 중요도 \n",
    "- DecisionClassifier 객체의 feature_importances_\n"
   ]
  },
  {
   "cell_type": "markdown",
   "id": "0ac6fb85",
   "metadata": {},
   "source": [
    "# 결정 트리 모델의 시각화\n",
    "\n",
    "- 붓꽃 데이타셋 이용 \n",
    "- plot_tree => 시각화 "
   ]
  },
  {
   "cell_type": "code",
   "execution_count": 3,
   "id": "dbfc6b9e",
   "metadata": {
    "ExecuteTime": {
     "end_time": "2021-12-08T01:16:56.089971Z",
     "start_time": "2021-12-08T01:16:55.131779Z"
    }
   },
   "outputs": [],
   "source": [
    "from sklearn.tree import DecisionTreeClassifier\n",
    "from sklearn.datasets import load_iris\n",
    "from sklearn.model_selection import train_test_split"
   ]
  },
  {
   "cell_type": "code",
   "execution_count": 4,
   "id": "1985f939",
   "metadata": {
    "ExecuteTime": {
     "end_time": "2021-12-08T01:16:56.104976Z",
     "start_time": "2021-12-08T01:16:56.091975Z"
    }
   },
   "outputs": [
    {
     "name": "stdout",
     "output_type": "stream",
     "text": [
      "[[5.1 3.5 1.4 0.2]\n",
      " [4.9 3.  1.4 0.2]\n",
      " [4.7 3.2 1.3 0.2]\n",
      " [4.6 3.1 1.5 0.2]\n",
      " [5.  3.6 1.4 0.2]\n",
      " [5.4 3.9 1.7 0.4]\n",
      " [4.6 3.4 1.4 0.3]\n",
      " [5.  3.4 1.5 0.2]\n",
      " [4.4 2.9 1.4 0.2]\n",
      " [4.9 3.1 1.5 0.1]\n",
      " [5.4 3.7 1.5 0.2]\n",
      " [4.8 3.4 1.6 0.2]\n",
      " [4.8 3.  1.4 0.1]\n",
      " [4.3 3.  1.1 0.1]\n",
      " [5.8 4.  1.2 0.2]\n",
      " [5.7 4.4 1.5 0.4]\n",
      " [5.4 3.9 1.3 0.4]\n",
      " [5.1 3.5 1.4 0.3]\n",
      " [5.7 3.8 1.7 0.3]\n",
      " [5.1 3.8 1.5 0.3]\n",
      " [5.4 3.4 1.7 0.2]\n",
      " [5.1 3.7 1.5 0.4]\n",
      " [4.6 3.6 1.  0.2]\n",
      " [5.1 3.3 1.7 0.5]\n",
      " [4.8 3.4 1.9 0.2]\n",
      " [5.  3.  1.6 0.2]\n",
      " [5.  3.4 1.6 0.4]\n",
      " [5.2 3.5 1.5 0.2]\n",
      " [5.2 3.4 1.4 0.2]\n",
      " [4.7 3.2 1.6 0.2]\n",
      " [4.8 3.1 1.6 0.2]\n",
      " [5.4 3.4 1.5 0.4]\n",
      " [5.2 4.1 1.5 0.1]\n",
      " [5.5 4.2 1.4 0.2]\n",
      " [4.9 3.1 1.5 0.2]\n",
      " [5.  3.2 1.2 0.2]\n",
      " [5.5 3.5 1.3 0.2]\n",
      " [4.9 3.6 1.4 0.1]\n",
      " [4.4 3.  1.3 0.2]\n",
      " [5.1 3.4 1.5 0.2]\n",
      " [5.  3.5 1.3 0.3]\n",
      " [4.5 2.3 1.3 0.3]\n",
      " [4.4 3.2 1.3 0.2]\n",
      " [5.  3.5 1.6 0.6]\n",
      " [5.1 3.8 1.9 0.4]\n",
      " [4.8 3.  1.4 0.3]\n",
      " [5.1 3.8 1.6 0.2]\n",
      " [4.6 3.2 1.4 0.2]\n",
      " [5.3 3.7 1.5 0.2]\n",
      " [5.  3.3 1.4 0.2]\n",
      " [7.  3.2 4.7 1.4]\n",
      " [6.4 3.2 4.5 1.5]\n",
      " [6.9 3.1 4.9 1.5]\n",
      " [5.5 2.3 4.  1.3]\n",
      " [6.5 2.8 4.6 1.5]\n",
      " [5.7 2.8 4.5 1.3]\n",
      " [6.3 3.3 4.7 1.6]\n",
      " [4.9 2.4 3.3 1. ]\n",
      " [6.6 2.9 4.6 1.3]\n",
      " [5.2 2.7 3.9 1.4]\n",
      " [5.  2.  3.5 1. ]\n",
      " [5.9 3.  4.2 1.5]\n",
      " [6.  2.2 4.  1. ]\n",
      " [6.1 2.9 4.7 1.4]\n",
      " [5.6 2.9 3.6 1.3]\n",
      " [6.7 3.1 4.4 1.4]\n",
      " [5.6 3.  4.5 1.5]\n",
      " [5.8 2.7 4.1 1. ]\n",
      " [6.2 2.2 4.5 1.5]\n",
      " [5.6 2.5 3.9 1.1]\n",
      " [5.9 3.2 4.8 1.8]\n",
      " [6.1 2.8 4.  1.3]\n",
      " [6.3 2.5 4.9 1.5]\n",
      " [6.1 2.8 4.7 1.2]\n",
      " [6.4 2.9 4.3 1.3]\n",
      " [6.6 3.  4.4 1.4]\n",
      " [6.8 2.8 4.8 1.4]\n",
      " [6.7 3.  5.  1.7]\n",
      " [6.  2.9 4.5 1.5]\n",
      " [5.7 2.6 3.5 1. ]\n",
      " [5.5 2.4 3.8 1.1]\n",
      " [5.5 2.4 3.7 1. ]\n",
      " [5.8 2.7 3.9 1.2]\n",
      " [6.  2.7 5.1 1.6]\n",
      " [5.4 3.  4.5 1.5]\n",
      " [6.  3.4 4.5 1.6]\n",
      " [6.7 3.1 4.7 1.5]\n",
      " [6.3 2.3 4.4 1.3]\n",
      " [5.6 3.  4.1 1.3]\n",
      " [5.5 2.5 4.  1.3]\n",
      " [5.5 2.6 4.4 1.2]\n",
      " [6.1 3.  4.6 1.4]\n",
      " [5.8 2.6 4.  1.2]\n",
      " [5.  2.3 3.3 1. ]\n",
      " [5.6 2.7 4.2 1.3]\n",
      " [5.7 3.  4.2 1.2]\n",
      " [5.7 2.9 4.2 1.3]\n",
      " [6.2 2.9 4.3 1.3]\n",
      " [5.1 2.5 3.  1.1]\n",
      " [5.7 2.8 4.1 1.3]\n",
      " [6.3 3.3 6.  2.5]\n",
      " [5.8 2.7 5.1 1.9]\n",
      " [7.1 3.  5.9 2.1]\n",
      " [6.3 2.9 5.6 1.8]\n",
      " [6.5 3.  5.8 2.2]\n",
      " [7.6 3.  6.6 2.1]\n",
      " [4.9 2.5 4.5 1.7]\n",
      " [7.3 2.9 6.3 1.8]\n",
      " [6.7 2.5 5.8 1.8]\n",
      " [7.2 3.6 6.1 2.5]\n",
      " [6.5 3.2 5.1 2. ]\n",
      " [6.4 2.7 5.3 1.9]\n",
      " [6.8 3.  5.5 2.1]\n",
      " [5.7 2.5 5.  2. ]\n",
      " [5.8 2.8 5.1 2.4]\n",
      " [6.4 3.2 5.3 2.3]\n",
      " [6.5 3.  5.5 1.8]\n",
      " [7.7 3.8 6.7 2.2]\n",
      " [7.7 2.6 6.9 2.3]\n",
      " [6.  2.2 5.  1.5]\n",
      " [6.9 3.2 5.7 2.3]\n",
      " [5.6 2.8 4.9 2. ]\n",
      " [7.7 2.8 6.7 2. ]\n",
      " [6.3 2.7 4.9 1.8]\n",
      " [6.7 3.3 5.7 2.1]\n",
      " [7.2 3.2 6.  1.8]\n",
      " [6.2 2.8 4.8 1.8]\n",
      " [6.1 3.  4.9 1.8]\n",
      " [6.4 2.8 5.6 2.1]\n",
      " [7.2 3.  5.8 1.6]\n",
      " [7.4 2.8 6.1 1.9]\n",
      " [7.9 3.8 6.4 2. ]\n",
      " [6.4 2.8 5.6 2.2]\n",
      " [6.3 2.8 5.1 1.5]\n",
      " [6.1 2.6 5.6 1.4]\n",
      " [7.7 3.  6.1 2.3]\n",
      " [6.3 3.4 5.6 2.4]\n",
      " [6.4 3.1 5.5 1.8]\n",
      " [6.  3.  4.8 1.8]\n",
      " [6.9 3.1 5.4 2.1]\n",
      " [6.7 3.1 5.6 2.4]\n",
      " [6.9 3.1 5.1 2.3]\n",
      " [5.8 2.7 5.1 1.9]\n",
      " [6.8 3.2 5.9 2.3]\n",
      " [6.7 3.3 5.7 2.5]\n",
      " [6.7 3.  5.2 2.3]\n",
      " [6.3 2.5 5.  1.9]\n",
      " [6.5 3.  5.2 2. ]\n",
      " [6.2 3.4 5.4 2.3]\n",
      " [5.9 3.  5.1 1.8]]\n",
      "==================================================\n",
      "[0 0 0 0 0 0 0 0 0 0 0 0 0 0 0 0 0 0 0 0 0 0 0 0 0 0 0 0 0 0 0 0 0 0 0 0 0\n",
      " 0 0 0 0 0 0 0 0 0 0 0 0 0 1 1 1 1 1 1 1 1 1 1 1 1 1 1 1 1 1 1 1 1 1 1 1 1\n",
      " 1 1 1 1 1 1 1 1 1 1 1 1 1 1 1 1 1 1 1 1 1 1 1 1 1 1 2 2 2 2 2 2 2 2 2 2 2\n",
      " 2 2 2 2 2 2 2 2 2 2 2 2 2 2 2 2 2 2 2 2 2 2 2 2 2 2 2 2 2 2 2 2 2 2 2 2 2\n",
      " 2 2]\n",
      "==================================================\n",
      "(150, 4)\n"
     ]
    }
   ],
   "source": [
    "# 데이타셋 준비 \n",
    "iris_data = load_iris()\n",
    "print(iris_data.data)\n",
    "print('='*50)\n",
    "print(iris_data.target)\n",
    "print('='*50)\n",
    "print(iris_data.data.shape) # 150, 4\n",
    "\n",
    "# 학습용, 테스트용 분리 \n",
    "X_train , X_test , y_train , y_test = train_test_split(iris_data.data, iris_data.target,\n",
    "                                                       test_size=0.3,  \n",
    "                                                       random_state=11, \n",
    "                                                       stratify=iris_data.target)\n",
    "\n"
   ]
  },
  {
   "cell_type": "code",
   "execution_count": 5,
   "id": "a4a99be6",
   "metadata": {
    "ExecuteTime": {
     "end_time": "2021-12-08T01:16:56.119999Z",
     "start_time": "2021-12-08T01:16:56.105978Z"
    }
   },
   "outputs": [
    {
     "data": {
      "text/plain": [
       "DecisionTreeClassifier(random_state=11)"
      ]
     },
     "execution_count": 5,
     "metadata": {},
     "output_type": "execute_result"
    }
   ],
   "source": [
    "# 모델 생성 \n",
    "model_dt = DecisionTreeClassifier(random_state=11)\n",
    "\n",
    "model_dt.fit(X_train , y_train)"
   ]
  },
  {
   "cell_type": "code",
   "execution_count": 6,
   "id": "05738a1b",
   "metadata": {
    "ExecuteTime": {
     "end_time": "2021-12-08T01:16:56.135003Z",
     "start_time": "2021-12-08T01:16:56.121981Z"
    }
   },
   "outputs": [
    {
     "data": {
      "text/plain": [
       "{'ccp_alpha': 0.0,\n",
       " 'class_weight': None,\n",
       " 'criterion': 'gini',\n",
       " 'max_depth': None,\n",
       " 'max_features': None,\n",
       " 'max_leaf_nodes': None,\n",
       " 'min_impurity_decrease': 0.0,\n",
       " 'min_impurity_split': None,\n",
       " 'min_samples_leaf': 1,\n",
       " 'min_samples_split': 2,\n",
       " 'min_weight_fraction_leaf': 0.0,\n",
       " 'random_state': 11,\n",
       " 'splitter': 'best'}"
      ]
     },
     "execution_count": 6,
     "metadata": {},
     "output_type": "execute_result"
    }
   ],
   "source": [
    "model_dt.get_params()"
   ]
  },
  {
   "cell_type": "markdown",
   "id": "7c1bfaae",
   "metadata": {},
   "source": [
    "## plot_tree\n",
    "\n",
    "- graphviz 보다 편리 \n",
    "- 결정트리 모델를 트리 형태로 표시 \n",
    "- sklearn.tree 에서 지원 \n",
    "\n",
    "plot_tree(모델명)"
   ]
  },
  {
   "cell_type": "code",
   "execution_count": 7,
   "id": "60c0a30c",
   "metadata": {
    "ExecuteTime": {
     "end_time": "2021-12-08T01:16:56.149987Z",
     "start_time": "2021-12-08T01:16:56.142988Z"
    }
   },
   "outputs": [],
   "source": [
    "from sklearn.tree import plot_tree"
   ]
  },
  {
   "cell_type": "code",
   "execution_count": 8,
   "id": "2f8e1f63",
   "metadata": {
    "ExecuteTime": {
     "end_time": "2021-12-08T01:16:56.164991Z",
     "start_time": "2021-12-08T01:16:56.151989Z"
    }
   },
   "outputs": [
    {
     "data": {
      "text/plain": [
       "['sepal length (cm)',\n",
       " 'sepal width (cm)',\n",
       " 'petal length (cm)',\n",
       " 'petal width (cm)']"
      ]
     },
     "execution_count": 8,
     "metadata": {},
     "output_type": "execute_result"
    }
   ],
   "source": [
    "iris_data.feature_names"
   ]
  },
  {
   "cell_type": "code",
   "execution_count": 9,
   "id": "7c09f5ec",
   "metadata": {
    "ExecuteTime": {
     "end_time": "2021-12-08T01:16:56.180006Z",
     "start_time": "2021-12-08T01:16:56.165991Z"
    }
   },
   "outputs": [
    {
     "data": {
      "text/plain": [
       "(105, 4)"
      ]
     },
     "execution_count": 9,
     "metadata": {},
     "output_type": "execute_result"
    }
   ],
   "source": [
    "X_train.shape"
   ]
  },
  {
   "cell_type": "code",
   "execution_count": 10,
   "id": "e4300baa",
   "metadata": {
    "ExecuteTime": {
     "end_time": "2021-12-08T01:16:56.194999Z",
     "start_time": "2021-12-08T01:16:56.182009Z"
    }
   },
   "outputs": [
    {
     "data": {
      "text/plain": [
       "array([0, 0, 0, 1, 1, 1, 0, 2, 2, 0, 2, 1, 2, 1, 0, 0, 2, 1, 1, 0, 0, 0,\n",
       "       1, 0, 0, 2, 1, 2, 2, 2, 2, 1, 1, 2, 2, 1, 2, 0, 0, 2, 1, 0, 1, 1,\n",
       "       0, 0, 0, 0, 2, 1, 1, 1, 0, 2, 0, 1, 1, 0, 2, 1, 0, 1, 0, 1, 1, 1,\n",
       "       2, 0, 2, 1, 0, 0, 0, 2, 2, 1, 1, 2, 2, 2, 0, 0, 1, 1, 2, 2, 2, 2,\n",
       "       2, 2, 0, 1, 2, 1, 1, 2, 2, 0, 0, 0, 2, 1, 2, 0, 1])"
      ]
     },
     "execution_count": 10,
     "metadata": {},
     "output_type": "execute_result"
    }
   ],
   "source": [
    "y_train"
   ]
  },
  {
   "cell_type": "code",
   "execution_count": 11,
   "id": "b479ff83",
   "metadata": {
    "ExecuteTime": {
     "end_time": "2021-12-08T01:16:57.051368Z",
     "start_time": "2021-12-08T01:16:56.196997Z"
    }
   },
   "outputs": [
    {
     "data": {
      "image/png": "[encoded data removed]",
      "text/plain": [
       "<Figure size 720x504 with 1 Axes>"
      ]
     },
     "metadata": {
      "needs_background": "light"
     },
     "output_type": "display_data"
    }
   ],
   "source": [
    "# 트리 시각화 \n",
    "plt.figure(figsize=(10,7))\n",
    "# 트리 생성\n",
    "plot_tree(model_dt)\n",
    "# 트리그림 저장 \n",
    "plt.savefig('iris_tree1.png')\n",
    "plt.show()"
   ]
  },
  {
   "cell_type": "code",
   "execution_count": 12,
   "id": "a59e2073",
   "metadata": {
    "ExecuteTime": {
     "end_time": "2021-12-08T01:16:57.066359Z",
     "start_time": "2021-12-08T01:16:57.053363Z"
    }
   },
   "outputs": [
    {
     "data": {
      "image/png": "[encoded data removed]",
      "text/plain": [
       "<IPython.core.display.Image object>"
      ]
     },
     "execution_count": 12,
     "metadata": {},
     "output_type": "execute_result"
    }
   ],
   "source": [
    "# 코드셀에서 이미지 삽입 \n",
    "from IPython.display import Image\n",
    "\n",
    "Image(filename = 'iris_tree1.png')"
   ]
  },
  {
   "cell_type": "markdown",
   "id": "aea25631",
   "metadata": {},
   "source": [
    "## 세부 속성 제어 \n",
    "- plot_tree(모델명, max_depth=n, filled=True, feature_names=컬럼명리스트)\n",
    "- max_depth 트리의 깊이\n",
    "- filled=True 클래스에 맞게 색상화 \n",
    "- feature_names = 리스트 매개변수에 특성의 이름을 전달\n",
    "- class_names = 리스트. 타겟 클래스"
   ]
  },
  {
   "cell_type": "code",
   "execution_count": 13,
   "id": "1dcc1049",
   "metadata": {
    "ExecuteTime": {
     "end_time": "2021-12-08T01:16:57.081361Z",
     "start_time": "2021-12-08T01:16:57.068367Z"
    }
   },
   "outputs": [
    {
     "data": {
      "text/plain": [
       "array(['setosa', 'versicolor', 'virginica'], dtype='<U10')"
      ]
     },
     "execution_count": 13,
     "metadata": {},
     "output_type": "execute_result"
    }
   ],
   "source": [
    "# 라벨명\n",
    "iris_data.target_names"
   ]
  },
  {
   "cell_type": "code",
   "execution_count": 14,
   "id": "4c31951e",
   "metadata": {
    "ExecuteTime": {
     "end_time": "2021-12-08T01:16:57.096382Z",
     "start_time": "2021-12-08T01:16:57.082363Z"
    }
   },
   "outputs": [
    {
     "data": {
      "text/plain": [
       "['sepal length (cm)',\n",
       " 'sepal width (cm)',\n",
       " 'petal length (cm)',\n",
       " 'petal width (cm)']"
      ]
     },
     "execution_count": 14,
     "metadata": {},
     "output_type": "execute_result"
    }
   ],
   "source": [
    "# 컬럼명\n",
    "iris_data.feature_names"
   ]
  },
  {
   "cell_type": "code",
   "execution_count": 15,
   "id": "3963762b",
   "metadata": {
    "ExecuteTime": {
     "end_time": "2021-12-08T01:16:57.111387Z",
     "start_time": "2021-12-08T01:16:57.098367Z"
    }
   },
   "outputs": [
    {
     "data": {
      "text/plain": [
       "['sepal length (cm)',\n",
       " 'sepal width (cm)',\n",
       " 'petal length (cm)',\n",
       " 'petal width (cm)']"
      ]
     },
     "execution_count": 15,
     "metadata": {},
     "output_type": "execute_result"
    }
   ],
   "source": [
    "# 컬럼명\n",
    "iris_data.feature_names"
   ]
  },
  {
   "cell_type": "code",
   "execution_count": 16,
   "id": "731db0ae",
   "metadata": {
    "ExecuteTime": {
     "end_time": "2021-12-08T01:16:57.411524Z",
     "start_time": "2021-12-08T01:16:57.113368Z"
    }
   },
   "outputs": [
    {
     "data": {
      "image/png": "[encoded data removed]",
      "text/plain": [
       "<Figure size 720x504 with 1 Axes>"
      ]
     },
     "metadata": {
      "needs_background": "light"
     },
     "output_type": "display_data"
    }
   ],
   "source": [
    "plt.figure(figsize=(10,7))\n",
    "\n",
    "plot_tree(model_dt, max_depth=1, filled=True, feature_names=iris_data.feature_names)\n",
    "plt.savefig('iris_tree2.png')\n",
    "plt.show()"
   ]
  },
  {
   "cell_type": "code",
   "execution_count": 17,
   "id": "b7121b85",
   "metadata": {
    "ExecuteTime": {
     "end_time": "2021-12-08T01:16:57.426527Z",
     "start_time": "2021-12-08T01:16:57.413525Z"
    }
   },
   "outputs": [
    {
     "data": {
      "text/html": [
       "<div>\n",
       "<style scoped>\n",
       "    .dataframe tbody tr th:only-of-type {\n",
       "        vertical-align: middle;\n",
       "    }\n",
       "\n",
       "    .dataframe tbody tr th {\n",
       "        vertical-align: top;\n",
       "    }\n",
       "\n",
       "    .dataframe thead th {\n",
       "        text-align: right;\n",
       "    }\n",
       "</style>\n",
       "<table border=\"1\" class=\"dataframe\">\n",
       "  <thead>\n",
       "    <tr style=\"text-align: right;\">\n",
       "      <th></th>\n",
       "      <th>sepal length (cm)</th>\n",
       "      <th>sepal width (cm)</th>\n",
       "      <th>petal length (cm)</th>\n",
       "      <th>petal width (cm)</th>\n",
       "      <th>label</th>\n",
       "    </tr>\n",
       "  </thead>\n",
       "  <tbody>\n",
       "    <tr>\n",
       "      <th>0</th>\n",
       "      <td>5.1</td>\n",
       "      <td>3.5</td>\n",
       "      <td>1.4</td>\n",
       "      <td>0.2</td>\n",
       "      <td>0</td>\n",
       "    </tr>\n",
       "    <tr>\n",
       "      <th>1</th>\n",
       "      <td>4.9</td>\n",
       "      <td>3.0</td>\n",
       "      <td>1.4</td>\n",
       "      <td>0.2</td>\n",
       "      <td>0</td>\n",
       "    </tr>\n",
       "    <tr>\n",
       "      <th>2</th>\n",
       "      <td>4.7</td>\n",
       "      <td>3.2</td>\n",
       "      <td>1.3</td>\n",
       "      <td>0.2</td>\n",
       "      <td>0</td>\n",
       "    </tr>\n",
       "    <tr>\n",
       "      <th>3</th>\n",
       "      <td>4.6</td>\n",
       "      <td>3.1</td>\n",
       "      <td>1.5</td>\n",
       "      <td>0.2</td>\n",
       "      <td>0</td>\n",
       "    </tr>\n",
       "    <tr>\n",
       "      <th>4</th>\n",
       "      <td>5.0</td>\n",
       "      <td>3.6</td>\n",
       "      <td>1.4</td>\n",
       "      <td>0.2</td>\n",
       "      <td>0</td>\n",
       "    </tr>\n",
       "  </tbody>\n",
       "</table>\n",
       "</div>"
      ],
      "text/plain": [
       "   sepal length (cm)  sepal width (cm)  petal length (cm)  petal width (cm)  \\\n",
       "0                5.1               3.5                1.4               0.2   \n",
       "1                4.9               3.0                1.4               0.2   \n",
       "2                4.7               3.2                1.3               0.2   \n",
       "3                4.6               3.1                1.5               0.2   \n",
       "4                5.0               3.6                1.4               0.2   \n",
       "\n",
       "   label  \n",
       "0      0  \n",
       "1      0  \n",
       "2      0  \n",
       "3      0  \n",
       "4      0  "
      ]
     },
     "execution_count": 17,
     "metadata": {},
     "output_type": "execute_result"
    }
   ],
   "source": [
    "df_iris = pd.DataFrame(data=iris_data.data, columns=iris_data.feature_names)\n",
    "df_iris['label'] = iris_data.target\n",
    "df_iris.head()"
   ]
  },
  {
   "cell_type": "code",
   "execution_count": 18,
   "id": "31ff5061",
   "metadata": {
    "ExecuteTime": {
     "end_time": "2021-12-08T01:16:57.441532Z",
     "start_time": "2021-12-08T01:16:57.427528Z"
    }
   },
   "outputs": [
    {
     "data": {
      "text/html": [
       "<div>\n",
       "<style scoped>\n",
       "    .dataframe tbody tr th:only-of-type {\n",
       "        vertical-align: middle;\n",
       "    }\n",
       "\n",
       "    .dataframe tbody tr th {\n",
       "        vertical-align: top;\n",
       "    }\n",
       "\n",
       "    .dataframe thead th {\n",
       "        text-align: right;\n",
       "    }\n",
       "</style>\n",
       "<table border=\"1\" class=\"dataframe\">\n",
       "  <thead>\n",
       "    <tr style=\"text-align: right;\">\n",
       "      <th></th>\n",
       "      <th>sepal length (cm)</th>\n",
       "      <th>sepal width (cm)</th>\n",
       "      <th>petal length (cm)</th>\n",
       "      <th>petal width (cm)</th>\n",
       "      <th>label</th>\n",
       "    </tr>\n",
       "  </thead>\n",
       "  <tbody>\n",
       "    <tr>\n",
       "      <th>0</th>\n",
       "      <td>5.4</td>\n",
       "      <td>3.9</td>\n",
       "      <td>1.7</td>\n",
       "      <td>0.4</td>\n",
       "      <td>0</td>\n",
       "    </tr>\n",
       "    <tr>\n",
       "      <th>1</th>\n",
       "      <td>5.0</td>\n",
       "      <td>3.3</td>\n",
       "      <td>1.4</td>\n",
       "      <td>0.2</td>\n",
       "      <td>0</td>\n",
       "    </tr>\n",
       "    <tr>\n",
       "      <th>2</th>\n",
       "      <td>4.4</td>\n",
       "      <td>2.9</td>\n",
       "      <td>1.4</td>\n",
       "      <td>0.2</td>\n",
       "      <td>0</td>\n",
       "    </tr>\n",
       "    <tr>\n",
       "      <th>3</th>\n",
       "      <td>6.1</td>\n",
       "      <td>2.8</td>\n",
       "      <td>4.0</td>\n",
       "      <td>1.3</td>\n",
       "      <td>1</td>\n",
       "    </tr>\n",
       "    <tr>\n",
       "      <th>4</th>\n",
       "      <td>5.7</td>\n",
       "      <td>2.8</td>\n",
       "      <td>4.5</td>\n",
       "      <td>1.3</td>\n",
       "      <td>1</td>\n",
       "    </tr>\n",
       "  </tbody>\n",
       "</table>\n",
       "</div>"
      ],
      "text/plain": [
       "   sepal length (cm)  sepal width (cm)  petal length (cm)  petal width (cm)  \\\n",
       "0                5.4               3.9                1.7               0.4   \n",
       "1                5.0               3.3                1.4               0.2   \n",
       "2                4.4               2.9                1.4               0.2   \n",
       "3                6.1               2.8                4.0               1.3   \n",
       "4                5.7               2.8                4.5               1.3   \n",
       "\n",
       "   label  \n",
       "0      0  \n",
       "1      0  \n",
       "2      0  \n",
       "3      1  \n",
       "4      1  "
      ]
     },
     "execution_count": 18,
     "metadata": {},
     "output_type": "execute_result"
    }
   ],
   "source": [
    "X_train_df = pd.DataFrame(data=X_train, columns=iris_data.feature_names) \n",
    "X_train_df['label'] = y_train\n",
    "X_train_df.head()"
   ]
  },
  {
   "cell_type": "code",
   "execution_count": 19,
   "id": "9137fcce",
   "metadata": {
    "ExecuteTime": {
     "end_time": "2021-12-08T01:16:57.711627Z",
     "start_time": "2021-12-08T01:16:57.442531Z"
    }
   },
   "outputs": [
    {
     "data": {
      "image/png": "[encoded data removed]",
      "text/plain": [
       "<Figure size 720x504 with 1 Axes>"
      ]
     },
     "metadata": {
      "needs_background": "light"
     },
     "output_type": "display_data"
    }
   ],
   "source": [
    "plt.figure(figsize=(10,7))\n",
    "sns.scatterplot(x='petal length (cm)', y='petal width (cm)', hue='label', data=X_train_df);"
   ]
  },
  {
   "cell_type": "code",
   "execution_count": 20,
   "id": "9c03897a",
   "metadata": {
    "ExecuteTime": {
     "end_time": "2021-12-08T01:16:57.996699Z",
     "start_time": "2021-12-08T01:16:57.713629Z"
    }
   },
   "outputs": [
    {
     "data": {
      "image/png": "[encoded data removed]",
      "text/plain": [
       "<Figure size 720x504 with 1 Axes>"
      ]
     },
     "metadata": {
      "needs_background": "light"
     },
     "output_type": "display_data"
    }
   ],
   "source": [
    "plt.figure(figsize=(10,7))\n",
    "sns.scatterplot(x='sepal length (cm)', y='sepal width (cm)', hue='label', data=X_train_df);"
   ]
  },
  {
   "cell_type": "markdown",
   "id": "c9179cc6",
   "metadata": {},
   "source": [
    "## 가지치기\n",
    "\n",
    "- 결정트리의 하이퍼파라미터를 지정하여 트리를 제한한다. \n",
    "- 시간 단축 및 과적합 방지 "
   ]
  },
  {
   "cell_type": "code",
   "execution_count": 21,
   "id": "aec24316",
   "metadata": {
    "ExecuteTime": {
     "end_time": "2021-12-08T01:16:58.642834Z",
     "start_time": "2021-12-08T01:16:57.998702Z"
    }
   },
   "outputs": [
    {
     "data": {
      "image/png": "[encoded data removed]",
      "text/plain": [
       "<Figure size 1440x1008 with 1 Axes>"
      ]
     },
     "metadata": {
      "needs_background": "light"
     },
     "output_type": "display_data"
    }
   ],
   "source": [
    "plt.figure(figsize=(20,14))\n",
    "plot_tree(model_dt, max_depth=3, filled=True, feature_names=iris_data.feature_names)\n",
    "plt.savefig('iris_tree3.png')\n",
    "plt.show()"
   ]
  },
  {
   "cell_type": "markdown",
   "id": "8f1273bf",
   "metadata": {},
   "source": [
    "## 중요 속성\n",
    "\n",
    "- feature_importances_"
   ]
  },
  {
   "cell_type": "code",
   "execution_count": 22,
   "id": "229f164f",
   "metadata": {
    "ExecuteTime": {
     "end_time": "2021-12-08T01:16:58.657830Z",
     "start_time": "2021-12-08T01:16:58.646820Z"
    }
   },
   "outputs": [
    {
     "data": {
      "text/plain": [
       "array([0.01904762, 0.        , 0.42172619, 0.55922619])"
      ]
     },
     "execution_count": 22,
     "metadata": {},
     "output_type": "execute_result"
    }
   ],
   "source": [
    "model_dt.feature_importances_"
   ]
  },
  {
   "cell_type": "code",
   "execution_count": 23,
   "id": "661517d9",
   "metadata": {
    "ExecuteTime": {
     "end_time": "2021-12-08T01:16:58.672835Z",
     "start_time": "2021-12-08T01:16:58.659824Z"
    }
   },
   "outputs": [
    {
     "name": "stdout",
     "output_type": "stream",
     "text": [
      "sepal length (cm) : 0.019\n",
      "sepal width (cm) : 0.000\n",
      "petal length (cm) : 0.422\n",
      "petal width (cm) : 0.559\n"
     ]
    }
   ],
   "source": [
    "for name, value in zip(iris_data.feature_names , model_dt.feature_importances_):\n",
    "    print('{0} : {1:.3f}'.format(name, value))"
   ]
  },
  {
   "cell_type": "code",
   "execution_count": 24,
   "id": "1b93f633",
   "metadata": {
    "ExecuteTime": {
     "end_time": "2021-12-08T01:16:58.687844Z",
     "start_time": "2021-12-08T01:16:58.673836Z"
    }
   },
   "outputs": [],
   "source": [
    "import matplotlib.pyplot as plt\n",
    "plt.style.use(\"ggplot\")"
   ]
  },
  {
   "cell_type": "code",
   "execution_count": 25,
   "id": "e9c13b2a",
   "metadata": {
    "ExecuteTime": {
     "end_time": "2021-12-08T01:16:58.807874Z",
     "start_time": "2021-12-08T01:16:58.689830Z"
    }
   },
   "outputs": [
    {
     "data": {
      "text/plain": [
       "<AxesSubplot:>"
      ]
     },
     "execution_count": 25,
     "metadata": {},
     "output_type": "execute_result"
    },
    {
     "data": {
      "image/png": "[encoded data removed]",
      "text/plain": [
       "<Figure size 432x288 with 1 Axes>"
      ]
     },
     "metadata": {},
     "output_type": "display_data"
    }
   ],
   "source": [
    "sns.barplot(x=model_dt.feature_importances_ , y=iris_data.feature_names)"
   ]
  },
  {
   "cell_type": "code",
   "execution_count": 26,
   "id": "6cd6ac76",
   "metadata": {
    "ExecuteTime": {
     "end_time": "2021-12-08T01:16:58.822863Z",
     "start_time": "2021-12-08T01:16:58.809858Z"
    }
   },
   "outputs": [],
   "source": [
    "from sklearn.metrics import classification_report"
   ]
  },
  {
   "cell_type": "code",
   "execution_count": 27,
   "id": "8af8699e",
   "metadata": {
    "ExecuteTime": {
     "end_time": "2021-12-08T01:16:58.837881Z",
     "start_time": "2021-12-08T01:16:58.824876Z"
    }
   },
   "outputs": [
    {
     "name": "stdout",
     "output_type": "stream",
     "text": [
      "0.9777777777777777\n",
      "1.0\n"
     ]
    }
   ],
   "source": [
    "from sklearn.metrics import accuracy_score\n",
    "print(accuracy_score(y_test , model_dt.predict(X_test)))\n",
    "print(accuracy_score(y_train , model_dt.predict(X_train)))"
   ]
  },
  {
   "cell_type": "code",
   "execution_count": 28,
   "id": "6b4bfc6d",
   "metadata": {
    "ExecuteTime": {
     "end_time": "2021-12-08T01:16:58.852885Z",
     "start_time": "2021-12-08T01:16:58.838879Z"
    }
   },
   "outputs": [
    {
     "name": "stdout",
     "output_type": "stream",
     "text": [
      "              precision    recall  f1-score   support\n",
      "\n",
      "           0       1.00      1.00      1.00        15\n",
      "           1       0.94      1.00      0.97        15\n",
      "           2       1.00      0.93      0.97        15\n",
      "\n",
      "    accuracy                           0.98        45\n",
      "   macro avg       0.98      0.98      0.98        45\n",
      "weighted avg       0.98      0.98      0.98        45\n",
      "\n"
     ]
    }
   ],
   "source": [
    "print(classification_report(y_test, model_dt.predict(X_test)))"
   ]
  },
  {
   "cell_type": "code",
   "execution_count": 29,
   "id": "fe97660e",
   "metadata": {
    "ExecuteTime": {
     "end_time": "2021-12-08T01:16:58.867888Z",
     "start_time": "2021-12-08T01:16:58.854869Z"
    }
   },
   "outputs": [
    {
     "data": {
      "text/plain": [
       "{'ccp_alpha': 0.0,\n",
       " 'class_weight': None,\n",
       " 'criterion': 'gini',\n",
       " 'max_depth': None,\n",
       " 'max_features': None,\n",
       " 'max_leaf_nodes': None,\n",
       " 'min_impurity_decrease': 0.0,\n",
       " 'min_impurity_split': None,\n",
       " 'min_samples_leaf': 1,\n",
       " 'min_samples_split': 2,\n",
       " 'min_weight_fraction_leaf': 0.0,\n",
       " 'random_state': 11,\n",
       " 'splitter': 'best'}"
      ]
     },
     "execution_count": 29,
     "metadata": {},
     "output_type": "execute_result"
    }
   ],
   "source": [
    "model_dt.get_params()"
   ]
  },
  {
   "cell_type": "markdown",
   "id": "ac71f7d7",
   "metadata": {
    "ExecuteTime": {
     "end_time": "2021-12-07T06:52:37.504315Z",
     "start_time": "2021-12-07T06:52:37.501306Z"
    }
   },
   "source": [
    "## 그리드서치 적용 "
   ]
  },
  {
   "cell_type": "code",
   "execution_count": 30,
   "id": "d9270683",
   "metadata": {
    "ExecuteTime": {
     "end_time": "2021-12-08T01:16:58.942888Z",
     "start_time": "2021-12-08T01:16:58.869872Z"
    }
   },
   "outputs": [
    {
     "name": "stdout",
     "output_type": "stream",
     "text": [
      "Fitting 5 folds for each of 8 candidates, totalling 40 fits\n",
      "GridSearchCV 최고 평균 정확도 수치:0.9238\n",
      "GridSearchCV 최적 하이퍼 파라미터: {'max_depth': 6}\n"
     ]
    }
   ],
   "source": [
    "from sklearn.model_selection import GridSearchCV\n",
    "\n",
    "params = {\n",
    "    'max_depth' : [ 4, 6, 8 ,10, 12, 16 ,20, 24]\n",
    "}\n",
    "\n",
    "\n",
    "grid_cv = GridSearchCV(model_dt, param_grid=params, scoring='accuracy', cv=5, verbose=1 )\n",
    "grid_cv.fit(X_train , y_train)\n",
    "\n",
    "print('GridSearchCV 최고 평균 정확도 수치:{0:.4f}'.format(grid_cv.best_score_))\n",
    "print('GridSearchCV 최적 하이퍼 파라미터:', grid_cv.best_params_)\n"
   ]
  },
  {
   "cell_type": "code",
   "execution_count": 31,
   "id": "db032a37",
   "metadata": {
    "ExecuteTime": {
     "end_time": "2021-12-08T01:16:58.957948Z",
     "start_time": "2021-12-08T01:16:58.944889Z"
    }
   },
   "outputs": [
    {
     "data": {
      "text/plain": [
       "DecisionTreeClassifier(max_depth=6)"
      ]
     },
     "execution_count": 31,
     "metadata": {},
     "output_type": "execute_result"
    }
   ],
   "source": [
    "model_dt2 = DecisionTreeClassifier(max_depth=6)\n",
    "model_dt2.fit(X_train , y_train)"
   ]
  },
  {
   "cell_type": "code",
   "execution_count": 32,
   "id": "3d92aa30",
   "metadata": {
    "ExecuteTime": {
     "end_time": "2021-12-08T01:16:58.972916Z",
     "start_time": "2021-12-08T01:16:58.958904Z"
    }
   },
   "outputs": [
    {
     "name": "stdout",
     "output_type": "stream",
     "text": [
      "              precision    recall  f1-score   support\n",
      "\n",
      "           0       1.00      1.00      1.00        15\n",
      "           1       0.94      1.00      0.97        15\n",
      "           2       1.00      0.93      0.97        15\n",
      "\n",
      "    accuracy                           0.98        45\n",
      "   macro avg       0.98      0.98      0.98        45\n",
      "weighted avg       0.98      0.98      0.98        45\n",
      "\n"
     ]
    }
   ],
   "source": [
    "from sklearn.metrics import classification_report\n",
    "print(classification_report(y_test, model_dt2.predict(X_test)))"
   ]
  },
  {
   "cell_type": "code",
   "execution_count": 33,
   "id": "1e2d7915",
   "metadata": {
    "ExecuteTime": {
     "end_time": "2021-12-08T01:16:58.987919Z",
     "start_time": "2021-12-08T01:16:58.973915Z"
    }
   },
   "outputs": [
    {
     "data": {
      "text/plain": [
       "array([[15,  0,  0],\n",
       "       [ 0, 15,  0],\n",
       "       [ 0,  1, 14]], dtype=int64)"
      ]
     },
     "execution_count": 33,
     "metadata": {},
     "output_type": "execute_result"
    }
   ],
   "source": [
    "from sklearn.metrics import confusion_matrix\n",
    "\n",
    "confusion_matrix(y_test, model_dt2.predict(X_test))"
   ]
  },
  {
   "cell_type": "code",
   "execution_count": 34,
   "id": "4180eef0",
   "metadata": {
    "ExecuteTime": {
     "end_time": "2021-12-08T01:16:59.963229Z",
     "start_time": "2021-12-08T01:16:58.988919Z"
    }
   },
   "outputs": [
    {
     "data": {
      "image/png": "[encoded data removed]",
      "text/plain": [
       "<Figure size 1440x1008 with 1 Axes>"
      ]
     },
     "metadata": {},
     "output_type": "display_data"
    }
   ],
   "source": [
    "plt.figure(figsize=(20,14))\n",
    "plot_tree(model_dt2, max_depth=8, filled=True, feature_names=iris_data.feature_names)\n",
    "plt.savefig('iris_tree5.png')\n",
    "plt.show()"
   ]
  },
  {
   "cell_type": "code",
   "execution_count": 35,
   "id": "ea146e04",
   "metadata": {
    "ExecuteTime": {
     "end_time": "2021-12-08T01:16:59.978249Z",
     "start_time": "2021-12-08T01:16:59.964229Z"
    }
   },
   "outputs": [
    {
     "name": "stdout",
     "output_type": "stream",
     "text": [
      "['__abstractmethods__', '__class__', '__delattr__', '__dict__', '__dir__', '__doc__', '__eq__', '__format__', '__ge__', '__getattribute__', '__getstate__', '__gt__', '__hash__', '__init__', '__init_subclass__', '__le__', '__lt__', '__module__', '__ne__', '__new__', '__reduce__', '__reduce_ex__', '__repr__', '__setattr__', '__setstate__', '__sizeof__', '__str__', '__subclasshook__', '__weakref__', '_abc_impl', '_check_is_fitted', '_check_n_features', '_check_refit_for_multimetric', '_estimator_type', '_format_results', '_get_param_names', '_get_tags', '_more_tags', '_pairwise', '_repr_html_', '_repr_html_inner', '_repr_mimebundle_', '_required_parameters', '_run_search', '_validate_data', 'best_estimator_', 'best_index_', 'best_params_', 'best_score_', 'classes_', 'cv', 'cv_results_', 'decision_function', 'error_score', 'estimator', 'fit', 'get_params', 'inverse_transform', 'multimetric_', 'n_features_in_', 'n_jobs', 'n_splits_', 'param_grid', 'pre_dispatch', 'predict', 'predict_log_proba', 'predict_proba', 'refit', 'refit_time_', 'return_train_score', 'score', 'score_samples', 'scorer_', 'scoring', 'set_params', 'transform', 'verbose']\n"
     ]
    }
   ],
   "source": [
    "print(dir(grid_cv))"
   ]
  },
  {
   "cell_type": "code",
   "execution_count": 36,
   "id": "30311eec",
   "metadata": {
    "ExecuteTime": {
     "end_time": "2021-12-08T01:16:59.993235Z",
     "start_time": "2021-12-08T01:16:59.980231Z"
    }
   },
   "outputs": [
    {
     "name": "stdout",
     "output_type": "stream",
     "text": [
      "max_depth = 4 정확도: 0.9778\n",
      "max_depth = 6 정확도: 0.9778\n",
      "max_depth = 8 정확도: 0.9778\n",
      "max_depth = 10 정확도: 0.9778\n",
      "max_depth = 12 정확도: 0.9778\n",
      "max_depth = 16 정확도: 0.9778\n",
      "max_depth = 20 정확도: 0.9778\n",
      "max_depth = 24 정확도: 0.9778\n"
     ]
    }
   ],
   "source": [
    "max_depths = [ 4, 6, 8 ,10, 12, 16 ,20, 24]\n",
    "\n",
    "for depth in max_depths:\n",
    "    dt_clf = DecisionTreeClassifier(max_depth=depth, random_state=156)\n",
    "    dt_clf.fit(X_train , y_train)\n",
    "    pred = dt_clf.predict(X_test)\n",
    "    accuracy = accuracy_score(y_test , pred)\n",
    "    print('max_depth = {0} 정확도: {1:.4f}'.format(depth , accuracy))"
   ]
  },
  {
   "cell_type": "code",
   "execution_count": 37,
   "id": "3c4b3ed1",
   "metadata": {
    "ExecuteTime": {
     "end_time": "2021-12-08T01:17:00.053259Z",
     "start_time": "2021-12-08T01:16:59.994235Z"
    }
   },
   "outputs": [
    {
     "name": "stdout",
     "output_type": "stream",
     "text": [
      "Fitting 5 folds for each of 8 candidates, totalling 40 fits\n",
      "GridSearchCV 최고 평균 정확도 수치: 0.9333\n",
      "GridSearchCV 최적 하이퍼 파라미터: {'max_depth': 8, 'min_samples_split': 16}\n"
     ]
    }
   ],
   "source": [
    "params = {\n",
    "    'max_depth' : [ 8 , 12, 16 ,20], \n",
    "    'min_samples_split' : [16,24],\n",
    "}\n",
    "\n",
    "grid_cv = GridSearchCV(dt_clf, param_grid=params, scoring='accuracy', cv=5, verbose=1 )\n",
    "grid_cv.fit(X_train , y_train)\n",
    "print('GridSearchCV 최고 평균 정확도 수치: {0:.4f}'.format(grid_cv.best_score_))\n",
    "print('GridSearchCV 최적 하이퍼 파라미터:', grid_cv.best_params_)\n"
   ]
  },
  {
   "cell_type": "code",
   "execution_count": 38,
   "id": "05d4f280",
   "metadata": {
    "ExecuteTime": {
     "end_time": "2021-12-08T01:17:00.068261Z",
     "start_time": "2021-12-08T01:17:00.054258Z"
    }
   },
   "outputs": [
    {
     "name": "stdout",
     "output_type": "stream",
     "text": [
      "결정 트리 예측 정확도:0.9778\n"
     ]
    }
   ],
   "source": [
    "best_df_clf = grid_cv.best_estimator_\n",
    "\n",
    "pred1 = best_df_clf.predict(X_test)\n",
    "accuracy = accuracy_score(y_test , pred1)\n",
    "print('결정 트리 예측 정확도:{0:.4f}'.format(accuracy))"
   ]
  },
  {
   "cell_type": "markdown",
   "id": "0c5831bb",
   "metadata": {},
   "source": [
    "# 퀴즈 1\n",
    "\n",
    "- 피마 인디언 당뇨병(Pima Indian Diabets) 데이터 세트를 이용해 당뇨병 여부를 판단하는 머신러닝 예측 모델을 수립하고  테스트 하여라. \n",
    "- 캐글 사이트에서 로그인후 다운로드 \n",
    "https://www.kaggle.com/uciml/pima-indians-diabetes-database#\n"
   ]
  },
  {
   "cell_type": "raw",
   "id": "eb62662d",
   "metadata": {},
   "source": [
    " 1) diabetes.csv 파일을 이용하여 데이타프레임을 생성하여라 \n",
    " 2) 결측값이 있는지 확인하여라. \n",
    " 3) 각 피처별 최소값이 0으로 측정되는 데이타값을 평균값으로 변경하여라. \n",
    " 4) StandardScaler()를 이용하여 스케일링하여라. \n",
    " 5) 학습 데이타셋과 테스트 데이타셋으로 분리시키고 모델을 생성한 후 머신러닝 예측 모델을 수립하고 학습하여라 \n",
    "\n",
    "X_train, X_test, y_train, y_test = train_test_split(X, y, test_size = 0.2,random_state = 156, stratify=y)\n",
    "model_dt = DecisionTreeClassifier(random_state=11)\n",
    "\n",
    "6) 오차행렬, 재현율, 정밀도, 정확도, F1 Score 등의 평가지표를 출력하여라 \n",
    "\n",
    "7) 아래의 소스를 참조하여 그리드서치를 적용시켜 최고의 하이퍼파라미터 예측 모델을 생성하여라. \n",
    "\n",
    "model_dt = DecisionTreeClassifier(random_state=11)\n",
    "\n",
    "parameters = {'max_depth':[2,3,5,10] }\n",
    "\n",
    "model_dt_grid = GridSearchCV(model_dt , param_grid=parameters , scoring='accuracy' , cv=5)"
   ]
  },
  {
   "cell_type": "markdown",
   "id": "2c11ffd8",
   "metadata": {},
   "source": [
    "* Pregnancies: 임신 횟수\n",
    "* Glucose: 포도당 부하 검사 수치\n",
    "* BloodPressure: 혈압(mm Hg)\n",
    "* SkinThickness: 팔 삼두근 뒤쪽의 피하지방 측정값(mm)\n",
    "* Insulin: 혈청 인슐린(mu U/ml)\n",
    "* BMI: 체질량지수(체중(kg)/(키(m))^2)\n",
    "* DiabetesPedigreeFunction: 당뇨 내력 가중치 값\n",
    "* Age: 나이\n",
    "* Outcome: 클래스 결정 값(0 또는 1)"
   ]
  },
  {
   "cell_type": "code",
   "execution_count": 39,
   "id": "a33e9e9f",
   "metadata": {
    "ExecuteTime": {
     "end_time": "2021-12-08T01:17:00.098269Z",
     "start_time": "2021-12-08T01:17:00.070261Z"
    }
   },
   "outputs": [],
   "source": [
    "from sklearn.linear_model import LogisticRegression\n",
    "from sklearn.neighbors import KNeighborsClassifier\n",
    "from sklearn.tree import DecisionTreeClassifier\n",
    "from sklearn.ensemble import RandomForestClassifier\n",
    "from sklearn.linear_model import LogisticRegression\n",
    "\n",
    "\n",
    "from sklearn.model_selection import train_test_split, cross_val_score, GridSearchCV\n",
    "from sklearn.preprocessing import StandardScaler\n",
    "# from sklearn.model_selection import cross_val_score \n",
    "# from sklearn.model_selection import GridSearchCV\n",
    "\n",
    "from sklearn.metrics import accuracy_score, precision_score, recall_score\n",
    "from sklearn.metrics import f1_score, confusion_matrix, precision_recall_curve, roc_curve, roc_auc_score\n",
    "from sklearn.metrics import classification_report\n"
   ]
  },
  {
   "cell_type": "code",
   "execution_count": 40,
   "id": "d89128c0",
   "metadata": {
    "ExecuteTime": {
     "end_time": "2021-12-08T01:17:00.113272Z",
     "start_time": "2021-12-08T01:17:00.100271Z"
    }
   },
   "outputs": [],
   "source": [
    "# 1) diabetes.csv 파일을 이용하여 데이타프레임을 생성하여라 \n",
    "pima = pd.read_csv('~/dropbox/python숙달/data/diabetes.csv')"
   ]
  },
  {
   "cell_type": "code",
   "execution_count": 41,
   "id": "e560b6e1",
   "metadata": {
    "ExecuteTime": {
     "end_time": "2021-12-08T01:17:00.128274Z",
     "start_time": "2021-12-08T01:17:00.115273Z"
    }
   },
   "outputs": [],
   "source": [
    "# 2) 결측값이 있는지 확인하여라. "
   ]
  },
  {
   "cell_type": "code",
   "execution_count": 42,
   "id": "e0fa8639",
   "metadata": {
    "ExecuteTime": {
     "end_time": "2021-12-08T01:17:00.143277Z",
     "start_time": "2021-12-08T01:17:00.130275Z"
    }
   },
   "outputs": [
    {
     "data": {
      "text/plain": [
       "Pregnancies                 0\n",
       "Glucose                     0\n",
       "BloodPressure               0\n",
       "SkinThickness               0\n",
       "Insulin                     0\n",
       "BMI                         0\n",
       "DiabetesPedigreeFunction    0\n",
       "Age                         0\n",
       "Outcome                     0\n",
       "dtype: int64"
      ]
     },
     "execution_count": 42,
     "metadata": {},
     "output_type": "execute_result"
    }
   ],
   "source": [
    "pima.isna().sum()"
   ]
  },
  {
   "cell_type": "code",
   "execution_count": 43,
   "id": "c8e9949b",
   "metadata": {
    "ExecuteTime": {
     "end_time": "2021-12-08T01:17:00.158281Z",
     "start_time": "2021-12-08T01:17:00.144278Z"
    }
   },
   "outputs": [
    {
     "data": {
      "text/html": [
       "<div>\n",
       "<style scoped>\n",
       "    .dataframe tbody tr th:only-of-type {\n",
       "        vertical-align: middle;\n",
       "    }\n",
       "\n",
       "    .dataframe tbody tr th {\n",
       "        vertical-align: top;\n",
       "    }\n",
       "\n",
       "    .dataframe thead th {\n",
       "        text-align: right;\n",
       "    }\n",
       "</style>\n",
       "<table border=\"1\" class=\"dataframe\">\n",
       "  <thead>\n",
       "    <tr style=\"text-align: right;\">\n",
       "      <th></th>\n",
       "      <th>Pregnancies</th>\n",
       "      <th>Glucose</th>\n",
       "      <th>BloodPressure</th>\n",
       "      <th>SkinThickness</th>\n",
       "      <th>Insulin</th>\n",
       "      <th>BMI</th>\n",
       "      <th>DiabetesPedigreeFunction</th>\n",
       "      <th>Age</th>\n",
       "      <th>Outcome</th>\n",
       "    </tr>\n",
       "  </thead>\n",
       "  <tbody>\n",
       "    <tr>\n",
       "      <th>0</th>\n",
       "      <td>6</td>\n",
       "      <td>148</td>\n",
       "      <td>72</td>\n",
       "      <td>35</td>\n",
       "      <td>0</td>\n",
       "      <td>33.6</td>\n",
       "      <td>0.627</td>\n",
       "      <td>50</td>\n",
       "      <td>1</td>\n",
       "    </tr>\n",
       "    <tr>\n",
       "      <th>1</th>\n",
       "      <td>1</td>\n",
       "      <td>85</td>\n",
       "      <td>66</td>\n",
       "      <td>29</td>\n",
       "      <td>0</td>\n",
       "      <td>26.6</td>\n",
       "      <td>0.351</td>\n",
       "      <td>31</td>\n",
       "      <td>0</td>\n",
       "    </tr>\n",
       "    <tr>\n",
       "      <th>2</th>\n",
       "      <td>8</td>\n",
       "      <td>183</td>\n",
       "      <td>64</td>\n",
       "      <td>0</td>\n",
       "      <td>0</td>\n",
       "      <td>23.3</td>\n",
       "      <td>0.672</td>\n",
       "      <td>32</td>\n",
       "      <td>1</td>\n",
       "    </tr>\n",
       "    <tr>\n",
       "      <th>3</th>\n",
       "      <td>1</td>\n",
       "      <td>89</td>\n",
       "      <td>66</td>\n",
       "      <td>23</td>\n",
       "      <td>94</td>\n",
       "      <td>28.1</td>\n",
       "      <td>0.167</td>\n",
       "      <td>21</td>\n",
       "      <td>0</td>\n",
       "    </tr>\n",
       "    <tr>\n",
       "      <th>4</th>\n",
       "      <td>0</td>\n",
       "      <td>137</td>\n",
       "      <td>40</td>\n",
       "      <td>35</td>\n",
       "      <td>168</td>\n",
       "      <td>43.1</td>\n",
       "      <td>2.288</td>\n",
       "      <td>33</td>\n",
       "      <td>1</td>\n",
       "    </tr>\n",
       "    <tr>\n",
       "      <th>...</th>\n",
       "      <td>...</td>\n",
       "      <td>...</td>\n",
       "      <td>...</td>\n",
       "      <td>...</td>\n",
       "      <td>...</td>\n",
       "      <td>...</td>\n",
       "      <td>...</td>\n",
       "      <td>...</td>\n",
       "      <td>...</td>\n",
       "    </tr>\n",
       "    <tr>\n",
       "      <th>763</th>\n",
       "      <td>10</td>\n",
       "      <td>101</td>\n",
       "      <td>76</td>\n",
       "      <td>48</td>\n",
       "      <td>180</td>\n",
       "      <td>32.9</td>\n",
       "      <td>0.171</td>\n",
       "      <td>63</td>\n",
       "      <td>0</td>\n",
       "    </tr>\n",
       "    <tr>\n",
       "      <th>764</th>\n",
       "      <td>2</td>\n",
       "      <td>122</td>\n",
       "      <td>70</td>\n",
       "      <td>27</td>\n",
       "      <td>0</td>\n",
       "      <td>36.8</td>\n",
       "      <td>0.340</td>\n",
       "      <td>27</td>\n",
       "      <td>0</td>\n",
       "    </tr>\n",
       "    <tr>\n",
       "      <th>765</th>\n",
       "      <td>5</td>\n",
       "      <td>121</td>\n",
       "      <td>72</td>\n",
       "      <td>23</td>\n",
       "      <td>112</td>\n",
       "      <td>26.2</td>\n",
       "      <td>0.245</td>\n",
       "      <td>30</td>\n",
       "      <td>0</td>\n",
       "    </tr>\n",
       "    <tr>\n",
       "      <th>766</th>\n",
       "      <td>1</td>\n",
       "      <td>126</td>\n",
       "      <td>60</td>\n",
       "      <td>0</td>\n",
       "      <td>0</td>\n",
       "      <td>30.1</td>\n",
       "      <td>0.349</td>\n",
       "      <td>47</td>\n",
       "      <td>1</td>\n",
       "    </tr>\n",
       "    <tr>\n",
       "      <th>767</th>\n",
       "      <td>1</td>\n",
       "      <td>93</td>\n",
       "      <td>70</td>\n",
       "      <td>31</td>\n",
       "      <td>0</td>\n",
       "      <td>30.4</td>\n",
       "      <td>0.315</td>\n",
       "      <td>23</td>\n",
       "      <td>0</td>\n",
       "    </tr>\n",
       "  </tbody>\n",
       "</table>\n",
       "<p>768 rows × 9 columns</p>\n",
       "</div>"
      ],
      "text/plain": [
       "     Pregnancies  Glucose  BloodPressure  SkinThickness  Insulin   BMI  \\\n",
       "0              6      148             72             35        0  33.6   \n",
       "1              1       85             66             29        0  26.6   \n",
       "2              8      183             64              0        0  23.3   \n",
       "3              1       89             66             23       94  28.1   \n",
       "4              0      137             40             35      168  43.1   \n",
       "..           ...      ...            ...            ...      ...   ...   \n",
       "763           10      101             76             48      180  32.9   \n",
       "764            2      122             70             27        0  36.8   \n",
       "765            5      121             72             23      112  26.2   \n",
       "766            1      126             60              0        0  30.1   \n",
       "767            1       93             70             31        0  30.4   \n",
       "\n",
       "     DiabetesPedigreeFunction  Age  Outcome  \n",
       "0                       0.627   50        1  \n",
       "1                       0.351   31        0  \n",
       "2                       0.672   32        1  \n",
       "3                       0.167   21        0  \n",
       "4                       2.288   33        1  \n",
       "..                        ...  ...      ...  \n",
       "763                     0.171   63        0  \n",
       "764                     0.340   27        0  \n",
       "765                     0.245   30        0  \n",
       "766                     0.349   47        1  \n",
       "767                     0.315   23        0  \n",
       "\n",
       "[768 rows x 9 columns]"
      ]
     },
     "execution_count": 43,
     "metadata": {},
     "output_type": "execute_result"
    }
   ],
   "source": [
    "pima"
   ]
  },
  {
   "cell_type": "code",
   "execution_count": 44,
   "id": "52b62270",
   "metadata": {
    "ExecuteTime": {
     "end_time": "2021-12-08T01:17:00.188305Z",
     "start_time": "2021-12-08T01:17:00.159281Z"
    }
   },
   "outputs": [
    {
     "data": {
      "text/html": [
       "<div>\n",
       "<style scoped>\n",
       "    .dataframe tbody tr th:only-of-type {\n",
       "        vertical-align: middle;\n",
       "    }\n",
       "\n",
       "    .dataframe tbody tr th {\n",
       "        vertical-align: top;\n",
       "    }\n",
       "\n",
       "    .dataframe thead th {\n",
       "        text-align: right;\n",
       "    }\n",
       "</style>\n",
       "<table border=\"1\" class=\"dataframe\">\n",
       "  <thead>\n",
       "    <tr style=\"text-align: right;\">\n",
       "      <th></th>\n",
       "      <th>Pregnancies</th>\n",
       "      <th>Glucose</th>\n",
       "      <th>BloodPressure</th>\n",
       "      <th>SkinThickness</th>\n",
       "      <th>Insulin</th>\n",
       "      <th>BMI</th>\n",
       "      <th>DiabetesPedigreeFunction</th>\n",
       "      <th>Age</th>\n",
       "      <th>Outcome</th>\n",
       "    </tr>\n",
       "  </thead>\n",
       "  <tbody>\n",
       "    <tr>\n",
       "      <th>count</th>\n",
       "      <td>768.000000</td>\n",
       "      <td>768.000000</td>\n",
       "      <td>768.000000</td>\n",
       "      <td>768.000000</td>\n",
       "      <td>768.000000</td>\n",
       "      <td>768.000000</td>\n",
       "      <td>768.000000</td>\n",
       "      <td>768.000000</td>\n",
       "      <td>768.000000</td>\n",
       "    </tr>\n",
       "    <tr>\n",
       "      <th>mean</th>\n",
       "      <td>3.845052</td>\n",
       "      <td>120.894531</td>\n",
       "      <td>69.105469</td>\n",
       "      <td>20.536458</td>\n",
       "      <td>79.799479</td>\n",
       "      <td>31.992578</td>\n",
       "      <td>0.471876</td>\n",
       "      <td>33.240885</td>\n",
       "      <td>0.348958</td>\n",
       "    </tr>\n",
       "    <tr>\n",
       "      <th>std</th>\n",
       "      <td>3.369578</td>\n",
       "      <td>31.972618</td>\n",
       "      <td>19.355807</td>\n",
       "      <td>15.952218</td>\n",
       "      <td>115.244002</td>\n",
       "      <td>7.884160</td>\n",
       "      <td>0.331329</td>\n",
       "      <td>11.760232</td>\n",
       "      <td>0.476951</td>\n",
       "    </tr>\n",
       "    <tr>\n",
       "      <th>min</th>\n",
       "      <td>0.000000</td>\n",
       "      <td>0.000000</td>\n",
       "      <td>0.000000</td>\n",
       "      <td>0.000000</td>\n",
       "      <td>0.000000</td>\n",
       "      <td>0.000000</td>\n",
       "      <td>0.078000</td>\n",
       "      <td>21.000000</td>\n",
       "      <td>0.000000</td>\n",
       "    </tr>\n",
       "    <tr>\n",
       "      <th>25%</th>\n",
       "      <td>1.000000</td>\n",
       "      <td>99.000000</td>\n",
       "      <td>62.000000</td>\n",
       "      <td>0.000000</td>\n",
       "      <td>0.000000</td>\n",
       "      <td>27.300000</td>\n",
       "      <td>0.243750</td>\n",
       "      <td>24.000000</td>\n",
       "      <td>0.000000</td>\n",
       "    </tr>\n",
       "    <tr>\n",
       "      <th>50%</th>\n",
       "      <td>3.000000</td>\n",
       "      <td>117.000000</td>\n",
       "      <td>72.000000</td>\n",
       "      <td>23.000000</td>\n",
       "      <td>30.500000</td>\n",
       "      <td>32.000000</td>\n",
       "      <td>0.372500</td>\n",
       "      <td>29.000000</td>\n",
       "      <td>0.000000</td>\n",
       "    </tr>\n",
       "    <tr>\n",
       "      <th>75%</th>\n",
       "      <td>6.000000</td>\n",
       "      <td>140.250000</td>\n",
       "      <td>80.000000</td>\n",
       "      <td>32.000000</td>\n",
       "      <td>127.250000</td>\n",
       "      <td>36.600000</td>\n",
       "      <td>0.626250</td>\n",
       "      <td>41.000000</td>\n",
       "      <td>1.000000</td>\n",
       "    </tr>\n",
       "    <tr>\n",
       "      <th>max</th>\n",
       "      <td>17.000000</td>\n",
       "      <td>199.000000</td>\n",
       "      <td>122.000000</td>\n",
       "      <td>99.000000</td>\n",
       "      <td>846.000000</td>\n",
       "      <td>67.100000</td>\n",
       "      <td>2.420000</td>\n",
       "      <td>81.000000</td>\n",
       "      <td>1.000000</td>\n",
       "    </tr>\n",
       "  </tbody>\n",
       "</table>\n",
       "</div>"
      ],
      "text/plain": [
       "       Pregnancies     Glucose  BloodPressure  SkinThickness     Insulin  \\\n",
       "count   768.000000  768.000000     768.000000     768.000000  768.000000   \n",
       "mean      3.845052  120.894531      69.105469      20.536458   79.799479   \n",
       "std       3.369578   31.972618      19.355807      15.952218  115.244002   \n",
       "min       0.000000    0.000000       0.000000       0.000000    0.000000   \n",
       "25%       1.000000   99.000000      62.000000       0.000000    0.000000   \n",
       "50%       3.000000  117.000000      72.000000      23.000000   30.500000   \n",
       "75%       6.000000  140.250000      80.000000      32.000000  127.250000   \n",
       "max      17.000000  199.000000     122.000000      99.000000  846.000000   \n",
       "\n",
       "              BMI  DiabetesPedigreeFunction         Age     Outcome  \n",
       "count  768.000000                768.000000  768.000000  768.000000  \n",
       "mean    31.992578                  0.471876   33.240885    0.348958  \n",
       "std      7.884160                  0.331329   11.760232    0.476951  \n",
       "min      0.000000                  0.078000   21.000000    0.000000  \n",
       "25%     27.300000                  0.243750   24.000000    0.000000  \n",
       "50%     32.000000                  0.372500   29.000000    0.000000  \n",
       "75%     36.600000                  0.626250   41.000000    1.000000  \n",
       "max     67.100000                  2.420000   81.000000    1.000000  "
      ]
     },
     "execution_count": 44,
     "metadata": {},
     "output_type": "execute_result"
    }
   ],
   "source": [
    "# 3) 각 피처별 최소값이 0으로 측정되는 데이타값을 평균값으로 변경하여라. \n",
    "\n",
    "pima.describe()"
   ]
  },
  {
   "cell_type": "code",
   "execution_count": 45,
   "id": "783ad97f",
   "metadata": {
    "ExecuteTime": {
     "end_time": "2021-12-08T01:17:00.353336Z",
     "start_time": "2021-12-08T01:17:00.189298Z"
    }
   },
   "outputs": [
    {
     "data": {
      "text/plain": [
       "(array([  5.,   0.,   4.,  32., 156., 211., 163.,  95.,  56.,  46.]),\n",
       " array([  0. ,  19.9,  39.8,  59.7,  79.6,  99.5, 119.4, 139.3, 159.2,\n",
       "        179.1, 199. ]),\n",
       " <BarContainer object of 10 artists>)"
      ]
     },
     "execution_count": 45,
     "metadata": {},
     "output_type": "execute_result"
    },
    {
     "data": {
      "image/png": "[encoded data removed]",
      "text/plain": [
       "<Figure size 432x288 with 1 Axes>"
      ]
     },
     "metadata": {},
     "output_type": "display_data"
    }
   ],
   "source": [
    "# 정상적이지 않은 값들이 있다. - 예) Glucose\t 포도당 수치 , BloodPressure , \n",
    "plt.hist(pima['Glucose'], bins=10)"
   ]
  },
  {
   "cell_type": "code",
   "execution_count": 46,
   "id": "b903daf2",
   "metadata": {
    "ExecuteTime": {
     "end_time": "2021-12-08T01:17:00.368330Z",
     "start_time": "2021-12-08T01:17:00.354329Z"
    }
   },
   "outputs": [
    {
     "name": "stdout",
     "output_type": "stream",
     "text": [
      "Glucose 0 건수는 5, 퍼센트는 0.65 %\n",
      "BloodPressure 0 건수는 35, 퍼센트는 4.56 %\n",
      "SkinThickness 0 건수는 227, 퍼센트는 29.56 %\n",
      "Insulin 0 건수는 374, 퍼센트는 48.70 %\n",
      "BMI 0 건수는 11, 퍼센트는 1.43 %\n"
     ]
    }
   ],
   "source": [
    "# Min 값이 0인 피처명 리스트\n",
    "zero_features = ['Glucose', 'BloodPressure','SkinThickness','Insulin','BMI']\n",
    "\n",
    "# 전체 데이터 건수\n",
    "total_count = pima['Glucose'].count()\n",
    "\n",
    "# 데이터 값이 0 인 데이터 건수 추출하고, 퍼센트 계산\n",
    "for feature in zero_features:\n",
    "    zero_count = pima[pima[feature] == 0][feature].count()\n",
    "    print('{0} 0 건수는 {1}, 퍼센트는 {2:.2f} %'.format(feature, zero_count, 100*zero_count/total_count))\n"
   ]
  },
  {
   "cell_type": "code",
   "execution_count": 47,
   "id": "e2487f0c",
   "metadata": {
    "ExecuteTime": {
     "end_time": "2021-12-08T01:17:00.383334Z",
     "start_time": "2021-12-08T01:17:00.369333Z"
    }
   },
   "outputs": [],
   "source": [
    "# zero_features 에서 0인 값들을 평균 값으로 대체\n",
    "pima[zero_features]=pima[zero_features].replace(0, pima[zero_features].mean())"
   ]
  },
  {
   "cell_type": "code",
   "execution_count": 48,
   "id": "acc64fd0",
   "metadata": {
    "ExecuteTime": {
     "end_time": "2021-12-08T01:17:00.398338Z",
     "start_time": "2021-12-08T01:17:00.384337Z"
    }
   },
   "outputs": [],
   "source": [
    "X = pima.loc[:,'Pregnancies':'Age']"
   ]
  },
  {
   "cell_type": "code",
   "execution_count": 49,
   "id": "799642a6",
   "metadata": {
    "ExecuteTime": {
     "end_time": "2021-12-08T01:17:00.413340Z",
     "start_time": "2021-12-08T01:17:00.400338Z"
    }
   },
   "outputs": [],
   "source": [
    "y = pima.Outcome"
   ]
  },
  {
   "cell_type": "code",
   "execution_count": 50,
   "id": "bf711f48",
   "metadata": {
    "ExecuteTime": {
     "end_time": "2021-12-08T01:17:00.428345Z",
     "start_time": "2021-12-08T01:17:00.414342Z"
    }
   },
   "outputs": [],
   "source": [
    "# 4) StandardScaler()를 이용하여 스케일링하여라. \n",
    "from sklearn.preprocessing import MinMaxScaler\n",
    "stan = StandardScaler()\n",
    "stan.fit(X)\n",
    "pima_scaled2 = stan.transform(X)"
   ]
  },
  {
   "cell_type": "code",
   "execution_count": 51,
   "id": "94a70231",
   "metadata": {
    "ExecuteTime": {
     "end_time": "2021-12-08T01:17:00.443347Z",
     "start_time": "2021-12-08T01:17:00.430345Z"
    }
   },
   "outputs": [
    {
     "data": {
      "text/plain": [
       "array([[ 0.63994726,  0.86527574, -0.0210444 , ...,  0.16725546,\n",
       "         0.46849198,  1.4259954 ],\n",
       "       [-0.84488505, -1.20598931, -0.51658286, ..., -0.85153454,\n",
       "        -0.36506078, -0.19067191],\n",
       "       [ 1.23388019,  2.01597855, -0.68176235, ..., -1.33182125,\n",
       "         0.60439732, -0.10558415],\n",
       "       ...,\n",
       "       [ 0.3429808 , -0.02240928, -0.0210444 , ..., -0.90975111,\n",
       "        -0.68519336, -0.27575966],\n",
       "       [-0.84488505,  0.14197684, -1.01212132, ..., -0.34213954,\n",
       "        -0.37110101,  1.17073215],\n",
       "       [-0.84488505, -0.94297153, -0.18622389, ..., -0.29847711,\n",
       "        -0.47378505, -0.87137393]])"
      ]
     },
     "execution_count": 51,
     "metadata": {},
     "output_type": "execute_result"
    }
   ],
   "source": [
    "pima_scaled2"
   ]
  },
  {
   "cell_type": "code",
   "execution_count": 52,
   "id": "c40a5210",
   "metadata": {
    "ExecuteTime": {
     "end_time": "2021-12-08T01:17:00.458351Z",
     "start_time": "2021-12-08T01:17:00.445348Z"
    }
   },
   "outputs": [
    {
     "data": {
      "text/plain": [
       "DecisionTreeClassifier(random_state=11)"
      ]
     },
     "execution_count": 52,
     "metadata": {},
     "output_type": "execute_result"
    }
   ],
   "source": [
    "# 5) 학습 데이타셋과 테스트 데이타셋으로 분리시키고 모델을 생성한 후 머신러닝 예측 모델을 수립하고 학습하여라 \n",
    "X_train, X_test, y_train, y_test = train_test_split(pima_scaled2, y,test_size = 0.2, random_state= 11, stratify= y)\n",
    "\n",
    "model_dt = DecisionTreeClassifier(random_state=11)\n",
    "\n",
    "model_dt.fit(X_train, y_train)"
   ]
  },
  {
   "cell_type": "code",
   "execution_count": 53,
   "id": "5d1a006f",
   "metadata": {
    "ExecuteTime": {
     "end_time": "2021-12-08T01:17:00.578404Z",
     "start_time": "2021-12-08T01:17:00.459352Z"
    }
   },
   "outputs": [
    {
     "data": {
      "text/plain": [
       "DecisionTreeClassifier(random_state=11)"
      ]
     },
     "execution_count": 53,
     "metadata": {},
     "output_type": "execute_result"
    }
   ],
   "source": [
    "from imblearn.over_sampling import ADASYN\n",
    "oversample = ADASYN()\n",
    "X_train_resample, y_train_resample = oversample.fit_resample(X_train, y_train)\n",
    "from collections import Counter\n",
    "Counter(y_train_resample)\n",
    "model_dt_re = DecisionTreeClassifier(random_state=11)\n",
    "model_dt_re.fit(X_train_resample, y_train_resample )"
   ]
  },
  {
   "cell_type": "code",
   "execution_count": 54,
   "id": "823990b9",
   "metadata": {
    "ExecuteTime": {
     "end_time": "2021-12-08T01:17:00.683428Z",
     "start_time": "2021-12-08T01:17:00.579401Z"
    }
   },
   "outputs": [
    {
     "data": {
      "text/plain": [
       "Text(19.82, 0.5, 'Actual')"
      ]
     },
     "execution_count": 54,
     "metadata": {},
     "output_type": "execute_result"
    },
    {
     "data": {
      "image/png": "[encoded data removed]",
      "text/plain": [
       "<Figure size 504x504 with 1 Axes>"
      ]
     },
     "metadata": {},
     "output_type": "display_data"
    }
   ],
   "source": [
    "# 6) 오차행렬, 재현율, 정밀도, 정확도, F1 Score 등의 평가지표를 출력하여라 \n",
    "confusion_matrix(y_test, model_dt.predict(X_test))\n",
    "import matplotlib.pyplot as plt\n",
    "plt.style.use(\"fivethirtyeight\")\n",
    "plt.figure(figsize=(7,7))\n",
    "sns.heatmap(confusion_matrix(y_test, model_dt.predict(X_test)),\n",
    "           annot = True, cmap = \"PuBu\", cbar = False)\n",
    "plt.xlabel('Predict')\n",
    "plt.ylabel('Actual')"
   ]
  },
  {
   "cell_type": "code",
   "execution_count": 55,
   "id": "baff962e",
   "metadata": {
    "ExecuteTime": {
     "end_time": "2021-12-08T01:17:00.698422Z",
     "start_time": "2021-12-08T01:17:00.685410Z"
    }
   },
   "outputs": [
    {
     "data": {
      "text/plain": [
       "(0.5370370370370371, 0.5576923076923077)"
      ]
     },
     "execution_count": 55,
     "metadata": {},
     "output_type": "execute_result"
    }
   ],
   "source": [
    "recall_score(y_test, model_dt.predict(X_test)), precision_score(y_test, model_dt.predict(X_test))"
   ]
  },
  {
   "cell_type": "code",
   "execution_count": 56,
   "id": "06ab1306",
   "metadata": {
    "ExecuteTime": {
     "end_time": "2021-12-08T01:17:00.713418Z",
     "start_time": "2021-12-08T01:17:00.699414Z"
    }
   },
   "outputs": [
    {
     "name": "stdout",
     "output_type": "stream",
     "text": [
      "              precision    recall  f1-score   support\n",
      "\n",
      "           0       0.75      0.77      0.76       100\n",
      "           1       0.56      0.54      0.55        54\n",
      "\n",
      "    accuracy                           0.69       154\n",
      "   macro avg       0.66      0.65      0.65       154\n",
      "weighted avg       0.69      0.69      0.69       154\n",
      "\n"
     ]
    }
   ],
   "source": [
    "print(classification_report(y_test, model_dt.predict(X_test)))"
   ]
  },
  {
   "cell_type": "code",
   "execution_count": 57,
   "id": "f1fa428b",
   "metadata": {
    "ExecuteTime": {
     "end_time": "2021-12-08T01:17:00.728419Z",
     "start_time": "2021-12-08T01:17:00.715419Z"
    }
   },
   "outputs": [
    {
     "name": "stdout",
     "output_type": "stream",
     "text": [
      "              precision    recall  f1-score   support\n",
      "\n",
      "           0       0.73      0.75      0.74       100\n",
      "           1       0.51      0.48      0.50        54\n",
      "\n",
      "    accuracy                           0.66       154\n",
      "   macro avg       0.62      0.62      0.62       154\n",
      "weighted avg       0.65      0.66      0.65       154\n",
      "\n"
     ]
    }
   ],
   "source": [
    "print(classification_report(y_test, model_dt_re.predict(X_test)))"
   ]
  },
  {
   "cell_type": "code",
   "execution_count": 58,
   "id": "0e2188d5",
   "metadata": {
    "ExecuteTime": {
     "end_time": "2021-12-08T01:17:01.629637Z",
     "start_time": "2021-12-08T01:17:00.730423Z"
    }
   },
   "outputs": [],
   "source": [
    "#7) 아래의 소스를 참조하여 그리드서치를 적용시켜 최고의 하이퍼파라미터 예측 모델을 생성하여라. \n",
    "\n",
    "model_dt = DecisionTreeClassifier(random_state=11)\n",
    "\n",
    "parameters = {'max_depth': [3,4,5,6,7,8], 'min_samples_leaf': [0.02,0.03,0.04,0.06,0.08,0.3,0.4],'criterion': ['gini', \"entropy\"]}\n",
    "\n",
    "model_dt_grid = GridSearchCV(model_dt , param_grid=parameters , scoring='accuracy' , cv=5).fit(X_train, y_train)"
   ]
  },
  {
   "cell_type": "code",
   "execution_count": 59,
   "id": "dda772ca",
   "metadata": {
    "ExecuteTime": {
     "end_time": "2021-12-08T01:17:02.649879Z",
     "start_time": "2021-12-08T01:17:01.630645Z"
    }
   },
   "outputs": [],
   "source": [
    "model_dt_grid_re = GridSearchCV(model_dt , param_grid=parameters , scoring='accuracy' , cv=5).fit(X_train_resample, y_train_resample)"
   ]
  },
  {
   "cell_type": "code",
   "execution_count": 60,
   "id": "598bd67b",
   "metadata": {
    "ExecuteTime": {
     "end_time": "2021-12-08T01:17:02.664880Z",
     "start_time": "2021-12-08T01:17:02.651874Z"
    }
   },
   "outputs": [
    {
     "name": "stdout",
     "output_type": "stream",
     "text": [
      "GridSearchCV 최적 파라미터: {'criterion': 'entropy', 'max_depth': 5, 'min_samples_leaf': 0.08}\n",
      "GridSearchCV 최고 정확도: 0.7291768740813328\n"
     ]
    }
   ],
   "source": [
    "print(f'GridSearchCV 최적 파라미터: {model_dt_grid_re.best_params_}' )\n",
    "print(f'GridSearchCV 최고 정확도: {model_dt_grid_re.best_score_}')"
   ]
  },
  {
   "cell_type": "code",
   "execution_count": 61,
   "id": "268547d6",
   "metadata": {
    "ExecuteTime": {
     "end_time": "2021-12-08T01:17:02.680123Z",
     "start_time": "2021-12-08T01:17:02.666871Z"
    }
   },
   "outputs": [
    {
     "name": "stdout",
     "output_type": "stream",
     "text": [
      "GridSearchCV 최적 파라미터: {'criterion': 'gini', 'max_depth': 3, 'min_samples_leaf': 0.06}\n",
      "GridSearchCV 최고 정확도: 0.7557377049180328\n"
     ]
    }
   ],
   "source": [
    "print(f'GridSearchCV 최적 파라미터: {model_dt_grid.best_params_}' )\n",
    "print(f'GridSearchCV 최고 정확도: {model_dt_grid.best_score_}')"
   ]
  },
  {
   "cell_type": "code",
   "execution_count": 62,
   "id": "6653241f",
   "metadata": {
    "ExecuteTime": {
     "end_time": "2021-12-08T01:17:02.695126Z",
     "start_time": "2021-12-08T01:17:02.681125Z"
    }
   },
   "outputs": [
    {
     "data": {
      "text/plain": [
       "DecisionTreeClassifier(random_state=11)"
      ]
     },
     "execution_count": 62,
     "metadata": {},
     "output_type": "execute_result"
    }
   ],
   "source": [
    "model_dt"
   ]
  },
  {
   "cell_type": "code",
   "execution_count": 63,
   "id": "8b950f79",
   "metadata": {
    "ExecuteTime": {
     "end_time": "2021-12-08T01:17:03.190810Z",
     "start_time": "2021-12-08T01:17:02.696128Z"
    }
   },
   "outputs": [
    {
     "ename": "NotFittedError",
     "evalue": "This DecisionTreeClassifier instance is not fitted yet. Call 'fit' with appropriate arguments before using this estimator.",
     "output_type": "error",
     "traceback": [
      "\u001b[1;31m---------------------------------------------------------------------------\u001b[0m",
      "\u001b[1;31mNotFittedError\u001b[0m                            Traceback (most recent call last)",
      "\u001b[1;32m<ipython-input-63-301eaab6ec70>\u001b[0m in \u001b[0;36m<module>\u001b[1;34m\u001b[0m\n\u001b[0;32m      1\u001b[0m \u001b[1;31m# 10) 가장 중요도가 높은 피처 2개는 무엇인가?\u001b[0m\u001b[1;33m\u001b[0m\u001b[1;33m\u001b[0m\u001b[1;33m\u001b[0m\u001b[0m\n\u001b[1;32m----> 2\u001b[1;33m \u001b[0mprint\u001b[0m\u001b[1;33m(\u001b[0m\u001b[0mmodel_dt\u001b[0m\u001b[1;33m.\u001b[0m\u001b[0mfeature_importances_\u001b[0m\u001b[1;33m)\u001b[0m\u001b[1;33m\u001b[0m\u001b[1;33m\u001b[0m\u001b[0m\n\u001b[0m\u001b[0;32m      3\u001b[0m \u001b[0mprint\u001b[0m\u001b[1;33m(\u001b[0m\u001b[1;33m)\u001b[0m\u001b[1;33m\u001b[0m\u001b[1;33m\u001b[0m\u001b[0m\n\u001b[0;32m      4\u001b[0m \u001b[1;33m\u001b[0m\u001b[0m\n\u001b[0;32m      5\u001b[0m \u001b[1;32mfor\u001b[0m \u001b[0mname\u001b[0m\u001b[1;33m,\u001b[0m \u001b[0mvalue\u001b[0m \u001b[1;32min\u001b[0m \u001b[0mzip\u001b[0m\u001b[1;33m(\u001b[0m\u001b[0mX\u001b[0m\u001b[1;33m.\u001b[0m\u001b[0mcolumns\u001b[0m \u001b[1;33m,\u001b[0m \u001b[0mmodel_dt2\u001b[0m\u001b[1;33m.\u001b[0m\u001b[0mfeature_importances_\u001b[0m\u001b[1;33m)\u001b[0m\u001b[1;33m:\u001b[0m\u001b[1;33m\u001b[0m\u001b[1;33m\u001b[0m\u001b[0m\n",
      "\u001b[1;32m~\\anaconda3\\lib\\site-packages\\sklearn\\tree\\_classes.py\u001b[0m in \u001b[0;36mfeature_importances_\u001b[1;34m(self)\u001b[0m\n\u001b[0;32m    596\u001b[0m             \u001b[1;33m(\u001b[0m\u001b[0mGini\u001b[0m \u001b[0mimportance\u001b[0m\u001b[1;33m)\u001b[0m\u001b[1;33m.\u001b[0m\u001b[1;33m\u001b[0m\u001b[1;33m\u001b[0m\u001b[0m\n\u001b[0;32m    597\u001b[0m         \"\"\"\n\u001b[1;32m--> 598\u001b[1;33m         \u001b[0mcheck_is_fitted\u001b[0m\u001b[1;33m(\u001b[0m\u001b[0mself\u001b[0m\u001b[1;33m)\u001b[0m\u001b[1;33m\u001b[0m\u001b[1;33m\u001b[0m\u001b[0m\n\u001b[0m\u001b[0;32m    599\u001b[0m \u001b[1;33m\u001b[0m\u001b[0m\n\u001b[0;32m    600\u001b[0m         \u001b[1;32mreturn\u001b[0m \u001b[0mself\u001b[0m\u001b[1;33m.\u001b[0m\u001b[0mtree_\u001b[0m\u001b[1;33m.\u001b[0m\u001b[0mcompute_feature_importances\u001b[0m\u001b[1;33m(\u001b[0m\u001b[1;33m)\u001b[0m\u001b[1;33m\u001b[0m\u001b[1;33m\u001b[0m\u001b[0m\n",
      "\u001b[1;32m~\\anaconda3\\lib\\site-packages\\sklearn\\utils\\validation.py\u001b[0m in \u001b[0;36minner_f\u001b[1;34m(*args, **kwargs)\u001b[0m\n\u001b[0;32m     61\u001b[0m             \u001b[0mextra_args\u001b[0m \u001b[1;33m=\u001b[0m \u001b[0mlen\u001b[0m\u001b[1;33m(\u001b[0m\u001b[0margs\u001b[0m\u001b[1;33m)\u001b[0m \u001b[1;33m-\u001b[0m \u001b[0mlen\u001b[0m\u001b[1;33m(\u001b[0m\u001b[0mall_args\u001b[0m\u001b[1;33m)\u001b[0m\u001b[1;33m\u001b[0m\u001b[1;33m\u001b[0m\u001b[0m\n\u001b[0;32m     62\u001b[0m             \u001b[1;32mif\u001b[0m \u001b[0mextra_args\u001b[0m \u001b[1;33m<=\u001b[0m \u001b[1;36m0\u001b[0m\u001b[1;33m:\u001b[0m\u001b[1;33m\u001b[0m\u001b[1;33m\u001b[0m\u001b[0m\n\u001b[1;32m---> 63\u001b[1;33m                 \u001b[1;32mreturn\u001b[0m \u001b[0mf\u001b[0m\u001b[1;33m(\u001b[0m\u001b[1;33m*\u001b[0m\u001b[0margs\u001b[0m\u001b[1;33m,\u001b[0m \u001b[1;33m**\u001b[0m\u001b[0mkwargs\u001b[0m\u001b[1;33m)\u001b[0m\u001b[1;33m\u001b[0m\u001b[1;33m\u001b[0m\u001b[0m\n\u001b[0m\u001b[0;32m     64\u001b[0m \u001b[1;33m\u001b[0m\u001b[0m\n\u001b[0;32m     65\u001b[0m             \u001b[1;31m# extra_args > 0\u001b[0m\u001b[1;33m\u001b[0m\u001b[1;33m\u001b[0m\u001b[1;33m\u001b[0m\u001b[0m\n",
      "\u001b[1;32m~\\anaconda3\\lib\\site-packages\\sklearn\\utils\\validation.py\u001b[0m in \u001b[0;36mcheck_is_fitted\u001b[1;34m(estimator, attributes, msg, all_or_any)\u001b[0m\n\u001b[0;32m   1039\u001b[0m \u001b[1;33m\u001b[0m\u001b[0m\n\u001b[0;32m   1040\u001b[0m     \u001b[1;32mif\u001b[0m \u001b[1;32mnot\u001b[0m \u001b[0mattrs\u001b[0m\u001b[1;33m:\u001b[0m\u001b[1;33m\u001b[0m\u001b[1;33m\u001b[0m\u001b[0m\n\u001b[1;32m-> 1041\u001b[1;33m         \u001b[1;32mraise\u001b[0m \u001b[0mNotFittedError\u001b[0m\u001b[1;33m(\u001b[0m\u001b[0mmsg\u001b[0m \u001b[1;33m%\u001b[0m \u001b[1;33m{\u001b[0m\u001b[1;34m'name'\u001b[0m\u001b[1;33m:\u001b[0m \u001b[0mtype\u001b[0m\u001b[1;33m(\u001b[0m\u001b[0mestimator\u001b[0m\u001b[1;33m)\u001b[0m\u001b[1;33m.\u001b[0m\u001b[0m__name__\u001b[0m\u001b[1;33m}\u001b[0m\u001b[1;33m)\u001b[0m\u001b[1;33m\u001b[0m\u001b[1;33m\u001b[0m\u001b[0m\n\u001b[0m\u001b[0;32m   1042\u001b[0m \u001b[1;33m\u001b[0m\u001b[0m\n\u001b[0;32m   1043\u001b[0m \u001b[1;33m\u001b[0m\u001b[0m\n",
      "\u001b[1;31mNotFittedError\u001b[0m: This DecisionTreeClassifier instance is not fitted yet. Call 'fit' with appropriate arguments before using this estimator."
     ]
    }
   ],
   "source": [
    "# 10) 가장 중요도가 높은 피처 2개는 무엇인가?\n",
    "print(model_dt.feature_importances_)\n",
    "print()\n",
    "\n",
    "for name, value in zip(X.columns , model_dt2.feature_importances_):\n",
    "    print('{0} : {1:.3f}'.format(name, value))\n",
    "print()\n",
    "\n",
    "# 피처 중요도 시각화 \n",
    "sns.barplot(x=model_dt.feature_importances_ , y=X.columns)"
   ]
  },
  {
   "cell_type": "markdown",
   "id": "be673e68",
   "metadata": {},
   "source": [
    "# Quiz2\n"
   ]
  },
  {
   "cell_type": "code",
   "execution_count": 64,
   "id": "30727b92",
   "metadata": {
    "ExecuteTime": {
     "end_time": "2021-12-08T01:17:10.654181Z",
     "start_time": "2021-12-08T01:17:10.638175Z"
    }
   },
   "outputs": [],
   "source": [
    "#1) redwine.csv 파일을 이용하여 데이타프레임을 생성하여라 \n",
    "redwine = pd.read_csv(\"~/dropbox/python숙달/data/redwine.csv\")"
   ]
  },
  {
   "cell_type": "code",
   "execution_count": 65,
   "id": "61d82b72",
   "metadata": {
    "ExecuteTime": {
     "end_time": "2021-12-08T01:17:10.954253Z",
     "start_time": "2021-12-08T01:17:10.940251Z"
    }
   },
   "outputs": [
    {
     "data": {
      "text/plain": [
       "alcohol    0\n",
       "sugar      0\n",
       "pH         0\n",
       "class      0\n",
       "dtype: int64"
      ]
     },
     "execution_count": 65,
     "metadata": {},
     "output_type": "execute_result"
    }
   ],
   "source": [
    "redwine.isna().sum()"
   ]
  },
  {
   "cell_type": "code",
   "execution_count": 66,
   "id": "b634a96a",
   "metadata": {
    "ExecuteTime": {
     "end_time": "2021-12-08T01:17:11.284357Z",
     "start_time": "2021-12-08T01:17:11.270354Z"
    }
   },
   "outputs": [
    {
     "name": "stdout",
     "output_type": "stream",
     "text": [
      "<class 'pandas.core.frame.DataFrame'>\n",
      "RangeIndex: 6497 entries, 0 to 6496\n",
      "Data columns (total 4 columns):\n",
      " #   Column   Non-Null Count  Dtype  \n",
      "---  ------   --------------  -----  \n",
      " 0   alcohol  6497 non-null   float64\n",
      " 1   sugar    6497 non-null   float64\n",
      " 2   pH       6497 non-null   float64\n",
      " 3   class    6497 non-null   float64\n",
      "dtypes: float64(4)\n",
      "memory usage: 203.2 KB\n"
     ]
    }
   ],
   "source": [
    "#2) 피처별로 전처리를 진행하여라. (결측값, 인코딩, 원핫인코딩등) \n",
    "redwine.info()"
   ]
  },
  {
   "cell_type": "code",
   "execution_count": 67,
   "id": "b6304b33",
   "metadata": {
    "ExecuteTime": {
     "end_time": "2021-12-08T01:17:11.570264Z",
     "start_time": "2021-12-08T01:17:11.557259Z"
    }
   },
   "outputs": [],
   "source": [
    "y = redwine['class']\n",
    "X = redwine.loc[:,:'pH']"
   ]
  },
  {
   "cell_type": "code",
   "execution_count": 72,
   "id": "7774d611",
   "metadata": {
    "ExecuteTime": {
     "end_time": "2021-12-08T01:17:39.698290Z",
     "start_time": "2021-12-08T01:17:39.690288Z"
    }
   },
   "outputs": [],
   "source": [
    "from collections import Counter\n",
    "counter = Counter(y)"
   ]
  },
  {
   "cell_type": "code",
   "execution_count": 89,
   "id": "143a3743",
   "metadata": {
    "ExecuteTime": {
     "end_time": "2021-12-08T01:18:21.650553Z",
     "start_time": "2021-12-08T01:18:21.627527Z"
    }
   },
   "outputs": [
    {
     "data": {
      "text/plain": [
       "DecisionTreeClassifier(random_state=11)"
      ]
     },
     "execution_count": 89,
     "metadata": {},
     "output_type": "execute_result"
    }
   ],
   "source": [
    "# 3) 학습 데이타셋과 테스트 데이타셋으로 분리시키고 모델을 생성한 후 머신러닝 예측 모델을 수립하고 학습하여라 \n",
    "X_train, X_test, y_train, y_test = train_test_split(X, y, test_size = 0.2, \n",
    "                                                        random_state = 156, stratify=y)\n",
    "model_dt = DecisionTreeClassifier(random_state=11)\n",
    "model_dt.fit(X_train, y_train)"
   ]
  },
  {
   "cell_type": "code",
   "execution_count": 74,
   "id": "698e3905",
   "metadata": {
    "ExecuteTime": {
     "end_time": "2021-12-08T01:17:40.856189Z",
     "start_time": "2021-12-08T01:17:40.842181Z"
    }
   },
   "outputs": [
    {
     "data": {
      "text/plain": [
       "Index(['alcohol', 'sugar', 'pH'], dtype='object')"
      ]
     },
     "execution_count": 74,
     "metadata": {},
     "output_type": "execute_result"
    }
   ],
   "source": [
    "X_train.columns"
   ]
  },
  {
   "cell_type": "code",
   "execution_count": 75,
   "id": "dc8cd669",
   "metadata": {
    "ExecuteTime": {
     "end_time": "2021-12-08T01:17:41.636380Z",
     "start_time": "2021-12-08T01:17:41.157260Z"
    }
   },
   "outputs": [
    {
     "data": {
      "image/png": "[encoded data removed]",
      "text/plain": [
       "<Figure size 720x504 with 1 Axes>"
      ]
     },
     "metadata": {},
     "output_type": "display_data"
    }
   ],
   "source": [
    "# 4) plot_tree() 를 이용하여 결정트리 모델을 시각화하여라 \n",
    "# 트리 시각화 \n",
    "plt.figure(figsize=(10,7))\n",
    "plot_tree(model_dt, max_depth=2, filled=True, feature_names=X_train.columns)\n",
    "plt.show()"
   ]
  },
  {
   "cell_type": "code",
   "execution_count": 76,
   "id": "0d62fd42",
   "metadata": {
    "ExecuteTime": {
     "end_time": "2021-12-08T01:17:41.936400Z",
     "start_time": "2021-12-08T01:17:41.922451Z"
    }
   },
   "outputs": [
    {
     "data": {
      "text/plain": [
       "array([[243,  77],\n",
       "       [ 85, 895]], dtype=int64)"
      ]
     },
     "execution_count": 76,
     "metadata": {},
     "output_type": "execute_result"
    }
   ],
   "source": [
    "confusion_matrix(y_test, model_dt.predict(X_test))"
   ]
  },
  {
   "cell_type": "code",
   "execution_count": 77,
   "id": "c55fb5d9",
   "metadata": {
    "ExecuteTime": {
     "end_time": "2021-12-08T01:17:42.251303Z",
     "start_time": "2021-12-08T01:17:42.237301Z"
    }
   },
   "outputs": [
    {
     "data": {
      "text/plain": [
       "array([[243,  77],\n",
       "       [ 85, 895]], dtype=int64)"
      ]
     },
     "execution_count": 77,
     "metadata": {},
     "output_type": "execute_result"
    }
   ],
   "source": [
    "confusion_matrix(y_test, model_dt.predict(X_test))"
   ]
  },
  {
   "cell_type": "code",
   "execution_count": 78,
   "id": "743563b5",
   "metadata": {
    "ExecuteTime": {
     "end_time": "2021-12-08T01:17:45.074468Z",
     "start_time": "2021-12-08T01:17:45.064475Z"
    }
   },
   "outputs": [
    {
     "data": {
      "text/plain": [
       "0.8753846153846154"
      ]
     },
     "execution_count": 78,
     "metadata": {},
     "output_type": "execute_result"
    }
   ],
   "source": [
    "accuracy_score(y_test, model_dt.predict(X_test))"
   ]
  },
  {
   "cell_type": "code",
   "execution_count": 79,
   "id": "ae66935c",
   "metadata": {
    "ExecuteTime": {
     "end_time": "2021-12-08T01:17:45.570521Z",
     "start_time": "2021-12-08T01:17:45.463506Z"
    }
   },
   "outputs": [
    {
     "data": {
      "text/plain": [
       "Text(19.82, 0.5, 'Actual')"
      ]
     },
     "execution_count": 79,
     "metadata": {},
     "output_type": "execute_result"
    },
    {
     "data": {
      "image/png": "[encoded data removed]",
      "text/plain": [
       "<Figure size 504x504 with 1 Axes>"
      ]
     },
     "metadata": {},
     "output_type": "display_data"
    }
   ],
   "source": [
    "# 오차행렬, 재현율, 정밀도, 정확도, F1 Score 등의 평가지표를 출력하여라 \n",
    "\n",
    "plt.figure(figsize=(7,7))\n",
    "sns.heatmap(confusion_matrix(y_test, model_dt.predict(X_test)),\n",
    "           annot = True, cmap = \"PuBu\", cbar = False)\n",
    "plt.xlabel('Predict')\n",
    "plt.ylabel('Actual')"
   ]
  },
  {
   "cell_type": "code",
   "execution_count": 80,
   "id": "fafad3c1",
   "metadata": {
    "ExecuteTime": {
     "end_time": "2021-12-08T01:17:46.096589Z",
     "start_time": "2021-12-08T01:17:46.077575Z"
    }
   },
   "outputs": [
    {
     "name": "stdout",
     "output_type": "stream",
     "text": [
      "              precision    recall  f1-score   support\n",
      "\n",
      "         0.0       0.74      0.76      0.75       320\n",
      "         1.0       0.92      0.91      0.92       980\n",
      "\n",
      "    accuracy                           0.88      1300\n",
      "   macro avg       0.83      0.84      0.83      1300\n",
      "weighted avg       0.88      0.88      0.88      1300\n",
      "\n"
     ]
    }
   ],
   "source": [
    "print(classification_report(y_test, model_dt.predict(X_test)))"
   ]
  },
  {
   "cell_type": "code",
   "execution_count": 81,
   "id": "be756af5",
   "metadata": {
    "ExecuteTime": {
     "end_time": "2021-12-08T01:17:50.013314Z",
     "start_time": "2021-12-08T01:17:46.487810Z"
    }
   },
   "outputs": [
    {
     "data": {
      "text/plain": [
       "GridSearchCV(cv=5, estimator=DecisionTreeClassifier(random_state=11),\n",
       "             param_grid={'criterion': ['gini', 'entropy'],\n",
       "                         'max_depth': [3, 4, 5, 6, 7, 8],\n",
       "                         'min_samples_leaf': [0.02, 0.03, 0.04, 0.06, 0.08, 0.3,\n",
       "                                              0.4, 1, 0.5, 1.2, 1.5, 1.6,\n",
       "                                              0.8]},\n",
       "             scoring='accuracy')"
      ]
     },
     "execution_count": 81,
     "metadata": {},
     "output_type": "execute_result"
    }
   ],
   "source": [
    "# 6) 아래의 소스를 참조하여 그리드서치를 적용시켜 최고의 하이퍼파라미터 예측 모델을 생성하여라. \n",
    "model_dt = DecisionTreeClassifier(random_state=11)\n",
    "parameters = {'max_depth': [3,4,5,6,7,8], 'min_samples_leaf': [0.02,0.03,0.04,0.06,0.08,0.3,0.4,1,0.5,1.2,1.5,1.6, 0.8],'criterion': ['gini', \"entropy\"]}\n",
    "model_dt_grid = GridSearchCV(model_dt , param_grid=parameters , scoring='accuracy' , cv=5)\n",
    "model_dt_grid.fit(X_train, y_train)\n",
    "\n"
   ]
  },
  {
   "cell_type": "code",
   "execution_count": 82,
   "id": "d43bcb2d",
   "metadata": {
    "ExecuteTime": {
     "end_time": "2021-12-08T01:17:50.343401Z",
     "start_time": "2021-12-08T01:17:50.330392Z"
    }
   },
   "outputs": [
    {
     "name": "stdout",
     "output_type": "stream",
     "text": [
      "GridSearchCV best score : 86.32%, best_params : {'criterion': 'gini', 'max_depth': 5, 'min_samples_leaf': 1}\n"
     ]
    }
   ],
   "source": [
    "print('GridSearchCV best score : {:.2f}%, best_params : {}'.format(model_dt_grid.best_score_*100, model_dt_grid.best_params_))"
   ]
  },
  {
   "cell_type": "code",
   "execution_count": 83,
   "id": "53057a40",
   "metadata": {
    "ExecuteTime": {
     "end_time": "2021-12-08T01:17:50.658491Z",
     "start_time": "2021-12-08T01:17:50.644490Z"
    }
   },
   "outputs": [
    {
     "data": {
      "text/plain": [
       "DecisionTreeClassifier(criterion='entropy', max_depth=8, random_state=11)"
      ]
     },
     "execution_count": 83,
     "metadata": {},
     "output_type": "execute_result"
    }
   ],
   "source": [
    "# 최적의 하이퍼파라미터로 모델을 생성하고 다시 학습시킨 후 평가지표를 확인하여라 \n",
    "\n",
    "grid_best_dt = DecisionTreeClassifier(random_state=11, criterion = 'entropy', max_depth= 8,min_samples_leaf=1)\n",
    "grid_best_dt.fit(X_train, y_train)"
   ]
  },
  {
   "cell_type": "code",
   "execution_count": 84,
   "id": "6bc86c24",
   "metadata": {
    "ExecuteTime": {
     "end_time": "2021-12-08T01:17:50.959099Z",
     "start_time": "2021-12-08T01:17:50.945097Z"
    }
   },
   "outputs": [
    {
     "name": "stdout",
     "output_type": "stream",
     "text": [
      "              precision    recall  f1-score   support\n",
      "\n",
      "         0.0       0.70      0.72      0.71       320\n",
      "         1.0       0.91      0.90      0.90       980\n",
      "\n",
      "    accuracy                           0.86      1300\n",
      "   macro avg       0.80      0.81      0.81      1300\n",
      "weighted avg       0.86      0.86      0.86      1300\n",
      "\n"
     ]
    }
   ],
   "source": [
    "print(classification_report(y_test, grid_best_dt.predict(X_test)))"
   ]
  },
  {
   "cell_type": "code",
   "execution_count": 85,
   "id": "6ab2ef24",
   "metadata": {
    "ExecuteTime": {
     "end_time": "2021-12-08T01:17:51.259337Z",
     "start_time": "2021-12-08T01:17:51.246321Z"
    }
   },
   "outputs": [
    {
     "data": {
      "text/plain": [
       "DecisionTreeClassifier(criterion='entropy', max_depth=8, random_state=11)"
      ]
     },
     "execution_count": 85,
     "metadata": {},
     "output_type": "execute_result"
    }
   ],
   "source": [
    "grid_best_dt"
   ]
  },
  {
   "cell_type": "code",
   "execution_count": 86,
   "id": "82bce040",
   "metadata": {
    "ExecuteTime": {
     "end_time": "2021-12-08T01:17:51.589405Z",
     "start_time": "2021-12-08T01:17:51.575396Z"
    }
   },
   "outputs": [
    {
     "data": {
      "text/plain": [
       "DecisionTreeClassifier(random_state=11)"
      ]
     },
     "execution_count": 86,
     "metadata": {},
     "output_type": "execute_result"
    }
   ],
   "source": [
    "model_dt"
   ]
  },
  {
   "cell_type": "code",
   "execution_count": 90,
   "id": "1e0fa12e",
   "metadata": {
    "ExecuteTime": {
     "end_time": "2021-12-08T01:18:27.785465Z",
     "start_time": "2021-12-08T01:18:27.764461Z"
    }
   },
   "outputs": [
    {
     "name": "stdout",
     "output_type": "stream",
     "text": [
      "              precision    recall  f1-score   support\n",
      "\n",
      "         0.0       0.74      0.76      0.75       320\n",
      "         1.0       0.92      0.91      0.92       980\n",
      "\n",
      "    accuracy                           0.88      1300\n",
      "   macro avg       0.83      0.84      0.83      1300\n",
      "weighted avg       0.88      0.88      0.88      1300\n",
      "\n"
     ]
    }
   ],
   "source": [
    "print(classification_report(y_test, model_dt.predict(X_test)))"
   ]
  },
  {
   "cell_type": "code",
   "execution_count": 91,
   "id": "d32acdee",
   "metadata": {
    "ExecuteTime": {
     "end_time": "2021-12-08T01:18:29.794885Z",
     "start_time": "2021-12-08T01:18:29.776879Z"
    }
   },
   "outputs": [],
   "source": [
    "y_pred = grid_best_dt.predict(X_test)"
   ]
  },
  {
   "cell_type": "code",
   "execution_count": 92,
   "id": "8d4515bc",
   "metadata": {
    "ExecuteTime": {
     "end_time": "2021-12-08T01:18:30.261055Z",
     "start_time": "2021-12-08T01:18:30.252033Z"
    }
   },
   "outputs": [
    {
     "data": {
      "text/plain": [
       "0.8553846153846154"
      ]
     },
     "execution_count": 92,
     "metadata": {},
     "output_type": "execute_result"
    }
   ],
   "source": [
    "accuracy_score(y_test, y_pred)"
   ]
  },
  {
   "cell_type": "code",
   "execution_count": 93,
   "id": "4000a241",
   "metadata": {
    "ExecuteTime": {
     "end_time": "2021-12-08T01:18:30.803672Z",
     "start_time": "2021-12-08T01:18:30.739658Z"
    }
   },
   "outputs": [],
   "source": [
    "\n",
    "#8) 가장 중요도가 높은 피처 3개는 무엇인가?\n",
    "from sklearn.inspection import permutation_importance # sklearn 22 버전부터 해당\n",
    "from sklearn.metrics import make_scorer\n"
   ]
  },
  {
   "cell_type": "code",
   "execution_count": 94,
   "id": "d5b3e94a",
   "metadata": {
    "ExecuteTime": {
     "end_time": "2021-12-08T01:18:32.069166Z",
     "start_time": "2021-12-08T01:18:32.052160Z"
    }
   },
   "outputs": [
    {
     "data": {
      "text/html": [
       "<div>\n",
       "<style scoped>\n",
       "    .dataframe tbody tr th:only-of-type {\n",
       "        vertical-align: middle;\n",
       "    }\n",
       "\n",
       "    .dataframe tbody tr th {\n",
       "        vertical-align: top;\n",
       "    }\n",
       "\n",
       "    .dataframe thead th {\n",
       "        text-align: right;\n",
       "    }\n",
       "</style>\n",
       "<table border=\"1\" class=\"dataframe\">\n",
       "  <thead>\n",
       "    <tr style=\"text-align: right;\">\n",
       "      <th></th>\n",
       "      <th>alcohol</th>\n",
       "      <th>sugar</th>\n",
       "      <th>pH</th>\n",
       "    </tr>\n",
       "  </thead>\n",
       "  <tbody>\n",
       "    <tr>\n",
       "      <th>0</th>\n",
       "      <td>9.4</td>\n",
       "      <td>1.9</td>\n",
       "      <td>3.51</td>\n",
       "    </tr>\n",
       "    <tr>\n",
       "      <th>1</th>\n",
       "      <td>9.8</td>\n",
       "      <td>2.6</td>\n",
       "      <td>3.20</td>\n",
       "    </tr>\n",
       "    <tr>\n",
       "      <th>2</th>\n",
       "      <td>9.8</td>\n",
       "      <td>2.3</td>\n",
       "      <td>3.26</td>\n",
       "    </tr>\n",
       "    <tr>\n",
       "      <th>3</th>\n",
       "      <td>9.8</td>\n",
       "      <td>1.9</td>\n",
       "      <td>3.16</td>\n",
       "    </tr>\n",
       "    <tr>\n",
       "      <th>4</th>\n",
       "      <td>9.4</td>\n",
       "      <td>1.9</td>\n",
       "      <td>3.51</td>\n",
       "    </tr>\n",
       "    <tr>\n",
       "      <th>...</th>\n",
       "      <td>...</td>\n",
       "      <td>...</td>\n",
       "      <td>...</td>\n",
       "    </tr>\n",
       "    <tr>\n",
       "      <th>6492</th>\n",
       "      <td>11.2</td>\n",
       "      <td>1.6</td>\n",
       "      <td>3.27</td>\n",
       "    </tr>\n",
       "    <tr>\n",
       "      <th>6493</th>\n",
       "      <td>9.6</td>\n",
       "      <td>8.0</td>\n",
       "      <td>3.15</td>\n",
       "    </tr>\n",
       "    <tr>\n",
       "      <th>6494</th>\n",
       "      <td>9.4</td>\n",
       "      <td>1.2</td>\n",
       "      <td>2.99</td>\n",
       "    </tr>\n",
       "    <tr>\n",
       "      <th>6495</th>\n",
       "      <td>12.8</td>\n",
       "      <td>1.1</td>\n",
       "      <td>3.34</td>\n",
       "    </tr>\n",
       "    <tr>\n",
       "      <th>6496</th>\n",
       "      <td>11.8</td>\n",
       "      <td>0.8</td>\n",
       "      <td>3.26</td>\n",
       "    </tr>\n",
       "  </tbody>\n",
       "</table>\n",
       "<p>6497 rows × 3 columns</p>\n",
       "</div>"
      ],
      "text/plain": [
       "      alcohol  sugar    pH\n",
       "0         9.4    1.9  3.51\n",
       "1         9.8    2.6  3.20\n",
       "2         9.8    2.3  3.26\n",
       "3         9.8    1.9  3.16\n",
       "4         9.4    1.9  3.51\n",
       "...       ...    ...   ...\n",
       "6492     11.2    1.6  3.27\n",
       "6493      9.6    8.0  3.15\n",
       "6494      9.4    1.2  2.99\n",
       "6495     12.8    1.1  3.34\n",
       "6496     11.8    0.8  3.26\n",
       "\n",
       "[6497 rows x 3 columns]"
      ]
     },
     "execution_count": 94,
     "metadata": {},
     "output_type": "execute_result"
    }
   ],
   "source": [
    "X[['alcohol', 'sugar', 'pH']]"
   ]
  },
  {
   "cell_type": "code",
   "execution_count": 96,
   "id": "4dfa22d3",
   "metadata": {
    "ExecuteTime": {
     "end_time": "2021-12-08T01:18:38.084341Z",
     "start_time": "2021-12-08T01:18:37.851286Z"
    }
   },
   "outputs": [
    {
     "data": {
      "text/html": [
       "<div>\n",
       "<style scoped>\n",
       "    .dataframe tbody tr th:only-of-type {\n",
       "        vertical-align: middle;\n",
       "    }\n",
       "\n",
       "    .dataframe tbody tr th {\n",
       "        vertical-align: top;\n",
       "    }\n",
       "\n",
       "    .dataframe thead th {\n",
       "        text-align: right;\n",
       "    }\n",
       "</style>\n",
       "<table border=\"1\" class=\"dataframe\">\n",
       "  <thead>\n",
       "    <tr style=\"text-align: right;\">\n",
       "      <th></th>\n",
       "      <th>0</th>\n",
       "    </tr>\n",
       "  </thead>\n",
       "  <tbody>\n",
       "    <tr>\n",
       "      <th>sugar</th>\n",
       "      <td>0.325085</td>\n",
       "    </tr>\n",
       "    <tr>\n",
       "      <th>alcohol</th>\n",
       "      <td>0.192496</td>\n",
       "    </tr>\n",
       "    <tr>\n",
       "      <th>pH</th>\n",
       "      <td>0.190764</td>\n",
       "    </tr>\n",
       "  </tbody>\n",
       "</table>\n",
       "</div>"
      ],
      "text/plain": [
       "                0\n",
       "sugar    0.325085\n",
       "alcohol  0.192496\n",
       "pH       0.190764"
      ]
     },
     "execution_count": 96,
     "metadata": {},
     "output_type": "execute_result"
    }
   ],
   "source": [
    "\n",
    "def mean_absolute_percentage_error(y_test, y_pred):\n",
    "    y_test, y_pred = np.array(y_test), np.array(y_pred)\n",
    "    return np.mean(np.abs((y_test - y_pred) / y_test)) * 100\n",
    "\n",
    "# fix_model : 훈련된 모델\n",
    "# X_train : 훈련데이터 Feature\n",
    "# y_train : 훈련데이터 Target\n",
    "# scoring : Feature 를 Shuffler 한 뒤, 예측값과 실제값을 어떤 Metric 을 사용해 비교할지\n",
    "# n_repeats : 특정 Feature 를 몇번 Shuffle 할 것인지\n",
    "# random_state : 난수 고정\n",
    "result = permutation_importance(model_dt, X_train, y_train,\n",
    "                            n_repeats=30,\n",
    "                            random_state=0)\n",
    "# Feature label\n",
    "Feature = X_train\n",
    "\n",
    "# Feature 중요도를 오름차순으로 정렬한 뒤, 해당 Feature 의 index 를 저장\n",
    "sorted_result = result.importances_mean.argsort()\n",
    "\n",
    "# 결과를 DataFrame 화\n",
    "importances = pd.DataFrame(result.importances_mean[sorted_result], index=Feature.columns[sorted_result]).sort_values(0, ascending=False)   \n",
    "importances"
   ]
  },
  {
   "cell_type": "code",
   "execution_count": 97,
   "id": "0b75fd51",
   "metadata": {
    "ExecuteTime": {
     "end_time": "2021-12-08T01:18:38.972096Z",
     "start_time": "2021-12-08T01:18:38.866049Z"
    }
   },
   "outputs": [
    {
     "data": {
      "text/plain": [
       "<AxesSubplot:>"
      ]
     },
     "execution_count": 97,
     "metadata": {},
     "output_type": "execute_result"
    },
    {
     "data": {
      "image/png": "[encoded data removed]",
      "text/plain": [
       "<Figure size 432x288 with 1 Axes>"
      ]
     },
     "metadata": {},
     "output_type": "display_data"
    }
   ],
   "source": [
    "sns.barplot(x=model_dt.feature_importances_ , y=X_train.columns)"
   ]
  },
  {
   "cell_type": "code",
   "execution_count": 98,
   "id": "2957ec77",
   "metadata": {
    "ExecuteTime": {
     "end_time": "2021-12-08T01:18:39.513540Z",
     "start_time": "2021-12-08T01:18:39.500523Z"
    }
   },
   "outputs": [],
   "source": [
    "# 9) 7의 모델과  plot_tree() 를 이용하여 결정트리 모델을 시각화하여라 "
   ]
  },
  {
   "cell_type": "code",
   "execution_count": 99,
   "id": "2f5a6c7c",
   "metadata": {
    "ExecuteTime": {
     "end_time": "2021-12-08T01:18:40.132867Z",
     "start_time": "2021-12-08T01:18:40.113858Z"
    }
   },
   "outputs": [
    {
     "ename": "NameError",
     "evalue": "name 'tree' is not defined",
     "output_type": "error",
     "traceback": [
      "\u001b[1;31m---------------------------------------------------------------------------\u001b[0m",
      "\u001b[1;31mNameError\u001b[0m                                 Traceback (most recent call last)",
      "\u001b[1;32m<ipython-input-99-681d70d8b3e6>\u001b[0m in \u001b[0;36m<module>\u001b[1;34m\u001b[0m\n\u001b[0;32m      1\u001b[0m \u001b[0mplt\u001b[0m\u001b[1;33m.\u001b[0m\u001b[0mfigure\u001b[0m\u001b[1;33m(\u001b[0m\u001b[0mfigsize\u001b[0m\u001b[1;33m=\u001b[0m\u001b[1;33m(\u001b[0m\u001b[1;36m20\u001b[0m\u001b[1;33m,\u001b[0m\u001b[1;36m20\u001b[0m\u001b[1;33m)\u001b[0m\u001b[1;33m)\u001b[0m\u001b[1;33m\u001b[0m\u001b[1;33m\u001b[0m\u001b[0m\n\u001b[1;32m----> 2\u001b[1;33m \u001b[0mtree\u001b[0m\u001b[1;33m.\u001b[0m\u001b[0mplot_tree\u001b[0m\u001b[1;33m(\u001b[0m\u001b[0mgrid_best_dt\u001b[0m\u001b[1;33m,\u001b[0m \u001b[0mmax_depth\u001b[0m\u001b[1;33m=\u001b[0m \u001b[1;36m2\u001b[0m\u001b[1;33m,\u001b[0m \u001b[0mfilled\u001b[0m\u001b[1;33m=\u001b[0m\u001b[1;32mTrue\u001b[0m\u001b[1;33m,\u001b[0m \u001b[0mfeature_names\u001b[0m\u001b[1;33m=\u001b[0m\u001b[0mX_test\u001b[0m\u001b[1;33m.\u001b[0m\u001b[0mcolumns\u001b[0m\u001b[1;33m)\u001b[0m\u001b[1;33m\u001b[0m\u001b[1;33m\u001b[0m\u001b[0m\n\u001b[0m",
      "\u001b[1;31mNameError\u001b[0m: name 'tree' is not defined"
     ]
    },
    {
     "data": {
      "text/plain": [
       "<Figure size 1440x1440 with 0 Axes>"
      ]
     },
     "metadata": {},
     "output_type": "display_data"
    }
   ],
   "source": [
    "plt.figure(figsize=(20,20))\n",
    "tree.plot_tree(grid_best_dt, max_depth= 2, filled=True, feature_names=X_test.columns)"
   ]
  },
  {
   "cell_type": "code",
   "execution_count": null,
   "id": "75075af3",
   "metadata": {},
   "outputs": [],
   "source": []
  },
  {
   "cell_type": "code",
   "execution_count": null,
   "id": "d6df1b5f",
   "metadata": {},
   "outputs": [],
   "source": []
  },
  {
   "cell_type": "code",
   "execution_count": null,
   "id": "39855f2c",
   "metadata": {},
   "outputs": [],
   "source": []
  }
 ],
 "metadata": {
  "hide_input": false,
  "kernelspec": {
   "display_name": "Python 3",
   "language": "python",
   "name": "python3"
  },
  "language_info": {
   "codemirror_mode": {
    "name": "ipython",
    "version": 3
   },
   "file_extension": ".py",
   "mimetype": "text/x-python",
   "name": "python",
   "nbconvert_exporter": "python",
   "pygments_lexer": "ipython3",
   "version": "3.8.8"
  },
  "toc": {
   "base_numbering": 1,
   "nav_menu": {},
   "number_sections": true,
   "sideBar": true,
   "skip_h1_title": false,
   "title_cell": "Table of Contents",
   "title_sidebar": "Contents",
   "toc_cell": false,
   "toc_position": {},
   "toc_section_display": true,
   "toc_window_display": false
  },
  "varInspector": {
   "cols": {
    "lenName": 16,
    "lenType": 16,
    "lenVar": 40
   },
   "kernels_config": {
    "python": {
     "delete_cmd_postfix": "",
     "delete_cmd_prefix": "del ",
     "library": "var_list.py",
     "varRefreshCmd": "print(var_dic_list())"
    },
    "r": {
     "delete_cmd_postfix": ") ",
     "delete_cmd_prefix": "rm(",
     "library": "var_list.r",
     "varRefreshCmd": "cat(var_dic_list()) "
    }
   },
   "types_to_exclude": [
    "module",
    "function",
    "builtin_function_or_method",
    "instance",
    "_Feature"
   ],
   "window_display": false
  }
 },
 "nbformat": 4,
 "nbformat_minor": 5
}
