{
 "cells": [
  {
   "cell_type": "code",
   "execution_count": 1,
   "id": "a93a1b86",
   "metadata": {
    "ExecuteTime": {
     "end_time": "2021-12-06T03:08:29.607614Z",
     "start_time": "2021-12-06T03:08:28.366121Z"
    }
   },
   "outputs": [],
   "source": [
    "import numpy as np\n",
    "import pandas as pd\n",
    "import os\n",
    "\n",
    "import matplotlib\n",
    "import matplotlib.pyplot as plt\n",
    "import seaborn as sns\n",
    "\n",
    "%matplotlib inline\n",
    "\n",
    "# 관련 라이브러리 임포트 \n",
    "import matplotlib.font_manager as fm\n",
    "\n",
    "#  한글글꼴로 변경\n",
    "# plt.rcParams['font.family'] = '한글글꼴명'\n",
    "plt.rcParams['font.size'] = 11.0\n",
    "# plt.rcParams['font.family'] = 'batang'\n",
    "plt.rcParams['font.family'] = 'Malgun Gothic'\n",
    "\n",
    "# 그래프에서 마이너스 폰트 깨지는 문제에 대한 대처\n",
    "matplotlib.rcParams['axes.unicode_minus'] = False\n",
    "\n",
    "# 그래프 기본 크기 설정 \n",
    "plt.rcParams['figure.figsize'] = [10, 6]"
   ]
  },
  {
   "cell_type": "code",
   "execution_count": 2,
   "id": "c8209468",
   "metadata": {
    "ExecuteTime": {
     "end_time": "2021-12-06T03:08:40.345304Z",
     "start_time": "2021-12-06T03:08:40.328300Z"
    }
   },
   "outputs": [
    {
     "data": {
      "text/html": [
       "<style>.container { font-weight: bold !important; }</style>"
      ],
      "text/plain": [
       "<IPython.core.display.HTML object>"
      ]
     },
     "metadata": {},
     "output_type": "display_data"
    },
    {
     "data": {
      "text/html": [
       "<style>.container { width: 98% !important; }</style>"
      ],
      "text/plain": [
       "<IPython.core.display.HTML object>"
      ]
     },
     "metadata": {},
     "output_type": "display_data"
    }
   ],
   "source": [
    "# 주피터 노트북 환경설정\n",
    "import warnings\n",
    "warnings.filterwarnings('ignore')\n",
    "warnings.simplefilter('ignore')\n",
    "\n",
    "from IPython.display import set_matplotlib_formats\n",
    "set_matplotlib_formats(\"retina\")\n",
    "\n",
    "from IPython.display import Image\n",
    "\n",
    "from IPython.core.display import display, HTML\n",
    "display(HTML(\"<style>.container { font-weight: bold !important; }</style>\"))\n",
    "display(HTML(\"<style>.container { width: 98% !important; }</style>\"))"
   ]
  },
  {
   "cell_type": "markdown",
   "id": "3b7471d6",
   "metadata": {},
   "source": [
    "# 데이타 전처리(Preprocessing)\n",
    "\n",
    "- 데이타 클린징\n",
    "- 결손값 처리 (Null, NaN 처리) \n",
    "- 데이터 인코딩 (레이블, 원핫인코딩)\n",
    "- 데이터 스케일링\n",
    "- 이상치 제거 \n",
    "- 피처 선택, 추출 및 가공 "
   ]
  },
  {
   "cell_type": "markdown",
   "id": "9e0ddfed",
   "metadata": {},
   "source": [
    "## 데이터 인코딩\n",
    "\n",
    "- 머신러닝에서의 데이터는 숫자형으로 표현되어야한다. \n",
    "- 이를 위해 사이킷런에서 자동으로 숫자값으로 변환되는 API에는 레이블 인코딩과 원핫 인코딩이 있다 "
   ]
  },
  {
   "cell_type": "markdown",
   "id": "37071dfe",
   "metadata": {},
   "source": [
    "# 레이블 인코딩(Label encoding)\n",
    "\n",
    ": 사이킷런의 LabelEncoder 이용. 숫자형태로 변경 \n",
    "\n",
    "- 모듈 임포트\n",
    "from sklearn.preprocessing import LabelEncoder\n",
    "\n",
    "- 인코딩 객체 생성 \n",
    "encoder = LabelEncoder()\n",
    "\n",
    "- 인코딩객체 fit => 인코딩.fit(타겟리스트) \n",
    "encoder.fit(items)\n",
    "\n",
    "- 인코딩객체 변환및 저장 =>  인코딩.transform(타겟리스트)\n",
    "labels = encoder.transform(items)"
   ]
  },
  {
   "cell_type": "markdown",
   "id": "95bf5017",
   "metadata": {},
   "source": [
    "##  판다스의 apply() 활용"
   ]
  },
  {
   "cell_type": "code",
   "execution_count": 3,
   "id": "cd12ed3e",
   "metadata": {
    "ExecuteTime": {
     "end_time": "2021-12-06T03:09:18.183060Z",
     "start_time": "2021-12-06T03:09:18.166059Z"
    }
   },
   "outputs": [
    {
     "data": {
      "text/html": [
       "<div>\n",
       "<style scoped>\n",
       "    .dataframe tbody tr th:only-of-type {\n",
       "        vertical-align: middle;\n",
       "    }\n",
       "\n",
       "    .dataframe tbody tr th {\n",
       "        vertical-align: top;\n",
       "    }\n",
       "\n",
       "    .dataframe thead th {\n",
       "        text-align: right;\n",
       "    }\n",
       "</style>\n",
       "<table border=\"1\" class=\"dataframe\">\n",
       "  <thead>\n",
       "    <tr style=\"text-align: right;\">\n",
       "      <th></th>\n",
       "      <th>items</th>\n",
       "    </tr>\n",
       "  </thead>\n",
       "  <tbody>\n",
       "    <tr>\n",
       "      <th>0</th>\n",
       "      <td>TV</td>\n",
       "    </tr>\n",
       "    <tr>\n",
       "      <th>1</th>\n",
       "      <td>냉장고</td>\n",
       "    </tr>\n",
       "    <tr>\n",
       "      <th>6</th>\n",
       "      <td>믹서</td>\n",
       "    </tr>\n",
       "    <tr>\n",
       "      <th>7</th>\n",
       "      <td>믹서</td>\n",
       "    </tr>\n",
       "    <tr>\n",
       "      <th>4</th>\n",
       "      <td>선풍기</td>\n",
       "    </tr>\n",
       "    <tr>\n",
       "      <th>5</th>\n",
       "      <td>선풍기</td>\n",
       "    </tr>\n",
       "    <tr>\n",
       "      <th>2</th>\n",
       "      <td>전자렌지</td>\n",
       "    </tr>\n",
       "    <tr>\n",
       "      <th>3</th>\n",
       "      <td>컴퓨터</td>\n",
       "    </tr>\n",
       "  </tbody>\n",
       "</table>\n",
       "</div>"
      ],
      "text/plain": [
       "  items\n",
       "0    TV\n",
       "1   냉장고\n",
       "6    믹서\n",
       "7    믹서\n",
       "4   선풍기\n",
       "5   선풍기\n",
       "2  전자렌지\n",
       "3   컴퓨터"
      ]
     },
     "execution_count": 3,
     "metadata": {},
     "output_type": "execute_result"
    }
   ],
   "source": [
    "items=['TV','냉장고','전자렌지','컴퓨터','선풍기','선풍기','믹서','믹서']\n",
    "\n",
    "df = pd.DataFrame(np.array(items).reshape(-1,1), columns=['items'])\n",
    "df.sort_values(by='items')"
   ]
  },
  {
   "cell_type": "code",
   "execution_count": 4,
   "id": "42b8a342",
   "metadata": {
    "ExecuteTime": {
     "end_time": "2021-12-06T03:09:26.260876Z",
     "start_time": "2021-12-06T03:09:26.252883Z"
    }
   },
   "outputs": [
    {
     "data": {
      "text/plain": [
       "['TV', '냉장고', '믹서', '선풍기', '전자렌지', '컴퓨터']"
      ]
     },
     "execution_count": 4,
     "metadata": {},
     "output_type": "execute_result"
    }
   ],
   "source": [
    "result = df.sort_values(by='items')['items']\n",
    "result_list = list(result.unique())\n",
    "result_list"
   ]
  },
  {
   "cell_type": "code",
   "execution_count": 5,
   "id": "b7c5c7fa",
   "metadata": {
    "ExecuteTime": {
     "end_time": "2021-12-06T03:09:37.341726Z",
     "start_time": "2021-12-06T03:09:37.328730Z"
    }
   },
   "outputs": [],
   "source": [
    "def change(item) :\n",
    "    result_list = ['TV', '냉장고', '믹서', '선풍기', '전자렌지', '컴퓨터']\n",
    "    return result_list.index(item)"
   ]
  },
  {
   "cell_type": "code",
   "execution_count": 7,
   "id": "35bb3736",
   "metadata": {
    "ExecuteTime": {
     "end_time": "2021-12-06T03:10:07.489987Z",
     "start_time": "2021-12-06T03:10:07.477988Z"
    }
   },
   "outputs": [
    {
     "data": {
      "text/plain": [
       "2"
      ]
     },
     "execution_count": 7,
     "metadata": {},
     "output_type": "execute_result"
    }
   ],
   "source": [
    "change('믹서')"
   ]
  },
  {
   "cell_type": "code",
   "execution_count": 9,
   "id": "104a9438",
   "metadata": {
    "ExecuteTime": {
     "end_time": "2021-12-06T03:10:29.310985Z",
     "start_time": "2021-12-06T03:10:29.303982Z"
    }
   },
   "outputs": [],
   "source": [
    "df['Label_encoder'] = df['items'].apply(change)"
   ]
  },
  {
   "cell_type": "code",
   "execution_count": 10,
   "id": "b51c4e62",
   "metadata": {
    "ExecuteTime": {
     "end_time": "2021-12-06T03:10:31.645812Z",
     "start_time": "2021-12-06T03:10:31.626806Z"
    }
   },
   "outputs": [
    {
     "data": {
      "text/html": [
       "<div>\n",
       "<style scoped>\n",
       "    .dataframe tbody tr th:only-of-type {\n",
       "        vertical-align: middle;\n",
       "    }\n",
       "\n",
       "    .dataframe tbody tr th {\n",
       "        vertical-align: top;\n",
       "    }\n",
       "\n",
       "    .dataframe thead th {\n",
       "        text-align: right;\n",
       "    }\n",
       "</style>\n",
       "<table border=\"1\" class=\"dataframe\">\n",
       "  <thead>\n",
       "    <tr style=\"text-align: right;\">\n",
       "      <th></th>\n",
       "      <th>items</th>\n",
       "      <th>Label_encoder</th>\n",
       "    </tr>\n",
       "  </thead>\n",
       "  <tbody>\n",
       "    <tr>\n",
       "      <th>0</th>\n",
       "      <td>TV</td>\n",
       "      <td>0</td>\n",
       "    </tr>\n",
       "    <tr>\n",
       "      <th>1</th>\n",
       "      <td>냉장고</td>\n",
       "      <td>1</td>\n",
       "    </tr>\n",
       "    <tr>\n",
       "      <th>2</th>\n",
       "      <td>전자렌지</td>\n",
       "      <td>4</td>\n",
       "    </tr>\n",
       "    <tr>\n",
       "      <th>3</th>\n",
       "      <td>컴퓨터</td>\n",
       "      <td>5</td>\n",
       "    </tr>\n",
       "    <tr>\n",
       "      <th>4</th>\n",
       "      <td>선풍기</td>\n",
       "      <td>3</td>\n",
       "    </tr>\n",
       "    <tr>\n",
       "      <th>5</th>\n",
       "      <td>선풍기</td>\n",
       "      <td>3</td>\n",
       "    </tr>\n",
       "    <tr>\n",
       "      <th>6</th>\n",
       "      <td>믹서</td>\n",
       "      <td>2</td>\n",
       "    </tr>\n",
       "    <tr>\n",
       "      <th>7</th>\n",
       "      <td>믹서</td>\n",
       "      <td>2</td>\n",
       "    </tr>\n",
       "  </tbody>\n",
       "</table>\n",
       "</div>"
      ],
      "text/plain": [
       "  items  Label_encoder\n",
       "0    TV              0\n",
       "1   냉장고              1\n",
       "2  전자렌지              4\n",
       "3   컴퓨터              5\n",
       "4   선풍기              3\n",
       "5   선풍기              3\n",
       "6    믹서              2\n",
       "7    믹서              2"
      ]
     },
     "execution_count": 10,
     "metadata": {},
     "output_type": "execute_result"
    }
   ],
   "source": [
    "df"
   ]
  },
  {
   "cell_type": "markdown",
   "id": "6796cac1",
   "metadata": {},
   "source": [
    "## sklearn 의 LabelEncoder 활용"
   ]
  },
  {
   "cell_type": "code",
   "execution_count": 11,
   "id": "1345fd25",
   "metadata": {
    "ExecuteTime": {
     "end_time": "2021-12-06T03:10:59.348174Z",
     "start_time": "2021-12-06T03:10:58.589801Z"
    }
   },
   "outputs": [],
   "source": [
    "from sklearn.preprocessing import LabelEncoder"
   ]
  },
  {
   "cell_type": "code",
   "execution_count": 12,
   "id": "536b5632",
   "metadata": {
    "ExecuteTime": {
     "end_time": "2021-12-06T03:11:03.690849Z",
     "start_time": "2021-12-06T03:11:03.677829Z"
    }
   },
   "outputs": [
    {
     "name": "stdout",
     "output_type": "stream",
     "text": [
      "['__class__', '__delattr__', '__dict__', '__dir__', '__doc__', '__eq__', '__format__', '__ge__', '__getattribute__', '__getstate__', '__gt__', '__hash__', '__init__', '__init_subclass__', '__le__', '__lt__', '__module__', '__ne__', '__new__', '__reduce__', '__reduce_ex__', '__repr__', '__setattr__', '__setstate__', '__sizeof__', '__str__', '__subclasshook__', '__weakref__', '_check_n_features', '_get_param_names', '_get_tags', '_more_tags', '_repr_html_', '_repr_html_inner', '_repr_mimebundle_', '_validate_data', 'fit', 'fit_transform', 'get_params', 'inverse_transform', 'set_params', 'transform']\n"
     ]
    }
   ],
   "source": [
    "print(dir(LabelEncoder))"
   ]
  },
  {
   "cell_type": "code",
   "execution_count": 13,
   "id": "0fedd4ba",
   "metadata": {
    "ExecuteTime": {
     "end_time": "2021-12-06T03:11:09.698588Z",
     "start_time": "2021-12-06T03:11:09.689595Z"
    }
   },
   "outputs": [
    {
     "name": "stdout",
     "output_type": "stream",
     "text": [
      "인코딩 변환값: [0 1 4 5 3 3 2 2]\n"
     ]
    }
   ],
   "source": [
    "items=['TV','냉장고','전자렌지','컴퓨터','선풍기','선풍기','믹서','믹서']\n",
    "\n",
    "encoder = LabelEncoder()\n",
    "\n",
    "encoder.fit(items)\n",
    "\n",
    "labels = encoder.transform(items)\n",
    "print('인코딩 변환값:',labels)"
   ]
  },
  {
   "cell_type": "code",
   "execution_count": 14,
   "id": "48b8e9fa",
   "metadata": {
    "ExecuteTime": {
     "end_time": "2021-12-06T03:11:23.107383Z",
     "start_time": "2021-12-06T03:11:23.101396Z"
    }
   },
   "outputs": [],
   "source": [
    "items=['TV','냉장고','전자렌지','컴퓨터','선풍기','선풍기','믹서','믹서']\n",
    "\n",
    "df = pd.DataFrame(np.array(items).reshape(-1,1), columns=['items'])\n",
    "\n",
    "encoder = LabelEncoder()\n",
    "\n",
    "encoder.fit(items)\n",
    " \n",
    "labels = encoder.transform(items)\n",
    "\n",
    "df['Label_encoder'] = labels"
   ]
  },
  {
   "cell_type": "code",
   "execution_count": 15,
   "id": "a254edf0",
   "metadata": {
    "ExecuteTime": {
     "end_time": "2021-12-06T03:11:29.404456Z",
     "start_time": "2021-12-06T03:11:29.389461Z"
    }
   },
   "outputs": [
    {
     "data": {
      "text/html": [
       "<div>\n",
       "<style scoped>\n",
       "    .dataframe tbody tr th:only-of-type {\n",
       "        vertical-align: middle;\n",
       "    }\n",
       "\n",
       "    .dataframe tbody tr th {\n",
       "        vertical-align: top;\n",
       "    }\n",
       "\n",
       "    .dataframe thead th {\n",
       "        text-align: right;\n",
       "    }\n",
       "</style>\n",
       "<table border=\"1\" class=\"dataframe\">\n",
       "  <thead>\n",
       "    <tr style=\"text-align: right;\">\n",
       "      <th></th>\n",
       "      <th>items</th>\n",
       "      <th>Label_encoder</th>\n",
       "    </tr>\n",
       "  </thead>\n",
       "  <tbody>\n",
       "    <tr>\n",
       "      <th>0</th>\n",
       "      <td>TV</td>\n",
       "      <td>0</td>\n",
       "    </tr>\n",
       "    <tr>\n",
       "      <th>1</th>\n",
       "      <td>냉장고</td>\n",
       "      <td>1</td>\n",
       "    </tr>\n",
       "    <tr>\n",
       "      <th>2</th>\n",
       "      <td>전자렌지</td>\n",
       "      <td>4</td>\n",
       "    </tr>\n",
       "    <tr>\n",
       "      <th>3</th>\n",
       "      <td>컴퓨터</td>\n",
       "      <td>5</td>\n",
       "    </tr>\n",
       "    <tr>\n",
       "      <th>4</th>\n",
       "      <td>선풍기</td>\n",
       "      <td>3</td>\n",
       "    </tr>\n",
       "    <tr>\n",
       "      <th>5</th>\n",
       "      <td>선풍기</td>\n",
       "      <td>3</td>\n",
       "    </tr>\n",
       "    <tr>\n",
       "      <th>6</th>\n",
       "      <td>믹서</td>\n",
       "      <td>2</td>\n",
       "    </tr>\n",
       "    <tr>\n",
       "      <th>7</th>\n",
       "      <td>믹서</td>\n",
       "      <td>2</td>\n",
       "    </tr>\n",
       "  </tbody>\n",
       "</table>\n",
       "</div>"
      ],
      "text/plain": [
       "  items  Label_encoder\n",
       "0    TV              0\n",
       "1   냉장고              1\n",
       "2  전자렌지              4\n",
       "3   컴퓨터              5\n",
       "4   선풍기              3\n",
       "5   선풍기              3\n",
       "6    믹서              2\n",
       "7    믹서              2"
      ]
     },
     "execution_count": 15,
     "metadata": {},
     "output_type": "execute_result"
    }
   ],
   "source": [
    "df"
   ]
  },
  {
   "cell_type": "markdown",
   "id": "9ea05aa7",
   "metadata": {},
   "source": [
    "## LabelEncoder() 의 메서드와 속성 활용 \n",
    "\n",
    "- 인코딩객체.classes_ : 원본값\n",
    "- 인코딩객체.inverse_transform() : 메소드 이용 원본값 보기 \n"
   ]
  },
  {
   "cell_type": "code",
   "execution_count": 16,
   "id": "2ade5ab1",
   "metadata": {
    "ExecuteTime": {
     "end_time": "2021-12-06T03:11:45.114047Z",
     "start_time": "2021-12-06T03:11:45.102045Z"
    }
   },
   "outputs": [
    {
     "name": "stdout",
     "output_type": "stream",
     "text": [
      "['__class__', '__delattr__', '__dict__', '__dir__', '__doc__', '__eq__', '__format__', '__ge__', '__getattribute__', '__getstate__', '__gt__', '__hash__', '__init__', '__init_subclass__', '__le__', '__lt__', '__module__', '__ne__', '__new__', '__reduce__', '__reduce_ex__', '__repr__', '__setattr__', '__setstate__', '__sizeof__', '__str__', '__subclasshook__', '__weakref__', '_check_n_features', '_get_param_names', '_get_tags', '_more_tags', '_repr_html_', '_repr_html_inner', '_repr_mimebundle_', '_validate_data', 'classes_', 'fit', 'fit_transform', 'get_params', 'inverse_transform', 'set_params', 'transform']\n"
     ]
    }
   ],
   "source": [
    "print(dir(encoder))"
   ]
  },
  {
   "cell_type": "code",
   "execution_count": 17,
   "id": "94adac0d",
   "metadata": {
    "ExecuteTime": {
     "end_time": "2021-12-06T03:11:50.913544Z",
     "start_time": "2021-12-06T03:11:50.902533Z"
    }
   },
   "outputs": [
    {
     "name": "stdout",
     "output_type": "stream",
     "text": [
      "인코딩 클래스: ['TV' '냉장고' '믹서' '선풍기' '전자렌지' '컴퓨터']\n"
     ]
    }
   ],
   "source": [
    "print('인코딩 클래스:', encoder.classes_)"
   ]
  },
  {
   "cell_type": "code",
   "execution_count": 18,
   "id": "90684e1e",
   "metadata": {
    "ExecuteTime": {
     "end_time": "2021-12-06T03:11:55.868002Z",
     "start_time": "2021-12-06T03:11:55.853000Z"
    }
   },
   "outputs": [
    {
     "name": "stdout",
     "output_type": "stream",
     "text": [
      "디코딩 원본 값: ['전자렌지' '컴퓨터' '믹서' 'TV' '냉장고' '냉장고' '선풍기' '선풍기']\n"
     ]
    }
   ],
   "source": [
    "print('디코딩 원본 값:', encoder.inverse_transform([4, 5, 2, 0, 1, 1, 3, 3]))"
   ]
  },
  {
   "cell_type": "markdown",
   "id": "8b0b0eea",
   "metadata": {},
   "source": [
    "# 원-핫 인코딩(One-Hot encoding) \n",
    "\n",
    "- 원핫인코딩은 피처 값의 유형에 따라 새로운 피처를 추가해 고유값에 해당하는 컬럼에만 1을 표시하고 나머지 컬럼에는 0을 표시하는 방식이다. 하나만 1로 변환. 최종 2차원으로 변환"
   ]
  },
  {
   "cell_type": "markdown",
   "id": "d9ddbcbb",
   "metadata": {},
   "source": [
    "## 판다스의 get_dummies()를 이용한 원핫 인코딩\n",
    "\n",
    "- pd.get_dummies(데이타프레임[컬럼명])\n",
    "- pd.get_dummies(데이타프레임)"
   ]
  },
  {
   "cell_type": "code",
   "execution_count": 20,
   "id": "3a820fa3",
   "metadata": {
    "ExecuteTime": {
     "end_time": "2021-12-06T03:13:15.317353Z",
     "start_time": "2021-12-06T03:13:15.301336Z"
    }
   },
   "outputs": [
    {
     "data": {
      "text/html": [
       "<div>\n",
       "<style scoped>\n",
       "    .dataframe tbody tr th:only-of-type {\n",
       "        vertical-align: middle;\n",
       "    }\n",
       "\n",
       "    .dataframe tbody tr th {\n",
       "        vertical-align: top;\n",
       "    }\n",
       "\n",
       "    .dataframe thead th {\n",
       "        text-align: right;\n",
       "    }\n",
       "</style>\n",
       "<table border=\"1\" class=\"dataframe\">\n",
       "  <thead>\n",
       "    <tr style=\"text-align: right;\">\n",
       "      <th></th>\n",
       "      <th>items</th>\n",
       "    </tr>\n",
       "  </thead>\n",
       "  <tbody>\n",
       "    <tr>\n",
       "      <th>0</th>\n",
       "      <td>TV</td>\n",
       "    </tr>\n",
       "    <tr>\n",
       "      <th>1</th>\n",
       "      <td>냉장고</td>\n",
       "    </tr>\n",
       "    <tr>\n",
       "      <th>2</th>\n",
       "      <td>전자렌지</td>\n",
       "    </tr>\n",
       "    <tr>\n",
       "      <th>3</th>\n",
       "      <td>컴퓨터</td>\n",
       "    </tr>\n",
       "    <tr>\n",
       "      <th>4</th>\n",
       "      <td>선풍기</td>\n",
       "    </tr>\n",
       "    <tr>\n",
       "      <th>5</th>\n",
       "      <td>선풍기</td>\n",
       "    </tr>\n",
       "    <tr>\n",
       "      <th>6</th>\n",
       "      <td>믹서</td>\n",
       "    </tr>\n",
       "    <tr>\n",
       "      <th>7</th>\n",
       "      <td>믹서</td>\n",
       "    </tr>\n",
       "  </tbody>\n",
       "</table>\n",
       "</div>"
      ],
      "text/plain": [
       "  items\n",
       "0    TV\n",
       "1   냉장고\n",
       "2  전자렌지\n",
       "3   컴퓨터\n",
       "4   선풍기\n",
       "5   선풍기\n",
       "6    믹서\n",
       "7    믹서"
      ]
     },
     "execution_count": 20,
     "metadata": {},
     "output_type": "execute_result"
    }
   ],
   "source": [
    "items=['TV','냉장고','전자렌지','컴퓨터','선풍기','선풍기','믹서','믹서']\n",
    "\n",
    "df = pd.DataFrame(np.array(items).reshape(-1,1), columns=['items'])\n",
    "df"
   ]
  },
  {
   "cell_type": "code",
   "execution_count": 21,
   "id": "04d57181",
   "metadata": {
    "ExecuteTime": {
     "end_time": "2021-12-06T03:13:22.782557Z",
     "start_time": "2021-12-06T03:13:22.764554Z"
    }
   },
   "outputs": [
    {
     "data": {
      "text/html": [
       "<div>\n",
       "<style scoped>\n",
       "    .dataframe tbody tr th:only-of-type {\n",
       "        vertical-align: middle;\n",
       "    }\n",
       "\n",
       "    .dataframe tbody tr th {\n",
       "        vertical-align: top;\n",
       "    }\n",
       "\n",
       "    .dataframe thead th {\n",
       "        text-align: right;\n",
       "    }\n",
       "</style>\n",
       "<table border=\"1\" class=\"dataframe\">\n",
       "  <thead>\n",
       "    <tr style=\"text-align: right;\">\n",
       "      <th></th>\n",
       "      <th>items_TV</th>\n",
       "      <th>items_냉장고</th>\n",
       "      <th>items_믹서</th>\n",
       "      <th>items_선풍기</th>\n",
       "      <th>items_전자렌지</th>\n",
       "      <th>items_컴퓨터</th>\n",
       "    </tr>\n",
       "  </thead>\n",
       "  <tbody>\n",
       "    <tr>\n",
       "      <th>0</th>\n",
       "      <td>1</td>\n",
       "      <td>0</td>\n",
       "      <td>0</td>\n",
       "      <td>0</td>\n",
       "      <td>0</td>\n",
       "      <td>0</td>\n",
       "    </tr>\n",
       "    <tr>\n",
       "      <th>1</th>\n",
       "      <td>0</td>\n",
       "      <td>1</td>\n",
       "      <td>0</td>\n",
       "      <td>0</td>\n",
       "      <td>0</td>\n",
       "      <td>0</td>\n",
       "    </tr>\n",
       "    <tr>\n",
       "      <th>2</th>\n",
       "      <td>0</td>\n",
       "      <td>0</td>\n",
       "      <td>0</td>\n",
       "      <td>0</td>\n",
       "      <td>1</td>\n",
       "      <td>0</td>\n",
       "    </tr>\n",
       "    <tr>\n",
       "      <th>3</th>\n",
       "      <td>0</td>\n",
       "      <td>0</td>\n",
       "      <td>0</td>\n",
       "      <td>0</td>\n",
       "      <td>0</td>\n",
       "      <td>1</td>\n",
       "    </tr>\n",
       "    <tr>\n",
       "      <th>4</th>\n",
       "      <td>0</td>\n",
       "      <td>0</td>\n",
       "      <td>0</td>\n",
       "      <td>1</td>\n",
       "      <td>0</td>\n",
       "      <td>0</td>\n",
       "    </tr>\n",
       "    <tr>\n",
       "      <th>5</th>\n",
       "      <td>0</td>\n",
       "      <td>0</td>\n",
       "      <td>0</td>\n",
       "      <td>1</td>\n",
       "      <td>0</td>\n",
       "      <td>0</td>\n",
       "    </tr>\n",
       "    <tr>\n",
       "      <th>6</th>\n",
       "      <td>0</td>\n",
       "      <td>0</td>\n",
       "      <td>1</td>\n",
       "      <td>0</td>\n",
       "      <td>0</td>\n",
       "      <td>0</td>\n",
       "    </tr>\n",
       "    <tr>\n",
       "      <th>7</th>\n",
       "      <td>0</td>\n",
       "      <td>0</td>\n",
       "      <td>1</td>\n",
       "      <td>0</td>\n",
       "      <td>0</td>\n",
       "      <td>0</td>\n",
       "    </tr>\n",
       "  </tbody>\n",
       "</table>\n",
       "</div>"
      ],
      "text/plain": [
       "   items_TV  items_냉장고  items_믹서  items_선풍기  items_전자렌지  items_컴퓨터\n",
       "0         1          0         0          0           0          0\n",
       "1         0          1         0          0           0          0\n",
       "2         0          0         0          0           1          0\n",
       "3         0          0         0          0           0          1\n",
       "4         0          0         0          1           0          0\n",
       "5         0          0         0          1           0          0\n",
       "6         0          0         1          0           0          0\n",
       "7         0          0         1          0           0          0"
      ]
     },
     "execution_count": 21,
     "metadata": {},
     "output_type": "execute_result"
    }
   ],
   "source": [
    "pd.get_dummies(df)"
   ]
  },
  {
   "cell_type": "code",
   "execution_count": 22,
   "id": "7e302f1e",
   "metadata": {
    "ExecuteTime": {
     "end_time": "2021-12-06T03:13:31.335241Z",
     "start_time": "2021-12-06T03:13:31.327233Z"
    }
   },
   "outputs": [
    {
     "data": {
      "text/html": [
       "<div>\n",
       "<style scoped>\n",
       "    .dataframe tbody tr th:only-of-type {\n",
       "        vertical-align: middle;\n",
       "    }\n",
       "\n",
       "    .dataframe tbody tr th {\n",
       "        vertical-align: top;\n",
       "    }\n",
       "\n",
       "    .dataframe thead th {\n",
       "        text-align: right;\n",
       "    }\n",
       "</style>\n",
       "<table border=\"1\" class=\"dataframe\">\n",
       "  <thead>\n",
       "    <tr style=\"text-align: right;\">\n",
       "      <th></th>\n",
       "      <th>TV</th>\n",
       "      <th>냉장고</th>\n",
       "      <th>믹서</th>\n",
       "      <th>선풍기</th>\n",
       "      <th>전자렌지</th>\n",
       "      <th>컴퓨터</th>\n",
       "    </tr>\n",
       "  </thead>\n",
       "  <tbody>\n",
       "    <tr>\n",
       "      <th>0</th>\n",
       "      <td>1</td>\n",
       "      <td>0</td>\n",
       "      <td>0</td>\n",
       "      <td>0</td>\n",
       "      <td>0</td>\n",
       "      <td>0</td>\n",
       "    </tr>\n",
       "    <tr>\n",
       "      <th>1</th>\n",
       "      <td>0</td>\n",
       "      <td>1</td>\n",
       "      <td>0</td>\n",
       "      <td>0</td>\n",
       "      <td>0</td>\n",
       "      <td>0</td>\n",
       "    </tr>\n",
       "    <tr>\n",
       "      <th>2</th>\n",
       "      <td>0</td>\n",
       "      <td>0</td>\n",
       "      <td>0</td>\n",
       "      <td>0</td>\n",
       "      <td>1</td>\n",
       "      <td>0</td>\n",
       "    </tr>\n",
       "    <tr>\n",
       "      <th>3</th>\n",
       "      <td>0</td>\n",
       "      <td>0</td>\n",
       "      <td>0</td>\n",
       "      <td>0</td>\n",
       "      <td>0</td>\n",
       "      <td>1</td>\n",
       "    </tr>\n",
       "    <tr>\n",
       "      <th>4</th>\n",
       "      <td>0</td>\n",
       "      <td>0</td>\n",
       "      <td>0</td>\n",
       "      <td>1</td>\n",
       "      <td>0</td>\n",
       "      <td>0</td>\n",
       "    </tr>\n",
       "    <tr>\n",
       "      <th>5</th>\n",
       "      <td>0</td>\n",
       "      <td>0</td>\n",
       "      <td>0</td>\n",
       "      <td>1</td>\n",
       "      <td>0</td>\n",
       "      <td>0</td>\n",
       "    </tr>\n",
       "    <tr>\n",
       "      <th>6</th>\n",
       "      <td>0</td>\n",
       "      <td>0</td>\n",
       "      <td>1</td>\n",
       "      <td>0</td>\n",
       "      <td>0</td>\n",
       "      <td>0</td>\n",
       "    </tr>\n",
       "    <tr>\n",
       "      <th>7</th>\n",
       "      <td>0</td>\n",
       "      <td>0</td>\n",
       "      <td>1</td>\n",
       "      <td>0</td>\n",
       "      <td>0</td>\n",
       "      <td>0</td>\n",
       "    </tr>\n",
       "  </tbody>\n",
       "</table>\n",
       "</div>"
      ],
      "text/plain": [
       "   TV  냉장고  믹서  선풍기  전자렌지  컴퓨터\n",
       "0   1    0   0    0     0    0\n",
       "1   0    1   0    0     0    0\n",
       "2   0    0   0    0     1    0\n",
       "3   0    0   0    0     0    1\n",
       "4   0    0   0    1     0    0\n",
       "5   0    0   0    1     0    0\n",
       "6   0    0   1    0     0    0\n",
       "7   0    0   1    0     0    0"
      ]
     },
     "execution_count": 22,
     "metadata": {},
     "output_type": "execute_result"
    }
   ],
   "source": [
    "pd.get_dummies(df['items'])"
   ]
  },
  {
   "cell_type": "markdown",
   "id": "dac419c4",
   "metadata": {},
   "source": [
    "# 타이타닉 생존자 예측 \n",
    "\n",
    "##  데이타셋 \n",
    "교재에서 제공하는 타이타닉 데이타 이용\n",
    "data/titanic_book.csv\n",
    "\n",
    "##  각 피처 설명 \n",
    "* Passengerid: 탑승자 데이터 일련번호\n",
    "* survived: 생존 여부, 0 = 사망, 1 = 생존\n",
    "* Pclass: 티켓의 선실 등급, 1 = 일등석, 2 = 이등석, 3 = 삼등석\n",
    "* sex: 탑승자 성별\n",
    "* name: 탑승자 이름\n",
    "* Age: 탑승자 나이\n",
    "* sibsp: 같이 탑승한 형제자매 또는 배우자 인원수\n",
    "* parch: 같이 탑승한 부모님 또는 어린이 인원수\n",
    "* ticket: 티켓 번호\n",
    "* fare: 요금\n",
    "* cabin: 선실 번호\n",
    "* embarked: 중간 정착 항구 C = Cherbourg, Q = Queenstown, S = Southampton"
   ]
  },
  {
   "cell_type": "code",
   "execution_count": 34,
   "id": "ceb81377",
   "metadata": {
    "ExecuteTime": {
     "end_time": "2021-12-06T05:49:30.068320Z",
     "start_time": "2021-12-06T05:49:30.046305Z"
    }
   },
   "outputs": [
    {
     "data": {
      "text/html": [
       "<div>\n",
       "<style scoped>\n",
       "    .dataframe tbody tr th:only-of-type {\n",
       "        vertical-align: middle;\n",
       "    }\n",
       "\n",
       "    .dataframe tbody tr th {\n",
       "        vertical-align: top;\n",
       "    }\n",
       "\n",
       "    .dataframe thead th {\n",
       "        text-align: right;\n",
       "    }\n",
       "</style>\n",
       "<table border=\"1\" class=\"dataframe\">\n",
       "  <thead>\n",
       "    <tr style=\"text-align: right;\">\n",
       "      <th></th>\n",
       "      <th>PassengerId</th>\n",
       "      <th>Survived</th>\n",
       "      <th>Pclass</th>\n",
       "      <th>Name</th>\n",
       "      <th>Sex</th>\n",
       "      <th>Age</th>\n",
       "      <th>SibSp</th>\n",
       "      <th>Parch</th>\n",
       "      <th>Ticket</th>\n",
       "      <th>Fare</th>\n",
       "      <th>Cabin</th>\n",
       "      <th>Embarked</th>\n",
       "    </tr>\n",
       "  </thead>\n",
       "  <tbody>\n",
       "    <tr>\n",
       "      <th>0</th>\n",
       "      <td>1</td>\n",
       "      <td>0</td>\n",
       "      <td>3</td>\n",
       "      <td>Braund, Mr. Owen Harris</td>\n",
       "      <td>male</td>\n",
       "      <td>22.0</td>\n",
       "      <td>1</td>\n",
       "      <td>0</td>\n",
       "      <td>A/5 21171</td>\n",
       "      <td>7.2500</td>\n",
       "      <td>NaN</td>\n",
       "      <td>S</td>\n",
       "    </tr>\n",
       "    <tr>\n",
       "      <th>1</th>\n",
       "      <td>2</td>\n",
       "      <td>1</td>\n",
       "      <td>1</td>\n",
       "      <td>Cumings, Mrs. John Bradley (Florence Briggs Th...</td>\n",
       "      <td>female</td>\n",
       "      <td>38.0</td>\n",
       "      <td>1</td>\n",
       "      <td>0</td>\n",
       "      <td>PC 17599</td>\n",
       "      <td>71.2833</td>\n",
       "      <td>C85</td>\n",
       "      <td>C</td>\n",
       "    </tr>\n",
       "    <tr>\n",
       "      <th>2</th>\n",
       "      <td>3</td>\n",
       "      <td>1</td>\n",
       "      <td>3</td>\n",
       "      <td>Heikkinen, Miss. Laina</td>\n",
       "      <td>female</td>\n",
       "      <td>26.0</td>\n",
       "      <td>0</td>\n",
       "      <td>0</td>\n",
       "      <td>STON/O2. 3101282</td>\n",
       "      <td>7.9250</td>\n",
       "      <td>NaN</td>\n",
       "      <td>S</td>\n",
       "    </tr>\n",
       "  </tbody>\n",
       "</table>\n",
       "</div>"
      ],
      "text/plain": [
       "   PassengerId  Survived  Pclass  \\\n",
       "0            1         0       3   \n",
       "1            2         1       1   \n",
       "2            3         1       3   \n",
       "\n",
       "                                                Name     Sex   Age  SibSp  \\\n",
       "0                            Braund, Mr. Owen Harris    male  22.0      1   \n",
       "1  Cumings, Mrs. John Bradley (Florence Briggs Th...  female  38.0      1   \n",
       "2                             Heikkinen, Miss. Laina  female  26.0      0   \n",
       "\n",
       "   Parch            Ticket     Fare Cabin Embarked  \n",
       "0      0         A/5 21171   7.2500   NaN        S  \n",
       "1      0          PC 17599  71.2833   C85        C  \n",
       "2      0  STON/O2. 3101282   7.9250   NaN        S  "
      ]
     },
     "execution_count": 34,
     "metadata": {},
     "output_type": "execute_result"
    }
   ],
   "source": [
    "titanic_df = pd.read_csv('~/dropbox/python숙달/data/titanic_book.csv')\n",
    "titanic_df.head(3)"
   ]
  },
  {
   "cell_type": "code",
   "execution_count": 35,
   "id": "9d677115",
   "metadata": {
    "ExecuteTime": {
     "end_time": "2021-12-06T05:49:33.501445Z",
     "start_time": "2021-12-06T05:49:33.492442Z"
    }
   },
   "outputs": [
    {
     "name": "stdout",
     "output_type": "stream",
     "text": [
      "\n",
      " ### train 데이터 정보 ###  \n",
      "\n",
      "<class 'pandas.core.frame.DataFrame'>\n",
      "RangeIndex: 891 entries, 0 to 890\n",
      "Data columns (total 12 columns):\n",
      " #   Column       Non-Null Count  Dtype  \n",
      "---  ------       --------------  -----  \n",
      " 0   PassengerId  891 non-null    int64  \n",
      " 1   Survived     891 non-null    int64  \n",
      " 2   Pclass       891 non-null    int64  \n",
      " 3   Name         891 non-null    object \n",
      " 4   Sex          891 non-null    object \n",
      " 5   Age          714 non-null    float64\n",
      " 6   SibSp        891 non-null    int64  \n",
      " 7   Parch        891 non-null    int64  \n",
      " 8   Ticket       891 non-null    object \n",
      " 9   Fare         891 non-null    float64\n",
      " 10  Cabin        204 non-null    object \n",
      " 11  Embarked     889 non-null    object \n",
      "dtypes: float64(2), int64(5), object(5)\n",
      "memory usage: 83.7+ KB\n",
      "None\n"
     ]
    }
   ],
   "source": [
    "print('\\n ### train 데이터 정보 ###  \\n')\n",
    "print(titanic_df.info())\n",
    "\n",
    "# null 결측치가 있는 피처 확인 - Age, Cabin, Embarked"
   ]
  },
  {
   "cell_type": "markdown",
   "id": "466da86c",
   "metadata": {},
   "source": [
    "## NULL 컬럼들에 대한 처리 **"
   ]
  },
  {
   "cell_type": "code",
   "execution_count": 37,
   "id": "e5078048",
   "metadata": {
    "ExecuteTime": {
     "end_time": "2021-12-06T05:50:24.735512Z",
     "start_time": "2021-12-06T05:50:24.717517Z"
    }
   },
   "outputs": [
    {
     "name": "stdout",
     "output_type": "stream",
     "text": [
      "데이터 세트 Null 값 갯수  0\n"
     ]
    }
   ],
   "source": [
    "# 평균값으로 대체 \n",
    "titanic_df['Age'].fillna(titanic_df['Age'].mean(),inplace=True)\n",
    "\n",
    "titanic_df['Cabin'].fillna('N', inplace=True)\n",
    "titanic_df['Embarked'].fillna('N', inplace=True)\n",
    "\n",
    "print('데이터 세트 Null 값 갯수 ',titanic_df.isnull().sum().sum())"
   ]
  },
  {
   "cell_type": "markdown",
   "id": "6a96d99b",
   "metadata": {},
   "source": [
    "## 각 피처의 값의 분포 value_counts()"
   ]
  },
  {
   "cell_type": "code",
   "execution_count": 38,
   "id": "d569a26f",
   "metadata": {
    "ExecuteTime": {
     "end_time": "2021-12-06T05:50:31.728657Z",
     "start_time": "2021-12-06T05:50:31.714648Z"
    }
   },
   "outputs": [
    {
     "name": "stdout",
     "output_type": "stream",
     "text": [
      " Sex 값 분포 :\n",
      " male      577\n",
      "female    314\n",
      "Name: Sex, dtype: int64\n",
      "\n",
      " Cabin 값 분포 :\n",
      " N              687\n",
      "G6               4\n",
      "C23 C25 C27      4\n",
      "B96 B98          4\n",
      "F33              3\n",
      "              ... \n",
      "C103             1\n",
      "A5               1\n",
      "A19              1\n",
      "D46              1\n",
      "C91              1\n",
      "Name: Cabin, Length: 148, dtype: int64\n",
      "\n",
      " Embarked 값 분포 :\n",
      " S    644\n",
      "C    168\n",
      "Q     77\n",
      "N      2\n",
      "Name: Embarked, dtype: int64\n"
     ]
    }
   ],
   "source": [
    "print(' Sex 값 분포 :\\n',titanic_df['Sex'].value_counts())\n",
    "print('\\n Cabin 값 분포 :\\n',titanic_df['Cabin'].value_counts())\n",
    "print('\\n Embarked 값 분포 :\\n',titanic_df['Embarked'].value_counts())"
   ]
  },
  {
   "cell_type": "code",
   "execution_count": 39,
   "id": "79dfd5e7",
   "metadata": {
    "ExecuteTime": {
     "end_time": "2021-12-06T05:50:51.940019Z",
     "start_time": "2021-12-06T05:50:51.790943Z"
    }
   },
   "outputs": [
    {
     "data": {
      "image/png": "[encoded data removed]",
      "text/plain": [
       "<Figure size 720x432 with 1 Axes>"
      ]
     },
     "metadata": {
      "image/png": {
       "height": 373,
       "width": 612
      },
      "needs_background": "light"
     },
     "output_type": "display_data"
    }
   ],
   "source": [
    "sns.countplot(x = 'Survived', data=titanic_df);"
   ]
  },
  {
   "cell_type": "code",
   "execution_count": 40,
   "id": "f0f35b26",
   "metadata": {
    "ExecuteTime": {
     "end_time": "2021-12-06T05:51:00.030305Z",
     "start_time": "2021-12-06T05:50:59.827258Z"
    }
   },
   "outputs": [
    {
     "data": {
      "text/plain": [
       "<AxesSubplot:xlabel='Sex', ylabel='Survived'>"
      ]
     },
     "execution_count": 40,
     "metadata": {},
     "output_type": "execute_result"
    },
    {
     "data": {
      "image/png": "[encoded data removed]",
      "text/plain": [
       "<Figure size 720x432 with 1 Axes>"
      ]
     },
     "metadata": {
      "image/png": {
       "height": 373,
       "width": 608
      },
      "needs_background": "light"
     },
     "output_type": "display_data"
    }
   ],
   "source": [
    "sns.barplot(x='Sex', y='Survived', data=titanic_df)"
   ]
  },
  {
   "cell_type": "code",
   "execution_count": 41,
   "id": "130b8155",
   "metadata": {
    "ExecuteTime": {
     "end_time": "2021-12-06T05:53:46.000312Z",
     "start_time": "2021-12-06T05:53:45.689201Z"
    }
   },
   "outputs": [
    {
     "data": {
      "text/plain": [
       "<AxesSubplot:xlabel='Pclass', ylabel='Survived'>"
      ]
     },
     "execution_count": 41,
     "metadata": {},
     "output_type": "execute_result"
    },
    {
     "data": {
      "image/png": "[encoded data removed]",
      "text/plain": [
       "<Figure size 720x432 with 1 Axes>"
      ]
     },
     "metadata": {
      "image/png": {
       "height": 373,
       "width": 608
      },
      "needs_background": "light"
     },
     "output_type": "display_data"
    }
   ],
   "source": [
    "sns.barplot(x='Pclass', y='Survived', hue='Sex', ci=False, data=titanic_df)"
   ]
  },
  {
   "cell_type": "markdown",
   "id": "107badc7",
   "metadata": {},
   "source": [
    "## Sex, Embarked  전처리 \n",
    "- LabelEncoder()로 변환"
   ]
  },
  {
   "cell_type": "code",
   "execution_count": 42,
   "id": "aaaeb96a",
   "metadata": {
    "ExecuteTime": {
     "end_time": "2021-12-06T05:54:15.112207Z",
     "start_time": "2021-12-06T05:54:15.102205Z"
    }
   },
   "outputs": [],
   "source": [
    "from sklearn.preprocessing import LabelEncoder"
   ]
  },
  {
   "cell_type": "code",
   "execution_count": 44,
   "id": "e17e45bf",
   "metadata": {
    "ExecuteTime": {
     "end_time": "2021-12-06T05:54:37.507062Z",
     "start_time": "2021-12-06T05:54:37.490039Z"
    }
   },
   "outputs": [
    {
     "data": {
      "text/plain": [
       "male      577\n",
       "female    314\n",
       "Name: Sex, dtype: int64"
      ]
     },
     "execution_count": 44,
     "metadata": {},
     "output_type": "execute_result"
    }
   ],
   "source": [
    "titanic_df['Sex'].value_counts()"
   ]
  },
  {
   "cell_type": "code",
   "execution_count": 47,
   "id": "7fd315b7",
   "metadata": {
    "ExecuteTime": {
     "end_time": "2021-12-06T05:56:44.405265Z",
     "start_time": "2021-12-06T05:56:44.389134Z"
    }
   },
   "outputs": [],
   "source": [
    "encoder = LabelEncoder()\n",
    "encoder.fit(titanic_df.Sex)\n",
    "temp = encoder.transform(titanic_df.Sex)\n"
   ]
  },
  {
   "cell_type": "code",
   "execution_count": 48,
   "id": "93054e33",
   "metadata": {
    "ExecuteTime": {
     "end_time": "2021-12-06T05:56:49.571710Z",
     "start_time": "2021-12-06T05:56:49.563696Z"
    }
   },
   "outputs": [],
   "source": [
    "titanic_df['Sex'] = temp.reshape(-1, 1)"
   ]
  },
  {
   "cell_type": "code",
   "execution_count": 50,
   "id": "6254191c",
   "metadata": {
    "ExecuteTime": {
     "end_time": "2021-12-06T05:56:59.005699Z",
     "start_time": "2021-12-06T05:56:58.988682Z"
    }
   },
   "outputs": [
    {
     "data": {
      "text/html": [
       "<div>\n",
       "<style scoped>\n",
       "    .dataframe tbody tr th:only-of-type {\n",
       "        vertical-align: middle;\n",
       "    }\n",
       "\n",
       "    .dataframe tbody tr th {\n",
       "        vertical-align: top;\n",
       "    }\n",
       "\n",
       "    .dataframe thead th {\n",
       "        text-align: right;\n",
       "    }\n",
       "</style>\n",
       "<table border=\"1\" class=\"dataframe\">\n",
       "  <thead>\n",
       "    <tr style=\"text-align: right;\">\n",
       "      <th></th>\n",
       "      <th>PassengerId</th>\n",
       "      <th>Survived</th>\n",
       "      <th>Pclass</th>\n",
       "      <th>Name</th>\n",
       "      <th>Sex</th>\n",
       "      <th>Age</th>\n",
       "      <th>SibSp</th>\n",
       "      <th>Parch</th>\n",
       "      <th>Ticket</th>\n",
       "      <th>Fare</th>\n",
       "      <th>Cabin</th>\n",
       "      <th>Embarked</th>\n",
       "    </tr>\n",
       "  </thead>\n",
       "  <tbody>\n",
       "    <tr>\n",
       "      <th>0</th>\n",
       "      <td>1</td>\n",
       "      <td>0</td>\n",
       "      <td>3</td>\n",
       "      <td>Braund, Mr. Owen Harris</td>\n",
       "      <td>1</td>\n",
       "      <td>22.0</td>\n",
       "      <td>1</td>\n",
       "      <td>0</td>\n",
       "      <td>A/5 21171</td>\n",
       "      <td>7.2500</td>\n",
       "      <td>N</td>\n",
       "      <td>S</td>\n",
       "    </tr>\n",
       "    <tr>\n",
       "      <th>1</th>\n",
       "      <td>2</td>\n",
       "      <td>1</td>\n",
       "      <td>1</td>\n",
       "      <td>Cumings, Mrs. John Bradley (Florence Briggs Th...</td>\n",
       "      <td>0</td>\n",
       "      <td>38.0</td>\n",
       "      <td>1</td>\n",
       "      <td>0</td>\n",
       "      <td>PC 17599</td>\n",
       "      <td>71.2833</td>\n",
       "      <td>C85</td>\n",
       "      <td>C</td>\n",
       "    </tr>\n",
       "  </tbody>\n",
       "</table>\n",
       "</div>"
      ],
      "text/plain": [
       "   PassengerId  Survived  Pclass  \\\n",
       "0            1         0       3   \n",
       "1            2         1       1   \n",
       "\n",
       "                                                Name  Sex   Age  SibSp  Parch  \\\n",
       "0                            Braund, Mr. Owen Harris    1  22.0      1      0   \n",
       "1  Cumings, Mrs. John Bradley (Florence Briggs Th...    0  38.0      1      0   \n",
       "\n",
       "      Ticket     Fare Cabin Embarked  \n",
       "0  A/5 21171   7.2500     N        S  \n",
       "1   PC 17599  71.2833   C85        C  "
      ]
     },
     "execution_count": 50,
     "metadata": {},
     "output_type": "execute_result"
    }
   ],
   "source": [
    "titanic_df.head(2)"
   ]
  },
  {
   "cell_type": "code",
   "execution_count": 51,
   "id": "557bb9c6",
   "metadata": {
    "ExecuteTime": {
     "end_time": "2021-12-06T05:57:02.757209Z",
     "start_time": "2021-12-06T05:57:02.750207Z"
    }
   },
   "outputs": [
    {
     "data": {
      "text/plain": [
       "1    577\n",
       "0    314\n",
       "Name: Sex, dtype: int64"
      ]
     },
     "execution_count": 51,
     "metadata": {},
     "output_type": "execute_result"
    }
   ],
   "source": [
    "titanic_df['Sex'].value_counts()"
   ]
  },
  {
   "cell_type": "code",
   "execution_count": 52,
   "id": "60fe2726",
   "metadata": {
    "ExecuteTime": {
     "end_time": "2021-12-06T05:57:08.558099Z",
     "start_time": "2021-12-06T05:57:08.551112Z"
    }
   },
   "outputs": [],
   "source": [
    "# encoder = LabelEncoder()\n",
    "\n",
    "encoder.fit(titanic_df['Embarked'])\n",
    "\n",
    "temp = encoder.transform(titanic_df['Embarked'])\n",
    "\n",
    "titanic_df['Embarked'] = temp.reshape(-1, 1)"
   ]
  },
  {
   "cell_type": "code",
   "execution_count": 54,
   "id": "78c2e173",
   "metadata": {
    "ExecuteTime": {
     "end_time": "2021-12-06T05:57:18.243751Z",
     "start_time": "2021-12-06T05:57:18.099719Z"
    }
   },
   "outputs": [
    {
     "data": {
      "image/png": "[encoded data removed]",
      "text/plain": [
       "<Figure size 720x432 with 1 Axes>"
      ]
     },
     "metadata": {
      "image/png": {
       "height": 373,
       "width": 612
      },
      "needs_background": "light"
     },
     "output_type": "display_data"
    }
   ],
   "source": [
    "sns.countplot(x='Embarked', data=titanic_df);"
   ]
  },
  {
   "cell_type": "markdown",
   "id": "d046a207",
   "metadata": {},
   "source": [
    "## Cabin"
   ]
  },
  {
   "cell_type": "code",
   "execution_count": 55,
   "id": "f8bef29d",
   "metadata": {
    "ExecuteTime": {
     "end_time": "2021-12-06T05:57:41.054277Z",
     "start_time": "2021-12-06T05:57:41.038273Z"
    },
    "scrolled": true
   },
   "outputs": [
    {
     "data": {
      "text/plain": [
       "N    687\n",
       "C     59\n",
       "B     47\n",
       "D     33\n",
       "E     32\n",
       "A     15\n",
       "F     13\n",
       "G      4\n",
       "T      1\n",
       "Name: Cabin, dtype: int64"
      ]
     },
     "execution_count": 55,
     "metadata": {},
     "output_type": "execute_result"
    }
   ],
   "source": [
    "titanic_df['Cabin'] = titanic_df['Cabin'].str[:1]\n",
    "titanic_df['Cabin'].value_counts()"
   ]
  },
  {
   "cell_type": "code",
   "execution_count": 56,
   "id": "db934da4",
   "metadata": {
    "ExecuteTime": {
     "end_time": "2021-12-06T05:57:47.938542Z",
     "start_time": "2021-12-06T05:57:47.925531Z"
    }
   },
   "outputs": [],
   "source": [
    "encoder.fit(titanic_df['Cabin'])\n",
    "\n",
    "temp = encoder.transform(titanic_df['Cabin'])\n",
    "\n",
    "titanic_df['Cabin'] = temp.reshape(-1, 1)"
   ]
  },
  {
   "cell_type": "markdown",
   "id": "f957f988",
   "metadata": {},
   "source": [
    "## 불필요한 컬럼 삭제 m"
   ]
  },
  {
   "cell_type": "code",
   "execution_count": 57,
   "id": "a781ec41",
   "metadata": {
    "ExecuteTime": {
     "end_time": "2021-12-06T05:57:57.795432Z",
     "start_time": "2021-12-06T05:57:57.787423Z"
    }
   },
   "outputs": [],
   "source": [
    "titanic_df.drop(['PassengerId','Name','Ticket'], axis=1, inplace=True)"
   ]
  },
  {
   "cell_type": "markdown",
   "id": "11cf5d17",
   "metadata": {},
   "source": [
    "## 학습데이타와 테스트데이타셋으로 분리"
   ]
  },
  {
   "cell_type": "code",
   "execution_count": 80,
   "id": "18a78981",
   "metadata": {
    "ExecuteTime": {
     "end_time": "2021-12-06T06:02:30.350742Z",
     "start_time": "2021-12-06T06:02:30.335748Z"
    }
   },
   "outputs": [],
   "source": [
    "X = titanic_df.iloc[:,1:]\n",
    "y = titanic_df.Survived"
   ]
  },
  {
   "cell_type": "code",
   "execution_count": 125,
   "id": "e7b22f3c",
   "metadata": {
    "ExecuteTime": {
     "end_time": "2021-12-06T08:01:32.440145Z",
     "start_time": "2021-12-06T08:01:32.427132Z"
    }
   },
   "outputs": [],
   "source": [
    "from sklearn.model_selection import train_test_split\n",
    "X_train, X_test, y_train, y_test = train_test_split(X, y,  test_size=0.3, random_state=11, stratify= y)"
   ]
  },
  {
   "cell_type": "markdown",
   "id": "bb47f6c6",
   "metadata": {},
   "source": [
    "# model 사용해보기"
   ]
  },
  {
   "cell_type": "code",
   "execution_count": 89,
   "id": "5f0e4b2f",
   "metadata": {
    "ExecuteTime": {
     "end_time": "2021-12-06T06:05:09.872990Z",
     "start_time": "2021-12-06T06:05:09.858976Z"
    }
   },
   "outputs": [],
   "source": [
    "from sklearn.neighbors import KNeighborsClassifier\n",
    "from sklearn.tree import DecisionTreeClassifier\n",
    "from sklearn.ensemble import RandomForestClassifier\n",
    "from sklearn.linear_model import LogisticRegression\n",
    "\n",
    "from sklearn.metrics import accuracy_score"
   ]
  },
  {
   "cell_type": "code",
   "execution_count": 90,
   "id": "ac685c53",
   "metadata": {
    "ExecuteTime": {
     "end_time": "2021-12-06T06:05:10.082795Z",
     "start_time": "2021-12-06T06:05:10.075794Z"
    }
   },
   "outputs": [],
   "source": [
    "model_kn = KNeighborsClassifier()\n",
    "model_lr = LogisticRegression()\n",
    "model_dt = DecisionTreeClassifier(random_state=11)\n",
    "model_rf = RandomForestClassifier(random_state=11)"
   ]
  },
  {
   "cell_type": "code",
   "execution_count": 91,
   "id": "7547528d",
   "metadata": {
    "ExecuteTime": {
     "end_time": "2021-12-06T06:05:10.532897Z",
     "start_time": "2021-12-06T06:05:10.284848Z"
    }
   },
   "outputs": [
    {
     "name": "stdout",
     "output_type": "stream",
     "text": [
      "\n",
      "========= KNeighbors\n",
      "Train score :  0.8057784911717496\n",
      "Test score :  0.7313432835820896\n",
      "정확도: 0.7313\n",
      "\n",
      "========= LogisticRegression\n",
      "Train score :  0.7929373996789727\n",
      "Test score :  0.832089552238806\n",
      "정확도: 0.8321\n",
      "\n",
      "========= DecisionTree\n",
      "Train score :  0.985553772070626\n",
      "Test score :  0.7723880597014925\n",
      "정확도: 0.7724\n",
      "\n",
      "========= RandomForest\n",
      "Train score :  0.985553772070626\n",
      "Test score :  0.8208955223880597\n",
      "정확도: 0.8209\n"
     ]
    }
   ],
   "source": [
    "\n",
    "# KNeighborsClassifier 학습/예측/평가\n",
    "model_kn.fit(X_train , y_train)\n",
    "print('\\n========= KNeighbors' )\n",
    "print('Train score : ' ,model_kn.score(X_train, y_train))\n",
    "print('Test score : ' , model_kn.score(X_test, y_test))\n",
    "print(f'정확도: {accuracy_score(y_test, model_kn.predict(X_test)):.4f}')\n",
    "\n",
    "# LogisticRegression 학습/예측/평가\n",
    "model_lr.fit(X_train , y_train)\n",
    "print('\\n========= LogisticRegression' )\n",
    "print('Train score : ' , model_lr.score(X_train, y_train))\n",
    "print('Test score : ' , model_lr.score(X_test, y_test))\n",
    "print(f'정확도: {accuracy_score(y_test, model_lr.predict(X_test)):.4f}')\n",
    "\n",
    "# DecisionTreeClassifier 학습/예측/평가\n",
    "model_dt.fit(X_train , y_train)\n",
    "print('\\n========= DecisionTree' )\n",
    "print('Train score : ' , model_dt.score(X_train, y_train))\n",
    "print('Test score : ' , model_dt.score(X_test, y_test))\n",
    "print(f'정확도: {accuracy_score(y_test, model_dt.predict(X_test)):.4f}')\n",
    "\n",
    "# RandomForest 학습/예측/평가\n",
    "model_rf.fit(X_train , y_train)\n",
    "print('\\n========= RandomForest' )\n",
    "print('Train score : ' , model_rf.score(X_train, y_train))\n",
    "print('Test score : ' , model_rf.score(X_test, y_test))\n",
    "print(f'정확도: {accuracy_score(y_test, model_rf.predict(X_test)):.4f}')\n"
   ]
  },
  {
   "cell_type": "markdown",
   "id": "4ad92796",
   "metadata": {},
   "source": [
    "# Quiz\n",
    "\n",
    "타이타닉 데이타셋에서 Age 컬럼을 아래의 함수를 이용하여 세분화하여 추가하고 원핫인코딩 형태 변경하여\n",
    "<br> 모델의 데이타로 활용하여라. "
   ]
  },
  {
   "cell_type": "code",
   "execution_count": 92,
   "id": "576ce310",
   "metadata": {
    "ExecuteTime": {
     "end_time": "2021-12-06T06:05:32.743933Z",
     "start_time": "2021-12-06T06:05:32.733916Z"
    }
   },
   "outputs": [],
   "source": [
    "# 입력 age에 따라 구분값을 반환하는 함수 설정. DataFrame의 apply lambda식에 사용. \n",
    "def get_category(age):\n",
    "    cat = ''\n",
    "    if age <= -1: cat = 'Unknown'\n",
    "    elif age <= 5: cat = 'Baby'\n",
    "    elif age <= 12: cat = 'Child'\n",
    "    elif age <= 18: cat = 'Teenager'\n",
    "    elif age <= 25: cat = 'Student'\n",
    "    elif age <= 35: cat = 'Young Adult'\n",
    "    elif age <= 60: cat = 'Adult'\n",
    "    else : cat = 'Elderly'\n",
    "    \n",
    "    return cat"
   ]
  },
  {
   "cell_type": "code",
   "execution_count": 127,
   "id": "2542244e",
   "metadata": {
    "ExecuteTime": {
     "end_time": "2021-12-06T08:02:53.063074Z",
     "start_time": "2021-12-06T08:02:53.039062Z"
    }
   },
   "outputs": [
    {
     "ename": "AttributeError",
     "evalue": "'DataFrame' object has no attribute 'Age'",
     "output_type": "error",
     "traceback": [
      "\u001b[1;31m---------------------------------------------------------------------------\u001b[0m",
      "\u001b[1;31mAttributeError\u001b[0m                            Traceback (most recent call last)",
      "\u001b[1;32m<ipython-input-127-d5423eec6f9a>\u001b[0m in \u001b[0;36m<module>\u001b[1;34m\u001b[0m\n\u001b[1;32m----> 1\u001b[1;33m \u001b[0mtitanic_df\u001b[0m\u001b[1;33m[\u001b[0m\u001b[1;34m'Age_cat'\u001b[0m\u001b[1;33m]\u001b[0m \u001b[1;33m=\u001b[0m \u001b[0mtitanic_df\u001b[0m\u001b[1;33m.\u001b[0m\u001b[0mAge\u001b[0m\u001b[1;33m.\u001b[0m\u001b[0mapply\u001b[0m\u001b[1;33m(\u001b[0m\u001b[1;32mlambda\u001b[0m \u001b[0mx\u001b[0m \u001b[1;33m:\u001b[0m \u001b[0mget_category\u001b[0m\u001b[1;33m(\u001b[0m\u001b[0mx\u001b[0m\u001b[1;33m)\u001b[0m\u001b[1;33m)\u001b[0m\u001b[1;33m\u001b[0m\u001b[1;33m\u001b[0m\u001b[0m\n\u001b[0m",
      "\u001b[1;32m~\\anaconda3\\lib\\site-packages\\pandas\\core\\generic.py\u001b[0m in \u001b[0;36m__getattr__\u001b[1;34m(self, name)\u001b[0m\n\u001b[0;32m   5463\u001b[0m             \u001b[1;32mif\u001b[0m \u001b[0mself\u001b[0m\u001b[1;33m.\u001b[0m\u001b[0m_info_axis\u001b[0m\u001b[1;33m.\u001b[0m\u001b[0m_can_hold_identifiers_and_holds_name\u001b[0m\u001b[1;33m(\u001b[0m\u001b[0mname\u001b[0m\u001b[1;33m)\u001b[0m\u001b[1;33m:\u001b[0m\u001b[1;33m\u001b[0m\u001b[1;33m\u001b[0m\u001b[0m\n\u001b[0;32m   5464\u001b[0m                 \u001b[1;32mreturn\u001b[0m \u001b[0mself\u001b[0m\u001b[1;33m[\u001b[0m\u001b[0mname\u001b[0m\u001b[1;33m]\u001b[0m\u001b[1;33m\u001b[0m\u001b[1;33m\u001b[0m\u001b[0m\n\u001b[1;32m-> 5465\u001b[1;33m             \u001b[1;32mreturn\u001b[0m \u001b[0mobject\u001b[0m\u001b[1;33m.\u001b[0m\u001b[0m__getattribute__\u001b[0m\u001b[1;33m(\u001b[0m\u001b[0mself\u001b[0m\u001b[1;33m,\u001b[0m \u001b[0mname\u001b[0m\u001b[1;33m)\u001b[0m\u001b[1;33m\u001b[0m\u001b[1;33m\u001b[0m\u001b[0m\n\u001b[0m\u001b[0;32m   5466\u001b[0m \u001b[1;33m\u001b[0m\u001b[0m\n\u001b[0;32m   5467\u001b[0m     \u001b[1;32mdef\u001b[0m \u001b[0m__setattr__\u001b[0m\u001b[1;33m(\u001b[0m\u001b[0mself\u001b[0m\u001b[1;33m,\u001b[0m \u001b[0mname\u001b[0m\u001b[1;33m:\u001b[0m \u001b[0mstr\u001b[0m\u001b[1;33m,\u001b[0m \u001b[0mvalue\u001b[0m\u001b[1;33m)\u001b[0m \u001b[1;33m->\u001b[0m \u001b[1;32mNone\u001b[0m\u001b[1;33m:\u001b[0m\u001b[1;33m\u001b[0m\u001b[1;33m\u001b[0m\u001b[0m\n",
      "\u001b[1;31mAttributeError\u001b[0m: 'DataFrame' object has no attribute 'Age'"
     ]
    }
   ],
   "source": [
    "titanic_df.Age = titanic_df.Age.apply(get_category)\n",
    "#titanic_df['Age_cat'] = titanic_df['Age'].apply(lambda x : get_category(x))"
   ]
  },
  {
   "cell_type": "code",
   "execution_count": 97,
   "id": "928a93ec",
   "metadata": {
    "ExecuteTime": {
     "end_time": "2021-12-06T06:16:54.562621Z",
     "start_time": "2021-12-06T06:16:54.557612Z"
    }
   },
   "outputs": [],
   "source": [
    "temp3 = pd.get_dummies(titanic_df.Age)"
   ]
  },
  {
   "cell_type": "code",
   "execution_count": 101,
   "id": "084f70f8",
   "metadata": {
    "ExecuteTime": {
     "end_time": "2021-12-06T06:18:32.886293Z",
     "start_time": "2021-12-06T06:18:32.880300Z"
    }
   },
   "outputs": [
    {
     "data": {
      "text/plain": [
       "0          Student\n",
       "1            Adult\n",
       "2      Young Adult\n",
       "3      Young Adult\n",
       "4      Young Adult\n",
       "          ...     \n",
       "886    Young Adult\n",
       "887        Student\n",
       "888    Young Adult\n",
       "889    Young Adult\n",
       "890    Young Adult\n",
       "Name: Age, Length: 891, dtype: object"
      ]
     },
     "execution_count": 101,
     "metadata": {},
     "output_type": "execute_result"
    }
   ],
   "source": [
    "titanic_df.Age"
   ]
  },
  {
   "cell_type": "code",
   "execution_count": 106,
   "id": "8f27bfbd",
   "metadata": {
    "ExecuteTime": {
     "end_time": "2021-12-06T06:19:27.863954Z",
     "start_time": "2021-12-06T06:19:27.847933Z"
    }
   },
   "outputs": [],
   "source": [
    "titanic_df.drop(['Age'], axis = 1, inplace = True)"
   ]
  },
  {
   "cell_type": "code",
   "execution_count": 116,
   "id": "c1525859",
   "metadata": {
    "ExecuteTime": {
     "end_time": "2021-12-06T06:29:40.430512Z",
     "start_time": "2021-12-06T06:29:40.413495Z"
    }
   },
   "outputs": [],
   "source": [
    "titanic_df = pd.concat([titanic_df, temp3], axis =1)"
   ]
  },
  {
   "cell_type": "code",
   "execution_count": 119,
   "id": "3f14fc32",
   "metadata": {
    "ExecuteTime": {
     "end_time": "2021-12-06T06:30:35.345146Z",
     "start_time": "2021-12-06T06:30:35.337145Z"
    }
   },
   "outputs": [],
   "source": [
    "X = titanic_df.iloc[:,1:]\n",
    "y = titanic_df.Survived"
   ]
  },
  {
   "cell_type": "code",
   "execution_count": 120,
   "id": "415f171b",
   "metadata": {
    "ExecuteTime": {
     "end_time": "2021-12-06T06:30:35.858746Z",
     "start_time": "2021-12-06T06:30:35.850745Z"
    }
   },
   "outputs": [],
   "source": [
    "from sklearn.model_selection import train_test_split\n",
    "X_train, X_test, y_train, y_test = train_test_split(X, y,  test_size=0.3, random_state=11, stratify= y)"
   ]
  },
  {
   "cell_type": "code",
   "execution_count": 121,
   "id": "bbded5b1",
   "metadata": {
    "ExecuteTime": {
     "end_time": "2021-12-06T06:30:36.312035Z",
     "start_time": "2021-12-06T06:30:36.302015Z"
    }
   },
   "outputs": [],
   "source": [
    "model_kn = KNeighborsClassifier()\n",
    "model_lr = LogisticRegression()\n",
    "model_dt = DecisionTreeClassifier(random_state=11)\n",
    "model_rf = RandomForestClassifier(random_state=11)"
   ]
  },
  {
   "cell_type": "code",
   "execution_count": 122,
   "id": "6343a1ef",
   "metadata": {
    "ExecuteTime": {
     "end_time": "2021-12-06T06:30:45.053802Z",
     "start_time": "2021-12-06T06:30:44.800747Z"
    }
   },
   "outputs": [
    {
     "name": "stdout",
     "output_type": "stream",
     "text": [
      "\n",
      "========= KNeighbors\n",
      "Train score :  0.8154093097913323\n",
      "Test score :  0.746268656716418\n",
      "정확도: 0.7463\n",
      "\n",
      "========= LogisticRegression\n",
      "Train score :  0.8009630818619583\n",
      "Test score :  0.8470149253731343\n",
      "정확도: 0.8470\n",
      "\n",
      "========= DecisionTree\n",
      "Train score :  0.9582664526484751\n",
      "Test score :  0.7686567164179104\n",
      "정확도: 0.7687\n",
      "\n",
      "========= RandomForest\n",
      "Train score :  0.9582664526484751\n",
      "Test score :  0.8283582089552238\n",
      "정확도: 0.8284\n"
     ]
    }
   ],
   "source": [
    "\n",
    "# KNeighborsClassifier 학습/예측/평가\n",
    "model_kn.fit(X_train , y_train)\n",
    "print('\\n========= KNeighbors' )\n",
    "print('Train score : ' ,model_kn.score(X_train, y_train))\n",
    "print('Test score : ' , model_kn.score(X_test, y_test))\n",
    "print(f'정확도: {accuracy_score(y_test, model_kn.predict(X_test)):.4f}')\n",
    "\n",
    "# LogisticRegression 학습/예측/평가\n",
    "model_lr.fit(X_train , y_train)\n",
    "print('\\n========= LogisticRegression' )\n",
    "print('Train score : ' , model_lr.score(X_train, y_train))\n",
    "print('Test score : ' , model_lr.score(X_test, y_test))\n",
    "print(f'정확도: {accuracy_score(y_test, model_lr.predict(X_test)):.4f}')\n",
    "\n",
    "# DecisionTreeClassifier 학습/예측/평가\n",
    "model_dt.fit(X_train , y_train)\n",
    "print('\\n========= DecisionTree' )\n",
    "print('Train score : ' , model_dt.score(X_train, y_train))\n",
    "print('Test score : ' , model_dt.score(X_test, y_test))\n",
    "print(f'정확도: {accuracy_score(y_test, model_dt.predict(X_test)):.4f}')\n",
    "\n",
    "# RandomForest 학습/예측/평가\n",
    "model_rf.fit(X_train , y_train)\n",
    "print('\\n========= RandomForest' )\n",
    "print('Train score : ' , model_rf.score(X_train, y_train))\n",
    "print('Test score : ' , model_rf.score(X_test, y_test))\n",
    "print(f'정확도: {accuracy_score(y_test, model_rf.predict(X_test)):.4f}')\n"
   ]
  },
  {
   "cell_type": "code",
   "execution_count": null,
   "id": "85b9c58a",
   "metadata": {},
   "outputs": [],
   "source": []
  }
 ],
 "metadata": {
  "hide_input": false,
  "kernelspec": {
   "display_name": "Python 3",
   "language": "python",
   "name": "python3"
  },
  "language_info": {
   "codemirror_mode": {
    "name": "ipython",
    "version": 3
   },
   "file_extension": ".py",
   "mimetype": "text/x-python",
   "name": "python",
   "nbconvert_exporter": "python",
   "pygments_lexer": "ipython3",
   "version": "3.8.8"
  },
  "toc": {
   "base_numbering": 1,
   "nav_menu": {},
   "number_sections": true,
   "sideBar": true,
   "skip_h1_title": false,
   "title_cell": "Table of Contents",
   "title_sidebar": "Contents",
   "toc_cell": false,
   "toc_position": {},
   "toc_section_display": true,
   "toc_window_display": false
  },
  "varInspector": {
   "cols": {
    "lenName": 16,
    "lenType": 16,
    "lenVar": 40
   },
   "kernels_config": {
    "python": {
     "delete_cmd_postfix": "",
     "delete_cmd_prefix": "del ",
     "library": "var_list.py",
     "varRefreshCmd": "print(var_dic_list())"
    },
    "r": {
     "delete_cmd_postfix": ") ",
     "delete_cmd_prefix": "rm(",
     "library": "var_list.r",
     "varRefreshCmd": "cat(var_dic_list()) "
    }
   },
   "types_to_exclude": [
    "module",
    "function",
    "builtin_function_or_method",
    "instance",
    "_Feature"
   ],
   "window_display": false
  }
 },
 "nbformat": 4,
 "nbformat_minor": 5
}
