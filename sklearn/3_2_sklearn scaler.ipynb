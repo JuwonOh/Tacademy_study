{
 "cells": [
  {
   "cell_type": "code",
   "execution_count": 1,
   "id": "df33bca0",
   "metadata": {
    "ExecuteTime": {
     "end_time": "2021-12-06T04:54:43.459565Z",
     "start_time": "2021-12-06T04:54:43.070372Z"
    }
   },
   "outputs": [
    {
     "data": {
      "text/html": [
       "<style>.container { font-weight: bold !important;}</style>"
      ],
      "text/plain": [
       "<IPython.core.display.HTML object>"
      ]
     },
     "metadata": {},
     "output_type": "display_data"
    },
    {
     "data": {
      "text/html": [
       "<style>.container { width: 98% !important; }</style>"
      ],
      "text/plain": [
       "<IPython.core.display.HTML object>"
      ]
     },
     "metadata": {},
     "output_type": "display_data"
    }
   ],
   "source": [
    "# 주피터 노트북 환경설정\n",
    "import warnings\n",
    "warnings.filterwarnings('ignore')\n",
    "warnings.simplefilter('ignore')\n",
    "\n",
    "from IPython.display import set_matplotlib_formats\n",
    "set_matplotlib_formats(\"retina\")\n",
    "\n",
    "from IPython.core.display import display, HTML\n",
    "# display(HTML(\"<style>.container { font-weight: bold !important; font-family:'Malgun Gothic' !important;}</style>\"))\n",
    "display(HTML(\"<style>.container { font-weight: bold !important;}</style>\"))\n",
    "display(HTML(\"<style>.container { width: 98% !important; }</style>\"))"
   ]
  },
  {
   "cell_type": "code",
   "execution_count": 2,
   "id": "f5e80ca4",
   "metadata": {
    "ExecuteTime": {
     "end_time": "2021-12-06T04:54:44.451962Z",
     "start_time": "2021-12-06T04:54:43.460517Z"
    }
   },
   "outputs": [],
   "source": [
    "import numpy as np\n",
    "import pandas as pd\n",
    "import os\n",
    "\n",
    "import matplotlib\n",
    "import matplotlib.pyplot as plt\n",
    "import seaborn as sns\n",
    "\n",
    "%matplotlib inline\n",
    "\n",
    "# 관련 라이브러리 임포트 \n",
    "import matplotlib.font_manager as fm\n",
    "\n",
    "#  한글글꼴로 변경\n",
    "# plt.rcParams['font.family'] = '한글글꼴명'\n",
    "plt.rcParams['font.size'] = 11.0\n",
    "# plt.rcParams['font.family'] = 'batang'\n",
    "plt.rcParams['font.family'] = 'Malgun Gothic'\n",
    "\n",
    "# 그래프에서 마이너스 폰트 깨지는 문제에 대한 대처\n",
    "matplotlib.rcParams['axes.unicode_minus'] = False\n",
    "\n",
    "# 그래프 기본 크기 설정 \n",
    "plt.rcParams['figure.figsize'] = [10, 6]"
   ]
  },
  {
   "cell_type": "markdown",
   "id": "e759e71f",
   "metadata": {
    "ExecuteTime": {
     "end_time": "2021-12-06T00:15:13.323475Z",
     "start_time": "2021-12-06T00:15:13.307026Z"
    }
   },
   "source": [
    "# 피처 스케일링\n",
    "\n",
    "- 두 특성(길이와 무게)의 값이 놓인 범위가 다르다. => 스케일(Scale)이 다르다 라고 한다. \n",
    "- 방의 넓이를 재는데 한사람은 cm, 다른사람은 incn로 재는것과 같다. \n",
    "- k-최근접 이웃 알고리즘은 샘플간의 거리에 영향을 많이 받는다. 반면 결정트리와 같은 알고리즘의 경우에는 스케일링에 그다지 많은 영향을 받지는 않는다\n",
    "- 표준점수(Standard Score) \n",
    "    - z 점수는 각 특성값이 0에서 표준편차의 몇배만큼 떨어져 있는지 표시한다. \n",
    "    - 실제 특성값의 크기와 상관없이 동일한 조건으로 비교할 수 있다. \n",
    "    - 각 데이터가 원점에서 몇 표준편차만큼 떨어져 있는지 나타낸다.\n",
    "- 분산 : 데이터에서 평균을 뺀 값을 모두 제곱한 다음 평균을 내어 구한다. \n",
    "- 표준편차 : 분산의 제곱근으로 데이터가 분산된 정도를 나타낸다. \n",
    "\n",
    "## 표준와와 정규화 \n",
    "- 표준화는 데이타의 피처 각각이 평균이 0이고 분산이 1인 가우시안 정규 분포를 가진 값으로 변환하는 것을 의미한다. \n",
    "- 정규화란 서로 다른 피처의 크기를 통일하기 위해 크기를 변환해주는 개념이다. "
   ]
  },
  {
   "cell_type": "markdown",
   "id": "210c3af7",
   "metadata": {},
   "source": [
    "# 도미와 빙어 (스케일링 예시)\n",
    "\n",
    "- 스케일링에 따른 모델의 성능 테스트 \n",
    "\n",
    "## 데이타수집\n",
    "http://bit.ly/bream_smelt"
   ]
  },
  {
   "cell_type": "code",
   "execution_count": 3,
   "id": "2661494a",
   "metadata": {
    "ExecuteTime": {
     "end_time": "2021-12-06T04:54:44.467312Z",
     "start_time": "2021-12-06T04:54:44.453302Z"
    }
   },
   "outputs": [],
   "source": [
    "fish_length = [25.4, 26.3, 26.5, 29.0, 29.0, 29.7, 29.7, 30.0, 30.0, 30.7, 31.0, 31.0, \n",
    "                31.5, 32.0, 32.0, 32.0, 33.0, 33.0, 33.5, 33.5, 34.0, 34.0, 34.5, 35.0, \n",
    "                35.0, 35.0, 35.0, 36.0, 36.0, 37.0, 38.5, 38.5, 39.5, 41.0, 41.0, 9.8, \n",
    "                10.5, 10.6, 11.0, 11.2, 11.3, 11.8, 11.8, 12.0, 12.2, 12.4, 13.0, 14.3, 15.0]\n",
    "\n",
    "fish_weight = [242.0, 290.0, 340.0, 363.0, 430.0, 450.0, 500.0, 390.0, 450.0, 500.0, 475.0, 500.0, \n",
    "                500.0, 340.0, 600.0, 600.0, 700.0, 700.0, 610.0, 650.0, 575.0, 685.0, 620.0, 680.0, \n",
    "                700.0, 725.0, 720.0, 714.0, 850.0, 1000.0, 920.0, 955.0, 925.0, 975.0, 950.0, 6.7, \n",
    "                7.5, 7.0, 9.7, 9.8, 8.7, 10.0, 9.9, 9.8, 12.2, 13.4, 12.2, 19.7, 19.9]"
   ]
  },
  {
   "cell_type": "code",
   "execution_count": 4,
   "id": "131ea75f",
   "metadata": {
    "ExecuteTime": {
     "end_time": "2021-12-06T04:54:44.482299Z",
     "start_time": "2021-12-06T04:54:44.469328Z"
    }
   },
   "outputs": [
    {
     "data": {
      "text/plain": [
       "(49, 49)"
      ]
     },
     "execution_count": 4,
     "metadata": {},
     "output_type": "execute_result"
    }
   ],
   "source": [
    "len(fish_length), len(fish_weight)"
   ]
  },
  {
   "cell_type": "code",
   "execution_count": 5,
   "id": "2f1424ed",
   "metadata": {
    "ExecuteTime": {
     "end_time": "2021-12-06T04:54:44.497761Z",
     "start_time": "2021-12-06T04:54:44.483297Z"
    }
   },
   "outputs": [
    {
     "data": {
      "text/plain": [
       "(49,)"
      ]
     },
     "execution_count": 5,
     "metadata": {},
     "output_type": "execute_result"
    }
   ],
   "source": [
    "fish_target = np.concatenate((np.ones(35), np.zeros(14)))\n",
    "fish_target.shape"
   ]
  },
  {
   "cell_type": "code",
   "execution_count": 6,
   "id": "627fb4fb",
   "metadata": {
    "ExecuteTime": {
     "end_time": "2021-12-06T04:54:44.527619Z",
     "start_time": "2021-12-06T04:54:44.499741Z"
    }
   },
   "outputs": [
    {
     "data": {
      "text/html": [
       "<div>\n",
       "<style scoped>\n",
       "    .dataframe tbody tr th:only-of-type {\n",
       "        vertical-align: middle;\n",
       "    }\n",
       "\n",
       "    .dataframe tbody tr th {\n",
       "        vertical-align: top;\n",
       "    }\n",
       "\n",
       "    .dataframe thead th {\n",
       "        text-align: right;\n",
       "    }\n",
       "</style>\n",
       "<table border=\"1\" class=\"dataframe\">\n",
       "  <thead>\n",
       "    <tr style=\"text-align: right;\">\n",
       "      <th></th>\n",
       "      <th>fish_length</th>\n",
       "      <th>fish_weight</th>\n",
       "      <th>label</th>\n",
       "    </tr>\n",
       "  </thead>\n",
       "  <tbody>\n",
       "    <tr>\n",
       "      <th>26</th>\n",
       "      <td>35.0</td>\n",
       "      <td>720.0</td>\n",
       "      <td>1.0</td>\n",
       "    </tr>\n",
       "    <tr>\n",
       "      <th>6</th>\n",
       "      <td>29.7</td>\n",
       "      <td>500.0</td>\n",
       "      <td>1.0</td>\n",
       "    </tr>\n",
       "    <tr>\n",
       "      <th>7</th>\n",
       "      <td>30.0</td>\n",
       "      <td>390.0</td>\n",
       "      <td>1.0</td>\n",
       "    </tr>\n",
       "    <tr>\n",
       "      <th>15</th>\n",
       "      <td>32.0</td>\n",
       "      <td>600.0</td>\n",
       "      <td>1.0</td>\n",
       "    </tr>\n",
       "    <tr>\n",
       "      <th>1</th>\n",
       "      <td>26.3</td>\n",
       "      <td>290.0</td>\n",
       "      <td>1.0</td>\n",
       "    </tr>\n",
       "  </tbody>\n",
       "</table>\n",
       "</div>"
      ],
      "text/plain": [
       "    fish_length  fish_weight  label\n",
       "26         35.0        720.0    1.0\n",
       "6          29.7        500.0    1.0\n",
       "7          30.0        390.0    1.0\n",
       "15         32.0        600.0    1.0\n",
       "1          26.3        290.0    1.0"
      ]
     },
     "execution_count": 6,
     "metadata": {},
     "output_type": "execute_result"
    }
   ],
   "source": [
    "fish_data = pd.DataFrame(columns=['fish_length', 'fish_weight', 'label'])\n",
    "\n",
    "fish_data['fish_length'] = fish_length\n",
    "fish_data['fish_weight'] = fish_weight\n",
    "\n",
    "fish_data['label'] = fish_target\n",
    "fish_data.sample(5)"
   ]
  },
  {
   "cell_type": "code",
   "execution_count": 7,
   "id": "624459a9",
   "metadata": {
    "ExecuteTime": {
     "end_time": "2021-12-06T04:54:44.543220Z",
     "start_time": "2021-12-06T04:54:44.530218Z"
    }
   },
   "outputs": [
    {
     "data": {
      "text/plain": [
       "Index(['fish_length', 'fish_weight', 'label'], dtype='object')"
      ]
     },
     "execution_count": 7,
     "metadata": {},
     "output_type": "execute_result"
    }
   ],
   "source": [
    "fish_data.columns"
   ]
  },
  {
   "cell_type": "code",
   "execution_count": 8,
   "id": "e9933353",
   "metadata": {
    "ExecuteTime": {
     "end_time": "2021-12-06T04:54:44.558838Z",
     "start_time": "2021-12-06T04:54:44.545221Z"
    }
   },
   "outputs": [
    {
     "data": {
      "text/plain": [
       "0     25.4\n",
       "1     26.3\n",
       "2     26.5\n",
       "3     29.0\n",
       "4     29.0\n",
       "5     29.7\n",
       "6     29.7\n",
       "7     30.0\n",
       "8     30.0\n",
       "9     30.7\n",
       "10    31.0\n",
       "11    31.0\n",
       "12    31.5\n",
       "13    32.0\n",
       "14    32.0\n",
       "15    32.0\n",
       "16    33.0\n",
       "17    33.0\n",
       "18    33.5\n",
       "19    33.5\n",
       "20    34.0\n",
       "21    34.0\n",
       "22    34.5\n",
       "23    35.0\n",
       "24    35.0\n",
       "25    35.0\n",
       "26    35.0\n",
       "27    36.0\n",
       "28    36.0\n",
       "29    37.0\n",
       "30    38.5\n",
       "31    38.5\n",
       "32    39.5\n",
       "33    41.0\n",
       "34    41.0\n",
       "Name: fish_length, dtype: float64"
      ]
     },
     "execution_count": 8,
     "metadata": {},
     "output_type": "execute_result"
    }
   ],
   "source": [
    "fish_data.iloc[:35, 0]"
   ]
  },
  {
   "cell_type": "code",
   "execution_count": 9,
   "id": "bacc0428",
   "metadata": {
    "ExecuteTime": {
     "end_time": "2021-12-06T04:54:44.739285Z",
     "start_time": "2021-12-06T04:54:44.559783Z"
    }
   },
   "outputs": [
    {
     "data": {
      "image/png": "[encoded data removed]",
      "text/plain": [
       "<Figure size 720x432 with 1 Axes>"
      ]
     },
     "metadata": {
      "needs_background": "light"
     },
     "output_type": "display_data"
    }
   ],
   "source": [
    "plt.scatter(fish_data.iloc[:35, 0], fish_data.iloc[:35, 1]) # 도미 \n",
    "plt.scatter(fish_data.iloc[35:, 0], fish_data.iloc[35:, 1]) # 빙어 \n",
    "plt.xlabel('length - cm')\n",
    "plt.ylabel('weight - g')\n",
    "plt.show()"
   ]
  },
  {
   "cell_type": "code",
   "execution_count": 10,
   "id": "f6880019",
   "metadata": {
    "ExecuteTime": {
     "end_time": "2021-12-06T04:54:45.504398Z",
     "start_time": "2021-12-06T04:54:44.740216Z"
    }
   },
   "outputs": [],
   "source": [
    "\n",
    "from sklearn.model_selection import train_test_split\n",
    "\n",
    "X_train, X_test, y_train, y_test = train_test_split(fish_data[['fish_length', 'fish_weight']] , fish_data['label'] , \n",
    "                                                    test_size=0.2, random_state=11, stratify=fish_data['label'])"
   ]
  },
  {
   "cell_type": "code",
   "execution_count": 11,
   "id": "1e8dfb19",
   "metadata": {
    "ExecuteTime": {
     "end_time": "2021-12-06T04:54:45.519489Z",
     "start_time": "2021-12-06T04:54:45.506399Z"
    }
   },
   "outputs": [
    {
     "name": "stdout",
     "output_type": "stream",
     "text": [
      "(39, 2) (39,)\n",
      "(10, 2) (10,)\n"
     ]
    }
   ],
   "source": [
    "print(X_train.shape, y_train.shape)\n",
    "print(X_test.shape, y_test.shape)"
   ]
  },
  {
   "cell_type": "code",
   "execution_count": 12,
   "id": "fb9db121",
   "metadata": {
    "ExecuteTime": {
     "end_time": "2021-12-06T04:54:45.609773Z",
     "start_time": "2021-12-06T04:54:45.520402Z"
    }
   },
   "outputs": [
    {
     "data": {
      "text/plain": [
       "1.0"
      ]
     },
     "execution_count": 12,
     "metadata": {},
     "output_type": "execute_result"
    }
   ],
   "source": [
    "from sklearn.neighbors import KNeighborsClassifier\n",
    "\n",
    "model_kn = KNeighborsClassifier()\n",
    "model_kn.fit(X_train, y_train)\n",
    "model_kn.score(X_test, y_test)"
   ]
  },
  {
   "cell_type": "markdown",
   "id": "a7ac0495",
   "metadata": {},
   "source": [
    "# KNeighborsClassifier 의 주요 메서드 및 속성"
   ]
  },
  {
   "cell_type": "code",
   "execution_count": 13,
   "id": "7c83f373",
   "metadata": {
    "ExecuteTime": {
     "end_time": "2021-12-06T04:54:45.625189Z",
     "start_time": "2021-12-06T04:54:45.611774Z"
    }
   },
   "outputs": [
    {
     "name": "stdout",
     "output_type": "stream",
     "text": [
      "['__abstractmethods__', '__class__', '__delattr__', '__dict__', '__dir__', '__doc__', '__eq__', '__format__', '__ge__', '__getattribute__', '__getstate__', '__gt__', '__hash__', '__init__', '__init_subclass__', '__le__', '__lt__', '__module__', '__ne__', '__new__', '__reduce__', '__reduce_ex__', '__repr__', '__setattr__', '__setstate__', '__sizeof__', '__str__', '__subclasshook__', '__weakref__', '_abc_impl', '_check_algorithm_metric', '_check_n_features', '_estimator_type', '_fit', '_get_param_names', '_get_tags', '_kneighbors_reduce_func', '_more_tags', '_pairwise', '_repr_html_', '_repr_html_inner', '_repr_mimebundle_', '_validate_data', 'fit', 'get_params', 'kneighbors', 'kneighbors_graph', 'predict', 'predict_proba', 'score', 'set_params']\n"
     ]
    }
   ],
   "source": [
    "print(dir(KNeighborsClassifier))"
   ]
  },
  {
   "cell_type": "code",
   "execution_count": 14,
   "id": "b3e43db9",
   "metadata": {
    "ExecuteTime": {
     "end_time": "2021-12-06T04:54:45.640265Z",
     "start_time": "2021-12-06T04:54:45.626188Z"
    }
   },
   "outputs": [
    {
     "data": {
      "text/plain": [
       "{'algorithm': 'auto',\n",
       " 'leaf_size': 30,\n",
       " 'metric': 'minkowski',\n",
       " 'metric_params': None,\n",
       " 'n_jobs': None,\n",
       " 'n_neighbors': 5,\n",
       " 'p': 2,\n",
       " 'weights': 'uniform'}"
      ]
     },
     "execution_count": 14,
     "metadata": {},
     "output_type": "execute_result"
    }
   ],
   "source": [
    "model_kn.get_params()"
   ]
  },
  {
   "cell_type": "code",
   "execution_count": 15,
   "id": "077e82e2",
   "metadata": {
    "ExecuteTime": {
     "end_time": "2021-12-06T04:54:45.655223Z",
     "start_time": "2021-12-06T04:54:45.641227Z"
    }
   },
   "outputs": [
    {
     "name": "stdout",
     "output_type": "stream",
     "text": [
      "    fish_length  fish_weight\n",
      "4          29.0        430.0\n",
      "35          9.8          6.7\n",
      "7          30.0        390.0\n",
      "46         13.0         12.2\n",
      "5          29.7        450.0\n",
      "21         34.0        685.0\n",
      "44         12.2         12.2\n",
      "1          26.3        290.0\n",
      "10         31.0        475.0\n",
      "12         31.5        500.0\n",
      "[1. 0. 1. 0. 1. 1. 0. 1. 1. 1.]\n",
      "[0.]\n",
      "[[0.2 0.8]]\n"
     ]
    }
   ],
   "source": [
    "print(X_test)\n",
    "\n",
    "print(model_kn.predict(X_test))\n",
    "\n",
    "print(model_kn.predict([[9.8,6.7]]))\n",
    "\n",
    "print(model_kn.predict_proba([[9.8,200]]))"
   ]
  },
  {
   "cell_type": "code",
   "execution_count": 16,
   "id": "4c3786cf",
   "metadata": {
    "ExecuteTime": {
     "end_time": "2021-12-06T04:54:45.670226Z",
     "start_time": "2021-12-06T04:54:45.656223Z"
    }
   },
   "outputs": [
    {
     "name": "stdout",
     "output_type": "stream",
     "text": [
      "1.0\n"
     ]
    }
   ],
   "source": [
    "print(model_kn.score(X_test, y_test))"
   ]
  },
  {
   "cell_type": "code",
   "execution_count": 17,
   "id": "598a11d9",
   "metadata": {
    "ExecuteTime": {
     "end_time": "2021-12-06T04:54:45.685229Z",
     "start_time": "2021-12-06T04:54:45.672226Z"
    }
   },
   "outputs": [
    {
     "name": "stdout",
     "output_type": "stream",
     "text": [
      "distance = [[ 48.00843676  50.0004      50.3238512   73.04991444 160.04277553]]\n",
      "indexes = [[20 21  9 29 17]]\n"
     ]
    }
   ],
   "source": [
    "# 이웃찾기 메서드 => 이웃과의거리, 이웃의인덱스 \n",
    "# 모델명.kneighbors([[값1, 값2 ... ]])\n",
    "model_kn.kneighbors([[26.3,290.0]])\n",
    "# 이웃의거리와 이웃의인덱스를 별도 변수 저장 \n",
    "distance, indexes = model_kn.kneighbors([[26.3,290.0]])\n",
    "print(f'distance = {distance}')\n",
    "print(f'indexes = {indexes}')"
   ]
  },
  {
   "cell_type": "code",
   "execution_count": 18,
   "id": "297272ac",
   "metadata": {
    "ExecuteTime": {
     "end_time": "2021-12-06T04:54:45.700232Z",
     "start_time": "2021-12-06T04:54:45.687229Z"
    }
   },
   "outputs": [
    {
     "data": {
      "text/html": [
       "<div>\n",
       "<style scoped>\n",
       "    .dataframe tbody tr th:only-of-type {\n",
       "        vertical-align: middle;\n",
       "    }\n",
       "\n",
       "    .dataframe tbody tr th {\n",
       "        vertical-align: top;\n",
       "    }\n",
       "\n",
       "    .dataframe thead th {\n",
       "        text-align: right;\n",
       "    }\n",
       "</style>\n",
       "<table border=\"1\" class=\"dataframe\">\n",
       "  <thead>\n",
       "    <tr style=\"text-align: right;\">\n",
       "      <th></th>\n",
       "      <th>fish_length</th>\n",
       "      <th>fish_weight</th>\n",
       "    </tr>\n",
       "  </thead>\n",
       "  <tbody>\n",
       "    <tr>\n",
       "      <th>20</th>\n",
       "      <td>34.0</td>\n",
       "      <td>575.0</td>\n",
       "    </tr>\n",
       "    <tr>\n",
       "      <th>42</th>\n",
       "      <td>11.8</td>\n",
       "      <td>9.9</td>\n",
       "    </tr>\n",
       "    <tr>\n",
       "      <th>6</th>\n",
       "      <td>29.7</td>\n",
       "      <td>500.0</td>\n",
       "    </tr>\n",
       "    <tr>\n",
       "      <th>28</th>\n",
       "      <td>36.0</td>\n",
       "      <td>850.0</td>\n",
       "    </tr>\n",
       "    <tr>\n",
       "      <th>27</th>\n",
       "      <td>36.0</td>\n",
       "      <td>714.0</td>\n",
       "    </tr>\n",
       "    <tr>\n",
       "      <th>17</th>\n",
       "      <td>33.0</td>\n",
       "      <td>700.0</td>\n",
       "    </tr>\n",
       "    <tr>\n",
       "      <th>26</th>\n",
       "      <td>35.0</td>\n",
       "      <td>720.0</td>\n",
       "    </tr>\n",
       "    <tr>\n",
       "      <th>9</th>\n",
       "      <td>30.7</td>\n",
       "      <td>500.0</td>\n",
       "    </tr>\n",
       "    <tr>\n",
       "      <th>43</th>\n",
       "      <td>12.0</td>\n",
       "      <td>9.8</td>\n",
       "    </tr>\n",
       "    <tr>\n",
       "      <th>13</th>\n",
       "      <td>32.0</td>\n",
       "      <td>340.0</td>\n",
       "    </tr>\n",
       "    <tr>\n",
       "      <th>24</th>\n",
       "      <td>35.0</td>\n",
       "      <td>700.0</td>\n",
       "    </tr>\n",
       "    <tr>\n",
       "      <th>18</th>\n",
       "      <td>33.5</td>\n",
       "      <td>610.0</td>\n",
       "    </tr>\n",
       "    <tr>\n",
       "      <th>34</th>\n",
       "      <td>41.0</td>\n",
       "      <td>950.0</td>\n",
       "    </tr>\n",
       "    <tr>\n",
       "      <th>19</th>\n",
       "      <td>33.5</td>\n",
       "      <td>650.0</td>\n",
       "    </tr>\n",
       "    <tr>\n",
       "      <th>32</th>\n",
       "      <td>39.5</td>\n",
       "      <td>925.0</td>\n",
       "    </tr>\n",
       "    <tr>\n",
       "      <th>15</th>\n",
       "      <td>32.0</td>\n",
       "      <td>600.0</td>\n",
       "    </tr>\n",
       "    <tr>\n",
       "      <th>23</th>\n",
       "      <td>35.0</td>\n",
       "      <td>680.0</td>\n",
       "    </tr>\n",
       "    <tr>\n",
       "      <th>8</th>\n",
       "      <td>30.0</td>\n",
       "      <td>450.0</td>\n",
       "    </tr>\n",
       "    <tr>\n",
       "      <th>36</th>\n",
       "      <td>10.5</td>\n",
       "      <td>7.5</td>\n",
       "    </tr>\n",
       "    <tr>\n",
       "      <th>14</th>\n",
       "      <td>32.0</td>\n",
       "      <td>600.0</td>\n",
       "    </tr>\n",
       "    <tr>\n",
       "      <th>0</th>\n",
       "      <td>25.4</td>\n",
       "      <td>242.0</td>\n",
       "    </tr>\n",
       "    <tr>\n",
       "      <th>2</th>\n",
       "      <td>26.5</td>\n",
       "      <td>340.0</td>\n",
       "    </tr>\n",
       "    <tr>\n",
       "      <th>11</th>\n",
       "      <td>31.0</td>\n",
       "      <td>500.0</td>\n",
       "    </tr>\n",
       "    <tr>\n",
       "      <th>37</th>\n",
       "      <td>10.6</td>\n",
       "      <td>7.0</td>\n",
       "    </tr>\n",
       "    <tr>\n",
       "      <th>31</th>\n",
       "      <td>38.5</td>\n",
       "      <td>955.0</td>\n",
       "    </tr>\n",
       "    <tr>\n",
       "      <th>30</th>\n",
       "      <td>38.5</td>\n",
       "      <td>920.0</td>\n",
       "    </tr>\n",
       "    <tr>\n",
       "      <th>22</th>\n",
       "      <td>34.5</td>\n",
       "      <td>620.0</td>\n",
       "    </tr>\n",
       "    <tr>\n",
       "      <th>41</th>\n",
       "      <td>11.8</td>\n",
       "      <td>10.0</td>\n",
       "    </tr>\n",
       "    <tr>\n",
       "      <th>33</th>\n",
       "      <td>41.0</td>\n",
       "      <td>975.0</td>\n",
       "    </tr>\n",
       "    <tr>\n",
       "      <th>3</th>\n",
       "      <td>29.0</td>\n",
       "      <td>363.0</td>\n",
       "    </tr>\n",
       "    <tr>\n",
       "      <th>39</th>\n",
       "      <td>11.2</td>\n",
       "      <td>9.8</td>\n",
       "    </tr>\n",
       "    <tr>\n",
       "      <th>16</th>\n",
       "      <td>33.0</td>\n",
       "      <td>700.0</td>\n",
       "    </tr>\n",
       "    <tr>\n",
       "      <th>29</th>\n",
       "      <td>37.0</td>\n",
       "      <td>1000.0</td>\n",
       "    </tr>\n",
       "    <tr>\n",
       "      <th>45</th>\n",
       "      <td>12.4</td>\n",
       "      <td>13.4</td>\n",
       "    </tr>\n",
       "    <tr>\n",
       "      <th>40</th>\n",
       "      <td>11.3</td>\n",
       "      <td>8.7</td>\n",
       "    </tr>\n",
       "    <tr>\n",
       "      <th>38</th>\n",
       "      <td>11.0</td>\n",
       "      <td>9.7</td>\n",
       "    </tr>\n",
       "    <tr>\n",
       "      <th>25</th>\n",
       "      <td>35.0</td>\n",
       "      <td>725.0</td>\n",
       "    </tr>\n",
       "    <tr>\n",
       "      <th>48</th>\n",
       "      <td>15.0</td>\n",
       "      <td>19.9</td>\n",
       "    </tr>\n",
       "    <tr>\n",
       "      <th>47</th>\n",
       "      <td>14.3</td>\n",
       "      <td>19.7</td>\n",
       "    </tr>\n",
       "  </tbody>\n",
       "</table>\n",
       "</div>"
      ],
      "text/plain": [
       "    fish_length  fish_weight\n",
       "20         34.0        575.0\n",
       "42         11.8          9.9\n",
       "6          29.7        500.0\n",
       "28         36.0        850.0\n",
       "27         36.0        714.0\n",
       "17         33.0        700.0\n",
       "26         35.0        720.0\n",
       "9          30.7        500.0\n",
       "43         12.0          9.8\n",
       "13         32.0        340.0\n",
       "24         35.0        700.0\n",
       "18         33.5        610.0\n",
       "34         41.0        950.0\n",
       "19         33.5        650.0\n",
       "32         39.5        925.0\n",
       "15         32.0        600.0\n",
       "23         35.0        680.0\n",
       "8          30.0        450.0\n",
       "36         10.5          7.5\n",
       "14         32.0        600.0\n",
       "0          25.4        242.0\n",
       "2          26.5        340.0\n",
       "11         31.0        500.0\n",
       "37         10.6          7.0\n",
       "31         38.5        955.0\n",
       "30         38.5        920.0\n",
       "22         34.5        620.0\n",
       "41         11.8         10.0\n",
       "33         41.0        975.0\n",
       "3          29.0        363.0\n",
       "39         11.2          9.8\n",
       "16         33.0        700.0\n",
       "29         37.0       1000.0\n",
       "45         12.4         13.4\n",
       "40         11.3          8.7\n",
       "38         11.0          9.7\n",
       "25         35.0        725.0\n",
       "48         15.0         19.9\n",
       "47         14.3         19.7"
      ]
     },
     "execution_count": 18,
     "metadata": {},
     "output_type": "execute_result"
    }
   ],
   "source": [
    "X_train"
   ]
  },
  {
   "cell_type": "code",
   "execution_count": 19,
   "id": "b5b0c567",
   "metadata": {
    "ExecuteTime": {
     "end_time": "2021-12-06T04:54:45.715236Z",
     "start_time": "2021-12-06T04:54:45.701232Z"
    }
   },
   "outputs": [
    {
     "data": {
      "text/plain": [
       "0     25.4\n",
       "2     26.5\n",
       "13    32.0\n",
       "3     29.0\n",
       "8     30.0\n",
       "Name: fish_length, dtype: float64"
      ]
     },
     "execution_count": 19,
     "metadata": {},
     "output_type": "execute_result"
    }
   ],
   "source": [
    "X_train.iloc[indexes.flatten(),0]"
   ]
  },
  {
   "cell_type": "code",
   "execution_count": 20,
   "id": "370650b6",
   "metadata": {
    "ExecuteTime": {
     "end_time": "2021-12-06T04:54:45.865206Z",
     "start_time": "2021-12-06T04:54:45.716235Z"
    }
   },
   "outputs": [
    {
     "data": {
      "image/png": "[encoded data removed]",
      "text/plain": [
       "<Figure size 720x432 with 1 Axes>"
      ]
     },
     "metadata": {
      "needs_background": "light"
     },
     "output_type": "display_data"
    }
   ],
   "source": [
    "\n",
    "plt.scatter(X_train['fish_length'], X_train['fish_weight'])\n",
    "\n",
    "plt.scatter(26.3,290.0, marker='^')\n",
    "\n",
    "plt.scatter(X_train.iloc[indexes.flatten(), 0], X_train.iloc[indexes.flatten(), 1])\n",
    "\n",
    "plt.xlabel('length - cm')\n",
    "plt.ylabel('weight - g')\n",
    "plt.show()"
   ]
  },
  {
   "cell_type": "markdown",
   "id": "f3fa4a5f",
   "metadata": {},
   "source": [
    "## test에 없는 새로운 데이터를 추가해보자."
   ]
  },
  {
   "cell_type": "code",
   "execution_count": 21,
   "id": "7a390f57",
   "metadata": {
    "ExecuteTime": {
     "end_time": "2021-12-06T04:54:45.880209Z",
     "start_time": "2021-12-06T04:54:45.866206Z"
    }
   },
   "outputs": [
    {
     "name": "stdout",
     "output_type": "stream",
     "text": [
      "[0.]\n",
      "[0.]\n"
     ]
    }
   ],
   "source": [
    "print(model_kn.predict([[25, 150]]))\n",
    "print(model_kn.predict([[23, 130]]))"
   ]
  },
  {
   "cell_type": "code",
   "execution_count": 22,
   "id": "e66a35be",
   "metadata": {
    "ExecuteTime": {
     "end_time": "2021-12-06T04:54:46.031335Z",
     "start_time": "2021-12-06T04:54:45.884210Z"
    }
   },
   "outputs": [
    {
     "data": {
      "image/png": "[encoded data removed]",
      "text/plain": [
       "<Figure size 720x432 with 1 Axes>"
      ]
     },
     "metadata": {
      "needs_background": "light"
     },
     "output_type": "display_data"
    }
   ],
   "source": [
    "\n",
    "plt.scatter(X_train['fish_length'], X_train['fish_weight'])\n",
    "\n",
    "plt.scatter(25, 150, marker='^')\n",
    "\n",
    "plt.xlabel('length - cm')\n",
    "plt.ylabel('weight - g')\n",
    "plt.show()"
   ]
  },
  {
   "cell_type": "code",
   "execution_count": 23,
   "id": "1e37ed3a",
   "metadata": {
    "ExecuteTime": {
     "end_time": "2021-12-06T04:54:46.046340Z",
     "start_time": "2021-12-06T04:54:46.033337Z"
    }
   },
   "outputs": [
    {
     "data": {
      "text/plain": [
       "(array([[ 92.00086956, 130.48375378, 130.73859415, 137.17988191,\n",
       "         140.62090883]]),\n",
       " array([[20, 37, 38, 33, 27]], dtype=int64))"
      ]
     },
     "execution_count": 23,
     "metadata": {},
     "output_type": "execute_result"
    }
   ],
   "source": [
    "\n",
    "distances, indexes = model_kn.kneighbors([[25, 150]])\n",
    "distances, indexes"
   ]
  },
  {
   "cell_type": "code",
   "execution_count": 24,
   "id": "1c2172eb",
   "metadata": {
    "ExecuteTime": {
     "end_time": "2021-12-06T04:54:46.061360Z",
     "start_time": "2021-12-06T04:54:46.047340Z"
    }
   },
   "outputs": [
    {
     "name": "stdout",
     "output_type": "stream",
     "text": [
      "    fish_length  fish_weight\n",
      "0          25.4        242.0\n",
      "48         15.0         19.9\n",
      "47         14.3         19.7\n",
      "45         12.4         13.4\n",
      "41         11.8         10.0\n"
     ]
    }
   ],
   "source": [
    "## 모델이 설정한 분기점과 이웃한 지점들. n_neighborsint, default=5 이웃한 지점을 5개까지 참고한다.\n",
    "print(X_train.iloc[[20, 37, 38, 33, 27]])"
   ]
  },
  {
   "cell_type": "code",
   "execution_count": 25,
   "id": "070398fe",
   "metadata": {
    "ExecuteTime": {
     "end_time": "2021-12-06T04:54:46.226469Z",
     "start_time": "2021-12-06T04:54:46.062361Z"
    }
   },
   "outputs": [
    {
     "data": {
      "image/png": "[encoded data removed]",
      "text/plain": [
       "<Figure size 720x432 with 1 Axes>"
      ]
     },
     "metadata": {
      "needs_background": "light"
     },
     "output_type": "display_data"
    }
   ],
   "source": [
    "\n",
    "plt.scatter(X_train['fish_length'], X_train['fish_weight'])\n",
    "plt.scatter(25, 150, marker='^')\n",
    "\n",
    "\n",
    "plt.scatter(X_train.iloc[indexes.flatten(), 0], X_train.iloc[indexes.flatten(), 1])\n",
    "# plt.scatter(X_train.iloc[20, 0], X_train.iloc[20, 1], marker='D', color='r')\n",
    "# plt.scatter(X_train.iloc[37, 0], X_train.iloc[37, 1], marker='D', color='r')\n",
    "# plt.scatter(X_train.iloc[38, 0], X_train.iloc[38, 1], marker='D', color='r')\n",
    "# plt.scatter(X_train.iloc[33, 0], X_train.iloc[33, 1], marker='D', color='r')\n",
    "# plt.scatter(X_train.iloc[27, 0], X_train.iloc[27, 1], marker='D', color='r')\n",
    "\n",
    "plt.xlabel('length')\n",
    "plt.ylabel('weight')\n",
    "plt.show()\n",
    "\n"
   ]
  },
  {
   "cell_type": "code",
   "execution_count": 26,
   "id": "b5d821ff",
   "metadata": {
    "ExecuteTime": {
     "end_time": "2021-12-06T04:54:46.241471Z",
     "start_time": "2021-12-06T04:54:46.228470Z"
    }
   },
   "outputs": [
    {
     "name": "stdout",
     "output_type": "stream",
     "text": [
      "[[ 92.00086956 130.48375378 130.73859415 137.17988191 140.62090883]]\n"
     ]
    }
   ],
   "source": [
    "print(distances)"
   ]
  },
  {
   "cell_type": "code",
   "execution_count": 27,
   "id": "199e6333",
   "metadata": {
    "ExecuteTime": {
     "end_time": "2021-12-06T04:54:46.256476Z",
     "start_time": "2021-12-06T04:54:46.243472Z"
    }
   },
   "outputs": [
    {
     "name": "stdout",
     "output_type": "stream",
     "text": [
      "fish_length     27.671795\n",
      "fish_weight    475.112821\n",
      "dtype: float64 \n",
      "\n",
      "fish_length     10.379416\n",
      "fish_weight    338.837654\n",
      "dtype: float64\n"
     ]
    }
   ],
   "source": [
    "mean = np.mean(X_train, axis=0)\n",
    "std = np.std(X_train, axis=0)\n",
    "print(mean, '\\n')\n",
    "print(std)"
   ]
  },
  {
   "cell_type": "code",
   "execution_count": 28,
   "id": "4be5a397",
   "metadata": {
    "ExecuteTime": {
     "end_time": "2021-12-06T04:54:46.331586Z",
     "start_time": "2021-12-06T04:54:46.257476Z"
    }
   },
   "outputs": [
    {
     "data": {
      "text/html": [
       "<div>\n",
       "<style scoped>\n",
       "    .dataframe tbody tr th:only-of-type {\n",
       "        vertical-align: middle;\n",
       "    }\n",
       "\n",
       "    .dataframe tbody tr th {\n",
       "        vertical-align: top;\n",
       "    }\n",
       "\n",
       "    .dataframe thead th {\n",
       "        text-align: right;\n",
       "    }\n",
       "</style>\n",
       "<table border=\"1\" class=\"dataframe\">\n",
       "  <thead>\n",
       "    <tr style=\"text-align: right;\">\n",
       "      <th></th>\n",
       "      <th>fish_length</th>\n",
       "      <th>fish_weight</th>\n",
       "    </tr>\n",
       "  </thead>\n",
       "  <tbody>\n",
       "    <tr>\n",
       "      <th>20</th>\n",
       "      <td>0.609688</td>\n",
       "      <td>0.294794</td>\n",
       "    </tr>\n",
       "    <tr>\n",
       "      <th>42</th>\n",
       "      <td>-1.529161</td>\n",
       "      <td>-1.372967</td>\n",
       "    </tr>\n",
       "    <tr>\n",
       "      <th>6</th>\n",
       "      <td>0.195406</td>\n",
       "      <td>0.073449</td>\n",
       "    </tr>\n",
       "  </tbody>\n",
       "</table>\n",
       "</div>"
      ],
      "text/plain": [
       "    fish_length  fish_weight\n",
       "20     0.609688     0.294794\n",
       "42    -1.529161    -1.372967\n",
       "6      0.195406     0.073449"
      ]
     },
     "execution_count": 28,
     "metadata": {},
     "output_type": "execute_result"
    }
   ],
   "source": [
    "X_train_scaled = (X_train - mean) / std\n",
    "X_train_scaled.head(3)"
   ]
  },
  {
   "cell_type": "markdown",
   "id": "ff70d55d",
   "metadata": {},
   "source": [
    "## 전처리 데이터로 모델 훈련하기"
   ]
  },
  {
   "cell_type": "code",
   "execution_count": 29,
   "id": "8d6e2ad9",
   "metadata": {
    "ExecuteTime": {
     "end_time": "2021-12-06T04:54:46.346588Z",
     "start_time": "2021-12-06T04:54:46.332584Z"
    }
   },
   "outputs": [
    {
     "data": {
      "text/plain": [
       "fish_length   -0.257413\n",
       "fish_weight   -0.959494\n",
       "dtype: float64"
      ]
     },
     "execution_count": 29,
     "metadata": {},
     "output_type": "execute_result"
    }
   ],
   "source": [
    "new = ([25, 150] - mean) / std\n",
    "new"
   ]
  },
  {
   "cell_type": "code",
   "execution_count": 30,
   "id": "24108dc9",
   "metadata": {
    "ExecuteTime": {
     "end_time": "2021-12-06T04:54:46.361590Z",
     "start_time": "2021-12-06T04:54:46.347590Z"
    }
   },
   "outputs": [
    {
     "data": {
      "text/plain": [
       "KNeighborsClassifier()"
      ]
     },
     "execution_count": 30,
     "metadata": {},
     "output_type": "execute_result"
    }
   ],
   "source": [
    "model_kn.fit(X_train_scaled, y_train)"
   ]
  },
  {
   "cell_type": "code",
   "execution_count": 31,
   "id": "a50b06e0",
   "metadata": {
    "ExecuteTime": {
     "end_time": "2021-12-06T04:54:46.376594Z",
     "start_time": "2021-12-06T04:54:46.363592Z"
    }
   },
   "outputs": [],
   "source": [
    "X_test_scaled = (X_test - mean) / std"
   ]
  },
  {
   "cell_type": "code",
   "execution_count": 32,
   "id": "bc98862a",
   "metadata": {
    "ExecuteTime": {
     "end_time": "2021-12-06T04:54:46.391598Z",
     "start_time": "2021-12-06T04:54:46.378596Z"
    }
   },
   "outputs": [
    {
     "data": {
      "text/html": [
       "<div>\n",
       "<style scoped>\n",
       "    .dataframe tbody tr th:only-of-type {\n",
       "        vertical-align: middle;\n",
       "    }\n",
       "\n",
       "    .dataframe tbody tr th {\n",
       "        vertical-align: top;\n",
       "    }\n",
       "\n",
       "    .dataframe thead th {\n",
       "        text-align: right;\n",
       "    }\n",
       "</style>\n",
       "<table border=\"1\" class=\"dataframe\">\n",
       "  <thead>\n",
       "    <tr style=\"text-align: right;\">\n",
       "      <th></th>\n",
       "      <th>fish_length</th>\n",
       "      <th>fish_weight</th>\n",
       "    </tr>\n",
       "  </thead>\n",
       "  <tbody>\n",
       "    <tr>\n",
       "      <th>7</th>\n",
       "      <td>0.224310</td>\n",
       "      <td>-0.251191</td>\n",
       "    </tr>\n",
       "    <tr>\n",
       "      <th>46</th>\n",
       "      <td>-1.413547</td>\n",
       "      <td>-1.366179</td>\n",
       "    </tr>\n",
       "    <tr>\n",
       "      <th>1</th>\n",
       "      <td>-0.132165</td>\n",
       "      <td>-0.546317</td>\n",
       "    </tr>\n",
       "  </tbody>\n",
       "</table>\n",
       "</div>"
      ],
      "text/plain": [
       "    fish_length  fish_weight\n",
       "7      0.224310    -0.251191\n",
       "46    -1.413547    -1.366179\n",
       "1     -0.132165    -0.546317"
      ]
     },
     "execution_count": 32,
     "metadata": {},
     "output_type": "execute_result"
    }
   ],
   "source": [
    "X_test_scaled.sample(3)"
   ]
  },
  {
   "cell_type": "code",
   "execution_count": 33,
   "id": "cb26d45c",
   "metadata": {
    "ExecuteTime": {
     "end_time": "2021-12-06T04:54:46.406602Z",
     "start_time": "2021-12-06T04:54:46.393599Z"
    }
   },
   "outputs": [
    {
     "data": {
      "text/plain": [
       "1.0"
      ]
     },
     "execution_count": 33,
     "metadata": {},
     "output_type": "execute_result"
    }
   ],
   "source": [
    "model_kn.score(X_test_scaled, y_test)"
   ]
  },
  {
   "cell_type": "code",
   "execution_count": 34,
   "id": "2ef5f982",
   "metadata": {
    "ExecuteTime": {
     "end_time": "2021-12-06T04:54:46.421605Z",
     "start_time": "2021-12-06T04:54:46.407602Z"
    }
   },
   "outputs": [
    {
     "name": "stdout",
     "output_type": "stream",
     "text": [
      "[1.]\n"
     ]
    }
   ],
   "source": [
    "print(model_kn.predict([new]))"
   ]
  },
  {
   "cell_type": "code",
   "execution_count": 35,
   "id": "59d6bfba",
   "metadata": {
    "ExecuteTime": {
     "end_time": "2021-12-06T04:54:46.436606Z",
     "start_time": "2021-12-06T04:54:46.423606Z"
    }
   },
   "outputs": [
    {
     "data": {
      "text/plain": [
       "(array([[0.27423776, 0.57906392, 0.73734587, 0.87707531, 1.00794545]]),\n",
       " array([[20, 21, 29,  9, 17]], dtype=int64))"
      ]
     },
     "execution_count": 35,
     "metadata": {},
     "output_type": "execute_result"
    }
   ],
   "source": [
    "distances, indexes = model_kn.kneighbors([new])\n",
    "distances, indexes "
   ]
  },
  {
   "cell_type": "code",
   "execution_count": 36,
   "id": "887ed9e7",
   "metadata": {
    "ExecuteTime": {
     "end_time": "2021-12-06T04:54:46.451468Z",
     "start_time": "2021-12-06T04:54:46.438608Z"
    }
   },
   "outputs": [
    {
     "data": {
      "text/plain": [
       "array([20, 21, 29,  9, 17], dtype=int64)"
      ]
     },
     "execution_count": 36,
     "metadata": {},
     "output_type": "execute_result"
    }
   ],
   "source": [
    "indexes.flatten()"
   ]
  },
  {
   "cell_type": "code",
   "execution_count": 37,
   "id": "d7ae65ca",
   "metadata": {
    "ExecuteTime": {
     "end_time": "2021-12-06T04:54:46.466472Z",
     "start_time": "2021-12-06T04:54:46.453470Z"
    }
   },
   "outputs": [
    {
     "data": {
      "text/html": [
       "<div>\n",
       "<style scoped>\n",
       "    .dataframe tbody tr th:only-of-type {\n",
       "        vertical-align: middle;\n",
       "    }\n",
       "\n",
       "    .dataframe tbody tr th {\n",
       "        vertical-align: top;\n",
       "    }\n",
       "\n",
       "    .dataframe thead th {\n",
       "        text-align: right;\n",
       "    }\n",
       "</style>\n",
       "<table border=\"1\" class=\"dataframe\">\n",
       "  <thead>\n",
       "    <tr style=\"text-align: right;\">\n",
       "      <th></th>\n",
       "      <th>fish_length</th>\n",
       "      <th>fish_weight</th>\n",
       "    </tr>\n",
       "  </thead>\n",
       "  <tbody>\n",
       "    <tr>\n",
       "      <th>0</th>\n",
       "      <td>-0.218875</td>\n",
       "      <td>-0.687978</td>\n",
       "    </tr>\n",
       "    <tr>\n",
       "      <th>2</th>\n",
       "      <td>-0.112896</td>\n",
       "      <td>-0.398754</td>\n",
       "    </tr>\n",
       "    <tr>\n",
       "      <th>3</th>\n",
       "      <td>0.127965</td>\n",
       "      <td>-0.330875</td>\n",
       "    </tr>\n",
       "    <tr>\n",
       "      <th>13</th>\n",
       "      <td>0.416999</td>\n",
       "      <td>-0.398754</td>\n",
       "    </tr>\n",
       "    <tr>\n",
       "      <th>8</th>\n",
       "      <td>0.224310</td>\n",
       "      <td>-0.074115</td>\n",
       "    </tr>\n",
       "  </tbody>\n",
       "</table>\n",
       "</div>"
      ],
      "text/plain": [
       "    fish_length  fish_weight\n",
       "0     -0.218875    -0.687978\n",
       "2     -0.112896    -0.398754\n",
       "3      0.127965    -0.330875\n",
       "13     0.416999    -0.398754\n",
       "8      0.224310    -0.074115"
      ]
     },
     "execution_count": 37,
     "metadata": {},
     "output_type": "execute_result"
    }
   ],
   "source": [
    "X_train_scaled.iloc[indexes.flatten()]"
   ]
  },
  {
   "cell_type": "code",
   "execution_count": 38,
   "id": "44f11248",
   "metadata": {
    "ExecuteTime": {
     "end_time": "2021-12-06T04:54:46.601502Z",
     "start_time": "2021-12-06T04:54:46.468471Z"
    }
   },
   "outputs": [
    {
     "data": {
      "image/png": "[encoded data removed]",
      "text/plain": [
       "<Figure size 720x432 with 1 Axes>"
      ]
     },
     "metadata": {
      "needs_background": "light"
     },
     "output_type": "display_data"
    }
   ],
   "source": [
    "plt.scatter(X_train_scaled['fish_length'], X_train_scaled['fish_weight'])\n",
    "plt.scatter(new[0], new[1], marker='^')\n",
    "\n",
    "plt.scatter(X_train_scaled.iloc[indexes.flatten(), 0], X_train_scaled.iloc[indexes.flatten(), 1], marker='D', color='r')\n",
    "\n",
    "plt.xlabel('length')\n",
    "plt.ylabel('weight')\n",
    "plt.show()"
   ]
  },
  {
   "cell_type": "code",
   "execution_count": 39,
   "id": "ae4d5134",
   "metadata": {
    "ExecuteTime": {
     "end_time": "2021-12-06T04:54:46.616511Z",
     "start_time": "2021-12-06T04:54:46.602502Z"
    }
   },
   "outputs": [
    {
     "name": "stdout",
     "output_type": "stream",
     "text": [
      "0     1.0\n",
      "2     1.0\n",
      "3     1.0\n",
      "13    1.0\n",
      "8     1.0\n",
      "Name: label, dtype: float64\n"
     ]
    }
   ],
   "source": [
    "print(y_train.iloc[indexes.flatten()])\n",
    "# 전부 도미"
   ]
  },
  {
   "cell_type": "markdown",
   "id": "d7b77e0a",
   "metadata": {},
   "source": [
    "# skitlearn을 사용한 스케일링"
   ]
  },
  {
   "cell_type": "markdown",
   "id": "3d1ba3e3",
   "metadata": {},
   "source": [
    "## standardscaler를 사용한 방법\n",
    "\n",
    "\n",
    "- 평균이 0이고, 분산이 1인 정규분포로 변환\n",
    "```\n",
    "from sklearn.preprocessing import StandardScaler\n",
    "scaler = StandatdScaler()\n",
    "scaler.fit(Data)\n",
    "Data_scaler = scler.transform(Data)\n",
    "```\n",
    "\n",
    "## MinMaxScaler\n",
    "\n",
    "\n",
    "- 데이터를 0과 1사이의 범위 값으로 변환한다. 음수값이 있으면, -1에서 1 값으면 변환한다.\n",
    "\n",
    "```\n",
    "from sklearn.preprocessing import MinMaxScaler\n",
    "\n",
    "scaler = MinMaxScaler()\n",
    "scaler.fit(Data)\n",
    "Data_scaled = scaler.transform(Data)\n",
    "```"
   ]
  },
  {
   "cell_type": "markdown",
   "id": "178d0240",
   "metadata": {},
   "source": [
    "## iris 붓꽃 데이타셋으로 스케일링 실습"
   ]
  },
  {
   "cell_type": "code",
   "execution_count": 40,
   "id": "6017e38c",
   "metadata": {
    "ExecuteTime": {
     "end_time": "2021-12-06T04:54:46.691367Z",
     "start_time": "2021-12-06T04:54:46.617512Z"
    }
   },
   "outputs": [
    {
     "data": {
      "text/html": [
       "<div>\n",
       "<style scoped>\n",
       "    .dataframe tbody tr th:only-of-type {\n",
       "        vertical-align: middle;\n",
       "    }\n",
       "\n",
       "    .dataframe tbody tr th {\n",
       "        vertical-align: top;\n",
       "    }\n",
       "\n",
       "    .dataframe thead th {\n",
       "        text-align: right;\n",
       "    }\n",
       "</style>\n",
       "<table border=\"1\" class=\"dataframe\">\n",
       "  <thead>\n",
       "    <tr style=\"text-align: right;\">\n",
       "      <th></th>\n",
       "      <th>sepal length (cm)</th>\n",
       "      <th>sepal width (cm)</th>\n",
       "      <th>petal length (cm)</th>\n",
       "      <th>petal width (cm)</th>\n",
       "    </tr>\n",
       "  </thead>\n",
       "  <tbody>\n",
       "    <tr>\n",
       "      <th>0</th>\n",
       "      <td>5.1</td>\n",
       "      <td>3.5</td>\n",
       "      <td>1.4</td>\n",
       "      <td>0.2</td>\n",
       "    </tr>\n",
       "    <tr>\n",
       "      <th>1</th>\n",
       "      <td>4.9</td>\n",
       "      <td>3.0</td>\n",
       "      <td>1.4</td>\n",
       "      <td>0.2</td>\n",
       "    </tr>\n",
       "    <tr>\n",
       "      <th>2</th>\n",
       "      <td>4.7</td>\n",
       "      <td>3.2</td>\n",
       "      <td>1.3</td>\n",
       "      <td>0.2</td>\n",
       "    </tr>\n",
       "    <tr>\n",
       "      <th>3</th>\n",
       "      <td>4.6</td>\n",
       "      <td>3.1</td>\n",
       "      <td>1.5</td>\n",
       "      <td>0.2</td>\n",
       "    </tr>\n",
       "    <tr>\n",
       "      <th>4</th>\n",
       "      <td>5.0</td>\n",
       "      <td>3.6</td>\n",
       "      <td>1.4</td>\n",
       "      <td>0.2</td>\n",
       "    </tr>\n",
       "  </tbody>\n",
       "</table>\n",
       "</div>"
      ],
      "text/plain": [
       "   sepal length (cm)  sepal width (cm)  petal length (cm)  petal width (cm)\n",
       "0                5.1               3.5                1.4               0.2\n",
       "1                4.9               3.0                1.4               0.2\n",
       "2                4.7               3.2                1.3               0.2\n",
       "3                4.6               3.1                1.5               0.2\n",
       "4                5.0               3.6                1.4               0.2"
      ]
     },
     "execution_count": 40,
     "metadata": {},
     "output_type": "execute_result"
    }
   ],
   "source": [
    "from sklearn.datasets import load_iris\n",
    "import pandas as pd\n",
    "\n",
    "iris = load_iris()\n",
    "iris_data = iris.data\n",
    "iris_df = pd.DataFrame(data=iris_data, columns=iris.feature_names)\n",
    "iris_df.head()"
   ]
  },
  {
   "cell_type": "code",
   "execution_count": 41,
   "id": "697c5c64",
   "metadata": {
    "ExecuteTime": {
     "end_time": "2021-12-06T04:54:46.706370Z",
     "start_time": "2021-12-06T04:54:46.693368Z"
    }
   },
   "outputs": [],
   "source": [
    "from sklearn.preprocessing import StandardScaler\n",
    "\n",
    "\n",
    "scaler = StandardScaler()\n",
    "\n",
    "\n",
    "scaler.fit(iris_df)\n",
    "iris_scaled = scaler.transform(iris_df)\n",
    "\n",
    "# 아래는 에러 발생 => 넘파이 배열\n",
    "# iris_scaled.head()"
   ]
  },
  {
   "cell_type": "code",
   "execution_count": 42,
   "id": "0ca53ee1",
   "metadata": {
    "ExecuteTime": {
     "end_time": "2021-12-06T04:54:46.721373Z",
     "start_time": "2021-12-06T04:54:46.708370Z"
    }
   },
   "outputs": [
    {
     "data": {
      "text/html": [
       "<div>\n",
       "<style scoped>\n",
       "    .dataframe tbody tr th:only-of-type {\n",
       "        vertical-align: middle;\n",
       "    }\n",
       "\n",
       "    .dataframe tbody tr th {\n",
       "        vertical-align: top;\n",
       "    }\n",
       "\n",
       "    .dataframe thead th {\n",
       "        text-align: right;\n",
       "    }\n",
       "</style>\n",
       "<table border=\"1\" class=\"dataframe\">\n",
       "  <thead>\n",
       "    <tr style=\"text-align: right;\">\n",
       "      <th></th>\n",
       "      <th>sepal length (cm)</th>\n",
       "      <th>sepal width (cm)</th>\n",
       "      <th>petal length (cm)</th>\n",
       "      <th>petal width (cm)</th>\n",
       "    </tr>\n",
       "  </thead>\n",
       "  <tbody>\n",
       "    <tr>\n",
       "      <th>0</th>\n",
       "      <td>-0.900681</td>\n",
       "      <td>1.019004</td>\n",
       "      <td>-1.340227</td>\n",
       "      <td>-1.315444</td>\n",
       "    </tr>\n",
       "    <tr>\n",
       "      <th>1</th>\n",
       "      <td>-1.143017</td>\n",
       "      <td>-0.131979</td>\n",
       "      <td>-1.340227</td>\n",
       "      <td>-1.315444</td>\n",
       "    </tr>\n",
       "    <tr>\n",
       "      <th>2</th>\n",
       "      <td>-1.385353</td>\n",
       "      <td>0.328414</td>\n",
       "      <td>-1.397064</td>\n",
       "      <td>-1.315444</td>\n",
       "    </tr>\n",
       "    <tr>\n",
       "      <th>3</th>\n",
       "      <td>-1.506521</td>\n",
       "      <td>0.098217</td>\n",
       "      <td>-1.283389</td>\n",
       "      <td>-1.315444</td>\n",
       "    </tr>\n",
       "    <tr>\n",
       "      <th>4</th>\n",
       "      <td>-1.021849</td>\n",
       "      <td>1.249201</td>\n",
       "      <td>-1.340227</td>\n",
       "      <td>-1.315444</td>\n",
       "    </tr>\n",
       "  </tbody>\n",
       "</table>\n",
       "</div>"
      ],
      "text/plain": [
       "   sepal length (cm)  sepal width (cm)  petal length (cm)  petal width (cm)\n",
       "0          -0.900681          1.019004          -1.340227         -1.315444\n",
       "1          -1.143017         -0.131979          -1.340227         -1.315444\n",
       "2          -1.385353          0.328414          -1.397064         -1.315444\n",
       "3          -1.506521          0.098217          -1.283389         -1.315444\n",
       "4          -1.021849          1.249201          -1.340227         -1.315444"
      ]
     },
     "execution_count": 42,
     "metadata": {},
     "output_type": "execute_result"
    }
   ],
   "source": [
    "\n",
    "iris_df_scaled = pd.DataFrame(data=iris_scaled, columns=iris.feature_names)\n",
    "# print('feature 들의 평균 값')\n",
    "# print(iris_df_scaled.mean())\n",
    "# print('\\nfeature 들의 분산 값')\n",
    "# print(iris_df_scaled.var())\n",
    "\n",
    "iris_df_scaled.head(5)"
   ]
  },
  {
   "cell_type": "code",
   "execution_count": 43,
   "id": "c66b1a63",
   "metadata": {
    "ExecuteTime": {
     "end_time": "2021-12-06T04:54:46.736377Z",
     "start_time": "2021-12-06T04:54:46.722374Z"
    }
   },
   "outputs": [
    {
     "name": "stdout",
     "output_type": "stream",
     "text": [
      "iris target값: [0 0 0 0 0 0 0 0 0 0 0 0 0 0 0 0 0 0 0 0 0 0 0 0 0 0 0 0 0 0 0 0 0 0 0 0 0\n",
      " 0 0 0 0 0 0 0 0 0 0 0 0 0 1 1 1 1 1 1 1 1 1 1 1 1 1 1 1 1 1 1 1 1 1 1 1 1\n",
      " 1 1 1 1 1 1 1 1 1 1 1 1 1 1 1 1 1 1 1 1 1 1 1 1 1 1 2 2 2 2 2 2 2 2 2 2 2\n",
      " 2 2 2 2 2 2 2 2 2 2 2 2 2 2 2 2 2 2 2 2 2 2 2 2 2 2 2 2 2 2 2 2 2 2 2 2 2\n",
      " 2 2]\n",
      "iris target명: ['setosa' 'versicolor' 'virginica']\n"
     ]
    }
   ],
   "source": [
    "\n",
    "iris_label = iris.target\n",
    "print('iris target값:', iris_label)\n",
    "print('iris target명:', iris.target_names)"
   ]
  },
  {
   "cell_type": "code",
   "execution_count": 44,
   "id": "d80b3e50",
   "metadata": {
    "ExecuteTime": {
     "end_time": "2021-12-06T04:54:46.751380Z",
     "start_time": "2021-12-06T04:54:46.738377Z"
    }
   },
   "outputs": [],
   "source": [
    "X_train, X_test, y_train, y_test = train_test_split(iris_df_scaled, iris_label, \n",
    "                                                    test_size=0.2, random_state=11)"
   ]
  },
  {
   "cell_type": "code",
   "execution_count": 45,
   "id": "3752bf7f",
   "metadata": {
    "ExecuteTime": {
     "end_time": "2021-12-06T04:54:46.766384Z",
     "start_time": "2021-12-06T04:54:46.753381Z"
    }
   },
   "outputs": [
    {
     "data": {
      "text/plain": [
       "(120, 30)"
      ]
     },
     "execution_count": 45,
     "metadata": {},
     "output_type": "execute_result"
    }
   ],
   "source": [
    "len(X_train), len(X_test)"
   ]
  },
  {
   "cell_type": "code",
   "execution_count": 46,
   "id": "c517ccb2",
   "metadata": {
    "ExecuteTime": {
     "end_time": "2021-12-06T04:54:46.781335Z",
     "start_time": "2021-12-06T04:54:46.768385Z"
    }
   },
   "outputs": [
    {
     "data": {
      "text/html": [
       "<div>\n",
       "<style scoped>\n",
       "    .dataframe tbody tr th:only-of-type {\n",
       "        vertical-align: middle;\n",
       "    }\n",
       "\n",
       "    .dataframe tbody tr th {\n",
       "        vertical-align: top;\n",
       "    }\n",
       "\n",
       "    .dataframe thead th {\n",
       "        text-align: right;\n",
       "    }\n",
       "</style>\n",
       "<table border=\"1\" class=\"dataframe\">\n",
       "  <thead>\n",
       "    <tr style=\"text-align: right;\">\n",
       "      <th></th>\n",
       "      <th>sepal length (cm)</th>\n",
       "      <th>sepal width (cm)</th>\n",
       "      <th>petal length (cm)</th>\n",
       "      <th>petal width (cm)</th>\n",
       "    </tr>\n",
       "  </thead>\n",
       "  <tbody>\n",
       "    <tr>\n",
       "      <th>0</th>\n",
       "      <td>-0.900681</td>\n",
       "      <td>1.019004</td>\n",
       "      <td>-1.340227</td>\n",
       "      <td>-1.315444</td>\n",
       "    </tr>\n",
       "    <tr>\n",
       "      <th>120</th>\n",
       "      <td>1.280340</td>\n",
       "      <td>0.328414</td>\n",
       "      <td>1.103783</td>\n",
       "      <td>1.448832</td>\n",
       "    </tr>\n",
       "    <tr>\n",
       "      <th>122</th>\n",
       "      <td>2.249683</td>\n",
       "      <td>-0.592373</td>\n",
       "      <td>1.672157</td>\n",
       "      <td>1.053935</td>\n",
       "    </tr>\n",
       "  </tbody>\n",
       "</table>\n",
       "</div>"
      ],
      "text/plain": [
       "     sepal length (cm)  sepal width (cm)  petal length (cm)  petal width (cm)\n",
       "0            -0.900681          1.019004          -1.340227         -1.315444\n",
       "120           1.280340          0.328414           1.103783          1.448832\n",
       "122           2.249683         -0.592373           1.672157          1.053935"
      ]
     },
     "execution_count": 46,
     "metadata": {},
     "output_type": "execute_result"
    }
   ],
   "source": [
    "X_train[:3]"
   ]
  },
  {
   "cell_type": "code",
   "execution_count": 47,
   "id": "58742d48",
   "metadata": {
    "ExecuteTime": {
     "end_time": "2021-12-06T04:54:46.796340Z",
     "start_time": "2021-12-06T04:54:46.782338Z"
    }
   },
   "outputs": [
    {
     "data": {
      "text/plain": [
       "KNeighborsClassifier()"
      ]
     },
     "execution_count": 47,
     "metadata": {},
     "output_type": "execute_result"
    }
   ],
   "source": [
    "model_kn = KNeighborsClassifier()\n",
    "\n",
    "model_kn.fit(X_train, y_train)"
   ]
  },
  {
   "cell_type": "code",
   "execution_count": 48,
   "id": "3cb45cc4",
   "metadata": {
    "ExecuteTime": {
     "end_time": "2021-12-06T04:54:46.811209Z",
     "start_time": "2021-12-06T04:54:46.797341Z"
    }
   },
   "outputs": [
    {
     "data": {
      "text/plain": [
       "(0.9666666666666667, 0.9333333333333333)"
      ]
     },
     "execution_count": 48,
     "metadata": {},
     "output_type": "execute_result"
    }
   ],
   "source": [
    "model_kn.score(X_train, y_train), model_kn.score(X_test, y_test)"
   ]
  },
  {
   "cell_type": "code",
   "execution_count": 49,
   "id": "55ecfc91",
   "metadata": {
    "ExecuteTime": {
     "end_time": "2021-12-06T04:54:46.826212Z",
     "start_time": "2021-12-06T04:54:46.812210Z"
    },
    "scrolled": true
   },
   "outputs": [
    {
     "data": {
      "text/plain": [
       "array([2, 2, 1, 1, 2, 0, 1, 0, 0, 1, 1, 1, 1, 2, 2, 0, 2, 1, 2, 2, 1, 0,\n",
       "       0, 1, 0, 0, 2, 1, 0, 1])"
      ]
     },
     "execution_count": 49,
     "metadata": {},
     "output_type": "execute_result"
    }
   ],
   "source": [
    "model_kn.predict(X_test)"
   ]
  },
  {
   "cell_type": "code",
   "execution_count": 50,
   "id": "a73c6e90",
   "metadata": {
    "ExecuteTime": {
     "end_time": "2021-12-06T04:54:46.841215Z",
     "start_time": "2021-12-06T04:54:46.828213Z"
    }
   },
   "outputs": [
    {
     "name": "stdout",
     "output_type": "stream",
     "text": [
      "예측 정확도: 0.9333\n"
     ]
    }
   ],
   "source": [
    "from sklearn.metrics import accuracy_score\n",
    "print('예측 정확도: {0:.4f}'.format(accuracy_score(y_test, model_kn.predict(X_test))))"
   ]
  },
  {
   "cell_type": "markdown",
   "id": "e3c88a10",
   "metadata": {
    "ExecuteTime": {
     "end_time": "2021-12-06T02:05:26.587541Z",
     "start_time": "2021-12-06T02:05:26.575545Z"
    }
   },
   "source": [
    "## MinMaxScaler 적용하면 차이가 있을까?\n",
    "\n",
    "데이타값을 0과 1 사이의 범위값으로 변환한다. 음수값이 있으면 -1에서 1값으로 변환한다 "
   ]
  },
  {
   "cell_type": "code",
   "execution_count": 51,
   "id": "5eed43c7",
   "metadata": {
    "ExecuteTime": {
     "end_time": "2021-12-06T04:54:46.856217Z",
     "start_time": "2021-12-06T04:54:46.843215Z"
    }
   },
   "outputs": [],
   "source": [
    "from sklearn.preprocessing import MinMaxScaler"
   ]
  },
  {
   "cell_type": "code",
   "execution_count": 52,
   "id": "6ddc6690",
   "metadata": {
    "ExecuteTime": {
     "end_time": "2021-12-06T04:54:46.886461Z",
     "start_time": "2021-12-06T04:54:46.858219Z"
    }
   },
   "outputs": [
    {
     "name": "stdout",
     "output_type": "stream",
     "text": [
      "feature들의 최소 값\n",
      "sepal length (cm)    4.3\n",
      "sepal width (cm)     2.0\n",
      "petal length (cm)    1.0\n",
      "petal width (cm)     0.1\n",
      "dtype: float64\n",
      "\n",
      "feature들의 최대 값\n",
      "sepal length (cm)    7.9\n",
      "sepal width (cm)     4.4\n",
      "petal length (cm)    6.9\n",
      "petal width (cm)     2.5\n",
      "dtype: float64\n",
      "\n",
      "\n",
      "\n",
      "feature들의 최소 값\n",
      "sepal length (cm)    0.0\n",
      "sepal width (cm)     0.0\n",
      "petal length (cm)    0.0\n",
      "petal width (cm)     0.0\n",
      "dtype: float64\n",
      "\n",
      "feature들의 최대 값\n",
      "sepal length (cm)    1.0\n",
      "sepal width (cm)     1.0\n",
      "petal length (cm)    1.0\n",
      "petal width (cm)     1.0\n",
      "dtype: float64\n"
     ]
    }
   ],
   "source": [
    "iris = load_iris()\n",
    "iris_data = iris.data\n",
    "iris_df = pd.DataFrame(data=iris_data, columns=iris.feature_names)\n",
    "\n",
    "print('feature들의 최소 값')\n",
    "print(iris_df.min())\n",
    "print('\\nfeature들의 최대 값')\n",
    "print(iris_df.max())\n",
    "print('\\n'*2)\n",
    "\n",
    "scaler = MinMaxScaler()\n",
    "scaler.fit(iris_df)\n",
    "iris_scaled2 = scaler.transform(iris_df)\n",
    "\n",
    "iris_df_scaled2 = pd.DataFrame(data=iris_scaled2, columns=iris.feature_names)\n",
    "print('feature들의 최소 값')\n",
    "print(iris_df_scaled2.min())\n",
    "print('\\nfeature들의 최대 값')\n",
    "print(iris_df_scaled2.max())"
   ]
  },
  {
   "cell_type": "code",
   "execution_count": 53,
   "id": "c0ee66a6",
   "metadata": {
    "ExecuteTime": {
     "end_time": "2021-12-06T04:54:46.901464Z",
     "start_time": "2021-12-06T04:54:46.888462Z"
    }
   },
   "outputs": [],
   "source": [
    "iris_label = iris.target\n",
    "\n",
    "X_train, X_test, y_train, y_test = train_test_split(iris_df_scaled2, iris_label, \n",
    "                                                    test_size=0.2, random_state=11)"
   ]
  },
  {
   "cell_type": "code",
   "execution_count": 54,
   "id": "a9efc738",
   "metadata": {
    "ExecuteTime": {
     "end_time": "2021-12-06T04:54:46.916468Z",
     "start_time": "2021-12-06T04:54:46.902465Z"
    }
   },
   "outputs": [
    {
     "data": {
      "text/plain": [
       "KNeighborsClassifier()"
      ]
     },
     "execution_count": 54,
     "metadata": {},
     "output_type": "execute_result"
    }
   ],
   "source": [
    "model_kn = KNeighborsClassifier()\n",
    "\n",
    "model_kn.fit(X_train, y_train)"
   ]
  },
  {
   "cell_type": "code",
   "execution_count": 55,
   "id": "2a977afc",
   "metadata": {
    "ExecuteTime": {
     "end_time": "2021-12-06T04:54:46.931471Z",
     "start_time": "2021-12-06T04:54:46.918469Z"
    }
   },
   "outputs": [],
   "source": [
    "# StandardScaler() 적용시 값 \n",
    "# 0.9666666666666667, 0.9333333333333333"
   ]
  },
  {
   "cell_type": "code",
   "execution_count": 56,
   "id": "72178009",
   "metadata": {
    "ExecuteTime": {
     "end_time": "2021-12-06T04:54:46.946475Z",
     "start_time": "2021-12-06T04:54:46.933471Z"
    }
   },
   "outputs": [
    {
     "data": {
      "text/plain": [
       "(0.975, 0.9333333333333333)"
      ]
     },
     "execution_count": 56,
     "metadata": {},
     "output_type": "execute_result"
    }
   ],
   "source": [
    "model_kn.score(X_train, y_train), model_kn.score(X_test, y_test)"
   ]
  },
  {
   "cell_type": "markdown",
   "id": "f3c6bbd6",
   "metadata": {},
   "source": [
    "## 스케일링 변환시 주의 사항 \n",
    "\n",
    "- 가능하다면 전체 데이터의 스케일링 변환을 적용한 뒤 학습과 테스트 데이터로 분리한다. \n",
    "- 1이 여의치 않다면 테스트 데이터 변환시에는 fit(), fit_transform()을 적용하지 않고 \n",
    "<br>학습 데이터로 이미 fit()된 Scaler 객체를 이용해 transform() 으로 변경한다. "
   ]
  },
  {
   "cell_type": "code",
   "execution_count": 57,
   "id": "cd7d33bf",
   "metadata": {
    "ExecuteTime": {
     "end_time": "2021-12-06T04:54:46.961477Z",
     "start_time": "2021-12-06T04:54:46.948477Z"
    }
   },
   "outputs": [
    {
     "name": "stdout",
     "output_type": "stream",
     "text": [
      "[[ 0]\n",
      " [ 1]\n",
      " [ 2]\n",
      " [ 3]\n",
      " [ 4]\n",
      " [ 5]\n",
      " [ 6]\n",
      " [ 7]\n",
      " [ 8]\n",
      " [ 9]\n",
      " [10]]\n",
      "\n",
      "[[0]\n",
      " [1]\n",
      " [2]\n",
      " [3]\n",
      " [4]\n",
      " [5]]\n"
     ]
    }
   ],
   "source": [
    "train_array = np.arange(0, 11).reshape(-1, 1)\n",
    "test_array = np.arange(0, 6).reshape(-1, 1)\n",
    "\n",
    "print(train_array)\n",
    "print()\n",
    "print(test_array)"
   ]
  },
  {
   "cell_type": "code",
   "execution_count": 58,
   "id": "6e557562",
   "metadata": {
    "ExecuteTime": {
     "end_time": "2021-12-06T04:54:46.976672Z",
     "start_time": "2021-12-06T04:54:46.962478Z"
    }
   },
   "outputs": [
    {
     "name": "stdout",
     "output_type": "stream",
     "text": [
      "[[0. ]\n",
      " [0.1]\n",
      " [0.2]\n",
      " [0.3]\n",
      " [0.4]\n",
      " [0.5]\n",
      " [0.6]\n",
      " [0.7]\n",
      " [0.8]\n",
      " [0.9]\n",
      " [1. ]]\n",
      "==================================================\n",
      "[[0. ]\n",
      " [0.2]\n",
      " [0.4]\n",
      " [0.6]\n",
      " [0.8]\n",
      " [1. ]]\n",
      "==================================================\n"
     ]
    }
   ],
   "source": [
    "scaler = MinMaxScaler()\n",
    "\n",
    "scaler.fit(train_array)\n",
    "train_scaled = scaler.transform(train_array)\n",
    "print(train_scaled)\n",
    "print('='*50)\n",
    "\n",
    "scaler.fit(test_array)\n",
    "test_scaled1 = scaler.transform(test_array)\n",
    "print(test_scaled1)\n",
    "print('='*50)"
   ]
  },
  {
   "cell_type": "code",
   "execution_count": 59,
   "id": "8cce2c4b",
   "metadata": {
    "ExecuteTime": {
     "end_time": "2021-12-06T04:54:46.991576Z",
     "start_time": "2021-12-06T04:54:46.977675Z"
    }
   },
   "outputs": [
    {
     "name": "stdout",
     "output_type": "stream",
     "text": [
      "[[0. ]\n",
      " [0.1]\n",
      " [0.2]\n",
      " [0.3]\n",
      " [0.4]\n",
      " [0.5]\n",
      " [0.6]\n",
      " [0.7]\n",
      " [0.8]\n",
      " [0.9]\n",
      " [1. ]]\n",
      "==================================================\n",
      "[[0. ]\n",
      " [0.1]\n",
      " [0.2]\n",
      " [0.3]\n",
      " [0.4]\n",
      " [0.5]]\n",
      "==================================================\n"
     ]
    }
   ],
   "source": [
    "train_array = np.arange(0, 11).reshape(-1, 1)\n",
    "test_array = np.arange(0, 6).reshape(-1, 1)\n",
    "\n",
    "scaler = MinMaxScaler()\n",
    "\n",
    "scaler.fit(train_array)\n",
    "train_scaled = scaler.transform(train_array)\n",
    "print(train_scaled)\n",
    "print('='*50)\n",
    "\n",
    "test_scaled2 = scaler.transform(test_array)\n",
    "print(test_scaled2)\n",
    "print('='*50)"
   ]
  },
  {
   "cell_type": "markdown",
   "id": "9b016b62",
   "metadata": {},
   "source": [
    "# 퀴즈 : 도미와  빙어 분류 : 스케일링 활용\n",
    "\n",
    "1) 아래의 데이타셋을 이용하여 사이킷런에서 제공되어지는 스케일러 StandardScaler() 를 이용하여 데이타 전처리 후 모델을 생성하여라 \n",
    "\n",
    "  : 훈련데이타 세트와 테스트 데이타세트 분리시 test_size=0.2, random_state=11\n",
    "  \n",
    "  : 모델은 KNeighborsClassifier()를 이용한다\n",
    "\n",
    "2) 새로운 데이타 (25, 150)와 (9.5 , 6.2)는 도미일까 빙어일까? (도미는 1, 빙어는 0)"
   ]
  },
  {
   "cell_type": "code",
   "execution_count": 60,
   "id": "98e6d4d2",
   "metadata": {
    "ExecuteTime": {
     "end_time": "2021-12-06T04:54:47.021582Z",
     "start_time": "2021-12-06T04:54:46.992578Z"
    }
   },
   "outputs": [
    {
     "data": {
      "text/html": [
       "<div>\n",
       "<style scoped>\n",
       "    .dataframe tbody tr th:only-of-type {\n",
       "        vertical-align: middle;\n",
       "    }\n",
       "\n",
       "    .dataframe tbody tr th {\n",
       "        vertical-align: top;\n",
       "    }\n",
       "\n",
       "    .dataframe thead th {\n",
       "        text-align: right;\n",
       "    }\n",
       "</style>\n",
       "<table border=\"1\" class=\"dataframe\">\n",
       "  <thead>\n",
       "    <tr style=\"text-align: right;\">\n",
       "      <th></th>\n",
       "      <th>fish_length</th>\n",
       "      <th>fish_weight</th>\n",
       "      <th>label</th>\n",
       "    </tr>\n",
       "  </thead>\n",
       "  <tbody>\n",
       "    <tr>\n",
       "      <th>26</th>\n",
       "      <td>35.0</td>\n",
       "      <td>720.0</td>\n",
       "      <td>1.0</td>\n",
       "    </tr>\n",
       "    <tr>\n",
       "      <th>15</th>\n",
       "      <td>32.0</td>\n",
       "      <td>600.0</td>\n",
       "      <td>1.0</td>\n",
       "    </tr>\n",
       "    <tr>\n",
       "      <th>39</th>\n",
       "      <td>11.2</td>\n",
       "      <td>9.8</td>\n",
       "      <td>0.0</td>\n",
       "    </tr>\n",
       "    <tr>\n",
       "      <th>5</th>\n",
       "      <td>29.7</td>\n",
       "      <td>450.0</td>\n",
       "      <td>1.0</td>\n",
       "    </tr>\n",
       "    <tr>\n",
       "      <th>22</th>\n",
       "      <td>34.5</td>\n",
       "      <td>620.0</td>\n",
       "      <td>1.0</td>\n",
       "    </tr>\n",
       "  </tbody>\n",
       "</table>\n",
       "</div>"
      ],
      "text/plain": [
       "    fish_length  fish_weight  label\n",
       "26         35.0        720.0    1.0\n",
       "15         32.0        600.0    1.0\n",
       "39         11.2          9.8    0.0\n",
       "5          29.7        450.0    1.0\n",
       "22         34.5        620.0    1.0"
      ]
     },
     "execution_count": 60,
     "metadata": {},
     "output_type": "execute_result"
    }
   ],
   "source": [
    "fish_length = [25.4, 26.3, 26.5, 29.0, 29.0, 29.7, 29.7, 30.0, 30.0, 30.7, 31.0, 31.0, \n",
    "                31.5, 32.0, 32.0, 32.0, 33.0, 33.0, 33.5, 33.5, 34.0, 34.0, 34.5, 35.0, \n",
    "                35.0, 35.0, 35.0, 36.0, 36.0, 37.0, 38.5, 38.5, 39.5, 41.0, 41.0, 9.8, \n",
    "                10.5, 10.6, 11.0, 11.2, 11.3, 11.8, 11.8, 12.0, 12.2, 12.4, 13.0, 14.3, 15.0]\n",
    "\n",
    "fish_weight = [242.0, 290.0, 340.0, 363.0, 430.0, 450.0, 500.0, 390.0, 450.0, 500.0, 475.0, 500.0, \n",
    "                500.0, 340.0, 600.0, 600.0, 700.0, 700.0, 610.0, 650.0, 575.0, 685.0, 620.0, 680.0, \n",
    "                700.0, 725.0, 720.0, 714.0, 850.0, 1000.0, 920.0, 955.0, 925.0, 975.0, 950.0, 6.7, \n",
    "                7.5, 7.0, 9.7, 9.8, 8.7, 10.0, 9.9, 9.8, 12.2, 13.4, 12.2, 19.7, 19.9]\n",
    "\n",
    "fish_target = np.concatenate((np.ones(35), np.zeros(14)))\n",
    "\n",
    "\n",
    "fish_data = pd.DataFrame(columns=['fish_length', 'fish_weight', 'label'])\n",
    "\n",
    "\n",
    "fish_data['fish_length'] = fish_length\n",
    "fish_data['fish_weight'] = fish_weight\n",
    "\n",
    "\n",
    "fish_data['label'] = fish_target\n",
    "fish_data.sample(5)"
   ]
  },
  {
   "cell_type": "code",
   "execution_count": 61,
   "id": "fdb97898",
   "metadata": {
    "ExecuteTime": {
     "end_time": "2021-12-06T04:54:47.036584Z",
     "start_time": "2021-12-06T04:54:47.022582Z"
    }
   },
   "outputs": [],
   "source": [
    "X = fish_data[['fish_length', 'fish_weight']]\n",
    "y = fish_data.label"
   ]
  },
  {
   "cell_type": "code",
   "execution_count": 62,
   "id": "061204cd",
   "metadata": {
    "ExecuteTime": {
     "end_time": "2021-12-06T04:54:47.051588Z",
     "start_time": "2021-12-06T04:54:47.038586Z"
    }
   },
   "outputs": [],
   "source": [
    "scaler = StandardScaler()\n",
    "knn_model = KNeighborsClassifier()"
   ]
  },
  {
   "cell_type": "code",
   "execution_count": 63,
   "id": "41affce2",
   "metadata": {
    "ExecuteTime": {
     "end_time": "2021-12-06T04:54:47.067060Z",
     "start_time": "2021-12-06T04:54:47.053589Z"
    }
   },
   "outputs": [],
   "source": [
    "scaler.fit(X)\n",
    "fish_scaler = scaler.transform(X)"
   ]
  },
  {
   "cell_type": "code",
   "execution_count": 64,
   "id": "51569f2c",
   "metadata": {
    "ExecuteTime": {
     "end_time": "2021-12-06T04:54:47.082244Z",
     "start_time": "2021-12-06T04:54:47.068635Z"
    }
   },
   "outputs": [],
   "source": [
    "X_train, X_test, y_train, y_test = train_test_split(fish_scaler, y,\n",
    "                                                   test_size = 0.2, random_state=11, stratify=y)"
   ]
  },
  {
   "cell_type": "code",
   "execution_count": 65,
   "id": "c132b585",
   "metadata": {
    "ExecuteTime": {
     "end_time": "2021-12-06T04:54:47.097022Z",
     "start_time": "2021-12-06T04:54:47.083244Z"
    }
   },
   "outputs": [
    {
     "data": {
      "text/plain": [
       "KNeighborsClassifier()"
      ]
     },
     "execution_count": 65,
     "metadata": {},
     "output_type": "execute_result"
    }
   ],
   "source": [
    "knn_model.fit(X_train, y_train)"
   ]
  },
  {
   "cell_type": "code",
   "execution_count": 66,
   "id": "71690191",
   "metadata": {
    "ExecuteTime": {
     "end_time": "2021-12-06T04:54:47.112454Z",
     "start_time": "2021-12-06T04:54:47.098557Z"
    }
   },
   "outputs": [
    {
     "data": {
      "text/plain": [
       "1.0"
      ]
     },
     "execution_count": 66,
     "metadata": {},
     "output_type": "execute_result"
    }
   ],
   "source": [
    "from sklearn.metrics import accuracy_score\n",
    "accuracy_score(y_test, knn_model.predict(X_test))"
   ]
  },
  {
   "cell_type": "code",
   "execution_count": 67,
   "id": "7712ef2a",
   "metadata": {
    "ExecuteTime": {
     "end_time": "2021-12-06T04:54:47.142342Z",
     "start_time": "2021-12-06T04:54:47.121337Z"
    }
   },
   "outputs": [
    {
     "data": {
      "text/plain": [
       "1.0"
      ]
     },
     "execution_count": 67,
     "metadata": {},
     "output_type": "execute_result"
    }
   ],
   "source": [
    "knn_model.score(X_train, y_train)"
   ]
  },
  {
   "cell_type": "code",
   "execution_count": 68,
   "id": "38892f91",
   "metadata": {
    "ExecuteTime": {
     "end_time": "2021-12-06T04:54:47.157345Z",
     "start_time": "2021-12-06T04:54:47.146344Z"
    }
   },
   "outputs": [
    {
     "data": {
      "text/plain": [
       "1.0"
      ]
     },
     "execution_count": 68,
     "metadata": {},
     "output_type": "execute_result"
    }
   ],
   "source": [
    "knn_model.score(X_test, y_test)"
   ]
  },
  {
   "cell_type": "code",
   "execution_count": 71,
   "id": "73a550cd",
   "metadata": {
    "ExecuteTime": {
     "end_time": "2021-12-06T05:02:20.923401Z",
     "start_time": "2021-12-06T05:02:20.914516Z"
    }
   },
   "outputs": [
    {
     "data": {
      "text/plain": [
       "(array([1.]), array([0.]))"
      ]
     },
     "execution_count": 71,
     "metadata": {},
     "output_type": "execute_result"
    }
   ],
   "source": [
    "knn_model.predict([[25, 150]]), knn_model.predict([[9.5, 6.2]])\n",
    "## scaler가 작동하지 않았기 때문에, [[9.5, 6.2]]조차도 도미로 분류함. sclert를 사용할때 필히 주의할 것. 이를 해결하기 위해서, 기존에 학습한 scaler를 통해 scaling을 해야함.\n",
    "temp1 = scaler.transform([[25, 150]])\n",
    "temp2 = scaler.transform([[9.5, 6.2]])\n",
    "\n",
    "knn_model.predict(temp1), knn_model.predict(temp2)"
   ]
  },
  {
   "cell_type": "code",
   "execution_count": null,
   "id": "14e6cd3b",
   "metadata": {},
   "outputs": [],
   "source": []
  },
  {
   "cell_type": "code",
   "execution_count": null,
   "id": "6b23174e",
   "metadata": {
    "ExecuteTime": {
     "end_time": "2021-12-06T04:54:47.652231Z",
     "start_time": "2021-12-06T04:54:43.196Z"
    },
    "scrolled": true
   },
   "outputs": [],
   "source": [
    "X_train.iloc[indexes.flatten(), 0]"
   ]
  },
  {
   "cell_type": "code",
   "execution_count": null,
   "id": "f26848fb",
   "metadata": {
    "ExecuteTime": {
     "end_time": "2021-12-06T04:54:47.653229Z",
     "start_time": "2021-12-06T04:54:43.198Z"
    }
   },
   "outputs": [],
   "source": [
    "X_train"
   ]
  },
  {
   "cell_type": "code",
   "execution_count": null,
   "id": "3bf8ef39",
   "metadata": {
    "ExecuteTime": {
     "end_time": "2021-12-06T04:54:47.654229Z",
     "start_time": "2021-12-06T04:54:43.200Z"
    },
    "scrolled": true
   },
   "outputs": [],
   "source": [
    "X_train[1:].flatten()"
   ]
  },
  {
   "cell_type": "code",
   "execution_count": null,
   "id": "6c5312bf",
   "metadata": {},
   "outputs": [],
   "source": []
  },
  {
   "cell_type": "code",
   "execution_count": null,
   "id": "154e022b",
   "metadata": {},
   "outputs": [],
   "source": []
  },
  {
   "cell_type": "code",
   "execution_count": null,
   "id": "fc857f9b",
   "metadata": {},
   "outputs": [],
   "source": []
  }
 ],
 "metadata": {
  "hide_input": false,
  "kernelspec": {
   "display_name": "Python 3",
   "language": "python",
   "name": "python3"
  },
  "language_info": {
   "codemirror_mode": {
    "name": "ipython",
    "version": 3
   },
   "file_extension": ".py",
   "mimetype": "text/x-python",
   "name": "python",
   "nbconvert_exporter": "python",
   "pygments_lexer": "ipython3",
   "version": "3.8.8"
  },
  "toc": {
   "base_numbering": 1,
   "nav_menu": {},
   "number_sections": true,
   "sideBar": true,
   "skip_h1_title": false,
   "title_cell": "Table of Contents",
   "title_sidebar": "Contents",
   "toc_cell": false,
   "toc_position": {},
   "toc_section_display": true,
   "toc_window_display": false
  },
  "varInspector": {
   "cols": {
    "lenName": 16,
    "lenType": 16,
    "lenVar": 40
   },
   "kernels_config": {
    "python": {
     "delete_cmd_postfix": "",
     "delete_cmd_prefix": "del ",
     "library": "var_list.py",
     "varRefreshCmd": "print(var_dic_list())"
    },
    "r": {
     "delete_cmd_postfix": ") ",
     "delete_cmd_prefix": "rm(",
     "library": "var_list.r",
     "varRefreshCmd": "cat(var_dic_list()) "
    }
   },
   "types_to_exclude": [
    "module",
    "function",
    "builtin_function_or_method",
    "instance",
    "_Feature"
   ],
   "window_display": false
  }
 },
 "nbformat": 4,
 "nbformat_minor": 5
}
