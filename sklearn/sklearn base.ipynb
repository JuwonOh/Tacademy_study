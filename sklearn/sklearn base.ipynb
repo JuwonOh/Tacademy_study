{
 "cells": [
  {
   "cell_type": "code",
   "execution_count": 1,
   "id": "bbbbb7f1",
   "metadata": {
    "ExecuteTime": {
     "end_time": "2021-12-03T11:33:29.475775Z",
     "start_time": "2021-12-03T11:33:29.041675Z"
    }
   },
   "outputs": [
    {
     "data": {
      "text/html": [
       "<style>.container { font-weight: bold !important; }</style>"
      ],
      "text/plain": [
       "<IPython.core.display.HTML object>"
      ]
     },
     "metadata": {},
     "output_type": "display_data"
    },
    {
     "data": {
      "text/html": [
       "<style>.container { width: 98% !important; }</style>"
      ],
      "text/plain": [
       "<IPython.core.display.HTML object>"
      ]
     },
     "metadata": {},
     "output_type": "display_data"
    }
   ],
   "source": [
    "# 주피터 노트북 환경설정\n",
    "import warnings\n",
    "warnings.filterwarnings('ignore')\n",
    "warnings.simplefilter('ignore')\n",
    "\n",
    "from IPython.display import set_matplotlib_formats\n",
    "set_matplotlib_formats(\"retina\")\n",
    "\n",
    "from IPython.display import Image\n",
    "\n",
    "from IPython.core.display import display, HTML\n",
    "# display(HTML(\"<style>.container { font-weight: bold !important; font-family:'Malgun Gothic' !important;}</style>\"))\n",
    "display(HTML(\"<style>.container { font-weight: bold !important; }</style>\"))\n",
    "display(HTML(\"<style>.container { width: 98% !important; }</style>\"))\n"
   ]
  },
  {
   "cell_type": "markdown",
   "id": "a40d9ef5",
   "metadata": {},
   "source": [
    "# Machine Learning start"
   ]
  },
  {
   "cell_type": "code",
   "execution_count": 2,
   "id": "b1cb110e",
   "metadata": {
    "ExecuteTime": {
     "end_time": "2021-12-03T11:33:30.572282Z",
     "start_time": "2021-12-03T11:33:29.477774Z"
    }
   },
   "outputs": [],
   "source": [
    "import numpy as np\n",
    "import pandas as pd\n",
    "import os\n",
    "\n",
    "import matplotlib\n",
    "import matplotlib as mpl\n",
    "import matplotlib.pyplot as plt\n",
    "import seaborn as sns\n",
    "\n",
    "%matplotlib inline\n",
    "\n",
    "# 관련 라이브러리 임포트 \n",
    "import matplotlib.font_manager as fm\n",
    "\n",
    "#  한글글꼴로 변경\n",
    "# plt.rcParams['font.family'] = '한글글꼴명'\n",
    "plt.rcParams['font.size'] = 11.0\n",
    "# plt.rcParams['font.family'] = 'batang'\n",
    "plt.rcParams['font.family'] = 'Malgun Gothic'\n",
    "\n",
    "# 그래프에서 마이너스 폰트 깨지는 문제에 대한 대처\n",
    "matplotlib.rcParams['axes.unicode_minus'] = False\n",
    "\n",
    "# 그래프 기본 크기 설정 \n",
    "plt.rcParams['figure.figsize'] = [10, 6]"
   ]
  },
  {
   "cell_type": "code",
   "execution_count": 3,
   "id": "34024440",
   "metadata": {
    "ExecuteTime": {
     "end_time": "2021-12-03T11:33:31.442465Z",
     "start_time": "2021-12-03T11:33:30.574272Z"
    }
   },
   "outputs": [],
   "source": [
    "import sklearn\n",
    "\n",
    "from sklearn.metrics import accuracy_score, mean_squared_error\n",
    "\n",
    "# 모델 클래스 선택 => 학습기 \n",
    "from sklearn.neighbors import KNeighborsClassifier\n",
    "# from sklearn.tree import DecisionTreeClassifier\n",
    "# from sklearn.ensemble import RandomForestClassifier\n",
    "# from sklearn.naive_bayes import GaussianNB\n",
    "# from sklearn.svm import SVC"
   ]
  },
  {
   "cell_type": "markdown",
   "id": "1d59c37c",
   "metadata": {},
   "source": [
    "# 사이킷런 (Scikit-learn)\n",
    "\n",
    "- 머신러닝 교육을 위한 파이썬 패키지\n",
    "- https://scikit-learn.org/stable/\n",
    "- 데이터 전처리(preprocessing)\n",
    "- 지도 학습(Supervised learning)\n",
    "    - : KNN, Naive Bayes, Decision Trees, Support Vector Machine\n",
    "- 비지도 학습(Unsupervised learning)\n",
    "    - : Clustering, Gaussian mixture models\n",
    "- 모형 평가 및 선택 (evaluation and selection)\n",
    "    - : Cross validation, Model evaluation\n"
   ]
  },
  {
   "cell_type": "markdown",
   "id": "d726883e",
   "metadata": {},
   "source": [
    "| 모듈 | 설명 |\n",
    "|------|------|\n",
    "| `sklearn.datasets` | 내장된 예제 데이터 세트 |\n",
    "| `sklearn.preprocessing` | 다양한 데이터 전처리 기능 제공 (변환, 정규화, 스케일링 등) |\n",
    "| `sklearn.feature_selection` | 특징(feature)를 선택할 수 있는 기능 제공 | \n",
    "| `sklearn.feature_extraction` | 특징(feature) 추출에 사용 |\n",
    "| `sklearn.decomposition` | 차원 축소 관련 알고리즘 지원 (PCA, NMF, Truncated SVD 등)\n",
    "| `sklearn.model_selection` | 교차 검증을 위해 데이터를 학습/테스트용으로 분리, 최적 파라미터를 추출하는 API 제공 (GridSearch 등)\n",
    "| `sklearn.metrics` | 분류, 회귀, 클러스터링, Pairwise에 대한 다양한 성능 측정 방법 제공 (Accuracy, Precision, Recall, ROC-AUC, RMSE 등) |\n",
    "| `sklearn.pipeline` | 특징 처리 등의 변환과 ML 알고리즘 학습, 예측 등을 묶어서 실행할 수 있는 유틸리티 제공 |\n",
    "| `sklearn.linear_model` | 선형 회귀, 릿지(Ridge), 라쏘(Lasso), 로지스틱 회귀 등 회귀 관련 알고리즘과 SGD(Stochastic Gradient Descent) 알고리즘 제공 |\n",
    "| `sklearn.svm` | 서포트 벡터 머신 알고리즘 제공 |\n",
    "| `sklearn.neighbors` | 최근접 이웃 알고리즘 제공 (k-NN 등)\n",
    "| `sklearn.naive_bayes` | 나이브 베이즈 알고리즘 제공 (가우시안 NB, 다항 분포 NB 등) |\n",
    "| `sklearn.tree` | 의사 결정 트리 알고리즘 제공 |\n",
    "| `sklearn.ensemble` | 앙상블 알고리즘 제공 (Random Forest, AdaBoost, GradientBoost 등) |\n",
    "| `sklearn.cluster` | 비지도 클러스터링 알고리즘 제공 (k-Means, 계층형 클러스터링, DBSCAN 등)"
   ]
  },
  {
   "cell_type": "code",
   "execution_count": 4,
   "id": "70ac06c1",
   "metadata": {
    "ExecuteTime": {
     "end_time": "2021-12-03T11:33:31.457478Z",
     "start_time": "2021-12-03T11:33:31.443466Z"
    }
   },
   "outputs": [
    {
     "data": {
      "text/plain": [
       "'0.24.1'"
      ]
     },
     "execution_count": 4,
     "metadata": {},
     "output_type": "execute_result"
    }
   ],
   "source": [
    "import sklearn\n",
    "sklearn.__version__"
   ]
  },
  {
   "cell_type": "markdown",
   "id": "b6f43627",
   "metadata": {},
   "source": [
    "# 머신러닝 과정 \n",
    "\n",
    "\n",
    "- 모듈 임포트 \n",
    "- 데이타 준비 (학습데이타)\n",
    "- 데이타 전처리 \n",
    "- 데이터 학습 (모델 클래스 선택 => 모델화)\n",
    "- 학습 데이타(특징 행렬), 테스트 데이타(대상 벡터) 준비 \n",
    "- 모델을 데이타에 적합(Model Fit)\n",
    "- 데이터 예측 (테스트데이타 또는 새로운 데이타)\n",
    "- 모델 평가 : 정답률. 에러률 "
   ]
  },
  {
   "cell_type": "markdown",
   "id": "24c2cda9",
   "metadata": {},
   "source": [
    "# XOR 연산 학습\n",
    "\n",
    "- 두 값의 각 자릿수를 비교해, 값이 같으면 0, 다르면 1을 계산한다. "
   ]
  },
  {
   "cell_type": "code",
   "execution_count": 5,
   "id": "025a5287",
   "metadata": {
    "ExecuteTime": {
     "end_time": "2021-12-03T11:33:31.472994Z",
     "start_time": "2021-12-03T11:33:31.459479Z"
    }
   },
   "outputs": [],
   "source": [
    "# from sklearn.neighbors import KNeighborsClassifier\n",
    "# from sklearn.tree import DecisionTreeClassifier\n",
    "# from sklearn.ensemble import RandomForestClassifier\n",
    "# from sklearn.naive_bayes import GaussianNB\n",
    "from sklearn.svm import SVC"
   ]
  },
  {
   "cell_type": "markdown",
   "id": "62918b7c",
   "metadata": {},
   "source": [
    "## 학습데이타 와 레이블 \n",
    "```\n",
    "xor_data =  [\n",
    "     [0, 0, 0],\n",
    "     [0, 1, 1],\n",
    "     [1, 0, 1],\n",
    "     [1, 1, 0]\n",
    " ]\n",
    "```"
   ]
  },
  {
   "cell_type": "code",
   "execution_count": 6,
   "id": "cd6a48b9",
   "metadata": {
    "ExecuteTime": {
     "end_time": "2021-12-03T11:33:31.488010Z",
     "start_time": "2021-12-03T11:33:31.475002Z"
    }
   },
   "outputs": [],
   "source": [
    "X = [ [0,0], [0,1], [1,0], [1,1]]\n",
    "y = [0,1,1,0]"
   ]
  },
  {
   "cell_type": "markdown",
   "id": "c440827b",
   "metadata": {},
   "source": [
    "## 데이터 학습과 모델링"
   ]
  },
  {
   "cell_type": "code",
   "execution_count": 7,
   "id": "dfe78cd1",
   "metadata": {
    "ExecuteTime": {
     "end_time": "2021-12-03T11:33:31.518016Z",
     "start_time": "2021-12-03T11:33:31.489997Z"
    }
   },
   "outputs": [
    {
     "data": {
      "text/plain": [
       "DecisionTreeClassifier()"
      ]
     },
     "execution_count": 7,
     "metadata": {},
     "output_type": "execute_result"
    }
   ],
   "source": [
    "model = SVC()\n",
    "from sklearn.tree import DecisionTreeClassifier\n",
    "model2 = DecisionTreeClassifier()\n",
    "model.fit(X, y)\n",
    "model2.fit(X, y)"
   ]
  },
  {
   "cell_type": "code",
   "execution_count": 8,
   "id": "eeb2cce2",
   "metadata": {
    "ExecuteTime": {
     "end_time": "2021-12-03T11:33:31.533026Z",
     "start_time": "2021-12-03T11:33:31.520011Z"
    }
   },
   "outputs": [
    {
     "data": {
      "text/plain": [
       "{'C': 1.0,\n",
       " 'break_ties': False,\n",
       " 'cache_size': 200,\n",
       " 'class_weight': None,\n",
       " 'coef0': 0.0,\n",
       " 'decision_function_shape': 'ovr',\n",
       " 'degree': 3,\n",
       " 'gamma': 'scale',\n",
       " 'kernel': 'rbf',\n",
       " 'max_iter': -1,\n",
       " 'probability': False,\n",
       " 'random_state': None,\n",
       " 'shrinking': True,\n",
       " 'tol': 0.001,\n",
       " 'verbose': False}"
      ]
     },
     "execution_count": 8,
     "metadata": {},
     "output_type": "execute_result"
    }
   ],
   "source": [
    "model.get_params()"
   ]
  },
  {
   "cell_type": "markdown",
   "id": "d3548a83",
   "metadata": {},
   "source": [
    "## 데이터 예측"
   ]
  },
  {
   "cell_type": "code",
   "execution_count": 9,
   "id": "e8f0d76b",
   "metadata": {
    "ExecuteTime": {
     "end_time": "2021-12-03T11:33:31.548023Z",
     "start_time": "2021-12-03T11:33:31.534011Z"
    }
   },
   "outputs": [
    {
     "data": {
      "text/plain": [
       "(array([0, 1, 1, 0]), array([0, 1, 1, 0]))"
      ]
     },
     "execution_count": 9,
     "metadata": {},
     "output_type": "execute_result"
    }
   ],
   "source": [
    "model.predict(X), model2.predict(X)"
   ]
  },
  {
   "cell_type": "code",
   "execution_count": 10,
   "id": "fff8b154",
   "metadata": {
    "ExecuteTime": {
     "end_time": "2021-12-03T11:33:31.563026Z",
     "start_time": "2021-12-03T11:33:31.550010Z"
    }
   },
   "outputs": [
    {
     "data": {
      "text/plain": [
       "array([0])"
      ]
     },
     "execution_count": 10,
     "metadata": {},
     "output_type": "execute_result"
    }
   ],
   "source": [
    "model.predict([[1,1]])"
   ]
  },
  {
   "cell_type": "code",
   "execution_count": 11,
   "id": "c39d8f22",
   "metadata": {
    "ExecuteTime": {
     "end_time": "2021-12-03T11:33:31.578037Z",
     "start_time": "2021-12-03T11:33:31.565014Z"
    }
   },
   "outputs": [
    {
     "data": {
      "text/plain": [
       "array([0, 0])"
      ]
     },
     "execution_count": 11,
     "metadata": {},
     "output_type": "execute_result"
    }
   ],
   "source": [
    "model.predict([[1,1], [0,0]])"
   ]
  },
  {
   "cell_type": "markdown",
   "id": "980d25c8",
   "metadata": {},
   "source": [
    "## 모델 평가와 결과 확인\n",
    " - 정답률과 에러률\n",
    " ```\n",
    " accuracy_score()\n",
    " mean_squared_error()\n",
    " ```"
   ]
  },
  {
   "cell_type": "code",
   "execution_count": 12,
   "id": "ebe6097c",
   "metadata": {
    "ExecuteTime": {
     "end_time": "2021-12-03T11:33:31.593021Z",
     "start_time": "2021-12-03T11:33:31.580017Z"
    }
   },
   "outputs": [],
   "source": [
    "from sklearn.metrics import accuracy_score, mean_squared_error"
   ]
  },
  {
   "cell_type": "code",
   "execution_count": 13,
   "id": "2feb2fec",
   "metadata": {
    "ExecuteTime": {
     "end_time": "2021-12-03T11:33:31.608043Z",
     "start_time": "2021-12-03T11:33:31.595020Z"
    }
   },
   "outputs": [
    {
     "data": {
      "text/plain": [
       "1.0"
      ]
     },
     "execution_count": 13,
     "metadata": {},
     "output_type": "execute_result"
    }
   ],
   "source": [
    "accuracy_score(y, model.predict(X))"
   ]
  },
  {
   "cell_type": "code",
   "execution_count": 14,
   "id": "f2e0b5f8",
   "metadata": {
    "ExecuteTime": {
     "end_time": "2021-12-03T11:33:31.623025Z",
     "start_time": "2021-12-03T11:33:31.609037Z"
    }
   },
   "outputs": [
    {
     "data": {
      "text/plain": [
       "0.0"
      ]
     },
     "execution_count": 14,
     "metadata": {},
     "output_type": "execute_result"
    }
   ],
   "source": [
    "mean_squared_error(y, y)"
   ]
  },
  {
   "cell_type": "markdown",
   "id": "1e1b02fc",
   "metadata": {},
   "source": [
    "## XOR 연산 머신러닝 - 데이터 프레임 활용"
   ]
  },
  {
   "cell_type": "code",
   "execution_count": 15,
   "id": "8ec58624",
   "metadata": {
    "ExecuteTime": {
     "end_time": "2021-12-03T11:33:31.638030Z",
     "start_time": "2021-12-03T11:33:31.624027Z"
    }
   },
   "outputs": [],
   "source": [
    "data = [\n",
    "    [0, 0, 0],\n",
    "    [0, 1, 1],\n",
    "    [1, 0, 1],\n",
    "    [1, 1, 0]\n",
    "]"
   ]
  },
  {
   "cell_type": "code",
   "execution_count": 16,
   "id": "d2d51c7d",
   "metadata": {
    "ExecuteTime": {
     "end_time": "2021-12-03T11:33:31.653034Z",
     "start_time": "2021-12-03T11:33:31.639031Z"
    }
   },
   "outputs": [],
   "source": [
    "df = pd.DataFrame(data)"
   ]
  },
  {
   "cell_type": "code",
   "execution_count": 17,
   "id": "366fe469",
   "metadata": {
    "ExecuteTime": {
     "end_time": "2021-12-03T11:33:31.668036Z",
     "start_time": "2021-12-03T11:33:31.654037Z"
    }
   },
   "outputs": [
    {
     "data": {
      "text/html": [
       "<div>\n",
       "<style scoped>\n",
       "    .dataframe tbody tr th:only-of-type {\n",
       "        vertical-align: middle;\n",
       "    }\n",
       "\n",
       "    .dataframe tbody tr th {\n",
       "        vertical-align: top;\n",
       "    }\n",
       "\n",
       "    .dataframe thead th {\n",
       "        text-align: right;\n",
       "    }\n",
       "</style>\n",
       "<table border=\"1\" class=\"dataframe\">\n",
       "  <thead>\n",
       "    <tr style=\"text-align: right;\">\n",
       "      <th></th>\n",
       "      <th>0</th>\n",
       "      <th>1</th>\n",
       "    </tr>\n",
       "  </thead>\n",
       "  <tbody>\n",
       "    <tr>\n",
       "      <th>0</th>\n",
       "      <td>0</td>\n",
       "      <td>0</td>\n",
       "    </tr>\n",
       "    <tr>\n",
       "      <th>1</th>\n",
       "      <td>0</td>\n",
       "      <td>1</td>\n",
       "    </tr>\n",
       "    <tr>\n",
       "      <th>2</th>\n",
       "      <td>1</td>\n",
       "      <td>0</td>\n",
       "    </tr>\n",
       "    <tr>\n",
       "      <th>3</th>\n",
       "      <td>1</td>\n",
       "      <td>1</td>\n",
       "    </tr>\n",
       "  </tbody>\n",
       "</table>\n",
       "</div>"
      ],
      "text/plain": [
       "   0  1\n",
       "0  0  0\n",
       "1  0  1\n",
       "2  1  0\n",
       "3  1  1"
      ]
     },
     "execution_count": 17,
     "metadata": {},
     "output_type": "execute_result"
    }
   ],
   "source": [
    "df[[0,1]]"
   ]
  },
  {
   "cell_type": "code",
   "execution_count": 18,
   "id": "5b3001ea",
   "metadata": {
    "ExecuteTime": {
     "end_time": "2021-12-03T11:33:31.683039Z",
     "start_time": "2021-12-03T11:33:31.669038Z"
    }
   },
   "outputs": [
    {
     "data": {
      "text/plain": [
       "0    0\n",
       "1    1\n",
       "2    1\n",
       "3    0\n",
       "Name: 2, dtype: int64"
      ]
     },
     "execution_count": 18,
     "metadata": {},
     "output_type": "execute_result"
    }
   ],
   "source": [
    "y = df[2]\n",
    "y"
   ]
  },
  {
   "cell_type": "code",
   "execution_count": 19,
   "id": "8afcd906",
   "metadata": {
    "ExecuteTime": {
     "end_time": "2021-12-03T11:33:31.698064Z",
     "start_time": "2021-12-03T11:33:31.684040Z"
    }
   },
   "outputs": [
    {
     "data": {
      "text/plain": [
       "SVC()"
      ]
     },
     "execution_count": 19,
     "metadata": {},
     "output_type": "execute_result"
    }
   ],
   "source": [
    "model = SVC()\n",
    "model.fit(X, y)"
   ]
  },
  {
   "cell_type": "code",
   "execution_count": 20,
   "id": "5a0f62a4",
   "metadata": {
    "ExecuteTime": {
     "end_time": "2021-12-03T11:33:31.713067Z",
     "start_time": "2021-12-03T11:33:31.700058Z"
    }
   },
   "outputs": [
    {
     "data": {
      "text/plain": [
       "array([0, 1, 1, 0], dtype=int64)"
      ]
     },
     "execution_count": 20,
     "metadata": {},
     "output_type": "execute_result"
    }
   ],
   "source": [
    "model.predict(X)"
   ]
  },
  {
   "cell_type": "code",
   "execution_count": 21,
   "id": "d1a13f2f",
   "metadata": {
    "ExecuteTime": {
     "end_time": "2021-12-03T11:33:31.728064Z",
     "start_time": "2021-12-03T11:33:31.715047Z"
    }
   },
   "outputs": [
    {
     "data": {
      "text/plain": [
       "array([0, 1], dtype=int64)"
      ]
     },
     "execution_count": 21,
     "metadata": {},
     "output_type": "execute_result"
    }
   ],
   "source": [
    "model.predict([[0,0], [1,0]])"
   ]
  },
  {
   "cell_type": "code",
   "execution_count": 22,
   "id": "2ddbec6a",
   "metadata": {
    "ExecuteTime": {
     "end_time": "2021-12-03T11:33:31.743058Z",
     "start_time": "2021-12-03T11:33:31.732054Z"
    }
   },
   "outputs": [
    {
     "data": {
      "text/plain": [
       "1.0"
      ]
     },
     "execution_count": 22,
     "metadata": {},
     "output_type": "execute_result"
    }
   ],
   "source": [
    "## accuracy를 알아보는 방식이 이외에도 여러가지 방법이 있다. 이 방법으로 간단히 보는 것도 가능.\n",
    "model.score(X, y)"
   ]
  },
  {
   "cell_type": "code",
   "execution_count": 23,
   "id": "1e049e52",
   "metadata": {
    "ExecuteTime": {
     "end_time": "2021-12-03T11:33:31.758061Z",
     "start_time": "2021-12-03T11:33:31.746058Z"
    }
   },
   "outputs": [
    {
     "name": "stdout",
     "output_type": "stream",
     "text": [
      "정답률은? 100.0%\n"
     ]
    }
   ],
   "source": [
    "result = accuracy_score(y, model.predict(X))\n",
    "print(\"정답률은? {}%\".format(result *100))"
   ]
  },
  {
   "cell_type": "code",
   "execution_count": 24,
   "id": "7f92814e",
   "metadata": {
    "ExecuteTime": {
     "end_time": "2021-12-03T11:33:31.773488Z",
     "start_time": "2021-12-03T11:33:31.760063Z"
    }
   },
   "outputs": [
    {
     "name": "stdout",
     "output_type": "stream",
     "text": [
      "error율은? 0.0\n"
     ]
    }
   ],
   "source": [
    "result = mean_squared_error(y, model.predict(X))\n",
    "print(\"error율은? {}\".format(result * 100))"
   ]
  },
  {
   "cell_type": "code",
   "execution_count": 25,
   "id": "b6291079",
   "metadata": {
    "ExecuteTime": {
     "end_time": "2021-12-03T11:33:31.788503Z",
     "start_time": "2021-12-03T11:33:31.774496Z"
    }
   },
   "outputs": [
    {
     "data": {
      "text/plain": [
       "0.0"
      ]
     },
     "execution_count": 25,
     "metadata": {},
     "output_type": "execute_result"
    }
   ],
   "source": [
    "result"
   ]
  },
  {
   "cell_type": "markdown",
   "id": "f4b3e91b",
   "metadata": {},
   "source": [
    "# 생선 분류 문제\n",
    "\n",
    "- 출처 : https://www.kaggle.com/aungpyaeap/fish-market\n",
    "\n",
    "```\n",
    "1) 데이터 준비 \n",
    "    도미와 방어의 길이와 무게 \n",
    "    X, y \n",
    "2) 모델 생성 : KNeighborsClassifier\n",
    "3) 모델 학습 fit()\n",
    "4) 평가 score()\n",
    "5) 예측 predict()\n",
    "```"
   ]
  },
  {
   "cell_type": "code",
   "execution_count": 26,
   "id": "e52a5d59",
   "metadata": {
    "ExecuteTime": {
     "end_time": "2021-12-03T11:33:31.803507Z",
     "start_time": "2021-12-03T11:33:31.790497Z"
    }
   },
   "outputs": [],
   "source": [
    "import sklearn\n",
    "\n",
    "## 모델 클래스 선택 => 학습기\n",
    "from sklearn.neighbors import KNeighborsClassifier\n",
    "# from sklearn.tree import DecisionTreeClassifier\n",
    "# from sklearn.ensemble import RandomForestClassifier\n",
    "# from sklearn.naive_bayes import GaussianNB\n",
    "# from sklearn.svm import SVM\n"
   ]
  },
  {
   "cell_type": "markdown",
   "id": "36d273b8",
   "metadata": {},
   "source": [
    "## kNN\n",
    "\n",
    "- k-최근접 이웃 알고리즘\n",
    "- 새로운 데이터를 입력받았을때 가장 가까이 있는 것은 무엇일까?\n",
    "\n",
    "<img src='https://img1.daumcdn.net/thumb/R720x0.q80/?scode=mtistory2&fname=http%3A%2F%2Fcfile28.uf.tistory.com%2Fimage%2F99631D335A165F182D00A7'>\n",
    "\n",
    "- knn_classfier._fit_X : 학습데이타 X\n",
    "- knn_classfier._y : 정답지, 학습데이타 y\n"
   ]
  },
  {
   "cell_type": "markdown",
   "id": "d157f2ba",
   "metadata": {},
   "source": [
    "## 도미 데이터 준비하기"
   ]
  },
  {
   "cell_type": "code",
   "execution_count": 27,
   "id": "b22174c1",
   "metadata": {
    "ExecuteTime": {
     "end_time": "2021-12-03T11:33:31.818592Z",
     "start_time": "2021-12-03T11:33:31.805508Z"
    }
   },
   "outputs": [],
   "source": [
    "bream_length = [25.4, 26.3, 26.5, 29.0, 29.0, 29.7, 29.7, 30.0, 30.0, 30.7, 31.0, 31.0, 31.5, 32.0, 32.0, 32.0, 33.0, 33.0, 33.5, 33.5, 34.0, 34.0, 34.5, 35.0, 35.0, 35.0, 35.0, 36.0, 36.0, 37.0, 38.5, 38.5, 39.5, 41.0, 41.0]\n",
    "bream_weight = [242.0, 290.0, 340.0, 363.0, 430.0, 450.0, 500.0, 390.0, 450.0, 500.0, 475.0, 500.0, 500.0, 340.0, 600.0, 600.0, 700.0, 700.0, 610.0, 650.0, 575.0, 685.0, 620.0, 680.0, 700.0, 725.0, 720.0, 714.0, 850.0, 1000.0, 920.0, 955.0, 925.0, 975.0, 950.0]"
   ]
  },
  {
   "cell_type": "code",
   "execution_count": 28,
   "id": "e9eb01bd",
   "metadata": {
    "ExecuteTime": {
     "end_time": "2021-12-03T11:33:31.833430Z",
     "start_time": "2021-12-03T11:33:31.820551Z"
    }
   },
   "outputs": [
    {
     "data": {
      "text/plain": [
       "(35, 35)"
      ]
     },
     "execution_count": 28,
     "metadata": {},
     "output_type": "execute_result"
    }
   ],
   "source": [
    "len(bream_length), len(bream_weight)"
   ]
  },
  {
   "cell_type": "markdown",
   "id": "5bafb4fa",
   "metadata": {},
   "source": [
    "## 빙어 데이터"
   ]
  },
  {
   "cell_type": "code",
   "execution_count": 29,
   "id": "2321e652",
   "metadata": {
    "ExecuteTime": {
     "end_time": "2021-12-03T11:33:31.848434Z",
     "start_time": "2021-12-03T11:33:31.834431Z"
    }
   },
   "outputs": [],
   "source": [
    "smelt_length = [9.8, 10.5, 10.6, 11.0, 11.2, 11.3, 11.8, 11.8, 12.0, 12.2, 12.4, 13.0, 14.3, 15.0]\n",
    "smelt_weight = [6.7, 7.5, 7.0, 9.7, 9.8, 8.7, 10.0, 9.9, 9.8, 12.2, 13.4, 12.2, 19.7, 19.9]"
   ]
  },
  {
   "cell_type": "code",
   "execution_count": 30,
   "id": "490ba234",
   "metadata": {
    "ExecuteTime": {
     "end_time": "2021-12-03T11:33:31.863655Z",
     "start_time": "2021-12-03T11:33:31.849428Z"
    }
   },
   "outputs": [
    {
     "data": {
      "text/plain": [
       "(14, 14)"
      ]
     },
     "execution_count": 30,
     "metadata": {},
     "output_type": "execute_result"
    }
   ],
   "source": [
    "len(smelt_length), len(smelt_weight)"
   ]
  },
  {
   "cell_type": "code",
   "execution_count": 31,
   "id": "33119206",
   "metadata": {
    "ExecuteTime": {
     "end_time": "2021-12-03T11:33:32.029308Z",
     "start_time": "2021-12-03T11:33:31.865778Z"
    }
   },
   "outputs": [
    {
     "data": {
      "image/png": "[encoded data removed]",
      "text/plain": [
       "<Figure size 720x432 with 1 Axes>"
      ]
     },
     "metadata": {
      "needs_background": "light"
     },
     "output_type": "display_data"
    }
   ],
   "source": [
    "# 도미\n",
    "plt.scatter(bream_length, bream_weight)\n",
    "## 빙어\n",
    "plt.scatter(smelt_weight, smelt_weight, color = \"r\")\n",
    "\n",
    "plt.xlabel(\"length\")\n",
    "plt.ylabel(\"weight\")\n",
    "plt.show()"
   ]
  },
  {
   "cell_type": "code",
   "execution_count": 32,
   "id": "40297eae",
   "metadata": {
    "ExecuteTime": {
     "end_time": "2021-12-03T11:33:32.044317Z",
     "start_time": "2021-12-03T11:33:32.031308Z"
    }
   },
   "outputs": [
    {
     "name": "stdout",
     "output_type": "stream",
     "text": [
      "49행 2열\n"
     ]
    }
   ],
   "source": [
    "# 리스트에서 sklearn돌리기\n",
    "# 빙어, 도미의 길이 데이터와 무게를 하나의 리스트로 결합.\n",
    "# shuffle하는 경우는 이후에 실험하기.\n",
    "length = bream_length + smelt_length\n",
    "weight =  bream_weight + smelt_weight\n",
    "\n",
    "# zip을 이용해서 2차원 리스트로 합치기\n",
    "\n",
    "fish_data = [[l, w] for l, w in zip(length, weight)]\n",
    "\n",
    "print(\"{}행 {}열\".format(len(fish_data), len(fish_data[0])))"
   ]
  },
  {
   "cell_type": "code",
   "execution_count": 33,
   "id": "bf694699",
   "metadata": {
    "ExecuteTime": {
     "end_time": "2021-12-03T11:33:32.059321Z",
     "start_time": "2021-12-03T11:33:32.046302Z"
    }
   },
   "outputs": [
    {
     "name": "stdout",
     "output_type": "stream",
     "text": [
      "(49, 1) (49, 1)\n",
      "(49, 2)\n"
     ]
    }
   ],
   "source": [
    "# 넘파이 배열 버전\n",
    "arr_length = np.array(bream_length + smelt_length).reshape(-1,1)\n",
    "arr_weight = np.array(bream_weight + smelt_weight).reshape(-1,1)\n",
    "print(arr_length.shape, arr_weight.shape)\n",
    "\n",
    "arr_fish = np.hstack((arr_length, arr_weight))\n",
    "print(arr_fish.shape)\n",
    "\n",
    "#for i,j in arr_fish:\n",
    "#    print(i, j)"
   ]
  },
  {
   "cell_type": "code",
   "execution_count": 34,
   "id": "69d43cd8",
   "metadata": {
    "ExecuteTime": {
     "end_time": "2021-12-03T11:33:32.074318Z",
     "start_time": "2021-12-03T11:33:32.061309Z"
    }
   },
   "outputs": [
    {
     "data": {
      "text/plain": [
       "(49, 2)"
      ]
     },
     "execution_count": 34,
     "metadata": {},
     "output_type": "execute_result"
    }
   ],
   "source": [
    "df_fish = pd.DataFrame(columns = ['length', \"weigth\"])\n",
    "df_fish['length'] = length\n",
    "df_fish[\"weigth\"] = weight\n",
    "df_fish.shape"
   ]
  },
  {
   "cell_type": "code",
   "execution_count": 35,
   "id": "9d529282",
   "metadata": {
    "ExecuteTime": {
     "end_time": "2021-12-03T11:33:32.089322Z",
     "start_time": "2021-12-03T11:33:32.076312Z"
    }
   },
   "outputs": [],
   "source": [
    "y = [1] *35 + [0]*14"
   ]
  },
  {
   "cell_type": "code",
   "execution_count": 36,
   "id": "031c84b7",
   "metadata": {
    "ExecuteTime": {
     "end_time": "2021-12-03T11:33:32.104331Z",
     "start_time": "2021-12-03T11:33:32.090316Z"
    }
   },
   "outputs": [
    {
     "data": {
      "text/plain": [
       "array([0])"
      ]
     },
     "execution_count": 36,
     "metadata": {},
     "output_type": "execute_result"
    }
   ],
   "source": [
    "knn_classfier = KNeighborsClassifier()\n",
    "knn_classfier.fit(fish_data, y)\n",
    "knn_classfier.score(fish_data, y)\n",
    "\n",
    "knn_classfier.predict([[38.5, 920.0]])\n",
    "knn_classfier.predict([[12.4, 13.4]])"
   ]
  },
  {
   "cell_type": "code",
   "execution_count": 37,
   "id": "079afd41",
   "metadata": {
    "ExecuteTime": {
     "end_time": "2021-12-03T11:33:32.119335Z",
     "start_time": "2021-12-03T11:33:32.106319Z"
    }
   },
   "outputs": [
    {
     "name": "stdout",
     "output_type": "stream",
     "text": [
      "정답률은? 1.0%\n"
     ]
    }
   ],
   "source": [
    "result = accuracy_score(y, knn_classfier.predict(fish_data))\n",
    "print(\"정답률은? {}%\".format(result))"
   ]
  },
  {
   "cell_type": "code",
   "execution_count": 38,
   "id": "53e7cb64",
   "metadata": {
    "ExecuteTime": {
     "end_time": "2021-12-03T11:33:32.134338Z",
     "start_time": "2021-12-03T11:33:32.121322Z"
    }
   },
   "outputs": [
    {
     "name": "stdout",
     "output_type": "stream",
     "text": [
      "오답률은? 0.0\n"
     ]
    }
   ],
   "source": [
    "result = mean_squared_error(y, knn_classfier.predict(fish_data))\n",
    "print(\"오답률은? {}\".format(result))"
   ]
  },
  {
   "cell_type": "markdown",
   "id": "6139e982",
   "metadata": {},
   "source": [
    "## 결과를 살펴보기"
   ]
  },
  {
   "cell_type": "code",
   "execution_count": 39,
   "id": "ab64357f",
   "metadata": {
    "ExecuteTime": {
     "end_time": "2021-12-03T11:33:32.284372Z",
     "start_time": "2021-12-03T11:33:32.135325Z"
    }
   },
   "outputs": [
    {
     "data": {
      "image/png": "[encoded data removed]",
      "text/plain": [
       "<Figure size 720x432 with 1 Axes>"
      ]
     },
     "metadata": {
      "needs_background": "light"
     },
     "output_type": "display_data"
    }
   ],
   "source": [
    "plt.scatter(bream_length, bream_weight)\n",
    "plt.scatter(smelt_length, smelt_weight)\n",
    "\n",
    "plt.scatter(30, 600, marker='^')\n",
    "plt.xlabel('length')\n",
    "plt.ylabel('weight')\n",
    "plt.show()"
   ]
  },
  {
   "cell_type": "code",
   "execution_count": 40,
   "id": "bf962935",
   "metadata": {
    "ExecuteTime": {
     "end_time": "2021-12-03T11:33:32.299375Z",
     "start_time": "2021-12-03T11:33:32.286366Z"
    }
   },
   "outputs": [
    {
     "data": {
      "text/plain": [
       "array([1])"
      ]
     },
     "execution_count": 40,
     "metadata": {},
     "output_type": "execute_result"
    }
   ],
   "source": [
    "knn_classfier.predict([[30, 600]])"
   ]
  },
  {
   "cell_type": "code",
   "execution_count": 41,
   "id": "e88de4d3",
   "metadata": {
    "ExecuteTime": {
     "end_time": "2021-12-03T11:33:32.314373Z",
     "start_time": "2021-12-03T11:33:32.301363Z"
    }
   },
   "outputs": [
    {
     "name": "stdout",
     "output_type": "stream",
     "text": [
      "[[  25.4  242. ]\n",
      " [  26.3  290. ]\n",
      " [  26.5  340. ]\n",
      " [  29.   363. ]\n",
      " [  29.   430. ]\n",
      " [  29.7  450. ]\n",
      " [  29.7  500. ]\n",
      " [  30.   390. ]\n",
      " [  30.   450. ]\n",
      " [  30.7  500. ]\n",
      " [  31.   475. ]\n",
      " [  31.   500. ]\n",
      " [  31.5  500. ]\n",
      " [  32.   340. ]\n",
      " [  32.   600. ]\n",
      " [  32.   600. ]\n",
      " [  33.   700. ]\n",
      " [  33.   700. ]\n",
      " [  33.5  610. ]\n",
      " [  33.5  650. ]\n",
      " [  34.   575. ]\n",
      " [  34.   685. ]\n",
      " [  34.5  620. ]\n",
      " [  35.   680. ]\n",
      " [  35.   700. ]\n",
      " [  35.   725. ]\n",
      " [  35.   720. ]\n",
      " [  36.   714. ]\n",
      " [  36.   850. ]\n",
      " [  37.  1000. ]\n",
      " [  38.5  920. ]\n",
      " [  38.5  955. ]\n",
      " [  39.5  925. ]\n",
      " [  41.   975. ]\n",
      " [  41.   950. ]\n",
      " [   9.8    6.7]\n",
      " [  10.5    7.5]\n",
      " [  10.6    7. ]\n",
      " [  11.     9.7]\n",
      " [  11.2    9.8]\n",
      " [  11.3    8.7]\n",
      " [  11.8   10. ]\n",
      " [  11.8    9.9]\n",
      " [  12.     9.8]\n",
      " [  12.2   12.2]\n",
      " [  12.4   13.4]\n",
      " [  13.    12.2]\n",
      " [  14.3   19.7]\n",
      " [  15.    19.9]]\n"
     ]
    }
   ],
   "source": [
    "print(knn_classfier._fit_X)"
   ]
  },
  {
   "cell_type": "code",
   "execution_count": 42,
   "id": "0cc2dc34",
   "metadata": {
    "ExecuteTime": {
     "end_time": "2021-12-03T11:33:32.329376Z",
     "start_time": "2021-12-03T11:33:32.315360Z"
    }
   },
   "outputs": [
    {
     "name": "stdout",
     "output_type": "stream",
     "text": [
      "[1 1 1 1 1 1 1 1 1 1 1 1 1 1 1 1 1 1 1 1 1 1 1 1 1 1 1 1 1 1 1 1 1 1 1 0 0\n",
      " 0 0 0 0 0 0 0 0 0 0 0 0]\n"
     ]
    }
   ],
   "source": [
    "print(knn_classfier._y)"
   ]
  },
  {
   "cell_type": "markdown",
   "id": "c771168a",
   "metadata": {},
   "source": [
    "## KNN 알고리즘의 매개변수와 패러미터를 변경해보자."
   ]
  },
  {
   "cell_type": "code",
   "execution_count": 43,
   "id": "ca8f3e18",
   "metadata": {
    "ExecuteTime": {
     "end_time": "2021-12-03T11:33:32.344386Z",
     "start_time": "2021-12-03T11:33:32.330371Z"
    }
   },
   "outputs": [],
   "source": [
    "knn_classfier49 = KNeighborsClassifier(n_neighbors=49)"
   ]
  },
  {
   "cell_type": "code",
   "execution_count": 44,
   "id": "b232da47",
   "metadata": {
    "ExecuteTime": {
     "end_time": "2021-12-03T11:33:32.359389Z",
     "start_time": "2021-12-03T11:33:32.346373Z"
    }
   },
   "outputs": [
    {
     "data": {
      "text/plain": [
       "0.7142857142857143"
      ]
     },
     "execution_count": 44,
     "metadata": {},
     "output_type": "execute_result"
    }
   ],
   "source": [
    "knn_classfier49.fit(fish_data, y)\n",
    "knn_classfier49.score(fish_data, y)"
   ]
  },
  {
   "cell_type": "markdown",
   "id": "10326d49",
   "metadata": {},
   "source": [
    "# Quiz¶\n",
    "k-최근접 이웃 알고리즘에서 이웃의 갯수 kn.n_neighbors 파라미터를 5~49까지 변경하여 score() 점수가 1.0 아래로 내려가기 시작하는 이웃의 갯수를 찾아라"
   ]
  },
  {
   "cell_type": "code",
   "execution_count": 45,
   "id": "690fb9f6",
   "metadata": {
    "ExecuteTime": {
     "end_time": "2021-12-03T11:33:32.419400Z",
     "start_time": "2021-12-03T11:33:32.361377Z"
    }
   },
   "outputs": [
    {
     "name": "stdout",
     "output_type": "stream",
     "text": [
      "1.0\n",
      "1.0\n",
      "1.0\n",
      "1.0\n",
      "1.0\n",
      "1.0\n",
      "1.0\n",
      "1.0\n",
      "1.0\n",
      "1.0\n",
      "1.0\n",
      "1.0\n",
      "1.0\n",
      "1.0\n",
      "1.0\n",
      "1.0\n",
      "1.0\n",
      "0.9795918367346939\n"
     ]
    }
   ],
   "source": [
    "temp = []\n",
    "for a in range(1, 50):\n",
    "    \n",
    "    \n",
    "    knn_classfier = KNeighborsClassifier(n_neighbors=a)\n",
    "    knn_classfier.fit(fish_data, y)\n",
    "    b = knn_classfier.score(fish_data, y)\n",
    "    print(b)\n",
    "    if b >= 1:\n",
    "        temp.append(a)\n",
    "    else:\n",
    "        break        \n",
    "    \n",
    "    "
   ]
  },
  {
   "cell_type": "code",
   "execution_count": 46,
   "id": "05f2c2d1",
   "metadata": {
    "ExecuteTime": {
     "end_time": "2021-12-03T11:33:32.434386Z",
     "start_time": "2021-12-03T11:33:32.421387Z"
    }
   },
   "outputs": [
    {
     "data": {
      "text/plain": [
       "[1, 2, 3, 4, 5, 6, 7, 8, 9, 10, 11, 12, 13, 14, 15, 16, 17]"
      ]
     },
     "execution_count": 46,
     "metadata": {},
     "output_type": "execute_result"
    }
   ],
   "source": [
    "temp"
   ]
  },
  {
   "cell_type": "markdown",
   "id": "02be494b",
   "metadata": {},
   "source": [
    "# training set과 test set\n",
    "\n",
    "- 지도학습(supervised learning): 입력과 labeling이 전부 있음.\n",
    "- 비지도 학습(unsupervised learning): input값만 있음.\n",
    "- 훈련 데이터 = input data와 label data\n",
    "- 머신러닝 알고리즘의 평가를 위해서는 train set과 test set이 서로 달라야 한다.\n",
    "- 평가를 위해 전체 데이터에서 일정 비율을 떼어내서 사용한다.\n",
    "- test set: model의 평가를 위해서 사용하는 데이터\n",
    "- train set: model의 train을 위해 사용하는 데이터"
   ]
  },
  {
   "cell_type": "markdown",
   "id": "b650f2c3",
   "metadata": {},
   "source": [
    "## 데이터 수집\n",
    " - http://bit.ly/bream_smelt"
   ]
  },
  {
   "cell_type": "code",
   "execution_count": 47,
   "id": "28e137fa",
   "metadata": {
    "ExecuteTime": {
     "end_time": "2021-12-03T11:33:32.449543Z",
     "start_time": "2021-12-03T11:33:32.435388Z"
    }
   },
   "outputs": [],
   "source": [
    "fish_length = [25.4, 26.3, 26.5, 29.0, 29.0, 29.7, 29.7, 30.0, 30.0, 30.7, 31.0, 31.0, \n",
    "                31.5, 32.0, 32.0, 32.0, 33.0, 33.0, 33.5, 33.5, 34.0, 34.0, 34.5, 35.0, \n",
    "                35.0, 35.0, 35.0, 36.0, 36.0, 37.0, 38.5, 38.5, 39.5, 41.0, 41.0, 9.8, \n",
    "                10.5, 10.6, 11.0, 11.2, 11.3, 11.8, 11.8, 12.0, 12.2, 12.4, 13.0, 14.3, 15.0]\n",
    "fish_weight = [242.0, 290.0, 340.0, 363.0, 430.0, 450.0, 500.0, 390.0, 450.0, 500.0, 475.0, 500.0, \n",
    "                500.0, 340.0, 600.0, 600.0, 700.0, 700.0, 610.0, 650.0, 575.0, 685.0, 620.0, 680.0, \n",
    "                700.0, 725.0, 720.0, 714.0, 850.0, 1000.0, 920.0, 955.0, 925.0, 975.0, 950.0, 6.7, \n",
    "                7.5, 7.0, 9.7, 9.8, 8.7, 10.0, 9.9, 9.8, 12.2, 13.4, 12.2, 19.7, 19.9]"
   ]
  },
  {
   "cell_type": "code",
   "execution_count": 48,
   "id": "2068157d",
   "metadata": {
    "ExecuteTime": {
     "end_time": "2021-12-03T11:33:32.464393Z",
     "start_time": "2021-12-03T11:33:32.450390Z"
    }
   },
   "outputs": [
    {
     "data": {
      "text/plain": [
       "(49, 49)"
      ]
     },
     "execution_count": 48,
     "metadata": {},
     "output_type": "execute_result"
    }
   ],
   "source": [
    "len(fish_length), len(fish_weight)"
   ]
  },
  {
   "cell_type": "code",
   "execution_count": 49,
   "id": "26f99ba1",
   "metadata": {
    "ExecuteTime": {
     "end_time": "2021-12-03T11:33:32.479285Z",
     "start_time": "2021-12-03T11:33:32.466285Z"
    }
   },
   "outputs": [],
   "source": [
    "fish_data = [[l, w] for l, w in zip(fish_length, fish_weight)]\n",
    "fish_target = [1]*35 + [0]*14"
   ]
  },
  {
   "cell_type": "code",
   "execution_count": 50,
   "id": "960eb883",
   "metadata": {
    "ExecuteTime": {
     "end_time": "2021-12-03T11:33:32.494288Z",
     "start_time": "2021-12-03T11:33:32.480287Z"
    }
   },
   "outputs": [
    {
     "data": {
      "text/plain": [
       "(49, 49)"
      ]
     },
     "execution_count": 50,
     "metadata": {},
     "output_type": "execute_result"
    }
   ],
   "source": [
    "len(fish_data), len(fish_target)"
   ]
  },
  {
   "cell_type": "code",
   "execution_count": 51,
   "id": "049d8a90",
   "metadata": {
    "ExecuteTime": {
     "end_time": "2021-12-03T11:33:32.509291Z",
     "start_time": "2021-12-03T11:33:32.495293Z"
    }
   },
   "outputs": [
    {
     "data": {
      "text/plain": [
       "[[25.4, 242.0], [26.3, 290.0], [26.5, 340.0], [29.0, 363.0], [29.0, 430.0]]"
      ]
     },
     "execution_count": 51,
     "metadata": {},
     "output_type": "execute_result"
    }
   ],
   "source": [
    "fish_data[:5]"
   ]
  },
  {
   "cell_type": "code",
   "execution_count": 52,
   "id": "bc4ce6fe",
   "metadata": {
    "ExecuteTime": {
     "end_time": "2021-12-03T11:33:32.524298Z",
     "start_time": "2021-12-03T11:33:32.511308Z"
    }
   },
   "outputs": [
    {
     "data": {
      "text/plain": [
       "[1, 1, 1, 1, 1]"
      ]
     },
     "execution_count": 52,
     "metadata": {},
     "output_type": "execute_result"
    }
   ],
   "source": [
    "fish_target[:5]"
   ]
  },
  {
   "cell_type": "code",
   "execution_count": 53,
   "id": "772a1637",
   "metadata": {
    "ExecuteTime": {
     "end_time": "2021-12-03T11:33:32.539307Z",
     "start_time": "2021-12-03T11:33:32.525298Z"
    }
   },
   "outputs": [
    {
     "data": {
      "text/plain": [
       "KNeighborsClassifier()"
      ]
     },
     "execution_count": 53,
     "metadata": {},
     "output_type": "execute_result"
    }
   ],
   "source": [
    "from sklearn.neighbors import KNeighborsClassifier\n",
    "\n",
    "model_kn = KNeighborsClassifier()\n",
    "model_kn"
   ]
  },
  {
   "cell_type": "code",
   "execution_count": 54,
   "id": "8e7bbe4d",
   "metadata": {
    "ExecuteTime": {
     "end_time": "2021-12-03T11:33:32.554302Z",
     "start_time": "2021-12-03T11:33:32.541300Z"
    }
   },
   "outputs": [],
   "source": [
    "X_train = fish_data[:35]\n",
    "y_train = fish_target[:35]\n",
    "\n",
    "X_test = fish_data[35:]\n",
    "y_test = fish_target[35:]"
   ]
  },
  {
   "cell_type": "markdown",
   "id": "ca5ad7a1",
   "metadata": {},
   "source": [
    "## 샘플링 편향(Sampling bias)\n",
    "훈련세트와 테스트 세트에 샘플이 골고루 섞여있지 않고 샘플링이 한쪽에 치워쳤다"
   ]
  },
  {
   "cell_type": "code",
   "execution_count": 55,
   "id": "389c62ec",
   "metadata": {
    "ExecuteTime": {
     "end_time": "2021-12-03T11:33:32.569306Z",
     "start_time": "2021-12-03T11:33:32.556304Z"
    }
   },
   "outputs": [
    {
     "data": {
      "text/plain": [
       "0.0"
      ]
     },
     "execution_count": 55,
     "metadata": {},
     "output_type": "execute_result"
    }
   ],
   "source": [
    "model_kn = model_kn.fit(X_train, y_train)\n",
    "model_kn.score(X_test, y_test)"
   ]
  },
  {
   "cell_type": "markdown",
   "id": "a433823e",
   "metadata": {},
   "source": [
    "## 넘파이를 이용하여 train, test data 만들기"
   ]
  },
  {
   "cell_type": "code",
   "execution_count": 56,
   "id": "7ff1cabe",
   "metadata": {
    "ExecuteTime": {
     "end_time": "2021-12-03T11:33:32.584309Z",
     "start_time": "2021-12-03T11:33:32.571308Z"
    }
   },
   "outputs": [],
   "source": [
    "input_arr = np.array(fish_data)\n",
    "target_arr = np.array(fish_target)\n",
    "\n",
    "np.random.seed(42) \n",
    "index = np.arange(49)\n",
    "np.random.shuffle(index)"
   ]
  },
  {
   "cell_type": "code",
   "execution_count": 57,
   "id": "429fae0b",
   "metadata": {
    "ExecuteTime": {
     "end_time": "2021-12-03T11:33:32.599314Z",
     "start_time": "2021-12-03T11:33:32.586309Z"
    }
   },
   "outputs": [],
   "source": [
    "X_train = input_arr[index[:35]]\n",
    "y_train = target_arr[index[:35]]"
   ]
  },
  {
   "cell_type": "code",
   "execution_count": 58,
   "id": "392ec90b",
   "metadata": {
    "ExecuteTime": {
     "end_time": "2021-12-03T11:33:32.614315Z",
     "start_time": "2021-12-03T11:33:32.600315Z"
    }
   },
   "outputs": [],
   "source": [
    "X_test = input_arr[index[35:]]\n",
    "y_test = target_arr[index[35:]]"
   ]
  },
  {
   "cell_type": "code",
   "execution_count": 59,
   "id": "b2d1996b",
   "metadata": {
    "ExecuteTime": {
     "end_time": "2021-12-03T11:33:32.765352Z",
     "start_time": "2021-12-03T11:33:32.615318Z"
    }
   },
   "outputs": [
    {
     "data": {
      "image/png": "[encoded data removed]",
      "text/plain": [
       "<Figure size 720x432 with 1 Axes>"
      ]
     },
     "metadata": {
      "needs_background": "light"
     },
     "output_type": "display_data"
    }
   ],
   "source": [
    "import matplotlib.pyplot as plt\n",
    "\n",
    "plt.scatter(X_train[:, 0], X_train[:, 1])\n",
    "plt.scatter(X_test[:, 0], X_test[:, 1])\n",
    "plt.xlabel('length')\n",
    "plt.ylabel('weight')\n",
    "plt.show()\n",
    "\n",
    "## test, train 데이터가 잘 섞여있다."
   ]
  },
  {
   "cell_type": "markdown",
   "id": "3a557d24",
   "metadata": {},
   "source": [
    "## 학습 데이터와 테스트 데이터 세트 분리 메서드\n",
    "\n",
    "** 학습 데이터와 테스트 데이터 세트로 분리 **\n",
    "\n",
    "X는 feature\n",
    "y는 target\n",
    "X_train, X_test, y_train, y_test = train_test_split( data, label, test_size=float, train_size=float, \n",
    "                                                    random_state=value, shuffle=True/False)"
   ]
  },
  {
   "cell_type": "code",
   "execution_count": 60,
   "id": "4c1ecdfe",
   "metadata": {
    "ExecuteTime": {
     "end_time": "2021-12-03T11:33:32.780370Z",
     "start_time": "2021-12-03T11:33:32.767360Z"
    }
   },
   "outputs": [],
   "source": [
    "from sklearn.model_selection import train_test_split"
   ]
  },
  {
   "cell_type": "code",
   "execution_count": 61,
   "id": "bf2e84e3",
   "metadata": {
    "ExecuteTime": {
     "end_time": "2021-12-03T11:33:32.885492Z",
     "start_time": "2021-12-03T11:33:32.781364Z"
    }
   },
   "outputs": [],
   "source": [
    "train_test_split?"
   ]
  },
  {
   "cell_type": "code",
   "execution_count": 62,
   "id": "d30db2bc",
   "metadata": {
    "ExecuteTime": {
     "end_time": "2021-12-03T11:33:32.900489Z",
     "start_time": "2021-12-03T11:33:32.887486Z"
    }
   },
   "outputs": [],
   "source": [
    "X_train, X_test, y_train, y_test = train_test_split(np.array(fish_data), fish_target, train_size=0.7)"
   ]
  },
  {
   "cell_type": "code",
   "execution_count": 63,
   "id": "123e4228",
   "metadata": {
    "ExecuteTime": {
     "end_time": "2021-12-03T11:33:32.915499Z",
     "start_time": "2021-12-03T11:33:32.901490Z"
    }
   },
   "outputs": [
    {
     "data": {
      "text/plain": [
       "(34, 15, 34, 15)"
      ]
     },
     "execution_count": 63,
     "metadata": {},
     "output_type": "execute_result"
    }
   ],
   "source": [
    "len(X_train), len(X_test), len(y_train), len(y_test)"
   ]
  },
  {
   "cell_type": "code",
   "execution_count": 64,
   "id": "09724ddf",
   "metadata": {
    "ExecuteTime": {
     "end_time": "2021-12-03T11:33:33.065619Z",
     "start_time": "2021-12-03T11:33:32.916480Z"
    }
   },
   "outputs": [
    {
     "data": {
      "image/png": "[encoded data removed]",
      "text/plain": [
       "<Figure size 720x432 with 1 Axes>"
      ]
     },
     "metadata": {
      "needs_background": "light"
     },
     "output_type": "display_data"
    }
   ],
   "source": [
    "import matplotlib.pyplot as plt\n",
    "\n",
    "plt.scatter(X_train[:, 0], X_train[:, 1])\n",
    "plt.scatter(X_test[:, 0], X_test[:, 1])\n",
    "plt.xlabel('length')\n",
    "plt.ylabel('weight')\n",
    "plt.show()"
   ]
  },
  {
   "cell_type": "code",
   "execution_count": 65,
   "id": "9fe17c1d",
   "metadata": {
    "ExecuteTime": {
     "end_time": "2021-12-03T11:33:33.080724Z",
     "start_time": "2021-12-03T11:33:33.066619Z"
    }
   },
   "outputs": [
    {
     "data": {
      "text/plain": [
       "KNeighborsClassifier()"
      ]
     },
     "execution_count": 65,
     "metadata": {},
     "output_type": "execute_result"
    }
   ],
   "source": [
    "model_kn = KNeighborsClassifier()\n",
    "model_kn.fit(X_train, y_train)"
   ]
  },
  {
   "cell_type": "code",
   "execution_count": 66,
   "id": "b403140c",
   "metadata": {
    "ExecuteTime": {
     "end_time": "2021-12-03T11:33:33.095691Z",
     "start_time": "2021-12-03T11:33:33.082679Z"
    }
   },
   "outputs": [
    {
     "data": {
      "text/plain": [
       "array([1, 0, 1, 0, 0, 0, 1, 0, 1, 1, 1, 1, 0, 1, 1])"
      ]
     },
     "execution_count": 66,
     "metadata": {},
     "output_type": "execute_result"
    }
   ],
   "source": [
    "model_kn.predict(X_test)"
   ]
  },
  {
   "cell_type": "code",
   "execution_count": 67,
   "id": "d6c66d81",
   "metadata": {
    "ExecuteTime": {
     "end_time": "2021-12-03T11:33:33.110682Z",
     "start_time": "2021-12-03T11:33:33.102686Z"
    }
   },
   "outputs": [
    {
     "data": {
      "text/plain": [
       "(1.0, 1.0)"
      ]
     },
     "execution_count": 67,
     "metadata": {},
     "output_type": "execute_result"
    }
   ],
   "source": [
    "model_kn.score(X_train, y_train), model_kn.score(X_test, y_test)"
   ]
  },
  {
   "cell_type": "code",
   "execution_count": 68,
   "id": "6ef3f991",
   "metadata": {
    "ExecuteTime": {
     "end_time": "2021-12-03T11:33:33.125920Z",
     "start_time": "2021-12-03T11:33:33.113886Z"
    }
   },
   "outputs": [
    {
     "name": "stdout",
     "output_type": "stream",
     "text": [
      "정답률은? 100.0 %\n"
     ]
    }
   ],
   "source": [
    "result = accuracy_score(y_test, model_kn.predict(X_test))\n",
    "print(f'정답률은? {result*100} %')"
   ]
  },
  {
   "cell_type": "code",
   "execution_count": 69,
   "id": "29659e35",
   "metadata": {
    "ExecuteTime": {
     "end_time": "2021-12-03T11:33:33.140916Z",
     "start_time": "2021-12-03T11:33:33.127906Z"
    }
   },
   "outputs": [
    {
     "name": "stdout",
     "output_type": "stream",
     "text": [
      "에러률은? 0.0 %\n"
     ]
    }
   ],
   "source": [
    "# 에러률 \n",
    "result = mean_squared_error(y_test, model_kn.predict(X_test))\n",
    "print(f'에러률은? {result*100} %')"
   ]
  },
  {
   "cell_type": "markdown",
   "id": "3a6d64c5",
   "metadata": {},
   "source": [
    "# 퀴즈2\n",
    "\n",
    "아래의 데이타는 펭귄의 날개 길이와 몸무게 그리고 그에 따른 펭귄의 종류이다. \n",
    "\n",
    " 펭귄의 날개 길이와 몸무게 => X\n",
    " \n",
    " 펭귄의 종류 => y\n",
    " \n",
    " 사이킷런에서 제공하는 분류기 알고리즘을 이용하여 머신러닝 모델을 생성하고 테스트하여라. "
   ]
  },
  {
   "cell_type": "code",
   "execution_count": 70,
   "id": "da39163f",
   "metadata": {
    "ExecuteTime": {
     "end_time": "2021-12-03T11:33:33.155925Z",
     "start_time": "2021-12-03T11:33:33.141910Z"
    }
   },
   "outputs": [],
   "source": [
    "penguins = sns.load_dataset('penguins')\n"
   ]
  },
  {
   "cell_type": "code",
   "execution_count": 71,
   "id": "ececc670",
   "metadata": {
    "ExecuteTime": {
     "end_time": "2021-12-03T11:33:33.170923Z",
     "start_time": "2021-12-03T11:33:33.157916Z"
    }
   },
   "outputs": [
    {
     "data": {
      "text/plain": [
       "Index(['species', 'island', 'bill_length_mm', 'bill_depth_mm',\n",
       "       'flipper_length_mm', 'body_mass_g', 'sex'],\n",
       "      dtype='object')"
      ]
     },
     "execution_count": 71,
     "metadata": {},
     "output_type": "execute_result"
    }
   ],
   "source": [
    "penguins.columns"
   ]
  },
  {
   "cell_type": "code",
   "execution_count": 72,
   "id": "1098dd73",
   "metadata": {
    "ExecuteTime": {
     "end_time": "2021-12-03T11:33:33.200929Z",
     "start_time": "2021-12-03T11:33:33.172912Z"
    }
   },
   "outputs": [
    {
     "data": {
      "text/plain": [
       "(333, 7)"
      ]
     },
     "execution_count": 72,
     "metadata": {},
     "output_type": "execute_result"
    }
   ],
   "source": [
    "penguins = penguins.dropna()\n",
    "penguins.shape"
   ]
  },
  {
   "cell_type": "code",
   "execution_count": 73,
   "id": "69958125",
   "metadata": {
    "ExecuteTime": {
     "end_time": "2021-12-03T11:33:33.215932Z",
     "start_time": "2021-12-03T11:33:33.202915Z"
    }
   },
   "outputs": [
    {
     "data": {
      "text/plain": [
       "Index(['species', 'island', 'bill_length_mm', 'bill_depth_mm',\n",
       "       'flipper_length_mm', 'body_mass_g', 'sex'],\n",
       "      dtype='object')"
      ]
     },
     "execution_count": 73,
     "metadata": {},
     "output_type": "execute_result"
    }
   ],
   "source": [
    "penguins.columns"
   ]
  },
  {
   "cell_type": "code",
   "execution_count": 86,
   "id": "079d0b5d",
   "metadata": {
    "ExecuteTime": {
     "end_time": "2021-12-03T11:35:40.207078Z",
     "start_time": "2021-12-03T11:35:40.201067Z"
    }
   },
   "outputs": [],
   "source": [
    "penguins = penguins[penguins.species != \"Chinstrap\"]"
   ]
  },
  {
   "cell_type": "code",
   "execution_count": 87,
   "id": "0bdf471f",
   "metadata": {
    "ExecuteTime": {
     "end_time": "2021-12-03T11:35:48.787244Z",
     "start_time": "2021-12-03T11:35:48.783257Z"
    }
   },
   "outputs": [],
   "source": [
    "X = penguins[['flipper_length_mm', 'body_mass_g']]"
   ]
  },
  {
   "cell_type": "code",
   "execution_count": 88,
   "id": "6ef412fd",
   "metadata": {
    "ExecuteTime": {
     "end_time": "2021-12-03T11:35:49.087374Z",
     "start_time": "2021-12-03T11:35:49.071373Z"
    }
   },
   "outputs": [],
   "source": [
    "y = penguins.species"
   ]
  },
  {
   "cell_type": "code",
   "execution_count": 89,
   "id": "b59b9f04",
   "metadata": {
    "ExecuteTime": {
     "end_time": "2021-12-03T11:35:49.462583Z",
     "start_time": "2021-12-03T11:35:49.445559Z"
    }
   },
   "outputs": [],
   "source": [
    "X_train, X_test, y_train, y_test = train_test_split(np.array(X), y, test_size = 0.3, random_state = 1,\n",
    "                                                    stratify=y, shuffle=True)"
   ]
  },
  {
   "cell_type": "code",
   "execution_count": 90,
   "id": "ed001f93",
   "metadata": {
    "ExecuteTime": {
     "end_time": "2021-12-03T11:35:49.824314Z",
     "start_time": "2021-12-03T11:35:49.806300Z"
    },
    "scrolled": true
   },
   "outputs": [
    {
     "data": {
      "text/plain": [
       "Adelie    146\n",
       "Gentoo    119\n",
       "Name: species, dtype: int64"
      ]
     },
     "execution_count": 90,
     "metadata": {},
     "output_type": "execute_result"
    }
   ],
   "source": [
    "penguins.species.value_counts()"
   ]
  },
  {
   "cell_type": "code",
   "execution_count": 91,
   "id": "51f6a44f",
   "metadata": {
    "ExecuteTime": {
     "end_time": "2021-12-03T11:35:50.563278Z",
     "start_time": "2021-12-03T11:35:50.553275Z"
    }
   },
   "outputs": [
    {
     "data": {
      "text/plain": [
       "SVC(decision_function_shape='ovo')"
      ]
     },
     "execution_count": 91,
     "metadata": {},
     "output_type": "execute_result"
    }
   ],
   "source": [
    "from sklearn import svm\n",
    "clf = svm.SVC(decision_function_shape='ovo')\n",
    "clf.fit(X_train, y_train)"
   ]
  },
  {
   "cell_type": "code",
   "execution_count": 92,
   "id": "d4690488",
   "metadata": {
    "ExecuteTime": {
     "end_time": "2021-12-03T11:35:51.755967Z",
     "start_time": "2021-12-03T11:35:51.741959Z"
    }
   },
   "outputs": [
    {
     "data": {
      "text/plain": [
       "array(['Gentoo', 'Gentoo', 'Gentoo', 'Adelie', 'Gentoo', 'Gentoo',\n",
       "       'Adelie', 'Adelie', 'Adelie', 'Adelie', 'Gentoo', 'Adelie',\n",
       "       'Adelie', 'Gentoo', 'Adelie', 'Adelie', 'Gentoo', 'Adelie',\n",
       "       'Gentoo', 'Gentoo', 'Adelie', 'Gentoo', 'Gentoo', 'Gentoo',\n",
       "       'Adelie', 'Adelie', 'Gentoo', 'Adelie', 'Gentoo', 'Adelie',\n",
       "       'Adelie', 'Adelie', 'Gentoo', 'Gentoo', 'Gentoo', 'Gentoo',\n",
       "       'Gentoo', 'Adelie', 'Adelie', 'Adelie', 'Adelie', 'Gentoo',\n",
       "       'Adelie', 'Adelie', 'Adelie', 'Gentoo', 'Gentoo', 'Adelie',\n",
       "       'Gentoo', 'Adelie', 'Gentoo', 'Adelie', 'Adelie', 'Gentoo',\n",
       "       'Adelie', 'Adelie', 'Adelie', 'Adelie', 'Adelie', 'Adelie',\n",
       "       'Adelie', 'Adelie', 'Gentoo', 'Gentoo', 'Adelie', 'Gentoo',\n",
       "       'Adelie', 'Adelie', 'Adelie', 'Adelie', 'Adelie', 'Gentoo',\n",
       "       'Adelie', 'Adelie', 'Adelie', 'Gentoo', 'Adelie', 'Gentoo',\n",
       "       'Adelie', 'Adelie'], dtype=object)"
      ]
     },
     "execution_count": 92,
     "metadata": {},
     "output_type": "execute_result"
    }
   ],
   "source": [
    "clf.predict(X_test)"
   ]
  },
  {
   "cell_type": "code",
   "execution_count": 95,
   "id": "78bf14e9",
   "metadata": {
    "ExecuteTime": {
     "end_time": "2021-12-03T11:36:07.237504Z",
     "start_time": "2021-12-03T11:36:07.223508Z"
    }
   },
   "outputs": [
    {
     "data": {
      "text/plain": [
       "0.925"
      ]
     },
     "execution_count": 95,
     "metadata": {},
     "output_type": "execute_result"
    }
   ],
   "source": [
    "clf.score(X_test, y_test)"
   ]
  },
  {
   "cell_type": "code",
   "execution_count": 96,
   "id": "bea43e41",
   "metadata": {
    "ExecuteTime": {
     "end_time": "2021-12-03T11:36:08.050867Z",
     "start_time": "2021-12-03T11:36:08.045869Z"
    }
   },
   "outputs": [],
   "source": [
    "neigh = KNeighborsClassifier(n_neighbors=3)"
   ]
  },
  {
   "cell_type": "code",
   "execution_count": 99,
   "id": "d1a8a4cc",
   "metadata": {
    "ExecuteTime": {
     "end_time": "2021-12-03T11:36:36.005518Z",
     "start_time": "2021-12-03T11:36:35.998517Z"
    }
   },
   "outputs": [
    {
     "data": {
      "text/plain": [
       "KNeighborsClassifier(n_neighbors=3)"
      ]
     },
     "execution_count": 99,
     "metadata": {},
     "output_type": "execute_result"
    }
   ],
   "source": [
    "neigh.fit(X_train, y_train)"
   ]
  },
  {
   "cell_type": "code",
   "execution_count": 100,
   "id": "abf1797b",
   "metadata": {
    "ExecuteTime": {
     "end_time": "2021-12-03T11:36:38.505232Z",
     "start_time": "2021-12-03T11:36:38.484228Z"
    }
   },
   "outputs": [
    {
     "data": {
      "text/plain": [
       "array(['Gentoo', 'Gentoo', 'Gentoo', 'Adelie', 'Gentoo', 'Gentoo',\n",
       "       'Adelie', 'Adelie', 'Adelie', 'Adelie', 'Gentoo', 'Adelie',\n",
       "       'Adelie', 'Gentoo', 'Gentoo', 'Adelie', 'Gentoo', 'Adelie',\n",
       "       'Gentoo', 'Gentoo', 'Adelie', 'Gentoo', 'Gentoo', 'Gentoo',\n",
       "       'Adelie', 'Adelie', 'Gentoo', 'Adelie', 'Gentoo', 'Adelie',\n",
       "       'Adelie', 'Adelie', 'Gentoo', 'Gentoo', 'Gentoo', 'Gentoo',\n",
       "       'Gentoo', 'Adelie', 'Gentoo', 'Adelie', 'Adelie', 'Gentoo',\n",
       "       'Adelie', 'Adelie', 'Adelie', 'Gentoo', 'Gentoo', 'Adelie',\n",
       "       'Gentoo', 'Adelie', 'Gentoo', 'Adelie', 'Adelie', 'Gentoo',\n",
       "       'Adelie', 'Adelie', 'Adelie', 'Adelie', 'Adelie', 'Adelie',\n",
       "       'Adelie', 'Adelie', 'Gentoo', 'Gentoo', 'Adelie', 'Gentoo',\n",
       "       'Adelie', 'Adelie', 'Adelie', 'Adelie', 'Adelie', 'Gentoo',\n",
       "       'Adelie', 'Adelie', 'Adelie', 'Gentoo', 'Adelie', 'Gentoo',\n",
       "       'Adelie', 'Adelie'], dtype=object)"
      ]
     },
     "execution_count": 100,
     "metadata": {},
     "output_type": "execute_result"
    }
   ],
   "source": [
    "neigh.predict(X_test)"
   ]
  },
  {
   "cell_type": "code",
   "execution_count": 102,
   "id": "3c34c5ac",
   "metadata": {
    "ExecuteTime": {
     "end_time": "2021-12-03T11:36:52.044441Z",
     "start_time": "2021-12-03T11:36:52.037446Z"
    }
   },
   "outputs": [
    {
     "data": {
      "text/plain": [
       "0.95"
      ]
     },
     "execution_count": 102,
     "metadata": {},
     "output_type": "execute_result"
    }
   ],
   "source": [
    "neigh.score(X_test, y_test)"
   ]
  },
  {
   "cell_type": "code",
   "execution_count": 103,
   "id": "8738981d",
   "metadata": {
    "ExecuteTime": {
     "end_time": "2021-12-03T11:36:55.630383Z",
     "start_time": "2021-12-03T11:36:55.582366Z"
    }
   },
   "outputs": [
    {
     "data": {
      "text/html": [
       "<style>.container { width:95% !important; }</style>"
      ],
      "text/plain": [
       "<IPython.core.display.HTML object>"
      ]
     },
     "metadata": {},
     "output_type": "display_data"
    }
   ],
   "source": [
    "#Data Analysis\n",
    "import pandas as pd\n",
    "import matplotlib.pyplot as plt\n",
    "import seaborn as sns\n",
    "import numpy as np\n",
    "\n",
    "'''Features'''\n",
    "from sklearn.preprocessing import LabelEncoder\n",
    "from sklearn.feature_extraction.text import TfidfVectorizer, CountVectorizer, TfidfTransformer\n",
    "from sklearn.decomposition import TruncatedSVD\n",
    "from sklearn.preprocessing import label_binarize\n",
    "\n",
    "'''Classifiers'''\n",
    "from sklearn.dummy import DummyClassifier\n",
    "from sklearn.linear_model import SGDClassifier\n",
    "from sklearn.naive_bayes import GaussianNB, BernoulliNB\n",
    "from sklearn.tree import DecisionTreeClassifier\n",
    "from sklearn.ensemble import RandomForestClassifier, AdaBoostClassifier, ExtraTreesClassifier, BaggingClassifier\n",
    "from sklearn.neighbors import KNeighborsClassifier, RadiusNeighborsClassifier\n",
    "from sklearn.multiclass import OneVsRestClassifier\n",
    "from sklearn.svm import LinearSVC, SVC\n",
    "\n",
    "from sklearn.linear_model import RidgeClassifier , LogisticRegression\n",
    "\n",
    "'''Metrics/Evaluation'''\n",
    "from sklearn.model_selection import train_test_split\n",
    "from sklearn.model_selection import GridSearchCV\n",
    "from sklearn.metrics import accuracy_score, precision_score, recall_score, f1_score, roc_curve, auc, confusion_matrix\n",
    "from scipy import interp\n",
    "from itertools import cycle\n",
    "\n",
    "'''Plotting'''\n",
    "import matplotlib.pyplot as plt\n",
    "import seaborn as sns\n",
    "sns.set_style('darkgrid')\n",
    "\n",
    "\n",
    "from collections import Counter\n",
    "\n",
    "'''Display'''\n",
    "from IPython.core.display import display, HTML\n",
    "display(HTML(\"<style>.container { width:95% !important; }</style>\"))\n",
    "import warnings\n",
    "warnings.filterwarnings('ignore')\n",
    "pd.options.display.float_format = '{:,.2f}'.format\n",
    "\n",
    "from collections import Counter"
   ]
  },
  {
   "cell_type": "code",
   "execution_count": 104,
   "id": "b2fb0e9a",
   "metadata": {
    "ExecuteTime": {
     "end_time": "2021-12-03T11:36:56.080921Z",
     "start_time": "2021-12-03T11:36:56.066922Z"
    }
   },
   "outputs": [],
   "source": [
    "model_dict = {'Dummy' : DummyClassifier(random_state=3),\n",
    "              'Stochastic Gradient Descent' : SGDClassifier(random_state=3, loss='log'),\n",
    "              'Random Forest': RandomForestClassifier(random_state=3),\n",
    "              'Decsision Tree': DecisionTreeClassifier(random_state=3),\n",
    "              'AdaBoost': AdaBoostClassifier(random_state=3),\n",
    "              'Gaussian Naive Bayes': GaussianNB(),\n",
    "              'K Nearest Neighbor': KNeighborsClassifier()}\n",
    "#X_train = X_train.todense()\n",
    "# X_test = X_test.todense()\n",
    "#Function to get the scores for each model in a df\n",
    "def model_score_df(model_dict):   \n",
    "    model_name, ac_score_list, p_score_list, r_score_list, f1_score_list = [], [], [], [], []\n",
    "    for k,v in model_dict.items():   \n",
    "        model_name.append(k)\n",
    "        v.fit(X_train, y_train)\n",
    "        y_pred = v.predict(X_test)\n",
    "        ac_score_list.append(accuracy_score(y_test, y_pred))\n",
    "        p_score_list.append(precision_score(y_test, y_pred, average='macro'))\n",
    "        r_score_list.append(recall_score(y_test, y_pred, average='macro'))\n",
    "        f1_score_list.append(f1_score(y_test, y_pred, average='macro'))\n",
    "        model_comparison_df = pd.DataFrame([model_name, ac_score_list, p_score_list, r_score_list, f1_score_list]).T\n",
    "        model_comparison_df.columns = ['model_name', 'accuracy_score', 'precision_score', 'recall_score', 'f1_score']\n",
    "        model_comparison_df = model_comparison_df.sort_values(by='f1_score', ascending=False)\n",
    "    return model_comparison_df\n"
   ]
  },
  {
   "cell_type": "code",
   "execution_count": 105,
   "id": "fd39bebf",
   "metadata": {
    "ExecuteTime": {
     "end_time": "2021-12-03T11:36:57.852768Z",
     "start_time": "2021-12-03T11:36:57.657726Z"
    },
    "scrolled": true
   },
   "outputs": [
    {
     "data": {
      "text/html": [
       "<div>\n",
       "<style scoped>\n",
       "    .dataframe tbody tr th:only-of-type {\n",
       "        vertical-align: middle;\n",
       "    }\n",
       "\n",
       "    .dataframe tbody tr th {\n",
       "        vertical-align: top;\n",
       "    }\n",
       "\n",
       "    .dataframe thead th {\n",
       "        text-align: right;\n",
       "    }\n",
       "</style>\n",
       "<table border=\"1\" class=\"dataframe\">\n",
       "  <thead>\n",
       "    <tr style=\"text-align: right;\">\n",
       "      <th></th>\n",
       "      <th>model_name</th>\n",
       "      <th>accuracy_score</th>\n",
       "      <th>precision_score</th>\n",
       "      <th>recall_score</th>\n",
       "      <th>f1_score</th>\n",
       "    </tr>\n",
       "  </thead>\n",
       "  <tbody>\n",
       "    <tr>\n",
       "      <th>5</th>\n",
       "      <td>Gaussian Naive Bayes</td>\n",
       "      <td>1.00</td>\n",
       "      <td>1.00</td>\n",
       "      <td>1.00</td>\n",
       "      <td>1.00</td>\n",
       "    </tr>\n",
       "    <tr>\n",
       "      <th>2</th>\n",
       "      <td>Random Forest</td>\n",
       "      <td>0.96</td>\n",
       "      <td>0.97</td>\n",
       "      <td>0.96</td>\n",
       "      <td>0.96</td>\n",
       "    </tr>\n",
       "    <tr>\n",
       "      <th>3</th>\n",
       "      <td>Decsision Tree</td>\n",
       "      <td>0.96</td>\n",
       "      <td>0.97</td>\n",
       "      <td>0.96</td>\n",
       "      <td>0.96</td>\n",
       "    </tr>\n",
       "    <tr>\n",
       "      <th>4</th>\n",
       "      <td>AdaBoost</td>\n",
       "      <td>0.96</td>\n",
       "      <td>0.97</td>\n",
       "      <td>0.96</td>\n",
       "      <td>0.96</td>\n",
       "    </tr>\n",
       "    <tr>\n",
       "      <th>6</th>\n",
       "      <td>K Nearest Neighbor</td>\n",
       "      <td>0.96</td>\n",
       "      <td>0.97</td>\n",
       "      <td>0.96</td>\n",
       "      <td>0.96</td>\n",
       "    </tr>\n",
       "    <tr>\n",
       "      <th>1</th>\n",
       "      <td>Stochastic Gradient Descent</td>\n",
       "      <td>0.78</td>\n",
       "      <td>0.83</td>\n",
       "      <td>0.80</td>\n",
       "      <td>0.77</td>\n",
       "    </tr>\n",
       "    <tr>\n",
       "      <th>0</th>\n",
       "      <td>Dummy</td>\n",
       "      <td>0.55</td>\n",
       "      <td>0.28</td>\n",
       "      <td>0.50</td>\n",
       "      <td>0.35</td>\n",
       "    </tr>\n",
       "  </tbody>\n",
       "</table>\n",
       "</div>"
      ],
      "text/plain": [
       "                    model_name accuracy_score precision_score recall_score  \\\n",
       "5         Gaussian Naive Bayes           1.00            1.00         1.00   \n",
       "2                Random Forest           0.96            0.97         0.96   \n",
       "3               Decsision Tree           0.96            0.97         0.96   \n",
       "4                     AdaBoost           0.96            0.97         0.96   \n",
       "6           K Nearest Neighbor           0.96            0.97         0.96   \n",
       "1  Stochastic Gradient Descent           0.78            0.83         0.80   \n",
       "0                        Dummy           0.55            0.28         0.50   \n",
       "\n",
       "  f1_score  \n",
       "5     1.00  \n",
       "2     0.96  \n",
       "3     0.96  \n",
       "4     0.96  \n",
       "6     0.96  \n",
       "1     0.77  \n",
       "0     0.35  "
      ]
     },
     "execution_count": 105,
     "metadata": {},
     "output_type": "execute_result"
    }
   ],
   "source": [
    "model_score_df(model_dict)"
   ]
  },
  {
   "cell_type": "code",
   "execution_count": null,
   "id": "0552a2ad",
   "metadata": {
    "ExecuteTime": {
     "end_time": "2021-12-03T11:33:33.759205Z",
     "start_time": "2021-12-03T11:33:29.252Z"
    }
   },
   "outputs": [],
   "source": [
    "## SGDClassifier\n",
    "# SGDClassifier(loss=’hinge’, penalty=’l2’, alpha=0.0001, l1_ratio=0.15, fit_intercept=True, max_iter=1000, tol=0.001, shuffle=True, verbose=0, epsilon=0.1, n_jobs=None, random_state=None, learning_rate=’optimal’, eta0=0.0, power_t=0.5, early_stopping=False, validation_fraction=0.1, n_iter_no_change=5, class_weight=None, warm_start=False, average=False)\n",
    "\n",
    "loss =  ['hinge','log']\n",
    "penalty = ['l2','l1']\n",
    "alpha = [1e-6, 1e-3, 1e-1]\n",
    "max_iter = [5,10,20,30, 50, 60]\n",
    "tol = [None, 1e-3]\n",
    "eta0 = [0.1]\n",
    "random_state = [3]\n",
    "\n",
    "SGD = SGDClassifier()\n",
    "\n",
    "params = dict(loss=loss,\n",
    "              penalty=penalty,\n",
    "              alpha=alpha,\n",
    "              max_iter=max_iter,\n",
    "              tol=tol,\n",
    "              random_state=random_state)\n",
    "\n",
    "SGDgridsearch = GridSearchCV(SGDClassifier(),\n",
    "                          params,\n",
    "                          cv = 3,\n",
    "                          verbose = 1, \n",
    "                          n_jobs = -1)\n",
    "\n",
    "sgd_best_model = SGDgridsearch.fit(X, y)\n",
    "print('GridSearchCV best score : {:.2f}%, best_params : {}'.format(SGDgridsearch.best_score_*100, SGDgridsearch.best_params_))"
   ]
  },
  {
   "cell_type": "code",
   "execution_count": null,
   "id": "c4c39829",
   "metadata": {
    "ExecuteTime": {
     "end_time": "2021-12-03T11:33:33.760207Z",
     "start_time": "2021-12-03T11:33:29.254Z"
    }
   },
   "outputs": [],
   "source": [
    "# RandomForestClassifier\n",
    "# randomForestClassifier(n_estimators=’warn’, criterion=’gini’, max_depth=None, min_samples_split=2, min_samples_leaf=1, min_weight_fraction_leaf=0.0, max_features=’auto’, max_leaf_nodes=None, min_impurity_decrease=0.0, min_impurity_split=None, bootstrap=True, oob_score=False, n_jobs=None, random_state=None, verbose=0, warm_start=False, class_weight=None)\n",
    "\n",
    "bootstrap = [True, False]\n",
    "max_depth = [5,10,20,30, 50, 100, None]\n",
    "max_features = ['auto', 'sqrt']\n",
    "min_samples_leaf = [1, 2, 3, 4]\n",
    "min_samples_split = [2, 5, 10]\n",
    "n_estimators = [50, 100, 200, 300, 500 ,600, 800]\n",
    "random_state = [3]\n",
    "\n",
    "params = dict(bootstrap = bootstrap,\n",
    "              max_depth = max_depth,\n",
    "              max_features = max_features,\n",
    "              min_samples_leaf = min_samples_leaf,\n",
    "              n_estimators = n_estimators,\n",
    "              random_state=random_state)\n",
    "\n",
    "rfgridsearch = GridSearchCV(RandomForestClassifier(),\n",
    "                          params, \n",
    "                          cv=3,\n",
    "                          verbose=1, \n",
    "                          n_jobs=-1)\n",
    "\n",
    "rf_best_model = rfgridsearch.fit(X_train, y_train)\n",
    "print('GridSearchCV best score : {:.2f}%, best_params : {}'.format(rfgridsearch.best_score_*100, rfgridsearch.best_params_))"
   ]
  },
  {
   "cell_type": "code",
   "execution_count": null,
   "id": "c06896f4",
   "metadata": {},
   "outputs": [],
   "source": []
  },
  {
   "cell_type": "code",
   "execution_count": null,
   "id": "82acf870",
   "metadata": {
    "ExecuteTime": {
     "end_time": "2021-12-03T11:33:33.761207Z",
     "start_time": "2021-12-03T11:33:29.256Z"
    }
   },
   "outputs": [],
   "source": [
    "rf = RandomForestClassifier()\n",
    "\n",
    "rf.fit(X_train, y_train)"
   ]
  },
  {
   "cell_type": "code",
   "execution_count": null,
   "id": "82843b28",
   "metadata": {
    "ExecuteTime": {
     "end_time": "2021-12-03T11:33:33.762207Z",
     "start_time": "2021-12-03T11:33:29.259Z"
    }
   },
   "outputs": [],
   "source": [
    "rf.score(X_train, y_train)"
   ]
  },
  {
   "cell_type": "code",
   "execution_count": null,
   "id": "6f8c5222",
   "metadata": {
    "ExecuteTime": {
     "end_time": "2021-12-03T11:33:33.763208Z",
     "start_time": "2021-12-03T11:33:29.261Z"
    }
   },
   "outputs": [],
   "source": [
    "rf.score(X_test, y_test)"
   ]
  },
  {
   "cell_type": "code",
   "execution_count": null,
   "id": "e700f427",
   "metadata": {},
   "outputs": [],
   "source": []
  }
 ],
 "metadata": {
  "hide_input": false,
  "kernelspec": {
   "display_name": "Python 3",
   "language": "python",
   "name": "python3"
  },
  "language_info": {
   "codemirror_mode": {
    "name": "ipython",
    "version": 3
   },
   "file_extension": ".py",
   "mimetype": "text/x-python",
   "name": "python",
   "nbconvert_exporter": "python",
   "pygments_lexer": "ipython3",
   "version": "3.8.8"
  },
  "toc": {
   "base_numbering": 1,
   "nav_menu": {},
   "number_sections": true,
   "sideBar": true,
   "skip_h1_title": false,
   "title_cell": "Table of Contents",
   "title_sidebar": "Contents",
   "toc_cell": false,
   "toc_position": {},
   "toc_section_display": true,
   "toc_window_display": false
  },
  "varInspector": {
   "cols": {
    "lenName": 16,
    "lenType": 16,
    "lenVar": 40
   },
   "kernels_config": {
    "python": {
     "delete_cmd_postfix": "",
     "delete_cmd_prefix": "del ",
     "library": "var_list.py",
     "varRefreshCmd": "print(var_dic_list())"
    },
    "r": {
     "delete_cmd_postfix": ") ",
     "delete_cmd_prefix": "rm(",
     "library": "var_list.r",
     "varRefreshCmd": "cat(var_dic_list()) "
    }
   },
   "types_to_exclude": [
    "module",
    "function",
    "builtin_function_or_method",
    "instance",
    "_Feature"
   ],
   "window_display": false
  }
 },
 "nbformat": 4,
 "nbformat_minor": 5
}
