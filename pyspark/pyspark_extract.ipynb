{
 "cells": [
  {
   "cell_type": "code",
   "execution_count": 1,
   "metadata": {},
   "outputs": [],
   "source": [
    "from pyspark import SparkContext\n",
    "from pyspark.sql import SQLContext, Row\n",
    "import pandas as pd\n",
    "\n",
    "from pyspark.sql.functions import when, udf, col, regexp_replace\n",
    "from pyspark.sql.types import DoubleType,IntegerType, StringType\n",
    "import pyspark.sql.functions as f"
   ]
  },
  {
   "cell_type": "code",
   "execution_count": 2,
   "metadata": {},
   "outputs": [],
   "source": [
    "sc = SparkContext('local')\n",
    "sqlCtx = SQLContext(sc)"
   ]
  },
  {
   "cell_type": "markdown",
   "metadata": {},
   "source": [
    "# extract\n",
    "\n",
    "- regexp_extract를 사용해서 data를 handling해보자."
   ]
  },
  {
   "cell_type": "code",
   "execution_count": 3,
   "metadata": {},
   "outputs": [
    {
     "name": "stdout",
     "output_type": "stream",
     "text": [
      "+----+--------------------+\n",
      "|  ID|               Notes|\n",
      "+----+--------------------+\n",
      "|2345|     Checked by John|\n",
      "|2398|   Verified by Stacy|\n",
      "|2328|Verified by Srini...|\n",
      "|3983|Double Checked on...|\n",
      "+----+--------------------+\n",
      "\n"
     ]
    }
   ],
   "source": [
    "data =  [('2345', 'Checked by John'),\n",
    "('2398','Verified by Stacy'),\n",
    "('2328','Verified by Srinivas than some random text'),        \n",
    "('3983','Double Checked on 2/23/17 by Marsha')]\n",
    "df = sc.parallelize(data).toDF(['ID','Notes'] )\n",
    "df.show()"
   ]
  },
  {
   "cell_type": "code",
   "execution_count": 4,
   "metadata": {},
   "outputs": [
    {
     "name": "stdout",
     "output_type": "stream",
     "text": [
      "+----+--------------------+-----------+\n",
      "|  ID|               Notes|      fname|\n",
      "+----+--------------------+-----------+\n",
      "|2345|     Checked by John|    by John|\n",
      "|2398|   Verified by Stacy|   by Stacy|\n",
      "|2328|Verified by Srini...|by Srinivas|\n",
      "|3983|Double Checked on...|  by Marsha|\n",
      "+----+--------------------+-----------+\n",
      "\n"
     ]
    }
   ],
   "source": [
    "df.withColumn( 'fname', f.regexp_extract( df['Notes'], '(by) ([a-zA-Z]+)', 0) ).show()"
   ]
  },
  {
   "cell_type": "code",
   "execution_count": 5,
   "metadata": {},
   "outputs": [
    {
     "name": "stdout",
     "output_type": "stream",
     "text": [
      "+----+--------------------+-----+\n",
      "|  ID|               Notes|fname|\n",
      "+----+--------------------+-----+\n",
      "|2345|     Checked by John|   by|\n",
      "|2398|   Verified by Stacy|   by|\n",
      "|2328|Verified by Srini...|   by|\n",
      "|3983|Double Checked on...|   by|\n",
      "+----+--------------------+-----+\n",
      "\n"
     ]
    }
   ],
   "source": [
    "df.withColumn( 'fname', f.regexp_extract( df['Notes'], '(by) ([a-zA-Z]+)',1) ).show()"
   ]
  },
  {
   "cell_type": "code",
   "execution_count": 6,
   "metadata": {},
   "outputs": [
    {
     "name": "stdout",
     "output_type": "stream",
     "text": [
      "+----+--------------------+--------+\n",
      "|  ID|               Notes|   fname|\n",
      "+----+--------------------+--------+\n",
      "|2345|     Checked by John|    John|\n",
      "|2398|   Verified by Stacy|   Stacy|\n",
      "|2328|Verified by Srini...|Srinivas|\n",
      "|3983|Double Checked on...|  Marsha|\n",
      "+----+--------------------+--------+\n",
      "\n"
     ]
    }
   ],
   "source": [
    "df.withColumn( 'fname', f.regexp_extract( df['Notes'], '(by) ([a-zA-Z]+)', 2) ).show()"
   ]
  },
  {
   "cell_type": "code",
   "execution_count": 7,
   "metadata": {},
   "outputs": [
    {
     "name": "stdout",
     "output_type": "stream",
     "text": [
      "+----+--------------------+--------+\n",
      "|  ID|               Notes|   fname|\n",
      "+----+--------------------+--------+\n",
      "|2345|     Checked by John| Checked|\n",
      "|2398|   Verified by Stacy|Verified|\n",
      "|2328|Verified by Srini...|Verified|\n",
      "|3983|Double Checked on...|      17|\n",
      "+----+--------------------+--------+\n",
      "\n"
     ]
    }
   ],
   "source": [
    "df.withColumn( 'fname', f.regexp_extract( df['Notes'], '(\\w+) by ([a-zA-Z]+)',1) ).show()"
   ]
  },
  {
   "cell_type": "code",
   "execution_count": 13,
   "metadata": {},
   "outputs": [
    {
     "name": "stdout",
     "output_type": "stream",
     "text": [
      "+----+--------------------+--------------------+\n",
      "|  ID|               Notes|               fname|\n",
      "+----+--------------------+--------------------+\n",
      "|2345|     Checked by John|             Checked|\n",
      "|2398|   Verified by Stacy|            Verified|\n",
      "|2328|Verified by Srini...|            Verified|\n",
      "|3983|Double Checked on...|Double Checked on...|\n",
      "+----+--------------------+--------------------+\n",
      "\n"
     ]
    }
   ],
   "source": [
    "df.withColumn( 'fname', f.regexp_extract( df['Notes'], '([\\w+ /]+) by ([a-zA-Z]+)',1) ).show()"
   ]
  }
 ],
 "metadata": {
  "interpreter": {
   "hash": "ae0355d8f47000475242e6719619542a492c1c559684272368657969ffdf6259"
  },
  "kernelspec": {
   "display_name": "Python 3.8.8 64-bit ('base': conda)",
   "language": "python",
   "name": "python3"
  },
  "language_info": {
   "codemirror_mode": {
    "name": "ipython",
    "version": 3
   },
   "file_extension": ".py",
   "mimetype": "text/x-python",
   "name": "python",
   "nbconvert_exporter": "python",
   "pygments_lexer": "ipython3",
   "version": "3.8.8"
  },
  "orig_nbformat": 4
 },
 "nbformat": 4,
 "nbformat_minor": 2
}
