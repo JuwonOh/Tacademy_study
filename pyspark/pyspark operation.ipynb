{
 "cells": [
  {
   "cell_type": "code",
   "execution_count": 1,
   "id": "7883fbec",
   "metadata": {},
   "outputs": [],
   "source": [
    "from pyspark import SparkContext"
   ]
  },
  {
   "cell_type": "code",
   "execution_count": 2,
   "id": "556a2673",
   "metadata": {},
   "outputs": [],
   "source": [
    "sc = SparkContext('local')"
   ]
  },
  {
   "cell_type": "markdown",
   "id": "eaa2018a",
   "metadata": {},
   "source": [
    "# parallelize"
   ]
  },
  {
   "cell_type": "code",
   "execution_count": 3,
   "id": "4cd19115",
   "metadata": {},
   "outputs": [],
   "source": [
    "my = [10, 20, 30, 40, 50]\n",
    "nRdd = sc.parallelize(my) #리스트를 rdd로"
   ]
  },
  {
   "cell_type": "code",
   "execution_count": 4,
   "id": "763877ad",
   "metadata": {},
   "outputs": [
    {
     "data": {
      "text/plain": [
       "[10, 20]"
      ]
     },
     "execution_count": 4,
     "metadata": {},
     "output_type": "execute_result"
    }
   ],
   "source": [
    "nRdd.take(2) #action함수, = head(2)"
   ]
  },
  {
   "cell_type": "markdown",
   "id": "12475f2f",
   "metadata": {},
   "source": [
    "# foreach"
   ]
  },
  {
   "cell_type": "code",
   "execution_count": 5,
   "id": "595e22d4",
   "metadata": {},
   "outputs": [],
   "source": [
    "nRdd.foreach(lambda v: print(v) ) #action함수, 개별 데이터 출력"
   ]
  },
  {
   "cell_type": "code",
   "execution_count": 6,
   "id": "2c477596",
   "metadata": {},
   "outputs": [
    {
     "data": {
      "text/plain": [
       "[11, 21, 31, 41, 51]"
      ]
     },
     "execution_count": 6,
     "metadata": {},
     "output_type": "execute_result"
    }
   ],
   "source": [
    "newRdd = nRdd.map(lambda v: v+1 ) #transformation함수, (변형된)rdd 반환\n",
    "newRdd.collect()"
   ]
  },
  {
   "cell_type": "markdown",
   "id": "73deec37",
   "metadata": {},
   "source": [
    "# textFile: 데이터 불러오기"
   ]
  },
  {
   "cell_type": "code",
   "execution_count": 7,
   "id": "7f2fbc65",
   "metadata": {},
   "outputs": [],
   "source": [
    "rdd1 = sc.textFile('data/bb.txt')"
   ]
  },
  {
   "cell_type": "code",
   "execution_count": 8,
   "id": "321b4520",
   "metadata": {},
   "outputs": [
    {
     "data": {
      "text/plain": [
       "['10,20', '30,40', '50,60', '20,40']"
      ]
     },
     "execution_count": 8,
     "metadata": {},
     "output_type": "execute_result"
    }
   ],
   "source": [
    "\n",
    "rdd1.collect()"
   ]
  },
  {
   "cell_type": "markdown",
   "id": "d3ed3469",
   "metadata": {},
   "source": [
    "# flatmap"
   ]
  },
  {
   "cell_type": "code",
   "execution_count": 9,
   "id": "a0a65fad",
   "metadata": {},
   "outputs": [
    {
     "data": {
      "text/plain": [
       "['10', '20', '30', '40', '50', '60', '20', '40']"
      ]
     },
     "execution_count": 9,
     "metadata": {},
     "output_type": "execute_result"
    }
   ],
   "source": [
    "rdd2 = rdd1.flatMap( lambda v: v.split(','))\n",
    "rdd2.collect()"
   ]
  },
  {
   "cell_type": "code",
   "execution_count": 10,
   "id": "0670a253",
   "metadata": {},
   "outputs": [
    {
     "data": {
      "text/plain": [
       "[10, 20, 30, 40, 50, 60, 20, 40]"
      ]
     },
     "execution_count": 10,
     "metadata": {},
     "output_type": "execute_result"
    }
   ],
   "source": [
    "rdd3 = rdd2.map(lambda v:int(v))\n",
    "rdd3.collect()"
   ]
  },
  {
   "cell_type": "code",
   "execution_count": 11,
   "id": "fc1035ba",
   "metadata": {},
   "outputs": [
    {
     "data": {
      "text/plain": [
       "[10, 20, 30, 40, 50, 60]"
      ]
     },
     "execution_count": 11,
     "metadata": {},
     "output_type": "execute_result"
    }
   ],
   "source": [
    "rdd4 = rdd3.distinct() # transformation function\n",
    "rdd4.collect() # 중복되는 변수를 제거한다."
   ]
  },
  {
   "cell_type": "code",
   "execution_count": 12,
   "id": "0faa5d2f",
   "metadata": {},
   "outputs": [
    {
     "data": {
      "text/plain": [
       "[10, 20, 30, 40, 50, 60]"
      ]
     },
     "execution_count": 12,
     "metadata": {},
     "output_type": "execute_result"
    }
   ],
   "source": [
    "myr = rdd1.flatMap( lambda v:v.split(',')).map(lambda v:int(v)).distinct()\n",
    "myr.collect()"
   ]
  },
  {
   "cell_type": "code",
   "execution_count": 13,
   "id": "1ef174d8",
   "metadata": {},
   "outputs": [
    {
     "data": {
      "text/plain": [
       "10"
      ]
     },
     "execution_count": 13,
     "metadata": {},
     "output_type": "execute_result"
    }
   ],
   "source": [
    "myr.first() # action 함수 첫번째 결과를 가져온다."
   ]
  },
  {
   "cell_type": "code",
   "execution_count": 14,
   "id": "74f8df42",
   "metadata": {},
   "outputs": [
    {
     "data": {
      "text/plain": [
       "210"
      ]
     },
     "execution_count": 14,
     "metadata": {},
     "output_type": "execute_result"
    }
   ],
   "source": [
    "myr.sum() # action 함수"
   ]
  },
  {
   "cell_type": "code",
   "execution_count": 15,
   "id": "8b2fc378",
   "metadata": {},
   "outputs": [
    {
     "data": {
      "text/plain": [
       "35.0"
      ]
     },
     "execution_count": 15,
     "metadata": {},
     "output_type": "execute_result"
    }
   ],
   "source": [
    "myr.mean() # action 함수"
   ]
  },
  {
   "cell_type": "code",
   "execution_count": 16,
   "id": "4a46f6fe",
   "metadata": {
    "scrolled": true
   },
   "outputs": [
    {
     "data": {
      "text/plain": [
       "10"
      ]
     },
     "execution_count": 16,
     "metadata": {},
     "output_type": "execute_result"
    }
   ],
   "source": [
    "myr.min()"
   ]
  },
  {
   "cell_type": "code",
   "execution_count": 17,
   "id": "6acaf017",
   "metadata": {},
   "outputs": [
    {
     "data": {
      "text/plain": [
       "17.07825127659933"
      ]
     },
     "execution_count": 17,
     "metadata": {},
     "output_type": "execute_result"
    }
   ],
   "source": [
    "myr.stdev()"
   ]
  },
  {
   "cell_type": "code",
   "execution_count": 18,
   "id": "751160d2",
   "metadata": {},
   "outputs": [
    {
     "ename": "TypeError",
     "evalue": "histogram() missing 1 required positional argument: 'buckets'",
     "output_type": "error",
     "traceback": [
      "\u001b[1;31m---------------------------------------------------------------------------\u001b[0m",
      "\u001b[1;31mTypeError\u001b[0m                                 Traceback (most recent call last)",
      "\u001b[1;32m<ipython-input-18-0df9c7755f4a>\u001b[0m in \u001b[0;36m<module>\u001b[1;34m\u001b[0m\n\u001b[1;32m----> 1\u001b[1;33m \u001b[0mmyr\u001b[0m\u001b[1;33m.\u001b[0m\u001b[0mhistogram\u001b[0m\u001b[1;33m(\u001b[0m\u001b[1;33m)\u001b[0m\u001b[1;33m\u001b[0m\u001b[1;33m\u001b[0m\u001b[0m\n\u001b[0m",
      "\u001b[1;31mTypeError\u001b[0m: histogram() missing 1 required positional argument: 'buckets'"
     ]
    }
   ],
   "source": [
    "myr.histogram()"
   ]
  },
  {
   "cell_type": "code",
   "execution_count": null,
   "id": "3a6480cc",
   "metadata": {},
   "outputs": [],
   "source": []
  },
  {
   "cell_type": "code",
   "execution_count": null,
   "id": "d8fbadbc",
   "metadata": {},
   "outputs": [],
   "source": []
  },
  {
   "cell_type": "code",
   "execution_count": 19,
   "id": "18f25607",
   "metadata": {},
   "outputs": [],
   "source": [
    "def fn( a, b):\n",
    "    print('a= ', a)\n",
    "    print('b= ', b)\n",
    "    return a +b"
   ]
  },
  {
   "cell_type": "code",
   "execution_count": 20,
   "id": "ecf43f6f",
   "metadata": {},
   "outputs": [
    {
     "data": {
      "text/plain": [
       "210"
      ]
     },
     "execution_count": 20,
     "metadata": {},
     "output_type": "execute_result"
    }
   ],
   "source": [
    "# myr.reduce(lambda a, b : a + b)\n",
    "# reduce는 transpormation 함수. lambda를 통해서 쉽게 처리할 수 있다. \n",
    "myr.reduce(fn)"
   ]
  },
  {
   "cell_type": "code",
   "execution_count": 21,
   "id": "bbc0c9c6",
   "metadata": {},
   "outputs": [
    {
     "data": {
      "text/plain": [
       "[(1, 2), (3, 4), (5, 6), (1, 7), (3, 4)]"
      ]
     },
     "execution_count": 21,
     "metadata": {},
     "output_type": "execute_result"
    }
   ],
   "source": [
    "dt = [(1,2),(3,4),(5,6),(1,7),(3,4)]\n",
    "nRdd = sc.parallelize(dt)\n",
    "nRdd.collect()"
   ]
  },
  {
   "cell_type": "code",
   "execution_count": 22,
   "id": "16cafa1b",
   "metadata": {},
   "outputs": [],
   "source": [
    "newRDD = nRdd.reduceByKey(lambda a,b : a+b)\n",
    "# 키가 동일한 것의 합 1:2+7=9, 3: 4 + 4, 5: 6"
   ]
  },
  {
   "cell_type": "code",
   "execution_count": 23,
   "id": "e4e3b559",
   "metadata": {},
   "outputs": [
    {
     "data": {
      "text/plain": [
       "[(1, 9), (3, 8), (5, 6)]"
      ]
     },
     "execution_count": 23,
     "metadata": {},
     "output_type": "execute_result"
    }
   ],
   "source": [
    "newRDD.collect()"
   ]
  },
  {
   "cell_type": "code",
   "execution_count": 24,
   "id": "9c64ea19",
   "metadata": {},
   "outputs": [
    {
     "data": {
      "text/plain": [
       "[1, 2, 3, 4, 5, 6, 1, 7, 3, 4]"
      ]
     },
     "execution_count": 24,
     "metadata": {},
     "output_type": "execute_result"
    }
   ],
   "source": [
    "newRdd1 = nRdd.flatMap(lambda v:v)\n",
    "newRdd1.collect()"
   ]
  },
  {
   "cell_type": "code",
   "execution_count": 25,
   "id": "0a23f7a1",
   "metadata": {},
   "outputs": [
    {
     "data": {
      "text/plain": [
       "[(1, 1),\n",
       " (2, 1),\n",
       " (3, 1),\n",
       " (4, 1),\n",
       " (5, 1),\n",
       " (6, 1),\n",
       " (1, 1),\n",
       " (7, 1),\n",
       " (3, 1),\n",
       " (4, 1)]"
      ]
     },
     "execution_count": 25,
     "metadata": {},
     "output_type": "execute_result"
    }
   ],
   "source": [
    "newRdd2 = nRdd.flatMap(lambda v: v).map(lambda v : (v, 1))\n",
    "newRdd2.collect()                   # "
   ]
  },
  {
   "cell_type": "code",
   "execution_count": 26,
   "id": "322b6cc4",
   "metadata": {},
   "outputs": [
    {
     "data": {
      "text/plain": [
       "defaultdict(int, {1: 2, 2: 1, 3: 2, 4: 2, 5: 1, 6: 1, 7: 1})"
      ]
     },
     "execution_count": 26,
     "metadata": {},
     "output_type": "execute_result"
    }
   ],
   "source": [
    "d = newRdd2.countByKey()\n",
    "d\n",
    "# action 힘수. 키를 기준으로 count를 갯수를 보여주는 dict를 반환 해준다."
   ]
  },
  {
   "cell_type": "code",
   "execution_count": 27,
   "id": "9d1d94b9",
   "metadata": {},
   "outputs": [
    {
     "data": {
      "text/plain": [
       "[(1, 1),\n",
       " (1, 1),\n",
       " (2, 1),\n",
       " (3, 1),\n",
       " (3, 1),\n",
       " (4, 1),\n",
       " (4, 1),\n",
       " (5, 1),\n",
       " (6, 1),\n",
       " (7, 1)]"
      ]
     },
     "execution_count": 27,
     "metadata": {},
     "output_type": "execute_result"
    }
   ],
   "source": [
    "newRdd2.sortByKey().collect() # 특정 key를 기준으로 정렬\n",
    "# transfor"
   ]
  },
  {
   "cell_type": "code",
   "execution_count": 28,
   "id": "cd53d9fc",
   "metadata": {},
   "outputs": [
    {
     "data": {
      "text/plain": [
       "[(7, 1),\n",
       " (6, 1),\n",
       " (5, 1),\n",
       " (4, 1),\n",
       " (4, 1),\n",
       " (3, 1),\n",
       " (3, 1),\n",
       " (2, 1),\n",
       " (1, 1),\n",
       " (1, 1)]"
      ]
     },
     "execution_count": 28,
     "metadata": {},
     "output_type": "execute_result"
    }
   ],
   "source": [
    "newRdd2.sortByKey(ascending=False).collect()"
   ]
  },
  {
   "cell_type": "code",
   "execution_count": 29,
   "id": "8cc4e332",
   "metadata": {},
   "outputs": [
    {
     "data": {
      "text/plain": [
       "['나는 자랑스런', '태극기 앞에', '조국과 태극기', '몸과 나는']"
      ]
     },
     "execution_count": 29,
     "metadata": {},
     "output_type": "execute_result"
    }
   ],
   "source": [
    "txtRdd = sc.textFile('data/aa.txt')\n",
    "txtRdd.collect()"
   ]
  },
  {
   "cell_type": "code",
   "execution_count": 30,
   "id": "26071f23",
   "metadata": {},
   "outputs": [],
   "source": [
    "temp = txtRdd.flatMap(lambda v: v.split(' ')).collect()"
   ]
  },
  {
   "cell_type": "code",
   "execution_count": 31,
   "id": "e31cd7b0",
   "metadata": {},
   "outputs": [
    {
     "data": {
      "text/plain": [
       "['나는', '자랑스런', '태극기', '앞에', '조국과', '태극기', '몸과', '나는']"
      ]
     },
     "execution_count": 31,
     "metadata": {},
     "output_type": "execute_result"
    }
   ],
   "source": [
    "temp"
   ]
  },
  {
   "cell_type": "code",
   "execution_count": 32,
   "id": "d87cabd6",
   "metadata": {},
   "outputs": [
    {
     "data": {
      "text/plain": [
       "defaultdict(int, {'나는': 2, '자랑스런': 1, '태극기': 2, '앞에': 1, '조국과': 1, '몸과': 1})"
      ]
     },
     "execution_count": 32,
     "metadata": {},
     "output_type": "execute_result"
    }
   ],
   "source": [
    "d = txtRdd.flatMap(lambda v: v.split(' ')).map(lambda v: (v,1)).countByKey()\n",
    "d"
   ]
  },
  {
   "cell_type": "code",
   "execution_count": 33,
   "id": "963080fa",
   "metadata": {},
   "outputs": [
    {
     "data": {
      "text/plain": [
       "[('나는', 1),\n",
       " ('자랑스런', 1),\n",
       " ('태극기', 1),\n",
       " ('앞에', 1),\n",
       " ('조국과', 1),\n",
       " ('태극기', 1),\n",
       " ('몸과', 1),\n",
       " ('나는', 1)]"
      ]
     },
     "execution_count": 33,
     "metadata": {},
     "output_type": "execute_result"
    }
   ],
   "source": [
    "txtRdd.flatMap(lambda v: v.split(' ')).map(lambda v: (v,1)).collect()"
   ]
  },
  {
   "cell_type": "markdown",
   "id": "58d764d9",
   "metadata": {},
   "source": [
    "## 연습문제2"
   ]
  },
  {
   "cell_type": "code",
   "execution_count": 34,
   "id": "41ca383c",
   "metadata": {},
   "outputs": [],
   "source": [
    "empList=['1,kim,000-000-000','2,lee,111-111-111',\n",
    "       '3,park,222-222-222','4,song,333-333-333',\n",
    "       '5,han,555-555-555','6,yoon,666-666-666']\n",
    "deptList = ['1,sale','2,developer','3,manager',\n",
    "           '4,sale1','5,developer1','6,manager1']"
   ]
  },
  {
   "cell_type": "markdown",
   "id": "7857dde1",
   "metadata": {},
   "source": [
    "# join으로 두개의 서로 다른 데이터를 통합"
   ]
  },
  {
   "cell_type": "code",
   "execution_count": 35,
   "id": "ce199067",
   "metadata": {},
   "outputs": [],
   "source": [
    "empRdd = sc.parallelize(empList)\n",
    "deptRdd = sc.parallelize(deptList)"
   ]
  },
  {
   "cell_type": "code",
   "execution_count": 36,
   "id": "234d7451",
   "metadata": {},
   "outputs": [
    {
     "data": {
      "text/plain": [
       "['1,kim,000-000-000',\n",
       " '2,lee,111-111-111',\n",
       " '3,park,222-222-222',\n",
       " '4,song,333-333-333',\n",
       " '5,han,555-555-555',\n",
       " '6,yoon,666-666-666']"
      ]
     },
     "execution_count": 36,
     "metadata": {},
     "output_type": "execute_result"
    }
   ],
   "source": [
    "empRdd.collect()"
   ]
  },
  {
   "cell_type": "code",
   "execution_count": 37,
   "id": "3708788f",
   "metadata": {},
   "outputs": [
    {
     "data": {
      "text/plain": [
       "['1,sale', '2,developer', '3,manager', '4,sale1', '5,developer1', '6,manager1']"
      ]
     },
     "execution_count": 37,
     "metadata": {},
     "output_type": "execute_result"
    }
   ],
   "source": [
    "deptRdd.collect()"
   ]
  },
  {
   "cell_type": "code",
   "execution_count": 38,
   "id": "aef4a349",
   "metadata": {},
   "outputs": [
    {
     "data": {
      "text/plain": [
       "[['1', 'kim', '000-000-000'],\n",
       " ['2', 'lee', '111-111-111'],\n",
       " ['3', 'park', '222-222-222'],\n",
       " ['4', 'song', '333-333-333'],\n",
       " ['5', 'han', '555-555-555'],\n",
       " ['6', 'yoon', '666-666-666']]"
      ]
     },
     "execution_count": 38,
     "metadata": {},
     "output_type": "execute_result"
    }
   ],
   "source": [
    "empRdd1= empRdd.map(lambda v:v.split(','))\n",
    "empRdd1.collect()"
   ]
  },
  {
   "cell_type": "code",
   "execution_count": 39,
   "id": "3b023a39",
   "metadata": {},
   "outputs": [
    {
     "data": {
      "text/plain": [
       "[('1', 'kim 000-000-000'),\n",
       " ('2', 'lee 111-111-111'),\n",
       " ('3', 'park 222-222-222'),\n",
       " ('4', 'song 333-333-333'),\n",
       " ('5', 'han 555-555-555'),\n",
       " ('6', 'yoon 666-666-666')]"
      ]
     },
     "execution_count": 39,
     "metadata": {},
     "output_type": "execute_result"
    }
   ],
   "source": [
    "empRdd2 = empRdd1.map( lambda v: (v[0], v[1]+' '+v[2]) )\n",
    "empRdd2.collect()"
   ]
  },
  {
   "cell_type": "code",
   "execution_count": 42,
   "id": "af0ad324",
   "metadata": {},
   "outputs": [
    {
     "data": {
      "text/plain": [
       "[('1', 'sale'),\n",
       " ('2', 'developer'),\n",
       " ('3', 'manager'),\n",
       " ('4', 'sale1'),\n",
       " ('5', 'developer1'),\n",
       " ('6', 'manager1')]"
      ]
     },
     "execution_count": 42,
     "metadata": {},
     "output_type": "execute_result"
    }
   ],
   "source": [
    "deptRdd1 = deptRdd.map(lambda v:v.split(',')).map(lambda v: (v[0], v[1]) )\n",
    "deptRdd1.collect()"
   ]
  },
  {
   "cell_type": "code",
   "execution_count": 45,
   "id": "7006f076",
   "metadata": {
    "scrolled": true
   },
   "outputs": [
    {
     "data": {
      "text/plain": [
       "[('1', ('kim 000-000-000', 'sale')),\n",
       " ('4', ('song 333-333-333', 'sale1')),\n",
       " ('2', ('lee 111-111-111', 'developer')),\n",
       " ('3', ('park 222-222-222', 'manager')),\n",
       " ('5', ('han 555-555-555', 'developer1')),\n",
       " ('6', ('yoon 666-666-666', 'manager1'))]"
      ]
     },
     "execution_count": 45,
     "metadata": {},
     "output_type": "execute_result"
    }
   ],
   "source": [
    "joinData = empRdd2.join(deptRdd1) # join은 첫번째 있는 것을 기준으로 합쳐준다.\n",
    "joinData.collect()"
   ]
  },
  {
   "cell_type": "markdown",
   "id": "2c39d12d",
   "metadata": {},
   "source": [
    "# 연습문제 3"
   ]
  },
  {
   "cell_type": "code",
   "execution_count": 46,
   "id": "739d5cb1",
   "metadata": {},
   "outputs": [
    {
     "data": {
      "text/plain": [
       "['year,height,weight,grade,gender,gradecode,gendercode',\n",
       " '2017,152.5,47.9,elementary,man,2,1',\n",
       " '2017,153.2,46.6,elementary,woman,2,0',\n",
       " '2017,170.6,63.8,middle,man,0,1',\n",
       " '2017,160.4,54.2,middle,woman,0,0',\n",
       " '2017,173.9,72.3,high,man,1,1',\n",
       " '2017,160.9,57.7,high,woman,1,0']"
      ]
     },
     "execution_count": 46,
     "metadata": {},
     "output_type": "execute_result"
    }
   ],
   "source": [
    "weightRdd = sc.textFile('data/weight.csv')\n",
    "weightRdd.collect()"
   ]
  },
  {
   "cell_type": "code",
   "execution_count": 60,
   "id": "76c863da",
   "metadata": {},
   "outputs": [
    {
     "data": {
      "text/plain": [
       "[['2017', '152.5', '47.9', 'elementary', 'man', '2', '1'],\n",
       " ['2017', '153.2', '46.6', 'elementary', 'woman', '2', '0'],\n",
       " ['2017', '170.6', '63.8', 'middle', 'man', '0', '1'],\n",
       " ['2017', '160.4', '54.2', 'middle', 'woman', '0', '0'],\n",
       " ['2017', '173.9', '72.3', 'high', 'man', '1', '1'],\n",
       " ['2017', '160.9', '57.7', 'high', 'woman', '1', '0']]"
      ]
     },
     "execution_count": 60,
     "metadata": {},
     "output_type": "execute_result"
    }
   ],
   "source": [
    "weightRdd2 = weightRdd.map(lambda v:v.split(',')).filter(lambda v: v[0] == '2017')\n",
    "weightRdd2.collect()"
   ]
  },
  {
   "cell_type": "markdown",
   "id": "3bb6fbe7",
   "metadata": {},
   "source": [
    "1.전체 키의 합과 평균을 구하시오\n",
    "2.다음과 같이 변경하시오(학년별 갯수)\n",
    "[('elementary', 2), ('middle', 2), ('high', 2)]\n",
    "3.몸무게가 높은 순으로 정렬하시오"
   ]
  },
  {
   "cell_type": "code",
   "execution_count": 50,
   "id": "714f3dad",
   "metadata": {},
   "outputs": [],
   "source": [
    "def fn( a, b):\n",
    "    print('a= ', a)\n",
    "    print('b= ', b)\n",
    "    return a +b"
   ]
  },
  {
   "cell_type": "code",
   "execution_count": 69,
   "id": "092d84e4",
   "metadata": {},
   "outputs": [
    {
     "data": {
      "text/plain": [
       "971.4999999999999"
      ]
     },
     "execution_count": 69,
     "metadata": {},
     "output_type": "execute_result"
    }
   ],
   "source": [
    "weightRdd2.map(lambda x: float(x[1])).sum()\n"
   ]
  },
  {
   "cell_type": "code",
   "execution_count": 70,
   "id": "d72d14aa",
   "metadata": {},
   "outputs": [
    {
     "data": {
      "text/plain": [
       "161.91666666666666"
      ]
     },
     "execution_count": 70,
     "metadata": {},
     "output_type": "execute_result"
    }
   ],
   "source": [
    "weightRdd2.map(lambda x: float(x[1])).mean()"
   ]
  },
  {
   "cell_type": "code",
   "execution_count": 77,
   "id": "f767b85e",
   "metadata": {},
   "outputs": [
    {
     "data": {
      "text/plain": [
       "defaultdict(int, {'elementary': 2, 'middle': 2, 'high': 2})"
      ]
     },
     "execution_count": 77,
     "metadata": {},
     "output_type": "execute_result"
    }
   ],
   "source": [
    "weightRdd2.map(lambda x: (x[3],1)).countByKey()"
   ]
  },
  {
   "cell_type": "code",
   "execution_count": 81,
   "id": "66444305",
   "metadata": {},
   "outputs": [
    {
     "data": {
      "text/plain": [
       "[['2017', '173.9', '72.3', 'high', 'man', '1', '1'],\n",
       " ['2017', '170.6', '63.8', 'middle', 'man', '0', '1'],\n",
       " ['2017', '160.9', '57.7', 'high', 'woman', '1', '0'],\n",
       " ['2017', '160.4', '54.2', 'middle', 'woman', '0', '0'],\n",
       " ['2017', '153.2', '46.6', 'elementary', 'woman', '2', '0'],\n",
       " ['2017', '152.5', '47.9', 'elementary', 'man', '2', '1']]"
      ]
     },
     "execution_count": 81,
     "metadata": {},
     "output_type": "execute_result"
    }
   ],
   "source": [
    "weightRdd2.sortBy(lambda x:x[1], ascending = False).collect()"
   ]
  },
  {
   "cell_type": "code",
   "execution_count": 56,
   "id": "3c34669c",
   "metadata": {
    "scrolled": true
   },
   "outputs": [
    {
     "ename": "SyntaxError",
     "evalue": "invalid syntax (<ipython-input-56-b7163c7fd95a>, line 1)",
     "output_type": "error",
     "traceback": [
      "\u001b[1;36m  File \u001b[1;32m\"<ipython-input-56-b7163c7fd95a>\"\u001b[1;36m, line \u001b[1;32m1\u001b[0m\n\u001b[1;33m    weightRdd.map(lambda v:v.split(',')).sum(lambda v: v[1] if v >150).collect()\u001b[0m\n\u001b[1;37m                                                                     ^\u001b[0m\n\u001b[1;31mSyntaxError\u001b[0m\u001b[1;31m:\u001b[0m invalid syntax\n"
     ]
    }
   ],
   "source": [
    "weightRdd.map(lambda v:v.split(',')).sum(lambda v: v[1] if v >150)"
   ]
  },
  {
   "cell_type": "code",
   "execution_count": null,
   "id": "44532592",
   "metadata": {},
   "outputs": [],
   "source": []
  }
 ],
 "metadata": {
  "kernelspec": {
   "display_name": "Python 3",
   "language": "python",
   "name": "python3"
  },
  "language_info": {
   "codemirror_mode": {
    "name": "ipython",
    "version": 3
   },
   "file_extension": ".py",
   "mimetype": "text/x-python",
   "name": "python",
   "nbconvert_exporter": "python",
   "pygments_lexer": "ipython3",
   "version": "3.8.8"
  }
 },
 "nbformat": 4,
 "nbformat_minor": 5
}
