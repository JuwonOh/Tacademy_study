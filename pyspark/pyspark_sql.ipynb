{
 "cells": [
  {
   "cell_type": "markdown",
   "id": "a86580f6",
   "metadata": {},
   "source": [
    "# hive sql\n",
    "\n",
    "- https://cwiki.apache.org/confluence/display/hive/languagemanual+udf"
   ]
  },
  {
   "cell_type": "code",
   "execution_count": 1,
   "id": "fdbc0c19",
   "metadata": {},
   "outputs": [],
   "source": [
    "from pyspark import SparkContext\n",
    "from pyspark.sql import SQLContext, Row\n",
    "import pandas as pd\n",
    "\n",
    "from pyspark.sql.functions import when, udf, col, regexp_replace\n",
    "from pyspark.sql.types import DoubleType,IntegerType, StringType\n",
    "import pyspark.sql.functions as f"
   ]
  },
  {
   "cell_type": "code",
   "execution_count": 2,
   "id": "eec7a5fb",
   "metadata": {},
   "outputs": [],
   "source": [
    "sc = SparkContext('local')\n",
    "sqlCtx = SQLContext(sc)"
   ]
  },
  {
   "cell_type": "code",
   "execution_count": 4,
   "id": "a3e53af5",
   "metadata": {},
   "outputs": [
    {
     "data": {
      "text/plain": [
       "DataFrame[관서명: string, 살인 발생: int, 살인 검거: int, 강도 발생: int, 강도 검거: int, 강간 발생: int, 강간 검거: int, 절도 발생: string, 절도 검거: string, 폭력 발생: string, 폭력 검거: string]"
      ]
     },
     "execution_count": 4,
     "metadata": {},
     "output_type": "execute_result"
    }
   ],
   "source": [
    "df = sqlCtx.read.csv( 'c:/Users/FX506HM/Dropbox/pythonedu/data/crime_in_seoul.csv',encoding='euc-kr',\n",
    "                    header=True, inferSchema=True) # infer schema를 쓰지 않으면 전부 strtfh dlstlrgksek. \n",
    "\n",
    "df"
   ]
  },
  {
   "cell_type": "code",
   "execution_count": 5,
   "id": "8bc0c998",
   "metadata": {
    "collapsed": true
   },
   "outputs": [
    {
     "name": "stdout",
     "output_type": "stream",
     "text": [
      "+--------+\n",
      "|  관서명|\n",
      "+--------+\n",
      "|  중부서|\n",
      "|  종로서|\n",
      "|남대문서|\n",
      "|서대문서|\n",
      "|  혜화서|\n",
      "|  용산서|\n",
      "|  성북서|\n",
      "|동대문서|\n",
      "|  마포서|\n",
      "|영등포서|\n",
      "|  성동서|\n",
      "|  동작서|\n",
      "|  광진서|\n",
      "|  서부서|\n",
      "|  강북서|\n",
      "|  금천서|\n",
      "|  중랑서|\n",
      "|  강남서|\n",
      "|  관악서|\n",
      "|  강서서|\n",
      "+--------+\n",
      "only showing top 20 rows\n",
      "\n"
     ]
    }
   ],
   "source": [
    "df.select('관서명').show() "
   ]
  },
  {
   "cell_type": "markdown",
   "id": "cbaea859",
   "metadata": {},
   "source": [
    "# alias\n",
    "- column의 이름을 바꿔준다."
   ]
  },
  {
   "cell_type": "code",
   "execution_count": 6,
   "id": "affb8671",
   "metadata": {},
   "outputs": [
    {
     "name": "stdout",
     "output_type": "stream",
     "text": [
      "+--------+\n",
      "|      kw|\n",
      "+--------+\n",
      "|  중부서|\n",
      "|  종로서|\n",
      "|남대문서|\n",
      "|서대문서|\n",
      "|  혜화서|\n",
      "|  용산서|\n",
      "|  성북서|\n",
      "|동대문서|\n",
      "|  마포서|\n",
      "|영등포서|\n",
      "|  성동서|\n",
      "|  동작서|\n",
      "|  광진서|\n",
      "|  서부서|\n",
      "|  강북서|\n",
      "|  금천서|\n",
      "|  중랑서|\n",
      "|  강남서|\n",
      "|  관악서|\n",
      "|  강서서|\n",
      "+--------+\n",
      "only showing top 20 rows\n",
      "\n"
     ]
    }
   ],
   "source": [
    "df.select(df['관서명'].alias('kw')).show()"
   ]
  },
  {
   "cell_type": "markdown",
   "id": "ed789c7b",
   "metadata": {},
   "source": [
    "# 기술통계함수\n",
    "- max: 해당 column의 가장 큰 객체\n",
    "- avg: 해당 column의 평균"
   ]
  },
  {
   "cell_type": "code",
   "execution_count": 7,
   "id": "346cb54b",
   "metadata": {},
   "outputs": [
    {
     "name": "stdout",
     "output_type": "stream",
     "text": [
      "+-----------------+--------------+\n",
      "|   avg(살인 발생)|max(살인 발생)|\n",
      "+-----------------+--------------+\n",
      "|5.258064516129032|            14|\n",
      "+-----------------+--------------+\n",
      "\n"
     ]
    }
   ],
   "source": [
    "df.select(f.avg(df['살인 발생']), f.max(df['살인 발생'])).show()"
   ]
  },
  {
   "cell_type": "markdown",
   "id": "3a9df03b",
   "metadata": {},
   "source": [
    "# agg\n",
    "\n",
    "- selct대신 agg 함수를 통해서 구하는 것이 더 쉽다.\n",
    "- 주의: dictionary 형태는 동일한 column에 대해서는 안된다."
   ]
  },
  {
   "cell_type": "code",
   "execution_count": 8,
   "id": "aea58dbc",
   "metadata": {},
   "outputs": [
    {
     "name": "stdout",
     "output_type": "stream",
     "text": [
      "+-----------------+--------------+\n",
      "|   avg(살인 발생)|max(살인 발생)|\n",
      "+-----------------+--------------+\n",
      "|5.258064516129032|            14|\n",
      "+-----------------+--------------+\n",
      "\n"
     ]
    }
   ],
   "source": [
    "df.agg(f.avg(df['살인 발생']), f.max(df['살인 발생'])).show()"
   ]
  },
  {
   "cell_type": "code",
   "execution_count": 9,
   "id": "ba2dbf7c",
   "metadata": {},
   "outputs": [
    {
     "name": "stdout",
     "output_type": "stream",
     "text": [
      "+--------------+-----------------+\n",
      "|max(살인 발생)|   avg(살인 검거)|\n",
      "+--------------+-----------------+\n",
      "|            14|4.935483870967742|\n",
      "+--------------+-----------------+\n",
      "\n"
     ]
    }
   ],
   "source": [
    "df.agg({ '살인 발생': 'max', '살인 검거': 'avg'}).show()"
   ]
  },
  {
   "cell_type": "code",
   "execution_count": 10,
   "id": "707c0711",
   "metadata": {},
   "outputs": [
    {
     "name": "stdout",
     "output_type": "stream",
     "text": [
      "+--------------+-----------------+\n",
      "|max(살인 발생)|   avg(살인 검거)|\n",
      "+--------------+-----------------+\n",
      "|            14|4.935483870967742|\n",
      "+--------------+-----------------+\n",
      "\n"
     ]
    }
   ],
   "source": [
    "gdf = df.agg({'살인 발생': 'max', '살인 검거': 'avg'})\n",
    "gdf.show()"
   ]
  },
  {
   "cell_type": "markdown",
   "id": "7ddd8d9b",
   "metadata": {},
   "source": [
    "# rdd function은 rdd로 형태를 변형한다.\n",
    "\n",
    "- rdd 객체를 살펴보면, row 객체로 들어가 있음."
   ]
  },
  {
   "cell_type": "code",
   "execution_count": 11,
   "id": "9dd10dad",
   "metadata": {},
   "outputs": [
    {
     "data": {
      "text/plain": [
       "[Row(max(살인 발생)=14, avg(살인 검거)=4.935483870967742)]"
      ]
     },
     "execution_count": 11,
     "metadata": {},
     "output_type": "execute_result"
    }
   ],
   "source": [
    "gdf.rdd.collect()"
   ]
  },
  {
   "cell_type": "code",
   "execution_count": 12,
   "id": "86e44f62",
   "metadata": {},
   "outputs": [
    {
     "name": "stdout",
     "output_type": "stream",
     "text": [
      "+----+----+\n",
      "|평균|총합|\n",
      "+----+----+\n",
      "|5.26|  14|\n",
      "+----+----+\n",
      "\n"
     ]
    }
   ],
   "source": [
    "df.select(f.round(f.avg('살인 발생'), 2).alias('평균'), \n",
    "          f.max(df['살인 발생']).alias('총합')).show()"
   ]
  },
  {
   "cell_type": "markdown",
   "id": "0009ec15",
   "metadata": {},
   "source": [
    "# row"
   ]
  },
  {
   "cell_type": "code",
   "execution_count": 13,
   "id": "1214377d",
   "metadata": {},
   "outputs": [
    {
     "data": {
      "text/plain": [
       "Row(a=1, b=2, c=3)"
      ]
     },
     "execution_count": 13,
     "metadata": {},
     "output_type": "execute_result"
    }
   ],
   "source": [
    "rw = Row(a = 1, b = 2, c = 3)\n",
    "rw"
   ]
  },
  {
   "cell_type": "code",
   "execution_count": 14,
   "id": "508efcac",
   "metadata": {},
   "outputs": [
    {
     "data": {
      "text/plain": [
       "pyspark.sql.types.Row"
      ]
     },
     "execution_count": 14,
     "metadata": {},
     "output_type": "execute_result"
    }
   ],
   "source": [
    "type(rw)"
   ]
  },
  {
   "cell_type": "code",
   "execution_count": 15,
   "id": "faedd4af",
   "metadata": {},
   "outputs": [
    {
     "data": {
      "text/plain": [
       "1"
      ]
     },
     "execution_count": 15,
     "metadata": {},
     "output_type": "execute_result"
    }
   ],
   "source": [
    "rw['a']"
   ]
  },
  {
   "cell_type": "code",
   "execution_count": 16,
   "id": "374666df",
   "metadata": {},
   "outputs": [
    {
     "data": {
      "text/plain": [
       "{'a': 1, 'b': 2, 'c': 3}"
      ]
     },
     "execution_count": 16,
     "metadata": {},
     "output_type": "execute_result"
    }
   ],
   "source": [
    "# asDict()를 사용하면 row를 dictinary로 바꿀 수 있다.\n",
    "rw.asDict()"
   ]
  },
  {
   "cell_type": "markdown",
   "id": "4b471ff0",
   "metadata": {},
   "source": [
    "## map을 lambda를 통해 다룰 수 있다."
   ]
  },
  {
   "cell_type": "code",
   "execution_count": 17,
   "id": "26b9511e",
   "metadata": {},
   "outputs": [
    {
     "data": {
      "text/plain": [
       "ParallelCollectionRDD[60] at readRDDFromFile at PythonRDD.scala:262"
      ]
     },
     "execution_count": 17,
     "metadata": {},
     "output_type": "execute_result"
    }
   ],
   "source": [
    "my = [10,20,30,40,50]\n",
    "nRdd = sc.parallelize(my)\n",
    "nRdd"
   ]
  },
  {
   "cell_type": "code",
   "execution_count": 18,
   "id": "9ce23e33",
   "metadata": {},
   "outputs": [
    {
     "data": {
      "text/plain": [
       "[10, 20, 30, 40, 50]"
      ]
     },
     "execution_count": 18,
     "metadata": {},
     "output_type": "execute_result"
    }
   ],
   "source": [
    "nRdd.collect()"
   ]
  },
  {
   "cell_type": "code",
   "execution_count": 19,
   "id": "4f3f2a76",
   "metadata": {},
   "outputs": [
    {
     "data": {
      "text/plain": [
       "[11, 21, 31, 41, 51]"
      ]
     },
     "execution_count": 19,
     "metadata": {},
     "output_type": "execute_result"
    }
   ],
   "source": [
    "nRdd.map(lambda v: v+1).collect()"
   ]
  },
  {
   "cell_type": "code",
   "execution_count": 20,
   "id": "742015f8",
   "metadata": {},
   "outputs": [],
   "source": [
    "ddf = df.select('관서명', '살인 발생')"
   ]
  },
  {
   "cell_type": "code",
   "execution_count": 21,
   "id": "96d6c234",
   "metadata": {},
   "outputs": [
    {
     "name": "stdout",
     "output_type": "stream",
     "text": [
      "중부서 2\n",
      "종로서 3\n",
      "남대문서 1\n",
      "서대문서 2\n",
      "혜화서 3\n"
     ]
    }
   ],
   "source": [
    "for r in ddf.head(5):\n",
    "    print(r['관서명'], r['살인 발생'])"
   ]
  },
  {
   "cell_type": "code",
   "execution_count": 22,
   "id": "e2ec8720",
   "metadata": {},
   "outputs": [
    {
     "data": {
      "text/plain": [
       "163"
      ]
     },
     "execution_count": 22,
     "metadata": {},
     "output_type": "execute_result"
    }
   ],
   "source": [
    "ddf.rdd.map(lambda v:v['살인 발생']).sum()  # 살인 발생의 전체 총합을 구할수 있다."
   ]
  },
  {
   "cell_type": "code",
   "execution_count": 23,
   "id": "a0e26611",
   "metadata": {},
   "outputs": [],
   "source": [
    "sc.stop()"
   ]
  },
  {
   "cell_type": "code",
   "execution_count": null,
   "id": "93e2a98d",
   "metadata": {},
   "outputs": [],
   "source": []
  },
  {
   "cell_type": "code",
   "execution_count": null,
   "id": "f5d93e5a",
   "metadata": {},
   "outputs": [],
   "source": []
  },
  {
   "cell_type": "code",
   "execution_count": null,
   "id": "f9d9361c",
   "metadata": {},
   "outputs": [],
   "source": []
  },
  {
   "cell_type": "code",
   "execution_count": null,
   "id": "12e3573f",
   "metadata": {},
   "outputs": [],
   "source": []
  }
 ],
 "metadata": {
  "kernelspec": {
   "display_name": "Python 3",
   "language": "python",
   "name": "python3"
  },
  "language_info": {
   "codemirror_mode": {
    "name": "ipython",
    "version": 3
   },
   "file_extension": ".py",
   "mimetype": "text/x-python",
   "name": "python",
   "nbconvert_exporter": "python",
   "pygments_lexer": "ipython3",
   "version": "3.8.8"
  }
 },
 "nbformat": 4,
 "nbformat_minor": 5
}
