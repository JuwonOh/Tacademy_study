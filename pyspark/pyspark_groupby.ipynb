{
 "cells": [
  {
   "cell_type": "markdown",
   "metadata": {},
   "source": [
    "# group by를 사용해보자.\n",
    "\n",
    "- groupby는 전처리 과정에서 많이 사용된다."
   ]
  },
  {
   "cell_type": "code",
   "execution_count": 30,
   "metadata": {},
   "outputs": [],
   "source": [
    "from pyspark import SparkContext\n",
    "from pyspark.sql import SQLContext, Row\n",
    "import pandas as pd\n",
    "\n",
    "from pyspark.sql.functions import when, udf, col, regexp_replace\n",
    "from pyspark.sql.types import DoubleType,IntegerType, StringType\n",
    "import pyspark.sql.functions as f"
   ]
  },
  {
   "cell_type": "code",
   "execution_count": 3,
   "metadata": {},
   "outputs": [],
   "source": [
    "sc = SparkContext('local')\n",
    "sqlCtx = SQLContext(sc)"
   ]
  },
  {
   "cell_type": "code",
   "execution_count": 6,
   "metadata": {},
   "outputs": [
    {
     "data": {
      "text/plain": [
       "DataFrame[학년: string, 과목: string, 결과: string, 중간: int, 기말: int]"
      ]
     },
     "execution_count": 6,
     "metadata": {},
     "output_type": "execute_result"
    }
   ],
   "source": [
    "df = sqlCtx.read.csv( 'c:/Users/FX506HM/Dropbox/pythonedu/data/grade.csv',\n",
    "                    header=True, inferSchema=True) # infer schema를 쓰지 않으면 전부 strtfh dlstlrgksek. \n",
    "\n",
    "df"
   ]
  },
  {
   "cell_type": "code",
   "execution_count": 7,
   "metadata": {},
   "outputs": [
    {
     "name": "stdout",
     "output_type": "stream",
     "text": [
      "+-----+----+-----+----+----+\n",
      "| 학년|과목| 결과|중간|기말|\n",
      "+-----+----+-----+----+----+\n",
      "|1학년|국어| 좋음|  80|  90|\n",
      "|1학년|국어| 나쁨|  50|  40|\n",
      "|1학년|국어| 나쁨|  20|  50|\n",
      "|1학년|수학| 좋음|  83|  95|\n",
      "|1학년|수학| 좋음|  93|  86|\n",
      "|2학년|국어| 나쁨|  44|  65|\n",
      "|2학년|국어| 좋음|  95|  98|\n",
      "|2학년|수학| 좋음|  96|  99|\n",
      "|2학년|수학| 나쁨|  57|  69|\n",
      "+-----+----+-----+----+----+\n",
      "\n"
     ]
    }
   ],
   "source": [
    "df.show()"
   ]
  },
  {
   "cell_type": "markdown",
   "metadata": {},
   "source": [
    "# groupby\n",
    "\n",
    "- groupby를 써서 특정 column 별로 집계해보자."
   ]
  },
  {
   "cell_type": "code",
   "execution_count": 10,
   "metadata": {},
   "outputs": [
    {
     "name": "stdout",
     "output_type": "stream",
     "text": [
      "+-----+---------+---------+\n",
      "| 학년|max(중간)|max(기말)|\n",
      "+-----+---------+---------+\n",
      "|2학년|       96|       99|\n",
      "|1학년|       93|       95|\n",
      "+-----+---------+---------+\n",
      "\n"
     ]
    }
   ],
   "source": [
    "df.groupBy(df['학년'])\n",
    "\n",
    "df.groupBy('학년').max().show()"
   ]
  },
  {
   "cell_type": "code",
   "execution_count": 11,
   "metadata": {},
   "outputs": [
    {
     "name": "stdout",
     "output_type": "stream",
     "text": [
      "+-----+---------+---------+\n",
      "| 학년|sum(중간)|sum(기말)|\n",
      "+-----+---------+---------+\n",
      "|2학년|      292|      331|\n",
      "|1학년|      326|      361|\n",
      "+-----+---------+---------+\n",
      "\n"
     ]
    }
   ],
   "source": [
    "df.groupBy('학년').sum().show()"
   ]
  },
  {
   "cell_type": "code",
   "execution_count": 12,
   "metadata": {},
   "outputs": [
    {
     "name": "stdout",
     "output_type": "stream",
     "text": [
      "+-----+---------+---------+\n",
      "| 학년|avg(중간)|avg(기말)|\n",
      "+-----+---------+---------+\n",
      "|2학년|     73.0|    82.75|\n",
      "|1학년|     65.2|     72.2|\n",
      "+-----+---------+---------+\n",
      "\n"
     ]
    }
   ],
   "source": [
    "df.groupBy('학년').avg().show()"
   ]
  },
  {
   "cell_type": "code",
   "execution_count": 13,
   "metadata": {},
   "outputs": [
    {
     "name": "stdout",
     "output_type": "stream",
     "text": [
      "+-----+---------+\n",
      "| 학년|avg(기말)|\n",
      "+-----+---------+\n",
      "|1학년|     72.2|\n",
      "|2학년|    82.75|\n",
      "+-----+---------+\n",
      "\n"
     ]
    }
   ],
   "source": [
    "df.groupBy('학년').avg('기말').orderBy('학년').show()"
   ]
  },
  {
   "cell_type": "code",
   "execution_count": 14,
   "metadata": {},
   "outputs": [
    {
     "name": "stdout",
     "output_type": "stream",
     "text": [
      "+-----+----+---------+---------+\n",
      "| 학년|과목|avg(중간)|avg(기말)|\n",
      "+-----+----+---------+---------+\n",
      "|1학년|국어|     50.0|     60.0|\n",
      "|1학년|수학|     88.0|     90.5|\n",
      "|2학년|수학|     76.5|     84.0|\n",
      "|2학년|국어|     69.5|     81.5|\n",
      "+-----+----+---------+---------+\n",
      "\n"
     ]
    }
   ],
   "source": [
    "# 학년 및 과목별 값을 봐보자.\n",
    "df.groupBy('학년', \"과목\").avg().orderBy('학년').show()"
   ]
  },
  {
   "cell_type": "code",
   "execution_count": 15,
   "metadata": {},
   "outputs": [
    {
     "name": "stdout",
     "output_type": "stream",
     "text": [
      "+-----+---------+\n",
      "| 학년|sum(기말)|\n",
      "+-----+---------+\n",
      "|2학년|      331|\n",
      "|1학년|      361|\n",
      "+-----+---------+\n",
      "\n"
     ]
    }
   ],
   "source": [
    "df.groupBy('학년').agg({'기말': 'sum'}).show()"
   ]
  },
  {
   "cell_type": "code",
   "execution_count": 17,
   "metadata": {},
   "outputs": [
    {
     "name": "stdout",
     "output_type": "stream",
     "text": [
      "+-----+---------+---------+\n",
      "| 학년|중간 합계|중간 평균|\n",
      "+-----+---------+---------+\n",
      "|2학년|      292|     73.0|\n",
      "|1학년|      326|     65.2|\n",
      "+-----+---------+---------+\n",
      "\n"
     ]
    }
   ],
   "source": [
    "df.groupBy('학년').agg(f.sum('중간').alias('중간 합계'), f.avg('중간').alias('중간 평균')).show()"
   ]
  },
  {
   "cell_type": "markdown",
   "metadata": {},
   "source": [
    "# fillna\n",
    "\n",
    "- fillna는 nan data를 채워준다."
   ]
  },
  {
   "cell_type": "code",
   "execution_count": 19,
   "metadata": {},
   "outputs": [
    {
     "name": "stdout",
     "output_type": "stream",
     "text": [
      "+-----+----+-----+----+----+\n",
      "| 학년|과목| 결과|중간|기말|\n",
      "+-----+----+-----+----+----+\n",
      "|1학년|국어| 좋음|  80|  90|\n",
      "|1학년|국어| 나쁨|  50|  40|\n",
      "|1학년|국어| 나쁨|  20|  50|\n",
      "|1학년|수학| 좋음|  83|  95|\n",
      "|1학년|수학| 좋음|  93|  86|\n",
      "|2학년|국어| 나쁨|  44|  65|\n",
      "|2학년|국어| 좋음|  95|  98|\n",
      "|2학년|수학| 좋음|  96|  99|\n",
      "|2학년|수학| 나쁨|  57|  69|\n",
      "+-----+----+-----+----+----+\n",
      "\n"
     ]
    }
   ],
   "source": [
    "df.fillna({'중간':10}).show()"
   ]
  }
 ],
 "metadata": {
  "interpreter": {
   "hash": "ae0355d8f47000475242e6719619542a492c1c559684272368657969ffdf6259"
  },
  "kernelspec": {
   "display_name": "Python 3.8.8 64-bit ('base': conda)",
   "language": "python",
   "name": "python3"
  },
  "language_info": {
   "codemirror_mode": {
    "name": "ipython",
    "version": 3
   },
   "file_extension": ".py",
   "mimetype": "text/x-python",
   "name": "python",
   "nbconvert_exporter": "python",
   "pygments_lexer": "ipython3",
   "version": "3.8.8"
  },
  "orig_nbformat": 4
 },
 "nbformat": 4,
 "nbformat_minor": 2
}
