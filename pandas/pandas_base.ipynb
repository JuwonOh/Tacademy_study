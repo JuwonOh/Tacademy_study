{
 "cells": [
  {
   "cell_type": "code",
   "execution_count": 1,
   "id": "d286614d",
   "metadata": {
    "ExecuteTime": {
     "end_time": "2021-12-22T01:29:14.978597Z",
     "start_time": "2021-12-22T01:29:14.961588Z"
    }
   },
   "outputs": [
    {
     "data": {
      "text/html": [
       "<style>.container { font-weight: bold !important; }</style>"
      ],
      "text/plain": [
       "<IPython.core.display.HTML object>"
      ]
     },
     "metadata": {},
     "output_type": "display_data"
    },
    {
     "data": {
      "text/html": [
       "<style>.container { width: 100% !important; }</style>"
      ],
      "text/plain": [
       "<IPython.core.display.HTML object>"
      ]
     },
     "metadata": {},
     "output_type": "display_data"
    }
   ],
   "source": [
    "# 쥬피터노트북 셀 스타일 조절 \n",
    "from IPython.core.display import display, HTML\n",
    "display(HTML(\"<style>.container { font-weight: bold !important; }</style>\"))\n",
    "display(HTML(\"<style>.container { width: 100% !important; }</style>\"))\n",
    "\n",
    "# 경고 메세지 숨기기 \n",
    "import warnings\n",
    "warnings.filterwarnings(action='ignore')"
   ]
  },
  {
   "cell_type": "code",
   "execution_count": 2,
   "id": "a901b004",
   "metadata": {
    "ExecuteTime": {
     "end_time": "2021-12-22T01:29:15.563727Z",
     "start_time": "2021-12-22T01:29:15.133617Z"
    }
   },
   "outputs": [],
   "source": [
    "import numpy as np \n",
    "import pandas as pd"
   ]
  },
  {
   "cell_type": "markdown",
   "id": "b091c5f2",
   "metadata": {},
   "source": [
    "# 시리즈(Series)\n",
    "\n",
    "- 리스트와 딕셔너리 두가지의 장점을 섞어놓은 듯한 자료구조\n",
    "- 리스트나 튜플처럼 숫자인덱싱 \n",
    "- 딕셔너리와 같이 키인덱싱 \n",
    "```\n",
    "pd.Series(data=리스트/튜플/넘파이배열/딕셔너리, index=인덱스리스트)\n",
    "```"
   ]
  },
  {
   "cell_type": "code",
   "execution_count": 22,
   "id": "17acc184",
   "metadata": {
    "ExecuteTime": {
     "end_time": "2021-11-28T05:09:00.278836Z",
     "start_time": "2021-11-28T05:09:00.271828Z"
    }
   },
   "outputs": [
    {
     "data": {
      "text/plain": [
       "a    1\n",
       "b    2\n",
       "c    3\n",
       "d    4\n",
       "e    5\n",
       "dtype: int64"
      ]
     },
     "execution_count": 22,
     "metadata": {},
     "output_type": "execute_result"
    }
   ],
   "source": [
    "# 딕셔너리 => 시리즈 \n",
    "mydict = {'a': 1, 'b': 2, 'c': 3, 'd':4, 'e':5}\n",
    "s1 = pd.Series(data=mydict)\n",
    "s1"
   ]
  },
  {
   "cell_type": "code",
   "execution_count": 23,
   "id": "c51b60e7",
   "metadata": {
    "ExecuteTime": {
     "end_time": "2021-11-28T05:09:03.721439Z",
     "start_time": "2021-11-28T05:09:03.708445Z"
    }
   },
   "outputs": [
    {
     "data": {
      "text/plain": [
       "(1, 1, 5)"
      ]
     },
     "execution_count": 23,
     "metadata": {},
     "output_type": "execute_result"
    }
   ],
   "source": [
    "# 인덱싱 \n",
    "s1['a'] , s1[0] , s1[-1]"
   ]
  },
  {
   "cell_type": "code",
   "execution_count": 24,
   "id": "2782688e",
   "metadata": {
    "ExecuteTime": {
     "end_time": "2021-11-28T05:09:03.991532Z",
     "start_time": "2021-11-28T05:09:03.969531Z"
    }
   },
   "outputs": [
    {
     "name": "stdout",
     "output_type": "stream",
     "text": [
      "a    1\n",
      "b    2\n",
      "dtype: int64\n",
      "\n",
      "a    1\n",
      "b    2\n",
      "c    3\n",
      "dtype: int64\n",
      "\n",
      "a    1\n",
      "c    3\n",
      "e    5\n",
      "dtype: int64\n",
      "\n",
      "e    5\n",
      "d    4\n",
      "c    3\n",
      "b    2\n",
      "a    1\n",
      "dtype: int64\n",
      "\n"
     ]
    }
   ],
   "source": [
    "# 슬라이싱 테스트 \n",
    "print(s1[:2])\n",
    "print()\n",
    "print(s1['a':'c'])\n",
    "print()\n",
    "print(s1[::2])\n",
    "print()\n",
    "print(s1[::-1])\n",
    "print()\n"
   ]
  },
  {
   "cell_type": "code",
   "execution_count": 26,
   "id": "257d7ef0",
   "metadata": {
    "ExecuteTime": {
     "end_time": "2021-11-28T05:09:05.061208Z",
     "start_time": "2021-11-28T05:09:05.046205Z"
    }
   },
   "outputs": [
    {
     "name": "stdout",
     "output_type": "stream",
     "text": [
      "a    1\n",
      "d    4\n",
      "a    1\n",
      "b    2\n",
      "dtype: int64\n"
     ]
    }
   ],
   "source": [
    "# 불연속인 데이타 출력\n",
    "# 시리즈명[[인덱스1, 인덱스2 .... ]]\n",
    "print(s1[[0,3,0, 1]])"
   ]
  },
  {
   "cell_type": "code",
   "execution_count": 15,
   "id": "d287eccb",
   "metadata": {
    "ExecuteTime": {
     "end_time": "2021-11-28T05:06:46.048165Z",
     "start_time": "2021-11-28T05:06:46.030161Z"
    }
   },
   "outputs": [
    {
     "data": {
      "text/plain": [
       "0    10\n",
       "1     9\n",
       "2     8\n",
       "3     7\n",
       "4     6\n",
       "5     5\n",
       "6     4\n",
       "7     3\n",
       "8     2\n",
       "9     1\n",
       "dtype: int32"
      ]
     },
     "execution_count": 15,
     "metadata": {},
     "output_type": "execute_result"
    }
   ],
   "source": [
    "# 넘파이배열 => 시리즈 \n",
    "matrix = np.arange(10,0,-1)\n",
    "matrix\n",
    "s2 = pd.Series(matrix)\n",
    "s2"
   ]
  },
  {
   "cell_type": "code",
   "execution_count": 27,
   "id": "2248ae34",
   "metadata": {
    "ExecuteTime": {
     "end_time": "2021-11-28T05:09:33.257580Z",
     "start_time": "2021-11-28T05:09:33.247578Z"
    }
   },
   "outputs": [
    {
     "data": {
      "text/plain": [
       "(10,\n",
       " 0    10\n",
       " 1     9\n",
       " 2     8\n",
       " 3     7\n",
       " 4     6\n",
       " dtype: int32)"
      ]
     },
     "execution_count": 27,
     "metadata": {},
     "output_type": "execute_result"
    }
   ],
   "source": [
    "s2[0], s2[0:5]"
   ]
  },
  {
   "cell_type": "code",
   "execution_count": 16,
   "id": "d0aed700",
   "metadata": {
    "ExecuteTime": {
     "end_time": "2021-11-28T05:06:48.977613Z",
     "start_time": "2021-11-28T05:06:48.970611Z"
    }
   },
   "outputs": [
    {
     "data": {
      "text/plain": [
       "(55, 5.5, 5.5, 1, 10)"
      ]
     },
     "execution_count": 16,
     "metadata": {},
     "output_type": "execute_result"
    }
   ],
   "source": [
    "np.sum(s2), np.mean(s2), np.median(s2), np.min(s2), np.max(s2)"
   ]
  },
  {
   "cell_type": "code",
   "execution_count": 18,
   "id": "730d03c0",
   "metadata": {
    "ExecuteTime": {
     "end_time": "2021-11-28T05:06:57.896646Z",
     "start_time": "2021-11-28T05:06:57.881643Z"
    }
   },
   "outputs": [
    {
     "data": {
      "text/plain": [
       "('가', '나', True, 100, 3.14)"
      ]
     },
     "execution_count": 18,
     "metadata": {},
     "output_type": "execute_result"
    }
   ],
   "source": [
    "# 튜플 => 시리즈 \n",
    "# 시리즈의 데이터형은 혼합형이 가능하다. \n",
    "# 혼합형은 object \n",
    "myTuple = ('가', '나', True, 100, 3.14)\n",
    "myTuple"
   ]
  },
  {
   "cell_type": "markdown",
   "id": "a2b70aa3",
   "metadata": {
    "ExecuteTime": {
     "end_time": "2021-11-28T05:07:06.764994Z",
     "start_time": "2021-11-28T05:07:06.755992Z"
    }
   },
   "source": [
    "## 시리즈 속성 \n",
    "- dtype 데이타형 확인 \n",
    "- values : 값만 넘파이배열 형태로 출력 \n",
    "- index : 시리즈의 인덱스값만 리스트 형태로 출력 "
   ]
  },
  {
   "cell_type": "code",
   "execution_count": 28,
   "id": "35a39e3b",
   "metadata": {
    "ExecuteTime": {
     "end_time": "2021-11-28T05:09:43.906460Z",
     "start_time": "2021-11-28T05:09:43.897466Z"
    }
   },
   "outputs": [
    {
     "data": {
      "text/plain": [
       "0       가\n",
       "1       나\n",
       "2    True\n",
       "3     100\n",
       "4    3.14\n",
       "dtype: object"
      ]
     },
     "execution_count": 28,
     "metadata": {},
     "output_type": "execute_result"
    }
   ],
   "source": [
    "s3 = pd.Series(myTuple)\n",
    "s3"
   ]
  },
  {
   "cell_type": "code",
   "execution_count": 29,
   "id": "de391025",
   "metadata": {
    "ExecuteTime": {
     "end_time": "2021-11-28T05:09:44.614416Z",
     "start_time": "2021-11-28T05:09:44.609418Z"
    }
   },
   "outputs": [
    {
     "data": {
      "text/plain": [
       "(dtype('O'),\n",
       " array(['가', '나', True, 100, 3.14], dtype=object),\n",
       " RangeIndex(start=0, stop=5, step=1))"
      ]
     },
     "execution_count": 29,
     "metadata": {},
     "output_type": "execute_result"
    }
   ],
   "source": [
    "s3.dtype, s3.values, s3.index"
   ]
  },
  {
   "cell_type": "code",
   "execution_count": 30,
   "id": "64a59eed",
   "metadata": {
    "ExecuteTime": {
     "end_time": "2021-11-28T05:09:49.750326Z",
     "start_time": "2021-11-28T05:09:49.745328Z"
    }
   },
   "outputs": [
    {
     "data": {
      "text/plain": [
       "(bool, int, float)"
      ]
     },
     "execution_count": 30,
     "metadata": {},
     "output_type": "execute_result"
    }
   ],
   "source": [
    "type(s3[2]), type(s3[3]), type(s3[4])"
   ]
  },
  {
   "cell_type": "code",
   "execution_count": 31,
   "id": "05f6993d",
   "metadata": {
    "ExecuteTime": {
     "end_time": "2021-11-28T05:09:56.368099Z",
     "start_time": "2021-11-28T05:09:56.359088Z"
    }
   },
   "outputs": [
    {
     "data": {
      "text/plain": [
       "(dtype('O'),\n",
       " array(['가', '나', True, 100, 3.14], dtype=object),\n",
       " RangeIndex(start=0, stop=5, step=1))"
      ]
     },
     "execution_count": 31,
     "metadata": {},
     "output_type": "execute_result"
    }
   ],
   "source": [
    "s3.dtype, s3.values, s3.index"
   ]
  },
  {
   "cell_type": "code",
   "execution_count": 32,
   "id": "451002d5",
   "metadata": {
    "ExecuteTime": {
     "end_time": "2021-11-28T05:10:29.041869Z",
     "start_time": "2021-11-28T05:10:29.033860Z"
    }
   },
   "outputs": [
    {
     "data": {
      "text/plain": [
       "numpy.ndarray"
      ]
     },
     "execution_count": 32,
     "metadata": {},
     "output_type": "execute_result"
    }
   ],
   "source": [
    "type(s3.values)"
   ]
  },
  {
   "cell_type": "code",
   "execution_count": 33,
   "id": "9c654de9",
   "metadata": {
    "ExecuteTime": {
     "end_time": "2021-11-28T05:10:36.645227Z",
     "start_time": "2021-11-28T05:10:36.633209Z"
    }
   },
   "outputs": [
    {
     "data": {
      "text/plain": [
       "Index(['a', 'b', 'c', 'd', 'e'], dtype='object')"
      ]
     },
     "execution_count": 33,
     "metadata": {},
     "output_type": "execute_result"
    }
   ],
   "source": [
    "s1.index"
   ]
  },
  {
   "cell_type": "code",
   "execution_count": 34,
   "id": "70ec5ca0",
   "metadata": {
    "ExecuteTime": {
     "end_time": "2021-11-28T05:10:42.916808Z",
     "start_time": "2021-11-28T05:10:42.907798Z"
    }
   },
   "outputs": [
    {
     "data": {
      "text/plain": [
       "(['a', 'b', 'c', 'd', 'e'], ('a', 'b', 'c', 'd', 'e'))"
      ]
     },
     "execution_count": 34,
     "metadata": {},
     "output_type": "execute_result"
    }
   ],
   "source": [
    "list(s1.index), tuple(s1.index)"
   ]
  },
  {
   "cell_type": "markdown",
   "id": "c0219249",
   "metadata": {},
   "source": [
    "## 인덱스 이름, 시리즈 이름 지정 \n",
    "\n",
    "- 시리즈명.index.name=인덱스이름\n",
    "- 시리즈명.name=시리즈이름\n",
    "- 시리즈명.index = 리스트"
   ]
  },
  {
   "cell_type": "code",
   "execution_count": 35,
   "id": "cdf9a637",
   "metadata": {
    "ExecuteTime": {
     "end_time": "2021-11-28T05:11:02.771753Z",
     "start_time": "2021-11-28T05:11:02.759763Z"
    }
   },
   "outputs": [
    {
     "data": {
      "text/plain": [
       "회원\n",
       "Charles    35000\n",
       "Julia      71000\n",
       "Hayoung    16000\n",
       "Sangjae     5000\n",
       "Name: 보너스, dtype: int64"
      ]
     },
     "execution_count": 35,
     "metadata": {},
     "output_type": "execute_result"
    }
   ],
   "source": [
    "# 딕셔너리 => 시리즈 \n",
    "sdata = {\"Charles\": 35000, \"Julia\":71000, \"Hayoung\":16000, \"Sangjae\":5000}\n",
    "s4 = pd.Series(sdata, name=\"보너스\")\n",
    "s4.index.name=\"회원\"\n",
    "s4"
   ]
  },
  {
   "cell_type": "code",
   "execution_count": 36,
   "id": "e96e774e",
   "metadata": {
    "ExecuteTime": {
     "end_time": "2021-11-28T05:11:09.588864Z",
     "start_time": "2021-11-28T05:11:09.572862Z"
    }
   },
   "outputs": [
    {
     "data": {
      "text/plain": [
       "회원\n",
       "Charles    35000\n",
       "Julia      71000\n",
       "Hayoung    16000\n",
       "Sangjae     5000\n",
       "Name: 상여금, dtype: int64"
      ]
     },
     "execution_count": 36,
     "metadata": {},
     "output_type": "execute_result"
    }
   ],
   "source": [
    "s4.name = '상여금'\n",
    "s4"
   ]
  },
  {
   "cell_type": "code",
   "execution_count": 37,
   "id": "05a14b6e",
   "metadata": {
    "ExecuteTime": {
     "end_time": "2021-11-28T05:11:15.202280Z",
     "start_time": "2021-11-28T05:11:15.186272Z"
    }
   },
   "outputs": [
    {
     "data": {
      "text/plain": [
       "메뉴1       라면\n",
       "메뉴2      짜장면\n",
       "메뉴3       짬뽕\n",
       "메뉴4    로제떡볶기\n",
       "dtype: object"
      ]
     },
     "execution_count": 37,
     "metadata": {},
     "output_type": "execute_result"
    }
   ],
   "source": [
    "# 리스트 => 시리즈 \n",
    "# 인덱스명은 별도 설정 \n",
    "myList = ['라면', '짜장면', '짬뽕', '로제떡볶기']\n",
    "s5 = pd.Series(myList, index=['메뉴1', '메뉴2', '메뉴3','메뉴4'])\n",
    "s5"
   ]
  },
  {
   "cell_type": "code",
   "execution_count": 38,
   "id": "30a2f43d",
   "metadata": {
    "ExecuteTime": {
     "end_time": "2021-11-28T05:11:21.206770Z",
     "start_time": "2021-11-28T05:11:21.197769Z"
    }
   },
   "outputs": [
    {
     "data": {
      "text/plain": [
       "('짬뽕', '짬뽕')"
      ]
     },
     "execution_count": 38,
     "metadata": {},
     "output_type": "execute_result"
    }
   ],
   "source": [
    "s5['메뉴3'], s5[2]"
   ]
  },
  {
   "cell_type": "markdown",
   "id": "ab12d98d",
   "metadata": {},
   "source": [
    "## 퀴즈 \n",
    "```\n",
    "Quiz 1\n",
    "1) 딕셔너리 생성 \n",
    "   {'a': 'apart', 'b': 'banana', 'c': 'cat'}\n",
    "2) 리스트 생성 \n",
    "  ['아파트', '바나나', '고양이']\n",
    "3) 1번의 키값 + 2번의 데이타 => 시리즈생성 \n",
    "  'a'   '아파트'\n",
    "  'b'   '바나나'\n",
    "  'c'   '고양이'\n",
    "  \n",
    "  \n",
    "Quiz 2\n",
    "아래와 같은 형태로 시리즈를 생성하고 평균값을 출력하여라\n",
    "\n",
    "과목 \n",
    "---------\n",
    "국어    90\n",
    "수학    80\n",
    "영어    100\n",
    "과학    55\n",
    "역사    70 \n",
    "Name:중간고사성적표, dtype=?\n",
    "---------\n",
    "평균 = ?\n",
    "```"
   ]
  },
  {
   "cell_type": "code",
   "execution_count": 40,
   "id": "f0fd98f3",
   "metadata": {
    "ExecuteTime": {
     "end_time": "2021-11-28T05:12:09.753511Z",
     "start_time": "2021-11-28T05:12:09.735494Z"
    }
   },
   "outputs": [
    {
     "data": {
      "text/plain": [
       "a    아파트\n",
       "b    바나나\n",
       "c    고양이\n",
       "dtype: object"
      ]
     },
     "execution_count": 40,
     "metadata": {},
     "output_type": "execute_result"
    }
   ],
   "source": [
    "# Quiz 1\n",
    "a = {'a': 'apart', 'b': 'banana', 'c': 'cat'}\n",
    "b = [\"아파트\", \"바나나\", \"고양이\"]\n",
    "pd.Series(b, index = a.keys())"
   ]
  },
  {
   "cell_type": "code",
   "execution_count": 42,
   "id": "f7807f8c",
   "metadata": {
    "ExecuteTime": {
     "end_time": "2021-11-28T05:12:33.603802Z",
     "start_time": "2021-11-28T05:12:33.597803Z"
    }
   },
   "outputs": [],
   "source": [
    "temp = pd.Series([90,80,100,55,70], index= [\"국어\", \"수학\", \"영어\", \"과학\", \"역사\"])\n",
    "temp.name = \"중간고사성적표\"\n",
    "temp.index.name = \"과목\""
   ]
  },
  {
   "cell_type": "code",
   "execution_count": 44,
   "id": "71a331d9",
   "metadata": {
    "ExecuteTime": {
     "end_time": "2021-11-28T05:12:41.393239Z",
     "start_time": "2021-11-28T05:12:41.385238Z"
    }
   },
   "outputs": [
    {
     "data": {
      "text/plain": [
       "과목\n",
       "국어     90\n",
       "수학     80\n",
       "영어    100\n",
       "과학     55\n",
       "역사     70\n",
       "Name: 중간고사성적표, dtype: int64"
      ]
     },
     "execution_count": 44,
     "metadata": {},
     "output_type": "execute_result"
    }
   ],
   "source": [
    "temp"
   ]
  },
  {
   "cell_type": "markdown",
   "id": "3f860611",
   "metadata": {},
   "source": [
    "# 데이타프레임 생성 \n",
    "\n",
    "- 딕셔너리 + 리스트 => 데이타프레임 \n",
    "- 딕셔너리 + 딕셔너리  => 데이타프레임 \n",
    "- 2차원 리스트  => 데이타프레임 \n",
    "- 2차원 넘파이배열 => 데이타프레임 \n",
    "- 2개이상의 시리즈  => 데이타프레임 \n",
    "\n",
    "```\n",
    "pd.DataFrame(데이타, columns=컬럼명리스트, index=인덱스리스트)\n",
    "```"
   ]
  },
  {
   "cell_type": "markdown",
   "id": "4136dab4",
   "metadata": {},
   "source": [
    "## 2차원 리스트(nested list)를 기반으로 데이터프레임 만들기"
   ]
  },
  {
   "cell_type": "code",
   "execution_count": 46,
   "id": "b2ff833e",
   "metadata": {
    "ExecuteTime": {
     "end_time": "2021-11-28T05:14:15.001267Z",
     "start_time": "2021-11-28T05:14:14.999264Z"
    }
   },
   "outputs": [],
   "source": [
    "\n",
    "data = [ ['Elise', 1.5, 2014],\n",
    "         ['Julia', 1.7, 2015],\n",
    "         ['Jhon', 3.6, 2016],\n",
    "         ['Charles', 2.5, 2017],\n",
    "         ['Charles', 2.9, 2018] ]"
   ]
  },
  {
   "cell_type": "code",
   "execution_count": 47,
   "id": "5dba1dc4",
   "metadata": {
    "ExecuteTime": {
     "end_time": "2021-11-28T05:14:15.406546Z",
     "start_time": "2021-11-28T05:14:15.386532Z"
    }
   },
   "outputs": [
    {
     "data": {
      "text/html": [
       "<div>\n",
       "<style scoped>\n",
       "    .dataframe tbody tr th:only-of-type {\n",
       "        vertical-align: middle;\n",
       "    }\n",
       "\n",
       "    .dataframe tbody tr th {\n",
       "        vertical-align: top;\n",
       "    }\n",
       "\n",
       "    .dataframe thead th {\n",
       "        text-align: right;\n",
       "    }\n",
       "</style>\n",
       "<table border=\"1\" class=\"dataframe\">\n",
       "  <thead>\n",
       "    <tr style=\"text-align: right;\">\n",
       "      <th></th>\n",
       "      <th>name</th>\n",
       "      <th>score</th>\n",
       "      <th>year</th>\n",
       "    </tr>\n",
       "  </thead>\n",
       "  <tbody>\n",
       "    <tr>\n",
       "      <th>10</th>\n",
       "      <td>Elise</td>\n",
       "      <td>1.5</td>\n",
       "      <td>2014</td>\n",
       "    </tr>\n",
       "    <tr>\n",
       "      <th>20</th>\n",
       "      <td>Julia</td>\n",
       "      <td>1.7</td>\n",
       "      <td>2015</td>\n",
       "    </tr>\n",
       "    <tr>\n",
       "      <th>30</th>\n",
       "      <td>Jhon</td>\n",
       "      <td>3.6</td>\n",
       "      <td>2016</td>\n",
       "    </tr>\n",
       "    <tr>\n",
       "      <th>40</th>\n",
       "      <td>Charles</td>\n",
       "      <td>2.5</td>\n",
       "      <td>2017</td>\n",
       "    </tr>\n",
       "    <tr>\n",
       "      <th>50</th>\n",
       "      <td>Charles</td>\n",
       "      <td>2.9</td>\n",
       "      <td>2018</td>\n",
       "    </tr>\n",
       "  </tbody>\n",
       "</table>\n",
       "</div>"
      ],
      "text/plain": [
       "       name  score  year\n",
       "10    Elise    1.5  2014\n",
       "20    Julia    1.7  2015\n",
       "30     Jhon    3.6  2016\n",
       "40  Charles    2.5  2017\n",
       "50  Charles    2.9  2018"
      ]
     },
     "execution_count": 47,
     "metadata": {},
     "output_type": "execute_result"
    }
   ],
   "source": [
    "df1 = pd.DataFrame(data, \n",
    "                   columns = ['name', 'score', 'year'],\n",
    "                   index = range(10, 51, 10))\n",
    "df1"
   ]
  },
  {
   "cell_type": "code",
   "execution_count": 49,
   "id": "a7e57a55",
   "metadata": {
    "ExecuteTime": {
     "end_time": "2021-11-28T05:14:27.182574Z",
     "start_time": "2021-11-28T05:14:27.162563Z"
    }
   },
   "outputs": [
    {
     "data": {
      "text/html": [
       "<div>\n",
       "<style scoped>\n",
       "    .dataframe tbody tr th:only-of-type {\n",
       "        vertical-align: middle;\n",
       "    }\n",
       "\n",
       "    .dataframe tbody tr th {\n",
       "        vertical-align: top;\n",
       "    }\n",
       "\n",
       "    .dataframe thead th {\n",
       "        text-align: right;\n",
       "    }\n",
       "</style>\n",
       "<table border=\"1\" class=\"dataframe\">\n",
       "  <thead>\n",
       "    <tr style=\"text-align: right;\">\n",
       "      <th></th>\n",
       "      <th>name</th>\n",
       "      <th>grade</th>\n",
       "      <th>std_id</th>\n",
       "    </tr>\n",
       "  </thead>\n",
       "  <tbody>\n",
       "    <tr>\n",
       "      <th>10</th>\n",
       "      <td>Elise</td>\n",
       "      <td>1.5</td>\n",
       "      <td>2014</td>\n",
       "    </tr>\n",
       "    <tr>\n",
       "      <th>20</th>\n",
       "      <td>Julia</td>\n",
       "      <td>1.7</td>\n",
       "      <td>2015</td>\n",
       "    </tr>\n",
       "    <tr>\n",
       "      <th>30</th>\n",
       "      <td>Jhon</td>\n",
       "      <td>3.6</td>\n",
       "      <td>2016</td>\n",
       "    </tr>\n",
       "    <tr>\n",
       "      <th>40</th>\n",
       "      <td>Charles</td>\n",
       "      <td>2.5</td>\n",
       "      <td>2017</td>\n",
       "    </tr>\n",
       "    <tr>\n",
       "      <th>50</th>\n",
       "      <td>Charles</td>\n",
       "      <td>2.9</td>\n",
       "      <td>2018</td>\n",
       "    </tr>\n",
       "  </tbody>\n",
       "</table>\n",
       "</div>"
      ],
      "text/plain": [
       "       name  grade  std_id\n",
       "10    Elise    1.5    2014\n",
       "20    Julia    1.7    2015\n",
       "30     Jhon    3.6    2016\n",
       "40  Charles    2.5    2017\n",
       "50  Charles    2.9    2018"
      ]
     },
     "execution_count": 49,
     "metadata": {},
     "output_type": "execute_result"
    }
   ],
   "source": [
    "# 컬럼명 변경 \n",
    "# 데이타프레임명.columns = 리스트\n",
    "df1.columns = ['name', 'grade', 'std_id']\n",
    "df1"
   ]
  },
  {
   "cell_type": "code",
   "execution_count": 51,
   "id": "5eafd42b",
   "metadata": {
    "ExecuteTime": {
     "end_time": "2021-11-28T05:14:42.083581Z",
     "start_time": "2021-11-28T05:14:42.063575Z"
    }
   },
   "outputs": [
    {
     "data": {
      "text/html": [
       "<div>\n",
       "<style scoped>\n",
       "    .dataframe tbody tr th:only-of-type {\n",
       "        vertical-align: middle;\n",
       "    }\n",
       "\n",
       "    .dataframe tbody tr th {\n",
       "        vertical-align: top;\n",
       "    }\n",
       "\n",
       "    .dataframe thead th {\n",
       "        text-align: right;\n",
       "    }\n",
       "</style>\n",
       "<table border=\"1\" class=\"dataframe\">\n",
       "  <thead>\n",
       "    <tr style=\"text-align: right;\">\n",
       "      <th></th>\n",
       "      <th>name</th>\n",
       "      <th>grade</th>\n",
       "      <th>std_id</th>\n",
       "    </tr>\n",
       "  </thead>\n",
       "  <tbody>\n",
       "    <tr>\n",
       "      <th>100</th>\n",
       "      <td>Elise</td>\n",
       "      <td>1.5</td>\n",
       "      <td>2014</td>\n",
       "    </tr>\n",
       "    <tr>\n",
       "      <th>200</th>\n",
       "      <td>Julia</td>\n",
       "      <td>1.7</td>\n",
       "      <td>2015</td>\n",
       "    </tr>\n",
       "    <tr>\n",
       "      <th>300</th>\n",
       "      <td>Jhon</td>\n",
       "      <td>3.6</td>\n",
       "      <td>2016</td>\n",
       "    </tr>\n",
       "    <tr>\n",
       "      <th>400</th>\n",
       "      <td>Charles</td>\n",
       "      <td>2.5</td>\n",
       "      <td>2017</td>\n",
       "    </tr>\n",
       "    <tr>\n",
       "      <th>500</th>\n",
       "      <td>Charles</td>\n",
       "      <td>2.9</td>\n",
       "      <td>2018</td>\n",
       "    </tr>\n",
       "  </tbody>\n",
       "</table>\n",
       "</div>"
      ],
      "text/plain": [
       "        name  grade  std_id\n",
       "100    Elise    1.5    2014\n",
       "200    Julia    1.7    2015\n",
       "300     Jhon    3.6    2016\n",
       "400  Charles    2.5    2017\n",
       "500  Charles    2.9    2018"
      ]
     },
     "execution_count": 51,
     "metadata": {},
     "output_type": "execute_result"
    }
   ],
   "source": [
    "# 인덱스명 수정 \n",
    "# 데이타프레임명.index = 리스트/range()/넘파이배열\n",
    "df1.index = np.arange(100, 501, 100)\n",
    "df1"
   ]
  },
  {
   "cell_type": "code",
   "execution_count": 52,
   "id": "28643111",
   "metadata": {
    "ExecuteTime": {
     "end_time": "2021-11-28T05:15:14.489316Z",
     "start_time": "2021-11-28T05:15:14.474306Z"
    }
   },
   "outputs": [
    {
     "data": {
      "text/plain": [
       "[['Elise', 1.5, 2014],\n",
       " ['Julia', 1.7, 2015],\n",
       " ['Jhon', 3.6, 2016],\n",
       " ['Charles', 2.5, 2017],\n",
       " ['Charles', 2.9, 2018]]"
      ]
     },
     "execution_count": 52,
     "metadata": {},
     "output_type": "execute_result"
    }
   ],
   "source": [
    "## numpy array에서 데이터프레임 만들기\n",
    "data2 = np.random.randint(1,100,50).reshape(-1,5)\n",
    "data"
   ]
  },
  {
   "cell_type": "code",
   "execution_count": 58,
   "id": "23ce940a",
   "metadata": {
    "ExecuteTime": {
     "end_time": "2021-11-28T05:16:14.283682Z",
     "start_time": "2021-11-28T05:16:14.263679Z"
    }
   },
   "outputs": [
    {
     "data": {
      "text/html": [
       "<div>\n",
       "<style scoped>\n",
       "    .dataframe tbody tr th:only-of-type {\n",
       "        vertical-align: middle;\n",
       "    }\n",
       "\n",
       "    .dataframe tbody tr th {\n",
       "        vertical-align: top;\n",
       "    }\n",
       "\n",
       "    .dataframe thead th {\n",
       "        text-align: right;\n",
       "    }\n",
       "</style>\n",
       "<table border=\"1\" class=\"dataframe\">\n",
       "  <thead>\n",
       "    <tr style=\"text-align: right;\">\n",
       "      <th></th>\n",
       "      <th>0</th>\n",
       "      <th>1</th>\n",
       "      <th>2</th>\n",
       "      <th>3</th>\n",
       "      <th>4</th>\n",
       "    </tr>\n",
       "  </thead>\n",
       "  <tbody>\n",
       "    <tr>\n",
       "      <th>0</th>\n",
       "      <td>65</td>\n",
       "      <td>51</td>\n",
       "      <td>70</td>\n",
       "      <td>58</td>\n",
       "      <td>83</td>\n",
       "    </tr>\n",
       "    <tr>\n",
       "      <th>1</th>\n",
       "      <td>30</td>\n",
       "      <td>16</td>\n",
       "      <td>78</td>\n",
       "      <td>33</td>\n",
       "      <td>10</td>\n",
       "    </tr>\n",
       "    <tr>\n",
       "      <th>2</th>\n",
       "      <td>92</td>\n",
       "      <td>28</td>\n",
       "      <td>26</td>\n",
       "      <td>91</td>\n",
       "      <td>41</td>\n",
       "    </tr>\n",
       "    <tr>\n",
       "      <th>3</th>\n",
       "      <td>3</td>\n",
       "      <td>15</td>\n",
       "      <td>5</td>\n",
       "      <td>42</td>\n",
       "      <td>53</td>\n",
       "    </tr>\n",
       "    <tr>\n",
       "      <th>4</th>\n",
       "      <td>71</td>\n",
       "      <td>15</td>\n",
       "      <td>65</td>\n",
       "      <td>5</td>\n",
       "      <td>48</td>\n",
       "    </tr>\n",
       "    <tr>\n",
       "      <th>5</th>\n",
       "      <td>39</td>\n",
       "      <td>92</td>\n",
       "      <td>49</td>\n",
       "      <td>99</td>\n",
       "      <td>14</td>\n",
       "    </tr>\n",
       "    <tr>\n",
       "      <th>6</th>\n",
       "      <td>13</td>\n",
       "      <td>19</td>\n",
       "      <td>98</td>\n",
       "      <td>64</td>\n",
       "      <td>95</td>\n",
       "    </tr>\n",
       "    <tr>\n",
       "      <th>7</th>\n",
       "      <td>14</td>\n",
       "      <td>20</td>\n",
       "      <td>21</td>\n",
       "      <td>91</td>\n",
       "      <td>79</td>\n",
       "    </tr>\n",
       "    <tr>\n",
       "      <th>8</th>\n",
       "      <td>37</td>\n",
       "      <td>25</td>\n",
       "      <td>11</td>\n",
       "      <td>99</td>\n",
       "      <td>2</td>\n",
       "    </tr>\n",
       "    <tr>\n",
       "      <th>9</th>\n",
       "      <td>60</td>\n",
       "      <td>80</td>\n",
       "      <td>81</td>\n",
       "      <td>30</td>\n",
       "      <td>49</td>\n",
       "    </tr>\n",
       "  </tbody>\n",
       "</table>\n",
       "</div>"
      ],
      "text/plain": [
       "    0   1   2   3   4\n",
       "0  65  51  70  58  83\n",
       "1  30  16  78  33  10\n",
       "2  92  28  26  91  41\n",
       "3   3  15   5  42  53\n",
       "4  71  15  65   5  48\n",
       "5  39  92  49  99  14\n",
       "6  13  19  98  64  95\n",
       "7  14  20  21  91  79\n",
       "8  37  25  11  99   2\n",
       "9  60  80  81  30  49"
      ]
     },
     "execution_count": 58,
     "metadata": {},
     "output_type": "execute_result"
    }
   ],
   "source": [
    "df2 = pd.DataFrame(data2)\n",
    "df2"
   ]
  },
  {
   "cell_type": "code",
   "execution_count": 59,
   "id": "06953082",
   "metadata": {
    "ExecuteTime": {
     "end_time": "2021-11-28T05:16:14.839792Z",
     "start_time": "2021-11-28T05:16:14.825790Z"
    }
   },
   "outputs": [
    {
     "data": {
      "text/plain": [
       "[1, 2, 3, 4, 5]"
      ]
     },
     "execution_count": 59,
     "metadata": {},
     "output_type": "execute_result"
    }
   ],
   "source": [
    "# 리스트 for\n",
    "# [최종값 for i in range(start, end, step)]\n",
    "[i for i in range(1, 6)]"
   ]
  },
  {
   "cell_type": "code",
   "execution_count": 60,
   "id": "61237764",
   "metadata": {
    "ExecuteTime": {
     "end_time": "2021-11-28T05:16:15.472130Z",
     "start_time": "2021-11-28T05:16:15.465135Z"
    }
   },
   "outputs": [
    {
     "data": {
      "text/html": [
       "<div>\n",
       "<style scoped>\n",
       "    .dataframe tbody tr th:only-of-type {\n",
       "        vertical-align: middle;\n",
       "    }\n",
       "\n",
       "    .dataframe tbody tr th {\n",
       "        vertical-align: top;\n",
       "    }\n",
       "\n",
       "    .dataframe thead th {\n",
       "        text-align: right;\n",
       "    }\n",
       "</style>\n",
       "<table border=\"1\" class=\"dataframe\">\n",
       "  <thead>\n",
       "    <tr style=\"text-align: right;\">\n",
       "      <th></th>\n",
       "      <th>0</th>\n",
       "      <th>1</th>\n",
       "      <th>2</th>\n",
       "      <th>3</th>\n",
       "      <th>4</th>\n",
       "    </tr>\n",
       "  </thead>\n",
       "  <tbody>\n",
       "    <tr>\n",
       "      <th>0</th>\n",
       "      <td>65</td>\n",
       "      <td>51</td>\n",
       "      <td>70</td>\n",
       "      <td>58</td>\n",
       "      <td>83</td>\n",
       "    </tr>\n",
       "    <tr>\n",
       "      <th>1</th>\n",
       "      <td>30</td>\n",
       "      <td>16</td>\n",
       "      <td>78</td>\n",
       "      <td>33</td>\n",
       "      <td>10</td>\n",
       "    </tr>\n",
       "    <tr>\n",
       "      <th>2</th>\n",
       "      <td>92</td>\n",
       "      <td>28</td>\n",
       "      <td>26</td>\n",
       "      <td>91</td>\n",
       "      <td>41</td>\n",
       "    </tr>\n",
       "    <tr>\n",
       "      <th>3</th>\n",
       "      <td>3</td>\n",
       "      <td>15</td>\n",
       "      <td>5</td>\n",
       "      <td>42</td>\n",
       "      <td>53</td>\n",
       "    </tr>\n",
       "    <tr>\n",
       "      <th>4</th>\n",
       "      <td>71</td>\n",
       "      <td>15</td>\n",
       "      <td>65</td>\n",
       "      <td>5</td>\n",
       "      <td>48</td>\n",
       "    </tr>\n",
       "    <tr>\n",
       "      <th>5</th>\n",
       "      <td>39</td>\n",
       "      <td>92</td>\n",
       "      <td>49</td>\n",
       "      <td>99</td>\n",
       "      <td>14</td>\n",
       "    </tr>\n",
       "    <tr>\n",
       "      <th>6</th>\n",
       "      <td>13</td>\n",
       "      <td>19</td>\n",
       "      <td>98</td>\n",
       "      <td>64</td>\n",
       "      <td>95</td>\n",
       "    </tr>\n",
       "    <tr>\n",
       "      <th>7</th>\n",
       "      <td>14</td>\n",
       "      <td>20</td>\n",
       "      <td>21</td>\n",
       "      <td>91</td>\n",
       "      <td>79</td>\n",
       "    </tr>\n",
       "    <tr>\n",
       "      <th>8</th>\n",
       "      <td>37</td>\n",
       "      <td>25</td>\n",
       "      <td>11</td>\n",
       "      <td>99</td>\n",
       "      <td>2</td>\n",
       "    </tr>\n",
       "    <tr>\n",
       "      <th>9</th>\n",
       "      <td>60</td>\n",
       "      <td>80</td>\n",
       "      <td>81</td>\n",
       "      <td>30</td>\n",
       "      <td>49</td>\n",
       "    </tr>\n",
       "  </tbody>\n",
       "</table>\n",
       "</div>"
      ],
      "text/plain": [
       "    0   1   2   3   4\n",
       "0  65  51  70  58  83\n",
       "1  30  16  78  33  10\n",
       "2  92  28  26  91  41\n",
       "3   3  15   5  42  53\n",
       "4  71  15  65   5  48\n",
       "5  39  92  49  99  14\n",
       "6  13  19  98  64  95\n",
       "7  14  20  21  91  79\n",
       "8  37  25  11  99   2\n",
       "9  60  80  81  30  49"
      ]
     },
     "execution_count": 60,
     "metadata": {},
     "output_type": "execute_result"
    }
   ],
   "source": [
    "df2"
   ]
  },
  {
   "cell_type": "code",
   "execution_count": 62,
   "id": "a5953b3d",
   "metadata": {
    "ExecuteTime": {
     "end_time": "2021-11-28T05:16:20.402153Z",
     "start_time": "2021-11-28T05:16:20.388148Z"
    },
    "scrolled": true
   },
   "outputs": [
    {
     "data": {
      "text/html": [
       "<div>\n",
       "<style scoped>\n",
       "    .dataframe tbody tr th:only-of-type {\n",
       "        vertical-align: middle;\n",
       "    }\n",
       "\n",
       "    .dataframe tbody tr th {\n",
       "        vertical-align: top;\n",
       "    }\n",
       "\n",
       "    .dataframe thead th {\n",
       "        text-align: right;\n",
       "    }\n",
       "</style>\n",
       "<table border=\"1\" class=\"dataframe\">\n",
       "  <thead>\n",
       "    <tr style=\"text-align: right;\">\n",
       "      <th></th>\n",
       "      <th>col1</th>\n",
       "      <th>col2</th>\n",
       "      <th>col3</th>\n",
       "      <th>col4</th>\n",
       "      <th>col5</th>\n",
       "    </tr>\n",
       "  </thead>\n",
       "  <tbody>\n",
       "    <tr>\n",
       "      <th>row1</th>\n",
       "      <td>65</td>\n",
       "      <td>51</td>\n",
       "      <td>70</td>\n",
       "      <td>58</td>\n",
       "      <td>83</td>\n",
       "    </tr>\n",
       "    <tr>\n",
       "      <th>row2</th>\n",
       "      <td>30</td>\n",
       "      <td>16</td>\n",
       "      <td>78</td>\n",
       "      <td>33</td>\n",
       "      <td>10</td>\n",
       "    </tr>\n",
       "    <tr>\n",
       "      <th>row3</th>\n",
       "      <td>92</td>\n",
       "      <td>28</td>\n",
       "      <td>26</td>\n",
       "      <td>91</td>\n",
       "      <td>41</td>\n",
       "    </tr>\n",
       "    <tr>\n",
       "      <th>row4</th>\n",
       "      <td>3</td>\n",
       "      <td>15</td>\n",
       "      <td>5</td>\n",
       "      <td>42</td>\n",
       "      <td>53</td>\n",
       "    </tr>\n",
       "    <tr>\n",
       "      <th>row5</th>\n",
       "      <td>71</td>\n",
       "      <td>15</td>\n",
       "      <td>65</td>\n",
       "      <td>5</td>\n",
       "      <td>48</td>\n",
       "    </tr>\n",
       "    <tr>\n",
       "      <th>row6</th>\n",
       "      <td>39</td>\n",
       "      <td>92</td>\n",
       "      <td>49</td>\n",
       "      <td>99</td>\n",
       "      <td>14</td>\n",
       "    </tr>\n",
       "    <tr>\n",
       "      <th>row7</th>\n",
       "      <td>13</td>\n",
       "      <td>19</td>\n",
       "      <td>98</td>\n",
       "      <td>64</td>\n",
       "      <td>95</td>\n",
       "    </tr>\n",
       "    <tr>\n",
       "      <th>row8</th>\n",
       "      <td>14</td>\n",
       "      <td>20</td>\n",
       "      <td>21</td>\n",
       "      <td>91</td>\n",
       "      <td>79</td>\n",
       "    </tr>\n",
       "    <tr>\n",
       "      <th>row9</th>\n",
       "      <td>37</td>\n",
       "      <td>25</td>\n",
       "      <td>11</td>\n",
       "      <td>99</td>\n",
       "      <td>2</td>\n",
       "    </tr>\n",
       "    <tr>\n",
       "      <th>row10</th>\n",
       "      <td>60</td>\n",
       "      <td>80</td>\n",
       "      <td>81</td>\n",
       "      <td>30</td>\n",
       "      <td>49</td>\n",
       "    </tr>\n",
       "  </tbody>\n",
       "</table>\n",
       "</div>"
      ],
      "text/plain": [
       "       col1  col2  col3  col4  col5\n",
       "row1     65    51    70    58    83\n",
       "row2     30    16    78    33    10\n",
       "row3     92    28    26    91    41\n",
       "row4      3    15     5    42    53\n",
       "row5     71    15    65     5    48\n",
       "row6     39    92    49    99    14\n",
       "row7     13    19    98    64    95\n",
       "row8     14    20    21    91    79\n",
       "row9     37    25    11    99     2\n",
       "row10    60    80    81    30    49"
      ]
     },
     "execution_count": 62,
     "metadata": {},
     "output_type": "execute_result"
    }
   ],
   "source": [
    "df2.columns = ['col' + str(i) for i in range(1, 6)]\n",
    "df2.index = ['row' + str(i) for i in range(1, 11)]\n",
    "df2"
   ]
  },
  {
   "cell_type": "markdown",
   "id": "3e2d6460",
   "metadata": {},
   "source": [
    "##딕셔너리 리스트를 기반으로 데이타프레임 \n",
    "\n",
    "- 딕셔너리 리스트란?\n",
    "<br> 딕셔너리의 값이 리스트인 형태 \n",
    "\n",
    "- 딕셔너리 키가 컬럼명, 딕셔너리 값은 컬럼값 \n",
    "- 딕셔너리의 값으로 사용되는 리스트의 길이가 같아야한다. "
   ]
  },
  {
   "cell_type": "code",
   "execution_count": 64,
   "id": "5ac5ae27",
   "metadata": {
    "ExecuteTime": {
     "end_time": "2021-11-28T05:17:24.939578Z",
     "start_time": "2021-11-28T05:17:24.927554Z"
    }
   },
   "outputs": [
    {
     "data": {
      "text/html": [
       "<div>\n",
       "<style scoped>\n",
       "    .dataframe tbody tr th:only-of-type {\n",
       "        vertical-align: middle;\n",
       "    }\n",
       "\n",
       "    .dataframe tbody tr th {\n",
       "        vertical-align: top;\n",
       "    }\n",
       "\n",
       "    .dataframe thead th {\n",
       "        text-align: right;\n",
       "    }\n",
       "</style>\n",
       "<table border=\"1\" class=\"dataframe\">\n",
       "  <thead>\n",
       "    <tr style=\"text-align: right;\">\n",
       "      <th></th>\n",
       "      <th>name</th>\n",
       "      <th>year</th>\n",
       "      <th>points</th>\n",
       "    </tr>\n",
       "  </thead>\n",
       "  <tbody>\n",
       "    <tr>\n",
       "      <th>0</th>\n",
       "      <td>Elise</td>\n",
       "      <td>2014</td>\n",
       "      <td>1.5</td>\n",
       "    </tr>\n",
       "    <tr>\n",
       "      <th>1</th>\n",
       "      <td>Julia</td>\n",
       "      <td>2015</td>\n",
       "      <td>1.7</td>\n",
       "    </tr>\n",
       "    <tr>\n",
       "      <th>2</th>\n",
       "      <td>Jhon</td>\n",
       "      <td>2016</td>\n",
       "      <td>3.6</td>\n",
       "    </tr>\n",
       "    <tr>\n",
       "      <th>3</th>\n",
       "      <td>Charles</td>\n",
       "      <td>2017</td>\n",
       "      <td>2.5</td>\n",
       "    </tr>\n",
       "    <tr>\n",
       "      <th>4</th>\n",
       "      <td>Charles</td>\n",
       "      <td>2018</td>\n",
       "      <td>2.9</td>\n",
       "    </tr>\n",
       "  </tbody>\n",
       "</table>\n",
       "</div>"
      ],
      "text/plain": [
       "      name  year  points\n",
       "0    Elise  2014     1.5\n",
       "1    Julia  2015     1.7\n",
       "2     Jhon  2016     3.6\n",
       "3  Charles  2017     2.5\n",
       "4  Charles  2018     2.9"
      ]
     },
     "execution_count": 64,
     "metadata": {},
     "output_type": "execute_result"
    }
   ],
   "source": [
    "data = {    \"name\":['Elise', 'Julia', 'Jhon', 'Charles', 'Charles'],\n",
    "            # \"year\":[2014, 2015, 2016, 2017, 2018, 2019], # Value Error\n",
    "            \"year\":[2014, 2015, 2016, 2017, 2018],\n",
    "            \"points\":[1.5, 1.7, 3.6, 2.5, 2.9]}\n",
    "df3 = pd.DataFrame(data)\n",
    "\n",
    "df3"
   ]
  },
  {
   "cell_type": "markdown",
   "id": "011c21d6",
   "metadata": {},
   "source": [
    "## 이중 딕셔너리(Nested Dictionary)를 기반으로 데이타프레임 \n",
    "\n",
    "- 이중 딕셔너리(Nested Dictionary)?\n",
    "<br> 딕셔너리의 값이 딕셔너리인 형태 \n",
    "\n",
    "- 딕셔너리 키가 컬럼명\n",
    "- 딕셔너리 값에 있는 딕셔너리의 키는 행이름으로 적용 "
   ]
  },
  {
   "cell_type": "code",
   "execution_count": 66,
   "id": "4f2636c3",
   "metadata": {
    "ExecuteTime": {
     "end_time": "2021-11-28T05:18:08.713656Z",
     "start_time": "2021-11-28T05:18:08.690648Z"
    }
   },
   "outputs": [
    {
     "data": {
      "text/html": [
       "<div>\n",
       "<style scoped>\n",
       "    .dataframe tbody tr th:only-of-type {\n",
       "        vertical-align: middle;\n",
       "    }\n",
       "\n",
       "    .dataframe tbody tr th {\n",
       "        vertical-align: top;\n",
       "    }\n",
       "\n",
       "    .dataframe thead th {\n",
       "        text-align: right;\n",
       "    }\n",
       "</style>\n",
       "<table border=\"1\" class=\"dataframe\">\n",
       "  <thead>\n",
       "    <tr style=\"text-align: right;\">\n",
       "      <th></th>\n",
       "      <th>Nevada</th>\n",
       "      <th>Ohio</th>\n",
       "      <th>LA</th>\n",
       "    </tr>\n",
       "  </thead>\n",
       "  <tbody>\n",
       "    <tr>\n",
       "      <th>2001</th>\n",
       "      <td>2.4</td>\n",
       "      <td>1.7</td>\n",
       "      <td>1.7</td>\n",
       "    </tr>\n",
       "    <tr>\n",
       "      <th>2002</th>\n",
       "      <td>2.9</td>\n",
       "      <td>3.6</td>\n",
       "      <td>3.6</td>\n",
       "    </tr>\n",
       "    <tr>\n",
       "      <th>2000</th>\n",
       "      <td>NaN</td>\n",
       "      <td>1.5</td>\n",
       "      <td>2.2</td>\n",
       "    </tr>\n",
       "    <tr>\n",
       "      <th>2003</th>\n",
       "      <td>NaN</td>\n",
       "      <td>NaN</td>\n",
       "      <td>3.3</td>\n",
       "    </tr>\n",
       "  </tbody>\n",
       "</table>\n",
       "</div>"
      ],
      "text/plain": [
       "      Nevada  Ohio   LA\n",
       "2001     2.4   1.7  1.7\n",
       "2002     2.9   3.6  3.6\n",
       "2000     NaN   1.5  2.2\n",
       "2003     NaN   NaN  3.3"
      ]
     },
     "execution_count": 66,
     "metadata": {},
     "output_type": "execute_result"
    }
   ],
   "source": [
    "data = { 'Nevada':{ 2001:2.4, 2002:2.9 },\n",
    "          'Ohio':{ 2000:1.5, 2001:1.7, 2002:3.6 }, \n",
    "           'LA':{ 2003:3.3, 2002:3.6, 2001:1.7,  2000:2.2 } }\n",
    "df4 = pd.DataFrame(data)\n",
    "df4"
   ]
  },
  {
   "cell_type": "markdown",
   "id": "d50828e2",
   "metadata": {
    "ExecuteTime": {
     "end_time": "2021-11-28T05:18:26.468609Z",
     "start_time": "2021-11-28T05:18:26.465601Z"
    }
   },
   "source": [
    "## 시리즈의 조합으로 데이타프레임 만들기\n",
    "\n",
    "pd.DataFrame([시리즈1, 시리즈2...]) "
   ]
  },
  {
   "cell_type": "code",
   "execution_count": 68,
   "id": "e301b557",
   "metadata": {
    "ExecuteTime": {
     "end_time": "2021-11-28T05:18:46.391293Z",
     "start_time": "2021-11-28T05:18:46.377271Z"
    }
   },
   "outputs": [],
   "source": [
    "s1 = pd.Series({'a':'apple', 'b':'banana', 'c':'cat', 'd':'drama'})\n",
    "s2 = pd.Series({'a':'apart', 'b':'bat', 'c':'cartoon'})"
   ]
  },
  {
   "cell_type": "code",
   "execution_count": 69,
   "id": "f1c245cd",
   "metadata": {
    "ExecuteTime": {
     "end_time": "2021-11-28T05:18:53.575371Z",
     "start_time": "2021-11-28T05:18:53.565371Z"
    }
   },
   "outputs": [
    {
     "data": {
      "text/html": [
       "<div>\n",
       "<style scoped>\n",
       "    .dataframe tbody tr th:only-of-type {\n",
       "        vertical-align: middle;\n",
       "    }\n",
       "\n",
       "    .dataframe tbody tr th {\n",
       "        vertical-align: top;\n",
       "    }\n",
       "\n",
       "    .dataframe thead th {\n",
       "        text-align: right;\n",
       "    }\n",
       "</style>\n",
       "<table border=\"1\" class=\"dataframe\">\n",
       "  <thead>\n",
       "    <tr style=\"text-align: right;\">\n",
       "      <th></th>\n",
       "      <th>a</th>\n",
       "      <th>b</th>\n",
       "      <th>c</th>\n",
       "      <th>d</th>\n",
       "    </tr>\n",
       "  </thead>\n",
       "  <tbody>\n",
       "    <tr>\n",
       "      <th>0</th>\n",
       "      <td>apple</td>\n",
       "      <td>banana</td>\n",
       "      <td>cat</td>\n",
       "      <td>drama</td>\n",
       "    </tr>\n",
       "    <tr>\n",
       "      <th>1</th>\n",
       "      <td>apart</td>\n",
       "      <td>bat</td>\n",
       "      <td>cartoon</td>\n",
       "      <td>NaN</td>\n",
       "    </tr>\n",
       "  </tbody>\n",
       "</table>\n",
       "</div>"
      ],
      "text/plain": [
       "       a       b        c      d\n",
       "0  apple  banana      cat  drama\n",
       "1  apart     bat  cartoon    NaN"
      ]
     },
     "execution_count": 69,
     "metadata": {},
     "output_type": "execute_result"
    }
   ],
   "source": [
    "df5 = pd.DataFrame([s1, s2])\n",
    "df5"
   ]
  },
  {
   "cell_type": "markdown",
   "id": "f97eedd9",
   "metadata": {},
   "source": [
    "## 데이타프레임 속성 \n",
    "\n",
    "```\n",
    "데이타프레임의 행 요소 조회 – 데이타프레임이름.index\n",
    "데이타프레임의 열 요소 조회 – 데이타프레임이름.columns\n",
    "데이타프레임의 요소 값 조회 – 데이타프레임이름.values\n",
    "데이타프레임의 전체구조 – 데이타프레임이름.shape\n",
    "\n",
    "```"
   ]
  },
  {
   "cell_type": "code",
   "execution_count": 70,
   "id": "b872fe8f",
   "metadata": {
    "ExecuteTime": {
     "end_time": "2021-11-28T05:19:34.523448Z",
     "start_time": "2021-11-28T05:19:34.516448Z"
    }
   },
   "outputs": [
    {
     "name": "stdout",
     "output_type": "stream",
     "text": [
      "        name  grade  std_id\n",
      "100    Elise    1.5    2014\n",
      "200    Julia    1.7    2015\n",
      "300     Jhon    3.6    2016\n",
      "400  Charles    2.5    2017\n",
      "500  Charles    2.9    2018\n",
      "\n",
      "Int64Index([100, 200, 300, 400, 500], dtype='int64')\n",
      "Index(['name', 'grade', 'std_id'], dtype='object')\n",
      "\n",
      "[['Elise' 1.5 2014]\n",
      " ['Julia' 1.7 2015]\n",
      " ['Jhon' 3.6 2016]\n",
      " ['Charles' 2.5 2017]\n",
      " ['Charles' 2.9 2018]]\n",
      "\n",
      "(5, 3)\n"
     ]
    }
   ],
   "source": [
    "print(df1)\n",
    "print()\n",
    "print(df1.index)\n",
    "print(df1.columns)\n",
    "print()\n",
    "print(df1.values)\n",
    "print()\n",
    "print(df1.shape)"
   ]
  },
  {
   "cell_type": "code",
   "execution_count": 71,
   "id": "7aafcd4d",
   "metadata": {
    "ExecuteTime": {
     "end_time": "2021-11-28T05:19:44.788446Z",
     "start_time": "2021-11-28T05:19:44.778447Z"
    }
   },
   "outputs": [
    {
     "name": "stdout",
     "output_type": "stream",
     "text": [
      "       col1  col2  col3  col4  col5\n",
      "row1     65    51    70    58    83\n",
      "row2     30    16    78    33    10\n",
      "row3     92    28    26    91    41\n",
      "row4      3    15     5    42    53\n",
      "row5     71    15    65     5    48\n",
      "row6     39    92    49    99    14\n",
      "row7     13    19    98    64    95\n",
      "row8     14    20    21    91    79\n",
      "row9     37    25    11    99     2\n",
      "row10    60    80    81    30    49\n",
      "\n",
      "Index(['row1', 'row2', 'row3', 'row4', 'row5', 'row6', 'row7', 'row8', 'row9',\n",
      "       'row10'],\n",
      "      dtype='object')\n"
     ]
    }
   ],
   "source": [
    "print(df2)\n",
    "print()\n",
    "print(df2.index)"
   ]
  },
  {
   "cell_type": "markdown",
   "id": "fbdd5c30",
   "metadata": {},
   "source": [
    "## 인덱스대표이름과 컬럼대표이름  지정 \n",
    "- index.name\n",
    "- columns.name"
   ]
  },
  {
   "cell_type": "code",
   "execution_count": 72,
   "id": "f1de22ee",
   "metadata": {
    "ExecuteTime": {
     "end_time": "2021-11-28T05:20:05.637882Z",
     "start_time": "2021-11-28T05:20:05.615892Z"
    }
   },
   "outputs": [
    {
     "data": {
      "text/html": [
       "<div>\n",
       "<style scoped>\n",
       "    .dataframe tbody tr th:only-of-type {\n",
       "        vertical-align: middle;\n",
       "    }\n",
       "\n",
       "    .dataframe tbody tr th {\n",
       "        vertical-align: top;\n",
       "    }\n",
       "\n",
       "    .dataframe thead th {\n",
       "        text-align: right;\n",
       "    }\n",
       "</style>\n",
       "<table border=\"1\" class=\"dataframe\">\n",
       "  <thead>\n",
       "    <tr style=\"text-align: right;\">\n",
       "      <th>Info</th>\n",
       "      <th>col1</th>\n",
       "      <th>col2</th>\n",
       "      <th>col3</th>\n",
       "      <th>col4</th>\n",
       "      <th>col5</th>\n",
       "    </tr>\n",
       "    <tr>\n",
       "      <th>Num</th>\n",
       "      <th></th>\n",
       "      <th></th>\n",
       "      <th></th>\n",
       "      <th></th>\n",
       "      <th></th>\n",
       "    </tr>\n",
       "  </thead>\n",
       "  <tbody>\n",
       "    <tr>\n",
       "      <th>row1</th>\n",
       "      <td>65</td>\n",
       "      <td>51</td>\n",
       "      <td>70</td>\n",
       "      <td>58</td>\n",
       "      <td>83</td>\n",
       "    </tr>\n",
       "    <tr>\n",
       "      <th>row2</th>\n",
       "      <td>30</td>\n",
       "      <td>16</td>\n",
       "      <td>78</td>\n",
       "      <td>33</td>\n",
       "      <td>10</td>\n",
       "    </tr>\n",
       "    <tr>\n",
       "      <th>row3</th>\n",
       "      <td>92</td>\n",
       "      <td>28</td>\n",
       "      <td>26</td>\n",
       "      <td>91</td>\n",
       "      <td>41</td>\n",
       "    </tr>\n",
       "    <tr>\n",
       "      <th>row4</th>\n",
       "      <td>3</td>\n",
       "      <td>15</td>\n",
       "      <td>5</td>\n",
       "      <td>42</td>\n",
       "      <td>53</td>\n",
       "    </tr>\n",
       "    <tr>\n",
       "      <th>row5</th>\n",
       "      <td>71</td>\n",
       "      <td>15</td>\n",
       "      <td>65</td>\n",
       "      <td>5</td>\n",
       "      <td>48</td>\n",
       "    </tr>\n",
       "    <tr>\n",
       "      <th>row6</th>\n",
       "      <td>39</td>\n",
       "      <td>92</td>\n",
       "      <td>49</td>\n",
       "      <td>99</td>\n",
       "      <td>14</td>\n",
       "    </tr>\n",
       "    <tr>\n",
       "      <th>row7</th>\n",
       "      <td>13</td>\n",
       "      <td>19</td>\n",
       "      <td>98</td>\n",
       "      <td>64</td>\n",
       "      <td>95</td>\n",
       "    </tr>\n",
       "    <tr>\n",
       "      <th>row8</th>\n",
       "      <td>14</td>\n",
       "      <td>20</td>\n",
       "      <td>21</td>\n",
       "      <td>91</td>\n",
       "      <td>79</td>\n",
       "    </tr>\n",
       "    <tr>\n",
       "      <th>row9</th>\n",
       "      <td>37</td>\n",
       "      <td>25</td>\n",
       "      <td>11</td>\n",
       "      <td>99</td>\n",
       "      <td>2</td>\n",
       "    </tr>\n",
       "    <tr>\n",
       "      <th>row10</th>\n",
       "      <td>60</td>\n",
       "      <td>80</td>\n",
       "      <td>81</td>\n",
       "      <td>30</td>\n",
       "      <td>49</td>\n",
       "    </tr>\n",
       "  </tbody>\n",
       "</table>\n",
       "</div>"
      ],
      "text/plain": [
       "Info   col1  col2  col3  col4  col5\n",
       "Num                                \n",
       "row1     65    51    70    58    83\n",
       "row2     30    16    78    33    10\n",
       "row3     92    28    26    91    41\n",
       "row4      3    15     5    42    53\n",
       "row5     71    15    65     5    48\n",
       "row6     39    92    49    99    14\n",
       "row7     13    19    98    64    95\n",
       "row8     14    20    21    91    79\n",
       "row9     37    25    11    99     2\n",
       "row10    60    80    81    30    49"
      ]
     },
     "execution_count": 72,
     "metadata": {},
     "output_type": "execute_result"
    }
   ],
   "source": [
    "df2.index.name = \"Num\"\n",
    "df2.columns.name = \"Info\"\n",
    "df2\n"
   ]
  },
  {
   "cell_type": "markdown",
   "id": "0c4070c2",
   "metadata": {},
   "source": [
    "## 데이타프레임 정보 확인 \n",
    "- 전체갯수, 결측치, 구조, 데이타형태, 통계(편차, 사분위, 평균) \n",
    "- 데이타프레임.describe()\n",
    "- 데이타프레임.info()\n",
    "- 데이타프레임.dtypes"
   ]
  },
  {
   "cell_type": "code",
   "execution_count": 73,
   "id": "195bc235",
   "metadata": {
    "ExecuteTime": {
     "end_time": "2021-11-28T05:20:25.536843Z",
     "start_time": "2021-11-28T05:20:25.516844Z"
    }
   },
   "outputs": [
    {
     "name": "stdout",
     "output_type": "stream",
     "text": [
      "<class 'pandas.core.frame.DataFrame'>\n",
      "Index: 10 entries, row1 to row10\n",
      "Data columns (total 5 columns):\n",
      " #   Column  Non-Null Count  Dtype\n",
      "---  ------  --------------  -----\n",
      " 0   col1    10 non-null     int32\n",
      " 1   col2    10 non-null     int32\n",
      " 2   col3    10 non-null     int32\n",
      " 3   col4    10 non-null     int32\n",
      " 4   col5    10 non-null     int32\n",
      "dtypes: int32(5)\n",
      "memory usage: 280.0+ bytes\n"
     ]
    }
   ],
   "source": [
    "df2.info()"
   ]
  },
  {
   "cell_type": "code",
   "execution_count": 74,
   "id": "5261ffef",
   "metadata": {
    "ExecuteTime": {
     "end_time": "2021-11-28T05:20:31.717814Z",
     "start_time": "2021-11-28T05:20:31.691810Z"
    }
   },
   "outputs": [
    {
     "data": {
      "text/html": [
       "<div>\n",
       "<style scoped>\n",
       "    .dataframe tbody tr th:only-of-type {\n",
       "        vertical-align: middle;\n",
       "    }\n",
       "\n",
       "    .dataframe tbody tr th {\n",
       "        vertical-align: top;\n",
       "    }\n",
       "\n",
       "    .dataframe thead th {\n",
       "        text-align: right;\n",
       "    }\n",
       "</style>\n",
       "<table border=\"1\" class=\"dataframe\">\n",
       "  <thead>\n",
       "    <tr style=\"text-align: right;\">\n",
       "      <th>Info</th>\n",
       "      <th>col1</th>\n",
       "      <th>col2</th>\n",
       "      <th>col3</th>\n",
       "      <th>col4</th>\n",
       "      <th>col5</th>\n",
       "    </tr>\n",
       "  </thead>\n",
       "  <tbody>\n",
       "    <tr>\n",
       "      <th>count</th>\n",
       "      <td>10.000000</td>\n",
       "      <td>10.000000</td>\n",
       "      <td>10.000000</td>\n",
       "      <td>10.000000</td>\n",
       "      <td>10.000000</td>\n",
       "    </tr>\n",
       "    <tr>\n",
       "      <th>mean</th>\n",
       "      <td>42.400000</td>\n",
       "      <td>36.100000</td>\n",
       "      <td>50.400000</td>\n",
       "      <td>61.200000</td>\n",
       "      <td>47.400000</td>\n",
       "    </tr>\n",
       "    <tr>\n",
       "      <th>std</th>\n",
       "      <td>28.899058</td>\n",
       "      <td>28.497368</td>\n",
       "      <td>32.721722</td>\n",
       "      <td>33.245885</td>\n",
       "      <td>31.941613</td>\n",
       "    </tr>\n",
       "    <tr>\n",
       "      <th>min</th>\n",
       "      <td>3.000000</td>\n",
       "      <td>15.000000</td>\n",
       "      <td>5.000000</td>\n",
       "      <td>5.000000</td>\n",
       "      <td>2.000000</td>\n",
       "    </tr>\n",
       "    <tr>\n",
       "      <th>25%</th>\n",
       "      <td>18.000000</td>\n",
       "      <td>16.750000</td>\n",
       "      <td>22.250000</td>\n",
       "      <td>35.250000</td>\n",
       "      <td>20.750000</td>\n",
       "    </tr>\n",
       "    <tr>\n",
       "      <th>50%</th>\n",
       "      <td>38.000000</td>\n",
       "      <td>22.500000</td>\n",
       "      <td>57.000000</td>\n",
       "      <td>61.000000</td>\n",
       "      <td>48.500000</td>\n",
       "    </tr>\n",
       "    <tr>\n",
       "      <th>75%</th>\n",
       "      <td>63.750000</td>\n",
       "      <td>45.250000</td>\n",
       "      <td>76.000000</td>\n",
       "      <td>91.000000</td>\n",
       "      <td>72.500000</td>\n",
       "    </tr>\n",
       "    <tr>\n",
       "      <th>max</th>\n",
       "      <td>92.000000</td>\n",
       "      <td>92.000000</td>\n",
       "      <td>98.000000</td>\n",
       "      <td>99.000000</td>\n",
       "      <td>95.000000</td>\n",
       "    </tr>\n",
       "  </tbody>\n",
       "</table>\n",
       "</div>"
      ],
      "text/plain": [
       "Info        col1       col2       col3       col4       col5\n",
       "count  10.000000  10.000000  10.000000  10.000000  10.000000\n",
       "mean   42.400000  36.100000  50.400000  61.200000  47.400000\n",
       "std    28.899058  28.497368  32.721722  33.245885  31.941613\n",
       "min     3.000000  15.000000   5.000000   5.000000   2.000000\n",
       "25%    18.000000  16.750000  22.250000  35.250000  20.750000\n",
       "50%    38.000000  22.500000  57.000000  61.000000  48.500000\n",
       "75%    63.750000  45.250000  76.000000  91.000000  72.500000\n",
       "max    92.000000  92.000000  98.000000  99.000000  95.000000"
      ]
     },
     "execution_count": 74,
     "metadata": {},
     "output_type": "execute_result"
    }
   ],
   "source": [
    "df2.describe()"
   ]
  },
  {
   "cell_type": "code",
   "execution_count": 76,
   "id": "a5b571a5",
   "metadata": {
    "ExecuteTime": {
     "end_time": "2021-11-28T05:20:50.954236Z",
     "start_time": "2021-11-28T05:20:50.935218Z"
    }
   },
   "outputs": [
    {
     "data": {
      "text/plain": [
       "name       object\n",
       "year        int64\n",
       "points    float64\n",
       "dtype: object"
      ]
     },
     "execution_count": 76,
     "metadata": {},
     "output_type": "execute_result"
    }
   ],
   "source": [
    "# 각 컬럼의 데이타형 확인 \n",
    "df3.dtypes"
   ]
  },
  {
   "cell_type": "markdown",
   "id": "7bcdf105",
   "metadata": {},
   "source": [
    "# 데이타프레임 조회 \n",
    "\n",
    "- 컬럼 조회 \n",
    "- 행 조회 \n",
    "- 컬럼+행 조회 \n",
    "\n",
    "```\n",
    "데이타프레임[컬럼명]\n",
    "데이타프레임[[컬럼명1, 컬럼명2, 컬럼명3 ....]]\n",
    "\n",
    "데이타프레임.컬럼명 \n",
    "\n",
    "loc : location 행이름, 컬럼명 \n",
    "데이타프레임.loc[행이름]\n",
    "데이타프레임.loc[start:end]\n",
    "데이타프레임.loc[start:end, start:end]\n",
    "\n",
    "\n",
    "iloc : index location 행인덱스, 컬럼인덱스\n",
    "데이타프레임.iloc[행인덱스]\n",
    "데이타프레임.iloc[start:end]\n",
    "데이타프레임.iloc[start:end, start:end]\n",
    "\n",
    "```"
   ]
  },
  {
   "cell_type": "code",
   "execution_count": 77,
   "id": "2fcfe28a",
   "metadata": {
    "ExecuteTime": {
     "end_time": "2021-11-28T05:22:35.983405Z",
     "start_time": "2021-11-28T05:22:35.967402Z"
    }
   },
   "outputs": [
    {
     "data": {
      "text/html": [
       "<div>\n",
       "<style scoped>\n",
       "    .dataframe tbody tr th:only-of-type {\n",
       "        vertical-align: middle;\n",
       "    }\n",
       "\n",
       "    .dataframe tbody tr th {\n",
       "        vertical-align: top;\n",
       "    }\n",
       "\n",
       "    .dataframe thead th {\n",
       "        text-align: right;\n",
       "    }\n",
       "</style>\n",
       "<table border=\"1\" class=\"dataframe\">\n",
       "  <thead>\n",
       "    <tr style=\"text-align: right;\">\n",
       "      <th></th>\n",
       "      <th>name</th>\n",
       "      <th>year</th>\n",
       "      <th>points</th>\n",
       "      <th>penalty</th>\n",
       "    </tr>\n",
       "  </thead>\n",
       "  <tbody>\n",
       "    <tr>\n",
       "      <th>one</th>\n",
       "      <td>Haidi</td>\n",
       "      <td>2014</td>\n",
       "      <td>1.5</td>\n",
       "      <td>1</td>\n",
       "    </tr>\n",
       "    <tr>\n",
       "      <th>two</th>\n",
       "      <td>Haidi</td>\n",
       "      <td>2015</td>\n",
       "      <td>1.7</td>\n",
       "      <td>2</td>\n",
       "    </tr>\n",
       "    <tr>\n",
       "      <th>three</th>\n",
       "      <td>Haidi</td>\n",
       "      <td>2016</td>\n",
       "      <td>3.6</td>\n",
       "      <td>3</td>\n",
       "    </tr>\n",
       "    <tr>\n",
       "      <th>four</th>\n",
       "      <td>Charles</td>\n",
       "      <td>2015</td>\n",
       "      <td>2.5</td>\n",
       "      <td>4</td>\n",
       "    </tr>\n",
       "    <tr>\n",
       "      <th>five</th>\n",
       "      <td>Charles</td>\n",
       "      <td>2017</td>\n",
       "      <td>2.9</td>\n",
       "      <td>5</td>\n",
       "    </tr>\n",
       "  </tbody>\n",
       "</table>\n",
       "</div>"
      ],
      "text/plain": [
       "          name  year  points  penalty\n",
       "one      Haidi  2014     1.5        1\n",
       "two      Haidi  2015     1.7        2\n",
       "three    Haidi  2016     3.6        3\n",
       "four   Charles  2015     2.5        4\n",
       "five   Charles  2017     2.9        5"
      ]
     },
     "execution_count": 77,
     "metadata": {},
     "output_type": "execute_result"
    }
   ],
   "source": [
    "data = { \"name\":[\"Haidi\", \"Haidi\", \"Haidi\", \"Charles\", \"Charles\"],\n",
    "        \"year\":[2014, 2015, 2016, 2015, 2017],\n",
    "        \"points\":[1.5, 1.7, 3.6, 2.5, 2.9], \n",
    "        \"penalty\":[1, 2, 3, 4, 5] }\n",
    "df1 = pd.DataFrame( data, \n",
    "                    index=[\"one\", \"two\", \"three\", \"four\", \"five\"])\n",
    "df1"
   ]
  },
  {
   "cell_type": "code",
   "execution_count": 78,
   "id": "b767c4b4",
   "metadata": {
    "ExecuteTime": {
     "end_time": "2021-11-28T05:22:37.009055Z",
     "start_time": "2021-11-28T05:22:36.993043Z"
    }
   },
   "outputs": [
    {
     "data": {
      "text/plain": [
       "Index(['name', 'year', 'points', 'penalty'], dtype='object')"
      ]
     },
     "execution_count": 78,
     "metadata": {},
     "output_type": "execute_result"
    }
   ],
   "source": [
    "df1.columns"
   ]
  },
  {
   "cell_type": "code",
   "execution_count": 79,
   "id": "db9dcc33",
   "metadata": {
    "ExecuteTime": {
     "end_time": "2021-11-28T05:22:38.438643Z",
     "start_time": "2021-11-28T05:22:38.431655Z"
    }
   },
   "outputs": [
    {
     "data": {
      "text/plain": [
       "Index(['one', 'two', 'three', 'four', 'five'], dtype='object')"
      ]
     },
     "execution_count": 79,
     "metadata": {},
     "output_type": "execute_result"
    }
   ],
   "source": [
    "df1.index"
   ]
  },
  {
   "cell_type": "markdown",
   "id": "2b9cb06d",
   "metadata": {},
   "source": [
    "##### [] 를 이용한 컬럼조회 "
   ]
  },
  {
   "cell_type": "code",
   "execution_count": 80,
   "id": "3fffac76",
   "metadata": {
    "ExecuteTime": {
     "end_time": "2021-11-28T05:22:40.172978Z",
     "start_time": "2021-11-28T05:22:40.166980Z"
    }
   },
   "outputs": [
    {
     "data": {
      "text/plain": [
       "one        Haidi\n",
       "two        Haidi\n",
       "three      Haidi\n",
       "four     Charles\n",
       "five     Charles\n",
       "Name: name, dtype: object"
      ]
     },
     "execution_count": 80,
     "metadata": {},
     "output_type": "execute_result"
    }
   ],
   "source": [
    "# 특정 1개의 컬럼 조회 => 시리즈 \n",
    "# 데이타프레임[컬럼명]\n",
    "df1['name']"
   ]
  },
  {
   "cell_type": "code",
   "execution_count": 8,
   "id": "68dbaf71",
   "metadata": {},
   "outputs": [
    {
     "data": {
      "text/plain": [
       "pandas.core.series.Series"
      ]
     },
     "execution_count": 8,
     "metadata": {},
     "output_type": "execute_result"
    }
   ],
   "source": [
    "type(df1['name'])"
   ]
  },
  {
   "cell_type": "code",
   "execution_count": 9,
   "id": "5382f0ee",
   "metadata": {},
   "outputs": [
    {
     "data": {
      "text/html": [
       "<div>\n",
       "<style scoped>\n",
       "    .dataframe tbody tr th:only-of-type {\n",
       "        vertical-align: middle;\n",
       "    }\n",
       "\n",
       "    .dataframe tbody tr th {\n",
       "        vertical-align: top;\n",
       "    }\n",
       "\n",
       "    .dataframe thead th {\n",
       "        text-align: right;\n",
       "    }\n",
       "</style>\n",
       "<table border=\"1\" class=\"dataframe\">\n",
       "  <thead>\n",
       "    <tr style=\"text-align: right;\">\n",
       "      <th></th>\n",
       "      <th>name</th>\n",
       "    </tr>\n",
       "  </thead>\n",
       "  <tbody>\n",
       "    <tr>\n",
       "      <th>one</th>\n",
       "      <td>Haidi</td>\n",
       "    </tr>\n",
       "    <tr>\n",
       "      <th>two</th>\n",
       "      <td>Haidi</td>\n",
       "    </tr>\n",
       "    <tr>\n",
       "      <th>three</th>\n",
       "      <td>Haidi</td>\n",
       "    </tr>\n",
       "    <tr>\n",
       "      <th>four</th>\n",
       "      <td>Charles</td>\n",
       "    </tr>\n",
       "    <tr>\n",
       "      <th>five</th>\n",
       "      <td>Charles</td>\n",
       "    </tr>\n",
       "  </tbody>\n",
       "</table>\n",
       "</div>"
      ],
      "text/plain": [
       "          name\n",
       "one      Haidi\n",
       "two      Haidi\n",
       "three    Haidi\n",
       "four   Charles\n",
       "five   Charles"
      ]
     },
     "execution_count": 9,
     "metadata": {},
     "output_type": "execute_result"
    }
   ],
   "source": [
    "# 특정 1개의 컬럼 조회 => 데이타프레임\n",
    "# 데이타프레임[[컬럼명]]\n",
    "df1[['name']]"
   ]
  },
  {
   "cell_type": "code",
   "execution_count": 10,
   "id": "3f96c503",
   "metadata": {},
   "outputs": [
    {
     "data": {
      "text/plain": [
       "pandas.core.frame.DataFrame"
      ]
     },
     "execution_count": 10,
     "metadata": {},
     "output_type": "execute_result"
    }
   ],
   "source": [
    "type(df1[['name']])"
   ]
  },
  {
   "cell_type": "code",
   "execution_count": 12,
   "id": "94b16ea1",
   "metadata": {},
   "outputs": [],
   "source": [
    "# KeyError \n",
    "# df1[0]"
   ]
  },
  {
   "cell_type": "code",
   "execution_count": 13,
   "id": "395aef57",
   "metadata": {},
   "outputs": [],
   "source": [
    "# 다수개의 컬럼 조회 => 데이타프레임\n",
    "# 데이타프레임[[컬럼명1, 컬럼명2 ...]]"
   ]
  },
  {
   "cell_type": "code",
   "execution_count": 82,
   "id": "5a2c806b",
   "metadata": {
    "ExecuteTime": {
     "end_time": "2021-11-28T09:23:38.618891Z",
     "start_time": "2021-11-28T09:23:38.598888Z"
    }
   },
   "outputs": [
    {
     "data": {
      "text/html": [
       "<div>\n",
       "<style scoped>\n",
       "    .dataframe tbody tr th:only-of-type {\n",
       "        vertical-align: middle;\n",
       "    }\n",
       "\n",
       "    .dataframe tbody tr th {\n",
       "        vertical-align: top;\n",
       "    }\n",
       "\n",
       "    .dataframe thead th {\n",
       "        text-align: right;\n",
       "    }\n",
       "</style>\n",
       "<table border=\"1\" class=\"dataframe\">\n",
       "  <thead>\n",
       "    <tr style=\"text-align: right;\">\n",
       "      <th></th>\n",
       "      <th>year</th>\n",
       "      <th>name</th>\n",
       "      <th>points</th>\n",
       "    </tr>\n",
       "  </thead>\n",
       "  <tbody>\n",
       "    <tr>\n",
       "      <th>one</th>\n",
       "      <td>2014</td>\n",
       "      <td>Haidi</td>\n",
       "      <td>1.5</td>\n",
       "    </tr>\n",
       "    <tr>\n",
       "      <th>two</th>\n",
       "      <td>2015</td>\n",
       "      <td>Haidi</td>\n",
       "      <td>1.7</td>\n",
       "    </tr>\n",
       "    <tr>\n",
       "      <th>three</th>\n",
       "      <td>2016</td>\n",
       "      <td>Haidi</td>\n",
       "      <td>3.6</td>\n",
       "    </tr>\n",
       "    <tr>\n",
       "      <th>four</th>\n",
       "      <td>2015</td>\n",
       "      <td>Charles</td>\n",
       "      <td>2.5</td>\n",
       "    </tr>\n",
       "    <tr>\n",
       "      <th>five</th>\n",
       "      <td>2017</td>\n",
       "      <td>Charles</td>\n",
       "      <td>2.9</td>\n",
       "    </tr>\n",
       "  </tbody>\n",
       "</table>\n",
       "</div>"
      ],
      "text/plain": [
       "       year     name  points\n",
       "one    2014    Haidi     1.5\n",
       "two    2015    Haidi     1.7\n",
       "three  2016    Haidi     3.6\n",
       "four   2015  Charles     2.5\n",
       "five   2017  Charles     2.9"
      ]
     },
     "execution_count": 82,
     "metadata": {},
     "output_type": "execute_result"
    }
   ],
   "source": [
    "df1[['year', 'name', 'points']]"
   ]
  },
  {
   "cell_type": "code",
   "execution_count": 14,
   "id": "4e468270",
   "metadata": {},
   "outputs": [
    {
     "data": {
      "text/html": [
       "<div>\n",
       "<style scoped>\n",
       "    .dataframe tbody tr th:only-of-type {\n",
       "        vertical-align: middle;\n",
       "    }\n",
       "\n",
       "    .dataframe tbody tr th {\n",
       "        vertical-align: top;\n",
       "    }\n",
       "\n",
       "    .dataframe thead th {\n",
       "        text-align: right;\n",
       "    }\n",
       "</style>\n",
       "<table border=\"1\" class=\"dataframe\">\n",
       "  <thead>\n",
       "    <tr style=\"text-align: right;\">\n",
       "      <th></th>\n",
       "      <th>name</th>\n",
       "      <th>year</th>\n",
       "      <th>points</th>\n",
       "      <th>penalty</th>\n",
       "    </tr>\n",
       "  </thead>\n",
       "  <tbody>\n",
       "    <tr>\n",
       "      <th>one</th>\n",
       "      <td>Haidi</td>\n",
       "      <td>2014</td>\n",
       "      <td>1.5</td>\n",
       "      <td>1</td>\n",
       "    </tr>\n",
       "    <tr>\n",
       "      <th>two</th>\n",
       "      <td>Haidi</td>\n",
       "      <td>2015</td>\n",
       "      <td>1.7</td>\n",
       "      <td>2</td>\n",
       "    </tr>\n",
       "    <tr>\n",
       "      <th>three</th>\n",
       "      <td>Haidi</td>\n",
       "      <td>2016</td>\n",
       "      <td>3.6</td>\n",
       "      <td>3</td>\n",
       "    </tr>\n",
       "    <tr>\n",
       "      <th>four</th>\n",
       "      <td>Charles</td>\n",
       "      <td>2015</td>\n",
       "      <td>2.5</td>\n",
       "      <td>4</td>\n",
       "    </tr>\n",
       "    <tr>\n",
       "      <th>five</th>\n",
       "      <td>Charles</td>\n",
       "      <td>2017</td>\n",
       "      <td>2.9</td>\n",
       "      <td>5</td>\n",
       "    </tr>\n",
       "  </tbody>\n",
       "</table>\n",
       "</div>"
      ],
      "text/plain": [
       "          name  year  points  penalty\n",
       "one      Haidi  2014     1.5        1\n",
       "two      Haidi  2015     1.7        2\n",
       "three    Haidi  2016     3.6        3\n",
       "four   Charles  2015     2.5        4\n",
       "five   Charles  2017     2.9        5"
      ]
     },
     "execution_count": 14,
     "metadata": {},
     "output_type": "execute_result"
    }
   ],
   "source": [
    "df1"
   ]
  },
  {
   "cell_type": "code",
   "execution_count": 87,
   "id": "cd0e4bf5",
   "metadata": {
    "ExecuteTime": {
     "end_time": "2021-11-28T09:24:18.885476Z",
     "start_time": "2021-11-28T09:24:18.871464Z"
    }
   },
   "outputs": [
    {
     "data": {
      "text/html": [
       "<div>\n",
       "<style scoped>\n",
       "    .dataframe tbody tr th:only-of-type {\n",
       "        vertical-align: middle;\n",
       "    }\n",
       "\n",
       "    .dataframe tbody tr th {\n",
       "        vertical-align: top;\n",
       "    }\n",
       "\n",
       "    .dataframe thead th {\n",
       "        text-align: right;\n",
       "    }\n",
       "</style>\n",
       "<table border=\"1\" class=\"dataframe\">\n",
       "  <thead>\n",
       "    <tr style=\"text-align: right;\">\n",
       "      <th></th>\n",
       "      <th>name</th>\n",
       "      <th>year</th>\n",
       "    </tr>\n",
       "  </thead>\n",
       "  <tbody>\n",
       "    <tr>\n",
       "      <th>one</th>\n",
       "      <td>Haidi</td>\n",
       "      <td>2014</td>\n",
       "    </tr>\n",
       "    <tr>\n",
       "      <th>two</th>\n",
       "      <td>Haidi</td>\n",
       "      <td>2015</td>\n",
       "    </tr>\n",
       "    <tr>\n",
       "      <th>three</th>\n",
       "      <td>Haidi</td>\n",
       "      <td>2016</td>\n",
       "    </tr>\n",
       "    <tr>\n",
       "      <th>four</th>\n",
       "      <td>Charles</td>\n",
       "      <td>2015</td>\n",
       "    </tr>\n",
       "    <tr>\n",
       "      <th>five</th>\n",
       "      <td>Charles</td>\n",
       "      <td>2017</td>\n",
       "    </tr>\n",
       "  </tbody>\n",
       "</table>\n",
       "</div>"
      ],
      "text/plain": [
       "          name  year\n",
       "one      Haidi  2014\n",
       "two      Haidi  2015\n",
       "three    Haidi  2016\n",
       "four   Charles  2015\n",
       "five   Charles  2017"
      ]
     },
     "execution_count": 87,
     "metadata": {},
     "output_type": "execute_result"
    }
   ],
   "source": [
    "# 에러 발생 : 슬라이싱 x\n",
    "df1[['name','year']]"
   ]
  },
  {
   "cell_type": "markdown",
   "id": "2e3aa7e3",
   "metadata": {},
   "source": [
    "#####  도트(.) 를 이용한 특정 컬럼 조회  => 시리즈"
   ]
  },
  {
   "cell_type": "code",
   "execution_count": 21,
   "id": "466116ed",
   "metadata": {},
   "outputs": [
    {
     "data": {
      "text/plain": [
       "one        Haidi\n",
       "two        Haidi\n",
       "three      Haidi\n",
       "four     Charles\n",
       "five     Charles\n",
       "Name: name, dtype: object"
      ]
     },
     "execution_count": 21,
     "metadata": {},
     "output_type": "execute_result"
    }
   ],
   "source": [
    "df1.name"
   ]
  },
  {
   "cell_type": "markdown",
   "id": "d1601dae",
   "metadata": {},
   "source": [
    "##### loc 방식으로 컬럼 조회 \n",
    "\n",
    "- 데이타프레임.loc[:, 컬럼명] => 시리즈 \n",
    "- 데이타프레임.loc[:, 컬럼명1:컬럼명2] => 데이타프레임"
   ]
  },
  {
   "cell_type": "code",
   "execution_count": 94,
   "id": "39e50184",
   "metadata": {
    "ExecuteTime": {
     "end_time": "2021-11-28T09:24:56.419647Z",
     "start_time": "2021-11-28T09:24:56.409645Z"
    }
   },
   "outputs": [
    {
     "data": {
      "text/plain": [
       "one        Haidi\n",
       "two        Haidi\n",
       "three      Haidi\n",
       "four     Charles\n",
       "five     Charles\n",
       "Name: name, dtype: object"
      ]
     },
     "execution_count": 94,
     "metadata": {},
     "output_type": "execute_result"
    }
   ],
   "source": [
    "df1.loc[:, 'name']"
   ]
  },
  {
   "cell_type": "code",
   "execution_count": 23,
   "id": "8455af06",
   "metadata": {},
   "outputs": [
    {
     "data": {
      "text/html": [
       "<div>\n",
       "<style scoped>\n",
       "    .dataframe tbody tr th:only-of-type {\n",
       "        vertical-align: middle;\n",
       "    }\n",
       "\n",
       "    .dataframe tbody tr th {\n",
       "        vertical-align: top;\n",
       "    }\n",
       "\n",
       "    .dataframe thead th {\n",
       "        text-align: right;\n",
       "    }\n",
       "</style>\n",
       "<table border=\"1\" class=\"dataframe\">\n",
       "  <thead>\n",
       "    <tr style=\"text-align: right;\">\n",
       "      <th></th>\n",
       "      <th>name</th>\n",
       "      <th>year</th>\n",
       "      <th>points</th>\n",
       "    </tr>\n",
       "  </thead>\n",
       "  <tbody>\n",
       "    <tr>\n",
       "      <th>one</th>\n",
       "      <td>Haidi</td>\n",
       "      <td>2014</td>\n",
       "      <td>1.5</td>\n",
       "    </tr>\n",
       "    <tr>\n",
       "      <th>two</th>\n",
       "      <td>Haidi</td>\n",
       "      <td>2015</td>\n",
       "      <td>1.7</td>\n",
       "    </tr>\n",
       "    <tr>\n",
       "      <th>three</th>\n",
       "      <td>Haidi</td>\n",
       "      <td>2016</td>\n",
       "      <td>3.6</td>\n",
       "    </tr>\n",
       "    <tr>\n",
       "      <th>four</th>\n",
       "      <td>Charles</td>\n",
       "      <td>2015</td>\n",
       "      <td>2.5</td>\n",
       "    </tr>\n",
       "    <tr>\n",
       "      <th>five</th>\n",
       "      <td>Charles</td>\n",
       "      <td>2017</td>\n",
       "      <td>2.9</td>\n",
       "    </tr>\n",
       "  </tbody>\n",
       "</table>\n",
       "</div>"
      ],
      "text/plain": [
       "          name  year  points\n",
       "one      Haidi  2014     1.5\n",
       "two      Haidi  2015     1.7\n",
       "three    Haidi  2016     3.6\n",
       "four   Charles  2015     2.5\n",
       "five   Charles  2017     2.9"
      ]
     },
     "execution_count": 23,
     "metadata": {},
     "output_type": "execute_result"
    }
   ],
   "source": [
    "# 컬럼명을 이용한 슬라이싱 \n",
    "df1.loc[:, 'name':'points']"
   ]
  },
  {
   "cell_type": "markdown",
   "id": "4367a918",
   "metadata": {},
   "source": [
    "##### iloc 방식으로 컬럼 조회  : 위치인덱스 숫자 이용\n",
    "\n",
    "- 데이타프레임.iloc[:, 컬럼인덱스] => 시리즈 \n",
    "- 데이타프레임.iloc[:, 컬럼인덱스1:컬럼인덱스2] => 데이타프레임"
   ]
  },
  {
   "cell_type": "code",
   "execution_count": 96,
   "id": "e7156c22",
   "metadata": {
    "ExecuteTime": {
     "end_time": "2021-11-28T09:26:06.142498Z",
     "start_time": "2021-11-28T09:26:06.124493Z"
    }
   },
   "outputs": [
    {
     "data": {
      "text/plain": [
       "one        Haidi\n",
       "two        Haidi\n",
       "three      Haidi\n",
       "four     Charles\n",
       "five     Charles\n",
       "Name: name, dtype: object"
      ]
     },
     "execution_count": 96,
     "metadata": {},
     "output_type": "execute_result"
    }
   ],
   "source": [
    "# 특정 컬럼 1개 \n",
    "df1.iloc[:, 0]"
   ]
  },
  {
   "cell_type": "code",
   "execution_count": 102,
   "id": "f58cedae",
   "metadata": {
    "ExecuteTime": {
     "end_time": "2021-11-28T09:27:14.135043Z",
     "start_time": "2021-11-28T09:27:14.125047Z"
    }
   },
   "outputs": [
    {
     "ename": "SyntaxError",
     "evalue": "invalid syntax (<ipython-input-102-900dc0b21562>, line 1)",
     "output_type": "error",
     "traceback": [
      "\u001b[1;36m  File \u001b[1;32m\"<ipython-input-102-900dc0b21562>\"\u001b[1;36m, line \u001b[1;32m1\u001b[0m\n\u001b[1;33m    mean()?\u001b[0m\n\u001b[1;37m          ^\u001b[0m\n\u001b[1;31mSyntaxError\u001b[0m\u001b[1;31m:\u001b[0m invalid syntax\n"
     ]
    }
   ],
   "source": [
    "mean()"
   ]
  },
  {
   "cell_type": "code",
   "execution_count": 98,
   "id": "3c354c9d",
   "metadata": {
    "ExecuteTime": {
     "end_time": "2021-11-28T09:26:17.871756Z",
     "start_time": "2021-11-28T09:26:17.862764Z"
    }
   },
   "outputs": [
    {
     "data": {
      "text/html": [
       "<div>\n",
       "<style scoped>\n",
       "    .dataframe tbody tr th:only-of-type {\n",
       "        vertical-align: middle;\n",
       "    }\n",
       "\n",
       "    .dataframe tbody tr th {\n",
       "        vertical-align: top;\n",
       "    }\n",
       "\n",
       "    .dataframe thead th {\n",
       "        text-align: right;\n",
       "    }\n",
       "</style>\n",
       "<table border=\"1\" class=\"dataframe\">\n",
       "  <thead>\n",
       "    <tr style=\"text-align: right;\">\n",
       "      <th></th>\n",
       "      <th>name</th>\n",
       "      <th>year</th>\n",
       "    </tr>\n",
       "  </thead>\n",
       "  <tbody>\n",
       "    <tr>\n",
       "      <th>one</th>\n",
       "      <td>Haidi</td>\n",
       "      <td>2014</td>\n",
       "    </tr>\n",
       "    <tr>\n",
       "      <th>two</th>\n",
       "      <td>Haidi</td>\n",
       "      <td>2015</td>\n",
       "    </tr>\n",
       "    <tr>\n",
       "      <th>three</th>\n",
       "      <td>Haidi</td>\n",
       "      <td>2016</td>\n",
       "    </tr>\n",
       "    <tr>\n",
       "      <th>four</th>\n",
       "      <td>Charles</td>\n",
       "      <td>2015</td>\n",
       "    </tr>\n",
       "    <tr>\n",
       "      <th>five</th>\n",
       "      <td>Charles</td>\n",
       "      <td>2017</td>\n",
       "    </tr>\n",
       "  </tbody>\n",
       "</table>\n",
       "</div>"
      ],
      "text/plain": [
       "          name  year\n",
       "one      Haidi  2014\n",
       "two      Haidi  2015\n",
       "three    Haidi  2016\n",
       "four   Charles  2015\n",
       "five   Charles  2017"
      ]
     },
     "execution_count": 98,
     "metadata": {},
     "output_type": "execute_result"
    }
   ],
   "source": [
    "# 연속 컬럼 슬라이싱 => 데이타프레임\n",
    "df1.iloc[:, 0:2]"
   ]
  },
  {
   "cell_type": "markdown",
   "id": "40f8dd0f",
   "metadata": {},
   "source": [
    "##### loc 방식으로 행 조회 \n",
    "- 데이타프레임.loc[인덱스명] => 시리즈 \n",
    "- 데이타프레임.loc[[인덱스명]] => 데이타프레임\n",
    "- 데이타프레임.loc[인덱스명, :] => 시리즈 \n",
    "- 데이타프레임.loc[인덱스명1:인덱스명2, :] => 데이타프레임\n",
    "- 데이타프레임.loc[[인덱스명1, 인덱스명2 ...], :] => 데이타프레임"
   ]
  },
  {
   "cell_type": "code",
   "execution_count": 32,
   "id": "722cc993",
   "metadata": {},
   "outputs": [
    {
     "data": {
      "text/plain": [
       "name       Haidi\n",
       "year        2016\n",
       "points       3.6\n",
       "penalty        3\n",
       "Name: three, dtype: object"
      ]
     },
     "execution_count": 32,
     "metadata": {},
     "output_type": "execute_result"
    }
   ],
   "source": [
    "# 특정행 조회 => 시리즈 \n",
    "df1.loc['three']"
   ]
  },
  {
   "cell_type": "code",
   "execution_count": 34,
   "id": "81217e88",
   "metadata": {},
   "outputs": [
    {
     "data": {
      "text/plain": [
       "name       Haidi\n",
       "year        2016\n",
       "points       3.6\n",
       "penalty        3\n",
       "Name: three, dtype: object"
      ]
     },
     "execution_count": 34,
     "metadata": {},
     "output_type": "execute_result"
    }
   ],
   "source": [
    "df1.loc['three', :]"
   ]
  },
  {
   "cell_type": "code",
   "execution_count": 33,
   "id": "b0875ac3",
   "metadata": {},
   "outputs": [
    {
     "data": {
      "text/html": [
       "<div>\n",
       "<style scoped>\n",
       "    .dataframe tbody tr th:only-of-type {\n",
       "        vertical-align: middle;\n",
       "    }\n",
       "\n",
       "    .dataframe tbody tr th {\n",
       "        vertical-align: top;\n",
       "    }\n",
       "\n",
       "    .dataframe thead th {\n",
       "        text-align: right;\n",
       "    }\n",
       "</style>\n",
       "<table border=\"1\" class=\"dataframe\">\n",
       "  <thead>\n",
       "    <tr style=\"text-align: right;\">\n",
       "      <th></th>\n",
       "      <th>name</th>\n",
       "      <th>year</th>\n",
       "      <th>points</th>\n",
       "      <th>penalty</th>\n",
       "    </tr>\n",
       "  </thead>\n",
       "  <tbody>\n",
       "    <tr>\n",
       "      <th>three</th>\n",
       "      <td>Haidi</td>\n",
       "      <td>2016</td>\n",
       "      <td>3.6</td>\n",
       "      <td>3</td>\n",
       "    </tr>\n",
       "  </tbody>\n",
       "</table>\n",
       "</div>"
      ],
      "text/plain": [
       "        name  year  points  penalty\n",
       "three  Haidi  2016     3.6        3"
      ]
     },
     "execution_count": 33,
     "metadata": {},
     "output_type": "execute_result"
    }
   ],
   "source": [
    "# 특정행 조회 => 데이타프레임 \n",
    "df1.loc[['three']]"
   ]
  },
  {
   "cell_type": "code",
   "execution_count": 35,
   "id": "a38878e5",
   "metadata": {},
   "outputs": [
    {
     "data": {
      "text/html": [
       "<div>\n",
       "<style scoped>\n",
       "    .dataframe tbody tr th:only-of-type {\n",
       "        vertical-align: middle;\n",
       "    }\n",
       "\n",
       "    .dataframe tbody tr th {\n",
       "        vertical-align: top;\n",
       "    }\n",
       "\n",
       "    .dataframe thead th {\n",
       "        text-align: right;\n",
       "    }\n",
       "</style>\n",
       "<table border=\"1\" class=\"dataframe\">\n",
       "  <thead>\n",
       "    <tr style=\"text-align: right;\">\n",
       "      <th></th>\n",
       "      <th>name</th>\n",
       "      <th>year</th>\n",
       "      <th>points</th>\n",
       "      <th>penalty</th>\n",
       "    </tr>\n",
       "  </thead>\n",
       "  <tbody>\n",
       "    <tr>\n",
       "      <th>two</th>\n",
       "      <td>Haidi</td>\n",
       "      <td>2015</td>\n",
       "      <td>1.7</td>\n",
       "      <td>2</td>\n",
       "    </tr>\n",
       "    <tr>\n",
       "      <th>five</th>\n",
       "      <td>Charles</td>\n",
       "      <td>2017</td>\n",
       "      <td>2.9</td>\n",
       "      <td>5</td>\n",
       "    </tr>\n",
       "  </tbody>\n",
       "</table>\n",
       "</div>"
      ],
      "text/plain": [
       "         name  year  points  penalty\n",
       "two     Haidi  2015     1.7        2\n",
       "five  Charles  2017     2.9        5"
      ]
     },
     "execution_count": 35,
     "metadata": {},
     "output_type": "execute_result"
    }
   ],
   "source": [
    "# 불연속인 행 조회 - two, five\n",
    "df1.loc[['two', 'five']]"
   ]
  },
  {
   "cell_type": "code",
   "execution_count": 36,
   "id": "38627142",
   "metadata": {
    "scrolled": true
   },
   "outputs": [
    {
     "data": {
      "text/html": [
       "<div>\n",
       "<style scoped>\n",
       "    .dataframe tbody tr th:only-of-type {\n",
       "        vertical-align: middle;\n",
       "    }\n",
       "\n",
       "    .dataframe tbody tr th {\n",
       "        vertical-align: top;\n",
       "    }\n",
       "\n",
       "    .dataframe thead th {\n",
       "        text-align: right;\n",
       "    }\n",
       "</style>\n",
       "<table border=\"1\" class=\"dataframe\">\n",
       "  <thead>\n",
       "    <tr style=\"text-align: right;\">\n",
       "      <th></th>\n",
       "      <th>name</th>\n",
       "      <th>year</th>\n",
       "      <th>points</th>\n",
       "      <th>penalty</th>\n",
       "    </tr>\n",
       "  </thead>\n",
       "  <tbody>\n",
       "    <tr>\n",
       "      <th>two</th>\n",
       "      <td>Haidi</td>\n",
       "      <td>2015</td>\n",
       "      <td>1.7</td>\n",
       "      <td>2</td>\n",
       "    </tr>\n",
       "    <tr>\n",
       "      <th>three</th>\n",
       "      <td>Haidi</td>\n",
       "      <td>2016</td>\n",
       "      <td>3.6</td>\n",
       "      <td>3</td>\n",
       "    </tr>\n",
       "    <tr>\n",
       "      <th>four</th>\n",
       "      <td>Charles</td>\n",
       "      <td>2015</td>\n",
       "      <td>2.5</td>\n",
       "      <td>4</td>\n",
       "    </tr>\n",
       "  </tbody>\n",
       "</table>\n",
       "</div>"
      ],
      "text/plain": [
       "          name  year  points  penalty\n",
       "two      Haidi  2015     1.7        2\n",
       "three    Haidi  2016     3.6        3\n",
       "four   Charles  2015     2.5        4"
      ]
     },
     "execution_count": 36,
     "metadata": {},
     "output_type": "execute_result"
    }
   ],
   "source": [
    "# 연속적인 행 조회 => 데이타프레임 슬라이싱 \n",
    "df1.loc['two':'four']"
   ]
  },
  {
   "cell_type": "markdown",
   "id": "a6bdb60c",
   "metadata": {},
   "source": [
    "##### iloc 방식으로 행 조회  : 위치인덱스 숫자 이용\n",
    "\n",
    "- 데이타프레임.iloc[행인덱스] => 시리즈 \n",
    "- 데이타프레임.iloc[행인덱스1:행인덱스2] => 데이타프레임"
   ]
  },
  {
   "cell_type": "code",
   "execution_count": 37,
   "id": "60b4ec36",
   "metadata": {},
   "outputs": [
    {
     "data": {
      "text/plain": [
       "name       Charles\n",
       "year          2017\n",
       "points         2.9\n",
       "penalty          5\n",
       "Name: five, dtype: object"
      ]
     },
     "execution_count": 37,
     "metadata": {},
     "output_type": "execute_result"
    }
   ],
   "source": [
    "# 마지막 행 \n",
    "df1.iloc[-1]"
   ]
  },
  {
   "cell_type": "code",
   "execution_count": 42,
   "id": "c5c8670e",
   "metadata": {},
   "outputs": [
    {
     "data": {
      "text/html": [
       "<div>\n",
       "<style scoped>\n",
       "    .dataframe tbody tr th:only-of-type {\n",
       "        vertical-align: middle;\n",
       "    }\n",
       "\n",
       "    .dataframe tbody tr th {\n",
       "        vertical-align: top;\n",
       "    }\n",
       "\n",
       "    .dataframe thead th {\n",
       "        text-align: right;\n",
       "    }\n",
       "</style>\n",
       "<table border=\"1\" class=\"dataframe\">\n",
       "  <thead>\n",
       "    <tr style=\"text-align: right;\">\n",
       "      <th></th>\n",
       "      <th>name</th>\n",
       "      <th>year</th>\n",
       "      <th>points</th>\n",
       "      <th>penalty</th>\n",
       "    </tr>\n",
       "  </thead>\n",
       "  <tbody>\n",
       "    <tr>\n",
       "      <th>two</th>\n",
       "      <td>Haidi</td>\n",
       "      <td>2015</td>\n",
       "      <td>1.7</td>\n",
       "      <td>2</td>\n",
       "    </tr>\n",
       "    <tr>\n",
       "      <th>three</th>\n",
       "      <td>Haidi</td>\n",
       "      <td>2016</td>\n",
       "      <td>3.6</td>\n",
       "      <td>3</td>\n",
       "    </tr>\n",
       "    <tr>\n",
       "      <th>four</th>\n",
       "      <td>Charles</td>\n",
       "      <td>2015</td>\n",
       "      <td>2.5</td>\n",
       "      <td>4</td>\n",
       "    </tr>\n",
       "  </tbody>\n",
       "</table>\n",
       "</div>"
      ],
      "text/plain": [
       "          name  year  points  penalty\n",
       "two      Haidi  2015     1.7        2\n",
       "three    Haidi  2016     3.6        3\n",
       "four   Charles  2015     2.5        4"
      ]
     },
     "execution_count": 42,
     "metadata": {},
     "output_type": "execute_result"
    }
   ],
   "source": [
    "# 슬라이싱\n",
    "df1.iloc[1:4]"
   ]
  },
  {
   "cell_type": "code",
   "execution_count": 43,
   "id": "44de571c",
   "metadata": {},
   "outputs": [
    {
     "data": {
      "text/html": [
       "<div>\n",
       "<style scoped>\n",
       "    .dataframe tbody tr th:only-of-type {\n",
       "        vertical-align: middle;\n",
       "    }\n",
       "\n",
       "    .dataframe tbody tr th {\n",
       "        vertical-align: top;\n",
       "    }\n",
       "\n",
       "    .dataframe thead th {\n",
       "        text-align: right;\n",
       "    }\n",
       "</style>\n",
       "<table border=\"1\" class=\"dataframe\">\n",
       "  <thead>\n",
       "    <tr style=\"text-align: right;\">\n",
       "      <th></th>\n",
       "      <th>name</th>\n",
       "      <th>year</th>\n",
       "      <th>points</th>\n",
       "      <th>penalty</th>\n",
       "    </tr>\n",
       "  </thead>\n",
       "  <tbody>\n",
       "    <tr>\n",
       "      <th>one</th>\n",
       "      <td>Haidi</td>\n",
       "      <td>2014</td>\n",
       "      <td>1.5</td>\n",
       "      <td>1</td>\n",
       "    </tr>\n",
       "    <tr>\n",
       "      <th>three</th>\n",
       "      <td>Haidi</td>\n",
       "      <td>2016</td>\n",
       "      <td>3.6</td>\n",
       "      <td>3</td>\n",
       "    </tr>\n",
       "    <tr>\n",
       "      <th>five</th>\n",
       "      <td>Charles</td>\n",
       "      <td>2017</td>\n",
       "      <td>2.9</td>\n",
       "      <td>5</td>\n",
       "    </tr>\n",
       "  </tbody>\n",
       "</table>\n",
       "</div>"
      ],
      "text/plain": [
       "          name  year  points  penalty\n",
       "one      Haidi  2014     1.5        1\n",
       "three    Haidi  2016     3.6        3\n",
       "five   Charles  2017     2.9        5"
      ]
     },
     "execution_count": 43,
     "metadata": {},
     "output_type": "execute_result"
    }
   ],
   "source": [
    "# 불연속인 행 조회 \n",
    "df1.iloc[[0, 2, -1]]"
   ]
  },
  {
   "cell_type": "markdown",
   "id": "799eb43b",
   "metadata": {},
   "source": [
    "\n",
    "##### 데이터 프레임 조회 정리\n",
    "- 특정행의 특정열 조회 : 슬라이싱\n",
    "- 데이타프레임명.iloc[start1:end1, start2:end2]\n",
    "- 데이타프레임명.loc[인덱스명1:인덱스명2, 컬럼명1:컬럼명2]\n",
    "\n",
    "- 특정행의 특정열의 값 \n",
    "- 데이타프레임명.iloc[행인덱스, 열인덱스]\n",
    "- 데이타프레임명.loc[행이름, 열이름]"
   ]
  },
  {
   "cell_type": "code",
   "execution_count": 103,
   "id": "5b25e646",
   "metadata": {
    "ExecuteTime": {
     "end_time": "2021-11-28T23:54:16.171823Z",
     "start_time": "2021-11-28T23:54:16.149815Z"
    }
   },
   "outputs": [
    {
     "data": {
      "text/html": [
       "<div>\n",
       "<style scoped>\n",
       "    .dataframe tbody tr th:only-of-type {\n",
       "        vertical-align: middle;\n",
       "    }\n",
       "\n",
       "    .dataframe tbody tr th {\n",
       "        vertical-align: top;\n",
       "    }\n",
       "\n",
       "    .dataframe thead th {\n",
       "        text-align: right;\n",
       "    }\n",
       "</style>\n",
       "<table border=\"1\" class=\"dataframe\">\n",
       "  <thead>\n",
       "    <tr style=\"text-align: right;\">\n",
       "      <th></th>\n",
       "      <th>name</th>\n",
       "      <th>year</th>\n",
       "    </tr>\n",
       "  </thead>\n",
       "  <tbody>\n",
       "    <tr>\n",
       "      <th>two</th>\n",
       "      <td>Haidi</td>\n",
       "      <td>2015</td>\n",
       "    </tr>\n",
       "    <tr>\n",
       "      <th>three</th>\n",
       "      <td>Haidi</td>\n",
       "      <td>2016</td>\n",
       "    </tr>\n",
       "  </tbody>\n",
       "</table>\n",
       "</div>"
      ],
      "text/plain": [
       "        name  year\n",
       "two    Haidi  2015\n",
       "three  Haidi  2016"
      ]
     },
     "execution_count": 103,
     "metadata": {},
     "output_type": "execute_result"
    }
   ],
   "source": [
    "df1.loc['two':'three', 'name':'year']"
   ]
  },
  {
   "cell_type": "code",
   "execution_count": 104,
   "id": "d7c0d78f",
   "metadata": {
    "ExecuteTime": {
     "end_time": "2021-11-28T23:54:51.596922Z",
     "start_time": "2021-11-28T23:54:51.577918Z"
    },
    "scrolled": false
   },
   "outputs": [
    {
     "data": {
      "text/html": [
       "<div>\n",
       "<style scoped>\n",
       "    .dataframe tbody tr th:only-of-type {\n",
       "        vertical-align: middle;\n",
       "    }\n",
       "\n",
       "    .dataframe tbody tr th {\n",
       "        vertical-align: top;\n",
       "    }\n",
       "\n",
       "    .dataframe thead th {\n",
       "        text-align: right;\n",
       "    }\n",
       "</style>\n",
       "<table border=\"1\" class=\"dataframe\">\n",
       "  <thead>\n",
       "    <tr style=\"text-align: right;\">\n",
       "      <th></th>\n",
       "      <th>name</th>\n",
       "      <th>year</th>\n",
       "    </tr>\n",
       "  </thead>\n",
       "  <tbody>\n",
       "    <tr>\n",
       "      <th>two</th>\n",
       "      <td>Haidi</td>\n",
       "      <td>2015</td>\n",
       "    </tr>\n",
       "    <tr>\n",
       "      <th>three</th>\n",
       "      <td>Haidi</td>\n",
       "      <td>2016</td>\n",
       "    </tr>\n",
       "  </tbody>\n",
       "</table>\n",
       "</div>"
      ],
      "text/plain": [
       "        name  year\n",
       "two    Haidi  2015\n",
       "three  Haidi  2016"
      ]
     },
     "execution_count": 104,
     "metadata": {},
     "output_type": "execute_result"
    }
   ],
   "source": [
    "df1.iloc[1:3, 0:2]"
   ]
  },
  {
   "cell_type": "code",
   "execution_count": 105,
   "id": "59c43af4",
   "metadata": {
    "ExecuteTime": {
     "end_time": "2021-11-28T23:54:57.844553Z",
     "start_time": "2021-11-28T23:54:57.827549Z"
    }
   },
   "outputs": [
    {
     "data": {
      "text/plain": [
       "(1.5, 1.5)"
      ]
     },
     "execution_count": 105,
     "metadata": {},
     "output_type": "execute_result"
    }
   ],
   "source": [
    "df1.iloc[0, 2], df1.loc['one', 'points']"
   ]
  },
  {
   "cell_type": "markdown",
   "id": "b31c0c5e",
   "metadata": {},
   "source": [
    "##### 데이터 프레임 조회 메소드\n",
    "\n",
    "- 맨 앞의 특정행의 갯수 조회 - 데이타프레임명.head(n)\n",
    "- 맨뒤의 특정행의 갯수 조회 - 데이타프레임명.tail(n)\n",
    "- n은 기본값 5 \n",
    "- 무작위 특정행의 갯수 조회 - 데이타프레임명.sample(n)\n",
    "- n 은 기본값1"
   ]
  },
  {
   "cell_type": "code",
   "execution_count": 106,
   "id": "dae4e96f",
   "metadata": {
    "ExecuteTime": {
     "end_time": "2021-11-28T23:55:41.341353Z",
     "start_time": "2021-11-28T23:55:41.324352Z"
    }
   },
   "outputs": [],
   "source": [
    "data = np.random.randint(1,300,100).reshape(-1,5)\n",
    "df2 = pd.DataFrame(data)"
   ]
  },
  {
   "cell_type": "code",
   "execution_count": 108,
   "id": "bd227874",
   "metadata": {
    "ExecuteTime": {
     "end_time": "2021-11-28T23:55:53.728183Z",
     "start_time": "2021-11-28T23:55:53.714187Z"
    }
   },
   "outputs": [
    {
     "data": {
      "text/plain": [
       "(20, 5)"
      ]
     },
     "execution_count": 108,
     "metadata": {},
     "output_type": "execute_result"
    }
   ],
   "source": [
    "df2.shape"
   ]
  },
  {
   "cell_type": "code",
   "execution_count": 109,
   "id": "795890f3",
   "metadata": {
    "ExecuteTime": {
     "end_time": "2021-11-28T23:55:58.833118Z",
     "start_time": "2021-11-28T23:55:58.812108Z"
    }
   },
   "outputs": [
    {
     "data": {
      "text/html": [
       "<div>\n",
       "<style scoped>\n",
       "    .dataframe tbody tr th:only-of-type {\n",
       "        vertical-align: middle;\n",
       "    }\n",
       "\n",
       "    .dataframe tbody tr th {\n",
       "        vertical-align: top;\n",
       "    }\n",
       "\n",
       "    .dataframe thead th {\n",
       "        text-align: right;\n",
       "    }\n",
       "</style>\n",
       "<table border=\"1\" class=\"dataframe\">\n",
       "  <thead>\n",
       "    <tr style=\"text-align: right;\">\n",
       "      <th></th>\n",
       "      <th>0</th>\n",
       "      <th>1</th>\n",
       "      <th>2</th>\n",
       "      <th>3</th>\n",
       "      <th>4</th>\n",
       "    </tr>\n",
       "  </thead>\n",
       "  <tbody>\n",
       "    <tr>\n",
       "      <th>0</th>\n",
       "      <td>16</td>\n",
       "      <td>158</td>\n",
       "      <td>269</td>\n",
       "      <td>242</td>\n",
       "      <td>269</td>\n",
       "    </tr>\n",
       "    <tr>\n",
       "      <th>1</th>\n",
       "      <td>84</td>\n",
       "      <td>198</td>\n",
       "      <td>295</td>\n",
       "      <td>190</td>\n",
       "      <td>145</td>\n",
       "    </tr>\n",
       "  </tbody>\n",
       "</table>\n",
       "</div>"
      ],
      "text/plain": [
       "    0    1    2    3    4\n",
       "0  16  158  269  242  269\n",
       "1  84  198  295  190  145"
      ]
     },
     "execution_count": 109,
     "metadata": {},
     "output_type": "execute_result"
    }
   ],
   "source": [
    "df2.head(2)"
   ]
  },
  {
   "cell_type": "code",
   "execution_count": 111,
   "id": "9709b8e3",
   "metadata": {
    "ExecuteTime": {
     "end_time": "2021-11-29T00:00:35.891941Z",
     "start_time": "2021-11-29T00:00:35.875945Z"
    }
   },
   "outputs": [
    {
     "data": {
      "text/html": [
       "<div>\n",
       "<style scoped>\n",
       "    .dataframe tbody tr th:only-of-type {\n",
       "        vertical-align: middle;\n",
       "    }\n",
       "\n",
       "    .dataframe tbody tr th {\n",
       "        vertical-align: top;\n",
       "    }\n",
       "\n",
       "    .dataframe thead th {\n",
       "        text-align: right;\n",
       "    }\n",
       "</style>\n",
       "<table border=\"1\" class=\"dataframe\">\n",
       "  <thead>\n",
       "    <tr style=\"text-align: right;\">\n",
       "      <th></th>\n",
       "      <th>0</th>\n",
       "      <th>1</th>\n",
       "      <th>2</th>\n",
       "      <th>3</th>\n",
       "      <th>4</th>\n",
       "    </tr>\n",
       "  </thead>\n",
       "  <tbody>\n",
       "    <tr>\n",
       "      <th>17</th>\n",
       "      <td>63</td>\n",
       "      <td>106</td>\n",
       "      <td>217</td>\n",
       "      <td>216</td>\n",
       "      <td>15</td>\n",
       "    </tr>\n",
       "    <tr>\n",
       "      <th>18</th>\n",
       "      <td>195</td>\n",
       "      <td>291</td>\n",
       "      <td>169</td>\n",
       "      <td>108</td>\n",
       "      <td>99</td>\n",
       "    </tr>\n",
       "    <tr>\n",
       "      <th>19</th>\n",
       "      <td>116</td>\n",
       "      <td>107</td>\n",
       "      <td>130</td>\n",
       "      <td>281</td>\n",
       "      <td>15</td>\n",
       "    </tr>\n",
       "  </tbody>\n",
       "</table>\n",
       "</div>"
      ],
      "text/plain": [
       "      0    1    2    3   4\n",
       "17   63  106  217  216  15\n",
       "18  195  291  169  108  99\n",
       "19  116  107  130  281  15"
      ]
     },
     "execution_count": 111,
     "metadata": {},
     "output_type": "execute_result"
    }
   ],
   "source": [
    "df2.tail(3)"
   ]
  },
  {
   "cell_type": "code",
   "execution_count": 110,
   "id": "14114efd",
   "metadata": {
    "ExecuteTime": {
     "end_time": "2021-11-29T00:00:27.093548Z",
     "start_time": "2021-11-29T00:00:27.086558Z"
    },
    "scrolled": true
   },
   "outputs": [
    {
     "data": {
      "text/html": [
       "<div>\n",
       "<style scoped>\n",
       "    .dataframe tbody tr th:only-of-type {\n",
       "        vertical-align: middle;\n",
       "    }\n",
       "\n",
       "    .dataframe tbody tr th {\n",
       "        vertical-align: top;\n",
       "    }\n",
       "\n",
       "    .dataframe thead th {\n",
       "        text-align: right;\n",
       "    }\n",
       "</style>\n",
       "<table border=\"1\" class=\"dataframe\">\n",
       "  <thead>\n",
       "    <tr style=\"text-align: right;\">\n",
       "      <th></th>\n",
       "      <th>0</th>\n",
       "      <th>1</th>\n",
       "      <th>2</th>\n",
       "      <th>3</th>\n",
       "      <th>4</th>\n",
       "    </tr>\n",
       "  </thead>\n",
       "  <tbody>\n",
       "    <tr>\n",
       "      <th>9</th>\n",
       "      <td>129</td>\n",
       "      <td>256</td>\n",
       "      <td>276</td>\n",
       "      <td>227</td>\n",
       "      <td>123</td>\n",
       "    </tr>\n",
       "  </tbody>\n",
       "</table>\n",
       "</div>"
      ],
      "text/plain": [
       "     0    1    2    3    4\n",
       "9  129  256  276  227  123"
      ]
     },
     "execution_count": 110,
     "metadata": {},
     "output_type": "execute_result"
    }
   ],
   "source": [
    "df2.sample()"
   ]
  },
  {
   "cell_type": "code",
   "execution_count": 112,
   "id": "19be5fe1",
   "metadata": {
    "ExecuteTime": {
     "end_time": "2021-11-29T00:00:41.535405Z",
     "start_time": "2021-11-29T00:00:41.516395Z"
    }
   },
   "outputs": [
    {
     "data": {
      "text/html": [
       "<div>\n",
       "<style scoped>\n",
       "    .dataframe tbody tr th:only-of-type {\n",
       "        vertical-align: middle;\n",
       "    }\n",
       "\n",
       "    .dataframe tbody tr th {\n",
       "        vertical-align: top;\n",
       "    }\n",
       "\n",
       "    .dataframe thead th {\n",
       "        text-align: right;\n",
       "    }\n",
       "</style>\n",
       "<table border=\"1\" class=\"dataframe\">\n",
       "  <thead>\n",
       "    <tr style=\"text-align: right;\">\n",
       "      <th></th>\n",
       "      <th>0</th>\n",
       "      <th>1</th>\n",
       "      <th>2</th>\n",
       "      <th>3</th>\n",
       "      <th>4</th>\n",
       "    </tr>\n",
       "  </thead>\n",
       "  <tbody>\n",
       "    <tr>\n",
       "      <th>8</th>\n",
       "      <td>73</td>\n",
       "      <td>32</td>\n",
       "      <td>92</td>\n",
       "      <td>130</td>\n",
       "      <td>52</td>\n",
       "    </tr>\n",
       "    <tr>\n",
       "      <th>11</th>\n",
       "      <td>57</td>\n",
       "      <td>209</td>\n",
       "      <td>276</td>\n",
       "      <td>42</td>\n",
       "      <td>202</td>\n",
       "    </tr>\n",
       "    <tr>\n",
       "      <th>16</th>\n",
       "      <td>185</td>\n",
       "      <td>56</td>\n",
       "      <td>233</td>\n",
       "      <td>93</td>\n",
       "      <td>28</td>\n",
       "    </tr>\n",
       "  </tbody>\n",
       "</table>\n",
       "</div>"
      ],
      "text/plain": [
       "      0    1    2    3    4\n",
       "8    73   32   92  130   52\n",
       "11   57  209  276   42  202\n",
       "16  185   56  233   93   28"
      ]
     },
     "execution_count": 112,
     "metadata": {},
     "output_type": "execute_result"
    }
   ],
   "source": [
    "df2.sample(3)"
   ]
  },
  {
   "cell_type": "code",
   "execution_count": 113,
   "id": "51b2c481",
   "metadata": {
    "ExecuteTime": {
     "end_time": "2021-11-29T00:00:50.093624Z",
     "start_time": "2021-11-29T00:00:50.084633Z"
    }
   },
   "outputs": [
    {
     "data": {
      "text/html": [
       "<div>\n",
       "<style scoped>\n",
       "    .dataframe tbody tr th:only-of-type {\n",
       "        vertical-align: middle;\n",
       "    }\n",
       "\n",
       "    .dataframe tbody tr th {\n",
       "        vertical-align: top;\n",
       "    }\n",
       "\n",
       "    .dataframe thead th {\n",
       "        text-align: right;\n",
       "    }\n",
       "</style>\n",
       "<table border=\"1\" class=\"dataframe\">\n",
       "  <thead>\n",
       "    <tr style=\"text-align: right;\">\n",
       "      <th></th>\n",
       "      <th>0</th>\n",
       "      <th>1</th>\n",
       "      <th>2</th>\n",
       "      <th>3</th>\n",
       "      <th>4</th>\n",
       "    </tr>\n",
       "  </thead>\n",
       "  <tbody>\n",
       "    <tr>\n",
       "      <th>0</th>\n",
       "      <td>16</td>\n",
       "      <td>158</td>\n",
       "      <td>269</td>\n",
       "      <td>242</td>\n",
       "      <td>269</td>\n",
       "    </tr>\n",
       "    <tr>\n",
       "      <th>1</th>\n",
       "      <td>84</td>\n",
       "      <td>198</td>\n",
       "      <td>295</td>\n",
       "      <td>190</td>\n",
       "      <td>145</td>\n",
       "    </tr>\n",
       "    <tr>\n",
       "      <th>2</th>\n",
       "      <td>281</td>\n",
       "      <td>65</td>\n",
       "      <td>89</td>\n",
       "      <td>228</td>\n",
       "      <td>78</td>\n",
       "    </tr>\n",
       "    <tr>\n",
       "      <th>3</th>\n",
       "      <td>231</td>\n",
       "      <td>4</td>\n",
       "      <td>259</td>\n",
       "      <td>116</td>\n",
       "      <td>212</td>\n",
       "    </tr>\n",
       "    <tr>\n",
       "      <th>4</th>\n",
       "      <td>77</td>\n",
       "      <td>240</td>\n",
       "      <td>2</td>\n",
       "      <td>200</td>\n",
       "      <td>139</td>\n",
       "    </tr>\n",
       "    <tr>\n",
       "      <th>5</th>\n",
       "      <td>85</td>\n",
       "      <td>143</td>\n",
       "      <td>175</td>\n",
       "      <td>101</td>\n",
       "      <td>138</td>\n",
       "    </tr>\n",
       "    <tr>\n",
       "      <th>6</th>\n",
       "      <td>262</td>\n",
       "      <td>39</td>\n",
       "      <td>170</td>\n",
       "      <td>90</td>\n",
       "      <td>100</td>\n",
       "    </tr>\n",
       "    <tr>\n",
       "      <th>7</th>\n",
       "      <td>249</td>\n",
       "      <td>219</td>\n",
       "      <td>213</td>\n",
       "      <td>210</td>\n",
       "      <td>26</td>\n",
       "    </tr>\n",
       "    <tr>\n",
       "      <th>8</th>\n",
       "      <td>73</td>\n",
       "      <td>32</td>\n",
       "      <td>92</td>\n",
       "      <td>130</td>\n",
       "      <td>52</td>\n",
       "    </tr>\n",
       "    <tr>\n",
       "      <th>9</th>\n",
       "      <td>129</td>\n",
       "      <td>256</td>\n",
       "      <td>276</td>\n",
       "      <td>227</td>\n",
       "      <td>123</td>\n",
       "    </tr>\n",
       "    <tr>\n",
       "      <th>10</th>\n",
       "      <td>3</td>\n",
       "      <td>246</td>\n",
       "      <td>134</td>\n",
       "      <td>148</td>\n",
       "      <td>5</td>\n",
       "    </tr>\n",
       "    <tr>\n",
       "      <th>11</th>\n",
       "      <td>57</td>\n",
       "      <td>209</td>\n",
       "      <td>276</td>\n",
       "      <td>42</td>\n",
       "      <td>202</td>\n",
       "    </tr>\n",
       "    <tr>\n",
       "      <th>12</th>\n",
       "      <td>131</td>\n",
       "      <td>65</td>\n",
       "      <td>12</td>\n",
       "      <td>231</td>\n",
       "      <td>212</td>\n",
       "    </tr>\n",
       "    <tr>\n",
       "      <th>13</th>\n",
       "      <td>86</td>\n",
       "      <td>73</td>\n",
       "      <td>42</td>\n",
       "      <td>269</td>\n",
       "      <td>200</td>\n",
       "    </tr>\n",
       "    <tr>\n",
       "      <th>14</th>\n",
       "      <td>124</td>\n",
       "      <td>268</td>\n",
       "      <td>103</td>\n",
       "      <td>3</td>\n",
       "      <td>200</td>\n",
       "    </tr>\n",
       "    <tr>\n",
       "      <th>15</th>\n",
       "      <td>41</td>\n",
       "      <td>117</td>\n",
       "      <td>277</td>\n",
       "      <td>166</td>\n",
       "      <td>255</td>\n",
       "    </tr>\n",
       "    <tr>\n",
       "      <th>16</th>\n",
       "      <td>185</td>\n",
       "      <td>56</td>\n",
       "      <td>233</td>\n",
       "      <td>93</td>\n",
       "      <td>28</td>\n",
       "    </tr>\n",
       "    <tr>\n",
       "      <th>17</th>\n",
       "      <td>63</td>\n",
       "      <td>106</td>\n",
       "      <td>217</td>\n",
       "      <td>216</td>\n",
       "      <td>15</td>\n",
       "    </tr>\n",
       "    <tr>\n",
       "      <th>18</th>\n",
       "      <td>195</td>\n",
       "      <td>291</td>\n",
       "      <td>169</td>\n",
       "      <td>108</td>\n",
       "      <td>99</td>\n",
       "    </tr>\n",
       "    <tr>\n",
       "      <th>19</th>\n",
       "      <td>116</td>\n",
       "      <td>107</td>\n",
       "      <td>130</td>\n",
       "      <td>281</td>\n",
       "      <td>15</td>\n",
       "    </tr>\n",
       "  </tbody>\n",
       "</table>\n",
       "</div>"
      ],
      "text/plain": [
       "      0    1    2    3    4\n",
       "0    16  158  269  242  269\n",
       "1    84  198  295  190  145\n",
       "2   281   65   89  228   78\n",
       "3   231    4  259  116  212\n",
       "4    77  240    2  200  139\n",
       "5    85  143  175  101  138\n",
       "6   262   39  170   90  100\n",
       "7   249  219  213  210   26\n",
       "8    73   32   92  130   52\n",
       "9   129  256  276  227  123\n",
       "10    3  246  134  148    5\n",
       "11   57  209  276   42  202\n",
       "12  131   65   12  231  212\n",
       "13   86   73   42  269  200\n",
       "14  124  268  103    3  200\n",
       "15   41  117  277  166  255\n",
       "16  185   56  233   93   28\n",
       "17   63  106  217  216   15\n",
       "18  195  291  169  108   99\n",
       "19  116  107  130  281   15"
      ]
     },
     "execution_count": 113,
     "metadata": {},
     "output_type": "execute_result"
    }
   ],
   "source": [
    "df2"
   ]
  },
  {
   "cell_type": "markdown",
   "id": "0e68160c",
   "metadata": {},
   "source": [
    "## 행단위 열단위 데이터 추가\n",
    "\n",
    "- 칼럼추가\n",
    "```\n",
    "데이터프레임[새로운 칼럼명] = 리스트, 넘파이 배열/range()\n",
    "```\n",
    "- 행추가\n",
    "```\n",
    "데이터 프레임.loc[새로운 칼럼명] = 리스트/numpy/range()\n",
    "```"
   ]
  },
  {
   "cell_type": "code",
   "execution_count": 124,
   "id": "d842ada3",
   "metadata": {
    "ExecuteTime": {
     "end_time": "2021-11-29T00:53:15.302867Z",
     "start_time": "2021-11-29T00:53:15.290872Z"
    }
   },
   "outputs": [
    {
     "data": {
      "text/html": [
       "<div>\n",
       "<style scoped>\n",
       "    .dataframe tbody tr th:only-of-type {\n",
       "        vertical-align: middle;\n",
       "    }\n",
       "\n",
       "    .dataframe tbody tr th {\n",
       "        vertical-align: top;\n",
       "    }\n",
       "\n",
       "    .dataframe thead th {\n",
       "        text-align: right;\n",
       "    }\n",
       "</style>\n",
       "<table border=\"1\" class=\"dataframe\">\n",
       "  <thead>\n",
       "    <tr style=\"text-align: right;\">\n",
       "      <th></th>\n",
       "      <th>name</th>\n",
       "      <th>year</th>\n",
       "      <th>points</th>\n",
       "      <th>penalty</th>\n",
       "    </tr>\n",
       "  </thead>\n",
       "  <tbody>\n",
       "    <tr>\n",
       "      <th>one</th>\n",
       "      <td>Haidi</td>\n",
       "      <td>2014</td>\n",
       "      <td>1.5</td>\n",
       "      <td>1</td>\n",
       "    </tr>\n",
       "    <tr>\n",
       "      <th>two</th>\n",
       "      <td>Haidi</td>\n",
       "      <td>2015</td>\n",
       "      <td>1.7</td>\n",
       "      <td>2</td>\n",
       "    </tr>\n",
       "    <tr>\n",
       "      <th>three</th>\n",
       "      <td>Haidi</td>\n",
       "      <td>2016</td>\n",
       "      <td>3.6</td>\n",
       "      <td>3</td>\n",
       "    </tr>\n",
       "    <tr>\n",
       "      <th>four</th>\n",
       "      <td>Charles</td>\n",
       "      <td>2015</td>\n",
       "      <td>2.5</td>\n",
       "      <td>4</td>\n",
       "    </tr>\n",
       "    <tr>\n",
       "      <th>five</th>\n",
       "      <td>Charles</td>\n",
       "      <td>2017</td>\n",
       "      <td>2.9</td>\n",
       "      <td>5</td>\n",
       "    </tr>\n",
       "  </tbody>\n",
       "</table>\n",
       "</div>"
      ],
      "text/plain": [
       "          name  year  points  penalty\n",
       "one      Haidi  2014     1.5        1\n",
       "two      Haidi  2015     1.7        2\n",
       "three    Haidi  2016     3.6        3\n",
       "four   Charles  2015     2.5        4\n",
       "five   Charles  2017     2.9        5"
      ]
     },
     "execution_count": 124,
     "metadata": {},
     "output_type": "execute_result"
    }
   ],
   "source": [
    "data = { \"name\":[\"Haidi\", \"Haidi\", \"Haidi\", \"Charles\", \"Charles\"],\n",
    "        \"year\":[2014, 2015, 2016, 2015, 2017],\n",
    "        \"points\":[1.5, 1.7, 3.6, 2.5, 2.9], \n",
    "        \"penalty\":[1, 2, 3, 4, 5] }\n",
    "df3 = pd.DataFrame( data, \n",
    "                    index=[\"one\", \"two\", \"three\", \"four\", \"five\"])\n",
    "df3"
   ]
  },
  {
   "cell_type": "code",
   "execution_count": 125,
   "id": "7fff487c",
   "metadata": {
    "ExecuteTime": {
     "end_time": "2021-11-29T00:53:15.587965Z",
     "start_time": "2021-11-29T00:53:15.578963Z"
    }
   },
   "outputs": [],
   "source": [
    "## 새로운 column추가\n",
    "df3['id'] = 10"
   ]
  },
  {
   "cell_type": "code",
   "execution_count": 126,
   "id": "e92330a2",
   "metadata": {
    "ExecuteTime": {
     "end_time": "2021-11-29T00:53:15.843008Z",
     "start_time": "2021-11-29T00:53:15.835010Z"
    }
   },
   "outputs": [],
   "source": [
    "df3['addr'] = [\"seoul\", \"ulsan\", \"pusan\", \"guangju\", \"soju\"]"
   ]
  },
  {
   "cell_type": "code",
   "execution_count": 127,
   "id": "37e6762b",
   "metadata": {
    "ExecuteTime": {
     "end_time": "2021-11-29T00:53:16.113551Z",
     "start_time": "2021-11-29T00:53:16.101549Z"
    }
   },
   "outputs": [
    {
     "data": {
      "text/html": [
       "<div>\n",
       "<style scoped>\n",
       "    .dataframe tbody tr th:only-of-type {\n",
       "        vertical-align: middle;\n",
       "    }\n",
       "\n",
       "    .dataframe tbody tr th {\n",
       "        vertical-align: top;\n",
       "    }\n",
       "\n",
       "    .dataframe thead th {\n",
       "        text-align: right;\n",
       "    }\n",
       "</style>\n",
       "<table border=\"1\" class=\"dataframe\">\n",
       "  <thead>\n",
       "    <tr style=\"text-align: right;\">\n",
       "      <th></th>\n",
       "      <th>name</th>\n",
       "      <th>year</th>\n",
       "      <th>points</th>\n",
       "      <th>penalty</th>\n",
       "      <th>id</th>\n",
       "      <th>addr</th>\n",
       "    </tr>\n",
       "  </thead>\n",
       "  <tbody>\n",
       "    <tr>\n",
       "      <th>one</th>\n",
       "      <td>Haidi</td>\n",
       "      <td>2014</td>\n",
       "      <td>1.5</td>\n",
       "      <td>1</td>\n",
       "      <td>10</td>\n",
       "      <td>seoul</td>\n",
       "    </tr>\n",
       "    <tr>\n",
       "      <th>two</th>\n",
       "      <td>Haidi</td>\n",
       "      <td>2015</td>\n",
       "      <td>1.7</td>\n",
       "      <td>2</td>\n",
       "      <td>10</td>\n",
       "      <td>ulsan</td>\n",
       "    </tr>\n",
       "    <tr>\n",
       "      <th>three</th>\n",
       "      <td>Haidi</td>\n",
       "      <td>2016</td>\n",
       "      <td>3.6</td>\n",
       "      <td>3</td>\n",
       "      <td>10</td>\n",
       "      <td>pusan</td>\n",
       "    </tr>\n",
       "    <tr>\n",
       "      <th>four</th>\n",
       "      <td>Charles</td>\n",
       "      <td>2015</td>\n",
       "      <td>2.5</td>\n",
       "      <td>4</td>\n",
       "      <td>10</td>\n",
       "      <td>guangju</td>\n",
       "    </tr>\n",
       "    <tr>\n",
       "      <th>five</th>\n",
       "      <td>Charles</td>\n",
       "      <td>2017</td>\n",
       "      <td>2.9</td>\n",
       "      <td>5</td>\n",
       "      <td>10</td>\n",
       "      <td>soju</td>\n",
       "    </tr>\n",
       "  </tbody>\n",
       "</table>\n",
       "</div>"
      ],
      "text/plain": [
       "          name  year  points  penalty  id     addr\n",
       "one      Haidi  2014     1.5        1  10    seoul\n",
       "two      Haidi  2015     1.7        2  10    ulsan\n",
       "three    Haidi  2016     3.6        3  10    pusan\n",
       "four   Charles  2015     2.5        4  10  guangju\n",
       "five   Charles  2017     2.9        5  10     soju"
      ]
     },
     "execution_count": 127,
     "metadata": {},
     "output_type": "execute_result"
    }
   ],
   "source": [
    "df3"
   ]
  },
  {
   "cell_type": "code",
   "execution_count": 128,
   "id": "858045c6",
   "metadata": {
    "ExecuteTime": {
     "end_time": "2021-11-29T00:53:16.413973Z",
     "start_time": "2021-11-29T00:53:16.406971Z"
    }
   },
   "outputs": [],
   "source": [
    "df3['id'] = range(1, len(df3)+1) "
   ]
  },
  {
   "cell_type": "code",
   "execution_count": 129,
   "id": "9731c90b",
   "metadata": {
    "ExecuteTime": {
     "end_time": "2021-11-29T00:53:16.774292Z",
     "start_time": "2021-11-29T00:53:16.762288Z"
    }
   },
   "outputs": [],
   "source": [
    "df3['bonus'] = df3.points * 100"
   ]
  },
  {
   "cell_type": "code",
   "execution_count": 130,
   "id": "e96065f5",
   "metadata": {
    "ExecuteTime": {
     "end_time": "2021-11-29T00:53:17.164258Z",
     "start_time": "2021-11-29T00:53:17.146255Z"
    }
   },
   "outputs": [],
   "source": [
    "# 행추가\n",
    "df3.loc['six'] = [\"Charles\", 2017, 3.3, 6, 6, \"wc\", 290.0]"
   ]
  },
  {
   "cell_type": "code",
   "execution_count": 131,
   "id": "269f8572",
   "metadata": {
    "ExecuteTime": {
     "end_time": "2021-11-29T00:53:17.495059Z",
     "start_time": "2021-11-29T00:53:17.468040Z"
    }
   },
   "outputs": [
    {
     "data": {
      "text/html": [
       "<div>\n",
       "<style scoped>\n",
       "    .dataframe tbody tr th:only-of-type {\n",
       "        vertical-align: middle;\n",
       "    }\n",
       "\n",
       "    .dataframe tbody tr th {\n",
       "        vertical-align: top;\n",
       "    }\n",
       "\n",
       "    .dataframe thead th {\n",
       "        text-align: right;\n",
       "    }\n",
       "</style>\n",
       "<table border=\"1\" class=\"dataframe\">\n",
       "  <thead>\n",
       "    <tr style=\"text-align: right;\">\n",
       "      <th></th>\n",
       "      <th>name</th>\n",
       "      <th>year</th>\n",
       "      <th>points</th>\n",
       "      <th>penalty</th>\n",
       "      <th>id</th>\n",
       "      <th>addr</th>\n",
       "      <th>bonus</th>\n",
       "    </tr>\n",
       "  </thead>\n",
       "  <tbody>\n",
       "    <tr>\n",
       "      <th>one</th>\n",
       "      <td>Haidi</td>\n",
       "      <td>2014</td>\n",
       "      <td>1.5</td>\n",
       "      <td>1</td>\n",
       "      <td>1</td>\n",
       "      <td>seoul</td>\n",
       "      <td>150.0</td>\n",
       "    </tr>\n",
       "    <tr>\n",
       "      <th>two</th>\n",
       "      <td>Haidi</td>\n",
       "      <td>2015</td>\n",
       "      <td>1.7</td>\n",
       "      <td>2</td>\n",
       "      <td>2</td>\n",
       "      <td>ulsan</td>\n",
       "      <td>170.0</td>\n",
       "    </tr>\n",
       "    <tr>\n",
       "      <th>three</th>\n",
       "      <td>Haidi</td>\n",
       "      <td>2016</td>\n",
       "      <td>3.6</td>\n",
       "      <td>3</td>\n",
       "      <td>3</td>\n",
       "      <td>pusan</td>\n",
       "      <td>360.0</td>\n",
       "    </tr>\n",
       "    <tr>\n",
       "      <th>four</th>\n",
       "      <td>Charles</td>\n",
       "      <td>2015</td>\n",
       "      <td>2.5</td>\n",
       "      <td>4</td>\n",
       "      <td>4</td>\n",
       "      <td>guangju</td>\n",
       "      <td>250.0</td>\n",
       "    </tr>\n",
       "    <tr>\n",
       "      <th>five</th>\n",
       "      <td>Charles</td>\n",
       "      <td>2017</td>\n",
       "      <td>2.9</td>\n",
       "      <td>5</td>\n",
       "      <td>5</td>\n",
       "      <td>soju</td>\n",
       "      <td>290.0</td>\n",
       "    </tr>\n",
       "    <tr>\n",
       "      <th>six</th>\n",
       "      <td>Charles</td>\n",
       "      <td>2017</td>\n",
       "      <td>3.3</td>\n",
       "      <td>6</td>\n",
       "      <td>6</td>\n",
       "      <td>wc</td>\n",
       "      <td>290.0</td>\n",
       "    </tr>\n",
       "    <tr>\n",
       "      <th>seven</th>\n",
       "      <td>Haidi</td>\n",
       "      <td>2020</td>\n",
       "      <td>3.3</td>\n",
       "      <td>6</td>\n",
       "      <td>30</td>\n",
       "      <td>WC</td>\n",
       "      <td>290.0</td>\n",
       "    </tr>\n",
       "  </tbody>\n",
       "</table>\n",
       "</div>"
      ],
      "text/plain": [
       "          name  year  points  penalty  id     addr  bonus\n",
       "one      Haidi  2014     1.5        1   1    seoul  150.0\n",
       "two      Haidi  2015     1.7        2   2    ulsan  170.0\n",
       "three    Haidi  2016     3.6        3   3    pusan  360.0\n",
       "four   Charles  2015     2.5        4   4  guangju  250.0\n",
       "five   Charles  2017     2.9        5   5     soju  290.0\n",
       "six    Charles  2017     3.3        6   6       wc  290.0\n",
       "seven    Haidi  2020     3.3        6  30       WC  290.0"
      ]
     },
     "execution_count": 131,
     "metadata": {},
     "output_type": "execute_result"
    }
   ],
   "source": [
    "df3.loc['seven'] = ['Haidi', '2020', 3.3, 6, 30, 'WC', 290.0]\n",
    "df3"
   ]
  },
  {
   "cell_type": "code",
   "execution_count": 28,
   "id": "84317d58",
   "metadata": {
    "ExecuteTime": {
     "end_time": "2021-11-25T06:00:58.392639Z",
     "start_time": "2021-11-25T06:00:58.371634Z"
    }
   },
   "outputs": [
    {
     "ename": "IndexError",
     "evalue": "iloc cannot enlarge its target object",
     "output_type": "error",
     "traceback": [
      "\u001b[1;31m---------------------------------------------------------------------------\u001b[0m",
      "\u001b[1;31mIndexError\u001b[0m                                Traceback (most recent call last)",
      "\u001b[1;32m<ipython-input-28-2c896b046c5a>\u001b[0m in \u001b[0;36m<module>\u001b[1;34m\u001b[0m\n\u001b[0;32m      1\u001b[0m \u001b[1;31m# 테스트 : iloc 로 행 삽입이 가능할까?\u001b[0m\u001b[1;33m\u001b[0m\u001b[1;33m\u001b[0m\u001b[1;33m\u001b[0m\u001b[0m\n\u001b[0;32m      2\u001b[0m \u001b[1;31m# IndexError => x\u001b[0m\u001b[1;33m\u001b[0m\u001b[1;33m\u001b[0m\u001b[1;33m\u001b[0m\u001b[0m\n\u001b[1;32m----> 3\u001b[1;33m \u001b[0mdf3\u001b[0m\u001b[1;33m.\u001b[0m\u001b[0miloc\u001b[0m\u001b[1;33m[\u001b[0m\u001b[1;36m8\u001b[0m\u001b[1;33m]\u001b[0m \u001b[1;33m=\u001b[0m \u001b[1;33m[\u001b[0m\u001b[1;34m'Haidi'\u001b[0m\u001b[1;33m,\u001b[0m \u001b[1;34m'2020년'\u001b[0m\u001b[1;33m,\u001b[0m \u001b[1;36m3.3\u001b[0m\u001b[1;33m,\u001b[0m \u001b[1;36m6\u001b[0m\u001b[1;33m,\u001b[0m \u001b[1;36m30\u001b[0m\u001b[1;33m,\u001b[0m \u001b[1;34m'WC'\u001b[0m\u001b[1;33m,\u001b[0m \u001b[1;36m290.0\u001b[0m\u001b[1;33m]\u001b[0m\u001b[1;33m\u001b[0m\u001b[1;33m\u001b[0m\u001b[0m\n\u001b[0m\u001b[0;32m      4\u001b[0m \u001b[0mdf3\u001b[0m\u001b[1;33m\u001b[0m\u001b[1;33m\u001b[0m\u001b[0m\n",
      "\u001b[1;32m~\\anaconda3\\lib\\site-packages\\pandas\\core\\indexing.py\u001b[0m in \u001b[0;36m__setitem__\u001b[1;34m(self, key, value)\u001b[0m\n\u001b[0;32m    687\u001b[0m             \u001b[0mkey\u001b[0m \u001b[1;33m=\u001b[0m \u001b[0mcom\u001b[0m\u001b[1;33m.\u001b[0m\u001b[0mapply_if_callable\u001b[0m\u001b[1;33m(\u001b[0m\u001b[0mkey\u001b[0m\u001b[1;33m,\u001b[0m \u001b[0mself\u001b[0m\u001b[1;33m.\u001b[0m\u001b[0mobj\u001b[0m\u001b[1;33m)\u001b[0m\u001b[1;33m\u001b[0m\u001b[1;33m\u001b[0m\u001b[0m\n\u001b[0;32m    688\u001b[0m         \u001b[0mindexer\u001b[0m \u001b[1;33m=\u001b[0m \u001b[0mself\u001b[0m\u001b[1;33m.\u001b[0m\u001b[0m_get_setitem_indexer\u001b[0m\u001b[1;33m(\u001b[0m\u001b[0mkey\u001b[0m\u001b[1;33m)\u001b[0m\u001b[1;33m\u001b[0m\u001b[1;33m\u001b[0m\u001b[0m\n\u001b[1;32m--> 689\u001b[1;33m         \u001b[0mself\u001b[0m\u001b[1;33m.\u001b[0m\u001b[0m_has_valid_setitem_indexer\u001b[0m\u001b[1;33m(\u001b[0m\u001b[0mkey\u001b[0m\u001b[1;33m)\u001b[0m\u001b[1;33m\u001b[0m\u001b[1;33m\u001b[0m\u001b[0m\n\u001b[0m\u001b[0;32m    690\u001b[0m \u001b[1;33m\u001b[0m\u001b[0m\n\u001b[0;32m    691\u001b[0m         \u001b[0miloc\u001b[0m \u001b[1;33m=\u001b[0m \u001b[0mself\u001b[0m \u001b[1;32mif\u001b[0m \u001b[0mself\u001b[0m\u001b[1;33m.\u001b[0m\u001b[0mname\u001b[0m \u001b[1;33m==\u001b[0m \u001b[1;34m\"iloc\"\u001b[0m \u001b[1;32melse\u001b[0m \u001b[0mself\u001b[0m\u001b[1;33m.\u001b[0m\u001b[0mobj\u001b[0m\u001b[1;33m.\u001b[0m\u001b[0miloc\u001b[0m\u001b[1;33m\u001b[0m\u001b[1;33m\u001b[0m\u001b[0m\n",
      "\u001b[1;32m~\\anaconda3\\lib\\site-packages\\pandas\\core\\indexing.py\u001b[0m in \u001b[0;36m_has_valid_setitem_indexer\u001b[1;34m(self, indexer)\u001b[0m\n\u001b[0;32m   1399\u001b[0m             \u001b[1;32melif\u001b[0m \u001b[0mis_integer\u001b[0m\u001b[1;33m(\u001b[0m\u001b[0mi\u001b[0m\u001b[1;33m)\u001b[0m\u001b[1;33m:\u001b[0m\u001b[1;33m\u001b[0m\u001b[1;33m\u001b[0m\u001b[0m\n\u001b[0;32m   1400\u001b[0m                 \u001b[1;32mif\u001b[0m \u001b[0mi\u001b[0m \u001b[1;33m>=\u001b[0m \u001b[0mlen\u001b[0m\u001b[1;33m(\u001b[0m\u001b[0max\u001b[0m\u001b[1;33m)\u001b[0m\u001b[1;33m:\u001b[0m\u001b[1;33m\u001b[0m\u001b[1;33m\u001b[0m\u001b[0m\n\u001b[1;32m-> 1401\u001b[1;33m                     \u001b[1;32mraise\u001b[0m \u001b[0mIndexError\u001b[0m\u001b[1;33m(\u001b[0m\u001b[1;34m\"iloc cannot enlarge its target object\"\u001b[0m\u001b[1;33m)\u001b[0m\u001b[1;33m\u001b[0m\u001b[1;33m\u001b[0m\u001b[0m\n\u001b[0m\u001b[0;32m   1402\u001b[0m             \u001b[1;32melif\u001b[0m \u001b[0misinstance\u001b[0m\u001b[1;33m(\u001b[0m\u001b[0mi\u001b[0m\u001b[1;33m,\u001b[0m \u001b[0mdict\u001b[0m\u001b[1;33m)\u001b[0m\u001b[1;33m:\u001b[0m\u001b[1;33m\u001b[0m\u001b[1;33m\u001b[0m\u001b[0m\n\u001b[0;32m   1403\u001b[0m                 \u001b[1;32mraise\u001b[0m \u001b[0mIndexError\u001b[0m\u001b[1;33m(\u001b[0m\u001b[1;34m\"iloc cannot enlarge its target object\"\u001b[0m\u001b[1;33m)\u001b[0m\u001b[1;33m\u001b[0m\u001b[1;33m\u001b[0m\u001b[0m\n",
      "\u001b[1;31mIndexError\u001b[0m: iloc cannot enlarge its target object"
     ]
    }
   ],
   "source": [
    "# 테스트 : iloc 로 행 삽입이 가능할까?\n",
    "# IndexError => x\n",
    "df3.iloc[8] = ['Haidi', '2020년', 3.3, 6, 30, 'WC', 290.0]\n",
    "df3"
   ]
  },
  {
   "cell_type": "code",
   "execution_count": 132,
   "id": "15a90f47",
   "metadata": {
    "ExecuteTime": {
     "end_time": "2021-11-29T00:53:59.079532Z",
     "start_time": "2021-11-29T00:53:59.067541Z"
    }
   },
   "outputs": [],
   "source": [
    "df3.loc['eight'] = ['Haidi', '2020년', 3.3, 6, 30, 'WC', 290.0]"
   ]
  },
  {
   "cell_type": "code",
   "execution_count": 133,
   "id": "8b442ca9",
   "metadata": {
    "ExecuteTime": {
     "end_time": "2021-11-29T00:54:12.462072Z",
     "start_time": "2021-11-29T00:54:12.457063Z"
    }
   },
   "outputs": [
    {
     "data": {
      "text/plain": [
       "name        object\n",
       "year        object\n",
       "points     float64\n",
       "penalty      int64\n",
       "id           int64\n",
       "addr        object\n",
       "bonus      float64\n",
       "dtype: object"
      ]
     },
     "execution_count": 133,
     "metadata": {},
     "output_type": "execute_result"
    }
   ],
   "source": [
    "df3.dtypes"
   ]
  },
  {
   "cell_type": "markdown",
   "id": "d8367987",
   "metadata": {},
   "source": [
    "## 기존 값 수정하기 \n",
    "\n",
    "```\n",
    "데이타프레임.loc[행명, 열명] = 새로운값\n",
    "데이타프레임.iloc[행인덱스, 열인덱스] = 새로운값\n",
    "\n",
    "\n",
    "```"
   ]
  },
  {
   "cell_type": "code",
   "execution_count": 29,
   "id": "e8a6d1e7",
   "metadata": {
    "ExecuteTime": {
     "end_time": "2021-11-25T06:01:05.940065Z",
     "start_time": "2021-11-25T06:01:05.931051Z"
    }
   },
   "outputs": [],
   "source": [
    "df3.loc['one', 'name'] = 'Julia'"
   ]
  },
  {
   "cell_type": "code",
   "execution_count": 30,
   "id": "eef822d4",
   "metadata": {
    "ExecuteTime": {
     "end_time": "2021-11-25T06:01:09.137983Z",
     "start_time": "2021-11-25T06:01:09.131990Z"
    }
   },
   "outputs": [],
   "source": [
    "df3.iloc[-1, -1] = 500\n",
    "# 개별 값도 업데이트 가능하다."
   ]
  },
  {
   "cell_type": "code",
   "execution_count": 31,
   "id": "11dac872",
   "metadata": {
    "ExecuteTime": {
     "end_time": "2021-11-25T06:01:20.252502Z",
     "start_time": "2021-11-25T06:01:20.242500Z"
    }
   },
   "outputs": [],
   "source": [
    "# 슬라이싱한 상태에서 값 교체 \n",
    "df3.loc['one':'three', 'penalty'] = -500"
   ]
  },
  {
   "cell_type": "code",
   "execution_count": 134,
   "id": "73e794b4",
   "metadata": {
    "ExecuteTime": {
     "end_time": "2021-11-29T00:54:57.861178Z",
     "start_time": "2021-11-29T00:54:57.851175Z"
    }
   },
   "outputs": [
    {
     "data": {
      "text/plain": [
       "(8, 7)"
      ]
     },
     "execution_count": 134,
     "metadata": {},
     "output_type": "execute_result"
    }
   ],
   "source": [
    "df3.shape"
   ]
  },
  {
   "cell_type": "code",
   "execution_count": 135,
   "id": "3c45e963",
   "metadata": {
    "ExecuteTime": {
     "end_time": "2021-11-29T00:55:02.958766Z",
     "start_time": "2021-11-29T00:55:02.945777Z"
    }
   },
   "outputs": [
    {
     "data": {
      "text/plain": [
       "8"
      ]
     },
     "execution_count": 135,
     "metadata": {},
     "output_type": "execute_result"
    }
   ],
   "source": [
    "df3.shape[0]"
   ]
  },
  {
   "cell_type": "code",
   "execution_count": 136,
   "id": "f55c6d6c",
   "metadata": {
    "ExecuteTime": {
     "end_time": "2021-11-29T00:55:12.828551Z",
     "start_time": "2021-11-29T00:55:12.821551Z"
    }
   },
   "outputs": [
    {
     "data": {
      "text/plain": [
       "array([0, 1, 2, 3, 4, 5, 6, 7])"
      ]
     },
     "execution_count": 136,
     "metadata": {},
     "output_type": "execute_result"
    }
   ],
   "source": [
    "np.arange(0, df3.shape[0])"
   ]
  },
  {
   "cell_type": "code",
   "execution_count": 138,
   "id": "3983c84d",
   "metadata": {
    "ExecuteTime": {
     "end_time": "2021-11-29T00:55:26.094661Z",
     "start_time": "2021-11-29T00:55:26.090661Z"
    }
   },
   "outputs": [],
   "source": [
    "# 특정 컬럼 전체의 값 교체 \n",
    "df3['id'] = np.arange(1, df3.shape[0]+1)*10"
   ]
  },
  {
   "cell_type": "code",
   "execution_count": 141,
   "id": "b840e956",
   "metadata": {
    "ExecuteTime": {
     "end_time": "2021-11-29T00:55:42.221186Z",
     "start_time": "2021-11-29T00:55:42.198182Z"
    }
   },
   "outputs": [
    {
     "data": {
      "text/html": [
       "<div>\n",
       "<style scoped>\n",
       "    .dataframe tbody tr th:only-of-type {\n",
       "        vertical-align: middle;\n",
       "    }\n",
       "\n",
       "    .dataframe tbody tr th {\n",
       "        vertical-align: top;\n",
       "    }\n",
       "\n",
       "    .dataframe thead th {\n",
       "        text-align: right;\n",
       "    }\n",
       "</style>\n",
       "<table border=\"1\" class=\"dataframe\">\n",
       "  <thead>\n",
       "    <tr style=\"text-align: right;\">\n",
       "      <th></th>\n",
       "      <th>name</th>\n",
       "      <th>year</th>\n",
       "      <th>points</th>\n",
       "      <th>penalty</th>\n",
       "      <th>id</th>\n",
       "      <th>addr</th>\n",
       "      <th>bonus</th>\n",
       "    </tr>\n",
       "  </thead>\n",
       "  <tbody>\n",
       "    <tr>\n",
       "      <th>one</th>\n",
       "      <td>Haidi</td>\n",
       "      <td>2014</td>\n",
       "      <td>1.5</td>\n",
       "      <td>1</td>\n",
       "      <td>1</td>\n",
       "      <td>seoul</td>\n",
       "      <td>150.0</td>\n",
       "    </tr>\n",
       "    <tr>\n",
       "      <th>two</th>\n",
       "      <td>Haidi</td>\n",
       "      <td>2015</td>\n",
       "      <td>1.7</td>\n",
       "      <td>2</td>\n",
       "      <td>2</td>\n",
       "      <td>ulsan</td>\n",
       "      <td>170.0</td>\n",
       "    </tr>\n",
       "    <tr>\n",
       "      <th>three</th>\n",
       "      <td>Haidi</td>\n",
       "      <td>2016</td>\n",
       "      <td>3.6</td>\n",
       "      <td>3</td>\n",
       "      <td>3</td>\n",
       "      <td>pusan</td>\n",
       "      <td>360.0</td>\n",
       "    </tr>\n",
       "    <tr>\n",
       "      <th>four</th>\n",
       "      <td>Charles</td>\n",
       "      <td>2015</td>\n",
       "      <td>2.5</td>\n",
       "      <td>4</td>\n",
       "      <td>4</td>\n",
       "      <td>guangju</td>\n",
       "      <td>250.0</td>\n",
       "    </tr>\n",
       "    <tr>\n",
       "      <th>five</th>\n",
       "      <td>Charles</td>\n",
       "      <td>2017</td>\n",
       "      <td>2.9</td>\n",
       "      <td>5</td>\n",
       "      <td>5</td>\n",
       "      <td>soju</td>\n",
       "      <td>290.0</td>\n",
       "    </tr>\n",
       "    <tr>\n",
       "      <th>six</th>\n",
       "      <td>Charles</td>\n",
       "      <td>2017</td>\n",
       "      <td>3.3</td>\n",
       "      <td>6</td>\n",
       "      <td>6</td>\n",
       "      <td>wc</td>\n",
       "      <td>290.0</td>\n",
       "    </tr>\n",
       "    <tr>\n",
       "      <th>seven</th>\n",
       "      <td>Haidi</td>\n",
       "      <td>2020</td>\n",
       "      <td>3.3</td>\n",
       "      <td>6</td>\n",
       "      <td>7</td>\n",
       "      <td>WC</td>\n",
       "      <td>290.0</td>\n",
       "    </tr>\n",
       "    <tr>\n",
       "      <th>eight</th>\n",
       "      <td>Haidi</td>\n",
       "      <td>2020년</td>\n",
       "      <td>3.3</td>\n",
       "      <td>6</td>\n",
       "      <td>8</td>\n",
       "      <td>WC</td>\n",
       "      <td>290.0</td>\n",
       "    </tr>\n",
       "  </tbody>\n",
       "</table>\n",
       "</div>"
      ],
      "text/plain": [
       "          name   year  points  penalty  id     addr  bonus\n",
       "one      Haidi   2014     1.5        1   1    seoul  150.0\n",
       "two      Haidi   2015     1.7        2   2    ulsan  170.0\n",
       "three    Haidi   2016     3.6        3   3    pusan  360.0\n",
       "four   Charles   2015     2.5        4   4  guangju  250.0\n",
       "five   Charles   2017     2.9        5   5     soju  290.0\n",
       "six    Charles   2017     3.3        6   6       wc  290.0\n",
       "seven    Haidi   2020     3.3        6   7       WC  290.0\n",
       "eight    Haidi  2020년     3.3        6   8       WC  290.0"
      ]
     },
     "execution_count": 141,
     "metadata": {},
     "output_type": "execute_result"
    }
   ],
   "source": [
    "df3"
   ]
  },
  {
   "cell_type": "code",
   "execution_count": 140,
   "id": "d499cee9",
   "metadata": {
    "ExecuteTime": {
     "end_time": "2021-11-29T00:55:40.111437Z",
     "start_time": "2021-11-29T00:55:40.105436Z"
    },
    "scrolled": true
   },
   "outputs": [],
   "source": [
    "df3.id = np.arange(1, len(df3.id)+1)"
   ]
  },
  {
   "cell_type": "code",
   "execution_count": 142,
   "id": "84507034",
   "metadata": {
    "ExecuteTime": {
     "end_time": "2021-11-29T00:55:52.115152Z",
     "start_time": "2021-11-29T00:55:52.100155Z"
    }
   },
   "outputs": [
    {
     "data": {
      "text/html": [
       "<div>\n",
       "<style scoped>\n",
       "    .dataframe tbody tr th:only-of-type {\n",
       "        vertical-align: middle;\n",
       "    }\n",
       "\n",
       "    .dataframe tbody tr th {\n",
       "        vertical-align: top;\n",
       "    }\n",
       "\n",
       "    .dataframe thead th {\n",
       "        text-align: right;\n",
       "    }\n",
       "</style>\n",
       "<table border=\"1\" class=\"dataframe\">\n",
       "  <thead>\n",
       "    <tr style=\"text-align: right;\">\n",
       "      <th></th>\n",
       "      <th>name</th>\n",
       "      <th>year</th>\n",
       "      <th>points</th>\n",
       "      <th>penalty</th>\n",
       "      <th>id</th>\n",
       "      <th>addr</th>\n",
       "      <th>bonus</th>\n",
       "    </tr>\n",
       "  </thead>\n",
       "  <tbody>\n",
       "    <tr>\n",
       "      <th>one</th>\n",
       "      <td>Haidi</td>\n",
       "      <td>2014</td>\n",
       "      <td>1.5</td>\n",
       "      <td>1</td>\n",
       "      <td>1</td>\n",
       "      <td>seoul</td>\n",
       "      <td>150.0</td>\n",
       "    </tr>\n",
       "    <tr>\n",
       "      <th>two</th>\n",
       "      <td>Haidi</td>\n",
       "      <td>2015</td>\n",
       "      <td>1.7</td>\n",
       "      <td>2</td>\n",
       "      <td>2</td>\n",
       "      <td>ulsan</td>\n",
       "      <td>170.0</td>\n",
       "    </tr>\n",
       "    <tr>\n",
       "      <th>three</th>\n",
       "      <td>Haidi</td>\n",
       "      <td>2016</td>\n",
       "      <td>3.6</td>\n",
       "      <td>3</td>\n",
       "      <td>3</td>\n",
       "      <td>pusan</td>\n",
       "      <td>360.0</td>\n",
       "    </tr>\n",
       "    <tr>\n",
       "      <th>four</th>\n",
       "      <td>Charles</td>\n",
       "      <td>2015</td>\n",
       "      <td>2.5</td>\n",
       "      <td>4</td>\n",
       "      <td>4</td>\n",
       "      <td>guangju</td>\n",
       "      <td>250.0</td>\n",
       "    </tr>\n",
       "    <tr>\n",
       "      <th>five</th>\n",
       "      <td>Charles</td>\n",
       "      <td>2017</td>\n",
       "      <td>2.9</td>\n",
       "      <td>5</td>\n",
       "      <td>5</td>\n",
       "      <td>soju</td>\n",
       "      <td>290.0</td>\n",
       "    </tr>\n",
       "    <tr>\n",
       "      <th>six</th>\n",
       "      <td>Charles</td>\n",
       "      <td>2017</td>\n",
       "      <td>3.3</td>\n",
       "      <td>6</td>\n",
       "      <td>6</td>\n",
       "      <td>wc</td>\n",
       "      <td>290.0</td>\n",
       "    </tr>\n",
       "    <tr>\n",
       "      <th>seven</th>\n",
       "      <td>Haidi</td>\n",
       "      <td>2020</td>\n",
       "      <td>3.3</td>\n",
       "      <td>6</td>\n",
       "      <td>7</td>\n",
       "      <td>WC</td>\n",
       "      <td>290.0</td>\n",
       "    </tr>\n",
       "    <tr>\n",
       "      <th>eight</th>\n",
       "      <td>Haidi</td>\n",
       "      <td>2020년</td>\n",
       "      <td>3.3</td>\n",
       "      <td>6</td>\n",
       "      <td>8</td>\n",
       "      <td>WC</td>\n",
       "      <td>290.0</td>\n",
       "    </tr>\n",
       "  </tbody>\n",
       "</table>\n",
       "</div>"
      ],
      "text/plain": [
       "          name   year  points  penalty  id     addr  bonus\n",
       "one      Haidi   2014     1.5        1   1    seoul  150.0\n",
       "two      Haidi   2015     1.7        2   2    ulsan  170.0\n",
       "three    Haidi   2016     3.6        3   3    pusan  360.0\n",
       "four   Charles   2015     2.5        4   4  guangju  250.0\n",
       "five   Charles   2017     2.9        5   5     soju  290.0\n",
       "six    Charles   2017     3.3        6   6       wc  290.0\n",
       "seven    Haidi   2020     3.3        6   7       WC  290.0\n",
       "eight    Haidi  2020년     3.3        6   8       WC  290.0"
      ]
     },
     "execution_count": 142,
     "metadata": {},
     "output_type": "execute_result"
    }
   ],
   "source": [
    "df3"
   ]
  },
  {
   "cell_type": "markdown",
   "id": "baa389bb",
   "metadata": {},
   "source": [
    "## 행과 열 삭제\n",
    "\n",
    "- 열 삭제\n",
    "<br>inplace=True 를 지정하면 원본에 바로 적용 \n",
    "```\n",
    "df.drop(colname, axis = 1, inplace = True)\n",
    "df.drop([colname1, colname2...], axis =1, inplace = True)\n",
    "```\n",
    "<br> del 데이타프레임명[컬럼명]\n",
    "```\n",
    "del.df[colname]\n",
    "```\n",
    "\n",
    "- 행 삭제\n",
    "\n",
    "```\n",
    "df.drop(인덱스명, axis = 0, inplace = True)\n",
    "df.drop([index1, index2...], axis = 0, inplace = True)\n",
    "```"
   ]
  },
  {
   "cell_type": "code",
   "execution_count": 143,
   "id": "f3db8652",
   "metadata": {
    "ExecuteTime": {
     "end_time": "2021-11-29T00:57:07.685214Z",
     "start_time": "2021-11-29T00:57:07.671206Z"
    }
   },
   "outputs": [
    {
     "data": {
      "text/html": [
       "<div>\n",
       "<style scoped>\n",
       "    .dataframe tbody tr th:only-of-type {\n",
       "        vertical-align: middle;\n",
       "    }\n",
       "\n",
       "    .dataframe tbody tr th {\n",
       "        vertical-align: top;\n",
       "    }\n",
       "\n",
       "    .dataframe thead th {\n",
       "        text-align: right;\n",
       "    }\n",
       "</style>\n",
       "<table border=\"1\" class=\"dataframe\">\n",
       "  <thead>\n",
       "    <tr style=\"text-align: right;\">\n",
       "      <th></th>\n",
       "      <th>name</th>\n",
       "      <th>year</th>\n",
       "      <th>points</th>\n",
       "      <th>penalty</th>\n",
       "    </tr>\n",
       "  </thead>\n",
       "  <tbody>\n",
       "    <tr>\n",
       "      <th>one</th>\n",
       "      <td>Haidi</td>\n",
       "      <td>2014</td>\n",
       "      <td>1.5</td>\n",
       "      <td>1</td>\n",
       "    </tr>\n",
       "    <tr>\n",
       "      <th>two</th>\n",
       "      <td>Haidi</td>\n",
       "      <td>2015</td>\n",
       "      <td>1.7</td>\n",
       "      <td>2</td>\n",
       "    </tr>\n",
       "    <tr>\n",
       "      <th>three</th>\n",
       "      <td>Haidi</td>\n",
       "      <td>2016</td>\n",
       "      <td>3.6</td>\n",
       "      <td>3</td>\n",
       "    </tr>\n",
       "    <tr>\n",
       "      <th>four</th>\n",
       "      <td>Charles</td>\n",
       "      <td>2015</td>\n",
       "      <td>2.5</td>\n",
       "      <td>4</td>\n",
       "    </tr>\n",
       "    <tr>\n",
       "      <th>five</th>\n",
       "      <td>Charles</td>\n",
       "      <td>2017</td>\n",
       "      <td>2.9</td>\n",
       "      <td>5</td>\n",
       "    </tr>\n",
       "  </tbody>\n",
       "</table>\n",
       "</div>"
      ],
      "text/plain": [
       "          name  year  points  penalty\n",
       "one      Haidi  2014     1.5        1\n",
       "two      Haidi  2015     1.7        2\n",
       "three    Haidi  2016     3.6        3\n",
       "four   Charles  2015     2.5        4\n",
       "five   Charles  2017     2.9        5"
      ]
     },
     "execution_count": 143,
     "metadata": {},
     "output_type": "execute_result"
    }
   ],
   "source": [
    "data = { \"name\":[\"Haidi\", \"Haidi\", \"Haidi\", \"Charles\", \"Charles\"],\n",
    "        \"year\":[2014, 2015, 2016, 2015, 2017],\n",
    "        \"points\":[1.5, 1.7, 3.6, 2.5, 2.9], \n",
    "        \"penalty\":[1, 2, 3, 4, 5] }\n",
    "df4 = pd.DataFrame( data, \n",
    "                    index=[\"one\", \"two\", \"three\", \"four\", \"five\"])\n",
    "df4"
   ]
  },
  {
   "cell_type": "code",
   "execution_count": 144,
   "id": "4a877ba3",
   "metadata": {
    "ExecuteTime": {
     "end_time": "2021-11-29T00:57:07.910253Z",
     "start_time": "2021-11-29T00:57:07.897249Z"
    }
   },
   "outputs": [],
   "source": [
    "del df4['penalty']"
   ]
  },
  {
   "cell_type": "code",
   "execution_count": 146,
   "id": "af1b42e4",
   "metadata": {
    "ExecuteTime": {
     "end_time": "2021-11-29T00:57:12.027023Z",
     "start_time": "2021-11-29T00:57:12.019024Z"
    }
   },
   "outputs": [
    {
     "data": {
      "text/html": [
       "<div>\n",
       "<style scoped>\n",
       "    .dataframe tbody tr th:only-of-type {\n",
       "        vertical-align: middle;\n",
       "    }\n",
       "\n",
       "    .dataframe tbody tr th {\n",
       "        vertical-align: top;\n",
       "    }\n",
       "\n",
       "    .dataframe thead th {\n",
       "        text-align: right;\n",
       "    }\n",
       "</style>\n",
       "<table border=\"1\" class=\"dataframe\">\n",
       "  <thead>\n",
       "    <tr style=\"text-align: right;\">\n",
       "      <th></th>\n",
       "      <th>name</th>\n",
       "      <th>year</th>\n",
       "      <th>points</th>\n",
       "    </tr>\n",
       "  </thead>\n",
       "  <tbody>\n",
       "    <tr>\n",
       "      <th>one</th>\n",
       "      <td>Haidi</td>\n",
       "      <td>2014</td>\n",
       "      <td>1.5</td>\n",
       "    </tr>\n",
       "    <tr>\n",
       "      <th>two</th>\n",
       "      <td>Haidi</td>\n",
       "      <td>2015</td>\n",
       "      <td>1.7</td>\n",
       "    </tr>\n",
       "    <tr>\n",
       "      <th>three</th>\n",
       "      <td>Haidi</td>\n",
       "      <td>2016</td>\n",
       "      <td>3.6</td>\n",
       "    </tr>\n",
       "    <tr>\n",
       "      <th>four</th>\n",
       "      <td>Charles</td>\n",
       "      <td>2015</td>\n",
       "      <td>2.5</td>\n",
       "    </tr>\n",
       "    <tr>\n",
       "      <th>five</th>\n",
       "      <td>Charles</td>\n",
       "      <td>2017</td>\n",
       "      <td>2.9</td>\n",
       "    </tr>\n",
       "  </tbody>\n",
       "</table>\n",
       "</div>"
      ],
      "text/plain": [
       "          name  year  points\n",
       "one      Haidi  2014     1.5\n",
       "two      Haidi  2015     1.7\n",
       "three    Haidi  2016     3.6\n",
       "four   Charles  2015     2.5\n",
       "five   Charles  2017     2.9"
      ]
     },
     "execution_count": 146,
     "metadata": {},
     "output_type": "execute_result"
    }
   ],
   "source": [
    "df4"
   ]
  },
  {
   "cell_type": "code",
   "execution_count": 53,
   "id": "7fe9add7",
   "metadata": {
    "ExecuteTime": {
     "end_time": "2021-11-25T06:39:57.997983Z",
     "start_time": "2021-11-25T06:39:57.980965Z"
    }
   },
   "outputs": [],
   "source": [
    "df4.drop('year', axis = 1, inplace = True)\n",
    "\n",
    "##inplace를 해야 본판이 삭제된다."
   ]
  },
  {
   "cell_type": "code",
   "execution_count": 54,
   "id": "1572851a",
   "metadata": {
    "ExecuteTime": {
     "end_time": "2021-11-25T06:39:59.099460Z",
     "start_time": "2021-11-25T06:39:59.091459Z"
    }
   },
   "outputs": [
    {
     "data": {
      "text/html": [
       "<div>\n",
       "<style scoped>\n",
       "    .dataframe tbody tr th:only-of-type {\n",
       "        vertical-align: middle;\n",
       "    }\n",
       "\n",
       "    .dataframe tbody tr th {\n",
       "        vertical-align: top;\n",
       "    }\n",
       "\n",
       "    .dataframe thead th {\n",
       "        text-align: right;\n",
       "    }\n",
       "</style>\n",
       "<table border=\"1\" class=\"dataframe\">\n",
       "  <thead>\n",
       "    <tr style=\"text-align: right;\">\n",
       "      <th></th>\n",
       "    </tr>\n",
       "  </thead>\n",
       "  <tbody>\n",
       "    <tr>\n",
       "      <th>one</th>\n",
       "    </tr>\n",
       "    <tr>\n",
       "      <th>two</th>\n",
       "    </tr>\n",
       "    <tr>\n",
       "      <th>three</th>\n",
       "    </tr>\n",
       "    <tr>\n",
       "      <th>four</th>\n",
       "    </tr>\n",
       "    <tr>\n",
       "      <th>five</th>\n",
       "    </tr>\n",
       "  </tbody>\n",
       "</table>\n",
       "</div>"
      ],
      "text/plain": [
       "Empty DataFrame\n",
       "Columns: []\n",
       "Index: [one, two, three, four, five]"
      ]
     },
     "execution_count": 54,
     "metadata": {},
     "output_type": "execute_result"
    }
   ],
   "source": [
    "df4.drop(['name', 'points'], axis = 1)"
   ]
  },
  {
   "cell_type": "code",
   "execution_count": 56,
   "id": "30eb8afb",
   "metadata": {
    "ExecuteTime": {
     "end_time": "2021-11-25T06:45:12.905155Z",
     "start_time": "2021-11-25T06:45:12.888146Z"
    }
   },
   "outputs": [
    {
     "data": {
      "text/html": [
       "<div>\n",
       "<style scoped>\n",
       "    .dataframe tbody tr th:only-of-type {\n",
       "        vertical-align: middle;\n",
       "    }\n",
       "\n",
       "    .dataframe tbody tr th {\n",
       "        vertical-align: top;\n",
       "    }\n",
       "\n",
       "    .dataframe thead th {\n",
       "        text-align: right;\n",
       "    }\n",
       "</style>\n",
       "<table border=\"1\" class=\"dataframe\">\n",
       "  <thead>\n",
       "    <tr style=\"text-align: right;\">\n",
       "      <th></th>\n",
       "      <th>name</th>\n",
       "      <th>points</th>\n",
       "    </tr>\n",
       "  </thead>\n",
       "  <tbody>\n",
       "    <tr>\n",
       "      <th>one</th>\n",
       "      <td>Haidi</td>\n",
       "      <td>1.5</td>\n",
       "    </tr>\n",
       "    <tr>\n",
       "      <th>three</th>\n",
       "      <td>Haidi</td>\n",
       "      <td>3.6</td>\n",
       "    </tr>\n",
       "    <tr>\n",
       "      <th>four</th>\n",
       "      <td>Charles</td>\n",
       "      <td>2.5</td>\n",
       "    </tr>\n",
       "  </tbody>\n",
       "</table>\n",
       "</div>"
      ],
      "text/plain": [
       "          name  points\n",
       "one      Haidi     1.5\n",
       "three    Haidi     3.6\n",
       "four   Charles     2.5"
      ]
     },
     "execution_count": 56,
     "metadata": {},
     "output_type": "execute_result"
    }
   ],
   "source": [
    "df4.drop(['two', \"five\"])"
   ]
  },
  {
   "cell_type": "markdown",
   "id": "7ff3aa8d",
   "metadata": {},
   "source": [
    "## df의 복사\n",
    "\n",
    "- 깊은 복사, 얕은 복사(https://blueshw.github.io/2016/01/20/shallow-copy-deep-copy/)\n",
    "\n",
    " * 얕은 복사는? \n",
    "     복사본이나 원본이 같은 메모리 번지를 사용. <br>\n",
    "     서로 데이터가 연결되어 있음\n",
    " * 깊은 복사는?\n",
    "     복사본이나 원본이 서로 다른 메모리번지 사용.\n",
    "     copy()"
   ]
  },
  {
   "cell_type": "code",
   "execution_count": 57,
   "id": "621bf69d",
   "metadata": {
    "ExecuteTime": {
     "end_time": "2021-11-25T06:49:52.123841Z",
     "start_time": "2021-11-25T06:49:52.115842Z"
    }
   },
   "outputs": [],
   "source": [
    "data = { \"name\":[\"Haidi\", \"Haidi\", \"Haidi\", \"Charles\", \"Charles\"],\n",
    "        \"year\":[2014, 2015, 2016, 2015, 2017],\n",
    "        \"points\":[1.5, 1.7, 3.6, 2.5, 2.9], \n",
    "        \"penalty\":[1, 2, 3, 4, 5] }\n",
    "df5 = pd.DataFrame( data, \n",
    "                    index=[\"one\", \"two\", \"three\", \"four\", \"five\"])"
   ]
  },
  {
   "cell_type": "code",
   "execution_count": 58,
   "id": "0d064a32",
   "metadata": {
    "ExecuteTime": {
     "end_time": "2021-11-25T06:49:57.884723Z",
     "start_time": "2021-11-25T06:49:57.866717Z"
    }
   },
   "outputs": [
    {
     "data": {
      "text/html": [
       "<div>\n",
       "<style scoped>\n",
       "    .dataframe tbody tr th:only-of-type {\n",
       "        vertical-align: middle;\n",
       "    }\n",
       "\n",
       "    .dataframe tbody tr th {\n",
       "        vertical-align: top;\n",
       "    }\n",
       "\n",
       "    .dataframe thead th {\n",
       "        text-align: right;\n",
       "    }\n",
       "</style>\n",
       "<table border=\"1\" class=\"dataframe\">\n",
       "  <thead>\n",
       "    <tr style=\"text-align: right;\">\n",
       "      <th></th>\n",
       "      <th>name</th>\n",
       "      <th>year</th>\n",
       "      <th>points</th>\n",
       "      <th>penalty</th>\n",
       "    </tr>\n",
       "  </thead>\n",
       "  <tbody>\n",
       "    <tr>\n",
       "      <th>one</th>\n",
       "      <td>Haidi</td>\n",
       "      <td>2014</td>\n",
       "      <td>1.5</td>\n",
       "      <td>1</td>\n",
       "    </tr>\n",
       "    <tr>\n",
       "      <th>two</th>\n",
       "      <td>Haidi</td>\n",
       "      <td>2015</td>\n",
       "      <td>1.7</td>\n",
       "      <td>2</td>\n",
       "    </tr>\n",
       "    <tr>\n",
       "      <th>three</th>\n",
       "      <td>Haidi</td>\n",
       "      <td>2016</td>\n",
       "      <td>3.6</td>\n",
       "      <td>3</td>\n",
       "    </tr>\n",
       "    <tr>\n",
       "      <th>four</th>\n",
       "      <td>Charles</td>\n",
       "      <td>2015</td>\n",
       "      <td>2.5</td>\n",
       "      <td>4</td>\n",
       "    </tr>\n",
       "    <tr>\n",
       "      <th>five</th>\n",
       "      <td>Charles</td>\n",
       "      <td>2017</td>\n",
       "      <td>2.9</td>\n",
       "      <td>5</td>\n",
       "    </tr>\n",
       "  </tbody>\n",
       "</table>\n",
       "</div>"
      ],
      "text/plain": [
       "          name  year  points  penalty\n",
       "one      Haidi  2014     1.5        1\n",
       "two      Haidi  2015     1.7        2\n",
       "three    Haidi  2016     3.6        3\n",
       "four   Charles  2015     2.5        4\n",
       "five   Charles  2017     2.9        5"
      ]
     },
     "execution_count": 58,
     "metadata": {},
     "output_type": "execute_result"
    }
   ],
   "source": [
    "df5"
   ]
  },
  {
   "cell_type": "code",
   "execution_count": 68,
   "id": "1ac411bc",
   "metadata": {
    "ExecuteTime": {
     "end_time": "2021-11-25T06:53:33.101402Z",
     "start_time": "2021-11-25T06:53:33.084413Z"
    }
   },
   "outputs": [],
   "source": [
    "## 얕은 복사 방식으로 복제본 생성\n",
    "df6 = df5"
   ]
  },
  {
   "cell_type": "code",
   "execution_count": 69,
   "id": "71ee0c57",
   "metadata": {
    "ExecuteTime": {
     "end_time": "2021-11-25T06:53:33.403064Z",
     "start_time": "2021-11-25T06:53:33.388047Z"
    }
   },
   "outputs": [
    {
     "data": {
      "text/html": [
       "<div>\n",
       "<style scoped>\n",
       "    .dataframe tbody tr th:only-of-type {\n",
       "        vertical-align: middle;\n",
       "    }\n",
       "\n",
       "    .dataframe tbody tr th {\n",
       "        vertical-align: top;\n",
       "    }\n",
       "\n",
       "    .dataframe thead th {\n",
       "        text-align: right;\n",
       "    }\n",
       "</style>\n",
       "<table border=\"1\" class=\"dataframe\">\n",
       "  <thead>\n",
       "    <tr style=\"text-align: right;\">\n",
       "      <th></th>\n",
       "      <th>name</th>\n",
       "      <th>year</th>\n",
       "      <th>points</th>\n",
       "      <th>penalty</th>\n",
       "    </tr>\n",
       "  </thead>\n",
       "  <tbody>\n",
       "    <tr>\n",
       "      <th>one</th>\n",
       "      <td>Haidi</td>\n",
       "      <td>2014</td>\n",
       "      <td>1.5</td>\n",
       "      <td>1</td>\n",
       "    </tr>\n",
       "    <tr>\n",
       "      <th>two</th>\n",
       "      <td>Haidi</td>\n",
       "      <td>2015</td>\n",
       "      <td>1.7</td>\n",
       "      <td>2</td>\n",
       "    </tr>\n",
       "    <tr>\n",
       "      <th>three</th>\n",
       "      <td>Haidi</td>\n",
       "      <td>2016</td>\n",
       "      <td>3.6</td>\n",
       "      <td>3</td>\n",
       "    </tr>\n",
       "    <tr>\n",
       "      <th>four</th>\n",
       "      <td>Charles</td>\n",
       "      <td>2015</td>\n",
       "      <td>2.5</td>\n",
       "      <td>4</td>\n",
       "    </tr>\n",
       "    <tr>\n",
       "      <th>five</th>\n",
       "      <td>Charles</td>\n",
       "      <td>2017</td>\n",
       "      <td>2.9</td>\n",
       "      <td>5</td>\n",
       "    </tr>\n",
       "  </tbody>\n",
       "</table>\n",
       "</div>"
      ],
      "text/plain": [
       "          name  year  points  penalty\n",
       "one      Haidi  2014     1.5        1\n",
       "two      Haidi  2015     1.7        2\n",
       "three    Haidi  2016     3.6        3\n",
       "four   Charles  2015     2.5        4\n",
       "five   Charles  2017     2.9        5"
      ]
     },
     "execution_count": 69,
     "metadata": {},
     "output_type": "execute_result"
    }
   ],
   "source": [
    "df6"
   ]
  },
  {
   "cell_type": "code",
   "execution_count": 75,
   "id": "512974b8",
   "metadata": {
    "ExecuteTime": {
     "end_time": "2021-11-25T06:56:57.323954Z",
     "start_time": "2021-11-25T06:56:57.306951Z"
    }
   },
   "outputs": [],
   "source": [
    "df6.loc['one', \"name\"] = \"홍길동\"\n",
    "df6.iloc[1,2] = 5.5"
   ]
  },
  {
   "cell_type": "code",
   "execution_count": 76,
   "id": "61fada4c",
   "metadata": {
    "ExecuteTime": {
     "end_time": "2021-11-25T06:56:58.003799Z",
     "start_time": "2021-11-25T06:56:57.987776Z"
    }
   },
   "outputs": [
    {
     "data": {
      "text/html": [
       "<div>\n",
       "<style scoped>\n",
       "    .dataframe tbody tr th:only-of-type {\n",
       "        vertical-align: middle;\n",
       "    }\n",
       "\n",
       "    .dataframe tbody tr th {\n",
       "        vertical-align: top;\n",
       "    }\n",
       "\n",
       "    .dataframe thead th {\n",
       "        text-align: right;\n",
       "    }\n",
       "</style>\n",
       "<table border=\"1\" class=\"dataframe\">\n",
       "  <thead>\n",
       "    <tr style=\"text-align: right;\">\n",
       "      <th></th>\n",
       "      <th>name</th>\n",
       "      <th>year</th>\n",
       "      <th>points</th>\n",
       "      <th>penalty</th>\n",
       "    </tr>\n",
       "  </thead>\n",
       "  <tbody>\n",
       "    <tr>\n",
       "      <th>one</th>\n",
       "      <td>홍길동</td>\n",
       "      <td>2014</td>\n",
       "      <td>1.5</td>\n",
       "      <td>1</td>\n",
       "    </tr>\n",
       "    <tr>\n",
       "      <th>two</th>\n",
       "      <td>Haidi</td>\n",
       "      <td>2015</td>\n",
       "      <td>5.5</td>\n",
       "      <td>2</td>\n",
       "    </tr>\n",
       "    <tr>\n",
       "      <th>three</th>\n",
       "      <td>Haidi</td>\n",
       "      <td>2016</td>\n",
       "      <td>3.6</td>\n",
       "      <td>3</td>\n",
       "    </tr>\n",
       "    <tr>\n",
       "      <th>four</th>\n",
       "      <td>Charles</td>\n",
       "      <td>2015</td>\n",
       "      <td>2.5</td>\n",
       "      <td>4</td>\n",
       "    </tr>\n",
       "    <tr>\n",
       "      <th>five</th>\n",
       "      <td>Charles</td>\n",
       "      <td>2017</td>\n",
       "      <td>2.9</td>\n",
       "      <td>5</td>\n",
       "    </tr>\n",
       "  </tbody>\n",
       "</table>\n",
       "</div>"
      ],
      "text/plain": [
       "          name  year  points  penalty\n",
       "one        홍길동  2014     1.5        1\n",
       "two      Haidi  2015     5.5        2\n",
       "three    Haidi  2016     3.6        3\n",
       "four   Charles  2015     2.5        4\n",
       "five   Charles  2017     2.9        5"
      ]
     },
     "execution_count": 76,
     "metadata": {},
     "output_type": "execute_result"
    }
   ],
   "source": [
    "df6"
   ]
  },
  {
   "cell_type": "code",
   "execution_count": 77,
   "id": "08907337",
   "metadata": {
    "ExecuteTime": {
     "end_time": "2021-11-25T06:56:59.046596Z",
     "start_time": "2021-11-25T06:56:59.037594Z"
    }
   },
   "outputs": [
    {
     "data": {
      "text/html": [
       "<div>\n",
       "<style scoped>\n",
       "    .dataframe tbody tr th:only-of-type {\n",
       "        vertical-align: middle;\n",
       "    }\n",
       "\n",
       "    .dataframe tbody tr th {\n",
       "        vertical-align: top;\n",
       "    }\n",
       "\n",
       "    .dataframe thead th {\n",
       "        text-align: right;\n",
       "    }\n",
       "</style>\n",
       "<table border=\"1\" class=\"dataframe\">\n",
       "  <thead>\n",
       "    <tr style=\"text-align: right;\">\n",
       "      <th></th>\n",
       "      <th>name</th>\n",
       "      <th>year</th>\n",
       "      <th>points</th>\n",
       "      <th>penalty</th>\n",
       "    </tr>\n",
       "  </thead>\n",
       "  <tbody>\n",
       "    <tr>\n",
       "      <th>one</th>\n",
       "      <td>홍길동</td>\n",
       "      <td>2014</td>\n",
       "      <td>1.5</td>\n",
       "      <td>1</td>\n",
       "    </tr>\n",
       "    <tr>\n",
       "      <th>two</th>\n",
       "      <td>Haidi</td>\n",
       "      <td>2015</td>\n",
       "      <td>5.5</td>\n",
       "      <td>2</td>\n",
       "    </tr>\n",
       "    <tr>\n",
       "      <th>three</th>\n",
       "      <td>Haidi</td>\n",
       "      <td>2016</td>\n",
       "      <td>3.6</td>\n",
       "      <td>3</td>\n",
       "    </tr>\n",
       "    <tr>\n",
       "      <th>four</th>\n",
       "      <td>Charles</td>\n",
       "      <td>2015</td>\n",
       "      <td>2.5</td>\n",
       "      <td>4</td>\n",
       "    </tr>\n",
       "    <tr>\n",
       "      <th>five</th>\n",
       "      <td>Charles</td>\n",
       "      <td>2017</td>\n",
       "      <td>2.9</td>\n",
       "      <td>5</td>\n",
       "    </tr>\n",
       "  </tbody>\n",
       "</table>\n",
       "</div>"
      ],
      "text/plain": [
       "          name  year  points  penalty\n",
       "one        홍길동  2014     1.5        1\n",
       "two      Haidi  2015     5.5        2\n",
       "three    Haidi  2016     3.6        3\n",
       "four   Charles  2015     2.5        4\n",
       "five   Charles  2017     2.9        5"
      ]
     },
     "execution_count": 77,
     "metadata": {},
     "output_type": "execute_result"
    }
   ],
   "source": [
    "df5"
   ]
  },
  {
   "cell_type": "code",
   "execution_count": 78,
   "id": "308bec12",
   "metadata": {
    "ExecuteTime": {
     "end_time": "2021-11-25T06:57:47.211395Z",
     "start_time": "2021-11-25T06:57:47.203391Z"
    }
   },
   "outputs": [],
   "source": [
    "## 깊은 복사 방식으로 복사본 생성\n",
    "\n",
    "df7 = df5.copy()"
   ]
  },
  {
   "cell_type": "code",
   "execution_count": 79,
   "id": "4d31447a",
   "metadata": {
    "ExecuteTime": {
     "end_time": "2021-11-25T06:57:52.826185Z",
     "start_time": "2021-11-25T06:57:52.804176Z"
    }
   },
   "outputs": [
    {
     "data": {
      "text/html": [
       "<div>\n",
       "<style scoped>\n",
       "    .dataframe tbody tr th:only-of-type {\n",
       "        vertical-align: middle;\n",
       "    }\n",
       "\n",
       "    .dataframe tbody tr th {\n",
       "        vertical-align: top;\n",
       "    }\n",
       "\n",
       "    .dataframe thead th {\n",
       "        text-align: right;\n",
       "    }\n",
       "</style>\n",
       "<table border=\"1\" class=\"dataframe\">\n",
       "  <thead>\n",
       "    <tr style=\"text-align: right;\">\n",
       "      <th></th>\n",
       "      <th>name</th>\n",
       "      <th>year</th>\n",
       "      <th>points</th>\n",
       "      <th>penalty</th>\n",
       "    </tr>\n",
       "  </thead>\n",
       "  <tbody>\n",
       "    <tr>\n",
       "      <th>one</th>\n",
       "      <td>홍길동</td>\n",
       "      <td>2014</td>\n",
       "      <td>1.5</td>\n",
       "      <td>1</td>\n",
       "    </tr>\n",
       "    <tr>\n",
       "      <th>two</th>\n",
       "      <td>Haidi</td>\n",
       "      <td>2015</td>\n",
       "      <td>5.5</td>\n",
       "      <td>2</td>\n",
       "    </tr>\n",
       "    <tr>\n",
       "      <th>three</th>\n",
       "      <td>Haidi</td>\n",
       "      <td>2016</td>\n",
       "      <td>3.6</td>\n",
       "      <td>3</td>\n",
       "    </tr>\n",
       "    <tr>\n",
       "      <th>four</th>\n",
       "      <td>Charles</td>\n",
       "      <td>2015</td>\n",
       "      <td>2.5</td>\n",
       "      <td>4</td>\n",
       "    </tr>\n",
       "    <tr>\n",
       "      <th>five</th>\n",
       "      <td>Charles</td>\n",
       "      <td>2017</td>\n",
       "      <td>2.9</td>\n",
       "      <td>5</td>\n",
       "    </tr>\n",
       "  </tbody>\n",
       "</table>\n",
       "</div>"
      ],
      "text/plain": [
       "          name  year  points  penalty\n",
       "one        홍길동  2014     1.5        1\n",
       "two      Haidi  2015     5.5        2\n",
       "three    Haidi  2016     3.6        3\n",
       "four   Charles  2015     2.5        4\n",
       "five   Charles  2017     2.9        5"
      ]
     },
     "execution_count": 79,
     "metadata": {},
     "output_type": "execute_result"
    }
   ],
   "source": [
    "df7"
   ]
  },
  {
   "cell_type": "code",
   "execution_count": 80,
   "id": "4ca72c24",
   "metadata": {
    "ExecuteTime": {
     "end_time": "2021-11-25T07:00:43.607302Z",
     "start_time": "2021-11-25T07:00:43.594291Z"
    }
   },
   "outputs": [
    {
     "data": {
      "text/html": [
       "<div>\n",
       "<style scoped>\n",
       "    .dataframe tbody tr th:only-of-type {\n",
       "        vertical-align: middle;\n",
       "    }\n",
       "\n",
       "    .dataframe tbody tr th {\n",
       "        vertical-align: top;\n",
       "    }\n",
       "\n",
       "    .dataframe thead th {\n",
       "        text-align: right;\n",
       "    }\n",
       "</style>\n",
       "<table border=\"1\" class=\"dataframe\">\n",
       "  <thead>\n",
       "    <tr style=\"text-align: right;\">\n",
       "      <th></th>\n",
       "      <th>name</th>\n",
       "      <th>year</th>\n",
       "      <th>points</th>\n",
       "      <th>penalty</th>\n",
       "    </tr>\n",
       "  </thead>\n",
       "  <tbody>\n",
       "    <tr>\n",
       "      <th>one</th>\n",
       "      <td>홍길동</td>\n",
       "      <td>2014</td>\n",
       "      <td>1.5</td>\n",
       "      <td>1</td>\n",
       "    </tr>\n",
       "    <tr>\n",
       "      <th>two</th>\n",
       "      <td>Haidi</td>\n",
       "      <td>2015</td>\n",
       "      <td>5.5</td>\n",
       "      <td>2</td>\n",
       "    </tr>\n",
       "    <tr>\n",
       "      <th>three</th>\n",
       "      <td>Haidi</td>\n",
       "      <td>2016</td>\n",
       "      <td>3.6</td>\n",
       "      <td>3</td>\n",
       "    </tr>\n",
       "    <tr>\n",
       "      <th>four</th>\n",
       "      <td>Charles</td>\n",
       "      <td>2015</td>\n",
       "      <td>2.5</td>\n",
       "      <td>4</td>\n",
       "    </tr>\n",
       "    <tr>\n",
       "      <th>five</th>\n",
       "      <td>Charles</td>\n",
       "      <td>2017</td>\n",
       "      <td>2.9</td>\n",
       "      <td>500</td>\n",
       "    </tr>\n",
       "  </tbody>\n",
       "</table>\n",
       "</div>"
      ],
      "text/plain": [
       "          name  year  points  penalty\n",
       "one        홍길동  2014     1.5        1\n",
       "two      Haidi  2015     5.5        2\n",
       "three    Haidi  2016     3.6        3\n",
       "four   Charles  2015     2.5        4\n",
       "five   Charles  2017     2.9      500"
      ]
     },
     "execution_count": 80,
     "metadata": {},
     "output_type": "execute_result"
    }
   ],
   "source": [
    "df7.iloc[-1, -1] = 500\n",
    "df7"
   ]
  },
  {
   "cell_type": "code",
   "execution_count": 81,
   "id": "d6df009e",
   "metadata": {
    "ExecuteTime": {
     "end_time": "2021-11-25T07:00:46.826416Z",
     "start_time": "2021-11-25T07:00:46.818419Z"
    }
   },
   "outputs": [
    {
     "data": {
      "text/html": [
       "<div>\n",
       "<style scoped>\n",
       "    .dataframe tbody tr th:only-of-type {\n",
       "        vertical-align: middle;\n",
       "    }\n",
       "\n",
       "    .dataframe tbody tr th {\n",
       "        vertical-align: top;\n",
       "    }\n",
       "\n",
       "    .dataframe thead th {\n",
       "        text-align: right;\n",
       "    }\n",
       "</style>\n",
       "<table border=\"1\" class=\"dataframe\">\n",
       "  <thead>\n",
       "    <tr style=\"text-align: right;\">\n",
       "      <th></th>\n",
       "      <th>name</th>\n",
       "      <th>year</th>\n",
       "      <th>points</th>\n",
       "      <th>penalty</th>\n",
       "    </tr>\n",
       "  </thead>\n",
       "  <tbody>\n",
       "    <tr>\n",
       "      <th>one</th>\n",
       "      <td>홍길동</td>\n",
       "      <td>2014</td>\n",
       "      <td>1.5</td>\n",
       "      <td>1</td>\n",
       "    </tr>\n",
       "    <tr>\n",
       "      <th>two</th>\n",
       "      <td>Haidi</td>\n",
       "      <td>2015</td>\n",
       "      <td>5.5</td>\n",
       "      <td>2</td>\n",
       "    </tr>\n",
       "    <tr>\n",
       "      <th>three</th>\n",
       "      <td>Haidi</td>\n",
       "      <td>2016</td>\n",
       "      <td>3.6</td>\n",
       "      <td>3</td>\n",
       "    </tr>\n",
       "    <tr>\n",
       "      <th>four</th>\n",
       "      <td>Charles</td>\n",
       "      <td>2015</td>\n",
       "      <td>2.5</td>\n",
       "      <td>4</td>\n",
       "    </tr>\n",
       "    <tr>\n",
       "      <th>five</th>\n",
       "      <td>Charles</td>\n",
       "      <td>2017</td>\n",
       "      <td>2.9</td>\n",
       "      <td>5</td>\n",
       "    </tr>\n",
       "  </tbody>\n",
       "</table>\n",
       "</div>"
      ],
      "text/plain": [
       "          name  year  points  penalty\n",
       "one        홍길동  2014     1.5        1\n",
       "two      Haidi  2015     5.5        2\n",
       "three    Haidi  2016     3.6        3\n",
       "four   Charles  2015     2.5        4\n",
       "five   Charles  2017     2.9        5"
      ]
     },
     "execution_count": 81,
     "metadata": {},
     "output_type": "execute_result"
    }
   ],
   "source": [
    "df5"
   ]
  },
  {
   "cell_type": "markdown",
   "id": "14e37b21",
   "metadata": {},
   "source": [
    "## 조건식에 맞는 필터링 방법 => numpy와 비슷하게 불린 인덱싱\n",
    "\n",
    "```\n",
    "df[조건절]\n",
    ">= , <=, ==, !=, &, |\n",
    "조건절에 true인 것들이 필터링 되어 나옴.\n",
    "\n",
    "```\n"
   ]
  },
  {
   "cell_type": "code",
   "execution_count": 82,
   "id": "6057a929",
   "metadata": {
    "ExecuteTime": {
     "end_time": "2021-11-25T07:02:26.715486Z",
     "start_time": "2021-11-25T07:02:26.706494Z"
    }
   },
   "outputs": [],
   "source": [
    "data = { \"year\":[2014, 2015, 2016, 2015, 2017,2013]\n",
    ",\"name\":['Haidi', 'Haidi', 'Haidi', 'Charles', 'Charles', 'Hayoung']\n",
    ", \"points\":[1.5, 1.7, 3.6, 2.5, 2.9, 4.0]\n",
    ", \"penalty\":[0.1,0.2, 0.3,0.4,0.5,0.1 ]\n",
    ", \"net_points\":[1.4,1.5,3.3,2.1,2.4,2.1]\n",
    ", \"bonus\":[10,20,30,40,50,60]}\n",
    "df = pd.DataFrame(data, \n",
    "columns=[\"year\",\"name\",\"points\",\"penalty\",\"net_points\",\"bonus\"],\n",
    "index=[\"one\", \"two\", \"three\", \"four\", \"five\",\"six\"])"
   ]
  },
  {
   "cell_type": "code",
   "execution_count": 90,
   "id": "967bc37b",
   "metadata": {
    "ExecuteTime": {
     "end_time": "2021-11-25T07:08:28.042570Z",
     "start_time": "2021-11-25T07:08:28.034575Z"
    }
   },
   "outputs": [
    {
     "data": {
      "text/html": [
       "<div>\n",
       "<style scoped>\n",
       "    .dataframe tbody tr th:only-of-type {\n",
       "        vertical-align: middle;\n",
       "    }\n",
       "\n",
       "    .dataframe tbody tr th {\n",
       "        vertical-align: top;\n",
       "    }\n",
       "\n",
       "    .dataframe thead th {\n",
       "        text-align: right;\n",
       "    }\n",
       "</style>\n",
       "<table border=\"1\" class=\"dataframe\">\n",
       "  <thead>\n",
       "    <tr style=\"text-align: right;\">\n",
       "      <th></th>\n",
       "      <th>year</th>\n",
       "      <th>name</th>\n",
       "      <th>points</th>\n",
       "      <th>penalty</th>\n",
       "      <th>net_points</th>\n",
       "      <th>bonus</th>\n",
       "    </tr>\n",
       "  </thead>\n",
       "  <tbody>\n",
       "    <tr>\n",
       "      <th>one</th>\n",
       "      <td>2014</td>\n",
       "      <td>Haidi</td>\n",
       "      <td>1.5</td>\n",
       "      <td>0.1</td>\n",
       "      <td>1.4</td>\n",
       "      <td>10</td>\n",
       "    </tr>\n",
       "    <tr>\n",
       "      <th>two</th>\n",
       "      <td>2015</td>\n",
       "      <td>Haidi</td>\n",
       "      <td>1.7</td>\n",
       "      <td>0.2</td>\n",
       "      <td>1.5</td>\n",
       "      <td>20</td>\n",
       "    </tr>\n",
       "    <tr>\n",
       "      <th>three</th>\n",
       "      <td>2016</td>\n",
       "      <td>Haidi</td>\n",
       "      <td>3.6</td>\n",
       "      <td>0.3</td>\n",
       "      <td>3.3</td>\n",
       "      <td>30</td>\n",
       "    </tr>\n",
       "    <tr>\n",
       "      <th>four</th>\n",
       "      <td>2015</td>\n",
       "      <td>Charles</td>\n",
       "      <td>2.5</td>\n",
       "      <td>0.4</td>\n",
       "      <td>2.1</td>\n",
       "      <td>40</td>\n",
       "    </tr>\n",
       "    <tr>\n",
       "      <th>five</th>\n",
       "      <td>2017</td>\n",
       "      <td>Charles</td>\n",
       "      <td>2.9</td>\n",
       "      <td>0.5</td>\n",
       "      <td>2.4</td>\n",
       "      <td>50</td>\n",
       "    </tr>\n",
       "    <tr>\n",
       "      <th>six</th>\n",
       "      <td>2013</td>\n",
       "      <td>Hayoung</td>\n",
       "      <td>4.0</td>\n",
       "      <td>0.1</td>\n",
       "      <td>2.1</td>\n",
       "      <td>60</td>\n",
       "    </tr>\n",
       "  </tbody>\n",
       "</table>\n",
       "</div>"
      ],
      "text/plain": [
       "       year     name  points  penalty  net_points  bonus\n",
       "one    2014    Haidi     1.5      0.1         1.4     10\n",
       "two    2015    Haidi     1.7      0.2         1.5     20\n",
       "three  2016    Haidi     3.6      0.3         3.3     30\n",
       "four   2015  Charles     2.5      0.4         2.1     40\n",
       "five   2017  Charles     2.9      0.5         2.4     50\n",
       "six    2013  Hayoung     4.0      0.1         2.1     60"
      ]
     },
     "execution_count": 90,
     "metadata": {},
     "output_type": "execute_result"
    }
   ],
   "source": [
    "df"
   ]
  },
  {
   "cell_type": "code",
   "execution_count": 85,
   "id": "2ec1843a",
   "metadata": {
    "ExecuteTime": {
     "end_time": "2021-11-25T07:04:07.327335Z",
     "start_time": "2021-11-25T07:04:07.315333Z"
    },
    "scrolled": true
   },
   "outputs": [
    {
     "data": {
      "text/html": [
       "<div>\n",
       "<style scoped>\n",
       "    .dataframe tbody tr th:only-of-type {\n",
       "        vertical-align: middle;\n",
       "    }\n",
       "\n",
       "    .dataframe tbody tr th {\n",
       "        vertical-align: top;\n",
       "    }\n",
       "\n",
       "    .dataframe thead th {\n",
       "        text-align: right;\n",
       "    }\n",
       "</style>\n",
       "<table border=\"1\" class=\"dataframe\">\n",
       "  <thead>\n",
       "    <tr style=\"text-align: right;\">\n",
       "      <th></th>\n",
       "      <th>year</th>\n",
       "      <th>name</th>\n",
       "      <th>points</th>\n",
       "      <th>penalty</th>\n",
       "      <th>net_points</th>\n",
       "      <th>bonus</th>\n",
       "    </tr>\n",
       "  </thead>\n",
       "  <tbody>\n",
       "    <tr>\n",
       "      <th>one</th>\n",
       "      <td>2014</td>\n",
       "      <td>Haidi</td>\n",
       "      <td>1.5</td>\n",
       "      <td>0.1</td>\n",
       "      <td>1.4</td>\n",
       "      <td>10</td>\n",
       "    </tr>\n",
       "    <tr>\n",
       "      <th>two</th>\n",
       "      <td>2015</td>\n",
       "      <td>Haidi</td>\n",
       "      <td>1.7</td>\n",
       "      <td>0.2</td>\n",
       "      <td>1.5</td>\n",
       "      <td>20</td>\n",
       "    </tr>\n",
       "    <tr>\n",
       "      <th>three</th>\n",
       "      <td>2016</td>\n",
       "      <td>Haidi</td>\n",
       "      <td>3.6</td>\n",
       "      <td>0.3</td>\n",
       "      <td>3.3</td>\n",
       "      <td>30</td>\n",
       "    </tr>\n",
       "  </tbody>\n",
       "</table>\n",
       "</div>"
      ],
      "text/plain": [
       "       year   name  points  penalty  net_points  bonus\n",
       "one    2014  Haidi     1.5      0.1         1.4     10\n",
       "two    2015  Haidi     1.7      0.2         1.5     20\n",
       "three  2016  Haidi     3.6      0.3         3.3     30"
      ]
     },
     "execution_count": 85,
     "metadata": {},
     "output_type": "execute_result"
    }
   ],
   "source": [
    "df[df.name == 'Haidi']"
   ]
  },
  {
   "cell_type": "code",
   "execution_count": 93,
   "id": "e882f97e",
   "metadata": {
    "ExecuteTime": {
     "end_time": "2021-11-25T07:08:46.689915Z",
     "start_time": "2021-11-25T07:08:46.667911Z"
    }
   },
   "outputs": [
    {
     "data": {
      "text/html": [
       "<div>\n",
       "<style scoped>\n",
       "    .dataframe tbody tr th:only-of-type {\n",
       "        vertical-align: middle;\n",
       "    }\n",
       "\n",
       "    .dataframe tbody tr th {\n",
       "        vertical-align: top;\n",
       "    }\n",
       "\n",
       "    .dataframe thead th {\n",
       "        text-align: right;\n",
       "    }\n",
       "</style>\n",
       "<table border=\"1\" class=\"dataframe\">\n",
       "  <thead>\n",
       "    <tr style=\"text-align: right;\">\n",
       "      <th></th>\n",
       "      <th>year</th>\n",
       "      <th>name</th>\n",
       "      <th>points</th>\n",
       "      <th>penalty</th>\n",
       "      <th>net_points</th>\n",
       "      <th>bonus</th>\n",
       "    </tr>\n",
       "  </thead>\n",
       "  <tbody>\n",
       "    <tr>\n",
       "      <th>four</th>\n",
       "      <td>2015</td>\n",
       "      <td>Charles</td>\n",
       "      <td>2.5</td>\n",
       "      <td>0.4</td>\n",
       "      <td>2.1</td>\n",
       "      <td>40</td>\n",
       "    </tr>\n",
       "    <tr>\n",
       "      <th>five</th>\n",
       "      <td>2017</td>\n",
       "      <td>Charles</td>\n",
       "      <td>2.9</td>\n",
       "      <td>0.5</td>\n",
       "      <td>2.4</td>\n",
       "      <td>50</td>\n",
       "    </tr>\n",
       "  </tbody>\n",
       "</table>\n",
       "</div>"
      ],
      "text/plain": [
       "      year     name  points  penalty  net_points  bonus\n",
       "four  2015  Charles     2.5      0.4         2.1     40\n",
       "five  2017  Charles     2.9      0.5         2.4     50"
      ]
     },
     "execution_count": 93,
     "metadata": {},
     "output_type": "execute_result"
    }
   ],
   "source": [
    "# penalty가 0.3 이상이면서, name이 'charles'인 경우\n",
    "df[(df['penalty'] >= 0.3) & (df['name'] == \"Charles\")]"
   ]
  },
  {
   "cell_type": "markdown",
   "id": "7b42906d",
   "metadata": {},
   "source": [
    "# csv, tsv파일을 데이터 프레임으로"
   ]
  },
  {
   "cell_type": "code",
   "execution_count": 94,
   "id": "950829cb",
   "metadata": {
    "ExecuteTime": {
     "end_time": "2021-11-25T07:32:09.702374Z",
     "start_time": "2021-11-25T07:32:09.649364Z"
    }
   },
   "outputs": [
    {
     "name": "stdout",
     "output_type": "stream",
     "text": [
      " C 드라이브의 볼륨: OS\n",
      " 볼륨 일련 번호: BEAD-E4AA\n",
      "\n",
      " C:\\Users\\13a71\\Dropbox\\python숙달 디렉터리\n",
      "\n",
      "2021-11-25  오후 04:30    <DIR>          .\n",
      "2021-11-25  오후 04:30    <DIR>          ..\n",
      "2021-11-25  오후 02:32    <DIR>          .ipynb_checkpoints\n",
      "2021-11-23  오전 09:36    <DIR>          CODING TEST\n",
      "2021-11-25  오후 04:30    <DIR>          data\n",
      "2021-11-24  오후 03:59           112,846 day102_np.ipynb\n",
      "2021-11-23  오전 11:32    <DIR>          numpy\n",
      "2021-11-25  오후 01:22            55,230 NUMPY.ipynb\n",
      "2021-11-25  오전 10:17            61,710 Numpy_Quiz.ipynb\n",
      "2021-11-24  오후 03:31    <DIR>          output\n",
      "2021-11-25  오후 02:29           125,857 pandas.ipynb\n",
      "2021-11-25  오후 04:30            98,755 pandas_te.ipynb\n",
      "               5개 파일             454,398 바이트\n",
      "               7개 디렉터리  12,702,535,680 바이트 남음\n"
     ]
    }
   ],
   "source": [
    "ls"
   ]
  },
  {
   "cell_type": "code",
   "execution_count": 98,
   "id": "b155bfc1",
   "metadata": {
    "ExecuteTime": {
     "end_time": "2021-11-25T07:52:23.811904Z",
     "start_time": "2021-11-25T07:52:23.803886Z"
    }
   },
   "outputs": [],
   "source": [
    "df_inchon = pd.read_csv('data/population_in_Inchon.csv', encoding='cp949')"
   ]
  },
  {
   "cell_type": "code",
   "execution_count": 99,
   "id": "fed89b94",
   "metadata": {
    "ExecuteTime": {
     "end_time": "2021-11-25T07:52:24.051934Z",
     "start_time": "2021-11-25T07:52:24.029928Z"
    }
   },
   "outputs": [
    {
     "data": {
      "text/html": [
       "<div>\n",
       "<style scoped>\n",
       "    .dataframe tbody tr th:only-of-type {\n",
       "        vertical-align: middle;\n",
       "    }\n",
       "\n",
       "    .dataframe tbody tr th {\n",
       "        vertical-align: top;\n",
       "    }\n",
       "\n",
       "    .dataframe thead th {\n",
       "        text-align: right;\n",
       "    }\n",
       "</style>\n",
       "<table border=\"1\" class=\"dataframe\">\n",
       "  <thead>\n",
       "    <tr style=\"text-align: right;\">\n",
       "      <th></th>\n",
       "      <th>군  구</th>\n",
       "      <th>주 민 등 록 인 구(남)</th>\n",
       "      <th>주 민 등 록 인 구(여)</th>\n",
       "      <th>주 민 등 록 인 구(세대수)</th>\n",
       "      <th>외 국 인(남)</th>\n",
       "      <th>외 국 인(여)</th>\n",
       "    </tr>\n",
       "  </thead>\n",
       "  <tbody>\n",
       "    <tr>\n",
       "      <th>0</th>\n",
       "      <td>중   구</td>\n",
       "      <td>62202</td>\n",
       "      <td>57227</td>\n",
       "      <td>55952</td>\n",
       "      <td>2006</td>\n",
       "      <td>1886</td>\n",
       "    </tr>\n",
       "    <tr>\n",
       "      <th>1</th>\n",
       "      <td>동   구</td>\n",
       "      <td>33875</td>\n",
       "      <td>33312</td>\n",
       "      <td>29153</td>\n",
       "      <td>518</td>\n",
       "      <td>391</td>\n",
       "    </tr>\n",
       "    <tr>\n",
       "      <th>2</th>\n",
       "      <td>남   구</td>\n",
       "      <td>211021</td>\n",
       "      <td>207512</td>\n",
       "      <td>183418</td>\n",
       "      <td>4281</td>\n",
       "      <td>4235</td>\n",
       "    </tr>\n",
       "    <tr>\n",
       "      <th>3</th>\n",
       "      <td>연수구</td>\n",
       "      <td>169121</td>\n",
       "      <td>170806</td>\n",
       "      <td>126408</td>\n",
       "      <td>4386</td>\n",
       "      <td>4862</td>\n",
       "    </tr>\n",
       "    <tr>\n",
       "      <th>4</th>\n",
       "      <td>남동구</td>\n",
       "      <td>268451</td>\n",
       "      <td>270525</td>\n",
       "      <td>217621</td>\n",
       "      <td>8370</td>\n",
       "      <td>3824</td>\n",
       "    </tr>\n",
       "    <tr>\n",
       "      <th>5</th>\n",
       "      <td>부평구</td>\n",
       "      <td>262855</td>\n",
       "      <td>266867</td>\n",
       "      <td>213270</td>\n",
       "      <td>6602</td>\n",
       "      <td>6178</td>\n",
       "    </tr>\n",
       "    <tr>\n",
       "      <th>6</th>\n",
       "      <td>계양구</td>\n",
       "      <td>157731</td>\n",
       "      <td>158190</td>\n",
       "      <td>124349</td>\n",
       "      <td>1396</td>\n",
       "      <td>1775</td>\n",
       "    </tr>\n",
       "    <tr>\n",
       "      <th>7</th>\n",
       "      <td>서   구</td>\n",
       "      <td>269966</td>\n",
       "      <td>264198</td>\n",
       "      <td>208064</td>\n",
       "      <td>8331</td>\n",
       "      <td>3793</td>\n",
       "    </tr>\n",
       "    <tr>\n",
       "      <th>8</th>\n",
       "      <td>강화군</td>\n",
       "      <td>34498</td>\n",
       "      <td>34274</td>\n",
       "      <td>32202</td>\n",
       "      <td>495</td>\n",
       "      <td>278</td>\n",
       "    </tr>\n",
       "    <tr>\n",
       "      <th>9</th>\n",
       "      <td>옹진군</td>\n",
       "      <td>12010</td>\n",
       "      <td>9200</td>\n",
       "      <td>11746</td>\n",
       "      <td>130</td>\n",
       "      <td>54</td>\n",
       "    </tr>\n",
       "  </tbody>\n",
       "</table>\n",
       "</div>"
      ],
      "text/plain": [
       "    군  구  주 민 등 록 인 구(남)  주 민 등 록 인 구(여)  주 민 등 록 인 구(세대수)  외 국 인(남)  외 국 인(여)\n",
       "0  중   구           62202           57227             55952      2006      1886\n",
       "1  동   구           33875           33312             29153       518       391\n",
       "2  남   구          211021          207512            183418      4281      4235\n",
       "3    연수구          169121          170806            126408      4386      4862\n",
       "4    남동구          268451          270525            217621      8370      3824\n",
       "5    부평구          262855          266867            213270      6602      6178\n",
       "6    계양구          157731          158190            124349      1396      1775\n",
       "7  서   구          269966          264198            208064      8331      3793\n",
       "8    강화군           34498           34274             32202       495       278\n",
       "9    옹진군           12010            9200             11746       130        54"
      ]
     },
     "execution_count": 99,
     "metadata": {},
     "output_type": "execute_result"
    }
   ],
   "source": [
    "df_inchon"
   ]
  },
  {
   "cell_type": "code",
   "execution_count": 100,
   "id": "4fc9e8fd",
   "metadata": {
    "ExecuteTime": {
     "end_time": "2021-11-25T07:52:24.984553Z",
     "start_time": "2021-11-25T07:52:24.970566Z"
    }
   },
   "outputs": [
    {
     "data": {
      "text/html": [
       "<div>\n",
       "<style scoped>\n",
       "    .dataframe tbody tr th:only-of-type {\n",
       "        vertical-align: middle;\n",
       "    }\n",
       "\n",
       "    .dataframe tbody tr th {\n",
       "        vertical-align: top;\n",
       "    }\n",
       "\n",
       "    .dataframe thead th {\n",
       "        text-align: right;\n",
       "    }\n",
       "</style>\n",
       "<table border=\"1\" class=\"dataframe\">\n",
       "  <thead>\n",
       "    <tr style=\"text-align: right;\">\n",
       "      <th></th>\n",
       "      <th>군  구</th>\n",
       "      <th>주 민 등 록 인 구(세대수)</th>\n",
       "    </tr>\n",
       "  </thead>\n",
       "  <tbody>\n",
       "    <tr>\n",
       "      <th>0</th>\n",
       "      <td>중   구</td>\n",
       "      <td>55952</td>\n",
       "    </tr>\n",
       "    <tr>\n",
       "      <th>1</th>\n",
       "      <td>동   구</td>\n",
       "      <td>29153</td>\n",
       "    </tr>\n",
       "    <tr>\n",
       "      <th>2</th>\n",
       "      <td>남   구</td>\n",
       "      <td>183418</td>\n",
       "    </tr>\n",
       "    <tr>\n",
       "      <th>3</th>\n",
       "      <td>연수구</td>\n",
       "      <td>126408</td>\n",
       "    </tr>\n",
       "    <tr>\n",
       "      <th>4</th>\n",
       "      <td>남동구</td>\n",
       "      <td>217621</td>\n",
       "    </tr>\n",
       "    <tr>\n",
       "      <th>5</th>\n",
       "      <td>부평구</td>\n",
       "      <td>213270</td>\n",
       "    </tr>\n",
       "    <tr>\n",
       "      <th>6</th>\n",
       "      <td>계양구</td>\n",
       "      <td>124349</td>\n",
       "    </tr>\n",
       "    <tr>\n",
       "      <th>7</th>\n",
       "      <td>서   구</td>\n",
       "      <td>208064</td>\n",
       "    </tr>\n",
       "    <tr>\n",
       "      <th>8</th>\n",
       "      <td>강화군</td>\n",
       "      <td>32202</td>\n",
       "    </tr>\n",
       "    <tr>\n",
       "      <th>9</th>\n",
       "      <td>옹진군</td>\n",
       "      <td>11746</td>\n",
       "    </tr>\n",
       "  </tbody>\n",
       "</table>\n",
       "</div>"
      ],
      "text/plain": [
       "    군  구  주 민 등 록 인 구(세대수)\n",
       "0  중   구             55952\n",
       "1  동   구             29153\n",
       "2  남   구            183418\n",
       "3    연수구            126408\n",
       "4    남동구            217621\n",
       "5    부평구            213270\n",
       "6    계양구            124349\n",
       "7  서   구            208064\n",
       "8    강화군             32202\n",
       "9    옹진군             11746"
      ]
     },
     "execution_count": 100,
     "metadata": {},
     "output_type": "execute_result"
    }
   ],
   "source": [
    "# '군  구', '주 민 등 록 인 구(세대수)' 컬럼 출력 \n",
    "df_inchon[['군  구', '주 민 등 록 인 구(세대수)']]"
   ]
  },
  {
   "cell_type": "code",
   "execution_count": 101,
   "id": "8dca238e",
   "metadata": {
    "ExecuteTime": {
     "end_time": "2021-11-25T07:52:31.090579Z",
     "start_time": "2021-11-25T07:52:31.073578Z"
    }
   },
   "outputs": [
    {
     "data": {
      "text/html": [
       "<div>\n",
       "<style scoped>\n",
       "    .dataframe tbody tr th:only-of-type {\n",
       "        vertical-align: middle;\n",
       "    }\n",
       "\n",
       "    .dataframe tbody tr th {\n",
       "        vertical-align: top;\n",
       "    }\n",
       "\n",
       "    .dataframe thead th {\n",
       "        text-align: right;\n",
       "    }\n",
       "</style>\n",
       "<table border=\"1\" class=\"dataframe\">\n",
       "  <thead>\n",
       "    <tr style=\"text-align: right;\">\n",
       "      <th></th>\n",
       "      <th>군  구</th>\n",
       "      <th>주 민 등 록 인 구(남)</th>\n",
       "      <th>주 민 등 록 인 구(여)</th>\n",
       "      <th>주 민 등 록 인 구(세대수)</th>\n",
       "      <th>외 국 인(남)</th>\n",
       "      <th>외 국 인(여)</th>\n",
       "    </tr>\n",
       "  </thead>\n",
       "  <tbody>\n",
       "    <tr>\n",
       "      <th>2</th>\n",
       "      <td>남   구</td>\n",
       "      <td>211021</td>\n",
       "      <td>207512</td>\n",
       "      <td>183418</td>\n",
       "      <td>4281</td>\n",
       "      <td>4235</td>\n",
       "    </tr>\n",
       "    <tr>\n",
       "      <th>3</th>\n",
       "      <td>연수구</td>\n",
       "      <td>169121</td>\n",
       "      <td>170806</td>\n",
       "      <td>126408</td>\n",
       "      <td>4386</td>\n",
       "      <td>4862</td>\n",
       "    </tr>\n",
       "    <tr>\n",
       "      <th>5</th>\n",
       "      <td>부평구</td>\n",
       "      <td>262855</td>\n",
       "      <td>266867</td>\n",
       "      <td>213270</td>\n",
       "      <td>6602</td>\n",
       "      <td>6178</td>\n",
       "    </tr>\n",
       "  </tbody>\n",
       "</table>\n",
       "</div>"
      ],
      "text/plain": [
       "    군  구  주 민 등 록 인 구(남)  주 민 등 록 인 구(여)  주 민 등 록 인 구(세대수)  외 국 인(남)  외 국 인(여)\n",
       "2  남   구          211021          207512            183418      4281      4235\n",
       "3    연수구          169121          170806            126408      4386      4862\n",
       "5    부평구          262855          266867            213270      6602      6178"
      ]
     },
     "execution_count": 101,
     "metadata": {},
     "output_type": "execute_result"
    }
   ],
   "source": [
    "# 외 국 인(여) 컬럼값이 4000 이상 \n",
    "df_inchon[df_inchon['외 국 인(여)'] > 4000]"
   ]
  },
  {
   "cell_type": "code",
   "execution_count": 102,
   "id": "121a7938",
   "metadata": {
    "ExecuteTime": {
     "end_time": "2021-11-25T07:52:40.031463Z",
     "start_time": "2021-11-25T07:52:40.017455Z"
    }
   },
   "outputs": [],
   "source": [
    "# 외국인 컬럼 추가 => '외 국 인(남)'+ '외 국 인(여)'\n",
    "df_inchon['외국인'] = df_inchon['외 국 인(여)']+df_inchon['외 국 인(남)']"
   ]
  },
  {
   "cell_type": "code",
   "execution_count": 103,
   "id": "39f26098",
   "metadata": {
    "ExecuteTime": {
     "end_time": "2021-11-25T07:52:46.563466Z",
     "start_time": "2021-11-25T07:52:46.553465Z"
    }
   },
   "outputs": [],
   "source": [
    "df_inchon['외국인'] = df_inchon['외 국 인(여)']+df_inchon['외 국 인(남)']"
   ]
  },
  {
   "cell_type": "code",
   "execution_count": 106,
   "id": "4cf21953",
   "metadata": {
    "ExecuteTime": {
     "end_time": "2021-11-25T07:53:02.057471Z",
     "start_time": "2021-11-25T07:53:02.049476Z"
    },
    "scrolled": true
   },
   "outputs": [],
   "source": [
    "# '외 국 인(남)'+ '외 국 인(여)' 컬럼 삭제 \n",
    "df_inchon.drop(['외 국 인(남)','외 국 인(여)'], inplace=True, axis=1)"
   ]
  },
  {
   "cell_type": "code",
   "execution_count": 107,
   "id": "6fc34c7a",
   "metadata": {
    "ExecuteTime": {
     "end_time": "2021-11-25T07:53:05.442327Z",
     "start_time": "2021-11-25T07:53:05.426308Z"
    }
   },
   "outputs": [
    {
     "data": {
      "text/html": [
       "<div>\n",
       "<style scoped>\n",
       "    .dataframe tbody tr th:only-of-type {\n",
       "        vertical-align: middle;\n",
       "    }\n",
       "\n",
       "    .dataframe tbody tr th {\n",
       "        vertical-align: top;\n",
       "    }\n",
       "\n",
       "    .dataframe thead th {\n",
       "        text-align: right;\n",
       "    }\n",
       "</style>\n",
       "<table border=\"1\" class=\"dataframe\">\n",
       "  <thead>\n",
       "    <tr style=\"text-align: right;\">\n",
       "      <th></th>\n",
       "      <th>군  구</th>\n",
       "      <th>주 민 등 록 인 구(남)</th>\n",
       "      <th>주 민 등 록 인 구(여)</th>\n",
       "      <th>주 민 등 록 인 구(세대수)</th>\n",
       "      <th>외국인</th>\n",
       "    </tr>\n",
       "  </thead>\n",
       "  <tbody>\n",
       "    <tr>\n",
       "      <th>0</th>\n",
       "      <td>중   구</td>\n",
       "      <td>62202</td>\n",
       "      <td>57227</td>\n",
       "      <td>55952</td>\n",
       "      <td>3892</td>\n",
       "    </tr>\n",
       "    <tr>\n",
       "      <th>1</th>\n",
       "      <td>동   구</td>\n",
       "      <td>33875</td>\n",
       "      <td>33312</td>\n",
       "      <td>29153</td>\n",
       "      <td>909</td>\n",
       "    </tr>\n",
       "    <tr>\n",
       "      <th>2</th>\n",
       "      <td>남   구</td>\n",
       "      <td>211021</td>\n",
       "      <td>207512</td>\n",
       "      <td>183418</td>\n",
       "      <td>8516</td>\n",
       "    </tr>\n",
       "    <tr>\n",
       "      <th>3</th>\n",
       "      <td>연수구</td>\n",
       "      <td>169121</td>\n",
       "      <td>170806</td>\n",
       "      <td>126408</td>\n",
       "      <td>9248</td>\n",
       "    </tr>\n",
       "    <tr>\n",
       "      <th>4</th>\n",
       "      <td>남동구</td>\n",
       "      <td>268451</td>\n",
       "      <td>270525</td>\n",
       "      <td>217621</td>\n",
       "      <td>12194</td>\n",
       "    </tr>\n",
       "    <tr>\n",
       "      <th>5</th>\n",
       "      <td>부평구</td>\n",
       "      <td>262855</td>\n",
       "      <td>266867</td>\n",
       "      <td>213270</td>\n",
       "      <td>12780</td>\n",
       "    </tr>\n",
       "    <tr>\n",
       "      <th>6</th>\n",
       "      <td>계양구</td>\n",
       "      <td>157731</td>\n",
       "      <td>158190</td>\n",
       "      <td>124349</td>\n",
       "      <td>3171</td>\n",
       "    </tr>\n",
       "    <tr>\n",
       "      <th>7</th>\n",
       "      <td>서   구</td>\n",
       "      <td>269966</td>\n",
       "      <td>264198</td>\n",
       "      <td>208064</td>\n",
       "      <td>12124</td>\n",
       "    </tr>\n",
       "    <tr>\n",
       "      <th>8</th>\n",
       "      <td>강화군</td>\n",
       "      <td>34498</td>\n",
       "      <td>34274</td>\n",
       "      <td>32202</td>\n",
       "      <td>773</td>\n",
       "    </tr>\n",
       "    <tr>\n",
       "      <th>9</th>\n",
       "      <td>옹진군</td>\n",
       "      <td>12010</td>\n",
       "      <td>9200</td>\n",
       "      <td>11746</td>\n",
       "      <td>184</td>\n",
       "    </tr>\n",
       "  </tbody>\n",
       "</table>\n",
       "</div>"
      ],
      "text/plain": [
       "    군  구  주 민 등 록 인 구(남)  주 민 등 록 인 구(여)  주 민 등 록 인 구(세대수)    외국인\n",
       "0  중   구           62202           57227             55952   3892\n",
       "1  동   구           33875           33312             29153    909\n",
       "2  남   구          211021          207512            183418   8516\n",
       "3    연수구          169121          170806            126408   9248\n",
       "4    남동구          268451          270525            217621  12194\n",
       "5    부평구          262855          266867            213270  12780\n",
       "6    계양구          157731          158190            124349   3171\n",
       "7  서   구          269966          264198            208064  12124\n",
       "8    강화군           34498           34274             32202    773\n",
       "9    옹진군           12010            9200             11746    184"
      ]
     },
     "execution_count": 107,
     "metadata": {},
     "output_type": "execute_result"
    }
   ],
   "source": [
    "df_inchon"
   ]
  },
  {
   "cell_type": "code",
   "execution_count": 108,
   "id": "c2cbd12b",
   "metadata": {
    "ExecuteTime": {
     "end_time": "2021-11-25T07:53:12.154074Z",
     "start_time": "2021-11-25T07:53:12.122081Z"
    }
   },
   "outputs": [
    {
     "data": {
      "text/html": [
       "<div>\n",
       "<style scoped>\n",
       "    .dataframe tbody tr th:only-of-type {\n",
       "        vertical-align: middle;\n",
       "    }\n",
       "\n",
       "    .dataframe tbody tr th {\n",
       "        vertical-align: top;\n",
       "    }\n",
       "\n",
       "    .dataframe thead th {\n",
       "        text-align: right;\n",
       "    }\n",
       "</style>\n",
       "<table border=\"1\" class=\"dataframe\">\n",
       "  <thead>\n",
       "    <tr style=\"text-align: right;\">\n",
       "      <th></th>\n",
       "      <th>주 민 등 록 인 구(남)</th>\n",
       "      <th>주 민 등 록 인 구(여)</th>\n",
       "      <th>주 민 등 록 인 구(세대수)</th>\n",
       "      <th>외국인</th>\n",
       "    </tr>\n",
       "  </thead>\n",
       "  <tbody>\n",
       "    <tr>\n",
       "      <th>count</th>\n",
       "      <td>10.000000</td>\n",
       "      <td>10.000000</td>\n",
       "      <td>10.000000</td>\n",
       "      <td>10.00000</td>\n",
       "    </tr>\n",
       "    <tr>\n",
       "      <th>mean</th>\n",
       "      <td>148173.000000</td>\n",
       "      <td>147211.100000</td>\n",
       "      <td>120218.300000</td>\n",
       "      <td>6379.10000</td>\n",
       "    </tr>\n",
       "    <tr>\n",
       "      <th>std</th>\n",
       "      <td>104801.268158</td>\n",
       "      <td>105617.357956</td>\n",
       "      <td>82897.864944</td>\n",
       "      <td>5129.35533</td>\n",
       "    </tr>\n",
       "    <tr>\n",
       "      <th>min</th>\n",
       "      <td>12010.000000</td>\n",
       "      <td>9200.000000</td>\n",
       "      <td>11746.000000</td>\n",
       "      <td>184.00000</td>\n",
       "    </tr>\n",
       "    <tr>\n",
       "      <th>25%</th>\n",
       "      <td>41424.000000</td>\n",
       "      <td>40012.250000</td>\n",
       "      <td>38139.500000</td>\n",
       "      <td>1474.50000</td>\n",
       "    </tr>\n",
       "    <tr>\n",
       "      <th>50%</th>\n",
       "      <td>163426.000000</td>\n",
       "      <td>164498.000000</td>\n",
       "      <td>125378.500000</td>\n",
       "      <td>6204.00000</td>\n",
       "    </tr>\n",
       "    <tr>\n",
       "      <th>75%</th>\n",
       "      <td>249896.500000</td>\n",
       "      <td>250026.500000</td>\n",
       "      <td>201902.500000</td>\n",
       "      <td>11405.00000</td>\n",
       "    </tr>\n",
       "    <tr>\n",
       "      <th>max</th>\n",
       "      <td>269966.000000</td>\n",
       "      <td>270525.000000</td>\n",
       "      <td>217621.000000</td>\n",
       "      <td>12780.00000</td>\n",
       "    </tr>\n",
       "  </tbody>\n",
       "</table>\n",
       "</div>"
      ],
      "text/plain": [
       "       주 민 등 록 인 구(남)  주 민 등 록 인 구(여)  주 민 등 록 인 구(세대수)          외국인\n",
       "count       10.000000       10.000000         10.000000     10.00000\n",
       "mean    148173.000000   147211.100000     120218.300000   6379.10000\n",
       "std     104801.268158   105617.357956      82897.864944   5129.35533\n",
       "min      12010.000000     9200.000000      11746.000000    184.00000\n",
       "25%      41424.000000    40012.250000      38139.500000   1474.50000\n",
       "50%     163426.000000   164498.000000     125378.500000   6204.00000\n",
       "75%     249896.500000   250026.500000     201902.500000  11405.00000\n",
       "max     269966.000000   270525.000000     217621.000000  12780.00000"
      ]
     },
     "execution_count": 108,
     "metadata": {},
     "output_type": "execute_result"
    }
   ],
   "source": [
    "df_inchon.describe()"
   ]
  },
  {
   "cell_type": "code",
   "execution_count": 109,
   "id": "bb0d741b",
   "metadata": {
    "ExecuteTime": {
     "end_time": "2021-11-25T07:53:16.802663Z",
     "start_time": "2021-11-25T07:53:16.785660Z"
    }
   },
   "outputs": [
    {
     "data": {
      "text/plain": [
       "25%     1474.5\n",
       "50%     6204.0\n",
       "75%    11405.0\n",
       "Name: 외국인, dtype: float64"
      ]
     },
     "execution_count": 109,
     "metadata": {},
     "output_type": "execute_result"
    }
   ],
   "source": [
    "# 외국인 컬럼의 분위수 정보 출력\n",
    "df_inchon.describe().loc['25%':'75%', '외국인']"
   ]
  },
  {
   "cell_type": "code",
   "execution_count": 110,
   "id": "a971e9ab",
   "metadata": {
    "ExecuteTime": {
     "end_time": "2021-11-25T07:53:21.096426Z",
     "start_time": "2021-11-25T07:53:21.082422Z"
    }
   },
   "outputs": [
    {
     "data": {
      "text/html": [
       "<div>\n",
       "<style scoped>\n",
       "    .dataframe tbody tr th:only-of-type {\n",
       "        vertical-align: middle;\n",
       "    }\n",
       "\n",
       "    .dataframe tbody tr th {\n",
       "        vertical-align: top;\n",
       "    }\n",
       "\n",
       "    .dataframe thead th {\n",
       "        text-align: right;\n",
       "    }\n",
       "</style>\n",
       "<table border=\"1\" class=\"dataframe\">\n",
       "  <thead>\n",
       "    <tr style=\"text-align: right;\">\n",
       "      <th></th>\n",
       "      <th>외국인</th>\n",
       "    </tr>\n",
       "  </thead>\n",
       "  <tbody>\n",
       "    <tr>\n",
       "      <th>25%</th>\n",
       "      <td>1474.5</td>\n",
       "    </tr>\n",
       "    <tr>\n",
       "      <th>50%</th>\n",
       "      <td>6204.0</td>\n",
       "    </tr>\n",
       "    <tr>\n",
       "      <th>75%</th>\n",
       "      <td>11405.0</td>\n",
       "    </tr>\n",
       "  </tbody>\n",
       "</table>\n",
       "</div>"
      ],
      "text/plain": [
       "         외국인\n",
       "25%   1474.5\n",
       "50%   6204.0\n",
       "75%  11405.0"
      ]
     },
     "execution_count": 110,
     "metadata": {},
     "output_type": "execute_result"
    }
   ],
   "source": [
    "df_inchon.describe().loc['25%':'75%', ['외국인']]"
   ]
  },
  {
   "cell_type": "markdown",
   "id": "ef2147ed",
   "metadata": {},
   "source": [
    "#####  tsv 파일 => 데이타프레임 \n",
    "\n",
    "```\n",
    "tab seperate value \n",
    "sep='\\t' 로 지정 \n",
    "pd.read_csv('data/gapminder.tsv', encoding='cp949', sep='\\t')"
   ]
  },
  {
   "cell_type": "code",
   "execution_count": 149,
   "id": "964c2363",
   "metadata": {
    "ExecuteTime": {
     "end_time": "2021-11-29T00:59:41.539156Z",
     "start_time": "2021-11-29T00:59:41.523153Z"
    },
    "scrolled": true
   },
   "outputs": [],
   "source": [
    "gapminder = pd.read_csv('data/gapminder.tsv', encoding='cp949', sep='\\t')"
   ]
  },
  {
   "cell_type": "code",
   "execution_count": 150,
   "id": "efe23fb0",
   "metadata": {
    "ExecuteTime": {
     "end_time": "2021-11-29T00:59:41.749202Z",
     "start_time": "2021-11-29T00:59:41.736201Z"
    }
   },
   "outputs": [
    {
     "data": {
      "text/html": [
       "<div>\n",
       "<style scoped>\n",
       "    .dataframe tbody tr th:only-of-type {\n",
       "        vertical-align: middle;\n",
       "    }\n",
       "\n",
       "    .dataframe tbody tr th {\n",
       "        vertical-align: top;\n",
       "    }\n",
       "\n",
       "    .dataframe thead th {\n",
       "        text-align: right;\n",
       "    }\n",
       "</style>\n",
       "<table border=\"1\" class=\"dataframe\">\n",
       "  <thead>\n",
       "    <tr style=\"text-align: right;\">\n",
       "      <th></th>\n",
       "      <th>country</th>\n",
       "      <th>continent</th>\n",
       "      <th>year</th>\n",
       "      <th>lifeExp</th>\n",
       "      <th>pop</th>\n",
       "      <th>gdpPercap</th>\n",
       "    </tr>\n",
       "  </thead>\n",
       "  <tbody>\n",
       "    <tr>\n",
       "      <th>11</th>\n",
       "      <td>Afghanistan</td>\n",
       "      <td>Asia</td>\n",
       "      <td>2007</td>\n",
       "      <td>43.828</td>\n",
       "      <td>31889923</td>\n",
       "      <td>974.580338</td>\n",
       "    </tr>\n",
       "    <tr>\n",
       "      <th>23</th>\n",
       "      <td>Albania</td>\n",
       "      <td>Europe</td>\n",
       "      <td>2007</td>\n",
       "      <td>76.423</td>\n",
       "      <td>3600523</td>\n",
       "      <td>5937.029526</td>\n",
       "    </tr>\n",
       "    <tr>\n",
       "      <th>35</th>\n",
       "      <td>Algeria</td>\n",
       "      <td>Africa</td>\n",
       "      <td>2007</td>\n",
       "      <td>72.301</td>\n",
       "      <td>33333216</td>\n",
       "      <td>6223.367465</td>\n",
       "    </tr>\n",
       "    <tr>\n",
       "      <th>47</th>\n",
       "      <td>Angola</td>\n",
       "      <td>Africa</td>\n",
       "      <td>2007</td>\n",
       "      <td>42.731</td>\n",
       "      <td>12420476</td>\n",
       "      <td>4797.231267</td>\n",
       "    </tr>\n",
       "    <tr>\n",
       "      <th>59</th>\n",
       "      <td>Argentina</td>\n",
       "      <td>Americas</td>\n",
       "      <td>2007</td>\n",
       "      <td>75.320</td>\n",
       "      <td>40301927</td>\n",
       "      <td>12779.379640</td>\n",
       "    </tr>\n",
       "    <tr>\n",
       "      <th>...</th>\n",
       "      <td>...</td>\n",
       "      <td>...</td>\n",
       "      <td>...</td>\n",
       "      <td>...</td>\n",
       "      <td>...</td>\n",
       "      <td>...</td>\n",
       "    </tr>\n",
       "    <tr>\n",
       "      <th>1655</th>\n",
       "      <td>Vietnam</td>\n",
       "      <td>Asia</td>\n",
       "      <td>2007</td>\n",
       "      <td>74.249</td>\n",
       "      <td>85262356</td>\n",
       "      <td>2441.576404</td>\n",
       "    </tr>\n",
       "    <tr>\n",
       "      <th>1667</th>\n",
       "      <td>West Bank and Gaza</td>\n",
       "      <td>Asia</td>\n",
       "      <td>2007</td>\n",
       "      <td>73.422</td>\n",
       "      <td>4018332</td>\n",
       "      <td>3025.349798</td>\n",
       "    </tr>\n",
       "    <tr>\n",
       "      <th>1679</th>\n",
       "      <td>Yemen, Rep.</td>\n",
       "      <td>Asia</td>\n",
       "      <td>2007</td>\n",
       "      <td>62.698</td>\n",
       "      <td>22211743</td>\n",
       "      <td>2280.769906</td>\n",
       "    </tr>\n",
       "    <tr>\n",
       "      <th>1691</th>\n",
       "      <td>Zambia</td>\n",
       "      <td>Africa</td>\n",
       "      <td>2007</td>\n",
       "      <td>42.384</td>\n",
       "      <td>11746035</td>\n",
       "      <td>1271.211593</td>\n",
       "    </tr>\n",
       "    <tr>\n",
       "      <th>1703</th>\n",
       "      <td>Zimbabwe</td>\n",
       "      <td>Africa</td>\n",
       "      <td>2007</td>\n",
       "      <td>43.487</td>\n",
       "      <td>12311143</td>\n",
       "      <td>469.709298</td>\n",
       "    </tr>\n",
       "  </tbody>\n",
       "</table>\n",
       "<p>142 rows × 6 columns</p>\n",
       "</div>"
      ],
      "text/plain": [
       "                 country continent  year  lifeExp       pop     gdpPercap\n",
       "11           Afghanistan      Asia  2007   43.828  31889923    974.580338\n",
       "23               Albania    Europe  2007   76.423   3600523   5937.029526\n",
       "35               Algeria    Africa  2007   72.301  33333216   6223.367465\n",
       "47                Angola    Africa  2007   42.731  12420476   4797.231267\n",
       "59             Argentina  Americas  2007   75.320  40301927  12779.379640\n",
       "...                  ...       ...   ...      ...       ...           ...\n",
       "1655             Vietnam      Asia  2007   74.249  85262356   2441.576404\n",
       "1667  West Bank and Gaza      Asia  2007   73.422   4018332   3025.349798\n",
       "1679         Yemen, Rep.      Asia  2007   62.698  22211743   2280.769906\n",
       "1691              Zambia    Africa  2007   42.384  11746035   1271.211593\n",
       "1703            Zimbabwe    Africa  2007   43.487  12311143    469.709298\n",
       "\n",
       "[142 rows x 6 columns]"
      ]
     },
     "execution_count": 150,
     "metadata": {},
     "output_type": "execute_result"
    }
   ],
   "source": [
    "# 2007 년도 데이타만 출력 \n",
    "gapminder[gapminder['year'] == 2007]"
   ]
  },
  {
   "cell_type": "code",
   "execution_count": 124,
   "id": "41e2cedd",
   "metadata": {
    "ExecuteTime": {
     "end_time": "2021-11-25T08:02:26.307064Z",
     "start_time": "2021-11-25T08:02:26.291041Z"
    }
   },
   "outputs": [
    {
     "data": {
      "text/plain": [
       "array(['Asia', 'Europe', 'Africa', 'Americas', 'Oceania'], dtype=object)"
      ]
     },
     "execution_count": 124,
     "metadata": {},
     "output_type": "execute_result"
    }
   ],
   "source": [
    "gapminder['continent'].unique()"
   ]
  },
  {
   "cell_type": "code",
   "execution_count": 125,
   "id": "c5da90ce",
   "metadata": {
    "ExecuteTime": {
     "end_time": "2021-11-25T08:02:56.281537Z",
     "start_time": "2021-11-25T08:02:56.267524Z"
    }
   },
   "outputs": [],
   "source": [
    "eu = gapminder[gapminder.continent == \"Europe\"]"
   ]
  },
  {
   "cell_type": "code",
   "execution_count": 128,
   "id": "59f62b76",
   "metadata": {
    "ExecuteTime": {
     "end_time": "2021-11-25T08:03:46.232618Z",
     "start_time": "2021-11-25T08:03:46.218604Z"
    }
   },
   "outputs": [
    {
     "data": {
      "text/html": [
       "<div>\n",
       "<style scoped>\n",
       "    .dataframe tbody tr th:only-of-type {\n",
       "        vertical-align: middle;\n",
       "    }\n",
       "\n",
       "    .dataframe tbody tr th {\n",
       "        vertical-align: top;\n",
       "    }\n",
       "\n",
       "    .dataframe thead th {\n",
       "        text-align: right;\n",
       "    }\n",
       "</style>\n",
       "<table border=\"1\" class=\"dataframe\">\n",
       "  <thead>\n",
       "    <tr style=\"text-align: right;\">\n",
       "      <th></th>\n",
       "      <th>country</th>\n",
       "      <th>continent</th>\n",
       "      <th>year</th>\n",
       "      <th>lifeExp</th>\n",
       "      <th>pop</th>\n",
       "      <th>gdpPercap</th>\n",
       "    </tr>\n",
       "  </thead>\n",
       "  <tbody>\n",
       "    <tr>\n",
       "      <th>695</th>\n",
       "      <td>Iceland</td>\n",
       "      <td>Europe</td>\n",
       "      <td>2007</td>\n",
       "      <td>81.757</td>\n",
       "      <td>301931</td>\n",
       "      <td>36180.78919</td>\n",
       "    </tr>\n",
       "  </tbody>\n",
       "</table>\n",
       "</div>"
      ],
      "text/plain": [
       "     country continent  year  lifeExp     pop    gdpPercap\n",
       "695  Iceland    Europe  2007   81.757  301931  36180.78919"
      ]
     },
     "execution_count": 128,
     "metadata": {},
     "output_type": "execute_result"
    }
   ],
   "source": [
    "eu[eu.lifeExp == max(eu.lifeExp)]"
   ]
  },
  {
   "cell_type": "markdown",
   "id": "2879acee",
   "metadata": {},
   "source": [
    "## quiz 1\n",
    "\n",
    "1) gapminder.tsv 파일을 이용하여 데이타프레임을 생성하고 \n",
    "   'Asia' 만 행 추출하여 새로운 데이타프레임으로 저장하여라\n",
    "2) 1번에서 생성한 데이타프레임의 총 행수는?\n",
    "3) 1번에서 생성한 데이타프레임에서 year 년도가 (1970~1979)년도의 행만 출력하여라\n",
    "4) 3번의 결과행을 2번의 데이타프레임에서 제외한후 출력하여라\n",
    "5) 1번의 데이타프레임에서 gdpPercap 컬럼값이 가장 높은 나라의 정보를 출력하여라 \n",
    "6) 1번의 데이타프레임에서 lifeExp\t 컬럼값이 가장 높은 나라는?\n",
    "7) 1번의 데이타프레임에서 pop 컬럼의 평균 이상인 나라의 총수는?"
   ]
  },
  {
   "cell_type": "code",
   "execution_count": 129,
   "id": "5af32088",
   "metadata": {
    "ExecuteTime": {
     "end_time": "2021-11-25T08:07:26.791917Z",
     "start_time": "2021-11-25T08:07:26.777915Z"
    }
   },
   "outputs": [],
   "source": [
    "#1) df 데이타프레임에서 'Asia' 만 행 추출하여 새로운 데이타프레임으로 저장하여라\n",
    "\n",
    "asia = gapminder[gapminder.continent ==\"Asia\"]"
   ]
  },
  {
   "cell_type": "code",
   "execution_count": 170,
   "id": "37049359",
   "metadata": {
    "ExecuteTime": {
     "end_time": "2021-11-25T08:28:20.539063Z",
     "start_time": "2021-11-25T08:28:20.532068Z"
    }
   },
   "outputs": [
    {
     "data": {
      "text/plain": [
       "396"
      ]
     },
     "execution_count": 170,
     "metadata": {},
     "output_type": "execute_result"
    }
   ],
   "source": [
    "#2) 1번에서 생성한 데이타프레임의 총 행수는?\n",
    "len(asia)"
   ]
  },
  {
   "cell_type": "code",
   "execution_count": 171,
   "id": "657fbaaf",
   "metadata": {
    "ExecuteTime": {
     "end_time": "2021-11-25T08:28:43.520764Z",
     "start_time": "2021-11-25T08:28:43.507760Z"
    }
   },
   "outputs": [
    {
     "data": {
      "text/html": [
       "<div>\n",
       "<style scoped>\n",
       "    .dataframe tbody tr th:only-of-type {\n",
       "        vertical-align: middle;\n",
       "    }\n",
       "\n",
       "    .dataframe tbody tr th {\n",
       "        vertical-align: top;\n",
       "    }\n",
       "\n",
       "    .dataframe thead th {\n",
       "        text-align: right;\n",
       "    }\n",
       "</style>\n",
       "<table border=\"1\" class=\"dataframe\">\n",
       "  <thead>\n",
       "    <tr style=\"text-align: right;\">\n",
       "      <th></th>\n",
       "      <th>country</th>\n",
       "      <th>continent</th>\n",
       "      <th>year</th>\n",
       "      <th>lifeExp</th>\n",
       "      <th>pop</th>\n",
       "      <th>gdpPercap</th>\n",
       "    </tr>\n",
       "  </thead>\n",
       "  <tbody>\n",
       "    <tr>\n",
       "      <th>0</th>\n",
       "      <td>Afghanistan</td>\n",
       "      <td>Asia</td>\n",
       "      <td>1952</td>\n",
       "      <td>28.801</td>\n",
       "      <td>8425333</td>\n",
       "      <td>779.445314</td>\n",
       "    </tr>\n",
       "    <tr>\n",
       "      <th>1</th>\n",
       "      <td>Afghanistan</td>\n",
       "      <td>Asia</td>\n",
       "      <td>1957</td>\n",
       "      <td>30.332</td>\n",
       "      <td>9240934</td>\n",
       "      <td>820.853030</td>\n",
       "    </tr>\n",
       "    <tr>\n",
       "      <th>2</th>\n",
       "      <td>Afghanistan</td>\n",
       "      <td>Asia</td>\n",
       "      <td>1962</td>\n",
       "      <td>31.997</td>\n",
       "      <td>10267083</td>\n",
       "      <td>853.100710</td>\n",
       "    </tr>\n",
       "    <tr>\n",
       "      <th>3</th>\n",
       "      <td>Afghanistan</td>\n",
       "      <td>Asia</td>\n",
       "      <td>1967</td>\n",
       "      <td>34.020</td>\n",
       "      <td>11537966</td>\n",
       "      <td>836.197138</td>\n",
       "    </tr>\n",
       "    <tr>\n",
       "      <th>4</th>\n",
       "      <td>Afghanistan</td>\n",
       "      <td>Asia</td>\n",
       "      <td>1972</td>\n",
       "      <td>36.088</td>\n",
       "      <td>13079460</td>\n",
       "      <td>739.981106</td>\n",
       "    </tr>\n",
       "    <tr>\n",
       "      <th>...</th>\n",
       "      <td>...</td>\n",
       "      <td>...</td>\n",
       "      <td>...</td>\n",
       "      <td>...</td>\n",
       "      <td>...</td>\n",
       "      <td>...</td>\n",
       "    </tr>\n",
       "    <tr>\n",
       "      <th>1669</th>\n",
       "      <td>Yemen, Rep.</td>\n",
       "      <td>Asia</td>\n",
       "      <td>1957</td>\n",
       "      <td>33.970</td>\n",
       "      <td>5498090</td>\n",
       "      <td>804.830455</td>\n",
       "    </tr>\n",
       "    <tr>\n",
       "      <th>1670</th>\n",
       "      <td>Yemen, Rep.</td>\n",
       "      <td>Asia</td>\n",
       "      <td>1962</td>\n",
       "      <td>35.180</td>\n",
       "      <td>6120081</td>\n",
       "      <td>825.623201</td>\n",
       "    </tr>\n",
       "    <tr>\n",
       "      <th>1671</th>\n",
       "      <td>Yemen, Rep.</td>\n",
       "      <td>Asia</td>\n",
       "      <td>1967</td>\n",
       "      <td>36.984</td>\n",
       "      <td>6740785</td>\n",
       "      <td>862.442146</td>\n",
       "    </tr>\n",
       "    <tr>\n",
       "      <th>1672</th>\n",
       "      <td>Yemen, Rep.</td>\n",
       "      <td>Asia</td>\n",
       "      <td>1972</td>\n",
       "      <td>39.848</td>\n",
       "      <td>7407075</td>\n",
       "      <td>1265.047031</td>\n",
       "    </tr>\n",
       "    <tr>\n",
       "      <th>1673</th>\n",
       "      <td>Yemen, Rep.</td>\n",
       "      <td>Asia</td>\n",
       "      <td>1977</td>\n",
       "      <td>44.175</td>\n",
       "      <td>8403990</td>\n",
       "      <td>1829.765177</td>\n",
       "    </tr>\n",
       "  </tbody>\n",
       "</table>\n",
       "<p>198 rows × 6 columns</p>\n",
       "</div>"
      ],
      "text/plain": [
       "          country continent  year  lifeExp       pop    gdpPercap\n",
       "0     Afghanistan      Asia  1952   28.801   8425333   779.445314\n",
       "1     Afghanistan      Asia  1957   30.332   9240934   820.853030\n",
       "2     Afghanistan      Asia  1962   31.997  10267083   853.100710\n",
       "3     Afghanistan      Asia  1967   34.020  11537966   836.197138\n",
       "4     Afghanistan      Asia  1972   36.088  13079460   739.981106\n",
       "...           ...       ...   ...      ...       ...          ...\n",
       "1669  Yemen, Rep.      Asia  1957   33.970   5498090   804.830455\n",
       "1670  Yemen, Rep.      Asia  1962   35.180   6120081   825.623201\n",
       "1671  Yemen, Rep.      Asia  1967   36.984   6740785   862.442146\n",
       "1672  Yemen, Rep.      Asia  1972   39.848   7407075  1265.047031\n",
       "1673  Yemen, Rep.      Asia  1977   44.175   8403990  1829.765177\n",
       "\n",
       "[198 rows x 6 columns]"
      ]
     },
     "execution_count": 171,
     "metadata": {},
     "output_type": "execute_result"
    }
   ],
   "source": [
    "#3. 1번에서 생성한 데이타프레임에서 year 년도가 (1970~1979)년도의 행만 출력하여라\n",
    "\n",
    "asia[(asia.year < 1979) & (asia.year > 1970)]"
   ]
  },
  {
   "cell_type": "code",
   "execution_count": 137,
   "id": "8fe3b4fa",
   "metadata": {
    "ExecuteTime": {
     "end_time": "2021-11-25T08:09:14.128847Z",
     "start_time": "2021-11-25T08:09:14.114835Z"
    }
   },
   "outputs": [],
   "source": [
    "# 4) 3번의 결과행을 2번의 데이타프레임에서 제외한후 출력하여라"
   ]
  },
  {
   "cell_type": "code",
   "execution_count": 160,
   "id": "3bc08d5f",
   "metadata": {
    "ExecuteTime": {
     "end_time": "2021-11-25T08:17:10.255480Z",
     "start_time": "2021-11-25T08:17:10.249479Z"
    }
   },
   "outputs": [
    {
     "data": {
      "text/plain": [
       "array([1952, 1957, 1962, 1967, 1972, 1977, 1982, 1987, 1992, 1997, 2002,\n",
       "       2007], dtype=int64)"
      ]
     },
     "execution_count": 160,
     "metadata": {},
     "output_type": "execute_result"
    }
   ],
   "source": [
    "asia.year.unique()"
   ]
  },
  {
   "cell_type": "code",
   "execution_count": 181,
   "id": "d99313d8",
   "metadata": {
    "ExecuteTime": {
     "end_time": "2021-11-25T08:32:22.750331Z",
     "start_time": "2021-11-25T08:32:22.730327Z"
    }
   },
   "outputs": [
    {
     "data": {
      "text/html": [
       "<div>\n",
       "<style scoped>\n",
       "    .dataframe tbody tr th:only-of-type {\n",
       "        vertical-align: middle;\n",
       "    }\n",
       "\n",
       "    .dataframe tbody tr th {\n",
       "        vertical-align: top;\n",
       "    }\n",
       "\n",
       "    .dataframe thead th {\n",
       "        text-align: right;\n",
       "    }\n",
       "</style>\n",
       "<table border=\"1\" class=\"dataframe\">\n",
       "  <thead>\n",
       "    <tr style=\"text-align: right;\">\n",
       "      <th></th>\n",
       "      <th>country</th>\n",
       "      <th>continent</th>\n",
       "      <th>year</th>\n",
       "      <th>lifeExp</th>\n",
       "      <th>pop</th>\n",
       "      <th>gdpPercap</th>\n",
       "    </tr>\n",
       "  </thead>\n",
       "  <tbody>\n",
       "    <tr>\n",
       "      <th>0</th>\n",
       "      <td>Afghanistan</td>\n",
       "      <td>Asia</td>\n",
       "      <td>1952</td>\n",
       "      <td>28.801</td>\n",
       "      <td>8425333</td>\n",
       "      <td>779.445314</td>\n",
       "    </tr>\n",
       "    <tr>\n",
       "      <th>1</th>\n",
       "      <td>Afghanistan</td>\n",
       "      <td>Asia</td>\n",
       "      <td>1957</td>\n",
       "      <td>30.332</td>\n",
       "      <td>9240934</td>\n",
       "      <td>820.853030</td>\n",
       "    </tr>\n",
       "    <tr>\n",
       "      <th>2</th>\n",
       "      <td>Afghanistan</td>\n",
       "      <td>Asia</td>\n",
       "      <td>1962</td>\n",
       "      <td>31.997</td>\n",
       "      <td>10267083</td>\n",
       "      <td>853.100710</td>\n",
       "    </tr>\n",
       "    <tr>\n",
       "      <th>3</th>\n",
       "      <td>Afghanistan</td>\n",
       "      <td>Asia</td>\n",
       "      <td>1967</td>\n",
       "      <td>34.020</td>\n",
       "      <td>11537966</td>\n",
       "      <td>836.197138</td>\n",
       "    </tr>\n",
       "    <tr>\n",
       "      <th>6</th>\n",
       "      <td>Afghanistan</td>\n",
       "      <td>Asia</td>\n",
       "      <td>1982</td>\n",
       "      <td>39.854</td>\n",
       "      <td>12881816</td>\n",
       "      <td>978.011439</td>\n",
       "    </tr>\n",
       "    <tr>\n",
       "      <th>...</th>\n",
       "      <td>...</td>\n",
       "      <td>...</td>\n",
       "      <td>...</td>\n",
       "      <td>...</td>\n",
       "      <td>...</td>\n",
       "      <td>...</td>\n",
       "    </tr>\n",
       "    <tr>\n",
       "      <th>1675</th>\n",
       "      <td>Yemen, Rep.</td>\n",
       "      <td>Asia</td>\n",
       "      <td>1987</td>\n",
       "      <td>52.922</td>\n",
       "      <td>11219340</td>\n",
       "      <td>1971.741538</td>\n",
       "    </tr>\n",
       "    <tr>\n",
       "      <th>1676</th>\n",
       "      <td>Yemen, Rep.</td>\n",
       "      <td>Asia</td>\n",
       "      <td>1992</td>\n",
       "      <td>55.599</td>\n",
       "      <td>13367997</td>\n",
       "      <td>1879.496673</td>\n",
       "    </tr>\n",
       "    <tr>\n",
       "      <th>1677</th>\n",
       "      <td>Yemen, Rep.</td>\n",
       "      <td>Asia</td>\n",
       "      <td>1997</td>\n",
       "      <td>58.020</td>\n",
       "      <td>15826497</td>\n",
       "      <td>2117.484526</td>\n",
       "    </tr>\n",
       "    <tr>\n",
       "      <th>1678</th>\n",
       "      <td>Yemen, Rep.</td>\n",
       "      <td>Asia</td>\n",
       "      <td>2002</td>\n",
       "      <td>60.308</td>\n",
       "      <td>18701257</td>\n",
       "      <td>2234.820827</td>\n",
       "    </tr>\n",
       "    <tr>\n",
       "      <th>1679</th>\n",
       "      <td>Yemen, Rep.</td>\n",
       "      <td>Asia</td>\n",
       "      <td>2007</td>\n",
       "      <td>62.698</td>\n",
       "      <td>22211743</td>\n",
       "      <td>2280.769906</td>\n",
       "    </tr>\n",
       "  </tbody>\n",
       "</table>\n",
       "<p>330 rows × 6 columns</p>\n",
       "</div>"
      ],
      "text/plain": [
       "          country continent  year  lifeExp       pop    gdpPercap\n",
       "0     Afghanistan      Asia  1952   28.801   8425333   779.445314\n",
       "1     Afghanistan      Asia  1957   30.332   9240934   820.853030\n",
       "2     Afghanistan      Asia  1962   31.997  10267083   853.100710\n",
       "3     Afghanistan      Asia  1967   34.020  11537966   836.197138\n",
       "6     Afghanistan      Asia  1982   39.854  12881816   978.011439\n",
       "...           ...       ...   ...      ...       ...          ...\n",
       "1675  Yemen, Rep.      Asia  1987   52.922  11219340  1971.741538\n",
       "1676  Yemen, Rep.      Asia  1992   55.599  13367997  1879.496673\n",
       "1677  Yemen, Rep.      Asia  1997   58.020  15826497  2117.484526\n",
       "1678  Yemen, Rep.      Asia  2002   60.308  18701257  2234.820827\n",
       "1679  Yemen, Rep.      Asia  2007   62.698  22211743  2280.769906\n",
       "\n",
       "[330 rows x 6 columns]"
      ]
     },
     "execution_count": 181,
     "metadata": {},
     "output_type": "execute_result"
    }
   ],
   "source": [
    "asia[~((asia.year < 1979) & (asia.year > 1970))]"
   ]
  },
  {
   "cell_type": "code",
   "execution_count": 175,
   "id": "8b90f964",
   "metadata": {
    "ExecuteTime": {
     "end_time": "2021-11-25T08:29:38.735155Z",
     "start_time": "2021-11-25T08:29:38.722156Z"
    }
   },
   "outputs": [],
   "source": [
    "df1 = asia[(asia.year < 1970)]\n",
    "df2 = asia[(asia.year > 1979)]"
   ]
  },
  {
   "cell_type": "code",
   "execution_count": 179,
   "id": "8511217a",
   "metadata": {
    "ExecuteTime": {
     "end_time": "2021-11-25T08:30:45.464184Z",
     "start_time": "2021-11-25T08:30:45.458184Z"
    }
   },
   "outputs": [],
   "source": [
    "com = pd.concat([df1,df2])"
   ]
  },
  {
   "cell_type": "code",
   "execution_count": 145,
   "id": "2e22b680",
   "metadata": {
    "ExecuteTime": {
     "end_time": "2021-11-25T08:11:06.291645Z",
     "start_time": "2021-11-25T08:11:06.282645Z"
    }
   },
   "outputs": [
    {
     "data": {
      "text/html": [
       "<div>\n",
       "<style scoped>\n",
       "    .dataframe tbody tr th:only-of-type {\n",
       "        vertical-align: middle;\n",
       "    }\n",
       "\n",
       "    .dataframe tbody tr th {\n",
       "        vertical-align: top;\n",
       "    }\n",
       "\n",
       "    .dataframe thead th {\n",
       "        text-align: right;\n",
       "    }\n",
       "</style>\n",
       "<table border=\"1\" class=\"dataframe\">\n",
       "  <thead>\n",
       "    <tr style=\"text-align: right;\">\n",
       "      <th></th>\n",
       "      <th>country</th>\n",
       "      <th>continent</th>\n",
       "      <th>year</th>\n",
       "      <th>lifeExp</th>\n",
       "      <th>pop</th>\n",
       "      <th>gdpPercap</th>\n",
       "    </tr>\n",
       "  </thead>\n",
       "  <tbody>\n",
       "    <tr>\n",
       "      <th>853</th>\n",
       "      <td>Kuwait</td>\n",
       "      <td>Asia</td>\n",
       "      <td>1957</td>\n",
       "      <td>58.033</td>\n",
       "      <td>212846</td>\n",
       "      <td>113523.1329</td>\n",
       "    </tr>\n",
       "  </tbody>\n",
       "</table>\n",
       "</div>"
      ],
      "text/plain": [
       "    country continent  year  lifeExp     pop    gdpPercap\n",
       "853  Kuwait      Asia  1957   58.033  212846  113523.1329"
      ]
     },
     "execution_count": 145,
     "metadata": {},
     "output_type": "execute_result"
    }
   ],
   "source": [
    "#5) 1번의 데이타프레임에서 gdpPercap 컬럼값이 가장 높은 나라의 정보를 출력하여라 \n",
    "\n",
    "asia[asia.gdpPercap == asia.gdpPercap.max()]"
   ]
  },
  {
   "cell_type": "code",
   "execution_count": 157,
   "id": "cb6176f0",
   "metadata": {
    "ExecuteTime": {
     "end_time": "2021-11-25T08:16:30.844937Z",
     "start_time": "2021-11-25T08:16:30.825934Z"
    }
   },
   "outputs": [
    {
     "data": {
      "text/plain": [
       "803    Japan\n",
       "Name: country, dtype: object"
      ]
     },
     "execution_count": 157,
     "metadata": {},
     "output_type": "execute_result"
    }
   ],
   "source": [
    "#6) 1번의 데이타프레임에서 lifeExp    컬럼값이 가장 높은 나라는?\n",
    "\n",
    "asia[asia.lifeExp == asia.lifeExp.max()].country"
   ]
  },
  {
   "cell_type": "code",
   "execution_count": 156,
   "id": "61cf9869",
   "metadata": {
    "ExecuteTime": {
     "end_time": "2021-11-25T08:13:34.793046Z",
     "start_time": "2021-11-25T08:13:34.778033Z"
    }
   },
   "outputs": [
    {
     "data": {
      "text/plain": [
       "8"
      ]
     },
     "execution_count": 156,
     "metadata": {},
     "output_type": "execute_result"
    }
   ],
   "source": [
    "# 7) 1번의 데이타프레임에서 pop 컬럼의 평균값 이상인 나라의 총수는?\n",
    "len(asia[asia['pop'] > asia['pop'].mean()].country.unique())"
   ]
  },
  {
   "cell_type": "code",
   "execution_count": 152,
   "id": "775eebf8",
   "metadata": {
    "ExecuteTime": {
     "end_time": "2021-11-25T08:12:59.736446Z",
     "start_time": "2021-11-25T08:12:59.727440Z"
    }
   },
   "outputs": [
    {
     "data": {
      "text/plain": [
       "77038721.97222222"
      ]
     },
     "execution_count": 152,
     "metadata": {},
     "output_type": "execute_result"
    }
   ],
   "source": [
    "asia['pop'].mean()"
   ]
  },
  {
   "cell_type": "markdown",
   "id": "38036d7f",
   "metadata": {},
   "source": [
    "# 자료형 변경\n",
    "\n",
    "- 묵시적 형변환: 자동 => 정수 < 실수 < 문자\n",
    "- 강제적 형변환\n",
    "\n",
    "```\n",
    "실수 -> 정수\n",
    "실수, 정수 -> 문자열\n",
    "문자열 숫자 => 숫자\n",
    "  pd.to_numeric(_)\n",
    "날짜 스타일 문자열 2021-07-31, 20211126 => 시계열 데이터\n",
    "  pd.to_datetime()\n",
    "```"
   ]
  },
  {
   "cell_type": "code",
   "execution_count": 162,
   "id": "308db3ab",
   "metadata": {
    "ExecuteTime": {
     "end_time": "2021-11-29T01:30:16.872750Z",
     "start_time": "2021-11-29T01:30:16.847746Z"
    }
   },
   "outputs": [
    {
     "data": {
      "text/html": [
       "<div>\n",
       "<style scoped>\n",
       "    .dataframe tbody tr th:only-of-type {\n",
       "        vertical-align: middle;\n",
       "    }\n",
       "\n",
       "    .dataframe tbody tr th {\n",
       "        vertical-align: top;\n",
       "    }\n",
       "\n",
       "    .dataframe thead th {\n",
       "        text-align: right;\n",
       "    }\n",
       "</style>\n",
       "<table border=\"1\" class=\"dataframe\">\n",
       "  <thead>\n",
       "    <tr style=\"text-align: right;\">\n",
       "      <th></th>\n",
       "      <th>col1</th>\n",
       "      <th>col2</th>\n",
       "      <th>col3</th>\n",
       "      <th>col4</th>\n",
       "      <th>col5</th>\n",
       "    </tr>\n",
       "  </thead>\n",
       "  <tbody>\n",
       "    <tr>\n",
       "      <th>row1</th>\n",
       "      <td>1</td>\n",
       "      <td>2</td>\n",
       "      <td>3</td>\n",
       "      <td>4</td>\n",
       "      <td>5</td>\n",
       "    </tr>\n",
       "    <tr>\n",
       "      <th>row2</th>\n",
       "      <td>6</td>\n",
       "      <td>7</td>\n",
       "      <td>8</td>\n",
       "      <td>9</td>\n",
       "      <td>10</td>\n",
       "    </tr>\n",
       "    <tr>\n",
       "      <th>row3</th>\n",
       "      <td>11</td>\n",
       "      <td>12</td>\n",
       "      <td>13</td>\n",
       "      <td>14</td>\n",
       "      <td>15</td>\n",
       "    </tr>\n",
       "    <tr>\n",
       "      <th>row4</th>\n",
       "      <td>16</td>\n",
       "      <td>17</td>\n",
       "      <td>18</td>\n",
       "      <td>19</td>\n",
       "      <td>20</td>\n",
       "    </tr>\n",
       "    <tr>\n",
       "      <th>row5</th>\n",
       "      <td>21</td>\n",
       "      <td>22</td>\n",
       "      <td>23</td>\n",
       "      <td>24</td>\n",
       "      <td>25</td>\n",
       "    </tr>\n",
       "    <tr>\n",
       "      <th>row6</th>\n",
       "      <td>26</td>\n",
       "      <td>27</td>\n",
       "      <td>28</td>\n",
       "      <td>29</td>\n",
       "      <td>30</td>\n",
       "    </tr>\n",
       "    <tr>\n",
       "      <th>row7</th>\n",
       "      <td>31</td>\n",
       "      <td>32</td>\n",
       "      <td>33</td>\n",
       "      <td>34</td>\n",
       "      <td>35</td>\n",
       "    </tr>\n",
       "    <tr>\n",
       "      <th>row8</th>\n",
       "      <td>36</td>\n",
       "      <td>37</td>\n",
       "      <td>38</td>\n",
       "      <td>39</td>\n",
       "      <td>40</td>\n",
       "    </tr>\n",
       "    <tr>\n",
       "      <th>row9</th>\n",
       "      <td>41</td>\n",
       "      <td>42</td>\n",
       "      <td>43</td>\n",
       "      <td>44</td>\n",
       "      <td>45</td>\n",
       "    </tr>\n",
       "    <tr>\n",
       "      <th>row10</th>\n",
       "      <td>46</td>\n",
       "      <td>47</td>\n",
       "      <td>48</td>\n",
       "      <td>49</td>\n",
       "      <td>50</td>\n",
       "    </tr>\n",
       "  </tbody>\n",
       "</table>\n",
       "</div>"
      ],
      "text/plain": [
       "       col1  col2  col3  col4  col5\n",
       "row1      1     2     3     4     5\n",
       "row2      6     7     8     9    10\n",
       "row3     11    12    13    14    15\n",
       "row4     16    17    18    19    20\n",
       "row5     21    22    23    24    25\n",
       "row6     26    27    28    29    30\n",
       "row7     31    32    33    34    35\n",
       "row8     36    37    38    39    40\n",
       "row9     41    42    43    44    45\n",
       "row10    46    47    48    49    50"
      ]
     },
     "execution_count": 162,
     "metadata": {},
     "output_type": "execute_result"
    }
   ],
   "source": [
    "data = np.arange(1, 51).reshape(-1, 5)\n",
    "\n",
    "collist = ['col' +str(a) for a in range(1,6)]\n",
    "\n",
    "rowlist = [\"row\" + str(a) for a in range(1,11)]\n",
    "\n",
    "df1= pd.DataFrame(data, columns =collist, index = rowlist)\n",
    "\n",
    "df1"
   ]
  },
  {
   "cell_type": "code",
   "execution_count": 163,
   "id": "0ca60993",
   "metadata": {
    "ExecuteTime": {
     "end_time": "2021-11-29T01:30:17.172831Z",
     "start_time": "2021-11-29T01:30:17.151817Z"
    }
   },
   "outputs": [
    {
     "data": {
      "text/html": [
       "<div>\n",
       "<style scoped>\n",
       "    .dataframe tbody tr th:only-of-type {\n",
       "        vertical-align: middle;\n",
       "    }\n",
       "\n",
       "    .dataframe tbody tr th {\n",
       "        vertical-align: top;\n",
       "    }\n",
       "\n",
       "    .dataframe thead th {\n",
       "        text-align: right;\n",
       "    }\n",
       "</style>\n",
       "<table border=\"1\" class=\"dataframe\">\n",
       "  <thead>\n",
       "    <tr style=\"text-align: right;\">\n",
       "      <th></th>\n",
       "      <th>col1</th>\n",
       "      <th>col2</th>\n",
       "      <th>col3</th>\n",
       "      <th>col4</th>\n",
       "      <th>col5</th>\n",
       "    </tr>\n",
       "  </thead>\n",
       "  <tbody>\n",
       "    <tr>\n",
       "      <th>row1</th>\n",
       "      <td>3.14</td>\n",
       "      <td>2</td>\n",
       "      <td>3</td>\n",
       "      <td>4</td>\n",
       "      <td>5</td>\n",
       "    </tr>\n",
       "    <tr>\n",
       "      <th>row2</th>\n",
       "      <td>6.00</td>\n",
       "      <td>7</td>\n",
       "      <td>8</td>\n",
       "      <td>9</td>\n",
       "      <td>10</td>\n",
       "    </tr>\n",
       "    <tr>\n",
       "      <th>row3</th>\n",
       "      <td>11.00</td>\n",
       "      <td>12</td>\n",
       "      <td>13</td>\n",
       "      <td>14</td>\n",
       "      <td>15</td>\n",
       "    </tr>\n",
       "    <tr>\n",
       "      <th>row4</th>\n",
       "      <td>16.00</td>\n",
       "      <td>17</td>\n",
       "      <td>18</td>\n",
       "      <td>19</td>\n",
       "      <td>20</td>\n",
       "    </tr>\n",
       "    <tr>\n",
       "      <th>row5</th>\n",
       "      <td>21.00</td>\n",
       "      <td>22</td>\n",
       "      <td>23</td>\n",
       "      <td>24</td>\n",
       "      <td>25</td>\n",
       "    </tr>\n",
       "    <tr>\n",
       "      <th>row6</th>\n",
       "      <td>26.00</td>\n",
       "      <td>27</td>\n",
       "      <td>28</td>\n",
       "      <td>29</td>\n",
       "      <td>30</td>\n",
       "    </tr>\n",
       "    <tr>\n",
       "      <th>row7</th>\n",
       "      <td>31.00</td>\n",
       "      <td>32</td>\n",
       "      <td>33</td>\n",
       "      <td>34</td>\n",
       "      <td>35</td>\n",
       "    </tr>\n",
       "    <tr>\n",
       "      <th>row8</th>\n",
       "      <td>36.00</td>\n",
       "      <td>37</td>\n",
       "      <td>38</td>\n",
       "      <td>39</td>\n",
       "      <td>40</td>\n",
       "    </tr>\n",
       "    <tr>\n",
       "      <th>row9</th>\n",
       "      <td>41.00</td>\n",
       "      <td>42</td>\n",
       "      <td>43</td>\n",
       "      <td>44</td>\n",
       "      <td>45</td>\n",
       "    </tr>\n",
       "    <tr>\n",
       "      <th>row10</th>\n",
       "      <td>46.00</td>\n",
       "      <td>47</td>\n",
       "      <td>48</td>\n",
       "      <td>49</td>\n",
       "      <td>50</td>\n",
       "    </tr>\n",
       "  </tbody>\n",
       "</table>\n",
       "</div>"
      ],
      "text/plain": [
       "        col1  col2  col3  col4  col5\n",
       "row1    3.14     2     3     4     5\n",
       "row2    6.00     7     8     9    10\n",
       "row3   11.00    12    13    14    15\n",
       "row4   16.00    17    18    19    20\n",
       "row5   21.00    22    23    24    25\n",
       "row6   26.00    27    28    29    30\n",
       "row7   31.00    32    33    34    35\n",
       "row8   36.00    37    38    39    40\n",
       "row9   41.00    42    43    44    45\n",
       "row10  46.00    47    48    49    50"
      ]
     },
     "execution_count": 163,
     "metadata": {},
     "output_type": "execute_result"
    }
   ],
   "source": [
    "# 실수형 데이타 삽입 => 값이 교체된 컬럼의 데이타형이 실수형으로 자동 변경 \n",
    "df1.loc['row1', 'col1'] = 3.14\n",
    "df1"
   ]
  },
  {
   "cell_type": "code",
   "execution_count": 164,
   "id": "f4f6286c",
   "metadata": {
    "ExecuteTime": {
     "end_time": "2021-11-29T01:30:17.743094Z",
     "start_time": "2021-11-29T01:30:17.730071Z"
    }
   },
   "outputs": [
    {
     "data": {
      "text/plain": [
       "col1    float64\n",
       "col2      int32\n",
       "col3      int32\n",
       "col4      int32\n",
       "col5      int32\n",
       "dtype: object"
      ]
     },
     "execution_count": 164,
     "metadata": {},
     "output_type": "execute_result"
    }
   ],
   "source": [
    "df1.dtypes"
   ]
  },
  {
   "cell_type": "code",
   "execution_count": 165,
   "id": "387c5951",
   "metadata": {
    "ExecuteTime": {
     "end_time": "2021-11-29T01:30:18.632071Z",
     "start_time": "2021-11-29T01:30:18.618063Z"
    }
   },
   "outputs": [
    {
     "data": {
      "text/html": [
       "<div>\n",
       "<style scoped>\n",
       "    .dataframe tbody tr th:only-of-type {\n",
       "        vertical-align: middle;\n",
       "    }\n",
       "\n",
       "    .dataframe tbody tr th {\n",
       "        vertical-align: top;\n",
       "    }\n",
       "\n",
       "    .dataframe thead th {\n",
       "        text-align: right;\n",
       "    }\n",
       "</style>\n",
       "<table border=\"1\" class=\"dataframe\">\n",
       "  <thead>\n",
       "    <tr style=\"text-align: right;\">\n",
       "      <th></th>\n",
       "      <th>col1</th>\n",
       "      <th>col2</th>\n",
       "      <th>col3</th>\n",
       "      <th>col4</th>\n",
       "      <th>col5</th>\n",
       "    </tr>\n",
       "  </thead>\n",
       "  <tbody>\n",
       "    <tr>\n",
       "      <th>row1</th>\n",
       "      <td>3.14</td>\n",
       "      <td>Python</td>\n",
       "      <td>Python</td>\n",
       "      <td>4</td>\n",
       "      <td>5</td>\n",
       "    </tr>\n",
       "    <tr>\n",
       "      <th>row2</th>\n",
       "      <td>6.00</td>\n",
       "      <td>7</td>\n",
       "      <td>8</td>\n",
       "      <td>9</td>\n",
       "      <td>10</td>\n",
       "    </tr>\n",
       "    <tr>\n",
       "      <th>row3</th>\n",
       "      <td>11.00</td>\n",
       "      <td>12</td>\n",
       "      <td>13</td>\n",
       "      <td>14</td>\n",
       "      <td>15</td>\n",
       "    </tr>\n",
       "    <tr>\n",
       "      <th>row4</th>\n",
       "      <td>16.00</td>\n",
       "      <td>17</td>\n",
       "      <td>18</td>\n",
       "      <td>19</td>\n",
       "      <td>20</td>\n",
       "    </tr>\n",
       "    <tr>\n",
       "      <th>row5</th>\n",
       "      <td>21.00</td>\n",
       "      <td>22</td>\n",
       "      <td>23</td>\n",
       "      <td>24</td>\n",
       "      <td>25</td>\n",
       "    </tr>\n",
       "    <tr>\n",
       "      <th>row6</th>\n",
       "      <td>26.00</td>\n",
       "      <td>27</td>\n",
       "      <td>28</td>\n",
       "      <td>29</td>\n",
       "      <td>30</td>\n",
       "    </tr>\n",
       "    <tr>\n",
       "      <th>row7</th>\n",
       "      <td>31.00</td>\n",
       "      <td>32</td>\n",
       "      <td>33</td>\n",
       "      <td>34</td>\n",
       "      <td>35</td>\n",
       "    </tr>\n",
       "    <tr>\n",
       "      <th>row8</th>\n",
       "      <td>36.00</td>\n",
       "      <td>37</td>\n",
       "      <td>38</td>\n",
       "      <td>39</td>\n",
       "      <td>40</td>\n",
       "    </tr>\n",
       "    <tr>\n",
       "      <th>row9</th>\n",
       "      <td>41.00</td>\n",
       "      <td>42</td>\n",
       "      <td>43</td>\n",
       "      <td>44</td>\n",
       "      <td>45</td>\n",
       "    </tr>\n",
       "    <tr>\n",
       "      <th>row10</th>\n",
       "      <td>46.00</td>\n",
       "      <td>47</td>\n",
       "      <td>48</td>\n",
       "      <td>49</td>\n",
       "      <td>50</td>\n",
       "    </tr>\n",
       "  </tbody>\n",
       "</table>\n",
       "</div>"
      ],
      "text/plain": [
       "        col1    col2    col3  col4  col5\n",
       "row1    3.14  Python  Python     4     5\n",
       "row2    6.00       7       8     9    10\n",
       "row3   11.00      12      13    14    15\n",
       "row4   16.00      17      18    19    20\n",
       "row5   21.00      22      23    24    25\n",
       "row6   26.00      27      28    29    30\n",
       "row7   31.00      32      33    34    35\n",
       "row8   36.00      37      38    39    40\n",
       "row9   41.00      42      43    44    45\n",
       "row10  46.00      47      48    49    50"
      ]
     },
     "execution_count": 165,
     "metadata": {},
     "output_type": "execute_result"
    }
   ],
   "source": [
    "# 문자형 데이타 삽입 => 값이 교체된 컬럼의 데이타형이 문자열형으로 자동 변경 \n",
    "df1.loc['row1', 'col2'] = 'Python'\n",
    "df1.loc['row1', 'col3'] = 'Python'\n",
    "df1"
   ]
  },
  {
   "cell_type": "code",
   "execution_count": 166,
   "id": "b95c7e88",
   "metadata": {
    "ExecuteTime": {
     "end_time": "2021-11-29T01:30:19.612292Z",
     "start_time": "2021-11-29T01:30:19.595270Z"
    }
   },
   "outputs": [
    {
     "data": {
      "text/plain": [
       "col1    float64\n",
       "col2     object\n",
       "col3     object\n",
       "col4      int32\n",
       "col5      int32\n",
       "dtype: object"
      ]
     },
     "execution_count": 166,
     "metadata": {},
     "output_type": "execute_result"
    }
   ],
   "source": [
    "df1.dtypes"
   ]
  },
  {
   "cell_type": "code",
   "execution_count": 167,
   "id": "e27b6494",
   "metadata": {
    "ExecuteTime": {
     "end_time": "2021-11-29T01:30:30.128935Z",
     "start_time": "2021-11-29T01:30:30.096929Z"
    }
   },
   "outputs": [
    {
     "ename": "ValueError",
     "evalue": "invalid literal for int() with base 10: 'Python'",
     "output_type": "error",
     "traceback": [
      "\u001b[1;31m---------------------------------------------------------------------------\u001b[0m",
      "\u001b[1;31mValueError\u001b[0m                                Traceback (most recent call last)",
      "\u001b[1;32m<ipython-input-167-7992b5010f9e>\u001b[0m in \u001b[0;36m<module>\u001b[1;34m\u001b[0m\n\u001b[0;32m      1\u001b[0m \u001b[1;31m# ValueError => astype(int)메서드를 사용할려면 컬럼값이 모두 숫자형태의 문자이어야한다.\u001b[0m\u001b[1;33m\u001b[0m\u001b[1;33m\u001b[0m\u001b[1;33m\u001b[0m\u001b[0m\n\u001b[1;32m----> 2\u001b[1;33m \u001b[0mdf1\u001b[0m\u001b[1;33m[\u001b[0m\u001b[1;34m'col3'\u001b[0m\u001b[1;33m]\u001b[0m\u001b[1;33m.\u001b[0m\u001b[0mastype\u001b[0m\u001b[1;33m(\u001b[0m\u001b[0mint\u001b[0m\u001b[1;33m)\u001b[0m\u001b[1;33m\u001b[0m\u001b[1;33m\u001b[0m\u001b[0m\n\u001b[0m",
      "\u001b[1;32m~\\anaconda3\\lib\\site-packages\\pandas\\core\\generic.py\u001b[0m in \u001b[0;36mastype\u001b[1;34m(self, dtype, copy, errors)\u001b[0m\n\u001b[0;32m   5875\u001b[0m         \u001b[1;32melse\u001b[0m\u001b[1;33m:\u001b[0m\u001b[1;33m\u001b[0m\u001b[1;33m\u001b[0m\u001b[0m\n\u001b[0;32m   5876\u001b[0m             \u001b[1;31m# else, only a single dtype is given\u001b[0m\u001b[1;33m\u001b[0m\u001b[1;33m\u001b[0m\u001b[1;33m\u001b[0m\u001b[0m\n\u001b[1;32m-> 5877\u001b[1;33m             \u001b[0mnew_data\u001b[0m \u001b[1;33m=\u001b[0m \u001b[0mself\u001b[0m\u001b[1;33m.\u001b[0m\u001b[0m_mgr\u001b[0m\u001b[1;33m.\u001b[0m\u001b[0mastype\u001b[0m\u001b[1;33m(\u001b[0m\u001b[0mdtype\u001b[0m\u001b[1;33m=\u001b[0m\u001b[0mdtype\u001b[0m\u001b[1;33m,\u001b[0m \u001b[0mcopy\u001b[0m\u001b[1;33m=\u001b[0m\u001b[0mcopy\u001b[0m\u001b[1;33m,\u001b[0m \u001b[0merrors\u001b[0m\u001b[1;33m=\u001b[0m\u001b[0merrors\u001b[0m\u001b[1;33m)\u001b[0m\u001b[1;33m\u001b[0m\u001b[1;33m\u001b[0m\u001b[0m\n\u001b[0m\u001b[0;32m   5878\u001b[0m             \u001b[1;32mreturn\u001b[0m \u001b[0mself\u001b[0m\u001b[1;33m.\u001b[0m\u001b[0m_constructor\u001b[0m\u001b[1;33m(\u001b[0m\u001b[0mnew_data\u001b[0m\u001b[1;33m)\u001b[0m\u001b[1;33m.\u001b[0m\u001b[0m__finalize__\u001b[0m\u001b[1;33m(\u001b[0m\u001b[0mself\u001b[0m\u001b[1;33m,\u001b[0m \u001b[0mmethod\u001b[0m\u001b[1;33m=\u001b[0m\u001b[1;34m\"astype\"\u001b[0m\u001b[1;33m)\u001b[0m\u001b[1;33m\u001b[0m\u001b[1;33m\u001b[0m\u001b[0m\n\u001b[0;32m   5879\u001b[0m \u001b[1;33m\u001b[0m\u001b[0m\n",
      "\u001b[1;32m~\\anaconda3\\lib\\site-packages\\pandas\\core\\internals\\managers.py\u001b[0m in \u001b[0;36mastype\u001b[1;34m(self, dtype, copy, errors)\u001b[0m\n\u001b[0;32m    629\u001b[0m         \u001b[0mself\u001b[0m\u001b[1;33m,\u001b[0m \u001b[0mdtype\u001b[0m\u001b[1;33m,\u001b[0m \u001b[0mcopy\u001b[0m\u001b[1;33m:\u001b[0m \u001b[0mbool\u001b[0m \u001b[1;33m=\u001b[0m \u001b[1;32mFalse\u001b[0m\u001b[1;33m,\u001b[0m \u001b[0merrors\u001b[0m\u001b[1;33m:\u001b[0m \u001b[0mstr\u001b[0m \u001b[1;33m=\u001b[0m \u001b[1;34m\"raise\"\u001b[0m\u001b[1;33m\u001b[0m\u001b[1;33m\u001b[0m\u001b[0m\n\u001b[0;32m    630\u001b[0m     ) -> \"BlockManager\":\n\u001b[1;32m--> 631\u001b[1;33m         \u001b[1;32mreturn\u001b[0m \u001b[0mself\u001b[0m\u001b[1;33m.\u001b[0m\u001b[0mapply\u001b[0m\u001b[1;33m(\u001b[0m\u001b[1;34m\"astype\"\u001b[0m\u001b[1;33m,\u001b[0m \u001b[0mdtype\u001b[0m\u001b[1;33m=\u001b[0m\u001b[0mdtype\u001b[0m\u001b[1;33m,\u001b[0m \u001b[0mcopy\u001b[0m\u001b[1;33m=\u001b[0m\u001b[0mcopy\u001b[0m\u001b[1;33m,\u001b[0m \u001b[0merrors\u001b[0m\u001b[1;33m=\u001b[0m\u001b[0merrors\u001b[0m\u001b[1;33m)\u001b[0m\u001b[1;33m\u001b[0m\u001b[1;33m\u001b[0m\u001b[0m\n\u001b[0m\u001b[0;32m    632\u001b[0m \u001b[1;33m\u001b[0m\u001b[0m\n\u001b[0;32m    633\u001b[0m     def convert(\n",
      "\u001b[1;32m~\\anaconda3\\lib\\site-packages\\pandas\\core\\internals\\managers.py\u001b[0m in \u001b[0;36mapply\u001b[1;34m(self, f, align_keys, ignore_failures, **kwargs)\u001b[0m\n\u001b[0;32m    425\u001b[0m                     \u001b[0mapplied\u001b[0m \u001b[1;33m=\u001b[0m \u001b[0mb\u001b[0m\u001b[1;33m.\u001b[0m\u001b[0mapply\u001b[0m\u001b[1;33m(\u001b[0m\u001b[0mf\u001b[0m\u001b[1;33m,\u001b[0m \u001b[1;33m**\u001b[0m\u001b[0mkwargs\u001b[0m\u001b[1;33m)\u001b[0m\u001b[1;33m\u001b[0m\u001b[1;33m\u001b[0m\u001b[0m\n\u001b[0;32m    426\u001b[0m                 \u001b[1;32melse\u001b[0m\u001b[1;33m:\u001b[0m\u001b[1;33m\u001b[0m\u001b[1;33m\u001b[0m\u001b[0m\n\u001b[1;32m--> 427\u001b[1;33m                     \u001b[0mapplied\u001b[0m \u001b[1;33m=\u001b[0m \u001b[0mgetattr\u001b[0m\u001b[1;33m(\u001b[0m\u001b[0mb\u001b[0m\u001b[1;33m,\u001b[0m \u001b[0mf\u001b[0m\u001b[1;33m)\u001b[0m\u001b[1;33m(\u001b[0m\u001b[1;33m**\u001b[0m\u001b[0mkwargs\u001b[0m\u001b[1;33m)\u001b[0m\u001b[1;33m\u001b[0m\u001b[1;33m\u001b[0m\u001b[0m\n\u001b[0m\u001b[0;32m    428\u001b[0m             \u001b[1;32mexcept\u001b[0m \u001b[1;33m(\u001b[0m\u001b[0mTypeError\u001b[0m\u001b[1;33m,\u001b[0m \u001b[0mNotImplementedError\u001b[0m\u001b[1;33m)\u001b[0m\u001b[1;33m:\u001b[0m\u001b[1;33m\u001b[0m\u001b[1;33m\u001b[0m\u001b[0m\n\u001b[0;32m    429\u001b[0m                 \u001b[1;32mif\u001b[0m \u001b[1;32mnot\u001b[0m \u001b[0mignore_failures\u001b[0m\u001b[1;33m:\u001b[0m\u001b[1;33m\u001b[0m\u001b[1;33m\u001b[0m\u001b[0m\n",
      "\u001b[1;32m~\\anaconda3\\lib\\site-packages\\pandas\\core\\internals\\blocks.py\u001b[0m in \u001b[0;36mastype\u001b[1;34m(self, dtype, copy, errors)\u001b[0m\n\u001b[0;32m    671\u001b[0m             \u001b[0mvals1d\u001b[0m \u001b[1;33m=\u001b[0m \u001b[0mvalues\u001b[0m\u001b[1;33m.\u001b[0m\u001b[0mravel\u001b[0m\u001b[1;33m(\u001b[0m\u001b[1;33m)\u001b[0m\u001b[1;33m\u001b[0m\u001b[1;33m\u001b[0m\u001b[0m\n\u001b[0;32m    672\u001b[0m             \u001b[1;32mtry\u001b[0m\u001b[1;33m:\u001b[0m\u001b[1;33m\u001b[0m\u001b[1;33m\u001b[0m\u001b[0m\n\u001b[1;32m--> 673\u001b[1;33m                 \u001b[0mvalues\u001b[0m \u001b[1;33m=\u001b[0m \u001b[0mastype_nansafe\u001b[0m\u001b[1;33m(\u001b[0m\u001b[0mvals1d\u001b[0m\u001b[1;33m,\u001b[0m \u001b[0mdtype\u001b[0m\u001b[1;33m,\u001b[0m \u001b[0mcopy\u001b[0m\u001b[1;33m=\u001b[0m\u001b[1;32mTrue\u001b[0m\u001b[1;33m)\u001b[0m\u001b[1;33m\u001b[0m\u001b[1;33m\u001b[0m\u001b[0m\n\u001b[0m\u001b[0;32m    674\u001b[0m             \u001b[1;32mexcept\u001b[0m \u001b[1;33m(\u001b[0m\u001b[0mValueError\u001b[0m\u001b[1;33m,\u001b[0m \u001b[0mTypeError\u001b[0m\u001b[1;33m)\u001b[0m\u001b[1;33m:\u001b[0m\u001b[1;33m\u001b[0m\u001b[1;33m\u001b[0m\u001b[0m\n\u001b[0;32m    675\u001b[0m                 \u001b[1;31m# e.g. astype_nansafe can fail on object-dtype of strings\u001b[0m\u001b[1;33m\u001b[0m\u001b[1;33m\u001b[0m\u001b[1;33m\u001b[0m\u001b[0m\n",
      "\u001b[1;32m~\\anaconda3\\lib\\site-packages\\pandas\\core\\dtypes\\cast.py\u001b[0m in \u001b[0;36mastype_nansafe\u001b[1;34m(arr, dtype, copy, skipna)\u001b[0m\n\u001b[0;32m   1072\u001b[0m         \u001b[1;31m# work around NumPy brokenness, #1987\u001b[0m\u001b[1;33m\u001b[0m\u001b[1;33m\u001b[0m\u001b[1;33m\u001b[0m\u001b[0m\n\u001b[0;32m   1073\u001b[0m         \u001b[1;32mif\u001b[0m \u001b[0mnp\u001b[0m\u001b[1;33m.\u001b[0m\u001b[0missubdtype\u001b[0m\u001b[1;33m(\u001b[0m\u001b[0mdtype\u001b[0m\u001b[1;33m.\u001b[0m\u001b[0mtype\u001b[0m\u001b[1;33m,\u001b[0m \u001b[0mnp\u001b[0m\u001b[1;33m.\u001b[0m\u001b[0minteger\u001b[0m\u001b[1;33m)\u001b[0m\u001b[1;33m:\u001b[0m\u001b[1;33m\u001b[0m\u001b[1;33m\u001b[0m\u001b[0m\n\u001b[1;32m-> 1074\u001b[1;33m             \u001b[1;32mreturn\u001b[0m \u001b[0mlib\u001b[0m\u001b[1;33m.\u001b[0m\u001b[0mastype_intsafe\u001b[0m\u001b[1;33m(\u001b[0m\u001b[0marr\u001b[0m\u001b[1;33m.\u001b[0m\u001b[0mravel\u001b[0m\u001b[1;33m(\u001b[0m\u001b[1;33m)\u001b[0m\u001b[1;33m,\u001b[0m \u001b[0mdtype\u001b[0m\u001b[1;33m)\u001b[0m\u001b[1;33m.\u001b[0m\u001b[0mreshape\u001b[0m\u001b[1;33m(\u001b[0m\u001b[0marr\u001b[0m\u001b[1;33m.\u001b[0m\u001b[0mshape\u001b[0m\u001b[1;33m)\u001b[0m\u001b[1;33m\u001b[0m\u001b[1;33m\u001b[0m\u001b[0m\n\u001b[0m\u001b[0;32m   1075\u001b[0m \u001b[1;33m\u001b[0m\u001b[0m\n\u001b[0;32m   1076\u001b[0m         \u001b[1;31m# if we have a datetime/timedelta array of objects\u001b[0m\u001b[1;33m\u001b[0m\u001b[1;33m\u001b[0m\u001b[1;33m\u001b[0m\u001b[0m\n",
      "\u001b[1;32mpandas\\_libs\\lib.pyx\u001b[0m in \u001b[0;36mpandas._libs.lib.astype_intsafe\u001b[1;34m()\u001b[0m\n",
      "\u001b[1;31mValueError\u001b[0m: invalid literal for int() with base 10: 'Python'"
     ]
    }
   ],
   "source": [
    "# ValueError => astype(int)메서드를 사용할려면 컬럼값이 모두 숫자형태의 문자이어야한다. \n",
    "df1['col3'].astype(int)"
   ]
  },
  {
   "cell_type": "code",
   "execution_count": 169,
   "id": "0b7cf259",
   "metadata": {
    "ExecuteTime": {
     "end_time": "2021-11-29T01:30:46.524412Z",
     "start_time": "2021-11-29T01:30:46.506406Z"
    }
   },
   "outputs": [
    {
     "data": {
      "text/plain": [
       "row1      NaN\n",
       "row2      8.0\n",
       "row3     13.0\n",
       "row4     18.0\n",
       "row5     23.0\n",
       "row6     28.0\n",
       "row7     33.0\n",
       "row8     38.0\n",
       "row9     43.0\n",
       "row10    48.0\n",
       "Name: col3, dtype: float64"
      ]
     },
     "execution_count": 169,
     "metadata": {},
     "output_type": "execute_result"
    }
   ],
   "source": [
    "# errors='coerce' 만약 숫자문자가 아니라면 NaN 결측값 삽입 \n",
    "pd.to_numeric(df1['col3'], errors='coerce')"
   ]
  },
  {
   "cell_type": "code",
   "execution_count": 170,
   "id": "8496f4c2",
   "metadata": {
    "ExecuteTime": {
     "end_time": "2021-11-29T01:30:54.470247Z",
     "start_time": "2021-11-29T01:30:54.458244Z"
    }
   },
   "outputs": [],
   "source": [
    "# 원본 컬럼에 결과값 반영 \n",
    "df1['col3'] = pd.to_numeric(df1['col3'], errors='coerce')"
   ]
  },
  {
   "cell_type": "code",
   "execution_count": 171,
   "id": "7582eca2",
   "metadata": {
    "ExecuteTime": {
     "end_time": "2021-11-29T01:30:58.728377Z",
     "start_time": "2021-11-29T01:30:58.721387Z"
    }
   },
   "outputs": [
    {
     "data": {
      "text/plain": [
       "col1    float64\n",
       "col2     object\n",
       "col3    float64\n",
       "col4      int32\n",
       "col5      int32\n",
       "dtype: object"
      ]
     },
     "execution_count": 171,
     "metadata": {},
     "output_type": "execute_result"
    }
   ],
   "source": [
    "df1.dtypes"
   ]
  },
  {
   "cell_type": "code",
   "execution_count": 172,
   "id": "0144bbb9",
   "metadata": {
    "ExecuteTime": {
     "end_time": "2021-11-29T01:31:05.454037Z",
     "start_time": "2021-11-29T01:31:05.442037Z"
    }
   },
   "outputs": [
    {
     "data": {
      "text/html": [
       "<div>\n",
       "<style scoped>\n",
       "    .dataframe tbody tr th:only-of-type {\n",
       "        vertical-align: middle;\n",
       "    }\n",
       "\n",
       "    .dataframe tbody tr th {\n",
       "        vertical-align: top;\n",
       "    }\n",
       "\n",
       "    .dataframe thead th {\n",
       "        text-align: right;\n",
       "    }\n",
       "</style>\n",
       "<table border=\"1\" class=\"dataframe\">\n",
       "  <thead>\n",
       "    <tr style=\"text-align: right;\">\n",
       "      <th></th>\n",
       "      <th>col1</th>\n",
       "      <th>col2</th>\n",
       "      <th>col3</th>\n",
       "      <th>col4</th>\n",
       "      <th>col5</th>\n",
       "    </tr>\n",
       "  </thead>\n",
       "  <tbody>\n",
       "    <tr>\n",
       "      <th>row1</th>\n",
       "      <td>3.14</td>\n",
       "      <td>Python</td>\n",
       "      <td>NaN</td>\n",
       "      <td>4</td>\n",
       "      <td>5</td>\n",
       "    </tr>\n",
       "    <tr>\n",
       "      <th>row2</th>\n",
       "      <td>6.00</td>\n",
       "      <td>7</td>\n",
       "      <td>8.0</td>\n",
       "      <td>9</td>\n",
       "      <td>10</td>\n",
       "    </tr>\n",
       "    <tr>\n",
       "      <th>row3</th>\n",
       "      <td>11.00</td>\n",
       "      <td>12</td>\n",
       "      <td>13.0</td>\n",
       "      <td>14</td>\n",
       "      <td>15</td>\n",
       "    </tr>\n",
       "    <tr>\n",
       "      <th>row4</th>\n",
       "      <td>16.00</td>\n",
       "      <td>17</td>\n",
       "      <td>18.0</td>\n",
       "      <td>19</td>\n",
       "      <td>20</td>\n",
       "    </tr>\n",
       "    <tr>\n",
       "      <th>row5</th>\n",
       "      <td>21.00</td>\n",
       "      <td>22</td>\n",
       "      <td>23.0</td>\n",
       "      <td>24</td>\n",
       "      <td>25</td>\n",
       "    </tr>\n",
       "    <tr>\n",
       "      <th>row6</th>\n",
       "      <td>26.00</td>\n",
       "      <td>27</td>\n",
       "      <td>28.0</td>\n",
       "      <td>29</td>\n",
       "      <td>30</td>\n",
       "    </tr>\n",
       "    <tr>\n",
       "      <th>row7</th>\n",
       "      <td>31.00</td>\n",
       "      <td>32</td>\n",
       "      <td>33.0</td>\n",
       "      <td>34</td>\n",
       "      <td>35</td>\n",
       "    </tr>\n",
       "    <tr>\n",
       "      <th>row8</th>\n",
       "      <td>36.00</td>\n",
       "      <td>37</td>\n",
       "      <td>38.0</td>\n",
       "      <td>39</td>\n",
       "      <td>40</td>\n",
       "    </tr>\n",
       "    <tr>\n",
       "      <th>row9</th>\n",
       "      <td>41.00</td>\n",
       "      <td>42</td>\n",
       "      <td>43.0</td>\n",
       "      <td>44</td>\n",
       "      <td>45</td>\n",
       "    </tr>\n",
       "    <tr>\n",
       "      <th>row10</th>\n",
       "      <td>46.00</td>\n",
       "      <td>47</td>\n",
       "      <td>48.0</td>\n",
       "      <td>49</td>\n",
       "      <td>50</td>\n",
       "    </tr>\n",
       "  </tbody>\n",
       "</table>\n",
       "</div>"
      ],
      "text/plain": [
       "        col1    col2  col3  col4  col5\n",
       "row1    3.14  Python   NaN     4     5\n",
       "row2    6.00       7   8.0     9    10\n",
       "row3   11.00      12  13.0    14    15\n",
       "row4   16.00      17  18.0    19    20\n",
       "row5   21.00      22  23.0    24    25\n",
       "row6   26.00      27  28.0    29    30\n",
       "row7   31.00      32  33.0    34    35\n",
       "row8   36.00      37  38.0    39    40\n",
       "row9   41.00      42  43.0    44    45\n",
       "row10  46.00      47  48.0    49    50"
      ]
     },
     "execution_count": 172,
     "metadata": {},
     "output_type": "execute_result"
    }
   ],
   "source": [
    "df1"
   ]
  },
  {
   "cell_type": "code",
   "execution_count": 173,
   "id": "74ae7605",
   "metadata": {
    "ExecuteTime": {
     "end_time": "2021-11-29T01:31:11.613206Z",
     "start_time": "2021-11-29T01:31:11.594205Z"
    }
   },
   "outputs": [
    {
     "data": {
      "text/plain": [
       "row1      3\n",
       "row2      6\n",
       "row3     11\n",
       "row4     16\n",
       "row5     21\n",
       "row6     26\n",
       "row7     31\n",
       "row8     36\n",
       "row9     41\n",
       "row10    46\n",
       "Name: col1, dtype: int32"
      ]
     },
     "execution_count": 173,
     "metadata": {},
     "output_type": "execute_result"
    }
   ],
   "source": [
    "# 실수 => 정수 \n",
    "df1['col1'].astype(int)"
   ]
  },
  {
   "cell_type": "code",
   "execution_count": 174,
   "id": "31c93457",
   "metadata": {
    "ExecuteTime": {
     "end_time": "2021-11-29T01:31:19.193740Z",
     "start_time": "2021-11-29T01:31:19.177753Z"
    }
   },
   "outputs": [],
   "source": [
    "# 원본에 반영 \n",
    "df1['col1'] = df1['col1'].astype(int)"
   ]
  },
  {
   "cell_type": "markdown",
   "id": "6d272e1f",
   "metadata": {},
   "source": [
    "## 판다스의 문자열 처리\n",
    "\n",
    "데이타프레임[컬럼명].str.함수명()\n",
    "<br>\n",
    "데이타프레임[컬럼명].inin()"
   ]
  },
  {
   "cell_type": "code",
   "execution_count": 175,
   "id": "52713019",
   "metadata": {
    "ExecuteTime": {
     "end_time": "2021-11-29T01:31:46.496107Z",
     "start_time": "2021-11-29T01:31:46.482104Z"
    }
   },
   "outputs": [],
   "source": [
    "df_gap = pd.read_csv('data/gapminder.tsv', sep='\\t')"
   ]
  },
  {
   "cell_type": "code",
   "execution_count": 176,
   "id": "427bbca0",
   "metadata": {
    "ExecuteTime": {
     "end_time": "2021-11-29T01:31:50.089020Z",
     "start_time": "2021-11-29T01:31:50.068016Z"
    }
   },
   "outputs": [
    {
     "data": {
      "text/html": [
       "<div>\n",
       "<style scoped>\n",
       "    .dataframe tbody tr th:only-of-type {\n",
       "        vertical-align: middle;\n",
       "    }\n",
       "\n",
       "    .dataframe tbody tr th {\n",
       "        vertical-align: top;\n",
       "    }\n",
       "\n",
       "    .dataframe thead th {\n",
       "        text-align: right;\n",
       "    }\n",
       "</style>\n",
       "<table border=\"1\" class=\"dataframe\">\n",
       "  <thead>\n",
       "    <tr style=\"text-align: right;\">\n",
       "      <th></th>\n",
       "      <th>country</th>\n",
       "      <th>continent</th>\n",
       "      <th>year</th>\n",
       "      <th>lifeExp</th>\n",
       "      <th>pop</th>\n",
       "      <th>gdpPercap</th>\n",
       "    </tr>\n",
       "  </thead>\n",
       "  <tbody>\n",
       "    <tr>\n",
       "      <th>1203</th>\n",
       "      <td>Peru</td>\n",
       "      <td>Americas</td>\n",
       "      <td>1967</td>\n",
       "      <td>51.445</td>\n",
       "      <td>12132200</td>\n",
       "      <td>5788.093330</td>\n",
       "    </tr>\n",
       "    <tr>\n",
       "      <th>90</th>\n",
       "      <td>Bahrain</td>\n",
       "      <td>Asia</td>\n",
       "      <td>1982</td>\n",
       "      <td>69.052</td>\n",
       "      <td>377967</td>\n",
       "      <td>19211.147310</td>\n",
       "    </tr>\n",
       "    <tr>\n",
       "      <th>295</th>\n",
       "      <td>China</td>\n",
       "      <td>Asia</td>\n",
       "      <td>1987</td>\n",
       "      <td>67.274</td>\n",
       "      <td>1084035000</td>\n",
       "      <td>1378.904018</td>\n",
       "    </tr>\n",
       "    <tr>\n",
       "      <th>1638</th>\n",
       "      <td>Venezuela</td>\n",
       "      <td>Americas</td>\n",
       "      <td>1982</td>\n",
       "      <td>68.557</td>\n",
       "      <td>15620766</td>\n",
       "      <td>11152.410110</td>\n",
       "    </tr>\n",
       "    <tr>\n",
       "      <th>1298</th>\n",
       "      <td>Sao Tome and Principe</td>\n",
       "      <td>Africa</td>\n",
       "      <td>1962</td>\n",
       "      <td>51.893</td>\n",
       "      <td>65345</td>\n",
       "      <td>1071.551119</td>\n",
       "    </tr>\n",
       "  </tbody>\n",
       "</table>\n",
       "</div>"
      ],
      "text/plain": [
       "                    country continent  year  lifeExp         pop     gdpPercap\n",
       "1203                   Peru  Americas  1967   51.445    12132200   5788.093330\n",
       "90                  Bahrain      Asia  1982   69.052      377967  19211.147310\n",
       "295                   China      Asia  1987   67.274  1084035000   1378.904018\n",
       "1638              Venezuela  Americas  1982   68.557    15620766  11152.410110\n",
       "1298  Sao Tome and Principe    Africa  1962   51.893       65345   1071.551119"
      ]
     },
     "execution_count": 176,
     "metadata": {},
     "output_type": "execute_result"
    }
   ],
   "source": [
    "df_gap.sample(5)"
   ]
  },
  {
   "cell_type": "markdown",
   "id": "3c11f248",
   "metadata": {},
   "source": [
    "### korea, KOREA 글자가 들어간 데이타를 추출하려면? "
   ]
  },
  {
   "cell_type": "code",
   "execution_count": 177,
   "id": "46470f44",
   "metadata": {
    "ExecuteTime": {
     "end_time": "2021-11-29T01:32:06.880286Z",
     "start_time": "2021-11-29T01:32:06.873278Z"
    }
   },
   "outputs": [
    {
     "data": {
      "text/plain": [
       "array(['Afghanistan', 'Albania', 'Algeria', 'Angola', 'Argentina',\n",
       "       'Australia', 'Austria', 'Bahrain', 'Bangladesh', 'Belgium',\n",
       "       'Benin', 'Bolivia', 'Bosnia and Herzegovina', 'Botswana', 'Brazil',\n",
       "       'Bulgaria', 'Burkina Faso', 'Burundi', 'Cambodia', 'Cameroon',\n",
       "       'Canada', 'Central African Republic', 'Chad', 'Chile', 'China',\n",
       "       'Colombia', 'Comoros', 'Congo, Dem. Rep.', 'Congo, Rep.',\n",
       "       'Costa Rica', \"Cote d'Ivoire\", 'Croatia', 'Cuba', 'Czech Republic',\n",
       "       'Denmark', 'Djibouti', 'Dominican Republic', 'Ecuador', 'Egypt',\n",
       "       'El Salvador', 'Equatorial Guinea', 'Eritrea', 'Ethiopia',\n",
       "       'Finland', 'France', 'Gabon', 'Gambia', 'Germany', 'Ghana',\n",
       "       'Greece', 'Guatemala', 'Guinea', 'Guinea-Bissau', 'Haiti',\n",
       "       'Honduras', 'Hong Kong, China', 'Hungary', 'Iceland', 'India',\n",
       "       'Indonesia', 'Iran', 'Iraq', 'Ireland', 'Israel', 'Italy',\n",
       "       'Jamaica', 'Japan', 'Jordan', 'Kenya', 'Korea, Dem. Rep.',\n",
       "       'Korea, Rep.', 'Kuwait', 'Lebanon', 'Lesotho', 'Liberia', 'Libya',\n",
       "       'Madagascar', 'Malawi', 'Malaysia', 'Mali', 'Mauritania',\n",
       "       'Mauritius', 'Mexico', 'Mongolia', 'Montenegro', 'Morocco',\n",
       "       'Mozambique', 'Myanmar', 'Namibia', 'Nepal', 'Netherlands',\n",
       "       'New Zealand', 'Nicaragua', 'Niger', 'Nigeria', 'Norway', 'Oman',\n",
       "       'Pakistan', 'Panama', 'Paraguay', 'Peru', 'Philippines', 'Poland',\n",
       "       'Portugal', 'Puerto Rico', 'Reunion', 'Romania', 'Rwanda',\n",
       "       'Sao Tome and Principe', 'Saudi Arabia', 'Senegal', 'Serbia',\n",
       "       'Sierra Leone', 'Singapore', 'Slovak Republic', 'Slovenia',\n",
       "       'Somalia', 'South Africa', 'Spain', 'Sri Lanka', 'Sudan',\n",
       "       'Swaziland', 'Sweden', 'Switzerland', 'Syria', 'Taiwan',\n",
       "       'Tanzania', 'Thailand', 'Togo', 'Trinidad and Tobago', 'Tunisia',\n",
       "       'Turkey', 'Uganda', 'United Kingdom', 'United States', 'Uruguay',\n",
       "       'Venezuela', 'Vietnam', 'West Bank and Gaza', 'Yemen, Rep.',\n",
       "       'Zambia', 'Zimbabwe'], dtype=object)"
      ]
     },
     "execution_count": 177,
     "metadata": {},
     "output_type": "execute_result"
    }
   ],
   "source": [
    "# 국가 목록 \n",
    "df_gap['country'].unique()"
   ]
  },
  {
   "cell_type": "code",
   "execution_count": 178,
   "id": "0864c4b1",
   "metadata": {
    "ExecuteTime": {
     "end_time": "2021-11-29T01:32:13.266244Z",
     "start_time": "2021-11-29T01:32:13.242237Z"
    }
   },
   "outputs": [
    {
     "data": {
      "text/html": [
       "<div>\n",
       "<style scoped>\n",
       "    .dataframe tbody tr th:only-of-type {\n",
       "        vertical-align: middle;\n",
       "    }\n",
       "\n",
       "    .dataframe tbody tr th {\n",
       "        vertical-align: top;\n",
       "    }\n",
       "\n",
       "    .dataframe thead th {\n",
       "        text-align: right;\n",
       "    }\n",
       "</style>\n",
       "<table border=\"1\" class=\"dataframe\">\n",
       "  <thead>\n",
       "    <tr style=\"text-align: right;\">\n",
       "      <th></th>\n",
       "      <th>country</th>\n",
       "      <th>continent</th>\n",
       "      <th>year</th>\n",
       "      <th>lifeExp</th>\n",
       "      <th>pop</th>\n",
       "      <th>gdpPercap</th>\n",
       "    </tr>\n",
       "  </thead>\n",
       "  <tbody>\n",
       "    <tr>\n",
       "      <th>828</th>\n",
       "      <td>Korea, Dem. Rep.</td>\n",
       "      <td>Asia</td>\n",
       "      <td>1952</td>\n",
       "      <td>50.056</td>\n",
       "      <td>8865488</td>\n",
       "      <td>1088.277758</td>\n",
       "    </tr>\n",
       "    <tr>\n",
       "      <th>829</th>\n",
       "      <td>Korea, Dem. Rep.</td>\n",
       "      <td>Asia</td>\n",
       "      <td>1957</td>\n",
       "      <td>54.081</td>\n",
       "      <td>9411381</td>\n",
       "      <td>1571.134655</td>\n",
       "    </tr>\n",
       "    <tr>\n",
       "      <th>830</th>\n",
       "      <td>Korea, Dem. Rep.</td>\n",
       "      <td>Asia</td>\n",
       "      <td>1962</td>\n",
       "      <td>56.656</td>\n",
       "      <td>10917494</td>\n",
       "      <td>1621.693598</td>\n",
       "    </tr>\n",
       "    <tr>\n",
       "      <th>831</th>\n",
       "      <td>Korea, Dem. Rep.</td>\n",
       "      <td>Asia</td>\n",
       "      <td>1967</td>\n",
       "      <td>59.942</td>\n",
       "      <td>12617009</td>\n",
       "      <td>2143.540609</td>\n",
       "    </tr>\n",
       "    <tr>\n",
       "      <th>832</th>\n",
       "      <td>Korea, Dem. Rep.</td>\n",
       "      <td>Asia</td>\n",
       "      <td>1972</td>\n",
       "      <td>63.983</td>\n",
       "      <td>14781241</td>\n",
       "      <td>3701.621503</td>\n",
       "    </tr>\n",
       "    <tr>\n",
       "      <th>833</th>\n",
       "      <td>Korea, Dem. Rep.</td>\n",
       "      <td>Asia</td>\n",
       "      <td>1977</td>\n",
       "      <td>67.159</td>\n",
       "      <td>16325320</td>\n",
       "      <td>4106.301249</td>\n",
       "    </tr>\n",
       "    <tr>\n",
       "      <th>834</th>\n",
       "      <td>Korea, Dem. Rep.</td>\n",
       "      <td>Asia</td>\n",
       "      <td>1982</td>\n",
       "      <td>69.100</td>\n",
       "      <td>17647518</td>\n",
       "      <td>4106.525293</td>\n",
       "    </tr>\n",
       "    <tr>\n",
       "      <th>835</th>\n",
       "      <td>Korea, Dem. Rep.</td>\n",
       "      <td>Asia</td>\n",
       "      <td>1987</td>\n",
       "      <td>70.647</td>\n",
       "      <td>19067554</td>\n",
       "      <td>4106.492315</td>\n",
       "    </tr>\n",
       "    <tr>\n",
       "      <th>836</th>\n",
       "      <td>Korea, Dem. Rep.</td>\n",
       "      <td>Asia</td>\n",
       "      <td>1992</td>\n",
       "      <td>69.978</td>\n",
       "      <td>20711375</td>\n",
       "      <td>3726.063507</td>\n",
       "    </tr>\n",
       "    <tr>\n",
       "      <th>837</th>\n",
       "      <td>Korea, Dem. Rep.</td>\n",
       "      <td>Asia</td>\n",
       "      <td>1997</td>\n",
       "      <td>67.727</td>\n",
       "      <td>21585105</td>\n",
       "      <td>1690.756814</td>\n",
       "    </tr>\n",
       "    <tr>\n",
       "      <th>838</th>\n",
       "      <td>Korea, Dem. Rep.</td>\n",
       "      <td>Asia</td>\n",
       "      <td>2002</td>\n",
       "      <td>66.662</td>\n",
       "      <td>22215365</td>\n",
       "      <td>1646.758151</td>\n",
       "    </tr>\n",
       "    <tr>\n",
       "      <th>839</th>\n",
       "      <td>Korea, Dem. Rep.</td>\n",
       "      <td>Asia</td>\n",
       "      <td>2007</td>\n",
       "      <td>67.297</td>\n",
       "      <td>23301725</td>\n",
       "      <td>1593.065480</td>\n",
       "    </tr>\n",
       "    <tr>\n",
       "      <th>840</th>\n",
       "      <td>Korea, Rep.</td>\n",
       "      <td>Asia</td>\n",
       "      <td>1952</td>\n",
       "      <td>47.453</td>\n",
       "      <td>20947571</td>\n",
       "      <td>1030.592226</td>\n",
       "    </tr>\n",
       "    <tr>\n",
       "      <th>841</th>\n",
       "      <td>Korea, Rep.</td>\n",
       "      <td>Asia</td>\n",
       "      <td>1957</td>\n",
       "      <td>52.681</td>\n",
       "      <td>22611552</td>\n",
       "      <td>1487.593537</td>\n",
       "    </tr>\n",
       "    <tr>\n",
       "      <th>842</th>\n",
       "      <td>Korea, Rep.</td>\n",
       "      <td>Asia</td>\n",
       "      <td>1962</td>\n",
       "      <td>55.292</td>\n",
       "      <td>26420307</td>\n",
       "      <td>1536.344387</td>\n",
       "    </tr>\n",
       "    <tr>\n",
       "      <th>843</th>\n",
       "      <td>Korea, Rep.</td>\n",
       "      <td>Asia</td>\n",
       "      <td>1967</td>\n",
       "      <td>57.716</td>\n",
       "      <td>30131000</td>\n",
       "      <td>2029.228142</td>\n",
       "    </tr>\n",
       "    <tr>\n",
       "      <th>844</th>\n",
       "      <td>Korea, Rep.</td>\n",
       "      <td>Asia</td>\n",
       "      <td>1972</td>\n",
       "      <td>62.612</td>\n",
       "      <td>33505000</td>\n",
       "      <td>3030.876650</td>\n",
       "    </tr>\n",
       "    <tr>\n",
       "      <th>845</th>\n",
       "      <td>Korea, Rep.</td>\n",
       "      <td>Asia</td>\n",
       "      <td>1977</td>\n",
       "      <td>64.766</td>\n",
       "      <td>36436000</td>\n",
       "      <td>4657.221020</td>\n",
       "    </tr>\n",
       "    <tr>\n",
       "      <th>846</th>\n",
       "      <td>Korea, Rep.</td>\n",
       "      <td>Asia</td>\n",
       "      <td>1982</td>\n",
       "      <td>67.123</td>\n",
       "      <td>39326000</td>\n",
       "      <td>5622.942464</td>\n",
       "    </tr>\n",
       "    <tr>\n",
       "      <th>847</th>\n",
       "      <td>Korea, Rep.</td>\n",
       "      <td>Asia</td>\n",
       "      <td>1987</td>\n",
       "      <td>69.810</td>\n",
       "      <td>41622000</td>\n",
       "      <td>8533.088805</td>\n",
       "    </tr>\n",
       "    <tr>\n",
       "      <th>848</th>\n",
       "      <td>Korea, Rep.</td>\n",
       "      <td>Asia</td>\n",
       "      <td>1992</td>\n",
       "      <td>72.244</td>\n",
       "      <td>43805450</td>\n",
       "      <td>12104.278720</td>\n",
       "    </tr>\n",
       "    <tr>\n",
       "      <th>849</th>\n",
       "      <td>Korea, Rep.</td>\n",
       "      <td>Asia</td>\n",
       "      <td>1997</td>\n",
       "      <td>74.647</td>\n",
       "      <td>46173816</td>\n",
       "      <td>15993.527960</td>\n",
       "    </tr>\n",
       "    <tr>\n",
       "      <th>850</th>\n",
       "      <td>Korea, Rep.</td>\n",
       "      <td>Asia</td>\n",
       "      <td>2002</td>\n",
       "      <td>77.045</td>\n",
       "      <td>47969150</td>\n",
       "      <td>19233.988180</td>\n",
       "    </tr>\n",
       "    <tr>\n",
       "      <th>851</th>\n",
       "      <td>Korea, Rep.</td>\n",
       "      <td>Asia</td>\n",
       "      <td>2007</td>\n",
       "      <td>78.623</td>\n",
       "      <td>49044790</td>\n",
       "      <td>23348.139730</td>\n",
       "    </tr>\n",
       "  </tbody>\n",
       "</table>\n",
       "</div>"
      ],
      "text/plain": [
       "              country continent  year  lifeExp       pop     gdpPercap\n",
       "828  Korea, Dem. Rep.      Asia  1952   50.056   8865488   1088.277758\n",
       "829  Korea, Dem. Rep.      Asia  1957   54.081   9411381   1571.134655\n",
       "830  Korea, Dem. Rep.      Asia  1962   56.656  10917494   1621.693598\n",
       "831  Korea, Dem. Rep.      Asia  1967   59.942  12617009   2143.540609\n",
       "832  Korea, Dem. Rep.      Asia  1972   63.983  14781241   3701.621503\n",
       "833  Korea, Dem. Rep.      Asia  1977   67.159  16325320   4106.301249\n",
       "834  Korea, Dem. Rep.      Asia  1982   69.100  17647518   4106.525293\n",
       "835  Korea, Dem. Rep.      Asia  1987   70.647  19067554   4106.492315\n",
       "836  Korea, Dem. Rep.      Asia  1992   69.978  20711375   3726.063507\n",
       "837  Korea, Dem. Rep.      Asia  1997   67.727  21585105   1690.756814\n",
       "838  Korea, Dem. Rep.      Asia  2002   66.662  22215365   1646.758151\n",
       "839  Korea, Dem. Rep.      Asia  2007   67.297  23301725   1593.065480\n",
       "840       Korea, Rep.      Asia  1952   47.453  20947571   1030.592226\n",
       "841       Korea, Rep.      Asia  1957   52.681  22611552   1487.593537\n",
       "842       Korea, Rep.      Asia  1962   55.292  26420307   1536.344387\n",
       "843       Korea, Rep.      Asia  1967   57.716  30131000   2029.228142\n",
       "844       Korea, Rep.      Asia  1972   62.612  33505000   3030.876650\n",
       "845       Korea, Rep.      Asia  1977   64.766  36436000   4657.221020\n",
       "846       Korea, Rep.      Asia  1982   67.123  39326000   5622.942464\n",
       "847       Korea, Rep.      Asia  1987   69.810  41622000   8533.088805\n",
       "848       Korea, Rep.      Asia  1992   72.244  43805450  12104.278720\n",
       "849       Korea, Rep.      Asia  1997   74.647  46173816  15993.527960\n",
       "850       Korea, Rep.      Asia  2002   77.045  47969150  19233.988180\n",
       "851       Korea, Rep.      Asia  2007   78.623  49044790  23348.139730"
      ]
     },
     "execution_count": 178,
     "metadata": {},
     "output_type": "execute_result"
    }
   ],
   "source": [
    "# 'Korea, Dem. Rep.' , 'Korea, Rep.' 국가의 데이타만 출력 \n",
    "df_gap[(df_gap['country'] == 'Korea, Dem. Rep.') | (df_gap['country'] == 'Korea, Rep.')]"
   ]
  },
  {
   "cell_type": "code",
   "execution_count": 179,
   "id": "5501f2e7",
   "metadata": {
    "ExecuteTime": {
     "end_time": "2021-11-29T02:10:46.779079Z",
     "start_time": "2021-11-29T02:10:46.762080Z"
    }
   },
   "outputs": [
    {
     "data": {
      "text/html": [
       "<div>\n",
       "<style scoped>\n",
       "    .dataframe tbody tr th:only-of-type {\n",
       "        vertical-align: middle;\n",
       "    }\n",
       "\n",
       "    .dataframe tbody tr th {\n",
       "        vertical-align: top;\n",
       "    }\n",
       "\n",
       "    .dataframe thead th {\n",
       "        text-align: right;\n",
       "    }\n",
       "</style>\n",
       "<table border=\"1\" class=\"dataframe\">\n",
       "  <thead>\n",
       "    <tr style=\"text-align: right;\">\n",
       "      <th></th>\n",
       "      <th>country</th>\n",
       "      <th>continent</th>\n",
       "      <th>year</th>\n",
       "      <th>lifeExp</th>\n",
       "      <th>pop</th>\n",
       "      <th>gdpPercap</th>\n",
       "    </tr>\n",
       "  </thead>\n",
       "  <tbody>\n",
       "    <tr>\n",
       "      <th>828</th>\n",
       "      <td>Korea, Dem. Rep.</td>\n",
       "      <td>Asia</td>\n",
       "      <td>1952</td>\n",
       "      <td>50.056</td>\n",
       "      <td>8865488</td>\n",
       "      <td>1088.277758</td>\n",
       "    </tr>\n",
       "    <tr>\n",
       "      <th>829</th>\n",
       "      <td>Korea, Dem. Rep.</td>\n",
       "      <td>Asia</td>\n",
       "      <td>1957</td>\n",
       "      <td>54.081</td>\n",
       "      <td>9411381</td>\n",
       "      <td>1571.134655</td>\n",
       "    </tr>\n",
       "    <tr>\n",
       "      <th>830</th>\n",
       "      <td>Korea, Dem. Rep.</td>\n",
       "      <td>Asia</td>\n",
       "      <td>1962</td>\n",
       "      <td>56.656</td>\n",
       "      <td>10917494</td>\n",
       "      <td>1621.693598</td>\n",
       "    </tr>\n",
       "    <tr>\n",
       "      <th>831</th>\n",
       "      <td>Korea, Dem. Rep.</td>\n",
       "      <td>Asia</td>\n",
       "      <td>1967</td>\n",
       "      <td>59.942</td>\n",
       "      <td>12617009</td>\n",
       "      <td>2143.540609</td>\n",
       "    </tr>\n",
       "    <tr>\n",
       "      <th>832</th>\n",
       "      <td>Korea, Dem. Rep.</td>\n",
       "      <td>Asia</td>\n",
       "      <td>1972</td>\n",
       "      <td>63.983</td>\n",
       "      <td>14781241</td>\n",
       "      <td>3701.621503</td>\n",
       "    </tr>\n",
       "    <tr>\n",
       "      <th>833</th>\n",
       "      <td>Korea, Dem. Rep.</td>\n",
       "      <td>Asia</td>\n",
       "      <td>1977</td>\n",
       "      <td>67.159</td>\n",
       "      <td>16325320</td>\n",
       "      <td>4106.301249</td>\n",
       "    </tr>\n",
       "    <tr>\n",
       "      <th>834</th>\n",
       "      <td>Korea, Dem. Rep.</td>\n",
       "      <td>Asia</td>\n",
       "      <td>1982</td>\n",
       "      <td>69.100</td>\n",
       "      <td>17647518</td>\n",
       "      <td>4106.525293</td>\n",
       "    </tr>\n",
       "    <tr>\n",
       "      <th>835</th>\n",
       "      <td>Korea, Dem. Rep.</td>\n",
       "      <td>Asia</td>\n",
       "      <td>1987</td>\n",
       "      <td>70.647</td>\n",
       "      <td>19067554</td>\n",
       "      <td>4106.492315</td>\n",
       "    </tr>\n",
       "    <tr>\n",
       "      <th>836</th>\n",
       "      <td>Korea, Dem. Rep.</td>\n",
       "      <td>Asia</td>\n",
       "      <td>1992</td>\n",
       "      <td>69.978</td>\n",
       "      <td>20711375</td>\n",
       "      <td>3726.063507</td>\n",
       "    </tr>\n",
       "    <tr>\n",
       "      <th>837</th>\n",
       "      <td>Korea, Dem. Rep.</td>\n",
       "      <td>Asia</td>\n",
       "      <td>1997</td>\n",
       "      <td>67.727</td>\n",
       "      <td>21585105</td>\n",
       "      <td>1690.756814</td>\n",
       "    </tr>\n",
       "    <tr>\n",
       "      <th>838</th>\n",
       "      <td>Korea, Dem. Rep.</td>\n",
       "      <td>Asia</td>\n",
       "      <td>2002</td>\n",
       "      <td>66.662</td>\n",
       "      <td>22215365</td>\n",
       "      <td>1646.758151</td>\n",
       "    </tr>\n",
       "    <tr>\n",
       "      <th>839</th>\n",
       "      <td>Korea, Dem. Rep.</td>\n",
       "      <td>Asia</td>\n",
       "      <td>2007</td>\n",
       "      <td>67.297</td>\n",
       "      <td>23301725</td>\n",
       "      <td>1593.065480</td>\n",
       "    </tr>\n",
       "    <tr>\n",
       "      <th>840</th>\n",
       "      <td>Korea, Rep.</td>\n",
       "      <td>Asia</td>\n",
       "      <td>1952</td>\n",
       "      <td>47.453</td>\n",
       "      <td>20947571</td>\n",
       "      <td>1030.592226</td>\n",
       "    </tr>\n",
       "    <tr>\n",
       "      <th>841</th>\n",
       "      <td>Korea, Rep.</td>\n",
       "      <td>Asia</td>\n",
       "      <td>1957</td>\n",
       "      <td>52.681</td>\n",
       "      <td>22611552</td>\n",
       "      <td>1487.593537</td>\n",
       "    </tr>\n",
       "    <tr>\n",
       "      <th>842</th>\n",
       "      <td>Korea, Rep.</td>\n",
       "      <td>Asia</td>\n",
       "      <td>1962</td>\n",
       "      <td>55.292</td>\n",
       "      <td>26420307</td>\n",
       "      <td>1536.344387</td>\n",
       "    </tr>\n",
       "    <tr>\n",
       "      <th>843</th>\n",
       "      <td>Korea, Rep.</td>\n",
       "      <td>Asia</td>\n",
       "      <td>1967</td>\n",
       "      <td>57.716</td>\n",
       "      <td>30131000</td>\n",
       "      <td>2029.228142</td>\n",
       "    </tr>\n",
       "    <tr>\n",
       "      <th>844</th>\n",
       "      <td>Korea, Rep.</td>\n",
       "      <td>Asia</td>\n",
       "      <td>1972</td>\n",
       "      <td>62.612</td>\n",
       "      <td>33505000</td>\n",
       "      <td>3030.876650</td>\n",
       "    </tr>\n",
       "    <tr>\n",
       "      <th>845</th>\n",
       "      <td>Korea, Rep.</td>\n",
       "      <td>Asia</td>\n",
       "      <td>1977</td>\n",
       "      <td>64.766</td>\n",
       "      <td>36436000</td>\n",
       "      <td>4657.221020</td>\n",
       "    </tr>\n",
       "    <tr>\n",
       "      <th>846</th>\n",
       "      <td>Korea, Rep.</td>\n",
       "      <td>Asia</td>\n",
       "      <td>1982</td>\n",
       "      <td>67.123</td>\n",
       "      <td>39326000</td>\n",
       "      <td>5622.942464</td>\n",
       "    </tr>\n",
       "    <tr>\n",
       "      <th>847</th>\n",
       "      <td>Korea, Rep.</td>\n",
       "      <td>Asia</td>\n",
       "      <td>1987</td>\n",
       "      <td>69.810</td>\n",
       "      <td>41622000</td>\n",
       "      <td>8533.088805</td>\n",
       "    </tr>\n",
       "    <tr>\n",
       "      <th>848</th>\n",
       "      <td>Korea, Rep.</td>\n",
       "      <td>Asia</td>\n",
       "      <td>1992</td>\n",
       "      <td>72.244</td>\n",
       "      <td>43805450</td>\n",
       "      <td>12104.278720</td>\n",
       "    </tr>\n",
       "    <tr>\n",
       "      <th>849</th>\n",
       "      <td>Korea, Rep.</td>\n",
       "      <td>Asia</td>\n",
       "      <td>1997</td>\n",
       "      <td>74.647</td>\n",
       "      <td>46173816</td>\n",
       "      <td>15993.527960</td>\n",
       "    </tr>\n",
       "    <tr>\n",
       "      <th>850</th>\n",
       "      <td>Korea, Rep.</td>\n",
       "      <td>Asia</td>\n",
       "      <td>2002</td>\n",
       "      <td>77.045</td>\n",
       "      <td>47969150</td>\n",
       "      <td>19233.988180</td>\n",
       "    </tr>\n",
       "    <tr>\n",
       "      <th>851</th>\n",
       "      <td>Korea, Rep.</td>\n",
       "      <td>Asia</td>\n",
       "      <td>2007</td>\n",
       "      <td>78.623</td>\n",
       "      <td>49044790</td>\n",
       "      <td>23348.139730</td>\n",
       "    </tr>\n",
       "  </tbody>\n",
       "</table>\n",
       "</div>"
      ],
      "text/plain": [
       "              country continent  year  lifeExp       pop     gdpPercap\n",
       "828  Korea, Dem. Rep.      Asia  1952   50.056   8865488   1088.277758\n",
       "829  Korea, Dem. Rep.      Asia  1957   54.081   9411381   1571.134655\n",
       "830  Korea, Dem. Rep.      Asia  1962   56.656  10917494   1621.693598\n",
       "831  Korea, Dem. Rep.      Asia  1967   59.942  12617009   2143.540609\n",
       "832  Korea, Dem. Rep.      Asia  1972   63.983  14781241   3701.621503\n",
       "833  Korea, Dem. Rep.      Asia  1977   67.159  16325320   4106.301249\n",
       "834  Korea, Dem. Rep.      Asia  1982   69.100  17647518   4106.525293\n",
       "835  Korea, Dem. Rep.      Asia  1987   70.647  19067554   4106.492315\n",
       "836  Korea, Dem. Rep.      Asia  1992   69.978  20711375   3726.063507\n",
       "837  Korea, Dem. Rep.      Asia  1997   67.727  21585105   1690.756814\n",
       "838  Korea, Dem. Rep.      Asia  2002   66.662  22215365   1646.758151\n",
       "839  Korea, Dem. Rep.      Asia  2007   67.297  23301725   1593.065480\n",
       "840       Korea, Rep.      Asia  1952   47.453  20947571   1030.592226\n",
       "841       Korea, Rep.      Asia  1957   52.681  22611552   1487.593537\n",
       "842       Korea, Rep.      Asia  1962   55.292  26420307   1536.344387\n",
       "843       Korea, Rep.      Asia  1967   57.716  30131000   2029.228142\n",
       "844       Korea, Rep.      Asia  1972   62.612  33505000   3030.876650\n",
       "845       Korea, Rep.      Asia  1977   64.766  36436000   4657.221020\n",
       "846       Korea, Rep.      Asia  1982   67.123  39326000   5622.942464\n",
       "847       Korea, Rep.      Asia  1987   69.810  41622000   8533.088805\n",
       "848       Korea, Rep.      Asia  1992   72.244  43805450  12104.278720\n",
       "849       Korea, Rep.      Asia  1997   74.647  46173816  15993.527960\n",
       "850       Korea, Rep.      Asia  2002   77.045  47969150  19233.988180\n",
       "851       Korea, Rep.      Asia  2007   78.623  49044790  23348.139730"
      ]
     },
     "execution_count": 179,
     "metadata": {},
     "output_type": "execute_result"
    }
   ],
   "source": [
    "df_gap[df_gap['country'].isin(['Korea, Dem. Rep.', 'Korea, Rep.'])]"
   ]
  },
  {
   "cell_type": "code",
   "execution_count": 180,
   "id": "c565860f",
   "metadata": {
    "ExecuteTime": {
     "end_time": "2021-11-29T02:11:34.055141Z",
     "start_time": "2021-11-29T02:11:34.049132Z"
    }
   },
   "outputs": [
    {
     "data": {
      "text/plain": [
       "0       False\n",
       "1       False\n",
       "2       False\n",
       "3       False\n",
       "4       False\n",
       "        ...  \n",
       "1699    False\n",
       "1700    False\n",
       "1701    False\n",
       "1702    False\n",
       "1703    False\n",
       "Name: country, Length: 1704, dtype: bool"
      ]
     },
     "execution_count": 180,
     "metadata": {},
     "output_type": "execute_result"
    }
   ],
   "source": [
    "# 데이타프레임[컬럼명].isin([값1, 값2 ...])\n",
    "df_gap['country'].isin(['Korea, Dem. Rep.', 'Korea, Rep.'])"
   ]
  },
  {
   "cell_type": "code",
   "execution_count": 181,
   "id": "22f5f69f",
   "metadata": {
    "ExecuteTime": {
     "end_time": "2021-11-29T02:11:48.278109Z",
     "start_time": "2021-11-29T02:11:48.257104Z"
    }
   },
   "outputs": [
    {
     "data": {
      "text/plain": [
       "country      24\n",
       "continent    24\n",
       "year         24\n",
       "lifeExp      24\n",
       "pop          24\n",
       "gdpPercap    24\n",
       "dtype: int64"
      ]
     },
     "execution_count": 181,
     "metadata": {},
     "output_type": "execute_result"
    }
   ],
   "source": [
    "df_gap[(df_gap['country'] == 'Korea, Dem. Rep.') | (df_gap['country'] == 'Korea, Rep.')].count()"
   ]
  },
  {
   "cell_type": "code",
   "execution_count": 182,
   "id": "5a100715",
   "metadata": {
    "ExecuteTime": {
     "end_time": "2021-11-29T02:11:54.884299Z",
     "start_time": "2021-11-29T02:11:54.873287Z"
    }
   },
   "outputs": [
    {
     "data": {
      "text/plain": [
       "country      24\n",
       "continent    24\n",
       "year         24\n",
       "lifeExp      24\n",
       "pop          24\n",
       "gdpPercap    24\n",
       "dtype: int64"
      ]
     },
     "execution_count": 182,
     "metadata": {},
     "output_type": "execute_result"
    }
   ],
   "source": [
    "df_gap[df_gap['country'].isin(['Korea, Dem. Rep.', 'Korea, Rep.'])].count()"
   ]
  },
  {
   "cell_type": "code",
   "execution_count": 183,
   "id": "814231bf",
   "metadata": {
    "ExecuteTime": {
     "end_time": "2021-11-29T02:12:01.935667Z",
     "start_time": "2021-11-29T02:12:01.919657Z"
    }
   },
   "outputs": [
    {
     "data": {
      "text/html": [
       "<div>\n",
       "<style scoped>\n",
       "    .dataframe tbody tr th:only-of-type {\n",
       "        vertical-align: middle;\n",
       "    }\n",
       "\n",
       "    .dataframe tbody tr th {\n",
       "        vertical-align: top;\n",
       "    }\n",
       "\n",
       "    .dataframe thead th {\n",
       "        text-align: right;\n",
       "    }\n",
       "</style>\n",
       "<table border=\"1\" class=\"dataframe\">\n",
       "  <thead>\n",
       "    <tr style=\"text-align: right;\">\n",
       "      <th></th>\n",
       "      <th>country</th>\n",
       "      <th>continent</th>\n",
       "      <th>year</th>\n",
       "      <th>lifeExp</th>\n",
       "      <th>pop</th>\n",
       "      <th>gdpPercap</th>\n",
       "    </tr>\n",
       "  </thead>\n",
       "  <tbody>\n",
       "  </tbody>\n",
       "</table>\n",
       "</div>"
      ],
      "text/plain": [
       "Empty DataFrame\n",
       "Columns: [country, continent, year, lifeExp, pop, gdpPercap]\n",
       "Index: []"
      ]
     },
     "execution_count": 183,
     "metadata": {},
     "output_type": "execute_result"
    }
   ],
   "source": [
    "# 컬럼값과 동일해야만 필터링이 된다. \n",
    "df_gap[df_gap['country'].isin(['Korea'])]"
   ]
  },
  {
   "cell_type": "code",
   "execution_count": 184,
   "id": "df56e708",
   "metadata": {
    "ExecuteTime": {
     "end_time": "2021-11-29T02:12:06.956332Z",
     "start_time": "2021-11-29T02:12:06.938322Z"
    }
   },
   "outputs": [
    {
     "data": {
      "text/html": [
       "<div>\n",
       "<style scoped>\n",
       "    .dataframe tbody tr th:only-of-type {\n",
       "        vertical-align: middle;\n",
       "    }\n",
       "\n",
       "    .dataframe tbody tr th {\n",
       "        vertical-align: top;\n",
       "    }\n",
       "\n",
       "    .dataframe thead th {\n",
       "        text-align: right;\n",
       "    }\n",
       "</style>\n",
       "<table border=\"1\" class=\"dataframe\">\n",
       "  <thead>\n",
       "    <tr style=\"text-align: right;\">\n",
       "      <th></th>\n",
       "      <th>country</th>\n",
       "      <th>continent</th>\n",
       "      <th>year</th>\n",
       "      <th>lifeExp</th>\n",
       "      <th>pop</th>\n",
       "      <th>gdpPercap</th>\n",
       "    </tr>\n",
       "  </thead>\n",
       "  <tbody>\n",
       "  </tbody>\n",
       "</table>\n",
       "</div>"
      ],
      "text/plain": [
       "Empty DataFrame\n",
       "Columns: [country, continent, year, lifeExp, pop, gdpPercap]\n",
       "Index: []"
      ]
     },
     "execution_count": 184,
     "metadata": {},
     "output_type": "execute_result"
    }
   ],
   "source": [
    "df_gap[df_gap['country'] == 'Korea']"
   ]
  },
  {
   "cell_type": "code",
   "execution_count": 185,
   "id": "2aada3e6",
   "metadata": {
    "ExecuteTime": {
     "end_time": "2021-11-29T02:12:12.083125Z",
     "start_time": "2021-11-29T02:12:12.073117Z"
    }
   },
   "outputs": [
    {
     "data": {
      "text/plain": [
       "0       afghanistan\n",
       "1       afghanistan\n",
       "2       afghanistan\n",
       "3       afghanistan\n",
       "4       afghanistan\n",
       "           ...     \n",
       "1699       zimbabwe\n",
       "1700       zimbabwe\n",
       "1701       zimbabwe\n",
       "1702       zimbabwe\n",
       "1703       zimbabwe\n",
       "Name: country, Length: 1704, dtype: object"
      ]
     },
     "execution_count": 185,
     "metadata": {},
     "output_type": "execute_result"
    }
   ],
   "source": [
    "# 모두 소문자로 출력 \n",
    "df_gap['country'].str.lower()"
   ]
  },
  {
   "cell_type": "code",
   "execution_count": 186,
   "id": "978f620d",
   "metadata": {
    "ExecuteTime": {
     "end_time": "2021-11-29T02:12:17.412217Z",
     "start_time": "2021-11-29T02:12:17.402216Z"
    }
   },
   "outputs": [
    {
     "data": {
      "text/plain": [
       "0       A\n",
       "1       A\n",
       "2       A\n",
       "3       A\n",
       "4       A\n",
       "       ..\n",
       "1699    Z\n",
       "1700    Z\n",
       "1701    Z\n",
       "1702    Z\n",
       "1703    Z\n",
       "Name: country, Length: 1704, dtype: object"
      ]
     },
     "execution_count": 186,
     "metadata": {},
     "output_type": "execute_result"
    }
   ],
   "source": [
    "# 첫번째 글자만 출력 \n",
    "df_gap['country'].str[0]"
   ]
  },
  {
   "cell_type": "code",
   "execution_count": 187,
   "id": "c26a7cf5",
   "metadata": {
    "ExecuteTime": {
     "end_time": "2021-11-29T02:12:24.165145Z",
     "start_time": "2021-11-29T02:12:24.145135Z"
    }
   },
   "outputs": [
    {
     "data": {
      "text/plain": [
       "0       Afgha\n",
       "1       Afgha\n",
       "2       Afgha\n",
       "3       Afgha\n",
       "4       Afgha\n",
       "        ...  \n",
       "1699    Zimba\n",
       "1700    Zimba\n",
       "1701    Zimba\n",
       "1702    Zimba\n",
       "1703    Zimba\n",
       "Name: country, Length: 1704, dtype: object"
      ]
     },
     "execution_count": 187,
     "metadata": {},
     "output_type": "execute_result"
    }
   ],
   "source": [
    "# 5개의 글자만 추출 \n",
    "df_gap['country'].str[:5]"
   ]
  },
  {
   "cell_type": "code",
   "execution_count": 188,
   "id": "4f3eab36",
   "metadata": {
    "ExecuteTime": {
     "end_time": "2021-11-29T02:12:46.628334Z",
     "start_time": "2021-11-29T02:12:46.609336Z"
    }
   },
   "outputs": [
    {
     "data": {
      "text/html": [
       "<div>\n",
       "<style scoped>\n",
       "    .dataframe tbody tr th:only-of-type {\n",
       "        vertical-align: middle;\n",
       "    }\n",
       "\n",
       "    .dataframe tbody tr th {\n",
       "        vertical-align: top;\n",
       "    }\n",
       "\n",
       "    .dataframe thead th {\n",
       "        text-align: right;\n",
       "    }\n",
       "</style>\n",
       "<table border=\"1\" class=\"dataframe\">\n",
       "  <thead>\n",
       "    <tr style=\"text-align: right;\">\n",
       "      <th></th>\n",
       "      <th>country</th>\n",
       "      <th>continent</th>\n",
       "      <th>year</th>\n",
       "      <th>lifeExp</th>\n",
       "      <th>pop</th>\n",
       "      <th>gdpPercap</th>\n",
       "    </tr>\n",
       "  </thead>\n",
       "  <tbody>\n",
       "    <tr>\n",
       "      <th>828</th>\n",
       "      <td>Korea, Dem. Rep.</td>\n",
       "      <td>Asia</td>\n",
       "      <td>1952</td>\n",
       "      <td>50.056</td>\n",
       "      <td>8865488</td>\n",
       "      <td>1088.277758</td>\n",
       "    </tr>\n",
       "    <tr>\n",
       "      <th>829</th>\n",
       "      <td>Korea, Dem. Rep.</td>\n",
       "      <td>Asia</td>\n",
       "      <td>1957</td>\n",
       "      <td>54.081</td>\n",
       "      <td>9411381</td>\n",
       "      <td>1571.134655</td>\n",
       "    </tr>\n",
       "    <tr>\n",
       "      <th>830</th>\n",
       "      <td>Korea, Dem. Rep.</td>\n",
       "      <td>Asia</td>\n",
       "      <td>1962</td>\n",
       "      <td>56.656</td>\n",
       "      <td>10917494</td>\n",
       "      <td>1621.693598</td>\n",
       "    </tr>\n",
       "    <tr>\n",
       "      <th>831</th>\n",
       "      <td>Korea, Dem. Rep.</td>\n",
       "      <td>Asia</td>\n",
       "      <td>1967</td>\n",
       "      <td>59.942</td>\n",
       "      <td>12617009</td>\n",
       "      <td>2143.540609</td>\n",
       "    </tr>\n",
       "    <tr>\n",
       "      <th>832</th>\n",
       "      <td>Korea, Dem. Rep.</td>\n",
       "      <td>Asia</td>\n",
       "      <td>1972</td>\n",
       "      <td>63.983</td>\n",
       "      <td>14781241</td>\n",
       "      <td>3701.621503</td>\n",
       "    </tr>\n",
       "    <tr>\n",
       "      <th>833</th>\n",
       "      <td>Korea, Dem. Rep.</td>\n",
       "      <td>Asia</td>\n",
       "      <td>1977</td>\n",
       "      <td>67.159</td>\n",
       "      <td>16325320</td>\n",
       "      <td>4106.301249</td>\n",
       "    </tr>\n",
       "    <tr>\n",
       "      <th>834</th>\n",
       "      <td>Korea, Dem. Rep.</td>\n",
       "      <td>Asia</td>\n",
       "      <td>1982</td>\n",
       "      <td>69.100</td>\n",
       "      <td>17647518</td>\n",
       "      <td>4106.525293</td>\n",
       "    </tr>\n",
       "    <tr>\n",
       "      <th>835</th>\n",
       "      <td>Korea, Dem. Rep.</td>\n",
       "      <td>Asia</td>\n",
       "      <td>1987</td>\n",
       "      <td>70.647</td>\n",
       "      <td>19067554</td>\n",
       "      <td>4106.492315</td>\n",
       "    </tr>\n",
       "    <tr>\n",
       "      <th>836</th>\n",
       "      <td>Korea, Dem. Rep.</td>\n",
       "      <td>Asia</td>\n",
       "      <td>1992</td>\n",
       "      <td>69.978</td>\n",
       "      <td>20711375</td>\n",
       "      <td>3726.063507</td>\n",
       "    </tr>\n",
       "    <tr>\n",
       "      <th>837</th>\n",
       "      <td>Korea, Dem. Rep.</td>\n",
       "      <td>Asia</td>\n",
       "      <td>1997</td>\n",
       "      <td>67.727</td>\n",
       "      <td>21585105</td>\n",
       "      <td>1690.756814</td>\n",
       "    </tr>\n",
       "    <tr>\n",
       "      <th>838</th>\n",
       "      <td>Korea, Dem. Rep.</td>\n",
       "      <td>Asia</td>\n",
       "      <td>2002</td>\n",
       "      <td>66.662</td>\n",
       "      <td>22215365</td>\n",
       "      <td>1646.758151</td>\n",
       "    </tr>\n",
       "    <tr>\n",
       "      <th>839</th>\n",
       "      <td>Korea, Dem. Rep.</td>\n",
       "      <td>Asia</td>\n",
       "      <td>2007</td>\n",
       "      <td>67.297</td>\n",
       "      <td>23301725</td>\n",
       "      <td>1593.065480</td>\n",
       "    </tr>\n",
       "    <tr>\n",
       "      <th>840</th>\n",
       "      <td>Korea, Rep.</td>\n",
       "      <td>Asia</td>\n",
       "      <td>1952</td>\n",
       "      <td>47.453</td>\n",
       "      <td>20947571</td>\n",
       "      <td>1030.592226</td>\n",
       "    </tr>\n",
       "    <tr>\n",
       "      <th>841</th>\n",
       "      <td>Korea, Rep.</td>\n",
       "      <td>Asia</td>\n",
       "      <td>1957</td>\n",
       "      <td>52.681</td>\n",
       "      <td>22611552</td>\n",
       "      <td>1487.593537</td>\n",
       "    </tr>\n",
       "    <tr>\n",
       "      <th>842</th>\n",
       "      <td>Korea, Rep.</td>\n",
       "      <td>Asia</td>\n",
       "      <td>1962</td>\n",
       "      <td>55.292</td>\n",
       "      <td>26420307</td>\n",
       "      <td>1536.344387</td>\n",
       "    </tr>\n",
       "    <tr>\n",
       "      <th>843</th>\n",
       "      <td>Korea, Rep.</td>\n",
       "      <td>Asia</td>\n",
       "      <td>1967</td>\n",
       "      <td>57.716</td>\n",
       "      <td>30131000</td>\n",
       "      <td>2029.228142</td>\n",
       "    </tr>\n",
       "    <tr>\n",
       "      <th>844</th>\n",
       "      <td>Korea, Rep.</td>\n",
       "      <td>Asia</td>\n",
       "      <td>1972</td>\n",
       "      <td>62.612</td>\n",
       "      <td>33505000</td>\n",
       "      <td>3030.876650</td>\n",
       "    </tr>\n",
       "    <tr>\n",
       "      <th>845</th>\n",
       "      <td>Korea, Rep.</td>\n",
       "      <td>Asia</td>\n",
       "      <td>1977</td>\n",
       "      <td>64.766</td>\n",
       "      <td>36436000</td>\n",
       "      <td>4657.221020</td>\n",
       "    </tr>\n",
       "    <tr>\n",
       "      <th>846</th>\n",
       "      <td>Korea, Rep.</td>\n",
       "      <td>Asia</td>\n",
       "      <td>1982</td>\n",
       "      <td>67.123</td>\n",
       "      <td>39326000</td>\n",
       "      <td>5622.942464</td>\n",
       "    </tr>\n",
       "    <tr>\n",
       "      <th>847</th>\n",
       "      <td>Korea, Rep.</td>\n",
       "      <td>Asia</td>\n",
       "      <td>1987</td>\n",
       "      <td>69.810</td>\n",
       "      <td>41622000</td>\n",
       "      <td>8533.088805</td>\n",
       "    </tr>\n",
       "    <tr>\n",
       "      <th>848</th>\n",
       "      <td>Korea, Rep.</td>\n",
       "      <td>Asia</td>\n",
       "      <td>1992</td>\n",
       "      <td>72.244</td>\n",
       "      <td>43805450</td>\n",
       "      <td>12104.278720</td>\n",
       "    </tr>\n",
       "    <tr>\n",
       "      <th>849</th>\n",
       "      <td>Korea, Rep.</td>\n",
       "      <td>Asia</td>\n",
       "      <td>1997</td>\n",
       "      <td>74.647</td>\n",
       "      <td>46173816</td>\n",
       "      <td>15993.527960</td>\n",
       "    </tr>\n",
       "    <tr>\n",
       "      <th>850</th>\n",
       "      <td>Korea, Rep.</td>\n",
       "      <td>Asia</td>\n",
       "      <td>2002</td>\n",
       "      <td>77.045</td>\n",
       "      <td>47969150</td>\n",
       "      <td>19233.988180</td>\n",
       "    </tr>\n",
       "    <tr>\n",
       "      <th>851</th>\n",
       "      <td>Korea, Rep.</td>\n",
       "      <td>Asia</td>\n",
       "      <td>2007</td>\n",
       "      <td>78.623</td>\n",
       "      <td>49044790</td>\n",
       "      <td>23348.139730</td>\n",
       "    </tr>\n",
       "  </tbody>\n",
       "</table>\n",
       "</div>"
      ],
      "text/plain": [
       "              country continent  year  lifeExp       pop     gdpPercap\n",
       "828  Korea, Dem. Rep.      Asia  1952   50.056   8865488   1088.277758\n",
       "829  Korea, Dem. Rep.      Asia  1957   54.081   9411381   1571.134655\n",
       "830  Korea, Dem. Rep.      Asia  1962   56.656  10917494   1621.693598\n",
       "831  Korea, Dem. Rep.      Asia  1967   59.942  12617009   2143.540609\n",
       "832  Korea, Dem. Rep.      Asia  1972   63.983  14781241   3701.621503\n",
       "833  Korea, Dem. Rep.      Asia  1977   67.159  16325320   4106.301249\n",
       "834  Korea, Dem. Rep.      Asia  1982   69.100  17647518   4106.525293\n",
       "835  Korea, Dem. Rep.      Asia  1987   70.647  19067554   4106.492315\n",
       "836  Korea, Dem. Rep.      Asia  1992   69.978  20711375   3726.063507\n",
       "837  Korea, Dem. Rep.      Asia  1997   67.727  21585105   1690.756814\n",
       "838  Korea, Dem. Rep.      Asia  2002   66.662  22215365   1646.758151\n",
       "839  Korea, Dem. Rep.      Asia  2007   67.297  23301725   1593.065480\n",
       "840       Korea, Rep.      Asia  1952   47.453  20947571   1030.592226\n",
       "841       Korea, Rep.      Asia  1957   52.681  22611552   1487.593537\n",
       "842       Korea, Rep.      Asia  1962   55.292  26420307   1536.344387\n",
       "843       Korea, Rep.      Asia  1967   57.716  30131000   2029.228142\n",
       "844       Korea, Rep.      Asia  1972   62.612  33505000   3030.876650\n",
       "845       Korea, Rep.      Asia  1977   64.766  36436000   4657.221020\n",
       "846       Korea, Rep.      Asia  1982   67.123  39326000   5622.942464\n",
       "847       Korea, Rep.      Asia  1987   69.810  41622000   8533.088805\n",
       "848       Korea, Rep.      Asia  1992   72.244  43805450  12104.278720\n",
       "849       Korea, Rep.      Asia  1997   74.647  46173816  15993.527960\n",
       "850       Korea, Rep.      Asia  2002   77.045  47969150  19233.988180\n",
       "851       Korea, Rep.      Asia  2007   78.623  49044790  23348.139730"
      ]
     },
     "execution_count": 188,
     "metadata": {},
     "output_type": "execute_result"
    }
   ],
   "source": [
    "# Korea 가 들어간 데이타?\n",
    "df_gap[df_gap['country'].str.contains('Korea')]"
   ]
  },
  {
   "cell_type": "code",
   "execution_count": 189,
   "id": "f055007a",
   "metadata": {
    "ExecuteTime": {
     "end_time": "2021-11-29T02:12:53.123813Z",
     "start_time": "2021-11-29T02:12:53.105810Z"
    }
   },
   "outputs": [
    {
     "data": {
      "text/plain": [
       "0       Afghanistan\n",
       "1       Afghanistan\n",
       "2       Afghanistan\n",
       "3       Afghanistan\n",
       "4       Afghanistan\n",
       "           ...     \n",
       "1699       Zimbabwe\n",
       "1700       Zimbabwe\n",
       "1701       Zimbabwe\n",
       "1702       Zimbabwe\n",
       "1703       Zimbabwe\n",
       "Name: country, Length: 1704, dtype: object"
      ]
     },
     "execution_count": 189,
     "metadata": {},
     "output_type": "execute_result"
    }
   ],
   "source": [
    "df_gap['country']"
   ]
  },
  {
   "cell_type": "code",
   "execution_count": 190,
   "id": "3de943c2",
   "metadata": {
    "ExecuteTime": {
     "end_time": "2021-11-29T02:12:58.390426Z",
     "start_time": "2021-11-29T02:12:58.362408Z"
    }
   },
   "outputs": [
    {
     "data": {
      "text/html": [
       "<div>\n",
       "<style scoped>\n",
       "    .dataframe tbody tr th:only-of-type {\n",
       "        vertical-align: middle;\n",
       "    }\n",
       "\n",
       "    .dataframe tbody tr th {\n",
       "        vertical-align: top;\n",
       "    }\n",
       "\n",
       "    .dataframe thead th {\n",
       "        text-align: right;\n",
       "    }\n",
       "</style>\n",
       "<table border=\"1\" class=\"dataframe\">\n",
       "  <thead>\n",
       "    <tr style=\"text-align: right;\">\n",
       "      <th></th>\n",
       "      <th>country</th>\n",
       "      <th>continent</th>\n",
       "      <th>year</th>\n",
       "      <th>lifeExp</th>\n",
       "      <th>pop</th>\n",
       "      <th>gdpPercap</th>\n",
       "    </tr>\n",
       "  </thead>\n",
       "  <tbody>\n",
       "    <tr>\n",
       "      <th>516</th>\n",
       "      <td>Finland</td>\n",
       "      <td>Europe</td>\n",
       "      <td>1952</td>\n",
       "      <td>66.550</td>\n",
       "      <td>4090500</td>\n",
       "      <td>6424.519071</td>\n",
       "    </tr>\n",
       "    <tr>\n",
       "      <th>517</th>\n",
       "      <td>Finland</td>\n",
       "      <td>Europe</td>\n",
       "      <td>1957</td>\n",
       "      <td>67.490</td>\n",
       "      <td>4324000</td>\n",
       "      <td>7545.415386</td>\n",
       "    </tr>\n",
       "    <tr>\n",
       "      <th>518</th>\n",
       "      <td>Finland</td>\n",
       "      <td>Europe</td>\n",
       "      <td>1962</td>\n",
       "      <td>68.750</td>\n",
       "      <td>4491443</td>\n",
       "      <td>9371.842561</td>\n",
       "    </tr>\n",
       "    <tr>\n",
       "      <th>519</th>\n",
       "      <td>Finland</td>\n",
       "      <td>Europe</td>\n",
       "      <td>1967</td>\n",
       "      <td>69.830</td>\n",
       "      <td>4605744</td>\n",
       "      <td>10921.636260</td>\n",
       "    </tr>\n",
       "    <tr>\n",
       "      <th>520</th>\n",
       "      <td>Finland</td>\n",
       "      <td>Europe</td>\n",
       "      <td>1972</td>\n",
       "      <td>70.870</td>\n",
       "      <td>4639657</td>\n",
       "      <td>14358.875900</td>\n",
       "    </tr>\n",
       "    <tr>\n",
       "      <th>...</th>\n",
       "      <td>...</td>\n",
       "      <td>...</td>\n",
       "      <td>...</td>\n",
       "      <td>...</td>\n",
       "      <td>...</td>\n",
       "      <td>...</td>\n",
       "    </tr>\n",
       "    <tr>\n",
       "      <th>1531</th>\n",
       "      <td>Thailand</td>\n",
       "      <td>Asia</td>\n",
       "      <td>1987</td>\n",
       "      <td>66.084</td>\n",
       "      <td>52910342</td>\n",
       "      <td>2982.653773</td>\n",
       "    </tr>\n",
       "    <tr>\n",
       "      <th>1532</th>\n",
       "      <td>Thailand</td>\n",
       "      <td>Asia</td>\n",
       "      <td>1992</td>\n",
       "      <td>67.298</td>\n",
       "      <td>56667095</td>\n",
       "      <td>4616.896545</td>\n",
       "    </tr>\n",
       "    <tr>\n",
       "      <th>1533</th>\n",
       "      <td>Thailand</td>\n",
       "      <td>Asia</td>\n",
       "      <td>1997</td>\n",
       "      <td>67.521</td>\n",
       "      <td>60216677</td>\n",
       "      <td>5852.625497</td>\n",
       "    </tr>\n",
       "    <tr>\n",
       "      <th>1534</th>\n",
       "      <td>Thailand</td>\n",
       "      <td>Asia</td>\n",
       "      <td>2002</td>\n",
       "      <td>68.564</td>\n",
       "      <td>62806748</td>\n",
       "      <td>5913.187529</td>\n",
       "    </tr>\n",
       "    <tr>\n",
       "      <th>1535</th>\n",
       "      <td>Thailand</td>\n",
       "      <td>Asia</td>\n",
       "      <td>2007</td>\n",
       "      <td>70.616</td>\n",
       "      <td>65068149</td>\n",
       "      <td>7458.396327</td>\n",
       "    </tr>\n",
       "  </tbody>\n",
       "</table>\n",
       "<p>108 rows × 6 columns</p>\n",
       "</div>"
      ],
      "text/plain": [
       "       country continent  year  lifeExp       pop     gdpPercap\n",
       "516    Finland    Europe  1952   66.550   4090500   6424.519071\n",
       "517    Finland    Europe  1957   67.490   4324000   7545.415386\n",
       "518    Finland    Europe  1962   68.750   4491443   9371.842561\n",
       "519    Finland    Europe  1967   69.830   4605744  10921.636260\n",
       "520    Finland    Europe  1972   70.870   4639657  14358.875900\n",
       "...        ...       ...   ...      ...       ...           ...\n",
       "1531  Thailand      Asia  1987   66.084  52910342   2982.653773\n",
       "1532  Thailand      Asia  1992   67.298  56667095   4616.896545\n",
       "1533  Thailand      Asia  1997   67.521  60216677   5852.625497\n",
       "1534  Thailand      Asia  2002   68.564  62806748   5913.187529\n",
       "1535  Thailand      Asia  2007   70.616  65068149   7458.396327\n",
       "\n",
       "[108 rows x 6 columns]"
      ]
     },
     "execution_count": 190,
     "metadata": {},
     "output_type": "execute_result"
    }
   ],
   "source": [
    "# land 들어간 나라의 데이타 출력?\n",
    "df_gap[df_gap['country'].str.contains('land')]"
   ]
  },
  {
   "cell_type": "code",
   "execution_count": 191,
   "id": "e1ddd7f8",
   "metadata": {
    "ExecuteTime": {
     "end_time": "2021-11-29T02:13:03.639243Z",
     "start_time": "2021-11-29T02:13:03.618241Z"
    }
   },
   "outputs": [
    {
     "data": {
      "text/plain": [
       "array(['Finland', 'Iceland', 'Ireland', 'Netherlands', 'New Zealand',\n",
       "       'Poland', 'Swaziland', 'Switzerland', 'Thailand'], dtype=object)"
      ]
     },
     "execution_count": 191,
     "metadata": {},
     "output_type": "execute_result"
    }
   ],
   "source": [
    "df_gap[df_gap['country'].str.contains('land')]['country'].unique()"
   ]
  },
  {
   "cell_type": "code",
   "execution_count": 192,
   "id": "603266d5",
   "metadata": {
    "ExecuteTime": {
     "end_time": "2021-11-29T02:13:07.350970Z",
     "start_time": "2021-11-29T02:13:07.328952Z"
    }
   },
   "outputs": [
    {
     "data": {
      "text/html": [
       "<div>\n",
       "<style scoped>\n",
       "    .dataframe tbody tr th:only-of-type {\n",
       "        vertical-align: middle;\n",
       "    }\n",
       "\n",
       "    .dataframe tbody tr th {\n",
       "        vertical-align: top;\n",
       "    }\n",
       "\n",
       "    .dataframe thead th {\n",
       "        text-align: right;\n",
       "    }\n",
       "</style>\n",
       "<table border=\"1\" class=\"dataframe\">\n",
       "  <thead>\n",
       "    <tr style=\"text-align: right;\">\n",
       "      <th></th>\n",
       "      <th>country</th>\n",
       "      <th>continent</th>\n",
       "      <th>year</th>\n",
       "      <th>lifeExp</th>\n",
       "      <th>pop</th>\n",
       "      <th>gdpPercap</th>\n",
       "    </tr>\n",
       "  </thead>\n",
       "  <tbody>\n",
       "    <tr>\n",
       "      <th>0</th>\n",
       "      <td>Afghanistan</td>\n",
       "      <td>Asia</td>\n",
       "      <td>1952</td>\n",
       "      <td>28.801</td>\n",
       "      <td>8425333</td>\n",
       "      <td>779.445314</td>\n",
       "    </tr>\n",
       "    <tr>\n",
       "      <th>1</th>\n",
       "      <td>Afghanistan</td>\n",
       "      <td>Asia</td>\n",
       "      <td>1957</td>\n",
       "      <td>30.332</td>\n",
       "      <td>9240934</td>\n",
       "      <td>820.853030</td>\n",
       "    </tr>\n",
       "    <tr>\n",
       "      <th>2</th>\n",
       "      <td>Afghanistan</td>\n",
       "      <td>Asia</td>\n",
       "      <td>1962</td>\n",
       "      <td>31.997</td>\n",
       "      <td>10267083</td>\n",
       "      <td>853.100710</td>\n",
       "    </tr>\n",
       "    <tr>\n",
       "      <th>3</th>\n",
       "      <td>Afghanistan</td>\n",
       "      <td>Asia</td>\n",
       "      <td>1967</td>\n",
       "      <td>34.020</td>\n",
       "      <td>11537966</td>\n",
       "      <td>836.197138</td>\n",
       "    </tr>\n",
       "    <tr>\n",
       "      <th>4</th>\n",
       "      <td>Afghanistan</td>\n",
       "      <td>Asia</td>\n",
       "      <td>1972</td>\n",
       "      <td>36.088</td>\n",
       "      <td>13079460</td>\n",
       "      <td>739.981106</td>\n",
       "    </tr>\n",
       "    <tr>\n",
       "      <th>...</th>\n",
       "      <td>...</td>\n",
       "      <td>...</td>\n",
       "      <td>...</td>\n",
       "      <td>...</td>\n",
       "      <td>...</td>\n",
       "      <td>...</td>\n",
       "    </tr>\n",
       "    <tr>\n",
       "      <th>1663</th>\n",
       "      <td>West Bank and Gaza</td>\n",
       "      <td>Asia</td>\n",
       "      <td>1987</td>\n",
       "      <td>67.046</td>\n",
       "      <td>1691210</td>\n",
       "      <td>5107.197384</td>\n",
       "    </tr>\n",
       "    <tr>\n",
       "      <th>1664</th>\n",
       "      <td>West Bank and Gaza</td>\n",
       "      <td>Asia</td>\n",
       "      <td>1992</td>\n",
       "      <td>69.718</td>\n",
       "      <td>2104779</td>\n",
       "      <td>6017.654756</td>\n",
       "    </tr>\n",
       "    <tr>\n",
       "      <th>1665</th>\n",
       "      <td>West Bank and Gaza</td>\n",
       "      <td>Asia</td>\n",
       "      <td>1997</td>\n",
       "      <td>71.096</td>\n",
       "      <td>2826046</td>\n",
       "      <td>7110.667619</td>\n",
       "    </tr>\n",
       "    <tr>\n",
       "      <th>1666</th>\n",
       "      <td>West Bank and Gaza</td>\n",
       "      <td>Asia</td>\n",
       "      <td>2002</td>\n",
       "      <td>72.370</td>\n",
       "      <td>3389578</td>\n",
       "      <td>4515.487575</td>\n",
       "    </tr>\n",
       "    <tr>\n",
       "      <th>1667</th>\n",
       "      <td>West Bank and Gaza</td>\n",
       "      <td>Asia</td>\n",
       "      <td>2007</td>\n",
       "      <td>73.422</td>\n",
       "      <td>4018332</td>\n",
       "      <td>3025.349798</td>\n",
       "    </tr>\n",
       "  </tbody>\n",
       "</table>\n",
       "<p>468 rows × 6 columns</p>\n",
       "</div>"
      ],
      "text/plain": [
       "                 country continent  year  lifeExp       pop    gdpPercap\n",
       "0            Afghanistan      Asia  1952   28.801   8425333   779.445314\n",
       "1            Afghanistan      Asia  1957   30.332   9240934   820.853030\n",
       "2            Afghanistan      Asia  1962   31.997  10267083   853.100710\n",
       "3            Afghanistan      Asia  1967   34.020  11537966   836.197138\n",
       "4            Afghanistan      Asia  1972   36.088  13079460   739.981106\n",
       "...                  ...       ...   ...      ...       ...          ...\n",
       "1663  West Bank and Gaza      Asia  1987   67.046   1691210  5107.197384\n",
       "1664  West Bank and Gaza      Asia  1992   69.718   2104779  6017.654756\n",
       "1665  West Bank and Gaza      Asia  1997   71.096   2826046  7110.667619\n",
       "1666  West Bank and Gaza      Asia  2002   72.370   3389578  4515.487575\n",
       "1667  West Bank and Gaza      Asia  2007   73.422   4018332  3025.349798\n",
       "\n",
       "[468 rows x 6 columns]"
      ]
     },
     "execution_count": 192,
     "metadata": {},
     "output_type": "execute_result"
    }
   ],
   "source": [
    "# land, an 글자가 들어간 데이타 목록 \n",
    "df_gap[df_gap['country'].str.contains('land|an')]"
   ]
  },
  {
   "cell_type": "code",
   "execution_count": 193,
   "id": "fdb52d95",
   "metadata": {
    "ExecuteTime": {
     "end_time": "2021-11-29T02:13:12.678215Z",
     "start_time": "2021-11-29T02:13:12.657223Z"
    }
   },
   "outputs": [
    {
     "data": {
      "text/plain": [
       "array(['Afghanistan', 'Albania', 'Bangladesh', 'Bosnia and Herzegovina',\n",
       "       'Botswana', 'Canada', 'Central African Republic',\n",
       "       'Dominican Republic', 'Finland', 'France', 'Germany', 'Ghana',\n",
       "       'Iceland', 'Iran', 'Ireland', 'Japan', 'Jordan', 'Lebanon',\n",
       "       'Mauritania', 'Myanmar', 'Netherlands', 'New Zealand', 'Oman',\n",
       "       'Pakistan', 'Panama', 'Poland', 'Romania', 'Rwanda',\n",
       "       'Sao Tome and Principe', 'Sri Lanka', 'Sudan', 'Swaziland',\n",
       "       'Switzerland', 'Taiwan', 'Tanzania', 'Thailand',\n",
       "       'Trinidad and Tobago', 'Uganda', 'West Bank and Gaza'],\n",
       "      dtype=object)"
      ]
     },
     "execution_count": 193,
     "metadata": {},
     "output_type": "execute_result"
    }
   ],
   "source": [
    "df_gap[df_gap['country'].str.contains('land|an')]['country'].unique()"
   ]
  },
  {
   "cell_type": "code",
   "execution_count": 194,
   "id": "287504c7",
   "metadata": {
    "ExecuteTime": {
     "end_time": "2021-11-29T02:18:03.543943Z",
     "start_time": "2021-11-29T02:18:03.537940Z"
    }
   },
   "outputs": [
    {
     "data": {
      "text/plain": [
       "39"
      ]
     },
     "execution_count": 194,
     "metadata": {},
     "output_type": "execute_result"
    }
   ],
   "source": [
    "len(df_gap[df_gap['country'].str.contains('land|an')]['country'].unique())"
   ]
  },
  {
   "cell_type": "code",
   "execution_count": 195,
   "id": "3656cc0f",
   "metadata": {
    "ExecuteTime": {
     "end_time": "2021-11-29T02:18:08.990424Z",
     "start_time": "2021-11-29T02:18:08.969417Z"
    }
   },
   "outputs": [
    {
     "data": {
      "text/plain": [
       "0       Afg*******\n",
       "1       Afg*******\n",
       "2       Afg*******\n",
       "3       Afg*******\n",
       "4       Afg*******\n",
       "           ...    \n",
       "1699    Zim*******\n",
       "1700    Zim*******\n",
       "1701    Zim*******\n",
       "1702    Zim*******\n",
       "1703    Zim*******\n",
       "Name: country, Length: 1704, dtype: object"
      ]
     },
     "execution_count": 195,
     "metadata": {},
     "output_type": "execute_result"
    }
   ],
   "source": [
    "df_gap['country'].str[:3] + '*******'"
   ]
  },
  {
   "cell_type": "code",
   "execution_count": 196,
   "id": "7c0121f9",
   "metadata": {
    "ExecuteTime": {
     "end_time": "2021-11-29T02:18:14.139567Z",
     "start_time": "2021-11-29T02:18:14.129566Z"
    }
   },
   "outputs": [],
   "source": [
    "df_gap['country2'] = df_gap['country'].str[:3] + '*******'"
   ]
  },
  {
   "cell_type": "markdown",
   "id": "90f41e35",
   "metadata": {},
   "source": [
    "## 데이타프레임 결과 csv 저장하기 \n",
    "\n",
    "데이타프레임.to_csv(fileURL, index=False, encoding='utf-8/cp949') <br>\n",
    "index=False 인덱스 없이 저장 "
   ]
  },
  {
   "cell_type": "code",
   "execution_count": 197,
   "id": "13a0cec6",
   "metadata": {
    "ExecuteTime": {
     "end_time": "2021-11-29T02:18:27.508354Z",
     "start_time": "2021-11-29T02:18:27.482364Z"
    }
   },
   "outputs": [],
   "source": [
    "df_gap[['country', 'year', 'pop']].to_csv('output/df_gap1.csv', index=False)"
   ]
  },
  {
   "cell_type": "markdown",
   "id": "353ca796",
   "metadata": {},
   "source": [
    "# 결측값 처리 \n",
    "\n",
    "```\n",
    "np.nan : 넘파이 결측값 \n",
    "\n",
    "NaN = Not A Number\n",
    "\n",
    "아무것도 없다. 누락값. 결측치 \n",
    "\n",
    "isnull() : 결측값이 있는 경우 True\n",
    "notnull() : 결측값이 없는 경우 True\n",
    "\n",
    "시리즈변수.isnull()\n",
    "데이타프레임[컬럼명].isnull()\n",
    "isnull().sum(), isnull().count() 결측값의 갯수\n",
    "\n",
    "결측값이 있는 데이타 조회\n",
    "데이타프레임.loc[데이타프레임.isnull()[NaN값이 있는 열], :]\n",
    "\n",
    "```"
   ]
  },
  {
   "cell_type": "code",
   "execution_count": 198,
   "id": "bfca3353",
   "metadata": {
    "ExecuteTime": {
     "end_time": "2021-11-29T02:19:42.503171Z",
     "start_time": "2021-11-29T02:19:42.489170Z"
    }
   },
   "outputs": [
    {
     "data": {
      "text/plain": [
       "0      NaN\n",
       "1     10.0\n",
       "2    200.0\n",
       "3      NaN\n",
       "4     -7.0\n",
       "5      NaN\n",
       "6      0.0\n",
       "dtype: float64"
      ]
     },
     "execution_count": 198,
     "metadata": {},
     "output_type": "execute_result"
    }
   ],
   "source": [
    "# 결측값이 있는 시리즈 생성 \n",
    "s1 = pd.Series([np.nan, 10, 200, np.nan,  -7, np.nan, 0])\n",
    "s1"
   ]
  },
  {
   "cell_type": "code",
   "execution_count": 199,
   "id": "b34bc8e9",
   "metadata": {
    "ExecuteTime": {
     "end_time": "2021-11-29T02:19:46.999664Z",
     "start_time": "2021-11-29T02:19:46.994681Z"
    }
   },
   "outputs": [
    {
     "data": {
      "text/plain": [
       "0     True\n",
       "1    False\n",
       "2    False\n",
       "3     True\n",
       "4    False\n",
       "5     True\n",
       "6    False\n",
       "dtype: bool"
      ]
     },
     "execution_count": 199,
     "metadata": {},
     "output_type": "execute_result"
    }
   ],
   "source": [
    "# NaN 은 True 반환 \n",
    "s1.isnull()"
   ]
  },
  {
   "cell_type": "code",
   "execution_count": 200,
   "id": "c012ebf3",
   "metadata": {
    "ExecuteTime": {
     "end_time": "2021-11-29T02:19:51.579443Z",
     "start_time": "2021-11-29T02:19:51.561432Z"
    }
   },
   "outputs": [
    {
     "data": {
      "text/plain": [
       "0    False\n",
       "1     True\n",
       "2     True\n",
       "3    False\n",
       "4     True\n",
       "5    False\n",
       "6     True\n",
       "dtype: bool"
      ]
     },
     "execution_count": 200,
     "metadata": {},
     "output_type": "execute_result"
    }
   ],
   "source": [
    "# NaN 은 False 반환 \n",
    "s1.notnull()"
   ]
  },
  {
   "cell_type": "code",
   "execution_count": 201,
   "id": "8dd8073f",
   "metadata": {
    "ExecuteTime": {
     "end_time": "2021-11-29T02:19:55.717243Z",
     "start_time": "2021-11-29T02:19:55.705241Z"
    }
   },
   "outputs": [
    {
     "data": {
      "text/plain": [
       "3"
      ]
     },
     "execution_count": 201,
     "metadata": {},
     "output_type": "execute_result"
    }
   ],
   "source": [
    "# 결측치의 갯수는?\n",
    "s1.isnull().sum()"
   ]
  },
  {
   "cell_type": "code",
   "execution_count": 202,
   "id": "d82721bc",
   "metadata": {
    "ExecuteTime": {
     "end_time": "2021-11-29T02:20:00.097258Z",
     "start_time": "2021-11-29T02:20:00.081254Z"
    }
   },
   "outputs": [
    {
     "data": {
      "text/plain": [
       "(4, 4)"
      ]
     },
     "execution_count": 202,
     "metadata": {},
     "output_type": "execute_result"
    }
   ],
   "source": [
    "# 결측치가 아니것의 갯수는?\n",
    "s1.notnull().sum(), s1.count()"
   ]
  },
  {
   "cell_type": "code",
   "execution_count": 203,
   "id": "8eaedee1",
   "metadata": {
    "ExecuteTime": {
     "end_time": "2021-11-29T02:20:11.483721Z",
     "start_time": "2021-11-29T02:20:11.466722Z"
    }
   },
   "outputs": [
    {
     "data": {
      "text/html": [
       "<div>\n",
       "<style scoped>\n",
       "    .dataframe tbody tr th:only-of-type {\n",
       "        vertical-align: middle;\n",
       "    }\n",
       "\n",
       "    .dataframe tbody tr th {\n",
       "        vertical-align: top;\n",
       "    }\n",
       "\n",
       "    .dataframe thead th {\n",
       "        text-align: right;\n",
       "    }\n",
       "</style>\n",
       "<table border=\"1\" class=\"dataframe\">\n",
       "  <thead>\n",
       "    <tr style=\"text-align: right;\">\n",
       "      <th></th>\n",
       "      <th>col1</th>\n",
       "      <th>col2</th>\n",
       "      <th>col3</th>\n",
       "      <th>col4</th>\n",
       "    </tr>\n",
       "  </thead>\n",
       "  <tbody>\n",
       "    <tr>\n",
       "      <th>row1</th>\n",
       "      <td>1.0</td>\n",
       "      <td>NaN</td>\n",
       "      <td>3.0</td>\n",
       "      <td>4.0</td>\n",
       "    </tr>\n",
       "    <tr>\n",
       "      <th>row2</th>\n",
       "      <td>5.0</td>\n",
       "      <td>6.0</td>\n",
       "      <td>NaN</td>\n",
       "      <td>8.0</td>\n",
       "    </tr>\n",
       "    <tr>\n",
       "      <th>row3</th>\n",
       "      <td>9.0</td>\n",
       "      <td>10.0</td>\n",
       "      <td>11.0</td>\n",
       "      <td>12.0</td>\n",
       "    </tr>\n",
       "    <tr>\n",
       "      <th>row4</th>\n",
       "      <td>NaN</td>\n",
       "      <td>14.0</td>\n",
       "      <td>15.0</td>\n",
       "      <td>16.0</td>\n",
       "    </tr>\n",
       "    <tr>\n",
       "      <th>row5</th>\n",
       "      <td>17.0</td>\n",
       "      <td>18.0</td>\n",
       "      <td>19.0</td>\n",
       "      <td>NaN</td>\n",
       "    </tr>\n",
       "  </tbody>\n",
       "</table>\n",
       "</div>"
      ],
      "text/plain": [
       "      col1  col2  col3  col4\n",
       "row1   1.0   NaN   3.0   4.0\n",
       "row2   5.0   6.0   NaN   8.0\n",
       "row3   9.0  10.0  11.0  12.0\n",
       "row4   NaN  14.0  15.0  16.0\n",
       "row5  17.0  18.0  19.0   NaN"
      ]
     },
     "execution_count": 203,
     "metadata": {},
     "output_type": "execute_result"
    }
   ],
   "source": [
    "# 결측값이 있는 데이타프레임 생성 \n",
    "df = pd.DataFrame(np.arange(1,21).reshape(5,4))\n",
    "df.index = ['row'+str(i) for i in range(1,6)]\n",
    "df.columns = ['col'+str(i) for i in range(1,5)]\n",
    "# 결측치 값 강제적으로 삽입 \n",
    "df.loc['row1','col2'] = np.nan\n",
    "df.loc['row4','col1'] = np.nan\n",
    "df.loc['row5','col4'] = np.nan\n",
    "df.iloc[1,2] = np.nan\n",
    "df"
   ]
  },
  {
   "cell_type": "code",
   "execution_count": 204,
   "id": "52b47c61",
   "metadata": {
    "ExecuteTime": {
     "end_time": "2021-11-29T02:24:40.286458Z",
     "start_time": "2021-11-29T02:24:40.265443Z"
    }
   },
   "outputs": [
    {
     "data": {
      "text/html": [
       "<div>\n",
       "<style scoped>\n",
       "    .dataframe tbody tr th:only-of-type {\n",
       "        vertical-align: middle;\n",
       "    }\n",
       "\n",
       "    .dataframe tbody tr th {\n",
       "        vertical-align: top;\n",
       "    }\n",
       "\n",
       "    .dataframe thead th {\n",
       "        text-align: right;\n",
       "    }\n",
       "</style>\n",
       "<table border=\"1\" class=\"dataframe\">\n",
       "  <thead>\n",
       "    <tr style=\"text-align: right;\">\n",
       "      <th></th>\n",
       "      <th>col1</th>\n",
       "      <th>col2</th>\n",
       "      <th>col3</th>\n",
       "      <th>col4</th>\n",
       "    </tr>\n",
       "  </thead>\n",
       "  <tbody>\n",
       "    <tr>\n",
       "      <th>row1</th>\n",
       "      <td>False</td>\n",
       "      <td>True</td>\n",
       "      <td>False</td>\n",
       "      <td>False</td>\n",
       "    </tr>\n",
       "    <tr>\n",
       "      <th>row2</th>\n",
       "      <td>False</td>\n",
       "      <td>False</td>\n",
       "      <td>True</td>\n",
       "      <td>False</td>\n",
       "    </tr>\n",
       "    <tr>\n",
       "      <th>row3</th>\n",
       "      <td>False</td>\n",
       "      <td>False</td>\n",
       "      <td>False</td>\n",
       "      <td>False</td>\n",
       "    </tr>\n",
       "    <tr>\n",
       "      <th>row4</th>\n",
       "      <td>True</td>\n",
       "      <td>False</td>\n",
       "      <td>False</td>\n",
       "      <td>False</td>\n",
       "    </tr>\n",
       "    <tr>\n",
       "      <th>row5</th>\n",
       "      <td>False</td>\n",
       "      <td>False</td>\n",
       "      <td>False</td>\n",
       "      <td>True</td>\n",
       "    </tr>\n",
       "  </tbody>\n",
       "</table>\n",
       "</div>"
      ],
      "text/plain": [
       "       col1   col2   col3   col4\n",
       "row1  False   True  False  False\n",
       "row2  False  False   True  False\n",
       "row3  False  False  False  False\n",
       "row4   True  False  False  False\n",
       "row5  False  False  False   True"
      ]
     },
     "execution_count": 204,
     "metadata": {},
     "output_type": "execute_result"
    }
   ],
   "source": [
    "# 결측치가 있는 데이타는 True \n",
    "df.isnull()"
   ]
  },
  {
   "cell_type": "code",
   "execution_count": 205,
   "id": "360b422f",
   "metadata": {
    "ExecuteTime": {
     "end_time": "2021-11-29T02:24:46.065186Z",
     "start_time": "2021-11-29T02:24:46.049182Z"
    }
   },
   "outputs": [
    {
     "data": {
      "text/plain": [
       "col1    1\n",
       "col2    1\n",
       "col3    1\n",
       "col4    1\n",
       "dtype: int64"
      ]
     },
     "execution_count": 205,
     "metadata": {},
     "output_type": "execute_result"
    }
   ],
   "source": [
    "# 각 컬럼의 결측치가 표시 \n",
    "df.isnull().sum()"
   ]
  },
  {
   "cell_type": "code",
   "execution_count": 206,
   "id": "e2537403",
   "metadata": {
    "ExecuteTime": {
     "end_time": "2021-11-29T02:24:50.308444Z",
     "start_time": "2021-11-29T02:24:50.297441Z"
    }
   },
   "outputs": [
    {
     "data": {
      "text/html": [
       "<div>\n",
       "<style scoped>\n",
       "    .dataframe tbody tr th:only-of-type {\n",
       "        vertical-align: middle;\n",
       "    }\n",
       "\n",
       "    .dataframe tbody tr th {\n",
       "        vertical-align: top;\n",
       "    }\n",
       "\n",
       "    .dataframe thead th {\n",
       "        text-align: right;\n",
       "    }\n",
       "</style>\n",
       "<table border=\"1\" class=\"dataframe\">\n",
       "  <thead>\n",
       "    <tr style=\"text-align: right;\">\n",
       "      <th></th>\n",
       "      <th>col1</th>\n",
       "      <th>col2</th>\n",
       "      <th>col3</th>\n",
       "      <th>col4</th>\n",
       "    </tr>\n",
       "  </thead>\n",
       "  <tbody>\n",
       "    <tr>\n",
       "      <th>row4</th>\n",
       "      <td>NaN</td>\n",
       "      <td>14.0</td>\n",
       "      <td>15.0</td>\n",
       "      <td>16.0</td>\n",
       "    </tr>\n",
       "  </tbody>\n",
       "</table>\n",
       "</div>"
      ],
      "text/plain": [
       "      col1  col2  col3  col4\n",
       "row4   NaN  14.0  15.0  16.0"
      ]
     },
     "execution_count": 206,
     "metadata": {},
     "output_type": "execute_result"
    }
   ],
   "source": [
    "# 결측치가 있는 데이타 조회 \n",
    "df.loc[df.isnull()['col1'], :]"
   ]
  },
  {
   "cell_type": "code",
   "execution_count": 207,
   "id": "d91a2b05",
   "metadata": {
    "ExecuteTime": {
     "end_time": "2021-11-29T02:24:54.495025Z",
     "start_time": "2021-11-29T02:24:54.482011Z"
    }
   },
   "outputs": [
    {
     "data": {
      "text/html": [
       "<div>\n",
       "<style scoped>\n",
       "    .dataframe tbody tr th:only-of-type {\n",
       "        vertical-align: middle;\n",
       "    }\n",
       "\n",
       "    .dataframe tbody tr th {\n",
       "        vertical-align: top;\n",
       "    }\n",
       "\n",
       "    .dataframe thead th {\n",
       "        text-align: right;\n",
       "    }\n",
       "</style>\n",
       "<table border=\"1\" class=\"dataframe\">\n",
       "  <thead>\n",
       "    <tr style=\"text-align: right;\">\n",
       "      <th></th>\n",
       "      <th>col1</th>\n",
       "      <th>col2</th>\n",
       "      <th>col3</th>\n",
       "      <th>col4</th>\n",
       "    </tr>\n",
       "  </thead>\n",
       "  <tbody>\n",
       "    <tr>\n",
       "      <th>row4</th>\n",
       "      <td>NaN</td>\n",
       "      <td>14.0</td>\n",
       "      <td>15.0</td>\n",
       "      <td>16.0</td>\n",
       "    </tr>\n",
       "  </tbody>\n",
       "</table>\n",
       "</div>"
      ],
      "text/plain": [
       "      col1  col2  col3  col4\n",
       "row4   NaN  14.0  15.0  16.0"
      ]
     },
     "execution_count": 207,
     "metadata": {},
     "output_type": "execute_result"
    }
   ],
   "source": [
    "df[df.isnull()['col1']]"
   ]
  },
  {
   "cell_type": "markdown",
   "id": "f977f33d",
   "metadata": {},
   "source": [
    "## NaN 값이 들어있는 행 삭제하기\n",
    "- 데이타프레임이름.dropna(how=\"any\",  inplace=False/True) : 결측값이 하나라도 있다면 삭제 \n",
    "- 데이타프레임이름.dropna(how=\"all\",  inplace=False/True) : 결측값이 모두 있다면 삭제 "
   ]
  },
  {
   "cell_type": "code",
   "execution_count": 208,
   "id": "f8181495",
   "metadata": {
    "ExecuteTime": {
     "end_time": "2021-11-29T02:25:18.467858Z",
     "start_time": "2021-11-29T02:25:18.441857Z"
    }
   },
   "outputs": [
    {
     "data": {
      "text/html": [
       "<div>\n",
       "<style scoped>\n",
       "    .dataframe tbody tr th:only-of-type {\n",
       "        vertical-align: middle;\n",
       "    }\n",
       "\n",
       "    .dataframe tbody tr th {\n",
       "        vertical-align: top;\n",
       "    }\n",
       "\n",
       "    .dataframe thead th {\n",
       "        text-align: right;\n",
       "    }\n",
       "</style>\n",
       "<table border=\"1\" class=\"dataframe\">\n",
       "  <thead>\n",
       "    <tr style=\"text-align: right;\">\n",
       "      <th></th>\n",
       "      <th>col1</th>\n",
       "      <th>col2</th>\n",
       "      <th>col3</th>\n",
       "      <th>col4</th>\n",
       "    </tr>\n",
       "  </thead>\n",
       "  <tbody>\n",
       "    <tr>\n",
       "      <th>row1</th>\n",
       "      <td>1.0</td>\n",
       "      <td>NaN</td>\n",
       "      <td>3.0</td>\n",
       "      <td>4.0</td>\n",
       "    </tr>\n",
       "    <tr>\n",
       "      <th>row2</th>\n",
       "      <td>5.0</td>\n",
       "      <td>6.0</td>\n",
       "      <td>7.0</td>\n",
       "      <td>8.0</td>\n",
       "    </tr>\n",
       "    <tr>\n",
       "      <th>row3</th>\n",
       "      <td>9.0</td>\n",
       "      <td>10.0</td>\n",
       "      <td>11.0</td>\n",
       "      <td>12.0</td>\n",
       "    </tr>\n",
       "    <tr>\n",
       "      <th>row4</th>\n",
       "      <td>NaN</td>\n",
       "      <td>14.0</td>\n",
       "      <td>15.0</td>\n",
       "      <td>16.0</td>\n",
       "    </tr>\n",
       "    <tr>\n",
       "      <th>row5</th>\n",
       "      <td>NaN</td>\n",
       "      <td>NaN</td>\n",
       "      <td>NaN</td>\n",
       "      <td>NaN</td>\n",
       "    </tr>\n",
       "  </tbody>\n",
       "</table>\n",
       "</div>"
      ],
      "text/plain": [
       "      col1  col2  col3  col4\n",
       "row1   1.0   NaN   3.0   4.0\n",
       "row2   5.0   6.0   7.0   8.0\n",
       "row3   9.0  10.0  11.0  12.0\n",
       "row4   NaN  14.0  15.0  16.0\n",
       "row5   NaN   NaN   NaN   NaN"
      ]
     },
     "execution_count": 208,
     "metadata": {},
     "output_type": "execute_result"
    }
   ],
   "source": [
    "# 결측값이 있는 데이타프레임 생성 \n",
    "df = pd.DataFrame(np.arange(1,21).reshape(5,4))\n",
    "df.index = ['row'+str(i) for i in range(1,6)]\n",
    "df.columns = ['col'+str(i) for i in range(1,5)]\n",
    "df.loc['row1','col2'] = np.nan\n",
    "df.loc['row4','col1'] = np.nan\n",
    "df.loc['row5','col1'] = np.nan\n",
    "df.loc['row5','col2'] = np.nan\n",
    "df.loc['row5','col3'] = np.nan\n",
    "df.loc['row5','col4'] = np.nan\n",
    "df"
   ]
  },
  {
   "cell_type": "code",
   "execution_count": 209,
   "id": "de40da74",
   "metadata": {
    "ExecuteTime": {
     "end_time": "2021-11-29T02:26:59.145856Z",
     "start_time": "2021-11-29T02:26:59.128853Z"
    }
   },
   "outputs": [
    {
     "data": {
      "text/html": [
       "<div>\n",
       "<style scoped>\n",
       "    .dataframe tbody tr th:only-of-type {\n",
       "        vertical-align: middle;\n",
       "    }\n",
       "\n",
       "    .dataframe tbody tr th {\n",
       "        vertical-align: top;\n",
       "    }\n",
       "\n",
       "    .dataframe thead th {\n",
       "        text-align: right;\n",
       "    }\n",
       "</style>\n",
       "<table border=\"1\" class=\"dataframe\">\n",
       "  <thead>\n",
       "    <tr style=\"text-align: right;\">\n",
       "      <th></th>\n",
       "      <th>col1</th>\n",
       "      <th>col2</th>\n",
       "      <th>col3</th>\n",
       "      <th>col4</th>\n",
       "    </tr>\n",
       "  </thead>\n",
       "  <tbody>\n",
       "    <tr>\n",
       "      <th>row2</th>\n",
       "      <td>5.0</td>\n",
       "      <td>6.0</td>\n",
       "      <td>7.0</td>\n",
       "      <td>8.0</td>\n",
       "    </tr>\n",
       "    <tr>\n",
       "      <th>row3</th>\n",
       "      <td>9.0</td>\n",
       "      <td>10.0</td>\n",
       "      <td>11.0</td>\n",
       "      <td>12.0</td>\n",
       "    </tr>\n",
       "  </tbody>\n",
       "</table>\n",
       "</div>"
      ],
      "text/plain": [
       "      col1  col2  col3  col4\n",
       "row2   5.0   6.0   7.0   8.0\n",
       "row3   9.0  10.0  11.0  12.0"
      ]
     },
     "execution_count": 209,
     "metadata": {},
     "output_type": "execute_result"
    }
   ],
   "source": [
    "# 하나라도 결측치가 있다면 삭제 \n",
    "df.dropna(how=\"any\")"
   ]
  },
  {
   "cell_type": "code",
   "execution_count": 210,
   "id": "c0565eca",
   "metadata": {
    "ExecuteTime": {
     "end_time": "2021-11-29T02:27:05.739737Z",
     "start_time": "2021-11-29T02:27:05.730735Z"
    }
   },
   "outputs": [
    {
     "data": {
      "text/html": [
       "<div>\n",
       "<style scoped>\n",
       "    .dataframe tbody tr th:only-of-type {\n",
       "        vertical-align: middle;\n",
       "    }\n",
       "\n",
       "    .dataframe tbody tr th {\n",
       "        vertical-align: top;\n",
       "    }\n",
       "\n",
       "    .dataframe thead th {\n",
       "        text-align: right;\n",
       "    }\n",
       "</style>\n",
       "<table border=\"1\" class=\"dataframe\">\n",
       "  <thead>\n",
       "    <tr style=\"text-align: right;\">\n",
       "      <th></th>\n",
       "      <th>col1</th>\n",
       "      <th>col2</th>\n",
       "      <th>col3</th>\n",
       "      <th>col4</th>\n",
       "    </tr>\n",
       "  </thead>\n",
       "  <tbody>\n",
       "    <tr>\n",
       "      <th>row1</th>\n",
       "      <td>1.0</td>\n",
       "      <td>NaN</td>\n",
       "      <td>3.0</td>\n",
       "      <td>4.0</td>\n",
       "    </tr>\n",
       "    <tr>\n",
       "      <th>row2</th>\n",
       "      <td>5.0</td>\n",
       "      <td>6.0</td>\n",
       "      <td>7.0</td>\n",
       "      <td>8.0</td>\n",
       "    </tr>\n",
       "    <tr>\n",
       "      <th>row3</th>\n",
       "      <td>9.0</td>\n",
       "      <td>10.0</td>\n",
       "      <td>11.0</td>\n",
       "      <td>12.0</td>\n",
       "    </tr>\n",
       "    <tr>\n",
       "      <th>row4</th>\n",
       "      <td>NaN</td>\n",
       "      <td>14.0</td>\n",
       "      <td>15.0</td>\n",
       "      <td>16.0</td>\n",
       "    </tr>\n",
       "    <tr>\n",
       "      <th>row5</th>\n",
       "      <td>NaN</td>\n",
       "      <td>NaN</td>\n",
       "      <td>NaN</td>\n",
       "      <td>NaN</td>\n",
       "    </tr>\n",
       "  </tbody>\n",
       "</table>\n",
       "</div>"
      ],
      "text/plain": [
       "      col1  col2  col3  col4\n",
       "row1   1.0   NaN   3.0   4.0\n",
       "row2   5.0   6.0   7.0   8.0\n",
       "row3   9.0  10.0  11.0  12.0\n",
       "row4   NaN  14.0  15.0  16.0\n",
       "row5   NaN   NaN   NaN   NaN"
      ]
     },
     "execution_count": 210,
     "metadata": {},
     "output_type": "execute_result"
    }
   ],
   "source": [
    "df"
   ]
  },
  {
   "cell_type": "code",
   "execution_count": 211,
   "id": "300c9d56",
   "metadata": {
    "ExecuteTime": {
     "end_time": "2021-11-29T02:27:10.871355Z",
     "start_time": "2021-11-29T02:27:10.859341Z"
    }
   },
   "outputs": [],
   "source": [
    "# 모든 행의 값이 결측치\n",
    "df.dropna(how=\"all\", inplace=True)"
   ]
  },
  {
   "cell_type": "markdown",
   "id": "0be58fe5",
   "metadata": {},
   "source": [
    "## NaN값에 특정 값 입력하기\n",
    "\n",
    "데이타프레임이름.fillna(value=값)"
   ]
  },
  {
   "cell_type": "code",
   "execution_count": 212,
   "id": "a8444d54",
   "metadata": {
    "ExecuteTime": {
     "end_time": "2021-11-29T02:27:28.278010Z",
     "start_time": "2021-11-29T02:27:28.258009Z"
    }
   },
   "outputs": [
    {
     "data": {
      "text/html": [
       "<div>\n",
       "<style scoped>\n",
       "    .dataframe tbody tr th:only-of-type {\n",
       "        vertical-align: middle;\n",
       "    }\n",
       "\n",
       "    .dataframe tbody tr th {\n",
       "        vertical-align: top;\n",
       "    }\n",
       "\n",
       "    .dataframe thead th {\n",
       "        text-align: right;\n",
       "    }\n",
       "</style>\n",
       "<table border=\"1\" class=\"dataframe\">\n",
       "  <thead>\n",
       "    <tr style=\"text-align: right;\">\n",
       "      <th></th>\n",
       "      <th>col1</th>\n",
       "      <th>col2</th>\n",
       "      <th>col3</th>\n",
       "      <th>col4</th>\n",
       "    </tr>\n",
       "  </thead>\n",
       "  <tbody>\n",
       "    <tr>\n",
       "      <th>row1</th>\n",
       "      <td>1.0</td>\n",
       "      <td>NaN</td>\n",
       "      <td>3.0</td>\n",
       "      <td>4.0</td>\n",
       "    </tr>\n",
       "    <tr>\n",
       "      <th>row2</th>\n",
       "      <td>5.0</td>\n",
       "      <td>6.0</td>\n",
       "      <td>7.0</td>\n",
       "      <td>8.0</td>\n",
       "    </tr>\n",
       "    <tr>\n",
       "      <th>row3</th>\n",
       "      <td>9.0</td>\n",
       "      <td>10.0</td>\n",
       "      <td>11.0</td>\n",
       "      <td>12.0</td>\n",
       "    </tr>\n",
       "    <tr>\n",
       "      <th>row4</th>\n",
       "      <td>NaN</td>\n",
       "      <td>14.0</td>\n",
       "      <td>15.0</td>\n",
       "      <td>16.0</td>\n",
       "    </tr>\n",
       "    <tr>\n",
       "      <th>row5</th>\n",
       "      <td>NaN</td>\n",
       "      <td>NaN</td>\n",
       "      <td>NaN</td>\n",
       "      <td>NaN</td>\n",
       "    </tr>\n",
       "  </tbody>\n",
       "</table>\n",
       "</div>"
      ],
      "text/plain": [
       "      col1  col2  col3  col4\n",
       "row1   1.0   NaN   3.0   4.0\n",
       "row2   5.0   6.0   7.0   8.0\n",
       "row3   9.0  10.0  11.0  12.0\n",
       "row4   NaN  14.0  15.0  16.0\n",
       "row5   NaN   NaN   NaN   NaN"
      ]
     },
     "execution_count": 212,
     "metadata": {},
     "output_type": "execute_result"
    }
   ],
   "source": [
    "# 결측값이 있는 데이타프레임 생성 \n",
    "df = pd.DataFrame(np.arange(1,21).reshape(5,4))\n",
    "df.index = ['row'+str(i) for i in range(1,6)]\n",
    "df.columns = ['col'+str(i) for i in range(1,5)]\n",
    "df.loc['row1','col2'] = np.nan\n",
    "df.loc['row4','col1'] = np.nan\n",
    "df.loc['row5','col1'] = np.nan\n",
    "df.loc['row5','col2'] = np.nan\n",
    "df.loc['row5','col3'] = np.nan\n",
    "df.loc['row5','col4'] = np.nan\n",
    "df"
   ]
  },
  {
   "cell_type": "code",
   "execution_count": 213,
   "id": "a578b8f7",
   "metadata": {
    "ExecuteTime": {
     "end_time": "2021-11-29T02:27:33.771735Z",
     "start_time": "2021-11-29T02:27:33.761727Z"
    }
   },
   "outputs": [
    {
     "data": {
      "text/html": [
       "<div>\n",
       "<style scoped>\n",
       "    .dataframe tbody tr th:only-of-type {\n",
       "        vertical-align: middle;\n",
       "    }\n",
       "\n",
       "    .dataframe tbody tr th {\n",
       "        vertical-align: top;\n",
       "    }\n",
       "\n",
       "    .dataframe thead th {\n",
       "        text-align: right;\n",
       "    }\n",
       "</style>\n",
       "<table border=\"1\" class=\"dataframe\">\n",
       "  <thead>\n",
       "    <tr style=\"text-align: right;\">\n",
       "      <th></th>\n",
       "      <th>col1</th>\n",
       "      <th>col2</th>\n",
       "      <th>col3</th>\n",
       "      <th>col4</th>\n",
       "    </tr>\n",
       "  </thead>\n",
       "  <tbody>\n",
       "    <tr>\n",
       "      <th>row1</th>\n",
       "      <td>1.0</td>\n",
       "      <td>0.0</td>\n",
       "      <td>3.0</td>\n",
       "      <td>4.0</td>\n",
       "    </tr>\n",
       "    <tr>\n",
       "      <th>row2</th>\n",
       "      <td>5.0</td>\n",
       "      <td>6.0</td>\n",
       "      <td>7.0</td>\n",
       "      <td>8.0</td>\n",
       "    </tr>\n",
       "    <tr>\n",
       "      <th>row3</th>\n",
       "      <td>9.0</td>\n",
       "      <td>10.0</td>\n",
       "      <td>11.0</td>\n",
       "      <td>12.0</td>\n",
       "    </tr>\n",
       "    <tr>\n",
       "      <th>row4</th>\n",
       "      <td>0.0</td>\n",
       "      <td>14.0</td>\n",
       "      <td>15.0</td>\n",
       "      <td>16.0</td>\n",
       "    </tr>\n",
       "    <tr>\n",
       "      <th>row5</th>\n",
       "      <td>0.0</td>\n",
       "      <td>0.0</td>\n",
       "      <td>0.0</td>\n",
       "      <td>0.0</td>\n",
       "    </tr>\n",
       "  </tbody>\n",
       "</table>\n",
       "</div>"
      ],
      "text/plain": [
       "      col1  col2  col3  col4\n",
       "row1   1.0   0.0   3.0   4.0\n",
       "row2   5.0   6.0   7.0   8.0\n",
       "row3   9.0  10.0  11.0  12.0\n",
       "row4   0.0  14.0  15.0  16.0\n",
       "row5   0.0   0.0   0.0   0.0"
      ]
     },
     "execution_count": 213,
     "metadata": {},
     "output_type": "execute_result"
    }
   ],
   "source": [
    "df.fillna(0)"
   ]
  },
  {
   "cell_type": "code",
   "execution_count": 214,
   "id": "1cfb8e78",
   "metadata": {
    "ExecuteTime": {
     "end_time": "2021-11-29T02:27:42.666252Z",
     "start_time": "2021-11-29T02:27:42.650236Z"
    }
   },
   "outputs": [
    {
     "data": {
      "text/html": [
       "<div>\n",
       "<style scoped>\n",
       "    .dataframe tbody tr th:only-of-type {\n",
       "        vertical-align: middle;\n",
       "    }\n",
       "\n",
       "    .dataframe tbody tr th {\n",
       "        vertical-align: top;\n",
       "    }\n",
       "\n",
       "    .dataframe thead th {\n",
       "        text-align: right;\n",
       "    }\n",
       "</style>\n",
       "<table border=\"1\" class=\"dataframe\">\n",
       "  <thead>\n",
       "    <tr style=\"text-align: right;\">\n",
       "      <th></th>\n",
       "      <th>col1</th>\n",
       "      <th>col2</th>\n",
       "      <th>col3</th>\n",
       "      <th>col4</th>\n",
       "    </tr>\n",
       "  </thead>\n",
       "  <tbody>\n",
       "    <tr>\n",
       "      <th>row1</th>\n",
       "      <td>1.0</td>\n",
       "      <td>NaN</td>\n",
       "      <td>3.0</td>\n",
       "      <td>4.0</td>\n",
       "    </tr>\n",
       "    <tr>\n",
       "      <th>row2</th>\n",
       "      <td>5.0</td>\n",
       "      <td>6.0</td>\n",
       "      <td>7.0</td>\n",
       "      <td>8.0</td>\n",
       "    </tr>\n",
       "    <tr>\n",
       "      <th>row3</th>\n",
       "      <td>9.0</td>\n",
       "      <td>10.0</td>\n",
       "      <td>11.0</td>\n",
       "      <td>12.0</td>\n",
       "    </tr>\n",
       "    <tr>\n",
       "      <th>row4</th>\n",
       "      <td>NaN</td>\n",
       "      <td>14.0</td>\n",
       "      <td>15.0</td>\n",
       "      <td>16.0</td>\n",
       "    </tr>\n",
       "    <tr>\n",
       "      <th>row5</th>\n",
       "      <td>NaN</td>\n",
       "      <td>NaN</td>\n",
       "      <td>NaN</td>\n",
       "      <td>NaN</td>\n",
       "    </tr>\n",
       "  </tbody>\n",
       "</table>\n",
       "</div>"
      ],
      "text/plain": [
       "      col1  col2  col3  col4\n",
       "row1   1.0   NaN   3.0   4.0\n",
       "row2   5.0   6.0   7.0   8.0\n",
       "row3   9.0  10.0  11.0  12.0\n",
       "row4   NaN  14.0  15.0  16.0\n",
       "row5   NaN   NaN   NaN   NaN"
      ]
     },
     "execution_count": 214,
     "metadata": {},
     "output_type": "execute_result"
    }
   ],
   "source": [
    "df"
   ]
  },
  {
   "cell_type": "code",
   "execution_count": 215,
   "id": "783cd487",
   "metadata": {
    "ExecuteTime": {
     "end_time": "2021-11-29T02:27:49.403874Z",
     "start_time": "2021-11-29T02:27:49.394880Z"
    }
   },
   "outputs": [],
   "source": [
    "# 평균값으로 결측치 채우기 \n",
    "df.fillna(df.mean(), inplace=True)"
   ]
  },
  {
   "cell_type": "code",
   "execution_count": 216,
   "id": "bc397e46",
   "metadata": {
    "ExecuteTime": {
     "end_time": "2021-11-29T02:27:54.233718Z",
     "start_time": "2021-11-29T02:27:54.226723Z"
    }
   },
   "outputs": [
    {
     "data": {
      "text/html": [
       "<div>\n",
       "<style scoped>\n",
       "    .dataframe tbody tr th:only-of-type {\n",
       "        vertical-align: middle;\n",
       "    }\n",
       "\n",
       "    .dataframe tbody tr th {\n",
       "        vertical-align: top;\n",
       "    }\n",
       "\n",
       "    .dataframe thead th {\n",
       "        text-align: right;\n",
       "    }\n",
       "</style>\n",
       "<table border=\"1\" class=\"dataframe\">\n",
       "  <thead>\n",
       "    <tr style=\"text-align: right;\">\n",
       "      <th></th>\n",
       "      <th>col1</th>\n",
       "      <th>col2</th>\n",
       "      <th>col3</th>\n",
       "      <th>col4</th>\n",
       "    </tr>\n",
       "  </thead>\n",
       "  <tbody>\n",
       "    <tr>\n",
       "      <th>row1</th>\n",
       "      <td>1.0</td>\n",
       "      <td>10.0</td>\n",
       "      <td>3.0</td>\n",
       "      <td>4.0</td>\n",
       "    </tr>\n",
       "    <tr>\n",
       "      <th>row2</th>\n",
       "      <td>5.0</td>\n",
       "      <td>6.0</td>\n",
       "      <td>7.0</td>\n",
       "      <td>8.0</td>\n",
       "    </tr>\n",
       "    <tr>\n",
       "      <th>row3</th>\n",
       "      <td>9.0</td>\n",
       "      <td>10.0</td>\n",
       "      <td>11.0</td>\n",
       "      <td>12.0</td>\n",
       "    </tr>\n",
       "    <tr>\n",
       "      <th>row4</th>\n",
       "      <td>5.0</td>\n",
       "      <td>14.0</td>\n",
       "      <td>15.0</td>\n",
       "      <td>16.0</td>\n",
       "    </tr>\n",
       "    <tr>\n",
       "      <th>row5</th>\n",
       "      <td>5.0</td>\n",
       "      <td>10.0</td>\n",
       "      <td>9.0</td>\n",
       "      <td>10.0</td>\n",
       "    </tr>\n",
       "  </tbody>\n",
       "</table>\n",
       "</div>"
      ],
      "text/plain": [
       "      col1  col2  col3  col4\n",
       "row1   1.0  10.0   3.0   4.0\n",
       "row2   5.0   6.0   7.0   8.0\n",
       "row3   9.0  10.0  11.0  12.0\n",
       "row4   5.0  14.0  15.0  16.0\n",
       "row5   5.0  10.0   9.0  10.0"
      ]
     },
     "execution_count": 216,
     "metadata": {},
     "output_type": "execute_result"
    }
   ],
   "source": [
    "df"
   ]
  },
  {
   "cell_type": "markdown",
   "id": "4eadde03",
   "metadata": {},
   "source": [
    "# quiz 2\n",
    "\n",
    "## quiz 1-1\n",
    "```\n",
    "아래의 데이타를 이용하여 데이타프레임을 생성하여라.\n",
    "name_list는 인덱스로 이용한다. \n",
    "\n",
    "data = {'kor':[40, 55, 66, 77, 34],\n",
    "        'math':[70, 55, 66, 20, 40],\n",
    "        'eng':[80, 95, 100, 77, 90]}\n",
    "        \n",
    "name_list = ['고길동','김희동','신윤지','이민호','박준희']        \n",
    "```\n"
   ]
  },
  {
   "cell_type": "code",
   "execution_count": 3,
   "id": "7431b86e",
   "metadata": {
    "ExecuteTime": {
     "end_time": "2021-12-22T01:29:21.099750Z",
     "start_time": "2021-12-22T01:29:21.095750Z"
    }
   },
   "outputs": [],
   "source": [
    "data = {'kor':[40, 55, 66, 77, 34],\n",
    "        'math':[70, 55, 66, 20, 40],\n",
    "        'eng':[80, 95, 100, 77, 90]}\n",
    "\n",
    "name_list = ['고길동','김희동','신윤지','이민호','박준희']   \n",
    "df = pd.DataFrame(data, index= name_list)"
   ]
  },
  {
   "cell_type": "code",
   "execution_count": 7,
   "id": "735fa261",
   "metadata": {
    "ExecuteTime": {
     "end_time": "2021-12-22T01:30:53.155526Z",
     "start_time": "2021-12-22T01:30:53.133520Z"
    }
   },
   "outputs": [
    {
     "data": {
      "text/html": [
       "<div>\n",
       "<style scoped>\n",
       "    .dataframe tbody tr th:only-of-type {\n",
       "        vertical-align: middle;\n",
       "    }\n",
       "\n",
       "    .dataframe tbody tr th {\n",
       "        vertical-align: top;\n",
       "    }\n",
       "\n",
       "    .dataframe thead th {\n",
       "        text-align: right;\n",
       "    }\n",
       "</style>\n",
       "<table border=\"1\" class=\"dataframe\">\n",
       "  <thead>\n",
       "    <tr style=\"text-align: right;\">\n",
       "      <th></th>\n",
       "      <th>kor</th>\n",
       "      <th>math</th>\n",
       "      <th>eng</th>\n",
       "    </tr>\n",
       "  </thead>\n",
       "  <tbody>\n",
       "    <tr>\n",
       "      <th>고길동</th>\n",
       "      <td>40</td>\n",
       "      <td>70</td>\n",
       "      <td>80</td>\n",
       "    </tr>\n",
       "    <tr>\n",
       "      <th>신윤지</th>\n",
       "      <td>66</td>\n",
       "      <td>66</td>\n",
       "      <td>100</td>\n",
       "    </tr>\n",
       "    <tr>\n",
       "      <th>김희동</th>\n",
       "      <td>55</td>\n",
       "      <td>55</td>\n",
       "      <td>95</td>\n",
       "    </tr>\n",
       "  </tbody>\n",
       "</table>\n",
       "</div>"
      ],
      "text/plain": [
       "     kor  math  eng\n",
       "고길동   40    70   80\n",
       "신윤지   66    66  100\n",
       "김희동   55    55   95"
      ]
     },
     "execution_count": 7,
     "metadata": {},
     "output_type": "execute_result"
    }
   ],
   "source": [
    "## Nlargest : 특정 column을 기준으로 가장 큰 결과를 배출한다.\n",
    "\n",
    "df.nlargest(3, 'math', keep = \"last\")"
   ]
  },
  {
   "cell_type": "code",
   "execution_count": 8,
   "id": "e647799d",
   "metadata": {
    "ExecuteTime": {
     "end_time": "2021-12-22T01:31:08.418199Z",
     "start_time": "2021-12-22T01:31:08.408188Z"
    }
   },
   "outputs": [
    {
     "data": {
      "text/html": [
       "<div>\n",
       "<style scoped>\n",
       "    .dataframe tbody tr th:only-of-type {\n",
       "        vertical-align: middle;\n",
       "    }\n",
       "\n",
       "    .dataframe tbody tr th {\n",
       "        vertical-align: top;\n",
       "    }\n",
       "\n",
       "    .dataframe thead th {\n",
       "        text-align: right;\n",
       "    }\n",
       "</style>\n",
       "<table border=\"1\" class=\"dataframe\">\n",
       "  <thead>\n",
       "    <tr style=\"text-align: right;\">\n",
       "      <th></th>\n",
       "      <th>kor</th>\n",
       "      <th>math</th>\n",
       "      <th>eng</th>\n",
       "    </tr>\n",
       "  </thead>\n",
       "  <tbody>\n",
       "    <tr>\n",
       "      <th>고길동</th>\n",
       "      <td>40</td>\n",
       "      <td>70</td>\n",
       "      <td>80</td>\n",
       "    </tr>\n",
       "    <tr>\n",
       "      <th>신윤지</th>\n",
       "      <td>66</td>\n",
       "      <td>66</td>\n",
       "      <td>100</td>\n",
       "    </tr>\n",
       "    <tr>\n",
       "      <th>김희동</th>\n",
       "      <td>55</td>\n",
       "      <td>55</td>\n",
       "      <td>95</td>\n",
       "    </tr>\n",
       "  </tbody>\n",
       "</table>\n",
       "</div>"
      ],
      "text/plain": [
       "     kor  math  eng\n",
       "고길동   40    70   80\n",
       "신윤지   66    66  100\n",
       "김희동   55    55   95"
      ]
     },
     "execution_count": 8,
     "metadata": {},
     "output_type": "execute_result"
    }
   ],
   "source": [
    "df.nlargest(3, 'math', keep = \"all\")"
   ]
  },
  {
   "cell_type": "code",
   "execution_count": 9,
   "id": "73f1c1fe",
   "metadata": {
    "ExecuteTime": {
     "end_time": "2021-12-22T01:31:32.508490Z",
     "start_time": "2021-12-22T01:31:32.494476Z"
    }
   },
   "outputs": [
    {
     "data": {
      "text/html": [
       "<div>\n",
       "<style scoped>\n",
       "    .dataframe tbody tr th:only-of-type {\n",
       "        vertical-align: middle;\n",
       "    }\n",
       "\n",
       "    .dataframe tbody tr th {\n",
       "        vertical-align: top;\n",
       "    }\n",
       "\n",
       "    .dataframe thead th {\n",
       "        text-align: right;\n",
       "    }\n",
       "</style>\n",
       "<table border=\"1\" class=\"dataframe\">\n",
       "  <thead>\n",
       "    <tr style=\"text-align: right;\">\n",
       "      <th></th>\n",
       "      <th>kor</th>\n",
       "      <th>math</th>\n",
       "      <th>eng</th>\n",
       "    </tr>\n",
       "  </thead>\n",
       "  <tbody>\n",
       "    <tr>\n",
       "      <th>이민호</th>\n",
       "      <td>77</td>\n",
       "      <td>20</td>\n",
       "      <td>77</td>\n",
       "    </tr>\n",
       "    <tr>\n",
       "      <th>박준희</th>\n",
       "      <td>34</td>\n",
       "      <td>40</td>\n",
       "      <td>90</td>\n",
       "    </tr>\n",
       "    <tr>\n",
       "      <th>김희동</th>\n",
       "      <td>55</td>\n",
       "      <td>55</td>\n",
       "      <td>95</td>\n",
       "    </tr>\n",
       "  </tbody>\n",
       "</table>\n",
       "</div>"
      ],
      "text/plain": [
       "     kor  math  eng\n",
       "이민호   77    20   77\n",
       "박준희   34    40   90\n",
       "김희동   55    55   95"
      ]
     },
     "execution_count": 9,
     "metadata": {},
     "output_type": "execute_result"
    }
   ],
   "source": [
    "df.nsmallest(3, 'math', keep = 'all')"
   ]
  },
  {
   "cell_type": "markdown",
   "id": "d5a336e0",
   "metadata": {},
   "source": [
    "## Q1-2\n",
    "```\n",
    "2명의 데이타를 추가하여라. \n",
    "\n",
    "신머신\t55\t67\t88\n",
    "윤파이\t90\t100\t90\n",
    "```"
   ]
  },
  {
   "cell_type": "code",
   "execution_count": 219,
   "id": "32842f24",
   "metadata": {
    "ExecuteTime": {
     "end_time": "2021-11-29T02:33:24.583490Z",
     "start_time": "2021-11-29T02:33:24.569480Z"
    }
   },
   "outputs": [],
   "source": [
    "df.loc['신머신']= [55, 67,88]\n",
    "df.loc['윤파이']= [90,100,90]"
   ]
  },
  {
   "cell_type": "markdown",
   "id": "fe8446db",
   "metadata": {},
   "source": [
    "## Q1-3\n",
    "sci 과목의 데이타를 추가하여라 \n",
    "\n",
    "90, 45, 77, 90, 67, 90, 80"
   ]
  },
  {
   "cell_type": "code",
   "execution_count": 220,
   "id": "917ae38a",
   "metadata": {
    "ExecuteTime": {
     "end_time": "2021-11-29T02:33:28.417660Z",
     "start_time": "2021-11-29T02:33:28.401658Z"
    }
   },
   "outputs": [],
   "source": [
    "df.insert(3, \"sci\", [90, 45, 77, 90, 67, 90, 80])"
   ]
  },
  {
   "cell_type": "markdown",
   "id": "c87730b8",
   "metadata": {},
   "source": [
    "## Q1-4\n",
    "eng 과목에서 eng 평균점수보다 높은 학생은?"
   ]
  },
  {
   "cell_type": "code",
   "execution_count": 221,
   "id": "ec06b140",
   "metadata": {
    "ExecuteTime": {
     "end_time": "2021-11-29T02:33:54.849021Z",
     "start_time": "2021-11-29T02:33:54.841019Z"
    }
   },
   "outputs": [
    {
     "data": {
      "text/html": [
       "<div>\n",
       "<style scoped>\n",
       "    .dataframe tbody tr th:only-of-type {\n",
       "        vertical-align: middle;\n",
       "    }\n",
       "\n",
       "    .dataframe tbody tr th {\n",
       "        vertical-align: top;\n",
       "    }\n",
       "\n",
       "    .dataframe thead th {\n",
       "        text-align: right;\n",
       "    }\n",
       "</style>\n",
       "<table border=\"1\" class=\"dataframe\">\n",
       "  <thead>\n",
       "    <tr style=\"text-align: right;\">\n",
       "      <th></th>\n",
       "      <th>kor</th>\n",
       "      <th>math</th>\n",
       "      <th>eng</th>\n",
       "      <th>sci</th>\n",
       "    </tr>\n",
       "  </thead>\n",
       "  <tbody>\n",
       "    <tr>\n",
       "      <th>김희동</th>\n",
       "      <td>55</td>\n",
       "      <td>55</td>\n",
       "      <td>95</td>\n",
       "      <td>45</td>\n",
       "    </tr>\n",
       "    <tr>\n",
       "      <th>신윤지</th>\n",
       "      <td>66</td>\n",
       "      <td>66</td>\n",
       "      <td>100</td>\n",
       "      <td>77</td>\n",
       "    </tr>\n",
       "    <tr>\n",
       "      <th>박준희</th>\n",
       "      <td>34</td>\n",
       "      <td>40</td>\n",
       "      <td>90</td>\n",
       "      <td>67</td>\n",
       "    </tr>\n",
       "    <tr>\n",
       "      <th>윤파이</th>\n",
       "      <td>90</td>\n",
       "      <td>100</td>\n",
       "      <td>90</td>\n",
       "      <td>80</td>\n",
       "    </tr>\n",
       "  </tbody>\n",
       "</table>\n",
       "</div>"
      ],
      "text/plain": [
       "     kor  math  eng  sci\n",
       "김희동   55    55   95   45\n",
       "신윤지   66    66  100   77\n",
       "박준희   34    40   90   67\n",
       "윤파이   90   100   90   80"
      ]
     },
     "execution_count": 221,
     "metadata": {},
     "output_type": "execute_result"
    }
   ],
   "source": [
    "df[df.eng > df.eng.mean()]"
   ]
  },
  {
   "cell_type": "markdown",
   "id": "2113afd1",
   "metadata": {},
   "source": [
    "## Q1-5\n",
    "```\n",
    "전체 과목의 평균을 구한 후 평균이상이면 O, 평균미만이면 X를 pass 컬럼에 출력하여라.\n",
    "```"
   ]
  },
  {
   "cell_type": "code",
   "execution_count": 223,
   "id": "7e75fcff",
   "metadata": {
    "ExecuteTime": {
     "end_time": "2021-11-29T02:34:17.234192Z",
     "start_time": "2021-11-29T02:34:17.225184Z"
    }
   },
   "outputs": [],
   "source": [
    "df['avg'] = df.mean(axis=1)"
   ]
  },
  {
   "cell_type": "code",
   "execution_count": 225,
   "id": "0bad5f98",
   "metadata": {
    "ExecuteTime": {
     "end_time": "2021-11-29T02:34:26.044863Z",
     "start_time": "2021-11-29T02:34:26.033850Z"
    }
   },
   "outputs": [],
   "source": [
    "df['pass'] = ''\n",
    "for a in range(len(df)):\n",
    "    if df.avg[a] > df.avg.mean():\n",
    "        df['pass'][a] = \"o\"\n",
    "    else:\n",
    "        df['pass'][a] = \"X\""
   ]
  },
  {
   "cell_type": "markdown",
   "id": "2d55577d",
   "metadata": {},
   "source": [
    "## Q 2-1\n",
    "아래의 리스트를 이용하여 df_student 데이타프레임을 생성하여라 \n",
    "\n",
    "```\n",
    "student_list = [ { 'name' : 'John', 'major' : 'Computer Science', 'gender' : 'male'},\n",
    "                 { 'name' : 'Nate', 'major' : 'Computer Science', 'gender' : 'male'},\n",
    "                 { 'name' : 'Abrabam', 'major' : 'Physics', 'gender' : 'male'},\n",
    "                 { 'name' : 'Brian', 'major' : 'Psychology', 'gender' : 'male'},\n",
    "                 { 'name' : 'Jenny', 'major' : 'Economics', 'gender' : 'female'},\n",
    "                 { 'name' : 'Yuba', 'major' : 'Economics', 'gender' : 'female'},\n",
    "                 { 'name' : 'Jennifer', 'major' : 'Computer Science', 'gender' : 'female'},\n",
    "                 { 'name' : 'Edward', 'major' : 'Computer Science', 'gender' : 'male'},\n",
    "                 { 'name' : 'Sara', 'major' : 'Psychology', 'gender' : 'female'},\n",
    "                 { 'name' : 'Wendy', 'major' : 'Economics', 'gender' : 'female'},\n",
    "                 { 'name' : 'Sera', 'major' : 'Psychology', 'gender' : 'female'}\n",
    "               ]\n",
    "```"
   ]
  },
  {
   "cell_type": "code",
   "execution_count": 226,
   "id": "8b15bfbb",
   "metadata": {
    "ExecuteTime": {
     "end_time": "2021-11-29T02:35:01.107961Z",
     "start_time": "2021-11-29T02:35:01.097961Z"
    }
   },
   "outputs": [],
   "source": [
    "student_list = [ { 'name' : 'John', 'major' : 'Computer Science', 'gender' : 'male'},\n",
    "                 { 'name' : 'Nate', 'major' : 'Computer Science', 'gender' : 'male'},\n",
    "                 { 'name' : 'Abrabam', 'major' : 'Physics', 'gender' : 'male'},\n",
    "                 { 'name' : 'Brian', 'major' : 'Psychology', 'gender' : 'male'},\n",
    "                 { 'name' : 'Jenny', 'major' : 'Economics', 'gender' : 'female'},\n",
    "                 { 'name' : 'Yuba', 'major' : 'Economics', 'gender' : 'female'},\n",
    "                 { 'name' : 'Jennifer', 'major' : 'Computer Science', 'gender' : 'female'},\n",
    "                 { 'name' : 'Edward', 'major' : 'Computer Science', 'gender' : 'male'},\n",
    "                 { 'name' : 'Sara', 'major' : 'Psychology', 'gender' : 'female'},\n",
    "                 { 'name' : 'Wendy', 'major' : 'Economics', 'gender' : 'female'},\n",
    "                 { 'name' : 'Sera', 'major' : 'Psychology', 'gender' : 'female'}\n",
    "               ]\n",
    "df_st = pd.DataFrame(student_list)"
   ]
  },
  {
   "cell_type": "markdown",
   "id": "759100bb",
   "metadata": {
    "ExecuteTime": {
     "end_time": "2021-11-29T02:35:06.380843Z",
     "start_time": "2021-11-29T02:35:06.369841Z"
    }
   },
   "source": [
    "## Q 2-2\n",
    "df_student 데이타프레임의 인덱스를 std1 ~ std11 형태로 변경하여라 "
   ]
  },
  {
   "cell_type": "code",
   "execution_count": 228,
   "id": "aed820d3",
   "metadata": {
    "ExecuteTime": {
     "end_time": "2021-11-29T02:35:14.126324Z",
     "start_time": "2021-11-29T02:35:14.109317Z"
    }
   },
   "outputs": [],
   "source": [
    "df_st.index = [\"std\"+ str(a+1) for a in df_st.index]"
   ]
  },
  {
   "cell_type": "code",
   "execution_count": 229,
   "id": "55de3a7f",
   "metadata": {
    "ExecuteTime": {
     "end_time": "2021-11-29T02:35:18.793527Z",
     "start_time": "2021-11-29T02:35:18.785526Z"
    }
   },
   "outputs": [
    {
     "data": {
      "text/html": [
       "<div>\n",
       "<style scoped>\n",
       "    .dataframe tbody tr th:only-of-type {\n",
       "        vertical-align: middle;\n",
       "    }\n",
       "\n",
       "    .dataframe tbody tr th {\n",
       "        vertical-align: top;\n",
       "    }\n",
       "\n",
       "    .dataframe thead th {\n",
       "        text-align: right;\n",
       "    }\n",
       "</style>\n",
       "<table border=\"1\" class=\"dataframe\">\n",
       "  <thead>\n",
       "    <tr style=\"text-align: right;\">\n",
       "      <th></th>\n",
       "      <th>name</th>\n",
       "      <th>major</th>\n",
       "      <th>gender</th>\n",
       "    </tr>\n",
       "  </thead>\n",
       "  <tbody>\n",
       "    <tr>\n",
       "      <th>std1</th>\n",
       "      <td>John</td>\n",
       "      <td>Computer Science</td>\n",
       "      <td>male</td>\n",
       "    </tr>\n",
       "    <tr>\n",
       "      <th>std2</th>\n",
       "      <td>Nate</td>\n",
       "      <td>Computer Science</td>\n",
       "      <td>male</td>\n",
       "    </tr>\n",
       "    <tr>\n",
       "      <th>std3</th>\n",
       "      <td>Abrabam</td>\n",
       "      <td>Physics</td>\n",
       "      <td>male</td>\n",
       "    </tr>\n",
       "    <tr>\n",
       "      <th>std4</th>\n",
       "      <td>Brian</td>\n",
       "      <td>Psychology</td>\n",
       "      <td>male</td>\n",
       "    </tr>\n",
       "    <tr>\n",
       "      <th>std5</th>\n",
       "      <td>Jenny</td>\n",
       "      <td>Economics</td>\n",
       "      <td>female</td>\n",
       "    </tr>\n",
       "    <tr>\n",
       "      <th>std6</th>\n",
       "      <td>Yuba</td>\n",
       "      <td>Economics</td>\n",
       "      <td>female</td>\n",
       "    </tr>\n",
       "    <tr>\n",
       "      <th>std7</th>\n",
       "      <td>Jennifer</td>\n",
       "      <td>Computer Science</td>\n",
       "      <td>female</td>\n",
       "    </tr>\n",
       "    <tr>\n",
       "      <th>std8</th>\n",
       "      <td>Edward</td>\n",
       "      <td>Computer Science</td>\n",
       "      <td>male</td>\n",
       "    </tr>\n",
       "    <tr>\n",
       "      <th>std9</th>\n",
       "      <td>Sara</td>\n",
       "      <td>Psychology</td>\n",
       "      <td>female</td>\n",
       "    </tr>\n",
       "    <tr>\n",
       "      <th>std10</th>\n",
       "      <td>Wendy</td>\n",
       "      <td>Economics</td>\n",
       "      <td>female</td>\n",
       "    </tr>\n",
       "    <tr>\n",
       "      <th>std11</th>\n",
       "      <td>Sera</td>\n",
       "      <td>Psychology</td>\n",
       "      <td>female</td>\n",
       "    </tr>\n",
       "  </tbody>\n",
       "</table>\n",
       "</div>"
      ],
      "text/plain": [
       "           name             major  gender\n",
       "std1       John  Computer Science    male\n",
       "std2       Nate  Computer Science    male\n",
       "std3    Abrabam           Physics    male\n",
       "std4      Brian        Psychology    male\n",
       "std5      Jenny         Economics  female\n",
       "std6       Yuba         Economics  female\n",
       "std7   Jennifer  Computer Science  female\n",
       "std8     Edward  Computer Science    male\n",
       "std9       Sara        Psychology  female\n",
       "std10     Wendy         Economics  female\n",
       "std11      Sera        Psychology  female"
      ]
     },
     "execution_count": 229,
     "metadata": {},
     "output_type": "execute_result"
    }
   ],
   "source": [
    "df_st"
   ]
  },
  {
   "cell_type": "markdown",
   "id": "6d248c4a",
   "metadata": {},
   "source": [
    "## Q 2-3\n",
    "df_student 데이타프레임에서 gender 컬럼이 female 값을 가진 데이타만 별도로 데이타프레임 df_student_female 로 생성하여라. "
   ]
  },
  {
   "cell_type": "code",
   "execution_count": 231,
   "id": "b2f2e794",
   "metadata": {
    "ExecuteTime": {
     "end_time": "2021-11-29T02:35:36.842326Z",
     "start_time": "2021-11-29T02:35:36.833329Z"
    }
   },
   "outputs": [
    {
     "data": {
      "text/html": [
       "<div>\n",
       "<style scoped>\n",
       "    .dataframe tbody tr th:only-of-type {\n",
       "        vertical-align: middle;\n",
       "    }\n",
       "\n",
       "    .dataframe tbody tr th {\n",
       "        vertical-align: top;\n",
       "    }\n",
       "\n",
       "    .dataframe thead th {\n",
       "        text-align: right;\n",
       "    }\n",
       "</style>\n",
       "<table border=\"1\" class=\"dataframe\">\n",
       "  <thead>\n",
       "    <tr style=\"text-align: right;\">\n",
       "      <th></th>\n",
       "      <th>name</th>\n",
       "      <th>major</th>\n",
       "      <th>gender</th>\n",
       "    </tr>\n",
       "  </thead>\n",
       "  <tbody>\n",
       "    <tr>\n",
       "      <th>std5</th>\n",
       "      <td>Jenny</td>\n",
       "      <td>Economics</td>\n",
       "      <td>female</td>\n",
       "    </tr>\n",
       "    <tr>\n",
       "      <th>std6</th>\n",
       "      <td>Yuba</td>\n",
       "      <td>Economics</td>\n",
       "      <td>female</td>\n",
       "    </tr>\n",
       "    <tr>\n",
       "      <th>std7</th>\n",
       "      <td>Jennifer</td>\n",
       "      <td>Computer Science</td>\n",
       "      <td>female</td>\n",
       "    </tr>\n",
       "    <tr>\n",
       "      <th>std9</th>\n",
       "      <td>Sara</td>\n",
       "      <td>Psychology</td>\n",
       "      <td>female</td>\n",
       "    </tr>\n",
       "    <tr>\n",
       "      <th>std10</th>\n",
       "      <td>Wendy</td>\n",
       "      <td>Economics</td>\n",
       "      <td>female</td>\n",
       "    </tr>\n",
       "    <tr>\n",
       "      <th>std11</th>\n",
       "      <td>Sera</td>\n",
       "      <td>Psychology</td>\n",
       "      <td>female</td>\n",
       "    </tr>\n",
       "  </tbody>\n",
       "</table>\n",
       "</div>"
      ],
      "text/plain": [
       "           name             major  gender\n",
       "std5      Jenny         Economics  female\n",
       "std6       Yuba         Economics  female\n",
       "std7   Jennifer  Computer Science  female\n",
       "std9       Sara        Psychology  female\n",
       "std10     Wendy         Economics  female\n",
       "std11      Sera        Psychology  female"
      ]
     },
     "execution_count": 231,
     "metadata": {},
     "output_type": "execute_result"
    }
   ],
   "source": [
    "df_st_fe = df_st[df_st.gender==\"female\"]\n",
    "df_st_fe "
   ]
  },
  {
   "cell_type": "markdown",
   "id": "b1afbea4",
   "metadata": {},
   "source": [
    "## Q 2-4\n",
    "df_student_female 데이타프레임에서 name 컬럼을 인덱스로 설정하고 gender 컬럼을 삭제하여라"
   ]
  },
  {
   "cell_type": "code",
   "execution_count": 232,
   "id": "a28b25ea",
   "metadata": {
    "ExecuteTime": {
     "end_time": "2021-11-29T02:35:48.957718Z",
     "start_time": "2021-11-29T02:35:48.945696Z"
    }
   },
   "outputs": [
    {
     "data": {
      "text/html": [
       "<div>\n",
       "<style scoped>\n",
       "    .dataframe tbody tr th:only-of-type {\n",
       "        vertical-align: middle;\n",
       "    }\n",
       "\n",
       "    .dataframe tbody tr th {\n",
       "        vertical-align: top;\n",
       "    }\n",
       "\n",
       "    .dataframe thead th {\n",
       "        text-align: right;\n",
       "    }\n",
       "</style>\n",
       "<table border=\"1\" class=\"dataframe\">\n",
       "  <thead>\n",
       "    <tr style=\"text-align: right;\">\n",
       "      <th></th>\n",
       "      <th>major</th>\n",
       "    </tr>\n",
       "    <tr>\n",
       "      <th>name</th>\n",
       "      <th></th>\n",
       "    </tr>\n",
       "  </thead>\n",
       "  <tbody>\n",
       "    <tr>\n",
       "      <th>Jenny</th>\n",
       "      <td>Economics</td>\n",
       "    </tr>\n",
       "    <tr>\n",
       "      <th>Yuba</th>\n",
       "      <td>Economics</td>\n",
       "    </tr>\n",
       "    <tr>\n",
       "      <th>Jennifer</th>\n",
       "      <td>Computer Science</td>\n",
       "    </tr>\n",
       "    <tr>\n",
       "      <th>Sara</th>\n",
       "      <td>Psychology</td>\n",
       "    </tr>\n",
       "    <tr>\n",
       "      <th>Wendy</th>\n",
       "      <td>Economics</td>\n",
       "    </tr>\n",
       "    <tr>\n",
       "      <th>Sera</th>\n",
       "      <td>Psychology</td>\n",
       "    </tr>\n",
       "  </tbody>\n",
       "</table>\n",
       "</div>"
      ],
      "text/plain": [
       "                     major\n",
       "name                      \n",
       "Jenny            Economics\n",
       "Yuba             Economics\n",
       "Jennifer  Computer Science\n",
       "Sara            Psychology\n",
       "Wendy            Economics\n",
       "Sera            Psychology"
      ]
     },
     "execution_count": 232,
     "metadata": {},
     "output_type": "execute_result"
    }
   ],
   "source": [
    "df_st_fe.set_index('name')[['major']]"
   ]
  },
  {
   "cell_type": "markdown",
   "id": "85674549",
   "metadata": {},
   "source": [
    "## Q 2-5\n",
    "df_student 데이타프레임에서 'Computer Science' 과를 제외한 나머지 데이타로 데이타프레임 df_student2를 생성하여라. 이때 인덱스는 name 컬럼으로 변경한다"
   ]
  },
  {
   "cell_type": "code",
   "execution_count": 233,
   "id": "e61d144b",
   "metadata": {
    "ExecuteTime": {
     "end_time": "2021-11-29T02:36:01.141635Z",
     "start_time": "2021-11-29T02:36:01.134631Z"
    }
   },
   "outputs": [],
   "source": [
    "df_st2 = df_st[df_st.major != \"Computer Science\"].set_index(\"name\")"
   ]
  },
  {
   "cell_type": "code",
   "execution_count": 234,
   "id": "9cbe2372",
   "metadata": {
    "ExecuteTime": {
     "end_time": "2021-11-29T02:36:05.503053Z",
     "start_time": "2021-11-29T02:36:05.491061Z"
    }
   },
   "outputs": [
    {
     "data": {
      "text/html": [
       "<div>\n",
       "<style scoped>\n",
       "    .dataframe tbody tr th:only-of-type {\n",
       "        vertical-align: middle;\n",
       "    }\n",
       "\n",
       "    .dataframe tbody tr th {\n",
       "        vertical-align: top;\n",
       "    }\n",
       "\n",
       "    .dataframe thead th {\n",
       "        text-align: right;\n",
       "    }\n",
       "</style>\n",
       "<table border=\"1\" class=\"dataframe\">\n",
       "  <thead>\n",
       "    <tr style=\"text-align: right;\">\n",
       "      <th></th>\n",
       "      <th>major</th>\n",
       "      <th>gender</th>\n",
       "    </tr>\n",
       "    <tr>\n",
       "      <th>name</th>\n",
       "      <th></th>\n",
       "      <th></th>\n",
       "    </tr>\n",
       "  </thead>\n",
       "  <tbody>\n",
       "    <tr>\n",
       "      <th>Abrabam</th>\n",
       "      <td>Physics</td>\n",
       "      <td>male</td>\n",
       "    </tr>\n",
       "    <tr>\n",
       "      <th>Brian</th>\n",
       "      <td>Psychology</td>\n",
       "      <td>male</td>\n",
       "    </tr>\n",
       "    <tr>\n",
       "      <th>Jenny</th>\n",
       "      <td>Economics</td>\n",
       "      <td>female</td>\n",
       "    </tr>\n",
       "    <tr>\n",
       "      <th>Yuba</th>\n",
       "      <td>Economics</td>\n",
       "      <td>female</td>\n",
       "    </tr>\n",
       "    <tr>\n",
       "      <th>Sara</th>\n",
       "      <td>Psychology</td>\n",
       "      <td>female</td>\n",
       "    </tr>\n",
       "    <tr>\n",
       "      <th>Wendy</th>\n",
       "      <td>Economics</td>\n",
       "      <td>female</td>\n",
       "    </tr>\n",
       "    <tr>\n",
       "      <th>Sera</th>\n",
       "      <td>Psychology</td>\n",
       "      <td>female</td>\n",
       "    </tr>\n",
       "  </tbody>\n",
       "</table>\n",
       "</div>"
      ],
      "text/plain": [
       "              major  gender\n",
       "name                       \n",
       "Abrabam     Physics    male\n",
       "Brian    Psychology    male\n",
       "Jenny     Economics  female\n",
       "Yuba      Economics  female\n",
       "Sara     Psychology  female\n",
       "Wendy     Economics  female\n",
       "Sera     Psychology  female"
      ]
     },
     "execution_count": 234,
     "metadata": {},
     "output_type": "execute_result"
    }
   ],
   "source": [
    "df_st2"
   ]
  },
  {
   "cell_type": "markdown",
   "id": "114becdf",
   "metadata": {},
   "source": [
    "## Q 2-6\n",
    "df_student2 에서 Brian, Sara의 데이타를 삭제하고 grade 컬럼을 추가하여라 \n",
    "\n",
    "4.5, 4.0, 3.5, 4.0, 3.0"
   ]
  },
  {
   "cell_type": "code",
   "execution_count": 235,
   "id": "62ecab1e",
   "metadata": {
    "ExecuteTime": {
     "end_time": "2021-11-29T02:36:18.283651Z",
     "start_time": "2021-11-29T02:36:18.275634Z"
    }
   },
   "outputs": [],
   "source": [
    "df_student2 = df_st2.drop(['Brian', 'Sara'])"
   ]
  },
  {
   "cell_type": "code",
   "execution_count": 236,
   "id": "5800c316",
   "metadata": {
    "ExecuteTime": {
     "end_time": "2021-11-29T02:39:05.543310Z",
     "start_time": "2021-11-29T02:39:05.538303Z"
    }
   },
   "outputs": [],
   "source": [
    "df_student2.insert(2, \"grade\", [4.5, 4.0, 3.5, 4.0, 3.0])"
   ]
  },
  {
   "cell_type": "code",
   "execution_count": 237,
   "id": "a3242d56",
   "metadata": {
    "ExecuteTime": {
     "end_time": "2021-11-29T02:39:09.873694Z",
     "start_time": "2021-11-29T02:39:09.866690Z"
    }
   },
   "outputs": [
    {
     "data": {
      "text/html": [
       "<div>\n",
       "<style scoped>\n",
       "    .dataframe tbody tr th:only-of-type {\n",
       "        vertical-align: middle;\n",
       "    }\n",
       "\n",
       "    .dataframe tbody tr th {\n",
       "        vertical-align: top;\n",
       "    }\n",
       "\n",
       "    .dataframe thead th {\n",
       "        text-align: right;\n",
       "    }\n",
       "</style>\n",
       "<table border=\"1\" class=\"dataframe\">\n",
       "  <thead>\n",
       "    <tr style=\"text-align: right;\">\n",
       "      <th></th>\n",
       "      <th>major</th>\n",
       "      <th>gender</th>\n",
       "      <th>grade</th>\n",
       "    </tr>\n",
       "    <tr>\n",
       "      <th>name</th>\n",
       "      <th></th>\n",
       "      <th></th>\n",
       "      <th></th>\n",
       "    </tr>\n",
       "  </thead>\n",
       "  <tbody>\n",
       "    <tr>\n",
       "      <th>Abrabam</th>\n",
       "      <td>Physics</td>\n",
       "      <td>male</td>\n",
       "      <td>4.5</td>\n",
       "    </tr>\n",
       "    <tr>\n",
       "      <th>Jenny</th>\n",
       "      <td>Economics</td>\n",
       "      <td>female</td>\n",
       "      <td>4.0</td>\n",
       "    </tr>\n",
       "    <tr>\n",
       "      <th>Yuba</th>\n",
       "      <td>Economics</td>\n",
       "      <td>female</td>\n",
       "      <td>3.5</td>\n",
       "    </tr>\n",
       "    <tr>\n",
       "      <th>Wendy</th>\n",
       "      <td>Economics</td>\n",
       "      <td>female</td>\n",
       "      <td>4.0</td>\n",
       "    </tr>\n",
       "    <tr>\n",
       "      <th>Sera</th>\n",
       "      <td>Psychology</td>\n",
       "      <td>female</td>\n",
       "      <td>3.0</td>\n",
       "    </tr>\n",
       "  </tbody>\n",
       "</table>\n",
       "</div>"
      ],
      "text/plain": [
       "              major  gender  grade\n",
       "name                              \n",
       "Abrabam     Physics    male    4.5\n",
       "Jenny     Economics  female    4.0\n",
       "Yuba      Economics  female    3.5\n",
       "Wendy     Economics  female    4.0\n",
       "Sera     Psychology  female    3.0"
      ]
     },
     "execution_count": 237,
     "metadata": {},
     "output_type": "execute_result"
    }
   ],
   "source": [
    "df_student2"
   ]
  },
  {
   "cell_type": "markdown",
   "id": "05080bcd",
   "metadata": {},
   "source": [
    "## Q 2-7\n",
    "df_student2 데이타프레임에서 grade 컬럼명을 score로 변경하고 <br>\n",
    "전체 컬럼 순서를 gender, score, major 순서로 변경하여라 "
   ]
  },
  {
   "cell_type": "code",
   "execution_count": 238,
   "id": "7dac6d06",
   "metadata": {
    "ExecuteTime": {
     "end_time": "2021-11-29T02:39:21.854928Z",
     "start_time": "2021-11-29T02:39:21.849928Z"
    }
   },
   "outputs": [
    {
     "data": {
      "text/plain": [
       "Index(['major', 'gender', 'grade'], dtype='object')"
      ]
     },
     "execution_count": 238,
     "metadata": {},
     "output_type": "execute_result"
    }
   ],
   "source": [
    "df_student2.columns"
   ]
  },
  {
   "cell_type": "code",
   "execution_count": 239,
   "id": "e5a5469d",
   "metadata": {
    "ExecuteTime": {
     "end_time": "2021-11-29T02:39:26.162289Z",
     "start_time": "2021-11-29T02:39:26.145277Z"
    }
   },
   "outputs": [],
   "source": [
    "df_student2.columns= ['major', 'gender', \"score\"] \n",
    "\n",
    "## rename으로도 해결가능"
   ]
  },
  {
   "cell_type": "code",
   "execution_count": 240,
   "id": "48f92b99",
   "metadata": {
    "ExecuteTime": {
     "end_time": "2021-11-29T02:39:39.328148Z",
     "start_time": "2021-11-29T02:39:39.306131Z"
    }
   },
   "outputs": [
    {
     "data": {
      "text/html": [
       "<div>\n",
       "<style scoped>\n",
       "    .dataframe tbody tr th:only-of-type {\n",
       "        vertical-align: middle;\n",
       "    }\n",
       "\n",
       "    .dataframe tbody tr th {\n",
       "        vertical-align: top;\n",
       "    }\n",
       "\n",
       "    .dataframe thead th {\n",
       "        text-align: right;\n",
       "    }\n",
       "</style>\n",
       "<table border=\"1\" class=\"dataframe\">\n",
       "  <thead>\n",
       "    <tr style=\"text-align: right;\">\n",
       "      <th></th>\n",
       "      <th>gender</th>\n",
       "      <th>score</th>\n",
       "      <th>major</th>\n",
       "    </tr>\n",
       "    <tr>\n",
       "      <th>name</th>\n",
       "      <th></th>\n",
       "      <th></th>\n",
       "      <th></th>\n",
       "    </tr>\n",
       "  </thead>\n",
       "  <tbody>\n",
       "    <tr>\n",
       "      <th>Abrabam</th>\n",
       "      <td>male</td>\n",
       "      <td>4.5</td>\n",
       "      <td>Physics</td>\n",
       "    </tr>\n",
       "    <tr>\n",
       "      <th>Jenny</th>\n",
       "      <td>female</td>\n",
       "      <td>4.0</td>\n",
       "      <td>Economics</td>\n",
       "    </tr>\n",
       "    <tr>\n",
       "      <th>Yuba</th>\n",
       "      <td>female</td>\n",
       "      <td>3.5</td>\n",
       "      <td>Economics</td>\n",
       "    </tr>\n",
       "    <tr>\n",
       "      <th>Wendy</th>\n",
       "      <td>female</td>\n",
       "      <td>4.0</td>\n",
       "      <td>Economics</td>\n",
       "    </tr>\n",
       "    <tr>\n",
       "      <th>Sera</th>\n",
       "      <td>female</td>\n",
       "      <td>3.0</td>\n",
       "      <td>Psychology</td>\n",
       "    </tr>\n",
       "  </tbody>\n",
       "</table>\n",
       "</div>"
      ],
      "text/plain": [
       "         gender  score       major\n",
       "name                              \n",
       "Abrabam    male    4.5     Physics\n",
       "Jenny    female    4.0   Economics\n",
       "Yuba     female    3.5   Economics\n",
       "Wendy    female    4.0   Economics\n",
       "Sera     female    3.0  Psychology"
      ]
     },
     "execution_count": 240,
     "metadata": {},
     "output_type": "execute_result"
    }
   ],
   "source": [
    "df_student2[[\"gender\", \"score\", \"major\"]]"
   ]
  },
  {
   "cell_type": "markdown",
   "id": "b7762805",
   "metadata": {},
   "source": [
    "## Q 2-8\n",
    "df_student2.describe() 명령을 이용하여 아래와 같이 출력하여라 "
   ]
  },
  {
   "cell_type": "code",
   "execution_count": 241,
   "id": "055ed8ea",
   "metadata": {
    "ExecuteTime": {
     "end_time": "2021-11-29T02:39:57.312344Z",
     "start_time": "2021-11-29T02:39:57.291341Z"
    }
   },
   "outputs": [
    {
     "data": {
      "text/html": [
       "<div>\n",
       "<style scoped>\n",
       "    .dataframe tbody tr th:only-of-type {\n",
       "        vertical-align: middle;\n",
       "    }\n",
       "\n",
       "    .dataframe tbody tr th {\n",
       "        vertical-align: top;\n",
       "    }\n",
       "\n",
       "    .dataframe thead th {\n",
       "        text-align: right;\n",
       "    }\n",
       "</style>\n",
       "<table border=\"1\" class=\"dataframe\">\n",
       "  <thead>\n",
       "    <tr style=\"text-align: right;\">\n",
       "      <th></th>\n",
       "      <th>score</th>\n",
       "    </tr>\n",
       "  </thead>\n",
       "  <tbody>\n",
       "    <tr>\n",
       "      <th>mean</th>\n",
       "      <td>3.8</td>\n",
       "    </tr>\n",
       "    <tr>\n",
       "      <th>25%</th>\n",
       "      <td>3.5</td>\n",
       "    </tr>\n",
       "    <tr>\n",
       "      <th>50%</th>\n",
       "      <td>4.0</td>\n",
       "    </tr>\n",
       "    <tr>\n",
       "      <th>75%</th>\n",
       "      <td>4.0</td>\n",
       "    </tr>\n",
       "  </tbody>\n",
       "</table>\n",
       "</div>"
      ],
      "text/plain": [
       "      score\n",
       "mean    3.8\n",
       "25%     3.5\n",
       "50%     4.0\n",
       "75%     4.0"
      ]
     },
     "execution_count": 241,
     "metadata": {},
     "output_type": "execute_result"
    }
   ],
   "source": [
    "df_student2.describe().loc[[\"mean\", \"25%\", \"50%\", \"75%\"]]"
   ]
  },
  {
   "cell_type": "markdown",
   "id": "fcba6d96",
   "metadata": {},
   "source": [
    "## Q3-1\n",
    "```\n",
    "아래의 CSV 파일을 df_weather 데이타프레임으로 생성하여라. \n",
    "이때 컬럼은 일시, 평균기온, 최고기온, 최저기온 으로만 한다 \n",
    "\n",
    "기상온도_서울202012.csv\n",
    "\n",
    "```"
   ]
  },
  {
   "cell_type": "code",
   "execution_count": 243,
   "id": "6a07b13d",
   "metadata": {
    "ExecuteTime": {
     "end_time": "2021-11-29T02:40:15.518274Z",
     "start_time": "2021-11-29T02:40:15.497257Z"
    }
   },
   "outputs": [],
   "source": [
    "df_weather = pd.read_csv('data/기상온도_서울202012.csv', encoding='cp949', usecols = [2, 3, 5, 8])"
   ]
  },
  {
   "cell_type": "markdown",
   "id": "8ca46531",
   "metadata": {},
   "source": [
    "## Q3-2\n",
    "```\n",
    "df_weather 데이타프레임에서 결측값이 각 컬럼별로 몇개가 있는지 출력하여라 \n",
    "```"
   ]
  },
  {
   "cell_type": "code",
   "execution_count": 244,
   "id": "c17fd11e",
   "metadata": {
    "ExecuteTime": {
     "end_time": "2021-11-29T02:40:34.957685Z",
     "start_time": "2021-11-29T02:40:34.946683Z"
    }
   },
   "outputs": [
    {
     "name": "stdout",
     "output_type": "stream",
     "text": [
      "일시행의 결측치는 8개\n",
      "평균기온(℃)행의 결측치는 33개\n",
      "최고기온(℃)행의 결측치는 33개\n",
      "최저기온(℃)행의 결측치는 33개\n"
     ]
    }
   ],
   "source": [
    "for a in df_weather. columns:\n",
    "    n = sum(pd.isna(df_weather[a]))\n",
    "    print(\"{}행의 결측치는 {}개\".format(a, n))"
   ]
  },
  {
   "cell_type": "markdown",
   "id": "088f1ecf",
   "metadata": {},
   "source": [
    "## Q3-3\n",
    "```\n",
    "df_weather 데이타프레임에서 '일시' 컬럼값이 결측값 NaN으로 지정된 데이타를 출력하여라 \n",
    "```"
   ]
  },
  {
   "cell_type": "code",
   "execution_count": 245,
   "id": "845f428e",
   "metadata": {
    "ExecuteTime": {
     "end_time": "2021-11-29T02:40:48.756875Z",
     "start_time": "2021-11-29T02:40:48.746874Z"
    }
   },
   "outputs": [
    {
     "data": {
      "text/html": [
       "<div>\n",
       "<style scoped>\n",
       "    .dataframe tbody tr th:only-of-type {\n",
       "        vertical-align: middle;\n",
       "    }\n",
       "\n",
       "    .dataframe tbody tr th {\n",
       "        vertical-align: top;\n",
       "    }\n",
       "\n",
       "    .dataframe thead th {\n",
       "        text-align: right;\n",
       "    }\n",
       "</style>\n",
       "<table border=\"1\" class=\"dataframe\">\n",
       "  <thead>\n",
       "    <tr style=\"text-align: right;\">\n",
       "      <th></th>\n",
       "      <th>일시</th>\n",
       "      <th>평균기온(℃)</th>\n",
       "      <th>최고기온(℃)</th>\n",
       "      <th>최저기온(℃)</th>\n",
       "    </tr>\n",
       "  </thead>\n",
       "  <tbody>\n",
       "    <tr>\n",
       "      <th>1345</th>\n",
       "      <td>NaN</td>\n",
       "      <td>NaN</td>\n",
       "      <td>NaN</td>\n",
       "      <td>NaN</td>\n",
       "    </tr>\n",
       "    <tr>\n",
       "      <th>1346</th>\n",
       "      <td>NaN</td>\n",
       "      <td>NaN</td>\n",
       "      <td>NaN</td>\n",
       "      <td>NaN</td>\n",
       "    </tr>\n",
       "    <tr>\n",
       "      <th>1347</th>\n",
       "      <td>NaN</td>\n",
       "      <td>NaN</td>\n",
       "      <td>NaN</td>\n",
       "      <td>NaN</td>\n",
       "    </tr>\n",
       "    <tr>\n",
       "      <th>1348</th>\n",
       "      <td>NaN</td>\n",
       "      <td>NaN</td>\n",
       "      <td>NaN</td>\n",
       "      <td>NaN</td>\n",
       "    </tr>\n",
       "    <tr>\n",
       "      <th>1349</th>\n",
       "      <td>NaN</td>\n",
       "      <td>NaN</td>\n",
       "      <td>NaN</td>\n",
       "      <td>NaN</td>\n",
       "    </tr>\n",
       "    <tr>\n",
       "      <th>1350</th>\n",
       "      <td>NaN</td>\n",
       "      <td>NaN</td>\n",
       "      <td>NaN</td>\n",
       "      <td>NaN</td>\n",
       "    </tr>\n",
       "    <tr>\n",
       "      <th>1351</th>\n",
       "      <td>NaN</td>\n",
       "      <td>NaN</td>\n",
       "      <td>NaN</td>\n",
       "      <td>NaN</td>\n",
       "    </tr>\n",
       "    <tr>\n",
       "      <th>1352</th>\n",
       "      <td>NaN</td>\n",
       "      <td>NaN</td>\n",
       "      <td>NaN</td>\n",
       "      <td>NaN</td>\n",
       "    </tr>\n",
       "  </tbody>\n",
       "</table>\n",
       "</div>"
      ],
      "text/plain": [
       "       일시  평균기온(℃)  최고기온(℃)  최저기온(℃)\n",
       "1345  NaN      NaN      NaN      NaN\n",
       "1346  NaN      NaN      NaN      NaN\n",
       "1347  NaN      NaN      NaN      NaN\n",
       "1348  NaN      NaN      NaN      NaN\n",
       "1349  NaN      NaN      NaN      NaN\n",
       "1350  NaN      NaN      NaN      NaN\n",
       "1351  NaN      NaN      NaN      NaN\n",
       "1352  NaN      NaN      NaN      NaN"
      ]
     },
     "execution_count": 245,
     "metadata": {},
     "output_type": "execute_result"
    }
   ],
   "source": [
    "df_weather[pd.isna(df_weather['일시'])]"
   ]
  },
  {
   "cell_type": "markdown",
   "id": "fa6d4c4a",
   "metadata": {},
   "source": [
    "## Q3-4\n",
    "```\n",
    "df_weather 데이타프레임에서 행 모두의 값이 NaN이면 삭제하여라 \n",
    "```"
   ]
  },
  {
   "cell_type": "code",
   "execution_count": 246,
   "id": "33d55d95",
   "metadata": {
    "ExecuteTime": {
     "end_time": "2021-11-29T02:41:01.136681Z",
     "start_time": "2021-11-29T02:41:01.121669Z"
    }
   },
   "outputs": [
    {
     "data": {
      "text/html": [
       "<div>\n",
       "<style scoped>\n",
       "    .dataframe tbody tr th:only-of-type {\n",
       "        vertical-align: middle;\n",
       "    }\n",
       "\n",
       "    .dataframe tbody tr th {\n",
       "        vertical-align: top;\n",
       "    }\n",
       "\n",
       "    .dataframe thead th {\n",
       "        text-align: right;\n",
       "    }\n",
       "</style>\n",
       "<table border=\"1\" class=\"dataframe\">\n",
       "  <thead>\n",
       "    <tr style=\"text-align: right;\">\n",
       "      <th></th>\n",
       "      <th>일시</th>\n",
       "      <th>평균기온(℃)</th>\n",
       "      <th>최고기온(℃)</th>\n",
       "      <th>최저기온(℃)</th>\n",
       "    </tr>\n",
       "  </thead>\n",
       "  <tbody>\n",
       "    <tr>\n",
       "      <th>0</th>\n",
       "      <td>1907-10-01</td>\n",
       "      <td>13.9</td>\n",
       "      <td>25.4</td>\n",
       "      <td>3.3</td>\n",
       "    </tr>\n",
       "    <tr>\n",
       "      <th>1</th>\n",
       "      <td>1907-11-01</td>\n",
       "      <td>5.3</td>\n",
       "      <td>21.3</td>\n",
       "      <td>-8.9</td>\n",
       "    </tr>\n",
       "    <tr>\n",
       "      <th>2</th>\n",
       "      <td>1907-12-01</td>\n",
       "      <td>-3.9</td>\n",
       "      <td>9.0</td>\n",
       "      <td>-20.1</td>\n",
       "    </tr>\n",
       "    <tr>\n",
       "      <th>3</th>\n",
       "      <td>1908-01-01</td>\n",
       "      <td>-3.5</td>\n",
       "      <td>6.2</td>\n",
       "      <td>-14.3</td>\n",
       "    </tr>\n",
       "    <tr>\n",
       "      <th>4</th>\n",
       "      <td>1908-02-01</td>\n",
       "      <td>-4.0</td>\n",
       "      <td>8.4</td>\n",
       "      <td>-15.8</td>\n",
       "    </tr>\n",
       "    <tr>\n",
       "      <th>...</th>\n",
       "      <td>...</td>\n",
       "      <td>...</td>\n",
       "      <td>...</td>\n",
       "      <td>...</td>\n",
       "    </tr>\n",
       "    <tr>\n",
       "      <th>1340</th>\n",
       "      <td>2020-08-01</td>\n",
       "      <td>26.5</td>\n",
       "      <td>34.5</td>\n",
       "      <td>21.5</td>\n",
       "    </tr>\n",
       "    <tr>\n",
       "      <th>1341</th>\n",
       "      <td>2020-09-01</td>\n",
       "      <td>21.4</td>\n",
       "      <td>29.5</td>\n",
       "      <td>13.6</td>\n",
       "    </tr>\n",
       "    <tr>\n",
       "      <th>1342</th>\n",
       "      <td>2020-10-01</td>\n",
       "      <td>14.3</td>\n",
       "      <td>23.6</td>\n",
       "      <td>3.2</td>\n",
       "    </tr>\n",
       "    <tr>\n",
       "      <th>1343</th>\n",
       "      <td>2020-11-01</td>\n",
       "      <td>8.0</td>\n",
       "      <td>20.0</td>\n",
       "      <td>-3.6</td>\n",
       "    </tr>\n",
       "    <tr>\n",
       "      <th>1344</th>\n",
       "      <td>2020-12-01</td>\n",
       "      <td>-0.2</td>\n",
       "      <td>9.4</td>\n",
       "      <td>-11.2</td>\n",
       "    </tr>\n",
       "  </tbody>\n",
       "</table>\n",
       "<p>1345 rows × 4 columns</p>\n",
       "</div>"
      ],
      "text/plain": [
       "              일시  평균기온(℃)  최고기온(℃)  최저기온(℃)\n",
       "0     1907-10-01     13.9     25.4      3.3\n",
       "1     1907-11-01      5.3     21.3     -8.9\n",
       "2     1907-12-01     -3.9      9.0    -20.1\n",
       "3     1908-01-01     -3.5      6.2    -14.3\n",
       "4     1908-02-01     -4.0      8.4    -15.8\n",
       "...          ...      ...      ...      ...\n",
       "1340  2020-08-01     26.5     34.5     21.5\n",
       "1341  2020-09-01     21.4     29.5     13.6\n",
       "1342  2020-10-01     14.3     23.6      3.2\n",
       "1343  2020-11-01      8.0     20.0     -3.6\n",
       "1344  2020-12-01     -0.2      9.4    -11.2\n",
       "\n",
       "[1345 rows x 4 columns]"
      ]
     },
     "execution_count": 246,
     "metadata": {},
     "output_type": "execute_result"
    }
   ],
   "source": [
    "df_weather.dropna(how = \"all\")"
   ]
  },
  {
   "cell_type": "markdown",
   "id": "b5eb18e2",
   "metadata": {},
   "source": [
    "## Q3-5\n",
    "```\n",
    "df_weather 데이타프레임에서 결측값을 모두 0으로 변경하여라\n",
    "```"
   ]
  },
  {
   "cell_type": "code",
   "execution_count": 247,
   "id": "b145e58b",
   "metadata": {
    "ExecuteTime": {
     "end_time": "2021-11-29T02:43:39.712553Z",
     "start_time": "2021-11-29T02:43:39.690543Z"
    }
   },
   "outputs": [
    {
     "data": {
      "text/html": [
       "<div>\n",
       "<style scoped>\n",
       "    .dataframe tbody tr th:only-of-type {\n",
       "        vertical-align: middle;\n",
       "    }\n",
       "\n",
       "    .dataframe tbody tr th {\n",
       "        vertical-align: top;\n",
       "    }\n",
       "\n",
       "    .dataframe thead th {\n",
       "        text-align: right;\n",
       "    }\n",
       "</style>\n",
       "<table border=\"1\" class=\"dataframe\">\n",
       "  <thead>\n",
       "    <tr style=\"text-align: right;\">\n",
       "      <th></th>\n",
       "      <th>일시</th>\n",
       "      <th>평균기온(℃)</th>\n",
       "      <th>최고기온(℃)</th>\n",
       "      <th>최저기온(℃)</th>\n",
       "    </tr>\n",
       "  </thead>\n",
       "  <tbody>\n",
       "    <tr>\n",
       "      <th>0</th>\n",
       "      <td>1907-10-01</td>\n",
       "      <td>13.9</td>\n",
       "      <td>25.4</td>\n",
       "      <td>3.3</td>\n",
       "    </tr>\n",
       "    <tr>\n",
       "      <th>1</th>\n",
       "      <td>1907-11-01</td>\n",
       "      <td>5.3</td>\n",
       "      <td>21.3</td>\n",
       "      <td>-8.9</td>\n",
       "    </tr>\n",
       "    <tr>\n",
       "      <th>2</th>\n",
       "      <td>1907-12-01</td>\n",
       "      <td>-3.9</td>\n",
       "      <td>9.0</td>\n",
       "      <td>-20.1</td>\n",
       "    </tr>\n",
       "    <tr>\n",
       "      <th>3</th>\n",
       "      <td>1908-01-01</td>\n",
       "      <td>-3.5</td>\n",
       "      <td>6.2</td>\n",
       "      <td>-14.3</td>\n",
       "    </tr>\n",
       "    <tr>\n",
       "      <th>4</th>\n",
       "      <td>1908-02-01</td>\n",
       "      <td>-4.0</td>\n",
       "      <td>8.4</td>\n",
       "      <td>-15.8</td>\n",
       "    </tr>\n",
       "    <tr>\n",
       "      <th>...</th>\n",
       "      <td>...</td>\n",
       "      <td>...</td>\n",
       "      <td>...</td>\n",
       "      <td>...</td>\n",
       "    </tr>\n",
       "    <tr>\n",
       "      <th>1348</th>\n",
       "      <td>0</td>\n",
       "      <td>0.0</td>\n",
       "      <td>0.0</td>\n",
       "      <td>0.0</td>\n",
       "    </tr>\n",
       "    <tr>\n",
       "      <th>1349</th>\n",
       "      <td>0</td>\n",
       "      <td>0.0</td>\n",
       "      <td>0.0</td>\n",
       "      <td>0.0</td>\n",
       "    </tr>\n",
       "    <tr>\n",
       "      <th>1350</th>\n",
       "      <td>0</td>\n",
       "      <td>0.0</td>\n",
       "      <td>0.0</td>\n",
       "      <td>0.0</td>\n",
       "    </tr>\n",
       "    <tr>\n",
       "      <th>1351</th>\n",
       "      <td>0</td>\n",
       "      <td>0.0</td>\n",
       "      <td>0.0</td>\n",
       "      <td>0.0</td>\n",
       "    </tr>\n",
       "    <tr>\n",
       "      <th>1352</th>\n",
       "      <td>0</td>\n",
       "      <td>0.0</td>\n",
       "      <td>0.0</td>\n",
       "      <td>0.0</td>\n",
       "    </tr>\n",
       "  </tbody>\n",
       "</table>\n",
       "<p>1353 rows × 4 columns</p>\n",
       "</div>"
      ],
      "text/plain": [
       "              일시  평균기온(℃)  최고기온(℃)  최저기온(℃)\n",
       "0     1907-10-01     13.9     25.4      3.3\n",
       "1     1907-11-01      5.3     21.3     -8.9\n",
       "2     1907-12-01     -3.9      9.0    -20.1\n",
       "3     1908-01-01     -3.5      6.2    -14.3\n",
       "4     1908-02-01     -4.0      8.4    -15.8\n",
       "...          ...      ...      ...      ...\n",
       "1348           0      0.0      0.0      0.0\n",
       "1349           0      0.0      0.0      0.0\n",
       "1350           0      0.0      0.0      0.0\n",
       "1351           0      0.0      0.0      0.0\n",
       "1352           0      0.0      0.0      0.0\n",
       "\n",
       "[1353 rows x 4 columns]"
      ]
     },
     "execution_count": 247,
     "metadata": {},
     "output_type": "execute_result"
    }
   ],
   "source": [
    "df_weather.fillna(0)"
   ]
  },
  {
   "cell_type": "markdown",
   "id": "c5b6fdd8",
   "metadata": {},
   "source": [
    "## Q3-6\n",
    "```\n",
    "df_weather 데이타프레임에서 '일시' 컬럼의 데이타형을 시계열 형태로 변경하고 인덱스로 설정하여라. \n",
    "```"
   ]
  },
  {
   "cell_type": "code",
   "execution_count": 248,
   "id": "11b34f0b",
   "metadata": {
    "ExecuteTime": {
     "end_time": "2021-11-29T02:43:52.925810Z",
     "start_time": "2021-11-29T02:43:52.914805Z"
    }
   },
   "outputs": [],
   "source": [
    "df_weather = df_weather.dropna()"
   ]
  },
  {
   "cell_type": "code",
   "execution_count": 250,
   "id": "c8b4b0e5",
   "metadata": {
    "ExecuteTime": {
     "end_time": "2021-11-29T02:44:06.806106Z",
     "start_time": "2021-11-29T02:44:06.792098Z"
    }
   },
   "outputs": [],
   "source": [
    "df_weather['일시'] = pd.to_datetime(df_weather['일시'])"
   ]
  },
  {
   "cell_type": "code",
   "execution_count": 251,
   "id": "766a6b82",
   "metadata": {
    "ExecuteTime": {
     "end_time": "2021-11-29T02:44:12.646127Z",
     "start_time": "2021-11-29T02:44:12.635139Z"
    }
   },
   "outputs": [
    {
     "data": {
      "text/html": [
       "<div>\n",
       "<style scoped>\n",
       "    .dataframe tbody tr th:only-of-type {\n",
       "        vertical-align: middle;\n",
       "    }\n",
       "\n",
       "    .dataframe tbody tr th {\n",
       "        vertical-align: top;\n",
       "    }\n",
       "\n",
       "    .dataframe thead th {\n",
       "        text-align: right;\n",
       "    }\n",
       "</style>\n",
       "<table border=\"1\" class=\"dataframe\">\n",
       "  <thead>\n",
       "    <tr style=\"text-align: right;\">\n",
       "      <th></th>\n",
       "      <th>평균기온(℃)</th>\n",
       "      <th>최고기온(℃)</th>\n",
       "      <th>최저기온(℃)</th>\n",
       "    </tr>\n",
       "    <tr>\n",
       "      <th>일시</th>\n",
       "      <th></th>\n",
       "      <th></th>\n",
       "      <th></th>\n",
       "    </tr>\n",
       "  </thead>\n",
       "  <tbody>\n",
       "    <tr>\n",
       "      <th>1907-10-01</th>\n",
       "      <td>13.9</td>\n",
       "      <td>25.4</td>\n",
       "      <td>3.3</td>\n",
       "    </tr>\n",
       "    <tr>\n",
       "      <th>1907-11-01</th>\n",
       "      <td>5.3</td>\n",
       "      <td>21.3</td>\n",
       "      <td>-8.9</td>\n",
       "    </tr>\n",
       "    <tr>\n",
       "      <th>1907-12-01</th>\n",
       "      <td>-3.9</td>\n",
       "      <td>9.0</td>\n",
       "      <td>-20.1</td>\n",
       "    </tr>\n",
       "    <tr>\n",
       "      <th>1908-01-01</th>\n",
       "      <td>-3.5</td>\n",
       "      <td>6.2</td>\n",
       "      <td>-14.3</td>\n",
       "    </tr>\n",
       "    <tr>\n",
       "      <th>1908-02-01</th>\n",
       "      <td>-4.0</td>\n",
       "      <td>8.4</td>\n",
       "      <td>-15.8</td>\n",
       "    </tr>\n",
       "    <tr>\n",
       "      <th>...</th>\n",
       "      <td>...</td>\n",
       "      <td>...</td>\n",
       "      <td>...</td>\n",
       "    </tr>\n",
       "    <tr>\n",
       "      <th>2020-08-01</th>\n",
       "      <td>26.5</td>\n",
       "      <td>34.5</td>\n",
       "      <td>21.5</td>\n",
       "    </tr>\n",
       "    <tr>\n",
       "      <th>2020-09-01</th>\n",
       "      <td>21.4</td>\n",
       "      <td>29.5</td>\n",
       "      <td>13.6</td>\n",
       "    </tr>\n",
       "    <tr>\n",
       "      <th>2020-10-01</th>\n",
       "      <td>14.3</td>\n",
       "      <td>23.6</td>\n",
       "      <td>3.2</td>\n",
       "    </tr>\n",
       "    <tr>\n",
       "      <th>2020-11-01</th>\n",
       "      <td>8.0</td>\n",
       "      <td>20.0</td>\n",
       "      <td>-3.6</td>\n",
       "    </tr>\n",
       "    <tr>\n",
       "      <th>2020-12-01</th>\n",
       "      <td>-0.2</td>\n",
       "      <td>9.4</td>\n",
       "      <td>-11.2</td>\n",
       "    </tr>\n",
       "  </tbody>\n",
       "</table>\n",
       "<p>1320 rows × 3 columns</p>\n",
       "</div>"
      ],
      "text/plain": [
       "            평균기온(℃)  최고기온(℃)  최저기온(℃)\n",
       "일시                                   \n",
       "1907-10-01     13.9     25.4      3.3\n",
       "1907-11-01      5.3     21.3     -8.9\n",
       "1907-12-01     -3.9      9.0    -20.1\n",
       "1908-01-01     -3.5      6.2    -14.3\n",
       "1908-02-01     -4.0      8.4    -15.8\n",
       "...             ...      ...      ...\n",
       "2020-08-01     26.5     34.5     21.5\n",
       "2020-09-01     21.4     29.5     13.6\n",
       "2020-10-01     14.3     23.6      3.2\n",
       "2020-11-01      8.0     20.0     -3.6\n",
       "2020-12-01     -0.2      9.4    -11.2\n",
       "\n",
       "[1320 rows x 3 columns]"
      ]
     },
     "execution_count": 251,
     "metadata": {},
     "output_type": "execute_result"
    }
   ],
   "source": [
    "df_weather.set_index('일시')"
   ]
  },
  {
   "cell_type": "code",
   "execution_count": 252,
   "id": "6efdbee4",
   "metadata": {
    "ExecuteTime": {
     "end_time": "2021-11-29T02:44:17.857789Z",
     "start_time": "2021-11-29T02:44:17.841774Z"
    }
   },
   "outputs": [
    {
     "data": {
      "text/plain": [
       "일시         datetime64[ns]\n",
       "평균기온(℃)           float64\n",
       "최고기온(℃)           float64\n",
       "최저기온(℃)           float64\n",
       "dtype: object"
      ]
     },
     "execution_count": 252,
     "metadata": {},
     "output_type": "execute_result"
    }
   ],
   "source": [
    "df_weather.dtypes"
   ]
  },
  {
   "cell_type": "markdown",
   "id": "15d91dc0",
   "metadata": {},
   "source": [
    "## Q3-7\n",
    "```\n",
    "df_weather 데이타프레임에서 2000 이후의 데이타만 출력하여라 \n",
    "```"
   ]
  },
  {
   "cell_type": "code",
   "execution_count": 253,
   "id": "9503d6eb",
   "metadata": {
    "ExecuteTime": {
     "end_time": "2021-11-29T02:44:36.548234Z",
     "start_time": "2021-11-29T02:44:36.529232Z"
    }
   },
   "outputs": [
    {
     "data": {
      "text/html": [
       "<div>\n",
       "<style scoped>\n",
       "    .dataframe tbody tr th:only-of-type {\n",
       "        vertical-align: middle;\n",
       "    }\n",
       "\n",
       "    .dataframe tbody tr th {\n",
       "        vertical-align: top;\n",
       "    }\n",
       "\n",
       "    .dataframe thead th {\n",
       "        text-align: right;\n",
       "    }\n",
       "</style>\n",
       "<table border=\"1\" class=\"dataframe\">\n",
       "  <thead>\n",
       "    <tr style=\"text-align: right;\">\n",
       "      <th></th>\n",
       "      <th>일시</th>\n",
       "      <th>평균기온(℃)</th>\n",
       "      <th>최고기온(℃)</th>\n",
       "      <th>최저기온(℃)</th>\n",
       "    </tr>\n",
       "  </thead>\n",
       "  <tbody>\n",
       "    <tr>\n",
       "      <th>1105</th>\n",
       "      <td>2001-01-01</td>\n",
       "      <td>-4.1</td>\n",
       "      <td>6.8</td>\n",
       "      <td>-18.6</td>\n",
       "    </tr>\n",
       "    <tr>\n",
       "      <th>1106</th>\n",
       "      <td>2001-02-01</td>\n",
       "      <td>-0.3</td>\n",
       "      <td>12.2</td>\n",
       "      <td>-10.4</td>\n",
       "    </tr>\n",
       "    <tr>\n",
       "      <th>1107</th>\n",
       "      <td>2001-03-01</td>\n",
       "      <td>5.0</td>\n",
       "      <td>21.0</td>\n",
       "      <td>-6.1</td>\n",
       "    </tr>\n",
       "    <tr>\n",
       "      <th>1108</th>\n",
       "      <td>2001-04-01</td>\n",
       "      <td>13.6</td>\n",
       "      <td>28.2</td>\n",
       "      <td>2.1</td>\n",
       "    </tr>\n",
       "    <tr>\n",
       "      <th>1109</th>\n",
       "      <td>2001-05-01</td>\n",
       "      <td>19.1</td>\n",
       "      <td>31.5</td>\n",
       "      <td>10.4</td>\n",
       "    </tr>\n",
       "    <tr>\n",
       "      <th>...</th>\n",
       "      <td>...</td>\n",
       "      <td>...</td>\n",
       "      <td>...</td>\n",
       "      <td>...</td>\n",
       "    </tr>\n",
       "    <tr>\n",
       "      <th>1340</th>\n",
       "      <td>2020-08-01</td>\n",
       "      <td>26.5</td>\n",
       "      <td>34.5</td>\n",
       "      <td>21.5</td>\n",
       "    </tr>\n",
       "    <tr>\n",
       "      <th>1341</th>\n",
       "      <td>2020-09-01</td>\n",
       "      <td>21.4</td>\n",
       "      <td>29.5</td>\n",
       "      <td>13.6</td>\n",
       "    </tr>\n",
       "    <tr>\n",
       "      <th>1342</th>\n",
       "      <td>2020-10-01</td>\n",
       "      <td>14.3</td>\n",
       "      <td>23.6</td>\n",
       "      <td>3.2</td>\n",
       "    </tr>\n",
       "    <tr>\n",
       "      <th>1343</th>\n",
       "      <td>2020-11-01</td>\n",
       "      <td>8.0</td>\n",
       "      <td>20.0</td>\n",
       "      <td>-3.6</td>\n",
       "    </tr>\n",
       "    <tr>\n",
       "      <th>1344</th>\n",
       "      <td>2020-12-01</td>\n",
       "      <td>-0.2</td>\n",
       "      <td>9.4</td>\n",
       "      <td>-11.2</td>\n",
       "    </tr>\n",
       "  </tbody>\n",
       "</table>\n",
       "<p>240 rows × 4 columns</p>\n",
       "</div>"
      ],
      "text/plain": [
       "             일시  평균기온(℃)  최고기온(℃)  최저기온(℃)\n",
       "1105 2001-01-01     -4.1      6.8    -18.6\n",
       "1106 2001-02-01     -0.3     12.2    -10.4\n",
       "1107 2001-03-01      5.0     21.0     -6.1\n",
       "1108 2001-04-01     13.6     28.2      2.1\n",
       "1109 2001-05-01     19.1     31.5     10.4\n",
       "...         ...      ...      ...      ...\n",
       "1340 2020-08-01     26.5     34.5     21.5\n",
       "1341 2020-09-01     21.4     29.5     13.6\n",
       "1342 2020-10-01     14.3     23.6      3.2\n",
       "1343 2020-11-01      8.0     20.0     -3.6\n",
       "1344 2020-12-01     -0.2      9.4    -11.2\n",
       "\n",
       "[240 rows x 4 columns]"
      ]
     },
     "execution_count": 253,
     "metadata": {},
     "output_type": "execute_result"
    }
   ],
   "source": [
    "df_weather[df_weather['일시'] >= pd.to_datetime(\"2001.01.01\")]"
   ]
  },
  {
   "cell_type": "markdown",
   "id": "3cfaace4",
   "metadata": {},
   "source": [
    "# quiz3\n",
    "\n",
    "## Q1-1\n",
    "\n",
    "```\n",
    "아래의 파일을 이용하여 df_covid 데이타프레임을 생성하여라.\n",
    "   \n",
    "seoul-covid19_6_30_.csv    \n",
    "\n",
    "```"
   ]
  },
  {
   "cell_type": "code",
   "execution_count": 280,
   "id": "27112fe7",
   "metadata": {
    "ExecuteTime": {
     "end_time": "2021-11-29T04:23:05.324660Z",
     "start_time": "2021-11-29T04:23:05.302644Z"
    }
   },
   "outputs": [],
   "source": [
    "df_covid = pd.read_csv('data/seoul-covid19_6_30_.csv')"
   ]
  },
  {
   "cell_type": "code",
   "execution_count": 281,
   "id": "e0baaf3d",
   "metadata": {
    "ExecuteTime": {
     "end_time": "2021-11-29T04:23:05.700206Z",
     "start_time": "2021-11-29T04:23:05.686204Z"
    }
   },
   "outputs": [
    {
     "data": {
      "text/html": [
       "<div>\n",
       "<style scoped>\n",
       "    .dataframe tbody tr th:only-of-type {\n",
       "        vertical-align: middle;\n",
       "    }\n",
       "\n",
       "    .dataframe tbody tr th {\n",
       "        vertical-align: top;\n",
       "    }\n",
       "\n",
       "    .dataframe thead th {\n",
       "        text-align: right;\n",
       "    }\n",
       "</style>\n",
       "<table border=\"1\" class=\"dataframe\">\n",
       "  <thead>\n",
       "    <tr style=\"text-align: right;\">\n",
       "      <th></th>\n",
       "      <th>연번</th>\n",
       "      <th>환자</th>\n",
       "      <th>확진일</th>\n",
       "      <th>거주지</th>\n",
       "      <th>여행력</th>\n",
       "      <th>접촉력</th>\n",
       "      <th>조치사항</th>\n",
       "    </tr>\n",
       "  </thead>\n",
       "  <tbody>\n",
       "    <tr>\n",
       "      <th>0</th>\n",
       "      <td>1321</td>\n",
       "      <td>12830</td>\n",
       "      <td>6.30.</td>\n",
       "      <td>영등포구</td>\n",
       "      <td>-</td>\n",
       "      <td>영등포구 확진자 접촉</td>\n",
       "      <td>-</td>\n",
       "    </tr>\n",
       "    <tr>\n",
       "      <th>1</th>\n",
       "      <td>1320</td>\n",
       "      <td>12829</td>\n",
       "      <td>6.30.</td>\n",
       "      <td>관악구</td>\n",
       "      <td>-</td>\n",
       "      <td>확인 중</td>\n",
       "      <td>보라매병원</td>\n",
       "    </tr>\n",
       "    <tr>\n",
       "      <th>2</th>\n",
       "      <td>1319</td>\n",
       "      <td>12831</td>\n",
       "      <td>6.30.</td>\n",
       "      <td>영등포구</td>\n",
       "      <td>-</td>\n",
       "      <td>확인 중</td>\n",
       "      <td>중앙대학교병원</td>\n",
       "    </tr>\n",
       "    <tr>\n",
       "      <th>3</th>\n",
       "      <td>1318</td>\n",
       "      <td>12808</td>\n",
       "      <td>6.30.</td>\n",
       "      <td>관악구</td>\n",
       "      <td>-</td>\n",
       "      <td>강남구 역삼동 모임</td>\n",
       "      <td>보라매병원</td>\n",
       "    </tr>\n",
       "    <tr>\n",
       "      <th>4</th>\n",
       "      <td>1317</td>\n",
       "      <td>12809</td>\n",
       "      <td>6.30.</td>\n",
       "      <td>관악구</td>\n",
       "      <td>-</td>\n",
       "      <td>강남구 역삼동 모임</td>\n",
       "      <td>보라매병원</td>\n",
       "    </tr>\n",
       "    <tr>\n",
       "      <th>...</th>\n",
       "      <td>...</td>\n",
       "      <td>...</td>\n",
       "      <td>...</td>\n",
       "      <td>...</td>\n",
       "      <td>...</td>\n",
       "      <td>...</td>\n",
       "      <td>...</td>\n",
       "    </tr>\n",
       "    <tr>\n",
       "      <th>1316</th>\n",
       "      <td>5</td>\n",
       "      <td>9</td>\n",
       "      <td>1.31.</td>\n",
       "      <td>성북구</td>\n",
       "      <td>-</td>\n",
       "      <td>#5 접촉</td>\n",
       "      <td>서울의료원(퇴원)</td>\n",
       "    </tr>\n",
       "    <tr>\n",
       "      <th>1317</th>\n",
       "      <td>4</td>\n",
       "      <td>7</td>\n",
       "      <td>1.30.</td>\n",
       "      <td>마포구</td>\n",
       "      <td>중국 우한시</td>\n",
       "      <td>해외 접촉</td>\n",
       "      <td>서울의료원(퇴원)</td>\n",
       "    </tr>\n",
       "    <tr>\n",
       "      <th>1318</th>\n",
       "      <td>3</td>\n",
       "      <td>6</td>\n",
       "      <td>1.30.</td>\n",
       "      <td>종로구</td>\n",
       "      <td>-</td>\n",
       "      <td>#3 접촉</td>\n",
       "      <td>서울대학교병원(퇴원)</td>\n",
       "    </tr>\n",
       "    <tr>\n",
       "      <th>1319</th>\n",
       "      <td>2</td>\n",
       "      <td>5</td>\n",
       "      <td>1.30.</td>\n",
       "      <td>중랑구</td>\n",
       "      <td>중국 우한시</td>\n",
       "      <td>해외 접촉</td>\n",
       "      <td>서울의료원(퇴원)</td>\n",
       "    </tr>\n",
       "    <tr>\n",
       "      <th>1320</th>\n",
       "      <td>1</td>\n",
       "      <td>2</td>\n",
       "      <td>1.24.</td>\n",
       "      <td>강서구</td>\n",
       "      <td>중국 우한시</td>\n",
       "      <td>해외 접촉</td>\n",
       "      <td>국립중앙의료원(퇴원)</td>\n",
       "    </tr>\n",
       "  </tbody>\n",
       "</table>\n",
       "<p>1321 rows × 7 columns</p>\n",
       "</div>"
      ],
      "text/plain": [
       "        연번     환자    확진일   거주지     여행력          접촉력         조치사항\n",
       "0     1321  12830  6.30.  영등포구       -  영등포구 확진자 접촉            -\n",
       "1     1320  12829  6.30.   관악구       -         확인 중        보라매병원\n",
       "2     1319  12831  6.30.  영등포구       -         확인 중      중앙대학교병원\n",
       "3     1318  12808  6.30.   관악구       -   강남구 역삼동 모임        보라매병원\n",
       "4     1317  12809  6.30.   관악구       -   강남구 역삼동 모임        보라매병원\n",
       "...    ...    ...    ...   ...     ...          ...          ...\n",
       "1316     5      9  1.31.   성북구       -        #5 접촉    서울의료원(퇴원)\n",
       "1317     4      7  1.30.   마포구  중국 우한시        해외 접촉    서울의료원(퇴원)\n",
       "1318     3      6  1.30.   종로구       -        #3 접촉  서울대학교병원(퇴원)\n",
       "1319     2      5  1.30.   중랑구  중국 우한시        해외 접촉    서울의료원(퇴원)\n",
       "1320     1      2  1.24.   강서구  중국 우한시        해외 접촉  국립중앙의료원(퇴원)\n",
       "\n",
       "[1321 rows x 7 columns]"
      ]
     },
     "execution_count": 281,
     "metadata": {},
     "output_type": "execute_result"
    }
   ],
   "source": [
    "df_covid"
   ]
  },
  {
   "cell_type": "markdown",
   "id": "56b8a3cb",
   "metadata": {},
   "source": [
    "## Q1-2\n",
    "```\n",
    "'연번' 컬럼은 삭제하고  '환자' 컬럼 값 기준으로 정렬한 후 '환자' 컬럼을 인덱스로 설정하여라. \n",
    "```\n"
   ]
  },
  {
   "cell_type": "code",
   "execution_count": 282,
   "id": "4416b540",
   "metadata": {
    "ExecuteTime": {
     "end_time": "2021-11-29T04:23:07.528554Z",
     "start_time": "2021-11-29T04:23:07.518550Z"
    }
   },
   "outputs": [],
   "source": [
    "df_covid = df_covid.drop('연번', 1).sort_values('환자').set_index('환자')"
   ]
  },
  {
   "cell_type": "markdown",
   "id": "33029b9c",
   "metadata": {},
   "source": [
    "## Q1-3\n",
    "어느 지역에서 제일 많은 확진자가 발생했는지 1~5위 까지 출력하여라 (거주지 기준)"
   ]
  },
  {
   "cell_type": "code",
   "execution_count": 283,
   "id": "1329d267",
   "metadata": {
    "ExecuteTime": {
     "end_time": "2021-11-29T04:23:08.608987Z",
     "start_time": "2021-11-29T04:23:08.601994Z"
    }
   },
   "outputs": [
    {
     "data": {
      "text/plain": [
       "관악구    117\n",
       "구로구     86\n",
       "강남구     83\n",
       "강서구     78\n",
       "양천구     70\n",
       "Name: 거주지, dtype: int64"
      ]
     },
     "execution_count": 283,
     "metadata": {},
     "output_type": "execute_result"
    }
   ],
   "source": [
    "df_covid.거주지.value_counts()[:5]"
   ]
  },
  {
   "cell_type": "markdown",
   "id": "29e3c151",
   "metadata": {},
   "source": [
    "## Q1-4\n",
    "확진자가 가장 많이 발생한 1, 2, 3위 지역의 데이타만 출력하여라 "
   ]
  },
  {
   "cell_type": "code",
   "execution_count": 284,
   "id": "08b0da4f",
   "metadata": {
    "ExecuteTime": {
     "end_time": "2021-11-29T04:23:10.374748Z",
     "start_time": "2021-11-29T04:23:10.350745Z"
    }
   },
   "outputs": [
    {
     "data": {
      "text/html": [
       "<div>\n",
       "<style scoped>\n",
       "    .dataframe tbody tr th:only-of-type {\n",
       "        vertical-align: middle;\n",
       "    }\n",
       "\n",
       "    .dataframe tbody tr th {\n",
       "        vertical-align: top;\n",
       "    }\n",
       "\n",
       "    .dataframe thead th {\n",
       "        text-align: right;\n",
       "    }\n",
       "</style>\n",
       "<table border=\"1\" class=\"dataframe\">\n",
       "  <thead>\n",
       "    <tr style=\"text-align: right;\">\n",
       "      <th></th>\n",
       "      <th>확진일</th>\n",
       "      <th>거주지</th>\n",
       "      <th>여행력</th>\n",
       "      <th>접촉력</th>\n",
       "      <th>조치사항</th>\n",
       "    </tr>\n",
       "    <tr>\n",
       "      <th>환자</th>\n",
       "      <th></th>\n",
       "      <th></th>\n",
       "      <th></th>\n",
       "      <th></th>\n",
       "      <th></th>\n",
       "    </tr>\n",
       "  </thead>\n",
       "  <tbody>\n",
       "    <tr>\n",
       "      <th>348</th>\n",
       "      <td>2.22.</td>\n",
       "      <td>구로구</td>\n",
       "      <td>-</td>\n",
       "      <td>타시도 확진자 접촉</td>\n",
       "      <td>국립중앙의료원(퇴원)</td>\n",
       "    </tr>\n",
       "    <tr>\n",
       "      <th>935</th>\n",
       "      <td>2.25.</td>\n",
       "      <td>관악구</td>\n",
       "      <td>-</td>\n",
       "      <td>확인중</td>\n",
       "      <td>삼육서울병원(퇴원)</td>\n",
       "    </tr>\n",
       "    <tr>\n",
       "      <th>1247</th>\n",
       "      <td>2.26.</td>\n",
       "      <td>강남구</td>\n",
       "      <td>-</td>\n",
       "      <td>신천지대구교회 관련</td>\n",
       "      <td>서남병원(퇴원)</td>\n",
       "    </tr>\n",
       "    <tr>\n",
       "      <th>1295</th>\n",
       "      <td>2.26.</td>\n",
       "      <td>관악구</td>\n",
       "      <td>-</td>\n",
       "      <td>대구 방문</td>\n",
       "      <td>서울백병원(퇴원)</td>\n",
       "    </tr>\n",
       "    <tr>\n",
       "      <th>1710</th>\n",
       "      <td>2.26.</td>\n",
       "      <td>강남구</td>\n",
       "      <td>-</td>\n",
       "      <td>대구 방문</td>\n",
       "      <td>서남병원(퇴원)</td>\n",
       "    </tr>\n",
       "    <tr>\n",
       "      <th>...</th>\n",
       "      <td>...</td>\n",
       "      <td>...</td>\n",
       "      <td>...</td>\n",
       "      <td>...</td>\n",
       "      <td>...</td>\n",
       "    </tr>\n",
       "    <tr>\n",
       "      <th>12748</th>\n",
       "      <td>6.28.</td>\n",
       "      <td>관악구</td>\n",
       "      <td>-</td>\n",
       "      <td>영등포구 확진자 접촉</td>\n",
       "      <td>보라매병원</td>\n",
       "    </tr>\n",
       "    <tr>\n",
       "      <th>12785</th>\n",
       "      <td>6.30.</td>\n",
       "      <td>관악구</td>\n",
       "      <td>-</td>\n",
       "      <td>영등포구 확진자 접촉</td>\n",
       "      <td>서북병원</td>\n",
       "    </tr>\n",
       "    <tr>\n",
       "      <th>12808</th>\n",
       "      <td>6.30.</td>\n",
       "      <td>관악구</td>\n",
       "      <td>-</td>\n",
       "      <td>강남구 역삼동 모임</td>\n",
       "      <td>보라매병원</td>\n",
       "    </tr>\n",
       "    <tr>\n",
       "      <th>12809</th>\n",
       "      <td>6.30.</td>\n",
       "      <td>관악구</td>\n",
       "      <td>-</td>\n",
       "      <td>강남구 역삼동 모임</td>\n",
       "      <td>보라매병원</td>\n",
       "    </tr>\n",
       "    <tr>\n",
       "      <th>12829</th>\n",
       "      <td>6.30.</td>\n",
       "      <td>관악구</td>\n",
       "      <td>-</td>\n",
       "      <td>확인 중</td>\n",
       "      <td>보라매병원</td>\n",
       "    </tr>\n",
       "  </tbody>\n",
       "</table>\n",
       "<p>286 rows × 5 columns</p>\n",
       "</div>"
      ],
      "text/plain": [
       "         확진일  거주지 여행력          접촉력         조치사항\n",
       "환자                                             \n",
       "348    2.22.  구로구   -   타시도 확진자 접촉  국립중앙의료원(퇴원)\n",
       "935    2.25.  관악구   -          확인중   삼육서울병원(퇴원)\n",
       "1247   2.26.  강남구   -   신천지대구교회 관련     서남병원(퇴원)\n",
       "1295   2.26.  관악구   -        대구 방문    서울백병원(퇴원)\n",
       "1710   2.26.  강남구   -        대구 방문     서남병원(퇴원)\n",
       "...      ...  ...  ..          ...          ...\n",
       "12748  6.28.  관악구   -  영등포구 확진자 접촉        보라매병원\n",
       "12785  6.30.  관악구   -  영등포구 확진자 접촉         서북병원\n",
       "12808  6.30.  관악구   -   강남구 역삼동 모임        보라매병원\n",
       "12809  6.30.  관악구   -   강남구 역삼동 모임        보라매병원\n",
       "12829  6.30.  관악구   -         확인 중        보라매병원\n",
       "\n",
       "[286 rows x 5 columns]"
      ]
     },
     "execution_count": 284,
     "metadata": {},
     "output_type": "execute_result"
    }
   ],
   "source": [
    "df_covid[(df_covid.거주지==\"관악구\")|(df_covid.거주지==\"구로구\")|(df_covid.거주지==\"강남구\")]"
   ]
  },
  {
   "cell_type": "markdown",
   "id": "b15b25f6",
   "metadata": {},
   "source": [
    "## Q1-5\n",
    "'확진일' 컬럼값을 아래와 같은 형태로 변경하여라\n",
    "<br>\n",
    "'1.24.' => '2020-1-24'\n"
   ]
  },
  {
   "cell_type": "code",
   "execution_count": 285,
   "id": "c3d39432",
   "metadata": {
    "ExecuteTime": {
     "end_time": "2021-11-29T04:23:12.738090Z",
     "start_time": "2021-11-29T04:23:12.726075Z"
    }
   },
   "outputs": [],
   "source": [
    "## 방법 1\n",
    "def change(x):\n",
    "    # 2020- + .를 - 로 대체     \n",
    "    result = '2020-'+x.replace('.','-')\n",
    "    # 마지막 . 제외하고 나머지를 리턴 \n",
    "    return result[:-1]"
   ]
  },
  {
   "cell_type": "code",
   "execution_count": 286,
   "id": "ab123111",
   "metadata": {
    "ExecuteTime": {
     "end_time": "2021-11-29T04:23:13.964310Z",
     "start_time": "2021-11-29T04:23:13.952295Z"
    }
   },
   "outputs": [],
   "source": [
    "df_covid['확진일'] = df_covid['확진일'].apply(change)"
   ]
  },
  {
   "cell_type": "code",
   "execution_count": 278,
   "id": "7db6c5e5",
   "metadata": {
    "ExecuteTime": {
     "end_time": "2021-11-29T04:22:55.568140Z",
     "start_time": "2021-11-29T04:22:55.475120Z"
    }
   },
   "outputs": [],
   "source": [
    "## 방법2. 왜 문제가 났는지 살펴보기.\n",
    "for a in df_covid.index:\n",
    "    df_covid.확진일[a] = \"2020.\" + str(df_covid.확진일[a][:-1])\n",
    "    "
   ]
  },
  {
   "cell_type": "markdown",
   "id": "a976da67",
   "metadata": {},
   "source": [
    "## Q1-6\n",
    "'확진일' 컬럼을 시계열 데이타로 형태를 변경하여라 "
   ]
  },
  {
   "cell_type": "code",
   "execution_count": 287,
   "id": "3b070df5",
   "metadata": {
    "ExecuteTime": {
     "end_time": "2021-11-29T04:23:15.167630Z",
     "start_time": "2021-11-29T04:23:15.151625Z"
    }
   },
   "outputs": [],
   "source": [
    "df_covid['확진일'] = pd.to_datetime(df_covid['확진일'])"
   ]
  },
  {
   "cell_type": "markdown",
   "id": "97459061",
   "metadata": {},
   "source": [
    "## Q1-7\n",
    "\n",
    "3월에 발생한 확진자의 데이타만 출력하여라."
   ]
  },
  {
   "cell_type": "code",
   "execution_count": 288,
   "id": "119207c8",
   "metadata": {
    "ExecuteTime": {
     "end_time": "2021-11-29T04:24:42.095341Z",
     "start_time": "2021-11-29T04:24:42.080329Z"
    }
   },
   "outputs": [
    {
     "data": {
      "text/html": [
       "<div>\n",
       "<style scoped>\n",
       "    .dataframe tbody tr th:only-of-type {\n",
       "        vertical-align: middle;\n",
       "    }\n",
       "\n",
       "    .dataframe tbody tr th {\n",
       "        vertical-align: top;\n",
       "    }\n",
       "\n",
       "    .dataframe thead th {\n",
       "        text-align: right;\n",
       "    }\n",
       "</style>\n",
       "<table border=\"1\" class=\"dataframe\">\n",
       "  <thead>\n",
       "    <tr style=\"text-align: right;\">\n",
       "      <th></th>\n",
       "      <th>확진일</th>\n",
       "      <th>거주지</th>\n",
       "      <th>여행력</th>\n",
       "      <th>접촉력</th>\n",
       "      <th>조치사항</th>\n",
       "    </tr>\n",
       "    <tr>\n",
       "      <th>환자</th>\n",
       "      <th></th>\n",
       "      <th></th>\n",
       "      <th></th>\n",
       "      <th></th>\n",
       "      <th></th>\n",
       "    </tr>\n",
       "  </thead>\n",
       "  <tbody>\n",
       "    <tr>\n",
       "      <th>3616</th>\n",
       "      <td>2020-03-01</td>\n",
       "      <td>강남구</td>\n",
       "      <td>-</td>\n",
       "      <td>부동산 중개 법인 관련</td>\n",
       "      <td>서울의료원(퇴원)</td>\n",
       "    </tr>\n",
       "    <tr>\n",
       "      <th>3790</th>\n",
       "      <td>2020-03-01</td>\n",
       "      <td>광진구</td>\n",
       "      <td>-</td>\n",
       "      <td>성동구 아파트 관련</td>\n",
       "      <td>서울의료원(퇴원)</td>\n",
       "    </tr>\n",
       "    <tr>\n",
       "      <th>3793</th>\n",
       "      <td>2020-03-01</td>\n",
       "      <td>성북구</td>\n",
       "      <td>-</td>\n",
       "      <td>성동구 아파트 관련</td>\n",
       "      <td>서울의료원(퇴원)</td>\n",
       "    </tr>\n",
       "    <tr>\n",
       "      <th>3815</th>\n",
       "      <td>2020-03-01</td>\n",
       "      <td>영등포구</td>\n",
       "      <td>-</td>\n",
       "      <td>성동구 아파트 관련</td>\n",
       "      <td>서울의료원(퇴원)</td>\n",
       "    </tr>\n",
       "    <tr>\n",
       "      <th>4224</th>\n",
       "      <td>2020-03-02</td>\n",
       "      <td>영등포구</td>\n",
       "      <td>-</td>\n",
       "      <td>성동구 아파트 관련</td>\n",
       "      <td>서북병원(퇴원)</td>\n",
       "    </tr>\n",
       "    <tr>\n",
       "      <th>...</th>\n",
       "      <td>...</td>\n",
       "      <td>...</td>\n",
       "      <td>...</td>\n",
       "      <td>...</td>\n",
       "      <td>...</td>\n",
       "    </tr>\n",
       "    <tr>\n",
       "      <th>9886</th>\n",
       "      <td>2020-03-31</td>\n",
       "      <td>영등포구</td>\n",
       "      <td>오스트리아</td>\n",
       "      <td>해외 접촉 추정</td>\n",
       "      <td>보라매병원(퇴원)</td>\n",
       "    </tr>\n",
       "    <tr>\n",
       "      <th>9912</th>\n",
       "      <td>2020-03-31</td>\n",
       "      <td>양주시</td>\n",
       "      <td>-</td>\n",
       "      <td>확인 중</td>\n",
       "      <td>서울아산병원(퇴원)</td>\n",
       "    </tr>\n",
       "    <tr>\n",
       "      <th>9929</th>\n",
       "      <td>2020-03-31</td>\n",
       "      <td>광진구</td>\n",
       "      <td>영국</td>\n",
       "      <td>해외 접촉 추정</td>\n",
       "      <td>건대병원(퇴원)</td>\n",
       "    </tr>\n",
       "    <tr>\n",
       "      <th>10079</th>\n",
       "      <td>2020-03-30</td>\n",
       "      <td>용산구</td>\n",
       "      <td>영국</td>\n",
       "      <td>해외 접촉 추정</td>\n",
       "      <td>서울의료원(퇴원)</td>\n",
       "    </tr>\n",
       "    <tr>\n",
       "      <th>10081</th>\n",
       "      <td>2020-03-31</td>\n",
       "      <td>관악구</td>\n",
       "      <td>아일랜드</td>\n",
       "      <td>해외 접촉 추정</td>\n",
       "      <td>서남병원(퇴원)</td>\n",
       "    </tr>\n",
       "  </tbody>\n",
       "</table>\n",
       "<p>391 rows × 5 columns</p>\n",
       "</div>"
      ],
      "text/plain": [
       "             확진일   거주지    여행력           접촉력        조치사항\n",
       "환자                                                     \n",
       "3616  2020-03-01   강남구      -  부동산 중개 법인 관련   서울의료원(퇴원)\n",
       "3790  2020-03-01   광진구      -    성동구 아파트 관련   서울의료원(퇴원)\n",
       "3793  2020-03-01   성북구      -    성동구 아파트 관련   서울의료원(퇴원)\n",
       "3815  2020-03-01  영등포구      -    성동구 아파트 관련   서울의료원(퇴원)\n",
       "4224  2020-03-02  영등포구      -    성동구 아파트 관련    서북병원(퇴원)\n",
       "...          ...   ...    ...           ...         ...\n",
       "9886  2020-03-31  영등포구  오스트리아      해외 접촉 추정   보라매병원(퇴원)\n",
       "9912  2020-03-31   양주시      -          확인 중  서울아산병원(퇴원)\n",
       "9929  2020-03-31   광진구     영국      해외 접촉 추정    건대병원(퇴원)\n",
       "10079 2020-03-30   용산구     영국      해외 접촉 추정   서울의료원(퇴원)\n",
       "10081 2020-03-31   관악구   아일랜드      해외 접촉 추정    서남병원(퇴원)\n",
       "\n",
       "[391 rows x 5 columns]"
      ]
     },
     "execution_count": 288,
     "metadata": {},
     "output_type": "execute_result"
    }
   ],
   "source": [
    "# dt.year, dt.month, dt.day, dt.weekday\n",
    "\n",
    "df_covid[df_covid['확진일'].dt.month == 3]"
   ]
  },
  {
   "cell_type": "markdown",
   "id": "8d75f591",
   "metadata": {},
   "source": [
    "\n",
    "## Q1-8\n",
    "주말에 발생한 확진자의 데이타만 출력하여라."
   ]
  },
  {
   "cell_type": "markdown",
   "id": "2f896843",
   "metadata": {},
   "source": [
    "## Q1-9\n",
    "'콜센터'와 관련된 확진자의 데이타를 출력하여라. "
   ]
  },
  {
   "cell_type": "code",
   "execution_count": 289,
   "id": "eeaf7d9a",
   "metadata": {
    "ExecuteTime": {
     "end_time": "2021-11-29T04:24:49.652432Z",
     "start_time": "2021-11-29T04:24:49.639430Z"
    },
    "scrolled": true
   },
   "outputs": [
    {
     "data": {
      "text/plain": [
       "array(['해외 접촉', '#3 접촉', '#5 접촉', '#6 접촉', '#83 접촉', '#29 접촉',\n",
       "       '성동구 아파트 관련', '#30 접촉', '#6 접촉(추정)', '대구 거주자', '#136 접촉', '#56 접촉',\n",
       "       '은평구 병원 관련', '신천지 추정', '타시도 확진자 접촉', '대구 방문', '#780 접촉(추정)', '확인중',\n",
       "       '대구 방문(명성교회)', '해외 접촉 추정', '대구 확진자 접촉', '#794 접촉자', '명성교회 관련',\n",
       "       '신천지대구교회 관련', '서울재생병원 관련', '경찰병원관련', '쇼핑몰 관련', '부동산 중개업 관련',\n",
       "       '#1247 접촉(추정)', '#2621번 접촉', '#794 접촉(추정)', '여의도 건설현장 관련',\n",
       "       '부동산 중개 법인 관련', '동대문구 관련', '#6832 접촉자', '#6937 접촉자', '#935 접촉자',\n",
       "       '#6921접촉자', '대구 거주', '구로구 콜센터 관련', '#6727 첩촉', '콜센터직원 접촉',\n",
       "       '#7280 접촉(추정)', '#7500 접촉(추정)', '#6959 접촉(추정)', '#7573 접축 추정',\n",
       "       '#7923 접촉', '#8044 접촉', '구로구 콜센터 접촉', '#8138 접촉', '#8196 접촉',\n",
       "       '#8271 접촉', '#8486 접촉', '#8245 접촉', '#8063 접촉', '#8881 접촉 추정',\n",
       "       '#8791 접촉', '#8717 접촉', '#8709 접촉 추정', '#8646 접촉', '#8079 접촉',\n",
       "       '#9020 접촉', '구로구 교회 관련', '#8057 접촉', '#9219 접촉', '#7914 접촉',\n",
       "       '#8669 접촉', '#9525 접촉', '#9572 접촉', '#9734 접촉', '#9621 접촉', '확인 중',\n",
       "       '#9946 접촉', '#10084 접촉', '#8601 접촉', '#9287 접촉', '#9912 접촉',\n",
       "       '타시도 확진자 접촉(추정)', '#10115 접촉', '#9765 접촉', '#10044 접촉',\n",
       "       '#10142 접촉', '#10377 접촉', '#9364 접촉', '#10015 접촉', '#10407 접촉',\n",
       "       '#9641 접촉', '#9800 접촉', '#10054 접촉', '이태원 클럽 관련', '삼성서울병원 관련',\n",
       "       '원어성경연구회 관련', '#11196 접촉', '부천시 쿠팡 관련', '강남구 동인교회 관련',\n",
       "       'kb 생명보험 관련', '영등포 학원 관련', '한국대학생선교회 관련', '연아나뉴스클래스 관련',\n",
       "       '서초구 가족관련', '수도권 개척교회 관련', '리치웨이 관련', '서초구 가족 관련', '안양군포 목회자 관련',\n",
       "       '삼성화재 관련', '양천구 운동시설 관련', '용인 형제 관련', '요양시설 관련', '해외접촉 추정',\n",
       "       '대전 꿈꾸는 교회', '타시도 확진자 접촉자', '대자연코리아', '금천구 도정기 회사 관련',\n",
       "       '서초구 확진자 접촉', '은평구 확진자 접촉', '오렌지라이프 관련', '시청역 관련', '대전 다단계 관련',\n",
       "       '의왕 물류센터 관련', '강동구 확진자 접촉', '동작구 확진자 접촉', '구로구 확진자 접촉', '왕성교회 관련',\n",
       "       '관악구 확진자 접촉', '강서구 확진자 접촉', '금천구 확진자 접촉', '강남구 역삼동 모임',\n",
       "       '용산구 확진자 접촉', '영등포구 확진자 접촉'], dtype=object)"
      ]
     },
     "execution_count": 289,
     "metadata": {},
     "output_type": "execute_result"
    }
   ],
   "source": [
    "# 콜센터와 관련된 확진자의 데이타를 출력하여라. \n",
    "# (접촉력 컬럼에 콜센터 글자가 포함된 데이타)\n",
    "df_covid['접촉력'].unique()"
   ]
  },
  {
   "cell_type": "code",
   "execution_count": 290,
   "id": "b4fba183",
   "metadata": {
    "ExecuteTime": {
     "end_time": "2021-11-29T04:24:55.414423Z",
     "start_time": "2021-11-29T04:24:55.393419Z"
    }
   },
   "outputs": [
    {
     "data": {
      "text/plain": [
       "array(['구로구 콜센터 관련', '콜센터직원 접촉', '구로구 콜센터 접촉'], dtype=object)"
      ]
     },
     "execution_count": 290,
     "metadata": {},
     "output_type": "execute_result"
    }
   ],
   "source": [
    "df_covid[df_covid['접촉력'].str.contains('콜센터')]['접촉력'].unique()"
   ]
  },
  {
   "cell_type": "markdown",
   "id": "a928737a",
   "metadata": {},
   "source": [
    "## Q1-10\n",
    "'우한'과 관련된 확진자의 데이타만 출력하여라. "
   ]
  },
  {
   "cell_type": "code",
   "execution_count": 291,
   "id": "fddcf57e",
   "metadata": {
    "ExecuteTime": {
     "end_time": "2021-11-29T04:25:37.666597Z",
     "start_time": "2021-11-29T04:25:37.655594Z"
    }
   },
   "outputs": [
    {
     "data": {
      "text/html": [
       "<div>\n",
       "<style scoped>\n",
       "    .dataframe tbody tr th:only-of-type {\n",
       "        vertical-align: middle;\n",
       "    }\n",
       "\n",
       "    .dataframe tbody tr th {\n",
       "        vertical-align: top;\n",
       "    }\n",
       "\n",
       "    .dataframe thead th {\n",
       "        text-align: right;\n",
       "    }\n",
       "</style>\n",
       "<table border=\"1\" class=\"dataframe\">\n",
       "  <thead>\n",
       "    <tr style=\"text-align: right;\">\n",
       "      <th></th>\n",
       "      <th>확진일</th>\n",
       "      <th>거주지</th>\n",
       "      <th>여행력</th>\n",
       "      <th>접촉력</th>\n",
       "      <th>조치사항</th>\n",
       "    </tr>\n",
       "    <tr>\n",
       "      <th>환자</th>\n",
       "      <th></th>\n",
       "      <th></th>\n",
       "      <th></th>\n",
       "      <th></th>\n",
       "      <th></th>\n",
       "    </tr>\n",
       "  </thead>\n",
       "  <tbody>\n",
       "    <tr>\n",
       "      <th>2</th>\n",
       "      <td>2020-01-24</td>\n",
       "      <td>강서구</td>\n",
       "      <td>중국 우한시</td>\n",
       "      <td>해외 접촉</td>\n",
       "      <td>국립중앙의료원(퇴원)</td>\n",
       "    </tr>\n",
       "    <tr>\n",
       "      <th>5</th>\n",
       "      <td>2020-01-30</td>\n",
       "      <td>중랑구</td>\n",
       "      <td>중국 우한시</td>\n",
       "      <td>해외 접촉</td>\n",
       "      <td>서울의료원(퇴원)</td>\n",
       "    </tr>\n",
       "    <tr>\n",
       "      <th>7</th>\n",
       "      <td>2020-01-30</td>\n",
       "      <td>마포구</td>\n",
       "      <td>중국 우한시</td>\n",
       "      <td>해외 접촉</td>\n",
       "      <td>서울의료원(퇴원)</td>\n",
       "    </tr>\n",
       "    <tr>\n",
       "      <th>13</th>\n",
       "      <td>2020-02-02</td>\n",
       "      <td>인천시</td>\n",
       "      <td>우한 교민</td>\n",
       "      <td>해외 접촉</td>\n",
       "      <td>국립중앙의료원(퇴원)</td>\n",
       "    </tr>\n",
       "    <tr>\n",
       "      <th>23</th>\n",
       "      <td>2020-02-06</td>\n",
       "      <td>서대문구</td>\n",
       "      <td>중국 우한시</td>\n",
       "      <td>해외 접촉</td>\n",
       "      <td>국립중앙의료원(퇴원)</td>\n",
       "    </tr>\n",
       "    <tr>\n",
       "      <th>24</th>\n",
       "      <td>2020-02-07</td>\n",
       "      <td>아산시</td>\n",
       "      <td>우한교민</td>\n",
       "      <td>해외 접촉</td>\n",
       "      <td>국립중앙의료원(퇴원)</td>\n",
       "    </tr>\n",
       "  </tbody>\n",
       "</table>\n",
       "</div>"
      ],
      "text/plain": [
       "          확진일   거주지     여행력    접촉력         조치사항\n",
       "환자                                             \n",
       "2  2020-01-24   강서구  중국 우한시  해외 접촉  국립중앙의료원(퇴원)\n",
       "5  2020-01-30   중랑구  중국 우한시  해외 접촉    서울의료원(퇴원)\n",
       "7  2020-01-30   마포구  중국 우한시  해외 접촉    서울의료원(퇴원)\n",
       "13 2020-02-02   인천시   우한 교민  해외 접촉  국립중앙의료원(퇴원)\n",
       "23 2020-02-06  서대문구  중국 우한시  해외 접촉  국립중앙의료원(퇴원)\n",
       "24 2020-02-07   아산시    우한교민  해외 접촉  국립중앙의료원(퇴원)"
      ]
     },
     "execution_count": 291,
     "metadata": {},
     "output_type": "execute_result"
    }
   ],
   "source": [
    "df_covid[df_covid.여행력.str.contains(\"우한\")]"
   ]
  },
  {
   "cell_type": "markdown",
   "id": "89657dd6",
   "metadata": {},
   "source": [
    "## Q1-11\n",
    "사망자는 모두 몇명인가?"
   ]
  },
  {
   "cell_type": "code",
   "execution_count": 292,
   "id": "3d71cdea",
   "metadata": {
    "ExecuteTime": {
     "end_time": "2021-11-29T04:26:22.551856Z",
     "start_time": "2021-11-29T04:26:22.527855Z"
    }
   },
   "outputs": [
    {
     "data": {
      "text/html": [
       "<div>\n",
       "<style scoped>\n",
       "    .dataframe tbody tr th:only-of-type {\n",
       "        vertical-align: middle;\n",
       "    }\n",
       "\n",
       "    .dataframe tbody tr th {\n",
       "        vertical-align: top;\n",
       "    }\n",
       "\n",
       "    .dataframe thead th {\n",
       "        text-align: right;\n",
       "    }\n",
       "</style>\n",
       "<table border=\"1\" class=\"dataframe\">\n",
       "  <thead>\n",
       "    <tr style=\"text-align: right;\">\n",
       "      <th></th>\n",
       "      <th>확진일</th>\n",
       "      <th>거주지</th>\n",
       "      <th>여행력</th>\n",
       "      <th>접촉력</th>\n",
       "      <th>조치사항</th>\n",
       "    </tr>\n",
       "    <tr>\n",
       "      <th>환자</th>\n",
       "      <th></th>\n",
       "      <th></th>\n",
       "      <th></th>\n",
       "      <th></th>\n",
       "      <th></th>\n",
       "    </tr>\n",
       "  </thead>\n",
       "  <tbody>\n",
       "    <tr>\n",
       "      <th>29</th>\n",
       "      <td>2020-02-16</td>\n",
       "      <td>종로구</td>\n",
       "      <td>-</td>\n",
       "      <td>#83 접촉</td>\n",
       "      <td>서울대학교병원(사망)</td>\n",
       "    </tr>\n",
       "    <tr>\n",
       "      <th>6773</th>\n",
       "      <td>2020-03-07</td>\n",
       "      <td>고양시</td>\n",
       "      <td>-</td>\n",
       "      <td>타시도 확진자 접촉</td>\n",
       "      <td>서울의료원(사망)</td>\n",
       "    </tr>\n",
       "    <tr>\n",
       "      <th>8602</th>\n",
       "      <td>2020-03-19</td>\n",
       "      <td>마포구</td>\n",
       "      <td>-</td>\n",
       "      <td>콜센터직원 접촉</td>\n",
       "      <td>세브란스병원(사망)</td>\n",
       "    </tr>\n",
       "    <tr>\n",
       "      <th>9870</th>\n",
       "      <td>2020-03-31</td>\n",
       "      <td>수원시</td>\n",
       "      <td>-</td>\n",
       "      <td>#9734 접촉</td>\n",
       "      <td>타시도 이관(사망)</td>\n",
       "    </tr>\n",
       "    <tr>\n",
       "      <th>11826</th>\n",
       "      <td>2020-06-08</td>\n",
       "      <td>서대문구</td>\n",
       "      <td>-</td>\n",
       "      <td>확인 중</td>\n",
       "      <td>세브란스병원(사망)</td>\n",
       "    </tr>\n",
       "    <tr>\n",
       "      <th>11984</th>\n",
       "      <td>2020-06-11</td>\n",
       "      <td>도봉구</td>\n",
       "      <td>-</td>\n",
       "      <td>요양시설 관련</td>\n",
       "      <td>서남병원(사망)</td>\n",
       "    </tr>\n",
       "    <tr>\n",
       "      <th>12103</th>\n",
       "      <td>2020-06-14</td>\n",
       "      <td>부천시</td>\n",
       "      <td>-</td>\n",
       "      <td>확인 중</td>\n",
       "      <td>삼육서울병원(사망)</td>\n",
       "    </tr>\n",
       "  </tbody>\n",
       "</table>\n",
       "</div>"
      ],
      "text/plain": [
       "             확진일   거주지 여행력         접촉력         조치사항\n",
       "환자                                                 \n",
       "29    2020-02-16   종로구   -      #83 접촉  서울대학교병원(사망)\n",
       "6773  2020-03-07   고양시   -  타시도 확진자 접촉    서울의료원(사망)\n",
       "8602  2020-03-19   마포구   -    콜센터직원 접촉   세브란스병원(사망)\n",
       "9870  2020-03-31   수원시   -    #9734 접촉   타시도 이관(사망)\n",
       "11826 2020-06-08  서대문구   -        확인 중   세브란스병원(사망)\n",
       "11984 2020-06-11   도봉구   -     요양시설 관련     서남병원(사망)\n",
       "12103 2020-06-14   부천시   -        확인 중   삼육서울병원(사망)"
      ]
     },
     "execution_count": 292,
     "metadata": {},
     "output_type": "execute_result"
    }
   ],
   "source": [
    "df_covid[df_covid.조치사항.str.contains(\"사망\")]"
   ]
  },
  {
   "cell_type": "markdown",
   "id": "3ded19cb",
   "metadata": {},
   "source": [
    "## Q2-1\n",
    "\n",
    "아래의 파일을 이용하여 데이타프레임을 생성하여라.<br>\n",
    "   \n",
    "전국 평균 분양가격.csv \n",
    "\n",
    "\n",
    "```\n"
   ]
  },
  {
   "cell_type": "code",
   "execution_count": 293,
   "id": "b57d8504",
   "metadata": {
    "ExecuteTime": {
     "end_time": "2021-11-29T04:26:47.448492Z",
     "start_time": "2021-11-29T04:26:47.432473Z"
    }
   },
   "outputs": [],
   "source": [
    "df = pd.read_csv('data/전국 평균 분양가격.csv', encoding ='cp949')"
   ]
  },
  {
   "cell_type": "markdown",
   "id": "b053c86c",
   "metadata": {},
   "source": [
    "\n",
    "\n",
    "## Q2-2\n",
    "\n",
    "행과 열을 아래의 명령어를 이용하여 서로 변경하여라.  (df는 데이타프레임명)\n",
    "```\n",
    "df = df.T\n"
   ]
  },
  {
   "cell_type": "code",
   "execution_count": 294,
   "id": "610da61c",
   "metadata": {
    "ExecuteTime": {
     "end_time": "2021-11-29T04:27:01.879107Z",
     "start_time": "2021-11-29T04:27:01.864083Z"
    }
   },
   "outputs": [],
   "source": [
    "df = df.T"
   ]
  },
  {
   "cell_type": "markdown",
   "id": "1f6b0dc8",
   "metadata": {},
   "source": [
    "## Q2-3\n",
    "\n",
    "1행을 삭제하고 2행을 컬럼으로 지정하여라. "
   ]
  },
  {
   "cell_type": "code",
   "execution_count": 295,
   "id": "1f3828d3",
   "metadata": {
    "ExecuteTime": {
     "end_time": "2021-11-29T04:27:20.730957Z",
     "start_time": "2021-11-29T04:27:20.718955Z"
    }
   },
   "outputs": [],
   "source": [
    "# 1행을 컬럼으로 지정하여라 \n",
    "# df[0]\n",
    "df.columns = df.iloc[0]"
   ]
  },
  {
   "cell_type": "code",
   "execution_count": 300,
   "id": "e42270a6",
   "metadata": {
    "ExecuteTime": {
     "end_time": "2021-11-29T04:33:59.755675Z",
     "start_time": "2021-11-29T04:33:59.735679Z"
    }
   },
   "outputs": [
    {
     "data": {
      "text/html": [
       "<div>\n",
       "<style scoped>\n",
       "    .dataframe tbody tr th:only-of-type {\n",
       "        vertical-align: middle;\n",
       "    }\n",
       "\n",
       "    .dataframe tbody tr th {\n",
       "        vertical-align: top;\n",
       "    }\n",
       "\n",
       "    .dataframe thead th {\n",
       "        text-align: right;\n",
       "    }\n",
       "</style>\n",
       "<table border=\"1\" class=\"dataframe\">\n",
       "  <thead>\n",
       "    <tr style=\"text-align: right;\">\n",
       "      <th>지역</th>\n",
       "      <th>서울</th>\n",
       "      <th>부산</th>\n",
       "      <th>대구</th>\n",
       "      <th>인천</th>\n",
       "      <th>광주</th>\n",
       "      <th>대전</th>\n",
       "      <th>울산</th>\n",
       "      <th>경기</th>\n",
       "      <th>세종</th>\n",
       "      <th>강원</th>\n",
       "      <th>충북</th>\n",
       "      <th>충남</th>\n",
       "      <th>전북</th>\n",
       "      <th>전남</th>\n",
       "      <th>경북</th>\n",
       "      <th>경남</th>\n",
       "      <th>제주</th>\n",
       "    </tr>\n",
       "  </thead>\n",
       "  <tbody>\n",
       "    <tr>\n",
       "      <th>2014년1월</th>\n",
       "      <td>17925</td>\n",
       "      <td>8111</td>\n",
       "      <td>8080</td>\n",
       "      <td>10204</td>\n",
       "      <td>7326</td>\n",
       "      <td>8321</td>\n",
       "      <td>8090</td>\n",
       "      <td>10855</td>\n",
       "      <td>7600</td>\n",
       "      <td>6230</td>\n",
       "      <td>6589</td>\n",
       "      <td>6365</td>\n",
       "      <td>6281</td>\n",
       "      <td>5678</td>\n",
       "      <td>6168</td>\n",
       "      <td>6485</td>\n",
       "      <td>7900</td>\n",
       "    </tr>\n",
       "    <tr>\n",
       "      <th>2014년2월</th>\n",
       "      <td>17925</td>\n",
       "      <td>9078</td>\n",
       "      <td>8077</td>\n",
       "      <td>10408</td>\n",
       "      <td>7611</td>\n",
       "      <td>8321</td>\n",
       "      <td>8090</td>\n",
       "      <td>10791</td>\n",
       "      <td>7532</td>\n",
       "      <td>6230</td>\n",
       "      <td>6611</td>\n",
       "      <td>6379</td>\n",
       "      <td>5946</td>\n",
       "      <td>5678</td>\n",
       "      <td>6234</td>\n",
       "      <td>6502</td>\n",
       "      <td>7900</td>\n",
       "    </tr>\n",
       "    <tr>\n",
       "      <th>2014년3월</th>\n",
       "      <td>18016</td>\n",
       "      <td>8965</td>\n",
       "      <td>8101</td>\n",
       "      <td>10408</td>\n",
       "      <td>7346</td>\n",
       "      <td>8341</td>\n",
       "      <td>8153</td>\n",
       "      <td>10784</td>\n",
       "      <td>7814</td>\n",
       "      <td>6141</td>\n",
       "      <td>6625</td>\n",
       "      <td>6287</td>\n",
       "      <td>5966</td>\n",
       "      <td>5696</td>\n",
       "      <td>6317</td>\n",
       "      <td>6610</td>\n",
       "      <td>7900</td>\n",
       "    </tr>\n",
       "    <tr>\n",
       "      <th>2014년4월</th>\n",
       "      <td>18098</td>\n",
       "      <td>9402</td>\n",
       "      <td>8267</td>\n",
       "      <td>10000</td>\n",
       "      <td>7346</td>\n",
       "      <td>8341</td>\n",
       "      <td>8153</td>\n",
       "      <td>10876</td>\n",
       "      <td>7908</td>\n",
       "      <td>6373</td>\n",
       "      <td>6678</td>\n",
       "      <td>6552</td>\n",
       "      <td>6277</td>\n",
       "      <td>5736</td>\n",
       "      <td>6412</td>\n",
       "      <td>6599</td>\n",
       "      <td>7900</td>\n",
       "    </tr>\n",
       "    <tr>\n",
       "      <th>2014년5월</th>\n",
       "      <td>19446</td>\n",
       "      <td>9501</td>\n",
       "      <td>8274</td>\n",
       "      <td>9844</td>\n",
       "      <td>7523</td>\n",
       "      <td>8341</td>\n",
       "      <td>8153</td>\n",
       "      <td>10646</td>\n",
       "      <td>7934</td>\n",
       "      <td>6350</td>\n",
       "      <td>6598</td>\n",
       "      <td>6591</td>\n",
       "      <td>6306</td>\n",
       "      <td>5656</td>\n",
       "      <td>6409</td>\n",
       "      <td>6610</td>\n",
       "      <td>7900</td>\n",
       "    </tr>\n",
       "    <tr>\n",
       "      <th>2014년6월</th>\n",
       "      <td>18867</td>\n",
       "      <td>9453</td>\n",
       "      <td>8360</td>\n",
       "      <td>10058</td>\n",
       "      <td>7659</td>\n",
       "      <td>8333</td>\n",
       "      <td>8153</td>\n",
       "      <td>10266</td>\n",
       "      <td>8067</td>\n",
       "      <td>6350</td>\n",
       "      <td>6587</td>\n",
       "      <td>6644</td>\n",
       "      <td>6351</td>\n",
       "      <td>5609</td>\n",
       "      <td>6554</td>\n",
       "      <td>6615</td>\n",
       "      <td>7914</td>\n",
       "    </tr>\n",
       "    <tr>\n",
       "      <th>2014년7월</th>\n",
       "      <td>18742</td>\n",
       "      <td>9457</td>\n",
       "      <td>8360</td>\n",
       "      <td>9974</td>\n",
       "      <td>7612</td>\n",
       "      <td>8333</td>\n",
       "      <td>8153</td>\n",
       "      <td>10124</td>\n",
       "      <td>8067</td>\n",
       "      <td>6268</td>\n",
       "      <td>6586</td>\n",
       "      <td>6805</td>\n",
       "      <td>6319</td>\n",
       "      <td>5780</td>\n",
       "      <td>6556</td>\n",
       "      <td>6613</td>\n",
       "      <td>7914</td>\n",
       "    </tr>\n",
       "    <tr>\n",
       "      <th>2014년8월</th>\n",
       "      <td>19274</td>\n",
       "      <td>9411</td>\n",
       "      <td>8370</td>\n",
       "      <td>9973</td>\n",
       "      <td>7622</td>\n",
       "      <td>8333</td>\n",
       "      <td>8493</td>\n",
       "      <td>10134</td>\n",
       "      <td>8141</td>\n",
       "      <td>6268</td>\n",
       "      <td>6586</td>\n",
       "      <td>6914</td>\n",
       "      <td>6436</td>\n",
       "      <td>5685</td>\n",
       "      <td>6563</td>\n",
       "      <td>6606</td>\n",
       "      <td>7914</td>\n",
       "    </tr>\n",
       "    <tr>\n",
       "      <th>2014년9월</th>\n",
       "      <td>19404</td>\n",
       "      <td>9258</td>\n",
       "      <td>8449</td>\n",
       "      <td>9973</td>\n",
       "      <td>7802</td>\n",
       "      <td>8048</td>\n",
       "      <td>8493</td>\n",
       "      <td>10501</td>\n",
       "      <td>8282</td>\n",
       "      <td>6419</td>\n",
       "      <td>6584</td>\n",
       "      <td>6882</td>\n",
       "      <td>6719</td>\n",
       "      <td>5804</td>\n",
       "      <td>6577</td>\n",
       "      <td>6767</td>\n",
       "      <td>7833</td>\n",
       "    </tr>\n",
       "    <tr>\n",
       "      <th>2014년10월</th>\n",
       "      <td>19759</td>\n",
       "      <td>9110</td>\n",
       "      <td>8403</td>\n",
       "      <td>10016</td>\n",
       "      <td>7707</td>\n",
       "      <td>8038</td>\n",
       "      <td>8627</td>\n",
       "      <td>10397</td>\n",
       "      <td>8527</td>\n",
       "      <td>6631</td>\n",
       "      <td>6529</td>\n",
       "      <td>6831</td>\n",
       "      <td>6581</td>\n",
       "      <td>5753</td>\n",
       "      <td>6778</td>\n",
       "      <td>6881</td>\n",
       "      <td>7724</td>\n",
       "    </tr>\n",
       "    <tr>\n",
       "      <th>2014년11월</th>\n",
       "      <td>20242</td>\n",
       "      <td>9208</td>\n",
       "      <td>8439</td>\n",
       "      <td>10020</td>\n",
       "      <td>7752</td>\n",
       "      <td>8067</td>\n",
       "      <td>8891</td>\n",
       "      <td>10356</td>\n",
       "      <td>8592</td>\n",
       "      <td>6365</td>\n",
       "      <td>6724</td>\n",
       "      <td>6940</td>\n",
       "      <td>6583</td>\n",
       "      <td>5768</td>\n",
       "      <td>6881</td>\n",
       "      <td>7125</td>\n",
       "      <td>7724</td>\n",
       "    </tr>\n",
       "    <tr>\n",
       "      <th>2014년12월</th>\n",
       "      <td>20269</td>\n",
       "      <td>9208</td>\n",
       "      <td>8253</td>\n",
       "      <td>10020</td>\n",
       "      <td>7748</td>\n",
       "      <td>8067</td>\n",
       "      <td>8891</td>\n",
       "      <td>10379</td>\n",
       "      <td>8560</td>\n",
       "      <td>6365</td>\n",
       "      <td>6743</td>\n",
       "      <td>6989</td>\n",
       "      <td>6583</td>\n",
       "      <td>5784</td>\n",
       "      <td>6989</td>\n",
       "      <td>7332</td>\n",
       "      <td>7739</td>\n",
       "    </tr>\n",
       "    <tr>\n",
       "      <th>2015년1월</th>\n",
       "      <td>20670</td>\n",
       "      <td>9204</td>\n",
       "      <td>8327</td>\n",
       "      <td>10017</td>\n",
       "      <td>7752</td>\n",
       "      <td>8067</td>\n",
       "      <td>8526</td>\n",
       "      <td>10391</td>\n",
       "      <td>8560</td>\n",
       "      <td>6348</td>\n",
       "      <td>6749</td>\n",
       "      <td>6976</td>\n",
       "      <td>6583</td>\n",
       "      <td>5784</td>\n",
       "      <td>6992</td>\n",
       "      <td>7592</td>\n",
       "      <td>7739</td>\n",
       "    </tr>\n",
       "    <tr>\n",
       "      <th>2015년2월</th>\n",
       "      <td>20670</td>\n",
       "      <td>9235</td>\n",
       "      <td>8416</td>\n",
       "      <td>9876</td>\n",
       "      <td>7756</td>\n",
       "      <td>8067</td>\n",
       "      <td>8526</td>\n",
       "      <td>10355</td>\n",
       "      <td>8560</td>\n",
       "      <td>6350</td>\n",
       "      <td>6747</td>\n",
       "      <td>6980</td>\n",
       "      <td>6583</td>\n",
       "      <td>5833</td>\n",
       "      <td>6953</td>\n",
       "      <td>7588</td>\n",
       "      <td>7739</td>\n",
       "    </tr>\n",
       "    <tr>\n",
       "      <th>2015년3월</th>\n",
       "      <td>19415</td>\n",
       "      <td>9279</td>\n",
       "      <td>8441</td>\n",
       "      <td>9876</td>\n",
       "      <td>7861</td>\n",
       "      <td>8067</td>\n",
       "      <td>8629</td>\n",
       "      <td>10469</td>\n",
       "      <td>8555</td>\n",
       "      <td>6182</td>\n",
       "      <td>6783</td>\n",
       "      <td>7161</td>\n",
       "      <td>6542</td>\n",
       "      <td>5825</td>\n",
       "      <td>6997</td>\n",
       "      <td>7668</td>\n",
       "      <td>7826</td>\n",
       "    </tr>\n",
       "    <tr>\n",
       "      <th>2015년4월</th>\n",
       "      <td>18842</td>\n",
       "      <td>9327</td>\n",
       "      <td>8446</td>\n",
       "      <td>9938</td>\n",
       "      <td>7914</td>\n",
       "      <td>8145</td>\n",
       "      <td>9380</td>\n",
       "      <td>10684</td>\n",
       "      <td>8546</td>\n",
       "      <td>6924</td>\n",
       "      <td>6790</td>\n",
       "      <td>7017</td>\n",
       "      <td>6551</td>\n",
       "      <td>5940</td>\n",
       "      <td>7006</td>\n",
       "      <td>7683</td>\n",
       "      <td>7285</td>\n",
       "    </tr>\n",
       "    <tr>\n",
       "      <th>2015년5월</th>\n",
       "      <td>18367</td>\n",
       "      <td>9345</td>\n",
       "      <td>8568</td>\n",
       "      <td>10551</td>\n",
       "      <td>7877</td>\n",
       "      <td>8272</td>\n",
       "      <td>9192</td>\n",
       "      <td>10685</td>\n",
       "      <td>8546</td>\n",
       "      <td>6846</td>\n",
       "      <td>6805</td>\n",
       "      <td>6975</td>\n",
       "      <td>6556</td>\n",
       "      <td>6050</td>\n",
       "      <td>6966</td>\n",
       "      <td>7717</td>\n",
       "      <td>7285</td>\n",
       "    </tr>\n",
       "    <tr>\n",
       "      <th>2015년6월</th>\n",
       "      <td>18374</td>\n",
       "      <td>9515</td>\n",
       "      <td>8542</td>\n",
       "      <td>10443</td>\n",
       "      <td>7881</td>\n",
       "      <td>8079</td>\n",
       "      <td>9190</td>\n",
       "      <td>10573</td>\n",
       "      <td>8671</td>\n",
       "      <td>6986</td>\n",
       "      <td>6682</td>\n",
       "      <td>6939</td>\n",
       "      <td>6601</td>\n",
       "      <td>6243</td>\n",
       "      <td>6887</td>\n",
       "      <td>7715</td>\n",
       "      <td>7343</td>\n",
       "    </tr>\n",
       "    <tr>\n",
       "      <th>2015년7월</th>\n",
       "      <td>18152</td>\n",
       "      <td>9559</td>\n",
       "      <td>8542</td>\n",
       "      <td>10443</td>\n",
       "      <td>8089</td>\n",
       "      <td>8079</td>\n",
       "      <td>9190</td>\n",
       "      <td>10518</td>\n",
       "      <td>8669</td>\n",
       "      <td>7019</td>\n",
       "      <td>6601</td>\n",
       "      <td>6935</td>\n",
       "      <td>6750</td>\n",
       "      <td>6286</td>\n",
       "      <td>7035</td>\n",
       "      <td>7723</td>\n",
       "      <td>7343</td>\n",
       "    </tr>\n",
       "    <tr>\n",
       "      <th>2015년8월</th>\n",
       "      <td>18443</td>\n",
       "      <td>9581</td>\n",
       "      <td>8795</td>\n",
       "      <td>10449</td>\n",
       "      <td>8231</td>\n",
       "      <td>8079</td>\n",
       "      <td>9215</td>\n",
       "      <td>10573</td>\n",
       "      <td>8695</td>\n",
       "      <td>7008</td>\n",
       "      <td>6603</td>\n",
       "      <td>6942</td>\n",
       "      <td>6580</td>\n",
       "      <td>6289</td>\n",
       "      <td>7037</td>\n",
       "      <td>7665</td>\n",
       "      <td>7343</td>\n",
       "    </tr>\n",
       "  </tbody>\n",
       "</table>\n",
       "</div>"
      ],
      "text/plain": [
       "지역           서울    부산    대구     인천    광주    대전    울산     경기    세종    강원    충북  \\\n",
       "2014년1월   17925  8111  8080  10204  7326  8321  8090  10855  7600  6230  6589   \n",
       "2014년2월   17925  9078  8077  10408  7611  8321  8090  10791  7532  6230  6611   \n",
       "2014년3월   18016  8965  8101  10408  7346  8341  8153  10784  7814  6141  6625   \n",
       "2014년4월   18098  9402  8267  10000  7346  8341  8153  10876  7908  6373  6678   \n",
       "2014년5월   19446  9501  8274   9844  7523  8341  8153  10646  7934  6350  6598   \n",
       "2014년6월   18867  9453  8360  10058  7659  8333  8153  10266  8067  6350  6587   \n",
       "2014년7월   18742  9457  8360   9974  7612  8333  8153  10124  8067  6268  6586   \n",
       "2014년8월   19274  9411  8370   9973  7622  8333  8493  10134  8141  6268  6586   \n",
       "2014년9월   19404  9258  8449   9973  7802  8048  8493  10501  8282  6419  6584   \n",
       "2014년10월  19759  9110  8403  10016  7707  8038  8627  10397  8527  6631  6529   \n",
       "2014년11월  20242  9208  8439  10020  7752  8067  8891  10356  8592  6365  6724   \n",
       "2014년12월  20269  9208  8253  10020  7748  8067  8891  10379  8560  6365  6743   \n",
       "2015년1월   20670  9204  8327  10017  7752  8067  8526  10391  8560  6348  6749   \n",
       "2015년2월   20670  9235  8416   9876  7756  8067  8526  10355  8560  6350  6747   \n",
       "2015년3월   19415  9279  8441   9876  7861  8067  8629  10469  8555  6182  6783   \n",
       "2015년4월   18842  9327  8446   9938  7914  8145  9380  10684  8546  6924  6790   \n",
       "2015년5월   18367  9345  8568  10551  7877  8272  9192  10685  8546  6846  6805   \n",
       "2015년6월   18374  9515  8542  10443  7881  8079  9190  10573  8671  6986  6682   \n",
       "2015년7월   18152  9559  8542  10443  8089  8079  9190  10518  8669  7019  6601   \n",
       "2015년8월   18443  9581  8795  10449  8231  8079  9215  10573  8695  7008  6603   \n",
       "\n",
       "지역          충남    전북    전남    경북    경남    제주  \n",
       "2014년1월   6365  6281  5678  6168  6485  7900  \n",
       "2014년2월   6379  5946  5678  6234  6502  7900  \n",
       "2014년3월   6287  5966  5696  6317  6610  7900  \n",
       "2014년4월   6552  6277  5736  6412  6599  7900  \n",
       "2014년5월   6591  6306  5656  6409  6610  7900  \n",
       "2014년6월   6644  6351  5609  6554  6615  7914  \n",
       "2014년7월   6805  6319  5780  6556  6613  7914  \n",
       "2014년8월   6914  6436  5685  6563  6606  7914  \n",
       "2014년9월   6882  6719  5804  6577  6767  7833  \n",
       "2014년10월  6831  6581  5753  6778  6881  7724  \n",
       "2014년11월  6940  6583  5768  6881  7125  7724  \n",
       "2014년12월  6989  6583  5784  6989  7332  7739  \n",
       "2015년1월   6976  6583  5784  6992  7592  7739  \n",
       "2015년2월   6980  6583  5833  6953  7588  7739  \n",
       "2015년3월   7161  6542  5825  6997  7668  7826  \n",
       "2015년4월   7017  6551  5940  7006  7683  7285  \n",
       "2015년5월   6975  6556  6050  6966  7717  7285  \n",
       "2015년6월   6939  6601  6243  6887  7715  7343  \n",
       "2015년7월   6935  6750  6286  7035  7723  7343  \n",
       "2015년8월   6942  6580  6289  7037  7665  7343  "
      ]
     },
     "execution_count": 300,
     "metadata": {},
     "output_type": "execute_result"
    }
   ],
   "source": [
    "df = df.iloc[1:]\n",
    "df"
   ]
  },
  {
   "cell_type": "markdown",
   "id": "a1c58a3d",
   "metadata": {},
   "source": [
    "## Q2-4\n",
    "\n",
    "'지역' 컬럼을 시계열 데이타로 변경하고 인덱스로 설정하여라. \n",
    "\n",
    "### 다시 살펴보기. 추가 복습 "
   ]
  },
  {
   "cell_type": "code",
   "execution_count": 316,
   "id": "8a09e738",
   "metadata": {
    "ExecuteTime": {
     "end_time": "2021-11-29T04:38:34.720699Z",
     "start_time": "2021-11-29T04:38:34.702683Z"
    }
   },
   "outputs": [
    {
     "data": {
      "text/plain": [
       "['2014-1',\n",
       " '2014-2',\n",
       " '2014-3',\n",
       " '2014-4',\n",
       " '2014-5',\n",
       " '2014-6',\n",
       " '2014-7',\n",
       " '2014-8',\n",
       " '2014-9',\n",
       " '2014-10',\n",
       " '2014-11',\n",
       " '2014-12',\n",
       " '2015-1',\n",
       " '2015-2',\n",
       " '2015-3',\n",
       " '2015-4',\n",
       " '2015-5',\n",
       " '2015-6',\n",
       " '2015-7',\n",
       " '2015-8']"
      ]
     },
     "execution_count": 316,
     "metadata": {},
     "output_type": "execute_result"
    }
   ],
   "source": [
    "list(map(lambda x:x.replace('년','-').replace('월',''), df.index))"
   ]
  },
  {
   "cell_type": "code",
   "execution_count": 317,
   "id": "e32ebcf2",
   "metadata": {
    "ExecuteTime": {
     "end_time": "2021-11-29T04:38:35.670854Z",
     "start_time": "2021-11-29T04:38:35.656835Z"
    }
   },
   "outputs": [
    {
     "name": "stdout",
     "output_type": "stream",
     "text": [
      "['2014-1', '2014-2', '2014-3', '2014-4', '2014-5', '2014-6', '2014-7', '2014-8', '2014-9', '2014-10', '2014-11', '2014-12', '2015-1', '2015-2', '2015-3', '2015-4', '2015-5', '2015-6', '2015-7', '2015-8']\n"
     ]
    }
   ],
   "source": [
    "date_result = list(map(lambda x:x.replace('년','-').replace('월',''), df.index))\n",
    "print(date_result)"
   ]
  },
  {
   "cell_type": "code",
   "execution_count": 321,
   "id": "586c91f9",
   "metadata": {
    "ExecuteTime": {
     "end_time": "2021-11-29T04:39:18.804222Z",
     "start_time": "2021-11-29T04:39:18.786127Z"
    },
    "scrolled": true
   },
   "outputs": [],
   "source": [
    "df.index= pd.to_datetime(date_result)"
   ]
  },
  {
   "cell_type": "markdown",
   "id": "3b3090a6",
   "metadata": {},
   "source": [
    "## Q2-5 2015년 6월 이후의 데이타만 출력하여라\n"
   ]
  },
  {
   "cell_type": "code",
   "execution_count": 326,
   "id": "191aa8df",
   "metadata": {
    "ExecuteTime": {
     "end_time": "2021-11-29T04:40:17.605517Z",
     "start_time": "2021-11-29T04:40:17.574515Z"
    },
    "scrolled": true
   },
   "outputs": [
    {
     "data": {
      "text/html": [
       "<div>\n",
       "<style scoped>\n",
       "    .dataframe tbody tr th:only-of-type {\n",
       "        vertical-align: middle;\n",
       "    }\n",
       "\n",
       "    .dataframe tbody tr th {\n",
       "        vertical-align: top;\n",
       "    }\n",
       "\n",
       "    .dataframe thead th {\n",
       "        text-align: right;\n",
       "    }\n",
       "</style>\n",
       "<table border=\"1\" class=\"dataframe\">\n",
       "  <thead>\n",
       "    <tr style=\"text-align: right;\">\n",
       "      <th>지역</th>\n",
       "      <th>서울</th>\n",
       "      <th>부산</th>\n",
       "      <th>대구</th>\n",
       "      <th>인천</th>\n",
       "      <th>광주</th>\n",
       "      <th>대전</th>\n",
       "      <th>울산</th>\n",
       "      <th>경기</th>\n",
       "      <th>세종</th>\n",
       "      <th>강원</th>\n",
       "      <th>충북</th>\n",
       "      <th>충남</th>\n",
       "      <th>전북</th>\n",
       "      <th>전남</th>\n",
       "      <th>경북</th>\n",
       "      <th>경남</th>\n",
       "      <th>제주</th>\n",
       "    </tr>\n",
       "  </thead>\n",
       "  <tbody>\n",
       "    <tr>\n",
       "      <th>2015-06-01</th>\n",
       "      <td>18374</td>\n",
       "      <td>9515</td>\n",
       "      <td>8542</td>\n",
       "      <td>10443</td>\n",
       "      <td>7881</td>\n",
       "      <td>8079</td>\n",
       "      <td>9190</td>\n",
       "      <td>10573</td>\n",
       "      <td>8671</td>\n",
       "      <td>6986</td>\n",
       "      <td>6682</td>\n",
       "      <td>6939</td>\n",
       "      <td>6601</td>\n",
       "      <td>6243</td>\n",
       "      <td>6887</td>\n",
       "      <td>7715</td>\n",
       "      <td>7343</td>\n",
       "    </tr>\n",
       "    <tr>\n",
       "      <th>2015-07-01</th>\n",
       "      <td>18152</td>\n",
       "      <td>9559</td>\n",
       "      <td>8542</td>\n",
       "      <td>10443</td>\n",
       "      <td>8089</td>\n",
       "      <td>8079</td>\n",
       "      <td>9190</td>\n",
       "      <td>10518</td>\n",
       "      <td>8669</td>\n",
       "      <td>7019</td>\n",
       "      <td>6601</td>\n",
       "      <td>6935</td>\n",
       "      <td>6750</td>\n",
       "      <td>6286</td>\n",
       "      <td>7035</td>\n",
       "      <td>7723</td>\n",
       "      <td>7343</td>\n",
       "    </tr>\n",
       "    <tr>\n",
       "      <th>2015-08-01</th>\n",
       "      <td>18443</td>\n",
       "      <td>9581</td>\n",
       "      <td>8795</td>\n",
       "      <td>10449</td>\n",
       "      <td>8231</td>\n",
       "      <td>8079</td>\n",
       "      <td>9215</td>\n",
       "      <td>10573</td>\n",
       "      <td>8695</td>\n",
       "      <td>7008</td>\n",
       "      <td>6603</td>\n",
       "      <td>6942</td>\n",
       "      <td>6580</td>\n",
       "      <td>6289</td>\n",
       "      <td>7037</td>\n",
       "      <td>7665</td>\n",
       "      <td>7343</td>\n",
       "    </tr>\n",
       "  </tbody>\n",
       "</table>\n",
       "</div>"
      ],
      "text/plain": [
       "지역             서울    부산    대구     인천    광주    대전    울산     경기    세종    강원  \\\n",
       "2015-06-01  18374  9515  8542  10443  7881  8079  9190  10573  8671  6986   \n",
       "2015-07-01  18152  9559  8542  10443  8089  8079  9190  10518  8669  7019   \n",
       "2015-08-01  18443  9581  8795  10449  8231  8079  9215  10573  8695  7008   \n",
       "\n",
       "지역            충북    충남    전북    전남    경북    경남    제주  \n",
       "2015-06-01  6682  6939  6601  6243  6887  7715  7343  \n",
       "2015-07-01  6601  6935  6750  6286  7035  7723  7343  \n",
       "2015-08-01  6603  6942  6580  6289  7037  7665  7343  "
      ]
     },
     "execution_count": 326,
     "metadata": {},
     "output_type": "execute_result"
    }
   ],
   "source": [
    "df['2015-06':]"
   ]
  },
  {
   "cell_type": "markdown",
   "id": "529df30b",
   "metadata": {},
   "source": [
    "## Q2-6\n",
    "2014년도의 서울, 인천 경기 컬럼만 출력하여라."
   ]
  },
  {
   "cell_type": "code",
   "execution_count": 331,
   "id": "f10d1ab8",
   "metadata": {
    "ExecuteTime": {
     "end_time": "2021-11-29T04:41:41.745754Z",
     "start_time": "2021-11-29T04:41:41.726750Z"
    }
   },
   "outputs": [
    {
     "data": {
      "text/html": [
       "<div>\n",
       "<style scoped>\n",
       "    .dataframe tbody tr th:only-of-type {\n",
       "        vertical-align: middle;\n",
       "    }\n",
       "\n",
       "    .dataframe tbody tr th {\n",
       "        vertical-align: top;\n",
       "    }\n",
       "\n",
       "    .dataframe thead th {\n",
       "        text-align: right;\n",
       "    }\n",
       "</style>\n",
       "<table border=\"1\" class=\"dataframe\">\n",
       "  <thead>\n",
       "    <tr style=\"text-align: right;\">\n",
       "      <th>지역</th>\n",
       "      <th>서울</th>\n",
       "      <th>인천</th>\n",
       "      <th>경기</th>\n",
       "    </tr>\n",
       "  </thead>\n",
       "  <tbody>\n",
       "    <tr>\n",
       "      <th>2014-01-01</th>\n",
       "      <td>17925</td>\n",
       "      <td>10204</td>\n",
       "      <td>10855</td>\n",
       "    </tr>\n",
       "    <tr>\n",
       "      <th>2014-02-01</th>\n",
       "      <td>17925</td>\n",
       "      <td>10408</td>\n",
       "      <td>10791</td>\n",
       "    </tr>\n",
       "    <tr>\n",
       "      <th>2014-03-01</th>\n",
       "      <td>18016</td>\n",
       "      <td>10408</td>\n",
       "      <td>10784</td>\n",
       "    </tr>\n",
       "    <tr>\n",
       "      <th>2014-04-01</th>\n",
       "      <td>18098</td>\n",
       "      <td>10000</td>\n",
       "      <td>10876</td>\n",
       "    </tr>\n",
       "    <tr>\n",
       "      <th>2014-05-01</th>\n",
       "      <td>19446</td>\n",
       "      <td>9844</td>\n",
       "      <td>10646</td>\n",
       "    </tr>\n",
       "    <tr>\n",
       "      <th>2014-06-01</th>\n",
       "      <td>18867</td>\n",
       "      <td>10058</td>\n",
       "      <td>10266</td>\n",
       "    </tr>\n",
       "    <tr>\n",
       "      <th>2014-07-01</th>\n",
       "      <td>18742</td>\n",
       "      <td>9974</td>\n",
       "      <td>10124</td>\n",
       "    </tr>\n",
       "    <tr>\n",
       "      <th>2014-08-01</th>\n",
       "      <td>19274</td>\n",
       "      <td>9973</td>\n",
       "      <td>10134</td>\n",
       "    </tr>\n",
       "    <tr>\n",
       "      <th>2014-09-01</th>\n",
       "      <td>19404</td>\n",
       "      <td>9973</td>\n",
       "      <td>10501</td>\n",
       "    </tr>\n",
       "    <tr>\n",
       "      <th>2014-10-01</th>\n",
       "      <td>19759</td>\n",
       "      <td>10016</td>\n",
       "      <td>10397</td>\n",
       "    </tr>\n",
       "    <tr>\n",
       "      <th>2014-11-01</th>\n",
       "      <td>20242</td>\n",
       "      <td>10020</td>\n",
       "      <td>10356</td>\n",
       "    </tr>\n",
       "    <tr>\n",
       "      <th>2014-12-01</th>\n",
       "      <td>20269</td>\n",
       "      <td>10020</td>\n",
       "      <td>10379</td>\n",
       "    </tr>\n",
       "  </tbody>\n",
       "</table>\n",
       "</div>"
      ],
      "text/plain": [
       "지역             서울     인천     경기\n",
       "2014-01-01  17925  10204  10855\n",
       "2014-02-01  17925  10408  10791\n",
       "2014-03-01  18016  10408  10784\n",
       "2014-04-01  18098  10000  10876\n",
       "2014-05-01  19446   9844  10646\n",
       "2014-06-01  18867  10058  10266\n",
       "2014-07-01  18742   9974  10124\n",
       "2014-08-01  19274   9973  10134\n",
       "2014-09-01  19404   9973  10501\n",
       "2014-10-01  19759  10016  10397\n",
       "2014-11-01  20242  10020  10356\n",
       "2014-12-01  20269  10020  10379"
      ]
     },
     "execution_count": 331,
     "metadata": {},
     "output_type": "execute_result"
    }
   ],
   "source": [
    "df.loc['2014', [\"서울\", \"인천\", \"경기\"]]"
   ]
  },
  {
   "cell_type": "markdown",
   "id": "f3903091",
   "metadata": {},
   "source": [
    "## Q2-7\n",
    " csv 파일 형태로 현재의 데이타프레임을 저장하여라.\n",
    " output/평균분양가격_서울인천경기.csv"
   ]
  },
  {
   "cell_type": "code",
   "execution_count": null,
   "id": "85d904d8",
   "metadata": {},
   "outputs": [],
   "source": [
    "%%writefile"
   ]
  }
 ],
 "metadata": {
  "hide_input": false,
  "kernelspec": {
   "display_name": "Python 3",
   "language": "python",
   "name": "python3"
  },
  "language_info": {
   "codemirror_mode": {
    "name": "ipython",
    "version": 3
   },
   "file_extension": ".py",
   "mimetype": "text/x-python",
   "name": "python",
   "nbconvert_exporter": "python",
   "pygments_lexer": "ipython3",
   "version": "3.8.8"
  },
  "toc": {
   "base_numbering": 1,
   "nav_menu": {},
   "number_sections": true,
   "sideBar": true,
   "skip_h1_title": false,
   "title_cell": "Table of Contents",
   "title_sidebar": "Contents",
   "toc_cell": false,
   "toc_position": {},
   "toc_section_display": true,
   "toc_window_display": false
  },
  "varInspector": {
   "cols": {
    "lenName": 16,
    "lenType": 16,
    "lenVar": 40
   },
   "kernels_config": {
    "python": {
     "delete_cmd_postfix": "",
     "delete_cmd_prefix": "del ",
     "library": "var_list.py",
     "varRefreshCmd": "print(var_dic_list())"
    },
    "r": {
     "delete_cmd_postfix": ") ",
     "delete_cmd_prefix": "rm(",
     "library": "var_list.r",
     "varRefreshCmd": "cat(var_dic_list()) "
    }
   },
   "types_to_exclude": [
    "module",
    "function",
    "builtin_function_or_method",
    "instance",
    "_Feature"
   ],
   "window_display": false
  }
 },
 "nbformat": 4,
 "nbformat_minor": 5
}
