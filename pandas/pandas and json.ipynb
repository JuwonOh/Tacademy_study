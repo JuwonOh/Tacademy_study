{
 "cells": [
  {
   "cell_type": "code",
   "execution_count": 1,
   "id": "5a2e2ee1",
   "metadata": {
    "ExecuteTime": {
     "end_time": "2021-12-01T01:26:44.726056Z",
     "start_time": "2021-12-01T01:26:44.021799Z"
    }
   },
   "outputs": [],
   "source": [
    "import pandas as pd\n",
    "import numpy as np\n",
    "import os\n",
    "import requests\n",
    "import json"
   ]
  },
  {
   "cell_type": "markdown",
   "id": "0bc763b7",
   "metadata": {},
   "source": [
    "# JSON 이란?\n",
    "```\n",
    "JavaScript Object Notation\n",
    "키와 값으로 구성된 자바스크립트의 데이타 형태\n",
    "파이썬의 JSON 레퍼런스 https://docs.python.org/ko/3/library/json.html\n",
    "\n",
    "    \n",
    "JSON 예시 - 키와 값의 구조\n",
    "{\n",
    "    \"이름\": \"서태웅\",\n",
    "    \"성별\": \"남\",\n",
    "    \"학교\": \"북산 고등학교 1학년 10반 22번\",\n",
    "    \"특기\": \"농구\",\n",
    "    \"포지션\": \"스몰 포워드(SF)\",\n",
    "    \"별명\": \"여우\",\n",
    "    \"체격\": {\"키\": \"187 ㎝\", \"몸무게\": \" 75 ㎏\", \"혈액형\": \" AB형(Rh+)\"},\n",
    "    \"라이벌\": [\"윤대협\", \"정우성\"]\n",
    " }\n",
    " \n",
    " ```"
   ]
  },
  {
   "cell_type": "markdown",
   "id": "26c5cd4b",
   "metadata": {},
   "source": [
    "## json 샘플 사이트 이용하기\n",
    "- http://jsonplaceholder.typicode.com/\n",
    "- url 요청 => json text 데이타 => 리스트 딕셔너리 => 데이타프레임"
   ]
  },
  {
   "cell_type": "code",
   "execution_count": 2,
   "id": "827b93d3",
   "metadata": {
    "ExecuteTime": {
     "end_time": "2021-12-01T01:26:45.948017Z",
     "start_time": "2021-12-01T01:26:44.728036Z"
    }
   },
   "outputs": [
    {
     "name": "stdout",
     "output_type": "stream",
     "text": [
      "<Response [200]>\n",
      "<class 'str'>\n"
     ]
    }
   ],
   "source": [
    "# (1) url 요청 => json_text\n",
    "url = 'http://jsonplaceholder.typicode.com/todos'\n",
    "res = requests.get(url)\n",
    "print(res)\n",
    "json_text = res.text\n",
    "print(type(json_text))\n",
    "# print(json_text)"
   ]
  },
  {
   "cell_type": "code",
   "execution_count": 3,
   "id": "d88da185",
   "metadata": {
    "ExecuteTime": {
     "end_time": "2021-12-01T01:26:45.963020Z",
     "start_time": "2021-12-01T01:26:45.950017Z"
    }
   },
   "outputs": [
    {
     "name": "stdout",
     "output_type": "stream",
     "text": [
      "<class 'list'>\n"
     ]
    }
   ],
   "source": [
    "# 2) json text 데이타 => 리스트 딕셔너리\n",
    "# loads(json형태의텍스트)\n",
    "# 리스트안에 딕셔너리 구조 \n",
    "json_list = json.loads(json_text)\n",
    "print(type(json_list))\n",
    "# json_list"
   ]
  },
  {
   "cell_type": "code",
   "execution_count": 4,
   "id": "c3960e29",
   "metadata": {
    "ExecuteTime": {
     "end_time": "2021-12-01T01:26:45.978044Z",
     "start_time": "2021-12-01T01:26:45.964054Z"
    }
   },
   "outputs": [
    {
     "data": {
      "text/plain": [
       "({'userId': 1, 'id': 1, 'title': 'delectus aut autem', 'completed': False},\n",
       " dict)"
      ]
     },
     "execution_count": 4,
     "metadata": {},
     "output_type": "execute_result"
    }
   ],
   "source": [
    "json_list[0], type(json_list[0])"
   ]
  },
  {
   "cell_type": "code",
   "execution_count": 5,
   "id": "da492331",
   "metadata": {
    "ExecuteTime": {
     "end_time": "2021-12-01T01:26:45.993046Z",
     "start_time": "2021-12-01T01:26:45.980043Z"
    }
   },
   "outputs": [
    {
     "data": {
      "text/plain": [
       "200"
      ]
     },
     "execution_count": 5,
     "metadata": {},
     "output_type": "execute_result"
    }
   ],
   "source": [
    "len(json_list)"
   ]
  },
  {
   "cell_type": "code",
   "execution_count": 6,
   "id": "240d658a",
   "metadata": {
    "ExecuteTime": {
     "end_time": "2021-12-01T01:26:46.008048Z",
     "start_time": "2021-12-01T01:26:45.994048Z"
    }
   },
   "outputs": [
    {
     "data": {
      "text/html": [
       "<div>\n",
       "<style scoped>\n",
       "    .dataframe tbody tr th:only-of-type {\n",
       "        vertical-align: middle;\n",
       "    }\n",
       "\n",
       "    .dataframe tbody tr th {\n",
       "        vertical-align: top;\n",
       "    }\n",
       "\n",
       "    .dataframe thead th {\n",
       "        text-align: right;\n",
       "    }\n",
       "</style>\n",
       "<table border=\"1\" class=\"dataframe\">\n",
       "  <thead>\n",
       "    <tr style=\"text-align: right;\">\n",
       "      <th></th>\n",
       "      <th>userId</th>\n",
       "      <th>id</th>\n",
       "      <th>title</th>\n",
       "      <th>completed</th>\n",
       "    </tr>\n",
       "  </thead>\n",
       "  <tbody>\n",
       "    <tr>\n",
       "      <th>157</th>\n",
       "      <td>8</td>\n",
       "      <td>158</td>\n",
       "      <td>debitis vitae delectus et harum accusamus aut ...</td>\n",
       "      <td>True</td>\n",
       "    </tr>\n",
       "    <tr>\n",
       "      <th>190</th>\n",
       "      <td>10</td>\n",
       "      <td>191</td>\n",
       "      <td>temporibus atque distinctio omnis eius impedit...</td>\n",
       "      <td>True</td>\n",
       "    </tr>\n",
       "    <tr>\n",
       "      <th>160</th>\n",
       "      <td>9</td>\n",
       "      <td>161</td>\n",
       "      <td>ex hic consequuntur earum omnis alias ut occae...</td>\n",
       "      <td>True</td>\n",
       "    </tr>\n",
       "    <tr>\n",
       "      <th>171</th>\n",
       "      <td>9</td>\n",
       "      <td>172</td>\n",
       "      <td>et provident amet rerum consectetur et voluptatum</td>\n",
       "      <td>False</td>\n",
       "    </tr>\n",
       "    <tr>\n",
       "      <th>183</th>\n",
       "      <td>10</td>\n",
       "      <td>184</td>\n",
       "      <td>molestias modi perferendis perspiciatis</td>\n",
       "      <td>False</td>\n",
       "    </tr>\n",
       "  </tbody>\n",
       "</table>\n",
       "</div>"
      ],
      "text/plain": [
       "     userId   id                                              title  completed\n",
       "157       8  158  debitis vitae delectus et harum accusamus aut ...       True\n",
       "190      10  191  temporibus atque distinctio omnis eius impedit...       True\n",
       "160       9  161  ex hic consequuntur earum omnis alias ut occae...       True\n",
       "171       9  172  et provident amet rerum consectetur et voluptatum      False\n",
       "183      10  184            molestias modi perferendis perspiciatis      False"
      ]
     },
     "execution_count": 6,
     "metadata": {},
     "output_type": "execute_result"
    }
   ],
   "source": [
    "# 리스트 딕셔너리 => 데이타프레임\n",
    "df = pd.DataFrame(json_list)\n",
    "df.sample(5)"
   ]
  },
  {
   "cell_type": "markdown",
   "id": "a260b640",
   "metadata": {},
   "source": [
    "# Naver API 검색 서비스 \n",
    "\n",
    "- 네이버 계정 보유 \n",
    "- OPEN API 신청 : 네이버 개발자 센터 \n",
    "```\n",
    "https://developers.naver.com/main/\n",
    "\n",
    "1) 네이버 계정으로 로그인 \n",
    "https://developers.naver.com/main/\n",
    "\n",
    "2) 검색 서비스 API 신청 \n",
    "https://developers.naver.com/products/service-api/search/search.md\n",
    "애플리케이션 등록 (API 이용신청)\n",
    "\n",
    "3) 애플리케이션 등록 \n",
    "- [Application]-[애플리케이션 등록] \n",
    "\n",
    "애플리케이션 이름\n",
    "사용이름은? 검색 \n",
    "환경 => 안드로이드 앱 패키지 이름\n",
    "\n",
    "4) 클라이언트아이디와 클라이언트 시크릿 키 정보 확인 \n",
    "2bPOmVkKFf8eygLmGiMk\n",
    "DllokD9yvw\n",
    "```\n",
    "\n",
    "- 블로그 개발 가이드 \n",
    "- https://developers.naver.com/docs/serviceapi/search/blog/blog.md#%EB%B8%94%EB%A1%9C%EA%B7%B8"
   ]
  },
  {
   "cell_type": "code",
   "execution_count": 8,
   "id": "3c4dfe54",
   "metadata": {
    "ExecuteTime": {
     "end_time": "2021-12-01T01:26:58.018809Z",
     "start_time": "2021-12-01T01:26:57.788620Z"
    }
   },
   "outputs": [],
   "source": [
    "# 네이버 검색 API예제는 블로그를 비롯 전문자료까지 호출방법이 동일하므로 blog검색만 대표로 예제를 올렸습니다.\n",
    "# 네이버 검색 Open API 예제 - 블로그 검색\n",
    "import os\n",
    "import sys\n",
    "import urllib.request\n",
    "\n",
    "# 신청한 아이디와 시크릿으로 변경 \n",
    "# client_id = \"YOUR_CLIENT_ID\"\n",
    "# client_secret = \"YOUR_CLIENT_SECRET\"\n",
    "client_id = \"2bPOmVkKFf8eygLmGiMk\"\n",
    "client_secret = \"DllokD9yvw\"\n",
    "\n",
    "# 요청변수 display \n",
    "# display\tinteger\tN\t10(기본값),100(최대)\t검색 결과 출력 건수 지정\n",
    "# 기본주소?요청변수1=값1&요청변수2=값2 \n",
    "# https://openapi.naver.com/v1/search/blog?display=갯수&query=\n",
    "\n",
    "# 검색할 단어를 입력하면 자동으로 주소 생성 \n",
    "encText = urllib.parse.quote(\"오징어 게임\")\n",
    "# url = \"https://openapi.naver.com/v1/search/blog?query=\" + encText # json 결과\n",
    "url = \"https://openapi.naver.com/v1/search/blog?display=50&query=\" + encText # json 결과\n",
    "# print(url)\n",
    "\n",
    "# xml 용 주소 \n",
    "# url = \"https://openapi.naver.com/v1/search/blog.xml?query=\" + encText # xml 결과\n",
    "\n",
    "request = urllib.request.Request(url)\n",
    "request.add_header(\"X-Naver-Client-Id\",client_id)\n",
    "request.add_header(\"X-Naver-Client-Secret\",client_secret)\n",
    "response = urllib.request.urlopen(request)\n",
    "rescode = response.getcode()\n",
    "\n",
    "# 페이지가 정상적으로 접근되어진다면 저장 그렇지 않으면 에러메세지와 코드 출력 \n",
    "if(rescode==200):\n",
    "    response_body = response.read()\n",
    "#     print(response_body.decode('utf-8'))\n",
    "else:\n",
    "    print(\"Error Code:\" + rescode)"
   ]
  },
  {
   "cell_type": "markdown",
   "id": "51e8ec3e",
   "metadata": {},
   "source": [
    "## json => 리스트 딕셔너리 "
   ]
  },
  {
   "cell_type": "code",
   "execution_count": 9,
   "id": "e43e1fc3",
   "metadata": {
    "ExecuteTime": {
     "end_time": "2021-12-01T01:26:58.183845Z",
     "start_time": "2021-12-01T01:26:58.170844Z"
    }
   },
   "outputs": [
    {
     "data": {
      "text/plain": [
       "bytes"
      ]
     },
     "execution_count": 9,
     "metadata": {},
     "output_type": "execute_result"
    }
   ],
   "source": [
    "type(response_body)"
   ]
  },
  {
   "cell_type": "code",
   "execution_count": 10,
   "id": "eb7d020f",
   "metadata": {
    "ExecuteTime": {
     "end_time": "2021-12-01T01:26:58.288869Z",
     "start_time": "2021-12-01T01:26:58.275866Z"
    }
   },
   "outputs": [
    {
     "name": "stdout",
     "output_type": "stream",
     "text": [
      "<class 'list'>\n"
     ]
    },
    {
     "data": {
      "text/plain": [
       "50"
      ]
     },
     "execution_count": 10,
     "metadata": {},
     "output_type": "execute_result"
    }
   ],
   "source": [
    "# json.loads(response_body) => 딕셔너리 => 리스트 \n",
    "blog_list = json.loads(response_body)['items']\n",
    "print(type(blog_list))\n",
    "len(blog_list)"
   ]
  },
  {
   "cell_type": "code",
   "execution_count": 11,
   "id": "9231335e",
   "metadata": {
    "ExecuteTime": {
     "end_time": "2021-12-01T01:26:58.424083Z",
     "start_time": "2021-12-01T01:26:58.419089Z"
    }
   },
   "outputs": [
    {
     "data": {
      "text/plain": [
       "{'title': '엔젤라 <b>오징어게임</b> 셀프 젤네일 스티커 후기',\n",
       " 'link': 'https://blog.naver.com/a10000du?Redirect=Log&logNo=222556911073',\n",
       " 'description': '타협해본 <b>오징어게임</b> 네일을 소개해보려합니다. 엔젤라 셀프 젤네일 스티커 [ 젤리블리 오징어 네일 ] 28pcs , 알콜패드, 미니파일, 설명서 동봉 2021년 할로윈 한정 에디션으로 나왔다고하는데 제가 직접 해보니... ',\n",
       " 'bloggername': '만두로그',\n",
       " 'bloggerlink': 'https://blog.naver.com/a10000du',\n",
       " 'postdate': '20211102'}"
      ]
     },
     "execution_count": 11,
     "metadata": {},
     "output_type": "execute_result"
    }
   ],
   "source": [
    "blog_list[0]"
   ]
  },
  {
   "cell_type": "code",
   "execution_count": 12,
   "id": "2fdda98f",
   "metadata": {
    "ExecuteTime": {
     "end_time": "2021-12-01T01:26:58.605101Z",
     "start_time": "2021-12-01T01:26:58.583096Z"
    }
   },
   "outputs": [
    {
     "data": {
      "text/html": [
       "<div>\n",
       "<style scoped>\n",
       "    .dataframe tbody tr th:only-of-type {\n",
       "        vertical-align: middle;\n",
       "    }\n",
       "\n",
       "    .dataframe tbody tr th {\n",
       "        vertical-align: top;\n",
       "    }\n",
       "\n",
       "    .dataframe thead th {\n",
       "        text-align: right;\n",
       "    }\n",
       "</style>\n",
       "<table border=\"1\" class=\"dataframe\">\n",
       "  <thead>\n",
       "    <tr style=\"text-align: right;\">\n",
       "      <th></th>\n",
       "      <th>title</th>\n",
       "      <th>link</th>\n",
       "      <th>description</th>\n",
       "      <th>bloggername</th>\n",
       "      <th>bloggerlink</th>\n",
       "      <th>postdate</th>\n",
       "    </tr>\n",
       "  </thead>\n",
       "  <tbody>\n",
       "    <tr>\n",
       "      <th>0</th>\n",
       "      <td>엔젤라 &lt;b&gt;오징어게임&lt;/b&gt; 셀프 젤네일 스티커 후기</td>\n",
       "      <td>https://blog.naver.com/a10000du?Redirect=Log&amp;l...</td>\n",
       "      <td>타협해본 &lt;b&gt;오징어게임&lt;/b&gt; 네일을 소개해보려합니다. 엔젤라 셀프 젤네일 스티커...</td>\n",
       "      <td>만두로그</td>\n",
       "      <td>https://blog.naver.com/a10000du</td>\n",
       "      <td>20211102</td>\n",
       "    </tr>\n",
       "    <tr>\n",
       "      <th>1</th>\n",
       "      <td>[40대삶의지혜]&lt;b&gt;오징어게임&lt;/b&gt;으로 알아 본 사망보험금의 종류</td>\n",
       "      <td>https://blog.naver.com/sybangse?Redirect=Log&amp;l...</td>\n",
       "      <td>하지만 오늘 기사를 보니 10년간 169억회의 유튜브 영상 조회수를 기록했던 왕좌의...</td>\n",
       "      <td>서울휘의 SideProject school</td>\n",
       "      <td>https://blog.naver.com/sybangse</td>\n",
       "      <td>20211126</td>\n",
       "    </tr>\n",
       "    <tr>\n",
       "      <th>2</th>\n",
       "      <td>&lt;b&gt;오징어게임&lt;/b&gt; 달고나만들기 세트 재료 식소다, 만드는방법</td>\n",
       "      <td>https://blog.naver.com/platonlove?Redirect=Log...</td>\n",
       "      <td>모양틀 위에 얹혀서 누르기판으로 살짝만 더 눌러주시면 모양뽑을 때 더 잘되요 ㅎ 모...</td>\n",
       "      <td>퐝언니 일상기록♥</td>\n",
       "      <td>https://blog.naver.com/platonlove</td>\n",
       "      <td>20211201</td>\n",
       "    </tr>\n",
       "  </tbody>\n",
       "</table>\n",
       "</div>"
      ],
      "text/plain": [
       "                                    title  \\\n",
       "0          엔젤라 <b>오징어게임</b> 셀프 젤네일 스티커 후기   \n",
       "1  [40대삶의지혜]<b>오징어게임</b>으로 알아 본 사망보험금의 종류   \n",
       "2    <b>오징어게임</b> 달고나만들기 세트 재료 식소다, 만드는방법   \n",
       "\n",
       "                                                link  \\\n",
       "0  https://blog.naver.com/a10000du?Redirect=Log&l...   \n",
       "1  https://blog.naver.com/sybangse?Redirect=Log&l...   \n",
       "2  https://blog.naver.com/platonlove?Redirect=Log...   \n",
       "\n",
       "                                         description              bloggername  \\\n",
       "0  타협해본 <b>오징어게임</b> 네일을 소개해보려합니다. 엔젤라 셀프 젤네일 스티커...                     만두로그   \n",
       "1  하지만 오늘 기사를 보니 10년간 169억회의 유튜브 영상 조회수를 기록했던 왕좌의...  서울휘의 SideProject school   \n",
       "2  모양틀 위에 얹혀서 누르기판으로 살짝만 더 눌러주시면 모양뽑을 때 더 잘되요 ㅎ 모...                퐝언니 일상기록♥   \n",
       "\n",
       "                         bloggerlink  postdate  \n",
       "0    https://blog.naver.com/a10000du  20211102  \n",
       "1    https://blog.naver.com/sybangse  20211126  \n",
       "2  https://blog.naver.com/platonlove  20211201  "
      ]
     },
     "execution_count": 12,
     "metadata": {},
     "output_type": "execute_result"
    }
   ],
   "source": [
    "# 리스트 딕셔너리 => 데이타프레임 \n",
    "df_blog = pd.DataFrame(blog_list)\n",
    "df_blog.head(3)"
   ]
  },
  {
   "cell_type": "code",
   "execution_count": 13,
   "id": "bec10b74",
   "metadata": {
    "ExecuteTime": {
     "end_time": "2021-12-01T01:26:58.725473Z",
     "start_time": "2021-12-01T01:26:58.716471Z"
    }
   },
   "outputs": [
    {
     "data": {
      "text/plain": [
       "Index(['title', 'link', 'description', 'bloggername', 'bloggerlink',\n",
       "       'postdate'],\n",
       "      dtype='object')"
      ]
     },
     "execution_count": 13,
     "metadata": {},
     "output_type": "execute_result"
    }
   ],
   "source": [
    "df_blog.columns"
   ]
  },
  {
   "cell_type": "code",
   "execution_count": 14,
   "id": "c88a2374",
   "metadata": {
    "ExecuteTime": {
     "end_time": "2021-12-01T01:26:58.890143Z",
     "start_time": "2021-12-01T01:26:58.877149Z"
    }
   },
   "outputs": [
    {
     "data": {
      "text/html": [
       "<div>\n",
       "<style scoped>\n",
       "    .dataframe tbody tr th:only-of-type {\n",
       "        vertical-align: middle;\n",
       "    }\n",
       "\n",
       "    .dataframe tbody tr th {\n",
       "        vertical-align: top;\n",
       "    }\n",
       "\n",
       "    .dataframe thead th {\n",
       "        text-align: right;\n",
       "    }\n",
       "</style>\n",
       "<table border=\"1\" class=\"dataframe\">\n",
       "  <thead>\n",
       "    <tr style=\"text-align: right;\">\n",
       "      <th></th>\n",
       "      <th>title</th>\n",
       "      <th>link</th>\n",
       "      <th>description</th>\n",
       "      <th>postdate</th>\n",
       "    </tr>\n",
       "  </thead>\n",
       "  <tbody>\n",
       "  </tbody>\n",
       "</table>\n",
       "</div>"
      ],
      "text/plain": [
       "Empty DataFrame\n",
       "Columns: [title, link, description, postdate]\n",
       "Index: []"
      ]
     },
     "execution_count": 14,
     "metadata": {},
     "output_type": "execute_result"
    }
   ],
   "source": [
    "# <b>~</b> 태그 없애기 \n",
    "# 리스트 딕셔너리 => 데이타프레임 \n",
    "# 1) 비어있는 데이타 프레임 생성 \n",
    "df_blog2 = pd.DataFrame(columns=['title', 'link', 'description', 'postdate'])\n",
    "df_blog2"
   ]
  },
  {
   "cell_type": "code",
   "execution_count": 15,
   "id": "5d40a2d2",
   "metadata": {
    "ExecuteTime": {
     "end_time": "2021-12-01T01:26:59.176145Z",
     "start_time": "2021-12-01T01:26:59.060096Z"
    }
   },
   "outputs": [],
   "source": [
    "# 행이름 인덱스\n",
    "idx = 1\n",
    "for dict in blog_list:\n",
    "    title = dict['title'].replace('<b>', '').replace('</b>', '')\n",
    "    link = dict['link']\n",
    "    description = dict['description'].replace('<b>', '').replace('</b>', '')\n",
    "    postdate = dict['postdate']\n",
    "    # 한행씩 추가 \n",
    "    df_blog2.loc[idx] = [title, link, description, postdate]\n",
    "    idx += 1"
   ]
  },
  {
   "cell_type": "code",
   "execution_count": 16,
   "id": "5f630e12",
   "metadata": {
    "ExecuteTime": {
     "end_time": "2021-12-01T01:26:59.312106Z",
     "start_time": "2021-12-01T01:26:59.299104Z"
    }
   },
   "outputs": [
    {
     "data": {
      "text/html": [
       "<div>\n",
       "<style scoped>\n",
       "    .dataframe tbody tr th:only-of-type {\n",
       "        vertical-align: middle;\n",
       "    }\n",
       "\n",
       "    .dataframe tbody tr th {\n",
       "        vertical-align: top;\n",
       "    }\n",
       "\n",
       "    .dataframe thead th {\n",
       "        text-align: right;\n",
       "    }\n",
       "</style>\n",
       "<table border=\"1\" class=\"dataframe\">\n",
       "  <thead>\n",
       "    <tr style=\"text-align: right;\">\n",
       "      <th></th>\n",
       "      <th>title</th>\n",
       "      <th>link</th>\n",
       "      <th>description</th>\n",
       "      <th>postdate</th>\n",
       "    </tr>\n",
       "  </thead>\n",
       "  <tbody>\n",
       "    <tr>\n",
       "      <th>21</th>\n",
       "      <td>오징어 게임 놀이 방법</td>\n",
       "      <td>https://blog.naver.com/bulsajo007?Redirect=Log...</td>\n",
       "      <td>즐겼던 오징어 게임인 것이다. &amp;lt;게임 준비&amp;gt; 먼저 서로 비슷한 상대가 되...</td>\n",
       "      <td>20211121</td>\n",
       "    </tr>\n",
       "    <tr>\n",
       "      <th>25</th>\n",
       "      <td>오징어게임 덕분에 달고나 만들기! 방법!</td>\n",
       "      <td>https://blog.naver.com/mayboom?Redirect=Log&amp;lo...</td>\n",
       "      <td>#달고나 #오징어게임 #뽑기 #달고나게임 #달고나만들기 #달고나재료 #원픽 #꿀템 ...</td>\n",
       "      <td>20211127</td>\n",
       "    </tr>\n",
       "    <tr>\n",
       "      <th>6</th>\n",
       "      <td>할로윈데이 사탕 만들기 (feat. 오징어게임)</td>\n",
       "      <td>https://blog.naver.com/wow_press?Redirect=Log&amp;...</td>\n",
       "      <td>아주아주 핫한 오징어게임에서 영감을 얻어 귀염뽀짝하게 한 번 만들어봤습니다! &amp;qu...</td>\n",
       "      <td>20211022</td>\n",
       "    </tr>\n",
       "  </tbody>\n",
       "</table>\n",
       "</div>"
      ],
      "text/plain": [
       "                         title  \\\n",
       "21                오징어 게임 놀이 방법   \n",
       "25      오징어게임 덕분에 달고나 만들기! 방법!   \n",
       "6   할로윈데이 사탕 만들기 (feat. 오징어게임)   \n",
       "\n",
       "                                                 link  \\\n",
       "21  https://blog.naver.com/bulsajo007?Redirect=Log...   \n",
       "25  https://blog.naver.com/mayboom?Redirect=Log&lo...   \n",
       "6   https://blog.naver.com/wow_press?Redirect=Log&...   \n",
       "\n",
       "                                          description  postdate  \n",
       "21  즐겼던 오징어 게임인 것이다. &lt;게임 준비&gt; 먼저 서로 비슷한 상대가 되...  20211121  \n",
       "25  #달고나 #오징어게임 #뽑기 #달고나게임 #달고나만들기 #달고나재료 #원픽 #꿀템 ...  20211127  \n",
       "6   아주아주 핫한 오징어게임에서 영감을 얻어 귀염뽀짝하게 한 번 만들어봤습니다! &qu...  20211022  "
      ]
     },
     "execution_count": 16,
     "metadata": {},
     "output_type": "execute_result"
    }
   ],
   "source": [
    "df_blog2.sample(3)"
   ]
  },
  {
   "cell_type": "code",
   "execution_count": 17,
   "id": "baec853c",
   "metadata": {
    "ExecuteTime": {
     "end_time": "2021-12-01T01:26:59.613050Z",
     "start_time": "2021-12-01T01:26:59.603048Z"
    }
   },
   "outputs": [
    {
     "data": {
      "text/plain": [
       "(50, 4)"
      ]
     },
     "execution_count": 17,
     "metadata": {},
     "output_type": "execute_result"
    }
   ],
   "source": [
    "df_blog2.shape"
   ]
  },
  {
   "cell_type": "code",
   "execution_count": 18,
   "id": "42f99306",
   "metadata": {
    "ExecuteTime": {
     "end_time": "2021-12-01T01:26:59.823278Z",
     "start_time": "2021-12-01T01:26:59.803279Z"
    }
   },
   "outputs": [],
   "source": [
    "df_blog2.to_csv('output/blog_오징어게임.csv')"
   ]
  },
  {
   "cell_type": "markdown",
   "id": "a16e46d9",
   "metadata": {},
   "source": [
    "## 퀴즈  : 네이버 책 검색 API \n",
    "\n",
    "\n",
    "https://developers.naver.com/docs/serviceapi/search/book/book.md#%EC%B1%85\n",
    "\n",
    "- 함수로 정의 \n",
    "- 함수 실행시 검색어(책제목) => ?\n",
    "- 검색어에 대한 검색 결과가 데이타 프레임으로 출력\n",
    "- 검색 결과의 갯수는 임의 지정 \n",
    "\n",
    "```\n",
    "# 함수 호출 \n",
    "book_api()\n",
    "\n",
    "검색어(책제목) => ?\n",
    "\n",
    "```"
   ]
  },
  {
   "cell_type": "code",
   "execution_count": 19,
   "id": "9a7c2fef",
   "metadata": {
    "ExecuteTime": {
     "end_time": "2021-12-01T01:27:00.544230Z",
     "start_time": "2021-12-01T01:27:00.532234Z"
    }
   },
   "outputs": [],
   "source": [
    "def book_api(book_name, max_num):\n",
    "    \n",
    "    encText = urllib.parse.quote(book_name)\n",
    "    sep = round(int(max_num)/50)+1\n",
    "    temp = []\n",
    "    \n",
    "    for a in range(0, sep):\n",
    "        a = a * 50 + 1\n",
    "        url = \"https://openapi.naver.com/v1/search/book.json?start={}&display=50&query=\".format(a) + encText # json 결과\n",
    "    \n",
    "    \n",
    "        request = urllib.request.Request(url)\n",
    "        request.add_header(\"X-Naver-Client-Id\",client_id)\n",
    "        request.add_header(\"X-Naver-Client-Secret\",client_secret)\n",
    "        response = urllib.request.urlopen(request)\n",
    "        rescode = response.getcode()\n",
    "    \n",
    "        # 페이지가 정상적으로 접근되어진다면 저장 그렇지 않으면 에러메세지와 코드 출력 \n",
    "        if(rescode==200):\n",
    "            response_body = response.read()\n",
    "#     print(response_body.decode('utf-8'))\n",
    "        else:\n",
    "            print(\"Error Code:\" + rescode)\n",
    "        \n",
    "        # json.loads(response_body) => 딕셔너리 => 리스트 \n",
    "        book_list = json.loads(response_body)['items']\n",
    "        books = pd.DataFrame(book_list)\n",
    "        temp.append(books)        \n",
    "        \n",
    "    df = pd.concat(temp, axis=0).reset_index(drop=True)\n",
    "    \n",
    "    return df\n",
    "    "
   ]
  },
  {
   "cell_type": "code",
   "execution_count": 20,
   "id": "360d3c6a",
   "metadata": {
    "ExecuteTime": {
     "end_time": "2021-12-01T01:27:01.855171Z",
     "start_time": "2021-12-01T01:27:01.051362Z"
    }
   },
   "outputs": [
    {
     "data": {
      "text/html": [
       "<div>\n",
       "<style scoped>\n",
       "    .dataframe tbody tr th:only-of-type {\n",
       "        vertical-align: middle;\n",
       "    }\n",
       "\n",
       "    .dataframe tbody tr th {\n",
       "        vertical-align: top;\n",
       "    }\n",
       "\n",
       "    .dataframe thead th {\n",
       "        text-align: right;\n",
       "    }\n",
       "</style>\n",
       "<table border=\"1\" class=\"dataframe\">\n",
       "  <thead>\n",
       "    <tr style=\"text-align: right;\">\n",
       "      <th></th>\n",
       "      <th>title</th>\n",
       "      <th>link</th>\n",
       "      <th>image</th>\n",
       "      <th>author</th>\n",
       "      <th>price</th>\n",
       "      <th>discount</th>\n",
       "      <th>publisher</th>\n",
       "      <th>pubdate</th>\n",
       "      <th>isbn</th>\n",
       "      <th>description</th>\n",
       "    </tr>\n",
       "  </thead>\n",
       "  <tbody>\n",
       "    <tr>\n",
       "      <th>0</th>\n",
       "      <td>혼자 공부하는 머신러닝 + &lt;b&gt;딥러닝&lt;/b&gt; (1:1 과외하듯 배우는 인공지능 자습서)</td>\n",
       "      <td>http://book.naver.com/bookdb/book_detail.php?b...</td>\n",
       "      <td>https://bookthumb-phinf.pstatic.net/cover/175/...</td>\n",
       "      <td>박해선</td>\n",
       "      <td>26000</td>\n",
       "      <td>23400</td>\n",
       "      <td>한빛미디어</td>\n",
       "      <td>20201221</td>\n",
       "      <td>116224366X 9791162243664</td>\n",
       "      <td>1:1 과외하듯 배우는 인공지능 자습서이 책은 수식과 이론으로 중무장한 머신러닝, ...</td>\n",
       "    </tr>\n",
       "    <tr>\n",
       "      <th>1</th>\n",
       "      <td>밑바닥부터 시작하는 &lt;b&gt;딥러닝&lt;/b&gt;. 3 (파이썬으로 직접 구현하며 배우는 &lt;b...</td>\n",
       "      <td>http://book.naver.com/bookdb/book_detail.php?b...</td>\n",
       "      <td>https://bookthumb-phinf.pstatic.net/cover/173/...</td>\n",
       "      <td>사이토 고키</td>\n",
       "      <td>38000</td>\n",
       "      <td>34200</td>\n",
       "      <td>한빛미디어</td>\n",
       "      <td>20201110</td>\n",
       "      <td>1162243597 9791162243596</td>\n",
       "      <td>코드 3줄이 &lt;b&gt;딥러닝&lt;/b&gt; 프레임워크가 되는 마법\\n이 책은 ‘밑바닥부터’ 직...</td>\n",
       "    </tr>\n",
       "    <tr>\n",
       "      <th>2</th>\n",
       "      <td>밑바닥부터 시작하는 &lt;b&gt;딥러닝&lt;/b&gt; (파이썬으로 익히는 &lt;b&gt;딥러닝&lt;/b&gt; 이론...</td>\n",
       "      <td>http://book.naver.com/bookdb/book_detail.php?b...</td>\n",
       "      <td>https://bookthumb-phinf.pstatic.net/cover/114/...</td>\n",
       "      <td>사이토 고키</td>\n",
       "      <td>24000</td>\n",
       "      <td>21600</td>\n",
       "      <td>한빛미디어</td>\n",
       "      <td>20170103</td>\n",
       "      <td>8968484635 9788968484636</td>\n",
       "      <td>직접 구현하고 움직여보며 익히는 가장 쉬운 &lt;b&gt;딥러닝&lt;/b&gt; 입문서!『밑바닥부터 ...</td>\n",
       "    </tr>\n",
       "    <tr>\n",
       "      <th>3</th>\n",
       "      <td>밑바닥부터 시작하는 &lt;b&gt;딥러닝&lt;/b&gt; 2 (파이썬으로 직접 구현하며 배우는 순환 ...</td>\n",
       "      <td>http://book.naver.com/bookdb/book_detail.php?b...</td>\n",
       "      <td>https://bookthumb-phinf.pstatic.net/cover/147/...</td>\n",
       "      <td>사이토 고키</td>\n",
       "      <td>29000</td>\n",
       "      <td>26100</td>\n",
       "      <td>한빛미디어</td>\n",
       "      <td>20190501</td>\n",
       "      <td>1162241748 9791162241745</td>\n",
       "      <td>직접 구현하면서 배우는 본격 &lt;b&gt;딥러닝&lt;/b&gt; 입문서\\n이번에는 순환 신경망과 자...</td>\n",
       "    </tr>\n",
       "    <tr>\n",
       "      <th>4</th>\n",
       "      <td>퀀트 투자를 위한 머신러닝·&lt;b&gt;딥러닝&lt;/b&gt; 알고리듬 트레이딩 2/e(개정판) (...</td>\n",
       "      <td>http://book.naver.com/bookdb/book_detail.php?b...</td>\n",
       "      <td>https://bookthumb-phinf.pstatic.net/cover/209/...</td>\n",
       "      <td>스테판 젠슨</td>\n",
       "      <td>50000</td>\n",
       "      <td>45000</td>\n",
       "      <td>에이콘출판</td>\n",
       "      <td>20210930</td>\n",
       "      <td>1161755691 9791161755694</td>\n",
       "      <td>머신러닝과 &lt;b&gt;딥러닝&lt;/b&gt; 기술을 이용해 알고리듬 트레이딩의 아이디어에서 실행까...</td>\n",
       "    </tr>\n",
       "    <tr>\n",
       "      <th>...</th>\n",
       "      <td>...</td>\n",
       "      <td>...</td>\n",
       "      <td>...</td>\n",
       "      <td>...</td>\n",
       "      <td>...</td>\n",
       "      <td>...</td>\n",
       "      <td>...</td>\n",
       "      <td>...</td>\n",
       "      <td>...</td>\n",
       "      <td>...</td>\n",
       "    </tr>\n",
       "    <tr>\n",
       "      <th>145</th>\n",
       "      <td>&lt;b&gt;딥러닝&lt;/b&gt;을 통한 정신의학 분야의 소규모 및 빅데이터 연구</td>\n",
       "      <td>http://book.naver.com/bookdb/book_detail.php?b...</td>\n",
       "      <td>https://bookthumb-phinf.pstatic.net/cover/164/...</td>\n",
       "      <td>Georgia Koppe</td>\n",
       "      <td>30000</td>\n",
       "      <td></td>\n",
       "      <td>아진</td>\n",
       "      <td>20200723</td>\n",
       "      <td>8957616942 9788957616949</td>\n",
       "      <td>기계학습, 특히 심층학습의 현대 알고리즘과 접근방식은 다른 학문에서의 탁월한 예측 ...</td>\n",
       "    </tr>\n",
       "    <tr>\n",
       "      <th>146</th>\n",
       "      <td>케라스로 구현하는 &lt;b&gt;딥러닝&lt;/b&gt;과 강화학습 (신경망 기초부터 CNN, RNN,...</td>\n",
       "      <td>http://book.naver.com/bookdb/book_detail.php?b...</td>\n",
       "      <td>https://bookthumb-phinf.pstatic.net/cover/126/...</td>\n",
       "      <td>안토니오 걸리|수짓 팔</td>\n",
       "      <td>30000</td>\n",
       "      <td></td>\n",
       "      <td>에이콘출판</td>\n",
       "      <td>20171123</td>\n",
       "      <td>1161750746 9791161750743</td>\n",
       "      <td>케라스로 다양한 문제를 해결하면서 케라스와 &lt;b&gt;딥러닝&lt;/b&gt; 기초를 쉽게 배울 수...</td>\n",
       "    </tr>\n",
       "    <tr>\n",
       "      <th>147</th>\n",
       "      <td>&lt;b&gt;딥러닝&lt;/b&gt; : 코로나 -19 바이러스 중환자 조기 진단</td>\n",
       "      <td>http://book.naver.com/bookdb/book_detail.php?b...</td>\n",
       "      <td>https://bookthumb-phinf.pstatic.net/cover/164/...</td>\n",
       "      <td>Wenhua Liang|Jianhua Yao|Ailan Chen</td>\n",
       "      <td>20000</td>\n",
       "      <td></td>\n",
       "      <td>아진</td>\n",
       "      <td>20200722</td>\n",
       "      <td>8957616934 9788957616932</td>\n",
       "      <td>코로나19 바이러스병(COVID-19) 환자가 갑자기 중증질환으로 악화한 것이 주요...</td>\n",
       "    </tr>\n",
       "    <tr>\n",
       "      <th>148</th>\n",
       "      <td>&lt;b&gt;딥러닝&lt;/b&gt; 기반의 건화물선 시황예측 연구</td>\n",
       "      <td>http://book.naver.com/bookdb/book_detail.php?b...</td>\n",
       "      <td>https://bookthumb-phinf.pstatic.net/cover/159/...</td>\n",
       "      <td>윤희성</td>\n",
       "      <td>6000</td>\n",
       "      <td>6000</td>\n",
       "      <td>한국해양수산개발원</td>\n",
       "      <td>20191107</td>\n",
       "      <td>1189964376 9791189964375</td>\n",
       "      <td>▶ 이 책은 한국해양수산개발원의 &lt;b&gt;딥러닝&lt;/b&gt; 기반의 건화물선 시황예측 연구를...</td>\n",
       "    </tr>\n",
       "    <tr>\n",
       "      <th>149</th>\n",
       "      <td>&lt;b&gt;딥러닝&lt;/b&gt; 입문</td>\n",
       "      <td>http://book.naver.com/bookdb/book_detail.php?b...</td>\n",
       "      <td>https://bookthumb-phinf.pstatic.net/cover/151/...</td>\n",
       "      <td>Sandro Skansi</td>\n",
       "      <td>25000</td>\n",
       "      <td>22500</td>\n",
       "      <td>휴먼싸이언스</td>\n",
       "      <td>20190620</td>\n",
       "      <td>1189057123 9791189057121</td>\n",
       "      <td>▶ 이 책은 &lt;b&gt;딥러닝&lt;/b&gt;을 다룬 이론서입니다.</td>\n",
       "    </tr>\n",
       "  </tbody>\n",
       "</table>\n",
       "<p>150 rows × 10 columns</p>\n",
       "</div>"
      ],
      "text/plain": [
       "                                                 title  \\\n",
       "0    혼자 공부하는 머신러닝 + <b>딥러닝</b> (1:1 과외하듯 배우는 인공지능 자습서)   \n",
       "1    밑바닥부터 시작하는 <b>딥러닝</b>. 3 (파이썬으로 직접 구현하며 배우는 <b...   \n",
       "2    밑바닥부터 시작하는 <b>딥러닝</b> (파이썬으로 익히는 <b>딥러닝</b> 이론...   \n",
       "3    밑바닥부터 시작하는 <b>딥러닝</b> 2 (파이썬으로 직접 구현하며 배우는 순환 ...   \n",
       "4    퀀트 투자를 위한 머신러닝·<b>딥러닝</b> 알고리듬 트레이딩 2/e(개정판) (...   \n",
       "..                                                 ...   \n",
       "145              <b>딥러닝</b>을 통한 정신의학 분야의 소규모 및 빅데이터 연구   \n",
       "146  케라스로 구현하는 <b>딥러닝</b>과 강화학습 (신경망 기초부터 CNN, RNN,...   \n",
       "147                <b>딥러닝</b> : 코로나 -19 바이러스 중환자 조기 진단   \n",
       "148                        <b>딥러닝</b> 기반의 건화물선 시황예측 연구   \n",
       "149                                      <b>딥러닝</b> 입문   \n",
       "\n",
       "                                                  link  \\\n",
       "0    http://book.naver.com/bookdb/book_detail.php?b...   \n",
       "1    http://book.naver.com/bookdb/book_detail.php?b...   \n",
       "2    http://book.naver.com/bookdb/book_detail.php?b...   \n",
       "3    http://book.naver.com/bookdb/book_detail.php?b...   \n",
       "4    http://book.naver.com/bookdb/book_detail.php?b...   \n",
       "..                                                 ...   \n",
       "145  http://book.naver.com/bookdb/book_detail.php?b...   \n",
       "146  http://book.naver.com/bookdb/book_detail.php?b...   \n",
       "147  http://book.naver.com/bookdb/book_detail.php?b...   \n",
       "148  http://book.naver.com/bookdb/book_detail.php?b...   \n",
       "149  http://book.naver.com/bookdb/book_detail.php?b...   \n",
       "\n",
       "                                                 image  \\\n",
       "0    https://bookthumb-phinf.pstatic.net/cover/175/...   \n",
       "1    https://bookthumb-phinf.pstatic.net/cover/173/...   \n",
       "2    https://bookthumb-phinf.pstatic.net/cover/114/...   \n",
       "3    https://bookthumb-phinf.pstatic.net/cover/147/...   \n",
       "4    https://bookthumb-phinf.pstatic.net/cover/209/...   \n",
       "..                                                 ...   \n",
       "145  https://bookthumb-phinf.pstatic.net/cover/164/...   \n",
       "146  https://bookthumb-phinf.pstatic.net/cover/126/...   \n",
       "147  https://bookthumb-phinf.pstatic.net/cover/164/...   \n",
       "148  https://bookthumb-phinf.pstatic.net/cover/159/...   \n",
       "149  https://bookthumb-phinf.pstatic.net/cover/151/...   \n",
       "\n",
       "                                  author  price discount  publisher   pubdate  \\\n",
       "0                                    박해선  26000    23400      한빛미디어  20201221   \n",
       "1                                 사이토 고키  38000    34200      한빛미디어  20201110   \n",
       "2                                 사이토 고키  24000    21600      한빛미디어  20170103   \n",
       "3                                 사이토 고키  29000    26100      한빛미디어  20190501   \n",
       "4                                 스테판 젠슨  50000    45000      에이콘출판  20210930   \n",
       "..                                   ...    ...      ...        ...       ...   \n",
       "145                        Georgia Koppe  30000                  아진  20200723   \n",
       "146                         안토니오 걸리|수짓 팔  30000               에이콘출판  20171123   \n",
       "147  Wenhua Liang|Jianhua Yao|Ailan Chen  20000                  아진  20200722   \n",
       "148                                  윤희성   6000     6000  한국해양수산개발원  20191107   \n",
       "149                        Sandro Skansi  25000    22500     휴먼싸이언스  20190620   \n",
       "\n",
       "                         isbn  \\\n",
       "0    116224366X 9791162243664   \n",
       "1    1162243597 9791162243596   \n",
       "2    8968484635 9788968484636   \n",
       "3    1162241748 9791162241745   \n",
       "4    1161755691 9791161755694   \n",
       "..                        ...   \n",
       "145  8957616942 9788957616949   \n",
       "146  1161750746 9791161750743   \n",
       "147  8957616934 9788957616932   \n",
       "148  1189964376 9791189964375   \n",
       "149  1189057123 9791189057121   \n",
       "\n",
       "                                           description  \n",
       "0    1:1 과외하듯 배우는 인공지능 자습서이 책은 수식과 이론으로 중무장한 머신러닝, ...  \n",
       "1    코드 3줄이 <b>딥러닝</b> 프레임워크가 되는 마법\\n이 책은 ‘밑바닥부터’ 직...  \n",
       "2    직접 구현하고 움직여보며 익히는 가장 쉬운 <b>딥러닝</b> 입문서!『밑바닥부터 ...  \n",
       "3    직접 구현하면서 배우는 본격 <b>딥러닝</b> 입문서\\n이번에는 순환 신경망과 자...  \n",
       "4    머신러닝과 <b>딥러닝</b> 기술을 이용해 알고리듬 트레이딩의 아이디어에서 실행까...  \n",
       "..                                                 ...  \n",
       "145  기계학습, 특히 심층학습의 현대 알고리즘과 접근방식은 다른 학문에서의 탁월한 예측 ...  \n",
       "146  케라스로 다양한 문제를 해결하면서 케라스와 <b>딥러닝</b> 기초를 쉽게 배울 수...  \n",
       "147  코로나19 바이러스병(COVID-19) 환자가 갑자기 중증질환으로 악화한 것이 주요...  \n",
       "148  ▶ 이 책은 한국해양수산개발원의 <b>딥러닝</b> 기반의 건화물선 시황예측 연구를...  \n",
       "149                      ▶ 이 책은 <b>딥러닝</b>을 다룬 이론서입니다.  \n",
       "\n",
       "[150 rows x 10 columns]"
      ]
     },
     "execution_count": 20,
     "metadata": {},
     "output_type": "execute_result"
    }
   ],
   "source": [
    "book_api(\"딥러닝\", 100)"
   ]
  },
  {
   "cell_type": "code",
   "execution_count": null,
   "id": "c8be2bec",
   "metadata": {},
   "outputs": [],
   "source": []
  }
 ],
 "metadata": {
  "hide_input": false,
  "kernelspec": {
   "display_name": "Python 3",
   "language": "python",
   "name": "python3"
  },
  "language_info": {
   "codemirror_mode": {
    "name": "ipython",
    "version": 3
   },
   "file_extension": ".py",
   "mimetype": "text/x-python",
   "name": "python",
   "nbconvert_exporter": "python",
   "pygments_lexer": "ipython3",
   "version": "3.8.8"
  },
  "toc": {
   "base_numbering": 1,
   "nav_menu": {},
   "number_sections": true,
   "sideBar": true,
   "skip_h1_title": false,
   "title_cell": "Table of Contents",
   "title_sidebar": "Contents",
   "toc_cell": false,
   "toc_position": {},
   "toc_section_display": true,
   "toc_window_display": false
  },
  "varInspector": {
   "cols": {
    "lenName": 16,
    "lenType": 16,
    "lenVar": 40
   },
   "kernels_config": {
    "python": {
     "delete_cmd_postfix": "",
     "delete_cmd_prefix": "del ",
     "library": "var_list.py",
     "varRefreshCmd": "print(var_dic_list())"
    },
    "r": {
     "delete_cmd_postfix": ") ",
     "delete_cmd_prefix": "rm(",
     "library": "var_list.r",
     "varRefreshCmd": "cat(var_dic_list()) "
    }
   },
   "types_to_exclude": [
    "module",
    "function",
    "builtin_function_or_method",
    "instance",
    "_Feature"
   ],
   "window_display": false
  }
 },
 "nbformat": 4,
 "nbformat_minor": 5
}
