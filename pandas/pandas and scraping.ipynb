{
 "cells": [
  {
   "cell_type": "code",
   "execution_count": 3,
   "id": "82b70e8a",
   "metadata": {
    "ExecuteTime": {
     "end_time": "2021-11-29T08:36:15.157595Z",
     "start_time": "2021-11-29T08:36:15.136591Z"
    }
   },
   "outputs": [
    {
     "data": {
      "text/html": [
       "<style>.container { font-weight: bold !important; }</style>"
      ],
      "text/plain": [
       "<IPython.core.display.HTML object>"
      ]
     },
     "metadata": {},
     "output_type": "display_data"
    },
    {
     "data": {
      "text/html": [
       "<style>.container { width: 100% !important; }</style>"
      ],
      "text/plain": [
       "<IPython.core.display.HTML object>"
      ]
     },
     "metadata": {},
     "output_type": "display_data"
    }
   ],
   "source": [
    "# 쥬피터노트북 셀 스타일 조절 \n",
    "from IPython.core.display import display, HTML\n",
    "display(HTML(\"<style>.container { font-weight: bold !important; }</style>\"))\n",
    "display(HTML(\"<style>.container { width: 100% !important; }</style>\"))\n",
    "\n",
    "# 경고 메세지 숨기기 \n",
    "import warnings\n",
    "warnings.filterwarnings(action='ignore')"
   ]
  },
  {
   "cell_type": "code",
   "execution_count": 4,
   "id": "84fe16c4",
   "metadata": {
    "ExecuteTime": {
     "end_time": "2021-11-29T08:36:15.907797Z",
     "start_time": "2021-11-29T08:36:15.286616Z"
    }
   },
   "outputs": [],
   "source": [
    "import pandas as pd\n",
    "import numpy as np\n",
    "import os\n",
    "import requests\n",
    "from bs4 import BeautifulSoup"
   ]
  },
  {
   "cell_type": "markdown",
   "id": "0f2be848",
   "metadata": {},
   "source": [
    "# 크롤링 해보기\n",
    "\n",
    "## 알렉사 사이트\n",
    "\n",
    "https://www.alexa.com/topsites\n",
    "\n",
    "1) requests 모듈 이용 페이지 요청 => html 페이지를 텍스트로 저장 \n",
    "\n",
    "2) BeautifulSoup 이용 html 페이지(str) => soup 객체\n",
    "\n",
    "3) 필요한 요소만 리스트로 저장 \n",
    "\n",
    "4) 리스트 => 데이타프레임 \n",
    "\n",
    "5) 데이타프레임 => csv 저장 "
   ]
  },
  {
   "cell_type": "code",
   "execution_count": 4,
   "id": "2e065adc",
   "metadata": {
    "ExecuteTime": {
     "end_time": "2021-11-29T04:48:35.913705Z",
     "start_time": "2021-11-29T04:48:34.585273Z"
    }
   },
   "outputs": [
    {
     "name": "stdout",
     "output_type": "stream",
     "text": [
      "<Response [200]>\n",
      "<class 'str'>\n"
     ]
    }
   ],
   "source": [
    "# 1) requests 모듈 페이지 요청 => html 페이지를 텍스트로 저장 \n",
    "url = 'https://www.alexa.com/topsites'\n",
    "res = requests.get(url)\n",
    "# 200 이면 성공 \n",
    "print(res) \n",
    "# html 페이지를 텍스트로 저장 \n",
    "html_str = res.text\n",
    "print(type(html_str))\n",
    "# print(html_str)"
   ]
  },
  {
   "cell_type": "code",
   "execution_count": 5,
   "id": "7167ed12",
   "metadata": {
    "ExecuteTime": {
     "end_time": "2021-11-29T04:48:40.746699Z",
     "start_time": "2021-11-29T04:48:40.705677Z"
    }
   },
   "outputs": [
    {
     "name": "stdout",
     "output_type": "stream",
     "text": [
      "<class 'bs4.BeautifulSoup'>\n",
      "\n"
     ]
    }
   ],
   "source": [
    "# 2) BeautifulSoup() 이용... html 페이지(str) => soup 객체\n",
    "#  BeautifulSoup(html페이지소스, 파서(html.parser/lxml/xml)) ## 다른 parser들도 사용해보기 복습\n",
    "soup = BeautifulSoup(html_str, 'html.parser')\n",
    "print(type(soup))\n",
    "print()\n",
    "# print(soup)"
   ]
  },
  {
   "cell_type": "markdown",
   "id": "10f989ea",
   "metadata": {},
   "source": [
    "### soup 필터링 메서드 \n",
    "\n",
    "- find(태그/클래스/아이디) => 첫번째 요소 \n",
    "- find_all(class_='클래스명') => 전체 요소 클래스 리스트\n",
    "- find_all('태그명', {'class':'클래스명'}) => 전체 태그 요소 리스트\n",
    "\n",
    "- select(css선택자) => 리스트 \n",
    "- select_one(css선택자) => 첫번째 요소 "
   ]
  },
  {
   "cell_type": "code",
   "execution_count": 7,
   "id": "4d355d13",
   "metadata": {
    "ExecuteTime": {
     "end_time": "2021-11-29T04:50:15.856433Z",
     "start_time": "2021-11-29T04:50:15.825425Z"
    }
   },
   "outputs": [
    {
     "name": "stdout",
     "output_type": "stream",
     "text": [
      "[<h1 class=\"hdr title\">\n",
      "<span class=\"page-title-text\">The top 500 sites on the web</span>\n",
      "<span class=\"WhatsThis top\">\n",
      "<i aria-hidden=\"true\" class=\"fa fa-question-circle\"></i>\n",
      "<span class=\"container\">\n",
      "                The sites in the top sites lists are ordered by their 1 month             Alexa traffic rank.<br/><br/>The 1 month rank is calculated using a             combination of average daily visitors and pageviews over the past             month. The site with the highest combination of visitors and             pageviews is ranked #1\n",
      "              </span>\n",
      "</span>\n",
      "</h1>]\n",
      "==================================================\n",
      "[<span class=\"page-title-text\">The top 500 sites on the web</span>]\n",
      "==================================================\n",
      "container_list 전체갯수는? 5\n",
      "<class 'bs4.element.ResultSet'>\n",
      "\n",
      "                The sites in the top sites lists are ordered by their 1 month             Alexa traffic rank.The 1 month rank is calculated using a             combination of average daily visitors and pageviews over the past             month. The site with the highest combination of visitors and             pageviews is ranked #1\n",
      "              \n",
      "\n",
      "Daily Time on SiteEstimated daily time on site (mm:ss) per visitor to the site. Updated daily based on the trailing 3 months.\n",
      "                        \n",
      "\n",
      "Daily Pageviews per VisitorEstimated daily unique pageviews per visitor on the site. Updated daily based on the trailing 3 months.\n",
      "                        \n",
      "\n",
      "% of Traffic From SearchThe percentage of all referrals that came from Search engines over the trailing month. Updated daily.\n",
      "                        \n",
      "\n",
      "Total Sites Linking InThe total number of sites that Alexa found that link to this site. For more information please see this explanation of how Alexa determines the number of sites linking in.\n",
      "                        \n"
     ]
    }
   ],
   "source": [
    "# h1 태그안의 소스 핸들링 - find_all 이용 => 리스트\n",
    "print(soup.find_all('h1')) # h1 태그 소스를 찾아줘 \n",
    "print('='*50)\n",
    "print(soup.find_all(class_='page-title-text')) # class 값이 page-title-text 인 소스를 찾아줘 \n",
    "print('='*50)\n",
    "# class 값이 container 인 소스를 전체를 찾아서 리스트에 저장해줘 \n",
    "# print(soup.find_all(class_='container')) \n",
    "container_list = soup.find_all(class_='container')\n",
    "print('container_list 전체갯수는?', len(container_list))\n",
    "print(type(container_list))\n",
    "# 텍스트만 출력해줘 \n",
    "# 요소.text \n",
    "for item in container_list:\n",
    "    print(item.text)\n"
   ]
  },
  {
   "cell_type": "code",
   "execution_count": 9,
   "id": "1d1dcde9",
   "metadata": {
    "ExecuteTime": {
     "end_time": "2021-11-29T04:50:49.813140Z",
     "start_time": "2021-11-29T04:50:49.793136Z"
    }
   },
   "outputs": [
    {
     "name": "stdout",
     "output_type": "stream",
     "text": [
      "[<h1 class=\"hdr title\">\n",
      "<span class=\"page-title-text\">The top 500 sites on the web</span>\n",
      "<span class=\"WhatsThis top\">\n",
      "<i aria-hidden=\"true\" class=\"fa fa-question-circle\"></i>\n",
      "<span class=\"container\">\n",
      "                The sites in the top sites lists are ordered by their 1 month             Alexa traffic rank.<br/><br/>The 1 month rank is calculated using a             combination of average daily visitors and pageviews over the past             month. The site with the highest combination of visitors and             pageviews is ranked #1\n",
      "              </span>\n",
      "</span>\n",
      "</h1>]\n",
      "==================================================\n",
      "[<span class=\"page-title-text\">The top 500 sites on the web</span>]\n",
      "==================================================\n",
      "container_list 전체갯수는? 5\n",
      "<class 'list'>\n",
      "\n",
      "                The sites in the top sites lists are ordered by their 1 month             Alexa traffic rank.The 1 month rank is calculated using a             combination of average daily visitors and pageviews over the past             month. The site with the highest combination of visitors and             pageviews is ranked #1\n",
      "              \n",
      "\n",
      "Daily Time on SiteEstimated daily time on site (mm:ss) per visitor to the site. Updated daily based on the trailing 3 months.\n",
      "                        \n",
      "\n",
      "Daily Pageviews per VisitorEstimated daily unique pageviews per visitor on the site. Updated daily based on the trailing 3 months.\n",
      "                        \n",
      "\n",
      "% of Traffic From SearchThe percentage of all referrals that came from Search engines over the trailing month. Updated daily.\n",
      "                        \n",
      "\n",
      "Total Sites Linking InThe total number of sites that Alexa found that link to this site. For more information please see this explanation of how Alexa determines the number of sites linking in.\n",
      "                        \n"
     ]
    }
   ],
   "source": [
    "# h1 태그안의 소스 핸들링 - select 이용 => 리스트\n",
    "print(soup.select('h1')) # h1 태그 소스를 찾아줘 \n",
    "print('='*50)\n",
    "print(soup.select('.page-title-text')) # class 값이 page-title-text 인 소스를 찾아줘 \n",
    "print('='*50)\n",
    "# class 값이 container 인 소스를 전체를 찾아서 리스트에 저장해줘 \n",
    "container_list = soup.select('.container')\n",
    "print('container_list 전체갯수는?', len(container_list))\n",
    "print(type(container_list))\n",
    "# 텍스트만 출력해줘 \n",
    "# 요소.text \n",
    "for item in container_list:\n",
    "    print(item.text)"
   ]
  },
  {
   "cell_type": "code",
   "execution_count": 10,
   "id": "ddd2b4f0",
   "metadata": {
    "ExecuteTime": {
     "end_time": "2021-11-29T04:51:27.717348Z",
     "start_time": "2021-11-29T04:51:27.705345Z"
    }
   },
   "outputs": [
    {
     "name": "stdout",
     "output_type": "stream",
     "text": [
      "50\n",
      "==================================================\n",
      "==================================================\n",
      "<div class=\"tr site-listing\">\n",
      "<div class=\"td\">1</div>\n",
      "<div class=\"td DescriptionCell\">\n",
      "<p class=\"\">\n",
      "<a href=\"/siteinfo/google.com\">Google.com</a>\n",
      "</p>\n",
      "</div>\n",
      "<div class=\"td right\"><p>17:23</p></div>\n",
      "<div class=\"td right\"><p>18.41</p></div>\n",
      "<div class=\"td right\"><p>0.20%</p></div>\n",
      "<div class=\"td right\"><p>6,480,338</p></div>\n",
      "</div>\n",
      "==================================================\n",
      "<div class=\"tr site-listing\">\n",
      "<div class=\"td\">50</div>\n",
      "<div class=\"td DescriptionCell\">\n",
      "<p class=\"\">\n",
      "<a href=\"/siteinfo/whatsapp.com\">Whatsapp.com</a>\n",
      "</p>\n",
      "</div>\n",
      "<div class=\"td right\"><p>3:07</p></div>\n",
      "<div class=\"td right\"><p>1.19</p></div>\n",
      "<div class=\"td right\"><p>15.30%</p></div>\n",
      "<div class=\"td right\"><p>659,900</p></div>\n",
      "</div>\n"
     ]
    }
   ],
   "source": [
    "# 3) 필요한 요소만 리스트로 저장 \n",
    "# 필터링 요소 찾기 - 태그 위주 \n",
    "# 클래스값이 'tr site-listing' 인 태그를 모두 찾아서 리스트에 저장해줘 \n",
    "div_list = soup.find_all(class_='tr site-listing')\n",
    "print(len(div_list)) # 전체길이 \n",
    "print('='*50)\n",
    "# print(div_list) # 전체 \n",
    "print('='*50)\n",
    "print(div_list[0]) # 첫번째 소스 확인 \n",
    "print('='*50)\n",
    "print(div_list[-1]) # 마지막 소스 확인 "
   ]
  },
  {
   "cell_type": "code",
   "execution_count": 14,
   "id": "a750ac66",
   "metadata": {
    "ExecuteTime": {
     "end_time": "2021-11-29T04:54:56.383933Z",
     "start_time": "2021-11-29T04:54:56.376932Z"
    }
   },
   "outputs": [
    {
     "name": "stdout",
     "output_type": "stream",
     "text": [
      "1 Google.com /siteinfo/google.com 18.41\n"
     ]
    }
   ],
   "source": [
    "# 첫번째 요소에 필요한 텍스트만 추출 \n",
    "\n",
    "# 첫번째 div 태그안에 텍스트를 찾아서 저장해줘 \n",
    "rank = div_list[0].find('div').text\n",
    "# 첫번째 a 태그안에 텍스트를 찾아서 저장해줘 \n",
    "site_name = div_list[0].find('a').text\n",
    "# 첫번째 a 태그안에 href 속성값을 찾아서 저장해줘 \n",
    "# [속성], get(속성)\n",
    "# site_url = div_list[0].find('a')['href']\n",
    "site_url = div_list[0].find('a').get('href')\n",
    "# 두번째 'td right' 클래스의 텍스트를 찾아서 저장해줘 \n",
    "page_view = div_list[0].find_all(class_='td right')[1].text\n",
    "print(rank, site_name, site_url, page_view)"
   ]
  },
  {
   "cell_type": "code",
   "execution_count": 15,
   "id": "f0e55ea5",
   "metadata": {
    "ExecuteTime": {
     "end_time": "2021-11-29T04:55:04.084500Z",
     "start_time": "2021-11-29T04:55:04.065498Z"
    }
   },
   "outputs": [],
   "source": [
    "# 모든 요소를 찾아서 2차원 리스트에 저장 \n",
    "alexa_list = []\n",
    "for row in div_list:\n",
    "    rank = row.find('div').text\n",
    "    site_name = row.find('a').text\n",
    "    site_url = row.find('a').get('href')\n",
    "    page_view = row.find_all(class_='td right')[1].text\n",
    "    # 1차원 리스트로 생성한 후 다시 리스트에 삽입      \n",
    "    alexa_list.append([rank, site_name, site_url, page_view])"
   ]
  },
  {
   "cell_type": "code",
   "execution_count": 16,
   "id": "cc352f0a",
   "metadata": {
    "ExecuteTime": {
     "end_time": "2021-11-29T04:55:15.515384Z",
     "start_time": "2021-11-29T04:55:15.505389Z"
    }
   },
   "outputs": [
    {
     "data": {
      "text/plain": [
       "[['1', 'Google.com', '/siteinfo/google.com', '18.41'],\n",
       " ['2', 'Youtube.com', '/siteinfo/youtube.com', '10.56'],\n",
       " ['3', 'Tmall.com', '/siteinfo/tmall.com', '3.85'],\n",
       " ['4', 'Facebook.com', '/siteinfo/facebook.com', '8.57'],\n",
       " ['5', 'Qq.com', '/siteinfo/qq.com', '3.90'],\n",
       " ['6', 'Baidu.com', '/siteinfo/baidu.com', '4.97'],\n",
       " ['7', 'Sohu.com', '/siteinfo/sohu.com', '4.57'],\n",
       " ['8', 'Taobao.com', '/siteinfo/taobao.com', '3.50'],\n",
       " ['9', '360.cn', '/siteinfo/360.cn', '4.17'],\n",
       " ['10', 'Jd.com', '/siteinfo/jd.com', '4.37'],\n",
       " ['11', 'Amazon.com', '/siteinfo/amazon.com', '10.02'],\n",
       " ['12', 'Yahoo.com', '/siteinfo/yahoo.com', '4.84'],\n",
       " ['13', 'Wikipedia.org', '/siteinfo/wikipedia.org', '3.06'],\n",
       " ['14', 'Weibo.com', '/siteinfo/weibo.com', '3.36'],\n",
       " ['15', 'Sina.com.cn', '/siteinfo/sina.com.cn', '3.37'],\n",
       " ['16', 'Xinhuanet.com', '/siteinfo/xinhuanet.com', '5.71'],\n",
       " ['17', 'Zoom.us', '/siteinfo/zoom.us', '3.57'],\n",
       " ['18', 'Live.com', '/siteinfo/live.com', '5.61'],\n",
       " ['19', 'Netflix.com', '/siteinfo/netflix.com', '3.60'],\n",
       " ['20', 'Reddit.com', '/siteinfo/reddit.com', '4.60'],\n",
       " ['21', 'Microsoft.com', '/siteinfo/microsoft.com', '3.38'],\n",
       " ['22', 'Instagram.com', '/siteinfo/instagram.com', '11.20'],\n",
       " ['23', 'Office.com', '/siteinfo/office.com', '11.29'],\n",
       " ['24', 'Google.com.hk', '/siteinfo/google.com.hk', '5.87'],\n",
       " ['25', 'Panda.tv', '/siteinfo/panda.tv', '5.36'],\n",
       " ['26', 'Zhanqi.tv', '/siteinfo/zhanqi.tv', '5.34'],\n",
       " ['27', 'Alipay.com', '/siteinfo/alipay.com', '3.35'],\n",
       " ['28', 'Csdn.net', '/siteinfo/csdn.net', '4.86'],\n",
       " ['29', 'Bing.com', '/siteinfo/bing.com', '2.69'],\n",
       " ['30', 'Myshopify.com', '/siteinfo/myshopify.com', '13.07'],\n",
       " ['31', 'Vk.com', '/siteinfo/vk.com', '3.66'],\n",
       " ['32', 'Microsoftonline.com', '/siteinfo/microsoftonline.com', '1.91'],\n",
       " ['33', 'Yahoo.co.jp', '/siteinfo/yahoo.co.jp', '9.02'],\n",
       " ['34', 'Twitter.com', '/siteinfo/twitter.com', '10.40'],\n",
       " ['35', 'Canva.com', '/siteinfo/canva.com', '4.58'],\n",
       " ['36', 'Naver.com', '/siteinfo/naver.com', '13.10'],\n",
       " ['37', 'Bongacams.com', '/siteinfo/bongacams.com', '1.78'],\n",
       " ['38', 'Twitch.tv', '/siteinfo/twitch.tv', '4.20'],\n",
       " ['39', 'Aliexpress.com', '/siteinfo/aliexpress.com', '8.14'],\n",
       " ['40', 'Linkedin.com', '/siteinfo/linkedin.com', '9.23'],\n",
       " ['41', 'Ebay.com', '/siteinfo/ebay.com', '7.79'],\n",
       " ['42', 'Tianya.cn', '/siteinfo/tianya.cn', '5.12'],\n",
       " ['43', 'Force.com', '/siteinfo/force.com', '24.30'],\n",
       " ['44', 'Adobe.com', '/siteinfo/adobe.com', '3.61'],\n",
       " ['45', 'Amazon.in', '/siteinfo/amazon.in', '10.46'],\n",
       " ['46', 'Chaturbate.com', '/siteinfo/chaturbate.com', '8.51'],\n",
       " ['47', 'Huanqiu.com', '/siteinfo/huanqiu.com', '5.15'],\n",
       " ['48', 'Yy.com', '/siteinfo/yy.com', '5.25'],\n",
       " ['49', 'Amazon.co.jp', '/siteinfo/amazon.co.jp', '9.84'],\n",
       " ['50', 'Whatsapp.com', '/siteinfo/whatsapp.com', '1.19']]"
      ]
     },
     "execution_count": 16,
     "metadata": {},
     "output_type": "execute_result"
    }
   ],
   "source": [
    "alexa_list"
   ]
  },
  {
   "cell_type": "code",
   "execution_count": 17,
   "id": "58176c00",
   "metadata": {
    "ExecuteTime": {
     "end_time": "2021-11-29T04:55:35.979227Z",
     "start_time": "2021-11-29T04:55:35.954223Z"
    }
   },
   "outputs": [
    {
     "data": {
      "text/html": [
       "<div>\n",
       "<style scoped>\n",
       "    .dataframe tbody tr th:only-of-type {\n",
       "        vertical-align: middle;\n",
       "    }\n",
       "\n",
       "    .dataframe tbody tr th {\n",
       "        vertical-align: top;\n",
       "    }\n",
       "\n",
       "    .dataframe thead th {\n",
       "        text-align: right;\n",
       "    }\n",
       "</style>\n",
       "<table border=\"1\" class=\"dataframe\">\n",
       "  <thead>\n",
       "    <tr style=\"text-align: right;\">\n",
       "      <th></th>\n",
       "      <th>rank</th>\n",
       "      <th>site_name</th>\n",
       "      <th>site_url</th>\n",
       "      <th>page_view</th>\n",
       "    </tr>\n",
       "  </thead>\n",
       "  <tbody>\n",
       "    <tr>\n",
       "      <th>22</th>\n",
       "      <td>23</td>\n",
       "      <td>Office.com</td>\n",
       "      <td>/siteinfo/office.com</td>\n",
       "      <td>11.29</td>\n",
       "    </tr>\n",
       "    <tr>\n",
       "      <th>16</th>\n",
       "      <td>17</td>\n",
       "      <td>Zoom.us</td>\n",
       "      <td>/siteinfo/zoom.us</td>\n",
       "      <td>3.57</td>\n",
       "    </tr>\n",
       "    <tr>\n",
       "      <th>36</th>\n",
       "      <td>37</td>\n",
       "      <td>Bongacams.com</td>\n",
       "      <td>/siteinfo/bongacams.com</td>\n",
       "      <td>1.78</td>\n",
       "    </tr>\n",
       "    <tr>\n",
       "      <th>23</th>\n",
       "      <td>24</td>\n",
       "      <td>Google.com.hk</td>\n",
       "      <td>/siteinfo/google.com.hk</td>\n",
       "      <td>5.87</td>\n",
       "    </tr>\n",
       "    <tr>\n",
       "      <th>46</th>\n",
       "      <td>47</td>\n",
       "      <td>Huanqiu.com</td>\n",
       "      <td>/siteinfo/huanqiu.com</td>\n",
       "      <td>5.15</td>\n",
       "    </tr>\n",
       "  </tbody>\n",
       "</table>\n",
       "</div>"
      ],
      "text/plain": [
       "   rank      site_name                 site_url page_view\n",
       "22   23     Office.com     /siteinfo/office.com     11.29\n",
       "16   17        Zoom.us        /siteinfo/zoom.us      3.57\n",
       "36   37  Bongacams.com  /siteinfo/bongacams.com      1.78\n",
       "23   24  Google.com.hk  /siteinfo/google.com.hk      5.87\n",
       "46   47    Huanqiu.com    /siteinfo/huanqiu.com      5.15"
      ]
     },
     "execution_count": 17,
     "metadata": {},
     "output_type": "execute_result"
    }
   ],
   "source": [
    "# 4) 리스트 => 데이타프레임 \n",
    "# 5) 데이타프레임 => csv 저장 \n",
    "\n",
    "df_alexa = pd.DataFrame(alexa_list, columns=['rank', 'site_name', 'site_url', 'page_view'])\n",
    "df_alexa.sample(5)"
   ]
  },
  {
   "cell_type": "code",
   "execution_count": 18,
   "id": "89c0b500",
   "metadata": {
    "ExecuteTime": {
     "end_time": "2021-11-29T04:55:43.935577Z",
     "start_time": "2021-11-29T04:55:43.913571Z"
    }
   },
   "outputs": [],
   "source": [
    "df_alexa.to_csv('output/alexa')"
   ]
  },
  {
   "cell_type": "code",
   "execution_count": 19,
   "id": "ccb9394c",
   "metadata": {
    "ExecuteTime": {
     "end_time": "2021-11-29T04:55:48.243719Z",
     "start_time": "2021-11-29T04:55:48.233716Z"
    }
   },
   "outputs": [
    {
     "data": {
      "text/plain": [
       "<div class=\"tr site-listing\">\n",
       "<div class=\"td\">1</div>\n",
       "<div class=\"td DescriptionCell\">\n",
       "<p class=\"\">\n",
       "<a href=\"/siteinfo/google.com\">Google.com</a>\n",
       "</p>\n",
       "</div>\n",
       "<div class=\"td right\"><p>17:23</p></div>\n",
       "<div class=\"td right\"><p>18.41</p></div>\n",
       "<div class=\"td right\"><p>0.20%</p></div>\n",
       "<div class=\"td right\"><p>6,480,338</p></div>\n",
       "</div>"
      ]
     },
     "execution_count": 19,
     "metadata": {},
     "output_type": "execute_result"
    }
   ],
   "source": [
    "div_list[0]"
   ]
  },
  {
   "cell_type": "markdown",
   "id": "b8d7e377",
   "metadata": {},
   "source": [
    "# 네이버 영화 댓글 \n",
    "https://movie.naver.com/movie/point/af/list.naver?st=mcode&sword=13558&target=after&page=1\n",
    "\n",
    "## 한페이지 댓글"
   ]
  },
  {
   "cell_type": "code",
   "execution_count": 29,
   "id": "cfe9fd6b",
   "metadata": {
    "ExecuteTime": {
     "end_time": "2021-11-29T05:10:05.998532Z",
     "start_time": "2021-11-29T05:10:05.850500Z"
    }
   },
   "outputs": [
    {
     "name": "stdout",
     "output_type": "stream",
     "text": [
      "<Response [200]>\n",
      "<class 'str'>\n"
     ]
    }
   ],
   "source": [
    "# 1) requests 모듈 페이지 요청 => html 페이지를 텍스트로 저장 \n",
    "url = 'https://movie.naver.com/movie/point/af/list.naver?st=mcode&sword=13558&target=after&page=1'\n",
    "res = requests.get(url)\n",
    "# 200 이면 성공 \n",
    "print(res) \n",
    "# html 페이지를 텍스트로 저장 \n",
    "html_str = res.text\n",
    "print(type(html_str))\n",
    "# print(html_str)"
   ]
  },
  {
   "cell_type": "code",
   "execution_count": 30,
   "id": "1f395222",
   "metadata": {
    "ExecuteTime": {
     "end_time": "2021-11-29T05:10:06.194012Z",
     "start_time": "2021-11-29T05:10:06.169014Z"
    }
   },
   "outputs": [
    {
     "name": "stdout",
     "output_type": "stream",
     "text": [
      "<class 'bs4.BeautifulSoup'>\n"
     ]
    }
   ],
   "source": [
    "# 2) BeautifulSoup() 이용... html 페이지(str) => soup 객체\n",
    "#  BeautifulSoup(html페이지소스, 파서(html.parser/lxml/xml))\n",
    "soup = BeautifulSoup(html_str, 'html.parser')\n",
    "print(type(soup))\n",
    "# print(soup)"
   ]
  },
  {
   "cell_type": "code",
   "execution_count": 32,
   "id": "a8a92304",
   "metadata": {
    "ExecuteTime": {
     "end_time": "2021-11-29T05:10:57.986609Z",
     "start_time": "2021-11-29T05:10:57.976611Z"
    }
   },
   "outputs": [],
   "source": [
    "# 3) 필요한 요소만 리스트로 저장 \n",
    "# 필터링 요소 찾기 - 태그 위주 \n",
    "\n",
    "# td_list = soup.find_all(class_='title')\n",
    "td_list = soup.select('.title')"
   ]
  },
  {
   "cell_type": "code",
   "execution_count": 37,
   "id": "ab2b966d",
   "metadata": {
    "ExecuteTime": {
     "end_time": "2021-11-29T05:12:55.695846Z",
     "start_time": "2021-11-29T05:12:55.688844Z"
    }
   },
   "outputs": [
    {
     "name": "stdout",
     "output_type": "stream",
     "text": [
      "페이지당 댓글 갯수는? 10\n",
      "상위 첫번째 댓글 소스 확인\n"
     ]
    },
    {
     "data": {
      "text/plain": [
       "<td class=\"title\">\n",
       "<a class=\"movie color_b\" href=\"/movie/bi/mi/basic.naver?code=13558\">키드</a>\n",
       "<div class=\"list_netizen_score\">\n",
       "<span class=\"st_off\"><span class=\"st_on\" style=\"width:100%\">별점 - 총 10점 중</span></span><em>10</em>\n",
       "</div>\n",
       "<br/>짧고 굵게 행복하고 사랑스럽다 \n",
       "\t\t\t\n",
       "\t\t\t\n",
       "\t\t\t\n",
       "\t\t\t\t\n",
       "\t\t\t\t\n",
       "\t\t\t\t\n",
       "\t\t\t\t<a class=\"report\" href=\"#\" onclick=\"report('jsyb****', 'E8ZXRJlHudHV7ZKipWld9joZwhkA1HkxQaxMj11nCSc=', '짧고 굵게 행복하고 사랑스럽다', '17749551', 'point_after');\" style=\"color:#8F8F8F\" title=\"새 창\">신고</a>\n",
       "</td>"
      ]
     },
     "execution_count": 37,
     "metadata": {},
     "output_type": "execute_result"
    }
   ],
   "source": [
    "print('페이지당 댓글 갯수는?', len(td_list))\n",
    "print('상위 첫번째 댓글 소스 확인')\n",
    "td_list[0]"
   ]
  },
  {
   "cell_type": "code",
   "execution_count": 38,
   "id": "83bd0a1e",
   "metadata": {
    "ExecuteTime": {
     "end_time": "2021-11-29T05:17:11.379456Z",
     "start_time": "2021-11-29T05:17:11.369454Z"
    }
   },
   "outputs": [
    {
     "name": "stdout",
     "output_type": "stream",
     "text": [
      "키드 10 짧고 굵게 행복하고 사랑스럽다 https://movie.naver.com/movie/bi/mi/basic.naver?code=13558\n"
     ]
    }
   ],
   "source": [
    "# 첫번째 요소에 필요한 텍스트만 추출 \n",
    "# title = td_list[0].find('a').text\n",
    "title = td_list[0].select_one('a').text # 영화 제목\n",
    "score = td_list[0].select_one('em').text  # 평점 \n",
    "# .next_sibling 요소의 다음 형제 요소 찾기 \n",
    "# br 태그 요소의 다음 요소를 찾아서 공백등 제거 후 저장해줘 \n",
    "review = td_list[0].select_one('br').next_sibling.strip()\n",
    "\n",
    "base_url = 'https://movie.naver.com'\n",
    "link = base_url + td_list[0].select_one('a')['href']\n",
    "print(title, score, review, link)"
   ]
  },
  {
   "cell_type": "code",
   "execution_count": 39,
   "id": "dba063f2",
   "metadata": {
    "ExecuteTime": {
     "end_time": "2021-11-29T05:17:26.844640Z",
     "start_time": "2021-11-29T05:17:26.824636Z"
    }
   },
   "outputs": [
    {
     "data": {
      "text/plain": [
       "('jsyb****', '21.10.20')"
      ]
     },
     "execution_count": 39,
     "metadata": {},
     "output_type": "execute_result"
    }
   ],
   "source": [
    "# 날짜와 작성자 텍스트 추출 \n",
    "a_list = soup.select('.author')\n",
    "len(a_list)\n",
    "a_list[0].text, a_list[0].next_sibling.next_sibling"
   ]
  },
  {
   "cell_type": "code",
   "execution_count": 40,
   "id": "008c236e",
   "metadata": {
    "ExecuteTime": {
     "end_time": "2021-11-29T05:17:33.464456Z",
     "start_time": "2021-11-29T05:17:33.449437Z"
    }
   },
   "outputs": [],
   "source": [
    "# 모든 요소를 찾아서 2차원 리스트에 저장 \n",
    "kid_list = []\n",
    "base_url = 'https://movie.naver.com'\n",
    "\n",
    "for i in range(len(a_list)):\n",
    "    title = td_list[i].select_one('a').text\n",
    "    score = td_list[i].select_one('em').text\n",
    "    review = td_list[i].select_one('br').next_sibling.strip()\n",
    "    link = base_url + td_list[i].select_one('a')['href']\n",
    "    writer = a_list[i].text\n",
    "    date = a_list[i].next_sibling.next_sibling\n",
    "    \n",
    "    # 1차원 리스트로 생성한 후 다시 리스트에 삽입      \n",
    "    kid_list.append([title, score, review, link, writer, date])    "
   ]
  },
  {
   "cell_type": "code",
   "execution_count": 43,
   "id": "9829b0ea",
   "metadata": {
    "ExecuteTime": {
     "end_time": "2021-11-29T05:18:00.118539Z",
     "start_time": "2021-11-29T05:18:00.105536Z"
    },
    "scrolled": true
   },
   "outputs": [
    {
     "data": {
      "text/html": [
       "<div>\n",
       "<style scoped>\n",
       "    .dataframe tbody tr th:only-of-type {\n",
       "        vertical-align: middle;\n",
       "    }\n",
       "\n",
       "    .dataframe tbody tr th {\n",
       "        vertical-align: top;\n",
       "    }\n",
       "\n",
       "    .dataframe thead th {\n",
       "        text-align: right;\n",
       "    }\n",
       "</style>\n",
       "<table border=\"1\" class=\"dataframe\">\n",
       "  <thead>\n",
       "    <tr style=\"text-align: right;\">\n",
       "      <th></th>\n",
       "      <th>title</th>\n",
       "      <th>score</th>\n",
       "      <th>review</th>\n",
       "      <th>link</th>\n",
       "      <th>writer</th>\n",
       "      <th>date</th>\n",
       "    </tr>\n",
       "  </thead>\n",
       "  <tbody>\n",
       "    <tr>\n",
       "      <th>8</th>\n",
       "      <td>키드</td>\n",
       "      <td>10</td>\n",
       "      <td>역시 찰리채플린? 이 영화를 극장에서 볼수 있는것도 넘 감사했어요. 울더가 웃다가 ...</td>\n",
       "      <td>https://movie.naver.com/movie/bi/mi/basic.nave...</td>\n",
       "      <td>gips****</td>\n",
       "      <td>21.02.20</td>\n",
       "    </tr>\n",
       "    <tr>\n",
       "      <th>0</th>\n",
       "      <td>키드</td>\n",
       "      <td>10</td>\n",
       "      <td>짧고 굵게 행복하고 사랑스럽다</td>\n",
       "      <td>https://movie.naver.com/movie/bi/mi/basic.nave...</td>\n",
       "      <td>jsyb****</td>\n",
       "      <td>21.10.20</td>\n",
       "    </tr>\n",
       "  </tbody>\n",
       "</table>\n",
       "</div>"
      ],
      "text/plain": [
       "  title score                                             review  \\\n",
       "8    키드    10  역시 찰리채플린? 이 영화를 극장에서 볼수 있는것도 넘 감사했어요. 울더가 웃다가 ...   \n",
       "0    키드    10                                   짧고 굵게 행복하고 사랑스럽다   \n",
       "\n",
       "                                                link    writer      date  \n",
       "8  https://movie.naver.com/movie/bi/mi/basic.nave...  gips****  21.02.20  \n",
       "0  https://movie.naver.com/movie/bi/mi/basic.nave...  jsyb****  21.10.20  "
      ]
     },
     "execution_count": 43,
     "metadata": {},
     "output_type": "execute_result"
    }
   ],
   "source": [
    "# 4) 2차원 리스트 => 데이타프레임 \n",
    "\n",
    "df_kid = pd.DataFrame(kid_list, columns=['title', 'score', 'review', 'link', 'writer', 'date'])\n",
    "df_kid.sample(2)"
   ]
  },
  {
   "cell_type": "markdown",
   "id": "92b398eb",
   "metadata": {},
   "source": [
    "## 범위를 지정해서 댓글 가져오기 "
   ]
  },
  {
   "cell_type": "code",
   "execution_count": 1,
   "id": "631f2eca",
   "metadata": {
    "ExecuteTime": {
     "end_time": "2021-11-29T08:35:45.596349Z",
     "start_time": "2021-11-29T08:35:45.591350Z"
    }
   },
   "outputs": [
    {
     "name": "stdout",
     "output_type": "stream",
     "text": [
      "https://movie.naver.com/movie/point/af/list.naver?st=mcode&sword=13558&target=after&page=1\n",
      "https://movie.naver.com/movie/point/af/list.naver?st=mcode&sword=13558&target=after&page=2\n",
      "https://movie.naver.com/movie/point/af/list.naver?st=mcode&sword=13558&target=after&page=3\n",
      "https://movie.naver.com/movie/point/af/list.naver?st=mcode&sword=13558&target=after&page=4\n",
      "https://movie.naver.com/movie/point/af/list.naver?st=mcode&sword=13558&target=after&page=5\n",
      "https://movie.naver.com/movie/point/af/list.naver?st=mcode&sword=13558&target=after&page=6\n",
      "https://movie.naver.com/movie/point/af/list.naver?st=mcode&sword=13558&target=after&page=7\n",
      "https://movie.naver.com/movie/point/af/list.naver?st=mcode&sword=13558&target=after&page=8\n",
      "https://movie.naver.com/movie/point/af/list.naver?st=mcode&sword=13558&target=after&page=9\n",
      "https://movie.naver.com/movie/point/af/list.naver?st=mcode&sword=13558&target=after&page=10\n"
     ]
    }
   ],
   "source": [
    "# 각 페이지의 주소 확인 \n",
    "# https://movie.naver.com/movie/point/af/list.naver?st=mcode&sword=13558&target=after&page=페이지번호\n",
    "base_page = 'https://movie.naver.com/movie/point/af/list.naver?st=mcode&sword=13558&target=after&page='\n",
    "for i in range(10):\n",
    "    print(base_page+str(i+1))"
   ]
  },
  {
   "cell_type": "code",
   "execution_count": 5,
   "id": "e826519e",
   "metadata": {
    "ExecuteTime": {
     "end_time": "2021-11-29T08:36:22.731156Z",
     "start_time": "2021-11-29T08:36:21.172473Z"
    }
   },
   "outputs": [
    {
     "name": "stdout",
     "output_type": "stream",
     "text": [
      "<Response [200]> https://movie.naver.com/movie/point/af/list.naver?st=mcode&sword=13558&target=after&page=1\n",
      "<Response [200]> https://movie.naver.com/movie/point/af/list.naver?st=mcode&sword=13558&target=after&page=2\n",
      "<Response [200]> https://movie.naver.com/movie/point/af/list.naver?st=mcode&sword=13558&target=after&page=3\n",
      "<Response [200]> https://movie.naver.com/movie/point/af/list.naver?st=mcode&sword=13558&target=after&page=4\n",
      "<Response [200]> https://movie.naver.com/movie/point/af/list.naver?st=mcode&sword=13558&target=after&page=5\n",
      "<Response [200]> https://movie.naver.com/movie/point/af/list.naver?st=mcode&sword=13558&target=after&page=6\n",
      "<Response [200]> https://movie.naver.com/movie/point/af/list.naver?st=mcode&sword=13558&target=after&page=7\n",
      "<Response [200]> https://movie.naver.com/movie/point/af/list.naver?st=mcode&sword=13558&target=after&page=8\n",
      "<Response [200]> https://movie.naver.com/movie/point/af/list.naver?st=mcode&sword=13558&target=after&page=9\n",
      "<Response [200]> https://movie.naver.com/movie/point/af/list.naver?st=mcode&sword=13558&target=after&page=10\n"
     ]
    }
   ],
   "source": [
    "# 각 페이지의 공통 주소 부분 \n",
    "base_page = 'https://movie.naver.com/movie/point/af/list.naver?st=mcode&sword=13558&target=after&page='\n",
    "kid_list = []\n",
    "base_url = 'https://movie.naver.com'\n",
    "\n",
    "# 10페이지 저장 \n",
    "for i in range(10):\n",
    "    # 실제 페이지 주소 생성 \n",
    "    url = base_page+str(i+1)\n",
    "    res = requests.get(url)\n",
    "    # 200 이면 성공 \n",
    "    print(res, url) \n",
    "    # html 페이지를 텍스트로 저장 \n",
    "    html_str = res.text\n",
    "    \n",
    "    # soup 객체화    \n",
    "    soup = BeautifulSoup(html_str, 'html.parser')\n",
    "    \n",
    "    # 제목, 평점, 리뷰, 링크, 날짜와 작성자 텍스트 추출 \n",
    "    td_list = soup.select('.title')\n",
    "    a_list = soup.select('.author')\n",
    "\n",
    "    # 모든 요소를 찾아서 2차원 리스트에 저장\n",
    "    for j in range(len(a_list)):\n",
    "        title = td_list[j].select_one('a').text\n",
    "        score = td_list[j].select_one('em').text\n",
    "        review = td_list[j].select_one('br').next_sibling.strip()\n",
    "        link = base_url + td_list[j].select_one('a')['href']\n",
    "        writer = a_list[j].text\n",
    "        date = a_list[j].next_sibling.next_sibling\n",
    "\n",
    "        # 1차원 리스트로 생성한 후 다시 리스트에 삽입      \n",
    "        kid_list.append([title, score, review, link, writer, date])    \n",
    "    "
   ]
  },
  {
   "cell_type": "code",
   "execution_count": 6,
   "id": "118a7d97",
   "metadata": {
    "ExecuteTime": {
     "end_time": "2021-11-29T08:36:28.124138Z",
     "start_time": "2021-11-29T08:36:28.105133Z"
    }
   },
   "outputs": [
    {
     "data": {
      "text/plain": [
       "(100, 6)"
      ]
     },
     "execution_count": 6,
     "metadata": {},
     "output_type": "execute_result"
    }
   ],
   "source": [
    "# 2차원 리스트 => 데이타프레임 \n",
    "df_kid2 = pd.DataFrame(kid_list, columns=['title', 'score', 'review', 'link', 'writer', 'date'])\n",
    "df_kid2.shape"
   ]
  },
  {
   "cell_type": "code",
   "execution_count": 7,
   "id": "bf1c537a",
   "metadata": {
    "ExecuteTime": {
     "end_time": "2021-11-29T08:36:32.034147Z",
     "start_time": "2021-11-29T08:36:32.013146Z"
    }
   },
   "outputs": [
    {
     "data": {
      "text/html": [
       "<div>\n",
       "<style scoped>\n",
       "    .dataframe tbody tr th:only-of-type {\n",
       "        vertical-align: middle;\n",
       "    }\n",
       "\n",
       "    .dataframe tbody tr th {\n",
       "        vertical-align: top;\n",
       "    }\n",
       "\n",
       "    .dataframe thead th {\n",
       "        text-align: right;\n",
       "    }\n",
       "</style>\n",
       "<table border=\"1\" class=\"dataframe\">\n",
       "  <thead>\n",
       "    <tr style=\"text-align: right;\">\n",
       "      <th></th>\n",
       "      <th>title</th>\n",
       "      <th>score</th>\n",
       "      <th>review</th>\n",
       "      <th>link</th>\n",
       "      <th>writer</th>\n",
       "      <th>date</th>\n",
       "    </tr>\n",
       "  </thead>\n",
       "  <tbody>\n",
       "    <tr>\n",
       "      <th>0</th>\n",
       "      <td>키드</td>\n",
       "      <td>10</td>\n",
       "      <td>짧고 굵게 행복하고 사랑스럽다</td>\n",
       "      <td>https://movie.naver.com/movie/bi/mi/basic.nave...</td>\n",
       "      <td>jsyb****</td>\n",
       "      <td>21.10.20</td>\n",
       "    </tr>\n",
       "    <tr>\n",
       "      <th>1</th>\n",
       "      <td>키드</td>\n",
       "      <td>8</td>\n",
       "      <td>(레미제라블의 장발장과 코제트간 관계가 다소간 롤리타적 색채를 띠는 걸 감안함)어쩌...</td>\n",
       "      <td>https://movie.naver.com/movie/bi/mi/basic.nave...</td>\n",
       "      <td>gold****</td>\n",
       "      <td>21.09.04</td>\n",
       "    </tr>\n",
       "    <tr>\n",
       "      <th>2</th>\n",
       "      <td>키드</td>\n",
       "      <td>10</td>\n",
       "      <td>과연 채플린의 영화이다! 이 참담한 포스트 코로나 시대에도 우리에게 웃음과 감동을 ...</td>\n",
       "      <td>https://movie.naver.com/movie/bi/mi/basic.nave...</td>\n",
       "      <td>rjkw****</td>\n",
       "      <td>21.03.23</td>\n",
       "    </tr>\n",
       "    <tr>\n",
       "      <th>3</th>\n",
       "      <td>키드</td>\n",
       "      <td>10</td>\n",
       "      <td>생에 첫 무성영화대사 없이 영상과 음악 만으로도 충분한 감동과 해학이 담겨 있다.찰...</td>\n",
       "      <td>https://movie.naver.com/movie/bi/mi/basic.nave...</td>\n",
       "      <td>npr3****</td>\n",
       "      <td>21.03.20</td>\n",
       "    </tr>\n",
       "    <tr>\n",
       "      <th>4</th>\n",
       "      <td>키드</td>\n",
       "      <td>8</td>\n",
       "      <td>이탈리아 은행에서 50만불을 빌려 만든 휴머니스트 찰리 채플린의 장편 감독 데뷔작....</td>\n",
       "      <td>https://movie.naver.com/movie/bi/mi/basic.nave...</td>\n",
       "      <td>tear****</td>\n",
       "      <td>21.03.06</td>\n",
       "    </tr>\n",
       "    <tr>\n",
       "      <th>5</th>\n",
       "      <td>키드</td>\n",
       "      <td>10</td>\n",
       "      <td>1921년도에 만들어졌다니 놀랍습니다!흑백영화는 처음보는데</td>\n",
       "      <td>https://movie.naver.com/movie/bi/mi/basic.nave...</td>\n",
       "      <td>yeyo****</td>\n",
       "      <td>21.03.01</td>\n",
       "    </tr>\n",
       "    <tr>\n",
       "      <th>6</th>\n",
       "      <td>키드</td>\n",
       "      <td>8</td>\n",
       "      <td>긴 세월 동안 빛이 바랬을지 몰라도 그 순수함과 따뜻함만은 100년을 뛰어넘는다.</td>\n",
       "      <td>https://movie.naver.com/movie/bi/mi/basic.nave...</td>\n",
       "      <td>hyun****</td>\n",
       "      <td>21.02.25</td>\n",
       "    </tr>\n",
       "    <tr>\n",
       "      <th>7</th>\n",
       "      <td>키드</td>\n",
       "      <td>10</td>\n",
       "      <td>채플린만의 감동 연출법이 빛나는 영화. 진정한 휴머니스트. 희극의 천재.</td>\n",
       "      <td>https://movie.naver.com/movie/bi/mi/basic.nave...</td>\n",
       "      <td>got_****</td>\n",
       "      <td>21.02.23</td>\n",
       "    </tr>\n",
       "    <tr>\n",
       "      <th>8</th>\n",
       "      <td>키드</td>\n",
       "      <td>10</td>\n",
       "      <td>역시 찰리채플린? 이 영화를 극장에서 볼수 있는것도 넘 감사했어요. 울더가 웃다가 ...</td>\n",
       "      <td>https://movie.naver.com/movie/bi/mi/basic.nave...</td>\n",
       "      <td>gips****</td>\n",
       "      <td>21.02.20</td>\n",
       "    </tr>\n",
       "    <tr>\n",
       "      <th>9</th>\n",
       "      <td>키드</td>\n",
       "      <td>9</td>\n",
       "      <td>찰리채플린 특유의 디테일과 티키타카 무엇보다 아이의 연기력 탑 ^^찰리채플린 영화라...</td>\n",
       "      <td>https://movie.naver.com/movie/bi/mi/basic.nave...</td>\n",
       "      <td>libe****</td>\n",
       "      <td>21.02.14</td>\n",
       "    </tr>\n",
       "  </tbody>\n",
       "</table>\n",
       "</div>"
      ],
      "text/plain": [
       "  title score                                             review  \\\n",
       "0    키드    10                                   짧고 굵게 행복하고 사랑스럽다   \n",
       "1    키드     8  (레미제라블의 장발장과 코제트간 관계가 다소간 롤리타적 색채를 띠는 걸 감안함)어쩌...   \n",
       "2    키드    10  과연 채플린의 영화이다! 이 참담한 포스트 코로나 시대에도 우리에게 웃음과 감동을 ...   \n",
       "3    키드    10  생에 첫 무성영화대사 없이 영상과 음악 만으로도 충분한 감동과 해학이 담겨 있다.찰...   \n",
       "4    키드     8  이탈리아 은행에서 50만불을 빌려 만든 휴머니스트 찰리 채플린의 장편 감독 데뷔작....   \n",
       "5    키드    10                   1921년도에 만들어졌다니 놀랍습니다!흑백영화는 처음보는데   \n",
       "6    키드     8      긴 세월 동안 빛이 바랬을지 몰라도 그 순수함과 따뜻함만은 100년을 뛰어넘는다.   \n",
       "7    키드    10           채플린만의 감동 연출법이 빛나는 영화. 진정한 휴머니스트. 희극의 천재.   \n",
       "8    키드    10  역시 찰리채플린? 이 영화를 극장에서 볼수 있는것도 넘 감사했어요. 울더가 웃다가 ...   \n",
       "9    키드     9  찰리채플린 특유의 디테일과 티키타카 무엇보다 아이의 연기력 탑 ^^찰리채플린 영화라...   \n",
       "\n",
       "                                                link    writer      date  \n",
       "0  https://movie.naver.com/movie/bi/mi/basic.nave...  jsyb****  21.10.20  \n",
       "1  https://movie.naver.com/movie/bi/mi/basic.nave...  gold****  21.09.04  \n",
       "2  https://movie.naver.com/movie/bi/mi/basic.nave...  rjkw****  21.03.23  \n",
       "3  https://movie.naver.com/movie/bi/mi/basic.nave...  npr3****  21.03.20  \n",
       "4  https://movie.naver.com/movie/bi/mi/basic.nave...  tear****  21.03.06  \n",
       "5  https://movie.naver.com/movie/bi/mi/basic.nave...  yeyo****  21.03.01  \n",
       "6  https://movie.naver.com/movie/bi/mi/basic.nave...  hyun****  21.02.25  \n",
       "7  https://movie.naver.com/movie/bi/mi/basic.nave...  got_****  21.02.23  \n",
       "8  https://movie.naver.com/movie/bi/mi/basic.nave...  gips****  21.02.20  \n",
       "9  https://movie.naver.com/movie/bi/mi/basic.nave...  libe****  21.02.14  "
      ]
     },
     "execution_count": 7,
     "metadata": {},
     "output_type": "execute_result"
    }
   ],
   "source": [
    "df_kid2.head(10)"
   ]
  },
  {
   "cell_type": "code",
   "execution_count": 8,
   "id": "38269a8f",
   "metadata": {
    "ExecuteTime": {
     "end_time": "2021-11-29T08:36:37.899763Z",
     "start_time": "2021-11-29T08:36:37.883759Z"
    }
   },
   "outputs": [
    {
     "data": {
      "text/html": [
       "<div>\n",
       "<style scoped>\n",
       "    .dataframe tbody tr th:only-of-type {\n",
       "        vertical-align: middle;\n",
       "    }\n",
       "\n",
       "    .dataframe tbody tr th {\n",
       "        vertical-align: top;\n",
       "    }\n",
       "\n",
       "    .dataframe thead th {\n",
       "        text-align: right;\n",
       "    }\n",
       "</style>\n",
       "<table border=\"1\" class=\"dataframe\">\n",
       "  <thead>\n",
       "    <tr style=\"text-align: right;\">\n",
       "      <th></th>\n",
       "      <th>title</th>\n",
       "      <th>score</th>\n",
       "      <th>review</th>\n",
       "      <th>link</th>\n",
       "      <th>writer</th>\n",
       "      <th>date</th>\n",
       "    </tr>\n",
       "  </thead>\n",
       "  <tbody>\n",
       "    <tr>\n",
       "      <th>90</th>\n",
       "      <td>키드</td>\n",
       "      <td>10</td>\n",
       "      <td>이거 봤는데 . 완전 재밌었어요ㅎ</td>\n",
       "      <td>https://movie.naver.com/movie/bi/mi/basic.nave...</td>\n",
       "      <td>jane****</td>\n",
       "      <td>10.10.30</td>\n",
       "    </tr>\n",
       "    <tr>\n",
       "      <th>91</th>\n",
       "      <td>키드</td>\n",
       "      <td>10</td>\n",
       "      <td>아주 흥미진진하다.</td>\n",
       "      <td>https://movie.naver.com/movie/bi/mi/basic.nave...</td>\n",
       "      <td>ywsu****</td>\n",
       "      <td>10.09.21</td>\n",
       "    </tr>\n",
       "    <tr>\n",
       "      <th>92</th>\n",
       "      <td>키드</td>\n",
       "      <td>10</td>\n",
       "      <td>쵝오</td>\n",
       "      <td>https://movie.naver.com/movie/bi/mi/basic.nave...</td>\n",
       "      <td>tall****</td>\n",
       "      <td>10.09.11</td>\n",
       "    </tr>\n",
       "    <tr>\n",
       "      <th>93</th>\n",
       "      <td>키드</td>\n",
       "      <td>10</td>\n",
       "      <td>와 짱이다</td>\n",
       "      <td>https://movie.naver.com/movie/bi/mi/basic.nave...</td>\n",
       "      <td>jiwo****</td>\n",
       "      <td>10.08.20</td>\n",
       "    </tr>\n",
       "    <tr>\n",
       "      <th>94</th>\n",
       "      <td>키드</td>\n",
       "      <td>10</td>\n",
       "      <td>눈물겨운 어린 시절의 추억이 만들어낸 자화상적 이야기</td>\n",
       "      <td>https://movie.naver.com/movie/bi/mi/basic.nave...</td>\n",
       "      <td>hyuk****</td>\n",
       "      <td>10.08.11</td>\n",
       "    </tr>\n",
       "    <tr>\n",
       "      <th>95</th>\n",
       "      <td>키드</td>\n",
       "      <td>8</td>\n",
       "      <td>희극의제왕 찰리채플린!</td>\n",
       "      <td>https://movie.naver.com/movie/bi/mi/basic.nave...</td>\n",
       "      <td>powe****</td>\n",
       "      <td>10.06.01</td>\n",
       "    </tr>\n",
       "    <tr>\n",
       "      <th>96</th>\n",
       "      <td>키드</td>\n",
       "      <td>10</td>\n",
       "      <td>최고</td>\n",
       "      <td>https://movie.naver.com/movie/bi/mi/basic.nave...</td>\n",
       "      <td>wjdg****</td>\n",
       "      <td>10.05.03</td>\n",
       "    </tr>\n",
       "    <tr>\n",
       "      <th>97</th>\n",
       "      <td>키드</td>\n",
       "      <td>10</td>\n",
       "      <td>와!최고다</td>\n",
       "      <td>https://movie.naver.com/movie/bi/mi/basic.nave...</td>\n",
       "      <td>doct****</td>\n",
       "      <td>10.04.03</td>\n",
       "    </tr>\n",
       "    <tr>\n",
       "      <th>98</th>\n",
       "      <td>키드</td>\n",
       "      <td>10</td>\n",
       "      <td>가난하고 구멍난 삶이지만 그 속에 웃음과 사랑이 있구나 !</td>\n",
       "      <td>https://movie.naver.com/movie/bi/mi/basic.nave...</td>\n",
       "      <td>sylo****</td>\n",
       "      <td>10.03.19</td>\n",
       "    </tr>\n",
       "    <tr>\n",
       "      <th>99</th>\n",
       "      <td>키드</td>\n",
       "      <td>8</td>\n",
       "      <td>젊은 채플린의 모습과 미국의 어두운 단면을 볼 수 있음.</td>\n",
       "      <td>https://movie.naver.com/movie/bi/mi/basic.nave...</td>\n",
       "      <td>jjyn****</td>\n",
       "      <td>10.03.03</td>\n",
       "    </tr>\n",
       "  </tbody>\n",
       "</table>\n",
       "</div>"
      ],
      "text/plain": [
       "   title score                            review  \\\n",
       "90    키드    10                이거 봤는데 . 완전 재밌었어요ㅎ   \n",
       "91    키드    10                        아주 흥미진진하다.   \n",
       "92    키드    10                                쵝오   \n",
       "93    키드    10                             와 짱이다   \n",
       "94    키드    10     눈물겨운 어린 시절의 추억이 만들어낸 자화상적 이야기   \n",
       "95    키드     8                      희극의제왕 찰리채플린!   \n",
       "96    키드    10                                최고   \n",
       "97    키드    10                             와!최고다   \n",
       "98    키드    10  가난하고 구멍난 삶이지만 그 속에 웃음과 사랑이 있구나 !   \n",
       "99    키드     8   젊은 채플린의 모습과 미국의 어두운 단면을 볼 수 있음.   \n",
       "\n",
       "                                                 link    writer      date  \n",
       "90  https://movie.naver.com/movie/bi/mi/basic.nave...  jane****  10.10.30  \n",
       "91  https://movie.naver.com/movie/bi/mi/basic.nave...  ywsu****  10.09.21  \n",
       "92  https://movie.naver.com/movie/bi/mi/basic.nave...  tall****  10.09.11  \n",
       "93  https://movie.naver.com/movie/bi/mi/basic.nave...  jiwo****  10.08.20  \n",
       "94  https://movie.naver.com/movie/bi/mi/basic.nave...  hyuk****  10.08.11  \n",
       "95  https://movie.naver.com/movie/bi/mi/basic.nave...  powe****  10.06.01  \n",
       "96  https://movie.naver.com/movie/bi/mi/basic.nave...  wjdg****  10.05.03  \n",
       "97  https://movie.naver.com/movie/bi/mi/basic.nave...  doct****  10.04.03  \n",
       "98  https://movie.naver.com/movie/bi/mi/basic.nave...  sylo****  10.03.19  \n",
       "99  https://movie.naver.com/movie/bi/mi/basic.nave...  jjyn****  10.03.03  "
      ]
     },
     "execution_count": 8,
     "metadata": {},
     "output_type": "execute_result"
    }
   ],
   "source": [
    "df_kid2.tail(10)"
   ]
  },
  {
   "cell_type": "code",
   "execution_count": null,
   "id": "dbdfbe1c",
   "metadata": {},
   "outputs": [],
   "source": [
    "df_kid2.to_csv('output/kid.csv', index=False, encoding='cp949')"
   ]
  },
  {
   "cell_type": "code",
   "execution_count": null,
   "id": "179464be",
   "metadata": {},
   "outputs": [],
   "source": [
    "# 마지막 페이지인지?  다음 버튼 소스 확인 \n",
    "\n",
    "# 각 페이지의 공통 주소 부분 \n",
    "base_page = 'https://movie.naver.com/movie/point/af/list.naver?st=mcode&sword=13558&target=after&page='\n",
    "page = 0\n",
    "while(True):\n",
    "    # 실제 페이지 주소 생성 \n",
    "    url = base_page+str(page+1)\n",
    "    res = requests.get(url)\n",
    "    # 200 이면 성공 \n",
    "    print(res, url) \n",
    "    # html 페이지를 텍스트로 저장 \n",
    "    html_str = res.text\n",
    "    \n",
    "    # soup 객체화    \n",
    "    soup = BeautifulSoup(html_str, 'html.parser')\n",
    "    \n",
    "    # 다음 버튼 찾기 \n",
    "    next_btn = soup.find_all(class_='pg_next')\n",
    "    # 다음버튼이 없다면 종료     \n",
    "    if len(next_btn) == 0:\n",
    "        break\n",
    "    \n",
    "    # 페이지 증감\n",
    "    page += 1\n",
    "    \n",
    "print('테스트 종료')        \n",
    "    "
   ]
  },
  {
   "cell_type": "code",
   "execution_count": 9,
   "id": "149e808b",
   "metadata": {
    "ExecuteTime": {
     "end_time": "2021-11-29T08:45:58.213174Z",
     "start_time": "2021-11-29T08:45:55.636915Z"
    }
   },
   "outputs": [
    {
     "name": "stdout",
     "output_type": "stream",
     "text": [
      "<Response [200]> https://movie.naver.com/movie/point/af/list.naver?st=mcode&sword=13558&target=after&page=1\n",
      "<Response [200]> https://movie.naver.com/movie/point/af/list.naver?st=mcode&sword=13558&target=after&page=2\n",
      "<Response [200]> https://movie.naver.com/movie/point/af/list.naver?st=mcode&sword=13558&target=after&page=3\n",
      "<Response [200]> https://movie.naver.com/movie/point/af/list.naver?st=mcode&sword=13558&target=after&page=4\n",
      "<Response [200]> https://movie.naver.com/movie/point/af/list.naver?st=mcode&sword=13558&target=after&page=5\n",
      "<Response [200]> https://movie.naver.com/movie/point/af/list.naver?st=mcode&sword=13558&target=after&page=6\n",
      "<Response [200]> https://movie.naver.com/movie/point/af/list.naver?st=mcode&sword=13558&target=after&page=7\n",
      "<Response [200]> https://movie.naver.com/movie/point/af/list.naver?st=mcode&sword=13558&target=after&page=8\n",
      "<Response [200]> https://movie.naver.com/movie/point/af/list.naver?st=mcode&sword=13558&target=after&page=9\n",
      "<Response [200]> https://movie.naver.com/movie/point/af/list.naver?st=mcode&sword=13558&target=after&page=10\n",
      "<Response [200]> https://movie.naver.com/movie/point/af/list.naver?st=mcode&sword=13558&target=after&page=11\n",
      "<Response [200]> https://movie.naver.com/movie/point/af/list.naver?st=mcode&sword=13558&target=after&page=12\n",
      "<Response [200]> https://movie.naver.com/movie/point/af/list.naver?st=mcode&sword=13558&target=after&page=13\n",
      "<Response [200]> https://movie.naver.com/movie/point/af/list.naver?st=mcode&sword=13558&target=after&page=14\n",
      "<Response [200]> https://movie.naver.com/movie/point/af/list.naver?st=mcode&sword=13558&target=after&page=15\n",
      "테스트 종료\n"
     ]
    }
   ],
   "source": [
    "# 각 페이지의 공통 주소 부분 \n",
    "base_page = 'https://movie.naver.com/movie/point/af/list.naver?st=mcode&sword=13558&target=after&page='\n",
    "kid_list = []\n",
    "base_url = 'https://movie.naver.com'\n",
    "page = 0\n",
    "\n",
    "\n",
    "while(True):\n",
    "    # 실제 페이지 주소 생성 \n",
    "    url = base_page+str(page+1)\n",
    "    res = requests.get(url)\n",
    "    # 200 이면 성공 \n",
    "    print(res, url) \n",
    "    # html 페이지를 텍스트로 저장 \n",
    "    html_str = res.text\n",
    "    \n",
    "    # soup 객체화    \n",
    "    soup = BeautifulSoup(html_str, 'html.parser')\n",
    "    \n",
    "    # 제목, 평점, 리뷰, 링크, 날짜와 작성자 텍스트 추출 \n",
    "    td_list = soup.select('.title')\n",
    "    a_list = soup.select('.author')\n",
    "    \n",
    "    # 모든 요소를 찾아서 2차원 리스트에 저장\n",
    "    for j in range(len(a_list)):\n",
    "        title = td_list[j].select_one('a').text\n",
    "        score = td_list[j].select_one('em').text\n",
    "        review = td_list[j].select_one('br').next_sibling.strip()\n",
    "        link = base_url + td_list[j].select_one('a')['href']\n",
    "        writer = a_list[j].text\n",
    "        date = a_list[j].next_sibling.next_sibling\n",
    "\n",
    "        # 1차원 리스트로 생성한 후 다시 리스트에 삽입      \n",
    "        kid_list.append([title, score, review, link, writer, date])\n",
    "\n",
    "    \n",
    "    # 다음 버튼 찾기 \n",
    "    next_btn = soup.find_all(class_='pg_next')\n",
    "    # 다음버튼이 없다면 종료     \n",
    "    if len(next_btn) == 0:\n",
    "        break\n",
    "        \n",
    "    # 페이지 증감\n",
    "    page += 1\n",
    "    \n",
    "print('테스트 종료')        \n",
    "    "
   ]
  },
  {
   "cell_type": "code",
   "execution_count": 10,
   "id": "fbd16fe3",
   "metadata": {
    "ExecuteTime": {
     "end_time": "2021-11-29T08:45:58.288538Z",
     "start_time": "2021-11-29T08:45:58.274545Z"
    }
   },
   "outputs": [
    {
     "data": {
      "text/plain": [
       "(144, 6)"
      ]
     },
     "execution_count": 10,
     "metadata": {},
     "output_type": "execute_result"
    }
   ],
   "source": [
    "# 2차원 리스트 => 데이타프레임 \n",
    "df_kid3 = pd.DataFrame(kid_list, columns=['title', 'score', 'review', 'link', 'writer', 'date'])\n",
    "df_kid3.shape"
   ]
  },
  {
   "cell_type": "code",
   "execution_count": 11,
   "id": "3a3f42da",
   "metadata": {
    "ExecuteTime": {
     "end_time": "2021-11-29T08:46:02.988056Z",
     "start_time": "2021-11-29T08:46:02.980054Z"
    }
   },
   "outputs": [
    {
     "data": {
      "text/html": [
       "<div>\n",
       "<style scoped>\n",
       "    .dataframe tbody tr th:only-of-type {\n",
       "        vertical-align: middle;\n",
       "    }\n",
       "\n",
       "    .dataframe tbody tr th {\n",
       "        vertical-align: top;\n",
       "    }\n",
       "\n",
       "    .dataframe thead th {\n",
       "        text-align: right;\n",
       "    }\n",
       "</style>\n",
       "<table border=\"1\" class=\"dataframe\">\n",
       "  <thead>\n",
       "    <tr style=\"text-align: right;\">\n",
       "      <th></th>\n",
       "      <th>title</th>\n",
       "      <th>score</th>\n",
       "      <th>review</th>\n",
       "      <th>link</th>\n",
       "      <th>writer</th>\n",
       "      <th>date</th>\n",
       "    </tr>\n",
       "  </thead>\n",
       "  <tbody>\n",
       "    <tr>\n",
       "      <th>0</th>\n",
       "      <td>키드</td>\n",
       "      <td>10</td>\n",
       "      <td>짧고 굵게 행복하고 사랑스럽다</td>\n",
       "      <td>https://movie.naver.com/movie/bi/mi/basic.nave...</td>\n",
       "      <td>jsyb****</td>\n",
       "      <td>21.10.20</td>\n",
       "    </tr>\n",
       "    <tr>\n",
       "      <th>1</th>\n",
       "      <td>키드</td>\n",
       "      <td>8</td>\n",
       "      <td>(레미제라블의 장발장과 코제트간 관계가 다소간 롤리타적 색채를 띠는 걸 감안함)어쩌...</td>\n",
       "      <td>https://movie.naver.com/movie/bi/mi/basic.nave...</td>\n",
       "      <td>gold****</td>\n",
       "      <td>21.09.04</td>\n",
       "    </tr>\n",
       "    <tr>\n",
       "      <th>2</th>\n",
       "      <td>키드</td>\n",
       "      <td>10</td>\n",
       "      <td>과연 채플린의 영화이다! 이 참담한 포스트 코로나 시대에도 우리에게 웃음과 감동을 ...</td>\n",
       "      <td>https://movie.naver.com/movie/bi/mi/basic.nave...</td>\n",
       "      <td>rjkw****</td>\n",
       "      <td>21.03.23</td>\n",
       "    </tr>\n",
       "    <tr>\n",
       "      <th>3</th>\n",
       "      <td>키드</td>\n",
       "      <td>10</td>\n",
       "      <td>생에 첫 무성영화대사 없이 영상과 음악 만으로도 충분한 감동과 해학이 담겨 있다.찰...</td>\n",
       "      <td>https://movie.naver.com/movie/bi/mi/basic.nave...</td>\n",
       "      <td>npr3****</td>\n",
       "      <td>21.03.20</td>\n",
       "    </tr>\n",
       "    <tr>\n",
       "      <th>4</th>\n",
       "      <td>키드</td>\n",
       "      <td>8</td>\n",
       "      <td>이탈리아 은행에서 50만불을 빌려 만든 휴머니스트 찰리 채플린의 장편 감독 데뷔작....</td>\n",
       "      <td>https://movie.naver.com/movie/bi/mi/basic.nave...</td>\n",
       "      <td>tear****</td>\n",
       "      <td>21.03.06</td>\n",
       "    </tr>\n",
       "    <tr>\n",
       "      <th>5</th>\n",
       "      <td>키드</td>\n",
       "      <td>10</td>\n",
       "      <td>1921년도에 만들어졌다니 놀랍습니다!흑백영화는 처음보는데</td>\n",
       "      <td>https://movie.naver.com/movie/bi/mi/basic.nave...</td>\n",
       "      <td>yeyo****</td>\n",
       "      <td>21.03.01</td>\n",
       "    </tr>\n",
       "    <tr>\n",
       "      <th>6</th>\n",
       "      <td>키드</td>\n",
       "      <td>8</td>\n",
       "      <td>긴 세월 동안 빛이 바랬을지 몰라도 그 순수함과 따뜻함만은 100년을 뛰어넘는다.</td>\n",
       "      <td>https://movie.naver.com/movie/bi/mi/basic.nave...</td>\n",
       "      <td>hyun****</td>\n",
       "      <td>21.02.25</td>\n",
       "    </tr>\n",
       "    <tr>\n",
       "      <th>7</th>\n",
       "      <td>키드</td>\n",
       "      <td>10</td>\n",
       "      <td>채플린만의 감동 연출법이 빛나는 영화. 진정한 휴머니스트. 희극의 천재.</td>\n",
       "      <td>https://movie.naver.com/movie/bi/mi/basic.nave...</td>\n",
       "      <td>got_****</td>\n",
       "      <td>21.02.23</td>\n",
       "    </tr>\n",
       "    <tr>\n",
       "      <th>8</th>\n",
       "      <td>키드</td>\n",
       "      <td>10</td>\n",
       "      <td>역시 찰리채플린? 이 영화를 극장에서 볼수 있는것도 넘 감사했어요. 울더가 웃다가 ...</td>\n",
       "      <td>https://movie.naver.com/movie/bi/mi/basic.nave...</td>\n",
       "      <td>gips****</td>\n",
       "      <td>21.02.20</td>\n",
       "    </tr>\n",
       "    <tr>\n",
       "      <th>9</th>\n",
       "      <td>키드</td>\n",
       "      <td>9</td>\n",
       "      <td>찰리채플린 특유의 디테일과 티키타카 무엇보다 아이의 연기력 탑 ^^찰리채플린 영화라...</td>\n",
       "      <td>https://movie.naver.com/movie/bi/mi/basic.nave...</td>\n",
       "      <td>libe****</td>\n",
       "      <td>21.02.14</td>\n",
       "    </tr>\n",
       "  </tbody>\n",
       "</table>\n",
       "</div>"
      ],
      "text/plain": [
       "  title score                                             review  \\\n",
       "0    키드    10                                   짧고 굵게 행복하고 사랑스럽다   \n",
       "1    키드     8  (레미제라블의 장발장과 코제트간 관계가 다소간 롤리타적 색채를 띠는 걸 감안함)어쩌...   \n",
       "2    키드    10  과연 채플린의 영화이다! 이 참담한 포스트 코로나 시대에도 우리에게 웃음과 감동을 ...   \n",
       "3    키드    10  생에 첫 무성영화대사 없이 영상과 음악 만으로도 충분한 감동과 해학이 담겨 있다.찰...   \n",
       "4    키드     8  이탈리아 은행에서 50만불을 빌려 만든 휴머니스트 찰리 채플린의 장편 감독 데뷔작....   \n",
       "5    키드    10                   1921년도에 만들어졌다니 놀랍습니다!흑백영화는 처음보는데   \n",
       "6    키드     8      긴 세월 동안 빛이 바랬을지 몰라도 그 순수함과 따뜻함만은 100년을 뛰어넘는다.   \n",
       "7    키드    10           채플린만의 감동 연출법이 빛나는 영화. 진정한 휴머니스트. 희극의 천재.   \n",
       "8    키드    10  역시 찰리채플린? 이 영화를 극장에서 볼수 있는것도 넘 감사했어요. 울더가 웃다가 ...   \n",
       "9    키드     9  찰리채플린 특유의 디테일과 티키타카 무엇보다 아이의 연기력 탑 ^^찰리채플린 영화라...   \n",
       "\n",
       "                                                link    writer      date  \n",
       "0  https://movie.naver.com/movie/bi/mi/basic.nave...  jsyb****  21.10.20  \n",
       "1  https://movie.naver.com/movie/bi/mi/basic.nave...  gold****  21.09.04  \n",
       "2  https://movie.naver.com/movie/bi/mi/basic.nave...  rjkw****  21.03.23  \n",
       "3  https://movie.naver.com/movie/bi/mi/basic.nave...  npr3****  21.03.20  \n",
       "4  https://movie.naver.com/movie/bi/mi/basic.nave...  tear****  21.03.06  \n",
       "5  https://movie.naver.com/movie/bi/mi/basic.nave...  yeyo****  21.03.01  \n",
       "6  https://movie.naver.com/movie/bi/mi/basic.nave...  hyun****  21.02.25  \n",
       "7  https://movie.naver.com/movie/bi/mi/basic.nave...  got_****  21.02.23  \n",
       "8  https://movie.naver.com/movie/bi/mi/basic.nave...  gips****  21.02.20  \n",
       "9  https://movie.naver.com/movie/bi/mi/basic.nave...  libe****  21.02.14  "
      ]
     },
     "execution_count": 11,
     "metadata": {},
     "output_type": "execute_result"
    }
   ],
   "source": [
    "df_kid3.head(10)"
   ]
  },
  {
   "cell_type": "code",
   "execution_count": 12,
   "id": "8bde199b",
   "metadata": {
    "ExecuteTime": {
     "end_time": "2021-11-29T08:46:11.653878Z",
     "start_time": "2021-11-29T08:46:11.635876Z"
    }
   },
   "outputs": [
    {
     "data": {
      "text/html": [
       "<div>\n",
       "<style scoped>\n",
       "    .dataframe tbody tr th:only-of-type {\n",
       "        vertical-align: middle;\n",
       "    }\n",
       "\n",
       "    .dataframe tbody tr th {\n",
       "        vertical-align: top;\n",
       "    }\n",
       "\n",
       "    .dataframe thead th {\n",
       "        text-align: right;\n",
       "    }\n",
       "</style>\n",
       "<table border=\"1\" class=\"dataframe\">\n",
       "  <thead>\n",
       "    <tr style=\"text-align: right;\">\n",
       "      <th></th>\n",
       "      <th>title</th>\n",
       "      <th>score</th>\n",
       "      <th>review</th>\n",
       "      <th>link</th>\n",
       "      <th>writer</th>\n",
       "      <th>date</th>\n",
       "    </tr>\n",
       "  </thead>\n",
       "  <tbody>\n",
       "    <tr>\n",
       "      <th>134</th>\n",
       "      <td>키드</td>\n",
       "      <td>8</td>\n",
       "      <td>글쎄..이런 영화는 별로 라서..</td>\n",
       "      <td>https://movie.naver.com/movie/bi/mi/basic.nave...</td>\n",
       "      <td>qufs****</td>\n",
       "      <td>06.08.20</td>\n",
       "    </tr>\n",
       "    <tr>\n",
       "      <th>135</th>\n",
       "      <td>키드</td>\n",
       "      <td>10</td>\n",
       "      <td>영화사에 길이남아 영구히 지구인의 감성에 호소할 시대적 걸작</td>\n",
       "      <td>https://movie.naver.com/movie/bi/mi/basic.nave...</td>\n",
       "      <td>jals****</td>\n",
       "      <td>06.06.06</td>\n",
       "    </tr>\n",
       "    <tr>\n",
       "      <th>136</th>\n",
       "      <td>키드</td>\n",
       "      <td>10</td>\n",
       "      <td>단편에다무성 흑백이여도 난 이영화가좋다</td>\n",
       "      <td>https://movie.naver.com/movie/bi/mi/basic.nave...</td>\n",
       "      <td>jing****</td>\n",
       "      <td>06.05.19</td>\n",
       "    </tr>\n",
       "    <tr>\n",
       "      <th>137</th>\n",
       "      <td>키드</td>\n",
       "      <td>10</td>\n",
       "      <td>내가 처음 접한 찰리 채플린의 영화</td>\n",
       "      <td>https://movie.naver.com/movie/bi/mi/basic.nave...</td>\n",
       "      <td>won1****</td>\n",
       "      <td>06.02.07</td>\n",
       "    </tr>\n",
       "    <tr>\n",
       "      <th>138</th>\n",
       "      <td>키드</td>\n",
       "      <td>10</td>\n",
       "      <td>잭키쿠건(아이)의 연기는 일품이다.</td>\n",
       "      <td>https://movie.naver.com/movie/bi/mi/basic.nave...</td>\n",
       "      <td>wndh****</td>\n",
       "      <td>05.10.12</td>\n",
       "    </tr>\n",
       "    <tr>\n",
       "      <th>139</th>\n",
       "      <td>키드</td>\n",
       "      <td>8</td>\n",
       "      <td>신파도 맛깔스러운 채플린.</td>\n",
       "      <td>https://movie.naver.com/movie/bi/mi/basic.nave...</td>\n",
       "      <td>tjsd****</td>\n",
       "      <td>05.09.24</td>\n",
       "    </tr>\n",
       "    <tr>\n",
       "      <th>140</th>\n",
       "      <td>키드</td>\n",
       "      <td>10</td>\n",
       "      <td>그 당시의 시대적 상황을 웃음과 감동으로 잘 표현한 수작</td>\n",
       "      <td>https://movie.naver.com/movie/bi/mi/basic.nave...</td>\n",
       "      <td>hmr3****</td>\n",
       "      <td>04.10.17</td>\n",
       "    </tr>\n",
       "    <tr>\n",
       "      <th>141</th>\n",
       "      <td>키드</td>\n",
       "      <td>10</td>\n",
       "      <td>감동적인 드라마.</td>\n",
       "      <td>https://movie.naver.com/movie/bi/mi/basic.nave...</td>\n",
       "      <td>pby1****</td>\n",
       "      <td>04.10.10</td>\n",
       "    </tr>\n",
       "    <tr>\n",
       "      <th>142</th>\n",
       "      <td>키드</td>\n",
       "      <td>10</td>\n",
       "      <td>웃음으로 포장한 가슴 아픈 비극</td>\n",
       "      <td>https://movie.naver.com/movie/bi/mi/basic.nave...</td>\n",
       "      <td>litt****</td>\n",
       "      <td>04.09.16</td>\n",
       "    </tr>\n",
       "    <tr>\n",
       "      <th>143</th>\n",
       "      <td>키드</td>\n",
       "      <td>9</td>\n",
       "      <td>따뜻한 아빠 채플린과 귀여운 아이</td>\n",
       "      <td>https://movie.naver.com/movie/bi/mi/basic.nave...</td>\n",
       "      <td>sjzs****</td>\n",
       "      <td>03.12.26</td>\n",
       "    </tr>\n",
       "  </tbody>\n",
       "</table>\n",
       "</div>"
      ],
      "text/plain": [
       "    title score                             review  \\\n",
       "134    키드     8                 글쎄..이런 영화는 별로 라서..   \n",
       "135    키드    10  영화사에 길이남아 영구히 지구인의 감성에 호소할 시대적 걸작   \n",
       "136    키드    10              단편에다무성 흑백이여도 난 이영화가좋다   \n",
       "137    키드    10                내가 처음 접한 찰리 채플린의 영화   \n",
       "138    키드    10                잭키쿠건(아이)의 연기는 일품이다.   \n",
       "139    키드     8                     신파도 맛깔스러운 채플린.   \n",
       "140    키드    10    그 당시의 시대적 상황을 웃음과 감동으로 잘 표현한 수작   \n",
       "141    키드    10                          감동적인 드라마.   \n",
       "142    키드    10                  웃음으로 포장한 가슴 아픈 비극   \n",
       "143    키드     9                 따뜻한 아빠 채플린과 귀여운 아이   \n",
       "\n",
       "                                                  link    writer      date  \n",
       "134  https://movie.naver.com/movie/bi/mi/basic.nave...  qufs****  06.08.20  \n",
       "135  https://movie.naver.com/movie/bi/mi/basic.nave...  jals****  06.06.06  \n",
       "136  https://movie.naver.com/movie/bi/mi/basic.nave...  jing****  06.05.19  \n",
       "137  https://movie.naver.com/movie/bi/mi/basic.nave...  won1****  06.02.07  \n",
       "138  https://movie.naver.com/movie/bi/mi/basic.nave...  wndh****  05.10.12  \n",
       "139  https://movie.naver.com/movie/bi/mi/basic.nave...  tjsd****  05.09.24  \n",
       "140  https://movie.naver.com/movie/bi/mi/basic.nave...  hmr3****  04.10.17  \n",
       "141  https://movie.naver.com/movie/bi/mi/basic.nave...  pby1****  04.10.10  \n",
       "142  https://movie.naver.com/movie/bi/mi/basic.nave...  litt****  04.09.16  \n",
       "143  https://movie.naver.com/movie/bi/mi/basic.nave...  sjzs****  03.12.26  "
      ]
     },
     "execution_count": 12,
     "metadata": {},
     "output_type": "execute_result"
    }
   ],
   "source": [
    "df_kid3.tail(10)"
   ]
  },
  {
   "cell_type": "markdown",
   "id": "75380dce",
   "metadata": {},
   "source": [
    "## 코드 개선 => 함수로 "
   ]
  },
  {
   "cell_type": "code",
   "execution_count": 13,
   "id": "cde6a884",
   "metadata": {
    "ExecuteTime": {
     "end_time": "2021-11-29T08:46:29.572675Z",
     "start_time": "2021-11-29T08:46:29.564673Z"
    }
   },
   "outputs": [],
   "source": [
    "def save_df(base_page_url):\n",
    "    # 각 페이지의 공통 주소 부분 \n",
    "    base_page = base_page_url\n",
    "    kid_list = []\n",
    "    base_url = 'https://movie.naver.com'\n",
    "    page = 0\n",
    "\n",
    "\n",
    "    while(True):\n",
    "        # 실제 페이지 주소 생성 \n",
    "        url = base_page+str(page+1)\n",
    "        res = requests.get(url)\n",
    "        # 200 이면 성공 \n",
    "        print(res, url) \n",
    "        # html 페이지를 텍스트로 저장 \n",
    "        html_str = res.text\n",
    "\n",
    "        # soup 객체화    \n",
    "        soup = BeautifulSoup(html_str, 'html.parser')\n",
    "\n",
    "        # 제목, 평점, 리뷰, 링크, 날짜와 작성자 텍스트 추출 \n",
    "        td_list = soup.select('.title')\n",
    "        a_list = soup.select('.author')\n",
    "\n",
    "        # 모든 요소를 찾아서 2차원 리스트에 저장\n",
    "        for j in range(len(a_list)):\n",
    "            title = td_list[j].select_one('a').text\n",
    "            score = td_list[j].select_one('em').text\n",
    "            review = td_list[j].select_one('br').next_sibling.strip()\n",
    "            link = base_url + td_list[j].select_one('a')['href']\n",
    "            writer = a_list[j].text\n",
    "            date = a_list[j].next_sibling.next_sibling\n",
    "\n",
    "            # 1차원 리스트로 생성한 후 다시 리스트에 삽입      \n",
    "            kid_list.append([title, score, review, link, writer, date])\n",
    "\n",
    "\n",
    "        # 다음 버튼 찾기 \n",
    "        next_btn = soup.find_all(class_='pg_next')\n",
    "        # 다음버튼이 없다면 종료     \n",
    "        if len(next_btn) == 0:\n",
    "            break\n",
    "\n",
    "        # 페이지 증감\n",
    "        page += 1\n",
    "\n",
    "    print('테스트 종료')   \n",
    "    df = pd.DataFrame(kid_list, columns=['title', 'score', 'review', 'link', 'writer', 'date'])\n",
    "    \n",
    "    return df"
   ]
  },
  {
   "cell_type": "code",
   "execution_count": 14,
   "id": "d7c6f385",
   "metadata": {
    "ExecuteTime": {
     "end_time": "2021-11-29T08:46:39.346305Z",
     "start_time": "2021-11-29T08:46:37.011734Z"
    }
   },
   "outputs": [
    {
     "name": "stdout",
     "output_type": "stream",
     "text": [
      "<Response [200]> https://movie.naver.com/movie/point/af/list.naver?st=mcode&sword=13558&target=after&page=1\n",
      "<Response [200]> https://movie.naver.com/movie/point/af/list.naver?st=mcode&sword=13558&target=after&page=2\n",
      "<Response [200]> https://movie.naver.com/movie/point/af/list.naver?st=mcode&sword=13558&target=after&page=3\n",
      "<Response [200]> https://movie.naver.com/movie/point/af/list.naver?st=mcode&sword=13558&target=after&page=4\n",
      "<Response [200]> https://movie.naver.com/movie/point/af/list.naver?st=mcode&sword=13558&target=after&page=5\n",
      "<Response [200]> https://movie.naver.com/movie/point/af/list.naver?st=mcode&sword=13558&target=after&page=6\n",
      "<Response [200]> https://movie.naver.com/movie/point/af/list.naver?st=mcode&sword=13558&target=after&page=7\n",
      "<Response [200]> https://movie.naver.com/movie/point/af/list.naver?st=mcode&sword=13558&target=after&page=8\n",
      "<Response [200]> https://movie.naver.com/movie/point/af/list.naver?st=mcode&sword=13558&target=after&page=9\n",
      "<Response [200]> https://movie.naver.com/movie/point/af/list.naver?st=mcode&sword=13558&target=after&page=10\n",
      "<Response [200]> https://movie.naver.com/movie/point/af/list.naver?st=mcode&sword=13558&target=after&page=11\n",
      "<Response [200]> https://movie.naver.com/movie/point/af/list.naver?st=mcode&sword=13558&target=after&page=12\n",
      "<Response [200]> https://movie.naver.com/movie/point/af/list.naver?st=mcode&sword=13558&target=after&page=13\n",
      "<Response [200]> https://movie.naver.com/movie/point/af/list.naver?st=mcode&sword=13558&target=after&page=14\n",
      "<Response [200]> https://movie.naver.com/movie/point/af/list.naver?st=mcode&sword=13558&target=after&page=15\n",
      "테스트 종료\n"
     ]
    },
    {
     "data": {
      "text/html": [
       "<div>\n",
       "<style scoped>\n",
       "    .dataframe tbody tr th:only-of-type {\n",
       "        vertical-align: middle;\n",
       "    }\n",
       "\n",
       "    .dataframe tbody tr th {\n",
       "        vertical-align: top;\n",
       "    }\n",
       "\n",
       "    .dataframe thead th {\n",
       "        text-align: right;\n",
       "    }\n",
       "</style>\n",
       "<table border=\"1\" class=\"dataframe\">\n",
       "  <thead>\n",
       "    <tr style=\"text-align: right;\">\n",
       "      <th></th>\n",
       "      <th>title</th>\n",
       "      <th>score</th>\n",
       "      <th>review</th>\n",
       "      <th>link</th>\n",
       "      <th>writer</th>\n",
       "      <th>date</th>\n",
       "    </tr>\n",
       "  </thead>\n",
       "  <tbody>\n",
       "    <tr>\n",
       "      <th>0</th>\n",
       "      <td>키드</td>\n",
       "      <td>10</td>\n",
       "      <td>짧고 굵게 행복하고 사랑스럽다</td>\n",
       "      <td>https://movie.naver.com/movie/bi/mi/basic.nave...</td>\n",
       "      <td>jsyb****</td>\n",
       "      <td>21.10.20</td>\n",
       "    </tr>\n",
       "    <tr>\n",
       "      <th>1</th>\n",
       "      <td>키드</td>\n",
       "      <td>8</td>\n",
       "      <td>(레미제라블의 장발장과 코제트간 관계가 다소간 롤리타적 색채를 띠는 걸 감안함)어쩌...</td>\n",
       "      <td>https://movie.naver.com/movie/bi/mi/basic.nave...</td>\n",
       "      <td>gold****</td>\n",
       "      <td>21.09.04</td>\n",
       "    </tr>\n",
       "    <tr>\n",
       "      <th>2</th>\n",
       "      <td>키드</td>\n",
       "      <td>10</td>\n",
       "      <td>과연 채플린의 영화이다! 이 참담한 포스트 코로나 시대에도 우리에게 웃음과 감동을 ...</td>\n",
       "      <td>https://movie.naver.com/movie/bi/mi/basic.nave...</td>\n",
       "      <td>rjkw****</td>\n",
       "      <td>21.03.23</td>\n",
       "    </tr>\n",
       "    <tr>\n",
       "      <th>3</th>\n",
       "      <td>키드</td>\n",
       "      <td>10</td>\n",
       "      <td>생에 첫 무성영화대사 없이 영상과 음악 만으로도 충분한 감동과 해학이 담겨 있다.찰...</td>\n",
       "      <td>https://movie.naver.com/movie/bi/mi/basic.nave...</td>\n",
       "      <td>npr3****</td>\n",
       "      <td>21.03.20</td>\n",
       "    </tr>\n",
       "    <tr>\n",
       "      <th>4</th>\n",
       "      <td>키드</td>\n",
       "      <td>8</td>\n",
       "      <td>이탈리아 은행에서 50만불을 빌려 만든 휴머니스트 찰리 채플린의 장편 감독 데뷔작....</td>\n",
       "      <td>https://movie.naver.com/movie/bi/mi/basic.nave...</td>\n",
       "      <td>tear****</td>\n",
       "      <td>21.03.06</td>\n",
       "    </tr>\n",
       "    <tr>\n",
       "      <th>...</th>\n",
       "      <td>...</td>\n",
       "      <td>...</td>\n",
       "      <td>...</td>\n",
       "      <td>...</td>\n",
       "      <td>...</td>\n",
       "      <td>...</td>\n",
       "    </tr>\n",
       "    <tr>\n",
       "      <th>139</th>\n",
       "      <td>키드</td>\n",
       "      <td>8</td>\n",
       "      <td>신파도 맛깔스러운 채플린.</td>\n",
       "      <td>https://movie.naver.com/movie/bi/mi/basic.nave...</td>\n",
       "      <td>tjsd****</td>\n",
       "      <td>05.09.24</td>\n",
       "    </tr>\n",
       "    <tr>\n",
       "      <th>140</th>\n",
       "      <td>키드</td>\n",
       "      <td>10</td>\n",
       "      <td>그 당시의 시대적 상황을 웃음과 감동으로 잘 표현한 수작</td>\n",
       "      <td>https://movie.naver.com/movie/bi/mi/basic.nave...</td>\n",
       "      <td>hmr3****</td>\n",
       "      <td>04.10.17</td>\n",
       "    </tr>\n",
       "    <tr>\n",
       "      <th>141</th>\n",
       "      <td>키드</td>\n",
       "      <td>10</td>\n",
       "      <td>감동적인 드라마.</td>\n",
       "      <td>https://movie.naver.com/movie/bi/mi/basic.nave...</td>\n",
       "      <td>pby1****</td>\n",
       "      <td>04.10.10</td>\n",
       "    </tr>\n",
       "    <tr>\n",
       "      <th>142</th>\n",
       "      <td>키드</td>\n",
       "      <td>10</td>\n",
       "      <td>웃음으로 포장한 가슴 아픈 비극</td>\n",
       "      <td>https://movie.naver.com/movie/bi/mi/basic.nave...</td>\n",
       "      <td>litt****</td>\n",
       "      <td>04.09.16</td>\n",
       "    </tr>\n",
       "    <tr>\n",
       "      <th>143</th>\n",
       "      <td>키드</td>\n",
       "      <td>9</td>\n",
       "      <td>따뜻한 아빠 채플린과 귀여운 아이</td>\n",
       "      <td>https://movie.naver.com/movie/bi/mi/basic.nave...</td>\n",
       "      <td>sjzs****</td>\n",
       "      <td>03.12.26</td>\n",
       "    </tr>\n",
       "  </tbody>\n",
       "</table>\n",
       "<p>144 rows × 6 columns</p>\n",
       "</div>"
      ],
      "text/plain": [
       "    title score                                             review  \\\n",
       "0      키드    10                                   짧고 굵게 행복하고 사랑스럽다   \n",
       "1      키드     8  (레미제라블의 장발장과 코제트간 관계가 다소간 롤리타적 색채를 띠는 걸 감안함)어쩌...   \n",
       "2      키드    10  과연 채플린의 영화이다! 이 참담한 포스트 코로나 시대에도 우리에게 웃음과 감동을 ...   \n",
       "3      키드    10  생에 첫 무성영화대사 없이 영상과 음악 만으로도 충분한 감동과 해학이 담겨 있다.찰...   \n",
       "4      키드     8  이탈리아 은행에서 50만불을 빌려 만든 휴머니스트 찰리 채플린의 장편 감독 데뷔작....   \n",
       "..    ...   ...                                                ...   \n",
       "139    키드     8                                     신파도 맛깔스러운 채플린.   \n",
       "140    키드    10                    그 당시의 시대적 상황을 웃음과 감동으로 잘 표현한 수작   \n",
       "141    키드    10                                          감동적인 드라마.   \n",
       "142    키드    10                                  웃음으로 포장한 가슴 아픈 비극   \n",
       "143    키드     9                                 따뜻한 아빠 채플린과 귀여운 아이   \n",
       "\n",
       "                                                  link    writer      date  \n",
       "0    https://movie.naver.com/movie/bi/mi/basic.nave...  jsyb****  21.10.20  \n",
       "1    https://movie.naver.com/movie/bi/mi/basic.nave...  gold****  21.09.04  \n",
       "2    https://movie.naver.com/movie/bi/mi/basic.nave...  rjkw****  21.03.23  \n",
       "3    https://movie.naver.com/movie/bi/mi/basic.nave...  npr3****  21.03.20  \n",
       "4    https://movie.naver.com/movie/bi/mi/basic.nave...  tear****  21.03.06  \n",
       "..                                                 ...       ...       ...  \n",
       "139  https://movie.naver.com/movie/bi/mi/basic.nave...  tjsd****  05.09.24  \n",
       "140  https://movie.naver.com/movie/bi/mi/basic.nave...  hmr3****  04.10.17  \n",
       "141  https://movie.naver.com/movie/bi/mi/basic.nave...  pby1****  04.10.10  \n",
       "142  https://movie.naver.com/movie/bi/mi/basic.nave...  litt****  04.09.16  \n",
       "143  https://movie.naver.com/movie/bi/mi/basic.nave...  sjzs****  03.12.26  \n",
       "\n",
       "[144 rows x 6 columns]"
      ]
     },
     "execution_count": 14,
     "metadata": {},
     "output_type": "execute_result"
    }
   ],
   "source": [
    "# kid 영화 \n",
    "base_page_url = 'https://movie.naver.com/movie/point/af/list.naver?st=mcode&sword=13558&target=after&page='\n",
    "save_df(base_page_url)"
   ]
  },
  {
   "cell_type": "code",
   "execution_count": 15,
   "id": "b36b4e70",
   "metadata": {
    "ExecuteTime": {
     "end_time": "2021-11-29T08:46:58.954700Z",
     "start_time": "2021-11-29T08:46:47.508226Z"
    },
    "scrolled": true
   },
   "outputs": [
    {
     "name": "stdout",
     "output_type": "stream",
     "text": [
      "<Response [200]> https://movie.naver.com/movie/point/af/list.naver?st=mcode&sword=31607&target=after&page=1\n",
      "<Response [200]> https://movie.naver.com/movie/point/af/list.naver?st=mcode&sword=31607&target=after&page=2\n",
      "<Response [200]> https://movie.naver.com/movie/point/af/list.naver?st=mcode&sword=31607&target=after&page=3\n",
      "<Response [200]> https://movie.naver.com/movie/point/af/list.naver?st=mcode&sword=31607&target=after&page=4\n",
      "<Response [200]> https://movie.naver.com/movie/point/af/list.naver?st=mcode&sword=31607&target=after&page=5\n",
      "<Response [200]> https://movie.naver.com/movie/point/af/list.naver?st=mcode&sword=31607&target=after&page=6\n",
      "<Response [200]> https://movie.naver.com/movie/point/af/list.naver?st=mcode&sword=31607&target=after&page=7\n",
      "<Response [200]> https://movie.naver.com/movie/point/af/list.naver?st=mcode&sword=31607&target=after&page=8\n",
      "<Response [200]> https://movie.naver.com/movie/point/af/list.naver?st=mcode&sword=31607&target=after&page=9\n",
      "<Response [200]> https://movie.naver.com/movie/point/af/list.naver?st=mcode&sword=31607&target=after&page=10\n",
      "<Response [200]> https://movie.naver.com/movie/point/af/list.naver?st=mcode&sword=31607&target=after&page=11\n",
      "<Response [200]> https://movie.naver.com/movie/point/af/list.naver?st=mcode&sword=31607&target=after&page=12\n",
      "<Response [200]> https://movie.naver.com/movie/point/af/list.naver?st=mcode&sword=31607&target=after&page=13\n",
      "<Response [200]> https://movie.naver.com/movie/point/af/list.naver?st=mcode&sword=31607&target=after&page=14\n",
      "<Response [200]> https://movie.naver.com/movie/point/af/list.naver?st=mcode&sword=31607&target=after&page=15\n",
      "<Response [200]> https://movie.naver.com/movie/point/af/list.naver?st=mcode&sword=31607&target=after&page=16\n",
      "<Response [200]> https://movie.naver.com/movie/point/af/list.naver?st=mcode&sword=31607&target=after&page=17\n",
      "<Response [200]> https://movie.naver.com/movie/point/af/list.naver?st=mcode&sword=31607&target=after&page=18\n",
      "<Response [200]> https://movie.naver.com/movie/point/af/list.naver?st=mcode&sword=31607&target=after&page=19\n",
      "<Response [200]> https://movie.naver.com/movie/point/af/list.naver?st=mcode&sword=31607&target=after&page=20\n",
      "<Response [200]> https://movie.naver.com/movie/point/af/list.naver?st=mcode&sword=31607&target=after&page=21\n",
      "<Response [200]> https://movie.naver.com/movie/point/af/list.naver?st=mcode&sword=31607&target=after&page=22\n",
      "<Response [200]> https://movie.naver.com/movie/point/af/list.naver?st=mcode&sword=31607&target=after&page=23\n",
      "<Response [200]> https://movie.naver.com/movie/point/af/list.naver?st=mcode&sword=31607&target=after&page=24\n",
      "<Response [200]> https://movie.naver.com/movie/point/af/list.naver?st=mcode&sword=31607&target=after&page=25\n",
      "<Response [200]> https://movie.naver.com/movie/point/af/list.naver?st=mcode&sword=31607&target=after&page=26\n",
      "<Response [200]> https://movie.naver.com/movie/point/af/list.naver?st=mcode&sword=31607&target=after&page=27\n",
      "<Response [200]> https://movie.naver.com/movie/point/af/list.naver?st=mcode&sword=31607&target=after&page=28\n",
      "<Response [200]> https://movie.naver.com/movie/point/af/list.naver?st=mcode&sword=31607&target=after&page=29\n",
      "<Response [200]> https://movie.naver.com/movie/point/af/list.naver?st=mcode&sword=31607&target=after&page=30\n",
      "<Response [200]> https://movie.naver.com/movie/point/af/list.naver?st=mcode&sword=31607&target=after&page=31\n",
      "<Response [200]> https://movie.naver.com/movie/point/af/list.naver?st=mcode&sword=31607&target=after&page=32\n",
      "<Response [200]> https://movie.naver.com/movie/point/af/list.naver?st=mcode&sword=31607&target=after&page=33\n",
      "<Response [200]> https://movie.naver.com/movie/point/af/list.naver?st=mcode&sword=31607&target=after&page=34\n",
      "<Response [200]> https://movie.naver.com/movie/point/af/list.naver?st=mcode&sword=31607&target=after&page=35\n",
      "<Response [200]> https://movie.naver.com/movie/point/af/list.naver?st=mcode&sword=31607&target=after&page=36\n",
      "<Response [200]> https://movie.naver.com/movie/point/af/list.naver?st=mcode&sword=31607&target=after&page=37\n",
      "<Response [200]> https://movie.naver.com/movie/point/af/list.naver?st=mcode&sword=31607&target=after&page=38\n",
      "<Response [200]> https://movie.naver.com/movie/point/af/list.naver?st=mcode&sword=31607&target=after&page=39\n",
      "<Response [200]> https://movie.naver.com/movie/point/af/list.naver?st=mcode&sword=31607&target=after&page=40\n",
      "<Response [200]> https://movie.naver.com/movie/point/af/list.naver?st=mcode&sword=31607&target=after&page=41\n",
      "<Response [200]> https://movie.naver.com/movie/point/af/list.naver?st=mcode&sword=31607&target=after&page=42\n",
      "<Response [200]> https://movie.naver.com/movie/point/af/list.naver?st=mcode&sword=31607&target=after&page=43\n",
      "<Response [200]> https://movie.naver.com/movie/point/af/list.naver?st=mcode&sword=31607&target=after&page=44\n",
      "<Response [200]> https://movie.naver.com/movie/point/af/list.naver?st=mcode&sword=31607&target=after&page=45\n",
      "<Response [200]> https://movie.naver.com/movie/point/af/list.naver?st=mcode&sword=31607&target=after&page=46\n",
      "<Response [200]> https://movie.naver.com/movie/point/af/list.naver?st=mcode&sword=31607&target=after&page=47\n",
      "<Response [200]> https://movie.naver.com/movie/point/af/list.naver?st=mcode&sword=31607&target=after&page=48\n",
      "<Response [200]> https://movie.naver.com/movie/point/af/list.naver?st=mcode&sword=31607&target=after&page=49\n",
      "<Response [200]> https://movie.naver.com/movie/point/af/list.naver?st=mcode&sword=31607&target=after&page=50\n",
      "<Response [200]> https://movie.naver.com/movie/point/af/list.naver?st=mcode&sword=31607&target=after&page=51\n",
      "<Response [200]> https://movie.naver.com/movie/point/af/list.naver?st=mcode&sword=31607&target=after&page=52\n",
      "<Response [200]> https://movie.naver.com/movie/point/af/list.naver?st=mcode&sword=31607&target=after&page=53\n",
      "<Response [200]> https://movie.naver.com/movie/point/af/list.naver?st=mcode&sword=31607&target=after&page=54\n",
      "<Response [200]> https://movie.naver.com/movie/point/af/list.naver?st=mcode&sword=31607&target=after&page=55\n",
      "<Response [200]> https://movie.naver.com/movie/point/af/list.naver?st=mcode&sword=31607&target=after&page=56\n",
      "<Response [200]> https://movie.naver.com/movie/point/af/list.naver?st=mcode&sword=31607&target=after&page=57\n",
      "<Response [200]> https://movie.naver.com/movie/point/af/list.naver?st=mcode&sword=31607&target=after&page=58\n",
      "<Response [200]> https://movie.naver.com/movie/point/af/list.naver?st=mcode&sword=31607&target=after&page=59\n",
      "<Response [200]> https://movie.naver.com/movie/point/af/list.naver?st=mcode&sword=31607&target=after&page=60\n",
      "<Response [200]> https://movie.naver.com/movie/point/af/list.naver?st=mcode&sword=31607&target=after&page=61\n",
      "<Response [200]> https://movie.naver.com/movie/point/af/list.naver?st=mcode&sword=31607&target=after&page=62\n",
      "<Response [200]> https://movie.naver.com/movie/point/af/list.naver?st=mcode&sword=31607&target=after&page=63\n",
      "<Response [200]> https://movie.naver.com/movie/point/af/list.naver?st=mcode&sword=31607&target=after&page=64\n",
      "<Response [200]> https://movie.naver.com/movie/point/af/list.naver?st=mcode&sword=31607&target=after&page=65\n",
      "<Response [200]> https://movie.naver.com/movie/point/af/list.naver?st=mcode&sword=31607&target=after&page=66\n",
      "<Response [200]> https://movie.naver.com/movie/point/af/list.naver?st=mcode&sword=31607&target=after&page=67\n",
      "<Response [200]> https://movie.naver.com/movie/point/af/list.naver?st=mcode&sword=31607&target=after&page=68\n",
      "<Response [200]> https://movie.naver.com/movie/point/af/list.naver?st=mcode&sword=31607&target=after&page=69\n",
      "<Response [200]> https://movie.naver.com/movie/point/af/list.naver?st=mcode&sword=31607&target=after&page=70\n",
      "<Response [200]> https://movie.naver.com/movie/point/af/list.naver?st=mcode&sword=31607&target=after&page=71\n",
      "<Response [200]> https://movie.naver.com/movie/point/af/list.naver?st=mcode&sword=31607&target=after&page=72\n",
      "<Response [200]> https://movie.naver.com/movie/point/af/list.naver?st=mcode&sword=31607&target=after&page=73\n",
      "<Response [200]> https://movie.naver.com/movie/point/af/list.naver?st=mcode&sword=31607&target=after&page=74\n",
      "테스트 종료\n"
     ]
    }
   ],
   "source": [
    "# 고양이를 부탁해 영화 \n",
    "base_page_url = 'https://movie.naver.com/movie/point/af/list.naver?st=mcode&sword=31607&target=after&page='\n",
    "df_cat = save_df(base_page_url)"
   ]
  },
  {
   "cell_type": "code",
   "execution_count": null,
   "id": "210ea0d3",
   "metadata": {},
   "outputs": [],
   "source": []
  }
 ],
 "metadata": {
  "hide_input": false,
  "kernelspec": {
   "display_name": "Python 3",
   "language": "python",
   "name": "python3"
  },
  "language_info": {
   "codemirror_mode": {
    "name": "ipython",
    "version": 3
   },
   "file_extension": ".py",
   "mimetype": "text/x-python",
   "name": "python",
   "nbconvert_exporter": "python",
   "pygments_lexer": "ipython3",
   "version": "3.8.8"
  },
  "toc": {
   "base_numbering": 1,
   "nav_menu": {},
   "number_sections": true,
   "sideBar": true,
   "skip_h1_title": false,
   "title_cell": "Table of Contents",
   "title_sidebar": "Contents",
   "toc_cell": false,
   "toc_position": {},
   "toc_section_display": true,
   "toc_window_display": false
  },
  "varInspector": {
   "cols": {
    "lenName": 16,
    "lenType": 16,
    "lenVar": 40
   },
   "kernels_config": {
    "python": {
     "delete_cmd_postfix": "",
     "delete_cmd_prefix": "del ",
     "library": "var_list.py",
     "varRefreshCmd": "print(var_dic_list())"
    },
    "r": {
     "delete_cmd_postfix": ") ",
     "delete_cmd_prefix": "rm(",
     "library": "var_list.r",
     "varRefreshCmd": "cat(var_dic_list()) "
    }
   },
   "types_to_exclude": [
    "module",
    "function",
    "builtin_function_or_method",
    "instance",
    "_Feature"
   ],
   "window_display": false
  }
 },
 "nbformat": 4,
 "nbformat_minor": 5
}
