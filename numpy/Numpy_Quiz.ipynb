{
 "cells": [
  {
   "cell_type": "markdown",
   "metadata": {},
   "source": [
    "# Q1 넘파이 모듈을 np 별칭으로 임포트해라 "
   ]
  },
  {
   "cell_type": "code",
   "execution_count": 120,
   "metadata": {
    "ExecuteTime": {
     "end_time": "2021-11-25T01:01:55.934995Z",
     "start_time": "2021-11-25T01:01:55.927994Z"
    }
   },
   "outputs": [],
   "source": [
    "import numpy as np"
   ]
  },
  {
   "cell_type": "markdown",
   "metadata": {},
   "source": [
    "Q2 다음과 같은 리스트를 이용하여 \n",
    "\n",
    " 넘파이 배열을 만들고 \n",
    "\n",
    " 전체 갯수, 차원, 데이터형, 구조를 출력하여라 \n",
    "\n",
    "```\n",
    "['강아지', '원숭이', '꽃', '45', '100']\n",
    "\n",
    "array(['강아지', '원숭이', '꽃', '45', '100'], dtype='<U3')\n",
    "차원 ? 1\n",
    "전체 갯수 ? 5\n",
    "데이터형 ? <U3\n",
    "전체 구조  ? (5,)\n",
    "\n",
    "\n",
    "```"
   ]
  },
  {
   "cell_type": "code",
   "execution_count": 11,
   "metadata": {
    "ExecuteTime": {
     "end_time": "2021-11-23T13:48:37.022698Z",
     "start_time": "2021-11-23T13:48:37.006702Z"
    }
   },
   "outputs": [
    {
     "name": "stdout",
     "output_type": "stream",
     "text": [
      "['강아지' '원숭이' '꽃' '45' '100']\n"
     ]
    }
   ],
   "source": [
    "array1 = np.array(['강아지', '원숭이', '꽃', '45', '100'], dtype='<U3')\n",
    "print(array1)"
   ]
  },
  {
   "cell_type": "code",
   "execution_count": 12,
   "metadata": {
    "ExecuteTime": {
     "end_time": "2021-11-23T13:48:37.399188Z",
     "start_time": "2021-11-23T13:48:37.382395Z"
    }
   },
   "outputs": [
    {
     "data": {
      "text/plain": [
       "1"
      ]
     },
     "execution_count": 12,
     "metadata": {},
     "output_type": "execute_result"
    }
   ],
   "source": [
    "np.ndim(array1)"
   ]
  },
  {
   "cell_type": "code",
   "execution_count": 13,
   "metadata": {
    "ExecuteTime": {
     "end_time": "2021-11-23T13:48:37.760153Z",
     "start_time": "2021-11-23T13:48:37.748150Z"
    }
   },
   "outputs": [
    {
     "data": {
      "text/plain": [
       "(5,)"
      ]
     },
     "execution_count": 13,
     "metadata": {},
     "output_type": "execute_result"
    }
   ],
   "source": [
    "array1.shape"
   ]
  },
  {
   "cell_type": "code",
   "execution_count": 14,
   "metadata": {
    "ExecuteTime": {
     "end_time": "2021-11-23T13:48:38.574830Z",
     "start_time": "2021-11-23T13:48:38.568829Z"
    }
   },
   "outputs": [
    {
     "data": {
      "text/plain": [
       "dtype('<U3')"
      ]
     },
     "execution_count": 14,
     "metadata": {},
     "output_type": "execute_result"
    }
   ],
   "source": [
    "array1.dtype"
   ]
  },
  {
   "cell_type": "markdown",
   "metadata": {},
   "source": [
    "# Q3 np.ones()를 이용하여 \n",
    "\n",
    "# 2행 3열의 넘파이 배열을 생성하여라\n",
    "\n",
    "```\n",
    "\n",
    "array([[1., 1., 1.],\n",
    "       [1., 1., 1.]])\n",
    "\n",
    "\n",
    "```"
   ]
  },
  {
   "cell_type": "code",
   "execution_count": 62,
   "metadata": {
    "ExecuteTime": {
     "end_time": "2021-11-24T00:19:38.954572Z",
     "start_time": "2021-11-24T00:19:38.948573Z"
    }
   },
   "outputs": [
    {
     "data": {
      "text/plain": [
       "array([[1., 1., 1.],\n",
       "       [1., 1., 1.]])"
      ]
     },
     "execution_count": 62,
     "metadata": {},
     "output_type": "execute_result"
    }
   ],
   "source": [
    "np.ones((2,3))"
   ]
  },
  {
   "cell_type": "code",
   "execution_count": 17,
   "metadata": {
    "ExecuteTime": {
     "end_time": "2021-11-23T13:49:47.151971Z",
     "start_time": "2021-11-23T13:49:47.131751Z"
    }
   },
   "outputs": [
    {
     "data": {
      "text/plain": [
       "array([[1., 1.],\n",
       "       [1., 1.],\n",
       "       [1., 1.]])"
      ]
     },
     "execution_count": 17,
     "metadata": {},
     "output_type": "execute_result"
    }
   ],
   "source": [
    "np.ones((3,2))"
   ]
  },
  {
   "cell_type": "markdown",
   "metadata": {},
   "source": [
    "# Q4. np.arange(), np.reshape()를 이용하여\n",
    "# 다음과 같은 넘파이 배열을 생성하여라\n",
    "\n",
    "```\n",
    "array([[51, 52, 53, 54, 55],\n",
    "       [56, 57, 58, 59, 60],\n",
    "       [61, 62, 63, 64, 65],\n",
    "       [66, 67, 68, 69, 70],\n",
    "       [71, 72, 73, 74, 75],\n",
    "       [76, 77, 78, 79, 80]])\n",
    "       ```"
   ]
  },
  {
   "cell_type": "code",
   "execution_count": 25,
   "metadata": {
    "ExecuteTime": {
     "end_time": "2021-11-23T13:51:54.560629Z",
     "start_time": "2021-11-23T13:51:54.558626Z"
    }
   },
   "outputs": [],
   "source": [
    "array2 = np.arange(51,81).reshape((6,5))"
   ]
  },
  {
   "cell_type": "code",
   "execution_count": 26,
   "metadata": {
    "ExecuteTime": {
     "end_time": "2021-11-23T13:51:54.741912Z",
     "start_time": "2021-11-23T13:51:54.732368Z"
    }
   },
   "outputs": [
    {
     "data": {
      "text/plain": [
       "array([[51, 52, 53, 54, 55],\n",
       "       [56, 57, 58, 59, 60],\n",
       "       [61, 62, 63, 64, 65],\n",
       "       [66, 67, 68, 69, 70],\n",
       "       [71, 72, 73, 74, 75],\n",
       "       [76, 77, 78, 79, 80]])"
      ]
     },
     "execution_count": 26,
     "metadata": {},
     "output_type": "execute_result"
    }
   ],
   "source": [
    "array2"
   ]
  },
  {
   "cell_type": "code",
   "execution_count": null,
   "metadata": {},
   "outputs": [],
   "source": []
  },
  {
   "cell_type": "markdown",
   "metadata": {},
   "source": [
    "# Q5. Q4의 넘파이 배열의 자료형을 \n",
    "\n",
    "# float로 변경하고 데이터형을 출력하여라 \n",
    "\n",
    "```\n",
    "\n",
    "array([[51., 52., 53., 54., 55.],\n",
    "       [56., 57., 58., 59., 60.],\n",
    "       [61., 62., 63., 64., 65.],\n",
    "       [66., 67., 68., 69., 70.],\n",
    "       [71., 72., 73., 74., 75.],\n",
    "       [76., 77., 78., 79., 80.]])\n",
    "       \n",
    "-------------------------------------  \n",
    "  \n",
    "dtype('float64')\n",
    "       \n",
    "       ```"
   ]
  },
  {
   "cell_type": "code",
   "execution_count": 31,
   "metadata": {
    "ExecuteTime": {
     "end_time": "2021-11-23T13:55:20.322368Z",
     "start_time": "2021-11-23T13:55:20.310365Z"
    }
   },
   "outputs": [
    {
     "data": {
      "text/plain": [
       "array([51., 52., 53., 54., 55., 56., 57., 58., 59., 60., 61., 62., 63.,\n",
       "       64., 65., 66., 67., 68., 69., 70., 71., 72., 73., 74., 75., 76.,\n",
       "       77., 78., 79., 80.])"
      ]
     },
     "execution_count": 31,
     "metadata": {},
     "output_type": "execute_result"
    }
   ],
   "source": [
    "array2.flatten().astype('float64')"
   ]
  },
  {
   "cell_type": "code",
   "execution_count": null,
   "metadata": {},
   "outputs": [],
   "source": []
  },
  {
   "cell_type": "code",
   "execution_count": null,
   "metadata": {},
   "outputs": [],
   "source": []
  },
  {
   "cell_type": "code",
   "execution_count": null,
   "metadata": {},
   "outputs": [],
   "source": []
  },
  {
   "cell_type": "markdown",
   "metadata": {},
   "source": [
    "# Q6. 다음과 같이 넘파이 배열을 생성한 후 \n",
    "# 1차원 배열로 변경하고 슬라이싱하여라 \n",
    "\n",
    "```\n",
    "array([[ 1,  4,  5,  6],\n",
    "       [56, 23, 45, 67],\n",
    "       [ 8,  4,  6, 10]])\n",
    "       \n",
    "array([ 1,  4,  5,  6, 56, 23, 45, 67,  8,  4,  6, 10])\n",
    "\n",
    "\n",
    "array([23, 45, 67,  8,  4,  6])\n",
    "```       "
   ]
  },
  {
   "cell_type": "code",
   "execution_count": 35,
   "metadata": {
    "ExecuteTime": {
     "end_time": "2021-11-23T13:56:02.364345Z",
     "start_time": "2021-11-23T13:56:02.348347Z"
    }
   },
   "outputs": [],
   "source": [
    "array2 = np.array([[ 1,  4,  5,  6],\n",
    "       [56, 23, 45, 67],\n",
    "       [ 8,  4,  6, 10]]).flatten()"
   ]
  },
  {
   "cell_type": "code",
   "execution_count": 38,
   "metadata": {
    "ExecuteTime": {
     "end_time": "2021-11-23T13:56:20.708019Z",
     "start_time": "2021-11-23T13:56:20.698021Z"
    }
   },
   "outputs": [
    {
     "data": {
      "text/plain": [
       "array([23, 45, 67,  8,  4,  6])"
      ]
     },
     "execution_count": 38,
     "metadata": {},
     "output_type": "execute_result"
    }
   ],
   "source": [
    "array2[5:-1]"
   ]
  },
  {
   "cell_type": "code",
   "execution_count": null,
   "metadata": {},
   "outputs": [],
   "source": []
  },
  {
   "cell_type": "markdown",
   "metadata": {},
   "source": [
    "# Q7. 다음과 같은 넘파이 배열을 생성한 후 \n",
    "# 아이템을 교체하여라 \n",
    "\n",
    "```\n",
    "array([ 1,  2,  3,  4,  5,  6,  7,  8,  9, 10])\n",
    "\n",
    "array([10,  2,  3,  4,  5,  6,  7,  0,  0,  0])\n",
    "\n",
    "```"
   ]
  },
  {
   "cell_type": "code",
   "execution_count": 64,
   "metadata": {
    "ExecuteTime": {
     "end_time": "2021-11-24T00:32:08.568104Z",
     "start_time": "2021-11-24T00:32:08.557101Z"
    }
   },
   "outputs": [],
   "source": [
    "array4 = np.array([ 1,  2,  3,  4,  5,  6,  7,  8,  9, 10])"
   ]
  },
  {
   "cell_type": "code",
   "execution_count": 65,
   "metadata": {
    "ExecuteTime": {
     "end_time": "2021-11-24T00:32:17.579529Z",
     "start_time": "2021-11-24T00:32:17.571517Z"
    }
   },
   "outputs": [],
   "source": [
    "array4[0] = 10"
   ]
  },
  {
   "cell_type": "code",
   "execution_count": 66,
   "metadata": {
    "ExecuteTime": {
     "end_time": "2021-11-24T00:32:24.216378Z",
     "start_time": "2021-11-24T00:32:24.204373Z"
    }
   },
   "outputs": [],
   "source": [
    "array4[-1] = 1"
   ]
  },
  {
   "cell_type": "code",
   "execution_count": 67,
   "metadata": {
    "ExecuteTime": {
     "end_time": "2021-11-24T00:32:29.394788Z",
     "start_time": "2021-11-24T00:32:29.377784Z"
    }
   },
   "outputs": [
    {
     "data": {
      "text/plain": [
       "array([10,  2,  3,  4,  5,  6,  7,  8,  9,  1])"
      ]
     },
     "execution_count": 67,
     "metadata": {},
     "output_type": "execute_result"
    }
   ],
   "source": [
    "array4"
   ]
  },
  {
   "cell_type": "markdown",
   "metadata": {},
   "source": [
    "# Q8. 2자리의 숫자로 구성된 넘파이 배열(5행5열)을 만들어라.\n",
    "\n",
    "# 숫자는 난수를 이용한다. \n",
    "\n",
    "```\n",
    "[[63 85 71 67 15]\n",
    " [31 81 69 17 97]\n",
    " [25 41 33 23 39]\n",
    " [39 43 59 33 43]\n",
    " [23 51 65 91 23]]\n",
    "\n",
    "```"
   ]
  },
  {
   "cell_type": "code",
   "execution_count": 40,
   "metadata": {
    "ExecuteTime": {
     "end_time": "2021-11-23T14:18:22.051749Z",
     "start_time": "2021-11-23T14:18:22.047756Z"
    }
   },
   "outputs": [
    {
     "data": {
      "text/plain": [
       "array([[67, 74, 95, 18, 89],\n",
       "       [67, 19, 75, 87, 75],\n",
       "       [65, 22, 42, 74, 91],\n",
       "       [71, 12, 50, 79, 14],\n",
       "       [43, 28, 47, 23, 24]])"
      ]
     },
     "execution_count": 40,
     "metadata": {},
     "output_type": "execute_result"
    }
   ],
   "source": [
    "np.random.randint(1, 100, (5, 5) )"
   ]
  },
  {
   "cell_type": "code",
   "execution_count": null,
   "metadata": {},
   "outputs": [],
   "source": []
  },
  {
   "cell_type": "code",
   "execution_count": null,
   "metadata": {},
   "outputs": [],
   "source": []
  },
  {
   "cell_type": "code",
   "execution_count": null,
   "metadata": {},
   "outputs": [],
   "source": []
  },
  {
   "cell_type": "markdown",
   "metadata": {},
   "source": [
    "# Q9. 1~100 사이의 정수중 7개의 숫자를 무작위로 추출한 후 가장 큰값과 가장 작은 값을 출력하여라. \n",
    "\n",
    "```\n",
    "[91, 65, 14, 66, 65, 98, 34]\n",
    "\n",
    "max = 98\n",
    "min = 14\n",
    "```"
   ]
  },
  {
   "cell_type": "code",
   "execution_count": 47,
   "metadata": {
    "ExecuteTime": {
     "end_time": "2021-11-23T14:21:38.798841Z",
     "start_time": "2021-11-23T14:21:38.785822Z"
    }
   },
   "outputs": [],
   "source": [
    "array5 = np.arange(1,100)"
   ]
  },
  {
   "cell_type": "code",
   "execution_count": 51,
   "metadata": {
    "ExecuteTime": {
     "end_time": "2021-11-23T14:22:02.512521Z",
     "start_time": "2021-11-23T14:22:02.498521Z"
    }
   },
   "outputs": [],
   "source": [
    "np.random.shuffle(array5)"
   ]
  },
  {
   "cell_type": "code",
   "execution_count": 54,
   "metadata": {
    "ExecuteTime": {
     "end_time": "2021-11-23T14:22:53.804854Z",
     "start_time": "2021-11-23T14:22:53.786850Z"
    }
   },
   "outputs": [],
   "source": [
    "array5 = array5[:7]"
   ]
  },
  {
   "cell_type": "code",
   "execution_count": 56,
   "metadata": {
    "ExecuteTime": {
     "end_time": "2021-11-23T14:23:05.311528Z",
     "start_time": "2021-11-23T14:23:05.302529Z"
    }
   },
   "outputs": [
    {
     "data": {
      "text/plain": [
       "6"
      ]
     },
     "execution_count": 56,
     "metadata": {},
     "output_type": "execute_result"
    }
   ],
   "source": [
    "np.amin(array5)"
   ]
  },
  {
   "cell_type": "code",
   "execution_count": 55,
   "metadata": {
    "ExecuteTime": {
     "end_time": "2021-11-23T14:22:54.904691Z",
     "start_time": "2021-11-23T14:22:54.899690Z"
    }
   },
   "outputs": [
    {
     "data": {
      "text/plain": [
       "98"
      ]
     },
     "execution_count": 55,
     "metadata": {},
     "output_type": "execute_result"
    }
   ],
   "source": [
    "np.amax(array5)"
   ]
  },
  {
   "cell_type": "markdown",
   "metadata": {},
   "source": [
    "# Q10. 다음과 같은 3개의 넘파이 배열을 생성한 후 다음과 같이 합쳐라 \n",
    "\n",
    "\n",
    "```\n",
    "[[1, 2, 3],\n",
    " [4, 5, 6],\n",
    " [7, 8, 9]]\n",
    " \n",
    "\n",
    "[[11, 12, 13],\n",
    " [14, 15, 16],\n",
    " [17, 18, 19]]\n",
    "\n",
    "\n",
    "[[21, 22, 23],\n",
    " [24, 25, 26],\n",
    " [27, 28, 29]]\n",
    " \n",
    " ----------\n",
    "  Result1 \n",
    "  \n",
    " [[ 1,  2,  3, 11, 12, 13, 21, 22, 23],\n",
    "  [ 4,  5,  6, 14, 15, 16, 24, 25, 26],\n",
    "  [ 7,  8,  9, 17, 18, 19, 27, 28, 29]] \n",
    "  \n",
    "  \n",
    "  ----------\n",
    "  Result2\n",
    "   \n",
    " [[ 1,  2,  3],\n",
    "  [ 4,  5,  6],\n",
    "  [ 7,  8,  9],\n",
    "  [11, 12, 13],\n",
    "  [14, 15, 16],\n",
    "  [17, 18, 19],\n",
    "  [21, 22, 23],\n",
    "  [24, 25, 26],\n",
    "  [27, 28, 29]] \n",
    "```\n"
   ]
  },
  {
   "cell_type": "code",
   "execution_count": 69,
   "metadata": {
    "ExecuteTime": {
     "end_time": "2021-11-24T00:39:01.077688Z",
     "start_time": "2021-11-24T00:39:01.059683Z"
    }
   },
   "outputs": [],
   "source": [
    "array6 = np.array([[1, 2, 3],\n",
    "           [4, 5, 6],\n",
    "           [7, 8, 9]])\n",
    "\n",
    "\n",
    "array7 = np.array([[11, 12, 13],\n",
    "                  [14, 15, 16],\n",
    "                  [17, 18, 19]])\n",
    "array8 = np.array([[21, 22, 23], \n",
    "                   [24, 25, 26],\n",
    "                   [27, 28, 29]])"
   ]
  },
  {
   "cell_type": "code",
   "execution_count": 70,
   "metadata": {
    "ExecuteTime": {
     "end_time": "2021-11-24T00:39:06.145693Z",
     "start_time": "2021-11-24T00:39:06.139692Z"
    }
   },
   "outputs": [
    {
     "data": {
      "text/plain": [
       "array([[ 1,  2,  3],\n",
       "       [ 4,  5,  6],\n",
       "       [ 7,  8,  9],\n",
       "       [11, 12, 13],\n",
       "       [14, 15, 16],\n",
       "       [17, 18, 19],\n",
       "       [21, 22, 23],\n",
       "       [24, 25, 26],\n",
       "       [27, 28, 29]])"
      ]
     },
     "execution_count": 70,
     "metadata": {},
     "output_type": "execute_result"
    }
   ],
   "source": [
    "np.concatenate((array6, array7, array8), axis=0)"
   ]
  },
  {
   "cell_type": "code",
   "execution_count": 71,
   "metadata": {
    "ExecuteTime": {
     "end_time": "2021-11-24T00:39:10.875674Z",
     "start_time": "2021-11-24T00:39:10.867674Z"
    }
   },
   "outputs": [
    {
     "data": {
      "text/plain": [
       "array([[ 1,  2,  3, 11, 12, 13, 21, 22, 23],\n",
       "       [ 4,  5,  6, 14, 15, 16, 24, 25, 26],\n",
       "       [ 7,  8,  9, 17, 18, 19, 27, 28, 29]])"
      ]
     },
     "execution_count": 71,
     "metadata": {},
     "output_type": "execute_result"
    }
   ],
   "source": [
    "np.concatenate((array6, array7, array8), axis=1)"
   ]
  },
  {
   "cell_type": "code",
   "execution_count": null,
   "metadata": {},
   "outputs": [],
   "source": []
  },
  {
   "cell_type": "code",
   "execution_count": null,
   "metadata": {},
   "outputs": [],
   "source": []
  },
  {
   "cell_type": "markdown",
   "metadata": {},
   "source": [
    "# Q11. 아래와 같이 넘파이 배열을 생성한 후 \n",
    "\n",
    "# 50보다 큰 숫자만 필터링하여라. \n",
    "\n",
    "```\n",
    "arr = np.random.choice(100, 40, replace=False)\n",
    "\n",
    "Before => \n",
    "\n",
    "[40, 63,  8,  2, 35, 84, 72, 48, 78, 86, 87, 58,  0, 49, 14, 55, 11,\n",
    "       73, 39, 26, 75, 27, 99, 46, 25, 22, 34, 83, 24, 47, 31, 57, 62, 19,\n",
    "       36, 15, 17, 10, 98, 90]\n",
    "\n",
    "\n",
    "After =>\n",
    "\n",
    "[63, 84, 72, 78, 86, 87, 58, 55, 73, 75, 99, 83, 57, 62, 98, 90]\n",
    "\n",
    "\n",
    "```"
   ]
  },
  {
   "cell_type": "code",
   "execution_count": 72,
   "metadata": {
    "ExecuteTime": {
     "end_time": "2021-11-24T02:32:06.912138Z",
     "start_time": "2021-11-24T02:32:06.904138Z"
    }
   },
   "outputs": [],
   "source": [
    "arr = np.random.choice(100, 40, replace=False)"
   ]
  },
  {
   "cell_type": "code",
   "execution_count": 75,
   "metadata": {
    "ExecuteTime": {
     "end_time": "2021-11-24T02:32:57.033716Z",
     "start_time": "2021-11-24T02:32:57.027721Z"
    }
   },
   "outputs": [
    {
     "data": {
      "text/plain": [
       "array([53, 11, 52, 80, 95, 35, 48, 78, 63, 68, 15, 67, 43,  9, 66, 33, 85,\n",
       "       96, 16, 64, 45, 81, 90, 37, 28, 19, 77, 42, 13, 47,  0, 49, 54, 36,\n",
       "        5, 92, 87, 26, 83, 50])"
      ]
     },
     "execution_count": 75,
     "metadata": {},
     "output_type": "execute_result"
    }
   ],
   "source": [
    "arr"
   ]
  },
  {
   "cell_type": "code",
   "execution_count": 77,
   "metadata": {
    "ExecuteTime": {
     "end_time": "2021-11-24T02:33:34.041723Z",
     "start_time": "2021-11-24T02:33:34.035715Z"
    }
   },
   "outputs": [
    {
     "data": {
      "text/plain": [
       "array([53, 52, 80, 95, 78, 63, 68, 67, 66, 85, 96, 64, 81, 90, 77, 54, 92,\n",
       "       87, 83])"
      ]
     },
     "execution_count": 77,
     "metadata": {},
     "output_type": "execute_result"
    }
   ],
   "source": [
    "arr[np.where(arr> 50)]"
   ]
  },
  {
   "cell_type": "markdown",
   "metadata": {},
   "source": [
    "# Quiz 12\n",
    "\n",
    "```\n",
    "\n",
    "kor = np.array( [60,55,70,30,20,90])\n",
    "\n",
    "\n",
    "1. 국어점수가 가장큰값을 구하여라\n",
    "2. 국어점수가 80점이상인 값을 구하여라\n",
    "3. 국어 점수가 50점이상 80점 이하인 값을 구하여라\n",
    "4. 국어점수의 평균을 구하여라\n",
    "5. 국어점수의 총합을 구하여라.\n",
    "6. 국어점수가 40점이하인 데이터를 삭제하여라\n",
    "7. 국어점수가 50점이상인 데이터에 가산점 10%를 부여하여라\n",
    "8. 국어점수 top 5를 구하여라\n",
    "9. 국어점수가 70점이상이면 '합격' , 아니면 '불합격으로' 아래와 같이 출력하시요\n",
    "\n",
    "60 '불합격'\n",
    "55 '불합격'\n",
    "```"
   ]
  },
  {
   "cell_type": "code",
   "execution_count": 78,
   "metadata": {
    "ExecuteTime": {
     "end_time": "2021-11-24T02:34:01.856590Z",
     "start_time": "2021-11-24T02:34:01.845571Z"
    }
   },
   "outputs": [
    {
     "data": {
      "text/plain": [
       "90"
      ]
     },
     "execution_count": 78,
     "metadata": {},
     "output_type": "execute_result"
    }
   ],
   "source": [
    "kor = np.array( [60,55,70,30,20,90])\n",
    "np.amax(kor)"
   ]
  },
  {
   "cell_type": "code",
   "execution_count": 81,
   "metadata": {
    "ExecuteTime": {
     "end_time": "2021-11-24T02:35:07.340998Z",
     "start_time": "2021-11-24T02:35:07.331990Z"
    }
   },
   "outputs": [
    {
     "data": {
      "text/plain": [
       "array([60, 55, 70])"
      ]
     },
     "execution_count": 81,
     "metadata": {},
     "output_type": "execute_result"
    }
   ],
   "source": [
    "kor[(kor > 50) & (kor < 80)]"
   ]
  },
  {
   "cell_type": "code",
   "execution_count": 82,
   "metadata": {
    "ExecuteTime": {
     "end_time": "2021-11-24T02:35:55.638480Z",
     "start_time": "2021-11-24T02:35:55.627477Z"
    }
   },
   "outputs": [
    {
     "data": {
      "text/plain": [
       "54.166666666666664"
      ]
     },
     "execution_count": 82,
     "metadata": {},
     "output_type": "execute_result"
    }
   ],
   "source": [
    "np.mean(kor)"
   ]
  },
  {
   "cell_type": "code",
   "execution_count": 83,
   "metadata": {
    "ExecuteTime": {
     "end_time": "2021-11-24T02:36:02.872786Z",
     "start_time": "2021-11-24T02:36:02.859781Z"
    }
   },
   "outputs": [
    {
     "data": {
      "text/plain": [
       "325"
      ]
     },
     "execution_count": 83,
     "metadata": {},
     "output_type": "execute_result"
    }
   ],
   "source": [
    "np.sum(kor)"
   ]
  },
  {
   "cell_type": "code",
   "execution_count": 84,
   "metadata": {
    "ExecuteTime": {
     "end_time": "2021-11-24T02:37:05.286230Z",
     "start_time": "2021-11-24T02:37:05.276249Z"
    }
   },
   "outputs": [
    {
     "data": {
      "text/plain": [
       "array([66. , 60.5, 77. , 99. ])"
      ]
     },
     "execution_count": 84,
     "metadata": {},
     "output_type": "execute_result"
    }
   ],
   "source": [
    "# 국어점수가 50점이상인 데이터에 가산점 10%를 부여하여라\n",
    "kor[kor > 50] *1.1"
   ]
  },
  {
   "cell_type": "code",
   "execution_count": 87,
   "metadata": {
    "ExecuteTime": {
     "end_time": "2021-11-24T02:39:19.391869Z",
     "start_time": "2021-11-24T02:39:19.378860Z"
    }
   },
   "outputs": [
    {
     "data": {
      "text/plain": [
       "array([90, 70, 60, 55, 30])"
      ]
     },
     "execution_count": 87,
     "metadata": {},
     "output_type": "execute_result"
    }
   ],
   "source": [
    "#국어점수 top 5를 구하여라\n",
    "np.sort(kor)[::-1][:5]"
   ]
  },
  {
   "cell_type": "code",
   "execution_count": 80,
   "metadata": {
    "ExecuteTime": {
     "end_time": "2021-11-24T02:34:33.257117Z",
     "start_time": "2021-11-24T02:34:33.251106Z"
    }
   },
   "outputs": [
    {
     "data": {
      "text/plain": [
       "array([90])"
      ]
     },
     "execution_count": 80,
     "metadata": {},
     "output_type": "execute_result"
    }
   ],
   "source": [
    "kor[np.where(kor>80)]"
   ]
  },
  {
   "cell_type": "code",
   "execution_count": 90,
   "metadata": {
    "ExecuteTime": {
     "end_time": "2021-11-24T04:30:31.124949Z",
     "start_time": "2021-11-24T04:30:31.108944Z"
    }
   },
   "outputs": [
    {
     "data": {
      "text/plain": [
       "array(['불합격', '불합격', '합격', '불합격', '불합격', '합격'], dtype='<U3')"
      ]
     },
     "execution_count": 90,
     "metadata": {},
     "output_type": "execute_result"
    }
   ],
   "source": [
    "np.where(kor>=70,\"합격\",\"불합격\")"
   ]
  },
  {
   "cell_type": "code",
   "execution_count": 89,
   "metadata": {
    "ExecuteTime": {
     "end_time": "2021-11-24T02:43:46.711190Z",
     "start_time": "2021-11-24T02:43:46.695194Z"
    }
   },
   "outputs": [
    {
     "name": "stdout",
     "output_type": "stream",
     "text": [
      "60 불합격\n",
      "55 불합격\n",
      "70 불합격\n",
      "30 불합격\n",
      "20 불합격\n",
      "90 합격\n"
     ]
    }
   ],
   "source": [
    "for a in kor:\n",
    "    if a >70:\n",
    "        print(a, \"합격\")\n",
    "    else:\n",
    "        print(a, \"불합격\")"
   ]
  },
  {
   "cell_type": "markdown",
   "metadata": {},
   "source": [
    "# Quiz 13\n",
    "\n",
    "```\n",
    "1) 아래 명령을 이용하여 ratings.dat 파일의 데이타를 넘파이 배열로 생성하여라\n",
    "\n",
    "    np.loadtxt('data/ratings.dat', delimiter='::', dtype=np.int64)\n",
    "\n",
    "    데이타형태는 다음과 같다. \n",
    "    ratings.dat => 무비렌즈의 영화평점데이타 \n",
    "    (userId / movieId/rating/ timestamp)\n",
    "     예) 1::1193::5:: 978300760\n",
    "\n",
    "2) movieId 가 55인 데이타의 갯수는?\n",
    "\n",
    "3) movieId 가 55인 데이타의 평균평점은? \n",
    "\n",
    "4) timestamp는 시계열데이타이다. timestamp 데이타를 이용하여 97년도 데이타만 추출한 후 \n",
    "   총 데이타 갯수와 평균 평점을 구하여라\n",
    "   \n",
    " ```"
   ]
  },
  {
   "cell_type": "code",
   "execution_count": null,
   "metadata": {},
   "outputs": [],
   "source": []
  },
  {
   "cell_type": "code",
   "execution_count": null,
   "metadata": {},
   "outputs": [],
   "source": []
  },
  {
   "cell_type": "markdown",
   "metadata": {},
   "source": [
    "# Quiz 14\n",
    "\n",
    "```\n",
    "1) 'jeju2021.csv' 제주의 온도 데이타를 csv 파일로 저장한 후 \n",
    "   np.loadtxt() 명령을 이용하여 필요한 컬럼과 데이터만 로딩하여라 \n",
    "   \n",
    "   '일시', '평균기온(℃)', '최고기온(℃)', '최저기온(℃)'\n",
    "   \n",
    "    data = np.loadtxt('data/jeju2021.csv', \n",
    "                        delimiter=',' , \n",
    "                        dtype=np.str ,\n",
    "                       usecols=(2,3,5,8))\n",
    "   \n",
    "   \n",
    "\n",
    "2) 1)의 넘파이 배열의 데이타 형태를 실수 형태로 변경하여라 \n",
    "   데이타의 결측치나 이상값은 -99로 지정한다. \n",
    "\n",
    "[[20210101.0, 6.8, 18.2, -4.6],\n",
    " [20201201.0, 8.0, 16.3, -2.8],\n",
    " [20201101.0, 14.6, 26.7, 4.8],\n",
    " [20201001.0, 18.5, 25.8, 10.2],\n",
    " [20200901.0, 22.5, 32.5, 14.9],\n",
    " [20200801.0, 28.4, 36.3, 22.3],\n",
    " [20200701.0, 23.8, 34.3, 16.8],\n",
    " [20200601.0, 22.4, 30.9, 11.7],\n",
    " [20200501.0, 18.8, 29.5, 10.3],\n",
    " ...\n",
    "\n",
    "3) 아래의 명령어를 이용하여 데이타값의 소숫점 처리를 3자리로 변경하여라 \n",
    "\n",
    "np.set_printoptions(precision=3)\n",
    "np.set_printoptions(formatter={'float_kind': lambda x: \"{0:0.3f}\".format(x)})\n",
    "\n",
    "4) 제주도의 최고 기온은?\n",
    "\n",
    "5) 2018년도 제주도 기온 데이타만 출력하여라. \n",
    "\n",
    "6) 최저 기온이 -5도 이하인 데이타만 출력하여라. \n",
    "\n",
    "7) 2018년도 기온 데이타에서 최고 기온이 28도 보다 높은 경우의 데이타만 출력하여라.\n",
    "   \n",
    " ```"
   ]
  },
  {
   "cell_type": "code",
   "execution_count": 121,
   "metadata": {
    "ExecuteTime": {
     "end_time": "2021-11-25T01:02:19.302971Z",
     "start_time": "2021-11-25T01:02:19.255962Z"
    }
   },
   "outputs": [
    {
     "name": "stderr",
     "output_type": "stream",
     "text": [
      "<ipython-input-121-0687b9a90091>:3: DeprecationWarning: `np.str` is a deprecated alias for the builtin `str`. To silence this warning, use `str` by itself. Doing this will not modify any behavior and is safe. If you specifically wanted the numpy scalar type, use `np.str_` here.\n",
      "Deprecated in NumPy 1.20; for more details and guidance: https://numpy.org/devdocs/release/1.20.0-notes.html#deprecations\n",
      "  dtype=np.str ,\n"
     ]
    },
    {
     "data": {
      "text/plain": [
       "array([['2021-01-01', '6.8', '18.2', '-4.6'],\n",
       "       ['2020-12-01', '8', '16.3', '-2.8'],\n",
       "       ['2020-11-01', '14.6', '26.7', '4.8'],\n",
       "       ...,\n",
       "       ['', '', '', ''],\n",
       "       ['', '', '', ''],\n",
       "       ['', '', '', '']], dtype='<U10')"
      ]
     },
     "execution_count": 121,
     "metadata": {},
     "output_type": "execute_result"
    }
   ],
   "source": [
    "data = np.loadtxt('data/jeju2021.csv', \n",
    "                        delimiter=',' , \n",
    "                        dtype=np.str ,\n",
    "                       usecols=(2,3,5,8))\n",
    "data\n"
   ]
  },
  {
   "cell_type": "code",
   "execution_count": 123,
   "metadata": {
    "ExecuteTime": {
     "end_time": "2021-11-25T01:02:46.812687Z",
     "start_time": "2021-11-25T01:02:46.800687Z"
    }
   },
   "outputs": [
    {
     "data": {
      "text/plain": [
       "6"
      ]
     },
     "execution_count": 123,
     "metadata": {},
     "output_type": "execute_result"
    }
   ],
   "source": [
    "# 데이타가 없는 갯수는?\n",
    "len(data[data[:, 0] == ''])"
   ]
  },
  {
   "cell_type": "code",
   "execution_count": 124,
   "metadata": {
    "ExecuteTime": {
     "end_time": "2021-11-25T01:02:50.744145Z",
     "start_time": "2021-11-25T01:02:50.729135Z"
    }
   },
   "outputs": [
    {
     "data": {
      "text/plain": [
       "array([['', '', '', ''],\n",
       "       ['', '', '', ''],\n",
       "       ['', '', '', ''],\n",
       "       ['', '', '', ''],\n",
       "       ['', '', '', ''],\n",
       "       ['', '', '', '']], dtype='<U10')"
      ]
     },
     "execution_count": 124,
     "metadata": {},
     "output_type": "execute_result"
    }
   ],
   "source": [
    "# data[:, 0] == ''\n",
    "data[data[:, 0] == '']"
   ]
  },
  {
   "cell_type": "code",
   "execution_count": 125,
   "metadata": {
    "ExecuteTime": {
     "end_time": "2021-11-25T01:02:55.940500Z",
     "start_time": "2021-11-25T01:02:55.928496Z"
    }
   },
   "outputs": [
    {
     "data": {
      "text/plain": [
       "array([['', '', '', ''],\n",
       "       ['', '', '', ''],\n",
       "       ['', '', '', ''],\n",
       "       ['', '', '', ''],\n",
       "       ['', '', '', ''],\n",
       "       ['', '', '', '']], dtype='<U10')"
      ]
     },
     "execution_count": 125,
     "metadata": {},
     "output_type": "execute_result"
    }
   ],
   "source": [
    "# 값이 없는 데이타 출력 \n",
    "# data[:, 0] == ''\n",
    "data[data[:, 0] == '']"
   ]
  },
  {
   "cell_type": "code",
   "execution_count": 126,
   "metadata": {
    "ExecuteTime": {
     "end_time": "2021-11-25T01:03:09.217772Z",
     "start_time": "2021-11-25T01:03:09.207766Z"
    }
   },
   "outputs": [],
   "source": [
    "# 빈 리스트 생성 \n",
    "result = []\n",
    "for row in data:\n",
    "    temp = []\n",
    "    try:\n",
    "        if row[0]:\n",
    "            # '2021-01-01' => 20210101\n",
    "            date = float(row[0].replace('-',''))\n",
    "        else:\n",
    "            date=-99\n",
    "        temp.append(date) # [20210101.0, 6.8, 18.2, -4.6]\n",
    "        # 각행의 2,3,4 값 처리 \n",
    "        # 숫자.숫자 형태라면 실수형태로 변경해서 삽입 \n",
    "        # 그외에는 -99 입력 \n",
    "        for item in row[1:]:            \n",
    "            try:\n",
    "                temp.append(float(item)) \n",
    "            except:\n",
    "                temp.append(-99)\n",
    "\n",
    "    except:\n",
    "        pass\n",
    "    else:\n",
    "        result.append(temp)  "
   ]
  },
  {
   "cell_type": "code",
   "execution_count": 129,
   "metadata": {
    "ExecuteTime": {
     "end_time": "2021-11-25T01:14:18.566057Z",
     "start_time": "2021-11-25T01:14:18.553054Z"
    }
   },
   "outputs": [
    {
     "data": {
      "text/plain": [
       "array([[ 2.0210101e+07,  6.8000000e+00,  1.8200000e+01, -4.6000000e+00],\n",
       "       [ 2.0201201e+07,  8.0000000e+00,  1.6300000e+01, -2.8000000e+00],\n",
       "       [ 2.0201101e+07,  1.4600000e+01,  2.6700000e+01,  4.8000000e+00],\n",
       "       ...,\n",
       "       [-9.9000000e+01, -9.9000000e+01, -9.9000000e+01, -9.9000000e+01],\n",
       "       [-9.9000000e+01, -9.9000000e+01, -9.9000000e+01, -9.9000000e+01],\n",
       "       [-9.9000000e+01, -9.9000000e+01, -9.9000000e+01, -9.9000000e+01]])"
      ]
     },
     "execution_count": 129,
     "metadata": {},
     "output_type": "execute_result"
    }
   ],
   "source": [
    "# 넘파이 배열화 \n",
    "arr_jeju = np.array(result)\n",
    "arr_jeju"
   ]
  },
  {
   "cell_type": "code",
   "execution_count": 130,
   "metadata": {
    "ExecuteTime": {
     "end_time": "2021-11-25T01:14:23.492307Z",
     "start_time": "2021-11-25T01:14:23.478297Z"
    }
   },
   "outputs": [],
   "source": [
    "# arr_jeju2 : 최고기온 에서 -99 가 없는 넘파이 배열 생성 \n",
    "arr_jeju2 = arr_jeju[arr_jeju[:,2]!=-99]"
   ]
  },
  {
   "cell_type": "code",
   "execution_count": 131,
   "metadata": {
    "ExecuteTime": {
     "end_time": "2021-11-25T01:14:30.087969Z",
     "start_time": "2021-11-25T01:14:30.070965Z"
    }
   },
   "outputs": [
    {
     "data": {
      "text/plain": [
       "array([[ 2.0210101e+07,  6.8000000e+00,  1.8200000e+01, -4.6000000e+00],\n",
       "       [ 2.0201201e+07,  8.0000000e+00,  1.6300000e+01, -2.8000000e+00],\n",
       "       [ 2.0201101e+07,  1.4600000e+01,  2.6700000e+01,  4.8000000e+00],\n",
       "       ...,\n",
       "       [ 1.9730301e+07,  9.6000000e+00,  2.2900000e+01, -2.0000000e+00],\n",
       "       [ 1.9730201e+07,  7.6000000e+00,  1.9100000e+01,  4.3000000e+00],\n",
       "       [ 1.9730101e+07,  7.5000000e+00,  1.9600000e+01, -1.6000000e+00]])"
      ]
     },
     "execution_count": 131,
     "metadata": {},
     "output_type": "execute_result"
    }
   ],
   "source": [
    "arr_jeju2"
   ]
  },
  {
   "cell_type": "code",
   "execution_count": 132,
   "metadata": {
    "ExecuteTime": {
     "end_time": "2021-11-25T01:14:38.076212Z",
     "start_time": "2021-11-25T01:14:38.071212Z"
    }
   },
   "outputs": [
    {
     "data": {
      "text/plain": [
       "37.4"
      ]
     },
     "execution_count": 132,
     "metadata": {},
     "output_type": "execute_result"
    }
   ],
   "source": [
    "# 최고기온의 max\n",
    "arr_jeju_max = np.max(arr_jeju2[:,2])\n",
    "arr_jeju_max"
   ]
  },
  {
   "cell_type": "code",
   "execution_count": 133,
   "metadata": {
    "ExecuteTime": {
     "end_time": "2021-11-25T01:14:42.172446Z",
     "start_time": "2021-11-25T01:14:42.159444Z"
    }
   },
   "outputs": [
    {
     "data": {
      "text/plain": [
       "array([[1.9980801e+07, 2.7900000e+01, 3.7400000e+01, 1.9100000e+01]])"
      ]
     },
     "execution_count": 133,
     "metadata": {},
     "output_type": "execute_result"
    }
   ],
   "source": [
    "# 최고기온 max의 날짜는?\n",
    "arr_jeju2[arr_jeju2[:, 2]==arr_jeju_max]"
   ]
  },
  {
   "cell_type": "code",
   "execution_count": 134,
   "metadata": {
    "ExecuteTime": {
     "end_time": "2021-11-25T01:14:46.675391Z",
     "start_time": "2021-11-25T01:14:46.664387Z"
    }
   },
   "outputs": [
    {
     "data": {
      "text/plain": [
       "19980801.0"
      ]
     },
     "execution_count": 134,
     "metadata": {},
     "output_type": "execute_result"
    }
   ],
   "source": [
    "arr_jeju2[arr_jeju2[:, 2]==arr_jeju_max][0,0]"
   ]
  },
  {
   "cell_type": "code",
   "execution_count": 135,
   "metadata": {
    "ExecuteTime": {
     "end_time": "2021-11-25T01:14:51.921148Z",
     "start_time": "2021-11-25T01:14:51.903111Z"
    }
   },
   "outputs": [
    {
     "data": {
      "text/plain": [
       "'19980801'"
      ]
     },
     "execution_count": 135,
     "metadata": {},
     "output_type": "execute_result"
    }
   ],
   "source": [
    "arr_jeju_max_date = str(int(arr_jeju[arr_jeju[:, 2]==arr_jeju_max][0, 0]))\n",
    "arr_jeju_max_date"
   ]
  },
  {
   "cell_type": "code",
   "execution_count": 136,
   "metadata": {
    "ExecuteTime": {
     "end_time": "2021-11-25T01:14:58.965321Z",
     "start_time": "2021-11-25T01:14:58.951311Z"
    }
   },
   "outputs": [],
   "source": [
    "arr_jeju_max_date2 = (arr_jeju_max_date[:4], arr_jeju_max_date[4:6], arr_jeju_max_date[-2:])"
   ]
  },
  {
   "cell_type": "code",
   "execution_count": 137,
   "metadata": {
    "ExecuteTime": {
     "end_time": "2021-11-25T01:16:37.110174Z",
     "start_time": "2021-11-25T01:16:37.103174Z"
    }
   },
   "outputs": [
    {
     "data": {
      "text/plain": [
       "'19980801'"
      ]
     },
     "execution_count": 137,
     "metadata": {},
     "output_type": "execute_result"
    }
   ],
   "source": [
    "arr_jeju_max_date = str(int(arr_jeju[arr_jeju[:, 2]==arr_jeju_max][0, 0]))\n",
    "arr_jeju_max_date"
   ]
  },
  {
   "cell_type": "code",
   "execution_count": 138,
   "metadata": {
    "ExecuteTime": {
     "end_time": "2021-11-25T01:16:41.197453Z",
     "start_time": "2021-11-25T01:16:41.183433Z"
    }
   },
   "outputs": [
    {
     "data": {
      "text/plain": [
       "'날짜 : 1998년 08월 01일  기온 : 37.4'"
      ]
     },
     "execution_count": 138,
     "metadata": {},
     "output_type": "execute_result"
    }
   ],
   "source": [
    "f'날짜 : {arr_jeju_max_date2[0]}년 {arr_jeju_max_date2[1]}월 {arr_jeju_max_date2[2]}일  기온 : {arr_jeju_max}'"
   ]
  },
  {
   "cell_type": "code",
   "execution_count": 139,
   "metadata": {
    "ExecuteTime": {
     "end_time": "2021-11-25T01:16:45.675768Z",
     "start_time": "2021-11-25T01:16:45.664764Z"
    }
   },
   "outputs": [
    {
     "data": {
      "text/plain": [
       "array([[ 2.0181201e+07,  9.3000000e+00,  2.2900000e+01, -1.0000000e+00],\n",
       "       [ 2.0181101e+07,  1.4200000e+01,  2.1800000e+01,  3.8000000e+00],\n",
       "       [ 2.0181001e+07,  1.7900000e+01,  2.7000000e+01,  7.9000000e+00],\n",
       "       [ 2.0180901e+07,  2.3700000e+01,  3.1200000e+01,  2.1300000e+01],\n",
       "       [ 2.0180801e+07,  2.8300000e+01,  3.5500000e+01,  2.2300000e+01],\n",
       "       [ 2.0180701e+07,  2.7000000e+01,  3.5000000e+01,  1.9400000e+01],\n",
       "       [ 2.0180601e+07,  2.2200000e+01,  3.2300000e+01,  1.3100000e+01],\n",
       "       [ 2.0180501e+07,  1.8900000e+01,  3.1100000e+01,  6.7000000e+00],\n",
       "       [ 2.0180401e+07,  1.5900000e+01,  2.6100000e+01,  5.0000000e-01],\n",
       "       [ 2.0180301e+07,  1.1600000e+01,  2.3200000e+01,  1.7000000e+00],\n",
       "       [ 2.0180201e+07,  5.9000000e+00,  1.7500000e+01, -3.8000000e+00],\n",
       "       [ 2.0180101e+07,  5.4000000e+00,  1.6200000e+01, -3.7000000e+00]])"
      ]
     },
     "execution_count": 139,
     "metadata": {},
     "output_type": "execute_result"
    }
   ],
   "source": [
    "# 5) 2018년도 제주도 기온 데이타만 출력하여라\n",
    "\n",
    "arr_jeju2018 = arr_jeju[(arr_jeju[:, 0] >= 20180000) & (arr_jeju[:, 0] < 20190000)]\n",
    "arr_jeju2018"
   ]
  },
  {
   "cell_type": "code",
   "execution_count": 140,
   "metadata": {
    "ExecuteTime": {
     "end_time": "2021-11-25T01:16:51.772112Z",
     "start_time": "2021-11-25T01:16:51.759109Z"
    }
   },
   "outputs": [],
   "source": [
    "np.set_printoptions(precision=3)\n",
    "np.set_printoptions(formatter={'float_kind': lambda x: \"{0:0.3f}\".format(x)})"
   ]
  },
  {
   "cell_type": "code",
   "execution_count": 141,
   "metadata": {
    "ExecuteTime": {
     "end_time": "2021-11-25T01:16:56.695082Z",
     "start_time": "2021-11-25T01:16:56.687089Z"
    }
   },
   "outputs": [
    {
     "data": {
      "text/plain": [
       "array([[20160101.000, 6.200, 17.500, -6.900],\n",
       "       [20010201.000, 7.600, 22.600, -5.100],\n",
       "       [19900101.000, 5.600, 18.600, -7.000],\n",
       "       [19810201.000, 5.800, 16.200, -5.700],\n",
       "       [19810101.000, 4.100, 15.000, -5.000],\n",
       "       [19770201.000, 4.500, 17.500, -6.400]])"
      ]
     },
     "execution_count": 141,
     "metadata": {},
     "output_type": "execute_result"
    }
   ],
   "source": [
    "# 6) 최저 기온이 -5도 이하인 데이타만 출력하여라.\n",
    "arr_jeju2[(arr_jeju2[:, 3] <= -5) & (arr_jeju2[:, 3] > -99 )]"
   ]
  },
  {
   "cell_type": "code",
   "execution_count": 142,
   "metadata": {
    "ExecuteTime": {
     "end_time": "2021-11-25T01:17:07.892360Z",
     "start_time": "2021-11-25T01:17:07.879360Z"
    }
   },
   "outputs": [
    {
     "data": {
      "text/plain": [
       "array([[20180901.000, 23.700, 31.200, 21.300],\n",
       "       [20180801.000, 28.300, 35.500, 22.300],\n",
       "       [20180701.000, 27.000, 35.000, 19.400],\n",
       "       [20180601.000, 22.200, 32.300, 13.100],\n",
       "       [20180501.000, 18.900, 31.100, 6.700]])"
      ]
     },
     "execution_count": 142,
     "metadata": {},
     "output_type": "execute_result"
    }
   ],
   "source": [
    "# 7) 2018년도 기온 데이타에서 최고 기온이 28도 보다 높은 경우의 데이타만 출력하여라.\n",
    "arr_jeju2018[arr_jeju2018[:, 2] >= 28 ]"
   ]
  },
  {
   "cell_type": "code",
   "execution_count": null,
   "metadata": {},
   "outputs": [],
   "source": []
  },
  {
   "cell_type": "markdown",
   "metadata": {},
   "source": [
    "# Quiz 15\n",
    "\n",
    "```\n",
    "birthArr = np.loadtxt('data/births.txt',delimiter=',', dtype=np.int64)\n",
    "\n",
    "1. 남아 ,여아 출생 평균을 구하여라\n",
    "2. 남아출생이 가장많은 top5  를 구하여라(년도와 남아수)\n",
    "3. 남아율(%) 을 구하고 각년도별  남아수가 차지하는비율을 데이터로  출력하여라 \n",
    "\n",
    "년도    남아    여아    남아율\n",
    "=================================\n",
    "..\n",
    "4. 2000년도 이후데이터 에 대해  출생량 을 구하고 \n",
    "남아수가 1800000 이상이면 '많음'아니면 '적음' 이라고 출력하여라\n",
    "\n",
    "\n",
    "\t남아수 출생량\n",
    "2000   1814601   '많음'\n",
    "2001   1799049   '적음'\n",
    "\n",
    "\n",
    "5.1800년대,1900년대,2000년대 각 남아,여야수 평균을 구하여라\n",
    "\n",
    "```"
   ]
  },
  {
   "cell_type": "code",
   "execution_count": 91,
   "metadata": {
    "ExecuteTime": {
     "end_time": "2021-11-24T06:32:19.626880Z",
     "start_time": "2021-11-24T06:32:19.601877Z"
    }
   },
   "outputs": [],
   "source": [
    "birthArr = np.loadtxt('data/births.txt',delimiter=',', dtype=np.int64)"
   ]
  },
  {
   "cell_type": "code",
   "execution_count": 97,
   "metadata": {
    "ExecuteTime": {
     "end_time": "2021-11-24T06:33:38.813395Z",
     "start_time": "2021-11-24T06:33:38.799373Z"
    }
   },
   "outputs": [
    {
     "name": "stdout",
     "output_type": "stream",
     "text": [
      "1225776.0681818181\n"
     ]
    }
   ],
   "source": [
    "# 1. 남아 ,여아 출생 평균을 구하여라\n",
    "print(np.mean(birthArr[:,1]))"
   ]
  },
  {
   "cell_type": "code",
   "execution_count": 98,
   "metadata": {
    "ExecuteTime": {
     "end_time": "2021-11-24T06:33:45.803570Z",
     "start_time": "2021-11-24T06:33:45.790568Z"
    }
   },
   "outputs": [
    {
     "name": "stdout",
     "output_type": "stream",
     "text": [
      "1245399.2121212122\n"
     ]
    }
   ],
   "source": [
    "print(np.mean(birthArr[:,2]))"
   ]
  },
  {
   "cell_type": "code",
   "execution_count": null,
   "metadata": {},
   "outputs": [],
   "source": [
    "rating[rating[:,0] =="
   ]
  },
  {
   "cell_type": "code",
   "execution_count": 111,
   "metadata": {
    "ExecuteTime": {
     "end_time": "2021-11-24T06:48:26.442948Z",
     "start_time": "2021-11-24T06:48:26.437939Z"
    }
   },
   "outputs": [
    {
     "data": {
      "text/plain": [
       "array([[   1957, 2044160],\n",
       "       [   1959, 2023044],\n",
       "       [   1960, 2022093],\n",
       "       [   1961, 2017316],\n",
       "       [   1958, 2010884]], dtype=int64)"
      ]
     },
     "execution_count": 111,
     "metadata": {},
     "output_type": "execute_result"
    }
   ],
   "source": [
    "# 2. 남아출생이 가장많은 top5  를 구하여라(년도와 남아수)\n",
    "birthArr[np.argsort(birthArr[:,1])[-5:]][:,[0,1]][::-1]"
   ]
  },
  {
   "cell_type": "code",
   "execution_count": 115,
   "metadata": {
    "ExecuteTime": {
     "end_time": "2021-11-24T06:50:16.617138Z",
     "start_time": "2021-11-24T06:50:16.607151Z"
    }
   },
   "outputs": [
    {
     "data": {
      "text/plain": [
       "array([[1.88000000e+03, 9.09930000e+04, 1.10491000e+05, 5.62370997e-04],\n",
       "       [1.88100000e+03, 9.19540000e+04, 1.00745000e+05, 5.68310338e-04],\n",
       "       [1.88200000e+03, 1.07850000e+05, 1.13688000e+05, 6.66553603e-04],\n",
       "       [1.88300000e+03, 1.12321000e+05, 1.04629000e+05, 6.94186066e-04],\n",
       "       [1.88400000e+03, 1.29022000e+05, 1.14445000e+05, 7.97404534e-04],\n",
       "       [1.88500000e+03, 1.33055000e+05, 1.07800000e+05, 8.22329992e-04],\n",
       "       [1.88600000e+03, 1.44535000e+05, 1.10784000e+05, 8.93280714e-04],\n",
       "       [1.88700000e+03, 1.45982000e+05, 1.01414000e+05, 9.02223719e-04],\n",
       "       [1.88800000e+03, 1.78627000e+05, 1.20853000e+05, 1.10398211e-03],\n",
       "       [1.88900000e+03, 1.78366000e+05, 1.10584000e+05, 1.10236903e-03],\n",
       "       [1.89000000e+03, 1.90377000e+05, 1.11025000e+05, 1.17660153e-03],\n",
       "       [1.89100000e+03, 1.85482000e+05, 1.01196000e+05, 1.14634859e-03],\n",
       "       [1.89200000e+03, 2.12346000e+05, 1.22037000e+05, 1.31237822e-03],\n",
       "       [1.89300000e+03, 2.12906000e+05, 1.12317000e+05, 1.31583923e-03],\n",
       "       [1.89400000e+03, 2.22922000e+05, 1.15772000e+05, 1.37774188e-03],\n",
       "       [1.89500000e+03, 2.33630000e+05, 1.17398000e+05, 1.44392136e-03],\n",
       "       [1.89600000e+03, 2.37920000e+05, 1.19570000e+05, 1.47043517e-03],\n",
       "       [1.89700000e+03, 2.34202000e+05, 1.12758000e+05, 1.44745653e-03],\n",
       "       [1.89800000e+03, 2.58770000e+05, 1.22693000e+05, 1.59929602e-03],\n",
       "       [1.89900000e+03, 2.33023000e+05, 1.06212000e+05, 1.44016987e-03],\n",
       "       [1.90000000e+03, 2.99828000e+05, 1.50499000e+05, 1.85304992e-03],\n",
       "       [1.90100000e+03, 2.39348000e+05, 1.06471000e+05, 1.47926075e-03],\n",
       "       [1.90200000e+03, 2.64077000e+05, 1.22659000e+05, 1.63209528e-03],\n",
       "       [1.90300000e+03, 2.61973000e+05, 1.19234000e+05, 1.61909177e-03],\n",
       "       [1.90400000e+03, 2.75371000e+05, 1.28125000e+05, 1.70189645e-03],\n",
       "       [1.90500000e+03, 2.91629000e+05, 1.32319000e+05, 1.80237701e-03],\n",
       "       [1.90600000e+03, 2.95303000e+05, 1.33159000e+05, 1.82508371e-03],\n",
       "       [1.90700000e+03, 3.18566000e+05, 1.46833000e+05, 1.96885781e-03],\n",
       "       [1.90800000e+03, 3.34313000e+05, 1.54344000e+05, 2.06618020e-03],\n",
       "       [1.90900000e+03, 3.47228000e+05, 1.63999000e+05, 2.14599976e-03],\n",
       "       [1.91000000e+03, 3.96501000e+05, 1.94218000e+05, 2.45052545e-03],\n",
       "       [1.91100000e+03, 4.18299000e+05, 2.25968000e+05, 2.58524530e-03],\n",
       "       [1.91200000e+03, 5.58103000e+05, 4.29945000e+05, 3.44928665e-03],\n",
       "       [1.91300000e+03, 6.24518000e+05, 5.12557000e+05, 3.85975636e-03],\n",
       "       [1.91400000e+03, 7.61548000e+05, 6.54762000e+05, 4.70665334e-03],\n",
       "       [1.91500000e+03, 9.83874000e+05, 8.48603000e+05, 6.08071172e-03],\n",
       "       [1.91600000e+03, 1.04432300e+06, 8.90099000e+05, 6.45430930e-03],\n",
       "       [1.91700000e+03, 1.08128000e+06, 9.25511000e+05, 6.68271748e-03],\n",
       "       [1.91800000e+03, 1.15764700e+06, 1.01353700e+06, 7.15469429e-03],\n",
       "       [1.91900000e+03, 1.13014500e+06, 9.80149000e+05, 6.98472157e-03],\n",
       "       [1.92000000e+03, 1.19828300e+06, 1.06446300e+06, 7.40584006e-03],\n",
       "       [1.92100000e+03, 1.23299900e+06, 1.10145700e+06, 7.62039801e-03],\n",
       "       [1.92200000e+03, 1.20091900e+06, 1.08828700e+06, 7.42213154e-03],\n",
       "       [1.92300000e+03, 1.20633000e+06, 1.09616800e+06, 7.45557355e-03],\n",
       "       [1.92400000e+03, 1.24887600e+06, 1.13275100e+06, 7.71852385e-03],\n",
       "       [1.92500000e+03, 1.21735200e+06, 1.11595800e+06, 7.52369366e-03],\n",
       "       [1.92600000e+03, 1.18530400e+06, 1.11050500e+06, 7.32562496e-03],\n",
       "       [1.92700000e+03, 1.19233000e+06, 1.12671700e+06, 7.36904828e-03],\n",
       "       [1.92800000e+03, 1.15311700e+06, 1.10751800e+06, 7.12669718e-03],\n",
       "       [1.92900000e+03, 1.11642200e+06, 1.07531300e+06, 6.89990827e-03],\n",
       "       [1.93000000e+03, 1.12576100e+06, 1.09717600e+06, 6.95762680e-03],\n",
       "       [1.93100000e+03, 1.06449700e+06, 1.03912700e+06, 6.57899222e-03],\n",
       "       [1.93200000e+03, 1.06699400e+06, 1.04380800e+06, 6.59442462e-03],\n",
       "       [1.93300000e+03, 1.00771000e+06, 9.91127000e+05, 6.22802718e-03],\n",
       "       [1.93400000e+03, 1.04403900e+06, 1.03229100e+06, 6.45255407e-03],\n",
       "       [1.93500000e+03, 1.04842800e+06, 1.04093000e+06, 6.47967975e-03],\n",
       "       [1.93600000e+03, 1.04020200e+06, 1.03697400e+06, 6.42883997e-03],\n",
       "       [1.93700000e+03, 1.06387200e+06, 1.06630900e+06, 6.57512948e-03],\n",
       "       [1.93800000e+03, 1.10327700e+06, 1.10884100e+06, 6.81866722e-03],\n",
       "       [1.93900000e+03, 1.09651800e+06, 1.10654400e+06, 6.77689405e-03],\n",
       "       [1.94000000e+03, 1.14332500e+06, 1.15890000e+06, 7.06617893e-03],\n",
       "       [1.94100000e+03, 1.20791900e+06, 1.22794100e+06, 7.46539417e-03],\n",
       "       [1.94200000e+03, 1.35054500e+06, 1.38077400e+06, 8.34687655e-03],\n",
       "       [1.94300000e+03, 1.39508200e+06, 1.42684600e+06, 8.62213197e-03],\n",
       "       [1.94400000e+03, 1.32710400e+06, 1.36255500e+06, 8.20200234e-03],\n",
       "       [1.94500000e+03, 1.30702800e+06, 1.34561000e+06, 8.07792510e-03],\n",
       "       [1.94600000e+03, 1.57118400e+06, 1.62365000e+06, 9.71050863e-03],\n",
       "       [1.94700000e+03, 1.77264400e+06, 1.82922300e+06, 1.09556073e-02],\n",
       "       [1.94800000e+03, 1.69781400e+06, 1.75446900e+06, 1.04931297e-02],\n",
       "       [1.94900000e+03, 1.71082500e+06, 1.77372500e+06, 1.05735426e-02],\n",
       "       [1.95000000e+03, 1.71318000e+06, 1.79067300e+06, 1.05880974e-02],\n",
       "       [1.95100000e+03, 1.80004200e+06, 1.88108000e+06, 1.11249372e-02],\n",
       "       [1.95200000e+03, 1.85469800e+06, 1.94427700e+06, 1.14627319e-02],\n",
       "       [1.95300000e+03, 1.88032600e+06, 1.96977700e+06, 1.16211226e-02],\n",
       "       [1.95400000e+03, 1.94168200e+06, 2.03737400e+06, 1.20003258e-02],\n",
       "       [1.95500000e+03, 1.95466400e+06, 2.05791800e+06, 1.20805594e-02],\n",
       "       [1.95600000e+03, 2.00751200e+06, 2.11369400e+06, 1.24071799e-02],\n",
       "       [1.95700000e+03, 2.04416000e+06, 2.15586600e+06, 1.26336784e-02],\n",
       "       [1.95800000e+03, 2.01088400e+06, 2.12071200e+06, 1.24280202e-02],\n",
       "       [1.95900000e+03, 2.02304400e+06, 2.13350900e+06, 1.25031735e-02],\n",
       "       [1.96000000e+03, 2.02209300e+06, 2.13271700e+06, 1.24972960e-02],\n",
       "       [1.96100000e+03, 2.01731600e+06, 2.12250200e+06, 1.24677723e-02],\n",
       "       [1.96200000e+03, 1.96654800e+06, 2.06894500e+06, 1.21540070e-02],\n",
       "       [1.96300000e+03, 1.92721700e+06, 2.03175500e+06, 1.19109266e-02],\n",
       "       [1.96400000e+03, 1.89459400e+06, 1.99327000e+06, 1.17093042e-02],\n",
       "       [1.96500000e+03, 1.76500100e+06, 1.86137800e+06, 1.09083707e-02],\n",
       "       [1.96600000e+03, 1.69186800e+06, 1.78396400e+06, 1.04563812e-02],\n",
       "       [1.96700000e+03, 1.65076400e+06, 1.74452700e+06, 1.02023430e-02],\n",
       "       [1.96800000e+03, 1.64010300e+06, 1.73892800e+06, 1.01364540e-02],\n",
       "       [1.96900000e+03, 1.68694700e+06, 1.78973200e+06, 1.04259676e-02],\n",
       "       [1.97000000e+03, 1.74814700e+06, 1.85959400e+06, 1.08042066e-02],\n",
       "       [1.97100000e+03, 1.66347500e+06, 1.76920100e+06, 1.02809018e-02],\n",
       "       [1.97200000e+03, 1.52118500e+06, 1.62266600e+06, 9.40149599e-03],\n",
       "       [1.97300000e+03, 1.45813900e+06, 1.55933800e+06, 9.01184797e-03],\n",
       "       [1.97400000e+03, 1.46741300e+06, 1.57310500e+06, 9.06916478e-03],\n",
       "       [1.97500000e+03, 1.45769900e+06, 1.56220700e+06, 9.00912861e-03],\n",
       "       [1.97600000e+03, 1.46509600e+06, 1.56990400e+06, 9.05484485e-03],\n",
       "       [1.97700000e+03, 1.53299700e+06, 1.64368400e+06, 9.47449860e-03],\n",
       "       [1.97800000e+03, 1.53165800e+06, 1.64225000e+06, 9.46622307e-03],\n",
       "       [1.97900000e+03, 1.60505100e+06, 1.72194700e+06, 9.91981944e-03],\n",
       "       [1.98000000e+03, 1.65993300e+06, 1.78387600e+06, 1.02590109e-02],\n",
       "       [1.98100000e+03, 1.66746500e+06, 1.79090700e+06, 1.03055615e-02],\n",
       "       [1.98200000e+03, 1.69267800e+06, 1.81397000e+06, 1.04613873e-02],\n",
       "       [1.98300000e+03, 1.67006100e+06, 1.79173200e+06, 1.03216057e-02],\n",
       "       [1.98400000e+03, 1.68297300e+06, 1.80383000e+06, 1.04014067e-02],\n",
       "       [1.98500000e+03, 1.72003600e+06, 1.84703200e+06, 1.06304700e-02],\n",
       "       [1.98600000e+03, 1.71466400e+06, 1.84016400e+06, 1.05972690e-02],\n",
       "       [1.98700000e+03, 1.73789100e+06, 1.86566200e+06, 1.07408207e-02],\n",
       "       [1.98800000e+03, 1.77983900e+06, 1.91260200e+06, 1.10000751e-02],\n",
       "       [1.98900000e+03, 1.84310500e+06, 1.99999900e+06, 1.13910828e-02],\n",
       "       [1.99000000e+03, 1.89770900e+06, 2.05254300e+06, 1.17285561e-02],\n",
       "       [1.99100000e+03, 1.87443400e+06, 2.01946300e+06, 1.15847078e-02],\n",
       "       [1.99200000e+03, 1.84330400e+06, 1.99638800e+06, 1.13923127e-02],\n",
       "       [1.99300000e+03, 1.80837900e+06, 1.96039700e+06, 1.11764630e-02],\n",
       "       [1.99400000e+03, 1.78507400e+06, 1.93115700e+06, 1.10324294e-02],\n",
       "       [1.99500000e+03, 1.75792700e+06, 1.90283200e+06, 1.08646507e-02],\n",
       "       [1.99600000e+03, 1.75224900e+06, 1.89337800e+06, 1.08295585e-02],\n",
       "       [1.99700000e+03, 1.73980600e+06, 1.88412200e+06, 1.07526561e-02],\n",
       "       [1.99800000e+03, 1.76591500e+06, 1.91025000e+06, 1.09140195e-02],\n",
       "       [1.99900000e+03, 1.77263200e+06, 1.91880900e+06, 1.09555331e-02],\n",
       "       [2.00000000e+03, 1.81460100e+06, 1.96240600e+06, 1.12149173e-02],\n",
       "       [2.00100000e+03, 1.79904900e+06, 1.94125100e+06, 1.11188001e-02],\n",
       "       [2.00200000e+03, 1.79520600e+06, 1.93981500e+06, 1.10950489e-02],\n",
       "       [2.00300000e+03, 1.82535900e+06, 1.97343400e+06, 1.12814058e-02],\n",
       "       [2.00400000e+03, 1.83414500e+06, 1.98279400e+06, 1.13357066e-02],\n",
       "       [2.00500000e+03, 1.84537900e+06, 1.99484100e+06, 1.14051370e-02],\n",
       "       [2.00600000e+03, 1.89846300e+06, 2.05237700e+06, 1.17332161e-02],\n",
       "       [2.00700000e+03, 1.91940800e+06, 2.07213900e+06, 1.18626640e-02],\n",
       "       [2.00800000e+03, 1.88723400e+06, 2.03628900e+06, 1.16638166e-02],\n",
       "       [2.00900000e+03, 1.83292500e+06, 1.97930300e+06, 1.13281666e-02],\n",
       "       [2.01000000e+03, 1.77273800e+06, 1.91385100e+06, 1.09561882e-02],\n",
       "       [2.01100000e+03, 1.75350000e+06, 1.89323000e+06, 1.08372901e-02]])"
      ]
     },
     "execution_count": 115,
     "metadata": {},
     "output_type": "execute_result"
    }
   ],
   "source": [
    "## 3번) 남아율(%) 을 구하고 각년도별  남아수가 차지하는비율을 데이터로  출력하여라 \n",
    "manRate = (birthArr / birthArr.sum(axis=0))[:,1]\n",
    "manRate = manRate.reshape(-1,1)\n",
    "np.hstack((birthArr,manRate))"
   ]
  },
  {
   "cell_type": "code",
   "execution_count": 116,
   "metadata": {
    "ExecuteTime": {
     "end_time": "2021-11-24T06:56:38.694511Z",
     "start_time": "2021-11-24T06:56:38.677506Z"
    },
    "scrolled": true
   },
   "outputs": [
    {
     "data": {
      "text/plain": [
       "array([['2000', '1814601', '1962406', '적음'],\n",
       "       ['2001', '1799049', '1941251', '적음'],\n",
       "       ['2002', '1795206', '1939815', '적음'],\n",
       "       ['2003', '1825359', '1973434', '적음'],\n",
       "       ['2004', '1834145', '1982794', '적음'],\n",
       "       ['2005', '1845379', '1994841', '적음'],\n",
       "       ['2006', '1898463', '2052377', '적음'],\n",
       "       ['2007', '1919408', '2072139', '적음'],\n",
       "       ['2008', '1887234', '2036289', '적음'],\n",
       "       ['2009', '1832925', '1979303', '적음'],\n",
       "       ['2010', '1772738', '1913851', '적음'],\n",
       "       ['2011', '1753500', '1893230', '적음']], dtype='<U21')"
      ]
     },
     "execution_count": 116,
     "metadata": {},
     "output_type": "execute_result"
    }
   ],
   "source": [
    "# 4번) 2000년도 이후데이터 에 대해  출생량 을 구하고 ,, 남아수가 1800000 이상이면 '많음'아니면 '적음' 이라고 출력하여라\n",
    "np.hstack((birthArr[birthArr[:,0]>=2000], np.where(birthArr[birthArr[:,0]>=2000][:,1]>18000000, '많음', '적음').reshape(-1,1)))"
   ]
  },
  {
   "cell_type": "code",
   "execution_count": 117,
   "metadata": {
    "ExecuteTime": {
     "end_time": "2021-11-24T06:57:14.587079Z",
     "start_time": "2021-11-24T06:57:14.582085Z"
    }
   },
   "outputs": [
    {
     "name": "stdout",
     "output_type": "stream",
     "text": [
      "남아 수 평균: 176714.15\n",
      "여아 수 평균: 111820.55\n"
     ]
    }
   ],
   "source": [
    "#5번) 1800년대,1900년대,2000년대 각 남아,여야수 평균을 구하여라\n",
    "#(1) 1800년대\n",
    "print( \"남아 수 평균: {0}\".format(birthArr[(birthArr[:,0] >= 1800) & (birthArr[:,0]<1900)].mean(axis=0)[1] ))\n",
    "print( \"여아 수 평균: {0}\".format(birthArr[(birthArr[:,0] >= 1800) & (birthArr[:,0]<1900)].mean(axis=0)[2] ))\n"
   ]
  },
  {
   "cell_type": "code",
   "execution_count": 118,
   "metadata": {
    "ExecuteTime": {
     "end_time": "2021-11-24T06:57:20.869839Z",
     "start_time": "2021-11-24T06:57:20.852834Z"
    }
   },
   "outputs": [
    {
     "name": "stdout",
     "output_type": "stream",
     "text": [
      "남아 수 평균: 1362901.51\n",
      "여아 수 평균: 1384145.55\n"
     ]
    }
   ],
   "source": [
    "print( \"남아 수 평균: {0}\".format(birthArr[(birthArr[:,0] >= 1900) & (birthArr[:,0]<2000)].mean(axis=0)[1] ))\n",
    "print( \"여아 수 평균: {0}\".format(birthArr[(birthArr[:,0] >= 1900) & (birthArr[:,0]<2000)].mean(axis=0)[2] ))\n"
   ]
  },
  {
   "cell_type": "code",
   "execution_count": 119,
   "metadata": {
    "ExecuteTime": {
     "end_time": "2021-11-24T06:57:25.671998Z",
     "start_time": "2021-11-24T06:57:25.661995Z"
    }
   },
   "outputs": [
    {
     "name": "stdout",
     "output_type": "stream",
     "text": [
      "남아 수 평균: 1831500.5833333333\n",
      "여아 수 평균: 1978477.5\n"
     ]
    }
   ],
   "source": [
    "print( \"남아 수 평균: {0}\".format(birthArr[(birthArr[:,0] >= 2000) & (birthArr[:,0]<2100)].mean(axis=0)[1] ))\n",
    "print( \"여아 수 평균: {0}\".format(birthArr[(birthArr[:,0] >= 2000) & (birthArr[:,0]<2100)].mean(axis=0)[2] ))"
   ]
  },
  {
   "cell_type": "code",
   "execution_count": null,
   "metadata": {},
   "outputs": [],
   "source": []
  }
 ],
 "metadata": {
  "hide_input": false,
  "kernelspec": {
   "display_name": "Python 3",
   "language": "python",
   "name": "python3"
  },
  "language_info": {
   "codemirror_mode": {
    "name": "ipython",
    "version": 3
   },
   "file_extension": ".py",
   "mimetype": "text/x-python",
   "name": "python",
   "nbconvert_exporter": "python",
   "pygments_lexer": "ipython3",
   "version": "3.8.8"
  },
  "toc": {
   "base_numbering": 1,
   "nav_menu": {},
   "number_sections": true,
   "sideBar": true,
   "skip_h1_title": false,
   "title_cell": "Table of Contents",
   "title_sidebar": "Contents",
   "toc_cell": false,
   "toc_position": {},
   "toc_section_display": true,
   "toc_window_display": false
  },
  "varInspector": {
   "cols": {
    "lenName": 16,
    "lenType": 16,
    "lenVar": 40
   },
   "kernels_config": {
    "python": {
     "delete_cmd_postfix": "",
     "delete_cmd_prefix": "del ",
     "library": "var_list.py",
     "varRefreshCmd": "print(var_dic_list())"
    },
    "r": {
     "delete_cmd_postfix": ") ",
     "delete_cmd_prefix": "rm(",
     "library": "var_list.r",
     "varRefreshCmd": "cat(var_dic_list()) "
    }
   },
   "types_to_exclude": [
    "module",
    "function",
    "builtin_function_or_method",
    "instance",
    "_Feature"
   ],
   "window_display": false
  }
 },
 "nbformat": 4,
 "nbformat_minor": 2
}
