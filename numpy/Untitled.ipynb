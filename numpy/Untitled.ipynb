{
 "cells": [
  {
   "cell_type": "code",
   "execution_count": 1,
   "id": "a8e83096",
   "metadata": {
    "ExecuteTime": {
     "end_time": "2021-11-23T00:37:11.490924Z",
     "start_time": "2021-11-23T00:37:11.473915Z"
    }
   },
   "outputs": [],
   "source": [
    "import os\n",
    "import numpy as np"
   ]
  },
  {
   "cell_type": "code",
   "execution_count": 2,
   "id": "be3ca3a1",
   "metadata": {
    "ExecuteTime": {
     "end_time": "2021-11-23T00:37:29.143038Z",
     "start_time": "2021-11-23T00:37:29.123035Z"
    }
   },
   "outputs": [
    {
     "data": {
      "text/plain": [
       "'C:\\\\Users\\\\13a71\\\\Dropbox\\\\python숙달\\\\numpy'"
      ]
     },
     "execution_count": 2,
     "metadata": {},
     "output_type": "execute_result"
    }
   ],
   "source": [
    "os.getcwd()"
   ]
  },
  {
   "cell_type": "code",
   "execution_count": 4,
   "id": "ef489c9b",
   "metadata": {
    "ExecuteTime": {
     "end_time": "2021-11-23T00:38:31.645972Z",
     "start_time": "2021-11-23T00:38:31.641978Z"
    }
   },
   "outputs": [],
   "source": [
    "os.chdir('C:/Users/13a71/Downloads/data')"
   ]
  },
  {
   "cell_type": "code",
   "execution_count": 5,
   "id": "1835d430",
   "metadata": {
    "ExecuteTime": {
     "end_time": "2021-11-23T00:38:37.317213Z",
     "start_time": "2021-11-23T00:38:37.258214Z"
    }
   },
   "outputs": [
    {
     "name": "stdout",
     "output_type": "stream",
     "text": [
      " C 드라이브의 볼륨: OS\n",
      " 볼륨 일련 번호: BEAD-E4AA\n",
      "\n",
      " C:\\Users\\13a71\\Downloads\\data\\data 디렉터리\n",
      "\n",
      "2021-11-23  오전 10:54    <DIR>          .\n",
      "2021-11-23  오전 10:54    <DIR>          ..\n",
      "2021-11-23  오전 09:12             3,088 births.txt\n",
      "2021-11-23  오전 09:25            35,455 Jeju2021.csv\n",
      "2016-07-18  오전 06:46           171,308 movies.dat\n",
      "2018-04-24  오후 07:42        24,594,131 ratings.dat\n",
      "2019-03-20  오후 07:54         1,185,149 seoul.csv\n",
      "2021-02-01  오전 05:49            93,805 seoul2021.csv\n",
      "               6개 파일          26,082,936 바이트\n",
      "               2개 디렉터리  17,832,910,848 바이트 남음\n"
     ]
    }
   ],
   "source": [
    "ls data"
   ]
  },
  {
   "cell_type": "code",
   "execution_count": 6,
   "id": "90ac2b61",
   "metadata": {
    "ExecuteTime": {
     "end_time": "2021-11-23T01:26:59.414704Z",
     "start_time": "2021-11-23T01:26:59.407703Z"
    }
   },
   "outputs": [],
   "source": [
    "import numpy as np"
   ]
  },
  {
   "cell_type": "code",
   "execution_count": 7,
   "id": "f7b55758",
   "metadata": {
    "ExecuteTime": {
     "end_time": "2021-11-23T01:27:08.462367Z",
     "start_time": "2021-11-23T01:27:08.448364Z"
    }
   },
   "outputs": [
    {
     "data": {
      "text/plain": [
       "'1.20.1'"
      ]
     },
     "execution_count": 7,
     "metadata": {},
     "output_type": "execute_result"
    }
   ],
   "source": [
    "np.__version__"
   ]
  },
  {
   "cell_type": "code",
   "execution_count": 8,
   "id": "31a05f31",
   "metadata": {
    "ExecuteTime": {
     "end_time": "2021-11-23T01:47:13.700412Z",
     "start_time": "2021-11-23T01:47:13.689407Z"
    }
   },
   "outputs": [],
   "source": [
    "mylist2 = [[1,2,3], [10,20, 30], [ 100,200,300]]"
   ]
  },
  {
   "cell_type": "code",
   "execution_count": 10,
   "id": "2ce5e04b",
   "metadata": {
    "ExecuteTime": {
     "end_time": "2021-11-23T01:55:27.516942Z",
     "start_time": "2021-11-23T01:55:27.510942Z"
    }
   },
   "outputs": [
    {
     "data": {
      "text/plain": [
       "([[1, 2], [10, 20, 30], [100, 200, 300, 400, 500]], 3)"
      ]
     },
     "execution_count": 10,
     "metadata": {},
     "output_type": "execute_result"
    }
   ],
   "source": [
    "myList3 = [[1, 2], [10, 20, 30], [100, 200, 300, 400, 500]]\n",
    "myList3, len(myList3)"
   ]
  },
  {
   "cell_type": "code",
   "execution_count": 11,
   "id": "8a50b3e0",
   "metadata": {
    "ExecuteTime": {
     "end_time": "2021-11-23T02:23:16.886029Z",
     "start_time": "2021-11-23T02:23:16.855611Z"
    }
   },
   "outputs": [
    {
     "name": "stdout",
     "output_type": "stream",
     "text": [
      "[15 44 53]\n",
      "[ 5 36 47]\n",
      "[ 50 160 150]\n",
      "[ 2.         10.         16.66666667]\n",
      "[ 2 10 16]\n",
      "[0 0 2]\n"
     ]
    }
   ],
   "source": [
    "arrA = np.array([10, 40, 50])\n",
    "arrB = np.array([5, 4, 3])\n",
    "print(arrA + arrB)\n",
    "print(arrA - arrB)\n",
    "print(arrA * arrB)\n",
    "print(arrA / arrB)\n",
    "print(arrA // arrB)\n",
    "print(arrA % arrB)"
   ]
  },
  {
   "cell_type": "code",
   "execution_count": 12,
   "id": "9f4c917a",
   "metadata": {
    "ExecuteTime": {
     "end_time": "2021-11-23T02:31:17.967425Z",
     "start_time": "2021-11-23T02:31:17.958422Z"
    }
   },
   "outputs": [
    {
     "data": {
      "text/plain": [
       "(array(['홍길동', '100', '3.14', 'True', 'False'], dtype='<U32'),\n",
       " numpy.ndarray,\n",
       " dtype('<U32'))"
      ]
     },
     "execution_count": 12,
     "metadata": {},
     "output_type": "execute_result"
    }
   ],
   "source": [
    "# 넘파이 배열의 구성 요소의 자료형 확인은?\n",
    "# 넘파이배열명.dtype\n",
    "myArr_c = np.array(['홍길동', 100, 3.14, True, False])\n",
    "myArr_c, type(myArr_c), myArr_c.dtype"
   ]
  }
 ],
 "metadata": {
  "hide_input": false,
  "kernelspec": {
   "display_name": "Python 3",
   "language": "python",
   "name": "python3"
  },
  "language_info": {
   "codemirror_mode": {
    "name": "ipython",
    "version": 3
   },
   "file_extension": ".py",
   "mimetype": "text/x-python",
   "name": "python",
   "nbconvert_exporter": "python",
   "pygments_lexer": "ipython3",
   "version": "3.8.8"
  },
  "toc": {
   "base_numbering": 1,
   "nav_menu": {},
   "number_sections": true,
   "sideBar": true,
   "skip_h1_title": false,
   "title_cell": "Table of Contents",
   "title_sidebar": "Contents",
   "toc_cell": false,
   "toc_position": {},
   "toc_section_display": true,
   "toc_window_display": false
  },
  "varInspector": {
   "cols": {
    "lenName": 16,
    "lenType": 16,
    "lenVar": 40
   },
   "kernels_config": {
    "python": {
     "delete_cmd_postfix": "",
     "delete_cmd_prefix": "del ",
     "library": "var_list.py",
     "varRefreshCmd": "print(var_dic_list())"
    },
    "r": {
     "delete_cmd_postfix": ") ",
     "delete_cmd_prefix": "rm(",
     "library": "var_list.r",
     "varRefreshCmd": "cat(var_dic_list()) "
    }
   },
   "types_to_exclude": [
    "module",
    "function",
    "builtin_function_or_method",
    "instance",
    "_Feature"
   ],
   "window_display": false
  }
 },
 "nbformat": 4,
 "nbformat_minor": 5
}
