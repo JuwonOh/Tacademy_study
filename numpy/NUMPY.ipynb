{
 "cells": [
  {
   "cell_type": "raw",
   "id": "1f76ccab",
   "metadata": {},
   "source": [
    "조건 : 아나콘다가 환경패스로 지정 \n",
    "0) 쥬피터노트북의 시작 작업폴더 생성및 경로 확인 \n",
    "EX - C:\\workspace211123\n",
    "1) 쥬피터노트북 실행 파일 찾기 \n",
    "C:\\ProgramData\\Anaconda3\\Scripts 폴더안에 \n",
    "    jupyter-notebook.exe\n",
    "2)  jupyter-notebook.exe 마우스 우측 버튼 클릭 후 \n",
    "[보내기]-[바탕화면에 바로가기 만들기]\n",
    "3) 바탕화면에 아이콘 확인 하고 \n",
    "마우스 우측버튼 클릭후 [속성] 탭 클릭 \n",
    "[시작위치]를 위에서 생성한 작업폴더경로로 설정한다. \n",
    "C:\\workspace211123\n",
    "    "
   ]
  },
  {
   "cell_type": "raw",
   "id": "df879fac",
   "metadata": {},
   "source": [
    "작업 설정\n",
    "- 작업 폴더 생성 예) C:\\workspace211123\n",
    "- 작업 폴더안에 데이타 폴더(data) 생성 후 공유자료실에 있는 자료 복사하기 \n",
    "- 쥬피터노트북 실행 후 파일 생성 \n",
    "- ls data 명령으로 data 폴더안에 파일 확인 "
   ]
  },
  {
   "cell_type": "raw",
   "id": "ff012ac4",
   "metadata": {},
   "source": [
    "# 현재 작업폴더 및 특정 폴더 위치 확인하기 \n",
    "ls - 현재 작업폴더의 파일과 폴더 출력 \n",
    "ls 폴더명 - 특정 폴더안의 파일과 폴더 출력 "
   ]
  },
  {
   "cell_type": "code",
   "execution_count": 87,
   "id": "cbb9c3bc",
   "metadata": {
    "ExecuteTime": {
     "end_time": "2021-11-24T05:06:59.734179Z",
     "start_time": "2021-11-24T05:06:59.673168Z"
    }
   },
   "outputs": [
    {
     "name": "stdout",
     "output_type": "stream",
     "text": [
      " C 드라이브의 볼륨: OS\n",
      " 볼륨 일련 번호: BEAD-E4AA\n",
      "\n",
      " C:\\Users\\13a71\\Dropbox\\python숙달 디렉터리\n",
      "\n",
      "2021-11-24  오후 02:01    <DIR>          .\n",
      "2021-11-24  오후 02:01    <DIR>          ..\n",
      "2021-11-24  오전 09:47    <DIR>          .ipynb_checkpoints\n",
      "2021-11-23  오전 09:36    <DIR>          CODING TEST\n",
      "2021-11-24  오후 02:01            75,687 day102_np.ipynb\n",
      "2021-11-23  오전 11:32    <DIR>          numpy\n",
      "2021-11-23  오후 02:48            53,163 NUMPY.ipynb\n",
      "2021-11-24  오후 01:31            30,159 Numpy_Quiz.ipynb\n",
      "               3개 파일             159,009 바이트\n",
      "               5개 디렉터리  17,963,618,304 바이트 남음\n"
     ]
    }
   ],
   "source": [
    "ls"
   ]
  },
  {
   "cell_type": "code",
   "execution_count": 2,
   "id": "1cebc230",
   "metadata": {
    "ExecuteTime": {
     "end_time": "2021-11-23T04:23:33.539781Z",
     "start_time": "2021-11-23T04:23:33.480769Z"
    }
   },
   "outputs": [
    {
     "name": "stdout",
     "output_type": "stream",
     "text": [
      " C 드라이브의 볼륨: OS\n",
      " 볼륨 일련 번호: BEAD-E4AA\n",
      "\n",
      " C:\\Users\\13a71\\Dropbox\\python숙달 디렉터리\n",
      "\n"
     ]
    },
    {
     "name": "stderr",
     "output_type": "stream",
     "text": [
      "파일을 찾을 수 없습니다.\n"
     ]
    }
   ],
   "source": [
    "ls data"
   ]
  },
  {
   "cell_type": "code",
   "execution_count": 3,
   "id": "7f5d3b13",
   "metadata": {
    "ExecuteTime": {
     "end_time": "2021-11-23T04:23:33.554787Z",
     "start_time": "2021-11-23T04:23:33.541783Z"
    }
   },
   "outputs": [
    {
     "data": {
      "text/plain": [
       "'C:\\\\Users\\\\13a71\\\\Dropbox\\\\python숙달'"
      ]
     },
     "execution_count": 3,
     "metadata": {},
     "output_type": "execute_result"
    }
   ],
   "source": [
    "import os \n",
    "\n",
    "# 현재 작업폴더 위치 확인 \n",
    "os.getcwd()"
   ]
  },
  {
   "cell_type": "code",
   "execution_count": 4,
   "id": "5f51b82c",
   "metadata": {
    "ExecuteTime": {
     "end_time": "2021-11-23T04:23:33.569789Z",
     "start_time": "2021-11-23T04:23:33.556786Z"
    }
   },
   "outputs": [
    {
     "data": {
      "text/html": [
       "<style>.container { font-weight: bold !important; }</style>"
      ],
      "text/plain": [
       "<IPython.core.display.HTML object>"
      ]
     },
     "metadata": {},
     "output_type": "display_data"
    },
    {
     "data": {
      "text/html": [
       "<style>.container { width: 100% !important; }</style>"
      ],
      "text/plain": [
       "<IPython.core.display.HTML object>"
      ]
     },
     "metadata": {},
     "output_type": "display_data"
    }
   ],
   "source": [
    "# 쥬피터노트북 셀 스타일 조절 \n",
    "from IPython.core.display import display, HTML\n",
    "display(HTML(\"<style>.container { font-weight: bold !important; }</style>\"))\n",
    "display(HTML(\"<style>.container { width: 100% !important; }</style>\"))\n",
    "\n",
    "# 경고 메세지 숨기기 \n",
    "import warnings\n",
    "warnings.filterwarnings(action='ignore')"
   ]
  },
  {
   "cell_type": "markdown",
   "id": "ab05da03",
   "metadata": {},
   "source": [
    "# Numpy 개요\n",
    "\n",
    "- Numeric + Python = Numpy\n",
    "- 수학 및 과학 연산을 위한 파이썬 패키지\n",
    "- 배열이나 행렬 계산에 용이한 메서드를 제공\n",
    "- 한글로 넘파이로 주로 통칭, 넘피/늄파이라고 부르기도 함\n",
    "- 관련 사이트 : http://www.numpy.or"
   ]
  },
  {
   "cell_type": "markdown",
   "id": "3e651871",
   "metadata": {},
   "source": [
    "# Numpy 임포트 및 정보 확인 "
   ]
  },
  {
   "cell_type": "code",
   "execution_count": 5,
   "id": "c1f61247",
   "metadata": {
    "ExecuteTime": {
     "end_time": "2021-11-23T04:23:33.734826Z",
     "start_time": "2021-11-23T04:23:33.571790Z"
    }
   },
   "outputs": [],
   "source": [
    "import numpy as np"
   ]
  },
  {
   "cell_type": "code",
   "execution_count": 6,
   "id": "26aff90e",
   "metadata": {
    "ExecuteTime": {
     "end_time": "2021-11-23T04:23:33.749828Z",
     "start_time": "2021-11-23T04:23:33.736827Z"
    }
   },
   "outputs": [
    {
     "data": {
      "text/plain": [
       "'1.20.1'"
      ]
     },
     "execution_count": 6,
     "metadata": {},
     "output_type": "execute_result"
    }
   ],
   "source": [
    "#  버전 확인 \n",
    "np.__version__"
   ]
  },
  {
   "cell_type": "code",
   "execution_count": 7,
   "id": "10c396e7",
   "metadata": {
    "ExecuteTime": {
     "end_time": "2021-11-23T04:23:33.764832Z",
     "start_time": "2021-11-23T04:23:33.751830Z"
    }
   },
   "outputs": [],
   "source": [
    "# 메소드와 속성 확인 \n",
    "# print(dir(np))"
   ]
  },
  {
   "cell_type": "code",
   "execution_count": 8,
   "id": "393509de",
   "metadata": {
    "ExecuteTime": {
     "end_time": "2021-11-23T04:23:33.824847Z",
     "start_time": "2021-11-23T04:23:33.767834Z"
    }
   },
   "outputs": [],
   "source": [
    "# 넘파이 각 속성과 메서드 레퍼런스 확인은?\n",
    "# 넘파이명령어?\n",
    "np.mean?"
   ]
  },
  {
   "cell_type": "markdown",
   "id": "a9695648",
   "metadata": {},
   "source": [
    "# 넘파이 배열 생성 \n",
    "\n",
    "- 리스트 => 넘파이 배열 \n",
    "```\n",
    "np.array(리스트)\n",
    "```\n",
    "- 관련 속성 \n",
    "```\n",
    "ndim : 차원 반환 => int\n",
    "size : 전체 길이 반환  => int\n",
    "shape : 구조 반환 => tuple \n",
    "```"
   ]
  },
  {
   "cell_type": "code",
   "execution_count": 9,
   "id": "e4ba2cbe",
   "metadata": {
    "ExecuteTime": {
     "end_time": "2021-11-23T04:23:33.839849Z",
     "start_time": "2021-11-23T04:23:33.826847Z"
    }
   },
   "outputs": [
    {
     "name": "stdout",
     "output_type": "stream",
     "text": [
      "[10, 56, 77, 23, 44] <class 'list'> 5\n"
     ]
    }
   ],
   "source": [
    "# 1차원 리스트 => 1차원 넘파이 배열 \n",
    "myList = [10, 56, 77, 23, 44]\n",
    "print(myList, type(myList), len(myList) )"
   ]
  },
  {
   "cell_type": "code",
   "execution_count": 10,
   "id": "bef0e42e",
   "metadata": {
    "ExecuteTime": {
     "end_time": "2021-11-23T04:23:33.854853Z",
     "start_time": "2021-11-23T04:23:33.840851Z"
    }
   },
   "outputs": [
    {
     "name": "stdout",
     "output_type": "stream",
     "text": [
      "[10 56 77 23 44] <class 'numpy.ndarray'> 5\n",
      "차원은? 1\n",
      "구조는? (5,), <class 'tuple'>\n",
      "길이는? 5\n"
     ]
    }
   ],
   "source": [
    "myArr = np.array(myList)\n",
    "print(myArr, type(myArr), len(myArr) )\n",
    "print(f'차원은? {myArr.ndim}')\n",
    "print(f'구조는? {myArr.shape}, {type(myArr.shape)}')\n",
    "print(f'길이는? {myArr.size}')"
   ]
  },
  {
   "cell_type": "code",
   "execution_count": 11,
   "id": "4f52d559",
   "metadata": {
    "ExecuteTime": {
     "end_time": "2021-11-23T04:23:33.869856Z",
     "start_time": "2021-11-23T04:23:33.856853Z"
    }
   },
   "outputs": [
    {
     "data": {
      "text/plain": [
       "array([10, 56, 77, 23, 44])"
      ]
     },
     "execution_count": 11,
     "metadata": {},
     "output_type": "execute_result"
    }
   ],
   "source": [
    "# print() 문을 사용하지 않고 넘파이 배열 출력\n",
    "myArr"
   ]
  },
  {
   "cell_type": "code",
   "execution_count": 12,
   "id": "2027eb2f",
   "metadata": {
    "ExecuteTime": {
     "end_time": "2021-11-23T04:23:33.884859Z",
     "start_time": "2021-11-23T04:23:33.870857Z"
    }
   },
   "outputs": [
    {
     "data": {
      "text/plain": [
       "[[1, 2, 3], [10, 20, 30], [100, 200, 300]]"
      ]
     },
     "execution_count": 12,
     "metadata": {},
     "output_type": "execute_result"
    }
   ],
   "source": [
    "# 2차원 리스트 => 넘파이 배열 \n",
    "myList2 = [[1, 2, 3], [10, 20, 30], [100, 200, 300]]\n",
    "myList2"
   ]
  },
  {
   "cell_type": "code",
   "execution_count": 13,
   "id": "8ec114cd",
   "metadata": {
    "ExecuteTime": {
     "end_time": "2021-11-23T04:23:33.899863Z",
     "start_time": "2021-11-23T04:23:33.885861Z"
    }
   },
   "outputs": [
    {
     "name": "stdout",
     "output_type": "stream",
     "text": [
      "[[  1   2   3]\n",
      " [ 10  20  30]\n",
      " [100 200 300]] <class 'numpy.ndarray'> 3\n",
      "차원은? 2\n",
      "구조는? (3, 3), <class 'tuple'>\n",
      "길이는? 9\n",
      "넘파이 배열은 3 행 3 열\n"
     ]
    }
   ],
   "source": [
    "myArr2 = np.array(myList2)\n",
    "# len() 결과값이 2차원인 경우에는 행수로 출력 \n",
    "print(myArr2, type(myArr2), len(myArr2) )\n",
    "print(f'차원은? {myArr2.ndim}')\n",
    "print(f'구조는? {myArr2.shape}, {type(myArr2.shape)}')\n",
    "print(f'길이는? {myArr2.size}')\n",
    "print(f'넘파이 배열은 {myArr2.shape[0]} 행 {myArr2.shape[1]} 열')"
   ]
  },
  {
   "cell_type": "code",
   "execution_count": 14,
   "id": "4970fcac",
   "metadata": {
    "ExecuteTime": {
     "end_time": "2021-11-23T04:23:33.914867Z",
     "start_time": "2021-11-23T04:23:33.901865Z"
    }
   },
   "outputs": [
    {
     "data": {
      "text/plain": [
       "array([[  1,   2,   3],\n",
       "       [ 10,  20,  30],\n",
       "       [100, 200, 300]])"
      ]
     },
     "execution_count": 14,
     "metadata": {},
     "output_type": "execute_result"
    }
   ],
   "source": [
    "myArr2"
   ]
  },
  {
   "cell_type": "code",
   "execution_count": 15,
   "id": "ec16de09",
   "metadata": {
    "ExecuteTime": {
     "end_time": "2021-11-23T04:23:33.929869Z",
     "start_time": "2021-11-23T04:23:33.917868Z"
    }
   },
   "outputs": [
    {
     "data": {
      "text/plain": [
       "([[1, 2], [10, 20, 30], [100, 200, 300, 400, 500]], 3)"
      ]
     },
     "execution_count": 15,
     "metadata": {},
     "output_type": "execute_result"
    }
   ],
   "source": [
    "# 2차원 리스트에서 각 행 수가 틀린 경우 테스트 \n",
    "# 넘파이 배열은?\n",
    "myList3 = [[1, 2], [10, 20, 30], [100, 200, 300, 400, 500]]\n",
    "myList3, len(myList3)"
   ]
  },
  {
   "cell_type": "code",
   "execution_count": 16,
   "id": "dc593522",
   "metadata": {
    "ExecuteTime": {
     "end_time": "2021-11-23T04:23:33.944876Z",
     "start_time": "2021-11-23T04:23:33.931870Z"
    }
   },
   "outputs": [
    {
     "data": {
      "text/plain": [
       "array([list([1, 2]), list([10, 20, 30]), list([100, 200, 300, 400, 500])],\n",
       "      dtype=object)"
      ]
     },
     "execution_count": 16,
     "metadata": {},
     "output_type": "execute_result"
    }
   ],
   "source": [
    "# 각행의 갯수가 틀린 경우  넘파이배열로 생성하면 \n",
    "# list([값...]) 형태로 삽입된다. \n",
    "myArr3 = np.array(myList3)\n",
    "myArr3"
   ]
  },
  {
   "cell_type": "markdown",
   "id": "e1139615",
   "metadata": {},
   "source": [
    "# 넘파이 배열과 리스트와의 차이점은?\n",
    "\n",
    "- 연산이 가능 => 브로드캐스팅 \n",
    "- 배열간의 연산도 가능 \n",
    "- 리스트는 자료형 혼합 가능. 넘파이 배열은 하나의 자료형만 가능 \n",
    "- 넘파이에서 지원되는 메서드 사용 가능 : 평균, 상관계수, 분산, 표준편차, 최빈값"
   ]
  },
  {
   "cell_type": "code",
   "execution_count": 17,
   "id": "beee227b",
   "metadata": {
    "ExecuteTime": {
     "end_time": "2021-11-23T04:23:33.959877Z",
     "start_time": "2021-11-23T04:23:33.945875Z"
    }
   },
   "outputs": [
    {
     "data": {
      "text/plain": [
       "[10, 40, 50, 10, 40, 50]"
      ]
     },
     "execution_count": 17,
     "metadata": {},
     "output_type": "execute_result"
    }
   ],
   "source": [
    "# 리스트의 경우 + - 리스트간의 연결 \n",
    "listA = [10, 40, 50]\n",
    "listB = [10, 40, 50]\n",
    "listA + listB"
   ]
  },
  {
   "cell_type": "code",
   "execution_count": 18,
   "id": "21da0506",
   "metadata": {
    "ExecuteTime": {
     "end_time": "2021-11-23T04:23:33.974881Z",
     "start_time": "2021-11-23T04:23:33.961880Z"
    }
   },
   "outputs": [
    {
     "data": {
      "text/plain": [
       "[10, 40, 50, 10, 40, 50]"
      ]
     },
     "execution_count": 18,
     "metadata": {},
     "output_type": "execute_result"
    }
   ],
   "source": [
    "# 리스트의 경우 * - 리스트의 반복 \n",
    "# listA * listB => Type error\n",
    "listA * 2"
   ]
  },
  {
   "cell_type": "code",
   "execution_count": 19,
   "id": "fa60a18d",
   "metadata": {
    "ExecuteTime": {
     "end_time": "2021-11-23T04:23:33.989883Z",
     "start_time": "2021-11-23T04:23:33.975883Z"
    }
   },
   "outputs": [
    {
     "name": "stdout",
     "output_type": "stream",
     "text": [
      "[15 44 53]\n",
      "[ 5 36 47]\n",
      "[ 50 160 150]\n",
      "[ 2.         10.         16.66666667]\n",
      "[ 2 10 16]\n",
      "[0 0 2]\n"
     ]
    }
   ],
   "source": [
    "# 넘파이 배열간의 연산 \n",
    "# 각 위치에 해당하는 요소간의 연산으로 반환 \n",
    "arrA = np.array([10, 40, 50])\n",
    "arrB = np.array([5, 4, 3])\n",
    "print(arrA + arrB)\n",
    "print(arrA - arrB)\n",
    "print(arrA * arrB)\n",
    "print(arrA / arrB)\n",
    "print(arrA // arrB)\n",
    "print(arrA % arrB)"
   ]
  },
  {
   "cell_type": "code",
   "execution_count": 20,
   "id": "6be51ea6",
   "metadata": {
    "ExecuteTime": {
     "end_time": "2021-11-23T04:23:34.004886Z",
     "start_time": "2021-11-23T04:23:33.990884Z"
    }
   },
   "outputs": [
    {
     "name": "stdout",
     "output_type": "stream",
     "text": [
      "[10 40 50]\n",
      "[ 20  80 100]\n",
      "[ 3 13 16]\n"
     ]
    }
   ],
   "source": [
    "# 브로드캐스팅 \n",
    "# 넘파이배열 연산자 숫자 \n",
    "# 넘파이배열 각각에 연산이 적용된다. \n",
    "arrA\n",
    "print(arrA)\n",
    "print(arrA * 2)\n",
    "print(arrA // 3)"
   ]
  },
  {
   "cell_type": "code",
   "execution_count": 21,
   "id": "7e998238",
   "metadata": {
    "ExecuteTime": {
     "end_time": "2021-11-23T04:23:34.019889Z",
     "start_time": "2021-11-23T04:23:34.005890Z"
    }
   },
   "outputs": [
    {
     "data": {
      "text/plain": [
       "(['홍길동', 100, 3.14, True, False], list)"
      ]
     },
     "execution_count": 21,
     "metadata": {},
     "output_type": "execute_result"
    }
   ],
   "source": [
    "# 리스트와 넘파이배열의 자료형 테스트 \n",
    "myList_c = ['홍길동', 100, 3.14, True, False]\n",
    "myList_c, type(myList_c)"
   ]
  },
  {
   "cell_type": "code",
   "execution_count": 22,
   "id": "2989cbc8",
   "metadata": {
    "ExecuteTime": {
     "end_time": "2021-11-23T04:23:34.034893Z",
     "start_time": "2021-11-23T04:23:34.020891Z"
    }
   },
   "outputs": [
    {
     "data": {
      "text/plain": [
       "(array(['홍길동', '100', '3.14', 'True', 'False'], dtype='<U32'),\n",
       " numpy.ndarray,\n",
       " dtype('<U32'))"
      ]
     },
     "execution_count": 22,
     "metadata": {},
     "output_type": "execute_result"
    }
   ],
   "source": [
    "# 넘파이 배열의 구성 요소의 자료형 확인은?\n",
    "# 넘파이배열명.dtype\n",
    "\n",
    "# 데이타가 혼합되어 있는 경우 자동형변환이 된다. \n",
    "# 문자열 넘파이 배열로 변경 \n",
    "myArr_c = np.array(['홍길동', 100, 3.14, True, False])\n",
    "myArr_c, type(myArr_c), myArr_c.dtype"
   ]
  },
  {
   "cell_type": "code",
   "execution_count": 23,
   "id": "1a11a6ac",
   "metadata": {
    "ExecuteTime": {
     "end_time": "2021-11-23T04:23:34.049900Z",
     "start_time": "2021-11-23T04:23:34.037894Z"
    }
   },
   "outputs": [
    {
     "data": {
      "text/plain": [
       "(array([100.  ,   3.14,  23.5 ,   0.  ]), numpy.ndarray, dtype('float64'))"
      ]
     },
     "execution_count": 23,
     "metadata": {},
     "output_type": "execute_result"
    }
   ],
   "source": [
    "# 정수랑 실수 혼합된 넘파이 배열 생성 \n",
    "myArr_d = np.array([100, 3.14, 23.5, 0])\n",
    "myArr_d, type(myArr_d), myArr_d.dtype"
   ]
  },
  {
   "cell_type": "code",
   "execution_count": 24,
   "id": "8ba34d7a",
   "metadata": {
    "ExecuteTime": {
     "end_time": "2021-11-23T04:23:34.064900Z",
     "start_time": "2021-11-23T04:23:34.051897Z"
    }
   },
   "outputs": [
    {
     "data": {
      "text/plain": [
       "array([100.  ,   3.14,  23.5 ,   0.  ])"
      ]
     },
     "execution_count": 24,
     "metadata": {},
     "output_type": "execute_result"
    }
   ],
   "source": [
    "# 통계함수 적용하기 \n",
    "# np.통계함수명(넘파이배열명, 옵션)\n",
    "# 넘파이배열명.통계함수명(옵션)\n",
    "myArr_d"
   ]
  },
  {
   "cell_type": "code",
   "execution_count": 25,
   "id": "29a1e02b",
   "metadata": {
    "ExecuteTime": {
     "end_time": "2021-11-23T04:23:34.079904Z",
     "start_time": "2021-11-23T04:23:34.066900Z"
    }
   },
   "outputs": [
    {
     "name": "stdout",
     "output_type": "stream",
     "text": [
      " 배열의 모든합은? 126.64  126.64\n",
      " 배열의 평균은? 31.66  31.66\n",
      " 배열의 최댓값은? 100.0  100.0\n",
      " 배열의 최솟값은? 0.0  0.0\n"
     ]
    }
   ],
   "source": [
    "print(f' 배열의 모든합은? {np.sum(myArr_d)}  {myArr_d.sum()}')\n",
    "print(f' 배열의 평균은? {np.mean(myArr_d)}  {myArr_d.mean()}')\n",
    "print(f' 배열의 최댓값은? {np.max(myArr_d)}  {myArr_d.max()}')\n",
    "print(f' 배열의 최솟값은? {np.min(myArr_d)}  {myArr_d.min()}')"
   ]
  },
  {
   "cell_type": "code",
   "execution_count": 26,
   "id": "12f8938e",
   "metadata": {
    "ExecuteTime": {
     "end_time": "2021-11-23T04:23:34.094906Z",
     "start_time": "2021-11-23T04:23:34.081904Z"
    }
   },
   "outputs": [
    {
     "name": "stdout",
     "output_type": "stream",
     "text": [
      " 배열의 중앙값은? 13.32\n"
     ]
    }
   ],
   "source": [
    "print(f' 배열의 중앙값은? {np.median(myArr_d)}')"
   ]
  },
  {
   "cell_type": "code",
   "execution_count": 27,
   "id": "b2e9f7d6",
   "metadata": {
    "ExecuteTime": {
     "end_time": "2021-11-23T04:23:34.109910Z",
     "start_time": "2021-11-23T04:23:34.095907Z"
    }
   },
   "outputs": [],
   "source": [
    "# 아래는 에러발생함 중앙값을 출력하는 함수의 경우 \n",
    "# AttributeError \n",
    "# np.median(넘파이배열) 만 됨 \n",
    "# print(f' 배열의 중앙값은? {myArr_d.median()}')"
   ]
  },
  {
   "cell_type": "code",
   "execution_count": 28,
   "id": "b617015f",
   "metadata": {
    "ExecuteTime": {
     "end_time": "2021-11-23T04:23:34.320090Z",
     "start_time": "2021-11-23T04:23:34.110910Z"
    }
   },
   "outputs": [
    {
     "ename": "NameError",
     "evalue": "name 'n' is not defined",
     "output_type": "error",
     "traceback": [
      "\u001b[1;31m---------------------------------------------------------------------------\u001b[0m",
      "\u001b[1;31mNameError\u001b[0m                                 Traceback (most recent call last)",
      "\u001b[1;32m<ipython-input-28-2ab473b83bd4>\u001b[0m in \u001b[0;36m<module>\u001b[1;34m\u001b[0m\n\u001b[0;32m      1\u001b[0m \u001b[1;31m# 넘파이 제공 함수를 이용해서 배열 생성하기\u001b[0m\u001b[1;33m\u001b[0m\u001b[1;33m\u001b[0m\u001b[1;33m\u001b[0m\u001b[0m\n\u001b[0;32m      2\u001b[0m \u001b[1;33m\u001b[0m\u001b[0m\n\u001b[1;32m----> 3\u001b[1;33m \u001b[0mnp\u001b[0m\u001b[1;33m.\u001b[0m\u001b[0mones\u001b[0m\u001b[1;33m(\u001b[0m\u001b[0mn\u001b[0m\u001b[1;33m)\u001b[0m \u001b[1;33m,\u001b[0m \u001b[0mnp\u001b[0m\u001b[1;33m.\u001b[0m\u001b[0mones\u001b[0m\u001b[1;33m(\u001b[0m\u001b[1;33m(\u001b[0m\u001b[0mx\u001b[0m\u001b[1;33m,\u001b[0m \u001b[0my\u001b[0m\u001b[1;33m)\u001b[0m\u001b[1;33m)\u001b[0m\u001b[1;33m\u001b[0m\u001b[1;33m\u001b[0m\u001b[0m\n\u001b[0m\u001b[0;32m      4\u001b[0m \u001b[0mnp\u001b[0m\u001b[1;33m.\u001b[0m\u001b[0mzeros\u001b[0m\u001b[1;33m(\u001b[0m\u001b[0mn\u001b[0m\u001b[1;33m)\u001b[0m \u001b[1;33m,\u001b[0m \u001b[0mnp\u001b[0m\u001b[1;33m.\u001b[0m\u001b[0mzeros\u001b[0m\u001b[1;33m(\u001b[0m\u001b[1;33m(\u001b[0m\u001b[0mx\u001b[0m\u001b[1;33m,\u001b[0m \u001b[0my\u001b[0m\u001b[1;33m)\u001b[0m\u001b[1;33m)\u001b[0m\u001b[1;33m\u001b[0m\u001b[1;33m\u001b[0m\u001b[0m\n\u001b[0;32m      5\u001b[0m \u001b[0mnp\u001b[0m\u001b[1;33m.\u001b[0m\u001b[0marange\u001b[0m\u001b[1;33m(\u001b[0m\u001b[0mstart\u001b[0m\u001b[1;33m,\u001b[0m \u001b[0mend\u001b[0m\u001b[1;33m,\u001b[0m \u001b[0mstep\u001b[0m\u001b[1;33m)\u001b[0m\u001b[1;33m\u001b[0m\u001b[1;33m\u001b[0m\u001b[0m\n",
      "\u001b[1;31mNameError\u001b[0m: name 'n' is not defined"
     ]
    }
   ],
   "source": [
    "# 넘파이 제공 함수를 이용해서 배열 생성하기 \n",
    "\n",
    "```\n",
    "np.ones(n) , np.ones((x, y)) \n",
    "np.zeros(n) , np.zeros((x, y))\n",
    "np.arange(start, end, step) \n",
    "\n",
    "# 1차원 => 2차원\n",
    "reshape(x, y)\n",
    "# 2차원 => 1차원\n",
    "flatten()\n",
    "```"
   ]
  },
  {
   "cell_type": "code",
   "execution_count": 29,
   "id": "79e75f17",
   "metadata": {
    "ExecuteTime": {
     "end_time": "2021-11-23T04:24:17.945225Z",
     "start_time": "2021-11-23T04:24:17.929215Z"
    }
   },
   "outputs": [
    {
     "data": {
      "text/plain": [
       "(array([1., 1., 1., 1., 1., 1., 1., 1., 1., 1.]), dtype('float64'))"
      ]
     },
     "execution_count": 29,
     "metadata": {},
     "output_type": "execute_result"
    }
   ],
   "source": [
    "# 1. 로 구성된 넘파이 배열 생성 \n",
    "arr1 = np.ones(10)\n",
    "arr1, arr1.dtype"
   ]
  },
  {
   "cell_type": "code",
   "execution_count": 30,
   "id": "81657282",
   "metadata": {
    "ExecuteTime": {
     "end_time": "2021-11-23T04:24:22.509387Z",
     "start_time": "2021-11-23T04:24:22.500386Z"
    }
   },
   "outputs": [
    {
     "data": {
      "text/plain": [
       "(array([1, 1, 1, 1, 1, 1, 1, 1, 1, 1]), dtype('int32'))"
      ]
     },
     "execution_count": 30,
     "metadata": {},
     "output_type": "execute_result"
    }
   ],
   "source": [
    "# 1 로 구성된 넘파이 배열 생성 => 정수형 \n",
    "arr2 = np.ones(10, dtype=int)\n",
    "arr2, arr2.dtype"
   ]
  },
  {
   "cell_type": "code",
   "execution_count": 31,
   "id": "6f492a58",
   "metadata": {
    "ExecuteTime": {
     "end_time": "2021-11-23T04:24:28.106006Z",
     "start_time": "2021-11-23T04:24:28.101006Z"
    }
   },
   "outputs": [
    {
     "data": {
      "text/plain": [
       "(array([[1, 1],\n",
       "        [1, 1],\n",
       "        [1, 1],\n",
       "        [1, 1],\n",
       "        [1, 1]]),\n",
       " dtype('int32'),\n",
       " (5, 2))"
      ]
     },
     "execution_count": 31,
     "metadata": {},
     "output_type": "execute_result"
    }
   ],
   "source": [
    "# 1 로 구성된 5행 2열 배열 생성 => 정수형 \n",
    "arr3 = np.ones((5,2), dtype=int)\n",
    "arr3, arr3.dtype, arr3.shape"
   ]
  },
  {
   "cell_type": "code",
   "execution_count": 32,
   "id": "c3393168",
   "metadata": {
    "ExecuteTime": {
     "end_time": "2021-11-23T04:24:36.089066Z",
     "start_time": "2021-11-23T04:24:36.076064Z"
    },
    "scrolled": true
   },
   "outputs": [
    {
     "name": "stdout",
     "output_type": "stream",
     "text": [
      "[[0 0 0]\n",
      " [0 0 0]\n",
      " [0 0 0]]\n",
      "==============================\n",
      "[[0 0 0]\n",
      " [0 0 0]\n",
      " [0 0 0]]\n"
     ]
    }
   ],
   "source": [
    "# 3행 3열 0으로 구성된 넘파이 배열 \n",
    "print( np.array([[0,0,0], [0,0,0], [0,0,0]]) )\n",
    "arr4 = np.zeros((3,3), dtype=int)\n",
    "print('='*30)\n",
    "print(arr4)"
   ]
  },
  {
   "cell_type": "code",
   "execution_count": 33,
   "id": "fdc54f60",
   "metadata": {
    "ExecuteTime": {
     "end_time": "2021-11-23T04:25:42.271758Z",
     "start_time": "2021-11-23T04:25:42.260751Z"
    }
   },
   "outputs": [
    {
     "data": {
      "text/plain": [
       "array([[ 1.10754035e-311,  7.46039125e-322,  0.00000000e+000,\n",
       "         0.00000000e+000,  7.56587583e-307],\n",
       "       [ 1.16095484e-028, -9.27327519e-171, -5.75959776e+210,\n",
       "         6.10738033e-152, -3.74043493e-074],\n",
       "       [-1.58980714e+215, -4.29614932e-150,  1.03091574e-151,\n",
       "         2.87786951e-014,  7.49232601e+247],\n",
       "       [ 1.05016875e-153,  7.29882928e+223,  7.17466957e-061,\n",
       "         3.73480841e+174,  9.13554114e+242],\n",
       "       [ 4.24819624e+180,  2.91237123e+257,  4.71294503e+257,\n",
       "         2.59819097e-306,  6.84366093e+193]])"
      ]
     },
     "execution_count": 33,
     "metadata": {},
     "output_type": "execute_result"
    }
   ],
   "source": [
    "# 5행 5열로 구성된 넘파이 배열 \n",
    "arr5 = np.empty((5,5))\n",
    "arr5"
   ]
  },
  {
   "cell_type": "code",
   "execution_count": 45,
   "id": "6725b7ad",
   "metadata": {
    "ExecuteTime": {
     "end_time": "2021-11-23T04:49:41.151807Z",
     "start_time": "2021-11-23T04:49:41.133817Z"
    }
   },
   "outputs": [
    {
     "name": "stdout",
     "output_type": "stream",
     "text": [
      "range(1, 21) [1, 2, 3, 4, 5, 6, 7, 8, 9, 10, 11, 12, 13, 14, 15, 16, 17, 18, 19, 20]\n",
      "[ 1  2  3  4  5  6  7  8  9 10 11 12 13 14 15 16 17 18 19 20]\n",
      "==============================\n"
     ]
    },
    {
     "data": {
      "text/plain": [
       "array([[ 1,  2,  3,  4,  5],\n",
       "       [ 6,  7,  8,  9, 10],\n",
       "       [11, 12, 13, 14, 15],\n",
       "       [16, 17, 18, 19, 20]])"
      ]
     },
     "execution_count": 45,
     "metadata": {},
     "output_type": "execute_result"
    }
   ],
   "source": [
    "# 1~20 으로 구성된 4행 5열의 넘파이 배열 \n",
    "\n",
    "# range() 객체 => 리스트화 list(range()) => 넘파이 배열화 np.array(list(range()))\n",
    "print(range(1,21), list(range(1,21)))\n",
    "print(np.array(list(range(1,21))))\n",
    "print('='*30)\n",
    "arr6 = np.arange(1, 21).reshape(4, 5)\n",
    "arr6"
   ]
  },
  {
   "cell_type": "code",
   "execution_count": 46,
   "id": "0e330d6e",
   "metadata": {
    "ExecuteTime": {
     "end_time": "2021-11-23T04:49:56.524868Z",
     "start_time": "2021-11-23T04:49:56.515866Z"
    },
    "scrolled": true
   },
   "outputs": [
    {
     "name": "stdout",
     "output_type": "stream",
     "text": [
      "range(1, 21) [1, 2, 3, 4, 5, 6, 7, 8, 9, 10, 11, 12, 13, 14, 15, 16, 17, 18, 19, 20]\n",
      "[ 1  2  3  4  5  6  7  8  9 10 11 12 13 14 15 16 17 18 19 20]\n",
      "==============================\n"
     ]
    },
    {
     "data": {
      "text/plain": [
       "array([[ 1,  2,  3,  4,  5],\n",
       "       [ 6,  7,  8,  9, 10],\n",
       "       [11, 12, 13, 14, 15],\n",
       "       [16, 17, 18, 19, 20]])"
      ]
     },
     "execution_count": 46,
     "metadata": {},
     "output_type": "execute_result"
    }
   ],
   "source": [
    "# 1~20 으로 구성된 4행 5열의 넘파이 배열 \n",
    "\n",
    "# range() 객체 => 리스트화 list(range()) => 넘파이 배열화 np.array(list(range()))\n",
    "print(range(1,21), list(range(1,21)))\n",
    "print(np.array(list(range(1,21))))\n",
    "print('='*30)\n",
    "# reshape(x, y) => x행 y열 로 재구성 \n",
    "arr6 = np.arange(1, 21).reshape(4, 5)\n",
    "arr6"
   ]
  },
  {
   "cell_type": "code",
   "execution_count": 47,
   "id": "5cbcf1df",
   "metadata": {
    "ExecuteTime": {
     "end_time": "2021-11-23T04:50:28.932570Z",
     "start_time": "2021-11-23T04:50:28.924567Z"
    }
   },
   "outputs": [
    {
     "name": "stdout",
     "output_type": "stream",
     "text": [
      "[ 0  1  2  3  4  5  6  7  8  9 10 11 12 13 14 15 16 17 18 19 20 21 22 23\n",
      " 24 25 26 27 28 29 30 31 32 33 34 35 36 37 38 39 40 41 42 43 44 45 46 47\n",
      " 48 49] 50 50\n"
     ]
    }
   ],
   "source": [
    "# 0~49 까지 구성된 넘파이 배열\n",
    "# 초기값이 0인 경우 생략 가능 \n",
    "arr7 = np.arange(50)\n",
    "print(arr7, len(arr7), arr7.size)"
   ]
  },
  {
   "cell_type": "code",
   "execution_count": 48,
   "id": "8e23a4f8",
   "metadata": {
    "ExecuteTime": {
     "end_time": "2021-11-23T04:50:32.974088Z",
     "start_time": "2021-11-23T04:50:32.956084Z"
    }
   },
   "outputs": [
    {
     "data": {
      "text/plain": [
       "array([[ 0,  1,  2,  3,  4],\n",
       "       [ 5,  6,  7,  8,  9],\n",
       "       [10, 11, 12, 13, 14],\n",
       "       [15, 16, 17, 18, 19],\n",
       "       [20, 21, 22, 23, 24],\n",
       "       [25, 26, 27, 28, 29],\n",
       "       [30, 31, 32, 33, 34],\n",
       "       [35, 36, 37, 38, 39],\n",
       "       [40, 41, 42, 43, 44],\n",
       "       [45, 46, 47, 48, 49]])"
      ]
     },
     "execution_count": 48,
     "metadata": {},
     "output_type": "execute_result"
    }
   ],
   "source": [
    "# 원본 넘파이 배열에 다시 적용 \n",
    "arr7 = arr7.reshape(10,5)\n",
    "arr7"
   ]
  },
  {
   "cell_type": "code",
   "execution_count": 49,
   "id": "4a8e4450",
   "metadata": {
    "ExecuteTime": {
     "end_time": "2021-11-23T04:50:59.040690Z",
     "start_time": "2021-11-23T04:50:59.036691Z"
    }
   },
   "outputs": [
    {
     "data": {
      "text/plain": [
       "array([[ 0,  1,  2,  3,  4,  5,  6,  7,  8,  9],\n",
       "       [10, 11, 12, 13, 14, 15, 16, 17, 18, 19],\n",
       "       [20, 21, 22, 23, 24, 25, 26, 27, 28, 29],\n",
       "       [30, 31, 32, 33, 34, 35, 36, 37, 38, 39],\n",
       "       [40, 41, 42, 43, 44, 45, 46, 47, 48, 49]])"
      ]
     },
     "execution_count": 49,
     "metadata": {},
     "output_type": "execute_result"
    }
   ],
   "source": [
    "# 2차원 => 2차원 변경 가능 \n",
    "arr7.reshape(5,10)"
   ]
  },
  {
   "cell_type": "code",
   "execution_count": 50,
   "id": "bb5abf7b",
   "metadata": {
    "ExecuteTime": {
     "end_time": "2021-11-23T04:51:04.590083Z",
     "start_time": "2021-11-23T04:51:04.580082Z"
    }
   },
   "outputs": [
    {
     "data": {
      "text/plain": [
       "array([[ 0,  1,  2,  3,  4,  5,  6,  7,  8,  9],\n",
       "       [10, 11, 12, 13, 14, 15, 16, 17, 18, 19],\n",
       "       [20, 21, 22, 23, 24, 25, 26, 27, 28, 29],\n",
       "       [30, 31, 32, 33, 34, 35, 36, 37, 38, 39],\n",
       "       [40, 41, 42, 43, 44, 45, 46, 47, 48, 49]])"
      ]
     },
     "execution_count": 50,
     "metadata": {},
     "output_type": "execute_result"
    }
   ],
   "source": [
    "# 2차원 => 2차원 변경 가능 \n",
    "arr8 = arr7.reshape(5,10)\n",
    "arr8"
   ]
  },
  {
   "cell_type": "code",
   "execution_count": 51,
   "id": "0030d2d4",
   "metadata": {
    "ExecuteTime": {
     "end_time": "2021-11-23T04:51:09.731956Z",
     "start_time": "2021-11-23T04:51:09.717955Z"
    }
   },
   "outputs": [
    {
     "data": {
      "text/plain": [
       "(2, (5, 10))"
      ]
     },
     "execution_count": 51,
     "metadata": {},
     "output_type": "execute_result"
    }
   ],
   "source": [
    "# 2차원 => 1차원으로 변경 \n",
    "arr8.ndim, arr8.shape"
   ]
  },
  {
   "cell_type": "code",
   "execution_count": 52,
   "id": "fb0069ed",
   "metadata": {
    "ExecuteTime": {
     "end_time": "2021-11-23T04:51:14.257302Z",
     "start_time": "2021-11-23T04:51:14.244299Z"
    }
   },
   "outputs": [
    {
     "data": {
      "text/plain": [
       "(2, (5, 10))"
      ]
     },
     "execution_count": 52,
     "metadata": {},
     "output_type": "execute_result"
    }
   ],
   "source": [
    "# 2차원 => 1차원으로 변경 \n",
    "# 넘파이배열.flatten()\n",
    "arr8.ndim, arr8.shape"
   ]
  },
  {
   "cell_type": "code",
   "execution_count": 53,
   "id": "376b33f6",
   "metadata": {
    "ExecuteTime": {
     "end_time": "2021-11-23T04:51:18.817127Z",
     "start_time": "2021-11-23T04:51:18.812127Z"
    }
   },
   "outputs": [
    {
     "data": {
      "text/plain": [
       "array([ 0,  1,  2,  3,  4,  5,  6,  7,  8,  9, 10, 11, 12, 13, 14, 15, 16,\n",
       "       17, 18, 19, 20, 21, 22, 23, 24, 25, 26, 27, 28, 29, 30, 31, 32, 33,\n",
       "       34, 35, 36, 37, 38, 39, 40, 41, 42, 43, 44, 45, 46, 47, 48, 49])"
      ]
     },
     "execution_count": 53,
     "metadata": {},
     "output_type": "execute_result"
    }
   ],
   "source": [
    "arr9 = arr8.flatten()\n",
    "arr9"
   ]
  },
  {
   "cell_type": "code",
   "execution_count": 54,
   "id": "6e18d2b5",
   "metadata": {
    "ExecuteTime": {
     "end_time": "2021-11-23T04:51:23.958706Z",
     "start_time": "2021-11-23T04:51:23.939714Z"
    }
   },
   "outputs": [
    {
     "data": {
      "text/plain": [
       "array([  0,   2,   4,   6,   8,  10,  12,  14,  16,  18,  20,  22,  24,\n",
       "        26,  28,  30,  32,  34,  36,  38,  40,  42,  44,  46,  48,  50,\n",
       "        52,  54,  56,  58,  60,  62,  64,  66,  68,  70,  72,  74,  76,\n",
       "        78,  80,  82,  84,  86,  88,  90,  92,  94,  96,  98, 100])"
      ]
     },
     "execution_count": 54,
     "metadata": {},
     "output_type": "execute_result"
    }
   ],
   "source": [
    "# 0~100 사이의 숫자중에서 짝수로된 넘파이 배열 생성\n",
    "arr10 = np.arange(0, 101, 2)\n",
    "arr10"
   ]
  },
  {
   "cell_type": "code",
   "execution_count": 55,
   "id": "0f282eae",
   "metadata": {
    "ExecuteTime": {
     "end_time": "2021-11-23T04:51:32.809492Z",
     "start_time": "2021-11-23T04:51:32.796490Z"
    }
   },
   "outputs": [
    {
     "data": {
      "text/plain": [
       "array([  0,   2,   4,   6,   8,  10,  12,  14,  16,  18,  20,  22,  24,\n",
       "        26,  28,  30,  32,  34,  36,  38,  40,  42,  44,  46,  48,  50,\n",
       "        52,  54,  56,  58,  60,  62,  64,  66,  68,  70,  72,  74,  76,\n",
       "        78,  80,  82,  84,  86,  88,  90,  92,  94,  96,  98, 100])"
      ]
     },
     "execution_count": 55,
     "metadata": {},
     "output_type": "execute_result"
    }
   ],
   "source": [
    "# 0~100 사이의 숫자중에서 짝수로된 넘파이 배열 생성\n",
    "arr10 = np.arange(0, 101, 2)\n",
    "arr10"
   ]
  },
  {
   "cell_type": "code",
   "execution_count": 56,
   "id": "18dce09d",
   "metadata": {
    "ExecuteTime": {
     "end_time": "2021-11-23T04:51:42.625088Z",
     "start_time": "2021-11-23T04:51:42.619095Z"
    }
   },
   "outputs": [
    {
     "data": {
      "text/plain": [
       "array([[ 1,  3],\n",
       "       [ 5,  7],\n",
       "       [ 9, 11],\n",
       "       [13, 15],\n",
       "       [17, 19],\n",
       "       [21, 23],\n",
       "       [25, 27],\n",
       "       [29, 31],\n",
       "       [33, 35],\n",
       "       [37, 39],\n",
       "       [41, 43],\n",
       "       [45, 47],\n",
       "       [49, 51],\n",
       "       [53, 55],\n",
       "       [57, 59],\n",
       "       [61, 63],\n",
       "       [65, 67],\n",
       "       [69, 71],\n",
       "       [73, 75],\n",
       "       [77, 79],\n",
       "       [81, 83],\n",
       "       [85, 87],\n",
       "       [89, 91],\n",
       "       [93, 95],\n",
       "       [97, 99]])"
      ]
     },
     "execution_count": 56,
     "metadata": {},
     "output_type": "execute_result"
    }
   ],
   "source": [
    "# 홀수는?\n",
    "np.arange(1, 101, 2).reshape(25,2)"
   ]
  },
  {
   "cell_type": "code",
   "execution_count": 57,
   "id": "b9e7f0f3",
   "metadata": {
    "ExecuteTime": {
     "end_time": "2021-11-23T04:52:03.240437Z",
     "start_time": "2021-11-23T04:52:03.236444Z"
    }
   },
   "outputs": [
    {
     "data": {
      "text/plain": [
       "(array([[ 1],\n",
       "        [ 2],\n",
       "        [ 3],\n",
       "        [ 4],\n",
       "        [ 5],\n",
       "        [ 6],\n",
       "        [ 7],\n",
       "        [ 8],\n",
       "        [ 9],\n",
       "        [10],\n",
       "        [11],\n",
       "        [12],\n",
       "        [13],\n",
       "        [14],\n",
       "        [15],\n",
       "        [16],\n",
       "        [17],\n",
       "        [18],\n",
       "        [19],\n",
       "        [20],\n",
       "        [21],\n",
       "        [22],\n",
       "        [23],\n",
       "        [24],\n",
       "        [25],\n",
       "        [26],\n",
       "        [27],\n",
       "        [28],\n",
       "        [29],\n",
       "        [30]]),\n",
       " 2)"
      ]
     },
     "execution_count": 57,
     "metadata": {},
     "output_type": "execute_result"
    }
   ],
   "source": [
    "# reshape(-1, n) => 2차원 n개의 컬럼으로 구성 \n",
    "arr12 = arr11.reshape(-1, 1)\n",
    "arr12, arr12.ndim"
   ]
  },
  {
   "cell_type": "code",
   "execution_count": 43,
   "id": "7e4ce253",
   "metadata": {
    "ExecuteTime": {
     "end_time": "2021-11-23T04:48:04.574342Z",
     "start_time": "2021-11-23T04:48:04.556331Z"
    }
   },
   "outputs": [
    {
     "data": {
      "text/plain": [
       "(array([ 1,  2,  3,  4,  5,  6,  7,  8,  9, 10, 11, 12, 13, 14, 15, 16, 17,\n",
       "        18, 19, 20, 21, 22, 23, 24, 25, 26, 27, 28, 29, 30]),\n",
       " 1)"
      ]
     },
     "execution_count": 43,
     "metadata": {},
     "output_type": "execute_result"
    }
   ],
   "source": [
    "arr11, arr11.ndim"
   ]
  },
  {
   "cell_type": "code",
   "execution_count": 44,
   "id": "15b50ebc",
   "metadata": {
    "ExecuteTime": {
     "end_time": "2021-11-23T04:48:05.240049Z",
     "start_time": "2021-11-23T04:48:05.221039Z"
    }
   },
   "outputs": [
    {
     "data": {
      "text/plain": [
       "(array([[ 1],\n",
       "        [ 2],\n",
       "        [ 3],\n",
       "        [ 4],\n",
       "        [ 5],\n",
       "        [ 6],\n",
       "        [ 7],\n",
       "        [ 8],\n",
       "        [ 9],\n",
       "        [10],\n",
       "        [11],\n",
       "        [12],\n",
       "        [13],\n",
       "        [14],\n",
       "        [15],\n",
       "        [16],\n",
       "        [17],\n",
       "        [18],\n",
       "        [19],\n",
       "        [20],\n",
       "        [21],\n",
       "        [22],\n",
       "        [23],\n",
       "        [24],\n",
       "        [25],\n",
       "        [26],\n",
       "        [27],\n",
       "        [28],\n",
       "        [29],\n",
       "        [30]]),\n",
       " 2)"
      ]
     },
     "execution_count": 44,
     "metadata": {},
     "output_type": "execute_result"
    }
   ],
   "source": [
    "arr12 = arr11.reshape(-1,1)\n",
    "arr12, arr12.ndim"
   ]
  },
  {
   "cell_type": "code",
   "execution_count": 58,
   "id": "e230ad74",
   "metadata": {
    "ExecuteTime": {
     "end_time": "2021-11-23T05:24:04.586426Z",
     "start_time": "2021-11-23T05:24:04.571422Z"
    }
   },
   "outputs": [
    {
     "data": {
      "text/plain": [
       "array([[ 1,  2,  3,  4],\n",
       "       [ 5,  6,  7,  8],\n",
       "       [ 9, 10, 11, 12],\n",
       "       [13, 14, 15, 16],\n",
       "       [17, 18, 19, 20]])"
      ]
     },
     "execution_count": 58,
     "metadata": {},
     "output_type": "execute_result"
    }
   ],
   "source": [
    "np.arange(1,21).reshape(-1, 4)"
   ]
  },
  {
   "cell_type": "code",
   "execution_count": 59,
   "id": "6d5f7e7d",
   "metadata": {
    "ExecuteTime": {
     "end_time": "2021-11-23T05:24:10.394994Z",
     "start_time": "2021-11-23T05:24:10.375973Z"
    }
   },
   "outputs": [
    {
     "data": {
      "text/plain": [
       "array([[ 1,  2],\n",
       "       [ 3,  4],\n",
       "       [ 5,  6],\n",
       "       [ 7,  8],\n",
       "       [ 9, 10],\n",
       "       [11, 12],\n",
       "       [13, 14],\n",
       "       [15, 16],\n",
       "       [17, 18],\n",
       "       [19, 20]])"
      ]
     },
     "execution_count": 59,
     "metadata": {},
     "output_type": "execute_result"
    }
   ],
   "source": [
    "# np.arange(1,21).reshape(10, 2)\n",
    "np.arange(1,21).reshape(-1, 2)"
   ]
  },
  {
   "cell_type": "code",
   "execution_count": 62,
   "id": "664adc89",
   "metadata": {
    "ExecuteTime": {
     "end_time": "2021-11-23T05:24:52.392389Z",
     "start_time": "2021-11-23T05:24:52.373391Z"
    }
   },
   "outputs": [
    {
     "data": {
      "text/plain": [
       "(array([[1, 2, 3],\n",
       "        [4, 5, 6],\n",
       "        [7, 8, 9]]),\n",
       " dtype('int32'))"
      ]
     },
     "execution_count": 62,
     "metadata": {},
     "output_type": "execute_result"
    }
   ],
   "source": [
    "# 정수형, 3행 3열\n",
    "matrix = np.arange(1,10).reshape(3,3)\n",
    "matrix, matrix.dtype"
   ]
  },
  {
   "cell_type": "code",
   "execution_count": 63,
   "id": "4b2c8e27",
   "metadata": {
    "ExecuteTime": {
     "end_time": "2021-11-23T05:24:57.225600Z",
     "start_time": "2021-11-23T05:24:57.218589Z"
    }
   },
   "outputs": [
    {
     "data": {
      "text/plain": [
       "(array([[1., 2., 3.],\n",
       "        [4., 5., 6.],\n",
       "        [7., 8., 9.]]),\n",
       " dtype('float64'))"
      ]
     },
     "execution_count": 63,
     "metadata": {},
     "output_type": "execute_result"
    }
   ],
   "source": [
    "# 실수형, 3행 3열\n",
    "matrix = np.arange(1,10, dtype=float).reshape(3,3)\n",
    "matrix, matrix.dtype"
   ]
  },
  {
   "cell_type": "code",
   "execution_count": 65,
   "id": "605e0e3d",
   "metadata": {
    "ExecuteTime": {
     "end_time": "2021-11-23T05:25:13.627873Z",
     "start_time": "2021-11-23T05:25:13.619870Z"
    }
   },
   "outputs": [
    {
     "data": {
      "text/plain": [
       "(array([[1, 2, 3],\n",
       "        [4, 5, 6],\n",
       "        [7, 8, 9]]),\n",
       " dtype('int32'))"
      ]
     },
     "execution_count": 65,
     "metadata": {},
     "output_type": "execute_result"
    }
   ],
   "source": [
    "# 문자열형, 3행 3열\n",
    "matrix = np.arange(1,10).reshape(3,3)\n",
    "matrix, matrix.dtype"
   ]
  },
  {
   "cell_type": "code",
   "execution_count": 66,
   "id": "a725513d",
   "metadata": {
    "ExecuteTime": {
     "end_time": "2021-11-23T05:25:18.999711Z",
     "start_time": "2021-11-23T05:25:18.980715Z"
    }
   },
   "outputs": [
    {
     "data": {
      "text/plain": [
       "array([['1', '2', '3'],\n",
       "       ['4', '5', '6'],\n",
       "       ['7', '8', '9']], dtype='<U5')"
      ]
     },
     "execution_count": 66,
     "metadata": {},
     "output_type": "execute_result"
    }
   ],
   "source": [
    "# 정수형 => 문자열형 \n",
    "matrix.astype('<U5')"
   ]
  },
  {
   "cell_type": "code",
   "execution_count": 67,
   "id": "665735be",
   "metadata": {
    "ExecuteTime": {
     "end_time": "2021-11-23T05:25:25.870424Z",
     "start_time": "2021-11-23T05:25:25.859423Z"
    }
   },
   "outputs": [
    {
     "data": {
      "text/plain": [
       "(array([ True, False,  True,  True, False]), dtype('bool'))"
      ]
     },
     "execution_count": 67,
     "metadata": {},
     "output_type": "execute_result"
    }
   ],
   "source": [
    "# 논리형으로 구성된 넘파이 배열 생성 \n",
    "matrix2 = np.array([True, False, True, True, False])\n",
    "matrix2, matrix2.dtype"
   ]
  },
  {
   "cell_type": "code",
   "execution_count": 68,
   "id": "64f80131",
   "metadata": {
    "ExecuteTime": {
     "end_time": "2021-11-23T05:25:34.488350Z",
     "start_time": "2021-11-23T05:25:34.482349Z"
    }
   },
   "outputs": [
    {
     "data": {
      "text/plain": [
       "(array([1, 0, 1, 1, 0]), dtype('int32'))"
      ]
     },
     "execution_count": 68,
     "metadata": {},
     "output_type": "execute_result"
    }
   ],
   "source": [
    "# 논리형 => 정수형 \n",
    "# True => 1, False => 0\n",
    "matrix2.astype(int), matrix2.astype(int).dtype"
   ]
  },
  {
   "cell_type": "code",
   "execution_count": 69,
   "id": "692e1a9c",
   "metadata": {
    "ExecuteTime": {
     "end_time": "2021-11-23T05:43:22.270394Z",
     "start_time": "2021-11-23T05:43:22.261391Z"
    }
   },
   "outputs": [
    {
     "data": {
      "text/plain": [
       "array(['True', 'False', 'True', 'True', 'False'], dtype='<U5')"
      ]
     },
     "execution_count": 69,
     "metadata": {},
     "output_type": "execute_result"
    }
   ],
   "source": [
    "# 논리형 => 문자열 \n",
    "matrix2.astype('<U5')"
   ]
  },
  {
   "cell_type": "code",
   "execution_count": 70,
   "id": "da0f23bf",
   "metadata": {
    "ExecuteTime": {
     "end_time": "2021-11-23T05:43:25.616229Z",
     "start_time": "2021-11-23T05:43:25.611227Z"
    }
   },
   "outputs": [
    {
     "data": {
      "text/plain": [
       "array(['3.14', '5.5', '0.78'], dtype='<U4')"
      ]
     },
     "execution_count": 70,
     "metadata": {},
     "output_type": "execute_result"
    }
   ],
   "source": [
    "# 문자열숫자 => 정수나 실수 \n",
    "matrix3 = np.array(['3.14', '5.5', '0.78'])\n",
    "matrix3"
   ]
  },
  {
   "cell_type": "code",
   "execution_count": 71,
   "id": "8ec5d221",
   "metadata": {
    "ExecuteTime": {
     "end_time": "2021-11-23T05:43:30.253873Z",
     "start_time": "2021-11-23T05:43:30.234870Z"
    }
   },
   "outputs": [
    {
     "data": {
      "text/plain": [
       "(array([3.14, 5.5 , 0.78]), dtype('float64'))"
      ]
     },
     "execution_count": 71,
     "metadata": {},
     "output_type": "execute_result"
    }
   ],
   "source": [
    "matrix3.astype(float), matrix3.astype(float).dtype"
   ]
  },
  {
   "cell_type": "code",
   "execution_count": 72,
   "id": "4a0ab625",
   "metadata": {
    "ExecuteTime": {
     "end_time": "2021-11-23T05:43:40.596736Z",
     "start_time": "2021-11-23T05:43:40.586728Z"
    }
   },
   "outputs": [
    {
     "data": {
      "text/plain": [
       "array([3, 5, 0])"
      ]
     },
     "execution_count": 72,
     "metadata": {},
     "output_type": "execute_result"
    }
   ],
   "source": [
    "matrix4 = np.array(['3', '5', '0'])\n",
    "matrix4.astype(int)"
   ]
  },
  {
   "cell_type": "code",
   "execution_count": 74,
   "id": "7b2032a4",
   "metadata": {
    "ExecuteTime": {
     "end_time": "2021-11-23T05:44:03.347039Z",
     "start_time": "2021-11-23T05:44:03.339035Z"
    }
   },
   "outputs": [],
   "source": [
    "matrix_a = np.arange(10)\n",
    "matrix_b = np.arange(12).reshape(3,4)"
   ]
  },
  {
   "cell_type": "code",
   "execution_count": 75,
   "id": "503944f4",
   "metadata": {
    "ExecuteTime": {
     "end_time": "2021-11-23T05:44:08.946562Z",
     "start_time": "2021-11-23T05:44:08.931560Z"
    }
   },
   "outputs": [
    {
     "data": {
      "text/plain": [
       "array([0, 1, 2, 3, 4, 5, 6, 7, 8, 9])"
      ]
     },
     "execution_count": 75,
     "metadata": {},
     "output_type": "execute_result"
    }
   ],
   "source": [
    "matrix_a"
   ]
  },
  {
   "cell_type": "code",
   "execution_count": 76,
   "id": "ef2a02e3",
   "metadata": {
    "ExecuteTime": {
     "end_time": "2021-11-23T05:44:15.389226Z",
     "start_time": "2021-11-23T05:44:15.379217Z"
    }
   },
   "outputs": [
    {
     "data": {
      "text/plain": [
       "array([[ 0,  1,  2,  3],\n",
       "       [ 4,  5,  6,  7],\n",
       "       [ 8,  9, 10, 11]])"
      ]
     },
     "execution_count": 76,
     "metadata": {},
     "output_type": "execute_result"
    }
   ],
   "source": [
    "matrix_b"
   ]
  },
  {
   "cell_type": "code",
   "execution_count": 77,
   "id": "cdb92919",
   "metadata": {
    "ExecuteTime": {
     "end_time": "2021-11-23T05:44:19.099838Z",
     "start_time": "2021-11-23T05:44:19.092845Z"
    }
   },
   "outputs": [
    {
     "data": {
      "text/plain": [
       "(0, 9)"
      ]
     },
     "execution_count": 77,
     "metadata": {},
     "output_type": "execute_result"
    }
   ],
   "source": [
    "# 1차원에서 첫요소와 마지막 요소 \n",
    "matrix_a[0], matrix_a[-1]"
   ]
  },
  {
   "cell_type": "code",
   "execution_count": 81,
   "id": "9efa2782",
   "metadata": {
    "ExecuteTime": {
     "end_time": "2021-11-23T05:45:38.084557Z",
     "start_time": "2021-11-23T05:45:38.066560Z"
    }
   },
   "outputs": [
    {
     "data": {
      "text/plain": [
       "(0, 0)"
      ]
     },
     "execution_count": 81,
     "metadata": {},
     "output_type": "execute_result"
    }
   ],
   "source": [
    "# 2차원에서 1행 1열 \n",
    "matrix_b[0,0], matrix_b[0][0]"
   ]
  },
  {
   "cell_type": "code",
   "execution_count": 82,
   "id": "7e4f7cc0",
   "metadata": {
    "ExecuteTime": {
     "end_time": "2021-11-23T05:47:55.661915Z",
     "start_time": "2021-11-23T05:47:55.643906Z"
    }
   },
   "outputs": [
    {
     "data": {
      "text/plain": [
       "(11, 11, 11)"
      ]
     },
     "execution_count": 82,
     "metadata": {},
     "output_type": "execute_result"
    }
   ],
   "source": [
    "# 2차원에서 마지막 행, 마지막열\n",
    "matrix_b[-1, -1], matrix_b[-1][-1], matrix_b[2][3]\n"
   ]
  },
  {
   "cell_type": "code",
   "execution_count": 86,
   "id": "c451fb22",
   "metadata": {
    "ExecuteTime": {
     "end_time": "2021-11-23T05:48:29.852940Z",
     "start_time": "2021-11-23T05:48:29.843938Z"
    }
   },
   "outputs": [
    {
     "data": {
      "text/plain": [
       "100"
      ]
     },
     "execution_count": 86,
     "metadata": {},
     "output_type": "execute_result"
    }
   ],
   "source": [
    "matrix_b[2,0]= 100\n",
    "matrix_b[2,0]"
   ]
  },
  {
   "cell_type": "markdown",
   "id": "3797e60c",
   "metadata": {},
   "source": []
  },
  {
   "cell_type": "code",
   "execution_count": null,
   "id": "b31c2b02",
   "metadata": {},
   "outputs": [],
   "source": []
  },
  {
   "cell_type": "code",
   "execution_count": 89,
   "id": "c860994e",
   "metadata": {
    "ExecuteTime": {
     "end_time": "2021-11-25T04:21:31.733590Z",
     "start_time": "2021-11-25T04:21:31.719584Z"
    }
   },
   "outputs": [
    {
     "ename": "NameError",
     "evalue": "name 'pd' is not defined",
     "output_type": "error",
     "traceback": [
      "\u001b[1;31m---------------------------------------------------------------------------\u001b[0m",
      "\u001b[1;31mNameError\u001b[0m                                 Traceback (most recent call last)",
      "\u001b[1;32m<ipython-input-89-16bfc24a700a>\u001b[0m in \u001b[0;36m<module>\u001b[1;34m\u001b[0m\n\u001b[0;32m      2\u001b[0m         \u001b[1;34m\"year\"\u001b[0m\u001b[1;33m:\u001b[0m\u001b[1;33m[\u001b[0m\u001b[1;36m2014\u001b[0m\u001b[1;33m,\u001b[0m \u001b[1;36m2015\u001b[0m\u001b[1;33m,\u001b[0m \u001b[1;36m2016\u001b[0m\u001b[1;33m,\u001b[0m \u001b[1;36m2015\u001b[0m\u001b[1;33m,\u001b[0m \u001b[1;36m2017\u001b[0m\u001b[1;33m]\u001b[0m\u001b[1;33m,\u001b[0m\u001b[1;33m\u001b[0m\u001b[1;33m\u001b[0m\u001b[0m\n\u001b[0;32m      3\u001b[0m         \"points\":[1.5, 1.7, 3.6, 2.5, 2.9]}\n\u001b[1;32m----> 4\u001b[1;33m df = pd.DataFrame(data, columns=[\"year\", \"name\", \"points\", \n\u001b[0m\u001b[0;32m      5\u001b[0m                                  \"penalty\"], \n\u001b[0;32m      6\u001b[0m index=[\"one\", \"two\", \"three\", \"four\", \"five\"])\n",
      "\u001b[1;31mNameError\u001b[0m: name 'pd' is not defined"
     ]
    }
   ],
   "source": []
  },
  {
   "cell_type": "code",
   "execution_count": null,
   "id": "7e903404",
   "metadata": {},
   "outputs": [],
   "source": []
  },
  {
   "cell_type": "code",
   "execution_count": null,
   "id": "03cd057d",
   "metadata": {},
   "outputs": [],
   "source": []
  }
 ],
 "metadata": {
  "hide_input": false,
  "kernelspec": {
   "display_name": "Python 3",
   "language": "python",
   "name": "python3"
  },
  "language_info": {
   "codemirror_mode": {
    "name": "ipython",
    "version": 3
   },
   "file_extension": ".py",
   "mimetype": "text/x-python",
   "name": "python",
   "nbconvert_exporter": "python",
   "pygments_lexer": "ipython3",
   "version": "3.8.8"
  },
  "toc": {
   "base_numbering": 1,
   "nav_menu": {},
   "number_sections": true,
   "sideBar": true,
   "skip_h1_title": false,
   "title_cell": "Table of Contents",
   "title_sidebar": "Contents",
   "toc_cell": false,
   "toc_position": {},
   "toc_section_display": true,
   "toc_window_display": false
  },
  "varInspector": {
   "cols": {
    "lenName": 16,
    "lenType": 16,
    "lenVar": 40
   },
   "kernels_config": {
    "python": {
     "delete_cmd_postfix": "",
     "delete_cmd_prefix": "del ",
     "library": "var_list.py",
     "varRefreshCmd": "print(var_dic_list())"
    },
    "r": {
     "delete_cmd_postfix": ") ",
     "delete_cmd_prefix": "rm(",
     "library": "var_list.r",
     "varRefreshCmd": "cat(var_dic_list()) "
    }
   },
   "types_to_exclude": [
    "module",
    "function",
    "builtin_function_or_method",
    "instance",
    "_Feature"
   ],
   "window_display": false
  }
 },
 "nbformat": 4,
 "nbformat_minor": 5
}
